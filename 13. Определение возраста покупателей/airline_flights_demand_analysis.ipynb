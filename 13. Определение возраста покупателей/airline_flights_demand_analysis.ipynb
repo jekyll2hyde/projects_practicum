{
 "cells": [
  {
   "cell_type": "markdown",
   "metadata": {},
   "source": [
    "# Спрос на рейсы авиакомпании"
   ]
  },
  {
   "cell_type": "markdown",
   "metadata": {},
   "source": [
    "Авиакомпания ***F9*** выполняет внутренние пассажирские перевозки. Важно понять предпочтения пользователей, покупающих билеты на разные направления.\n",
    "\n",
    "Необходимо изучить базу данных компании и проанализировать спрос пассажиров на рейсы в города, где проходят крупнейшие культурные фестивали.\n",
    "\n",
    "Для анализа предоставлены файлы с результатами запросов из базы данных: ***query_1*** и ***query_3***.\n",
    "\n",
    "Для этих двух наборов данных нужно:\n",
    "\n",
    "- импортировать файлы;\n",
    "- изучить данные в них;\n",
    "- проверить типы данных на корректность;\n",
    "- выбрать топ-10 городов по количеству рейсов;\n",
    "- построить графики: модели самолётов и количество рейсов, города и количество рейсов, топ-10 городов и количество рейсов;\n",
    "- сделать выводы по каждому из графиков, пояснить результат."
   ]
  },
  {
   "cell_type": "markdown",
   "metadata": {
    "toc": true
   },
   "source": [
    "<h1>Содержание<span class=\"tocSkip\"></span></h1>\n",
    "<div class=\"toc\"><ul class=\"toc-item\"><li><span><a href=\"#Изучение-данных\" data-toc-modified-id=\"Изучение-данных-1\"><span class=\"toc-item-num\">1&nbsp;&nbsp;</span>Изучение данных</a></span></li><li><span><a href=\"#Анализ-данных\" data-toc-modified-id=\"Анализ-данных-2\"><span class=\"toc-item-num\">2&nbsp;&nbsp;</span>Анализ данных</a></span><ul class=\"toc-item\"><li><span><a href=\"#Анализ-популярности-моделей-самолетов\" data-toc-modified-id=\"Анализ-популярности-моделей-самолетов-2.1\"><span class=\"toc-item-num\">2.1&nbsp;&nbsp;</span>Анализ популярности моделей самолетов</a></span></li><li><span><a href=\"#Анализ-популярности-городов\" data-toc-modified-id=\"Анализ-популярности-городов-2.2\"><span class=\"toc-item-num\">2.2&nbsp;&nbsp;</span>Анализ популярности городов</a></span></li></ul></li><li><span><a href=\"#Общий-вывод\" data-toc-modified-id=\"Общий-вывод-3\"><span class=\"toc-item-num\">3&nbsp;&nbsp;</span>Общий вывод</a></span></li></ul></div>"
   ]
  },
  {
   "cell_type": "markdown",
   "metadata": {},
   "source": [
    "## Изучение данных"
   ]
  },
  {
   "cell_type": "markdown",
   "metadata": {},
   "source": [
    "Импортируем необходимые для работы библиотеки:"
   ]
  },
  {
   "cell_type": "code",
   "execution_count": 1,
   "metadata": {},
   "outputs": [],
   "source": [
    "import pandas as pd\n",
    "import numpy as np\n",
    "import matplotlib.pyplot as plt\n",
    "from matplotlib.ticker import PercentFormatter\n",
    "from scipy import stats as st"
   ]
  },
  {
   "cell_type": "markdown",
   "metadata": {},
   "source": [
    "Загрузим данные:"
   ]
  },
  {
   "cell_type": "code",
   "execution_count": 2,
   "metadata": {},
   "outputs": [],
   "source": [
    "airplanes = pd.read_csv('https://code.s3.yandex.net/datasets/query_1.csv')\n",
    "cities = pd.read_csv('https://code.s3.yandex.net/datasets/query_3.csv')"
   ]
  },
  {
   "cell_type": "markdown",
   "metadata": {},
   "source": [
    "Выведем первые 5 строк, а также общую информацию о данных каждого из загруженных датасетов:"
   ]
  },
  {
   "cell_type": "code",
   "execution_count": 3,
   "metadata": {
    "scrolled": false
   },
   "outputs": [
    {
     "data": {
      "text/html": [
       "<div>\n",
       "<style scoped>\n",
       "    .dataframe tbody tr th:only-of-type {\n",
       "        vertical-align: middle;\n",
       "    }\n",
       "\n",
       "    .dataframe tbody tr th {\n",
       "        vertical-align: top;\n",
       "    }\n",
       "\n",
       "    .dataframe thead th {\n",
       "        text-align: right;\n",
       "    }\n",
       "</style>\n",
       "<table border=\"1\" class=\"dataframe\">\n",
       "  <thead>\n",
       "    <tr style=\"text-align: right;\">\n",
       "      <th></th>\n",
       "      <th>model</th>\n",
       "      <th>flights_amount</th>\n",
       "    </tr>\n",
       "  </thead>\n",
       "  <tbody>\n",
       "    <tr>\n",
       "      <td>0</td>\n",
       "      <td>Airbus A319-100</td>\n",
       "      <td>607</td>\n",
       "    </tr>\n",
       "    <tr>\n",
       "      <td>1</td>\n",
       "      <td>Airbus A321-200</td>\n",
       "      <td>960</td>\n",
       "    </tr>\n",
       "    <tr>\n",
       "      <td>2</td>\n",
       "      <td>Boeing 737-300</td>\n",
       "      <td>630</td>\n",
       "    </tr>\n",
       "    <tr>\n",
       "      <td>3</td>\n",
       "      <td>Boeing 767-300</td>\n",
       "      <td>600</td>\n",
       "    </tr>\n",
       "    <tr>\n",
       "      <td>4</td>\n",
       "      <td>Boeing 777-300</td>\n",
       "      <td>300</td>\n",
       "    </tr>\n",
       "  </tbody>\n",
       "</table>\n",
       "</div>"
      ],
      "text/plain": [
       "             model  flights_amount\n",
       "0  Airbus A319-100             607\n",
       "1  Airbus A321-200             960\n",
       "2   Boeing 737-300             630\n",
       "3   Boeing 767-300             600\n",
       "4   Boeing 777-300             300"
      ]
     },
     "metadata": {},
     "output_type": "display_data"
    },
    {
     "name": "stdout",
     "output_type": "stream",
     "text": [
      "<class 'pandas.core.frame.DataFrame'>\n",
      "RangeIndex: 8 entries, 0 to 7\n",
      "Data columns (total 2 columns):\n",
      "model             8 non-null object\n",
      "flights_amount    8 non-null int64\n",
      "dtypes: int64(1), object(1)\n",
      "memory usage: 256.0+ bytes\n"
     ]
    },
    {
     "data": {
      "text/html": [
       "<div>\n",
       "<style scoped>\n",
       "    .dataframe tbody tr th:only-of-type {\n",
       "        vertical-align: middle;\n",
       "    }\n",
       "\n",
       "    .dataframe tbody tr th {\n",
       "        vertical-align: top;\n",
       "    }\n",
       "\n",
       "    .dataframe thead th {\n",
       "        text-align: right;\n",
       "    }\n",
       "</style>\n",
       "<table border=\"1\" class=\"dataframe\">\n",
       "  <thead>\n",
       "    <tr style=\"text-align: right;\">\n",
       "      <th></th>\n",
       "      <th>city</th>\n",
       "      <th>average_flights</th>\n",
       "    </tr>\n",
       "  </thead>\n",
       "  <tbody>\n",
       "    <tr>\n",
       "      <td>0</td>\n",
       "      <td>Абакан</td>\n",
       "      <td>3.870968</td>\n",
       "    </tr>\n",
       "    <tr>\n",
       "      <td>1</td>\n",
       "      <td>Анадырь</td>\n",
       "      <td>1.000000</td>\n",
       "    </tr>\n",
       "    <tr>\n",
       "      <td>2</td>\n",
       "      <td>Анапа</td>\n",
       "      <td>2.161290</td>\n",
       "    </tr>\n",
       "    <tr>\n",
       "      <td>3</td>\n",
       "      <td>Архангельск</td>\n",
       "      <td>5.354839</td>\n",
       "    </tr>\n",
       "    <tr>\n",
       "      <td>4</td>\n",
       "      <td>Астрахань</td>\n",
       "      <td>2.451613</td>\n",
       "    </tr>\n",
       "  </tbody>\n",
       "</table>\n",
       "</div>"
      ],
      "text/plain": [
       "          city  average_flights\n",
       "0       Абакан         3.870968\n",
       "1      Анадырь         1.000000\n",
       "2        Анапа         2.161290\n",
       "3  Архангельск         5.354839\n",
       "4    Астрахань         2.451613"
      ]
     },
     "metadata": {},
     "output_type": "display_data"
    },
    {
     "name": "stdout",
     "output_type": "stream",
     "text": [
      "<class 'pandas.core.frame.DataFrame'>\n",
      "RangeIndex: 101 entries, 0 to 100\n",
      "Data columns (total 2 columns):\n",
      "city               101 non-null object\n",
      "average_flights    101 non-null float64\n",
      "dtypes: float64(1), object(1)\n",
      "memory usage: 1.7+ KB\n"
     ]
    }
   ],
   "source": [
    "display(airplanes.head())\n",
    "airplanes.info()\n",
    "\n",
    "display(cities.head())\n",
    "cities.info()"
   ]
  },
  {
   "cell_type": "markdown",
   "metadata": {},
   "source": [
    "Проверим датасеты на наличие грубых дубликатов:"
   ]
  },
  {
   "cell_type": "code",
   "execution_count": 4,
   "metadata": {},
   "outputs": [
    {
     "data": {
      "text/plain": [
       "0"
      ]
     },
     "execution_count": 4,
     "metadata": {},
     "output_type": "execute_result"
    }
   ],
   "source": [
    "airplanes.duplicated().sum()"
   ]
  },
  {
   "cell_type": "code",
   "execution_count": 5,
   "metadata": {
    "scrolled": true
   },
   "outputs": [
    {
     "data": {
      "text/plain": [
       "0"
      ]
     },
     "execution_count": 5,
     "metadata": {},
     "output_type": "execute_result"
    }
   ],
   "source": [
    "cities.duplicated().sum()"
   ]
  },
  {
   "cell_type": "markdown",
   "metadata": {},
   "source": [
    "Грубые дубликаты в датасетах не обнаружены."
   ]
  },
  {
   "cell_type": "markdown",
   "metadata": {},
   "source": [
    "###### Вывод\n",
    "\n",
    "**Airplanes**\n",
    "\n",
    "Всего в таблице 2 столбца со следующими типами данных: ***int64, object***.\n",
    "\n",
    "Каждый объект в наборе данных — это информация о количестве рейсов определенных моделей самолетов за сентябрь 2018 года.\n",
    "\n",
    "Известно:\n",
    "\n",
    " - ***model*** — модель самолета;\n",
    " - ***flights_amount*** - количество рейсов каждой модели самолета.\n",
    "\n",
    "Типы данных столбцов соответствуют представленной в них информации.\n",
    "\n",
    "Пропусков данных и грубых дубликатов в датасете не обнаружено.\n",
    "\n",
    "**Cities**\n",
    "\n",
    "Всего в таблице 2 столбца со следующими типами данных: ***float64, object***.\n",
    "\n",
    "Каждый объект в наборе данных — это информация о среднем количестве рейсов, прибывающих в определенный город за день в сентябре 2018 года.\n",
    "\n",
    "Известно:\n",
    "\n",
    " - ***city*** — название города;\n",
    " - ***average_flights*** - среднее количество рейсов, прибывающих в определенный город за день.\n",
    "\n",
    "Типы данных столбцов соответствуют представленной в них информации.\n",
    "\n",
    "Пропусков данных и грубых дубликатов в датасете не обнаружено."
   ]
  },
  {
   "cell_type": "markdown",
   "metadata": {},
   "source": [
    "## Анализ данных"
   ]
  },
  {
   "cell_type": "markdown",
   "metadata": {},
   "source": [
    "На данном этапе проведем анализ данных из загруженных и изученных запросов."
   ]
  },
  {
   "cell_type": "markdown",
   "metadata": {},
   "source": [
    "### Анализ популярности моделей самолетов"
   ]
  },
  {
   "cell_type": "markdown",
   "metadata": {},
   "source": [
    "Посмотрим на количество авиарейсов, сделанных разными моделями самолетов за рассматриваемый период. Для более детального понимания картины представим информацию в виде диаграммы Парето.\n",
    "\n",
    "Напишем функцию для построения диаграммы Парето:"
   ]
  },
  {
   "cell_type": "code",
   "execution_count": 6,
   "metadata": {},
   "outputs": [],
   "source": [
    "def build_pareto(\n",
    "    data,\n",
    "    column,\n",
    "    title,\n",
    "    xlabel,\n",
    "    ylabel_primary,\n",
    "    ylabel_secondary):\n",
    "    \n",
    "    data['cumpercentage'] = data[column].cumsum()/data[column].sum()*100\n",
    "    fig, ax = plt.subplots(figsize = (16,9))\n",
    "    ax.bar(data.index, data[column], color=\"C0\")\n",
    "    ax2 = ax.twinx()\n",
    "    ax2.plot(data.index, data['cumpercentage'], color=\"C1\", marker=\"D\", ms=7)\n",
    "    ax2.yaxis.set_major_formatter(PercentFormatter())\n",
    "    \n",
    "    ax.tick_params(axis=\"x\", labelrotation = 90)\n",
    "\n",
    "    ax.tick_params(axis=\"y\", colors=\"C0\")\n",
    "    ax.set_xlabel(xlabel)\n",
    "    ax.set_ylabel(ylabel_primary)\n",
    "\n",
    "    ax2.tick_params(axis=\"y\", colors=\"C1\")\n",
    "    ax2.set_ylabel(ylabel_secondary)\n",
    "    plt.title(title)\n",
    "\n",
    "    plt.show()"
   ]
  },
  {
   "cell_type": "markdown",
   "metadata": {},
   "source": [
    "Построим диаграмму Парето:"
   ]
  },
  {
   "cell_type": "code",
   "execution_count": 7,
   "metadata": {
    "scrolled": false
   },
   "outputs": [
    {
     "data": {
      "image/png": "[encoded data removed]",
      "text/plain": [
       "<Figure size 1152x648 with 2 Axes>"
      ]
     },
     "metadata": {},
     "output_type": "display_data"
    }
   ],
   "source": [
    "airplanes_sorted = airplanes.pivot_table(\n",
    "    index='model',\n",
    "    values = 'flights_amount')\\\n",
    "    .sort_values(\n",
    "    by='flights_amount',\n",
    "    ascending = False)\n",
    "\n",
    "build_pareto(\n",
    "    airplanes_sorted,\n",
    "    'flights_amount',\n",
    "    'Количество авиарейсов, сделанных разными моделями самолетов в сентябре 2018 года',\n",
    "    'Модель самолета',\n",
    "    'Количество рейсов',\n",
    "    'Кумулятивная доля от общего количества рейсов'\n",
    ")"
   ]
  },
  {
   "cell_type": "markdown",
   "metadata": {},
   "source": [
    "Из диаграммы видно четкое различие в количестве рейсов, сделанных в сентябре 2018 первой тройкой моделей самолетов и остальными моделями.\n",
    "Вероятно, три первых модели отличаются от других определенными характеристиками. \n",
    "\n",
    "Одной из основных характеристик самолетов является ***дальность полета***. Посмотрим, какова дальность полета каждой из представленных на диаграмме моделей. Выведем данную информацию в столбце ***max_distance_km*** таблицы ***airplanes_sorted***."
   ]
  },
  {
   "cell_type": "code",
   "execution_count": 8,
   "metadata": {},
   "outputs": [],
   "source": [
    "flight_distance = pd.DataFrame(\n",
    "    {'max_distance_km':\n",
    "     [1980,2500,3050,5900,4200,6900,9700,11170]},\n",
    "    index = airplanes_sorted.index)"
   ]
  },
  {
   "cell_type": "code",
   "execution_count": 9,
   "metadata": {
    "scrolled": false
   },
   "outputs": [
    {
     "data": {
      "text/html": [
       "<div>\n",
       "<style scoped>\n",
       "    .dataframe tbody tr th:only-of-type {\n",
       "        vertical-align: middle;\n",
       "    }\n",
       "\n",
       "    .dataframe tbody tr th {\n",
       "        vertical-align: top;\n",
       "    }\n",
       "\n",
       "    .dataframe thead th {\n",
       "        text-align: right;\n",
       "    }\n",
       "</style>\n",
       "<table border=\"1\" class=\"dataframe\">\n",
       "  <thead>\n",
       "    <tr style=\"text-align: right;\">\n",
       "      <th></th>\n",
       "      <th>max_distance_km</th>\n",
       "    </tr>\n",
       "    <tr>\n",
       "      <th>model</th>\n",
       "      <th></th>\n",
       "    </tr>\n",
       "  </thead>\n",
       "  <tbody>\n",
       "    <tr>\n",
       "      <td>Cessna 208 Caravan</td>\n",
       "      <td>1980</td>\n",
       "    </tr>\n",
       "    <tr>\n",
       "      <td>Bombardier CRJ-200</td>\n",
       "      <td>2500</td>\n",
       "    </tr>\n",
       "    <tr>\n",
       "      <td>Sukhoi SuperJet-100</td>\n",
       "      <td>3050</td>\n",
       "    </tr>\n",
       "    <tr>\n",
       "      <td>Airbus A321-200</td>\n",
       "      <td>5900</td>\n",
       "    </tr>\n",
       "    <tr>\n",
       "      <td>Boeing 737-300</td>\n",
       "      <td>4200</td>\n",
       "    </tr>\n",
       "    <tr>\n",
       "      <td>Airbus A319-100</td>\n",
       "      <td>6900</td>\n",
       "    </tr>\n",
       "    <tr>\n",
       "      <td>Boeing 767-300</td>\n",
       "      <td>9700</td>\n",
       "    </tr>\n",
       "    <tr>\n",
       "      <td>Boeing 777-300</td>\n",
       "      <td>11170</td>\n",
       "    </tr>\n",
       "  </tbody>\n",
       "</table>\n",
       "</div>"
      ],
      "text/plain": [
       "                     max_distance_km\n",
       "model                               \n",
       "Cessna 208 Caravan              1980\n",
       "Bombardier CRJ-200              2500\n",
       "Sukhoi SuperJet-100             3050\n",
       "Airbus A321-200                 5900\n",
       "Boeing 737-300                  4200\n",
       "Airbus A319-100                 6900\n",
       "Boeing 767-300                  9700\n",
       "Boeing 777-300                 11170"
      ]
     },
     "execution_count": 9,
     "metadata": {},
     "output_type": "execute_result"
    }
   ],
   "source": [
    "flight_distance"
   ]
  },
  {
   "cell_type": "markdown",
   "metadata": {},
   "source": [
    "Построим диаграмму рассеяния для изучения зависимости количества рейсов за период от максимальной дальности полетов каждой из машин:"
   ]
  },
  {
   "cell_type": "code",
   "execution_count": 10,
   "metadata": {
    "scrolled": false
   },
   "outputs": [
    {
     "data": {
      "image/png": "[encoded data removed]",
      "text/plain": [
       "<Figure size 1152x648 with 1 Axes>"
      ]
     },
     "metadata": {
      "needs_background": "light"
     },
     "output_type": "display_data"
    },
    {
     "name": "stdout",
     "output_type": "stream",
     "text": [
      "Коэффициент корреляции Пирсона:  -0.81\n"
     ]
    }
   ],
   "source": [
    "x = flight_distance['max_distance_km']\n",
    "y = airplanes_sorted['flights_amount']\n",
    "plt.figure(figsize=(16,9))\n",
    "plt.scatter(x,y)\n",
    "plt.title('Зависимость количества рейсов от максимальной дистанции полета самолетов')\n",
    "plt.ylabel('Количество рейсов за сентябрь 2018 г.')\n",
    "plt.xlabel('Максимальная дальность полета модели самолета')\n",
    "plt.show()\n",
    "\n",
    "print(\n",
    "    'Коэффициент корреляции Пирсона: ',\n",
    "    airplanes_sorted['flights_amount'].corr(\n",
    "        flight_distance['max_distance_km'])\\\n",
    "        .round(2)\n",
    ")"
   ]
  },
  {
   "cell_type": "markdown",
   "metadata": {},
   "source": [
    "Связь количества рейсов самолетов за период с их максимальной дальностью полетов описывается сильной отрицательной зависимостью, т.е., чем больше дальность полетов самолета, тем меньше рейсов он делает за определенный период."
   ]
  },
  {
   "cell_type": "markdown",
   "metadata": {},
   "source": [
    "###### Вывод\n",
    "\n",
    "Из построенной диаграммы Парето видно, что ***около 81%*** рейсов в сентябре 2018 года сделано следующими моделями самолетов:\n",
    "\n",
    " - ***Cessna 208 Caravan***;\n",
    " - ***Bombardier CRJ-200***;\n",
    " - ***Sukhoi Superjet-100***.\n",
    " \n",
    "Данные самолеты предназначены для полетов на ближние и средние расстояния ( от 1000 до 6000 км ). \n",
    " \n",
    "При этом, ТОП-3 возглавляет ***Cessna 208 Caravan***, лёгкий одномоторный турбовинтовой самолёт, предназначенный для полетов на расстояния малой протяженности и рассчитанный на перевозку 14 пассажиров. Вероятнее всего самолет используется для перевозки пассажиров внутри регионов и между соседними регионами, причем его популярность может быть связана с возможностью работать как в стандартных, так и в сложных условиях, в том числе на грунтовых аэродромах с короткими взлетно-посадочными полосами.\n",
    "\n",
    "***Bombardier CRJ-200*** и ***Sukhoi Superjet-100*** являются ближне/среднемагистральными самолетами. При этом дальность полета у ***Sukhoi Superjet-100*** выше остальных двух - в первой тройке самолеты расположились четко по возрастанию дальности полетов.\n",
    "\n",
    "Количество рейсов остальных самолетов продолжает убывать с возрастанием максимальной дальности полетов, но в случае с ***Airbus A321-200*** мы видим выбивающуюся точку - несмотря на достаточно высокую дальность полета, самолет используется чаще, чем ***Boeing 737-300***, обладающий меньшей дальностью полета. Возможно, данное явление объясняется тем, что ***Airbus A321-200*** является основным конкурентом ***Boeing 737-300***, и более частое использование ***Airbus A321-200*** связано с более привлекательными технико-экономическими показателями модели.\n",
    "\n",
    "Наименее часто полеты совершает модель с самой высокой максимальной дальностью полета - ***Boeing 777-300***.\n"
   ]
  },
  {
   "cell_type": "markdown",
   "metadata": {},
   "source": [
    "### Анализ популярности городов"
   ]
  },
  {
   "cell_type": "markdown",
   "metadata": {},
   "source": [
    "Посмотрим на распределение количества принимаемых авиарейсов разными городами:"
   ]
  },
  {
   "cell_type": "code",
   "execution_count": 11,
   "metadata": {
    "scrolled": false
   },
   "outputs": [
    {
     "data": {
      "image/png": "[encoded data removed]",
      "text/plain": [
       "<Figure size 1152x648 with 2 Axes>"
      ]
     },
     "metadata": {},
     "output_type": "display_data"
    }
   ],
   "source": [
    "cities_sorted = cities.pivot_table(\n",
    "    index='city',\n",
    "    values = 'average_flights')\\\n",
    "    .sort_values(\n",
    "    by='average_flights',\n",
    "    ascending = False)\n",
    "\n",
    "build_pareto(\n",
    "    cities_sorted,\n",
    "    'average_flights',\n",
    "    'Среднесуточное количество авиарейсов, принятых разными городами в сентябре 2018 года',\n",
    "    'Город',\n",
    "    'Среднее количество рейсов в сутки',\n",
    "    'Кумулятивная доля от общего количества рейсов'\n",
    ")"
   ]
  },
  {
   "cell_type": "markdown",
   "metadata": {},
   "source": [
    "На диаграмме сильно выделяются ***первые три города***, принявшие ***треть всех авиарейсов*** в сентябре месяце: \n",
    "\n",
    " - Москва;\n",
    " - Санкт-Петербург;\n",
    " - Новосибирск.\n",
    " \n",
    "Кроме того, ***около половины всех рейсов*** в сентябре 2018 года было принято лишь ***10 из 101*** рассматриваемого города.\n",
    "\n",
    "Подробнее рассмотрим ТОП-10 городов по количеству ежесуточно принимаемых рейсов в сентябре месяце:"
   ]
  },
  {
   "cell_type": "code",
   "execution_count": 12,
   "metadata": {
    "scrolled": false
   },
   "outputs": [
    {
     "data": {
      "text/html": [
       "<div>\n",
       "<style scoped>\n",
       "    .dataframe tbody tr th:only-of-type {\n",
       "        vertical-align: middle;\n",
       "    }\n",
       "\n",
       "    .dataframe tbody tr th {\n",
       "        vertical-align: top;\n",
       "    }\n",
       "\n",
       "    .dataframe thead th {\n",
       "        text-align: right;\n",
       "    }\n",
       "</style>\n",
       "<table border=\"1\" class=\"dataframe\">\n",
       "  <thead>\n",
       "    <tr style=\"text-align: right;\">\n",
       "      <th></th>\n",
       "      <th>average_flights</th>\n",
       "    </tr>\n",
       "    <tr>\n",
       "      <th>city</th>\n",
       "      <th></th>\n",
       "    </tr>\n",
       "  </thead>\n",
       "  <tbody>\n",
       "    <tr>\n",
       "      <td>Москва</td>\n",
       "      <td>129.774194</td>\n",
       "    </tr>\n",
       "    <tr>\n",
       "      <td>Санкт-Петербург</td>\n",
       "      <td>31.161290</td>\n",
       "    </tr>\n",
       "    <tr>\n",
       "      <td>Новосибирск</td>\n",
       "      <td>17.322581</td>\n",
       "    </tr>\n",
       "    <tr>\n",
       "      <td>Красноярск</td>\n",
       "      <td>11.580645</td>\n",
       "    </tr>\n",
       "    <tr>\n",
       "      <td>Екатеринбург</td>\n",
       "      <td>11.322581</td>\n",
       "    </tr>\n",
       "    <tr>\n",
       "      <td>Ростов-на-Дону</td>\n",
       "      <td>10.193548</td>\n",
       "    </tr>\n",
       "    <tr>\n",
       "      <td>Пермь</td>\n",
       "      <td>10.129032</td>\n",
       "    </tr>\n",
       "    <tr>\n",
       "      <td>Брянск</td>\n",
       "      <td>10.000000</td>\n",
       "    </tr>\n",
       "    <tr>\n",
       "      <td>Сочи</td>\n",
       "      <td>9.612903</td>\n",
       "    </tr>\n",
       "    <tr>\n",
       "      <td>Ульяновск</td>\n",
       "      <td>9.580645</td>\n",
       "    </tr>\n",
       "  </tbody>\n",
       "</table>\n",
       "</div>"
      ],
      "text/plain": [
       "                 average_flights\n",
       "city                            \n",
       "Москва                129.774194\n",
       "Санкт-Петербург        31.161290\n",
       "Новосибирск            17.322581\n",
       "Красноярск             11.580645\n",
       "Екатеринбург           11.322581\n",
       "Ростов-на-Дону         10.193548\n",
       "Пермь                  10.129032\n",
       "Брянск                 10.000000\n",
       "Сочи                    9.612903\n",
       "Ульяновск               9.580645"
      ]
     },
     "execution_count": 12,
     "metadata": {},
     "output_type": "execute_result"
    }
   ],
   "source": [
    "top10_cities = cities_sorted[['average_flights']].head(10)\n",
    "top10_cities"
   ]
  },
  {
   "cell_type": "markdown",
   "metadata": {},
   "source": [
    "Отобразим графически ТОП-10 городов:"
   ]
  },
  {
   "cell_type": "code",
   "execution_count": 13,
   "metadata": {},
   "outputs": [
    {
     "data": {
      "image/png": "[encoded data removed]",
      "text/plain": [
       "<Figure size 1152x648 with 2 Axes>"
      ]
     },
     "metadata": {},
     "output_type": "display_data"
    }
   ],
   "source": [
    "build_pareto(\n",
    "    top10_cities,\n",
    "    'average_flights',\n",
    "    'Среднесуточное количество авиарейсов, принятых разными городами в сентябре 2018 года',\n",
    "    'Город',\n",
    "    'Среднее количество рейсов в сутки',\n",
    "    'Кумулятивная доля от общего количества рейсов'\n",
    ")"
   ]
  },
  {
   "cell_type": "markdown",
   "metadata": {},
   "source": [
    "###### Вывод\n",
    "\n",
    "Из рассмотренных 101 города ***около 33% рейсов в сутки*** приходится на следующие (в порядке убывания):\n",
    "\n",
    " - Москва;\n",
    " - Санкт - Петербург;\n",
    " - Новосибирск.\n",
    " \n",
    "Также перечисленные три города в сумме принимают ***свыше 70%*** рейсов из городов, входящих в ***ТОП-10***.\n",
    " \n",
    "На ***ТОП-10*** популярных города приходится ***около 45% рейсов в сутки*** от общего количества ежесуточных рейсов в 101 город страны. "
   ]
  },
  {
   "cell_type": "markdown",
   "metadata": {},
   "source": [
    "## Общий вывод"
   ]
  },
  {
   "cell_type": "markdown",
   "metadata": {},
   "source": [
    "В ходе данного проекта были изучены и проанализированы данные за ***сентябрь 2018 года*** о количестве рейсов определенных моделей самолетов, а также о среднесуточном количестве рейсов, прибывающих в разные города.\n",
    "\n",
    "Было выяснено, что наибольшее количество внутренних воздушных перемещений совершается на расстояния ***до 3050 километров***, исходя из наибольшей популярности ближне- и среднемагистральных самолётов. Большое количество перемещений на ближние и средние расстояния также связано с возможностью совершать ближне- и среднемагистральными самолетами большее количество рейсов в сутки, т.к. полеты на меньшие расстояния занимают меньше времени.\n",
    "\n",
    "Около ***половины всех рейсов*** приходится на ***10 из 101 города*** РФ. На них приходится ***45% авиарейсов*** за сутки.\n",
    "\n",
    "***Москва, Санкт-Петербург и Новосибирск*** составляют ***ТОП-3*** наиболее популярных городов с точки зрения принимаемых авиарейсов. Более того, они принимают ***33% рейсов*** от общего количества рейсов, принимаемых за сутки 101 городом.  Это связано с тем, что ТОП-3 - крупнейшие авиатранспортные узлы РФ, принимающие самолеты со всех уголков страны, а соответственно, всех типов по протяженности полета: ближне-, средне-, и дальнемагистральные и позволяющие продолжить полет практически в любом направлении в стране и вне страны.\n",
    "\n",
    "Остальные города из ***ТОП-10***, вероятнее всего, чаще других (за исключением городов из ТОП-3) используются как точки пересадок при перелетах в пределах РФ.\n",
    "\n",
    "Заметно меньшая популярность остальных городов из общего списка может быть связана с тем, что чаще всего они являются конечными пунктами назначения."
   ]
  }
 ],
 "metadata": {
  "ExecuteTimeLog": [
   {
    "duration": 1075,
    "start_time": "2021-11-10T09:40:55.356Z"
   },
   {
    "duration": 524,
    "start_time": "2021-11-10T09:43:07.169Z"
   },
   {
    "duration": 425,
    "start_time": "2021-11-10T09:43:12.140Z"
   },
   {
    "duration": 196,
    "start_time": "2021-11-10T09:43:15.219Z"
   },
   {
    "duration": 21,
    "start_time": "2021-11-10T09:45:11.540Z"
   },
   {
    "duration": 6,
    "start_time": "2021-11-10T09:50:24.496Z"
   },
   {
    "duration": 5,
    "start_time": "2021-11-10T09:50:51.434Z"
   },
   {
    "duration": 11,
    "start_time": "2021-11-10T10:22:22.304Z"
   },
   {
    "duration": 10,
    "start_time": "2021-11-10T10:22:42.410Z"
   },
   {
    "duration": 8,
    "start_time": "2021-11-10T10:22:59.751Z"
   },
   {
    "duration": 259,
    "start_time": "2021-11-10T10:23:39.445Z"
   },
   {
    "duration": 10,
    "start_time": "2021-11-10T10:28:06.626Z"
   },
   {
    "duration": 5,
    "start_time": "2021-11-10T10:31:12.547Z"
   },
   {
    "duration": 10,
    "start_time": "2021-11-10T10:31:23.005Z"
   },
   {
    "duration": 336,
    "start_time": "2021-11-10T10:36:27.546Z"
   },
   {
    "duration": 634,
    "start_time": "2021-11-10T10:38:39.701Z"
   },
   {
    "duration": 346,
    "start_time": "2021-11-10T10:39:10.885Z"
   },
   {
    "duration": 313,
    "start_time": "2021-11-10T10:39:59.469Z"
   },
   {
    "duration": 344,
    "start_time": "2021-11-10T10:40:54.336Z"
   },
   {
    "duration": 338,
    "start_time": "2021-11-10T10:41:00.594Z"
   },
   {
    "duration": 653,
    "start_time": "2021-11-10T10:42:57.887Z"
   },
   {
    "duration": 628,
    "start_time": "2021-11-10T10:43:06.804Z"
   },
   {
    "duration": 580,
    "start_time": "2021-11-10T10:45:44.511Z"
   },
   {
    "duration": 406,
    "start_time": "2021-11-10T10:46:33.885Z"
   },
   {
    "duration": 347,
    "start_time": "2021-11-10T10:46:42.617Z"
   },
   {
    "duration": 356,
    "start_time": "2021-11-10T10:47:00.176Z"
   },
   {
    "duration": 344,
    "start_time": "2021-11-10T10:50:22.823Z"
   },
   {
    "duration": 546,
    "start_time": "2021-11-10T10:50:49.105Z"
   },
   {
    "duration": 555,
    "start_time": "2021-11-10T10:51:01.268Z"
   },
   {
    "duration": 1798,
    "start_time": "2021-11-10T10:51:20.487Z"
   },
   {
    "duration": 370,
    "start_time": "2021-11-10T10:51:48.020Z"
   },
   {
    "duration": 352,
    "start_time": "2021-11-10T10:52:09.647Z"
   },
   {
    "duration": 1705,
    "start_time": "2021-11-10T10:53:43.117Z"
   },
   {
    "duration": 263,
    "start_time": "2021-11-10T10:55:42.874Z"
   },
   {
    "duration": 1564,
    "start_time": "2021-11-10T10:55:50.029Z"
   },
   {
    "duration": 2175,
    "start_time": "2021-11-10T10:59:23.765Z"
   },
   {
    "duration": 13,
    "start_time": "2021-11-10T10:59:45.168Z"
   },
   {
    "duration": 1631,
    "start_time": "2021-11-10T11:00:00.665Z"
   },
   {
    "duration": 15,
    "start_time": "2021-11-10T11:00:33.402Z"
   },
   {
    "duration": 1552,
    "start_time": "2021-11-10T11:00:37.480Z"
   },
   {
    "duration": 11,
    "start_time": "2021-11-10T11:01:28.747Z"
   },
   {
    "duration": 11,
    "start_time": "2021-11-10T11:01:59.265Z"
   },
   {
    "duration": 9,
    "start_time": "2021-11-10T11:02:40.238Z"
   },
   {
    "duration": 1619,
    "start_time": "2021-11-10T11:02:55.747Z"
   },
   {
    "duration": 6,
    "start_time": "2021-11-10T11:05:11.909Z"
   },
   {
    "duration": 8,
    "start_time": "2021-11-10T11:05:18.560Z"
   },
   {
    "duration": 8,
    "start_time": "2021-11-10T11:06:29.108Z"
   },
   {
    "duration": 7,
    "start_time": "2021-11-10T11:06:52.504Z"
   },
   {
    "duration": 7,
    "start_time": "2021-11-10T11:06:55.775Z"
   },
   {
    "duration": 7,
    "start_time": "2021-11-10T11:07:12.657Z"
   },
   {
    "duration": 447,
    "start_time": "2021-11-10T11:07:21.214Z"
   },
   {
    "duration": 1593,
    "start_time": "2021-11-10T11:17:56.007Z"
   },
   {
    "duration": 1539,
    "start_time": "2021-11-10T11:18:54.633Z"
   },
   {
    "duration": 337,
    "start_time": "2021-11-10T11:19:15.468Z"
   },
   {
    "duration": 420,
    "start_time": "2021-11-10T11:21:01.410Z"
   },
   {
    "duration": 1646,
    "start_time": "2021-11-10T11:22:17.228Z"
   },
   {
    "duration": 1042,
    "start_time": "2021-11-11T14:51:34.587Z"
   },
   {
    "duration": 219,
    "start_time": "2021-11-11T14:51:35.631Z"
   },
   {
    "duration": 20,
    "start_time": "2021-11-11T14:51:35.853Z"
   },
   {
    "duration": 4,
    "start_time": "2021-11-11T14:51:35.876Z"
   },
   {
    "duration": 8,
    "start_time": "2021-11-11T14:51:35.882Z"
   },
   {
    "duration": 373,
    "start_time": "2021-11-11T14:51:35.892Z"
   },
   {
    "duration": 5,
    "start_time": "2021-11-11T14:51:36.267Z"
   },
   {
    "duration": 2311,
    "start_time": "2021-11-11T14:51:36.275Z"
   },
   {
    "duration": 9,
    "start_time": "2021-11-11T14:51:38.588Z"
   },
   {
    "duration": 392,
    "start_time": "2021-11-11T14:51:38.599Z"
   },
   {
    "duration": 667,
    "start_time": "2021-11-11T14:52:15.075Z"
   },
   {
    "duration": 548,
    "start_time": "2021-11-11T14:52:57.826Z"
   },
   {
    "duration": 990,
    "start_time": "2021-11-11T14:53:24.557Z"
   },
   {
    "duration": 7,
    "start_time": "2021-11-11T14:55:11.160Z"
   },
   {
    "duration": 1114,
    "start_time": "2021-11-11T14:55:43.508Z"
   },
   {
    "duration": 82,
    "start_time": "2021-11-11T14:55:44.624Z"
   },
   {
    "duration": 21,
    "start_time": "2021-11-11T14:55:44.708Z"
   },
   {
    "duration": 6,
    "start_time": "2021-11-11T14:55:44.731Z"
   },
   {
    "duration": 11,
    "start_time": "2021-11-11T14:55:44.739Z"
   },
   {
    "duration": 363,
    "start_time": "2021-11-11T14:55:44.751Z"
   },
   {
    "duration": 7,
    "start_time": "2021-11-11T14:55:45.115Z"
   },
   {
    "duration": 24,
    "start_time": "2021-11-11T14:55:45.124Z"
   },
   {
    "duration": 1620,
    "start_time": "2021-11-11T14:55:45.150Z"
   },
   {
    "duration": 7,
    "start_time": "2021-11-11T14:55:46.772Z"
   },
   {
    "duration": 381,
    "start_time": "2021-11-11T14:55:46.781Z"
   },
   {
    "duration": 5,
    "start_time": "2021-11-11T14:59:52.354Z"
   },
   {
    "duration": 404,
    "start_time": "2021-11-11T15:00:32.343Z"
   },
   {
    "duration": 5,
    "start_time": "2021-11-11T15:08:53.505Z"
   },
   {
    "duration": 412,
    "start_time": "2021-11-11T15:11:22.521Z"
   },
   {
    "duration": 9,
    "start_time": "2021-11-11T15:23:32.207Z"
   },
   {
    "duration": 418,
    "start_time": "2021-11-11T15:35:09.414Z"
   },
   {
    "duration": 488,
    "start_time": "2021-11-11T15:35:30.849Z"
   },
   {
    "duration": 413,
    "start_time": "2021-11-11T15:35:40.336Z"
   },
   {
    "duration": 1767,
    "start_time": "2021-11-11T16:00:05.386Z"
   },
   {
    "duration": 6,
    "start_time": "2021-11-11T16:02:06.755Z"
   },
   {
    "duration": 1305,
    "start_time": "2021-11-11T16:02:10.377Z"
   },
   {
    "duration": 5,
    "start_time": "2021-11-11T16:03:43.067Z"
   },
   {
    "duration": 415,
    "start_time": "2021-11-11T16:03:45.150Z"
   },
   {
    "duration": 5,
    "start_time": "2021-11-11T16:03:56.538Z"
   },
   {
    "duration": 418,
    "start_time": "2021-11-11T16:04:00.365Z"
   },
   {
    "duration": 5,
    "start_time": "2021-11-11T16:04:21.025Z"
   },
   {
    "duration": 494,
    "start_time": "2021-11-11T16:04:24.213Z"
   },
   {
    "duration": 6,
    "start_time": "2021-11-11T16:05:56.921Z"
   },
   {
    "duration": 423,
    "start_time": "2021-11-11T16:06:01.075Z"
   },
   {
    "duration": 1874,
    "start_time": "2021-11-11T16:06:11.024Z"
   },
   {
    "duration": 5,
    "start_time": "2021-11-11T16:20:49.821Z"
   },
   {
    "duration": 428,
    "start_time": "2021-11-11T16:20:55.422Z"
   },
   {
    "duration": 1595,
    "start_time": "2021-11-11T16:23:05.004Z"
   },
   {
    "duration": 4,
    "start_time": "2021-11-11T19:29:49.026Z"
   },
   {
    "duration": 6,
    "start_time": "2021-11-11T19:29:58.191Z"
   },
   {
    "duration": 5,
    "start_time": "2021-11-11T19:30:09.366Z"
   },
   {
    "duration": 7,
    "start_time": "2021-11-11T19:30:11.237Z"
   },
   {
    "duration": 260,
    "start_time": "2021-11-11T19:32:14.022Z"
   },
   {
    "duration": 267,
    "start_time": "2021-11-11T19:33:32.130Z"
   },
   {
    "duration": 13,
    "start_time": "2021-11-11T19:33:59.816Z"
   },
   {
    "duration": 6,
    "start_time": "2021-11-11T19:34:57.880Z"
   },
   {
    "duration": 1096,
    "start_time": "2021-11-11T19:51:57.637Z"
   },
   {
    "duration": 499,
    "start_time": "2021-11-11T19:51:58.735Z"
   },
   {
    "duration": 24,
    "start_time": "2021-11-11T19:51:59.236Z"
   },
   {
    "duration": 6,
    "start_time": "2021-11-11T19:51:59.262Z"
   },
   {
    "duration": 16,
    "start_time": "2021-11-11T19:51:59.270Z"
   },
   {
    "duration": 15,
    "start_time": "2021-11-11T19:51:59.288Z"
   },
   {
    "duration": 476,
    "start_time": "2021-11-11T19:51:59.305Z"
   },
   {
    "duration": 4,
    "start_time": "2021-11-11T19:51:59.784Z"
   },
   {
    "duration": 29,
    "start_time": "2021-11-11T19:51:59.790Z"
   },
   {
    "duration": 18,
    "start_time": "2021-11-11T19:51:59.821Z"
   },
   {
    "duration": 1745,
    "start_time": "2021-11-11T19:51:59.840Z"
   },
   {
    "duration": 8,
    "start_time": "2021-11-11T19:52:01.587Z"
   },
   {
    "duration": 34,
    "start_time": "2021-11-11T19:52:01.597Z"
   },
   {
    "duration": 397,
    "start_time": "2021-11-11T19:52:01.633Z"
   },
   {
    "duration": 131,
    "start_time": "2021-11-11T19:55:30.149Z"
   },
   {
    "duration": 85,
    "start_time": "2021-11-11T19:56:31.024Z"
   },
   {
    "duration": 4,
    "start_time": "2021-11-11T19:56:45.491Z"
   },
   {
    "duration": 6,
    "start_time": "2021-11-11T19:56:53.175Z"
   },
   {
    "duration": 1082,
    "start_time": "2021-11-11T19:57:23.352Z"
   },
   {
    "duration": 78,
    "start_time": "2021-11-11T19:57:24.436Z"
   },
   {
    "duration": 19,
    "start_time": "2021-11-11T19:57:24.516Z"
   },
   {
    "duration": 5,
    "start_time": "2021-11-11T19:57:24.536Z"
   },
   {
    "duration": 8,
    "start_time": "2021-11-11T19:57:24.543Z"
   },
   {
    "duration": 7,
    "start_time": "2021-11-11T19:57:24.552Z"
   },
   {
    "duration": 436,
    "start_time": "2021-11-11T19:57:24.561Z"
   },
   {
    "duration": 5,
    "start_time": "2021-11-11T19:57:25.000Z"
   },
   {
    "duration": 9,
    "start_time": "2021-11-11T19:57:25.007Z"
   },
   {
    "duration": 1665,
    "start_time": "2021-11-11T19:57:25.018Z"
   },
   {
    "duration": 7,
    "start_time": "2021-11-11T19:57:26.685Z"
   },
   {
    "duration": 11,
    "start_time": "2021-11-11T19:57:26.694Z"
   },
   {
    "duration": 379,
    "start_time": "2021-11-11T19:57:26.706Z"
   },
   {
    "duration": 5,
    "start_time": "2021-11-11T19:58:38.854Z"
   },
   {
    "duration": 412,
    "start_time": "2021-11-11T19:58:42.747Z"
   },
   {
    "duration": 5,
    "start_time": "2021-11-11T19:59:30.695Z"
   },
   {
    "duration": 411,
    "start_time": "2021-11-11T19:59:32.866Z"
   },
   {
    "duration": 5,
    "start_time": "2021-11-11T19:59:56.096Z"
   },
   {
    "duration": 455,
    "start_time": "2021-11-11T19:59:59.833Z"
   },
   {
    "duration": 5,
    "start_time": "2021-11-11T20:06:23.082Z"
   },
   {
    "duration": 442,
    "start_time": "2021-11-11T20:06:26.659Z"
   },
   {
    "duration": 259,
    "start_time": "2021-11-11T20:07:05.831Z"
   },
   {
    "duration": 7011,
    "start_time": "2021-11-11T20:07:33.617Z"
   },
   {
    "duration": 5,
    "start_time": "2021-11-11T20:07:52.616Z"
   },
   {
    "duration": 8,
    "start_time": "2021-11-11T20:07:55.149Z"
   },
   {
    "duration": 172,
    "start_time": "2021-11-11T20:07:58.578Z"
   },
   {
    "duration": 392,
    "start_time": "2021-11-11T20:08:13.356Z"
   },
   {
    "duration": 279,
    "start_time": "2021-11-11T20:08:29.632Z"
   },
   {
    "duration": 5,
    "start_time": "2021-11-11T20:08:41.902Z"
   },
   {
    "duration": 318,
    "start_time": "2021-11-12T07:56:24.141Z"
   },
   {
    "duration": 1307,
    "start_time": "2021-11-12T07:56:32.874Z"
   },
   {
    "duration": 483,
    "start_time": "2021-11-12T07:56:34.183Z"
   },
   {
    "duration": 29,
    "start_time": "2021-11-12T07:56:34.669Z"
   },
   {
    "duration": 7,
    "start_time": "2021-11-12T07:56:34.701Z"
   },
   {
    "duration": 9,
    "start_time": "2021-11-12T07:56:34.710Z"
   },
   {
    "duration": 10,
    "start_time": "2021-11-12T07:56:34.721Z"
   },
   {
    "duration": 672,
    "start_time": "2021-11-12T07:56:34.734Z"
   },
   {
    "duration": 6,
    "start_time": "2021-11-12T07:56:35.409Z"
   },
   {
    "duration": 19,
    "start_time": "2021-11-12T07:56:35.418Z"
   },
   {
    "duration": 351,
    "start_time": "2021-11-12T07:56:35.439Z"
   },
   {
    "duration": 2579,
    "start_time": "2021-11-12T07:56:35.793Z"
   },
   {
    "duration": 12,
    "start_time": "2021-11-12T07:56:38.374Z"
   },
   {
    "duration": 41,
    "start_time": "2021-11-12T07:56:38.388Z"
   },
   {
    "duration": 563,
    "start_time": "2021-11-12T07:56:38.432Z"
   },
   {
    "duration": 8007,
    "start_time": "2021-11-12T07:56:54.634Z"
   },
   {
    "duration": 1528,
    "start_time": "2021-11-12T07:57:32.351Z"
   },
   {
    "duration": 84,
    "start_time": "2021-11-12T07:57:33.882Z"
   },
   {
    "duration": 29,
    "start_time": "2021-11-12T07:57:33.969Z"
   },
   {
    "duration": 7,
    "start_time": "2021-11-12T07:57:34.001Z"
   },
   {
    "duration": 19,
    "start_time": "2021-11-12T07:57:34.011Z"
   },
   {
    "duration": 12,
    "start_time": "2021-11-12T07:57:34.033Z"
   },
   {
    "duration": 697,
    "start_time": "2021-11-12T07:57:34.047Z"
   },
   {
    "duration": 6,
    "start_time": "2021-11-12T07:57:34.747Z"
   },
   {
    "duration": 15,
    "start_time": "2021-11-12T07:57:34.756Z"
   },
   {
    "duration": 345,
    "start_time": "2021-11-12T07:57:34.774Z"
   },
   {
    "duration": 2548,
    "start_time": "2021-11-12T07:57:35.129Z"
   },
   {
    "duration": 9,
    "start_time": "2021-11-12T07:57:37.680Z"
   },
   {
    "duration": 28,
    "start_time": "2021-11-12T07:57:37.691Z"
   },
   {
    "duration": 590,
    "start_time": "2021-11-12T07:57:37.729Z"
   },
   {
    "duration": 90,
    "start_time": "2021-11-13T06:44:15.210Z"
   },
   {
    "duration": 285,
    "start_time": "2021-11-13T06:44:20.658Z"
   },
   {
    "duration": 1125,
    "start_time": "2021-11-13T06:44:31.438Z"
   },
   {
    "duration": 311,
    "start_time": "2021-11-13T06:44:32.565Z"
   },
   {
    "duration": 21,
    "start_time": "2021-11-13T06:44:32.878Z"
   },
   {
    "duration": 5,
    "start_time": "2021-11-13T06:44:32.901Z"
   },
   {
    "duration": 8,
    "start_time": "2021-11-13T06:44:32.907Z"
   },
   {
    "duration": 6,
    "start_time": "2021-11-13T06:44:32.917Z"
   },
   {
    "duration": 421,
    "start_time": "2021-11-13T06:44:32.924Z"
   },
   {
    "duration": 5,
    "start_time": "2021-11-13T06:44:33.347Z"
   },
   {
    "duration": 8,
    "start_time": "2021-11-13T06:44:33.363Z"
   },
   {
    "duration": 270,
    "start_time": "2021-11-13T06:44:33.372Z"
   },
   {
    "duration": 1612,
    "start_time": "2021-11-13T06:44:33.645Z"
   },
   {
    "duration": 6,
    "start_time": "2021-11-13T06:44:35.263Z"
   },
   {
    "duration": 11,
    "start_time": "2021-11-13T06:44:35.271Z"
   },
   {
    "duration": 367,
    "start_time": "2021-11-13T06:44:35.283Z"
   },
   {
    "duration": 6670,
    "start_time": "2021-11-13T06:49:07.534Z"
   },
   {
    "duration": 1063,
    "start_time": "2021-11-13T06:49:49.915Z"
   },
   {
    "duration": 339,
    "start_time": "2021-11-13T06:49:50.980Z"
   },
   {
    "duration": 21,
    "start_time": "2021-11-13T06:49:51.321Z"
   },
   {
    "duration": 5,
    "start_time": "2021-11-13T06:49:51.344Z"
   },
   {
    "duration": 8,
    "start_time": "2021-11-13T06:49:51.350Z"
   },
   {
    "duration": 6,
    "start_time": "2021-11-13T06:49:51.360Z"
   },
   {
    "duration": 418,
    "start_time": "2021-11-13T06:49:51.368Z"
   },
   {
    "duration": 5,
    "start_time": "2021-11-13T06:49:51.789Z"
   },
   {
    "duration": 16,
    "start_time": "2021-11-13T06:49:51.795Z"
   },
   {
    "duration": 270,
    "start_time": "2021-11-13T06:49:51.813Z"
   },
   {
    "duration": 1618,
    "start_time": "2021-11-13T06:49:52.084Z"
   },
   {
    "duration": 8,
    "start_time": "2021-11-13T06:49:53.704Z"
   },
   {
    "duration": 12,
    "start_time": "2021-11-13T06:49:53.713Z"
   },
   {
    "duration": 367,
    "start_time": "2021-11-13T06:49:53.727Z"
   },
   {
    "duration": 6707,
    "start_time": "2021-11-13T06:50:37.580Z"
   },
   {
    "duration": 6,
    "start_time": "2021-11-13T06:51:03.910Z"
   },
   {
    "duration": 5,
    "start_time": "2021-11-13T06:51:09.370Z"
   },
   {
    "duration": 1064,
    "start_time": "2021-11-13T06:51:30.193Z"
   },
   {
    "duration": 520,
    "start_time": "2021-11-13T06:51:33.435Z"
   },
   {
    "duration": 21,
    "start_time": "2021-11-13T06:51:36.898Z"
   },
   {
    "duration": 331,
    "start_time": "2021-11-13T06:53:58.005Z"
   },
   {
    "duration": 1102,
    "start_time": "2021-11-13T06:54:11.152Z"
   },
   {
    "duration": 86,
    "start_time": "2021-11-13T06:54:12.256Z"
   },
   {
    "duration": 20,
    "start_time": "2021-11-13T06:54:12.344Z"
   },
   {
    "duration": 5,
    "start_time": "2021-11-13T06:54:12.366Z"
   },
   {
    "duration": 8,
    "start_time": "2021-11-13T06:54:12.373Z"
   },
   {
    "duration": 8,
    "start_time": "2021-11-13T06:54:12.383Z"
   },
   {
    "duration": 426,
    "start_time": "2021-11-13T06:54:12.393Z"
   },
   {
    "duration": 4,
    "start_time": "2021-11-13T06:54:32.650Z"
   },
   {
    "duration": 7,
    "start_time": "2021-11-13T06:54:36.427Z"
   },
   {
    "duration": 240,
    "start_time": "2021-11-13T06:54:40.434Z"
   },
   {
    "duration": 318,
    "start_time": "2021-11-13T08:47:21.318Z"
   },
   {
    "duration": 1073,
    "start_time": "2021-11-13T08:47:52.872Z"
   },
   {
    "duration": 183,
    "start_time": "2021-11-13T08:47:53.947Z"
   },
   {
    "duration": 21,
    "start_time": "2021-11-13T08:47:54.132Z"
   },
   {
    "duration": 5,
    "start_time": "2021-11-13T08:47:54.155Z"
   },
   {
    "duration": 11,
    "start_time": "2021-11-13T08:47:54.161Z"
   },
   {
    "duration": 10,
    "start_time": "2021-11-13T08:47:54.174Z"
   },
   {
    "duration": 446,
    "start_time": "2021-11-13T08:47:54.186Z"
   },
   {
    "duration": 4,
    "start_time": "2021-11-13T08:47:54.635Z"
   },
   {
    "duration": 11,
    "start_time": "2021-11-13T08:47:54.645Z"
   },
   {
    "duration": 263,
    "start_time": "2021-11-13T08:47:54.657Z"
   },
   {
    "duration": 1711,
    "start_time": "2021-11-13T08:47:54.922Z"
   },
   {
    "duration": 16,
    "start_time": "2021-11-13T08:47:56.636Z"
   },
   {
    "duration": 15,
    "start_time": "2021-11-13T08:47:56.654Z"
   },
   {
    "duration": 620,
    "start_time": "2021-11-13T08:47:56.671Z"
   },
   {
    "duration": 2941,
    "start_time": "2021-11-13T08:48:29.555Z"
   },
   {
    "duration": 7163,
    "start_time": "2021-11-13T09:02:51.585Z"
   },
   {
    "duration": 4,
    "start_time": "2021-11-13T09:13:53.358Z"
   },
   {
    "duration": 6,
    "start_time": "2021-11-13T09:13:55.648Z"
   },
   {
    "duration": 413,
    "start_time": "2021-11-13T09:14:08.189Z"
   },
   {
    "duration": 6865,
    "start_time": "2021-11-13T09:14:24.690Z"
   },
   {
    "duration": 7132,
    "start_time": "2021-11-13T09:15:37.843Z"
   },
   {
    "duration": 9724,
    "start_time": "2021-11-13T09:15:46.822Z"
   },
   {
    "duration": 428,
    "start_time": "2021-11-13T09:16:19.983Z"
   },
   {
    "duration": 7598,
    "start_time": "2021-11-13T09:18:18.473Z"
   },
   {
    "duration": 7870,
    "start_time": "2021-11-13T09:18:35.024Z"
   },
   {
    "duration": 1098,
    "start_time": "2021-11-13T09:18:57.325Z"
   },
   {
    "duration": 80,
    "start_time": "2021-11-13T09:18:58.425Z"
   },
   {
    "duration": 18,
    "start_time": "2021-11-13T09:18:58.507Z"
   },
   {
    "duration": 5,
    "start_time": "2021-11-13T09:18:58.527Z"
   },
   {
    "duration": 10,
    "start_time": "2021-11-13T09:18:58.533Z"
   },
   {
    "duration": 12,
    "start_time": "2021-11-13T09:18:58.545Z"
   },
   {
    "duration": 396,
    "start_time": "2021-11-13T09:18:58.559Z"
   },
   {
    "duration": 4,
    "start_time": "2021-11-13T09:18:58.958Z"
   },
   {
    "duration": 9,
    "start_time": "2021-11-13T09:18:58.964Z"
   },
   {
    "duration": 7427,
    "start_time": "2021-11-13T09:18:58.975Z"
   },
   {
    "duration": -124,
    "start_time": "2021-11-13T09:19:06.529Z"
   },
   {
    "duration": -124,
    "start_time": "2021-11-13T09:19:06.530Z"
   },
   {
    "duration": -124,
    "start_time": "2021-11-13T09:19:06.531Z"
   },
   {
    "duration": -124,
    "start_time": "2021-11-13T09:19:06.533Z"
   },
   {
    "duration": 303,
    "start_time": "2021-11-13T09:19:57.620Z"
   },
   {
    "duration": 297,
    "start_time": "2021-11-13T09:20:16.134Z"
   },
   {
    "duration": 534,
    "start_time": "2021-11-13T09:21:34.320Z"
   },
   {
    "duration": 437,
    "start_time": "2021-11-13T09:21:54.172Z"
   },
   {
    "duration": 413,
    "start_time": "2021-11-13T09:22:12.257Z"
   },
   {
    "duration": 1048,
    "start_time": "2021-11-13T09:23:37.280Z"
   },
   {
    "duration": 88,
    "start_time": "2021-11-13T09:23:38.330Z"
   },
   {
    "duration": 19,
    "start_time": "2021-11-13T09:23:38.420Z"
   },
   {
    "duration": 5,
    "start_time": "2021-11-13T09:23:38.441Z"
   },
   {
    "duration": 6,
    "start_time": "2021-11-13T09:23:38.447Z"
   },
   {
    "duration": 5,
    "start_time": "2021-11-13T09:23:38.455Z"
   },
   {
    "duration": 554,
    "start_time": "2021-11-13T09:23:38.461Z"
   },
   {
    "duration": 3,
    "start_time": "2021-11-13T09:23:39.017Z"
   },
   {
    "duration": 8,
    "start_time": "2021-11-13T09:23:39.022Z"
   },
   {
    "duration": 420,
    "start_time": "2021-11-13T09:23:39.031Z"
   },
   {
    "duration": 1615,
    "start_time": "2021-11-13T09:23:39.452Z"
   },
   {
    "duration": 8,
    "start_time": "2021-11-13T09:23:41.068Z"
   },
   {
    "duration": 11,
    "start_time": "2021-11-13T09:23:41.078Z"
   },
   {
    "duration": 371,
    "start_time": "2021-11-13T09:23:41.091Z"
   },
   {
    "duration": 1803,
    "start_time": "2021-11-13T09:24:01.217Z"
   },
   {
    "duration": 355,
    "start_time": "2021-11-13T09:24:43.090Z"
   },
   {
    "duration": 408,
    "start_time": "2021-11-13T09:27:59.341Z"
   },
   {
    "duration": 5,
    "start_time": "2021-11-13T09:30:10.129Z"
   },
   {
    "duration": 8,
    "start_time": "2021-11-13T09:30:19.495Z"
   },
   {
    "duration": 4,
    "start_time": "2021-11-13T09:34:15.833Z"
   },
   {
    "duration": 1090,
    "start_time": "2021-11-13T10:37:51.248Z"
   },
   {
    "duration": 200,
    "start_time": "2021-11-13T10:37:52.340Z"
   },
   {
    "duration": 20,
    "start_time": "2021-11-13T10:37:52.542Z"
   },
   {
    "duration": 5,
    "start_time": "2021-11-13T10:37:52.563Z"
   },
   {
    "duration": 9,
    "start_time": "2021-11-13T10:37:52.570Z"
   },
   {
    "duration": 6,
    "start_time": "2021-11-13T10:37:52.580Z"
   },
   {
    "duration": 426,
    "start_time": "2021-11-13T10:37:52.588Z"
   },
   {
    "duration": 3,
    "start_time": "2021-11-13T10:37:53.017Z"
   },
   {
    "duration": 23,
    "start_time": "2021-11-13T10:37:53.022Z"
   },
   {
    "duration": 421,
    "start_time": "2021-11-13T10:37:53.047Z"
   },
   {
    "duration": 1837,
    "start_time": "2021-11-13T10:37:53.470Z"
   },
   {
    "duration": 9,
    "start_time": "2021-11-13T10:37:55.319Z"
   },
   {
    "duration": 438,
    "start_time": "2021-11-13T10:37:55.330Z"
   },
   {
    "duration": 1033,
    "start_time": "2021-11-13T10:38:13.101Z"
   },
   {
    "duration": 83,
    "start_time": "2021-11-13T10:38:16.305Z"
   },
   {
    "duration": 22,
    "start_time": "2021-11-13T10:38:18.914Z"
   },
   {
    "duration": 6,
    "start_time": "2021-11-13T10:38:23.110Z"
   },
   {
    "duration": 6,
    "start_time": "2021-11-13T10:38:24.829Z"
   },
   {
    "duration": 6,
    "start_time": "2021-11-13T10:39:23.833Z"
   },
   {
    "duration": 475,
    "start_time": "2021-11-13T10:39:28.218Z"
   },
   {
    "duration": 4,
    "start_time": "2021-11-13T10:39:51.555Z"
   },
   {
    "duration": 7,
    "start_time": "2021-11-13T10:39:55.065Z"
   },
   {
    "duration": 367,
    "start_time": "2021-11-13T10:40:15.586Z"
   },
   {
    "duration": 1579,
    "start_time": "2021-11-14T09:17:33.074Z"
   },
   {
    "duration": 344,
    "start_time": "2021-11-14T09:17:34.656Z"
   },
   {
    "duration": 29,
    "start_time": "2021-11-14T09:17:35.003Z"
   },
   {
    "duration": 7,
    "start_time": "2021-11-14T09:17:35.035Z"
   },
   {
    "duration": 10,
    "start_time": "2021-11-14T09:17:35.044Z"
   },
   {
    "duration": 9,
    "start_time": "2021-11-14T09:17:36.289Z"
   },
   {
    "duration": 688,
    "start_time": "2021-11-14T09:17:37.202Z"
   },
   {
    "duration": 10,
    "start_time": "2021-11-14T09:17:37.892Z"
   },
   {
    "duration": 10,
    "start_time": "2021-11-14T09:17:38.032Z"
   },
   {
    "duration": 564,
    "start_time": "2021-11-14T09:17:38.426Z"
   },
   {
    "duration": 2912,
    "start_time": "2021-11-14T09:17:40.426Z"
   },
   {
    "duration": 11,
    "start_time": "2021-11-14T09:17:43.341Z"
   },
   {
    "duration": 700,
    "start_time": "2021-11-14T09:17:43.355Z"
   }
  ],
  "kernelspec": {
   "display_name": "Python 3 (ipykernel)",
   "language": "python",
   "name": "python3"
  },
  "language_info": {
   "codemirror_mode": {
    "name": "ipython",
    "version": 3
   },
   "file_extension": ".py",
   "mimetype": "text/x-python",
   "name": "python",
   "nbconvert_exporter": "python",
   "pygments_lexer": "ipython3",
   "version": "3.9.6"
  },
  "toc": {
   "base_numbering": 1,
   "nav_menu": {},
   "number_sections": true,
   "sideBar": true,
   "skip_h1_title": true,
   "title_cell": "Содержание",
   "title_sidebar": "Contents",
   "toc_cell": true,
   "toc_position": {
    "height": "calc(100% - 180px)",
    "left": "10px",
    "top": "150px",
    "width": "428.391px"
   },
   "toc_section_display": true,
   "toc_window_display": false
  }
 },
 "nbformat": 4,
 "nbformat_minor": 2
}
