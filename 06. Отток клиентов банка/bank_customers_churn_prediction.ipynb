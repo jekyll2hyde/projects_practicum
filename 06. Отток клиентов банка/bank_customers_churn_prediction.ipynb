{
 "cells": [
  {
   "cell_type": "markdown",
   "metadata": {},
   "source": [
    "# Отток клиентов"
   ]
  },
  {
   "cell_type": "markdown",
   "metadata": {},
   "source": [
    "Банк заметил небольшой ежемесячный отток клиентов. Банковские маркетологи определили, что сохранение текущих клиентов дешевле, чем привлечение новых.\n",
    "\n",
    "***Задача:*** построить модель машинного обучения прогнозирующую, уйдёт клиент из банка в ближайшее время или нет. Целевое значение метрики качества, *F1* - не менее 0.59.\n",
    "\n",
    "***Входные данные:*** исторические данные о поведении клиентов и расторжении договоров с банком.\n",
    "\n",
    "Источник данных: [https://www.kaggle.com/barelydedicated/bank-customer-churn-modeling](https://www.kaggle.com/barelydedicated/bank-customer-churn-modeling)"
   ]
  },
  {
   "cell_type": "markdown",
   "metadata": {
    "toc": true
   },
   "source": [
    "<h1>Содержание<span class=\"tocSkip\"></span></h1>\n",
    "<div class=\"toc\"><ul class=\"toc-item\"><li><span><a href=\"#Подготовка-данных\" data-toc-modified-id=\"Подготовка-данных-1\"><span class=\"toc-item-num\">1&nbsp;&nbsp;</span>Подготовка данных</a></span><ul class=\"toc-item\"><li><span><a href=\"#Изучение-данных-из-файла\" data-toc-modified-id=\"Изучение-данных-из-файла-1.1\"><span class=\"toc-item-num\">1.1&nbsp;&nbsp;</span>Изучение данных из файла</a></span></li><li><span><a href=\"#Предобработка-данных\" data-toc-modified-id=\"Предобработка-данных-1.2\"><span class=\"toc-item-num\">1.2&nbsp;&nbsp;</span>Предобработка данных</a></span></li><li><span><a href=\"#Разделение-данных-на-выборки\" data-toc-modified-id=\"Разделение-данных-на-выборки-1.3\"><span class=\"toc-item-num\">1.3&nbsp;&nbsp;</span>Разделение данных на выборки</a></span></li></ul></li><li><span><a href=\"#Исследование-задачи\" data-toc-modified-id=\"Исследование-задачи-2\"><span class=\"toc-item-num\">2&nbsp;&nbsp;</span>Исследование задачи</a></span><ul class=\"toc-item\"><li><span><a href=\"#Масштабирование-признаков\" data-toc-modified-id=\"Масштабирование-признаков-2.1\"><span class=\"toc-item-num\">2.1&nbsp;&nbsp;</span>Масштабирование признаков</a></span></li><li><span><a href=\"#Пробное-обучение-моделей\" data-toc-modified-id=\"Пробное-обучение-моделей-2.2\"><span class=\"toc-item-num\">2.2&nbsp;&nbsp;</span>Пробное обучение моделей</a></span><ul class=\"toc-item\"><li><span><a href=\"#Дерево-решений\" data-toc-modified-id=\"Дерево-решений-2.2.1\"><span class=\"toc-item-num\">2.2.1&nbsp;&nbsp;</span>Дерево решений</a></span></li><li><span><a href=\"#Случайный-лес\" data-toc-modified-id=\"Случайный-лес-2.2.2\"><span class=\"toc-item-num\">2.2.2&nbsp;&nbsp;</span>Случайный лес</a></span></li><li><span><a href=\"#Логистическая-регрессия\" data-toc-modified-id=\"Логистическая-регрессия-2.2.3\"><span class=\"toc-item-num\">2.2.3&nbsp;&nbsp;</span>Логистическая регрессия</a></span></li></ul></li></ul></li><li><span><a href=\"#Борьба-с-дисбалансом\" data-toc-modified-id=\"Борьба-с-дисбалансом-3\"><span class=\"toc-item-num\">3&nbsp;&nbsp;</span>Борьба с дисбалансом</a></span><ul class=\"toc-item\"><li><span><a href=\"#Взвешивание-классов\" data-toc-modified-id=\"Взвешивание-классов-3.1\"><span class=\"toc-item-num\">3.1&nbsp;&nbsp;</span>Взвешивание классов</a></span><ul class=\"toc-item\"><li><span><a href=\"#Дерево-решений\" data-toc-modified-id=\"Дерево-решений-3.1.1\"><span class=\"toc-item-num\">3.1.1&nbsp;&nbsp;</span>Дерево решений</a></span></li><li><span><a href=\"#Случайный-лес\" data-toc-modified-id=\"Случайный-лес-3.1.2\"><span class=\"toc-item-num\">3.1.2&nbsp;&nbsp;</span>Случайный лес</a></span></li><li><span><a href=\"#Логистическая-регрессия\" data-toc-modified-id=\"Логистическая-регрессия-3.1.3\"><span class=\"toc-item-num\">3.1.3&nbsp;&nbsp;</span>Логистическая регрессия</a></span></li></ul></li><li><span><a href=\"#Увеличение-выборки\" data-toc-modified-id=\"Увеличение-выборки-3.2\"><span class=\"toc-item-num\">3.2&nbsp;&nbsp;</span>Увеличение выборки</a></span><ul class=\"toc-item\"><li><span><a href=\"#Дерево-решений\" data-toc-modified-id=\"Дерево-решений-3.2.1\"><span class=\"toc-item-num\">3.2.1&nbsp;&nbsp;</span>Дерево решений</a></span></li><li><span><a href=\"#Случайный-лес\" data-toc-modified-id=\"Случайный-лес-3.2.2\"><span class=\"toc-item-num\">3.2.2&nbsp;&nbsp;</span>Случайный лес</a></span></li><li><span><a href=\"#Логистическая-регрессия\" data-toc-modified-id=\"Логистическая-регрессия-3.2.3\"><span class=\"toc-item-num\">3.2.3&nbsp;&nbsp;</span>Логистическая регрессия</a></span></li></ul></li></ul></li><li><span><a href=\"#Тестирование-модели\" data-toc-modified-id=\"Тестирование-модели-4\"><span class=\"toc-item-num\">4&nbsp;&nbsp;</span>Тестирование модели</a></span></li><li><span><a href=\"#Общий-вывод\" data-toc-modified-id=\"Общий-вывод-5\"><span class=\"toc-item-num\">5&nbsp;&nbsp;</span>Общий вывод</a></span></li></ul></div>"
   ]
  },
  {
   "cell_type": "markdown",
   "metadata": {},
   "source": [
    "## Подготовка данных"
   ]
  },
  {
   "cell_type": "markdown",
   "metadata": {},
   "source": [
    "### Изучение данных из файла"
   ]
  },
  {
   "cell_type": "markdown",
   "metadata": {},
   "source": [
    "Импортируем необходимые для работы библиотеки:"
   ]
  },
  {
   "cell_type": "code",
   "execution_count": 1,
   "metadata": {},
   "outputs": [
    {
     "name": "stdout",
     "output_type": "stream",
     "text": [
      "Defaulting to user installation because normal site-packages is not writeable\n",
      "Collecting scikit-learn\n",
      "  Downloading scikit_learn-0.24.2-cp37-cp37m-manylinux2010_x86_64.whl (22.3 MB)\n",
      "\u001b[K     |████████████████████████████████| 22.3 MB 39 kB/s  eta 0:00:01\n",
      "\u001b[?25hRequirement already satisfied, skipping upgrade: scipy>=0.19.1 in /opt/conda/lib/python3.7/site-packages (from scikit-learn) (1.4.1)\n",
      "Requirement already satisfied, skipping upgrade: joblib>=0.11 in /opt/conda/lib/python3.7/site-packages (from scikit-learn) (1.0.1)\n",
      "Collecting threadpoolctl>=2.0.0\n",
      "  Downloading threadpoolctl-2.2.0-py3-none-any.whl (12 kB)\n",
      "Requirement already satisfied, skipping upgrade: numpy>=1.13.3 in /opt/conda/lib/python3.7/site-packages (from scikit-learn) (1.19.5)\n",
      "Installing collected packages: threadpoolctl, scikit-learn\n",
      "Successfully installed scikit-learn-0.24.2 threadpoolctl-2.2.0\n"
     ]
    }
   ],
   "source": [
    "!pip install scikit-learn --upgrade\n",
    "import pandas as pd\n",
    "import numpy as np\n",
    "import matplotlib.pyplot as plt\n",
    "from sklearn.model_selection import train_test_split\n",
    "from sklearn.preprocessing import OrdinalEncoder\n",
    "from sklearn.preprocessing import StandardScaler\n",
    "from sklearn.model_selection import GridSearchCV\n",
    "from sklearn.tree import DecisionTreeClassifier\n",
    "from sklearn.ensemble import RandomForestClassifier\n",
    "from sklearn.linear_model import LogisticRegression\n",
    "from sklearn.utils import shuffle\n",
    "from sklearn.metrics import accuracy_score\n",
    "from sklearn.metrics import f1_score, make_scorer\n",
    "from sklearn.metrics import roc_auc_score"
   ]
  },
  {
   "cell_type": "markdown",
   "metadata": {},
   "source": [
    "Загрузим датасет и выведем на экран первые и последние 5 строк, а также общую информацию о данных:"
   ]
  },
  {
   "cell_type": "code",
   "execution_count": 2,
   "metadata": {
    "scrolled": false
   },
   "outputs": [
    {
     "data": {
      "text/html": [
       "<div>\n",
       "<style scoped>\n",
       "    .dataframe tbody tr th:only-of-type {\n",
       "        vertical-align: middle;\n",
       "    }\n",
       "\n",
       "    .dataframe tbody tr th {\n",
       "        vertical-align: top;\n",
       "    }\n",
       "\n",
       "    .dataframe thead th {\n",
       "        text-align: right;\n",
       "    }\n",
       "</style>\n",
       "<table border=\"1\" class=\"dataframe\">\n",
       "  <thead>\n",
       "    <tr style=\"text-align: right;\">\n",
       "      <th></th>\n",
       "      <th>RowNumber</th>\n",
       "      <th>CustomerId</th>\n",
       "      <th>Surname</th>\n",
       "      <th>CreditScore</th>\n",
       "      <th>Geography</th>\n",
       "      <th>Gender</th>\n",
       "      <th>Age</th>\n",
       "      <th>Tenure</th>\n",
       "      <th>Balance</th>\n",
       "      <th>NumOfProducts</th>\n",
       "      <th>HasCrCard</th>\n",
       "      <th>IsActiveMember</th>\n",
       "      <th>EstimatedSalary</th>\n",
       "      <th>Exited</th>\n",
       "    </tr>\n",
       "  </thead>\n",
       "  <tbody>\n",
       "    <tr>\n",
       "      <td>0</td>\n",
       "      <td>1</td>\n",
       "      <td>15634602</td>\n",
       "      <td>Hargrave</td>\n",
       "      <td>619</td>\n",
       "      <td>France</td>\n",
       "      <td>Female</td>\n",
       "      <td>42</td>\n",
       "      <td>2.0</td>\n",
       "      <td>0.00</td>\n",
       "      <td>1</td>\n",
       "      <td>1</td>\n",
       "      <td>1</td>\n",
       "      <td>101348.88</td>\n",
       "      <td>1</td>\n",
       "    </tr>\n",
       "    <tr>\n",
       "      <td>1</td>\n",
       "      <td>2</td>\n",
       "      <td>15647311</td>\n",
       "      <td>Hill</td>\n",
       "      <td>608</td>\n",
       "      <td>Spain</td>\n",
       "      <td>Female</td>\n",
       "      <td>41</td>\n",
       "      <td>1.0</td>\n",
       "      <td>83807.86</td>\n",
       "      <td>1</td>\n",
       "      <td>0</td>\n",
       "      <td>1</td>\n",
       "      <td>112542.58</td>\n",
       "      <td>0</td>\n",
       "    </tr>\n",
       "    <tr>\n",
       "      <td>2</td>\n",
       "      <td>3</td>\n",
       "      <td>15619304</td>\n",
       "      <td>Onio</td>\n",
       "      <td>502</td>\n",
       "      <td>France</td>\n",
       "      <td>Female</td>\n",
       "      <td>42</td>\n",
       "      <td>8.0</td>\n",
       "      <td>159660.80</td>\n",
       "      <td>3</td>\n",
       "      <td>1</td>\n",
       "      <td>0</td>\n",
       "      <td>113931.57</td>\n",
       "      <td>1</td>\n",
       "    </tr>\n",
       "    <tr>\n",
       "      <td>3</td>\n",
       "      <td>4</td>\n",
       "      <td>15701354</td>\n",
       "      <td>Boni</td>\n",
       "      <td>699</td>\n",
       "      <td>France</td>\n",
       "      <td>Female</td>\n",
       "      <td>39</td>\n",
       "      <td>1.0</td>\n",
       "      <td>0.00</td>\n",
       "      <td>2</td>\n",
       "      <td>0</td>\n",
       "      <td>0</td>\n",
       "      <td>93826.63</td>\n",
       "      <td>0</td>\n",
       "    </tr>\n",
       "    <tr>\n",
       "      <td>4</td>\n",
       "      <td>5</td>\n",
       "      <td>15737888</td>\n",
       "      <td>Mitchell</td>\n",
       "      <td>850</td>\n",
       "      <td>Spain</td>\n",
       "      <td>Female</td>\n",
       "      <td>43</td>\n",
       "      <td>2.0</td>\n",
       "      <td>125510.82</td>\n",
       "      <td>1</td>\n",
       "      <td>1</td>\n",
       "      <td>1</td>\n",
       "      <td>79084.10</td>\n",
       "      <td>0</td>\n",
       "    </tr>\n",
       "    <tr>\n",
       "      <td>...</td>\n",
       "      <td>...</td>\n",
       "      <td>...</td>\n",
       "      <td>...</td>\n",
       "      <td>...</td>\n",
       "      <td>...</td>\n",
       "      <td>...</td>\n",
       "      <td>...</td>\n",
       "      <td>...</td>\n",
       "      <td>...</td>\n",
       "      <td>...</td>\n",
       "      <td>...</td>\n",
       "      <td>...</td>\n",
       "      <td>...</td>\n",
       "      <td>...</td>\n",
       "    </tr>\n",
       "    <tr>\n",
       "      <td>9995</td>\n",
       "      <td>9996</td>\n",
       "      <td>15606229</td>\n",
       "      <td>Obijiaku</td>\n",
       "      <td>771</td>\n",
       "      <td>France</td>\n",
       "      <td>Male</td>\n",
       "      <td>39</td>\n",
       "      <td>5.0</td>\n",
       "      <td>0.00</td>\n",
       "      <td>2</td>\n",
       "      <td>1</td>\n",
       "      <td>0</td>\n",
       "      <td>96270.64</td>\n",
       "      <td>0</td>\n",
       "    </tr>\n",
       "    <tr>\n",
       "      <td>9996</td>\n",
       "      <td>9997</td>\n",
       "      <td>15569892</td>\n",
       "      <td>Johnstone</td>\n",
       "      <td>516</td>\n",
       "      <td>France</td>\n",
       "      <td>Male</td>\n",
       "      <td>35</td>\n",
       "      <td>10.0</td>\n",
       "      <td>57369.61</td>\n",
       "      <td>1</td>\n",
       "      <td>1</td>\n",
       "      <td>1</td>\n",
       "      <td>101699.77</td>\n",
       "      <td>0</td>\n",
       "    </tr>\n",
       "    <tr>\n",
       "      <td>9997</td>\n",
       "      <td>9998</td>\n",
       "      <td>15584532</td>\n",
       "      <td>Liu</td>\n",
       "      <td>709</td>\n",
       "      <td>France</td>\n",
       "      <td>Female</td>\n",
       "      <td>36</td>\n",
       "      <td>7.0</td>\n",
       "      <td>0.00</td>\n",
       "      <td>1</td>\n",
       "      <td>0</td>\n",
       "      <td>1</td>\n",
       "      <td>42085.58</td>\n",
       "      <td>1</td>\n",
       "    </tr>\n",
       "    <tr>\n",
       "      <td>9998</td>\n",
       "      <td>9999</td>\n",
       "      <td>15682355</td>\n",
       "      <td>Sabbatini</td>\n",
       "      <td>772</td>\n",
       "      <td>Germany</td>\n",
       "      <td>Male</td>\n",
       "      <td>42</td>\n",
       "      <td>3.0</td>\n",
       "      <td>75075.31</td>\n",
       "      <td>2</td>\n",
       "      <td>1</td>\n",
       "      <td>0</td>\n",
       "      <td>92888.52</td>\n",
       "      <td>1</td>\n",
       "    </tr>\n",
       "    <tr>\n",
       "      <td>9999</td>\n",
       "      <td>10000</td>\n",
       "      <td>15628319</td>\n",
       "      <td>Walker</td>\n",
       "      <td>792</td>\n",
       "      <td>France</td>\n",
       "      <td>Female</td>\n",
       "      <td>28</td>\n",
       "      <td>NaN</td>\n",
       "      <td>130142.79</td>\n",
       "      <td>1</td>\n",
       "      <td>1</td>\n",
       "      <td>0</td>\n",
       "      <td>38190.78</td>\n",
       "      <td>0</td>\n",
       "    </tr>\n",
       "  </tbody>\n",
       "</table>\n",
       "<p>10000 rows × 14 columns</p>\n",
       "</div>"
      ],
      "text/plain": [
       "      RowNumber  CustomerId    Surname  CreditScore Geography  Gender  Age  \\\n",
       "0             1    15634602   Hargrave          619    France  Female   42   \n",
       "1             2    15647311       Hill          608     Spain  Female   41   \n",
       "2             3    15619304       Onio          502    France  Female   42   \n",
       "3             4    15701354       Boni          699    France  Female   39   \n",
       "4             5    15737888   Mitchell          850     Spain  Female   43   \n",
       "...         ...         ...        ...          ...       ...     ...  ...   \n",
       "9995       9996    15606229   Obijiaku          771    France    Male   39   \n",
       "9996       9997    15569892  Johnstone          516    France    Male   35   \n",
       "9997       9998    15584532        Liu          709    France  Female   36   \n",
       "9998       9999    15682355  Sabbatini          772   Germany    Male   42   \n",
       "9999      10000    15628319     Walker          792    France  Female   28   \n",
       "\n",
       "      Tenure    Balance  NumOfProducts  HasCrCard  IsActiveMember  \\\n",
       "0        2.0       0.00              1          1               1   \n",
       "1        1.0   83807.86              1          0               1   \n",
       "2        8.0  159660.80              3          1               0   \n",
       "3        1.0       0.00              2          0               0   \n",
       "4        2.0  125510.82              1          1               1   \n",
       "...      ...        ...            ...        ...             ...   \n",
       "9995     5.0       0.00              2          1               0   \n",
       "9996    10.0   57369.61              1          1               1   \n",
       "9997     7.0       0.00              1          0               1   \n",
       "9998     3.0   75075.31              2          1               0   \n",
       "9999     NaN  130142.79              1          1               0   \n",
       "\n",
       "      EstimatedSalary  Exited  \n",
       "0           101348.88       1  \n",
       "1           112542.58       0  \n",
       "2           113931.57       1  \n",
       "3            93826.63       0  \n",
       "4            79084.10       0  \n",
       "...               ...     ...  \n",
       "9995         96270.64       0  \n",
       "9996        101699.77       0  \n",
       "9997         42085.58       1  \n",
       "9998         92888.52       1  \n",
       "9999         38190.78       0  \n",
       "\n",
       "[10000 rows x 14 columns]"
      ]
     },
     "metadata": {},
     "output_type": "display_data"
    },
    {
     "name": "stdout",
     "output_type": "stream",
     "text": [
      "<class 'pandas.core.frame.DataFrame'>\n",
      "RangeIndex: 10000 entries, 0 to 9999\n",
      "Data columns (total 14 columns):\n",
      "RowNumber          10000 non-null int64\n",
      "CustomerId         10000 non-null int64\n",
      "Surname            10000 non-null object\n",
      "CreditScore        10000 non-null int64\n",
      "Geography          10000 non-null object\n",
      "Gender             10000 non-null object\n",
      "Age                10000 non-null int64\n",
      "Tenure             9091 non-null float64\n",
      "Balance            10000 non-null float64\n",
      "NumOfProducts      10000 non-null int64\n",
      "HasCrCard          10000 non-null int64\n",
      "IsActiveMember     10000 non-null int64\n",
      "EstimatedSalary    10000 non-null float64\n",
      "Exited             10000 non-null int64\n",
      "dtypes: float64(3), int64(8), object(3)\n",
      "memory usage: 1.1+ MB\n"
     ]
    }
   ],
   "source": [
    "data = pd.read_csv('https://code.s3.yandex.net/datasets/Churn.csv')\n",
    "display(data)\n",
    "data.info()"
   ]
  },
  {
   "cell_type": "markdown",
   "metadata": {},
   "source": [
    "В таблице всего 10000 строк.\n",
    "В столбце ***Tenure*** количество непустых значений меньше 10000, а значит имеются пропуски. Рассмотрим их подробнее:"
   ]
  },
  {
   "cell_type": "code",
   "execution_count": 3,
   "metadata": {
    "scrolled": false
   },
   "outputs": [
    {
     "data": {
      "text/html": [
       "<div>\n",
       "<style scoped>\n",
       "    .dataframe tbody tr th:only-of-type {\n",
       "        vertical-align: middle;\n",
       "    }\n",
       "\n",
       "    .dataframe tbody tr th {\n",
       "        vertical-align: top;\n",
       "    }\n",
       "\n",
       "    .dataframe thead th {\n",
       "        text-align: right;\n",
       "    }\n",
       "</style>\n",
       "<table border=\"1\" class=\"dataframe\">\n",
       "  <thead>\n",
       "    <tr style=\"text-align: right;\">\n",
       "      <th></th>\n",
       "      <th>RowNumber</th>\n",
       "      <th>CustomerId</th>\n",
       "      <th>Surname</th>\n",
       "      <th>CreditScore</th>\n",
       "      <th>Geography</th>\n",
       "      <th>Gender</th>\n",
       "      <th>Age</th>\n",
       "      <th>Tenure</th>\n",
       "      <th>Balance</th>\n",
       "      <th>NumOfProducts</th>\n",
       "      <th>HasCrCard</th>\n",
       "      <th>IsActiveMember</th>\n",
       "      <th>EstimatedSalary</th>\n",
       "      <th>Exited</th>\n",
       "    </tr>\n",
       "  </thead>\n",
       "  <tbody>\n",
       "    <tr>\n",
       "      <td>30</td>\n",
       "      <td>31</td>\n",
       "      <td>15589475</td>\n",
       "      <td>Azikiwe</td>\n",
       "      <td>591</td>\n",
       "      <td>Spain</td>\n",
       "      <td>Female</td>\n",
       "      <td>39</td>\n",
       "      <td>NaN</td>\n",
       "      <td>0.00</td>\n",
       "      <td>3</td>\n",
       "      <td>1</td>\n",
       "      <td>0</td>\n",
       "      <td>140469.38</td>\n",
       "      <td>1</td>\n",
       "    </tr>\n",
       "    <tr>\n",
       "      <td>48</td>\n",
       "      <td>49</td>\n",
       "      <td>15766205</td>\n",
       "      <td>Yin</td>\n",
       "      <td>550</td>\n",
       "      <td>Germany</td>\n",
       "      <td>Male</td>\n",
       "      <td>38</td>\n",
       "      <td>NaN</td>\n",
       "      <td>103391.38</td>\n",
       "      <td>1</td>\n",
       "      <td>0</td>\n",
       "      <td>1</td>\n",
       "      <td>90878.13</td>\n",
       "      <td>0</td>\n",
       "    </tr>\n",
       "    <tr>\n",
       "      <td>51</td>\n",
       "      <td>52</td>\n",
       "      <td>15768193</td>\n",
       "      <td>Trevisani</td>\n",
       "      <td>585</td>\n",
       "      <td>Germany</td>\n",
       "      <td>Male</td>\n",
       "      <td>36</td>\n",
       "      <td>NaN</td>\n",
       "      <td>146050.97</td>\n",
       "      <td>2</td>\n",
       "      <td>0</td>\n",
       "      <td>0</td>\n",
       "      <td>86424.57</td>\n",
       "      <td>0</td>\n",
       "    </tr>\n",
       "    <tr>\n",
       "      <td>53</td>\n",
       "      <td>54</td>\n",
       "      <td>15702298</td>\n",
       "      <td>Parkhill</td>\n",
       "      <td>655</td>\n",
       "      <td>Germany</td>\n",
       "      <td>Male</td>\n",
       "      <td>41</td>\n",
       "      <td>NaN</td>\n",
       "      <td>125561.97</td>\n",
       "      <td>1</td>\n",
       "      <td>0</td>\n",
       "      <td>0</td>\n",
       "      <td>164040.94</td>\n",
       "      <td>1</td>\n",
       "    </tr>\n",
       "    <tr>\n",
       "      <td>60</td>\n",
       "      <td>61</td>\n",
       "      <td>15651280</td>\n",
       "      <td>Hunter</td>\n",
       "      <td>742</td>\n",
       "      <td>Germany</td>\n",
       "      <td>Male</td>\n",
       "      <td>35</td>\n",
       "      <td>NaN</td>\n",
       "      <td>136857.00</td>\n",
       "      <td>1</td>\n",
       "      <td>0</td>\n",
       "      <td>0</td>\n",
       "      <td>84509.57</td>\n",
       "      <td>0</td>\n",
       "    </tr>\n",
       "    <tr>\n",
       "      <td>...</td>\n",
       "      <td>...</td>\n",
       "      <td>...</td>\n",
       "      <td>...</td>\n",
       "      <td>...</td>\n",
       "      <td>...</td>\n",
       "      <td>...</td>\n",
       "      <td>...</td>\n",
       "      <td>...</td>\n",
       "      <td>...</td>\n",
       "      <td>...</td>\n",
       "      <td>...</td>\n",
       "      <td>...</td>\n",
       "      <td>...</td>\n",
       "      <td>...</td>\n",
       "    </tr>\n",
       "    <tr>\n",
       "      <td>9944</td>\n",
       "      <td>9945</td>\n",
       "      <td>15703923</td>\n",
       "      <td>Cameron</td>\n",
       "      <td>744</td>\n",
       "      <td>Germany</td>\n",
       "      <td>Male</td>\n",
       "      <td>41</td>\n",
       "      <td>NaN</td>\n",
       "      <td>190409.34</td>\n",
       "      <td>2</td>\n",
       "      <td>1</td>\n",
       "      <td>1</td>\n",
       "      <td>138361.48</td>\n",
       "      <td>0</td>\n",
       "    </tr>\n",
       "    <tr>\n",
       "      <td>9956</td>\n",
       "      <td>9957</td>\n",
       "      <td>15707861</td>\n",
       "      <td>Nucci</td>\n",
       "      <td>520</td>\n",
       "      <td>France</td>\n",
       "      <td>Female</td>\n",
       "      <td>46</td>\n",
       "      <td>NaN</td>\n",
       "      <td>85216.61</td>\n",
       "      <td>1</td>\n",
       "      <td>1</td>\n",
       "      <td>0</td>\n",
       "      <td>117369.52</td>\n",
       "      <td>1</td>\n",
       "    </tr>\n",
       "    <tr>\n",
       "      <td>9964</td>\n",
       "      <td>9965</td>\n",
       "      <td>15642785</td>\n",
       "      <td>Douglas</td>\n",
       "      <td>479</td>\n",
       "      <td>France</td>\n",
       "      <td>Male</td>\n",
       "      <td>34</td>\n",
       "      <td>NaN</td>\n",
       "      <td>117593.48</td>\n",
       "      <td>2</td>\n",
       "      <td>0</td>\n",
       "      <td>0</td>\n",
       "      <td>113308.29</td>\n",
       "      <td>0</td>\n",
       "    </tr>\n",
       "    <tr>\n",
       "      <td>9985</td>\n",
       "      <td>9986</td>\n",
       "      <td>15586914</td>\n",
       "      <td>Nepean</td>\n",
       "      <td>659</td>\n",
       "      <td>France</td>\n",
       "      <td>Male</td>\n",
       "      <td>36</td>\n",
       "      <td>NaN</td>\n",
       "      <td>123841.49</td>\n",
       "      <td>2</td>\n",
       "      <td>1</td>\n",
       "      <td>0</td>\n",
       "      <td>96833.00</td>\n",
       "      <td>0</td>\n",
       "    </tr>\n",
       "    <tr>\n",
       "      <td>9999</td>\n",
       "      <td>10000</td>\n",
       "      <td>15628319</td>\n",
       "      <td>Walker</td>\n",
       "      <td>792</td>\n",
       "      <td>France</td>\n",
       "      <td>Female</td>\n",
       "      <td>28</td>\n",
       "      <td>NaN</td>\n",
       "      <td>130142.79</td>\n",
       "      <td>1</td>\n",
       "      <td>1</td>\n",
       "      <td>0</td>\n",
       "      <td>38190.78</td>\n",
       "      <td>0</td>\n",
       "    </tr>\n",
       "  </tbody>\n",
       "</table>\n",
       "<p>909 rows × 14 columns</p>\n",
       "</div>"
      ],
      "text/plain": [
       "      RowNumber  CustomerId    Surname  CreditScore Geography  Gender  Age  \\\n",
       "30           31    15589475    Azikiwe          591     Spain  Female   39   \n",
       "48           49    15766205        Yin          550   Germany    Male   38   \n",
       "51           52    15768193  Trevisani          585   Germany    Male   36   \n",
       "53           54    15702298   Parkhill          655   Germany    Male   41   \n",
       "60           61    15651280     Hunter          742   Germany    Male   35   \n",
       "...         ...         ...        ...          ...       ...     ...  ...   \n",
       "9944       9945    15703923    Cameron          744   Germany    Male   41   \n",
       "9956       9957    15707861      Nucci          520    France  Female   46   \n",
       "9964       9965    15642785    Douglas          479    France    Male   34   \n",
       "9985       9986    15586914     Nepean          659    France    Male   36   \n",
       "9999      10000    15628319     Walker          792    France  Female   28   \n",
       "\n",
       "      Tenure    Balance  NumOfProducts  HasCrCard  IsActiveMember  \\\n",
       "30       NaN       0.00              3          1               0   \n",
       "48       NaN  103391.38              1          0               1   \n",
       "51       NaN  146050.97              2          0               0   \n",
       "53       NaN  125561.97              1          0               0   \n",
       "60       NaN  136857.00              1          0               0   \n",
       "...      ...        ...            ...        ...             ...   \n",
       "9944     NaN  190409.34              2          1               1   \n",
       "9956     NaN   85216.61              1          1               0   \n",
       "9964     NaN  117593.48              2          0               0   \n",
       "9985     NaN  123841.49              2          1               0   \n",
       "9999     NaN  130142.79              1          1               0   \n",
       "\n",
       "      EstimatedSalary  Exited  \n",
       "30          140469.38       1  \n",
       "48           90878.13       0  \n",
       "51           86424.57       0  \n",
       "53          164040.94       1  \n",
       "60           84509.57       0  \n",
       "...               ...     ...  \n",
       "9944        138361.48       0  \n",
       "9956        117369.52       1  \n",
       "9964        113308.29       0  \n",
       "9985         96833.00       0  \n",
       "9999         38190.78       0  \n",
       "\n",
       "[909 rows x 14 columns]"
      ]
     },
     "execution_count": 3,
     "metadata": {},
     "output_type": "execute_result"
    }
   ],
   "source": [
    "data[data['Tenure'].isna()]"
   ]
  },
  {
   "cell_type": "markdown",
   "metadata": {},
   "source": [
    "Логической связи пропусков в столбце ***Tenure*** не наблюдается. Возможно, пропущенные значения возникают в том случае, когда клиенты пользуются услугами банка менее 1 года, т.е. 0 лет. Проверим, есть ли нулевые значения в столбце:"
   ]
  },
  {
   "cell_type": "code",
   "execution_count": 4,
   "metadata": {
    "scrolled": true
   },
   "outputs": [
    {
     "data": {
      "text/plain": [
       "1.0     952\n",
       "2.0     950\n",
       "8.0     933\n",
       "3.0     928\n",
       "5.0     927\n",
       "7.0     925\n",
       "4.0     885\n",
       "9.0     882\n",
       "6.0     881\n",
       "10.0    446\n",
       "0.0     382\n",
       "Name: Tenure, dtype: int64"
      ]
     },
     "execution_count": 4,
     "metadata": {},
     "output_type": "execute_result"
    }
   ],
   "source": [
    "data['Tenure'].value_counts()"
   ]
  },
  {
   "cell_type": "markdown",
   "metadata": {},
   "source": [
    "Нулевые значения в столбце ***Tenure*** есть, поэтому однозначно утверждать, что пропуски связаны с нулями, нельзя."
   ]
  },
  {
   "cell_type": "markdown",
   "metadata": {},
   "source": [
    "Проверим, есть ли в датасете грубые дубликаты:"
   ]
  },
  {
   "cell_type": "code",
   "execution_count": 5,
   "metadata": {},
   "outputs": [
    {
     "data": {
      "text/plain": [
       "0"
      ]
     },
     "execution_count": 5,
     "metadata": {},
     "output_type": "execute_result"
    }
   ],
   "source": [
    "data.duplicated().sum()"
   ]
  },
  {
   "cell_type": "markdown",
   "metadata": {},
   "source": [
    "###### Вывод\n",
    "\n",
    "Всего в таблице 14 столбцов со следующими типами данных: *float64, int64, object*.\n",
    "\n",
    "Каждый объект в наборе данных — это информация о поведении одного клиента за время его пользования услугами банка. Известно:\n",
    "\n",
    "- RowNumber — индекс строки в данных\n",
    "- CustomerId — уникальный идентификатор клиента\n",
    "- Surname — фамилия\n",
    "- CreditScore — кредитный рейтинг\n",
    "- Geography — страна проживания\n",
    "- Gender — пол\n",
    "- Age — возраст\n",
    "- Tenure — сколько лет человек является клиентом банка\n",
    "- Balance — баланс на счёте\n",
    "- NumOfProducts — количество продуктов банка, используемых клиентом\n",
    "- HasCrCard — наличие кредитной карты\n",
    "- IsActiveMember — активность клиента\n",
    "- EstimatedSalary — предполагаемая зарплата\n",
    "- Exited — факт ухода клиента\n",
    "\n",
    "Столбцы ***RowNumber, CustomerId, Surname*** вряд ли как-то связаны с фактом ухода клиентов, поэтому при дальнейшем формировании признаков не будем брать их в учет.\n",
    "\n",
    "В столбце ***Tenure*** имеются пропуски. Никакой связи с данными других столбцов не наблюдается. Вероятно, пропуски связаны с ошибками при выгрузке данных. Такие алгоритмы как ***Дерево решений*** и ***Случайный лес*** могут работать с пропусками данных, но для ***Логистической регрессии*** необходимо устранить пропуски. Удалять строки с пропусками не будем, т.к. потеряем около 10% данных. Далее заменим пропуски на числовое значение вне диапазона от ***0*** до ***10***, например, на ***-1*** для того, чтобы алгоритмы, не работающие с пропущенными значениями, могли их распознать.\n",
    "\n",
    "Тип данных столбцов ***Geography, Gender*** - ***object***. Для дальнейшей работы с алгоритмами обучения необходимо преобразовать категориальные данные в численные.\n",
    "\n",
    "Грубых дубликатов в датасете не обнаружено."
   ]
  },
  {
   "cell_type": "markdown",
   "metadata": {},
   "source": [
    "### Предобработка данных"
   ]
  },
  {
   "cell_type": "markdown",
   "metadata": {},
   "source": [
    "Заменим пропуски данных в столбце ***Tenure*** на значение *-1*:"
   ]
  },
  {
   "cell_type": "code",
   "execution_count": 6,
   "metadata": {
    "scrolled": true
   },
   "outputs": [
    {
     "data": {
      "text/plain": [
       "count    10000.000000\n",
       "mean         4.452500\n",
       "std          3.254321\n",
       "min         -1.000000\n",
       "25%          2.000000\n",
       "50%          4.000000\n",
       "75%          7.000000\n",
       "max         10.000000\n",
       "Name: Tenure, dtype: float64"
      ]
     },
     "execution_count": 6,
     "metadata": {},
     "output_type": "execute_result"
    }
   ],
   "source": [
    "data['Tenure'] = data['Tenure'].fillna(-1)\n",
    "data['Tenure'].describe()"
   ]
  },
  {
   "cell_type": "markdown",
   "metadata": {},
   "source": [
    "Пропуски успешно заменены.\n",
    "\n",
    "В связи с тем, что столбцы ***RowNumber, CustomerId, Surname*** вряд ли как-то связаны с фактом ухода клиентов, удалим их из датасета."
   ]
  },
  {
   "cell_type": "code",
   "execution_count": 7,
   "metadata": {},
   "outputs": [
    {
     "data": {
      "text/html": [
       "<div>\n",
       "<style scoped>\n",
       "    .dataframe tbody tr th:only-of-type {\n",
       "        vertical-align: middle;\n",
       "    }\n",
       "\n",
       "    .dataframe tbody tr th {\n",
       "        vertical-align: top;\n",
       "    }\n",
       "\n",
       "    .dataframe thead th {\n",
       "        text-align: right;\n",
       "    }\n",
       "</style>\n",
       "<table border=\"1\" class=\"dataframe\">\n",
       "  <thead>\n",
       "    <tr style=\"text-align: right;\">\n",
       "      <th></th>\n",
       "      <th>CreditScore</th>\n",
       "      <th>Geography</th>\n",
       "      <th>Gender</th>\n",
       "      <th>Age</th>\n",
       "      <th>Tenure</th>\n",
       "      <th>Balance</th>\n",
       "      <th>NumOfProducts</th>\n",
       "      <th>HasCrCard</th>\n",
       "      <th>IsActiveMember</th>\n",
       "      <th>EstimatedSalary</th>\n",
       "      <th>Exited</th>\n",
       "    </tr>\n",
       "  </thead>\n",
       "  <tbody>\n",
       "    <tr>\n",
       "      <td>0</td>\n",
       "      <td>619</td>\n",
       "      <td>France</td>\n",
       "      <td>Female</td>\n",
       "      <td>42</td>\n",
       "      <td>2.0</td>\n",
       "      <td>0.00</td>\n",
       "      <td>1</td>\n",
       "      <td>1</td>\n",
       "      <td>1</td>\n",
       "      <td>101348.88</td>\n",
       "      <td>1</td>\n",
       "    </tr>\n",
       "    <tr>\n",
       "      <td>1</td>\n",
       "      <td>608</td>\n",
       "      <td>Spain</td>\n",
       "      <td>Female</td>\n",
       "      <td>41</td>\n",
       "      <td>1.0</td>\n",
       "      <td>83807.86</td>\n",
       "      <td>1</td>\n",
       "      <td>0</td>\n",
       "      <td>1</td>\n",
       "      <td>112542.58</td>\n",
       "      <td>0</td>\n",
       "    </tr>\n",
       "    <tr>\n",
       "      <td>2</td>\n",
       "      <td>502</td>\n",
       "      <td>France</td>\n",
       "      <td>Female</td>\n",
       "      <td>42</td>\n",
       "      <td>8.0</td>\n",
       "      <td>159660.80</td>\n",
       "      <td>3</td>\n",
       "      <td>1</td>\n",
       "      <td>0</td>\n",
       "      <td>113931.57</td>\n",
       "      <td>1</td>\n",
       "    </tr>\n",
       "    <tr>\n",
       "      <td>3</td>\n",
       "      <td>699</td>\n",
       "      <td>France</td>\n",
       "      <td>Female</td>\n",
       "      <td>39</td>\n",
       "      <td>1.0</td>\n",
       "      <td>0.00</td>\n",
       "      <td>2</td>\n",
       "      <td>0</td>\n",
       "      <td>0</td>\n",
       "      <td>93826.63</td>\n",
       "      <td>0</td>\n",
       "    </tr>\n",
       "    <tr>\n",
       "      <td>4</td>\n",
       "      <td>850</td>\n",
       "      <td>Spain</td>\n",
       "      <td>Female</td>\n",
       "      <td>43</td>\n",
       "      <td>2.0</td>\n",
       "      <td>125510.82</td>\n",
       "      <td>1</td>\n",
       "      <td>1</td>\n",
       "      <td>1</td>\n",
       "      <td>79084.10</td>\n",
       "      <td>0</td>\n",
       "    </tr>\n",
       "    <tr>\n",
       "      <td>...</td>\n",
       "      <td>...</td>\n",
       "      <td>...</td>\n",
       "      <td>...</td>\n",
       "      <td>...</td>\n",
       "      <td>...</td>\n",
       "      <td>...</td>\n",
       "      <td>...</td>\n",
       "      <td>...</td>\n",
       "      <td>...</td>\n",
       "      <td>...</td>\n",
       "      <td>...</td>\n",
       "    </tr>\n",
       "    <tr>\n",
       "      <td>9995</td>\n",
       "      <td>771</td>\n",
       "      <td>France</td>\n",
       "      <td>Male</td>\n",
       "      <td>39</td>\n",
       "      <td>5.0</td>\n",
       "      <td>0.00</td>\n",
       "      <td>2</td>\n",
       "      <td>1</td>\n",
       "      <td>0</td>\n",
       "      <td>96270.64</td>\n",
       "      <td>0</td>\n",
       "    </tr>\n",
       "    <tr>\n",
       "      <td>9996</td>\n",
       "      <td>516</td>\n",
       "      <td>France</td>\n",
       "      <td>Male</td>\n",
       "      <td>35</td>\n",
       "      <td>10.0</td>\n",
       "      <td>57369.61</td>\n",
       "      <td>1</td>\n",
       "      <td>1</td>\n",
       "      <td>1</td>\n",
       "      <td>101699.77</td>\n",
       "      <td>0</td>\n",
       "    </tr>\n",
       "    <tr>\n",
       "      <td>9997</td>\n",
       "      <td>709</td>\n",
       "      <td>France</td>\n",
       "      <td>Female</td>\n",
       "      <td>36</td>\n",
       "      <td>7.0</td>\n",
       "      <td>0.00</td>\n",
       "      <td>1</td>\n",
       "      <td>0</td>\n",
       "      <td>1</td>\n",
       "      <td>42085.58</td>\n",
       "      <td>1</td>\n",
       "    </tr>\n",
       "    <tr>\n",
       "      <td>9998</td>\n",
       "      <td>772</td>\n",
       "      <td>Germany</td>\n",
       "      <td>Male</td>\n",
       "      <td>42</td>\n",
       "      <td>3.0</td>\n",
       "      <td>75075.31</td>\n",
       "      <td>2</td>\n",
       "      <td>1</td>\n",
       "      <td>0</td>\n",
       "      <td>92888.52</td>\n",
       "      <td>1</td>\n",
       "    </tr>\n",
       "    <tr>\n",
       "      <td>9999</td>\n",
       "      <td>792</td>\n",
       "      <td>France</td>\n",
       "      <td>Female</td>\n",
       "      <td>28</td>\n",
       "      <td>-1.0</td>\n",
       "      <td>130142.79</td>\n",
       "      <td>1</td>\n",
       "      <td>1</td>\n",
       "      <td>0</td>\n",
       "      <td>38190.78</td>\n",
       "      <td>0</td>\n",
       "    </tr>\n",
       "  </tbody>\n",
       "</table>\n",
       "<p>10000 rows × 11 columns</p>\n",
       "</div>"
      ],
      "text/plain": [
       "      CreditScore Geography  Gender  Age  Tenure    Balance  NumOfProducts  \\\n",
       "0             619    France  Female   42     2.0       0.00              1   \n",
       "1             608     Spain  Female   41     1.0   83807.86              1   \n",
       "2             502    France  Female   42     8.0  159660.80              3   \n",
       "3             699    France  Female   39     1.0       0.00              2   \n",
       "4             850     Spain  Female   43     2.0  125510.82              1   \n",
       "...           ...       ...     ...  ...     ...        ...            ...   \n",
       "9995          771    France    Male   39     5.0       0.00              2   \n",
       "9996          516    France    Male   35    10.0   57369.61              1   \n",
       "9997          709    France  Female   36     7.0       0.00              1   \n",
       "9998          772   Germany    Male   42     3.0   75075.31              2   \n",
       "9999          792    France  Female   28    -1.0  130142.79              1   \n",
       "\n",
       "      HasCrCard  IsActiveMember  EstimatedSalary  Exited  \n",
       "0             1               1        101348.88       1  \n",
       "1             0               1        112542.58       0  \n",
       "2             1               0        113931.57       1  \n",
       "3             0               0         93826.63       0  \n",
       "4             1               1         79084.10       0  \n",
       "...         ...             ...              ...     ...  \n",
       "9995          1               0         96270.64       0  \n",
       "9996          1               1        101699.77       0  \n",
       "9997          0               1         42085.58       1  \n",
       "9998          1               0         92888.52       1  \n",
       "9999          1               0         38190.78       0  \n",
       "\n",
       "[10000 rows x 11 columns]"
      ]
     },
     "execution_count": 7,
     "metadata": {},
     "output_type": "execute_result"
    }
   ],
   "source": [
    "data = data.drop(['RowNumber'], axis = 1)\n",
    "data = data.drop(['CustomerId'], axis = 1)\n",
    "data = data.drop(['Surname'], axis = 1)\n",
    "data"
   ]
  },
  {
   "cell_type": "markdown",
   "metadata": {},
   "source": [
    "***RowNumber, CustomerId, Surname*** успешно удалены из датасета."
   ]
  },
  {
   "cell_type": "markdown",
   "metadata": {},
   "source": [
    "Далее преобразуем столбцы с категориальным типом данных в числовые. Столбцов с категориальным типом данных у нас два: ***Gender, Geography***. Посмотрим на уникальные значения столбцов ***Gender*** и ***Geography***: "
   ]
  },
  {
   "cell_type": "code",
   "execution_count": 8,
   "metadata": {
    "scrolled": true
   },
   "outputs": [
    {
     "name": "stdout",
     "output_type": "stream",
     "text": [
      "Male      5457\n",
      "Female    4543\n",
      "Name: Gender, dtype: int64\n",
      "\n",
      "France     5014\n",
      "Germany    2509\n",
      "Spain      2477\n",
      "Name: Geography, dtype: int64\n"
     ]
    }
   ],
   "source": [
    "print(data['Gender'].value_counts())\n",
    "print()\n",
    "print(data['Geography'].value_counts())"
   ]
  },
  {
   "cell_type": "markdown",
   "metadata": {},
   "source": [
    "В первом случае по одной из категории можно восстановить вторую, поэтому, чтобы не попасть в dummie - ловушку, оставим в таблице только одну преобразованную категорию.\n",
    "\n",
    "Во втором случае по двум категориям можно восстановить третью, поэтому оставим в таблице только две преобразованные категории."
   ]
  },
  {
   "cell_type": "code",
   "execution_count": 9,
   "metadata": {
    "scrolled": true
   },
   "outputs": [
    {
     "data": {
      "text/html": [
       "<div>\n",
       "<style scoped>\n",
       "    .dataframe tbody tr th:only-of-type {\n",
       "        vertical-align: middle;\n",
       "    }\n",
       "\n",
       "    .dataframe tbody tr th {\n",
       "        vertical-align: top;\n",
       "    }\n",
       "\n",
       "    .dataframe thead th {\n",
       "        text-align: right;\n",
       "    }\n",
       "</style>\n",
       "<table border=\"1\" class=\"dataframe\">\n",
       "  <thead>\n",
       "    <tr style=\"text-align: right;\">\n",
       "      <th></th>\n",
       "      <th>CreditScore</th>\n",
       "      <th>Gender</th>\n",
       "      <th>Age</th>\n",
       "      <th>Tenure</th>\n",
       "      <th>Balance</th>\n",
       "      <th>NumOfProducts</th>\n",
       "      <th>HasCrCard</th>\n",
       "      <th>IsActiveMember</th>\n",
       "      <th>EstimatedSalary</th>\n",
       "      <th>Exited</th>\n",
       "      <th>Germany</th>\n",
       "      <th>Spain</th>\n",
       "    </tr>\n",
       "  </thead>\n",
       "  <tbody>\n",
       "    <tr>\n",
       "      <td>0</td>\n",
       "      <td>619</td>\n",
       "      <td>1</td>\n",
       "      <td>42</td>\n",
       "      <td>2.0</td>\n",
       "      <td>0.00</td>\n",
       "      <td>1</td>\n",
       "      <td>1</td>\n",
       "      <td>1</td>\n",
       "      <td>101348.88</td>\n",
       "      <td>1</td>\n",
       "      <td>0</td>\n",
       "      <td>0</td>\n",
       "    </tr>\n",
       "    <tr>\n",
       "      <td>1</td>\n",
       "      <td>608</td>\n",
       "      <td>1</td>\n",
       "      <td>41</td>\n",
       "      <td>1.0</td>\n",
       "      <td>83807.86</td>\n",
       "      <td>1</td>\n",
       "      <td>0</td>\n",
       "      <td>1</td>\n",
       "      <td>112542.58</td>\n",
       "      <td>0</td>\n",
       "      <td>0</td>\n",
       "      <td>1</td>\n",
       "    </tr>\n",
       "    <tr>\n",
       "      <td>2</td>\n",
       "      <td>502</td>\n",
       "      <td>1</td>\n",
       "      <td>42</td>\n",
       "      <td>8.0</td>\n",
       "      <td>159660.80</td>\n",
       "      <td>3</td>\n",
       "      <td>1</td>\n",
       "      <td>0</td>\n",
       "      <td>113931.57</td>\n",
       "      <td>1</td>\n",
       "      <td>0</td>\n",
       "      <td>0</td>\n",
       "    </tr>\n",
       "    <tr>\n",
       "      <td>3</td>\n",
       "      <td>699</td>\n",
       "      <td>1</td>\n",
       "      <td>39</td>\n",
       "      <td>1.0</td>\n",
       "      <td>0.00</td>\n",
       "      <td>2</td>\n",
       "      <td>0</td>\n",
       "      <td>0</td>\n",
       "      <td>93826.63</td>\n",
       "      <td>0</td>\n",
       "      <td>0</td>\n",
       "      <td>0</td>\n",
       "    </tr>\n",
       "    <tr>\n",
       "      <td>4</td>\n",
       "      <td>850</td>\n",
       "      <td>1</td>\n",
       "      <td>43</td>\n",
       "      <td>2.0</td>\n",
       "      <td>125510.82</td>\n",
       "      <td>1</td>\n",
       "      <td>1</td>\n",
       "      <td>1</td>\n",
       "      <td>79084.10</td>\n",
       "      <td>0</td>\n",
       "      <td>0</td>\n",
       "      <td>1</td>\n",
       "    </tr>\n",
       "  </tbody>\n",
       "</table>\n",
       "</div>"
      ],
      "text/plain": [
       "   CreditScore  Gender  Age  Tenure    Balance  NumOfProducts  HasCrCard  \\\n",
       "0          619       1   42     2.0       0.00              1          1   \n",
       "1          608       1   41     1.0   83807.86              1          0   \n",
       "2          502       1   42     8.0  159660.80              3          1   \n",
       "3          699       1   39     1.0       0.00              2          0   \n",
       "4          850       1   43     2.0  125510.82              1          1   \n",
       "\n",
       "   IsActiveMember  EstimatedSalary  Exited  Germany  Spain  \n",
       "0               1        101348.88       1        0      0  \n",
       "1               1        112542.58       0        0      1  \n",
       "2               0        113931.57       1        0      0  \n",
       "3               0         93826.63       0        0      0  \n",
       "4               1         79084.10       0        0      1  "
      ]
     },
     "execution_count": 9,
     "metadata": {},
     "output_type": "execute_result"
    }
   ],
   "source": [
    "data['Gender'] = pd.get_dummies(data['Gender'])\n",
    "data[['Germany','Spain']] = pd.get_dummies(data['Geography'],drop_first=True)\n",
    "data = data.drop(['Geography'], axis=1)\n",
    "data.head()"
   ]
  },
  {
   "cell_type": "markdown",
   "metadata": {},
   "source": [
    "Категории ***Gender*** и ***Geography*** успешно преобразованы в числа."
   ]
  },
  {
   "cell_type": "markdown",
   "metadata": {},
   "source": [
    "###### Вывод\n",
    "\n",
    "Пропуски данных в столбце ***Tenure*** обработаны с заменой на ***-1*** для того, чтобы можно было изспользовать алгоритмы обучения, не работающие с пропусками.\n",
    "\n",
    "***RowNumber, CustomerId, Surname*** удалены из датасета в связи с их весьма сомнительным влиянием на факт ухода клиентов из банка.\n",
    "\n",
    "Категориальные значения столбцов ***Gender*** и ***Geography*** заменены на числовые методом прямого кодирования."
   ]
  },
  {
   "cell_type": "markdown",
   "metadata": {},
   "source": [
    "### Разделение данных на выборки"
   ]
  },
  {
   "cell_type": "markdown",
   "metadata": {},
   "source": [
    "В датасете столбец ***Exited*** содержит информацию о факте ухода клиента из банка и состоит из двух классов: ***1*** и ***0***, соответствующих значениям ***Да*** и ***Нет***. Выделим данный столбец в целевой признак: задачей обученной модели будет предсказать классы, основываясь на других признаках. \n",
    "\n",
    "Разделим признаки:"
   ]
  },
  {
   "cell_type": "code",
   "execution_count": 10,
   "metadata": {},
   "outputs": [],
   "source": [
    "features = data.drop(['Exited'], axis = 1)\n",
    "target = data['Exited']"
   ]
  },
  {
   "cell_type": "markdown",
   "metadata": {},
   "source": [
    "Проверим, насколько сбалансированы классы целевого признака:"
   ]
  },
  {
   "cell_type": "code",
   "execution_count": 11,
   "metadata": {},
   "outputs": [
    {
     "data": {
      "text/plain": [
       "3.9091801669121256"
      ]
     },
     "execution_count": 11,
     "metadata": {},
     "output_type": "execute_result"
    }
   ],
   "source": [
    "target.value_counts()[0]/target.value_counts()[1]"
   ]
  },
  {
   "cell_type": "markdown",
   "metadata": {},
   "source": [
    "Наблюдается дисбалланс классов: класса ***0*** в ***3.91 раз*** больше, чем класса ***1***.\n",
    "\n",
    "Вернемся к проблеме дисбаланса классов позже."
   ]
  },
  {
   "cell_type": "markdown",
   "metadata": {},
   "source": [
    "Для контроля переобучения и правильной оценки готовой модели необходимо разделить данные на обучающую, валидационную и тестовую выборки.\n",
    "\n",
    "Так как в нашей задаче отсутствует подготовленный заранее тестовый набор данных, разобъем исходные данные в следующем соотношении:\n",
    "\n",
    " - Обучающая выборка: 60%;\n",
    " - Валидационная выборка: 20%;\n",
    " - Тестовая выборка: 20%."
   ]
  },
  {
   "cell_type": "code",
   "execution_count": 12,
   "metadata": {
    "scrolled": true
   },
   "outputs": [
    {
     "name": "stdout",
     "output_type": "stream",
     "text": [
      "Размер обучающей таблицы признаков: (6000, 11)\n",
      "Размер обучающей таблицы с целевым признаком: (6000,)\n",
      "Размер валидационной таблицы признаков: (2000, 11)\n",
      "Размер валидационной таблицы с целевым признаком: (2000,)\n",
      "Размер тестовой таблицы признаков: (2000, 11)\n",
      "Размер тестовой таблицы с целевым признаком: (2000,)\n"
     ]
    }
   ],
   "source": [
    "features_train,features_valid,target_train,target_valid = train_test_split(\n",
    "    features,\n",
    "    target,\n",
    "    test_size = 0.4,\n",
    "    stratify = target,\n",
    "    random_state = 12345)\n",
    "\n",
    "features_valid,features_test,target_valid,target_test = train_test_split(\n",
    "    features_valid,\n",
    "    target_valid,\n",
    "    test_size = 0.5,\n",
    "    stratify = target_valid,\n",
    "    random_state = 12345)\n",
    "\n",
    "print('Размер обучающей таблицы признаков:',features_train.shape)\n",
    "print('Размер обучающей таблицы с целевым признаком:',target_train.shape)\n",
    "print('Размер валидационной таблицы признаков:',features_valid.shape)\n",
    "print('Размер валидационной таблицы с целевым признаком:',target_valid.shape)\n",
    "print('Размер тестовой таблицы признаков:',features_test.shape)\n",
    "print('Размер тестовой таблицы с целевым признаком:',target_test.shape)"
   ]
  },
  {
   "cell_type": "markdown",
   "metadata": {},
   "source": [
    "###### Вывод\n",
    "\n",
    "Размеры выборок соответствуют соотношению:\n",
    " - Обучающая выборка: 60%;\n",
    " - Валидационная выборка: 20%;\n",
    " - Тестовая выборка: 20%.\n",
    " \n",
    "В выборках наблюдается дисбаланс классов. Объектов класса ***0*** в ***3.91*** раз больше, чем объектов класса ***1***. При разделении данных соотношение классов сохранено."
   ]
  },
  {
   "cell_type": "markdown",
   "metadata": {},
   "source": [
    "## Исследование задачи"
   ]
  },
  {
   "cell_type": "markdown",
   "metadata": {},
   "source": [
    "### Масштабирование признаков"
   ]
  },
  {
   "cell_type": "markdown",
   "metadata": {},
   "source": [
    "При разном масштабе признаков алгоритмы обучения могут сильнее выделять те или иные признаки. Для того, чтобы алгоритм воспринимал значимость каждого из признаков одинаково, необходимо их стандартизировать. Часть признаков в датасете - бинарные. Для них нецелесообразно проводить стандартизацию. Поэтому выделим небинарные признаки, и проведем их стандартизацию."
   ]
  },
  {
   "cell_type": "code",
   "execution_count": 13,
   "metadata": {},
   "outputs": [],
   "source": [
    "not_binary = [\n",
    "    'CreditScore',\n",
    "    'Age',\n",
    "    'Tenure',\n",
    "    'Balance',\n",
    "    'NumOfProducts',\n",
    "    'EstimatedSalary']"
   ]
  },
  {
   "cell_type": "code",
   "execution_count": 14,
   "metadata": {
    "scrolled": false
   },
   "outputs": [
    {
     "data": {
      "text/html": [
       "<div>\n",
       "<style scoped>\n",
       "    .dataframe tbody tr th:only-of-type {\n",
       "        vertical-align: middle;\n",
       "    }\n",
       "\n",
       "    .dataframe tbody tr th {\n",
       "        vertical-align: top;\n",
       "    }\n",
       "\n",
       "    .dataframe thead th {\n",
       "        text-align: right;\n",
       "    }\n",
       "</style>\n",
       "<table border=\"1\" class=\"dataframe\">\n",
       "  <thead>\n",
       "    <tr style=\"text-align: right;\">\n",
       "      <th></th>\n",
       "      <th>CreditScore</th>\n",
       "      <th>Gender</th>\n",
       "      <th>Age</th>\n",
       "      <th>Tenure</th>\n",
       "      <th>Balance</th>\n",
       "      <th>NumOfProducts</th>\n",
       "      <th>HasCrCard</th>\n",
       "      <th>IsActiveMember</th>\n",
       "      <th>EstimatedSalary</th>\n",
       "      <th>Germany</th>\n",
       "      <th>Spain</th>\n",
       "    </tr>\n",
       "  </thead>\n",
       "  <tbody>\n",
       "    <tr>\n",
       "      <td>2837</td>\n",
       "      <td>-1.040434</td>\n",
       "      <td>1</td>\n",
       "      <td>0.953312</td>\n",
       "      <td>0.474986</td>\n",
       "      <td>0.774657</td>\n",
       "      <td>-0.914708</td>\n",
       "      <td>0</td>\n",
       "      <td>1</td>\n",
       "      <td>-0.119110</td>\n",
       "      <td>1</td>\n",
       "      <td>0</td>\n",
       "    </tr>\n",
       "    <tr>\n",
       "      <td>9925</td>\n",
       "      <td>0.454006</td>\n",
       "      <td>1</td>\n",
       "      <td>-0.095244</td>\n",
       "      <td>-1.675197</td>\n",
       "      <td>1.910540</td>\n",
       "      <td>-0.914708</td>\n",
       "      <td>1</td>\n",
       "      <td>1</td>\n",
       "      <td>-0.258658</td>\n",
       "      <td>0</td>\n",
       "      <td>0</td>\n",
       "    </tr>\n",
       "    <tr>\n",
       "      <td>8746</td>\n",
       "      <td>0.103585</td>\n",
       "      <td>0</td>\n",
       "      <td>-0.476537</td>\n",
       "      <td>1.089324</td>\n",
       "      <td>0.481608</td>\n",
       "      <td>0.820981</td>\n",
       "      <td>0</td>\n",
       "      <td>1</td>\n",
       "      <td>1.422836</td>\n",
       "      <td>0</td>\n",
       "      <td>0</td>\n",
       "    </tr>\n",
       "    <tr>\n",
       "      <td>660</td>\n",
       "      <td>-0.184996</td>\n",
       "      <td>1</td>\n",
       "      <td>0.190726</td>\n",
       "      <td>-1.675197</td>\n",
       "      <td>0.088439</td>\n",
       "      <td>-0.914708</td>\n",
       "      <td>1</td>\n",
       "      <td>1</td>\n",
       "      <td>-1.160427</td>\n",
       "      <td>1</td>\n",
       "      <td>0</td>\n",
       "    </tr>\n",
       "    <tr>\n",
       "      <td>3610</td>\n",
       "      <td>-0.720933</td>\n",
       "      <td>1</td>\n",
       "      <td>1.620574</td>\n",
       "      <td>-1.060859</td>\n",
       "      <td>0.879129</td>\n",
       "      <td>-0.914708</td>\n",
       "      <td>1</td>\n",
       "      <td>0</td>\n",
       "      <td>0.113236</td>\n",
       "      <td>0</td>\n",
       "      <td>0</td>\n",
       "    </tr>\n",
       "  </tbody>\n",
       "</table>\n",
       "</div>"
      ],
      "text/plain": [
       "      CreditScore  Gender       Age    Tenure   Balance  NumOfProducts  \\\n",
       "2837    -1.040434       1  0.953312  0.474986  0.774657      -0.914708   \n",
       "9925     0.454006       1 -0.095244 -1.675197  1.910540      -0.914708   \n",
       "8746     0.103585       0 -0.476537  1.089324  0.481608       0.820981   \n",
       "660     -0.184996       1  0.190726 -1.675197  0.088439      -0.914708   \n",
       "3610    -0.720933       1  1.620574 -1.060859  0.879129      -0.914708   \n",
       "\n",
       "      HasCrCard  IsActiveMember  EstimatedSalary  Germany  Spain  \n",
       "2837          0               1        -0.119110        1      0  \n",
       "9925          1               1        -0.258658        0      0  \n",
       "8746          0               1         1.422836        0      0  \n",
       "660           1               1        -1.160427        1      0  \n",
       "3610          1               0         0.113236        0      0  "
      ]
     },
     "metadata": {},
     "output_type": "display_data"
    },
    {
     "data": {
      "text/html": [
       "<div>\n",
       "<style scoped>\n",
       "    .dataframe tbody tr th:only-of-type {\n",
       "        vertical-align: middle;\n",
       "    }\n",
       "\n",
       "    .dataframe tbody tr th {\n",
       "        vertical-align: top;\n",
       "    }\n",
       "\n",
       "    .dataframe thead th {\n",
       "        text-align: right;\n",
       "    }\n",
       "</style>\n",
       "<table border=\"1\" class=\"dataframe\">\n",
       "  <thead>\n",
       "    <tr style=\"text-align: right;\">\n",
       "      <th></th>\n",
       "      <th>CreditScore</th>\n",
       "      <th>Gender</th>\n",
       "      <th>Age</th>\n",
       "      <th>Tenure</th>\n",
       "      <th>Balance</th>\n",
       "      <th>NumOfProducts</th>\n",
       "      <th>HasCrCard</th>\n",
       "      <th>IsActiveMember</th>\n",
       "      <th>EstimatedSalary</th>\n",
       "      <th>Germany</th>\n",
       "      <th>Spain</th>\n",
       "    </tr>\n",
       "  </thead>\n",
       "  <tbody>\n",
       "    <tr>\n",
       "      <td>6612</td>\n",
       "      <td>-1.524838</td>\n",
       "      <td>1</td>\n",
       "      <td>2.383160</td>\n",
       "      <td>-0.446521</td>\n",
       "      <td>1.011655</td>\n",
       "      <td>-0.914708</td>\n",
       "      <td>0</td>\n",
       "      <td>1</td>\n",
       "      <td>0.010275</td>\n",
       "      <td>0</td>\n",
       "      <td>0</td>\n",
       "    </tr>\n",
       "    <tr>\n",
       "      <td>519</td>\n",
       "      <td>0.587990</td>\n",
       "      <td>0</td>\n",
       "      <td>1.811221</td>\n",
       "      <td>0.474986</td>\n",
       "      <td>0.213192</td>\n",
       "      <td>-0.914708</td>\n",
       "      <td>0</td>\n",
       "      <td>1</td>\n",
       "      <td>0.453089</td>\n",
       "      <td>0</td>\n",
       "      <td>0</td>\n",
       "    </tr>\n",
       "    <tr>\n",
       "      <td>1609</td>\n",
       "      <td>-0.318980</td>\n",
       "      <td>1</td>\n",
       "      <td>-0.381213</td>\n",
       "      <td>1.089324</td>\n",
       "      <td>0.893896</td>\n",
       "      <td>-0.914708</td>\n",
       "      <td>1</td>\n",
       "      <td>0</td>\n",
       "      <td>-0.603508</td>\n",
       "      <td>0</td>\n",
       "      <td>0</td>\n",
       "    </tr>\n",
       "    <tr>\n",
       "      <td>3475</td>\n",
       "      <td>1.226991</td>\n",
       "      <td>0</td>\n",
       "      <td>-0.762506</td>\n",
       "      <td>-0.139352</td>\n",
       "      <td>-0.240363</td>\n",
       "      <td>0.820981</td>\n",
       "      <td>1</td>\n",
       "      <td>1</td>\n",
       "      <td>-1.621460</td>\n",
       "      <td>0</td>\n",
       "      <td>0</td>\n",
       "    </tr>\n",
       "    <tr>\n",
       "      <td>2707</td>\n",
       "      <td>-0.133464</td>\n",
       "      <td>1</td>\n",
       "      <td>-0.095244</td>\n",
       "      <td>-0.446521</td>\n",
       "      <td>0.447305</td>\n",
       "      <td>-0.914708</td>\n",
       "      <td>0</td>\n",
       "      <td>0</td>\n",
       "      <td>0.338574</td>\n",
       "      <td>0</td>\n",
       "      <td>0</td>\n",
       "    </tr>\n",
       "  </tbody>\n",
       "</table>\n",
       "</div>"
      ],
      "text/plain": [
       "      CreditScore  Gender       Age    Tenure   Balance  NumOfProducts  \\\n",
       "6612    -1.524838       1  2.383160 -0.446521  1.011655      -0.914708   \n",
       "519      0.587990       0  1.811221  0.474986  0.213192      -0.914708   \n",
       "1609    -0.318980       1 -0.381213  1.089324  0.893896      -0.914708   \n",
       "3475     1.226991       0 -0.762506 -0.139352 -0.240363       0.820981   \n",
       "2707    -0.133464       1 -0.095244 -0.446521  0.447305      -0.914708   \n",
       "\n",
       "      HasCrCard  IsActiveMember  EstimatedSalary  Germany  Spain  \n",
       "6612          0               1         0.010275        0      0  \n",
       "519           0               1         0.453089        0      0  \n",
       "1609          1               0        -0.603508        0      0  \n",
       "3475          1               1        -1.621460        0      0  \n",
       "2707          0               0         0.338574        0      0  "
      ]
     },
     "metadata": {},
     "output_type": "display_data"
    },
    {
     "data": {
      "text/html": [
       "<div>\n",
       "<style scoped>\n",
       "    .dataframe tbody tr th:only-of-type {\n",
       "        vertical-align: middle;\n",
       "    }\n",
       "\n",
       "    .dataframe tbody tr th {\n",
       "        vertical-align: top;\n",
       "    }\n",
       "\n",
       "    .dataframe thead th {\n",
       "        text-align: right;\n",
       "    }\n",
       "</style>\n",
       "<table border=\"1\" class=\"dataframe\">\n",
       "  <thead>\n",
       "    <tr style=\"text-align: right;\">\n",
       "      <th></th>\n",
       "      <th>CreditScore</th>\n",
       "      <th>Gender</th>\n",
       "      <th>Age</th>\n",
       "      <th>Tenure</th>\n",
       "      <th>Balance</th>\n",
       "      <th>NumOfProducts</th>\n",
       "      <th>HasCrCard</th>\n",
       "      <th>IsActiveMember</th>\n",
       "      <th>EstimatedSalary</th>\n",
       "      <th>Germany</th>\n",
       "      <th>Spain</th>\n",
       "    </tr>\n",
       "  </thead>\n",
       "  <tbody>\n",
       "    <tr>\n",
       "      <td>657</td>\n",
       "      <td>-0.504497</td>\n",
       "      <td>1</td>\n",
       "      <td>1.429928</td>\n",
       "      <td>-1.060859</td>\n",
       "      <td>0.873883</td>\n",
       "      <td>0.820981</td>\n",
       "      <td>1</td>\n",
       "      <td>1</td>\n",
       "      <td>1.725255</td>\n",
       "      <td>1</td>\n",
       "      <td>0</td>\n",
       "    </tr>\n",
       "    <tr>\n",
       "      <td>2083</td>\n",
       "      <td>-1.195031</td>\n",
       "      <td>0</td>\n",
       "      <td>-1.429769</td>\n",
       "      <td>-1.060859</td>\n",
       "      <td>-1.219673</td>\n",
       "      <td>-0.914708</td>\n",
       "      <td>1</td>\n",
       "      <td>1</td>\n",
       "      <td>1.203665</td>\n",
       "      <td>0</td>\n",
       "      <td>0</td>\n",
       "    </tr>\n",
       "    <tr>\n",
       "      <td>3234</td>\n",
       "      <td>-1.267176</td>\n",
       "      <td>0</td>\n",
       "      <td>0.762665</td>\n",
       "      <td>-1.060859</td>\n",
       "      <td>-1.219673</td>\n",
       "      <td>-0.914708</td>\n",
       "      <td>1</td>\n",
       "      <td>0</td>\n",
       "      <td>-1.374743</td>\n",
       "      <td>0</td>\n",
       "      <td>0</td>\n",
       "    </tr>\n",
       "    <tr>\n",
       "      <td>1551</td>\n",
       "      <td>0.825039</td>\n",
       "      <td>1</td>\n",
       "      <td>1.239281</td>\n",
       "      <td>0.782155</td>\n",
       "      <td>-1.219673</td>\n",
       "      <td>0.820981</td>\n",
       "      <td>0</td>\n",
       "      <td>1</td>\n",
       "      <td>0.382306</td>\n",
       "      <td>0</td>\n",
       "      <td>1</td>\n",
       "    </tr>\n",
       "    <tr>\n",
       "      <td>2344</td>\n",
       "      <td>0.660135</td>\n",
       "      <td>1</td>\n",
       "      <td>0.953312</td>\n",
       "      <td>-0.139352</td>\n",
       "      <td>0.267087</td>\n",
       "      <td>-0.914708</td>\n",
       "      <td>1</td>\n",
       "      <td>0</td>\n",
       "      <td>-1.613578</td>\n",
       "      <td>1</td>\n",
       "      <td>0</td>\n",
       "    </tr>\n",
       "  </tbody>\n",
       "</table>\n",
       "</div>"
      ],
      "text/plain": [
       "      CreditScore  Gender       Age    Tenure   Balance  NumOfProducts  \\\n",
       "657     -0.504497       1  1.429928 -1.060859  0.873883       0.820981   \n",
       "2083    -1.195031       0 -1.429769 -1.060859 -1.219673      -0.914708   \n",
       "3234    -1.267176       0  0.762665 -1.060859 -1.219673      -0.914708   \n",
       "1551     0.825039       1  1.239281  0.782155 -1.219673       0.820981   \n",
       "2344     0.660135       1  0.953312 -0.139352  0.267087      -0.914708   \n",
       "\n",
       "      HasCrCard  IsActiveMember  EstimatedSalary  Germany  Spain  \n",
       "657           1               1         1.725255        1      0  \n",
       "2083          1               1         1.203665        0      0  \n",
       "3234          1               0        -1.374743        0      0  \n",
       "1551          0               1         0.382306        0      1  \n",
       "2344          1               0        -1.613578        1      0  "
      ]
     },
     "metadata": {},
     "output_type": "display_data"
    }
   ],
   "source": [
    "scaler = StandardScaler()\n",
    "scaler.fit(features_train[not_binary])\n",
    "\n",
    "pd.options.mode.chained_assignment = None\n",
    "\n",
    "features_train[not_binary] = scaler.transform(features_train[not_binary])\n",
    "features_valid[not_binary] = scaler.transform(features_valid[not_binary])\n",
    "features_test[not_binary] = scaler.transform(features_test[not_binary])\n",
    "\n",
    "display(pd.DataFrame(features_train, columns = features.columns).head())\n",
    "display(pd.DataFrame(features_valid, columns = features.columns).head())\n",
    "display(pd.DataFrame(features_test, columns = features.columns).head())"
   ]
  },
  {
   "cell_type": "markdown",
   "metadata": {},
   "source": [
    "###### Вывод\n",
    "\n",
    "Признаки успешно масштабированы."
   ]
  },
  {
   "cell_type": "markdown",
   "metadata": {},
   "source": [
    "### Пробное обучение моделей"
   ]
  },
  {
   "cell_type": "markdown",
   "metadata": {},
   "source": [
    "Попробуем обучить модели без учета дисбаланса классов."
   ]
  },
  {
   "cell_type": "markdown",
   "metadata": {},
   "source": [
    "Напишем функцию для подбора и вывода на экран наилучших гиперпараметров для получения наивысшей ***F1-меры***  с помощью инструмента ***GridSearchCV*** :"
   ]
  },
  {
   "cell_type": "code",
   "execution_count": 15,
   "metadata": {},
   "outputs": [],
   "source": [
    "def get_best_params(\n",
    "    model,\n",
    "    features_train,\n",
    "    target_train,\n",
    "    max_depth,\n",
    "    n_estimators,\n",
    "    class_weight):\n",
    "    \n",
    "    if model == DecisionTreeClassifier:\n",
    "        params = {'max_depth':max_depth,\n",
    "                  'random_state': [12345],\n",
    "                  'class_weight': [class_weight]\n",
    "                 }\n",
    "    else:\n",
    "        params = {'max_depth':max_depth,\n",
    "                  'n_estimators': n_estimators,\n",
    "                  'random_state': [12345],\n",
    "                  'class_weight': [class_weight]\n",
    "                 }\n",
    "        \n",
    "    model = model()\n",
    "    \n",
    "    grid = GridSearchCV(\n",
    "        model,\n",
    "        params,\n",
    "        scoring = make_scorer(f1_score)\n",
    "    )\n",
    "    \n",
    "    grid.fit(features_train,target_train)\n",
    "    \n",
    "    greed_result = pd.DataFrame(\n",
    "        grid.cv_results_).sort_values(\n",
    "        by = 'rank_test_score').reset_index(\n",
    "        drop = True)\n",
    "\n",
    "    display(greed_result[greed_result['rank_test_score']==1])"
   ]
  },
  {
   "cell_type": "markdown",
   "metadata": {},
   "source": [
    "Напишем функцию для обучения и исследования моделей:"
   ]
  },
  {
   "cell_type": "code",
   "execution_count": 16,
   "metadata": {},
   "outputs": [],
   "source": [
    "def explore_model(\n",
    "    model,\n",
    "    features_train,\n",
    "    target_train,\n",
    "    max_depth,\n",
    "    n_estimators,\n",
    "    random_state,\n",
    "    class_weight\n",
    "):\n",
    "        \n",
    "    if model == DecisionTreeClassifier:\n",
    "        \n",
    "        clf = model(\n",
    "            max_depth = max_depth, \n",
    "            class_weight = class_weight\n",
    "        )\n",
    "        \n",
    "    if model == RandomForestClassifier:\n",
    "        \n",
    "        clf = model(\n",
    "            max_depth = max_depth,\n",
    "            n_estimators = n_estimators,\n",
    "            class_weight = class_weight\n",
    "        )\n",
    "        \n",
    "    else:\n",
    "        clf = model(random_state = 12345, class_weight = class_weight)\n",
    "        \n",
    "    clf.fit(features_train, target_train)\n",
    "        \n",
    "    predictions_train = clf.predict(features_train)\n",
    "    predictions_valid = clf.predict(features_valid)\n",
    "    \n",
    "    probabilities_one_train = clf.predict_proba(features_train)[:, 1]\n",
    "    probabilities_one_valid = clf.predict_proba(features_valid)[:, 1]\n",
    "    \n",
    "    print('Accuracy на обучающей выборке:',\n",
    "          accuracy_score(target_train,predictions_train).round(2))\n",
    "    print('Accuracy на валидационной выборке:',\n",
    "          accuracy_score(target_valid,predictions_valid).round(2))\n",
    "    print('F1 на обучающей выборке:',\n",
    "          f1_score(target_train,predictions_train).round(2))\n",
    "    print('F1 на валидационной выборке:',\n",
    "          f1_score(target_valid,predictions_valid).round(2))\n",
    "    print('AUC_ROC на обучающей выборке:',\n",
    "          roc_auc_score(target_train,probabilities_one_train).round(2))\n",
    "    print('AUC_ROC на валидационной выборке:',\n",
    "          roc_auc_score(target_valid,probabilities_one_valid).round(2))"
   ]
  },
  {
   "cell_type": "markdown",
   "metadata": {},
   "source": [
    "#### Дерево решений"
   ]
  },
  {
   "cell_type": "markdown",
   "metadata": {},
   "source": [
    "Выведем на экран наилучшие гиперпараметры для модели ***Дерево решений***:"
   ]
  },
  {
   "cell_type": "code",
   "execution_count": 17,
   "metadata": {
    "scrolled": true
   },
   "outputs": [
    {
     "data": {
      "text/html": [
       "<div>\n",
       "<style scoped>\n",
       "    .dataframe tbody tr th:only-of-type {\n",
       "        vertical-align: middle;\n",
       "    }\n",
       "\n",
       "    .dataframe tbody tr th {\n",
       "        vertical-align: top;\n",
       "    }\n",
       "\n",
       "    .dataframe thead th {\n",
       "        text-align: right;\n",
       "    }\n",
       "</style>\n",
       "<table border=\"1\" class=\"dataframe\">\n",
       "  <thead>\n",
       "    <tr style=\"text-align: right;\">\n",
       "      <th></th>\n",
       "      <th>mean_fit_time</th>\n",
       "      <th>std_fit_time</th>\n",
       "      <th>mean_score_time</th>\n",
       "      <th>std_score_time</th>\n",
       "      <th>param_class_weight</th>\n",
       "      <th>param_max_depth</th>\n",
       "      <th>param_random_state</th>\n",
       "      <th>params</th>\n",
       "      <th>split0_test_score</th>\n",
       "      <th>split1_test_score</th>\n",
       "      <th>split2_test_score</th>\n",
       "      <th>split3_test_score</th>\n",
       "      <th>split4_test_score</th>\n",
       "      <th>mean_test_score</th>\n",
       "      <th>std_test_score</th>\n",
       "      <th>rank_test_score</th>\n",
       "    </tr>\n",
       "  </thead>\n",
       "  <tbody>\n",
       "    <tr>\n",
       "      <td>0</td>\n",
       "      <td>0.013378</td>\n",
       "      <td>0.000147</td>\n",
       "      <td>0.002579</td>\n",
       "      <td>0.000093</td>\n",
       "      <td>None</td>\n",
       "      <td>7</td>\n",
       "      <td>12345</td>\n",
       "      <td>{'class_weight': None, 'max_depth': 7, 'random...</td>\n",
       "      <td>0.586207</td>\n",
       "      <td>0.530184</td>\n",
       "      <td>0.570732</td>\n",
       "      <td>0.574209</td>\n",
       "      <td>0.497326</td>\n",
       "      <td>0.551732</td>\n",
       "      <td>0.033103</td>\n",
       "      <td>1</td>\n",
       "    </tr>\n",
       "  </tbody>\n",
       "</table>\n",
       "</div>"
      ],
      "text/plain": [
       "   mean_fit_time  std_fit_time  mean_score_time  std_score_time  \\\n",
       "0       0.013378      0.000147         0.002579        0.000093   \n",
       "\n",
       "  param_class_weight param_max_depth param_random_state  \\\n",
       "0               None               7              12345   \n",
       "\n",
       "                                              params  split0_test_score  \\\n",
       "0  {'class_weight': None, 'max_depth': 7, 'random...           0.586207   \n",
       "\n",
       "   split1_test_score  split2_test_score  split3_test_score  split4_test_score  \\\n",
       "0           0.530184           0.570732           0.574209           0.497326   \n",
       "\n",
       "   mean_test_score  std_test_score  rank_test_score  \n",
       "0         0.551732        0.033103                1  "
      ]
     },
     "metadata": {},
     "output_type": "display_data"
    }
   ],
   "source": [
    "get_best_params(\n",
    "    DecisionTreeClassifier,\n",
    "    features_train,\n",
    "    target_train,\n",
    "    range(1,51,1),\n",
    "    [1],\n",
    "    None\n",
    ")"
   ]
  },
  {
   "cell_type": "markdown",
   "metadata": {},
   "source": [
    "Наилучший результат получен при максимальной глубине дерева = ***7***.\n",
    "\n",
    "Обучим модель ***Дерево решений*** применив подобранные гиперпараметры и выведем на экран метрики качества модели:"
   ]
  },
  {
   "cell_type": "code",
   "execution_count": 18,
   "metadata": {
    "scrolled": true
   },
   "outputs": [
    {
     "name": "stdout",
     "output_type": "stream",
     "text": [
      "Accuracy на обучающей выборке: 1.0\n",
      "Accuracy на валидационной выборке: 0.8\n",
      "F1 на обучающей выборке: 1.0\n",
      "F1 на валидационной выборке: 0.52\n",
      "AUC_ROC на обучающей выборке: 1.0\n",
      "AUC_ROC на валидационной выборке: 0.7\n"
     ]
    }
   ],
   "source": [
    "explore_model(\n",
    "    DecisionTreeClassifier,\n",
    "    features_train,\n",
    "    target_train,\n",
    "    7,\n",
    "    None,\n",
    "    12345,\n",
    "    None\n",
    ")"
   ]
  },
  {
   "cell_type": "markdown",
   "metadata": {},
   "source": [
    "###### Вывод\n",
    "\n",
    "Обучив модель ***Дерево решений*** без учета дисбаланса, были получены следующие метрики:\n",
    "\n",
    "- ***Accuracy*** на ***обучающей*** выборке: ***1.0***\n",
    "- ***Accuracy*** на ***валидационной*** выборке:***0.80***\n",
    "\n",
    "Это говорит о том, что модель переобучена. Несмотря на неплохую правильность предсказаний классов на валидационной выборке, модель, вероятно, просто \"зазубрила\" ответы, что может быть чревато при дальнейшем ее использовании. \n",
    "\n",
    "- ***F1*** на ***обучающей*** выборке: ***1.0***\n",
    "- ***F1*** на ***валидационной*** выборке: ***0.52***\n",
    "\n",
    "Значения ***F1-меры***, полученные на тестовой и валидационной выборках, подтверждают наше предположение о переобучении модели и указывают на то, что положительный класс недостаточно полно и точно прогнозируется моделью на тестовой выборке относительно обучающей. \n",
    "\n",
    "- ***AUC_ROC*** на обучающей выборке: ***1.0***\n",
    "- ***AUC_ROC*** на валидационной выборке: ***0.70***\n",
    "\n",
    "Мера подтверждает наше предположение о том, что в предсказании классов модель отдает предпочтение превалирующему классу. Несмотря на то, что значение меры, равное ***0,70***, полученное на валидационной выборке, говорит о том, что модель значительно лучше случайной, но до идеальной ей еще далеко.\n",
    "\n",
    "В целом, понятно, что вероятнее всего дисбаланс классов не позволяет получить модель качества, достаточного для успешного выполнения задачи проекта."
   ]
  },
  {
   "cell_type": "markdown",
   "metadata": {},
   "source": [
    "#### Случайный лес"
   ]
  },
  {
   "cell_type": "markdown",
   "metadata": {},
   "source": [
    "Аналогичным способом подберем наилучшие гиперпараметры для модели ***Случайный лес***:"
   ]
  },
  {
   "cell_type": "code",
   "execution_count": 19,
   "metadata": {
    "scrolled": true
   },
   "outputs": [
    {
     "data": {
      "text/html": [
       "<div>\n",
       "<style scoped>\n",
       "    .dataframe tbody tr th:only-of-type {\n",
       "        vertical-align: middle;\n",
       "    }\n",
       "\n",
       "    .dataframe tbody tr th {\n",
       "        vertical-align: top;\n",
       "    }\n",
       "\n",
       "    .dataframe thead th {\n",
       "        text-align: right;\n",
       "    }\n",
       "</style>\n",
       "<table border=\"1\" class=\"dataframe\">\n",
       "  <thead>\n",
       "    <tr style=\"text-align: right;\">\n",
       "      <th></th>\n",
       "      <th>mean_fit_time</th>\n",
       "      <th>std_fit_time</th>\n",
       "      <th>mean_score_time</th>\n",
       "      <th>std_score_time</th>\n",
       "      <th>param_class_weight</th>\n",
       "      <th>param_max_depth</th>\n",
       "      <th>param_n_estimators</th>\n",
       "      <th>param_random_state</th>\n",
       "      <th>params</th>\n",
       "      <th>split0_test_score</th>\n",
       "      <th>split1_test_score</th>\n",
       "      <th>split2_test_score</th>\n",
       "      <th>split3_test_score</th>\n",
       "      <th>split4_test_score</th>\n",
       "      <th>mean_test_score</th>\n",
       "      <th>std_test_score</th>\n",
       "      <th>rank_test_score</th>\n",
       "    </tr>\n",
       "  </thead>\n",
       "  <tbody>\n",
       "    <tr>\n",
       "      <td>0</td>\n",
       "      <td>0.344466</td>\n",
       "      <td>0.002052</td>\n",
       "      <td>0.020338</td>\n",
       "      <td>0.000198</td>\n",
       "      <td>None</td>\n",
       "      <td>11</td>\n",
       "      <td>81</td>\n",
       "      <td>12345</td>\n",
       "      <td>{'class_weight': None, 'max_depth': 11, 'n_est...</td>\n",
       "      <td>0.566845</td>\n",
       "      <td>0.571429</td>\n",
       "      <td>0.598425</td>\n",
       "      <td>0.572152</td>\n",
       "      <td>0.530504</td>\n",
       "      <td>0.567871</td>\n",
       "      <td>0.021734</td>\n",
       "      <td>1</td>\n",
       "    </tr>\n",
       "  </tbody>\n",
       "</table>\n",
       "</div>"
      ],
      "text/plain": [
       "   mean_fit_time  std_fit_time  mean_score_time  std_score_time  \\\n",
       "0       0.344466      0.002052         0.020338        0.000198   \n",
       "\n",
       "  param_class_weight param_max_depth param_n_estimators param_random_state  \\\n",
       "0               None              11                 81              12345   \n",
       "\n",
       "                                              params  split0_test_score  \\\n",
       "0  {'class_weight': None, 'max_depth': 11, 'n_est...           0.566845   \n",
       "\n",
       "   split1_test_score  split2_test_score  split3_test_score  split4_test_score  \\\n",
       "0           0.571429           0.598425           0.572152           0.530504   \n",
       "\n",
       "   mean_test_score  std_test_score  rank_test_score  \n",
       "0         0.567871        0.021734                1  "
      ]
     },
     "metadata": {},
     "output_type": "display_data"
    }
   ],
   "source": [
    "get_best_params(\n",
    "    RandomForestClassifier,\n",
    "    features_train,\n",
    "    target_train,\n",
    "    [11],\n",
    "    range(1,251,10),\n",
    "    None\n",
    ")"
   ]
  },
  {
   "cell_type": "markdown",
   "metadata": {},
   "source": [
    "Наилучший результат получен при максимальной глубине дерева = ***11*** и количестве деревьев = ***81***.\n",
    "\n",
    "Обучим модель ***Случайный лес*** применив подобранные гиперпараметры и выведем на экран метрики качества модели:"
   ]
  },
  {
   "cell_type": "code",
   "execution_count": 20,
   "metadata": {
    "scrolled": true
   },
   "outputs": [
    {
     "name": "stdout",
     "output_type": "stream",
     "text": [
      "Accuracy на обучающей выборке: 0.92\n",
      "Accuracy на валидационной выборке: 0.87\n",
      "F1 на обучающей выборке: 0.76\n",
      "F1 на валидационной выборке: 0.59\n",
      "AUC_ROC на обучающей выборке: 0.98\n",
      "AUC_ROC на валидационной выборке: 0.87\n"
     ]
    }
   ],
   "source": [
    "explore_model(\n",
    "    RandomForestClassifier,\n",
    "    features_train,\n",
    "    target_train,\n",
    "    11,\n",
    "    81,\n",
    "    12345,\n",
    "    None\n",
    ")"
   ]
  },
  {
   "cell_type": "markdown",
   "metadata": {},
   "source": [
    "###### Вывод\n",
    "\n",
    "Обучив модель ***Случайный лес*** без учета дисбаланса, были получены следующие метрики:\n",
    "\n",
    "- ***Accuracy*** на ***обучающей*** выборке: ***0.92***\n",
    "- ***Accuracy*** на ***валидационной*** выборке:***0.87***\n",
    "\n",
    "Мы получили неплохие показатели правильности на тестовой и валидационной выборках. Переобученность модели значительно ниже, чем ***Дерева решений***.\n",
    "\n",
    "- ***F1*** на ***обучающей*** выборке: ***0.75***\n",
    "- ***F1*** на ***валидационной*** выборке: ***0.59***\n",
    "\n",
    "Значения ***F1-меры*** указывают на то, что положительный класс недостаточно полно и точно прогнозируется моделью. Разница между показателями обучающей и валидационной выборки также свидетельствуют о переобучении модели, но оно значительно ниже, чем у ***Дерева решений***.\n",
    "\n",
    "- ***AUC_ROC*** на обучающей выборке: ***0.98***\n",
    "- ***AUC_ROC*** на валидационной выборке: ***0.87***\n",
    "\n",
    "Значение меры, равное ***0.87***, полученное на валидационной выборке, говорит о том, что модель значительно лучше случайной и лучше модели, полученной в результате обучения ***Дерева решений***.\n",
    "\n",
    "Значение ***F1-меры*** уже достаточно для успешного решения задачи проекта, но, скорее всего, показатели модели можно улучшить, обучив модель предварительно устранив дисбаланс классов."
   ]
  },
  {
   "cell_type": "markdown",
   "metadata": {},
   "source": [
    "#### Логистическая регрессия"
   ]
  },
  {
   "cell_type": "markdown",
   "metadata": {},
   "source": [
    "Обучим модель ***Логистическая регрессия***:"
   ]
  },
  {
   "cell_type": "code",
   "execution_count": 24,
   "metadata": {
    "scrolled": false
   },
   "outputs": [
    {
     "name": "stdout",
     "output_type": "stream",
     "text": [
      "Accuracy на обучающей выборке: 0.81\n",
      "Accuracy на валидационной выборке: 0.81\n",
      "F1 на обучающей выборке: 0.32\n",
      "F1 на валидационной выборке: 0.31\n",
      "AUC_ROC на обучающей выборке: 0.76\n",
      "AUC_ROC на валидационной выборке: 0.79\n"
     ]
    }
   ],
   "source": [
    "explore_model(\n",
    "    LogisticRegression,\n",
    "    features_train,\n",
    "    target_train,\n",
    "    None,\n",
    "    None,\n",
    "    12345,\n",
    "    None)"
   ]
  },
  {
   "cell_type": "markdown",
   "metadata": {},
   "source": [
    "###### Вывод\n",
    "\n",
    "Обучив модель ***Логистическая регрессия*** без учета дисбаланса, были получены следующие метрики:\n",
    "\n",
    "- ***Accuracy*** на ***обучающей*** выборке: ***0.81***\n",
    "- ***Accuracy*** на ***валидационной*** выборке:***0.81***\n",
    "\n",
    "Метрики одинаковы на обучающей и валидационной выборках. Модель не переобучена.\n",
    "\n",
    "- ***F1*** на ***обучающей*** выборке: ***0.32***\n",
    "- ***F1*** на ***валидационной*** выборке: ***0.31***\n",
    "\n",
    "Значения ***F1-меры***, полученные на тестовой и валидационной выборках, указывают на то, что положительный класс плохо прогнозируется моделью.\n",
    "\n",
    "- ***AUC_ROC*** на обучающей выборке: ***0.76***\n",
    "- ***AUC_ROC*** на валидационной выборке: ***0.79***\n",
    "\n",
    "Значение меры, равное ***0.79***, полученное на валидационной выборке, говорит о том, что модель лучше случайной.\n",
    "\n",
    "Вероятнее всего, полученные показатели связаны с тем, что порог классификации, установленный по умолчанию, не позволяет получить лучшие показатели при дисбалансе классов. В дальнейшем попробуем улучшить показатели модели, устранив дисбаланс классов."
   ]
  },
  {
   "cell_type": "markdown",
   "metadata": {},
   "source": [
    "## Борьба с дисбалансом"
   ]
  },
  {
   "cell_type": "markdown",
   "metadata": {},
   "source": [
    "### Взвешивание классов"
   ]
  },
  {
   "cell_type": "markdown",
   "metadata": {},
   "source": [
    "Алгоритмы машинного обучения считают все объекты обучающей выборки равнозначными по умолчанию. В нашем случае нам важно указать, что объекты класса ***1*** важнее, и присвоить этому классу вес.\n",
    "\n",
    "Далее заново подберем гиперпараметры к тем же видам моделей, что были обучены выше, но с указанным гиперпараметром ***class_weight = 'balanced'***. В этом случае алгоритмы посчитают, во сколько раз класс ***0*** встречается чаще класса ***1*** и присвоят больший вес редкому классу. Далее обучим и исследуем модели."
   ]
  },
  {
   "cell_type": "markdown",
   "metadata": {},
   "source": [
    "#### Дерево решений"
   ]
  },
  {
   "cell_type": "markdown",
   "metadata": {},
   "source": [
    "Подберем наилучшие гиперпараметры для модели ***Дерево решений***, учитывая вес классов:"
   ]
  },
  {
   "cell_type": "code",
   "execution_count": 25,
   "metadata": {
    "scrolled": true
   },
   "outputs": [
    {
     "data": {
      "text/html": [
       "<div>\n",
       "<style scoped>\n",
       "    .dataframe tbody tr th:only-of-type {\n",
       "        vertical-align: middle;\n",
       "    }\n",
       "\n",
       "    .dataframe tbody tr th {\n",
       "        vertical-align: top;\n",
       "    }\n",
       "\n",
       "    .dataframe thead th {\n",
       "        text-align: right;\n",
       "    }\n",
       "</style>\n",
       "<table border=\"1\" class=\"dataframe\">\n",
       "  <thead>\n",
       "    <tr style=\"text-align: right;\">\n",
       "      <th></th>\n",
       "      <th>mean_fit_time</th>\n",
       "      <th>std_fit_time</th>\n",
       "      <th>mean_score_time</th>\n",
       "      <th>std_score_time</th>\n",
       "      <th>param_class_weight</th>\n",
       "      <th>param_max_depth</th>\n",
       "      <th>param_random_state</th>\n",
       "      <th>params</th>\n",
       "      <th>split0_test_score</th>\n",
       "      <th>split1_test_score</th>\n",
       "      <th>split2_test_score</th>\n",
       "      <th>split3_test_score</th>\n",
       "      <th>split4_test_score</th>\n",
       "      <th>mean_test_score</th>\n",
       "      <th>std_test_score</th>\n",
       "      <th>rank_test_score</th>\n",
       "    </tr>\n",
       "  </thead>\n",
       "  <tbody>\n",
       "    <tr>\n",
       "      <td>0</td>\n",
       "      <td>0.014837</td>\n",
       "      <td>0.000725</td>\n",
       "      <td>0.002651</td>\n",
       "      <td>0.000158</td>\n",
       "      <td>balanced</td>\n",
       "      <td>7</td>\n",
       "      <td>12345</td>\n",
       "      <td>{'class_weight': 'balanced', 'max_depth': 7, '...</td>\n",
       "      <td>0.533528</td>\n",
       "      <td>0.561873</td>\n",
       "      <td>0.595813</td>\n",
       "      <td>0.553517</td>\n",
       "      <td>0.546547</td>\n",
       "      <td>0.558255</td>\n",
       "      <td>0.020951</td>\n",
       "      <td>1</td>\n",
       "    </tr>\n",
       "  </tbody>\n",
       "</table>\n",
       "</div>"
      ],
      "text/plain": [
       "   mean_fit_time  std_fit_time  mean_score_time  std_score_time  \\\n",
       "0       0.014837      0.000725         0.002651        0.000158   \n",
       "\n",
       "  param_class_weight param_max_depth param_random_state  \\\n",
       "0           balanced               7              12345   \n",
       "\n",
       "                                              params  split0_test_score  \\\n",
       "0  {'class_weight': 'balanced', 'max_depth': 7, '...           0.533528   \n",
       "\n",
       "   split1_test_score  split2_test_score  split3_test_score  split4_test_score  \\\n",
       "0           0.561873           0.595813           0.553517           0.546547   \n",
       "\n",
       "   mean_test_score  std_test_score  rank_test_score  \n",
       "0         0.558255        0.020951                1  "
      ]
     },
     "metadata": {},
     "output_type": "display_data"
    }
   ],
   "source": [
    "get_best_params(\n",
    "    DecisionTreeClassifier,\n",
    "    features_train,\n",
    "    target_train,\n",
    "    range(1,21,1),\n",
    "    [1],\n",
    "    'balanced'\n",
    ")"
   ]
  },
  {
   "cell_type": "markdown",
   "metadata": {},
   "source": [
    "Наилучший результат получен при максимальной глубине дерева = ***7***.\n",
    "\n",
    "Обучим модель ***Дерево решений*** применив подобранные гиперпараметры и выведем на экран метрики качества модели:"
   ]
  },
  {
   "cell_type": "code",
   "execution_count": 26,
   "metadata": {
    "scrolled": false
   },
   "outputs": [
    {
     "name": "stdout",
     "output_type": "stream",
     "text": [
      "Accuracy на обучающей выборке: 1.0\n",
      "Accuracy на валидационной выборке: 0.8\n",
      "F1 на обучающей выборке: 1.0\n",
      "F1 на валидационной выборке: 0.51\n",
      "AUC_ROC на обучающей выборке: 1.0\n",
      "AUC_ROC на валидационной выборке: 0.69\n"
     ]
    }
   ],
   "source": [
    "explore_model(\n",
    "    DecisionTreeClassifier,\n",
    "    features_train,\n",
    "    target_train,\n",
    "    18,\n",
    "    None,\n",
    "    12345,\n",
    "    'balanced'\n",
    ")"
   ]
  },
  {
   "cell_type": "markdown",
   "metadata": {},
   "source": [
    "###### Вывод\n",
    "\n",
    "Обучив модель ***Дерево решений*** с учетом веса классов, было получено следующее изменение метрик:\n",
    "\n",
    "- ***Accuracy*** на ***обучающей*** выборке: ***1.0 -> 1.0***\n",
    "- ***Accuracy*** на ***валидационной*** выборке:***0.80 -> 0.80***\n",
    "\n",
    "\n",
    "- ***F1*** на ***обучающей*** выборке: ***1.0 -> 1.0***\n",
    "- ***F1*** на ***валидационной*** выборке: ***0.52 -> 0.51***\n",
    "\n",
    "\n",
    "- ***AUC_ROC*** на обучающей выборке: ***1.0 -> 1.0***\n",
    "- ***AUC_ROC*** на валидационной выборке: ***0.70 -> 0.69***\n",
    "\n",
    "В целом, учет веса классов не улучшил качество модели: модель по-прежнему переобучена и недостаточно полно и точно прогнозирует положительный класс. Модель по-прежнему лучше случайной, но неидеальна.\n",
    "\n",
    "Критерий ***F-1*** пока еще недостаточно высокий для успешного решения задачи проекта."
   ]
  },
  {
   "cell_type": "markdown",
   "metadata": {},
   "source": [
    "#### Случайный лес"
   ]
  },
  {
   "cell_type": "markdown",
   "metadata": {},
   "source": [
    "Подберем наилучшие гиперпараметры для модели ***Случайный лес***, учитывая вес классов:"
   ]
  },
  {
   "cell_type": "code",
   "execution_count": 27,
   "metadata": {
    "scrolled": true
   },
   "outputs": [
    {
     "data": {
      "text/html": [
       "<div>\n",
       "<style scoped>\n",
       "    .dataframe tbody tr th:only-of-type {\n",
       "        vertical-align: middle;\n",
       "    }\n",
       "\n",
       "    .dataframe tbody tr th {\n",
       "        vertical-align: top;\n",
       "    }\n",
       "\n",
       "    .dataframe thead th {\n",
       "        text-align: right;\n",
       "    }\n",
       "</style>\n",
       "<table border=\"1\" class=\"dataframe\">\n",
       "  <thead>\n",
       "    <tr style=\"text-align: right;\">\n",
       "      <th></th>\n",
       "      <th>mean_fit_time</th>\n",
       "      <th>std_fit_time</th>\n",
       "      <th>mean_score_time</th>\n",
       "      <th>std_score_time</th>\n",
       "      <th>param_class_weight</th>\n",
       "      <th>param_max_depth</th>\n",
       "      <th>param_n_estimators</th>\n",
       "      <th>param_random_state</th>\n",
       "      <th>params</th>\n",
       "      <th>split0_test_score</th>\n",
       "      <th>split1_test_score</th>\n",
       "      <th>split2_test_score</th>\n",
       "      <th>split3_test_score</th>\n",
       "      <th>split4_test_score</th>\n",
       "      <th>mean_test_score</th>\n",
       "      <th>std_test_score</th>\n",
       "      <th>rank_test_score</th>\n",
       "    </tr>\n",
       "  </thead>\n",
       "  <tbody>\n",
       "    <tr>\n",
       "      <td>0</td>\n",
       "      <td>0.44738</td>\n",
       "      <td>0.006681</td>\n",
       "      <td>0.025638</td>\n",
       "      <td>0.000601</td>\n",
       "      <td>balanced</td>\n",
       "      <td>7</td>\n",
       "      <td>131</td>\n",
       "      <td>12345</td>\n",
       "      <td>{'class_weight': 'balanced', 'max_depth': 7, '...</td>\n",
       "      <td>0.586331</td>\n",
       "      <td>0.603704</td>\n",
       "      <td>0.622302</td>\n",
       "      <td>0.604895</td>\n",
       "      <td>0.607407</td>\n",
       "      <td>0.604928</td>\n",
       "      <td>0.011449</td>\n",
       "      <td>1</td>\n",
       "    </tr>\n",
       "  </tbody>\n",
       "</table>\n",
       "</div>"
      ],
      "text/plain": [
       "   mean_fit_time  std_fit_time  mean_score_time  std_score_time  \\\n",
       "0        0.44738      0.006681         0.025638        0.000601   \n",
       "\n",
       "  param_class_weight param_max_depth param_n_estimators param_random_state  \\\n",
       "0           balanced               7                131              12345   \n",
       "\n",
       "                                              params  split0_test_score  \\\n",
       "0  {'class_weight': 'balanced', 'max_depth': 7, '...           0.586331   \n",
       "\n",
       "   split1_test_score  split2_test_score  split3_test_score  split4_test_score  \\\n",
       "0           0.603704           0.622302           0.604895           0.607407   \n",
       "\n",
       "   mean_test_score  std_test_score  rank_test_score  \n",
       "0         0.604928        0.011449                1  "
      ]
     },
     "metadata": {},
     "output_type": "display_data"
    }
   ],
   "source": [
    "get_best_params(\n",
    "    RandomForestClassifier,\n",
    "    features_train,\n",
    "    target_train,\n",
    "    [7],\n",
    "    range(1,251,10),\n",
    "    'balanced'\n",
    ")"
   ]
  },
  {
   "cell_type": "markdown",
   "metadata": {},
   "source": [
    "Наилучший результат получен при максимальной глубине дерева = ***7*** и количестве деревьев = ***131***.\n",
    "\n",
    "Обучим модель ***Случайный лес*** применив подобранные гиперпараметры и выведем на экран метрики качества модели:"
   ]
  },
  {
   "cell_type": "code",
   "execution_count": 28,
   "metadata": {
    "scrolled": false
   },
   "outputs": [
    {
     "name": "stdout",
     "output_type": "stream",
     "text": [
      "Accuracy на обучающей выборке: 0.85\n",
      "Accuracy на валидационной выборке: 0.83\n",
      "F1 на обучающей выборке: 0.68\n",
      "F1 на валидационной выборке: 0.64\n",
      "AUC_ROC на обучающей выборке: 0.91\n",
      "AUC_ROC на валидационной выборке: 0.87\n"
     ]
    }
   ],
   "source": [
    "explore_model(\n",
    "    RandomForestClassifier,\n",
    "    features_train,\n",
    "    target_train,\n",
    "    7,\n",
    "    131,\n",
    "    12345,\n",
    "    'balanced'\n",
    ")"
   ]
  },
  {
   "cell_type": "markdown",
   "metadata": {},
   "source": [
    "###### Вывод\n",
    "\n",
    "Обучив модель ***Случайный лес*** с учетом веса классов, было получено следующее изменение метрик:\n",
    "\n",
    "- ***Accuracy*** на ***обучающей*** выборке: ***0.92 -> 0.85***\n",
    "- ***Accuracy*** на ***валидационной*** выборке:***0.87 -> 0.83***\n",
    "\n",
    "\n",
    "- ***F1*** на ***обучающей*** выборке: ***0.75 -> 0.67***\n",
    "- ***F1*** на ***валидационной*** выборке: ***0.59 -> 0.63***\n",
    "\n",
    "\n",
    "- ***AUC_ROC*** на обучающей выборке: ***0.98 -> 0.91***\n",
    "- ***AUC_ROC*** на валидационной выборке: ***0.87 -> 0.87***\n",
    "\n",
    "Учет веса классов улучшил качество модели: модель не переобучена, на валидационной выборке возросла ***F1-мера***, что говорит о том, что точность и полнота предсказания положительного класса выросли. Показатель ***AUC_ROC*** остался без изменеий - модель значительно лучше случайной.\n",
    "\n",
    "***F-1*** - мера достаточна для успешного решения задачи проекта."
   ]
  },
  {
   "cell_type": "markdown",
   "metadata": {},
   "source": [
    "#### Логистическая регрессия"
   ]
  },
  {
   "cell_type": "markdown",
   "metadata": {},
   "source": [
    "Обучим модель ***Логистическая регрессия***:"
   ]
  },
  {
   "cell_type": "code",
   "execution_count": 29,
   "metadata": {
    "scrolled": true
   },
   "outputs": [
    {
     "name": "stdout",
     "output_type": "stream",
     "text": [
      "Accuracy на обучающей выборке: 0.71\n",
      "Accuracy на валидационной выборке: 0.73\n",
      "F1 на обучающей выборке: 0.49\n",
      "F1 на валидационной выборке: 0.53\n",
      "AUC_ROC на обучающей выборке: 0.77\n",
      "AUC_ROC на валидационной выборке: 0.79\n"
     ]
    }
   ],
   "source": [
    "explore_model(\n",
    "    LogisticRegression,\n",
    "    features_train,\n",
    "    target_train,\n",
    "    None,\n",
    "    None,\n",
    "    12345,\n",
    "    'balanced'\n",
    ")"
   ]
  },
  {
   "cell_type": "markdown",
   "metadata": {},
   "source": [
    "###### Вывод\n",
    "\n",
    "Обучив модель ***Логистическая регрессия*** с учетом веса классов, было получено следующее изменение метрик:\n",
    "\n",
    "- ***Accuracy*** на ***обучающей*** выборке: ***0.81 -> 0.71***\n",
    "- ***Accuracy*** на ***валидационной*** выборке:***0.81 -> 0.73***\n",
    "\n",
    "\n",
    "- ***F1*** на ***обучающей*** выборке: ***0.32 -> 0.49***\n",
    "- ***F1*** на ***валидационной*** выборке: ***0.31 -> 0.53***\n",
    "\n",
    "\n",
    "- ***AUC_ROC*** на обучающей выборке: ***0.76 -> 0.77***\n",
    "- ***AUC_ROC*** на валидационной выборке: ***0.79 -> 0.79***\n",
    "\n",
    "\n",
    "С учетом веса классов, ухудшилась метрика ***Accuracy***, но заметен рост ***F1-меры***. Тем не менее, показатель пока еще низкий, и говорит о слабом предсказании положительных классов моделью. Значение недостаточно для успешного решения задач проекта."
   ]
  },
  {
   "cell_type": "markdown",
   "metadata": {},
   "source": [
    "### Увеличение выборки"
   ]
  },
  {
   "cell_type": "markdown",
   "metadata": {},
   "source": [
    "Для более успешного обучения рассмотренных моделей увеличим количество объектов редкого класса в обучающей выборке - применим увеличение выборки. Так как ранее мы определили, что положительного класса в 3.91 раз меньше, чем отрицательного, увеличим количество объектов положительного класса в 4 раза:"
   ]
  },
  {
   "cell_type": "code",
   "execution_count": 30,
   "metadata": {},
   "outputs": [],
   "source": [
    "def upsample(features, target, repeat):\n",
    "    features_zeros = pd.DataFrame(features[target == 0])\n",
    "    features_ones = pd.DataFrame(features[target == 1])\n",
    "    target_zeros = pd.Series(target[target == 0])\n",
    "    target_ones = pd.Series(target[target == 1])\n",
    "\n",
    "    features_upsampled = pd.concat([features_zeros] + [features_ones] * repeat)\n",
    "    target_upsampled = pd.concat([target_zeros] + [target_ones] * repeat)\n",
    "    \n",
    "    features_upsampled, target_upsampled = shuffle(\n",
    "        features_upsampled,\n",
    "        target_upsampled,\n",
    "        random_state=12345\n",
    "    )\n",
    "    \n",
    "    return features_upsampled, target_upsampled\n",
    "\n",
    "features_upsampled, target_upsampled = upsample(features_train, target_train, 4)"
   ]
  },
  {
   "cell_type": "markdown",
   "metadata": {},
   "source": [
    "#### Дерево решений"
   ]
  },
  {
   "cell_type": "markdown",
   "metadata": {},
   "source": [
    "Выведем на экран наилучшие гиперпараметры для модели ***Дерево решений*** при увеличенной обучающей выборке:"
   ]
  },
  {
   "cell_type": "code",
   "execution_count": 31,
   "metadata": {},
   "outputs": [
    {
     "data": {
      "text/html": [
       "<div>\n",
       "<style scoped>\n",
       "    .dataframe tbody tr th:only-of-type {\n",
       "        vertical-align: middle;\n",
       "    }\n",
       "\n",
       "    .dataframe tbody tr th {\n",
       "        vertical-align: top;\n",
       "    }\n",
       "\n",
       "    .dataframe thead th {\n",
       "        text-align: right;\n",
       "    }\n",
       "</style>\n",
       "<table border=\"1\" class=\"dataframe\">\n",
       "  <thead>\n",
       "    <tr style=\"text-align: right;\">\n",
       "      <th></th>\n",
       "      <th>mean_fit_time</th>\n",
       "      <th>std_fit_time</th>\n",
       "      <th>mean_score_time</th>\n",
       "      <th>std_score_time</th>\n",
       "      <th>param_class_weight</th>\n",
       "      <th>param_max_depth</th>\n",
       "      <th>param_random_state</th>\n",
       "      <th>params</th>\n",
       "      <th>split0_test_score</th>\n",
       "      <th>split1_test_score</th>\n",
       "      <th>split2_test_score</th>\n",
       "      <th>split3_test_score</th>\n",
       "      <th>split4_test_score</th>\n",
       "      <th>mean_test_score</th>\n",
       "      <th>std_test_score</th>\n",
       "      <th>rank_test_score</th>\n",
       "    </tr>\n",
       "  </thead>\n",
       "  <tbody>\n",
       "    <tr>\n",
       "      <td>0</td>\n",
       "      <td>0.02797</td>\n",
       "      <td>0.000181</td>\n",
       "      <td>0.003388</td>\n",
       "      <td>0.00016</td>\n",
       "      <td>None</td>\n",
       "      <td>23</td>\n",
       "      <td>12345</td>\n",
       "      <td>{'class_weight': None, 'max_depth': 23, 'rando...</td>\n",
       "      <td>0.93744</td>\n",
       "      <td>0.93717</td>\n",
       "      <td>0.930919</td>\n",
       "      <td>0.926736</td>\n",
       "      <td>0.921338</td>\n",
       "      <td>0.930721</td>\n",
       "      <td>0.006176</td>\n",
       "      <td>1</td>\n",
       "    </tr>\n",
       "  </tbody>\n",
       "</table>\n",
       "</div>"
      ],
      "text/plain": [
       "   mean_fit_time  std_fit_time  mean_score_time  std_score_time  \\\n",
       "0        0.02797      0.000181         0.003388         0.00016   \n",
       "\n",
       "  param_class_weight param_max_depth param_random_state  \\\n",
       "0               None              23              12345   \n",
       "\n",
       "                                              params  split0_test_score  \\\n",
       "0  {'class_weight': None, 'max_depth': 23, 'rando...            0.93744   \n",
       "\n",
       "   split1_test_score  split2_test_score  split3_test_score  split4_test_score  \\\n",
       "0            0.93717           0.930919           0.926736           0.921338   \n",
       "\n",
       "   mean_test_score  std_test_score  rank_test_score  \n",
       "0         0.930721        0.006176                1  "
      ]
     },
     "metadata": {},
     "output_type": "display_data"
    }
   ],
   "source": [
    "get_best_params(\n",
    "    DecisionTreeClassifier,\n",
    "    features_upsampled,\n",
    "    target_upsampled,\n",
    "    range(1,51),\n",
    "    [1],\n",
    "    None\n",
    ")"
   ]
  },
  {
   "cell_type": "markdown",
   "metadata": {},
   "source": [
    "Наилучший результат получен при максимальной глубине дерева = ***23***. Обучим ***Дерево решений***, применив подобранный гиперпараметр:"
   ]
  },
  {
   "cell_type": "code",
   "execution_count": 32,
   "metadata": {
    "scrolled": true
   },
   "outputs": [
    {
     "name": "stdout",
     "output_type": "stream",
     "text": [
      "Accuracy на обучающей выборке: 1.0\n",
      "Accuracy на валидационной выборке: 0.8\n",
      "F1 на обучающей выборке: 1.0\n",
      "F1 на валидационной выборке: 0.51\n",
      "AUC_ROC на обучающей выборке: 1.0\n",
      "AUC_ROC на валидационной выборке: 0.69\n"
     ]
    }
   ],
   "source": [
    "explore_model(\n",
    "    DecisionTreeClassifier,\n",
    "    features_upsampled,\n",
    "    target_upsampled,\n",
    "    23,\n",
    "    None,\n",
    "    12345,\n",
    "    None\n",
    ")"
   ]
  },
  {
   "cell_type": "markdown",
   "metadata": {},
   "source": [
    "###### Вывод\n",
    "\n",
    "Обучив модель ***Дерево решений*** на увеличенной тренировочной выборке, были получены следующие метрики по сравнению с предыдущими попытками обучения:\n",
    "\n",
    "- ***Accuracy*** на ***обучающей*** выборке: ***1.0 -> 1.0 -> 1.0***\n",
    "- ***Accuracy*** на ***валидационной*** выборке:***0.80 -> 0.80 -> 0.80***\n",
    "\n",
    "\n",
    "- ***F1*** на ***обучающей*** выборке: ***1.0 -> 1.0 -> 1.0***\n",
    "- ***F1*** на ***валидационной*** выборке: ***0.52 -> 0.51 -> 0.51***\n",
    "\n",
    "\n",
    "- ***AUC_ROC*** на обучающей выборке: ***1.0 -> 1.0 -> 1.0***\n",
    "- ***AUC_ROC*** на валидационной выборке: ***0.70 -> 0.69 -> 0.69***\n",
    "\n",
    "Увеличение выборки абсолютно никак не повлияло на качество модели. Применение взвешивания классов и увеличение обучающей выборки оказались одинаково эффективными по отношению к пробной модели и не позволили получить ***F1-меру***, достаточную для успешного решения задачи проекта."
   ]
  },
  {
   "cell_type": "markdown",
   "metadata": {},
   "source": [
    "#### Случайный лес"
   ]
  },
  {
   "cell_type": "markdown",
   "metadata": {},
   "source": [
    "Подберем наилучшие гиперпараметры для модели ***Случайный лес*** при увеличенной обучающей выборке:"
   ]
  },
  {
   "cell_type": "code",
   "execution_count": 33,
   "metadata": {
    "scrolled": true
   },
   "outputs": [
    {
     "data": {
      "text/html": [
       "<div>\n",
       "<style scoped>\n",
       "    .dataframe tbody tr th:only-of-type {\n",
       "        vertical-align: middle;\n",
       "    }\n",
       "\n",
       "    .dataframe tbody tr th {\n",
       "        vertical-align: top;\n",
       "    }\n",
       "\n",
       "    .dataframe thead th {\n",
       "        text-align: right;\n",
       "    }\n",
       "</style>\n",
       "<table border=\"1\" class=\"dataframe\">\n",
       "  <thead>\n",
       "    <tr style=\"text-align: right;\">\n",
       "      <th></th>\n",
       "      <th>mean_fit_time</th>\n",
       "      <th>std_fit_time</th>\n",
       "      <th>mean_score_time</th>\n",
       "      <th>std_score_time</th>\n",
       "      <th>param_class_weight</th>\n",
       "      <th>param_max_depth</th>\n",
       "      <th>param_n_estimators</th>\n",
       "      <th>param_random_state</th>\n",
       "      <th>params</th>\n",
       "      <th>split0_test_score</th>\n",
       "      <th>split1_test_score</th>\n",
       "      <th>split2_test_score</th>\n",
       "      <th>split3_test_score</th>\n",
       "      <th>split4_test_score</th>\n",
       "      <th>mean_test_score</th>\n",
       "      <th>std_test_score</th>\n",
       "      <th>rank_test_score</th>\n",
       "    </tr>\n",
       "  </thead>\n",
       "  <tbody>\n",
       "    <tr>\n",
       "      <td>0</td>\n",
       "      <td>0.80624</td>\n",
       "      <td>0.005303</td>\n",
       "      <td>0.047</td>\n",
       "      <td>0.000723</td>\n",
       "      <td>None</td>\n",
       "      <td>22</td>\n",
       "      <td>121</td>\n",
       "      <td>12345</td>\n",
       "      <td>{'class_weight': None, 'max_depth': 22, 'n_est...</td>\n",
       "      <td>0.955839</td>\n",
       "      <td>0.967327</td>\n",
       "      <td>0.961614</td>\n",
       "      <td>0.959133</td>\n",
       "      <td>0.952288</td>\n",
       "      <td>0.95924</td>\n",
       "      <td>0.005117</td>\n",
       "      <td>1</td>\n",
       "    </tr>\n",
       "  </tbody>\n",
       "</table>\n",
       "</div>"
      ],
      "text/plain": [
       "   mean_fit_time  std_fit_time  mean_score_time  std_score_time  \\\n",
       "0        0.80624      0.005303            0.047        0.000723   \n",
       "\n",
       "  param_class_weight param_max_depth param_n_estimators param_random_state  \\\n",
       "0               None              22                121              12345   \n",
       "\n",
       "                                              params  split0_test_score  \\\n",
       "0  {'class_weight': None, 'max_depth': 22, 'n_est...           0.955839   \n",
       "\n",
       "   split1_test_score  split2_test_score  split3_test_score  split4_test_score  \\\n",
       "0           0.967327           0.961614           0.959133           0.952288   \n",
       "\n",
       "   mean_test_score  std_test_score  rank_test_score  \n",
       "0          0.95924        0.005117                1  "
      ]
     },
     "metadata": {},
     "output_type": "display_data"
    }
   ],
   "source": [
    "get_best_params(\n",
    "    RandomForestClassifier,\n",
    "    features_upsampled,\n",
    "    target_upsampled,\n",
    "    [22],\n",
    "    range(1,251,10),\n",
    "    None\n",
    ")"
   ]
  },
  {
   "cell_type": "markdown",
   "metadata": {},
   "source": [
    "Наилучший результат получен при максимальной глубине дерева = ***22*** и количестве деревьев = ***121*** . Обучим модель ***Случайный лес***, применив подобранные гиперпараметры:"
   ]
  },
  {
   "cell_type": "code",
   "execution_count": 34,
   "metadata": {
    "scrolled": true
   },
   "outputs": [
    {
     "name": "stdout",
     "output_type": "stream",
     "text": [
      "Accuracy на обучающей выборке: 1.0\n",
      "Accuracy на валидационной выборке: 0.86\n",
      "F1 на обучающей выборке: 1.0\n",
      "F1 на валидационной выборке: 0.62\n",
      "AUC_ROC на обучающей выборке: 1.0\n",
      "AUC_ROC на валидационной выборке: 0.86\n"
     ]
    }
   ],
   "source": [
    "explore_model(\n",
    "    RandomForestClassifier,\n",
    "    features_upsampled,\n",
    "    target_upsampled,\n",
    "    22,\n",
    "    121,\n",
    "    12345,\n",
    "    None\n",
    ")"
   ]
  },
  {
   "cell_type": "markdown",
   "metadata": {},
   "source": [
    "###### Вывод\n",
    "\n",
    "Обучив модель ***Случайный лес*** на увеличенной обучающей выборке были получены следующие метрики относительно предыдущих попыток обучения:\n",
    "\n",
    "- ***Accuracy*** на ***обучающей*** выборке: ***0.92 -> 0.85 -> 1.00***\n",
    "- ***Accuracy*** на ***валидационной*** выборке:***0.87 -> 0.83 -> 0.86***\n",
    "\n",
    "\n",
    "- ***F1*** на ***обучающей*** выборке: ***0.75 -> 0.67 -> 1.00***\n",
    "- ***F1*** на ***валидационной*** выборке: ***0.59 -> 0.63 -> 0.62**\n",
    "\n",
    "\n",
    "- ***AUC_ROC*** на обучающей выборке: ***0.98 -> 0.91 -> 1.00***\n",
    "- ***AUC_ROC*** на валидационной выборке: ***0.87 -> 0.87 -> 0.87***\n",
    "\n",
    "При увеличении обучающей выборки мы переобучили модель: ***Accuracy*** на обучающей выборке значительно выше показателя на валидационной.\n",
    "\n",
    "***F1-мера*** уменьшилась до ***0.62*** по сравнению с предыдущей попыткой обучения модели. Конечно, точность и полнота предсказания положительного класса неидеальны, но удовлетворяют условию выполнения задачи проекта."
   ]
  },
  {
   "cell_type": "markdown",
   "metadata": {},
   "source": [
    "#### Логистическая регрессия"
   ]
  },
  {
   "cell_type": "markdown",
   "metadata": {},
   "source": [
    "Обучим модель ***Логистическая регрессия*** на увеличенной обучающей выборке:"
   ]
  },
  {
   "cell_type": "code",
   "execution_count": 35,
   "metadata": {},
   "outputs": [
    {
     "name": "stdout",
     "output_type": "stream",
     "text": [
      "Accuracy на обучающей выборке: 0.7\n",
      "Accuracy на валидационной выборке: 0.72\n",
      "F1 на обучающей выборке: 0.7\n",
      "F1 на валидационной выборке: 0.52\n",
      "AUC_ROC на обучающей выборке: 0.77\n",
      "AUC_ROC на валидационной выборке: 0.79\n"
     ]
    }
   ],
   "source": [
    "explore_model(\n",
    "    LogisticRegression,\n",
    "    features_upsampled,\n",
    "    target_upsampled,\n",
    "    None,\n",
    "    None,\n",
    "    12345,\n",
    "    None\n",
    ")"
   ]
  },
  {
   "cell_type": "markdown",
   "metadata": {},
   "source": [
    "###### Вывод\n",
    "\n",
    "Обучив модель ***Логистическая регрессия*** на увеличенной обучающей выборке было получено следующее изменение метри относительно предыдущих попыток обучения:\n",
    "\n",
    "- ***Accuracy*** на ***обучающей*** выборке: ***0.81 -> 0.71 -> 0.70***\n",
    "- ***Accuracy*** на ***валидационной*** выборке:***0.81 -> 0.73 -> 0.72***\n",
    "\n",
    "- ***F1*** на ***обучающей*** выборке: ***0.32 -> 0.49 -> 0.70***\n",
    "- ***F1*** на ***валидационной*** выборке: ***0.31 -> 0.53 -> 0.52***\n",
    "\n",
    "- ***AUC_ROC*** на обучающей выборке: ***0.76 -> 0.77 -> 0.77***\n",
    "- ***AUC_ROC*** на валидационной выборке: ***0.79 -> 0.79 -> 0.79***\n",
    "\n",
    "Несмотря на увеличение обучающей выборки, качество модели не улучшилось в сравнении с результатами предыдущей попытки обучения модели.\n",
    "\n",
    "Показатель ***F1-меры*** не удовлетворяет условию успешного выполнения задачи проекта."
   ]
  },
  {
   "cell_type": "markdown",
   "metadata": {},
   "source": [
    "## Тестирование модели"
   ]
  },
  {
   "cell_type": "markdown",
   "metadata": {},
   "source": [
    "Из рассмотренных ранее моделей наиболее качаственной оказалась модель ***Случайный лес***, обученная при взвешивании классов.\n",
    "\n",
    "Обучим модель ***Случайный лес*** со взвешиванием классов, применив наилучшие подобранные гиперпараметры. Определим время обучения модели и выведем на экран метрики качества модели, полученные при предсказании классов тестовой выборки данных."
   ]
  },
  {
   "cell_type": "code",
   "execution_count": 36,
   "metadata": {
    "scrolled": true
   },
   "outputs": [
    {
     "name": "stdout",
     "output_type": "stream",
     "text": [
      "CPU times: user 499 ms, sys: 3.9 ms, total: 503 ms\n",
      "Wall time: 517 ms\n"
     ]
    },
    {
     "data": {
      "text/plain": [
       "RandomForestClassifier(class_weight='balanced', max_depth=7, n_estimators=131,\n",
       "                       random_state=12345)"
      ]
     },
     "execution_count": 36,
     "metadata": {},
     "output_type": "execute_result"
    }
   ],
   "source": [
    "%%time\n",
    "\n",
    "model = RandomForestClassifier(max_depth = 7,\n",
    "                               n_estimators = 131,\n",
    "                               random_state = 12345,\n",
    "                               class_weight = 'balanced'\n",
    ")\n",
    "model.fit(features_train, target_train)"
   ]
  },
  {
   "cell_type": "code",
   "execution_count": 37,
   "metadata": {},
   "outputs": [],
   "source": [
    "predictions_test = model.predict(features_test)\n",
    "probabilities_one_test = model.predict_proba(features_test)[:, 1]"
   ]
  },
  {
   "cell_type": "code",
   "execution_count": 38,
   "metadata": {},
   "outputs": [
    {
     "name": "stdout",
     "output_type": "stream",
     "text": [
      "Accuracy на тестовой выборке: 0.82\n",
      "F1 на тестовой выборке: 0.62\n",
      "AUC_ROC на тестовой выборке: 0.86\n"
     ]
    }
   ],
   "source": [
    "print('Accuracy на тестовой выборке:',\n",
    "          accuracy_score(target_test,predictions_test).round(2))\n",
    "print('F1 на тестовой выборке:',\n",
    "          f1_score(target_test,predictions_test).round(2))\n",
    "print('AUC_ROC на тестовой выборке:',\n",
    "          roc_auc_score(target_test,probabilities_one_test).round(2))"
   ]
  },
  {
   "cell_type": "markdown",
   "metadata": {},
   "source": [
    "## Общий вывод"
   ]
  },
  {
   "cell_type": "markdown",
   "metadata": {},
   "source": [
    "В ходе данного проекта данные о поведении клиентов банка были изучены, предобработаны и разделены на три выборки: обучающую, валидационную и тестовую в соотношении ***60% : 20% : 20%*** с учетом пропорции классов.\n",
    "\n",
    "Выборки были использованы для обучения моделей: ***Дерево решений***, ***Случайный лес*** и ***Логистическая ререссия***.\n",
    "\n",
    "В выборках наблюдался дисбаланс классов, для борьбы с которым были применены методы ***Взвешивания классов*** и ***Увеличения обучающей выборки***. ***Взвешивание классов*** и ***Увеличение обучающей выборки*** позволили улучшить качество моделей относительно пробных, но при ***Взвешивании классов*** мы получили менее переобученную модель ***Случайного леса***, обладающую наибольшим значением ***F1-меры***.\n",
    "\n",
    "Метрики качества наилучшей модели на **валидационной выборке**:\n",
    "\n",
    "- *Accuracy*: ***0.83***\n",
    "- *F1*: ***0.63***\n",
    "- *AUC_ROC*: ***0.87***\n",
    "\n",
    "Метрики качества наилучшей модели на **тестовой выборке**:\n",
    "\n",
    "- *Accuracy*: ***0.82***\n",
    "- *F1*: ***0.62***\n",
    "- *AUC_ROC*: ***0.86***\n",
    "\n",
    "Время обучения модели: 513 мсек."
   ]
  }
 ],
 "metadata": {
  "ExecuteTimeLog": [
   {
    "duration": 750,
    "start_time": "2021-08-01T15:35:46.527Z"
   },
   {
    "duration": 3,
    "start_time": "2021-08-01T15:35:55.972Z"
   },
   {
    "duration": 90,
    "start_time": "2021-08-01T15:36:26.388Z"
   },
   {
    "duration": 614,
    "start_time": "2021-08-01T15:36:40.282Z"
   },
   {
    "duration": 683,
    "start_time": "2021-08-01T15:36:49.327Z"
   },
   {
    "duration": 229,
    "start_time": "2021-08-01T15:37:37.656Z"
   },
   {
    "duration": 96,
    "start_time": "2021-08-01T15:37:47.116Z"
   },
   {
    "duration": 109,
    "start_time": "2021-08-01T15:42:15.158Z"
   },
   {
    "duration": 350,
    "start_time": "2021-08-01T15:48:22.602Z"
   },
   {
    "duration": 31,
    "start_time": "2021-08-01T15:48:37.208Z"
   },
   {
    "duration": 33,
    "start_time": "2021-08-01T15:48:52.478Z"
   },
   {
    "duration": 182,
    "start_time": "2021-08-01T15:58:43.619Z"
   },
   {
    "duration": 121,
    "start_time": "2021-08-01T15:59:35.023Z"
   },
   {
    "duration": 16,
    "start_time": "2021-08-01T16:00:35.944Z"
   },
   {
    "duration": 572,
    "start_time": "2021-08-01T16:05:12.320Z"
   },
   {
    "duration": 7,
    "start_time": "2021-08-01T16:09:18.514Z"
   },
   {
    "duration": 18,
    "start_time": "2021-08-01T16:15:58.455Z"
   },
   {
    "duration": 374,
    "start_time": "2021-08-01T16:16:26.091Z"
   },
   {
    "duration": 21,
    "start_time": "2021-08-01T16:17:15.975Z"
   },
   {
    "duration": 20,
    "start_time": "2021-08-01T16:18:11.408Z"
   },
   {
    "duration": 267,
    "start_time": "2021-08-01T16:18:44.369Z"
   },
   {
    "duration": 394,
    "start_time": "2021-08-01T16:18:55.914Z"
   },
   {
    "duration": 8,
    "start_time": "2021-08-01T16:19:08.629Z"
   },
   {
    "duration": 6,
    "start_time": "2021-08-01T16:24:48.040Z"
   },
   {
    "duration": 9,
    "start_time": "2021-08-01T16:27:10.678Z"
   },
   {
    "duration": 265,
    "start_time": "2021-08-01T16:28:52.746Z"
   },
   {
    "duration": 289,
    "start_time": "2021-08-01T16:29:09.122Z"
   },
   {
    "duration": 8,
    "start_time": "2021-08-01T16:29:20.115Z"
   },
   {
    "duration": 13,
    "start_time": "2021-08-01T16:29:34.604Z"
   },
   {
    "duration": 9,
    "start_time": "2021-08-01T16:39:58.305Z"
   },
   {
    "duration": 5,
    "start_time": "2021-08-01T16:50:59.108Z"
   },
   {
    "duration": 92,
    "start_time": "2021-08-01T17:15:08.719Z"
   },
   {
    "duration": 297,
    "start_time": "2021-08-01T17:15:20.028Z"
   },
   {
    "duration": 314,
    "start_time": "2021-08-01T17:17:18.088Z"
   },
   {
    "duration": 297,
    "start_time": "2021-08-01T17:18:32.584Z"
   },
   {
    "duration": 5,
    "start_time": "2021-08-01T17:19:14.577Z"
   },
   {
    "duration": 285,
    "start_time": "2021-08-01T17:19:19.305Z"
   },
   {
    "duration": 450,
    "start_time": "2021-08-01T17:19:46.220Z"
   },
   {
    "duration": 297,
    "start_time": "2021-08-02T02:45:05.355Z"
   },
   {
    "duration": 256,
    "start_time": "2021-08-02T02:45:27.532Z"
   },
   {
    "duration": 1007,
    "start_time": "2021-08-02T03:15:01.073Z"
   },
   {
    "duration": 169,
    "start_time": "2021-08-02T03:15:02.082Z"
   },
   {
    "duration": 21,
    "start_time": "2021-08-02T03:15:02.253Z"
   },
   {
    "duration": 10,
    "start_time": "2021-08-02T03:15:02.276Z"
   },
   {
    "duration": 5,
    "start_time": "2021-08-02T03:15:02.287Z"
   },
   {
    "duration": 12,
    "start_time": "2021-08-02T03:15:02.293Z"
   },
   {
    "duration": 40,
    "start_time": "2021-08-02T03:15:02.306Z"
   },
   {
    "duration": 3,
    "start_time": "2021-08-02T03:15:02.348Z"
   },
   {
    "duration": 358,
    "start_time": "2021-08-02T03:15:02.353Z"
   },
   {
    "duration": 13,
    "start_time": "2021-08-02T03:15:24.214Z"
   },
   {
    "duration": 12,
    "start_time": "2021-08-02T03:18:58.964Z"
   },
   {
    "duration": 20,
    "start_time": "2021-08-02T03:36:13.911Z"
   },
   {
    "duration": 9,
    "start_time": "2021-08-02T03:37:42.199Z"
   },
   {
    "duration": 19,
    "start_time": "2021-08-02T03:37:54.110Z"
   },
   {
    "duration": 7,
    "start_time": "2021-08-02T03:38:43.869Z"
   },
   {
    "duration": 1086,
    "start_time": "2021-08-02T03:40:08.377Z"
   },
   {
    "duration": 102,
    "start_time": "2021-08-02T03:40:09.465Z"
   },
   {
    "duration": 21,
    "start_time": "2021-08-02T03:40:09.570Z"
   },
   {
    "duration": 9,
    "start_time": "2021-08-02T03:40:09.593Z"
   },
   {
    "duration": 5,
    "start_time": "2021-08-02T03:40:09.604Z"
   },
   {
    "duration": 4,
    "start_time": "2021-08-02T03:40:09.610Z"
   },
   {
    "duration": 27,
    "start_time": "2021-08-02T03:40:09.617Z"
   },
   {
    "duration": 11,
    "start_time": "2021-08-02T03:40:09.646Z"
   },
   {
    "duration": 3,
    "start_time": "2021-08-02T03:40:09.658Z"
   },
   {
    "duration": 419,
    "start_time": "2021-08-02T03:40:09.662Z"
   },
   {
    "duration": 158,
    "start_time": "2021-08-02T03:40:49.901Z"
   },
   {
    "duration": 6,
    "start_time": "2021-08-02T03:41:26.317Z"
   },
   {
    "duration": 6,
    "start_time": "2021-08-02T03:41:45.628Z"
   },
   {
    "duration": 6,
    "start_time": "2021-08-02T03:42:03.724Z"
   },
   {
    "duration": 154,
    "start_time": "2021-08-02T03:42:23.116Z"
   },
   {
    "duration": 153,
    "start_time": "2021-08-02T03:42:33.012Z"
   },
   {
    "duration": 156,
    "start_time": "2021-08-02T03:42:40.572Z"
   },
   {
    "duration": 156,
    "start_time": "2021-08-02T03:42:47.156Z"
   },
   {
    "duration": 151,
    "start_time": "2021-08-02T03:42:52.325Z"
   },
   {
    "duration": 220,
    "start_time": "2021-08-02T03:43:45.468Z"
   },
   {
    "duration": 274,
    "start_time": "2021-08-02T04:10:20.425Z"
   },
   {
    "duration": 5,
    "start_time": "2021-08-02T04:10:28.177Z"
   },
   {
    "duration": 5,
    "start_time": "2021-08-02T06:08:02.674Z"
   },
   {
    "duration": 5,
    "start_time": "2021-08-02T06:08:05.306Z"
   },
   {
    "duration": 8,
    "start_time": "2021-08-02T06:08:11.018Z"
   },
   {
    "duration": 8,
    "start_time": "2021-08-02T06:08:38.753Z"
   },
   {
    "duration": 21,
    "start_time": "2021-08-02T06:08:47.760Z"
   },
   {
    "duration": 5,
    "start_time": "2021-08-02T06:15:11.982Z"
   },
   {
    "duration": 9,
    "start_time": "2021-08-02T06:15:56.599Z"
   },
   {
    "duration": 292,
    "start_time": "2021-08-02T06:16:09.375Z"
   },
   {
    "duration": 13,
    "start_time": "2021-08-02T06:16:17.951Z"
   },
   {
    "duration": 159,
    "start_time": "2021-08-02T06:16:28.407Z"
   },
   {
    "duration": 166,
    "start_time": "2021-08-02T06:16:51.039Z"
   },
   {
    "duration": 9,
    "start_time": "2021-08-02T06:17:10.719Z"
   },
   {
    "duration": 190,
    "start_time": "2021-08-02T06:31:48.097Z"
   },
   {
    "duration": 191,
    "start_time": "2021-08-02T06:31:52.024Z"
   },
   {
    "duration": 25,
    "start_time": "2021-08-02T06:32:00.625Z"
   },
   {
    "duration": 54,
    "start_time": "2021-08-02T06:32:55.266Z"
   },
   {
    "duration": 6,
    "start_time": "2021-08-02T06:32:57.513Z"
   },
   {
    "duration": 232,
    "start_time": "2021-08-02T06:33:08.826Z"
   },
   {
    "duration": 12645,
    "start_time": "2021-08-02T06:33:55.849Z"
   },
   {
    "duration": 352,
    "start_time": "2021-08-02T06:35:43.921Z"
   },
   {
    "duration": 7,
    "start_time": "2021-08-02T06:35:50.256Z"
   },
   {
    "duration": 23,
    "start_time": "2021-08-02T06:36:03.912Z"
   },
   {
    "duration": 17,
    "start_time": "2021-08-02T06:36:59.367Z"
   },
   {
    "duration": 18,
    "start_time": "2021-08-02T06:37:24.912Z"
   },
   {
    "duration": 12712,
    "start_time": "2021-08-02T06:38:03.912Z"
   },
   {
    "duration": 1165,
    "start_time": "2021-08-02T07:46:15.942Z"
   },
   {
    "duration": 10173,
    "start_time": "2021-08-02T07:46:28.143Z"
   },
   {
    "duration": 4204,
    "start_time": "2021-08-02T07:46:54.449Z"
   },
   {
    "duration": 186,
    "start_time": "2021-08-02T07:46:58.656Z"
   },
   {
    "duration": 25,
    "start_time": "2021-08-02T07:46:58.844Z"
   },
   {
    "duration": 7,
    "start_time": "2021-08-02T07:46:58.871Z"
   },
   {
    "duration": 14,
    "start_time": "2021-08-02T07:46:58.880Z"
   },
   {
    "duration": 8,
    "start_time": "2021-08-02T07:46:58.895Z"
   },
   {
    "duration": 246,
    "start_time": "2021-08-02T07:46:58.905Z"
   },
   {
    "duration": 28,
    "start_time": "2021-08-02T07:46:59.154Z"
   },
   {
    "duration": 77,
    "start_time": "2021-08-02T07:46:59.183Z"
   },
   {
    "duration": 6,
    "start_time": "2021-08-02T07:46:59.262Z"
   },
   {
    "duration": 246,
    "start_time": "2021-08-02T07:46:59.269Z"
   },
   {
    "duration": 23810,
    "start_time": "2021-08-02T07:46:59.517Z"
   },
   {
    "duration": 756,
    "start_time": "2021-08-02T07:47:23.329Z"
   },
   {
    "duration": 35896,
    "start_time": "2021-08-02T07:49:14.278Z"
   },
   {
    "duration": 243388,
    "start_time": "2021-08-02T07:50:20.118Z"
   },
   {
    "duration": 121565,
    "start_time": "2021-08-02T07:54:28.564Z"
   },
   {
    "duration": 54338,
    "start_time": "2021-08-02T07:57:44.636Z"
   },
   {
    "duration": 3144,
    "start_time": "2021-08-02T08:55:45.855Z"
   },
   {
    "duration": 190,
    "start_time": "2021-08-02T08:55:49.002Z"
   },
   {
    "duration": 18,
    "start_time": "2021-08-02T08:55:49.194Z"
   },
   {
    "duration": 5,
    "start_time": "2021-08-02T08:55:49.214Z"
   },
   {
    "duration": 33,
    "start_time": "2021-08-02T08:55:49.220Z"
   },
   {
    "duration": 22,
    "start_time": "2021-08-02T08:55:49.255Z"
   },
   {
    "duration": 174,
    "start_time": "2021-08-02T08:55:49.279Z"
   },
   {
    "duration": 22,
    "start_time": "2021-08-02T08:55:49.456Z"
   },
   {
    "duration": 44,
    "start_time": "2021-08-02T08:55:49.480Z"
   },
   {
    "duration": 19,
    "start_time": "2021-08-02T08:55:49.525Z"
   },
   {
    "duration": 230,
    "start_time": "2021-08-02T08:55:49.546Z"
   },
   {
    "duration": 590,
    "start_time": "2021-08-02T08:55:49.778Z"
   },
   {
    "duration": 2,
    "start_time": "2021-08-02T08:55:50.370Z"
   },
   {
    "duration": 97,
    "start_time": "2021-08-02T08:55:50.374Z"
   },
   {
    "duration": 283,
    "start_time": "2021-08-02T15:02:39.976Z"
   },
   {
    "duration": 10638,
    "start_time": "2021-08-02T15:02:51.050Z"
   },
   {
    "duration": 181,
    "start_time": "2021-08-02T15:03:01.690Z"
   },
   {
    "duration": 22,
    "start_time": "2021-08-02T15:03:01.874Z"
   },
   {
    "duration": 6,
    "start_time": "2021-08-02T15:03:01.898Z"
   },
   {
    "duration": 25,
    "start_time": "2021-08-02T15:03:01.905Z"
   },
   {
    "duration": 15,
    "start_time": "2021-08-02T15:03:01.942Z"
   },
   {
    "duration": 216,
    "start_time": "2021-08-02T15:03:01.959Z"
   },
   {
    "duration": 26,
    "start_time": "2021-08-02T15:03:02.177Z"
   },
   {
    "duration": 69,
    "start_time": "2021-08-02T15:03:02.205Z"
   },
   {
    "duration": 6,
    "start_time": "2021-08-02T15:03:02.276Z"
   },
   {
    "duration": 278,
    "start_time": "2021-08-02T15:03:02.283Z"
   },
   {
    "duration": 618,
    "start_time": "2021-08-02T15:03:02.563Z"
   },
   {
    "duration": 118829,
    "start_time": "2021-08-02T15:03:03.183Z"
   },
   {
    "duration": 82,
    "start_time": "2021-08-02T15:05:02.014Z"
   },
   {
    "duration": 5,
    "start_time": "2021-08-02T15:13:46.678Z"
   },
   {
    "duration": 5,
    "start_time": "2021-08-02T15:14:19.199Z"
   },
   {
    "duration": 7,
    "start_time": "2021-08-02T15:14:38.327Z"
   },
   {
    "duration": 34,
    "start_time": "2021-08-02T15:15:04.035Z"
   },
   {
    "duration": 22,
    "start_time": "2021-08-02T15:15:38.738Z"
   },
   {
    "duration": 10,
    "start_time": "2021-08-02T15:16:59.313Z"
   },
   {
    "duration": 6456,
    "start_time": "2021-08-02T15:17:35.470Z"
   },
   {
    "duration": 6575,
    "start_time": "2021-08-02T15:18:18.382Z"
   },
   {
    "duration": 6457,
    "start_time": "2021-08-02T15:18:46.643Z"
   },
   {
    "duration": 8255,
    "start_time": "2021-08-02T15:18:59.189Z"
   },
   {
    "duration": 12,
    "start_time": "2021-08-02T15:20:06.043Z"
   },
   {
    "duration": 5033,
    "start_time": "2021-08-02T15:20:47.058Z"
   },
   {
    "duration": 79,
    "start_time": "2021-08-02T15:23:26.996Z"
   },
   {
    "duration": 8,
    "start_time": "2021-08-02T15:23:33.932Z"
   },
   {
    "duration": 17,
    "start_time": "2021-08-02T15:23:56.126Z"
   },
   {
    "duration": 18,
    "start_time": "2021-08-02T15:25:04.867Z"
   },
   {
    "duration": 10,
    "start_time": "2021-08-02T15:25:17.454Z"
   },
   {
    "duration": 23,
    "start_time": "2021-08-02T15:26:40.037Z"
   },
   {
    "duration": 4,
    "start_time": "2021-08-02T15:26:47.462Z"
   },
   {
    "duration": 120740,
    "start_time": "2021-08-02T15:27:19.502Z"
   },
   {
    "duration": 3,
    "start_time": "2021-08-02T15:29:51.364Z"
   },
   {
    "duration": 329,
    "start_time": "2021-08-02T15:33:47.337Z"
   },
   {
    "duration": 326,
    "start_time": "2021-08-02T15:34:39.860Z"
   },
   {
    "duration": 333,
    "start_time": "2021-08-02T15:34:57.392Z"
   },
   {
    "duration": 94,
    "start_time": "2021-08-02T15:39:17.766Z"
   },
   {
    "duration": 86,
    "start_time": "2021-08-02T15:50:26.873Z"
   },
   {
    "duration": 6,
    "start_time": "2021-08-02T15:50:38.050Z"
   },
   {
    "duration": 4,
    "start_time": "2021-08-02T15:52:28.932Z"
   },
   {
    "duration": 4,
    "start_time": "2021-08-02T15:53:28.535Z"
   },
   {
    "duration": 87,
    "start_time": "2021-08-02T15:54:28.213Z"
   },
   {
    "duration": 4,
    "start_time": "2021-08-02T15:54:53.484Z"
   },
   {
    "duration": 571,
    "start_time": "2021-08-02T15:55:49.742Z"
   },
   {
    "duration": 8,
    "start_time": "2021-08-02T15:57:00.447Z"
   },
   {
    "duration": 521,
    "start_time": "2021-08-02T15:57:04.626Z"
   },
   {
    "duration": 107,
    "start_time": "2021-08-02T15:57:39.820Z"
   },
   {
    "duration": 497,
    "start_time": "2021-08-02T15:57:44.366Z"
   },
   {
    "duration": 262,
    "start_time": "2021-08-02T15:57:51.395Z"
   },
   {
    "duration": 506,
    "start_time": "2021-08-02T15:58:02.551Z"
   },
   {
    "duration": 559,
    "start_time": "2021-08-02T15:59:14.813Z"
   },
   {
    "duration": 746,
    "start_time": "2021-08-02T15:59:23.348Z"
   },
   {
    "duration": 592,
    "start_time": "2021-08-02T15:59:48.681Z"
   },
   {
    "duration": 4,
    "start_time": "2021-08-02T16:01:28.033Z"
   },
   {
    "duration": 4,
    "start_time": "2021-08-02T16:01:35.696Z"
   },
   {
    "duration": 37436,
    "start_time": "2021-08-02T16:01:39.501Z"
   },
   {
    "duration": 4,
    "start_time": "2021-08-02T16:02:39.578Z"
   },
   {
    "duration": 35989,
    "start_time": "2021-08-02T16:02:44.570Z"
   },
   {
    "duration": 49052,
    "start_time": "2021-08-02T16:05:54.541Z"
   },
   {
    "duration": 39985,
    "start_time": "2021-08-02T16:07:06.046Z"
   },
   {
    "duration": 438133,
    "start_time": "2021-08-02T16:10:08.774Z"
   },
   {
    "duration": 218662,
    "start_time": "2021-08-02T16:20:34.047Z"
   },
   {
    "duration": 122636,
    "start_time": "2021-08-02T16:25:40.800Z"
   },
   {
    "duration": 316215,
    "start_time": "2021-08-02T16:43:05.368Z"
   },
   {
    "duration": 1793989,
    "start_time": "2021-08-02T17:01:31.179Z"
   },
   {
    "duration": 82,
    "start_time": "2021-08-02T17:43:41.253Z"
   },
   {
    "duration": 6,
    "start_time": "2021-08-02T17:44:10.350Z"
   },
   {
    "duration": 249,
    "start_time": "2021-08-02T17:45:02.820Z"
   },
   {
    "duration": 496,
    "start_time": "2021-08-02T17:45:17.242Z"
   },
   {
    "duration": 535,
    "start_time": "2021-08-02T17:46:49.210Z"
   },
   {
    "duration": 6,
    "start_time": "2021-08-02T17:49:02.139Z"
   },
   {
    "duration": 753,
    "start_time": "2021-08-02T17:49:13.863Z"
   },
   {
    "duration": 15795,
    "start_time": "2021-08-03T09:20:31.473Z"
   },
   {
    "duration": 187,
    "start_time": "2021-08-03T09:20:47.270Z"
   },
   {
    "duration": 59,
    "start_time": "2021-08-03T09:20:47.461Z"
   },
   {
    "duration": 8,
    "start_time": "2021-08-03T09:20:47.524Z"
   },
   {
    "duration": 27,
    "start_time": "2021-08-03T09:20:47.535Z"
   },
   {
    "duration": 39,
    "start_time": "2021-08-03T09:20:47.565Z"
   },
   {
    "duration": 333,
    "start_time": "2021-08-03T09:20:47.607Z"
   },
   {
    "duration": 39,
    "start_time": "2021-08-03T09:20:47.944Z"
   },
   {
    "duration": 90,
    "start_time": "2021-08-03T09:20:47.986Z"
   },
   {
    "duration": 24,
    "start_time": "2021-08-03T09:20:48.078Z"
   },
   {
    "duration": 364,
    "start_time": "2021-08-03T09:20:48.104Z"
   },
   {
    "duration": 870,
    "start_time": "2021-08-03T09:20:48.471Z"
   },
   {
    "duration": 9,
    "start_time": "2021-08-03T09:20:49.344Z"
   },
   {
    "duration": 54486,
    "start_time": "2021-08-03T09:20:49.356Z"
   },
   {
    "duration": -771,
    "start_time": "2021-08-03T09:48:41.090Z"
   },
   {
    "duration": -775,
    "start_time": "2021-08-03T09:48:41.096Z"
   },
   {
    "duration": -822,
    "start_time": "2021-08-03T09:48:41.145Z"
   },
   {
    "duration": 369186,
    "start_time": "2021-08-03T09:48:44.356Z"
   },
   {
    "duration": -985,
    "start_time": "2021-08-03T09:54:54.530Z"
   },
   {
    "duration": 79812,
    "start_time": "2021-08-03T09:56:18.508Z"
   },
   {
    "duration": 155662,
    "start_time": "2021-08-03T10:08:18.188Z"
   },
   {
    "duration": 144292,
    "start_time": "2021-08-03T10:43:11.275Z"
   },
   {
    "duration": 93931,
    "start_time": "2021-08-03T10:46:14.427Z"
   },
   {
    "duration": 85604,
    "start_time": "2021-08-03T10:48:22.089Z"
   },
   {
    "duration": 802586,
    "start_time": "2021-08-03T10:52:12.983Z"
   },
   {
    "duration": 368,
    "start_time": "2021-08-03T11:38:20.791Z"
   },
   {
    "duration": 9,
    "start_time": "2021-08-03T11:38:30.328Z"
   },
   {
    "duration": 1190,
    "start_time": "2021-08-03T11:40:09.920Z"
   },
   {
    "duration": 1211,
    "start_time": "2021-08-03T11:40:14.071Z"
   },
   {
    "duration": 1284,
    "start_time": "2021-08-03T11:41:00.766Z"
   },
   {
    "duration": 1404,
    "start_time": "2021-08-03T11:41:05.327Z"
   },
   {
    "duration": 1172,
    "start_time": "2021-08-03T11:42:18.751Z"
   },
   {
    "duration": 1412,
    "start_time": "2021-08-03T11:42:29.519Z"
   },
   {
    "duration": 1255,
    "start_time": "2021-08-03T11:42:42.023Z"
   },
   {
    "duration": 1274,
    "start_time": "2021-08-03T11:42:44.783Z"
   },
   {
    "duration": 1305,
    "start_time": "2021-08-03T11:42:48.438Z"
   },
   {
    "duration": 1269,
    "start_time": "2021-08-03T11:43:08.270Z"
   },
   {
    "duration": 441,
    "start_time": "2021-08-03T11:44:41.830Z"
   },
   {
    "duration": 8605,
    "start_time": "2021-08-03T11:45:02.526Z"
   },
   {
    "duration": 9057,
    "start_time": "2021-08-03T11:46:22.870Z"
   },
   {
    "duration": 1093,
    "start_time": "2021-08-03T12:00:33.618Z"
   },
   {
    "duration": 9,
    "start_time": "2021-08-03T14:56:38.855Z"
   },
   {
    "duration": 441,
    "start_time": "2021-08-03T14:56:43.511Z"
   },
   {
    "duration": 19453,
    "start_time": "2021-08-03T14:57:00.661Z"
   },
   {
    "duration": 162,
    "start_time": "2021-08-03T14:57:20.118Z"
   },
   {
    "duration": 34,
    "start_time": "2021-08-03T14:57:20.283Z"
   },
   {
    "duration": 9,
    "start_time": "2021-08-03T14:57:20.320Z"
   },
   {
    "duration": 25,
    "start_time": "2021-08-03T14:57:20.331Z"
   },
   {
    "duration": 35,
    "start_time": "2021-08-03T14:57:20.359Z"
   },
   {
    "duration": 324,
    "start_time": "2021-08-03T14:57:20.397Z"
   },
   {
    "duration": 39,
    "start_time": "2021-08-03T14:57:20.725Z"
   },
   {
    "duration": 89,
    "start_time": "2021-08-03T14:57:20.767Z"
   },
   {
    "duration": 7,
    "start_time": "2021-08-03T14:57:20.859Z"
   },
   {
    "duration": 327,
    "start_time": "2021-08-03T14:57:20.869Z"
   },
   {
    "duration": 879,
    "start_time": "2021-08-03T14:57:21.199Z"
   },
   {
    "duration": 6,
    "start_time": "2021-08-03T14:57:22.080Z"
   },
   {
    "duration": 54699,
    "start_time": "2021-08-03T14:57:22.089Z"
   },
   {
    "duration": 730072,
    "start_time": "2021-08-03T14:58:16.790Z"
   },
   {
    "duration": 8,
    "start_time": "2021-08-03T15:10:26.864Z"
   },
   {
    "duration": 742,
    "start_time": "2021-08-03T15:10:26.886Z"
   },
   {
    "duration": 1225,
    "start_time": "2021-08-03T15:10:27.630Z"
   },
   {
    "duration": 8033,
    "start_time": "2021-08-03T15:10:28.857Z"
   },
   {
    "duration": 8,
    "start_time": "2021-08-03T15:24:31.221Z"
   },
   {
    "duration": 8818,
    "start_time": "2021-08-03T15:24:44.371Z"
   },
   {
    "duration": 9,
    "start_time": "2021-08-03T15:28:21.051Z"
   },
   {
    "duration": 13170,
    "start_time": "2021-08-03T15:28:26.323Z"
   },
   {
    "duration": 13,
    "start_time": "2021-08-03T15:38:15.623Z"
   },
   {
    "duration": 13371,
    "start_time": "2021-08-03T15:38:19.122Z"
   },
   {
    "duration": 9,
    "start_time": "2021-08-03T15:42:51.268Z"
   },
   {
    "duration": 861,
    "start_time": "2021-08-03T15:43:11.246Z"
   },
   {
    "duration": 9,
    "start_time": "2021-08-03T15:44:11.190Z"
   },
   {
    "duration": 930,
    "start_time": "2021-08-03T15:44:14.064Z"
   },
   {
    "duration": 9,
    "start_time": "2021-08-03T15:44:48.615Z"
   },
   {
    "duration": 769,
    "start_time": "2021-08-03T15:44:51.411Z"
   },
   {
    "duration": 1305,
    "start_time": "2021-08-03T15:45:20.436Z"
   },
   {
    "duration": 8522,
    "start_time": "2021-08-03T15:46:09.869Z"
   },
   {
    "duration": 397,
    "start_time": "2021-08-03T15:46:26.051Z"
   },
   {
    "duration": 8730,
    "start_time": "2021-08-03T15:46:47.756Z"
   },
   {
    "duration": 8125,
    "start_time": "2021-08-03T15:47:19.164Z"
   },
   {
    "duration": 1069,
    "start_time": "2021-08-03T15:47:52.346Z"
   },
   {
    "duration": 1261,
    "start_time": "2021-08-03T15:48:01.419Z"
   },
   {
    "duration": 9,
    "start_time": "2021-08-03T16:00:59.314Z"
   },
   {
    "duration": 9572,
    "start_time": "2021-08-03T16:01:06.614Z"
   },
   {
    "duration": 7,
    "start_time": "2021-08-03T16:13:12.815Z"
   },
   {
    "duration": 9,
    "start_time": "2021-08-03T16:13:21.822Z"
   },
   {
    "duration": 10,
    "start_time": "2021-08-03T16:13:26.986Z"
   },
   {
    "duration": 697,
    "start_time": "2021-08-03T16:15:05.919Z"
   },
   {
    "duration": 624,
    "start_time": "2021-08-03T16:15:21.235Z"
   },
   {
    "duration": 131,
    "start_time": "2021-08-03T16:16:19.052Z"
   },
   {
    "duration": 5000,
    "start_time": "2021-08-03T16:16:39.563Z"
   },
   {
    "duration": 574,
    "start_time": "2021-08-03T16:16:51.678Z"
   },
   {
    "duration": 10,
    "start_time": "2021-08-03T16:32:17.485Z"
   },
   {
    "duration": 9,
    "start_time": "2021-08-03T16:32:39.555Z"
   },
   {
    "duration": 1126,
    "start_time": "2021-08-03T16:33:49.203Z"
   },
   {
    "duration": 1368,
    "start_time": "2021-08-03T16:34:17.234Z"
   },
   {
    "duration": 11066,
    "start_time": "2021-08-03T16:35:26.632Z"
   },
   {
    "duration": 728,
    "start_time": "2021-08-03T16:36:12.598Z"
   },
   {
    "duration": 1487,
    "start_time": "2021-08-03T16:36:30.130Z"
   },
   {
    "duration": 8813,
    "start_time": "2021-08-03T16:36:55.583Z"
   },
   {
    "duration": 863,
    "start_time": "2021-08-03T16:38:48.667Z"
   },
   {
    "duration": 1067,
    "start_time": "2021-08-03T16:42:00.490Z"
   },
   {
    "duration": 7143,
    "start_time": "2021-08-03T16:43:35.421Z"
   },
   {
    "duration": 297,
    "start_time": "2021-08-03T16:43:42.568Z"
   },
   {
    "duration": 44,
    "start_time": "2021-08-03T16:43:42.869Z"
   },
   {
    "duration": 9,
    "start_time": "2021-08-03T16:43:42.917Z"
   },
   {
    "duration": 20,
    "start_time": "2021-08-03T16:43:42.929Z"
   },
   {
    "duration": 39,
    "start_time": "2021-08-03T16:43:42.951Z"
   },
   {
    "duration": 328,
    "start_time": "2021-08-03T16:43:42.994Z"
   },
   {
    "duration": 66,
    "start_time": "2021-08-03T16:43:43.327Z"
   },
   {
    "duration": 86,
    "start_time": "2021-08-03T16:43:43.399Z"
   },
   {
    "duration": 29,
    "start_time": "2021-08-03T16:43:43.489Z"
   },
   {
    "duration": 338,
    "start_time": "2021-08-03T16:43:43.521Z"
   },
   {
    "duration": 888,
    "start_time": "2021-08-03T16:43:43.861Z"
   },
   {
    "duration": 6,
    "start_time": "2021-08-03T16:43:44.752Z"
   },
   {
    "duration": 56389,
    "start_time": "2021-08-03T16:43:44.761Z"
   },
   {
    "duration": 540494,
    "start_time": "2021-08-03T16:44:41.152Z"
   },
   {
    "duration": -144100,
    "start_time": "2021-08-03T16:56:05.749Z"
   },
   {
    "duration": -144109,
    "start_time": "2021-08-03T16:56:05.760Z"
   },
   {
    "duration": -144114,
    "start_time": "2021-08-03T16:56:05.766Z"
   },
   {
    "duration": -144121,
    "start_time": "2021-08-03T16:56:05.775Z"
   },
   {
    "duration": -144127,
    "start_time": "2021-08-03T16:56:05.783Z"
   },
   {
    "duration": -144133,
    "start_time": "2021-08-03T16:56:05.790Z"
   },
   {
    "duration": -144137,
    "start_time": "2021-08-03T16:56:05.796Z"
   },
   {
    "duration": -144142,
    "start_time": "2021-08-03T16:56:05.803Z"
   },
   {
    "duration": 39332,
    "start_time": "2021-08-03T16:53:51.859Z"
   },
   {
    "duration": -144044,
    "start_time": "2021-08-03T16:56:55.239Z"
   },
   {
    "duration": 6584,
    "start_time": "2021-08-03T16:55:20.935Z"
   },
   {
    "duration": 259,
    "start_time": "2021-08-03T16:55:27.522Z"
   },
   {
    "duration": 41,
    "start_time": "2021-08-03T16:55:27.785Z"
   },
   {
    "duration": 8,
    "start_time": "2021-08-03T16:55:27.829Z"
   },
   {
    "duration": 20,
    "start_time": "2021-08-03T16:55:27.840Z"
   },
   {
    "duration": 20,
    "start_time": "2021-08-03T16:55:27.886Z"
   },
   {
    "duration": 333,
    "start_time": "2021-08-03T16:55:27.908Z"
   },
   {
    "duration": 60,
    "start_time": "2021-08-03T16:55:28.247Z"
   },
   {
    "duration": 87,
    "start_time": "2021-08-03T16:55:28.310Z"
   },
   {
    "duration": 11,
    "start_time": "2021-08-03T16:55:28.400Z"
   },
   {
    "duration": 358,
    "start_time": "2021-08-03T16:55:28.414Z"
   },
   {
    "duration": 869,
    "start_time": "2021-08-03T16:55:28.774Z"
   },
   {
    "duration": 6,
    "start_time": "2021-08-03T16:55:29.646Z"
   },
   {
    "duration": 7,
    "start_time": "2021-08-03T16:55:29.655Z"
   },
   {
    "duration": 20,
    "start_time": "2021-08-03T16:55:29.665Z"
   },
   {
    "duration": 20,
    "start_time": "2021-08-03T16:55:29.689Z"
   },
   {
    "duration": 1147,
    "start_time": "2021-08-03T16:55:29.711Z"
   },
   {
    "duration": 1276,
    "start_time": "2021-08-03T16:55:30.861Z"
   },
   {
    "duration": 9647,
    "start_time": "2021-08-03T16:55:32.140Z"
   },
   {
    "duration": 779,
    "start_time": "2021-08-03T16:55:41.789Z"
   },
   {
    "duration": 1280,
    "start_time": "2021-08-03T16:55:42.571Z"
   },
   {
    "duration": 8353,
    "start_time": "2021-08-03T16:55:43.853Z"
   },
   {
    "duration": 1434,
    "start_time": "2021-08-03T16:55:52.214Z"
   },
   {
    "duration": 918,
    "start_time": "2021-08-03T16:57:43.159Z"
   },
   {
    "duration": 441,
    "start_time": "2021-08-03T17:01:48.990Z"
   },
   {
    "duration": 428,
    "start_time": "2021-08-03T17:05:20.334Z"
   },
   {
    "duration": 2441,
    "start_time": "2021-08-03T17:05:23.855Z"
   },
   {
    "duration": 3926,
    "start_time": "2021-08-03T17:05:41.654Z"
   },
   {
    "duration": 15569,
    "start_time": "2021-08-03T17:05:55.230Z"
   },
   {
    "duration": 14562,
    "start_time": "2021-08-03T17:07:12.525Z"
   },
   {
    "duration": 4,
    "start_time": "2021-08-03T17:08:16.283Z"
   },
   {
    "duration": 3,
    "start_time": "2021-08-03T17:08:18.760Z"
   },
   {
    "duration": 56898,
    "start_time": "2021-08-03T17:08:39.712Z"
   },
   {
    "duration": 67138,
    "start_time": "2021-08-03T17:10:04.134Z"
   },
   {
    "duration": 108676,
    "start_time": "2021-08-03T17:11:54.514Z"
   },
   {
    "duration": 306521,
    "start_time": "2021-08-03T17:20:41.439Z"
   },
   {
    "duration": 2600,
    "start_time": "2021-08-03T17:27:10.245Z"
   },
   {
    "duration": 3610,
    "start_time": "2021-08-03T17:27:30.293Z"
   },
   {
    "duration": 3351,
    "start_time": "2021-08-03T17:27:50.803Z"
   },
   {
    "duration": 3597,
    "start_time": "2021-08-03T17:28:00.389Z"
   },
   {
    "duration": 3510,
    "start_time": "2021-08-03T17:28:09.550Z"
   },
   {
    "duration": 3547,
    "start_time": "2021-08-03T17:28:37.632Z"
   },
   {
    "duration": 401,
    "start_time": "2021-08-03T17:31:36.649Z"
   },
   {
    "duration": 6,
    "start_time": "2021-08-03T17:32:30.554Z"
   },
   {
    "duration": 151395,
    "start_time": "2021-08-03T17:32:46.779Z"
   },
   {
    "duration": 86938,
    "start_time": "2021-08-03T17:38:26.249Z"
   },
   {
    "duration": 82640,
    "start_time": "2021-08-03T17:40:59.174Z"
   },
   {
    "duration": 141564,
    "start_time": "2021-08-03T17:44:38.335Z"
   },
   {
    "duration": 2580,
    "start_time": "2021-08-03T17:54:20.280Z"
   },
   {
    "duration": 468,
    "start_time": "2021-08-03T17:55:02.064Z"
   },
   {
    "duration": 238017,
    "start_time": "2021-08-03T17:55:47.832Z"
   },
   {
    "duration": 472127,
    "start_time": "2021-08-03T18:01:07.824Z"
   },
   {
    "duration": 10684,
    "start_time": "2021-08-03T18:11:46.245Z"
   },
   {
    "duration": 10207,
    "start_time": "2021-08-03T18:12:19.537Z"
   },
   {
    "duration": 10271,
    "start_time": "2021-08-03T18:12:36.768Z"
   },
   {
    "duration": 9962,
    "start_time": "2021-08-03T18:13:03.747Z"
   },
   {
    "duration": 11422,
    "start_time": "2021-08-03T18:13:20.198Z"
   },
   {
    "duration": 12015,
    "start_time": "2021-08-03T18:13:45.280Z"
   },
   {
    "duration": 10347,
    "start_time": "2021-08-03T18:14:12.539Z"
   },
   {
    "duration": 13018,
    "start_time": "2021-08-03T18:14:25.833Z"
   },
   {
    "duration": 11369,
    "start_time": "2021-08-03T18:14:46.469Z"
   },
   {
    "duration": 15645,
    "start_time": "2021-08-03T18:17:52.155Z"
   },
   {
    "duration": 14552,
    "start_time": "2021-08-03T18:19:15.542Z"
   },
   {
    "duration": 407,
    "start_time": "2021-08-03T18:19:43.451Z"
   },
   {
    "duration": 15783,
    "start_time": "2021-08-03T18:19:51.111Z"
   },
   {
    "duration": 15321,
    "start_time": "2021-08-03T18:20:26.170Z"
   },
   {
    "duration": 10981,
    "start_time": "2021-08-03T18:20:58.426Z"
   },
   {
    "duration": 10456,
    "start_time": "2021-08-03T18:21:17.093Z"
   },
   {
    "duration": 10508,
    "start_time": "2021-08-03T18:22:38.798Z"
   },
   {
    "duration": 1210,
    "start_time": "2021-08-03T18:24:42.337Z"
   },
   {
    "duration": 254,
    "start_time": "2021-08-03T18:26:10.013Z"
   },
   {
    "duration": 989,
    "start_time": "2021-08-03T18:39:42.231Z"
   },
   {
    "duration": 5,
    "start_time": "2021-08-03T18:39:57.718Z"
   },
   {
    "duration": 901,
    "start_time": "2021-08-03T18:40:02.393Z"
   },
   {
    "duration": 64,
    "start_time": "2021-08-03T18:40:09.037Z"
   },
   {
    "duration": 114,
    "start_time": "2021-08-03T18:40:20.179Z"
   },
   {
    "duration": 17,
    "start_time": "2021-08-03T18:40:29.633Z"
   },
   {
    "duration": 12,
    "start_time": "2021-08-03T18:40:48.103Z"
   },
   {
    "duration": 189,
    "start_time": "2021-08-03T18:42:51.723Z"
   },
   {
    "duration": 68,
    "start_time": "2021-08-03T18:42:55.082Z"
   },
   {
    "duration": 13,
    "start_time": "2021-08-03T18:42:57.314Z"
   },
   {
    "duration": 867,
    "start_time": "2021-08-03T18:43:05.438Z"
   },
   {
    "duration": 120,
    "start_time": "2021-08-03T18:43:08.249Z"
   },
   {
    "duration": 13,
    "start_time": "2021-08-03T18:43:10.245Z"
   },
   {
    "duration": 933,
    "start_time": "2021-08-03T18:43:18.045Z"
   },
   {
    "duration": 122,
    "start_time": "2021-08-03T18:43:21.274Z"
   },
   {
    "duration": 13,
    "start_time": "2021-08-03T18:43:23.225Z"
   },
   {
    "duration": 387,
    "start_time": "2021-08-03T18:45:08.844Z"
   },
   {
    "duration": 117,
    "start_time": "2021-08-03T18:45:24.361Z"
   },
   {
    "duration": 829,
    "start_time": "2021-08-03T18:45:27.428Z"
   },
   {
    "duration": 118,
    "start_time": "2021-08-03T18:45:30.244Z"
   },
   {
    "duration": 14,
    "start_time": "2021-08-03T18:45:32.200Z"
   },
   {
    "duration": 281,
    "start_time": "2021-08-03T18:46:32.343Z"
   },
   {
    "duration": 9323,
    "start_time": "2021-08-03T18:46:47.073Z"
   },
   {
    "duration": 151,
    "start_time": "2021-08-03T18:47:03.687Z"
   },
   {
    "duration": 14,
    "start_time": "2021-08-03T18:47:05.750Z"
   },
   {
    "duration": 13,
    "start_time": "2021-08-03T18:52:14.439Z"
   },
   {
    "duration": 23310,
    "start_time": "2021-08-04T15:18:36.412Z"
   },
   {
    "duration": 161,
    "start_time": "2021-08-04T15:18:59.726Z"
   },
   {
    "duration": 35,
    "start_time": "2021-08-04T15:18:59.891Z"
   },
   {
    "duration": 37,
    "start_time": "2021-08-04T15:18:59.929Z"
   },
   {
    "duration": 17,
    "start_time": "2021-08-04T15:18:59.969Z"
   },
   {
    "duration": 14,
    "start_time": "2021-08-04T15:18:59.988Z"
   },
   {
    "duration": 342,
    "start_time": "2021-08-04T15:19:00.004Z"
   },
   {
    "duration": 48,
    "start_time": "2021-08-04T15:19:00.350Z"
   },
   {
    "duration": 98,
    "start_time": "2021-08-04T15:19:00.402Z"
   },
   {
    "duration": 12,
    "start_time": "2021-08-04T15:19:00.503Z"
   },
   {
    "duration": 531,
    "start_time": "2021-08-04T15:19:00.518Z"
   },
   {
    "duration": 1039,
    "start_time": "2021-08-04T15:19:01.052Z"
   },
   {
    "duration": 8,
    "start_time": "2021-08-04T15:19:02.095Z"
   },
   {
    "duration": 26,
    "start_time": "2021-08-04T15:19:02.106Z"
   },
   {
    "duration": 13,
    "start_time": "2021-08-04T15:19:02.135Z"
   },
   {
    "duration": 17,
    "start_time": "2021-08-04T15:19:02.151Z"
   },
   {
    "duration": 1167,
    "start_time": "2021-08-04T15:19:02.171Z"
   },
   {
    "duration": 1239,
    "start_time": "2021-08-04T15:19:03.340Z"
   },
   {
    "duration": 8200,
    "start_time": "2021-08-04T15:19:04.581Z"
   },
   {
    "duration": 769,
    "start_time": "2021-08-04T15:19:12.862Z"
   },
   {
    "duration": 1244,
    "start_time": "2021-08-04T15:19:13.633Z"
   },
   {
    "duration": 6985,
    "start_time": "2021-08-04T15:19:14.879Z"
   },
   {
    "duration": 489,
    "start_time": "2021-08-04T15:19:21.868Z"
   },
   {
    "duration": 3,
    "start_time": "2021-08-04T15:19:22.361Z"
   },
   {
    "duration": 6,
    "start_time": "2021-08-04T15:19:22.367Z"
   },
   {
    "duration": 2470,
    "start_time": "2021-08-04T15:19:22.375Z"
   },
   {
    "duration": 10260,
    "start_time": "2021-08-04T15:19:24.847Z"
   },
   {
    "duration": 13256,
    "start_time": "2021-08-04T15:19:35.109Z"
   },
   {
    "duration": 9283,
    "start_time": "2021-08-04T15:19:48.367Z"
   },
   {
    "duration": 151,
    "start_time": "2021-08-04T15:19:57.652Z"
   },
   {
    "duration": 14,
    "start_time": "2021-08-04T15:19:57.805Z"
   },
   {
    "duration": 630,
    "start_time": "2021-08-04T15:29:50.754Z"
   },
   {
    "duration": 651,
    "start_time": "2021-08-04T15:30:25.044Z"
   },
   {
    "duration": 671,
    "start_time": "2021-08-04T15:31:00.100Z"
   },
   {
    "duration": 967,
    "start_time": "2021-08-04T15:33:23.482Z"
   },
   {
    "duration": 648,
    "start_time": "2021-08-04T15:34:40.915Z"
   },
   {
    "duration": 629,
    "start_time": "2021-08-04T15:34:58.066Z"
   },
   {
    "duration": 661,
    "start_time": "2021-08-04T15:35:05.960Z"
   },
   {
    "duration": 612,
    "start_time": "2021-08-04T15:35:21.311Z"
   },
   {
    "duration": 630,
    "start_time": "2021-08-04T15:35:45.552Z"
   },
   {
    "duration": 694,
    "start_time": "2021-08-04T15:36:03.848Z"
   },
   {
    "duration": 51481,
    "start_time": "2021-08-04T15:42:08.282Z"
   },
   {
    "duration": 305619,
    "start_time": "2021-08-04T16:13:18.417Z"
   },
   {
    "duration": 1225,
    "start_time": "2021-08-04T16:58:09.795Z"
   },
   {
    "duration": 731003,
    "start_time": "2021-08-04T17:00:58.015Z"
   },
   {
    "duration": 16258,
    "start_time": "2021-08-05T04:13:10.406Z"
   },
   {
    "duration": 276,
    "start_time": "2021-08-05T04:13:26.667Z"
   },
   {
    "duration": 48,
    "start_time": "2021-08-05T04:13:26.947Z"
   },
   {
    "duration": 8,
    "start_time": "2021-08-05T04:13:26.998Z"
   },
   {
    "duration": 17,
    "start_time": "2021-08-05T04:13:27.009Z"
   },
   {
    "duration": 13,
    "start_time": "2021-08-05T04:13:27.029Z"
   },
   {
    "duration": 352,
    "start_time": "2021-08-05T04:13:27.045Z"
   },
   {
    "duration": 38,
    "start_time": "2021-08-05T04:13:27.401Z"
   },
   {
    "duration": 93,
    "start_time": "2021-08-05T04:13:27.442Z"
   },
   {
    "duration": 9,
    "start_time": "2021-08-05T04:13:27.538Z"
   },
   {
    "duration": 318,
    "start_time": "2021-08-05T04:13:27.550Z"
   },
   {
    "duration": 949,
    "start_time": "2021-08-05T04:13:27.871Z"
   },
   {
    "duration": 6,
    "start_time": "2021-08-05T04:13:28.823Z"
   },
   {
    "duration": 10,
    "start_time": "2021-08-05T04:13:28.832Z"
   },
   {
    "duration": 9,
    "start_time": "2021-08-05T04:13:28.845Z"
   },
   {
    "duration": 1090,
    "start_time": "2021-08-05T04:13:28.857Z"
   },
   {
    "duration": 3,
    "start_time": "2021-08-05T04:13:29.950Z"
   },
   {
    "duration": 1257,
    "start_time": "2021-08-05T04:13:29.956Z"
   },
   {
    "duration": 8473,
    "start_time": "2021-08-05T04:13:31.216Z"
   },
   {
    "duration": 129,
    "start_time": "2021-08-05T04:13:39.691Z"
   },
   {
    "duration": -92,
    "start_time": "2021-08-05T04:13:39.915Z"
   },
   {
    "duration": -98,
    "start_time": "2021-08-05T04:13:39.922Z"
   },
   {
    "duration": -99,
    "start_time": "2021-08-05T04:13:39.925Z"
   },
   {
    "duration": -110,
    "start_time": "2021-08-05T04:13:39.937Z"
   },
   {
    "duration": -112,
    "start_time": "2021-08-05T04:13:39.940Z"
   },
   {
    "duration": -112,
    "start_time": "2021-08-05T04:13:39.942Z"
   },
   {
    "duration": -122,
    "start_time": "2021-08-05T04:13:39.954Z"
   },
   {
    "duration": -138,
    "start_time": "2021-08-05T04:13:39.972Z"
   },
   {
    "duration": -146,
    "start_time": "2021-08-05T04:13:39.981Z"
   },
   {
    "duration": -152,
    "start_time": "2021-08-05T04:13:39.988Z"
   },
   {
    "duration": -154,
    "start_time": "2021-08-05T04:13:39.992Z"
   },
   {
    "duration": -158,
    "start_time": "2021-08-05T04:13:39.998Z"
   },
   {
    "duration": 144,
    "start_time": "2021-08-05T04:15:35.899Z"
   },
   {
    "duration": 49614,
    "start_time": "2021-08-05T04:15:41.539Z"
   },
   {
    "duration": 278805,
    "start_time": "2021-08-05T04:17:17.593Z"
   },
   {
    "duration": 778,
    "start_time": "2021-08-05T04:22:30.353Z"
   },
   {
    "duration": 6,
    "start_time": "2021-08-05T04:26:21.432Z"
   },
   {
    "duration": 39065,
    "start_time": "2021-08-05T04:27:05.909Z"
   },
   {
    "duration": 39887,
    "start_time": "2021-08-05T04:28:20.645Z"
   },
   {
    "duration": 26190,
    "start_time": "2021-08-05T04:29:25.637Z"
   },
   {
    "duration": 315578,
    "start_time": "2021-08-05T04:29:54.910Z"
   },
   {
    "duration": 179566,
    "start_time": "2021-08-05T04:39:08.338Z"
   },
   {
    "duration": 711522,
    "start_time": "2021-08-05T04:42:55.231Z"
   },
   {
    "duration": 98284,
    "start_time": "2021-08-05T05:01:50.771Z"
   },
   {
    "duration": 724,
    "start_time": "2021-08-05T05:29:13.755Z"
   },
   {
    "duration": 672629,
    "start_time": "2021-08-05T05:37:54.973Z"
   },
   {
    "duration": 3201,
    "start_time": "2021-08-05T05:51:13.803Z"
   },
   {
    "duration": 8549,
    "start_time": "2021-08-05T06:12:41.637Z"
   },
   {
    "duration": 7990,
    "start_time": "2021-08-05T06:24:10.697Z"
   },
   {
    "duration": 8621,
    "start_time": "2021-08-05T06:26:40.265Z"
   },
   {
    "duration": 11222,
    "start_time": "2021-08-05T15:25:10.415Z"
   },
   {
    "duration": 135,
    "start_time": "2021-08-05T15:25:21.640Z"
   },
   {
    "duration": 33,
    "start_time": "2021-08-05T15:25:21.778Z"
   },
   {
    "duration": 10,
    "start_time": "2021-08-05T15:25:21.814Z"
   },
   {
    "duration": 19,
    "start_time": "2021-08-05T15:25:21.827Z"
   },
   {
    "duration": 43,
    "start_time": "2021-08-05T15:25:21.849Z"
   },
   {
    "duration": 295,
    "start_time": "2021-08-05T15:25:21.894Z"
   },
   {
    "duration": 38,
    "start_time": "2021-08-05T15:25:22.193Z"
   },
   {
    "duration": 96,
    "start_time": "2021-08-05T15:25:22.234Z"
   },
   {
    "duration": 11,
    "start_time": "2021-08-05T15:25:22.332Z"
   },
   {
    "duration": 318,
    "start_time": "2021-08-05T15:25:22.345Z"
   },
   {
    "duration": 877,
    "start_time": "2021-08-05T15:25:22.666Z"
   },
   {
    "duration": 6,
    "start_time": "2021-08-05T15:25:23.546Z"
   },
   {
    "duration": 29,
    "start_time": "2021-08-05T15:25:23.554Z"
   },
   {
    "duration": 1046,
    "start_time": "2021-08-05T15:25:29.242Z"
   },
   {
    "duration": 1108,
    "start_time": "2021-08-05T15:25:44.999Z"
   },
   {
    "duration": 10017,
    "start_time": "2021-08-05T15:25:58.279Z"
   },
   {
    "duration": 705,
    "start_time": "2021-08-05T15:26:34.196Z"
   },
   {
    "duration": 2671,
    "start_time": "2021-08-05T15:26:48.915Z"
   },
   {
    "duration": 9131,
    "start_time": "2021-08-05T15:30:20.154Z"
   },
   {
    "duration": 3645,
    "start_time": "2021-08-05T15:31:42.350Z"
   },
   {
    "duration": 103,
    "start_time": "2021-08-05T15:31:45.997Z"
   },
   {
    "duration": 34,
    "start_time": "2021-08-05T15:31:46.103Z"
   },
   {
    "duration": 9,
    "start_time": "2021-08-05T15:31:46.139Z"
   },
   {
    "duration": 40,
    "start_time": "2021-08-05T15:31:46.150Z"
   },
   {
    "duration": 15,
    "start_time": "2021-08-05T15:31:46.193Z"
   },
   {
    "duration": 276,
    "start_time": "2021-08-05T15:31:46.211Z"
   },
   {
    "duration": 51,
    "start_time": "2021-08-05T15:31:46.491Z"
   },
   {
    "duration": 70,
    "start_time": "2021-08-05T15:31:46.545Z"
   },
   {
    "duration": 11,
    "start_time": "2021-08-05T15:31:46.619Z"
   },
   {
    "duration": 314,
    "start_time": "2021-08-05T15:31:46.633Z"
   },
   {
    "duration": 871,
    "start_time": "2021-08-05T15:31:46.950Z"
   },
   {
    "duration": 7,
    "start_time": "2021-08-05T15:31:47.823Z"
   },
   {
    "duration": 10,
    "start_time": "2021-08-05T15:31:47.832Z"
   },
   {
    "duration": 1100,
    "start_time": "2021-08-05T15:31:55.585Z"
   },
   {
    "duration": 1102,
    "start_time": "2021-08-05T15:32:05.046Z"
   },
   {
    "duration": 11793,
    "start_time": "2021-08-05T15:33:06.293Z"
   },
   {
    "duration": 681,
    "start_time": "2021-08-05T15:33:38.101Z"
   },
   {
    "duration": 2734,
    "start_time": "2021-08-05T15:34:10.876Z"
   },
   {
    "duration": 9120,
    "start_time": "2021-08-05T15:36:38.071Z"
   },
   {
    "duration": 619,
    "start_time": "2021-08-05T15:43:48.733Z"
   },
   {
    "duration": 434,
    "start_time": "2021-08-05T15:43:59.075Z"
   },
   {
    "duration": 82387,
    "start_time": "2021-08-05T15:44:03.371Z"
   },
   {
    "duration": 2923,
    "start_time": "2021-08-05T15:46:41.366Z"
   },
   {
    "duration": 2434,
    "start_time": "2021-08-05T15:47:26.575Z"
   },
   {
    "duration": 291,
    "start_time": "2021-08-05T15:47:43.468Z"
   },
   {
    "duration": 76939,
    "start_time": "2021-08-05T15:47:57.319Z"
   },
   {
    "duration": 435564,
    "start_time": "2021-08-05T16:02:00.253Z"
   },
   {
    "duration": 10851,
    "start_time": "2021-08-05T16:09:24.432Z"
   },
   {
    "duration": 421036,
    "start_time": "2021-08-05T16:09:57.402Z"
   },
   {
    "duration": 9846,
    "start_time": "2021-08-05T16:17:17.141Z"
   },
   {
    "duration": 683210,
    "start_time": "2021-08-05T16:18:16.798Z"
   },
   {
    "duration": 10789,
    "start_time": "2021-08-05T16:32:09.952Z"
   },
   {
    "duration": 9977,
    "start_time": "2021-08-05T16:32:33.052Z"
   },
   {
    "duration": 9895,
    "start_time": "2021-08-05T16:33:01.845Z"
   },
   {
    "duration": 9422,
    "start_time": "2021-08-05T16:33:39.016Z"
   },
   {
    "duration": 273528,
    "start_time": "2021-08-05T16:35:12.976Z"
   },
   {
    "duration": -149899,
    "start_time": "2021-08-05T16:42:16.406Z"
   },
   {
    "duration": 14145,
    "start_time": "2021-08-05T16:39:56.056Z"
   },
   {
    "duration": 9278,
    "start_time": "2021-08-05T16:40:47.791Z"
   },
   {
    "duration": 802808,
    "start_time": "2021-08-05T16:41:04.297Z"
   },
   {
    "duration": 117278,
    "start_time": "2021-08-05T16:54:59.121Z"
   },
   {
    "duration": 140839,
    "start_time": "2021-08-05T16:57:20.119Z"
   },
   {
    "duration": 91,
    "start_time": "2021-08-05T17:00:33.029Z"
   },
   {
    "duration": 286156,
    "start_time": "2021-08-05T17:00:38.865Z"
   },
   {
    "duration": 9422,
    "start_time": "2021-08-05T17:05:56.427Z"
   },
   {
    "duration": 11501,
    "start_time": "2021-08-05T17:06:16.143Z"
   },
   {
    "duration": 11585,
    "start_time": "2021-08-05T17:06:52.102Z"
   },
   {
    "duration": 11156,
    "start_time": "2021-08-05T17:07:20.451Z"
   },
   {
    "duration": 11331,
    "start_time": "2021-08-05T17:07:36.917Z"
   },
   {
    "duration": 11353,
    "start_time": "2021-08-05T17:07:52.875Z"
   },
   {
    "duration": 9366,
    "start_time": "2021-08-05T17:08:29.085Z"
   },
   {
    "duration": 10104,
    "start_time": "2021-08-05T17:08:45.485Z"
   },
   {
    "duration": 83,
    "start_time": "2021-08-05T17:09:35.232Z"
   },
   {
    "duration": 956369,
    "start_time": "2021-08-05T17:09:39.394Z"
   },
   {
    "duration": -149784,
    "start_time": "2021-08-05T17:28:05.552Z"
   },
   {
    "duration": -149810,
    "start_time": "2021-08-05T17:28:05.580Z"
   },
   {
    "duration": 364,
    "start_time": "2021-08-05T17:26:19.732Z"
   },
   {
    "duration": 13206,
    "start_time": "2021-08-05T17:26:33.193Z"
   },
   {
    "duration": 952911,
    "start_time": "2021-08-05T17:29:50.846Z"
   },
   {
    "duration": 529070,
    "start_time": "2021-08-05T17:46:00.244Z"
   },
   {
    "duration": 754700,
    "start_time": "2021-08-05T17:55:21.525Z"
   },
   {
    "duration": 344200,
    "start_time": "2021-08-05T18:08:13.018Z"
   },
   {
    "duration": 3946,
    "start_time": "2021-08-05T18:15:57.011Z"
   },
   {
    "duration": 103,
    "start_time": "2021-08-05T18:16:00.960Z"
   },
   {
    "duration": 36,
    "start_time": "2021-08-05T18:16:01.066Z"
   },
   {
    "duration": 9,
    "start_time": "2021-08-05T18:16:01.105Z"
   },
   {
    "duration": 25,
    "start_time": "2021-08-05T18:16:01.116Z"
   },
   {
    "duration": 43,
    "start_time": "2021-08-05T18:16:01.144Z"
   },
   {
    "duration": 273,
    "start_time": "2021-08-05T18:16:01.190Z"
   },
   {
    "duration": 50,
    "start_time": "2021-08-05T18:16:01.466Z"
   },
   {
    "duration": 49,
    "start_time": "2021-08-05T18:16:01.519Z"
   },
   {
    "duration": 13,
    "start_time": "2021-08-05T18:16:01.582Z"
   },
   {
    "duration": 333,
    "start_time": "2021-08-05T18:16:01.598Z"
   },
   {
    "duration": 892,
    "start_time": "2021-08-05T18:16:01.933Z"
   },
   {
    "duration": 7,
    "start_time": "2021-08-05T18:16:02.828Z"
   },
   {
    "duration": 17,
    "start_time": "2021-08-05T18:16:02.838Z"
   },
   {
    "duration": 5933,
    "start_time": "2021-08-05T18:19:03.014Z"
   },
   {
    "duration": 101,
    "start_time": "2021-08-05T18:19:08.950Z"
   },
   {
    "duration": 42,
    "start_time": "2021-08-05T18:19:09.053Z"
   },
   {
    "duration": 8,
    "start_time": "2021-08-05T18:19:09.100Z"
   },
   {
    "duration": 16,
    "start_time": "2021-08-05T18:19:09.111Z"
   },
   {
    "duration": 12,
    "start_time": "2021-08-05T18:19:09.129Z"
   },
   {
    "duration": 320,
    "start_time": "2021-08-05T18:19:09.143Z"
   },
   {
    "duration": 45,
    "start_time": "2021-08-05T18:19:09.467Z"
   },
   {
    "duration": 87,
    "start_time": "2021-08-05T18:19:09.516Z"
   },
   {
    "duration": 12,
    "start_time": "2021-08-05T18:19:09.605Z"
   },
   {
    "duration": 327,
    "start_time": "2021-08-05T18:19:09.620Z"
   },
   {
    "duration": 905,
    "start_time": "2021-08-05T18:19:09.949Z"
   },
   {
    "duration": 6,
    "start_time": "2021-08-05T18:19:10.856Z"
   },
   {
    "duration": 17,
    "start_time": "2021-08-05T18:19:10.884Z"
   },
   {
    "duration": 6,
    "start_time": "2021-08-05T18:19:10.904Z"
   },
   {
    "duration": 1119,
    "start_time": "2021-08-05T18:19:10.912Z"
   },
   {
    "duration": 3,
    "start_time": "2021-08-05T18:19:12.033Z"
   },
   {
    "duration": 1234,
    "start_time": "2021-08-05T18:19:12.039Z"
   },
   {
    "duration": 8124,
    "start_time": "2021-08-05T18:19:13.285Z"
   },
   {
    "duration": 3,
    "start_time": "2021-08-05T18:19:21.496Z"
   },
   {
    "duration": 748,
    "start_time": "2021-08-05T18:19:21.502Z"
   },
   {
    "duration": 3,
    "start_time": "2021-08-05T18:19:22.253Z"
   },
   {
    "duration": 2914,
    "start_time": "2021-08-05T18:19:22.260Z"
   },
   {
    "duration": 7322,
    "start_time": "2021-08-05T18:19:25.184Z"
   },
   {
    "duration": 442,
    "start_time": "2021-08-05T18:19:32.508Z"
   },
   {
    "duration": 3,
    "start_time": "2021-08-05T18:19:32.952Z"
   },
   {
    "duration": 2413,
    "start_time": "2021-08-05T18:19:32.958Z"
   },
   {
    "duration": 13,
    "start_time": "2021-08-05T18:19:35.374Z"
   },
   {
    "duration": 10329,
    "start_time": "2021-08-05T18:19:35.390Z"
   },
   {
    "duration": 13483,
    "start_time": "2021-08-05T18:19:45.721Z"
   },
   {
    "duration": 9006,
    "start_time": "2021-08-05T18:19:59.207Z"
   },
   {
    "duration": 143,
    "start_time": "2021-08-05T18:20:08.215Z"
   },
   {
    "duration": 25,
    "start_time": "2021-08-05T18:20:08.361Z"
   },
   {
    "duration": 6338,
    "start_time": "2021-08-05T18:25:29.930Z"
   },
   {
    "duration": 109,
    "start_time": "2021-08-05T18:25:36.271Z"
   },
   {
    "duration": 40,
    "start_time": "2021-08-05T18:25:36.383Z"
   },
   {
    "duration": 8,
    "start_time": "2021-08-05T18:25:36.426Z"
   },
   {
    "duration": 55,
    "start_time": "2021-08-05T18:25:36.436Z"
   },
   {
    "duration": 15,
    "start_time": "2021-08-05T18:25:36.494Z"
   },
   {
    "duration": 311,
    "start_time": "2021-08-05T18:25:36.511Z"
   },
   {
    "duration": 39,
    "start_time": "2021-08-05T18:25:36.826Z"
   },
   {
    "duration": 85,
    "start_time": "2021-08-05T18:25:36.867Z"
   },
   {
    "duration": 8,
    "start_time": "2021-08-05T18:25:36.955Z"
   },
   {
    "duration": 317,
    "start_time": "2021-08-05T18:25:36.986Z"
   },
   {
    "duration": 921,
    "start_time": "2021-08-05T18:25:37.305Z"
   },
   {
    "duration": 7,
    "start_time": "2021-08-05T18:25:38.228Z"
   },
   {
    "duration": 10,
    "start_time": "2021-08-05T18:25:38.237Z"
   },
   {
    "duration": 39,
    "start_time": "2021-08-05T18:25:38.250Z"
   },
   {
    "duration": 1154,
    "start_time": "2021-08-05T18:25:38.292Z"
   },
   {
    "duration": 3,
    "start_time": "2021-08-05T18:25:39.448Z"
   },
   {
    "duration": 1357,
    "start_time": "2021-08-05T18:25:39.454Z"
   },
   {
    "duration": 9692,
    "start_time": "2021-08-05T18:25:40.813Z"
   },
   {
    "duration": 4,
    "start_time": "2021-08-05T18:25:50.508Z"
   },
   {
    "duration": 1257,
    "start_time": "2021-08-05T18:25:50.515Z"
   },
   {
    "duration": 9,
    "start_time": "2021-08-05T18:25:51.774Z"
   },
   {
    "duration": 4157,
    "start_time": "2021-08-05T18:25:51.790Z"
   },
   {
    "duration": 7567,
    "start_time": "2021-08-05T18:25:55.949Z"
   },
   {
    "duration": 463,
    "start_time": "2021-08-05T18:26:03.519Z"
   },
   {
    "duration": 4,
    "start_time": "2021-08-05T18:26:03.986Z"
   },
   {
    "duration": 2998,
    "start_time": "2021-08-05T18:26:03.993Z"
   },
   {
    "duration": 5,
    "start_time": "2021-08-05T18:26:06.994Z"
   },
   {
    "duration": 11433,
    "start_time": "2021-08-05T18:26:07.002Z"
   },
   {
    "duration": 13560,
    "start_time": "2021-08-05T18:26:18.437Z"
   },
   {
    "duration": 9335,
    "start_time": "2021-08-05T18:26:32.000Z"
   },
   {
    "duration": 166,
    "start_time": "2021-08-05T18:26:41.338Z"
   },
   {
    "duration": 14,
    "start_time": "2021-08-05T18:26:41.506Z"
   },
   {
    "duration": 59529,
    "start_time": "2021-08-06T08:01:32.671Z"
   },
   {
    "duration": 124,
    "start_time": "2021-08-06T08:02:32.202Z"
   },
   {
    "duration": 18,
    "start_time": "2021-08-06T08:02:32.328Z"
   },
   {
    "duration": 6,
    "start_time": "2021-08-06T08:02:32.348Z"
   },
   {
    "duration": 35,
    "start_time": "2021-08-06T08:02:32.356Z"
   },
   {
    "duration": 9,
    "start_time": "2021-08-06T08:02:32.393Z"
   },
   {
    "duration": 260,
    "start_time": "2021-08-06T08:02:32.404Z"
   },
   {
    "duration": 42,
    "start_time": "2021-08-06T08:02:32.666Z"
   },
   {
    "duration": 65,
    "start_time": "2021-08-06T08:02:32.711Z"
   },
   {
    "duration": 17,
    "start_time": "2021-08-06T08:02:32.779Z"
   },
   {
    "duration": 344,
    "start_time": "2021-08-06T08:02:32.798Z"
   },
   {
    "duration": 839,
    "start_time": "2021-08-06T08:02:33.144Z"
   },
   {
    "duration": 10,
    "start_time": "2021-08-06T08:02:33.985Z"
   },
   {
    "duration": 9,
    "start_time": "2021-08-06T08:02:33.997Z"
   },
   {
    "duration": 8,
    "start_time": "2021-08-06T08:02:34.007Z"
   },
   {
    "duration": 764,
    "start_time": "2021-08-06T08:02:34.016Z"
   },
   {
    "duration": 2,
    "start_time": "2021-08-06T08:02:34.782Z"
   },
   {
    "duration": 891,
    "start_time": "2021-08-06T08:02:34.791Z"
   },
   {
    "duration": 11408,
    "start_time": "2021-08-06T08:02:35.684Z"
   },
   {
    "duration": 2,
    "start_time": "2021-08-06T08:02:47.094Z"
   },
   {
    "duration": 534,
    "start_time": "2021-08-06T08:02:47.098Z"
   },
   {
    "duration": 2,
    "start_time": "2021-08-06T08:02:47.634Z"
   },
   {
    "duration": 2346,
    "start_time": "2021-08-06T08:02:47.638Z"
   },
   {
    "duration": 9606,
    "start_time": "2021-08-06T08:02:49.986Z"
   },
   {
    "duration": 408,
    "start_time": "2021-08-06T08:02:59.594Z"
   },
   {
    "duration": 2,
    "start_time": "2021-08-06T08:03:00.004Z"
   },
   {
    "duration": 1862,
    "start_time": "2021-08-06T08:03:00.008Z"
   },
   {
    "duration": 2,
    "start_time": "2021-08-06T08:03:01.872Z"
   },
   {
    "duration": 7890,
    "start_time": "2021-08-06T08:03:01.875Z"
   },
   {
    "duration": 18128,
    "start_time": "2021-08-06T08:03:09.767Z"
   },
   {
    "duration": 6988,
    "start_time": "2021-08-06T08:03:27.897Z"
   },
   {
    "duration": 106,
    "start_time": "2021-08-06T08:03:34.886Z"
   },
   {
    "duration": 9,
    "start_time": "2021-08-06T08:03:34.993Z"
   },
   {
    "duration": 3,
    "start_time": "2021-08-06T08:43:24.431Z"
   },
   {
    "duration": 19204,
    "start_time": "2021-08-06T09:06:38.151Z"
   },
   {
    "duration": 464,
    "start_time": "2021-08-06T09:08:13.411Z"
   },
   {
    "duration": 141070,
    "start_time": "2021-08-06T09:08:19.231Z"
   },
   {
    "duration": 88,
    "start_time": "2021-08-06T09:19:59.430Z"
   },
   {
    "duration": 94536,
    "start_time": "2021-08-06T09:20:28.476Z"
   },
   {
    "duration": 289,
    "start_time": "2021-08-06T09:22:06.430Z"
   },
   {
    "duration": 7,
    "start_time": "2021-08-06T09:22:21.416Z"
   },
   {
    "duration": 6,
    "start_time": "2021-08-06T09:22:34.430Z"
   },
   {
    "duration": 238,
    "start_time": "2021-08-06T09:22:46.911Z"
   },
   {
    "duration": 8,
    "start_time": "2021-08-06T09:22:51.030Z"
   },
   {
    "duration": 95570,
    "start_time": "2021-08-06T09:23:01.856Z"
   },
   {
    "duration": 409,
    "start_time": "2021-08-06T09:26:23.326Z"
   },
   {
    "duration": 4,
    "start_time": "2021-08-06T09:26:25.631Z"
   },
   {
    "duration": 9,
    "start_time": "2021-08-06T09:26:37.230Z"
   },
   {
    "duration": 445,
    "start_time": "2021-08-06T09:26:40.036Z"
   },
   {
    "duration": 478,
    "start_time": "2021-08-06T09:26:54.260Z"
   },
   {
    "duration": 30,
    "start_time": "2021-08-06T09:58:34.650Z"
   },
   {
    "duration": 198,
    "start_time": "2021-08-06T09:58:35.511Z"
   },
   {
    "duration": 9,
    "start_time": "2021-08-06T09:58:48.951Z"
   },
   {
    "duration": 134,
    "start_time": "2021-08-06T09:59:43.071Z"
   },
   {
    "duration": 234,
    "start_time": "2021-08-06T09:59:50.691Z"
   },
   {
    "duration": 16278,
    "start_time": "2021-08-06T10:00:39.430Z"
   },
   {
    "duration": 8,
    "start_time": "2021-08-06T10:00:55.709Z"
   },
   {
    "duration": 3,
    "start_time": "2021-08-06T10:01:00.551Z"
   },
   {
    "duration": 223,
    "start_time": "2021-08-06T10:01:00.771Z"
   },
   {
    "duration": 12794,
    "start_time": "2021-08-06T10:02:39.191Z"
   },
   {
    "duration": 586,
    "start_time": "2021-08-06T10:03:07.671Z"
   },
   {
    "duration": 250,
    "start_time": "2021-08-06T10:03:17.830Z"
   },
   {
    "duration": 339,
    "start_time": "2021-08-06T10:03:29.110Z"
   },
   {
    "duration": 13570,
    "start_time": "2021-08-06T10:03:31.471Z"
   },
   {
    "duration": 15819,
    "start_time": "2021-08-06T10:04:11.621Z"
   },
   {
    "duration": 9,
    "start_time": "2021-08-06T10:04:31.690Z"
   },
   {
    "duration": 3,
    "start_time": "2021-08-06T10:04:34.631Z"
   },
   {
    "duration": 198,
    "start_time": "2021-08-06T10:04:34.776Z"
   },
   {
    "duration": 203,
    "start_time": "2021-08-06T10:04:51.631Z"
   },
   {
    "duration": 202,
    "start_time": "2021-08-06T10:05:41.991Z"
   },
   {
    "duration": 849,
    "start_time": "2021-08-06T10:06:00.431Z"
   },
   {
    "duration": 698,
    "start_time": "2021-08-06T10:06:30.671Z"
   },
   {
    "duration": 712,
    "start_time": "2021-08-06T10:07:01.661Z"
   },
   {
    "duration": 344,
    "start_time": "2021-08-06T10:07:21.951Z"
   },
   {
    "duration": 6513,
    "start_time": "2021-08-06T10:09:19.331Z"
   },
   {
    "duration": 41947,
    "start_time": "2021-08-06T10:09:34.351Z"
   },
   {
    "duration": 7,
    "start_time": "2021-08-06T10:10:16.300Z"
   },
   {
    "duration": 4,
    "start_time": "2021-08-06T10:10:16.309Z"
   },
   {
    "duration": 198,
    "start_time": "2021-08-06T10:10:25.531Z"
   },
   {
    "duration": 208,
    "start_time": "2021-08-06T10:10:39.271Z"
   },
   {
    "duration": 208,
    "start_time": "2021-08-06T10:11:06.871Z"
   },
   {
    "duration": 18454,
    "start_time": "2021-08-06T10:11:22.571Z"
   },
   {
    "duration": 8,
    "start_time": "2021-08-06T10:11:41.026Z"
   },
   {
    "duration": 13,
    "start_time": "2021-08-06T10:11:41.036Z"
   },
   {
    "duration": 220,
    "start_time": "2021-08-06T10:11:41.050Z"
   },
   {
    "duration": 184,
    "start_time": "2021-08-06T10:11:55.291Z"
   },
   {
    "duration": 19589,
    "start_time": "2021-08-06T10:12:21.211Z"
   },
   {
    "duration": 7,
    "start_time": "2021-08-06T10:12:40.802Z"
   },
   {
    "duration": 11,
    "start_time": "2021-08-06T10:12:40.811Z"
   },
   {
    "duration": 191,
    "start_time": "2021-08-06T10:12:40.823Z"
   },
   {
    "duration": 200,
    "start_time": "2021-08-06T10:12:51.430Z"
   },
   {
    "duration": 199,
    "start_time": "2021-08-06T10:13:23.171Z"
   },
   {
    "duration": 428,
    "start_time": "2021-08-06T10:13:42.831Z"
   },
   {
    "duration": 204,
    "start_time": "2021-08-06T10:13:49.631Z"
   },
   {
    "duration": 19605,
    "start_time": "2021-08-06T10:16:34.791Z"
   },
   {
    "duration": 8,
    "start_time": "2021-08-06T10:16:54.398Z"
   },
   {
    "duration": 3,
    "start_time": "2021-08-06T10:16:54.408Z"
   },
   {
    "duration": 214,
    "start_time": "2021-08-06T10:16:54.413Z"
   },
   {
    "duration": 238,
    "start_time": "2021-08-06T10:17:36.150Z"
   },
   {
    "duration": 18,
    "start_time": "2021-08-06T10:17:40.711Z"
   },
   {
    "duration": 17,
    "start_time": "2021-08-06T10:23:31.171Z"
   },
   {
    "duration": 2656,
    "start_time": "2021-08-06T10:24:20.050Z"
   },
   {
    "duration": 19,
    "start_time": "2021-08-06T10:25:11.431Z"
   },
   {
    "duration": 262,
    "start_time": "2021-08-06T10:27:22.516Z"
   },
   {
    "duration": 218,
    "start_time": "2021-08-06T10:27:23.031Z"
   },
   {
    "duration": 10,
    "start_time": "2021-08-06T10:27:30.771Z"
   },
   {
    "duration": 16,
    "start_time": "2021-08-06T10:27:32.631Z"
   },
   {
    "duration": 2731,
    "start_time": "2021-08-06T10:28:21.771Z"
   },
   {
    "duration": 1896,
    "start_time": "2021-08-06T10:29:28.071Z"
   },
   {
    "duration": 2644,
    "start_time": "2021-08-06T10:30:18.481Z"
   },
   {
    "duration": 8153,
    "start_time": "2021-08-06T16:05:31.595Z"
   },
   {
    "duration": 328,
    "start_time": "2021-08-06T16:07:07.356Z"
   },
   {
    "duration": 2506,
    "start_time": "2021-08-06T16:07:12.349Z"
   },
   {
    "duration": 165,
    "start_time": "2021-08-06T16:07:14.857Z"
   },
   {
    "duration": 19,
    "start_time": "2021-08-06T16:07:15.024Z"
   },
   {
    "duration": 6,
    "start_time": "2021-08-06T16:07:15.045Z"
   },
   {
    "duration": 12,
    "start_time": "2021-08-06T16:07:15.052Z"
   },
   {
    "duration": 33,
    "start_time": "2021-08-06T16:07:15.066Z"
   },
   {
    "duration": 4,
    "start_time": "2021-08-06T16:07:15.101Z"
   },
   {
    "duration": 207,
    "start_time": "2021-08-06T16:07:15.107Z"
   },
   {
    "duration": 25,
    "start_time": "2021-08-06T16:07:15.316Z"
   },
   {
    "duration": 74,
    "start_time": "2021-08-06T16:07:15.342Z"
   },
   {
    "duration": 6,
    "start_time": "2021-08-06T16:07:15.418Z"
   },
   {
    "duration": 239,
    "start_time": "2021-08-06T16:07:15.425Z"
   },
   {
    "duration": 697,
    "start_time": "2021-08-06T16:07:15.666Z"
   },
   {
    "duration": 4,
    "start_time": "2021-08-06T16:07:16.364Z"
   },
   {
    "duration": 21,
    "start_time": "2021-08-06T16:07:16.370Z"
   },
   {
    "duration": 2,
    "start_time": "2021-08-06T16:07:16.393Z"
   },
   {
    "duration": 842,
    "start_time": "2021-08-06T16:07:16.397Z"
   },
   {
    "duration": 2,
    "start_time": "2021-08-06T16:07:17.241Z"
   },
   {
    "duration": 1094,
    "start_time": "2021-08-06T16:07:17.244Z"
   },
   {
    "duration": 11,
    "start_time": "2021-08-06T16:07:18.339Z"
   },
   {
    "duration": 14,
    "start_time": "2021-08-06T16:07:18.352Z"
   },
   {
    "duration": 2881,
    "start_time": "2021-08-06T16:07:18.392Z"
   },
   {
    "duration": 9025,
    "start_time": "2021-08-06T16:07:21.276Z"
   },
   {
    "duration": 6,
    "start_time": "2021-08-06T16:07:30.393Z"
   },
   {
    "duration": 599,
    "start_time": "2021-08-06T16:07:30.403Z"
   },
   {
    "duration": 3,
    "start_time": "2021-08-06T16:07:31.004Z"
   },
   {
    "duration": 2454,
    "start_time": "2021-08-06T16:07:31.009Z"
   },
   {
    "duration": 7841,
    "start_time": "2021-08-06T16:07:33.464Z"
   },
   {
    "duration": 413,
    "start_time": "2021-08-06T16:07:41.392Z"
   },
   {
    "duration": 2,
    "start_time": "2021-08-06T16:07:41.807Z"
   },
   {
    "duration": 1898,
    "start_time": "2021-08-06T16:07:41.810Z"
   },
   {
    "duration": 2,
    "start_time": "2021-08-06T16:07:43.709Z"
   },
   {
    "duration": 7897,
    "start_time": "2021-08-06T16:07:43.713Z"
   },
   {
    "duration": 14981,
    "start_time": "2021-08-06T16:07:51.612Z"
   },
   {
    "duration": 7418,
    "start_time": "2021-08-06T16:08:06.595Z"
   },
   {
    "duration": 119,
    "start_time": "2021-08-06T16:08:14.014Z"
   },
   {
    "duration": 9,
    "start_time": "2021-08-06T16:08:14.135Z"
   },
   {
    "duration": 10,
    "start_time": "2021-08-06T16:09:49.048Z"
   },
   {
    "duration": 267,
    "start_time": "2021-08-06T16:11:06.118Z"
   },
   {
    "duration": 3036,
    "start_time": "2021-08-06T16:11:15.983Z"
   },
   {
    "duration": 5,
    "start_time": "2021-08-06T16:15:36.471Z"
   },
   {
    "duration": 17,
    "start_time": "2021-08-06T16:15:50.851Z"
   },
   {
    "duration": 4,
    "start_time": "2021-08-06T16:19:28.273Z"
   },
   {
    "duration": 19,
    "start_time": "2021-08-06T16:19:31.209Z"
   },
   {
    "duration": 4,
    "start_time": "2021-08-06T16:20:29.962Z"
   },
   {
    "duration": 18,
    "start_time": "2021-08-06T16:20:32.741Z"
   },
   {
    "duration": 2506,
    "start_time": "2021-08-06T16:21:01.792Z"
   },
   {
    "duration": 98,
    "start_time": "2021-08-06T16:21:04.301Z"
   },
   {
    "duration": 21,
    "start_time": "2021-08-06T16:21:04.401Z"
   },
   {
    "duration": 6,
    "start_time": "2021-08-06T16:21:04.423Z"
   },
   {
    "duration": 13,
    "start_time": "2021-08-06T16:21:04.430Z"
   },
   {
    "duration": 8,
    "start_time": "2021-08-06T16:21:04.445Z"
   },
   {
    "duration": 37,
    "start_time": "2021-08-06T16:21:04.455Z"
   },
   {
    "duration": 7,
    "start_time": "2021-08-06T16:21:04.494Z"
   },
   {
    "duration": 26,
    "start_time": "2021-08-06T16:21:09.555Z"
   },
   {
    "duration": 9,
    "start_time": "2021-08-06T16:22:32.539Z"
   },
   {
    "duration": 11,
    "start_time": "2021-08-06T16:31:08.353Z"
   },
   {
    "duration": 2943,
    "start_time": "2021-08-06T16:31:20.877Z"
   },
   {
    "duration": 101,
    "start_time": "2021-08-06T16:31:23.822Z"
   },
   {
    "duration": 19,
    "start_time": "2021-08-06T16:31:23.925Z"
   },
   {
    "duration": 6,
    "start_time": "2021-08-06T16:31:23.945Z"
   },
   {
    "duration": 10,
    "start_time": "2021-08-06T16:31:23.952Z"
   },
   {
    "duration": 35,
    "start_time": "2021-08-06T16:31:23.963Z"
   },
   {
    "duration": 5,
    "start_time": "2021-08-06T16:31:24.000Z"
   },
   {
    "duration": 9,
    "start_time": "2021-08-06T16:31:32.829Z"
   },
   {
    "duration": 4,
    "start_time": "2021-08-06T16:33:49.453Z"
   },
   {
    "duration": 20,
    "start_time": "2021-08-06T16:33:59.394Z"
   },
   {
    "duration": 5911,
    "start_time": "2021-08-06T16:35:07.894Z"
   },
   {
    "duration": 7,
    "start_time": "2021-08-06T16:35:18.819Z"
   },
   {
    "duration": 8,
    "start_time": "2021-08-06T16:35:54.780Z"
   },
   {
    "duration": 19,
    "start_time": "2021-08-06T16:36:01.648Z"
   },
   {
    "duration": 11,
    "start_time": "2021-08-06T16:37:11.669Z"
   },
   {
    "duration": 18,
    "start_time": "2021-08-06T16:37:17.337Z"
   },
   {
    "duration": 2401,
    "start_time": "2021-08-06T16:37:25.580Z"
   },
   {
    "duration": 88,
    "start_time": "2021-08-06T16:37:27.983Z"
   },
   {
    "duration": 19,
    "start_time": "2021-08-06T16:37:28.073Z"
   },
   {
    "duration": 6,
    "start_time": "2021-08-06T16:37:28.094Z"
   },
   {
    "duration": 11,
    "start_time": "2021-08-06T16:37:28.101Z"
   },
   {
    "duration": 8,
    "start_time": "2021-08-06T16:37:28.113Z"
   },
   {
    "duration": 4,
    "start_time": "2021-08-06T16:37:28.128Z"
   },
   {
    "duration": 11,
    "start_time": "2021-08-06T16:37:28.133Z"
   },
   {
    "duration": 18,
    "start_time": "2021-08-06T16:37:48.284Z"
   },
   {
    "duration": 7,
    "start_time": "2021-08-06T16:42:11.785Z"
   },
   {
    "duration": 21,
    "start_time": "2021-08-06T16:42:18.430Z"
   },
   {
    "duration": 7,
    "start_time": "2021-08-06T16:44:58.768Z"
   },
   {
    "duration": 19,
    "start_time": "2021-08-06T16:45:01.577Z"
   },
   {
    "duration": 3508,
    "start_time": "2021-08-06T16:45:18.104Z"
   },
   {
    "duration": 92,
    "start_time": "2021-08-06T16:45:21.614Z"
   },
   {
    "duration": 17,
    "start_time": "2021-08-06T16:45:21.708Z"
   },
   {
    "duration": 11,
    "start_time": "2021-08-06T16:45:21.727Z"
   },
   {
    "duration": 23,
    "start_time": "2021-08-06T16:45:21.739Z"
   },
   {
    "duration": 9,
    "start_time": "2021-08-06T16:45:21.764Z"
   },
   {
    "duration": 13,
    "start_time": "2021-08-06T16:45:21.775Z"
   },
   {
    "duration": 20,
    "start_time": "2021-08-06T16:45:21.790Z"
   },
   {
    "duration": 22,
    "start_time": "2021-08-06T16:45:41.633Z"
   },
   {
    "duration": 241,
    "start_time": "2021-08-06T16:46:50.842Z"
   },
   {
    "duration": 268,
    "start_time": "2021-08-06T16:47:14.593Z"
   },
   {
    "duration": 249,
    "start_time": "2021-08-06T16:48:42.065Z"
   },
   {
    "duration": 8,
    "start_time": "2021-08-06T16:48:54.426Z"
   },
   {
    "duration": 19,
    "start_time": "2021-08-06T16:48:57.509Z"
   },
   {
    "duration": 5754,
    "start_time": "2021-08-06T16:49:31.719Z"
   },
   {
    "duration": 2449,
    "start_time": "2021-08-06T16:49:46.908Z"
   },
   {
    "duration": 135,
    "start_time": "2021-08-06T16:49:49.359Z"
   },
   {
    "duration": 17,
    "start_time": "2021-08-06T16:49:49.496Z"
   },
   {
    "duration": 5,
    "start_time": "2021-08-06T16:49:49.515Z"
   },
   {
    "duration": 10,
    "start_time": "2021-08-06T16:49:49.521Z"
   },
   {
    "duration": 8,
    "start_time": "2021-08-06T16:49:49.532Z"
   },
   {
    "duration": 5,
    "start_time": "2021-08-06T16:49:49.541Z"
   },
   {
    "duration": 43,
    "start_time": "2021-08-06T16:49:49.548Z"
   },
   {
    "duration": 20,
    "start_time": "2021-08-06T16:49:53.965Z"
   },
   {
    "duration": 5944,
    "start_time": "2021-08-06T16:57:31.695Z"
   },
   {
    "duration": 2451,
    "start_time": "2021-08-06T16:57:43.247Z"
   },
   {
    "duration": 92,
    "start_time": "2021-08-06T16:57:45.701Z"
   },
   {
    "duration": 17,
    "start_time": "2021-08-06T16:57:45.795Z"
   },
   {
    "duration": 5,
    "start_time": "2021-08-06T16:57:45.814Z"
   },
   {
    "duration": 10,
    "start_time": "2021-08-06T16:57:45.820Z"
   },
   {
    "duration": 8,
    "start_time": "2021-08-06T16:57:45.831Z"
   },
   {
    "duration": 5767,
    "start_time": "2021-08-06T16:57:50.585Z"
   },
   {
    "duration": 7,
    "start_time": "2021-08-06T16:57:58.522Z"
   },
   {
    "duration": 7,
    "start_time": "2021-08-06T16:58:08.362Z"
   },
   {
    "duration": 2468,
    "start_time": "2021-08-06T17:11:40.217Z"
   },
   {
    "duration": 152,
    "start_time": "2021-08-06T17:11:42.687Z"
   },
   {
    "duration": 17,
    "start_time": "2021-08-06T17:11:42.841Z"
   },
   {
    "duration": 5,
    "start_time": "2021-08-06T17:11:42.860Z"
   },
   {
    "duration": 9,
    "start_time": "2021-08-06T17:11:42.866Z"
   },
   {
    "duration": 16,
    "start_time": "2021-08-06T17:11:42.876Z"
   },
   {
    "duration": 7,
    "start_time": "2021-08-06T17:11:42.893Z"
   },
   {
    "duration": 12,
    "start_time": "2021-08-06T17:11:42.902Z"
   },
   {
    "duration": 19,
    "start_time": "2021-08-06T17:12:19.460Z"
   },
   {
    "duration": 6006,
    "start_time": "2021-08-06T17:14:33.452Z"
   },
   {
    "duration": 2426,
    "start_time": "2021-08-06T17:14:46.379Z"
   },
   {
    "duration": 104,
    "start_time": "2021-08-06T17:14:48.807Z"
   },
   {
    "duration": 18,
    "start_time": "2021-08-06T17:14:48.913Z"
   },
   {
    "duration": 5,
    "start_time": "2021-08-06T17:14:48.932Z"
   },
   {
    "duration": 12,
    "start_time": "2021-08-06T17:14:48.939Z"
   },
   {
    "duration": 7,
    "start_time": "2021-08-06T17:14:48.953Z"
   },
   {
    "duration": 33,
    "start_time": "2021-08-06T17:14:48.962Z"
   },
   {
    "duration": 17,
    "start_time": "2021-08-06T17:14:54.433Z"
   },
   {
    "duration": 233,
    "start_time": "2021-08-06T17:32:24.605Z"
   },
   {
    "duration": 31,
    "start_time": "2021-08-06T17:33:54.155Z"
   },
   {
    "duration": 45,
    "start_time": "2021-08-06T17:34:13.798Z"
   },
   {
    "duration": 38,
    "start_time": "2021-08-06T17:34:43.993Z"
   },
   {
    "duration": 4,
    "start_time": "2021-08-06T18:38:19.082Z"
   },
   {
    "duration": 6,
    "start_time": "2021-08-06T18:38:22.312Z"
   },
   {
    "duration": 12,
    "start_time": "2021-08-06T18:38:32.280Z"
   },
   {
    "duration": 16,
    "start_time": "2021-08-06T18:44:12.601Z"
   },
   {
    "duration": 18,
    "start_time": "2021-08-06T18:44:56.199Z"
   },
   {
    "duration": 19,
    "start_time": "2021-08-06T18:45:08.651Z"
   },
   {
    "duration": 20,
    "start_time": "2021-08-06T18:45:25.019Z"
   },
   {
    "duration": 19,
    "start_time": "2021-08-06T18:45:36.519Z"
   },
   {
    "duration": 20,
    "start_time": "2021-08-06T18:46:06.050Z"
   },
   {
    "duration": 20,
    "start_time": "2021-08-06T18:46:44.446Z"
   },
   {
    "duration": 22,
    "start_time": "2021-08-06T18:46:55.339Z"
   },
   {
    "duration": 15,
    "start_time": "2021-08-06T18:47:22.807Z"
   },
   {
    "duration": 51,
    "start_time": "2021-08-06T18:51:18.677Z"
   },
   {
    "duration": 3,
    "start_time": "2021-08-06T19:01:58.876Z"
   },
   {
    "duration": 45,
    "start_time": "2021-08-06T19:02:02.297Z"
   },
   {
    "duration": 46,
    "start_time": "2021-08-06T19:02:24.867Z"
   },
   {
    "duration": 43,
    "start_time": "2021-08-06T19:03:57.331Z"
   },
   {
    "duration": 6,
    "start_time": "2021-08-06T19:06:10.578Z"
   },
   {
    "duration": 5,
    "start_time": "2021-08-06T19:06:45.751Z"
   },
   {
    "duration": 5,
    "start_time": "2021-08-06T19:06:59.319Z"
   },
   {
    "duration": 5,
    "start_time": "2021-08-06T19:07:11.107Z"
   },
   {
    "duration": 5,
    "start_time": "2021-08-06T19:07:19.482Z"
   },
   {
    "duration": 5,
    "start_time": "2021-08-06T19:07:29.424Z"
   },
   {
    "duration": 2441,
    "start_time": "2021-08-06T19:17:32.932Z"
   },
   {
    "duration": 5,
    "start_time": "2021-08-06T19:21:26.524Z"
   },
   {
    "duration": 5,
    "start_time": "2021-08-06T19:23:13.114Z"
   },
   {
    "duration": 2352,
    "start_time": "2021-08-06T19:23:38.946Z"
   },
   {
    "duration": 96,
    "start_time": "2021-08-06T19:23:41.300Z"
   },
   {
    "duration": 18,
    "start_time": "2021-08-06T19:23:41.398Z"
   },
   {
    "duration": 7,
    "start_time": "2021-08-06T19:23:41.418Z"
   },
   {
    "duration": 9,
    "start_time": "2021-08-06T19:23:41.426Z"
   },
   {
    "duration": 7,
    "start_time": "2021-08-06T19:23:41.437Z"
   },
   {
    "duration": 6,
    "start_time": "2021-08-06T19:23:41.446Z"
   },
   {
    "duration": 48,
    "start_time": "2021-08-06T19:23:41.454Z"
   },
   {
    "duration": 41,
    "start_time": "2021-08-06T19:23:41.504Z"
   },
   {
    "duration": 3,
    "start_time": "2021-08-06T19:23:41.547Z"
   },
   {
    "duration": 8,
    "start_time": "2021-08-06T19:23:41.552Z"
   },
   {
    "duration": 35,
    "start_time": "2021-08-06T19:23:41.561Z"
   },
   {
    "duration": 3,
    "start_time": "2021-08-06T19:23:41.597Z"
   },
   {
    "duration": 46,
    "start_time": "2021-08-06T19:23:41.601Z"
   },
   {
    "duration": 4,
    "start_time": "2021-08-06T19:23:41.648Z"
   },
   {
    "duration": 7,
    "start_time": "2021-08-06T19:23:41.653Z"
   },
   {
    "duration": 8876,
    "start_time": "2021-08-06T19:23:54.415Z"
   },
   {
    "duration": 68,
    "start_time": "2021-08-06T19:24:56.693Z"
   },
   {
    "duration": 79,
    "start_time": "2021-08-06T19:32:11.849Z"
   },
   {
    "duration": 73,
    "start_time": "2021-08-06T19:45:59.888Z"
   },
   {
    "duration": 15,
    "start_time": "2021-08-06T19:46:17.804Z"
   },
   {
    "duration": 2364,
    "start_time": "2021-08-06T19:47:26.397Z"
   },
   {
    "duration": 126,
    "start_time": "2021-08-06T19:47:28.764Z"
   },
   {
    "duration": 21,
    "start_time": "2021-08-06T19:47:28.892Z"
   },
   {
    "duration": 5,
    "start_time": "2021-08-06T19:47:28.914Z"
   },
   {
    "duration": 9,
    "start_time": "2021-08-06T19:47:28.921Z"
   },
   {
    "duration": 8,
    "start_time": "2021-08-06T19:47:28.931Z"
   },
   {
    "duration": 6,
    "start_time": "2021-08-06T19:47:28.940Z"
   },
   {
    "duration": 49,
    "start_time": "2021-08-06T19:47:28.949Z"
   },
   {
    "duration": 11,
    "start_time": "2021-08-06T19:47:28.999Z"
   },
   {
    "duration": 7,
    "start_time": "2021-08-06T19:47:29.011Z"
   },
   {
    "duration": 9,
    "start_time": "2021-08-06T19:47:29.019Z"
   },
   {
    "duration": 15,
    "start_time": "2021-08-06T19:47:29.030Z"
   },
   {
    "duration": 2,
    "start_time": "2021-08-06T19:47:29.047Z"
   },
   {
    "duration": 247,
    "start_time": "2021-08-06T19:47:29.051Z"
   },
   {
    "duration": -149012,
    "start_time": "2021-08-06T19:49:58.312Z"
   },
   {
    "duration": -149022,
    "start_time": "2021-08-06T19:49:58.323Z"
   },
   {
    "duration": -149037,
    "start_time": "2021-08-06T19:49:58.339Z"
   },
   {
    "duration": 7766,
    "start_time": "2021-08-06T19:47:41.072Z"
   },
   {
    "duration": 59,
    "start_time": "2021-08-06T19:47:59.757Z"
   },
   {
    "duration": 705,
    "start_time": "2021-08-06T19:49:09.232Z"
   },
   {
    "duration": 226,
    "start_time": "2021-08-06T19:49:52.669Z"
   },
   {
    "duration": 6274,
    "start_time": "2021-08-06T19:50:27.433Z"
   },
   {
    "duration": 696,
    "start_time": "2021-08-06T19:50:58.291Z"
   },
   {
    "duration": 85197,
    "start_time": "2021-08-06T19:51:37.234Z"
   },
   {
    "duration": 1558,
    "start_time": "2021-08-06T19:53:58.306Z"
   },
   {
    "duration": 425,
    "start_time": "2021-08-06T20:02:52.573Z"
   },
   {
    "duration": 2455,
    "start_time": "2021-08-06T20:08:43.326Z"
   },
   {
    "duration": 140,
    "start_time": "2021-08-06T20:08:45.783Z"
   },
   {
    "duration": 18,
    "start_time": "2021-08-06T20:08:45.925Z"
   },
   {
    "duration": 5,
    "start_time": "2021-08-06T20:08:45.944Z"
   },
   {
    "duration": 9,
    "start_time": "2021-08-06T20:08:45.951Z"
   },
   {
    "duration": 7,
    "start_time": "2021-08-06T20:08:45.961Z"
   },
   {
    "duration": 7,
    "start_time": "2021-08-06T20:08:54.751Z"
   },
   {
    "duration": 258,
    "start_time": "2021-08-06T20:09:02.493Z"
   },
   {
    "duration": 2530,
    "start_time": "2021-08-06T20:09:21.599Z"
   },
   {
    "duration": 99,
    "start_time": "2021-08-06T20:09:24.131Z"
   },
   {
    "duration": 18,
    "start_time": "2021-08-06T20:09:24.231Z"
   },
   {
    "duration": 5,
    "start_time": "2021-08-06T20:09:24.251Z"
   },
   {
    "duration": 9,
    "start_time": "2021-08-06T20:09:24.257Z"
   },
   {
    "duration": 30,
    "start_time": "2021-08-06T20:09:24.267Z"
   },
   {
    "duration": 21,
    "start_time": "2021-08-06T20:09:37.169Z"
   },
   {
    "duration": 2,
    "start_time": "2021-08-06T20:13:55.812Z"
   },
   {
    "duration": 72,
    "start_time": "2021-08-06T20:13:59.687Z"
   },
   {
    "duration": 2712,
    "start_time": "2021-08-06T20:14:27.913Z"
   },
   {
    "duration": 99,
    "start_time": "2021-08-06T20:14:30.628Z"
   },
   {
    "duration": 19,
    "start_time": "2021-08-06T20:14:30.729Z"
   },
   {
    "duration": 9,
    "start_time": "2021-08-06T20:14:30.750Z"
   },
   {
    "duration": 18,
    "start_time": "2021-08-06T20:14:30.761Z"
   },
   {
    "duration": 26,
    "start_time": "2021-08-06T20:14:30.781Z"
   },
   {
    "duration": 33,
    "start_time": "2021-08-06T20:14:30.809Z"
   },
   {
    "duration": 7,
    "start_time": "2021-08-06T20:14:30.845Z"
   },
   {
    "duration": 21,
    "start_time": "2021-08-06T20:14:30.854Z"
   },
   {
    "duration": 18,
    "start_time": "2021-08-06T20:14:30.877Z"
   },
   {
    "duration": 16,
    "start_time": "2021-08-06T20:14:30.897Z"
   },
   {
    "duration": 25,
    "start_time": "2021-08-06T20:14:30.915Z"
   },
   {
    "duration": 3,
    "start_time": "2021-08-06T20:14:30.941Z"
   },
   {
    "duration": 96,
    "start_time": "2021-08-06T20:14:30.946Z"
   },
   {
    "duration": 3883,
    "start_time": "2021-08-06T20:14:42.903Z"
   },
   {
    "duration": 103,
    "start_time": "2021-08-06T20:14:46.787Z"
   },
   {
    "duration": 24,
    "start_time": "2021-08-06T20:14:46.893Z"
   },
   {
    "duration": 6,
    "start_time": "2021-08-06T20:14:46.919Z"
   },
   {
    "duration": 14,
    "start_time": "2021-08-06T20:14:46.927Z"
   },
   {
    "duration": 9,
    "start_time": "2021-08-06T20:14:46.943Z"
   },
   {
    "duration": 47,
    "start_time": "2021-08-06T20:14:46.954Z"
   },
   {
    "duration": 8,
    "start_time": "2021-08-06T20:14:47.005Z"
   },
   {
    "duration": 29,
    "start_time": "2021-08-06T20:14:47.014Z"
   },
   {
    "duration": 4,
    "start_time": "2021-08-06T20:14:47.044Z"
   },
   {
    "duration": 9,
    "start_time": "2021-08-06T20:14:47.049Z"
   },
   {
    "duration": 36,
    "start_time": "2021-08-06T20:14:47.059Z"
   },
   {
    "duration": 6,
    "start_time": "2021-08-06T20:14:47.097Z"
   },
   {
    "duration": 51,
    "start_time": "2021-08-06T20:14:47.105Z"
   },
   {
    "duration": 4,
    "start_time": "2021-08-06T20:14:47.157Z"
   },
   {
    "duration": 7,
    "start_time": "2021-08-06T20:14:47.163Z"
   },
   {
    "duration": 6270,
    "start_time": "2021-08-06T20:14:47.172Z"
   },
   {
    "duration": 61,
    "start_time": "2021-08-06T20:14:53.444Z"
   },
   {
    "duration": 71176,
    "start_time": "2021-08-06T20:14:53.507Z"
   },
   {
    "duration": 1345,
    "start_time": "2021-08-06T20:16:04.685Z"
   },
   {
    "duration": 6181,
    "start_time": "2021-08-06T20:16:06.032Z"
   },
   {
    "duration": -148957,
    "start_time": "2021-08-06T20:18:41.173Z"
   },
   {
    "duration": -148966,
    "start_time": "2021-08-06T20:18:41.183Z"
   },
   {
    "duration": -148983,
    "start_time": "2021-08-06T20:18:41.201Z"
   },
   {
    "duration": -149177,
    "start_time": "2021-08-06T20:18:41.396Z"
   },
   {
    "duration": -149191,
    "start_time": "2021-08-06T20:18:41.411Z"
   },
   {
    "duration": -149202,
    "start_time": "2021-08-06T20:18:41.422Z"
   },
   {
    "duration": -149209,
    "start_time": "2021-08-06T20:18:41.431Z"
   },
   {
    "duration": -149219,
    "start_time": "2021-08-06T20:18:41.441Z"
   },
   {
    "duration": -149228,
    "start_time": "2021-08-06T20:18:41.451Z"
   },
   {
    "duration": -149237,
    "start_time": "2021-08-06T20:18:41.461Z"
   },
   {
    "duration": -149245,
    "start_time": "2021-08-06T20:18:41.470Z"
   },
   {
    "duration": -149254,
    "start_time": "2021-08-06T20:18:41.480Z"
   },
   {
    "duration": -149262,
    "start_time": "2021-08-06T20:18:41.489Z"
   },
   {
    "duration": -149271,
    "start_time": "2021-08-06T20:18:41.499Z"
   },
   {
    "duration": -149278,
    "start_time": "2021-08-06T20:18:41.508Z"
   },
   {
    "duration": -149297,
    "start_time": "2021-08-06T20:18:41.528Z"
   },
   {
    "duration": -149306,
    "start_time": "2021-08-06T20:18:41.538Z"
   },
   {
    "duration": 1579,
    "start_time": "2021-08-06T20:16:43.896Z"
   },
   {
    "duration": 71259,
    "start_time": "2021-08-06T20:17:02.956Z"
   },
   {
    "duration": 630,
    "start_time": "2021-08-06T20:18:39.184Z"
   },
   {
    "duration": 5824,
    "start_time": "2021-08-06T20:21:09.736Z"
   },
   {
    "duration": 2,
    "start_time": "2021-08-06T20:21:27.266Z"
   },
   {
    "duration": 5913,
    "start_time": "2021-08-06T20:22:17.152Z"
   },
   {
    "duration": 2,
    "start_time": "2021-08-06T20:22:47.986Z"
   },
   {
    "duration": 3,
    "start_time": "2021-08-06T20:22:59.959Z"
   },
   {
    "duration": 3,
    "start_time": "2021-08-06T20:23:01.981Z"
   },
   {
    "duration": 238,
    "start_time": "2021-08-06T20:24:11.755Z"
   },
   {
    "duration": 2115,
    "start_time": "2021-08-06T20:26:30.935Z"
   },
   {
    "duration": 53,
    "start_time": "2021-08-06T20:26:56.175Z"
   },
   {
    "duration": 1464,
    "start_time": "2021-08-06T20:30:13.865Z"
   },
   {
    "duration": 29587,
    "start_time": "2021-08-06T20:30:58.306Z"
   },
   {
    "duration": 56031,
    "start_time": "2021-08-06T20:31:49.161Z"
   },
   {
    "duration": 728,
    "start_time": "2021-08-06T20:33:18.214Z"
   },
   {
    "duration": 1263,
    "start_time": "2021-08-06T20:34:44.492Z"
   },
   {
    "duration": 55518,
    "start_time": "2021-08-06T20:35:13.399Z"
   },
   {
    "duration": 287,
    "start_time": "2021-08-06T20:41:14.013Z"
   },
   {
    "duration": 14,
    "start_time": "2021-08-06T20:47:41.250Z"
   },
   {
    "duration": 2749,
    "start_time": "2021-08-06T20:48:00.653Z"
   },
   {
    "duration": 7500,
    "start_time": "2021-08-06T20:48:08.684Z"
   },
   {
    "duration": 57,
    "start_time": "2021-08-06T20:48:45.707Z"
   },
   {
    "duration": 3714,
    "start_time": "2021-08-06T20:51:12.872Z"
   },
   {
    "duration": 87,
    "start_time": "2021-08-06T20:51:47.393Z"
   },
   {
    "duration": 112382,
    "start_time": "2021-08-06T20:51:51.159Z"
   },
   {
    "duration": 1470,
    "start_time": "2021-08-06T20:54:27.680Z"
   },
   {
    "duration": 55109,
    "start_time": "2021-08-06T20:55:36.193Z"
   },
   {
    "duration": 831,
    "start_time": "2021-08-06T20:56:31.305Z"
   },
   {
    "duration": 691,
    "start_time": "2021-08-06T20:56:50.687Z"
   },
   {
    "duration": 112317,
    "start_time": "2021-08-06T20:57:04.009Z"
   },
   {
    "duration": 1486,
    "start_time": "2021-08-06T20:59:08.754Z"
   },
   {
    "duration": 1593,
    "start_time": "2021-08-06T20:59:20.633Z"
   },
   {
    "duration": 1557,
    "start_time": "2021-08-06T20:59:35.384Z"
   },
   {
    "duration": 1443,
    "start_time": "2021-08-06T20:59:42.377Z"
   },
   {
    "duration": 1644,
    "start_time": "2021-08-06T20:59:45.680Z"
   },
   {
    "duration": 1552,
    "start_time": "2021-08-06T21:00:00.054Z"
   },
   {
    "duration": 1631,
    "start_time": "2021-08-06T21:00:05.588Z"
   },
   {
    "duration": 1587,
    "start_time": "2021-08-06T21:00:16.577Z"
   },
   {
    "duration": 1533,
    "start_time": "2021-08-06T21:00:24.647Z"
   },
   {
    "duration": 1487,
    "start_time": "2021-08-06T21:00:30.682Z"
   },
   {
    "duration": 1803,
    "start_time": "2021-08-06T21:00:42.259Z"
   },
   {
    "duration": 1440,
    "start_time": "2021-08-06T21:00:52.397Z"
   },
   {
    "duration": 339,
    "start_time": "2021-08-06T21:06:27.861Z"
   },
   {
    "duration": 238,
    "start_time": "2021-08-06T21:12:55.756Z"
   },
   {
    "duration": 107,
    "start_time": "2021-08-06T21:12:58.113Z"
   },
   {
    "duration": 519,
    "start_time": "2021-08-06T21:13:14.205Z"
   },
   {
    "duration": 66,
    "start_time": "2021-08-06T21:13:19.207Z"
   },
   {
    "duration": 9,
    "start_time": "2021-08-06T21:13:22.741Z"
   },
   {
    "duration": 10676,
    "start_time": "2021-08-07T04:28:47.686Z"
   },
   {
    "duration": 163,
    "start_time": "2021-08-07T04:28:58.364Z"
   },
   {
    "duration": 18,
    "start_time": "2021-08-07T04:28:58.529Z"
   },
   {
    "duration": 5,
    "start_time": "2021-08-07T04:28:58.548Z"
   },
   {
    "duration": 9,
    "start_time": "2021-08-07T04:28:58.555Z"
   },
   {
    "duration": 8,
    "start_time": "2021-08-07T04:28:58.585Z"
   },
   {
    "duration": 20,
    "start_time": "2021-08-07T04:28:58.594Z"
   },
   {
    "duration": 7,
    "start_time": "2021-08-07T04:28:58.616Z"
   },
   {
    "duration": 20,
    "start_time": "2021-08-07T04:28:58.625Z"
   },
   {
    "duration": 3,
    "start_time": "2021-08-07T04:28:58.647Z"
   },
   {
    "duration": 35,
    "start_time": "2021-08-07T04:28:58.652Z"
   },
   {
    "duration": 16,
    "start_time": "2021-08-07T04:28:58.688Z"
   },
   {
    "duration": 2,
    "start_time": "2021-08-07T04:28:58.706Z"
   },
   {
    "duration": 47,
    "start_time": "2021-08-07T04:28:58.709Z"
   },
   {
    "duration": 6,
    "start_time": "2021-08-07T04:28:58.785Z"
   },
   {
    "duration": 7,
    "start_time": "2021-08-07T04:28:58.793Z"
   },
   {
    "duration": 5713,
    "start_time": "2021-08-07T04:28:58.802Z"
   },
   {
    "duration": 47,
    "start_time": "2021-08-07T04:29:04.516Z"
   },
   {
    "duration": 69534,
    "start_time": "2021-08-07T04:29:04.565Z"
   },
   {
    "duration": 605,
    "start_time": "2021-08-07T04:30:14.101Z"
   },
   {
    "duration": 2,
    "start_time": "2021-08-07T04:30:14.708Z"
   },
   {
    "duration": 6,
    "start_time": "2021-08-07T04:30:14.711Z"
   },
   {
    "duration": 2,
    "start_time": "2021-08-07T04:30:14.719Z"
   },
   {
    "duration": 462,
    "start_time": "2021-08-07T04:30:14.723Z"
   },
   {
    "duration": 2036,
    "start_time": "2021-08-07T04:30:15.187Z"
   },
   {
    "duration": 48,
    "start_time": "2021-08-07T04:30:17.225Z"
   },
   {
    "duration": 54874,
    "start_time": "2021-08-07T04:30:17.285Z"
   },
   {
    "duration": 729,
    "start_time": "2021-08-07T04:31:12.160Z"
   },
   {
    "duration": 394,
    "start_time": "2021-08-07T04:31:12.891Z"
   },
   {
    "duration": 14,
    "start_time": "2021-08-07T04:31:13.287Z"
   },
   {
    "duration": 7285,
    "start_time": "2021-08-07T04:31:13.302Z"
   },
   {
    "duration": 64,
    "start_time": "2021-08-07T04:31:20.588Z"
   },
   {
    "duration": 109590,
    "start_time": "2021-08-07T04:31:20.654Z"
   },
   {
    "duration": 1454,
    "start_time": "2021-08-07T04:33:10.245Z"
   },
   {
    "duration": 490,
    "start_time": "2021-08-07T04:33:11.701Z"
   },
   {
    "duration": 524,
    "start_time": "2021-08-07T04:33:12.192Z"
   },
   {
    "duration": 77,
    "start_time": "2021-08-07T04:33:12.717Z"
   },
   {
    "duration": 8,
    "start_time": "2021-08-07T04:33:12.796Z"
   }
  ],
  "kernelspec": {
   "display_name": "Python 3 (ipykernel)",
   "language": "python",
   "name": "python3"
  },
  "language_info": {
   "codemirror_mode": {
    "name": "ipython",
    "version": 3
   },
   "file_extension": ".py",
   "mimetype": "text/x-python",
   "name": "python",
   "nbconvert_exporter": "python",
   "pygments_lexer": "ipython3",
   "version": "3.9.6"
  },
  "toc": {
   "base_numbering": 1,
   "nav_menu": {},
   "number_sections": true,
   "sideBar": true,
   "skip_h1_title": true,
   "title_cell": "Содержание",
   "title_sidebar": "Contents",
   "toc_cell": true,
   "toc_position": {
    "height": "calc(100% - 180px)",
    "left": "10px",
    "top": "150px",
    "width": "302.391px"
   },
   "toc_section_display": true,
   "toc_window_display": true
  }
 },
 "nbformat": 4,
 "nbformat_minor": 2
}
