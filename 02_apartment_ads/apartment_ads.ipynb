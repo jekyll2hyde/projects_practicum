{
 "cells": [
  {
   "cell_type": "markdown",
   "metadata": {},
   "source": [
    "# Исследование объявлений о продаже квартир\n",
    "\n",
    "Онлайн-сервис по продаже квартир планирует построить автоматизированную систему определения рыночной стоимости объектов недвижимости для отслеживания аномалий и мошеннической деятельности.\n",
    "\n",
    "***Задача*** для анализа - установить параметры, влияющие на стоимость недвижимости.\n",
    "\n",
    "***Входные данные*** — архив объявлений о продаже квартир в Санкт-Петербурге и соседних населённых пунктах за несколько лет. По каждой квартире на продажу доступны два вида данных. Первые вписаны пользователем, вторые получены автоматически на основе картографических данных ( расстояние до центра, аэропорта, ближайшего парка и водоёма и т.д. ). "
   ]
  },
  {
   "cell_type": "markdown",
   "metadata": {
    "toc": true
   },
   "source": [
    "<h1>Содержание<span class=\"tocSkip\"></span></h1>\n",
    "<div class=\"toc\"><ul class=\"toc-item\"><li><span><a href=\"#Первичный-аналитический-осмотр-данных\" data-toc-modified-id=\"Первичный-аналитический-осмотр-данных-1\"><span class=\"toc-item-num\">1&nbsp;&nbsp;</span>Первичный аналитический осмотр данных</a></span></li><li><span><a href=\"#Предобработка-данных\" data-toc-modified-id=\"Предобработка-данных-2\"><span class=\"toc-item-num\">2&nbsp;&nbsp;</span>Предобработка данных</a></span></li><li><span><a href=\"#Формирование-дополнительных-данных\" data-toc-modified-id=\"Формирование-дополнительных-данных-3\"><span class=\"toc-item-num\">3&nbsp;&nbsp;</span>Формирование дополнительных данных</a></span></li><li><span><a href=\"#Исследовательский-анализ-данных\" data-toc-modified-id=\"Исследовательский-анализ-данных-4\"><span class=\"toc-item-num\">4&nbsp;&nbsp;</span>Исследовательский анализ данных</a></span><ul class=\"toc-item\"><li><span><a href=\"#Изучение-распределения-значений\" data-toc-modified-id=\"Изучение-распределения-значений-4.1\"><span class=\"toc-item-num\">4.1&nbsp;&nbsp;</span>Изучение распределения значений</a></span></li><li><span><a href=\"#Удаление--неправдоподобных-значений\" data-toc-modified-id=\"Удаление--неправдоподобных-значений-4.2\"><span class=\"toc-item-num\">4.2&nbsp;&nbsp;</span>Удаление  неправдоподобных значений</a></span></li><li><span><a href=\"#Выявление-зависимости-цены-от-параметров-недвижимости\" data-toc-modified-id=\"Выявление-зависимости-цены-от-параметров-недвижимости-4.3\"><span class=\"toc-item-num\">4.3&nbsp;&nbsp;</span>Выявление зависимости цены от параметров недвижимости</a></span></li><li><span><a href=\"#Изучение-лидеров-по-объявлениям-продажи-квартир\" data-toc-modified-id=\"Изучение-лидеров-по-объявлениям-продажи-квартир-4.4\"><span class=\"toc-item-num\">4.4&nbsp;&nbsp;</span>Изучение лидеров по объявлениям продажи квартир</a></span></li><li><span><a href=\"#Изучение-предложений-квартир-в-Санкт-Петербурге\" data-toc-modified-id=\"Изучение-предложений-квартир-в-Санкт-Петербурге-4.5\"><span class=\"toc-item-num\">4.5&nbsp;&nbsp;</span>Изучение предложений квартир в Санкт-Петербурге</a></span></li></ul></li><li><span><a href=\"#Общий-вывод\" data-toc-modified-id=\"Общий-вывод-5\"><span class=\"toc-item-num\">5&nbsp;&nbsp;</span>Общий вывод</a></span></li></ul></div>"
   ]
  },
  {
   "cell_type": "markdown",
   "metadata": {},
   "source": [
    "## Первичный аналитический осмотр данных"
   ]
  },
  {
   "cell_type": "code",
   "execution_count": 1,
   "metadata": {},
   "outputs": [
    {
     "data": {
      "text/html": [
       "<div>\n",
       "<style scoped>\n",
       "    .dataframe tbody tr th:only-of-type {\n",
       "        vertical-align: middle;\n",
       "    }\n",
       "\n",
       "    .dataframe tbody tr th {\n",
       "        vertical-align: top;\n",
       "    }\n",
       "\n",
       "    .dataframe thead th {\n",
       "        text-align: right;\n",
       "    }\n",
       "</style>\n",
       "<table border=\"1\" class=\"dataframe\">\n",
       "  <thead>\n",
       "    <tr style=\"text-align: right;\">\n",
       "      <th></th>\n",
       "      <th>total_images</th>\n",
       "      <th>last_price</th>\n",
       "      <th>total_area</th>\n",
       "      <th>first_day_exposition</th>\n",
       "      <th>rooms</th>\n",
       "      <th>ceiling_height</th>\n",
       "      <th>floors_total</th>\n",
       "      <th>living_area</th>\n",
       "      <th>floor</th>\n",
       "      <th>is_apartment</th>\n",
       "      <th>...</th>\n",
       "      <th>kitchen_area</th>\n",
       "      <th>balcony</th>\n",
       "      <th>locality_name</th>\n",
       "      <th>airports_nearest</th>\n",
       "      <th>cityCenters_nearest</th>\n",
       "      <th>parks_around3000</th>\n",
       "      <th>parks_nearest</th>\n",
       "      <th>ponds_around3000</th>\n",
       "      <th>ponds_nearest</th>\n",
       "      <th>days_exposition</th>\n",
       "    </tr>\n",
       "  </thead>\n",
       "  <tbody>\n",
       "    <tr>\n",
       "      <th>0</th>\n",
       "      <td>20</td>\n",
       "      <td>13000000.0</td>\n",
       "      <td>108.0</td>\n",
       "      <td>2019-03-07T00:00:00</td>\n",
       "      <td>3</td>\n",
       "      <td>2.70</td>\n",
       "      <td>16.0</td>\n",
       "      <td>51.0</td>\n",
       "      <td>8</td>\n",
       "      <td>NaN</td>\n",
       "      <td>...</td>\n",
       "      <td>25.0</td>\n",
       "      <td>NaN</td>\n",
       "      <td>Санкт-Петербург</td>\n",
       "      <td>18863.0</td>\n",
       "      <td>16028.0</td>\n",
       "      <td>1.0</td>\n",
       "      <td>482.0</td>\n",
       "      <td>2.0</td>\n",
       "      <td>755.0</td>\n",
       "      <td>NaN</td>\n",
       "    </tr>\n",
       "    <tr>\n",
       "      <th>1</th>\n",
       "      <td>7</td>\n",
       "      <td>3350000.0</td>\n",
       "      <td>40.4</td>\n",
       "      <td>2018-12-04T00:00:00</td>\n",
       "      <td>1</td>\n",
       "      <td>NaN</td>\n",
       "      <td>11.0</td>\n",
       "      <td>18.6</td>\n",
       "      <td>1</td>\n",
       "      <td>NaN</td>\n",
       "      <td>...</td>\n",
       "      <td>11.0</td>\n",
       "      <td>2.0</td>\n",
       "      <td>посёлок Шушары</td>\n",
       "      <td>12817.0</td>\n",
       "      <td>18603.0</td>\n",
       "      <td>0.0</td>\n",
       "      <td>NaN</td>\n",
       "      <td>0.0</td>\n",
       "      <td>NaN</td>\n",
       "      <td>81.0</td>\n",
       "    </tr>\n",
       "    <tr>\n",
       "      <th>2</th>\n",
       "      <td>10</td>\n",
       "      <td>5196000.0</td>\n",
       "      <td>56.0</td>\n",
       "      <td>2015-08-20T00:00:00</td>\n",
       "      <td>2</td>\n",
       "      <td>NaN</td>\n",
       "      <td>5.0</td>\n",
       "      <td>34.3</td>\n",
       "      <td>4</td>\n",
       "      <td>NaN</td>\n",
       "      <td>...</td>\n",
       "      <td>8.3</td>\n",
       "      <td>0.0</td>\n",
       "      <td>Санкт-Петербург</td>\n",
       "      <td>21741.0</td>\n",
       "      <td>13933.0</td>\n",
       "      <td>1.0</td>\n",
       "      <td>90.0</td>\n",
       "      <td>2.0</td>\n",
       "      <td>574.0</td>\n",
       "      <td>558.0</td>\n",
       "    </tr>\n",
       "    <tr>\n",
       "      <th>3</th>\n",
       "      <td>0</td>\n",
       "      <td>64900000.0</td>\n",
       "      <td>159.0</td>\n",
       "      <td>2015-07-24T00:00:00</td>\n",
       "      <td>3</td>\n",
       "      <td>NaN</td>\n",
       "      <td>14.0</td>\n",
       "      <td>NaN</td>\n",
       "      <td>9</td>\n",
       "      <td>NaN</td>\n",
       "      <td>...</td>\n",
       "      <td>NaN</td>\n",
       "      <td>0.0</td>\n",
       "      <td>Санкт-Петербург</td>\n",
       "      <td>28098.0</td>\n",
       "      <td>6800.0</td>\n",
       "      <td>2.0</td>\n",
       "      <td>84.0</td>\n",
       "      <td>3.0</td>\n",
       "      <td>234.0</td>\n",
       "      <td>424.0</td>\n",
       "    </tr>\n",
       "    <tr>\n",
       "      <th>4</th>\n",
       "      <td>2</td>\n",
       "      <td>10000000.0</td>\n",
       "      <td>100.0</td>\n",
       "      <td>2018-06-19T00:00:00</td>\n",
       "      <td>2</td>\n",
       "      <td>3.03</td>\n",
       "      <td>14.0</td>\n",
       "      <td>32.0</td>\n",
       "      <td>13</td>\n",
       "      <td>NaN</td>\n",
       "      <td>...</td>\n",
       "      <td>41.0</td>\n",
       "      <td>NaN</td>\n",
       "      <td>Санкт-Петербург</td>\n",
       "      <td>31856.0</td>\n",
       "      <td>8098.0</td>\n",
       "      <td>2.0</td>\n",
       "      <td>112.0</td>\n",
       "      <td>1.0</td>\n",
       "      <td>48.0</td>\n",
       "      <td>121.0</td>\n",
       "    </tr>\n",
       "  </tbody>\n",
       "</table>\n",
       "<p>5 rows × 22 columns</p>\n",
       "</div>"
      ],
      "text/plain": [
       "   total_images  last_price  total_area first_day_exposition  rooms  \\\n",
       "0            20  13000000.0       108.0  2019-03-07T00:00:00      3   \n",
       "1             7   3350000.0        40.4  2018-12-04T00:00:00      1   \n",
       "2            10   5196000.0        56.0  2015-08-20T00:00:00      2   \n",
       "3             0  64900000.0       159.0  2015-07-24T00:00:00      3   \n",
       "4             2  10000000.0       100.0  2018-06-19T00:00:00      2   \n",
       "\n",
       "   ceiling_height  floors_total  living_area  floor is_apartment  ...  \\\n",
       "0            2.70          16.0         51.0      8          NaN  ...   \n",
       "1             NaN          11.0         18.6      1          NaN  ...   \n",
       "2             NaN           5.0         34.3      4          NaN  ...   \n",
       "3             NaN          14.0          NaN      9          NaN  ...   \n",
       "4            3.03          14.0         32.0     13          NaN  ...   \n",
       "\n",
       "   kitchen_area  balcony    locality_name  airports_nearest  \\\n",
       "0          25.0      NaN  Санкт-Петербург           18863.0   \n",
       "1          11.0      2.0   посёлок Шушары           12817.0   \n",
       "2           8.3      0.0  Санкт-Петербург           21741.0   \n",
       "3           NaN      0.0  Санкт-Петербург           28098.0   \n",
       "4          41.0      NaN  Санкт-Петербург           31856.0   \n",
       "\n",
       "  cityCenters_nearest  parks_around3000  parks_nearest  ponds_around3000  \\\n",
       "0             16028.0               1.0          482.0               2.0   \n",
       "1             18603.0               0.0            NaN               0.0   \n",
       "2             13933.0               1.0           90.0               2.0   \n",
       "3              6800.0               2.0           84.0               3.0   \n",
       "4              8098.0               2.0          112.0               1.0   \n",
       "\n",
       "   ponds_nearest  days_exposition  \n",
       "0          755.0              NaN  \n",
       "1            NaN             81.0  \n",
       "2          574.0            558.0  \n",
       "3          234.0            424.0  \n",
       "4           48.0            121.0  \n",
       "\n",
       "[5 rows x 22 columns]"
      ]
     },
     "execution_count": 1,
     "metadata": {},
     "output_type": "execute_result"
    }
   ],
   "source": [
    "# Импорт библиотек\n",
    "import pandas as pd\n",
    "import numpy as np\n",
    "import matplotlib.pyplot as plt\n",
    "\n",
    "# Чтение файла с данными с сохранением в 'data'\n",
    "data = pd.read_csv('https://code.s3.yandex.net/datasets/real_estate_data.csv', sep = '\\t')\n",
    "\n",
    "# Получение первых 5 строк таблицы 'data'\n",
    "data.head()"
   ]
  },
  {
   "cell_type": "markdown",
   "metadata": {},
   "source": [
    "# Исследование объявлений о продаже квартир\n",
    "\n",
    "Онлайн-сервис по продаже квартир планирует построить автоматизированную систему определения рыночной стоимости объектов недвижимости для отслеживания аномалий и мошеннической деятельности.\n",
    "\n",
    "***Задача*** для анализа - установить параметры, влияющие на стоимость недвижимости.\n",
    "\n",
    "***Входные данные*** — архив объявлений о продаже квартир в Санкт-Петербурге и соседних населённых пунктах за несколько лет. По каждой квартире на продажу доступны два вида данных. Первые вписаны пользователем, вторые получены автоматически на основе картографических данных (расстояние до центра, аэропорта, ближайшего парка и водоёма и т.д.). "
   ]
  },
  {
   "cell_type": "code",
   "execution_count": 2,
   "metadata": {},
   "outputs": [
    {
     "name": "stdout",
     "output_type": "stream",
     "text": [
      "<class 'pandas.core.frame.DataFrame'>\n",
      "RangeIndex: 23699 entries, 0 to 23698\n",
      "Data columns (total 22 columns):\n",
      " #   Column                Non-Null Count  Dtype  \n",
      "---  ------                --------------  -----  \n",
      " 0   total_images          23699 non-null  int64  \n",
      " 1   last_price            23699 non-null  float64\n",
      " 2   total_area            23699 non-null  float64\n",
      " 3   first_day_exposition  23699 non-null  object \n",
      " 4   rooms                 23699 non-null  int64  \n",
      " 5   ceiling_height        14504 non-null  float64\n",
      " 6   floors_total          23613 non-null  float64\n",
      " 7   living_area           21796 non-null  float64\n",
      " 8   floor                 23699 non-null  int64  \n",
      " 9   is_apartment          2775 non-null   object \n",
      " 10  studio                23699 non-null  bool   \n",
      " 11  open_plan             23699 non-null  bool   \n",
      " 12  kitchen_area          21421 non-null  float64\n",
      " 13  balcony               12180 non-null  float64\n",
      " 14  locality_name         23650 non-null  object \n",
      " 15  airports_nearest      18157 non-null  float64\n",
      " 16  cityCenters_nearest   18180 non-null  float64\n",
      " 17  parks_around3000      18181 non-null  float64\n",
      " 18  parks_nearest         8079 non-null   float64\n",
      " 19  ponds_around3000      18181 non-null  float64\n",
      " 20  ponds_nearest         9110 non-null   float64\n",
      " 21  days_exposition       20518 non-null  float64\n",
      "dtypes: bool(2), float64(14), int64(3), object(3)\n",
      "memory usage: 3.7+ MB\n"
     ]
    }
   ],
   "source": [
    "# Получение общей информации о данных в таблице 'data'\n",
    "data.info()"
   ]
  },
  {
   "cell_type": "markdown",
   "metadata": {},
   "source": [
    "###### Вывод"
   ]
  },
  {
   "cell_type": "markdown",
   "metadata": {},
   "source": [
    "Всего в таблице 22 столбца со следующими типами данных: bool, float64, int64, object.\n",
    "\n",
    "Наименование столбцов и информация, содержащаяся в них:\n",
    "\n",
    "- airports_nearest — расстояние до ближайшего аэропорта в метрах (м)\n",
    "- balcony — число балконов\n",
    "- ceiling_height — высота потолков (м)\n",
    "- cityCenters_nearest — расстояние до центра города (м)\n",
    "- days_exposition — сколько дней было размещено объявление (от публикации до снятия)\n",
    "- first_day_exposition — дата публикации\n",
    "- floor — этаж\n",
    "- floors_total — всего этажей в доме\n",
    "- is_apartment — апартаменты\n",
    "- kitchen_area — площадь кухни в квадратных метрах (м²)\n",
    "- last_price — цена на момент снятия с публикации\n",
    "- living_area — жилая площадь в квадратных метрах(м²)\n",
    "- locality_name — название населённого пункта\n",
    "- open_plan — свободная планировка (булев тип)\n",
    "- parks_around3000 — число парков в радиусе 3 км\n",
    "- parks_nearest — расстояние до ближайшего парка (м)\n",
    "- ponds_around3000 — число водоёмов в радиусе 3 км\n",
    "- ponds_nearest — расстояние до ближайшего водоёма (м)\n",
    "- rooms — число комнат\n",
    "- studio — квартира-студия (булев тип)\n",
    "- total_area — площадь квартиры в квадратных метрах (м²)\n",
    "- total_images — число фотографий квартиры в объявлении\n",
    "\n",
    "Всего в датасете 23699 строк. При этом, только в столбцах *first_day_exposition*, *floor*, *last_price*, *open_plan*, *rooms*, *studio*, *total_area* и *total_images* все строки заполнены данными. Это говорит о том, что в остальных столбцах есть отсутствующие значения. Во избежание искажения результатов дальнейшего анализа необходимо рассмотреть логичную замену пропущенных значений, где это уместно.\n",
    "\n",
    "Столбец *cityCenters_nearest* состоит из символов верхнего и нижнего регистров. Для удобства дальнейшей работы его следует переименовать.\n",
    "\n",
    "Тип данных столбца *first_day_exposition* - *object*. Для удобства дальнейшей работы необходимо изменить тип данных столбца на *datetime* без отражения времени, так как данные по времени не занесены в столбец.\n",
    "\n",
    "Тип данных столбцов *floors_total*, *balcony*, *parks_around3000*, *ponds_around3000*, *days_exposition* - *float*. При этом в данных столбцах отражаются целые значения. С целью улучшения визуального представления данных необходимо заменить тип данных указанных столбцов на *int*.\n",
    "\n",
    "Тип данных столбца *is_apartment* - *object*, но содержит, кроме пропусков, булевы значения. Таким образом, тип данных указанного столбца следует заменить на логический."
   ]
  },
  {
   "cell_type": "markdown",
   "metadata": {},
   "source": [
    "## Предобработка данных"
   ]
  },
  {
   "cell_type": "markdown",
   "metadata": {},
   "source": [
    "Изменим название столбца *cityCenters_nearest* на *cityсenters_nearest*: "
   ]
  },
  {
   "cell_type": "code",
   "execution_count": 3,
   "metadata": {},
   "outputs": [],
   "source": [
    "# Переименование столбца 'cityCenters_nearest'\n",
    "data.rename(columns = {'cityCenters_nearest':'citycenters_nearest'}, inplace = True)"
   ]
  },
  {
   "cell_type": "markdown",
   "metadata": {},
   "source": [
    "Рассмотрим подробнее столбцы, в которых обнаружены пропуски:\n",
    "\n",
    "**ceiling_height.** Наличие пропусков может быть связано с невнесением данных пользователями при размещении объявлений. Вероятнее всего, пользователи, разместившие данные объявления, просто не знают высоту потолков в своих квартирах и не придают данному показателю серьезного значения. Пустые данные этого столбца можно заменить на медианное значение по столбцу.\n",
    "\n",
    "**floors_total.** Наличие пропусков может быть связано с невнесением данных пользователями при размещении объявлений. Также может быть, что данные не внесены по причине того, что продающиеся квартиры находятся в одноэтажных домах. Проверим данное предположение:"
   ]
  },
  {
   "cell_type": "code",
   "execution_count": 4,
   "metadata": {
    "scrolled": false
   },
   "outputs": [
    {
     "data": {
      "text/html": [
       "<div>\n",
       "<style scoped>\n",
       "    .dataframe tbody tr th:only-of-type {\n",
       "        vertical-align: middle;\n",
       "    }\n",
       "\n",
       "    .dataframe tbody tr th {\n",
       "        vertical-align: top;\n",
       "    }\n",
       "\n",
       "    .dataframe thead th {\n",
       "        text-align: right;\n",
       "    }\n",
       "</style>\n",
       "<table border=\"1\" class=\"dataframe\">\n",
       "  <thead>\n",
       "    <tr style=\"text-align: right;\">\n",
       "      <th></th>\n",
       "      <th>floors_total</th>\n",
       "      <th>floor</th>\n",
       "    </tr>\n",
       "  </thead>\n",
       "  <tbody>\n",
       "    <tr>\n",
       "      <th>186</th>\n",
       "      <td>NaN</td>\n",
       "      <td>4</td>\n",
       "    </tr>\n",
       "    <tr>\n",
       "      <th>237</th>\n",
       "      <td>NaN</td>\n",
       "      <td>1</td>\n",
       "    </tr>\n",
       "    <tr>\n",
       "      <th>457</th>\n",
       "      <td>NaN</td>\n",
       "      <td>12</td>\n",
       "    </tr>\n",
       "    <tr>\n",
       "      <th>671</th>\n",
       "      <td>NaN</td>\n",
       "      <td>8</td>\n",
       "    </tr>\n",
       "    <tr>\n",
       "      <th>1757</th>\n",
       "      <td>NaN</td>\n",
       "      <td>9</td>\n",
       "    </tr>\n",
       "  </tbody>\n",
       "</table>\n",
       "</div>"
      ],
      "text/plain": [
       "      floors_total  floor\n",
       "186            NaN      4\n",
       "237            NaN      1\n",
       "457            NaN     12\n",
       "671            NaN      8\n",
       "1757           NaN      9"
      ]
     },
     "execution_count": 4,
     "metadata": {},
     "output_type": "execute_result"
    }
   ],
   "source": [
    "# Срез таблицы 'data' по столбцам 'floors_total' и 'floor' с пропущенными значениями в столбце 'floors_total'\n",
    "data[['floors_total','floor']][data['floors_total'].isna()].head()"
   ]
  },
  {
   "cell_type": "markdown",
   "metadata": {},
   "source": [
    "Как мы видим из среза, пропущенные значения в столбце *floors_total* встречаются для квартир, находящихся на разных этажах. В таком случае можно предположить, что этаж, на котором находится квартира, и является последним этажом в доме. Таким образом, замену пропущенных значений можно произвести на значения, равные значениям столбца *floor*.\n",
    "\n",
    "**living_area.** Наличие пропусков может быть связано с невнесением данных пользователями при размещении объявлений. Пользователи могут не знать жилую площадь своих квартир, зная общую. Можно заменить пропущенные значения на расчетное значение, рассчитанное с помощью доли, которую составляет жилая площадь от общей площади квартиры.\n",
    "\n",
    "**is_apartment.** Наличие пропусков может быть связано с невнесением данных пользователями при размещении объявлений. Данный столбец, по-сути, содержит булевы значения, и пропущенные значения в нем, вероятнее всего, соответствуют значениям *False*. Данное значение и будем использовать для замены.\n",
    "\n",
    "**kitchen_area.** Наличие пропусков может быть связано с невнесением данных пользователями при размещении объявлений. Пользователи могут не знать площадь отдельных комнат, зная общую. Можно заменить пропущенные значения на расчетное значение, рассчитанное с помощью доли, которую составляет площадь кухни от общей площади квартиры.\n",
    "\n",
    "**balcony.** Наличие пропусков может быть связано с невнесением данных пользователями при размещении объявлений. Вероятнее всего пропущенные значения указывают на отсутствие в квартирах балкона. Заменим пропущенные значения на ноль.\n",
    "\n",
    "**locality_name.** Наличие пропусков может быть связано с невнесением данных пользователями при размещении объявлений. Также, в случае, если данные в столбце получены автоматически на основе картографических данных, наличие пропущенных значений может быть связано со сбоем автоопределения местоположения или отстутствием в картографических данных конкретного населенного пункта. Для замены пропущенных значений нет подходящих данных.\n",
    "\n",
    "**airports_nearest, citycenters_nearest, parks_nearest, ponds_nearest.** Наличие пропусков, вероятнее всего, связано со значительной удаленностью населенного пункта от данных объектов.\n",
    "\n",
    "**parks_around3000, ponds_around3000.** Наличие пропусков, вероятнее всего, связано с отстутствием в радиусе трех километров парков и прудов. Проверим данное предположение, а также предположение выше:"
   ]
  },
  {
   "cell_type": "code",
   "execution_count": 5,
   "metadata": {},
   "outputs": [
    {
     "data": {
      "text/html": [
       "<div>\n",
       "<style scoped>\n",
       "    .dataframe tbody tr th:only-of-type {\n",
       "        vertical-align: middle;\n",
       "    }\n",
       "\n",
       "    .dataframe tbody tr th {\n",
       "        vertical-align: top;\n",
       "    }\n",
       "\n",
       "    .dataframe thead th {\n",
       "        text-align: right;\n",
       "    }\n",
       "</style>\n",
       "<table border=\"1\" class=\"dataframe\">\n",
       "  <thead>\n",
       "    <tr style=\"text-align: right;\">\n",
       "      <th></th>\n",
       "      <th>total_images</th>\n",
       "      <th>last_price</th>\n",
       "      <th>total_area</th>\n",
       "      <th>first_day_exposition</th>\n",
       "      <th>rooms</th>\n",
       "      <th>ceiling_height</th>\n",
       "      <th>floors_total</th>\n",
       "      <th>living_area</th>\n",
       "      <th>floor</th>\n",
       "      <th>is_apartment</th>\n",
       "      <th>...</th>\n",
       "      <th>kitchen_area</th>\n",
       "      <th>balcony</th>\n",
       "      <th>locality_name</th>\n",
       "      <th>airports_nearest</th>\n",
       "      <th>citycenters_nearest</th>\n",
       "      <th>parks_around3000</th>\n",
       "      <th>parks_nearest</th>\n",
       "      <th>ponds_around3000</th>\n",
       "      <th>ponds_nearest</th>\n",
       "      <th>days_exposition</th>\n",
       "    </tr>\n",
       "  </thead>\n",
       "  <tbody>\n",
       "    <tr>\n",
       "      <th>5</th>\n",
       "      <td>10</td>\n",
       "      <td>2890000.0</td>\n",
       "      <td>30.40</td>\n",
       "      <td>2018-09-10T00:00:00</td>\n",
       "      <td>1</td>\n",
       "      <td>NaN</td>\n",
       "      <td>12.0</td>\n",
       "      <td>14.40</td>\n",
       "      <td>5</td>\n",
       "      <td>NaN</td>\n",
       "      <td>...</td>\n",
       "      <td>9.10</td>\n",
       "      <td>NaN</td>\n",
       "      <td>городской посёлок Янино-1</td>\n",
       "      <td>NaN</td>\n",
       "      <td>NaN</td>\n",
       "      <td>NaN</td>\n",
       "      <td>NaN</td>\n",
       "      <td>NaN</td>\n",
       "      <td>NaN</td>\n",
       "      <td>55.0</td>\n",
       "    </tr>\n",
       "    <tr>\n",
       "      <th>8</th>\n",
       "      <td>20</td>\n",
       "      <td>2900000.0</td>\n",
       "      <td>33.16</td>\n",
       "      <td>2018-05-23T00:00:00</td>\n",
       "      <td>1</td>\n",
       "      <td>NaN</td>\n",
       "      <td>27.0</td>\n",
       "      <td>15.43</td>\n",
       "      <td>26</td>\n",
       "      <td>NaN</td>\n",
       "      <td>...</td>\n",
       "      <td>8.81</td>\n",
       "      <td>NaN</td>\n",
       "      <td>посёлок Мурино</td>\n",
       "      <td>NaN</td>\n",
       "      <td>NaN</td>\n",
       "      <td>NaN</td>\n",
       "      <td>NaN</td>\n",
       "      <td>NaN</td>\n",
       "      <td>NaN</td>\n",
       "      <td>189.0</td>\n",
       "    </tr>\n",
       "    <tr>\n",
       "      <th>12</th>\n",
       "      <td>10</td>\n",
       "      <td>3890000.0</td>\n",
       "      <td>54.00</td>\n",
       "      <td>2016-06-30T00:00:00</td>\n",
       "      <td>2</td>\n",
       "      <td>NaN</td>\n",
       "      <td>5.0</td>\n",
       "      <td>30.00</td>\n",
       "      <td>5</td>\n",
       "      <td>NaN</td>\n",
       "      <td>...</td>\n",
       "      <td>9.00</td>\n",
       "      <td>0.0</td>\n",
       "      <td>Сертолово</td>\n",
       "      <td>NaN</td>\n",
       "      <td>NaN</td>\n",
       "      <td>NaN</td>\n",
       "      <td>NaN</td>\n",
       "      <td>NaN</td>\n",
       "      <td>NaN</td>\n",
       "      <td>90.0</td>\n",
       "    </tr>\n",
       "    <tr>\n",
       "      <th>22</th>\n",
       "      <td>20</td>\n",
       "      <td>5000000.0</td>\n",
       "      <td>58.00</td>\n",
       "      <td>2017-04-24T00:00:00</td>\n",
       "      <td>2</td>\n",
       "      <td>2.75</td>\n",
       "      <td>25.0</td>\n",
       "      <td>30.00</td>\n",
       "      <td>15</td>\n",
       "      <td>NaN</td>\n",
       "      <td>...</td>\n",
       "      <td>11.00</td>\n",
       "      <td>2.0</td>\n",
       "      <td>деревня Кудрово</td>\n",
       "      <td>NaN</td>\n",
       "      <td>NaN</td>\n",
       "      <td>NaN</td>\n",
       "      <td>NaN</td>\n",
       "      <td>NaN</td>\n",
       "      <td>NaN</td>\n",
       "      <td>60.0</td>\n",
       "    </tr>\n",
       "    <tr>\n",
       "      <th>30</th>\n",
       "      <td>12</td>\n",
       "      <td>2200000.0</td>\n",
       "      <td>32.80</td>\n",
       "      <td>2018-02-19T00:00:00</td>\n",
       "      <td>1</td>\n",
       "      <td>NaN</td>\n",
       "      <td>9.0</td>\n",
       "      <td>NaN</td>\n",
       "      <td>2</td>\n",
       "      <td>NaN</td>\n",
       "      <td>...</td>\n",
       "      <td>NaN</td>\n",
       "      <td>NaN</td>\n",
       "      <td>Коммунар</td>\n",
       "      <td>NaN</td>\n",
       "      <td>NaN</td>\n",
       "      <td>NaN</td>\n",
       "      <td>NaN</td>\n",
       "      <td>NaN</td>\n",
       "      <td>NaN</td>\n",
       "      <td>63.0</td>\n",
       "    </tr>\n",
       "    <tr>\n",
       "      <th>...</th>\n",
       "      <td>...</td>\n",
       "      <td>...</td>\n",
       "      <td>...</td>\n",
       "      <td>...</td>\n",
       "      <td>...</td>\n",
       "      <td>...</td>\n",
       "      <td>...</td>\n",
       "      <td>...</td>\n",
       "      <td>...</td>\n",
       "      <td>...</td>\n",
       "      <td>...</td>\n",
       "      <td>...</td>\n",
       "      <td>...</td>\n",
       "      <td>...</td>\n",
       "      <td>...</td>\n",
       "      <td>...</td>\n",
       "      <td>...</td>\n",
       "      <td>...</td>\n",
       "      <td>...</td>\n",
       "      <td>...</td>\n",
       "      <td>...</td>\n",
       "    </tr>\n",
       "    <tr>\n",
       "      <th>23683</th>\n",
       "      <td>16</td>\n",
       "      <td>2100000.0</td>\n",
       "      <td>62.80</td>\n",
       "      <td>2018-09-18T00:00:00</td>\n",
       "      <td>4</td>\n",
       "      <td>2.50</td>\n",
       "      <td>5.0</td>\n",
       "      <td>45.50</td>\n",
       "      <td>3</td>\n",
       "      <td>NaN</td>\n",
       "      <td>...</td>\n",
       "      <td>5.50</td>\n",
       "      <td>NaN</td>\n",
       "      <td>посёлок Дзержинского</td>\n",
       "      <td>NaN</td>\n",
       "      <td>NaN</td>\n",
       "      <td>NaN</td>\n",
       "      <td>NaN</td>\n",
       "      <td>NaN</td>\n",
       "      <td>NaN</td>\n",
       "      <td>NaN</td>\n",
       "    </tr>\n",
       "    <tr>\n",
       "      <th>23692</th>\n",
       "      <td>2</td>\n",
       "      <td>1350000.0</td>\n",
       "      <td>30.00</td>\n",
       "      <td>2017-07-07T00:00:00</td>\n",
       "      <td>1</td>\n",
       "      <td>NaN</td>\n",
       "      <td>5.0</td>\n",
       "      <td>17.50</td>\n",
       "      <td>4</td>\n",
       "      <td>NaN</td>\n",
       "      <td>...</td>\n",
       "      <td>6.00</td>\n",
       "      <td>NaN</td>\n",
       "      <td>Тихвин</td>\n",
       "      <td>NaN</td>\n",
       "      <td>NaN</td>\n",
       "      <td>NaN</td>\n",
       "      <td>NaN</td>\n",
       "      <td>NaN</td>\n",
       "      <td>NaN</td>\n",
       "      <td>413.0</td>\n",
       "    </tr>\n",
       "    <tr>\n",
       "      <th>23695</th>\n",
       "      <td>14</td>\n",
       "      <td>3100000.0</td>\n",
       "      <td>59.00</td>\n",
       "      <td>2018-01-15T00:00:00</td>\n",
       "      <td>3</td>\n",
       "      <td>NaN</td>\n",
       "      <td>5.0</td>\n",
       "      <td>38.00</td>\n",
       "      <td>4</td>\n",
       "      <td>NaN</td>\n",
       "      <td>...</td>\n",
       "      <td>8.50</td>\n",
       "      <td>NaN</td>\n",
       "      <td>Тосно</td>\n",
       "      <td>NaN</td>\n",
       "      <td>NaN</td>\n",
       "      <td>NaN</td>\n",
       "      <td>NaN</td>\n",
       "      <td>NaN</td>\n",
       "      <td>NaN</td>\n",
       "      <td>45.0</td>\n",
       "    </tr>\n",
       "    <tr>\n",
       "      <th>23696</th>\n",
       "      <td>18</td>\n",
       "      <td>2500000.0</td>\n",
       "      <td>56.70</td>\n",
       "      <td>2018-02-11T00:00:00</td>\n",
       "      <td>2</td>\n",
       "      <td>NaN</td>\n",
       "      <td>3.0</td>\n",
       "      <td>29.70</td>\n",
       "      <td>1</td>\n",
       "      <td>NaN</td>\n",
       "      <td>...</td>\n",
       "      <td>NaN</td>\n",
       "      <td>NaN</td>\n",
       "      <td>село Рождествено</td>\n",
       "      <td>NaN</td>\n",
       "      <td>NaN</td>\n",
       "      <td>NaN</td>\n",
       "      <td>NaN</td>\n",
       "      <td>NaN</td>\n",
       "      <td>NaN</td>\n",
       "      <td>NaN</td>\n",
       "    </tr>\n",
       "    <tr>\n",
       "      <th>23698</th>\n",
       "      <td>4</td>\n",
       "      <td>1350000.0</td>\n",
       "      <td>32.30</td>\n",
       "      <td>2017-07-21T00:00:00</td>\n",
       "      <td>1</td>\n",
       "      <td>2.50</td>\n",
       "      <td>5.0</td>\n",
       "      <td>12.30</td>\n",
       "      <td>1</td>\n",
       "      <td>NaN</td>\n",
       "      <td>...</td>\n",
       "      <td>9.00</td>\n",
       "      <td>NaN</td>\n",
       "      <td>поселок Новый Учхоз</td>\n",
       "      <td>NaN</td>\n",
       "      <td>NaN</td>\n",
       "      <td>NaN</td>\n",
       "      <td>NaN</td>\n",
       "      <td>NaN</td>\n",
       "      <td>NaN</td>\n",
       "      <td>NaN</td>\n",
       "    </tr>\n",
       "  </tbody>\n",
       "</table>\n",
       "<p>5518 rows × 22 columns</p>\n",
       "</div>"
      ],
      "text/plain": [
       "       total_images  last_price  total_area first_day_exposition  rooms  \\\n",
       "5                10   2890000.0       30.40  2018-09-10T00:00:00      1   \n",
       "8                20   2900000.0       33.16  2018-05-23T00:00:00      1   \n",
       "12               10   3890000.0       54.00  2016-06-30T00:00:00      2   \n",
       "22               20   5000000.0       58.00  2017-04-24T00:00:00      2   \n",
       "30               12   2200000.0       32.80  2018-02-19T00:00:00      1   \n",
       "...             ...         ...         ...                  ...    ...   \n",
       "23683            16   2100000.0       62.80  2018-09-18T00:00:00      4   \n",
       "23692             2   1350000.0       30.00  2017-07-07T00:00:00      1   \n",
       "23695            14   3100000.0       59.00  2018-01-15T00:00:00      3   \n",
       "23696            18   2500000.0       56.70  2018-02-11T00:00:00      2   \n",
       "23698             4   1350000.0       32.30  2017-07-21T00:00:00      1   \n",
       "\n",
       "       ceiling_height  floors_total  living_area  floor is_apartment  ...  \\\n",
       "5                 NaN          12.0        14.40      5          NaN  ...   \n",
       "8                 NaN          27.0        15.43     26          NaN  ...   \n",
       "12                NaN           5.0        30.00      5          NaN  ...   \n",
       "22               2.75          25.0        30.00     15          NaN  ...   \n",
       "30                NaN           9.0          NaN      2          NaN  ...   \n",
       "...               ...           ...          ...    ...          ...  ...   \n",
       "23683            2.50           5.0        45.50      3          NaN  ...   \n",
       "23692             NaN           5.0        17.50      4          NaN  ...   \n",
       "23695             NaN           5.0        38.00      4          NaN  ...   \n",
       "23696             NaN           3.0        29.70      1          NaN  ...   \n",
       "23698            2.50           5.0        12.30      1          NaN  ...   \n",
       "\n",
       "       kitchen_area  balcony              locality_name  airports_nearest  \\\n",
       "5              9.10      NaN  городской посёлок Янино-1               NaN   \n",
       "8              8.81      NaN             посёлок Мурино               NaN   \n",
       "12             9.00      0.0                  Сертолово               NaN   \n",
       "22            11.00      2.0            деревня Кудрово               NaN   \n",
       "30              NaN      NaN                   Коммунар               NaN   \n",
       "...             ...      ...                        ...               ...   \n",
       "23683          5.50      NaN       посёлок Дзержинского               NaN   \n",
       "23692          6.00      NaN                     Тихвин               NaN   \n",
       "23695          8.50      NaN                      Тосно               NaN   \n",
       "23696           NaN      NaN           село Рождествено               NaN   \n",
       "23698          9.00      NaN        поселок Новый Учхоз               NaN   \n",
       "\n",
       "      citycenters_nearest  parks_around3000  parks_nearest  ponds_around3000  \\\n",
       "5                     NaN               NaN            NaN               NaN   \n",
       "8                     NaN               NaN            NaN               NaN   \n",
       "12                    NaN               NaN            NaN               NaN   \n",
       "22                    NaN               NaN            NaN               NaN   \n",
       "30                    NaN               NaN            NaN               NaN   \n",
       "...                   ...               ...            ...               ...   \n",
       "23683                 NaN               NaN            NaN               NaN   \n",
       "23692                 NaN               NaN            NaN               NaN   \n",
       "23695                 NaN               NaN            NaN               NaN   \n",
       "23696                 NaN               NaN            NaN               NaN   \n",
       "23698                 NaN               NaN            NaN               NaN   \n",
       "\n",
       "       ponds_nearest  days_exposition  \n",
       "5                NaN             55.0  \n",
       "8                NaN            189.0  \n",
       "12               NaN             90.0  \n",
       "22               NaN             60.0  \n",
       "30               NaN             63.0  \n",
       "...              ...              ...  \n",
       "23683            NaN              NaN  \n",
       "23692            NaN            413.0  \n",
       "23695            NaN             45.0  \n",
       "23696            NaN              NaN  \n",
       "23698            NaN              NaN  \n",
       "\n",
       "[5518 rows x 22 columns]"
      ]
     },
     "execution_count": 5,
     "metadata": {},
     "output_type": "execute_result"
    }
   ],
   "source": [
    "# Срез данных из строк таблицы, соответствующих пропущенным значениям в столбцах:\n",
    "#'parks_around3000', 'ponds_around3000', 'airports_nearest', 'cityCenters_nearest'. \n",
    "data[pd.isna(data['parks_around3000']) & pd.isna(\n",
    "    data['ponds_around3000']) & pd.isna(\n",
    "    data['airports_nearest']) & pd.isna(\n",
    "    data['citycenters_nearest'])\n",
    "    ]\n",
    "# Если парков и прудов нет в пределах 3 км, то ближе нет тем более"
   ]
  },
  {
   "cell_type": "markdown",
   "metadata": {},
   "source": [
    "В полученном срезе видно, что квартиры расположены в поселках, деревнях и селах, что подтверждает наше предположение.\n",
    "Итого, для замены пропущенных значений столбцов *airports_nearest*, *citycenters_nearest*, *parks_nearest*, *ponds_nearest* нет подходящих данных, а для замены пропущенных значений в столбцах *parks_around3000*, *ponds_around3000* используем ноль.\n",
    "\n",
    "**days_exposition.** В столбце отражено количество дней от публикации объявления до его снятия. Пропуски могли бы быть связаны с тем, что объявление до сих пор не снято, но исходя из общей информации о данных видно, что цены на момент снятия объявлений с публикации внесены во все строки датафрейма. Таким образом, наличие пропущенных значений может быть связано с ошибкой записи данных в системе при снятии объявления с публикации. Замену пропущенных значений логично провести медианным значением по столбцу."
   ]
  },
  {
   "cell_type": "markdown",
   "metadata": {},
   "source": [
    "Произведем замену пропущенных значений в столбцах согласно вышеизложенным предположениям:"
   ]
  },
  {
   "cell_type": "code",
   "execution_count": 6,
   "metadata": {},
   "outputs": [
    {
     "data": {
      "text/html": [
       "<div>\n",
       "<style scoped>\n",
       "    .dataframe tbody tr th:only-of-type {\n",
       "        vertical-align: middle;\n",
       "    }\n",
       "\n",
       "    .dataframe tbody tr th {\n",
       "        vertical-align: top;\n",
       "    }\n",
       "\n",
       "    .dataframe thead th {\n",
       "        text-align: right;\n",
       "    }\n",
       "</style>\n",
       "<table border=\"1\" class=\"dataframe\">\n",
       "  <thead>\n",
       "    <tr style=\"text-align: right;\">\n",
       "      <th></th>\n",
       "      <th>total_images</th>\n",
       "      <th>last_price</th>\n",
       "      <th>total_area</th>\n",
       "      <th>first_day_exposition</th>\n",
       "      <th>rooms</th>\n",
       "      <th>ceiling_height</th>\n",
       "      <th>floors_total</th>\n",
       "      <th>living_area</th>\n",
       "      <th>floor</th>\n",
       "      <th>is_apartment</th>\n",
       "      <th>...</th>\n",
       "      <th>kitchen_area</th>\n",
       "      <th>balcony</th>\n",
       "      <th>locality_name</th>\n",
       "      <th>airports_nearest</th>\n",
       "      <th>citycenters_nearest</th>\n",
       "      <th>parks_around3000</th>\n",
       "      <th>parks_nearest</th>\n",
       "      <th>ponds_around3000</th>\n",
       "      <th>ponds_nearest</th>\n",
       "      <th>days_exposition</th>\n",
       "    </tr>\n",
       "  </thead>\n",
       "  <tbody>\n",
       "    <tr>\n",
       "      <th>0</th>\n",
       "      <td>20</td>\n",
       "      <td>13000000.0</td>\n",
       "      <td>108.0</td>\n",
       "      <td>2019-03-07T00:00:00</td>\n",
       "      <td>3</td>\n",
       "      <td>2.70</td>\n",
       "      <td>16.0</td>\n",
       "      <td>51.000000</td>\n",
       "      <td>8</td>\n",
       "      <td>False</td>\n",
       "      <td>...</td>\n",
       "      <td>25.00000</td>\n",
       "      <td>0.0</td>\n",
       "      <td>Санкт-Петербург</td>\n",
       "      <td>18863.0</td>\n",
       "      <td>16028.0</td>\n",
       "      <td>1.0</td>\n",
       "      <td>482.0</td>\n",
       "      <td>2.0</td>\n",
       "      <td>755.0</td>\n",
       "      <td>95.0</td>\n",
       "    </tr>\n",
       "    <tr>\n",
       "      <th>1</th>\n",
       "      <td>7</td>\n",
       "      <td>3350000.0</td>\n",
       "      <td>40.4</td>\n",
       "      <td>2018-12-04T00:00:00</td>\n",
       "      <td>1</td>\n",
       "      <td>2.65</td>\n",
       "      <td>11.0</td>\n",
       "      <td>18.600000</td>\n",
       "      <td>1</td>\n",
       "      <td>False</td>\n",
       "      <td>...</td>\n",
       "      <td>11.00000</td>\n",
       "      <td>2.0</td>\n",
       "      <td>посёлок Шушары</td>\n",
       "      <td>12817.0</td>\n",
       "      <td>18603.0</td>\n",
       "      <td>0.0</td>\n",
       "      <td>NaN</td>\n",
       "      <td>0.0</td>\n",
       "      <td>NaN</td>\n",
       "      <td>81.0</td>\n",
       "    </tr>\n",
       "    <tr>\n",
       "      <th>2</th>\n",
       "      <td>10</td>\n",
       "      <td>5196000.0</td>\n",
       "      <td>56.0</td>\n",
       "      <td>2015-08-20T00:00:00</td>\n",
       "      <td>2</td>\n",
       "      <td>2.65</td>\n",
       "      <td>5.0</td>\n",
       "      <td>34.300000</td>\n",
       "      <td>4</td>\n",
       "      <td>False</td>\n",
       "      <td>...</td>\n",
       "      <td>8.30000</td>\n",
       "      <td>0.0</td>\n",
       "      <td>Санкт-Петербург</td>\n",
       "      <td>21741.0</td>\n",
       "      <td>13933.0</td>\n",
       "      <td>1.0</td>\n",
       "      <td>90.0</td>\n",
       "      <td>2.0</td>\n",
       "      <td>574.0</td>\n",
       "      <td>558.0</td>\n",
       "    </tr>\n",
       "    <tr>\n",
       "      <th>3</th>\n",
       "      <td>0</td>\n",
       "      <td>64900000.0</td>\n",
       "      <td>159.0</td>\n",
       "      <td>2015-07-24T00:00:00</td>\n",
       "      <td>3</td>\n",
       "      <td>2.65</td>\n",
       "      <td>14.0</td>\n",
       "      <td>83.495783</td>\n",
       "      <td>9</td>\n",
       "      <td>False</td>\n",
       "      <td>...</td>\n",
       "      <td>25.17134</td>\n",
       "      <td>0.0</td>\n",
       "      <td>Санкт-Петербург</td>\n",
       "      <td>28098.0</td>\n",
       "      <td>6800.0</td>\n",
       "      <td>2.0</td>\n",
       "      <td>84.0</td>\n",
       "      <td>3.0</td>\n",
       "      <td>234.0</td>\n",
       "      <td>424.0</td>\n",
       "    </tr>\n",
       "    <tr>\n",
       "      <th>4</th>\n",
       "      <td>2</td>\n",
       "      <td>10000000.0</td>\n",
       "      <td>100.0</td>\n",
       "      <td>2018-06-19T00:00:00</td>\n",
       "      <td>2</td>\n",
       "      <td>3.03</td>\n",
       "      <td>14.0</td>\n",
       "      <td>32.000000</td>\n",
       "      <td>13</td>\n",
       "      <td>False</td>\n",
       "      <td>...</td>\n",
       "      <td>41.00000</td>\n",
       "      <td>0.0</td>\n",
       "      <td>Санкт-Петербург</td>\n",
       "      <td>31856.0</td>\n",
       "      <td>8098.0</td>\n",
       "      <td>2.0</td>\n",
       "      <td>112.0</td>\n",
       "      <td>1.0</td>\n",
       "      <td>48.0</td>\n",
       "      <td>121.0</td>\n",
       "    </tr>\n",
       "  </tbody>\n",
       "</table>\n",
       "<p>5 rows × 22 columns</p>\n",
       "</div>"
      ],
      "text/plain": [
       "   total_images  last_price  total_area first_day_exposition  rooms  \\\n",
       "0            20  13000000.0       108.0  2019-03-07T00:00:00      3   \n",
       "1             7   3350000.0        40.4  2018-12-04T00:00:00      1   \n",
       "2            10   5196000.0        56.0  2015-08-20T00:00:00      2   \n",
       "3             0  64900000.0       159.0  2015-07-24T00:00:00      3   \n",
       "4             2  10000000.0       100.0  2018-06-19T00:00:00      2   \n",
       "\n",
       "   ceiling_height  floors_total  living_area  floor is_apartment  ...  \\\n",
       "0            2.70          16.0    51.000000      8        False  ...   \n",
       "1            2.65          11.0    18.600000      1        False  ...   \n",
       "2            2.65           5.0    34.300000      4        False  ...   \n",
       "3            2.65          14.0    83.495783      9        False  ...   \n",
       "4            3.03          14.0    32.000000     13        False  ...   \n",
       "\n",
       "   kitchen_area  balcony    locality_name  airports_nearest  \\\n",
       "0      25.00000      0.0  Санкт-Петербург           18863.0   \n",
       "1      11.00000      2.0   посёлок Шушары           12817.0   \n",
       "2       8.30000      0.0  Санкт-Петербург           21741.0   \n",
       "3      25.17134      0.0  Санкт-Петербург           28098.0   \n",
       "4      41.00000      0.0  Санкт-Петербург           31856.0   \n",
       "\n",
       "  citycenters_nearest  parks_around3000  parks_nearest  ponds_around3000  \\\n",
       "0             16028.0               1.0          482.0               2.0   \n",
       "1             18603.0               0.0            NaN               0.0   \n",
       "2             13933.0               1.0           90.0               2.0   \n",
       "3              6800.0               2.0           84.0               3.0   \n",
       "4              8098.0               2.0          112.0               1.0   \n",
       "\n",
       "   ponds_nearest  days_exposition  \n",
       "0          755.0             95.0  \n",
       "1            NaN             81.0  \n",
       "2          574.0            558.0  \n",
       "3          234.0            424.0  \n",
       "4           48.0            121.0  \n",
       "\n",
       "[5 rows x 22 columns]"
      ]
     },
     "metadata": {},
     "output_type": "display_data"
    },
    {
     "name": "stdout",
     "output_type": "stream",
     "text": [
      "<class 'pandas.core.frame.DataFrame'>\n",
      "RangeIndex: 23699 entries, 0 to 23698\n",
      "Data columns (total 22 columns):\n",
      " #   Column                Non-Null Count  Dtype  \n",
      "---  ------                --------------  -----  \n",
      " 0   total_images          23699 non-null  int64  \n",
      " 1   last_price            23699 non-null  float64\n",
      " 2   total_area            23699 non-null  float64\n",
      " 3   first_day_exposition  23699 non-null  object \n",
      " 4   rooms                 23699 non-null  int64  \n",
      " 5   ceiling_height        23699 non-null  float64\n",
      " 6   floors_total          23699 non-null  float64\n",
      " 7   living_area           23699 non-null  float64\n",
      " 8   floor                 23699 non-null  int64  \n",
      " 9   is_apartment          23699 non-null  object \n",
      " 10  studio                23699 non-null  bool   \n",
      " 11  open_plan             23699 non-null  bool   \n",
      " 12  kitchen_area          23699 non-null  float64\n",
      " 13  balcony               23699 non-null  float64\n",
      " 14  locality_name         23650 non-null  object \n",
      " 15  airports_nearest      18157 non-null  float64\n",
      " 16  citycenters_nearest   18180 non-null  float64\n",
      " 17  parks_around3000      23699 non-null  float64\n",
      " 18  parks_nearest         8079 non-null   float64\n",
      " 19  ponds_around3000      23699 non-null  float64\n",
      " 20  ponds_nearest         9110 non-null   float64\n",
      " 21  days_exposition       23699 non-null  float64\n",
      "dtypes: bool(2), float64(14), int64(3), object(3)\n",
      "memory usage: 3.7+ MB\n"
     ]
    }
   ],
   "source": [
    "# Создание функции для замены значений с помощью метода. fillna()\n",
    "def replace_nan(column, value):\n",
    "    data[column] = data[column].fillna(value)\n",
    "\n",
    "# Замена пропущенных значений 'ceiling_height' на медианное значение по столбцу\n",
    " # Расчет медианы по столбцу 'ceiling_height'\n",
    "median_ceiling_height = data['ceiling_height'].median()\n",
    "replace_nan('ceiling_height', median_ceiling_height)\n",
    "\n",
    "# Замена пропущенных значений 'floors_total' на соответствующие значения столбца 'floor'\n",
    " # Создание функции для замены пропущенных значений\n",
    "def floors_replace_nan(row):\n",
    "    if pd.isna(row['floors_total']) == True:\n",
    "        floors_total = row['floor']\n",
    "        return floors_total\n",
    "    else:\n",
    "        return row['floors_total']\n",
    " # Применение функции для замены пустых значений        \n",
    "data['floors_total'] = data.apply(floors_replace_nan, axis = 1)\n",
    "\n",
    "# Замена пропущенных значений 'living_area' на расчетные значения по доле жилой площади от общей площади квартиры\n",
    " # Расчет доли жилой площади от общей площади квартиры\n",
    "living_area_part = data['living_area'].sum() / data['total_area'].sum()\n",
    " # Создание функции для замены пропущенных значений\n",
    "def living_area_replace_nan(row):\n",
    "    if pd.isna(row['living_area']) == True:\n",
    "        living_area = row['total_area'] * living_area_part\n",
    "        return living_area\n",
    "    else:\n",
    "        return row['living_area']\n",
    " # Применение функции для замены пустых значений \n",
    "data['living_area'] = data.apply(living_area_replace_nan, axis = 1)\n",
    "\n",
    "# Замена пропущенных значений 'kitchen_area' на расчетные значения по доле кухонной площади от общей площади квартиры\n",
    " # Расчет доли кухонной площади от общей площади квартиры\n",
    "kitchen_area_part = data['kitchen_area'].sum() / data['total_area'].sum()\n",
    " # Создание функции для замены пропущенных значений\n",
    "def kitchen_area_replace_nan(row):\n",
    "    if pd.isna(row['kitchen_area']) == True:\n",
    "        kitchen_area = row['total_area'] * kitchen_area_part\n",
    "        return kitchen_area\n",
    "    else:\n",
    "        return row['kitchen_area']\n",
    " # Применение функции для замены пустых значений \n",
    "data['kitchen_area'] = data.apply(kitchen_area_replace_nan, axis = 1)\n",
    "\n",
    "# Замена пропущенных значений 'is_apartment' на 'False'\n",
    "replace_nan('is_apartment', 'False')\n",
    "\n",
    "# Замена пропущенных значений 'balcony' на ноль\n",
    "replace_nan('balcony', 0)\n",
    "\n",
    "# Замена пропущенных значений 'parks_around3000' на ноль\n",
    "replace_nan('parks_around3000', 0)\n",
    "\n",
    "# Замена пропущенных значений 'ponds_around3000' на ноль\n",
    "replace_nan('ponds_around3000', 0)\n",
    "\n",
    "# Замена пропущенных значений 'days_exposition' на медианное значение\n",
    "median_days_exposition = data['days_exposition'].median()\n",
    "replace_nan('days_exposition', median_days_exposition)\n",
    "\n",
    "# Вывод на экран первых 5 строк обновленного датасета и общей информации о данных\n",
    "display(data.head())\n",
    "data.info()"
   ]
  },
  {
   "cell_type": "markdown",
   "metadata": {},
   "source": [
    "Исходя из общей информации о данных, пропуски в столбцах *ceiling_height*, *floors_total*, *living_area*, *kitchen_area*, *is_apartment*, *balcony*, *parks_around3000*, *ponds_around3000*, *days_exposition* были успешно заменены."
   ]
  },
  {
   "cell_type": "markdown",
   "metadata": {},
   "source": [
    "Для удобства дальнейшей обработки данных, а также для улучшения визуального представления данных, изменим типы данных столбцов согласно выводу по этапу 1:"
   ]
  },
  {
   "cell_type": "code",
   "execution_count": 7,
   "metadata": {},
   "outputs": [
    {
     "data": {
      "text/html": [
       "<div>\n",
       "<style scoped>\n",
       "    .dataframe tbody tr th:only-of-type {\n",
       "        vertical-align: middle;\n",
       "    }\n",
       "\n",
       "    .dataframe tbody tr th {\n",
       "        vertical-align: top;\n",
       "    }\n",
       "\n",
       "    .dataframe thead th {\n",
       "        text-align: right;\n",
       "    }\n",
       "</style>\n",
       "<table border=\"1\" class=\"dataframe\">\n",
       "  <thead>\n",
       "    <tr style=\"text-align: right;\">\n",
       "      <th></th>\n",
       "      <th>total_images</th>\n",
       "      <th>last_price</th>\n",
       "      <th>total_area</th>\n",
       "      <th>first_day_exposition</th>\n",
       "      <th>rooms</th>\n",
       "      <th>ceiling_height</th>\n",
       "      <th>floors_total</th>\n",
       "      <th>living_area</th>\n",
       "      <th>floor</th>\n",
       "      <th>is_apartment</th>\n",
       "      <th>...</th>\n",
       "      <th>kitchen_area</th>\n",
       "      <th>balcony</th>\n",
       "      <th>locality_name</th>\n",
       "      <th>airports_nearest</th>\n",
       "      <th>citycenters_nearest</th>\n",
       "      <th>parks_around3000</th>\n",
       "      <th>parks_nearest</th>\n",
       "      <th>ponds_around3000</th>\n",
       "      <th>ponds_nearest</th>\n",
       "      <th>days_exposition</th>\n",
       "    </tr>\n",
       "  </thead>\n",
       "  <tbody>\n",
       "    <tr>\n",
       "      <th>0</th>\n",
       "      <td>20</td>\n",
       "      <td>13000000.0</td>\n",
       "      <td>108.0</td>\n",
       "      <td>2019-03-07</td>\n",
       "      <td>3</td>\n",
       "      <td>2.70</td>\n",
       "      <td>16</td>\n",
       "      <td>51.000000</td>\n",
       "      <td>8</td>\n",
       "      <td>True</td>\n",
       "      <td>...</td>\n",
       "      <td>25.00000</td>\n",
       "      <td>0</td>\n",
       "      <td>Санкт-Петербург</td>\n",
       "      <td>18863.0</td>\n",
       "      <td>16028.0</td>\n",
       "      <td>1</td>\n",
       "      <td>482.0</td>\n",
       "      <td>2</td>\n",
       "      <td>755.0</td>\n",
       "      <td>95</td>\n",
       "    </tr>\n",
       "    <tr>\n",
       "      <th>1</th>\n",
       "      <td>7</td>\n",
       "      <td>3350000.0</td>\n",
       "      <td>40.4</td>\n",
       "      <td>2018-12-04</td>\n",
       "      <td>1</td>\n",
       "      <td>2.65</td>\n",
       "      <td>11</td>\n",
       "      <td>18.600000</td>\n",
       "      <td>1</td>\n",
       "      <td>True</td>\n",
       "      <td>...</td>\n",
       "      <td>11.00000</td>\n",
       "      <td>2</td>\n",
       "      <td>посёлок Шушары</td>\n",
       "      <td>12817.0</td>\n",
       "      <td>18603.0</td>\n",
       "      <td>0</td>\n",
       "      <td>NaN</td>\n",
       "      <td>0</td>\n",
       "      <td>NaN</td>\n",
       "      <td>81</td>\n",
       "    </tr>\n",
       "    <tr>\n",
       "      <th>2</th>\n",
       "      <td>10</td>\n",
       "      <td>5196000.0</td>\n",
       "      <td>56.0</td>\n",
       "      <td>2015-08-20</td>\n",
       "      <td>2</td>\n",
       "      <td>2.65</td>\n",
       "      <td>5</td>\n",
       "      <td>34.300000</td>\n",
       "      <td>4</td>\n",
       "      <td>True</td>\n",
       "      <td>...</td>\n",
       "      <td>8.30000</td>\n",
       "      <td>0</td>\n",
       "      <td>Санкт-Петербург</td>\n",
       "      <td>21741.0</td>\n",
       "      <td>13933.0</td>\n",
       "      <td>1</td>\n",
       "      <td>90.0</td>\n",
       "      <td>2</td>\n",
       "      <td>574.0</td>\n",
       "      <td>558</td>\n",
       "    </tr>\n",
       "    <tr>\n",
       "      <th>3</th>\n",
       "      <td>0</td>\n",
       "      <td>64900000.0</td>\n",
       "      <td>159.0</td>\n",
       "      <td>2015-07-24</td>\n",
       "      <td>3</td>\n",
       "      <td>2.65</td>\n",
       "      <td>14</td>\n",
       "      <td>83.495783</td>\n",
       "      <td>9</td>\n",
       "      <td>True</td>\n",
       "      <td>...</td>\n",
       "      <td>25.17134</td>\n",
       "      <td>0</td>\n",
       "      <td>Санкт-Петербург</td>\n",
       "      <td>28098.0</td>\n",
       "      <td>6800.0</td>\n",
       "      <td>2</td>\n",
       "      <td>84.0</td>\n",
       "      <td>3</td>\n",
       "      <td>234.0</td>\n",
       "      <td>424</td>\n",
       "    </tr>\n",
       "    <tr>\n",
       "      <th>4</th>\n",
       "      <td>2</td>\n",
       "      <td>10000000.0</td>\n",
       "      <td>100.0</td>\n",
       "      <td>2018-06-19</td>\n",
       "      <td>2</td>\n",
       "      <td>3.03</td>\n",
       "      <td>14</td>\n",
       "      <td>32.000000</td>\n",
       "      <td>13</td>\n",
       "      <td>True</td>\n",
       "      <td>...</td>\n",
       "      <td>41.00000</td>\n",
       "      <td>0</td>\n",
       "      <td>Санкт-Петербург</td>\n",
       "      <td>31856.0</td>\n",
       "      <td>8098.0</td>\n",
       "      <td>2</td>\n",
       "      <td>112.0</td>\n",
       "      <td>1</td>\n",
       "      <td>48.0</td>\n",
       "      <td>121</td>\n",
       "    </tr>\n",
       "  </tbody>\n",
       "</table>\n",
       "<p>5 rows × 22 columns</p>\n",
       "</div>"
      ],
      "text/plain": [
       "   total_images  last_price  total_area first_day_exposition  rooms  \\\n",
       "0            20  13000000.0       108.0           2019-03-07      3   \n",
       "1             7   3350000.0        40.4           2018-12-04      1   \n",
       "2            10   5196000.0        56.0           2015-08-20      2   \n",
       "3             0  64900000.0       159.0           2015-07-24      3   \n",
       "4             2  10000000.0       100.0           2018-06-19      2   \n",
       "\n",
       "   ceiling_height  floors_total  living_area  floor  is_apartment  ...  \\\n",
       "0            2.70            16    51.000000      8          True  ...   \n",
       "1            2.65            11    18.600000      1          True  ...   \n",
       "2            2.65             5    34.300000      4          True  ...   \n",
       "3            2.65            14    83.495783      9          True  ...   \n",
       "4            3.03            14    32.000000     13          True  ...   \n",
       "\n",
       "   kitchen_area  balcony    locality_name  airports_nearest  \\\n",
       "0      25.00000        0  Санкт-Петербург           18863.0   \n",
       "1      11.00000        2   посёлок Шушары           12817.0   \n",
       "2       8.30000        0  Санкт-Петербург           21741.0   \n",
       "3      25.17134        0  Санкт-Петербург           28098.0   \n",
       "4      41.00000        0  Санкт-Петербург           31856.0   \n",
       "\n",
       "  citycenters_nearest  parks_around3000  parks_nearest  ponds_around3000  \\\n",
       "0             16028.0                 1          482.0                 2   \n",
       "1             18603.0                 0            NaN                 0   \n",
       "2             13933.0                 1           90.0                 2   \n",
       "3              6800.0                 2           84.0                 3   \n",
       "4              8098.0                 2          112.0                 1   \n",
       "\n",
       "   ponds_nearest  days_exposition  \n",
       "0          755.0               95  \n",
       "1            NaN               81  \n",
       "2          574.0              558  \n",
       "3          234.0              424  \n",
       "4           48.0              121  \n",
       "\n",
       "[5 rows x 22 columns]"
      ]
     },
     "metadata": {},
     "output_type": "display_data"
    },
    {
     "name": "stdout",
     "output_type": "stream",
     "text": [
      "<class 'pandas.core.frame.DataFrame'>\n",
      "RangeIndex: 23699 entries, 0 to 23698\n",
      "Data columns (total 22 columns):\n",
      " #   Column                Non-Null Count  Dtype         \n",
      "---  ------                --------------  -----         \n",
      " 0   total_images          23699 non-null  int64         \n",
      " 1   last_price            23699 non-null  float64       \n",
      " 2   total_area            23699 non-null  float64       \n",
      " 3   first_day_exposition  23699 non-null  datetime64[ns]\n",
      " 4   rooms                 23699 non-null  int64         \n",
      " 5   ceiling_height        23699 non-null  float64       \n",
      " 6   floors_total          23699 non-null  int64         \n",
      " 7   living_area           23699 non-null  float64       \n",
      " 8   floor                 23699 non-null  int64         \n",
      " 9   is_apartment          23699 non-null  bool          \n",
      " 10  studio                23699 non-null  bool          \n",
      " 11  open_plan             23699 non-null  bool          \n",
      " 12  kitchen_area          23699 non-null  float64       \n",
      " 13  balcony               23699 non-null  int64         \n",
      " 14  locality_name         23650 non-null  object        \n",
      " 15  airports_nearest      18157 non-null  float64       \n",
      " 16  citycenters_nearest   18180 non-null  float64       \n",
      " 17  parks_around3000      23699 non-null  int64         \n",
      " 18  parks_nearest         8079 non-null   float64       \n",
      " 19  ponds_around3000      23699 non-null  int64         \n",
      " 20  ponds_nearest         9110 non-null   float64       \n",
      " 21  days_exposition       23699 non-null  int64         \n",
      "dtypes: bool(3), datetime64[ns](1), float64(9), int64(8), object(1)\n",
      "memory usage: 3.5+ MB\n"
     ]
    }
   ],
   "source": [
    "# Изменение типа данных столбца 'first_day_exposition'\n",
    "data['first_day_exposition'] = pd.to_datetime(data['first_day_exposition'], yearfirst = True)\n",
    "\n",
    "# Изменение типа данных столбцов 'floors_total', 'balcony', 'parks_around3000', 'ponds_around3000'\n",
    " # Создание функции для изменения типов данных столбцов из списка\n",
    "def change_type(column_names, correct_type):\n",
    "    for name in column_names:\n",
    "        data[name] = data[name].astype(correct_type)\n",
    " # Формирование списка столбцов для преобразования типа данных в 'int'\n",
    "columns_to_int = ['floors_total', 'balcony', 'parks_around3000', 'ponds_around3000', 'days_exposition']\n",
    " # Формирование списка столбцов для преобразования типа данных в 'bool'\n",
    "columns_to_bool = ['is_apartment']  \n",
    " # Применение функции\n",
    "change_type(columns_to_int, int)\n",
    "change_type(columns_to_bool, bool)\n",
    "\n",
    "# Вывод первых 5 строк и общей информации об обновленном датасете на экран\n",
    "display(data.head())\n",
    "data.info()"
   ]
  },
  {
   "cell_type": "markdown",
   "metadata": {},
   "source": [
    "Исходя из общей информации о данных видно, что типы данных столбцов *first_day_exposition*, *floors_total*, *balcony*, *parks_around3000*, *ponds_around3000*, *is_apartment*, *days_exposition* были успешно изменены."
   ]
  },
  {
   "cell_type": "markdown",
   "metadata": {},
   "source": [
    "###### Вывод"
   ]
  },
  {
   "cell_type": "markdown",
   "metadata": {},
   "source": [
    "На этапе предобработки данных были подробно рассмотрены и обработаны столбцы с пропусками значений. Логичная замена пропущенных значений была осуществлена согласно списку ниже:\n",
    "- *ceiling_height* - замена на медианное значение по столбцу;\n",
    "- *floors_total* - замена на соответствующие значения столбца *floor*;\n",
    "- *living_area* - замена на значение, рассчитанное с помощью доли жилой площади к общей площади квартиры;\n",
    "- *kitchen_area* - замена на значение, рассчитанное с помощью доли кухонной площади к общей площади квартиры;\n",
    "- *is_apartment* - замена на *False*;\n",
    "- *balcon* - замена на ноль; \n",
    "- *parks_around3000* - замена на ноль;\n",
    "- *ponds_around3000* - замена на ноль;\n",
    "- *days_exposition* - замена на медианное значение по столбцу.\n",
    "\n",
    "Пропущенные значения в столбцах:\n",
    "- *locality_name*;\n",
    "- *airports_nearest*;\n",
    "- *cityсenters_nearest*;\n",
    "- *parks_nearest*;\n",
    "- *ponds_nearest*;\n",
    "- *days_exposition*\n",
    "\n",
    "не были заменены по причине отсутствия подходящих данных.\n",
    "\n",
    "Кроме того, были изменены типы данных столбцов, согласно списку ниже:\n",
    "- *first_day_exposition* - с object на datetime;\n",
    "- *floors_total* - c float на int;\n",
    "- *balcony* - c float на int;\n",
    "- *parks_around3000* - c float на int;\n",
    "- *ponds_around3000* - c float на int;\n",
    "- *is_apartment* - c object на bool;\n",
    "- *days_exposition* - с float на int.\n",
    "\n"
   ]
  },
  {
   "cell_type": "markdown",
   "metadata": {},
   "source": [
    "## Формирование дополнительных данных"
   ]
  },
  {
   "cell_type": "markdown",
   "metadata": {},
   "source": [
    "На данном этапе перед нами стоят задачи:\n",
    "\n",
    "1. Рассчитать и добавить в датасет следующие показатели:\n",
    "\n",
    "\n",
    "- Цена квадратного метра (*square_meter_price*);\n",
    "- День недели публикации объявления (*exposition_weekday*);\n",
    "- Месяц публикации объявления (*exposition_month*);\n",
    "- Год публикации объявления (*exposition_year*);\n",
    "- Cоотношение жилой и общей площади (*living_area_part*);\n",
    "- Cоотношение кухонной и общей площади (*kitchen_area_part*).\n",
    "\n",
    "\n",
    "2. Присвоить следующие категории значениям столбца *floor* и сохранить в новом столбце (*categorized_floors*):\n",
    "\n",
    "\n",
    "- *Первый*;\n",
    "- *Последний*;\n",
    "- *Другой*."
   ]
  },
  {
   "cell_type": "code",
   "execution_count": 8,
   "metadata": {},
   "outputs": [
    {
     "data": {
      "text/html": [
       "<div>\n",
       "<style scoped>\n",
       "    .dataframe tbody tr th:only-of-type {\n",
       "        vertical-align: middle;\n",
       "    }\n",
       "\n",
       "    .dataframe tbody tr th {\n",
       "        vertical-align: top;\n",
       "    }\n",
       "\n",
       "    .dataframe thead th {\n",
       "        text-align: right;\n",
       "    }\n",
       "</style>\n",
       "<table border=\"1\" class=\"dataframe\">\n",
       "  <thead>\n",
       "    <tr style=\"text-align: right;\">\n",
       "      <th></th>\n",
       "      <th>total_images</th>\n",
       "      <th>last_price</th>\n",
       "      <th>total_area</th>\n",
       "      <th>first_day_exposition</th>\n",
       "      <th>rooms</th>\n",
       "      <th>ceiling_height</th>\n",
       "      <th>floors_total</th>\n",
       "      <th>living_area</th>\n",
       "      <th>floor</th>\n",
       "      <th>is_apartment</th>\n",
       "      <th>...</th>\n",
       "      <th>ponds_around3000</th>\n",
       "      <th>ponds_nearest</th>\n",
       "      <th>days_exposition</th>\n",
       "      <th>square_meter_price</th>\n",
       "      <th>exposition_weekday</th>\n",
       "      <th>exposition_month</th>\n",
       "      <th>exposition_year</th>\n",
       "      <th>living_area_part</th>\n",
       "      <th>kitchen_area_part</th>\n",
       "      <th>categorized_floors</th>\n",
       "    </tr>\n",
       "  </thead>\n",
       "  <tbody>\n",
       "    <tr>\n",
       "      <th>0</th>\n",
       "      <td>20</td>\n",
       "      <td>13000000.0</td>\n",
       "      <td>108.0</td>\n",
       "      <td>2019-03-07</td>\n",
       "      <td>3</td>\n",
       "      <td>2.70</td>\n",
       "      <td>16</td>\n",
       "      <td>51.000000</td>\n",
       "      <td>8</td>\n",
       "      <td>True</td>\n",
       "      <td>...</td>\n",
       "      <td>2</td>\n",
       "      <td>755.0</td>\n",
       "      <td>95</td>\n",
       "      <td>120370.370370</td>\n",
       "      <td>3</td>\n",
       "      <td>3</td>\n",
       "      <td>2019</td>\n",
       "      <td>0.472222</td>\n",
       "      <td>0.231481</td>\n",
       "      <td>другой</td>\n",
       "    </tr>\n",
       "    <tr>\n",
       "      <th>1</th>\n",
       "      <td>7</td>\n",
       "      <td>3350000.0</td>\n",
       "      <td>40.4</td>\n",
       "      <td>2018-12-04</td>\n",
       "      <td>1</td>\n",
       "      <td>2.65</td>\n",
       "      <td>11</td>\n",
       "      <td>18.600000</td>\n",
       "      <td>1</td>\n",
       "      <td>True</td>\n",
       "      <td>...</td>\n",
       "      <td>0</td>\n",
       "      <td>NaN</td>\n",
       "      <td>81</td>\n",
       "      <td>82920.792079</td>\n",
       "      <td>1</td>\n",
       "      <td>12</td>\n",
       "      <td>2018</td>\n",
       "      <td>0.460396</td>\n",
       "      <td>0.272277</td>\n",
       "      <td>первый</td>\n",
       "    </tr>\n",
       "    <tr>\n",
       "      <th>2</th>\n",
       "      <td>10</td>\n",
       "      <td>5196000.0</td>\n",
       "      <td>56.0</td>\n",
       "      <td>2015-08-20</td>\n",
       "      <td>2</td>\n",
       "      <td>2.65</td>\n",
       "      <td>5</td>\n",
       "      <td>34.300000</td>\n",
       "      <td>4</td>\n",
       "      <td>True</td>\n",
       "      <td>...</td>\n",
       "      <td>2</td>\n",
       "      <td>574.0</td>\n",
       "      <td>558</td>\n",
       "      <td>92785.714286</td>\n",
       "      <td>3</td>\n",
       "      <td>8</td>\n",
       "      <td>2015</td>\n",
       "      <td>0.612500</td>\n",
       "      <td>0.148214</td>\n",
       "      <td>другой</td>\n",
       "    </tr>\n",
       "    <tr>\n",
       "      <th>3</th>\n",
       "      <td>0</td>\n",
       "      <td>64900000.0</td>\n",
       "      <td>159.0</td>\n",
       "      <td>2015-07-24</td>\n",
       "      <td>3</td>\n",
       "      <td>2.65</td>\n",
       "      <td>14</td>\n",
       "      <td>83.495783</td>\n",
       "      <td>9</td>\n",
       "      <td>True</td>\n",
       "      <td>...</td>\n",
       "      <td>3</td>\n",
       "      <td>234.0</td>\n",
       "      <td>424</td>\n",
       "      <td>408176.100629</td>\n",
       "      <td>4</td>\n",
       "      <td>7</td>\n",
       "      <td>2015</td>\n",
       "      <td>0.525131</td>\n",
       "      <td>0.158310</td>\n",
       "      <td>другой</td>\n",
       "    </tr>\n",
       "    <tr>\n",
       "      <th>4</th>\n",
       "      <td>2</td>\n",
       "      <td>10000000.0</td>\n",
       "      <td>100.0</td>\n",
       "      <td>2018-06-19</td>\n",
       "      <td>2</td>\n",
       "      <td>3.03</td>\n",
       "      <td>14</td>\n",
       "      <td>32.000000</td>\n",
       "      <td>13</td>\n",
       "      <td>True</td>\n",
       "      <td>...</td>\n",
       "      <td>1</td>\n",
       "      <td>48.0</td>\n",
       "      <td>121</td>\n",
       "      <td>100000.000000</td>\n",
       "      <td>1</td>\n",
       "      <td>6</td>\n",
       "      <td>2018</td>\n",
       "      <td>0.320000</td>\n",
       "      <td>0.410000</td>\n",
       "      <td>другой</td>\n",
       "    </tr>\n",
       "  </tbody>\n",
       "</table>\n",
       "<p>5 rows × 29 columns</p>\n",
       "</div>"
      ],
      "text/plain": [
       "   total_images  last_price  total_area first_day_exposition  rooms  \\\n",
       "0            20  13000000.0       108.0           2019-03-07      3   \n",
       "1             7   3350000.0        40.4           2018-12-04      1   \n",
       "2            10   5196000.0        56.0           2015-08-20      2   \n",
       "3             0  64900000.0       159.0           2015-07-24      3   \n",
       "4             2  10000000.0       100.0           2018-06-19      2   \n",
       "\n",
       "   ceiling_height  floors_total  living_area  floor  is_apartment  ...  \\\n",
       "0            2.70            16    51.000000      8          True  ...   \n",
       "1            2.65            11    18.600000      1          True  ...   \n",
       "2            2.65             5    34.300000      4          True  ...   \n",
       "3            2.65            14    83.495783      9          True  ...   \n",
       "4            3.03            14    32.000000     13          True  ...   \n",
       "\n",
       "   ponds_around3000  ponds_nearest  days_exposition  square_meter_price  \\\n",
       "0                 2          755.0               95       120370.370370   \n",
       "1                 0            NaN               81        82920.792079   \n",
       "2                 2          574.0              558        92785.714286   \n",
       "3                 3          234.0              424       408176.100629   \n",
       "4                 1           48.0              121       100000.000000   \n",
       "\n",
       "  exposition_weekday  exposition_month  exposition_year  living_area_part  \\\n",
       "0                  3                 3             2019          0.472222   \n",
       "1                  1                12             2018          0.460396   \n",
       "2                  3                 8             2015          0.612500   \n",
       "3                  4                 7             2015          0.525131   \n",
       "4                  1                 6             2018          0.320000   \n",
       "\n",
       "   kitchen_area_part  categorized_floors  \n",
       "0           0.231481              другой  \n",
       "1           0.272277              первый  \n",
       "2           0.148214              другой  \n",
       "3           0.158310              другой  \n",
       "4           0.410000              другой  \n",
       "\n",
       "[5 rows x 29 columns]"
      ]
     },
     "execution_count": 8,
     "metadata": {},
     "output_type": "execute_result"
    }
   ],
   "source": [
    "# Расчет и добавление в таблицу столбца с ценой квадратного метра\n",
    "data['square_meter_price'] = data['last_price'] / data['total_area']\n",
    "\n",
    "# Расчет и добавление в таблицу отдельных столбцов с днями недели, месяцами и годами публикации объявления\n",
    "data['exposition_weekday'] = data['first_day_exposition'].dt.weekday\n",
    "data['exposition_month'] = data['first_day_exposition'].dt.month\n",
    "data['exposition_year'] = data['first_day_exposition'].dt.year\n",
    "\n",
    "# Расчет и добавление в таблицу столбца с соотношением жилой и общей площади квартиры\n",
    "data['living_area_part'] = data['living_area'] / data['total_area']\n",
    "\n",
    "# Расчет и добавление в таблицу столбца с соотношением кухонной и общей площади квартиры\n",
    "data['kitchen_area_part'] = data['kitchen_area'] / data['total_area']\n",
    "\n",
    "# Категоризация значений столбца 'floor'\n",
    " # Создание функции для присвоения категорий этажам\n",
    "def categorize_floors(row):\n",
    "    if row['floor'] == 1:\n",
    "        return 'первый'\n",
    "    else:\n",
    "        if 1 < row['floor'] < row['floors_total']:\n",
    "            return 'другой'\n",
    "        else:\n",
    "            return 'последний'\n",
    "    \n",
    " # Создание столбца категорий этажей и применение функции для его заполнения\n",
    "data['categorized_floors'] = data.apply(categorize_floors, axis = 1)\n",
    "\n",
    "# Вывод на экран первых строк обновленного датасета\n",
    "data.head()"
   ]
  },
  {
   "cell_type": "markdown",
   "metadata": {},
   "source": [
    "###### Вывод"
   ]
  },
  {
   "cell_type": "markdown",
   "metadata": {},
   "source": [
    "На данном этапе были расчитаны добавлены в датасет:\n",
    "\n",
    "- Цена квадратного метра (*square_meter_price*);\n",
    "- День недели публикации объявления (*exposition_weekday*);\n",
    "- Месяц публикации объявления (*exposition_month*);\n",
    "- Год публикации объявления (*exposition_year*);\n",
    "- Cоотношение жилой и общей площади (*living_area_part*);\n",
    "- Cоотношение кухонной и общей площади (*kitchen_area_part*);\n",
    "- Столбец с категориями этажей (*categorized_floors*)."
   ]
  },
  {
   "cell_type": "markdown",
   "metadata": {},
   "source": [
    "## Исследовательский анализ данных"
   ]
  },
  {
   "cell_type": "markdown",
   "metadata": {},
   "source": [
    "### Изучение распределения значений"
   ]
  },
  {
   "cell_type": "markdown",
   "metadata": {},
   "source": [
    "Напишем функцию для изучения распределения значений в наборе данных:"
   ]
  },
  {
   "cell_type": "code",
   "execution_count": 9,
   "metadata": {},
   "outputs": [],
   "source": [
    "def build_diags(\n",
    "    column,\n",
    "    bins,\n",
    "    range,\n",
    "    xlabel,\n",
    "    zoom,\n",
    "    limit_lower,\n",
    "    limit_upper):\n",
    "    \n",
    "    # Вывод на экран гистограммы\n",
    "    data.hist(column, bins = bins, range = range)\n",
    "    plt.title(f'Распределение значений {column}')\n",
    "    plt.xlabel(xlabel)\n",
    "    plt.ylabel('Частота')\n",
    "    plt.show()\n",
    "    \n",
    "    # Вывод на экран диаграммы размаха\n",
    "    data.boxplot(column)\n",
    "    plt.title(f'Размах значений {column}')\n",
    "    plt.ylabel(xlabel)\n",
    "    plt.show()\n",
    "    \n",
    "    # Вывод на экран масштабированной диаграммы размаха\n",
    "    if zoom == 'on':  \n",
    "        data.boxplot(column)\n",
    "        plt.ylim(limit_lower, limit_upper)\n",
    "        plt.title(f'Размах значений {column}, масштабированный')\n",
    "        plt.ylabel(xlabel)\n",
    "        plt.show()"
   ]
  },
  {
   "cell_type": "markdown",
   "metadata": {},
   "source": [
    "Изучим следующие параметры: *total_area*, *price*, *rooms*, *ceiling_height*, *days_exposure*, *floors_total*, *citycenters_nearest*."
   ]
  },
  {
   "cell_type": "code",
   "execution_count": 10,
   "metadata": {},
   "outputs": [
    {
     "data": {
      "text/plain": [
       "count    23699.000000\n",
       "mean        60.348651\n",
       "std         35.654083\n",
       "min         12.000000\n",
       "25%         40.000000\n",
       "50%         52.000000\n",
       "75%         69.900000\n",
       "max        900.000000\n",
       "Name: total_area, dtype: float64"
      ]
     },
     "execution_count": 10,
     "metadata": {},
     "output_type": "execute_result"
    }
   ],
   "source": [
    "# Вывод на экран описательной статистики по 'total_area'\n",
    "data['total_area'].describe()"
   ]
  },
  {
   "cell_type": "markdown",
   "metadata": {},
   "source": [
    "Площадь выставленных на продажу квартир, в среднем, равна 60 кв.метрам, при медианном значении, равном 52.\n",
    "\n",
    "Наблюдается высокое стандартное отклонение. Площадь квартир, размещенных на продажу, в среднем, отклоняется на 36 кв.метров.\n",
    "\n",
    "Подозрительным значением в полученных данных является максимальное, равное 900 кв.метрам. Маловероятно, что на продажу выставлена квартира, действительно обладающая такой площадью. Если данное значение действительно является выбросом, то, возможно, в столбце присутствуют и другие аномальные значения. Кроме того, данные такого рода завышают среднее значение, делая медиану более пригодным значением для характеристики усредненнгого значения в выборке."
   ]
  },
  {
   "cell_type": "markdown",
   "metadata": {},
   "source": [
    "Построим гистограмму и диаграмму размаха для изучения распределения значений в наборе данных:"
   ]
  },
  {
   "cell_type": "code",
   "execution_count": 11,
   "metadata": {},
   "outputs": [
    {
     "data": {
      "image/png": "[encoded data removed]",
      "text/plain": [
       "<Figure size 432x288 with 1 Axes>"
      ]
     },
     "metadata": {
      "needs_background": "light"
     },
     "output_type": "display_data"
    },
    {
     "data": {
      "image/png": "[encoded data removed]",
      "text/plain": [
       "<Figure size 432x288 with 1 Axes>"
      ]
     },
     "metadata": {
      "needs_background": "light"
     },
     "output_type": "display_data"
    },
    {
     "data": {
      "image/png": "[encoded data removed]",
      "text/plain": [
       "<Figure size 432x288 with 1 Axes>"
      ]
     },
     "metadata": {
      "needs_background": "light"
     },
     "output_type": "display_data"
    }
   ],
   "source": [
    "build_diags(\n",
    "    'total_area',\n",
    "    150,\n",
    "    None,\n",
    "    'Площадь, кв.м',\n",
    "    'on',\n",
    "    0,\n",
    "    150)"
   ]
  },
  {
   "cell_type": "markdown",
   "metadata": {},
   "source": [
    "В целом, распределение значений в столбце *total_area* выглядит нормальным, но за площадь в 115 квадратных метров тянется хвост редких значений. Плотность редких значений свыше 550 кв.м падает до единичных значений, что дает нам возможность в дальнейшем удалить из датасета эти данные."
   ]
  },
  {
   "cell_type": "code",
   "execution_count": 12,
   "metadata": {
    "scrolled": true
   },
   "outputs": [
    {
     "data": {
      "text/plain": [
       "count    2.369900e+04\n",
       "mean     6.541549e+06\n",
       "std      1.088701e+07\n",
       "min      1.219000e+04\n",
       "25%      3.400000e+06\n",
       "50%      4.650000e+06\n",
       "75%      6.800000e+06\n",
       "max      7.630000e+08\n",
       "Name: last_price, dtype: float64"
      ]
     },
     "execution_count": 12,
     "metadata": {},
     "output_type": "execute_result"
    }
   ],
   "source": [
    "# Вывод на экран описательной статистики по 'last_price'\n",
    "data['last_price'].describe()"
   ]
  },
  {
   "cell_type": "markdown",
   "metadata": {},
   "source": [
    "Цена выставленных на продажу квартир, в среднем, равна 6,5 млн., при медианном значении, равном 4,65 млн.\n",
    "\n",
    "Наблюдается высокое стандартное отклонение. Цена квартир, размещенных на продажу, в среднем, отклоняется на 10,8 млн.от среднего значения.\n",
    "\n",
    "Подозрительным значением является минимальное, равное 12,19 тыс. Маловероятно, что столь низкая цена даже за минимальную площадь из выборки указана корректно.\n",
    "\n",
    "В данном столбце также есть максимальное значение, равное 760 млн., что на порядок превышает большую часть значений в столбце. \n",
    "\n",
    "Обнаруженные аномальные значения влияют на среднее значение, делая медиану более пригодным значением для характеристики усредненнгого значения в выборке.\n",
    "\n",
    "Также, наличие в столбце аномальных значений может быть не единичным.\n",
    "\n",
    "Построим гистограмму и диаграмму размаха для изучения распределения значений в наборе данных:"
   ]
  },
  {
   "cell_type": "code",
   "execution_count": 13,
   "metadata": {},
   "outputs": [
    {
     "data": {
      "image/png": "[encoded data removed]",
      "text/plain": [
       "<Figure size 432x288 with 1 Axes>"
      ]
     },
     "metadata": {
      "needs_background": "light"
     },
     "output_type": "display_data"
    },
    {
     "data": {
      "image/png": "[encoded data removed]",
      "text/plain": [
       "<Figure size 432x288 with 1 Axes>"
      ]
     },
     "metadata": {
      "needs_background": "light"
     },
     "output_type": "display_data"
    },
    {
     "data": {
      "image/png": "[encoded data removed]",
      "text/plain": [
       "<Figure size 432x288 with 1 Axes>"
      ]
     },
     "metadata": {
      "needs_background": "light"
     },
     "output_type": "display_data"
    }
   ],
   "source": [
    "build_diags(\n",
    "    'last_price',\n",
    "    100,\n",
    "    (0, 40000000),\n",
    "    'Цена',\n",
    "    'on',\n",
    "    0,\n",
    "    15000000)"
   ]
  },
  {
   "cell_type": "markdown",
   "metadata": {},
   "source": [
    "Распределение выглядит нормальным, но за ценой в 12 млн. наблюдается хвост редких значений.Плотность редких значений свыше 150 млн. заметно падает до единичых значений, что дает нам возможность удалить их из датасета."
   ]
  },
  {
   "cell_type": "code",
   "execution_count": 14,
   "metadata": {},
   "outputs": [
    {
     "data": {
      "text/plain": [
       "count    23699.000000\n",
       "mean         2.070636\n",
       "std          1.078405\n",
       "min          0.000000\n",
       "25%          1.000000\n",
       "50%          2.000000\n",
       "75%          3.000000\n",
       "max         19.000000\n",
       "Name: rooms, dtype: float64"
      ]
     },
     "execution_count": 14,
     "metadata": {},
     "output_type": "execute_result"
    }
   ],
   "source": [
    "# Вывод на экран описательной статистики по 'rooms'\n",
    "data['rooms'].describe()"
   ]
  },
  {
   "cell_type": "markdown",
   "metadata": {},
   "source": [
    "Количество комнат в выставленных на продажу квартирах, в среднем, равно 2,07 при медиане, равной 2.\n",
    "\n",
    "Стандартное отклонение логично для данной специфики данных. Количество комнат в квартирах, размещенных на продажу, в среднем, отклоняется на 1 от среднего значения.\n",
    "\n",
    "Подозрительными являются минимальное и максимальное значения в выборке. Но в то же время текущее максимальное значения и рассмотренные выше начинают наводить на мысль о выставленной на продажу очень крупной недвижимости, а нулевые значения могут информировать нас о свободной планировке.\n",
    "\n",
    "Построим гистограмму и диаграмму размаха для изучения распределения значений в наборе данных:"
   ]
  },
  {
   "cell_type": "code",
   "execution_count": 15,
   "metadata": {},
   "outputs": [
    {
     "data": {
      "image/png": "[encoded data removed]",
      "text/plain": [
       "<Figure size 432x288 with 1 Axes>"
      ]
     },
     "metadata": {
      "needs_background": "light"
     },
     "output_type": "display_data"
    },
    {
     "data": {
      "image/png": "[encoded data removed]",
      "text/plain": [
       "<Figure size 432x288 with 1 Axes>"
      ]
     },
     "metadata": {
      "needs_background": "light"
     },
     "output_type": "display_data"
    }
   ],
   "source": [
    "build_diags(\n",
    "    'rooms',\n",
    "    21,\n",
    "    None,\n",
    "    'Кол-во комнат',\n",
    "    'off',\n",
    "    None,\n",
    "    None)"
   ]
  },
  {
   "cell_type": "markdown",
   "metadata": {},
   "source": [
    "Распределение выглядит ожидаемо. Наиболее популярными являются 1 и 2-х комнатные квартиры.\n",
    "Нулевые значения не являются выбросами и вероятнее всего отностяся к квартирам - студиям.\n",
    "Редкие значения в данном столбце единичны, но могут быть правдой. Кроме того, описательная статистика выглядит хорошо, и выбросы не сильно влияют на средние значения. Оставим данные редкие значения в таблице."
   ]
  },
  {
   "cell_type": "code",
   "execution_count": 16,
   "metadata": {},
   "outputs": [
    {
     "data": {
      "text/plain": [
       "count    23699.000000\n",
       "mean         2.724358\n",
       "std          0.988298\n",
       "min          1.000000\n",
       "25%          2.600000\n",
       "50%          2.650000\n",
       "75%          2.700000\n",
       "max        100.000000\n",
       "Name: ceiling_height, dtype: float64"
      ]
     },
     "execution_count": 16,
     "metadata": {},
     "output_type": "execute_result"
    }
   ],
   "source": [
    "# Вывод на экран описательной статистики по 'rooms'\n",
    "data['ceiling_height'].describe()"
   ]
  },
  {
   "cell_type": "markdown",
   "metadata": {},
   "source": [
    "Средняя высота потолков в выставленных на продажу квартирах, в среднем, равна 2,7 при медиане, равной 2,65.\n",
    "\n",
    "Стандартное отклонение высокое. Высота потолков в  выставленных на продажу квартирах, в среднем, отклоняется на 0,98 от среднего значения.\n",
    "\n",
    "Подозрительными являются минимальное и максимальное значения в выборке. 100-метровых потолков в квартирах не бывает, ровно как и 1-метровых. \n",
    "\n",
    "Построим гистограмму и диаграмму размаха для изучения распределения значений в наборе данных:"
   ]
  },
  {
   "cell_type": "code",
   "execution_count": 17,
   "metadata": {},
   "outputs": [
    {
     "data": {
      "image/png": "[encoded data removed]",
      "text/plain": [
       "<Figure size 432x288 with 1 Axes>"
      ]
     },
     "metadata": {
      "needs_background": "light"
     },
     "output_type": "display_data"
    },
    {
     "data": {
      "image/png": "[encoded data removed]",
      "text/plain": [
       "<Figure size 432x288 with 1 Axes>"
      ]
     },
     "metadata": {
      "needs_background": "light"
     },
     "output_type": "display_data"
    },
    {
     "data": {
      "image/png": "[encoded data removed]",
      "text/plain": [
       "<Figure size 432x288 with 1 Axes>"
      ]
     },
     "metadata": {
      "needs_background": "light"
     },
     "output_type": "display_data"
    }
   ],
   "source": [
    "build_diags(\n",
    "    'ceiling_height',\n",
    "    40,\n",
    "    (1,5),\n",
    "    'Высота,м',\n",
    "    'on',\n",
    "    2,\n",
    "    3)"
   ]
  },
  {
   "cell_type": "markdown",
   "metadata": {},
   "source": [
    "Распределение выглядит ожидаемо. Наиболее распространенными являются конкретные значения высоты потолков.\n",
    "В то же время на диаграмме размаха выявлены редкие значения выше и ниже верхней и нижней границ. При этом, плотность редких значений над верхней границей прерывается выше 6, и далее наблюдаются единичные значения. Значения до 6 будем считать правдоподобными. В квартирах/домах большой площади возможна такая высота потолков. При этом, значения ниже 2.4 выглядят крайне неправдоподобно. Сложно представить себе настолько низкие потолки."
   ]
  },
  {
   "cell_type": "code",
   "execution_count": 18,
   "metadata": {},
   "outputs": [
    {
     "data": {
      "text/plain": [
       "count    23699.000000\n",
       "mean       169.360226\n",
       "std        206.535633\n",
       "min          1.000000\n",
       "25%         45.000000\n",
       "50%         95.000000\n",
       "75%        199.000000\n",
       "max       1580.000000\n",
       "Name: days_exposition, dtype: float64"
      ]
     },
     "execution_count": 18,
     "metadata": {},
     "output_type": "execute_result"
    }
   ],
   "source": [
    "# Вывод на экран описательной статистики по 'days_exposition'\n",
    "data['days_exposition'].describe()"
   ]
  },
  {
   "cell_type": "markdown",
   "metadata": {},
   "source": [
    "Среднее время продажи квартир равно 169 дням, при медиане, равной 95. Данные показатели сильно отличаются, что говорит о том, что в данных есть значения, значительно влияющие на среднее значение.\n",
    "\n",
    "Величина стандартного отклонения также говорит о том, что данные крайне неоднородны.\n",
    "\n",
    "Рассмотрим подробнее распределение значений в наборе данных:"
   ]
  },
  {
   "cell_type": "code",
   "execution_count": 19,
   "metadata": {},
   "outputs": [
    {
     "data": {
      "image/png": "[encoded data removed]",
      "text/plain": [
       "<Figure size 432x288 with 1 Axes>"
      ]
     },
     "metadata": {
      "needs_background": "light"
     },
     "output_type": "display_data"
    },
    {
     "data": {
      "image/png": "[encoded data removed]",
      "text/plain": [
       "<Figure size 432x288 with 1 Axes>"
      ]
     },
     "metadata": {
      "needs_background": "light"
     },
     "output_type": "display_data"
    },
    {
     "data": {
      "image/png": "[encoded data removed]",
      "text/plain": [
       "<Figure size 432x288 with 1 Axes>"
      ]
     },
     "metadata": {
      "needs_background": "light"
     },
     "output_type": "display_data"
    }
   ],
   "source": [
    "build_diags(\n",
    "    'days_exposition',\n",
    "    50,\n",
    "    None,\n",
    "    'Кол-во дней',\n",
    "    'on',\n",
    "    0,\n",
    "    500)"
   ]
  },
  {
   "cell_type": "markdown",
   "metadata": {},
   "source": [
    "Гистограмма демонстрирует Пуассоновское распределение значений, а диаграмма размаха указывает на выбросы, находящиеся свыше границы в 450 дней. Наличие выросов объясняет большое различие между медианой и средним значением. Не будем трогать выбросы в данной выборке, так как данные, все же, выглядят правдоподобно. Возможно,  отдельные квартиры и правда продаются по несколько лет.\n",
    "\n",
    "Характерным разбросом сроков продажи является межквартильный размах. Наиболее часто продажи длятся порядка 95 дней, что соответствует медианному значению. Продажи считаются очень быстрыми, когда осуществлены раньше первого квартиля - 45 дней, и необычно долгими, когда осуществлены позже третьего квартиля - 199 дней."
   ]
  },
  {
   "cell_type": "code",
   "execution_count": 20,
   "metadata": {},
   "outputs": [
    {
     "data": {
      "text/plain": [
       "count    23699.000000\n",
       "mean        10.671463\n",
       "std          6.595802\n",
       "min          1.000000\n",
       "25%          5.000000\n",
       "50%          9.000000\n",
       "75%         16.000000\n",
       "max         60.000000\n",
       "Name: floors_total, dtype: float64"
      ]
     },
     "execution_count": 20,
     "metadata": {},
     "output_type": "execute_result"
    }
   ],
   "source": [
    "# Вывод на экран описательной статистики по 'floors_total'\n",
    "data['floors_total'].describe()"
   ]
  },
  {
   "cell_type": "markdown",
   "metadata": {},
   "source": [
    "Среднее по данному столбцу, равное 10,7 отличается от медианы, равной 9.\n",
    "\n",
    "Величина стандартного отклонения также говорит о том, что данные крайне неоднородны.\n",
    "\n",
    "Подозрительным значением является максимальное, равное 60. \n",
    "\n",
    "Рассмотрим подробнее распределение значений в наборе данных:"
   ]
  },
  {
   "cell_type": "code",
   "execution_count": 21,
   "metadata": {},
   "outputs": [
    {
     "data": {
      "image/png": "[encoded data removed]",
      "text/plain": [
       "<Figure size 432x288 with 1 Axes>"
      ]
     },
     "metadata": {
      "needs_background": "light"
     },
     "output_type": "display_data"
    },
    {
     "data": {
      "image/png": "[encoded data removed]",
      "text/plain": [
       "<Figure size 432x288 with 1 Axes>"
      ]
     },
     "metadata": {
      "needs_background": "light"
     },
     "output_type": "display_data"
    }
   ],
   "source": [
    "build_diags(\n",
    "    'floors_total',\n",
    "    15,\n",
    "    None,\n",
    "    'Кол-во этажей',\n",
    "    'off',\n",
    "    None,\n",
    "    None)"
   ]
  },
  {
   "cell_type": "markdown",
   "metadata": {},
   "source": [
    "Распределение данных выглядит нормально. На диаграмме размаха наблюдаются выбросы выше верхней границы. При этом значения от 30 до 40 правдоподобны. В Санкт-Петербурге есть ЖК до 40 этажей. Значения свыше 40 будем считать неправдоподобными."
   ]
  },
  {
   "cell_type": "code",
   "execution_count": 22,
   "metadata": {},
   "outputs": [
    {
     "data": {
      "text/plain": [
       "count    18180.000000\n",
       "mean     14191.277833\n",
       "std       8608.386210\n",
       "min        181.000000\n",
       "25%       9238.000000\n",
       "50%      13098.500000\n",
       "75%      16293.000000\n",
       "max      65968.000000\n",
       "Name: citycenters_nearest, dtype: float64"
      ]
     },
     "execution_count": 22,
     "metadata": {},
     "output_type": "execute_result"
    }
   ],
   "source": [
    "# Вывод на экран описательной статистики по 'citycenters_nearest'\n",
    "data['citycenters_nearest'].describe()"
   ]
  },
  {
   "cell_type": "markdown",
   "metadata": {},
   "source": [
    "Среднее по данному столбцу, равное 14191 отличается от медианы, равной 13099.\n",
    "\n",
    "Величина стандартного отклонения также говорит о том, что данные неоднородны.\n",
    "\n",
    "Рассмотрим подробнее распределение значений в наборе данных:"
   ]
  },
  {
   "cell_type": "code",
   "execution_count": 23,
   "metadata": {},
   "outputs": [
    {
     "data": {
      "image/png": "[encoded data removed]",
      "text/plain": [
       "<Figure size 432x288 with 1 Axes>"
      ]
     },
     "metadata": {
      "needs_background": "light"
     },
     "output_type": "display_data"
    },
    {
     "data": {
      "image/png": "[encoded data removed]",
      "text/plain": [
       "<Figure size 432x288 with 1 Axes>"
      ]
     },
     "metadata": {
      "needs_background": "light"
     },
     "output_type": "display_data"
    },
    {
     "data": {
      "image/png": "[encoded data removed]",
      "text/plain": [
       "<Figure size 432x288 with 1 Axes>"
      ]
     },
     "metadata": {
      "needs_background": "light"
     },
     "output_type": "display_data"
    }
   ],
   "source": [
    "build_diags(\n",
    "    'citycenters_nearest',\n",
    "    15,\n",
    "    None,\n",
    "    'Расстояние, м',\n",
    "    'on',\n",
    "    0,\n",
    "    30000)"
   ]
  },
  {
   "cell_type": "markdown",
   "metadata": {},
   "source": [
    "Для данной категории значений распределение выглядит ожидаемо. За границей в 27,5 км наблюдается хвост редких значений. Редкие значения не выглядят неправдоподобными, учитывая протяженность города."
   ]
  },
  {
   "cell_type": "markdown",
   "metadata": {},
   "source": [
    "###### Вывод"
   ]
  },
  {
   "cell_type": "markdown",
   "metadata": {},
   "source": [
    "На этапе изучения данных были подробно рассмотрены значения столбцов *total_area*, *price*, *rooms*, *ceiling_height*, *days_exposure*, *floors_total*, *citycenters_nearest*.\n",
    "\n",
    "Ниже представлен список столбцов и их значений, принятых за правдоподобные:\n",
    "- *total_area* < 550;\n",
    "- *last_price* < 150;\n",
    "- 2,4 < *ceiling_height* < 6;\n",
    "- *floors_total* < 40\n"
   ]
  },
  {
   "cell_type": "markdown",
   "metadata": {},
   "source": [
    "### Удаление  неправдоподобных значений"
   ]
  },
  {
   "cell_type": "markdown",
   "metadata": {},
   "source": [
    "На этапе изучения даных были определены правдоподобные области значений рассмотренных столбцов.\n",
    "\n",
    "Сохраним в переменную *good_data* срез датасета с указанными выше условиями:"
   ]
  },
  {
   "cell_type": "code",
   "execution_count": 24,
   "metadata": {},
   "outputs": [
    {
     "name": "stdout",
     "output_type": "stream",
     "text": [
      "<class 'pandas.core.frame.DataFrame'>\n",
      "RangeIndex: 23603 entries, 0 to 23602\n",
      "Data columns (total 29 columns):\n",
      " #   Column                Non-Null Count  Dtype         \n",
      "---  ------                --------------  -----         \n",
      " 0   total_images          23603 non-null  int64         \n",
      " 1   last_price            23603 non-null  float64       \n",
      " 2   total_area            23603 non-null  float64       \n",
      " 3   first_day_exposition  23603 non-null  datetime64[ns]\n",
      " 4   rooms                 23603 non-null  int64         \n",
      " 5   ceiling_height        23603 non-null  float64       \n",
      " 6   floors_total          23603 non-null  int64         \n",
      " 7   living_area           23603 non-null  float64       \n",
      " 8   floor                 23603 non-null  int64         \n",
      " 9   is_apartment          23603 non-null  bool          \n",
      " 10  studio                23603 non-null  bool          \n",
      " 11  open_plan             23603 non-null  bool          \n",
      " 12  kitchen_area          23603 non-null  float64       \n",
      " 13  balcony               23603 non-null  int64         \n",
      " 14  locality_name         23554 non-null  object        \n",
      " 15  airports_nearest      18094 non-null  float64       \n",
      " 16  citycenters_nearest   18117 non-null  float64       \n",
      " 17  parks_around3000      23603 non-null  int64         \n",
      " 18  parks_nearest         8041 non-null   float64       \n",
      " 19  ponds_around3000      23603 non-null  int64         \n",
      " 20  ponds_nearest         9067 non-null   float64       \n",
      " 21  days_exposition       23603 non-null  int64         \n",
      " 22  square_meter_price    23603 non-null  float64       \n",
      " 23  exposition_weekday    23603 non-null  int64         \n",
      " 24  exposition_month      23603 non-null  int64         \n",
      " 25  exposition_year       23603 non-null  int64         \n",
      " 26  living_area_part      23603 non-null  float64       \n",
      " 27  kitchen_area_part     23603 non-null  float64       \n",
      " 28  categorized_floors    23603 non-null  object        \n",
      "dtypes: bool(3), datetime64[ns](1), float64(12), int64(11), object(2)\n",
      "memory usage: 4.7+ MB\n"
     ]
    },
    {
     "data": {
      "text/html": [
       "<div>\n",
       "<style scoped>\n",
       "    .dataframe tbody tr th:only-of-type {\n",
       "        vertical-align: middle;\n",
       "    }\n",
       "\n",
       "    .dataframe tbody tr th {\n",
       "        vertical-align: top;\n",
       "    }\n",
       "\n",
       "    .dataframe thead th {\n",
       "        text-align: right;\n",
       "    }\n",
       "</style>\n",
       "<table border=\"1\" class=\"dataframe\">\n",
       "  <thead>\n",
       "    <tr style=\"text-align: right;\">\n",
       "      <th></th>\n",
       "      <th>total_images</th>\n",
       "      <th>last_price</th>\n",
       "      <th>total_area</th>\n",
       "      <th>first_day_exposition</th>\n",
       "      <th>rooms</th>\n",
       "      <th>ceiling_height</th>\n",
       "      <th>floors_total</th>\n",
       "      <th>living_area</th>\n",
       "      <th>floor</th>\n",
       "      <th>is_apartment</th>\n",
       "      <th>...</th>\n",
       "      <th>ponds_around3000</th>\n",
       "      <th>ponds_nearest</th>\n",
       "      <th>days_exposition</th>\n",
       "      <th>square_meter_price</th>\n",
       "      <th>exposition_weekday</th>\n",
       "      <th>exposition_month</th>\n",
       "      <th>exposition_year</th>\n",
       "      <th>living_area_part</th>\n",
       "      <th>kitchen_area_part</th>\n",
       "      <th>categorized_floors</th>\n",
       "    </tr>\n",
       "  </thead>\n",
       "  <tbody>\n",
       "    <tr>\n",
       "      <th>0</th>\n",
       "      <td>20</td>\n",
       "      <td>13000000.0</td>\n",
       "      <td>108.0</td>\n",
       "      <td>2019-03-07</td>\n",
       "      <td>3</td>\n",
       "      <td>2.70</td>\n",
       "      <td>16</td>\n",
       "      <td>51.000000</td>\n",
       "      <td>8</td>\n",
       "      <td>True</td>\n",
       "      <td>...</td>\n",
       "      <td>2</td>\n",
       "      <td>755.0</td>\n",
       "      <td>95</td>\n",
       "      <td>120370.370370</td>\n",
       "      <td>3</td>\n",
       "      <td>3</td>\n",
       "      <td>2019</td>\n",
       "      <td>0.472222</td>\n",
       "      <td>0.231481</td>\n",
       "      <td>другой</td>\n",
       "    </tr>\n",
       "    <tr>\n",
       "      <th>1</th>\n",
       "      <td>7</td>\n",
       "      <td>3350000.0</td>\n",
       "      <td>40.4</td>\n",
       "      <td>2018-12-04</td>\n",
       "      <td>1</td>\n",
       "      <td>2.65</td>\n",
       "      <td>11</td>\n",
       "      <td>18.600000</td>\n",
       "      <td>1</td>\n",
       "      <td>True</td>\n",
       "      <td>...</td>\n",
       "      <td>0</td>\n",
       "      <td>NaN</td>\n",
       "      <td>81</td>\n",
       "      <td>82920.792079</td>\n",
       "      <td>1</td>\n",
       "      <td>12</td>\n",
       "      <td>2018</td>\n",
       "      <td>0.460396</td>\n",
       "      <td>0.272277</td>\n",
       "      <td>первый</td>\n",
       "    </tr>\n",
       "    <tr>\n",
       "      <th>2</th>\n",
       "      <td>10</td>\n",
       "      <td>5196000.0</td>\n",
       "      <td>56.0</td>\n",
       "      <td>2015-08-20</td>\n",
       "      <td>2</td>\n",
       "      <td>2.65</td>\n",
       "      <td>5</td>\n",
       "      <td>34.300000</td>\n",
       "      <td>4</td>\n",
       "      <td>True</td>\n",
       "      <td>...</td>\n",
       "      <td>2</td>\n",
       "      <td>574.0</td>\n",
       "      <td>558</td>\n",
       "      <td>92785.714286</td>\n",
       "      <td>3</td>\n",
       "      <td>8</td>\n",
       "      <td>2015</td>\n",
       "      <td>0.612500</td>\n",
       "      <td>0.148214</td>\n",
       "      <td>другой</td>\n",
       "    </tr>\n",
       "    <tr>\n",
       "      <th>3</th>\n",
       "      <td>0</td>\n",
       "      <td>64900000.0</td>\n",
       "      <td>159.0</td>\n",
       "      <td>2015-07-24</td>\n",
       "      <td>3</td>\n",
       "      <td>2.65</td>\n",
       "      <td>14</td>\n",
       "      <td>83.495783</td>\n",
       "      <td>9</td>\n",
       "      <td>True</td>\n",
       "      <td>...</td>\n",
       "      <td>3</td>\n",
       "      <td>234.0</td>\n",
       "      <td>424</td>\n",
       "      <td>408176.100629</td>\n",
       "      <td>4</td>\n",
       "      <td>7</td>\n",
       "      <td>2015</td>\n",
       "      <td>0.525131</td>\n",
       "      <td>0.158310</td>\n",
       "      <td>другой</td>\n",
       "    </tr>\n",
       "    <tr>\n",
       "      <th>4</th>\n",
       "      <td>2</td>\n",
       "      <td>10000000.0</td>\n",
       "      <td>100.0</td>\n",
       "      <td>2018-06-19</td>\n",
       "      <td>2</td>\n",
       "      <td>3.03</td>\n",
       "      <td>14</td>\n",
       "      <td>32.000000</td>\n",
       "      <td>13</td>\n",
       "      <td>True</td>\n",
       "      <td>...</td>\n",
       "      <td>1</td>\n",
       "      <td>48.0</td>\n",
       "      <td>121</td>\n",
       "      <td>100000.000000</td>\n",
       "      <td>1</td>\n",
       "      <td>6</td>\n",
       "      <td>2018</td>\n",
       "      <td>0.320000</td>\n",
       "      <td>0.410000</td>\n",
       "      <td>другой</td>\n",
       "    </tr>\n",
       "  </tbody>\n",
       "</table>\n",
       "<p>5 rows × 29 columns</p>\n",
       "</div>"
      ],
      "text/plain": [
       "   total_images  last_price  total_area first_day_exposition  rooms  \\\n",
       "0            20  13000000.0       108.0           2019-03-07      3   \n",
       "1             7   3350000.0        40.4           2018-12-04      1   \n",
       "2            10   5196000.0        56.0           2015-08-20      2   \n",
       "3             0  64900000.0       159.0           2015-07-24      3   \n",
       "4             2  10000000.0       100.0           2018-06-19      2   \n",
       "\n",
       "   ceiling_height  floors_total  living_area  floor  is_apartment  ...  \\\n",
       "0            2.70            16    51.000000      8          True  ...   \n",
       "1            2.65            11    18.600000      1          True  ...   \n",
       "2            2.65             5    34.300000      4          True  ...   \n",
       "3            2.65            14    83.495783      9          True  ...   \n",
       "4            3.03            14    32.000000     13          True  ...   \n",
       "\n",
       "   ponds_around3000  ponds_nearest  days_exposition  square_meter_price  \\\n",
       "0                 2          755.0               95       120370.370370   \n",
       "1                 0            NaN               81        82920.792079   \n",
       "2                 2          574.0              558        92785.714286   \n",
       "3                 3          234.0              424       408176.100629   \n",
       "4                 1           48.0              121       100000.000000   \n",
       "\n",
       "  exposition_weekday  exposition_month  exposition_year  living_area_part  \\\n",
       "0                  3                 3             2019          0.472222   \n",
       "1                  1                12             2018          0.460396   \n",
       "2                  3                 8             2015          0.612500   \n",
       "3                  4                 7             2015          0.525131   \n",
       "4                  1                 6             2018          0.320000   \n",
       "\n",
       "   kitchen_area_part  categorized_floors  \n",
       "0           0.231481              другой  \n",
       "1           0.272277              первый  \n",
       "2           0.148214              другой  \n",
       "3           0.158310              другой  \n",
       "4           0.410000              другой  \n",
       "\n",
       "[5 rows x 29 columns]"
      ]
     },
     "execution_count": 24,
     "metadata": {},
     "output_type": "execute_result"
    }
   ],
   "source": [
    "good_data = data.query(\n",
    "    'total_area < 550 and last_price < 150000000 and 2.4 < ceiling_height < 6 and floors_total < 40').reset_index(\n",
    "    drop = True)\n",
    "good_data.info()\n",
    "good_data.head()"
   ]
  },
  {
   "cell_type": "markdown",
   "metadata": {},
   "source": [
    "###### Вывод\n",
    "\n",
    "В результате отброса неправдоподобных значений из первоначального датасета было исключено 96 строк"
   ]
  },
  {
   "cell_type": "markdown",
   "metadata": {},
   "source": [
    "### Выявление зависимости цены от параметров недвижимости"
   ]
  },
  {
   "cell_type": "markdown",
   "metadata": {},
   "source": [
    "Определим, какие факторы больше всего влияют на стоимость квартиры. Для этого изучим зависимость цены от площади, числа комнат, удалённости от центра и категории этажа расположения квартир: первого, последнего или другого. Также изучим зависимость от даты размещения: дня недели, месяца и года.\n",
    "\n",
    "Для рассмотрения зависимости цены от категории этажа расположения, в столбце *categorized_floors* необходимо присвоить числовые значения категориям *первый*, *последний*, *другой*. Создадим словарь, где присвоим каждой из этих категорий числовое значение:"
   ]
  },
  {
   "cell_type": "code",
   "execution_count": 25,
   "metadata": {},
   "outputs": [
    {
     "data": {
      "text/html": [
       "<div>\n",
       "<style scoped>\n",
       "    .dataframe tbody tr th:only-of-type {\n",
       "        vertical-align: middle;\n",
       "    }\n",
       "\n",
       "    .dataframe tbody tr th {\n",
       "        vertical-align: top;\n",
       "    }\n",
       "\n",
       "    .dataframe thead th {\n",
       "        text-align: right;\n",
       "    }\n",
       "</style>\n",
       "<table border=\"1\" class=\"dataframe\">\n",
       "  <thead>\n",
       "    <tr style=\"text-align: right;\">\n",
       "      <th></th>\n",
       "      <th>categorized_floors</th>\n",
       "      <th>digital_value</th>\n",
       "    </tr>\n",
       "  </thead>\n",
       "  <tbody>\n",
       "    <tr>\n",
       "      <th>0</th>\n",
       "      <td>первый</td>\n",
       "      <td>1</td>\n",
       "    </tr>\n",
       "    <tr>\n",
       "      <th>1</th>\n",
       "      <td>последний</td>\n",
       "      <td>2</td>\n",
       "    </tr>\n",
       "    <tr>\n",
       "      <th>2</th>\n",
       "      <td>другой</td>\n",
       "      <td>3</td>\n",
       "    </tr>\n",
       "  </tbody>\n",
       "</table>\n",
       "</div>"
      ],
      "text/plain": [
       "  categorized_floors  digital_value\n",
       "0             первый              1\n",
       "1          последний              2\n",
       "2             другой              3"
      ]
     },
     "execution_count": 25,
     "metadata": {},
     "output_type": "execute_result"
    }
   ],
   "source": [
    "# Создание словаря c заданием в качестве индексов значений столбца 'categorized_floors'\n",
    "floors_categories = pd.DataFrame(\n",
    "    {'categorized_floors': ['первый', 'последний', 'другой'],\n",
    "     'digital_value': [1,2,3]})\n",
    "\n",
    "# Вывод на экран полученного словаря\n",
    "floors_categories"
   ]
  },
  {
   "cell_type": "markdown",
   "metadata": {},
   "source": [
    "Произведем замену текстовых значений столбца *categorized_floors* в таблице *good_data* на числовые из созданного словаря:"
   ]
  },
  {
   "cell_type": "code",
   "execution_count": 26,
   "metadata": {},
   "outputs": [
    {
     "data": {
      "text/plain": [
       "0    3\n",
       "1    1\n",
       "2    3\n",
       "3    3\n",
       "4    3\n",
       "Name: categorized_floors, dtype: int64"
      ]
     },
     "execution_count": 26,
     "metadata": {},
     "output_type": "execute_result"
    }
   ],
   "source": [
    "# Замена значений с помощью словаря\n",
    "good_data['categorized_floors'] = good_data['categorized_floors'].map(\n",
    "    floors_categories.set_index(\n",
    "        'categorized_floors')['digital_value']\n",
    ")\n",
    "# Вывод на экран обновленной таблицы *good_data* для проверки замены\n",
    "good_data['categorized_floors'].head()"
   ]
  },
  {
   "cell_type": "markdown",
   "metadata": {},
   "source": [
    "Замена прошла успешно.\n",
    "\n",
    "Рассмотрим зависимости между значениями столбцов *good_data*:"
   ]
  },
  {
   "cell_type": "code",
   "execution_count": 27,
   "metadata": {
    "scrolled": false
   },
   "outputs": [
    {
     "data": {
      "image/png": "[encoded data removed]",
      "text/plain": [
       "<Figure size 432x288 with 1 Axes>"
      ]
     },
     "metadata": {
      "needs_background": "light"
     },
     "output_type": "display_data"
    },
    {
     "name": "stdout",
     "output_type": "stream",
     "text": [
      "Коэффициент корреляции Пирсона: 0.75\n",
      "\n"
     ]
    },
    {
     "data": {
      "image/png": "[encoded data removed]",
      "text/plain": [
       "<Figure size 432x288 with 1 Axes>"
      ]
     },
     "metadata": {
      "needs_background": "light"
     },
     "output_type": "display_data"
    },
    {
     "name": "stdout",
     "output_type": "stream",
     "text": [
      "Коэффициент корреляции Пирсона: 0.45\n",
      "\n"
     ]
    },
    {
     "data": {
      "image/png": "[encoded data removed]",
      "text/plain": [
       "<Figure size 432x288 with 1 Axes>"
      ]
     },
     "metadata": {
      "needs_background": "light"
     },
     "output_type": "display_data"
    },
    {
     "name": "stdout",
     "output_type": "stream",
     "text": [
      "Коэффициент корреляции Пирсона: 0.07\n",
      "\n"
     ]
    },
    {
     "data": {
      "image/png": "[encoded data removed]",
      "text/plain": [
       "<Figure size 432x288 with 1 Axes>"
      ]
     },
     "metadata": {
      "needs_background": "light"
     },
     "output_type": "display_data"
    },
    {
     "name": "stdout",
     "output_type": "stream",
     "text": [
      "Коэффициент корреляции Пирсона: -0.28\n",
      "\n"
     ]
    },
    {
     "data": {
      "image/png": "[encoded data removed]",
      "text/plain": [
       "<Figure size 432x288 with 1 Axes>"
      ]
     },
     "metadata": {
      "needs_background": "light"
     },
     "output_type": "display_data"
    },
    {
     "name": "stdout",
     "output_type": "stream",
     "text": [
      "Коэффициент корреляции Пирсона: 0.00\n",
      "\n"
     ]
    },
    {
     "data": {
      "image/png": "[encoded data removed]",
      "text/plain": [
       "<Figure size 432x288 with 1 Axes>"
      ]
     },
     "metadata": {
      "needs_background": "light"
     },
     "output_type": "display_data"
    },
    {
     "name": "stdout",
     "output_type": "stream",
     "text": [
      "Коэффициент корреляции Пирсона: 0.01\n",
      "\n"
     ]
    },
    {
     "data": {
      "image/png": "[encoded data removed]",
      "text/plain": [
       "<Figure size 432x288 with 1 Axes>"
      ]
     },
     "metadata": {
      "needs_background": "light"
     },
     "output_type": "display_data"
    },
    {
     "name": "stdout",
     "output_type": "stream",
     "text": [
      "Коэффициент корреляции Пирсона: -0.06\n",
      "\n"
     ]
    }
   ],
   "source": [
    "# Создание датафрейма 'variables', содержащего столбцы, необходимые для оценки влияния на цену\n",
    "\n",
    "variables = ['total_area',\n",
    "             'rooms',\n",
    "             'categorized_floors',\n",
    "             'citycenters_nearest',\n",
    "             'exposition_weekday',\n",
    "             'exposition_month',\n",
    "             'exposition_year']\n",
    "\n",
    "# Создание функции для определения зависимости цены от других факторов\n",
    "def price_dependance(data, variables):\n",
    "    for name in variables:\n",
    "        data.plot(x=name, y='last_price', kind='scatter')\n",
    "        plt.show()\n",
    "        print('Коэффициент корреляции Пирсона: {:.2f}'.format(data['last_price'].corr(data[name])))\n",
    "        print()\n",
    "\n",
    "# Применение функции к 'good_data'\n",
    "price_dependance(good_data, variables)"
   ]
  },
  {
   "cell_type": "markdown",
   "metadata": {},
   "source": [
    "На построенных диаграммах рассеяния более или менее ярко зависимость цены выражена только от общей площади квартиры. Но, тем не менее, связь с другими показателями все же видна из разной плотности построенных точек, соответствующей определенным значениям осей.\n",
    "\n",
    "Для того, чтобы представлять зависимости яснее, можно укрупнить данные, использовав при построении диаграмм медианные значения строк столбца *last_price*, соответствующих уникальным значениям столбцов, зависимость от котрых будет рассчитываться. Например: медиана по столбцу *last_price* по 1-комнатным квартирам, 2-комнатным и т.д.\n",
    "\n",
    "Напишем функцию для определения зависимости медианных цен от каждого из рассматриваемых факторов и заново построим диаграммы."
   ]
  },
  {
   "cell_type": "code",
   "execution_count": 28,
   "metadata": {
    "scrolled": false
   },
   "outputs": [
    {
     "data": {
      "image/png": "[encoded data removed]",
      "text/plain": [
       "<Figure size 432x288 with 1 Axes>"
      ]
     },
     "metadata": {
      "needs_background": "light"
     },
     "output_type": "display_data"
    },
    {
     "name": "stdout",
     "output_type": "stream",
     "text": [
      "Коэффициент корреляции Пирсона: 0.77\n",
      "\n"
     ]
    },
    {
     "data": {
      "image/png": "[encoded data removed]",
      "text/plain": [
       "<Figure size 432x288 with 1 Axes>"
      ]
     },
     "metadata": {
      "needs_background": "light"
     },
     "output_type": "display_data"
    },
    {
     "name": "stdout",
     "output_type": "stream",
     "text": [
      "Коэффициент корреляции Пирсона: 0.94\n",
      "\n"
     ]
    },
    {
     "data": {
      "image/png": "[encoded data removed]",
      "text/plain": [
       "<Figure size 432x288 with 1 Axes>"
      ]
     },
     "metadata": {
      "needs_background": "light"
     },
     "output_type": "display_data"
    },
    {
     "name": "stdout",
     "output_type": "stream",
     "text": [
      "Коэффициент корреляции Пирсона: 1.00\n",
      "\n"
     ]
    },
    {
     "data": {
      "image/png": "[encoded data removed]",
      "text/plain": [
       "<Figure size 432x288 with 1 Axes>"
      ]
     },
     "metadata": {
      "needs_background": "light"
     },
     "output_type": "display_data"
    },
    {
     "name": "stdout",
     "output_type": "stream",
     "text": [
      "Коэффициент корреляции Пирсона: -0.29\n",
      "\n"
     ]
    },
    {
     "data": {
      "image/png": "[encoded data removed]",
      "text/plain": [
       "<Figure size 432x288 with 1 Axes>"
      ]
     },
     "metadata": {
      "needs_background": "light"
     },
     "output_type": "display_data"
    },
    {
     "name": "stdout",
     "output_type": "stream",
     "text": [
      "Коэффициент корреляции Пирсона: -0.84\n",
      "\n"
     ]
    },
    {
     "data": {
      "image/png": "[encoded data removed]",
      "text/plain": [
       "<Figure size 432x288 with 1 Axes>"
      ]
     },
     "metadata": {
      "needs_background": "light"
     },
     "output_type": "display_data"
    },
    {
     "name": "stdout",
     "output_type": "stream",
     "text": [
      "Коэффициент корреляции Пирсона: 0.08\n",
      "\n"
     ]
    },
    {
     "data": {
      "image/png": "[encoded data removed]",
      "text/plain": [
       "<Figure size 432x288 with 1 Axes>"
      ]
     },
     "metadata": {
      "needs_background": "light"
     },
     "output_type": "display_data"
    },
    {
     "name": "stdout",
     "output_type": "stream",
     "text": [
      "Коэффициент корреляции Пирсона: -0.68\n",
      "\n"
     ]
    }
   ],
   "source": [
    "def median_price_dependance(data, variables):\n",
    "    for name in variables:\n",
    "        pivot = data.pivot_table(\n",
    "            index = name,\n",
    "            values = 'last_price',\n",
    "            aggfunc = 'median')\n",
    "        # Создание столбца со значениями из индексов\n",
    "        pivot[name] = pivot.index\n",
    "        # Построение диаграммы рассеяния\n",
    "        pivot.plot(\n",
    "            kind = 'scatter',\n",
    "            x = name,\n",
    "            y= 'last_price' )\n",
    "        plt.show()\n",
    "        # Вывод на экран коэффициента корреляции\n",
    "        print('Коэффициент корреляции Пирсона: {:.2f}'.format(\n",
    "            pivot['last_price'].corr(pivot[name])))\n",
    "        print()\n",
    "\n",
    "# Применение функции к 'good_data'\n",
    "median_price_dependance(good_data, variables)      "
   ]
  },
  {
   "cell_type": "markdown",
   "metadata": {},
   "source": [
    "На перестроенных диаграммах точки оформились в достаточно четкие зависимости, при использовании которых нужно понимать, что речь идет об усредненной цене по выбранным параметрам квартир."
   ]
  },
  {
   "cell_type": "markdown",
   "metadata": {},
   "source": [
    "###### Вывод"
   ]
  },
  {
   "cell_type": "markdown",
   "metadata": {},
   "source": [
    "Согласно расчетам выше, топ показателей, влияющих на цену квартир следующий:\n",
    "\n",
    "1. *Этаж квартиры* (Корреляция = 1, сильная положительная связь);\n",
    "2. *Количество комнат в квартире* (Корреляция = 0.94, сильная положительная связь);\n",
    "3. *Площадь квартиры* (Корреляция = 0.77, сильная положительная связь);\n",
    "4. *Расстояние от центра* (Корреляция = -0.29, слабая отрицательная связь).\n",
    "\n",
    "Зависимости получились логичными. Первые три показателя действительно ценятся в первую очередь. Низкая корреляция цены с расстоянием от центра, скорее всего, связана с тем, что в выборку попали населенные пункты, где расстояние до центра не указано.\n",
    "\n",
    "Топ влияния времени выставления квартиры на продажу на цену топ выглядит следующим образом:\n",
    "1. *День* (Корреляция = -0.84, сильная отрицательная связь). \n",
    "2. *Год* (Корреляция = -0.68, умеренная отрицательная связь);\n",
    "2. *Месяц* (Корреляция = 0.08, слабая положительная связь).\n",
    "\n",
    "Судя по зависимости цены от времени, можно сделать вывод, что в общей выборке данных, в целом, квартиры подешевели.\n",
    "\n",
    "\n",
    "\n"
   ]
  },
  {
   "cell_type": "markdown",
   "metadata": {},
   "source": [
    "### Изучение лидеров по объявлениям продажи квартир"
   ]
  },
  {
   "cell_type": "markdown",
   "metadata": {},
   "source": [
    "Выделим 10 населенных пунктов с наибольшим числом объявлений о продаже квартир и определим, где наблюдается самая высокая и самая низкая стоимость жилья."
   ]
  },
  {
   "cell_type": "code",
   "execution_count": 29,
   "metadata": {},
   "outputs": [
    {
     "data": {
      "text/html": [
       "<div>\n",
       "<style scoped>\n",
       "    .dataframe tbody tr th:only-of-type {\n",
       "        vertical-align: middle;\n",
       "    }\n",
       "\n",
       "    .dataframe tbody tr th {\n",
       "        vertical-align: top;\n",
       "    }\n",
       "\n",
       "    .dataframe thead th {\n",
       "        text-align: right;\n",
       "    }\n",
       "</style>\n",
       "<table border=\"1\" class=\"dataframe\">\n",
       "  <thead>\n",
       "    <tr style=\"text-align: right;\">\n",
       "      <th></th>\n",
       "      <th>sq_meter_mean_price</th>\n",
       "      <th>ads_count</th>\n",
       "    </tr>\n",
       "    <tr>\n",
       "      <th>locality_name</th>\n",
       "      <th></th>\n",
       "      <th></th>\n",
       "    </tr>\n",
       "  </thead>\n",
       "  <tbody>\n",
       "    <tr>\n",
       "      <th>Санкт-Петербург</th>\n",
       "      <td>114047</td>\n",
       "      <td>15667</td>\n",
       "    </tr>\n",
       "    <tr>\n",
       "      <th>Пушкин</th>\n",
       "      <td>103147</td>\n",
       "      <td>366</td>\n",
       "    </tr>\n",
       "    <tr>\n",
       "      <th>деревня Кудрово</th>\n",
       "      <td>92473</td>\n",
       "      <td>299</td>\n",
       "    </tr>\n",
       "    <tr>\n",
       "      <th>посёлок Парголово</th>\n",
       "      <td>90175</td>\n",
       "      <td>327</td>\n",
       "    </tr>\n",
       "    <tr>\n",
       "      <th>посёлок Мурино</th>\n",
       "      <td>85725</td>\n",
       "      <td>520</td>\n",
       "    </tr>\n",
       "    <tr>\n",
       "      <th>посёлок Шушары</th>\n",
       "      <td>78677</td>\n",
       "      <td>440</td>\n",
       "    </tr>\n",
       "    <tr>\n",
       "      <th>Колпино</th>\n",
       "      <td>75443</td>\n",
       "      <td>337</td>\n",
       "    </tr>\n",
       "    <tr>\n",
       "      <th>Гатчина</th>\n",
       "      <td>68757</td>\n",
       "      <td>306</td>\n",
       "    </tr>\n",
       "    <tr>\n",
       "      <th>Всеволожск</th>\n",
       "      <td>68719</td>\n",
       "      <td>397</td>\n",
       "    </tr>\n",
       "    <tr>\n",
       "      <th>Выборг</th>\n",
       "      <td>58238</td>\n",
       "      <td>235</td>\n",
       "    </tr>\n",
       "  </tbody>\n",
       "</table>\n",
       "</div>"
      ],
      "text/plain": [
       "                   sq_meter_mean_price  ads_count\n",
       "locality_name                                    \n",
       "Санкт-Петербург                 114047      15667\n",
       "Пушкин                          103147        366\n",
       "деревня Кудрово                  92473        299\n",
       "посёлок Парголово                90175        327\n",
       "посёлок Мурино                   85725        520\n",
       "посёлок Шушары                   78677        440\n",
       "Колпино                          75443        337\n",
       "Гатчина                          68757        306\n",
       "Всеволожск                       68719        397\n",
       "Выборг                           58238        235"
      ]
     },
     "execution_count": 29,
     "metadata": {},
     "output_type": "execute_result"
    }
   ],
   "source": [
    "# Создание сводной таблицы лидеров по количеству объявлений, 'top_10_ads'\n",
    "top_10_ads = good_data.pivot_table(\n",
    "    index = 'locality_name',\n",
    "    values = 'square_meter_price',\n",
    "    aggfunc = ['mean','count']\n",
    ")\n",
    "# Переименование столбцов\n",
    "top_10_ads.columns = ['sq_meter_mean_price','ads_count']\n",
    "\n",
    "# Изменение типа данных\n",
    "top_10_ads['sq_meter_mean_price'] = top_10_ads['sq_meter_mean_price'].astype('int')\n",
    "\n",
    "# Сортировка таблицы и выделение первых 10 строк\n",
    "top_10_ads = top_10_ads.sort_values(\n",
    "    by = 'ads_count',\n",
    "    ascending = False).head(10)\n",
    "\n",
    "# Создание таблицы лидеров по ценам, 'top_10_prices'\n",
    "top_10_prices = top_10_ads.sort_values(by = 'sq_meter_mean_price', ascending = False)\n",
    "\n",
    "# Вывод 'top_10_prices' на экран\n",
    "top_10_prices"
   ]
  },
  {
   "cell_type": "markdown",
   "metadata": {},
   "source": [
    "###### Вывод"
   ]
  },
  {
   "cell_type": "markdown",
   "metadata": {},
   "source": [
    "Из населенных пунктов-лидеров по публикации объявлений на продажу квартир:\n",
    " - в Санкт - Петербурге наиболее высокая цена за квадратный метр, в среднем равная 104 748 рублям;\n",
    " - в Выборге самая низкая цена за квадратный метр, в среднем равная 58 307 рублям."
   ]
  },
  {
   "cell_type": "markdown",
   "metadata": {},
   "source": [
    "### Изучение предложений квартир в Санкт-Петербурге"
   ]
  },
  {
   "cell_type": "markdown",
   "metadata": {},
   "source": [
    "Изучим предложения квартир в городе Санкт-Петрбург с целью определения области, входящей в центр."
   ]
  },
  {
   "cell_type": "code",
   "execution_count": 30,
   "metadata": {},
   "outputs": [],
   "source": [
    "# Пересчет значений столбца 'citycenters_nearest' в километры\n",
    "good_data['citycenters_nearest'] = good_data['citycenters_nearest'] / 1000\n",
    "\n",
    "# Округление значений столбца 'citycenters_nearest' до целых значений\n",
    "good_data['citycenters_nearest'] = good_data['citycenters_nearest'].round(decimals = 0)\n",
    "\n",
    "# Создание среза таблицы 'good_data' по г.'Санкт-Петербург' и сохранение в переменной\n",
    "spb_data = good_data[good_data['locality_name'] == 'Санкт-Петербург']\n",
    "\n",
    "# Расчет средней цены за квадратный метр для каждого километра удаленности от центра\n",
    "kilometer_price = spb_data.pivot_table(\n",
    "    index = 'citycenters_nearest',\n",
    "    values = 'square_meter_price',\n",
    "    aggfunc = ['mean','count']\n",
    ")\n",
    "\n",
    "kilometer_price.columns = ['sq_meter_mean_price', 'ads_count']\n",
    "# Округление данных столбца 'square_meter_price' до целых\n",
    "kilometer_price = kilometer_price.round(decimals =0)"
   ]
  },
  {
   "cell_type": "code",
   "execution_count": 31,
   "metadata": {},
   "outputs": [
    {
     "data": {
      "image/png": "[encoded data removed]",
      "text/plain": [
       "<Figure size 720x360 with 1 Axes>"
      ]
     },
     "metadata": {
      "needs_background": "light"
     },
     "output_type": "display_data"
    },
    {
     "data": {
      "text/html": [
       "<div>\n",
       "<style scoped>\n",
       "    .dataframe tbody tr th:only-of-type {\n",
       "        vertical-align: middle;\n",
       "    }\n",
       "\n",
       "    .dataframe tbody tr th {\n",
       "        vertical-align: top;\n",
       "    }\n",
       "\n",
       "    .dataframe thead th {\n",
       "        text-align: right;\n",
       "    }\n",
       "</style>\n",
       "<table border=\"1\" class=\"dataframe\">\n",
       "  <thead>\n",
       "    <tr style=\"text-align: right;\">\n",
       "      <th></th>\n",
       "      <th>sq_meter_mean_price</th>\n",
       "      <th>ads_count</th>\n",
       "    </tr>\n",
       "    <tr>\n",
       "      <th>citycenters_nearest</th>\n",
       "      <th></th>\n",
       "      <th></th>\n",
       "    </tr>\n",
       "  </thead>\n",
       "  <tbody>\n",
       "    <tr>\n",
       "      <th>0.0</th>\n",
       "      <td>231768.0</td>\n",
       "      <td>26</td>\n",
       "    </tr>\n",
       "    <tr>\n",
       "      <th>1.0</th>\n",
       "      <td>158980.0</td>\n",
       "      <td>189</td>\n",
       "    </tr>\n",
       "    <tr>\n",
       "      <th>2.0</th>\n",
       "      <td>153482.0</td>\n",
       "      <td>308</td>\n",
       "    </tr>\n",
       "    <tr>\n",
       "      <th>3.0</th>\n",
       "      <td>121226.0</td>\n",
       "      <td>349</td>\n",
       "    </tr>\n",
       "    <tr>\n",
       "      <th>4.0</th>\n",
       "      <td>130166.0</td>\n",
       "      <td>684</td>\n",
       "    </tr>\n",
       "  </tbody>\n",
       "</table>\n",
       "</div>"
      ],
      "text/plain": [
       "                     sq_meter_mean_price  ads_count\n",
       "citycenters_nearest                                \n",
       "0.0                             231768.0         26\n",
       "1.0                             158980.0        189\n",
       "2.0                             153482.0        308\n",
       "3.0                             121226.0        349\n",
       "4.0                             130166.0        684"
      ]
     },
     "metadata": {},
     "output_type": "display_data"
    },
    {
     "data": {
      "text/html": [
       "<div>\n",
       "<style scoped>\n",
       "    .dataframe tbody tr th:only-of-type {\n",
       "        vertical-align: middle;\n",
       "    }\n",
       "\n",
       "    .dataframe tbody tr th {\n",
       "        vertical-align: top;\n",
       "    }\n",
       "\n",
       "    .dataframe thead th {\n",
       "        text-align: right;\n",
       "    }\n",
       "</style>\n",
       "<table border=\"1\" class=\"dataframe\">\n",
       "  <thead>\n",
       "    <tr style=\"text-align: right;\">\n",
       "      <th></th>\n",
       "      <th>sq_meter_mean_price</th>\n",
       "      <th>ads_count</th>\n",
       "    </tr>\n",
       "    <tr>\n",
       "      <th>citycenters_nearest</th>\n",
       "      <th></th>\n",
       "      <th></th>\n",
       "    </tr>\n",
       "  </thead>\n",
       "  <tbody>\n",
       "    <tr>\n",
       "      <th>25.0</th>\n",
       "      <td>91531.0</td>\n",
       "      <td>26</td>\n",
       "    </tr>\n",
       "    <tr>\n",
       "      <th>26.0</th>\n",
       "      <td>89286.0</td>\n",
       "      <td>53</td>\n",
       "    </tr>\n",
       "    <tr>\n",
       "      <th>27.0</th>\n",
       "      <td>132116.0</td>\n",
       "      <td>2</td>\n",
       "    </tr>\n",
       "    <tr>\n",
       "      <th>28.0</th>\n",
       "      <td>81162.0</td>\n",
       "      <td>7</td>\n",
       "    </tr>\n",
       "    <tr>\n",
       "      <th>29.0</th>\n",
       "      <td>72953.0</td>\n",
       "      <td>6</td>\n",
       "    </tr>\n",
       "  </tbody>\n",
       "</table>\n",
       "</div>"
      ],
      "text/plain": [
       "                     sq_meter_mean_price  ads_count\n",
       "citycenters_nearest                                \n",
       "25.0                             91531.0         26\n",
       "26.0                             89286.0         53\n",
       "27.0                            132116.0          2\n",
       "28.0                             81162.0          7\n",
       "29.0                             72953.0          6"
      ]
     },
     "metadata": {},
     "output_type": "display_data"
    }
   ],
   "source": [
    "# Построение столбчатого графика средней цены за кв.метр в зависимости от расстояния от центра\n",
    "kilometer_price.plot(\n",
    "    y = 'sq_meter_mean_price',\n",
    "    kind = 'bar',\n",
    "    figsize = (10,5)\n",
    ")\n",
    "plt.show()\n",
    "# Вывод на экран последних 5 строк таблицы 'kilometer_price'\n",
    "display(kilometer_price.head())\n",
    "display(kilometer_price.tail())"
   ]
  },
  {
   "cell_type": "markdown",
   "metadata": {},
   "source": [
    "На графике повышенной ценой за квадратный метр обладают квартиры в области с 1 по 2 километр, с 4 по 7 км и 27 км от центра города.\n",
    "\n",
    "Вероятнее всего центральной зоной можно считать область с 1 по 7 км. Повышенная средняя цена за квадратный метр на 27 км от центра может быть связана с нахождением в этом радиусе особо ценной недвижимости. Из выгрузки последних 5 строк таблицы видно, что таких объектов на 27 км всего 2. Это также может являться причиной расчета высокого среднего значения стоимости квадратного метра."
   ]
  },
  {
   "cell_type": "markdown",
   "metadata": {},
   "source": [
    "Детальнее изучим сегмент квартир в центральной зоне Санкт-Петербурга и влияние на их стоимость различных факторов:"
   ]
  },
  {
   "cell_type": "code",
   "execution_count": 32,
   "metadata": {},
   "outputs": [
    {
     "data": {
      "image/png": "[encoded data removed]",
      "text/plain": [
       "<Figure size 1152x648 with 4 Axes>"
      ]
     },
     "metadata": {
      "needs_background": "light"
     },
     "output_type": "display_data"
    }
   ],
   "source": [
    "# Создание среза таблицы 'good_data' по центральной зоне Санкт-Петербурга\n",
    "spb_central_data = good_data.query('citycenters_nearest <= 7 and locality_name == \"Санкт-Петербург\"')\n",
    "\n",
    "# Вывод на экран гистограмм по значениям столбцов 'total_area', 'last_price', 'rooms', 'ceiling_height'\n",
    "spb_central_data[['total_area', 'last_price', 'rooms', 'ceiling_height']].hist(bins = 50, figsize = (16,9))\n",
    "plt.show()"
   ]
  },
  {
   "cell_type": "markdown",
   "metadata": {},
   "source": [
    "Распределения значений данных выглядят нормальными.\n",
    "Менее структурированное распределение в *ceiling_height* связано с наибольшей распространенностью конкретных значений высоты потолков в квартирах.\n",
    "\n",
    "Наличие хвостов редких значений также ожидаемо, т.к. на рынке встречаются редкие предложения крупной жилой недвижимости.\n",
    "\n",
    "Рассмотрим зависимость цен на квартиры в центральной зоне Санкт-Петербурга и во всем городе. Используем ранее написанную нами функцию *median_price_dependance*. Влияющие факторы также уже были заданы нами в переменной *variables*."
   ]
  },
  {
   "cell_type": "code",
   "execution_count": 33,
   "metadata": {
    "scrolled": false
   },
   "outputs": [
    {
     "name": "stdout",
     "output_type": "stream",
     "text": [
      "Результаты для центральной зоны Санкт-Петербурга\n"
     ]
    },
    {
     "data": {
      "image/png": "[encoded data removed]",
      "text/plain": [
       "<Figure size 432x288 with 1 Axes>"
      ]
     },
     "metadata": {
      "needs_background": "light"
     },
     "output_type": "display_data"
    },
    {
     "name": "stdout",
     "output_type": "stream",
     "text": [
      "Коэффициент корреляции Пирсона: 0.74\n",
      "\n"
     ]
    },
    {
     "data": {
      "image/png": "[encoded data removed]",
      "text/plain": [
       "<Figure size 432x288 with 1 Axes>"
      ]
     },
     "metadata": {
      "needs_background": "light"
     },
     "output_type": "display_data"
    },
    {
     "name": "stdout",
     "output_type": "stream",
     "text": [
      "Коэффициент корреляции Пирсона: 0.92\n",
      "\n"
     ]
    },
    {
     "data": {
      "image/png": "[encoded data removed]",
      "text/plain": [
       "<Figure size 432x288 with 1 Axes>"
      ]
     },
     "metadata": {
      "needs_background": "light"
     },
     "output_type": "display_data"
    },
    {
     "name": "stdout",
     "output_type": "stream",
     "text": [
      "Коэффициент корреляции Пирсона: 0.93\n",
      "\n"
     ]
    },
    {
     "data": {
      "image/png": "[encoded data removed]",
      "text/plain": [
       "<Figure size 432x288 with 1 Axes>"
      ]
     },
     "metadata": {
      "needs_background": "light"
     },
     "output_type": "display_data"
    },
    {
     "name": "stdout",
     "output_type": "stream",
     "text": [
      "Коэффициент корреляции Пирсона: -0.79\n",
      "\n"
     ]
    },
    {
     "data": {
      "image/png": "[encoded data removed]",
      "text/plain": [
       "<Figure size 432x288 with 1 Axes>"
      ]
     },
     "metadata": {
      "needs_background": "light"
     },
     "output_type": "display_data"
    },
    {
     "name": "stdout",
     "output_type": "stream",
     "text": [
      "Коэффициент корреляции Пирсона: -0.30\n",
      "\n"
     ]
    },
    {
     "data": {
      "image/png": "[encoded data removed]",
      "text/plain": [
       "<Figure size 432x288 with 1 Axes>"
      ]
     },
     "metadata": {
      "needs_background": "light"
     },
     "output_type": "display_data"
    },
    {
     "name": "stdout",
     "output_type": "stream",
     "text": [
      "Коэффициент корреляции Пирсона: -0.50\n",
      "\n"
     ]
    },
    {
     "data": {
      "image/png": "[encoded data removed]",
      "text/plain": [
       "<Figure size 432x288 with 1 Axes>"
      ]
     },
     "metadata": {
      "needs_background": "light"
     },
     "output_type": "display_data"
    },
    {
     "name": "stdout",
     "output_type": "stream",
     "text": [
      "Коэффициент корреляции Пирсона: -0.72\n",
      "\n",
      "Результаты для всего Санкт-Петербурга\n"
     ]
    },
    {
     "data": {
      "image/png": "[encoded data removed]",
      "text/plain": [
       "<Figure size 432x288 with 1 Axes>"
      ]
     },
     "metadata": {
      "needs_background": "light"
     },
     "output_type": "display_data"
    },
    {
     "name": "stdout",
     "output_type": "stream",
     "text": [
      "Коэффициент корреляции Пирсона: 0.77\n",
      "\n"
     ]
    },
    {
     "data": {
      "image/png": "[encoded data removed]",
      "text/plain": [
       "<Figure size 432x288 with 1 Axes>"
      ]
     },
     "metadata": {
      "needs_background": "light"
     },
     "output_type": "display_data"
    },
    {
     "name": "stdout",
     "output_type": "stream",
     "text": [
      "Коэффициент корреляции Пирсона: 0.94\n",
      "\n"
     ]
    },
    {
     "data": {
      "image/png": "[encoded data removed]",
      "text/plain": [
       "<Figure size 432x288 with 1 Axes>"
      ]
     },
     "metadata": {
      "needs_background": "light"
     },
     "output_type": "display_data"
    },
    {
     "name": "stdout",
     "output_type": "stream",
     "text": [
      "Коэффициент корреляции Пирсона: 0.87\n",
      "\n"
     ]
    },
    {
     "data": {
      "image/png": "[encoded data removed]",
      "text/plain": [
       "<Figure size 432x288 with 1 Axes>"
      ]
     },
     "metadata": {
      "needs_background": "light"
     },
     "output_type": "display_data"
    },
    {
     "name": "stdout",
     "output_type": "stream",
     "text": [
      "Коэффициент корреляции Пирсона: -0.73\n",
      "\n"
     ]
    },
    {
     "data": {
      "image/png": "[encoded data removed]",
      "text/plain": [
       "<Figure size 432x288 with 1 Axes>"
      ]
     },
     "metadata": {
      "needs_background": "light"
     },
     "output_type": "display_data"
    },
    {
     "name": "stdout",
     "output_type": "stream",
     "text": [
      "Коэффициент корреляции Пирсона: -0.25\n",
      "\n"
     ]
    },
    {
     "data": {
      "image/png": "[encoded data removed]",
      "text/plain": [
       "<Figure size 432x288 with 1 Axes>"
      ]
     },
     "metadata": {
      "needs_background": "light"
     },
     "output_type": "display_data"
    },
    {
     "name": "stdout",
     "output_type": "stream",
     "text": [
      "Коэффициент корреляции Пирсона: 0.03\n",
      "\n"
     ]
    },
    {
     "data": {
      "image/png": "[encoded data removed]",
      "text/plain": [
       "<Figure size 432x288 with 1 Axes>"
      ]
     },
     "metadata": {
      "needs_background": "light"
     },
     "output_type": "display_data"
    },
    {
     "name": "stdout",
     "output_type": "stream",
     "text": [
      "Коэффициент корреляции Пирсона: -0.68\n",
      "\n"
     ]
    }
   ],
   "source": [
    "# Применение функции 'median_price_dependance' к 'spb_central_data'\n",
    "print('Результаты для центральной зоны Санкт-Петербурга')\n",
    "median_price_dependance(spb_central_data, variables)\n",
    "\n",
    "# Применение функции median_price_dependance к 'spb_data'\n",
    "print('Результаты для всего Санкт-Петербурга')\n",
    "median_price_dependance(spb_data, variables)"
   ]
  },
  {
   "cell_type": "markdown",
   "metadata": {},
   "source": [
    "Согласно расчетам для центральной зоны Санкт-Петербурга, топ показателей, влияющих на цену квартир следующий:\n",
    "\n",
    "1. *Этаж квартиры* (Корреляция = 0,93, сильная положительная связь);\n",
    "2. *Количество комнат в квартире* (Корреляция = 0.92, сильная положительная связь);\n",
    "3. *Расстояние от центра* (Корреляция = -0.79, сильная отрицательная связь);\n",
    "4. *Площадь квартиры* (Корреляция = 0.74, сильная положительная связь).\n",
    "\n",
    "Топ влияния на цену времени выставления квартиры на продажу:\n",
    "\n",
    "1. *Год* (Корреляция = -0.72, сильная отрицательная связь);\n",
    "2. *Месяц* (Корреляция = -0.5, умеренная отрицательная связь);\n",
    "3. *День* (Корреляция = -0.3, слабая отрицательная связь). \n",
    "\n",
    "Для всего Санкт-Петербурга, топ показателей, влияющих на цену квартир выглядит следующим образом:\n",
    "\n",
    "1. *Количество комнат в квартире* (Корреляция = 0.94, сильная положительная связь);\n",
    "2. *Этаж квартиры* (Корреляция = 0,87, сильная положительная связь);\n",
    "3. *Площадь квартиры* (Корреляция = 0.77, сильная положительная связь);\n",
    "4. *Расстояние от центра* (Корреляция = -0.73, сильная отрицательная связь).\n",
    "\n",
    "Топ влияния на цену времени выставления квартиры на продажу:\n",
    "\n",
    "1. *Год* (Корреляция = -0.68, умеренная отрицательная связь);\n",
    "2. *Месяц* (Корреляция = 0.03, слабая положительная связь);\n",
    "3. *День* (Корреляция = -0.25, слабая отрицательная связь). "
   ]
  },
  {
   "cell_type": "markdown",
   "metadata": {},
   "source": [
    "## Общий вывод"
   ]
  },
  {
   "cell_type": "markdown",
   "metadata": {},
   "source": [
    "В ходе анализа данных о продаже квартир в Санкт-Петербурге и соседних населённых пунктах с 2014 по 2019 год были рассмотрены три выборки объявлений:\n",
    "\n",
    "1. Санкт-Петербург и соседние населенные пункты;\n",
    "2. Центральная зона Санкт-Петербурга;\n",
    "3. Весь Санкт-Петербург\n",
    "\n",
    "В данных выборках рассматривалась зависимость стоимости квартир от:\n",
    "\n",
    " - Этажа квартиры; \n",
    " - Количества комнат в квартире;\n",
    " - Площади квартиры;\n",
    " - Расстояния от центра;\n",
    " - Дня недели, месяци и года выставления квартиры на продажу.\n",
    " \n",
    "По результатам анализа выборки 1 цена в наибольшей степени зависит от этажа расположения квартиры (чем выше, тем дороже), количества комнат в квартире (чем больше, тем дороже) и от общей площади (чем больше, тем дороже). Коэффициенты корреляции Пирсона в данном случае равны 1.0, 0.94 и 0.84 соответственно и свидетельствуют о сильной зависимости. Зависимость цены квартиры от расстояния до центра города в данном случае была определена как слабая отрицательная, равня -0.29. Это объясняется отсутствием данных о расстоянии до центра города в объявлениях квартир, расположенных в наиболее удаленных населенных пунктах.\n",
    "\n",
    "В выборке 2 цена в наибольшей степени зависит от этажа расположения квартиры (чем выше, тем дороже), количества комнат в квартире (чем больше, тем дороже) от расстояния до центра города (чем ближе, тем дороже) и от общей площади (чем больше, тем дороже). Коэффициенты корреляции Пирсона в данном случае равны 0.93, 0.92, 0.79 и 0,74 соответственно и свидетельствуют о сильной зависимости.\n",
    "\n",
    "В выборке 3 цена в наибольшей степени зависит от количества комнат в квартире (чем больше, тем дороже), этажа расположения квартиры (чем выше, тем дороже), от общей площади квартиры (чем больше, тем дороже) и от расстояния до центра города (чем ближе, тем дороже). Коэффициенты корреляции Пирсона в данном случае равны 0.94, 0.87, 0.77 и 0,73 соответственно и свидетельствуют о сильной зависимости.\n",
    "\n",
    "В результате оценки зависимости цены квартир от дня недели, месяца и года выставления квартир на продажу, настолько же однозначных результатов, как рассмотренных выше, получено не было. Зависимость от дней недели в разных выборках описыватся от сильной отрицательной до слабой отрицательной с коэффициентами корреляции -0.84, -0.3, -0.25. Зависимость от месяцев размещения объявления варьируется от умеренной отрицательной до слабой положительной с коэффициентами корреляции 0.08, -0.5, 0.03. Зависимость цены от года размещения наиболее стабильна, так как уникальные значения лет действительно описывают удаленность от настоящего, в отличие от дней недели и месяцев, повторяющихся циклично из недели в неделю и из года в год. Зависимость варьируется от умеренной отрицательной до сильной отрицатеьной с коэффициентами корреляции -0.68, -0.72, -0.68, откуда можно сделать вывод о том, что квартиры в период с 2014 по 2019 годы, в целом, стали дешевле"
   ]
  }
 ],
 "metadata": {
  "ExecuteTimeLog": [
   {
    "duration": 899,
    "start_time": "2021-06-08T14:28:28.282Z"
   },
   {
    "duration": 22,
    "start_time": "2021-06-08T14:28:29.184Z"
   },
   {
    "duration": 5,
    "start_time": "2021-06-08T14:28:29.210Z"
   },
   {
    "duration": 26,
    "start_time": "2021-06-08T14:28:29.218Z"
   },
   {
    "duration": 71,
    "start_time": "2021-06-08T14:28:29.247Z"
   },
   {
    "duration": 2065,
    "start_time": "2021-06-08T14:28:29.321Z"
   },
   {
    "duration": 81,
    "start_time": "2021-06-08T14:28:31.389Z"
   },
   {
    "duration": 737,
    "start_time": "2021-06-08T14:28:31.474Z"
   },
   {
    "duration": 623,
    "start_time": "2021-06-08T14:28:49.757Z"
   },
   {
    "duration": 659,
    "start_time": "2021-06-08T14:29:38.609Z"
   },
   {
    "duration": 624,
    "start_time": "2021-06-08T14:31:23.689Z"
   },
   {
    "duration": 949,
    "start_time": "2021-06-08T14:34:49.691Z"
   },
   {
    "duration": 998,
    "start_time": "2021-06-08T14:35:47.840Z"
   },
   {
    "duration": 1009,
    "start_time": "2021-06-08T14:36:56.617Z"
   },
   {
    "duration": 962,
    "start_time": "2021-06-08T14:37:21.011Z"
   },
   {
    "duration": 920,
    "start_time": "2021-06-08T14:37:38.383Z"
   },
   {
    "duration": 414,
    "start_time": "2021-06-08T14:46:01.414Z"
   },
   {
    "duration": 528,
    "start_time": "2021-06-08T14:46:19.825Z"
   },
   {
    "duration": 386,
    "start_time": "2021-06-08T14:46:29.432Z"
   },
   {
    "duration": 335,
    "start_time": "2021-06-08T14:46:59.838Z"
   },
   {
    "duration": 322,
    "start_time": "2021-06-08T14:47:07.378Z"
   },
   {
    "duration": 1619,
    "start_time": "2021-06-08T14:47:11.608Z"
   },
   {
    "duration": 2979,
    "start_time": "2021-06-08T14:47:38.093Z"
   },
   {
    "duration": 892,
    "start_time": "2021-06-08T15:00:47.275Z"
   },
   {
    "duration": 17,
    "start_time": "2021-06-08T15:00:48.170Z"
   },
   {
    "duration": 6,
    "start_time": "2021-06-08T15:00:48.201Z"
   },
   {
    "duration": 15,
    "start_time": "2021-06-08T15:00:48.211Z"
   },
   {
    "duration": 85,
    "start_time": "2021-06-08T15:00:48.228Z"
   },
   {
    "duration": 2377,
    "start_time": "2021-06-08T15:00:48.315Z"
   },
   {
    "duration": 66,
    "start_time": "2021-06-08T15:00:50.701Z"
   },
   {
    "duration": 1004,
    "start_time": "2021-06-08T15:00:50.771Z"
   },
   {
    "duration": 3015,
    "start_time": "2021-06-08T15:00:51.778Z"
   },
   {
    "duration": 3777,
    "start_time": "2021-06-08T15:01:15.607Z"
   },
   {
    "duration": 643,
    "start_time": "2021-06-08T15:02:07.532Z"
   },
   {
    "duration": 13,
    "start_time": "2021-06-08T15:02:52.609Z"
   },
   {
    "duration": 24,
    "start_time": "2021-06-08T15:10:59.621Z"
   },
   {
    "duration": 542,
    "start_time": "2021-06-08T15:11:15.339Z"
   },
   {
    "duration": 32,
    "start_time": "2021-06-08T15:11:22.946Z"
   },
   {
    "duration": 26,
    "start_time": "2021-06-08T15:11:37.891Z"
   },
   {
    "duration": 13,
    "start_time": "2021-06-08T16:00:13.962Z"
   },
   {
    "duration": 418,
    "start_time": "2021-06-08T16:18:52.863Z"
   },
   {
    "duration": 269,
    "start_time": "2021-06-08T16:34:09.730Z"
   },
   {
    "duration": 298,
    "start_time": "2021-06-08T16:34:30.024Z"
   },
   {
    "duration": 311,
    "start_time": "2021-06-08T16:34:44.598Z"
   },
   {
    "duration": 278,
    "start_time": "2021-06-08T16:34:56.562Z"
   },
   {
    "duration": 352,
    "start_time": "2021-06-08T16:35:05.337Z"
   },
   {
    "duration": 558,
    "start_time": "2021-06-08T16:35:16.657Z"
   },
   {
    "duration": 311,
    "start_time": "2021-06-08T16:35:59.866Z"
   },
   {
    "duration": 7035,
    "start_time": "2021-06-08T16:36:13.355Z"
   },
   {
    "duration": 573,
    "start_time": "2021-06-08T16:36:42.015Z"
   },
   {
    "duration": 1846,
    "start_time": "2021-06-08T16:36:56.401Z"
   },
   {
    "duration": 819,
    "start_time": "2021-06-08T16:37:20.954Z"
   },
   {
    "duration": 606,
    "start_time": "2021-06-08T16:38:08.064Z"
   },
   {
    "duration": 555,
    "start_time": "2021-06-08T16:41:43.628Z"
   },
   {
    "duration": 1749,
    "start_time": "2021-06-08T16:41:56.534Z"
   },
   {
    "duration": 606,
    "start_time": "2021-06-08T16:42:25.020Z"
   },
   {
    "duration": 11,
    "start_time": "2021-06-08T16:49:13.373Z"
   },
   {
    "duration": 641,
    "start_time": "2021-06-08T16:58:31.419Z"
   },
   {
    "duration": 856,
    "start_time": "2021-06-08T16:59:03.968Z"
   },
   {
    "duration": 562,
    "start_time": "2021-06-08T16:59:14.443Z"
   },
   {
    "duration": 619,
    "start_time": "2021-06-08T16:59:25.865Z"
   },
   {
    "duration": 605,
    "start_time": "2021-06-08T16:59:34.688Z"
   },
   {
    "duration": 607,
    "start_time": "2021-06-08T16:59:41.735Z"
   },
   {
    "duration": 610,
    "start_time": "2021-06-08T16:59:49.464Z"
   },
   {
    "duration": 637,
    "start_time": "2021-06-08T16:59:54.703Z"
   },
   {
    "duration": 644,
    "start_time": "2021-06-08T17:00:00.509Z"
   },
   {
    "duration": 662,
    "start_time": "2021-06-08T17:00:09.761Z"
   },
   {
    "duration": 713,
    "start_time": "2021-06-08T17:00:22.339Z"
   },
   {
    "duration": 590,
    "start_time": "2021-06-08T17:00:39.754Z"
   },
   {
    "duration": 896,
    "start_time": "2021-06-08T17:00:47.207Z"
   },
   {
    "duration": 586,
    "start_time": "2021-06-08T17:01:27.209Z"
   },
   {
    "duration": 651,
    "start_time": "2021-06-08T17:14:24.513Z"
   },
   {
    "duration": 573,
    "start_time": "2021-06-08T17:14:44.838Z"
   },
   {
    "duration": 602,
    "start_time": "2021-06-08T17:15:05.960Z"
   },
   {
    "duration": 529,
    "start_time": "2021-06-08T17:19:34.337Z"
   },
   {
    "duration": 564,
    "start_time": "2021-06-08T17:25:28.695Z"
   },
   {
    "duration": 12,
    "start_time": "2021-06-08T17:28:39.721Z"
   },
   {
    "duration": 12,
    "start_time": "2021-06-08T17:29:01.505Z"
   },
   {
    "duration": 563,
    "start_time": "2021-06-08T17:38:12.873Z"
   },
   {
    "duration": 328,
    "start_time": "2021-06-08T17:38:27.992Z"
   },
   {
    "duration": 279,
    "start_time": "2021-06-08T17:38:35.467Z"
   },
   {
    "duration": 340,
    "start_time": "2021-06-08T17:38:39.980Z"
   },
   {
    "duration": 376,
    "start_time": "2021-06-08T17:38:47.572Z"
   },
   {
    "duration": 382,
    "start_time": "2021-06-08T17:39:26.622Z"
   },
   {
    "duration": 334,
    "start_time": "2021-06-08T17:39:35.197Z"
   },
   {
    "duration": 345,
    "start_time": "2021-06-08T17:40:21.090Z"
   },
   {
    "duration": 274,
    "start_time": "2021-06-08T17:40:57.871Z"
   },
   {
    "duration": 272,
    "start_time": "2021-06-08T17:41:04.569Z"
   },
   {
    "duration": 341,
    "start_time": "2021-06-08T17:41:13.303Z"
   },
   {
    "duration": 316,
    "start_time": "2021-06-08T17:41:27.397Z"
   },
   {
    "duration": 570,
    "start_time": "2021-06-08T17:41:31.816Z"
   },
   {
    "duration": 412,
    "start_time": "2021-06-08T17:41:38.048Z"
   },
   {
    "duration": 388,
    "start_time": "2021-06-08T17:41:46.271Z"
   },
   {
    "duration": 283,
    "start_time": "2021-06-08T17:41:57.203Z"
   },
   {
    "duration": 278,
    "start_time": "2021-06-08T17:42:00.985Z"
   },
   {
    "duration": 280,
    "start_time": "2021-06-08T17:42:11.690Z"
   },
   {
    "duration": 265,
    "start_time": "2021-06-08T17:42:14.884Z"
   },
   {
    "duration": 265,
    "start_time": "2021-06-08T17:42:18.737Z"
   },
   {
    "duration": 272,
    "start_time": "2021-06-08T17:42:22.052Z"
   },
   {
    "duration": 710,
    "start_time": "2021-06-08T17:42:25.705Z"
   },
   {
    "duration": 353,
    "start_time": "2021-06-08T17:42:43.439Z"
   },
   {
    "duration": 366,
    "start_time": "2021-06-08T17:42:49.194Z"
   },
   {
    "duration": 603,
    "start_time": "2021-06-08T17:42:55.322Z"
   },
   {
    "duration": 345,
    "start_time": "2021-06-08T17:43:11.368Z"
   },
   {
    "duration": 387,
    "start_time": "2021-06-08T17:43:55.163Z"
   },
   {
    "duration": 368,
    "start_time": "2021-06-08T17:43:59.089Z"
   },
   {
    "duration": 350,
    "start_time": "2021-06-08T17:44:06.156Z"
   },
   {
    "duration": 326,
    "start_time": "2021-06-08T17:45:29.231Z"
   },
   {
    "duration": 356,
    "start_time": "2021-06-08T17:46:02.014Z"
   },
   {
    "duration": 346,
    "start_time": "2021-06-08T17:46:06.017Z"
   },
   {
    "duration": 359,
    "start_time": "2021-06-08T17:46:09.535Z"
   },
   {
    "duration": 342,
    "start_time": "2021-06-08T17:46:14.420Z"
   },
   {
    "duration": 353,
    "start_time": "2021-06-08T17:46:20.088Z"
   },
   {
    "duration": 347,
    "start_time": "2021-06-08T17:46:24.699Z"
   },
   {
    "duration": 13,
    "start_time": "2021-06-08T17:50:55.347Z"
   },
   {
    "duration": 417,
    "start_time": "2021-06-08T17:55:54.124Z"
   },
   {
    "duration": 286,
    "start_time": "2021-06-08T17:56:01.704Z"
   },
   {
    "duration": 266,
    "start_time": "2021-06-08T17:56:09.411Z"
   },
   {
    "duration": 247,
    "start_time": "2021-06-08T17:56:15.027Z"
   },
   {
    "duration": 249,
    "start_time": "2021-06-08T17:56:18.980Z"
   },
   {
    "duration": 692,
    "start_time": "2021-06-08T17:56:25.436Z"
   },
   {
    "duration": 277,
    "start_time": "2021-06-08T17:56:31.479Z"
   },
   {
    "duration": 254,
    "start_time": "2021-06-08T17:56:39.224Z"
   },
   {
    "duration": 539,
    "start_time": "2021-06-08T17:57:22.104Z"
   },
   {
    "duration": 555,
    "start_time": "2021-06-08T17:57:37.376Z"
   },
   {
    "duration": 593,
    "start_time": "2021-06-08T17:58:24.241Z"
   },
   {
    "duration": 100,
    "start_time": "2021-06-08T17:59:02.343Z"
   },
   {
    "duration": 539,
    "start_time": "2021-06-08T17:59:20.871Z"
   },
   {
    "duration": 753,
    "start_time": "2021-06-08T17:59:29.201Z"
   },
   {
    "duration": 795,
    "start_time": "2021-06-08T17:59:44.852Z"
   },
   {
    "duration": 571,
    "start_time": "2021-06-08T17:59:52.400Z"
   },
   {
    "duration": 1168,
    "start_time": "2021-06-08T18:00:12.641Z"
   },
   {
    "duration": 753,
    "start_time": "2021-06-08T18:00:19.930Z"
   },
   {
    "duration": 750,
    "start_time": "2021-06-08T18:00:39.933Z"
   },
   {
    "duration": 112,
    "start_time": "2021-06-08T18:02:33.488Z"
   },
   {
    "duration": 796,
    "start_time": "2021-06-08T18:02:42.400Z"
   },
   {
    "duration": 876,
    "start_time": "2021-06-08T18:03:01.210Z"
   },
   {
    "duration": 742,
    "start_time": "2021-06-08T18:03:10.724Z"
   },
   {
    "duration": 745,
    "start_time": "2021-06-08T18:03:17.710Z"
   },
   {
    "duration": 737,
    "start_time": "2021-06-08T18:03:34.992Z"
   },
   {
    "duration": 764,
    "start_time": "2021-06-08T18:03:41.017Z"
   },
   {
    "duration": 546,
    "start_time": "2021-06-08T18:03:45.328Z"
   },
   {
    "duration": 530,
    "start_time": "2021-06-08T18:04:01.442Z"
   },
   {
    "duration": 429,
    "start_time": "2021-06-08T18:04:12.704Z"
   },
   {
    "duration": 307,
    "start_time": "2021-06-08T18:04:20.928Z"
   },
   {
    "duration": 347,
    "start_time": "2021-06-08T18:04:38.774Z"
   },
   {
    "duration": 303,
    "start_time": "2021-06-08T18:04:51.730Z"
   },
   {
    "duration": 444,
    "start_time": "2021-06-08T18:05:02.090Z"
   },
   {
    "duration": 350,
    "start_time": "2021-06-08T18:05:09.442Z"
   },
   {
    "duration": 1155,
    "start_time": "2021-06-08T18:05:15.996Z"
   },
   {
    "duration": 404,
    "start_time": "2021-06-08T18:05:21.499Z"
   },
   {
    "duration": 372,
    "start_time": "2021-06-08T18:05:52.537Z"
   },
   {
    "duration": 361,
    "start_time": "2021-06-08T18:05:57.318Z"
   },
   {
    "duration": 343,
    "start_time": "2021-06-08T18:06:02.928Z"
   },
   {
    "duration": 409,
    "start_time": "2021-06-08T18:06:16.267Z"
   },
   {
    "duration": 365,
    "start_time": "2021-06-08T18:06:47.483Z"
   },
   {
    "duration": 829,
    "start_time": "2021-06-08T18:07:19.012Z"
   },
   {
    "duration": 430,
    "start_time": "2021-06-08T18:07:36.173Z"
   },
   {
    "duration": 475,
    "start_time": "2021-06-08T18:08:00.646Z"
   },
   {
    "duration": 425,
    "start_time": "2021-06-08T18:08:14.639Z"
   },
   {
    "duration": 426,
    "start_time": "2021-06-08T18:08:25.840Z"
   },
   {
    "duration": 507,
    "start_time": "2021-06-08T18:08:50.899Z"
   },
   {
    "duration": 802,
    "start_time": "2021-06-08T18:09:43.618Z"
   },
   {
    "duration": 873,
    "start_time": "2021-06-08T18:10:06.653Z"
   },
   {
    "duration": 836,
    "start_time": "2021-06-08T18:10:55.286Z"
   },
   {
    "duration": 719,
    "start_time": "2021-06-08T18:11:05.218Z"
   },
   {
    "duration": 578,
    "start_time": "2021-06-08T18:11:10.278Z"
   },
   {
    "duration": 427,
    "start_time": "2021-06-08T18:11:48.632Z"
   },
   {
    "duration": 430,
    "start_time": "2021-06-08T18:12:58.092Z"
   },
   {
    "duration": 335,
    "start_time": "2021-06-08T18:13:55.270Z"
   },
   {
    "duration": 365,
    "start_time": "2021-06-08T18:14:03.001Z"
   },
   {
    "duration": 354,
    "start_time": "2021-06-08T18:14:18.458Z"
   },
   {
    "duration": 358,
    "start_time": "2021-06-08T18:14:25.570Z"
   },
   {
    "duration": 92,
    "start_time": "2021-06-08T18:16:00.083Z"
   },
   {
    "duration": 392,
    "start_time": "2021-06-08T18:17:06.440Z"
   },
   {
    "duration": 439,
    "start_time": "2021-06-08T18:17:13.366Z"
   },
   {
    "duration": 12,
    "start_time": "2021-06-08T18:25:32.455Z"
   },
   {
    "duration": 18,
    "start_time": "2021-06-08T18:39:15.504Z"
   },
   {
    "duration": 11,
    "start_time": "2021-06-08T18:40:11.528Z"
   },
   {
    "duration": 404,
    "start_time": "2021-06-08T18:45:51.865Z"
   },
   {
    "duration": 406,
    "start_time": "2021-06-08T18:46:06.159Z"
   },
   {
    "duration": 318,
    "start_time": "2021-06-08T18:46:16.485Z"
   },
   {
    "duration": 4010,
    "start_time": "2021-06-08T18:46:26.797Z"
   },
   {
    "duration": 562,
    "start_time": "2021-06-08T18:46:35.395Z"
   },
   {
    "duration": 407,
    "start_time": "2021-06-08T18:46:47.240Z"
   },
   {
    "duration": 1614,
    "start_time": "2021-06-08T18:46:54.766Z"
   },
   {
    "duration": 969,
    "start_time": "2021-06-08T18:47:50.191Z"
   },
   {
    "duration": 839,
    "start_time": "2021-06-08T18:48:03.998Z"
   },
   {
    "duration": 750,
    "start_time": "2021-06-08T18:48:09.266Z"
   },
   {
    "duration": 626,
    "start_time": "2021-06-08T18:50:13.884Z"
   },
   {
    "duration": 616,
    "start_time": "2021-06-08T18:50:49.299Z"
   },
   {
    "duration": 572,
    "start_time": "2021-06-08T18:51:56.942Z"
   },
   {
    "duration": 598,
    "start_time": "2021-06-08T18:52:28.200Z"
   },
   {
    "duration": 458,
    "start_time": "2021-06-08T18:53:46.780Z"
   },
   {
    "duration": 363,
    "start_time": "2021-06-08T18:54:02.630Z"
   },
   {
    "duration": 464,
    "start_time": "2021-06-08T18:54:27.766Z"
   },
   {
    "duration": 704,
    "start_time": "2021-06-08T18:54:42.878Z"
   },
   {
    "duration": 523,
    "start_time": "2021-06-08T18:55:11.264Z"
   },
   {
    "duration": 493,
    "start_time": "2021-06-08T18:56:03.890Z"
   },
   {
    "duration": 488,
    "start_time": "2021-06-08T18:56:20.461Z"
   },
   {
    "duration": 485,
    "start_time": "2021-06-08T18:56:38.619Z"
   },
   {
    "duration": 1739,
    "start_time": "2021-06-08T18:58:49.565Z"
   },
   {
    "duration": 2414,
    "start_time": "2021-06-08T18:59:06.090Z"
   },
   {
    "duration": 336,
    "start_time": "2021-06-08T18:59:36.895Z"
   },
   {
    "duration": 815,
    "start_time": "2021-06-08T19:00:00.352Z"
   },
   {
    "duration": 774,
    "start_time": "2021-06-08T19:00:13.957Z"
   },
   {
    "duration": 852,
    "start_time": "2021-06-08T19:00:22.971Z"
   },
   {
    "duration": 719,
    "start_time": "2021-06-08T19:00:34.005Z"
   },
   {
    "duration": 745,
    "start_time": "2021-06-08T19:00:42.012Z"
   },
   {
    "duration": 824,
    "start_time": "2021-06-08T19:01:26.838Z"
   },
   {
    "duration": 1796,
    "start_time": "2021-06-08T19:01:36.632Z"
   },
   {
    "duration": 1569,
    "start_time": "2021-06-08T19:01:56.147Z"
   },
   {
    "duration": 516,
    "start_time": "2021-06-08T19:03:07.856Z"
   },
   {
    "duration": 310,
    "start_time": "2021-06-08T19:03:16.190Z"
   },
   {
    "duration": 537,
    "start_time": "2021-06-08T19:03:41.540Z"
   },
   {
    "duration": 380,
    "start_time": "2021-06-08T19:03:57.941Z"
   },
   {
    "duration": 301,
    "start_time": "2021-06-08T19:04:07.928Z"
   },
   {
    "duration": 442,
    "start_time": "2021-06-08T19:04:56.977Z"
   },
   {
    "duration": 235,
    "start_time": "2021-06-08T19:05:16.050Z"
   },
   {
    "duration": 248,
    "start_time": "2021-06-08T19:05:22.339Z"
   },
   {
    "duration": 233,
    "start_time": "2021-06-08T19:05:33.726Z"
   },
   {
    "duration": 695,
    "start_time": "2021-06-08T19:06:13.708Z"
   },
   {
    "duration": 669,
    "start_time": "2021-06-08T19:13:43.320Z"
   },
   {
    "duration": 751,
    "start_time": "2021-06-08T19:13:59.603Z"
   },
   {
    "duration": 714,
    "start_time": "2021-06-08T19:14:15.422Z"
   },
   {
    "duration": 771,
    "start_time": "2021-06-08T19:14:24.024Z"
   },
   {
    "duration": 1011,
    "start_time": "2021-06-08T19:14:45.793Z"
   },
   {
    "duration": 875,
    "start_time": "2021-06-08T19:15:00.587Z"
   },
   {
    "duration": 843,
    "start_time": "2021-06-08T19:15:10.235Z"
   },
   {
    "duration": 691,
    "start_time": "2021-06-08T19:15:57.599Z"
   },
   {
    "duration": 649,
    "start_time": "2021-06-08T19:16:21.020Z"
   },
   {
    "duration": 650,
    "start_time": "2021-06-08T19:16:26.389Z"
   },
   {
    "duration": 310,
    "start_time": "2021-06-09T16:03:17.366Z"
   },
   {
    "duration": 844,
    "start_time": "2021-06-09T16:03:22.509Z"
   },
   {
    "duration": 16,
    "start_time": "2021-06-09T16:03:23.356Z"
   },
   {
    "duration": 5,
    "start_time": "2021-06-09T16:03:23.377Z"
   },
   {
    "duration": 17,
    "start_time": "2021-06-09T16:03:23.386Z"
   },
   {
    "duration": 98,
    "start_time": "2021-06-09T16:03:23.406Z"
   },
   {
    "duration": 2105,
    "start_time": "2021-06-09T16:03:23.507Z"
   },
   {
    "duration": 80,
    "start_time": "2021-06-09T16:03:25.615Z"
   },
   {
    "duration": 1028,
    "start_time": "2021-06-09T16:03:25.699Z"
   },
   {
    "duration": 26,
    "start_time": "2021-06-09T16:03:26.730Z"
   },
   {
    "duration": 689,
    "start_time": "2021-06-09T16:03:26.758Z"
   },
   {
    "duration": 12,
    "start_time": "2021-06-09T16:03:27.454Z"
   },
   {
    "duration": 591,
    "start_time": "2021-06-09T16:03:27.468Z"
   },
   {
    "duration": 11,
    "start_time": "2021-06-09T16:03:28.061Z"
   },
   {
    "duration": 380,
    "start_time": "2021-06-09T16:03:28.074Z"
   },
   {
    "duration": 11,
    "start_time": "2021-06-09T16:03:28.457Z"
   },
   {
    "duration": 447,
    "start_time": "2021-06-09T16:03:28.471Z"
   },
   {
    "duration": 11,
    "start_time": "2021-06-09T16:03:28.921Z"
   },
   {
    "duration": 728,
    "start_time": "2021-06-09T16:03:28.934Z"
   },
   {
    "duration": 6,
    "start_time": "2021-06-09T16:03:29.664Z"
   },
   {
    "duration": 275,
    "start_time": "2021-06-09T16:04:07.019Z"
   },
   {
    "duration": 7,
    "start_time": "2021-06-09T16:04:20.455Z"
   },
   {
    "duration": 249,
    "start_time": "2021-06-09T16:11:38.486Z"
   },
   {
    "duration": 13,
    "start_time": "2021-06-09T16:11:46.825Z"
   },
   {
    "duration": 271,
    "start_time": "2021-06-09T16:12:05.360Z"
   },
   {
    "duration": 234,
    "start_time": "2021-06-09T16:12:23.352Z"
   },
   {
    "duration": 226,
    "start_time": "2021-06-09T16:13:03.404Z"
   },
   {
    "duration": 253,
    "start_time": "2021-06-09T16:13:28.987Z"
   },
   {
    "duration": 292,
    "start_time": "2021-06-09T16:13:41.021Z"
   },
   {
    "duration": 230,
    "start_time": "2021-06-09T16:14:03.653Z"
   },
   {
    "duration": 215,
    "start_time": "2021-06-09T16:14:48.149Z"
   },
   {
    "duration": 223,
    "start_time": "2021-06-09T16:14:59.720Z"
   },
   {
    "duration": 227,
    "start_time": "2021-06-09T16:16:15.387Z"
   },
   {
    "duration": 484,
    "start_time": "2021-06-09T16:17:10.198Z"
   },
   {
    "duration": 224,
    "start_time": "2021-06-09T16:19:41.534Z"
   },
   {
    "duration": 216,
    "start_time": "2021-06-09T16:19:49.983Z"
   },
   {
    "duration": 216,
    "start_time": "2021-06-09T16:20:05.603Z"
   },
   {
    "duration": 228,
    "start_time": "2021-06-09T16:20:13.546Z"
   },
   {
    "duration": 221,
    "start_time": "2021-06-09T16:21:52.546Z"
   },
   {
    "duration": 210,
    "start_time": "2021-06-09T16:22:58.564Z"
   },
   {
    "duration": 69,
    "start_time": "2021-06-09T16:23:49.598Z"
   },
   {
    "duration": 24,
    "start_time": "2021-06-09T16:25:29.506Z"
   },
   {
    "duration": 17,
    "start_time": "2021-06-09T16:25:40.722Z"
   },
   {
    "duration": 19,
    "start_time": "2021-06-09T16:26:31.418Z"
   },
   {
    "duration": 20,
    "start_time": "2021-06-09T16:26:40.129Z"
   },
   {
    "duration": 6061,
    "start_time": "2021-06-09T16:32:43.351Z"
   },
   {
    "duration": 12,
    "start_time": "2021-06-09T16:33:05.419Z"
   },
   {
    "duration": 12,
    "start_time": "2021-06-09T16:35:16.751Z"
   },
   {
    "duration": 643,
    "start_time": "2021-06-09T16:41:34.960Z"
   },
   {
    "duration": 517,
    "start_time": "2021-06-09T16:41:47.405Z"
   },
   {
    "duration": 381,
    "start_time": "2021-06-09T16:41:51.912Z"
   },
   {
    "duration": 477,
    "start_time": "2021-06-09T16:41:56.065Z"
   },
   {
    "duration": 660,
    "start_time": "2021-06-09T16:42:39.465Z"
   },
   {
    "duration": 845,
    "start_time": "2021-06-09T16:43:19.321Z"
   },
   {
    "duration": 548,
    "start_time": "2021-06-09T16:43:40.016Z"
   },
   {
    "duration": 391,
    "start_time": "2021-06-09T16:44:33.967Z"
   },
   {
    "duration": 367,
    "start_time": "2021-06-09T16:44:41.111Z"
   },
   {
    "duration": 461,
    "start_time": "2021-06-09T16:44:51.597Z"
   },
   {
    "duration": 410,
    "start_time": "2021-06-09T16:45:08.889Z"
   },
   {
    "duration": 13,
    "start_time": "2021-06-09T16:46:29.029Z"
   },
   {
    "duration": 562,
    "start_time": "2021-06-09T16:48:08.733Z"
   },
   {
    "duration": 483,
    "start_time": "2021-06-09T16:48:16.782Z"
   },
   {
    "duration": 588,
    "start_time": "2021-06-09T16:48:24.105Z"
   },
   {
    "duration": 560,
    "start_time": "2021-06-09T16:48:29.887Z"
   },
   {
    "duration": 545,
    "start_time": "2021-06-09T16:48:39.186Z"
   },
   {
    "duration": 567,
    "start_time": "2021-06-09T16:50:01.867Z"
   },
   {
    "duration": 945,
    "start_time": "2021-06-09T16:53:05.678Z"
   },
   {
    "duration": 861,
    "start_time": "2021-06-09T16:53:20.869Z"
   },
   {
    "duration": 776,
    "start_time": "2021-06-09T17:01:07.907Z"
   },
   {
    "duration": 916,
    "start_time": "2021-06-09T17:04:25.714Z"
   },
   {
    "duration": 787,
    "start_time": "2021-06-09T17:06:53.342Z"
   },
   {
    "duration": 648,
    "start_time": "2021-06-09T17:09:37.984Z"
   },
   {
    "duration": 574,
    "start_time": "2021-06-09T17:13:22.418Z"
   },
   {
    "duration": 539,
    "start_time": "2021-06-09T17:14:58.474Z"
   },
   {
    "duration": 617,
    "start_time": "2021-06-09T17:22:38.355Z"
   },
   {
    "duration": 735,
    "start_time": "2021-06-09T17:24:20.501Z"
   },
   {
    "duration": 828,
    "start_time": "2021-06-09T17:25:38.394Z"
   },
   {
    "duration": 870,
    "start_time": "2021-06-09T17:25:59.047Z"
   },
   {
    "duration": 586,
    "start_time": "2021-06-09T17:26:07.555Z"
   },
   {
    "duration": 612,
    "start_time": "2021-06-09T17:26:28.324Z"
   },
   {
    "duration": 553,
    "start_time": "2021-06-09T17:26:53.186Z"
   },
   {
    "duration": 549,
    "start_time": "2021-06-09T17:27:27.552Z"
   },
   {
    "duration": 740,
    "start_time": "2021-06-09T17:33:26.431Z"
   },
   {
    "duration": 595,
    "start_time": "2021-06-09T17:34:36.319Z"
   },
   {
    "duration": 619,
    "start_time": "2021-06-09T17:35:20.950Z"
   },
   {
    "duration": 595,
    "start_time": "2021-06-09T17:35:34.183Z"
   },
   {
    "duration": 601,
    "start_time": "2021-06-09T17:38:39.448Z"
   },
   {
    "duration": 588,
    "start_time": "2021-06-09T17:39:15.669Z"
   },
   {
    "duration": 600,
    "start_time": "2021-06-09T17:39:29.867Z"
   },
   {
    "duration": 965,
    "start_time": "2021-06-09T17:40:31.186Z"
   },
   {
    "duration": 644,
    "start_time": "2021-06-09T17:40:51.210Z"
   },
   {
    "duration": 662,
    "start_time": "2021-06-09T17:44:24.202Z"
   },
   {
    "duration": 641,
    "start_time": "2021-06-09T17:44:57.092Z"
   },
   {
    "duration": 655,
    "start_time": "2021-06-09T17:47:12.758Z"
   },
   {
    "duration": 645,
    "start_time": "2021-06-09T17:47:29.698Z"
   },
   {
    "duration": 791,
    "start_time": "2021-06-09T17:47:49.939Z"
   },
   {
    "duration": 633,
    "start_time": "2021-06-09T17:48:11.009Z"
   },
   {
    "duration": 663,
    "start_time": "2021-06-09T17:48:32.236Z"
   },
   {
    "duration": 850,
    "start_time": "2021-06-09T17:49:22.631Z"
   },
   {
    "duration": 978,
    "start_time": "2021-06-09T17:49:44.661Z"
   },
   {
    "duration": 846,
    "start_time": "2021-06-09T17:49:57.993Z"
   },
   {
    "duration": 1015,
    "start_time": "2021-06-09T17:50:11.070Z"
   },
   {
    "duration": 893,
    "start_time": "2021-06-09T17:50:19.763Z"
   },
   {
    "duration": 855,
    "start_time": "2021-06-09T17:50:36.665Z"
   },
   {
    "duration": 854,
    "start_time": "2021-06-09T17:50:41.626Z"
   },
   {
    "duration": 1011,
    "start_time": "2021-06-09T17:53:01.024Z"
   },
   {
    "duration": 857,
    "start_time": "2021-06-09T17:53:17.602Z"
   },
   {
    "duration": 926,
    "start_time": "2021-06-09T17:57:43.646Z"
   },
   {
    "duration": 809,
    "start_time": "2021-06-09T17:58:17.553Z"
   },
   {
    "duration": 11,
    "start_time": "2021-06-09T18:11:08.166Z"
   },
   {
    "duration": 1876,
    "start_time": "2021-06-09T18:11:54.815Z"
   },
   {
    "duration": 519,
    "start_time": "2021-06-09T18:12:04.596Z"
   },
   {
    "duration": 11,
    "start_time": "2021-06-09T18:18:28.612Z"
   },
   {
    "duration": 10,
    "start_time": "2021-06-09T18:25:24.684Z"
   },
   {
    "duration": 6855,
    "start_time": "2021-06-09T18:26:14.505Z"
   },
   {
    "duration": 113,
    "start_time": "2021-06-09T18:27:24.256Z"
   },
   {
    "duration": 15,
    "start_time": "2021-06-09T18:27:24.372Z"
   },
   {
    "duration": 9,
    "start_time": "2021-06-09T18:27:24.390Z"
   },
   {
    "duration": 58,
    "start_time": "2021-06-09T18:27:24.402Z"
   },
   {
    "duration": 96,
    "start_time": "2021-06-09T18:27:24.463Z"
   },
   {
    "duration": 2042,
    "start_time": "2021-06-09T18:27:24.562Z"
   },
   {
    "duration": 76,
    "start_time": "2021-06-09T18:27:26.606Z"
   },
   {
    "duration": 990,
    "start_time": "2021-06-09T18:27:26.686Z"
   },
   {
    "duration": 11,
    "start_time": "2021-06-09T18:27:27.679Z"
   },
   {
    "duration": 887,
    "start_time": "2021-06-09T18:27:27.692Z"
   },
   {
    "duration": 13,
    "start_time": "2021-06-09T18:27:28.582Z"
   },
   {
    "duration": 972,
    "start_time": "2021-06-09T18:27:28.598Z"
   },
   {
    "duration": 12,
    "start_time": "2021-06-09T18:27:29.572Z"
   },
   {
    "duration": 593,
    "start_time": "2021-06-09T18:27:29.586Z"
   },
   {
    "duration": 12,
    "start_time": "2021-06-09T18:27:30.181Z"
   },
   {
    "duration": 847,
    "start_time": "2021-06-09T18:27:30.195Z"
   },
   {
    "duration": 18,
    "start_time": "2021-06-09T18:27:31.044Z"
   },
   {
    "duration": 642,
    "start_time": "2021-06-09T18:27:31.064Z"
   },
   {
    "duration": 11,
    "start_time": "2021-06-09T18:27:31.709Z"
   },
   {
    "duration": 548,
    "start_time": "2021-06-09T18:27:31.722Z"
   },
   {
    "duration": 6634,
    "start_time": "2021-06-09T18:27:32.273Z"
   },
   {
    "duration": 6405,
    "start_time": "2021-06-09T18:28:13.364Z"
   },
   {
    "duration": 6093,
    "start_time": "2021-06-09T18:28:38.873Z"
   },
   {
    "duration": 6810,
    "start_time": "2021-06-09T18:28:49.474Z"
   },
   {
    "duration": 6231,
    "start_time": "2021-06-09T18:29:00.641Z"
   },
   {
    "duration": 6269,
    "start_time": "2021-06-09T18:31:31.858Z"
   },
   {
    "duration": 837,
    "start_time": "2021-06-09T18:31:50.988Z"
   },
   {
    "duration": 27,
    "start_time": "2021-06-09T18:31:51.827Z"
   },
   {
    "duration": 6,
    "start_time": "2021-06-09T18:31:51.857Z"
   },
   {
    "duration": 17,
    "start_time": "2021-06-09T18:31:51.866Z"
   },
   {
    "duration": 85,
    "start_time": "2021-06-09T18:31:51.886Z"
   },
   {
    "duration": 2145,
    "start_time": "2021-06-09T18:31:51.974Z"
   },
   {
    "duration": 80,
    "start_time": "2021-06-09T18:31:54.122Z"
   },
   {
    "duration": 996,
    "start_time": "2021-06-09T18:31:54.206Z"
   },
   {
    "duration": 11,
    "start_time": "2021-06-09T18:31:55.205Z"
   },
   {
    "duration": 1012,
    "start_time": "2021-06-09T18:31:55.218Z"
   },
   {
    "duration": 25,
    "start_time": "2021-06-09T18:31:56.233Z"
   },
   {
    "duration": 797,
    "start_time": "2021-06-09T18:31:56.260Z"
   },
   {
    "duration": 12,
    "start_time": "2021-06-09T18:31:57.059Z"
   },
   {
    "duration": 566,
    "start_time": "2021-06-09T18:31:57.074Z"
   },
   {
    "duration": 16,
    "start_time": "2021-06-09T18:31:57.642Z"
   },
   {
    "duration": 846,
    "start_time": "2021-06-09T18:31:57.660Z"
   },
   {
    "duration": 13,
    "start_time": "2021-06-09T18:31:58.509Z"
   },
   {
    "duration": 758,
    "start_time": "2021-06-09T18:31:58.525Z"
   },
   {
    "duration": 12,
    "start_time": "2021-06-09T18:31:59.285Z"
   },
   {
    "duration": 611,
    "start_time": "2021-06-09T18:31:59.300Z"
   },
   {
    "duration": 6440,
    "start_time": "2021-06-09T18:31:59.913Z"
   },
   {
    "duration": 6464,
    "start_time": "2021-06-09T18:34:24.311Z"
   },
   {
    "duration": 15,
    "start_time": "2021-06-09T18:34:42.988Z"
   },
   {
    "duration": 7,
    "start_time": "2021-06-09T18:35:40.241Z"
   },
   {
    "duration": 6774,
    "start_time": "2021-06-09T18:35:52.225Z"
   },
   {
    "duration": 6788,
    "start_time": "2021-06-09T18:36:02.383Z"
   },
   {
    "duration": 6630,
    "start_time": "2021-06-09T18:36:18.935Z"
   },
   {
    "duration": 92,
    "start_time": "2021-06-09T18:37:53.884Z"
   },
   {
    "duration": 8605,
    "start_time": "2021-06-09T18:38:05.598Z"
   },
   {
    "duration": 8630,
    "start_time": "2021-06-09T18:38:26.327Z"
   },
   {
    "duration": 2411,
    "start_time": "2021-06-09T18:38:50.916Z"
   },
   {
    "duration": 9,
    "start_time": "2021-06-09T18:40:06.047Z"
   },
   {
    "duration": 874,
    "start_time": "2021-06-09T18:40:14.063Z"
   },
   {
    "duration": 23,
    "start_time": "2021-06-09T18:40:14.940Z"
   },
   {
    "duration": 11,
    "start_time": "2021-06-09T18:40:14.966Z"
   },
   {
    "duration": 30,
    "start_time": "2021-06-09T18:40:14.980Z"
   },
   {
    "duration": 6516,
    "start_time": "2021-06-09T18:40:15.012Z"
   },
   {
    "duration": -45100,
    "start_time": "2021-06-09T18:41:06.632Z"
   },
   {
    "duration": -45106,
    "start_time": "2021-06-09T18:41:06.639Z"
   },
   {
    "duration": -45117,
    "start_time": "2021-06-09T18:41:06.652Z"
   },
   {
    "duration": -45127,
    "start_time": "2021-06-09T18:41:06.663Z"
   },
   {
    "duration": -45140,
    "start_time": "2021-06-09T18:41:06.678Z"
   },
   {
    "duration": -45148,
    "start_time": "2021-06-09T18:41:06.687Z"
   },
   {
    "duration": -45158,
    "start_time": "2021-06-09T18:41:06.698Z"
   },
   {
    "duration": -45169,
    "start_time": "2021-06-09T18:41:06.710Z"
   },
   {
    "duration": -45174,
    "start_time": "2021-06-09T18:41:06.716Z"
   },
   {
    "duration": -45180,
    "start_time": "2021-06-09T18:41:06.723Z"
   },
   {
    "duration": -45199,
    "start_time": "2021-06-09T18:41:06.744Z"
   },
   {
    "duration": -45218,
    "start_time": "2021-06-09T18:41:06.764Z"
   },
   {
    "duration": -45241,
    "start_time": "2021-06-09T18:41:06.788Z"
   },
   {
    "duration": -45245,
    "start_time": "2021-06-09T18:41:06.793Z"
   },
   {
    "duration": -45262,
    "start_time": "2021-06-09T18:41:06.812Z"
   },
   {
    "duration": -45266,
    "start_time": "2021-06-09T18:41:06.817Z"
   },
   {
    "duration": 8,
    "start_time": "2021-06-09T18:40:41.309Z"
   },
   {
    "duration": 13,
    "start_time": "2021-06-09T18:40:56.117Z"
   },
   {
    "duration": 764,
    "start_time": "2021-06-09T18:41:45.318Z"
   },
   {
    "duration": 141,
    "start_time": "2021-06-09T18:42:11.915Z"
   },
   {
    "duration": 18,
    "start_time": "2021-06-09T18:42:12.060Z"
   },
   {
    "duration": 7,
    "start_time": "2021-06-09T18:42:12.082Z"
   },
   {
    "duration": 20,
    "start_time": "2021-06-09T18:42:12.092Z"
   },
   {
    "duration": 6933,
    "start_time": "2021-06-09T18:42:12.115Z"
   },
   {
    "duration": -45119,
    "start_time": "2021-06-09T18:43:04.171Z"
   },
   {
    "duration": -45129,
    "start_time": "2021-06-09T18:43:04.183Z"
   },
   {
    "duration": -45135,
    "start_time": "2021-06-09T18:43:04.190Z"
   },
   {
    "duration": -45146,
    "start_time": "2021-06-09T18:43:04.202Z"
   },
   {
    "duration": -45157,
    "start_time": "2021-06-09T18:43:04.215Z"
   },
   {
    "duration": -45171,
    "start_time": "2021-06-09T18:43:04.230Z"
   },
   {
    "duration": -45175,
    "start_time": "2021-06-09T18:43:04.235Z"
   },
   {
    "duration": -45185,
    "start_time": "2021-06-09T18:43:04.247Z"
   },
   {
    "duration": -45194,
    "start_time": "2021-06-09T18:43:04.257Z"
   },
   {
    "duration": -45229,
    "start_time": "2021-06-09T18:43:04.293Z"
   },
   {
    "duration": -45257,
    "start_time": "2021-06-09T18:43:04.322Z"
   },
   {
    "duration": -45262,
    "start_time": "2021-06-09T18:43:04.328Z"
   },
   {
    "duration": -45266,
    "start_time": "2021-06-09T18:43:04.334Z"
   },
   {
    "duration": -45288,
    "start_time": "2021-06-09T18:43:04.357Z"
   },
   {
    "duration": -45292,
    "start_time": "2021-06-09T18:43:04.363Z"
   },
   {
    "duration": -45297,
    "start_time": "2021-06-09T18:43:04.369Z"
   },
   {
    "duration": -45316,
    "start_time": "2021-06-09T18:43:04.390Z"
   },
   {
    "duration": 549,
    "start_time": "2021-06-09T18:42:38.908Z"
   },
   {
    "duration": 575,
    "start_time": "2021-06-09T18:42:59.557Z"
   },
   {
    "duration": 14,
    "start_time": "2021-06-09T18:43:03.279Z"
   },
   {
    "duration": 835,
    "start_time": "2021-06-09T18:43:14.086Z"
   },
   {
    "duration": 16,
    "start_time": "2021-06-09T18:43:14.924Z"
   },
   {
    "duration": 7,
    "start_time": "2021-06-09T18:43:14.954Z"
   },
   {
    "duration": 22,
    "start_time": "2021-06-09T18:43:14.964Z"
   },
   {
    "duration": 6124,
    "start_time": "2021-06-09T18:43:14.989Z"
   },
   {
    "duration": -45124,
    "start_time": "2021-06-09T18:44:06.240Z"
   },
   {
    "duration": -45136,
    "start_time": "2021-06-09T18:44:06.254Z"
   },
   {
    "duration": -45149,
    "start_time": "2021-06-09T18:44:06.268Z"
   },
   {
    "duration": -45161,
    "start_time": "2021-06-09T18:44:06.281Z"
   },
   {
    "duration": -45165,
    "start_time": "2021-06-09T18:44:06.287Z"
   },
   {
    "duration": -45177,
    "start_time": "2021-06-09T18:44:06.300Z"
   },
   {
    "duration": -45192,
    "start_time": "2021-06-09T18:44:06.316Z"
   },
   {
    "duration": -45359,
    "start_time": "2021-06-09T18:44:06.484Z"
   },
   {
    "duration": -45365,
    "start_time": "2021-06-09T18:44:06.492Z"
   },
   {
    "duration": -45370,
    "start_time": "2021-06-09T18:44:06.498Z"
   },
   {
    "duration": -45374,
    "start_time": "2021-06-09T18:44:06.504Z"
   },
   {
    "duration": -45378,
    "start_time": "2021-06-09T18:44:06.509Z"
   },
   {
    "duration": -45384,
    "start_time": "2021-06-09T18:44:06.517Z"
   },
   {
    "duration": -45389,
    "start_time": "2021-06-09T18:44:06.523Z"
   },
   {
    "duration": -45395,
    "start_time": "2021-06-09T18:44:06.530Z"
   },
   {
    "duration": -45400,
    "start_time": "2021-06-09T18:44:06.536Z"
   },
   {
    "duration": -45405,
    "start_time": "2021-06-09T18:44:06.543Z"
   },
   {
    "duration": 116,
    "start_time": "2021-06-09T18:43:40.089Z"
   },
   {
    "duration": 6740,
    "start_time": "2021-06-09T18:43:54.778Z"
   },
   {
    "duration": 6709,
    "start_time": "2021-06-09T18:44:26.399Z"
   },
   {
    "duration": 843,
    "start_time": "2021-06-09T18:44:55.000Z"
   },
   {
    "duration": 20,
    "start_time": "2021-06-09T18:44:55.846Z"
   },
   {
    "duration": 6,
    "start_time": "2021-06-09T18:44:55.869Z"
   },
   {
    "duration": 17,
    "start_time": "2021-06-09T18:44:55.879Z"
   },
   {
    "duration": 107,
    "start_time": "2021-06-09T18:44:55.899Z"
   },
   {
    "duration": 2176,
    "start_time": "2021-06-09T18:44:56.009Z"
   },
   {
    "duration": 88,
    "start_time": "2021-06-09T18:44:58.188Z"
   },
   {
    "duration": 1032,
    "start_time": "2021-06-09T18:44:58.280Z"
   },
   {
    "duration": 13,
    "start_time": "2021-06-09T18:44:59.315Z"
   },
   {
    "duration": 1078,
    "start_time": "2021-06-09T18:44:59.330Z"
   },
   {
    "duration": 12,
    "start_time": "2021-06-09T18:45:00.410Z"
   },
   {
    "duration": 810,
    "start_time": "2021-06-09T18:45:00.425Z"
   },
   {
    "duration": 20,
    "start_time": "2021-06-09T18:45:01.237Z"
   },
   {
    "duration": 570,
    "start_time": "2021-06-09T18:45:01.260Z"
   },
   {
    "duration": 22,
    "start_time": "2021-06-09T18:45:01.833Z"
   },
   {
    "duration": 836,
    "start_time": "2021-06-09T18:45:01.858Z"
   },
   {
    "duration": 11,
    "start_time": "2021-06-09T18:45:02.696Z"
   },
   {
    "duration": 735,
    "start_time": "2021-06-09T18:45:02.709Z"
   },
   {
    "duration": 11,
    "start_time": "2021-06-09T18:45:03.454Z"
   },
   {
    "duration": 542,
    "start_time": "2021-06-09T18:45:03.468Z"
   },
   {
    "duration": 12,
    "start_time": "2021-06-09T18:45:04.013Z"
   },
   {
    "duration": 545,
    "start_time": "2021-06-09T18:45:04.027Z"
   },
   {
    "duration": 359,
    "start_time": "2021-06-09T19:17:15.888Z"
   },
   {
    "duration": 466,
    "start_time": "2021-06-09T19:17:30.502Z"
   },
   {
    "duration": 258,
    "start_time": "2021-06-09T19:17:40.524Z"
   },
   {
    "duration": 13,
    "start_time": "2021-06-09T19:18:03.011Z"
   },
   {
    "duration": 24,
    "start_time": "2021-06-09T19:18:22.767Z"
   },
   {
    "duration": 21,
    "start_time": "2021-06-09T19:18:35.613Z"
   },
   {
    "duration": 17,
    "start_time": "2021-06-09T19:19:21.581Z"
   },
   {
    "duration": 33,
    "start_time": "2021-06-09T19:19:44.126Z"
   },
   {
    "duration": 35,
    "start_time": "2021-06-09T19:21:33.789Z"
   },
   {
    "duration": 88,
    "start_time": "2021-06-09T19:22:23.688Z"
   },
   {
    "duration": 114,
    "start_time": "2021-06-09T19:23:04.251Z"
   },
   {
    "duration": 91,
    "start_time": "2021-06-09T19:23:32.868Z"
   },
   {
    "duration": 32,
    "start_time": "2021-06-09T19:23:56.019Z"
   },
   {
    "duration": 5,
    "start_time": "2021-06-09T19:45:12.332Z"
   },
   {
    "duration": 6,
    "start_time": "2021-06-09T19:45:23.516Z"
   },
   {
    "duration": 7529,
    "start_time": "2021-06-09T19:45:44.529Z"
   },
   {
    "duration": 13166,
    "start_time": "2021-06-09T19:46:22.075Z"
   },
   {
    "duration": 13988,
    "start_time": "2021-06-09T19:47:02.613Z"
   },
   {
    "duration": 21,
    "start_time": "2021-06-09T19:52:13.129Z"
   },
   {
    "duration": 29,
    "start_time": "2021-06-09T19:56:21.227Z"
   },
   {
    "duration": 21,
    "start_time": "2021-06-09T19:57:36.212Z"
   },
   {
    "duration": 26,
    "start_time": "2021-06-09T19:58:33.939Z"
   },
   {
    "duration": 17,
    "start_time": "2021-06-09T19:58:42.551Z"
   },
   {
    "duration": 21,
    "start_time": "2021-06-09T19:58:49.856Z"
   },
   {
    "duration": 13642,
    "start_time": "2021-06-09T19:59:19.046Z"
   },
   {
    "duration": 12549,
    "start_time": "2021-06-09T20:00:16.593Z"
   },
   {
    "duration": 12679,
    "start_time": "2021-06-09T20:00:49.882Z"
   },
   {
    "duration": 12948,
    "start_time": "2021-06-09T20:03:45.843Z"
   },
   {
    "duration": 34,
    "start_time": "2021-06-09T20:11:14.247Z"
   },
   {
    "duration": 12577,
    "start_time": "2021-06-09T20:12:47.421Z"
   },
   {
    "duration": 1707,
    "start_time": "2021-06-10T06:24:59.303Z"
   },
   {
    "duration": 904,
    "start_time": "2021-06-10T06:25:12.755Z"
   },
   {
    "duration": 15,
    "start_time": "2021-06-10T06:25:13.662Z"
   },
   {
    "duration": 6,
    "start_time": "2021-06-10T06:25:13.680Z"
   },
   {
    "duration": 34,
    "start_time": "2021-06-10T06:25:13.689Z"
   },
   {
    "duration": 62,
    "start_time": "2021-06-10T06:25:13.725Z"
   },
   {
    "duration": 2172,
    "start_time": "2021-06-10T06:25:13.810Z"
   },
   {
    "duration": 78,
    "start_time": "2021-06-10T06:25:15.984Z"
   },
   {
    "duration": 1023,
    "start_time": "2021-06-10T06:25:16.066Z"
   },
   {
    "duration": 19,
    "start_time": "2021-06-10T06:25:17.091Z"
   },
   {
    "duration": 1336,
    "start_time": "2021-06-10T06:25:17.112Z"
   },
   {
    "duration": 11,
    "start_time": "2021-06-10T06:25:18.450Z"
   },
   {
    "duration": 827,
    "start_time": "2021-06-10T06:25:18.464Z"
   },
   {
    "duration": 19,
    "start_time": "2021-06-10T06:25:19.294Z"
   },
   {
    "duration": 617,
    "start_time": "2021-06-10T06:25:19.316Z"
   },
   {
    "duration": 11,
    "start_time": "2021-06-10T06:25:19.935Z"
   },
   {
    "duration": 921,
    "start_time": "2021-06-10T06:25:19.949Z"
   },
   {
    "duration": 10,
    "start_time": "2021-06-10T06:25:20.873Z"
   },
   {
    "duration": 675,
    "start_time": "2021-06-10T06:25:20.885Z"
   },
   {
    "duration": 11,
    "start_time": "2021-06-10T06:25:21.562Z"
   },
   {
    "duration": 572,
    "start_time": "2021-06-10T06:25:21.576Z"
   },
   {
    "duration": 12,
    "start_time": "2021-06-10T06:25:22.150Z"
   },
   {
    "duration": 531,
    "start_time": "2021-06-10T06:25:22.164Z"
   },
   {
    "duration": 35,
    "start_time": "2021-06-10T06:25:22.708Z"
   },
   {
    "duration": 12740,
    "start_time": "2021-06-10T06:25:22.745Z"
   },
   {
    "duration": 1006,
    "start_time": "2021-06-10T06:26:48.546Z"
   },
   {
    "duration": 1156,
    "start_time": "2021-06-10T06:27:08.408Z"
   },
   {
    "duration": 30,
    "start_time": "2021-06-10T06:32:23.609Z"
   },
   {
    "duration": 9158,
    "start_time": "2021-06-10T06:32:35.328Z"
   },
   {
    "duration": 557,
    "start_time": "2021-06-10T06:37:18.536Z"
   },
   {
    "duration": 850,
    "start_time": "2021-06-10T06:38:08.206Z"
   },
   {
    "duration": 738,
    "start_time": "2021-06-10T06:38:18.775Z"
   },
   {
    "duration": 1329,
    "start_time": "2021-06-10T06:39:14.070Z"
   },
   {
    "duration": 1420,
    "start_time": "2021-06-10T06:39:45.286Z"
   },
   {
    "duration": 1344,
    "start_time": "2021-06-10T06:40:29.014Z"
   },
   {
    "duration": 118,
    "start_time": "2021-06-10T06:40:34.161Z"
   },
   {
    "duration": 33,
    "start_time": "2021-06-10T06:40:34.281Z"
   },
   {
    "duration": 8,
    "start_time": "2021-06-10T06:40:34.317Z"
   },
   {
    "duration": 22,
    "start_time": "2021-06-10T06:40:34.328Z"
   },
   {
    "duration": 85,
    "start_time": "2021-06-10T06:40:34.352Z"
   },
   {
    "duration": 2095,
    "start_time": "2021-06-10T06:40:34.440Z"
   },
   {
    "duration": 82,
    "start_time": "2021-06-10T06:40:36.538Z"
   },
   {
    "duration": 1010,
    "start_time": "2021-06-10T06:40:36.622Z"
   },
   {
    "duration": 10,
    "start_time": "2021-06-10T06:40:37.637Z"
   },
   {
    "duration": 1474,
    "start_time": "2021-06-10T06:40:37.650Z"
   },
   {
    "duration": -92,
    "start_time": "2021-06-10T06:40:39.218Z"
   },
   {
    "duration": -209,
    "start_time": "2021-06-10T06:40:39.336Z"
   },
   {
    "duration": -214,
    "start_time": "2021-06-10T06:40:39.343Z"
   },
   {
    "duration": -215,
    "start_time": "2021-06-10T06:40:39.345Z"
   },
   {
    "duration": -216,
    "start_time": "2021-06-10T06:40:39.347Z"
   },
   {
    "duration": -216,
    "start_time": "2021-06-10T06:40:39.349Z"
   },
   {
    "duration": -217,
    "start_time": "2021-06-10T06:40:39.351Z"
   },
   {
    "duration": -218,
    "start_time": "2021-06-10T06:40:39.353Z"
   },
   {
    "duration": -219,
    "start_time": "2021-06-10T06:40:39.356Z"
   },
   {
    "duration": -220,
    "start_time": "2021-06-10T06:40:39.358Z"
   },
   {
    "duration": -222,
    "start_time": "2021-06-10T06:40:39.361Z"
   },
   {
    "duration": -223,
    "start_time": "2021-06-10T06:40:39.364Z"
   },
   {
    "duration": -223,
    "start_time": "2021-06-10T06:40:39.365Z"
   },
   {
    "duration": -224,
    "start_time": "2021-06-10T06:40:39.367Z"
   },
   {
    "duration": 907,
    "start_time": "2021-06-10T06:41:24.912Z"
   },
   {
    "duration": 16,
    "start_time": "2021-06-10T06:41:25.822Z"
   },
   {
    "duration": 5,
    "start_time": "2021-06-10T06:41:25.840Z"
   },
   {
    "duration": 20,
    "start_time": "2021-06-10T06:41:25.848Z"
   },
   {
    "duration": 84,
    "start_time": "2021-06-10T06:41:25.870Z"
   },
   {
    "duration": 2312,
    "start_time": "2021-06-10T06:41:25.956Z"
   },
   {
    "duration": 82,
    "start_time": "2021-06-10T06:41:28.271Z"
   },
   {
    "duration": 1043,
    "start_time": "2021-06-10T06:41:28.356Z"
   },
   {
    "duration": 11,
    "start_time": "2021-06-10T06:41:29.409Z"
   },
   {
    "duration": 1274,
    "start_time": "2021-06-10T06:41:29.423Z"
   },
   {
    "duration": 19,
    "start_time": "2021-06-10T06:41:30.700Z"
   },
   {
    "duration": 1188,
    "start_time": "2021-06-10T06:41:30.722Z"
   },
   {
    "duration": 11,
    "start_time": "2021-06-10T06:41:31.912Z"
   },
   {
    "duration": 729,
    "start_time": "2021-06-10T06:41:31.926Z"
   },
   {
    "duration": 13,
    "start_time": "2021-06-10T06:41:32.658Z"
   },
   {
    "duration": 992,
    "start_time": "2021-06-10T06:41:32.674Z"
   },
   {
    "duration": 11,
    "start_time": "2021-06-10T06:41:33.668Z"
   },
   {
    "duration": 953,
    "start_time": "2021-06-10T06:41:33.681Z"
   },
   {
    "duration": 12,
    "start_time": "2021-06-10T06:41:34.637Z"
   },
   {
    "duration": 605,
    "start_time": "2021-06-10T06:41:34.652Z"
   },
   {
    "duration": 12,
    "start_time": "2021-06-10T06:41:35.259Z"
   },
   {
    "duration": 795,
    "start_time": "2021-06-10T06:41:35.273Z"
   },
   {
    "duration": 45,
    "start_time": "2021-06-10T06:41:36.072Z"
   },
   {
    "duration": 9257,
    "start_time": "2021-06-10T06:41:36.121Z"
   },
   {
    "duration": 913,
    "start_time": "2021-06-10T06:44:13.262Z"
   },
   {
    "duration": 859,
    "start_time": "2021-06-10T06:44:25.123Z"
   },
   {
    "duration": 539,
    "start_time": "2021-06-10T06:44:38.772Z"
   },
   {
    "duration": 1268,
    "start_time": "2021-06-10T06:45:11.851Z"
   },
   {
    "duration": 904,
    "start_time": "2021-06-10T06:45:24.297Z"
   },
   {
    "duration": 21,
    "start_time": "2021-06-10T06:45:25.203Z"
   },
   {
    "duration": 5,
    "start_time": "2021-06-10T06:45:25.228Z"
   },
   {
    "duration": 20,
    "start_time": "2021-06-10T06:45:25.236Z"
   },
   {
    "duration": 89,
    "start_time": "2021-06-10T06:45:25.259Z"
   },
   {
    "duration": 2322,
    "start_time": "2021-06-10T06:45:25.351Z"
   },
   {
    "duration": 80,
    "start_time": "2021-06-10T06:45:27.676Z"
   },
   {
    "duration": 1029,
    "start_time": "2021-06-10T06:45:27.760Z"
   },
   {
    "duration": 25,
    "start_time": "2021-06-10T06:45:28.792Z"
   },
   {
    "duration": 1302,
    "start_time": "2021-06-10T06:45:28.819Z"
   },
   {
    "duration": 14,
    "start_time": "2021-06-10T06:45:30.124Z"
   },
   {
    "duration": 1074,
    "start_time": "2021-06-10T06:45:30.140Z"
   },
   {
    "duration": 11,
    "start_time": "2021-06-10T06:45:31.217Z"
   },
   {
    "duration": 592,
    "start_time": "2021-06-10T06:45:31.231Z"
   },
   {
    "duration": 13,
    "start_time": "2021-06-10T06:45:31.825Z"
   },
   {
    "duration": 970,
    "start_time": "2021-06-10T06:45:31.841Z"
   },
   {
    "duration": 11,
    "start_time": "2021-06-10T06:45:32.814Z"
   },
   {
    "duration": 900,
    "start_time": "2021-06-10T06:45:32.828Z"
   },
   {
    "duration": 12,
    "start_time": "2021-06-10T06:45:33.730Z"
   },
   {
    "duration": 572,
    "start_time": "2021-06-10T06:45:33.744Z"
   },
   {
    "duration": 14,
    "start_time": "2021-06-10T06:45:34.319Z"
   },
   {
    "duration": 775,
    "start_time": "2021-06-10T06:45:34.336Z"
   },
   {
    "duration": 35,
    "start_time": "2021-06-10T06:45:35.117Z"
   },
   {
    "duration": 8932,
    "start_time": "2021-06-10T06:45:35.155Z"
   },
   {
    "duration": 36,
    "start_time": "2021-06-10T06:48:30.972Z"
   },
   {
    "duration": 13184,
    "start_time": "2021-06-10T06:48:45.484Z"
   },
   {
    "duration": 13518,
    "start_time": "2021-06-10T07:48:13.095Z"
   },
   {
    "duration": 4,
    "start_time": "2021-06-10T08:29:37.393Z"
   },
   {
    "duration": 437,
    "start_time": "2021-06-10T08:39:57.335Z"
   },
   {
    "duration": 487,
    "start_time": "2021-06-10T08:45:10.550Z"
   },
   {
    "duration": 425,
    "start_time": "2021-06-10T08:45:45.134Z"
   },
   {
    "duration": 356,
    "start_time": "2021-06-10T08:49:14.245Z"
   },
   {
    "duration": 353,
    "start_time": "2021-06-10T08:50:53.517Z"
   },
   {
    "duration": 383,
    "start_time": "2021-06-10T08:51:14.756Z"
   },
   {
    "duration": 155,
    "start_time": "2021-06-10T08:51:35.317Z"
   },
   {
    "duration": 6,
    "start_time": "2021-06-10T08:51:42.772Z"
   },
   {
    "duration": 12,
    "start_time": "2021-06-10T08:52:13.331Z"
   },
   {
    "duration": 121,
    "start_time": "2021-06-10T08:54:23.849Z"
   },
   {
    "duration": 1564,
    "start_time": "2021-06-10T08:55:53.011Z"
   },
   {
    "duration": 12,
    "start_time": "2021-06-10T08:57:37.825Z"
   },
   {
    "duration": 165,
    "start_time": "2021-06-10T09:00:49.149Z"
   },
   {
    "duration": 12,
    "start_time": "2021-06-10T09:00:53.392Z"
   },
   {
    "duration": 12,
    "start_time": "2021-06-10T09:01:11.889Z"
   },
   {
    "duration": 10,
    "start_time": "2021-06-10T09:57:40.873Z"
   },
   {
    "duration": 12,
    "start_time": "2021-06-10T09:59:09.282Z"
   },
   {
    "duration": 5,
    "start_time": "2021-06-10T10:02:29.864Z"
   },
   {
    "duration": 8,
    "start_time": "2021-06-10T10:02:42.930Z"
   },
   {
    "duration": 357,
    "start_time": "2021-06-10T10:03:04.153Z"
   },
   {
    "duration": 8972,
    "start_time": "2021-06-10T10:05:46.409Z"
   },
   {
    "duration": 8656,
    "start_time": "2021-06-10T10:06:29.809Z"
   },
   {
    "duration": 12,
    "start_time": "2021-06-10T10:07:50.529Z"
   },
   {
    "duration": 9,
    "start_time": "2021-06-10T10:10:19.505Z"
   },
   {
    "duration": 8,
    "start_time": "2021-06-10T10:11:47.192Z"
   },
   {
    "duration": 11,
    "start_time": "2021-06-10T10:15:26.122Z"
   },
   {
    "duration": 12,
    "start_time": "2021-06-10T10:15:33.918Z"
   },
   {
    "duration": 13,
    "start_time": "2021-06-10T10:16:10.094Z"
   },
   {
    "duration": 9,
    "start_time": "2021-06-10T10:16:26.085Z"
   },
   {
    "duration": 8,
    "start_time": "2021-06-10T10:16:50.509Z"
   },
   {
    "duration": 916,
    "start_time": "2021-06-10T10:17:32.108Z"
   },
   {
    "duration": 16,
    "start_time": "2021-06-10T10:17:33.027Z"
   },
   {
    "duration": 11,
    "start_time": "2021-06-10T10:17:33.046Z"
   },
   {
    "duration": 20,
    "start_time": "2021-06-10T10:17:33.060Z"
   },
   {
    "duration": 60,
    "start_time": "2021-06-10T10:17:33.110Z"
   },
   {
    "duration": 2196,
    "start_time": "2021-06-10T10:17:33.173Z"
   },
   {
    "duration": 82,
    "start_time": "2021-06-10T10:17:35.371Z"
   },
   {
    "duration": 1020,
    "start_time": "2021-06-10T10:17:35.456Z"
   },
   {
    "duration": 11,
    "start_time": "2021-06-10T10:17:36.478Z"
   },
   {
    "duration": 1271,
    "start_time": "2021-06-10T10:17:36.491Z"
   },
   {
    "duration": 12,
    "start_time": "2021-06-10T10:17:37.765Z"
   },
   {
    "duration": 1050,
    "start_time": "2021-06-10T10:17:37.780Z"
   },
   {
    "duration": 11,
    "start_time": "2021-06-10T10:17:38.832Z"
   },
   {
    "duration": 602,
    "start_time": "2021-06-10T10:17:38.845Z"
   },
   {
    "duration": 13,
    "start_time": "2021-06-10T10:17:39.450Z"
   },
   {
    "duration": 1459,
    "start_time": "2021-06-10T10:17:39.466Z"
   },
   {
    "duration": 11,
    "start_time": "2021-06-10T10:17:40.927Z"
   },
   {
    "duration": 862,
    "start_time": "2021-06-10T10:17:40.941Z"
   },
   {
    "duration": 12,
    "start_time": "2021-06-10T10:17:41.805Z"
   },
   {
    "duration": 559,
    "start_time": "2021-06-10T10:17:41.820Z"
   },
   {
    "duration": 28,
    "start_time": "2021-06-10T10:17:42.382Z"
   },
   {
    "duration": 774,
    "start_time": "2021-06-10T10:17:42.413Z"
   },
   {
    "duration": 42,
    "start_time": "2021-06-10T10:17:43.192Z"
   },
   {
    "duration": 12,
    "start_time": "2021-06-10T10:17:43.237Z"
   },
   {
    "duration": 22,
    "start_time": "2021-06-10T10:17:43.251Z"
   },
   {
    "duration": 16857,
    "start_time": "2021-06-10T10:17:43.276Z"
   },
   {
    "duration": 12,
    "start_time": "2021-06-10T10:19:05.405Z"
   },
   {
    "duration": 13,
    "start_time": "2021-06-10T10:19:20.268Z"
   },
   {
    "duration": 14,
    "start_time": "2021-06-10T10:22:15.412Z"
   },
   {
    "duration": 15,
    "start_time": "2021-06-10T10:22:47.819Z"
   },
   {
    "duration": 459,
    "start_time": "2021-06-10T10:23:03.283Z"
   },
   {
    "duration": 354,
    "start_time": "2021-06-10T10:23:23.467Z"
   },
   {
    "duration": 348,
    "start_time": "2021-06-10T10:25:16.011Z"
   },
   {
    "duration": 329,
    "start_time": "2021-06-10T10:25:35.234Z"
   },
   {
    "duration": 10,
    "start_time": "2021-06-10T10:26:15.291Z"
   },
   {
    "duration": 11,
    "start_time": "2021-06-10T10:26:18.978Z"
   },
   {
    "duration": 13,
    "start_time": "2021-06-10T10:26:22.121Z"
   },
   {
    "duration": 37,
    "start_time": "2021-06-10T10:26:58.386Z"
   },
   {
    "duration": 42,
    "start_time": "2021-06-10T10:27:17.369Z"
   },
   {
    "duration": 11,
    "start_time": "2021-06-10T10:27:59.491Z"
   },
   {
    "duration": 13,
    "start_time": "2021-06-10T10:28:14.497Z"
   },
   {
    "duration": 1050,
    "start_time": "2021-06-10T10:29:05.002Z"
   },
   {
    "duration": 1090,
    "start_time": "2021-06-10T10:29:27.345Z"
   },
   {
    "duration": 125,
    "start_time": "2021-06-10T10:31:56.177Z"
   },
   {
    "duration": 122,
    "start_time": "2021-06-10T10:32:06.879Z"
   },
   {
    "duration": 133,
    "start_time": "2021-06-10T10:33:34.473Z"
   },
   {
    "duration": 12,
    "start_time": "2021-06-10T10:34:09.640Z"
   },
   {
    "duration": 62,
    "start_time": "2021-06-10T10:36:24.656Z"
   },
   {
    "duration": 65,
    "start_time": "2021-06-10T10:36:50.279Z"
   },
   {
    "duration": 67,
    "start_time": "2021-06-10T10:37:04.328Z"
   },
   {
    "duration": 41,
    "start_time": "2021-06-10T10:38:23.527Z"
   },
   {
    "duration": 13250,
    "start_time": "2021-06-10T10:44:59.934Z"
   },
   {
    "duration": 400,
    "start_time": "2021-06-10T10:46:20.092Z"
   },
   {
    "duration": 13021,
    "start_time": "2021-06-10T10:46:25.094Z"
   },
   {
    "duration": 14045,
    "start_time": "2021-06-10T10:48:25.719Z"
   },
   {
    "duration": 326,
    "start_time": "2021-06-10T15:17:39.286Z"
   },
   {
    "duration": 863,
    "start_time": "2021-06-10T15:17:59.011Z"
   },
   {
    "duration": 30,
    "start_time": "2021-06-10T15:17:59.877Z"
   },
   {
    "duration": 8,
    "start_time": "2021-06-10T15:17:59.910Z"
   },
   {
    "duration": 20,
    "start_time": "2021-06-10T15:17:59.921Z"
   },
   {
    "duration": 93,
    "start_time": "2021-06-10T15:17:59.944Z"
   },
   {
    "duration": 2131,
    "start_time": "2021-06-10T15:18:00.041Z"
   },
   {
    "duration": 81,
    "start_time": "2021-06-10T15:18:02.175Z"
   },
   {
    "duration": 1015,
    "start_time": "2021-06-10T15:18:02.261Z"
   },
   {
    "duration": 22,
    "start_time": "2021-06-10T15:18:03.280Z"
   },
   {
    "duration": 1235,
    "start_time": "2021-06-10T15:18:03.305Z"
   },
   {
    "duration": 14,
    "start_time": "2021-06-10T15:18:04.543Z"
   },
   {
    "duration": 1103,
    "start_time": "2021-06-10T15:18:04.560Z"
   },
   {
    "duration": 12,
    "start_time": "2021-06-10T15:18:05.666Z"
   },
   {
    "duration": 652,
    "start_time": "2021-06-10T15:18:05.681Z"
   },
   {
    "duration": 15,
    "start_time": "2021-06-10T15:18:06.336Z"
   },
   {
    "duration": 921,
    "start_time": "2021-06-10T15:18:06.354Z"
   },
   {
    "duration": 25,
    "start_time": "2021-06-10T15:18:07.278Z"
   },
   {
    "duration": 844,
    "start_time": "2021-06-10T15:18:07.306Z"
   },
   {
    "duration": 11,
    "start_time": "2021-06-10T15:18:08.152Z"
   },
   {
    "duration": 524,
    "start_time": "2021-06-10T15:18:08.165Z"
   },
   {
    "duration": 18,
    "start_time": "2021-06-10T15:18:08.691Z"
   },
   {
    "duration": 737,
    "start_time": "2021-06-10T15:18:08.711Z"
   },
   {
    "duration": 49,
    "start_time": "2021-06-10T15:18:09.453Z"
   },
   {
    "duration": 11,
    "start_time": "2021-06-10T15:18:09.505Z"
   },
   {
    "duration": 46,
    "start_time": "2021-06-10T15:18:09.518Z"
   },
   {
    "duration": 7796,
    "start_time": "2021-06-10T15:18:09.567Z"
   },
   {
    "duration": 486,
    "start_time": "2021-06-10T15:20:30.922Z"
   },
   {
    "duration": 41,
    "start_time": "2021-06-10T15:21:26.445Z"
   },
   {
    "duration": 263,
    "start_time": "2021-06-10T15:21:44.142Z"
   },
   {
    "duration": 417,
    "start_time": "2021-06-10T15:22:59.656Z"
   },
   {
    "duration": 793,
    "start_time": "2021-06-10T15:23:08.544Z"
   },
   {
    "duration": 17,
    "start_time": "2021-06-10T15:23:09.340Z"
   },
   {
    "duration": 8,
    "start_time": "2021-06-10T15:23:09.361Z"
   },
   {
    "duration": 21,
    "start_time": "2021-06-10T15:23:09.400Z"
   },
   {
    "duration": 78,
    "start_time": "2021-06-10T15:23:09.424Z"
   },
   {
    "duration": 2322,
    "start_time": "2021-06-10T15:23:09.505Z"
   },
   {
    "duration": 89,
    "start_time": "2021-06-10T15:23:11.830Z"
   },
   {
    "duration": 1063,
    "start_time": "2021-06-10T15:23:11.924Z"
   },
   {
    "duration": 21,
    "start_time": "2021-06-10T15:23:12.990Z"
   },
   {
    "duration": 1195,
    "start_time": "2021-06-10T15:23:13.013Z"
   },
   {
    "duration": 11,
    "start_time": "2021-06-10T15:23:14.211Z"
   },
   {
    "duration": 972,
    "start_time": "2021-06-10T15:23:14.224Z"
   },
   {
    "duration": 11,
    "start_time": "2021-06-10T15:23:15.200Z"
   },
   {
    "duration": 542,
    "start_time": "2021-06-10T15:23:15.213Z"
   },
   {
    "duration": 11,
    "start_time": "2021-06-10T15:23:15.757Z"
   },
   {
    "duration": 945,
    "start_time": "2021-06-10T15:23:15.771Z"
   },
   {
    "duration": 10,
    "start_time": "2021-06-10T15:23:16.719Z"
   },
   {
    "duration": 828,
    "start_time": "2021-06-10T15:23:16.732Z"
   },
   {
    "duration": 11,
    "start_time": "2021-06-10T15:23:17.562Z"
   },
   {
    "duration": 508,
    "start_time": "2021-06-10T15:23:17.575Z"
   },
   {
    "duration": 16,
    "start_time": "2021-06-10T15:23:18.085Z"
   },
   {
    "duration": 699,
    "start_time": "2021-06-10T15:23:18.104Z"
   },
   {
    "duration": 34,
    "start_time": "2021-06-10T15:23:18.807Z"
   },
   {
    "duration": 10,
    "start_time": "2021-06-10T15:23:18.844Z"
   },
   {
    "duration": 347,
    "start_time": "2021-06-10T15:23:18.858Z"
   },
   {
    "duration": -47120,
    "start_time": "2021-06-10T15:24:06.328Z"
   },
   {
    "duration": 40,
    "start_time": "2021-06-10T15:24:25.407Z"
   },
   {
    "duration": 271,
    "start_time": "2021-06-10T15:24:55.955Z"
   },
   {
    "duration": 12,
    "start_time": "2021-06-10T15:26:29.900Z"
   },
   {
    "duration": 40,
    "start_time": "2021-06-10T15:26:37.059Z"
   },
   {
    "duration": 272,
    "start_time": "2021-06-10T15:26:43.564Z"
   },
   {
    "duration": 842,
    "start_time": "2021-06-10T15:27:55.655Z"
   },
   {
    "duration": 14,
    "start_time": "2021-06-10T15:27:56.500Z"
   },
   {
    "duration": 6,
    "start_time": "2021-06-10T15:27:56.517Z"
   },
   {
    "duration": 33,
    "start_time": "2021-06-10T15:27:56.525Z"
   },
   {
    "duration": 76,
    "start_time": "2021-06-10T15:27:56.561Z"
   },
   {
    "duration": 2190,
    "start_time": "2021-06-10T15:27:56.640Z"
   },
   {
    "duration": 79,
    "start_time": "2021-06-10T15:27:58.833Z"
   },
   {
    "duration": 966,
    "start_time": "2021-06-10T15:27:58.915Z"
   },
   {
    "duration": 18,
    "start_time": "2021-06-10T15:27:59.884Z"
   },
   {
    "duration": 1169,
    "start_time": "2021-06-10T15:27:59.905Z"
   },
   {
    "duration": 29,
    "start_time": "2021-06-10T15:28:01.077Z"
   },
   {
    "duration": 995,
    "start_time": "2021-06-10T15:28:01.108Z"
   },
   {
    "duration": 10,
    "start_time": "2021-06-10T15:28:02.106Z"
   },
   {
    "duration": 566,
    "start_time": "2021-06-10T15:28:02.118Z"
   },
   {
    "duration": 15,
    "start_time": "2021-06-10T15:28:02.687Z"
   },
   {
    "duration": 914,
    "start_time": "2021-06-10T15:28:02.706Z"
   },
   {
    "duration": 12,
    "start_time": "2021-06-10T15:28:03.623Z"
   },
   {
    "duration": 832,
    "start_time": "2021-06-10T15:28:03.638Z"
   },
   {
    "duration": 30,
    "start_time": "2021-06-10T15:28:04.473Z"
   },
   {
    "duration": 517,
    "start_time": "2021-06-10T15:28:04.506Z"
   },
   {
    "duration": 13,
    "start_time": "2021-06-10T15:28:05.025Z"
   },
   {
    "duration": 742,
    "start_time": "2021-06-10T15:28:05.041Z"
   },
   {
    "duration": 43,
    "start_time": "2021-06-10T15:28:05.786Z"
   },
   {
    "duration": 12,
    "start_time": "2021-06-10T15:28:05.832Z"
   },
   {
    "duration": 392,
    "start_time": "2021-06-10T15:28:05.846Z"
   },
   {
    "duration": -47095,
    "start_time": "2021-06-10T15:28:53.336Z"
   },
   {
    "duration": 7,
    "start_time": "2021-06-10T15:28:43.582Z"
   },
   {
    "duration": 7,
    "start_time": "2021-06-10T15:28:46.840Z"
   },
   {
    "duration": 12,
    "start_time": "2021-06-10T15:28:50.554Z"
   },
   {
    "duration": 272,
    "start_time": "2021-06-10T15:29:39.768Z"
   },
   {
    "duration": 12,
    "start_time": "2021-06-10T15:30:05.473Z"
   },
   {
    "duration": 40,
    "start_time": "2021-06-10T15:30:35.647Z"
   },
   {
    "duration": 7,
    "start_time": "2021-06-10T15:30:42.739Z"
   },
   {
    "duration": 7,
    "start_time": "2021-06-10T15:30:45.505Z"
   },
   {
    "duration": 12,
    "start_time": "2021-06-10T15:30:49.020Z"
   },
   {
    "duration": 6,
    "start_time": "2021-06-10T15:30:55.132Z"
   },
   {
    "duration": 35,
    "start_time": "2021-06-10T15:31:07.640Z"
   },
   {
    "duration": 13,
    "start_time": "2021-06-10T15:31:12.238Z"
   },
   {
    "duration": 7,
    "start_time": "2021-06-10T15:31:15.496Z"
   },
   {
    "duration": 263,
    "start_time": "2021-06-10T15:31:35.781Z"
   },
   {
    "duration": 11,
    "start_time": "2021-06-10T15:32:48.009Z"
   },
   {
    "duration": 268,
    "start_time": "2021-06-10T15:32:53.024Z"
   },
   {
    "duration": 12,
    "start_time": "2021-06-10T15:33:14.092Z"
   },
   {
    "duration": 38,
    "start_time": "2021-06-10T15:33:39.069Z"
   },
   {
    "duration": 291,
    "start_time": "2021-06-10T15:34:04.967Z"
   },
   {
    "duration": 34,
    "start_time": "2021-06-10T15:34:11.404Z"
   },
   {
    "duration": 12,
    "start_time": "2021-06-10T15:34:15.546Z"
   },
   {
    "duration": 250,
    "start_time": "2021-06-10T15:34:20.086Z"
   },
   {
    "duration": 277,
    "start_time": "2021-06-10T15:34:32.843Z"
   },
   {
    "duration": 263,
    "start_time": "2021-06-10T15:34:43.591Z"
   },
   {
    "duration": 29,
    "start_time": "2021-06-10T15:34:47.822Z"
   },
   {
    "duration": 13,
    "start_time": "2021-06-10T15:34:51.687Z"
   },
   {
    "duration": 250,
    "start_time": "2021-06-10T15:34:56.719Z"
   },
   {
    "duration": 490,
    "start_time": "2021-06-10T15:36:15.497Z"
   },
   {
    "duration": 259,
    "start_time": "2021-06-10T15:36:43.773Z"
   },
   {
    "duration": 83,
    "start_time": "2021-06-10T15:36:54.064Z"
   },
   {
    "duration": 82,
    "start_time": "2021-06-10T15:37:10.382Z"
   },
   {
    "duration": 282,
    "start_time": "2021-06-10T15:37:16.706Z"
   },
   {
    "duration": 294,
    "start_time": "2021-06-10T15:37:21.098Z"
   },
   {
    "duration": 622,
    "start_time": "2021-06-10T15:37:29.294Z"
   },
   {
    "duration": 12,
    "start_time": "2021-06-10T15:37:54.832Z"
   },
   {
    "duration": 99,
    "start_time": "2021-06-10T15:38:58.475Z"
   },
   {
    "duration": 13,
    "start_time": "2021-06-10T15:40:15.377Z"
   },
   {
    "duration": 28,
    "start_time": "2021-06-10T15:40:38.827Z"
   },
   {
    "duration": 12,
    "start_time": "2021-06-10T15:40:48.623Z"
   },
   {
    "duration": 262,
    "start_time": "2021-06-10T15:41:32.578Z"
   },
   {
    "duration": 40,
    "start_time": "2021-06-10T15:41:41.127Z"
   },
   {
    "duration": 266,
    "start_time": "2021-06-10T15:41:52.793Z"
   },
   {
    "duration": 7,
    "start_time": "2021-06-10T15:42:24.851Z"
   },
   {
    "duration": 7,
    "start_time": "2021-06-10T15:42:40.392Z"
   },
   {
    "duration": 8,
    "start_time": "2021-06-10T15:42:43.869Z"
   },
   {
    "duration": 7,
    "start_time": "2021-06-10T15:42:47.845Z"
   },
   {
    "duration": 9,
    "start_time": "2021-06-10T15:42:55.033Z"
   },
   {
    "duration": 5,
    "start_time": "2021-06-10T15:43:01.211Z"
   },
   {
    "duration": 264,
    "start_time": "2021-06-10T15:45:01.454Z"
   },
   {
    "duration": 284,
    "start_time": "2021-06-10T15:45:48.681Z"
   },
   {
    "duration": 30,
    "start_time": "2021-06-10T15:45:59.847Z"
   },
   {
    "duration": 12,
    "start_time": "2021-06-10T15:46:03.320Z"
   },
   {
    "duration": 283,
    "start_time": "2021-06-10T15:46:06.228Z"
   },
   {
    "duration": 268,
    "start_time": "2021-06-10T15:46:34.159Z"
   },
   {
    "duration": 255,
    "start_time": "2021-06-10T15:46:39.912Z"
   },
   {
    "duration": 6579,
    "start_time": "2021-06-10T15:47:31.267Z"
   },
   {
    "duration": 271,
    "start_time": "2021-06-10T15:47:50.300Z"
   },
   {
    "duration": 280,
    "start_time": "2021-06-10T15:47:57.385Z"
   },
   {
    "duration": 11,
    "start_time": "2021-06-10T15:48:20.496Z"
   },
   {
    "duration": 94,
    "start_time": "2021-06-10T15:48:30.006Z"
   },
   {
    "duration": 11,
    "start_time": "2021-06-10T15:48:34.226Z"
   },
   {
    "duration": 316,
    "start_time": "2021-06-10T15:48:45.348Z"
   },
   {
    "duration": 13,
    "start_time": "2021-06-10T15:49:19.932Z"
   },
   {
    "duration": 259,
    "start_time": "2021-06-10T15:49:36.529Z"
   },
   {
    "duration": 12,
    "start_time": "2021-06-10T15:49:45.752Z"
   },
   {
    "duration": 265,
    "start_time": "2021-06-10T15:49:50.543Z"
   },
   {
    "duration": 12,
    "start_time": "2021-06-10T15:51:47.367Z"
   },
   {
    "duration": 106,
    "start_time": "2021-06-10T15:51:55.037Z"
   },
   {
    "duration": 96,
    "start_time": "2021-06-10T15:52:02.994Z"
   },
   {
    "duration": 342,
    "start_time": "2021-06-10T15:54:50.537Z"
   },
   {
    "duration": 867,
    "start_time": "2021-06-10T15:55:10.319Z"
   },
   {
    "duration": 24,
    "start_time": "2021-06-10T15:55:11.189Z"
   },
   {
    "duration": 6,
    "start_time": "2021-06-10T15:55:11.216Z"
   },
   {
    "duration": 24,
    "start_time": "2021-06-10T15:55:11.225Z"
   },
   {
    "duration": 91,
    "start_time": "2021-06-10T15:55:11.252Z"
   },
   {
    "duration": 2283,
    "start_time": "2021-06-10T15:55:11.345Z"
   },
   {
    "duration": 79,
    "start_time": "2021-06-10T15:55:13.630Z"
   },
   {
    "duration": 1001,
    "start_time": "2021-06-10T15:55:13.713Z"
   },
   {
    "duration": 11,
    "start_time": "2021-06-10T15:55:14.717Z"
   },
   {
    "duration": 1219,
    "start_time": "2021-06-10T15:55:14.730Z"
   },
   {
    "duration": 11,
    "start_time": "2021-06-10T15:55:15.951Z"
   },
   {
    "duration": 1011,
    "start_time": "2021-06-10T15:55:15.965Z"
   },
   {
    "duration": 22,
    "start_time": "2021-06-10T15:55:16.979Z"
   },
   {
    "duration": 555,
    "start_time": "2021-06-10T15:55:17.004Z"
   },
   {
    "duration": 12,
    "start_time": "2021-06-10T15:55:17.561Z"
   },
   {
    "duration": 882,
    "start_time": "2021-06-10T15:55:17.576Z"
   },
   {
    "duration": 12,
    "start_time": "2021-06-10T15:55:18.460Z"
   },
   {
    "duration": 834,
    "start_time": "2021-06-10T15:55:18.474Z"
   },
   {
    "duration": 11,
    "start_time": "2021-06-10T15:55:19.310Z"
   },
   {
    "duration": 531,
    "start_time": "2021-06-10T15:55:19.324Z"
   },
   {
    "duration": 12,
    "start_time": "2021-06-10T15:55:19.858Z"
   },
   {
    "duration": 755,
    "start_time": "2021-06-10T15:55:19.873Z"
   },
   {
    "duration": 36,
    "start_time": "2021-06-10T15:55:20.633Z"
   },
   {
    "duration": 33,
    "start_time": "2021-06-10T15:55:20.672Z"
   },
   {
    "duration": 375,
    "start_time": "2021-06-10T15:55:20.708Z"
   },
   {
    "duration": -47202,
    "start_time": "2021-06-10T15:56:08.287Z"
   },
   {
    "duration": 13,
    "start_time": "2021-06-10T15:55:28.744Z"
   },
   {
    "duration": 297,
    "start_time": "2021-06-10T15:55:33.924Z"
   },
   {
    "duration": 928,
    "start_time": "2021-06-10T15:56:00.259Z"
   },
   {
    "duration": 16,
    "start_time": "2021-06-10T15:57:19.132Z"
   },
   {
    "duration": 11,
    "start_time": "2021-06-10T15:57:27.809Z"
   },
   {
    "duration": 264,
    "start_time": "2021-06-10T15:58:12.857Z"
   },
   {
    "duration": 256,
    "start_time": "2021-06-10T15:58:23.705Z"
   },
   {
    "duration": 771,
    "start_time": "2021-06-10T15:58:40.827Z"
   },
   {
    "duration": 267,
    "start_time": "2021-06-10T16:02:11.510Z"
   },
   {
    "duration": 10,
    "start_time": "2021-06-10T16:02:21.579Z"
   },
   {
    "duration": 257,
    "start_time": "2021-06-10T16:02:31.912Z"
   },
   {
    "duration": 41,
    "start_time": "2021-06-10T16:02:58.403Z"
   },
   {
    "duration": 257,
    "start_time": "2021-06-10T16:03:47.314Z"
   },
   {
    "duration": 263,
    "start_time": "2021-06-10T16:03:54.679Z"
   },
   {
    "duration": 268,
    "start_time": "2021-06-10T16:04:16.636Z"
   },
   {
    "duration": 9,
    "start_time": "2021-06-10T16:04:29.706Z"
   },
   {
    "duration": 9,
    "start_time": "2021-06-10T16:04:52.278Z"
   },
   {
    "duration": 10,
    "start_time": "2021-06-10T16:05:05.911Z"
   },
   {
    "duration": 11,
    "start_time": "2021-06-10T16:05:09.325Z"
   },
   {
    "duration": 255,
    "start_time": "2021-06-10T16:05:14.420Z"
   },
   {
    "duration": 39,
    "start_time": "2021-06-10T16:05:18.239Z"
   },
   {
    "duration": 11,
    "start_time": "2021-06-10T16:05:29.978Z"
   },
   {
    "duration": 46,
    "start_time": "2021-06-10T16:05:32.675Z"
   },
   {
    "duration": 292,
    "start_time": "2021-06-10T16:05:38.971Z"
   },
   {
    "duration": 273,
    "start_time": "2021-06-10T16:05:54.149Z"
   },
   {
    "duration": 262,
    "start_time": "2021-06-10T16:06:03.539Z"
   },
   {
    "duration": 86,
    "start_time": "2021-06-10T16:06:17.718Z"
   },
   {
    "duration": 278,
    "start_time": "2021-06-10T16:06:21.705Z"
   },
   {
    "duration": 17,
    "start_time": "2021-06-10T16:12:40.441Z"
   },
   {
    "duration": 15543,
    "start_time": "2021-06-10T16:12:45.238Z"
   },
   {
    "duration": 1063,
    "start_time": "2021-06-10T16:13:34.296Z"
   },
   {
    "duration": 6653,
    "start_time": "2021-06-10T16:14:46.757Z"
   },
   {
    "duration": 10,
    "start_time": "2021-06-10T16:14:57.059Z"
   },
   {
    "duration": 13,
    "start_time": "2021-06-10T16:15:04.316Z"
   },
   {
    "duration": 12,
    "start_time": "2021-06-10T16:15:59.876Z"
   },
   {
    "duration": 9,
    "start_time": "2021-06-10T16:16:33.433Z"
   },
   {
    "duration": 1286,
    "start_time": "2021-06-10T16:18:24.282Z"
   },
   {
    "duration": 46,
    "start_time": "2021-06-10T16:18:37.720Z"
   },
   {
    "duration": 9,
    "start_time": "2021-06-10T16:18:41.011Z"
   },
   {
    "duration": 1698,
    "start_time": "2021-06-10T16:18:44.228Z"
   },
   {
    "duration": 8,
    "start_time": "2021-06-10T16:19:28.413Z"
   },
   {
    "duration": 1194,
    "start_time": "2021-06-10T16:19:38.017Z"
   },
   {
    "duration": 277,
    "start_time": "2021-06-10T16:21:24.485Z"
   },
   {
    "duration": 887,
    "start_time": "2021-06-10T16:21:52.973Z"
   },
   {
    "duration": 15,
    "start_time": "2021-06-10T16:21:53.863Z"
   },
   {
    "duration": 18,
    "start_time": "2021-06-10T16:21:53.882Z"
   },
   {
    "duration": 15,
    "start_time": "2021-06-10T16:21:53.903Z"
   },
   {
    "duration": 80,
    "start_time": "2021-06-10T16:21:53.920Z"
   },
   {
    "duration": 2108,
    "start_time": "2021-06-10T16:21:54.003Z"
   },
   {
    "duration": 62,
    "start_time": "2021-06-10T16:21:56.114Z"
   },
   {
    "duration": 980,
    "start_time": "2021-06-10T16:21:56.200Z"
   },
   {
    "duration": 21,
    "start_time": "2021-06-10T16:21:57.184Z"
   },
   {
    "duration": 1281,
    "start_time": "2021-06-10T16:21:57.207Z"
   },
   {
    "duration": 18,
    "start_time": "2021-06-10T16:21:58.491Z"
   },
   {
    "duration": 1047,
    "start_time": "2021-06-10T16:21:58.512Z"
   },
   {
    "duration": 13,
    "start_time": "2021-06-10T16:21:59.562Z"
   },
   {
    "duration": 555,
    "start_time": "2021-06-10T16:21:59.601Z"
   },
   {
    "duration": 11,
    "start_time": "2021-06-10T16:22:00.159Z"
   },
   {
    "duration": 897,
    "start_time": "2021-06-10T16:22:00.172Z"
   },
   {
    "duration": 12,
    "start_time": "2021-06-10T16:22:01.071Z"
   },
   {
    "duration": 846,
    "start_time": "2021-06-10T16:22:01.100Z"
   },
   {
    "duration": 12,
    "start_time": "2021-06-10T16:22:01.948Z"
   },
   {
    "duration": 569,
    "start_time": "2021-06-10T16:22:01.962Z"
   },
   {
    "duration": 13,
    "start_time": "2021-06-10T16:22:02.533Z"
   },
   {
    "duration": 771,
    "start_time": "2021-06-10T16:22:02.548Z"
   },
   {
    "duration": 35,
    "start_time": "2021-06-10T16:22:03.325Z"
   },
   {
    "duration": 350,
    "start_time": "2021-06-10T16:22:03.364Z"
   },
   {
    "duration": -47160,
    "start_time": "2021-06-10T16:22:50.877Z"
   },
   {
    "duration": -47167,
    "start_time": "2021-06-10T16:22:50.886Z"
   },
   {
    "duration": 259,
    "start_time": "2021-06-10T16:22:28.426Z"
   },
   {
    "duration": 31,
    "start_time": "2021-06-10T16:22:38.186Z"
   },
   {
    "duration": 9,
    "start_time": "2021-06-10T16:22:52.558Z"
   },
   {
    "duration": 1530,
    "start_time": "2021-06-10T16:23:19.747Z"
   },
   {
    "duration": 11,
    "start_time": "2021-06-10T16:30:26.275Z"
   },
   {
    "duration": 8170,
    "start_time": "2021-06-10T16:30:43.314Z"
   },
   {
    "duration": 260,
    "start_time": "2021-06-10T16:31:31.364Z"
   },
   {
    "duration": 11,
    "start_time": "2021-06-10T16:31:41.568Z"
   },
   {
    "duration": 7427,
    "start_time": "2021-06-10T16:31:50.698Z"
   },
   {
    "duration": 42,
    "start_time": "2021-06-10T16:33:10.399Z"
   },
   {
    "duration": 284,
    "start_time": "2021-06-10T16:33:19.449Z"
   },
   {
    "duration": 86,
    "start_time": "2021-06-10T16:36:57.274Z"
   },
   {
    "duration": 88,
    "start_time": "2021-06-10T16:37:25.240Z"
   },
   {
    "duration": 98,
    "start_time": "2021-06-10T16:38:48.535Z"
   },
   {
    "duration": 89,
    "start_time": "2021-06-10T16:39:10.162Z"
   },
   {
    "duration": 30,
    "start_time": "2021-06-10T16:39:22.838Z"
   },
   {
    "duration": 12,
    "start_time": "2021-06-10T16:39:29.502Z"
   },
   {
    "duration": 100,
    "start_time": "2021-06-10T16:39:32.030Z"
   },
   {
    "duration": 82,
    "start_time": "2021-06-10T16:39:55.160Z"
   },
   {
    "duration": 9,
    "start_time": "2021-06-10T16:40:02.753Z"
   },
   {
    "duration": 6491,
    "start_time": "2021-06-10T16:42:26.077Z"
   },
   {
    "duration": 10,
    "start_time": "2021-06-10T16:42:33.444Z"
   },
   {
    "duration": 267,
    "start_time": "2021-06-10T16:43:39.543Z"
   },
   {
    "duration": 41,
    "start_time": "2021-06-10T16:43:49.483Z"
   },
   {
    "duration": 29,
    "start_time": "2021-06-10T16:44:55.713Z"
   },
   {
    "duration": 85,
    "start_time": "2021-06-10T16:45:04.006Z"
   },
   {
    "duration": 11,
    "start_time": "2021-06-10T16:45:30.819Z"
   },
   {
    "duration": 59,
    "start_time": "2021-06-10T16:45:50.466Z"
   },
   {
    "duration": 8,
    "start_time": "2021-06-10T16:46:52.732Z"
   },
   {
    "duration": 11,
    "start_time": "2021-06-10T16:46:59.502Z"
   },
   {
    "duration": 247,
    "start_time": "2021-06-10T16:47:16.289Z"
   },
   {
    "duration": 265,
    "start_time": "2021-06-10T16:47:31.771Z"
   },
   {
    "duration": 41202,
    "start_time": "2021-06-10T16:47:51.159Z"
   },
   {
    "duration": 96,
    "start_time": "2021-06-10T16:49:05.127Z"
   },
   {
    "duration": 101,
    "start_time": "2021-06-10T16:49:36.261Z"
   },
   {
    "duration": 95,
    "start_time": "2021-06-10T16:50:41.981Z"
   },
   {
    "duration": 12,
    "start_time": "2021-06-10T16:50:47.506Z"
   },
   {
    "duration": 38,
    "start_time": "2021-06-10T16:51:24.536Z"
   },
   {
    "duration": 40,
    "start_time": "2021-06-10T16:51:34.233Z"
   },
   {
    "duration": 11,
    "start_time": "2021-06-10T16:51:36.164Z"
   },
   {
    "duration": 37,
    "start_time": "2021-06-10T16:51:39.059Z"
   },
   {
    "duration": 11,
    "start_time": "2021-06-10T16:52:04.100Z"
   },
   {
    "duration": 295,
    "start_time": "2021-06-10T16:52:11.647Z"
   },
   {
    "duration": 59,
    "start_time": "2021-06-10T16:52:17.211Z"
   },
   {
    "duration": 12,
    "start_time": "2021-06-10T16:52:21.678Z"
   },
   {
    "duration": 282,
    "start_time": "2021-06-10T16:52:25.296Z"
   },
   {
    "duration": 39,
    "start_time": "2021-06-10T16:52:38.858Z"
   },
   {
    "duration": 329,
    "start_time": "2021-06-10T16:53:10.947Z"
   },
   {
    "duration": 258,
    "start_time": "2021-06-10T16:53:24.618Z"
   },
   {
    "duration": 275,
    "start_time": "2021-06-10T16:53:35.073Z"
   },
   {
    "duration": 39,
    "start_time": "2021-06-10T16:53:46.702Z"
   },
   {
    "duration": 39,
    "start_time": "2021-06-10T16:53:49.915Z"
   },
   {
    "duration": 8,
    "start_time": "2021-06-10T16:55:45.405Z"
   },
   {
    "duration": 9,
    "start_time": "2021-06-10T17:02:40.875Z"
   },
   {
    "duration": 12,
    "start_time": "2021-06-10T17:03:51.424Z"
   },
   {
    "duration": 15699,
    "start_time": "2021-06-10T17:04:15.832Z"
   },
   {
    "duration": 13,
    "start_time": "2021-06-10T17:11:09.282Z"
   },
   {
    "duration": 59,
    "start_time": "2021-06-10T17:11:23.296Z"
   },
   {
    "duration": 16,
    "start_time": "2021-06-10T17:11:27.775Z"
   },
   {
    "duration": 12,
    "start_time": "2021-06-10T17:13:32.094Z"
   },
   {
    "duration": 10,
    "start_time": "2021-06-10T17:14:24.751Z"
   },
   {
    "duration": 12,
    "start_time": "2021-06-10T17:14:35.548Z"
   },
   {
    "duration": 11,
    "start_time": "2021-06-10T17:16:13.483Z"
   },
   {
    "duration": 16,
    "start_time": "2021-06-10T17:16:26.291Z"
   },
   {
    "duration": 58,
    "start_time": "2021-06-10T17:16:36.850Z"
   },
   {
    "duration": 11,
    "start_time": "2021-06-10T17:16:41.278Z"
   },
   {
    "duration": 11,
    "start_time": "2021-06-10T17:16:44.068Z"
   },
   {
    "duration": 18,
    "start_time": "2021-06-10T17:21:58.546Z"
   },
   {
    "duration": 13,
    "start_time": "2021-06-10T17:22:07.686Z"
   },
   {
    "duration": 59,
    "start_time": "2021-06-10T17:22:14.018Z"
   },
   {
    "duration": 11,
    "start_time": "2021-06-10T17:22:18.975Z"
   },
   {
    "duration": 11,
    "start_time": "2021-06-10T17:22:22.024Z"
   },
   {
    "duration": 13,
    "start_time": "2021-06-10T17:33:19.874Z"
   },
   {
    "duration": 15,
    "start_time": "2021-06-10T17:33:25.376Z"
   },
   {
    "duration": 871,
    "start_time": "2021-06-10T17:33:36.062Z"
   },
   {
    "duration": 14,
    "start_time": "2021-06-10T17:33:36.936Z"
   },
   {
    "duration": 7,
    "start_time": "2021-06-10T17:33:36.954Z"
   },
   {
    "duration": 39,
    "start_time": "2021-06-10T17:33:36.964Z"
   },
   {
    "duration": 57,
    "start_time": "2021-06-10T17:33:37.005Z"
   },
   {
    "duration": 2089,
    "start_time": "2021-06-10T17:33:37.064Z"
   },
   {
    "duration": 81,
    "start_time": "2021-06-10T17:33:39.156Z"
   },
   {
    "duration": 961,
    "start_time": "2021-06-10T17:33:39.241Z"
   },
   {
    "duration": 11,
    "start_time": "2021-06-10T17:33:40.205Z"
   },
   {
    "duration": 1259,
    "start_time": "2021-06-10T17:33:40.218Z"
   },
   {
    "duration": 12,
    "start_time": "2021-06-10T17:33:41.479Z"
   },
   {
    "duration": 1133,
    "start_time": "2021-06-10T17:33:41.500Z"
   },
   {
    "duration": 11,
    "start_time": "2021-06-10T17:33:42.635Z"
   },
   {
    "duration": 586,
    "start_time": "2021-06-10T17:33:42.648Z"
   },
   {
    "duration": 11,
    "start_time": "2021-06-10T17:33:43.236Z"
   },
   {
    "duration": 898,
    "start_time": "2021-06-10T17:33:43.250Z"
   },
   {
    "duration": 12,
    "start_time": "2021-06-10T17:33:44.151Z"
   },
   {
    "duration": 829,
    "start_time": "2021-06-10T17:33:44.165Z"
   },
   {
    "duration": 12,
    "start_time": "2021-06-10T17:33:45.001Z"
   },
   {
    "duration": 516,
    "start_time": "2021-06-10T17:33:45.015Z"
   },
   {
    "duration": 12,
    "start_time": "2021-06-10T17:33:45.533Z"
   },
   {
    "duration": 719,
    "start_time": "2021-06-10T17:33:45.547Z"
   },
   {
    "duration": 80,
    "start_time": "2021-06-10T17:33:46.271Z"
   },
   {
    "duration": 11,
    "start_time": "2021-06-10T17:33:46.353Z"
   },
   {
    "duration": 41,
    "start_time": "2021-06-10T17:33:46.366Z"
   },
   {
    "duration": 12195,
    "start_time": "2021-06-10T17:33:46.410Z"
   },
   {
    "duration": 10,
    "start_time": "2021-06-10T17:35:11.041Z"
   },
   {
    "duration": 12248,
    "start_time": "2021-06-10T17:36:14.486Z"
   },
   {
    "duration": 32,
    "start_time": "2021-06-10T17:37:57.027Z"
   },
   {
    "duration": 35,
    "start_time": "2021-06-10T17:38:10.636Z"
   },
   {
    "duration": 12388,
    "start_time": "2021-06-10T17:38:30.978Z"
   },
   {
    "duration": 14,
    "start_time": "2021-06-10T17:41:26.975Z"
   },
   {
    "duration": 15,
    "start_time": "2021-06-10T17:41:32.363Z"
   },
   {
    "duration": 64,
    "start_time": "2021-06-10T17:41:37.376Z"
   },
   {
    "duration": 14,
    "start_time": "2021-06-10T17:41:46.535Z"
   },
   {
    "duration": 13,
    "start_time": "2021-06-10T17:41:50.186Z"
   },
   {
    "duration": 36,
    "start_time": "2021-06-10T17:52:07.251Z"
   },
   {
    "duration": 29,
    "start_time": "2021-06-10T17:54:47.639Z"
   },
   {
    "duration": 29,
    "start_time": "2021-06-10T17:55:24.736Z"
   },
   {
    "duration": 49,
    "start_time": "2021-06-10T18:21:05.560Z"
   },
   {
    "duration": 399,
    "start_time": "2021-06-10T18:21:51.014Z"
   },
   {
    "duration": 7331,
    "start_time": "2021-06-10T18:22:08.037Z"
   },
   {
    "duration": 37,
    "start_time": "2021-06-10T18:23:57.214Z"
   },
   {
    "duration": 280,
    "start_time": "2021-06-10T18:24:35.578Z"
   },
   {
    "duration": 40,
    "start_time": "2021-06-10T18:24:54.305Z"
   },
   {
    "duration": 38,
    "start_time": "2021-06-10T18:25:03.189Z"
   },
   {
    "duration": 39,
    "start_time": "2021-06-10T18:25:21.396Z"
   },
   {
    "duration": 24,
    "start_time": "2021-06-10T18:26:34.564Z"
   },
   {
    "duration": 25,
    "start_time": "2021-06-10T18:26:54.495Z"
   },
   {
    "duration": 39,
    "start_time": "2021-06-10T18:27:33.112Z"
   },
   {
    "duration": 18,
    "start_time": "2021-06-10T18:28:08.515Z"
   },
   {
    "duration": 265,
    "start_time": "2021-06-10T18:29:00.547Z"
   },
   {
    "duration": 277,
    "start_time": "2021-06-10T18:39:31.025Z"
   },
   {
    "duration": 45,
    "start_time": "2021-06-10T18:39:44.828Z"
   },
   {
    "duration": 255,
    "start_time": "2021-06-10T18:40:12.404Z"
   },
   {
    "duration": 282,
    "start_time": "2021-06-10T18:40:45.549Z"
   },
   {
    "duration": 262,
    "start_time": "2021-06-10T18:41:21.112Z"
   },
   {
    "duration": 37,
    "start_time": "2021-06-10T18:46:13.095Z"
   },
   {
    "duration": 6530,
    "start_time": "2021-06-10T18:51:38.945Z"
   },
   {
    "duration": 198,
    "start_time": "2021-06-10T18:51:52.405Z"
   },
   {
    "duration": 15545,
    "start_time": "2021-06-10T18:52:11.560Z"
   },
   {
    "duration": 128,
    "start_time": "2021-06-10T18:53:43.256Z"
   },
   {
    "duration": 2824,
    "start_time": "2021-06-10T18:53:58.295Z"
   },
   {
    "duration": 301,
    "start_time": "2021-06-10T18:54:13.161Z"
   },
   {
    "duration": 282,
    "start_time": "2021-06-10T18:56:03.921Z"
   },
   {
    "duration": 272,
    "start_time": "2021-06-10T18:56:50.649Z"
   },
   {
    "duration": 266,
    "start_time": "2021-06-10T18:57:22.817Z"
   },
   {
    "duration": 43,
    "start_time": "2021-06-10T18:57:48.237Z"
   },
   {
    "duration": 12,
    "start_time": "2021-06-10T19:00:12.514Z"
   },
   {
    "duration": 9,
    "start_time": "2021-06-10T19:00:32.643Z"
   },
   {
    "duration": 14,
    "start_time": "2021-06-10T19:00:40.088Z"
   },
   {
    "duration": 40,
    "start_time": "2021-06-10T19:01:27.391Z"
   },
   {
    "duration": 27,
    "start_time": "2021-06-10T19:04:00.789Z"
   },
   {
    "duration": 54,
    "start_time": "2021-06-10T19:04:11.541Z"
   },
   {
    "duration": 37,
    "start_time": "2021-06-10T19:05:45.725Z"
   },
   {
    "duration": 298,
    "start_time": "2021-06-10T19:06:25.910Z"
   },
   {
    "duration": 331,
    "start_time": "2021-06-10T19:06:39.581Z"
   },
   {
    "duration": 39,
    "start_time": "2021-06-10T19:06:54.030Z"
   },
   {
    "duration": 261,
    "start_time": "2021-06-10T19:10:43.401Z"
   },
   {
    "duration": 39,
    "start_time": "2021-06-10T19:11:33.707Z"
   },
   {
    "duration": 36,
    "start_time": "2021-06-10T19:13:09.055Z"
   },
   {
    "duration": 37,
    "start_time": "2021-06-10T19:13:24.512Z"
   },
   {
    "duration": 38,
    "start_time": "2021-06-10T19:14:05.285Z"
   },
   {
    "duration": 36,
    "start_time": "2021-06-10T19:18:21.689Z"
   },
   {
    "duration": 36,
    "start_time": "2021-06-10T19:19:18.798Z"
   },
   {
    "duration": 35,
    "start_time": "2021-06-10T19:21:05.573Z"
   },
   {
    "duration": 34,
    "start_time": "2021-06-10T19:21:53.347Z"
   },
   {
    "duration": 41,
    "start_time": "2021-06-10T19:22:36.139Z"
   },
   {
    "duration": 38,
    "start_time": "2021-06-10T19:22:55.493Z"
   },
   {
    "duration": 48,
    "start_time": "2021-06-10T19:23:04.150Z"
   },
   {
    "duration": 48,
    "start_time": "2021-06-10T19:23:10.492Z"
   },
   {
    "duration": 57,
    "start_time": "2021-06-10T19:25:00.666Z"
   },
   {
    "duration": 57,
    "start_time": "2021-06-10T19:25:15.203Z"
   },
   {
    "duration": 42,
    "start_time": "2021-06-10T19:26:56.511Z"
   },
   {
    "duration": 41,
    "start_time": "2021-06-10T19:27:16.964Z"
   },
   {
    "duration": 43,
    "start_time": "2021-06-10T19:27:21.500Z"
   },
   {
    "duration": 41,
    "start_time": "2021-06-10T19:27:37.116Z"
   },
   {
    "duration": 314,
    "start_time": "2021-06-10T19:29:53.870Z"
   },
   {
    "duration": 44,
    "start_time": "2021-06-10T19:30:25.089Z"
   },
   {
    "duration": 46,
    "start_time": "2021-06-10T19:30:35.929Z"
   },
   {
    "duration": 56,
    "start_time": "2021-06-10T19:32:31.024Z"
   },
   {
    "duration": 36,
    "start_time": "2021-06-10T19:35:27.672Z"
   },
   {
    "duration": 420,
    "start_time": "2021-06-11T07:39:23.037Z"
   },
   {
    "duration": 896,
    "start_time": "2021-06-11T07:39:32.017Z"
   },
   {
    "duration": 15,
    "start_time": "2021-06-11T07:39:32.916Z"
   },
   {
    "duration": 30,
    "start_time": "2021-06-11T07:39:32.934Z"
   },
   {
    "duration": 15,
    "start_time": "2021-06-11T07:39:32.966Z"
   },
   {
    "duration": 91,
    "start_time": "2021-06-11T07:39:32.983Z"
   },
   {
    "duration": 2226,
    "start_time": "2021-06-11T07:39:33.076Z"
   },
   {
    "duration": 86,
    "start_time": "2021-06-11T07:39:35.305Z"
   },
   {
    "duration": 1036,
    "start_time": "2021-06-11T07:39:35.396Z"
   },
   {
    "duration": 26,
    "start_time": "2021-06-11T07:39:36.436Z"
   },
   {
    "duration": 1302,
    "start_time": "2021-06-11T07:39:36.465Z"
   },
   {
    "duration": 13,
    "start_time": "2021-06-11T07:39:37.770Z"
   },
   {
    "duration": 1075,
    "start_time": "2021-06-11T07:39:37.786Z"
   },
   {
    "duration": 11,
    "start_time": "2021-06-11T07:39:38.864Z"
   },
   {
    "duration": 604,
    "start_time": "2021-06-11T07:39:38.878Z"
   },
   {
    "duration": 11,
    "start_time": "2021-06-11T07:39:39.484Z"
   },
   {
    "duration": 950,
    "start_time": "2021-06-11T07:39:39.498Z"
   },
   {
    "duration": 20,
    "start_time": "2021-06-11T07:39:40.450Z"
   },
   {
    "duration": 892,
    "start_time": "2021-06-11T07:39:40.472Z"
   },
   {
    "duration": 11,
    "start_time": "2021-06-11T07:39:41.366Z"
   },
   {
    "duration": 550,
    "start_time": "2021-06-11T07:39:41.379Z"
   },
   {
    "duration": 13,
    "start_time": "2021-06-11T07:39:41.931Z"
   },
   {
    "duration": 756,
    "start_time": "2021-06-11T07:39:41.962Z"
   },
   {
    "duration": 81,
    "start_time": "2021-06-11T07:39:42.722Z"
   },
   {
    "duration": 10,
    "start_time": "2021-06-11T07:39:42.806Z"
   },
   {
    "duration": 12,
    "start_time": "2021-06-11T07:39:42.818Z"
   },
   {
    "duration": 31,
    "start_time": "2021-06-11T07:39:42.863Z"
   },
   {
    "duration": 70,
    "start_time": "2021-06-11T07:39:42.897Z"
   },
   {
    "duration": 4,
    "start_time": "2021-06-11T07:39:42.970Z"
   },
   {
    "duration": 5,
    "start_time": "2021-06-11T07:40:50.736Z"
   },
   {
    "duration": 10,
    "start_time": "2021-06-11T07:41:03.007Z"
   },
   {
    "duration": 8,
    "start_time": "2021-06-11T07:41:16.280Z"
   },
   {
    "duration": 444,
    "start_time": "2021-06-11T07:41:47.022Z"
   },
   {
    "duration": 29,
    "start_time": "2021-06-11T07:41:58.494Z"
   },
   {
    "duration": 989,
    "start_time": "2021-06-11T07:42:17.136Z"
   },
   {
    "duration": 15,
    "start_time": "2021-06-11T07:42:18.128Z"
   },
   {
    "duration": 18,
    "start_time": "2021-06-11T07:42:18.146Z"
   },
   {
    "duration": 17,
    "start_time": "2021-06-11T07:42:18.167Z"
   },
   {
    "duration": 98,
    "start_time": "2021-06-11T07:42:18.187Z"
   },
   {
    "duration": 2163,
    "start_time": "2021-06-11T07:42:18.289Z"
   },
   {
    "duration": 64,
    "start_time": "2021-06-11T07:42:20.462Z"
   },
   {
    "duration": 1032,
    "start_time": "2021-06-11T07:42:20.530Z"
   },
   {
    "duration": 11,
    "start_time": "2021-06-11T07:42:21.565Z"
   },
   {
    "duration": 1248,
    "start_time": "2021-06-11T07:42:21.578Z"
   },
   {
    "duration": 12,
    "start_time": "2021-06-11T07:42:22.829Z"
   },
   {
    "duration": 1040,
    "start_time": "2021-06-11T07:42:22.843Z"
   },
   {
    "duration": 11,
    "start_time": "2021-06-11T07:42:23.885Z"
   },
   {
    "duration": 575,
    "start_time": "2021-06-11T07:42:23.899Z"
   },
   {
    "duration": 12,
    "start_time": "2021-06-11T07:42:24.476Z"
   },
   {
    "duration": 931,
    "start_time": "2021-06-11T07:42:24.491Z"
   },
   {
    "duration": 11,
    "start_time": "2021-06-11T07:42:25.425Z"
   },
   {
    "duration": 882,
    "start_time": "2021-06-11T07:42:25.438Z"
   },
   {
    "duration": 10,
    "start_time": "2021-06-11T07:42:26.323Z"
   },
   {
    "duration": 558,
    "start_time": "2021-06-11T07:42:26.336Z"
   },
   {
    "duration": 12,
    "start_time": "2021-06-11T07:42:26.896Z"
   },
   {
    "duration": 752,
    "start_time": "2021-06-11T07:42:26.910Z"
   },
   {
    "duration": 70,
    "start_time": "2021-06-11T07:42:27.666Z"
   },
   {
    "duration": 32,
    "start_time": "2021-06-11T07:42:27.739Z"
   },
   {
    "duration": 17,
    "start_time": "2021-06-11T07:42:27.773Z"
   },
   {
    "duration": 37,
    "start_time": "2021-06-11T07:42:27.792Z"
   },
   {
    "duration": 66,
    "start_time": "2021-06-11T07:42:27.831Z"
   },
   {
    "duration": 87,
    "start_time": "2021-06-11T07:42:27.899Z"
   },
   {
    "duration": 30,
    "start_time": "2021-06-11T07:43:06.847Z"
   },
   {
    "duration": 29,
    "start_time": "2021-06-11T07:43:13.469Z"
   },
   {
    "duration": 124,
    "start_time": "2021-06-11T07:43:22.183Z"
   },
   {
    "duration": 15,
    "start_time": "2021-06-11T07:43:22.310Z"
   },
   {
    "duration": 6,
    "start_time": "2021-06-11T07:43:22.329Z"
   },
   {
    "duration": 35,
    "start_time": "2021-06-11T07:43:22.337Z"
   },
   {
    "duration": 61,
    "start_time": "2021-06-11T07:43:22.375Z"
   },
   {
    "duration": 2195,
    "start_time": "2021-06-11T07:43:22.438Z"
   },
   {
    "duration": 80,
    "start_time": "2021-06-11T07:43:24.636Z"
   },
   {
    "duration": 1116,
    "start_time": "2021-06-11T07:43:24.719Z"
   },
   {
    "duration": 28,
    "start_time": "2021-06-11T07:43:25.839Z"
   },
   {
    "duration": 1135,
    "start_time": "2021-06-11T07:43:25.871Z"
   },
   {
    "duration": 12,
    "start_time": "2021-06-11T07:43:27.008Z"
   },
   {
    "duration": 1060,
    "start_time": "2021-06-11T07:43:27.022Z"
   },
   {
    "duration": 13,
    "start_time": "2021-06-11T07:43:28.085Z"
   },
   {
    "duration": 655,
    "start_time": "2021-06-11T07:43:28.101Z"
   },
   {
    "duration": 11,
    "start_time": "2021-06-11T07:43:28.762Z"
   },
   {
    "duration": 842,
    "start_time": "2021-06-11T07:43:28.775Z"
   },
   {
    "duration": 10,
    "start_time": "2021-06-11T07:43:29.619Z"
   },
   {
    "duration": 896,
    "start_time": "2021-06-11T07:43:29.632Z"
   },
   {
    "duration": 11,
    "start_time": "2021-06-11T07:43:30.530Z"
   },
   {
    "duration": 687,
    "start_time": "2021-06-11T07:43:30.543Z"
   },
   {
    "duration": 12,
    "start_time": "2021-06-11T07:43:31.232Z"
   },
   {
    "duration": 1100,
    "start_time": "2021-06-11T07:43:31.246Z"
   },
   {
    "duration": 73,
    "start_time": "2021-06-11T07:43:32.348Z"
   },
   {
    "duration": 11,
    "start_time": "2021-06-11T07:43:32.423Z"
   },
   {
    "duration": 31,
    "start_time": "2021-06-11T07:43:32.436Z"
   },
   {
    "duration": 34,
    "start_time": "2021-06-11T07:43:32.469Z"
   },
   {
    "duration": 66,
    "start_time": "2021-06-11T07:43:32.507Z"
   },
   {
    "duration": 66,
    "start_time": "2021-06-11T07:43:32.575Z"
   },
   {
    "duration": 10,
    "start_time": "2021-06-11T07:43:50.151Z"
   },
   {
    "duration": 26,
    "start_time": "2021-06-11T07:44:31.495Z"
   },
   {
    "duration": 978,
    "start_time": "2021-06-11T07:44:40.274Z"
   },
   {
    "duration": 17,
    "start_time": "2021-06-11T07:44:41.256Z"
   },
   {
    "duration": 7,
    "start_time": "2021-06-11T07:44:41.277Z"
   },
   {
    "duration": 17,
    "start_time": "2021-06-11T07:44:41.287Z"
   },
   {
    "duration": 101,
    "start_time": "2021-06-11T07:44:41.307Z"
   },
   {
    "duration": 2214,
    "start_time": "2021-06-11T07:44:41.411Z"
   },
   {
    "duration": 77,
    "start_time": "2021-06-11T07:44:43.628Z"
   },
   {
    "duration": 1053,
    "start_time": "2021-06-11T07:44:43.710Z"
   },
   {
    "duration": 11,
    "start_time": "2021-06-11T07:44:44.766Z"
   },
   {
    "duration": 1275,
    "start_time": "2021-06-11T07:44:44.779Z"
   },
   {
    "duration": 15,
    "start_time": "2021-06-11T07:44:46.061Z"
   },
   {
    "duration": 1597,
    "start_time": "2021-06-11T07:44:46.079Z"
   },
   {
    "duration": 15,
    "start_time": "2021-06-11T07:44:47.679Z"
   },
   {
    "duration": 887,
    "start_time": "2021-06-11T07:44:47.697Z"
   },
   {
    "duration": 16,
    "start_time": "2021-06-11T07:44:48.587Z"
   },
   {
    "duration": 1367,
    "start_time": "2021-06-11T07:44:48.606Z"
   },
   {
    "duration": 14,
    "start_time": "2021-06-11T07:44:49.977Z"
   },
   {
    "duration": 1294,
    "start_time": "2021-06-11T07:44:49.995Z"
   },
   {
    "duration": 15,
    "start_time": "2021-06-11T07:44:51.292Z"
   },
   {
    "duration": 831,
    "start_time": "2021-06-11T07:44:51.310Z"
   },
   {
    "duration": 24,
    "start_time": "2021-06-11T07:44:52.144Z"
   },
   {
    "duration": 1117,
    "start_time": "2021-06-11T07:44:52.171Z"
   },
   {
    "duration": 110,
    "start_time": "2021-06-11T07:44:53.294Z"
   },
   {
    "duration": 16,
    "start_time": "2021-06-11T07:44:53.407Z"
   },
   {
    "duration": 38,
    "start_time": "2021-06-11T07:44:53.426Z"
   },
   {
    "duration": 45,
    "start_time": "2021-06-11T07:44:53.468Z"
   },
   {
    "duration": 85,
    "start_time": "2021-06-11T07:44:53.516Z"
   },
   {
    "duration": 121,
    "start_time": "2021-06-11T07:44:53.604Z"
   },
   {
    "duration": 16,
    "start_time": "2021-06-11T07:45:25.184Z"
   },
   {
    "duration": 14,
    "start_time": "2021-06-11T07:45:34.775Z"
   },
   {
    "duration": 14,
    "start_time": "2021-06-11T07:45:38.480Z"
   },
   {
    "duration": 913,
    "start_time": "2021-06-11T07:45:46.520Z"
   },
   {
    "duration": 26,
    "start_time": "2021-06-11T07:45:47.436Z"
   },
   {
    "duration": 8,
    "start_time": "2021-06-11T07:45:47.465Z"
   },
   {
    "duration": 30,
    "start_time": "2021-06-11T07:45:47.475Z"
   },
   {
    "duration": 93,
    "start_time": "2021-06-11T07:45:47.508Z"
   },
   {
    "duration": 2140,
    "start_time": "2021-06-11T07:45:47.603Z"
   },
   {
    "duration": 78,
    "start_time": "2021-06-11T07:45:49.745Z"
   },
   {
    "duration": 1377,
    "start_time": "2021-06-11T07:45:49.825Z"
   },
   {
    "duration": 11,
    "start_time": "2021-06-11T07:45:51.206Z"
   },
   {
    "duration": 1314,
    "start_time": "2021-06-11T07:45:51.220Z"
   },
   {
    "duration": 26,
    "start_time": "2021-06-11T07:45:52.537Z"
   },
   {
    "duration": 1063,
    "start_time": "2021-06-11T07:45:52.566Z"
   },
   {
    "duration": 10,
    "start_time": "2021-06-11T07:45:53.631Z"
   },
   {
    "duration": 597,
    "start_time": "2021-06-11T07:45:53.644Z"
   },
   {
    "duration": 20,
    "start_time": "2021-06-11T07:45:54.243Z"
   },
   {
    "duration": 984,
    "start_time": "2021-06-11T07:45:54.266Z"
   },
   {
    "duration": 17,
    "start_time": "2021-06-11T07:45:55.252Z"
   },
   {
    "duration": 899,
    "start_time": "2021-06-11T07:45:55.272Z"
   },
   {
    "duration": 10,
    "start_time": "2021-06-11T07:45:56.173Z"
   },
   {
    "duration": 570,
    "start_time": "2021-06-11T07:45:56.186Z"
   },
   {
    "duration": 15,
    "start_time": "2021-06-11T07:45:56.762Z"
   },
   {
    "duration": 1140,
    "start_time": "2021-06-11T07:45:56.781Z"
   },
   {
    "duration": 110,
    "start_time": "2021-06-11T07:45:57.924Z"
   },
   {
    "duration": 396,
    "start_time": "2021-06-11T07:45:58.037Z"
   },
   {
    "duration": 31,
    "start_time": "2021-06-11T07:45:58.436Z"
   },
   {
    "duration": 65,
    "start_time": "2021-06-11T07:45:58.470Z"
   },
   {
    "duration": 59,
    "start_time": "2021-06-11T07:45:58.542Z"
   },
   {
    "duration": 16,
    "start_time": "2021-06-11T07:45:58.604Z"
   },
   {
    "duration": 11,
    "start_time": "2021-06-11T07:50:45.108Z"
   },
   {
    "duration": 438,
    "start_time": "2021-06-11T07:51:20.708Z"
   },
   {
    "duration": 71,
    "start_time": "2021-06-11T07:51:26.085Z"
   },
   {
    "duration": 16,
    "start_time": "2021-06-11T07:54:36.313Z"
   },
   {
    "duration": 25,
    "start_time": "2021-06-11T07:54:46.994Z"
   },
   {
    "duration": 24,
    "start_time": "2021-06-11T07:55:08.546Z"
   },
   {
    "duration": 463,
    "start_time": "2021-06-11T07:59:49.331Z"
   },
   {
    "duration": 425,
    "start_time": "2021-06-11T08:00:03.874Z"
   },
   {
    "duration": 394,
    "start_time": "2021-06-11T08:00:06.290Z"
   },
   {
    "duration": 408,
    "start_time": "2021-06-11T08:00:26.761Z"
   },
   {
    "duration": 71,
    "start_time": "2021-06-11T08:00:52.795Z"
   },
   {
    "duration": 17,
    "start_time": "2021-06-11T08:01:32.571Z"
   },
   {
    "duration": 14,
    "start_time": "2021-06-11T08:03:05.961Z"
   },
   {
    "duration": 15,
    "start_time": "2021-06-11T08:03:09.385Z"
   },
   {
    "duration": 17,
    "start_time": "2021-06-11T08:05:50.224Z"
   },
   {
    "duration": 1014,
    "start_time": "2021-06-11T08:06:01.110Z"
   },
   {
    "duration": 17,
    "start_time": "2021-06-11T08:06:02.128Z"
   },
   {
    "duration": 8,
    "start_time": "2021-06-11T08:06:02.161Z"
   },
   {
    "duration": 22,
    "start_time": "2021-06-11T08:06:02.172Z"
   },
   {
    "duration": 88,
    "start_time": "2021-06-11T08:06:02.197Z"
   },
   {
    "duration": 2303,
    "start_time": "2021-06-11T08:06:02.288Z"
   },
   {
    "duration": 90,
    "start_time": "2021-06-11T08:06:04.594Z"
   },
   {
    "duration": 1062,
    "start_time": "2021-06-11T08:06:04.688Z"
   },
   {
    "duration": 18,
    "start_time": "2021-06-11T08:06:05.753Z"
   },
   {
    "duration": 1259,
    "start_time": "2021-06-11T08:06:05.773Z"
   },
   {
    "duration": 26,
    "start_time": "2021-06-11T08:06:07.035Z"
   },
   {
    "duration": 1055,
    "start_time": "2021-06-11T08:06:07.063Z"
   },
   {
    "duration": 12,
    "start_time": "2021-06-11T08:06:08.120Z"
   },
   {
    "duration": 600,
    "start_time": "2021-06-11T08:06:08.135Z"
   },
   {
    "duration": 24,
    "start_time": "2021-06-11T08:06:08.738Z"
   },
   {
    "duration": 915,
    "start_time": "2021-06-11T08:06:08.765Z"
   },
   {
    "duration": 10,
    "start_time": "2021-06-11T08:06:09.683Z"
   },
   {
    "duration": 887,
    "start_time": "2021-06-11T08:06:09.696Z"
   },
   {
    "duration": 11,
    "start_time": "2021-06-11T08:06:10.585Z"
   },
   {
    "duration": 571,
    "start_time": "2021-06-11T08:06:10.598Z"
   },
   {
    "duration": 13,
    "start_time": "2021-06-11T08:06:11.171Z"
   },
   {
    "duration": 767,
    "start_time": "2021-06-11T08:06:11.187Z"
   },
   {
    "duration": 67,
    "start_time": "2021-06-11T08:06:11.962Z"
   },
   {
    "duration": 34,
    "start_time": "2021-06-11T08:06:12.032Z"
   },
   {
    "duration": 17,
    "start_time": "2021-06-11T08:06:12.069Z"
   },
   {
    "duration": 36,
    "start_time": "2021-06-11T08:06:12.088Z"
   },
   {
    "duration": 64,
    "start_time": "2021-06-11T08:06:12.126Z"
   },
   {
    "duration": 16,
    "start_time": "2021-06-11T08:06:12.192Z"
   },
   {
    "duration": 73,
    "start_time": "2021-06-11T08:07:08.383Z"
   },
   {
    "duration": 23,
    "start_time": "2021-06-11T08:08:06.279Z"
   },
   {
    "duration": 24,
    "start_time": "2021-06-11T08:56:21.274Z"
   },
   {
    "duration": 21,
    "start_time": "2021-06-11T08:58:11.952Z"
   },
   {
    "duration": 34,
    "start_time": "2021-06-11T08:58:20.984Z"
   },
   {
    "duration": 119,
    "start_time": "2021-06-11T08:58:24.576Z"
   },
   {
    "duration": 888,
    "start_time": "2021-06-11T08:58:51.958Z"
   },
   {
    "duration": 26,
    "start_time": "2021-06-11T08:58:52.849Z"
   },
   {
    "duration": 6,
    "start_time": "2021-06-11T08:58:52.878Z"
   },
   {
    "duration": 17,
    "start_time": "2021-06-11T08:58:52.887Z"
   },
   {
    "duration": 92,
    "start_time": "2021-06-11T08:58:52.906Z"
   },
   {
    "duration": 2220,
    "start_time": "2021-06-11T08:58:53.000Z"
   },
   {
    "duration": 110,
    "start_time": "2021-06-11T08:58:55.223Z"
   },
   {
    "duration": 1731,
    "start_time": "2021-06-11T08:58:55.339Z"
   },
   {
    "duration": 15,
    "start_time": "2021-06-11T08:58:57.074Z"
   },
   {
    "duration": 1934,
    "start_time": "2021-06-11T08:58:57.092Z"
   },
   {
    "duration": 13,
    "start_time": "2021-06-11T08:58:59.029Z"
   },
   {
    "duration": 1036,
    "start_time": "2021-06-11T08:58:59.061Z"
   },
   {
    "duration": 12,
    "start_time": "2021-06-11T08:59:00.099Z"
   },
   {
    "duration": 602,
    "start_time": "2021-06-11T08:59:00.114Z"
   },
   {
    "duration": 12,
    "start_time": "2021-06-11T08:59:00.719Z"
   },
   {
    "duration": 931,
    "start_time": "2021-06-11T08:59:00.733Z"
   },
   {
    "duration": 11,
    "start_time": "2021-06-11T08:59:01.667Z"
   },
   {
    "duration": 867,
    "start_time": "2021-06-11T08:59:01.681Z"
   },
   {
    "duration": 20,
    "start_time": "2021-06-11T08:59:02.551Z"
   },
   {
    "duration": 544,
    "start_time": "2021-06-11T08:59:02.574Z"
   },
   {
    "duration": 12,
    "start_time": "2021-06-11T08:59:03.121Z"
   },
   {
    "duration": 755,
    "start_time": "2021-06-11T08:59:03.135Z"
   },
   {
    "duration": 80,
    "start_time": "2021-06-11T08:59:03.894Z"
   },
   {
    "duration": 10,
    "start_time": "2021-06-11T08:59:03.977Z"
   },
   {
    "duration": 17,
    "start_time": "2021-06-11T08:59:03.990Z"
   },
   {
    "duration": 64,
    "start_time": "2021-06-11T08:59:04.009Z"
   },
   {
    "duration": 36,
    "start_time": "2021-06-11T08:59:04.076Z"
   },
   {
    "duration": 110,
    "start_time": "2021-06-11T08:59:04.114Z"
   },
   {
    "duration": 72,
    "start_time": "2021-06-11T09:01:10.897Z"
   },
   {
    "duration": 26,
    "start_time": "2021-06-11T09:01:15.712Z"
   },
   {
    "duration": 15,
    "start_time": "2021-06-11T09:04:06.856Z"
   },
   {
    "duration": 67,
    "start_time": "2021-06-11T09:04:18.208Z"
   },
   {
    "duration": 20,
    "start_time": "2021-06-11T09:06:44.959Z"
   },
   {
    "duration": 921,
    "start_time": "2021-06-11T09:06:59.765Z"
   },
   {
    "duration": 17,
    "start_time": "2021-06-11T09:07:00.689Z"
   },
   {
    "duration": 12,
    "start_time": "2021-06-11T09:07:00.710Z"
   },
   {
    "duration": 38,
    "start_time": "2021-06-11T09:07:00.726Z"
   },
   {
    "duration": 71,
    "start_time": "2021-06-11T09:07:00.767Z"
   },
   {
    "duration": 2136,
    "start_time": "2021-06-11T09:07:00.840Z"
   },
   {
    "duration": 85,
    "start_time": "2021-06-11T09:07:02.978Z"
   },
   {
    "duration": 1013,
    "start_time": "2021-06-11T09:07:03.066Z"
   },
   {
    "duration": 11,
    "start_time": "2021-06-11T09:07:04.083Z"
   },
   {
    "duration": 1226,
    "start_time": "2021-06-11T09:07:04.097Z"
   },
   {
    "duration": 12,
    "start_time": "2021-06-11T09:07:05.325Z"
   },
   {
    "duration": 1575,
    "start_time": "2021-06-11T09:07:05.340Z"
   },
   {
    "duration": 14,
    "start_time": "2021-06-11T09:07:06.918Z"
   },
   {
    "duration": 859,
    "start_time": "2021-06-11T09:07:06.935Z"
   },
   {
    "duration": 16,
    "start_time": "2021-06-11T09:07:07.797Z"
   },
   {
    "duration": 1381,
    "start_time": "2021-06-11T09:07:07.816Z"
   },
   {
    "duration": 15,
    "start_time": "2021-06-11T09:07:09.200Z"
   },
   {
    "duration": 1301,
    "start_time": "2021-06-11T09:07:09.217Z"
   },
   {
    "duration": 14,
    "start_time": "2021-06-11T09:07:10.521Z"
   },
   {
    "duration": 824,
    "start_time": "2021-06-11T09:07:10.538Z"
   },
   {
    "duration": 16,
    "start_time": "2021-06-11T09:07:11.365Z"
   },
   {
    "duration": 1112,
    "start_time": "2021-06-11T09:07:11.384Z"
   },
   {
    "duration": 109,
    "start_time": "2021-06-11T09:07:12.499Z"
   },
   {
    "duration": 14,
    "start_time": "2021-06-11T09:07:12.612Z"
   },
   {
    "duration": 42,
    "start_time": "2021-06-11T09:07:12.629Z"
   },
   {
    "duration": 43,
    "start_time": "2021-06-11T09:07:12.675Z"
   },
   {
    "duration": 76,
    "start_time": "2021-06-11T09:07:12.725Z"
   },
   {
    "duration": 28,
    "start_time": "2021-06-11T09:07:12.804Z"
   },
   {
    "duration": 784,
    "start_time": "2021-06-11T09:24:16.191Z"
   },
   {
    "duration": 40,
    "start_time": "2021-06-11T09:24:24.037Z"
   },
   {
    "duration": 852,
    "start_time": "2021-06-11T09:24:32.014Z"
   },
   {
    "duration": 17,
    "start_time": "2021-06-11T09:24:32.868Z"
   },
   {
    "duration": 8,
    "start_time": "2021-06-11T09:24:32.887Z"
   },
   {
    "duration": 15,
    "start_time": "2021-06-11T09:24:32.898Z"
   },
   {
    "duration": 96,
    "start_time": "2021-06-11T09:24:32.915Z"
   },
   {
    "duration": 2317,
    "start_time": "2021-06-11T09:24:33.013Z"
   },
   {
    "duration": 78,
    "start_time": "2021-06-11T09:24:35.333Z"
   },
   {
    "duration": 1044,
    "start_time": "2021-06-11T09:24:35.414Z"
   },
   {
    "duration": 11,
    "start_time": "2021-06-11T09:24:36.463Z"
   },
   {
    "duration": 1317,
    "start_time": "2021-06-11T09:24:36.476Z"
   },
   {
    "duration": 13,
    "start_time": "2021-06-11T09:24:37.795Z"
   },
   {
    "duration": 1103,
    "start_time": "2021-06-11T09:24:37.811Z"
   },
   {
    "duration": 11,
    "start_time": "2021-06-11T09:24:38.917Z"
   },
   {
    "duration": 600,
    "start_time": "2021-06-11T09:24:38.931Z"
   },
   {
    "duration": 29,
    "start_time": "2021-06-11T09:24:39.534Z"
   },
   {
    "duration": 960,
    "start_time": "2021-06-11T09:24:39.566Z"
   },
   {
    "duration": 13,
    "start_time": "2021-06-11T09:24:40.529Z"
   },
   {
    "duration": 904,
    "start_time": "2021-06-11T09:24:40.563Z"
   },
   {
    "duration": 11,
    "start_time": "2021-06-11T09:24:41.470Z"
   },
   {
    "duration": 569,
    "start_time": "2021-06-11T09:24:41.483Z"
   },
   {
    "duration": 17,
    "start_time": "2021-06-11T09:24:42.055Z"
   },
   {
    "duration": 777,
    "start_time": "2021-06-11T09:24:42.075Z"
   },
   {
    "duration": 67,
    "start_time": "2021-06-11T09:24:42.863Z"
   },
   {
    "duration": 31,
    "start_time": "2021-06-11T09:24:42.932Z"
   },
   {
    "duration": 11,
    "start_time": "2021-06-11T09:24:42.966Z"
   },
   {
    "duration": 41,
    "start_time": "2021-06-11T09:24:42.979Z"
   },
   {
    "duration": 70,
    "start_time": "2021-06-11T09:24:43.023Z"
   },
   {
    "duration": 66,
    "start_time": "2021-06-11T09:24:43.096Z"
   },
   {
    "duration": 442,
    "start_time": "2021-06-11T09:26:04.093Z"
   },
   {
    "duration": 29,
    "start_time": "2021-06-11T09:26:29.885Z"
   },
   {
    "duration": 858,
    "start_time": "2021-06-11T09:26:42.997Z"
   },
   {
    "duration": 17,
    "start_time": "2021-06-11T09:26:43.858Z"
   },
   {
    "duration": 5,
    "start_time": "2021-06-11T09:26:43.878Z"
   },
   {
    "duration": 16,
    "start_time": "2021-06-11T09:26:43.886Z"
   },
   {
    "duration": 106,
    "start_time": "2021-06-11T09:26:43.904Z"
   },
   {
    "duration": 2137,
    "start_time": "2021-06-11T09:26:44.012Z"
   },
   {
    "duration": 83,
    "start_time": "2021-06-11T09:26:46.151Z"
   },
   {
    "duration": 1002,
    "start_time": "2021-06-11T09:26:46.238Z"
   },
   {
    "duration": 23,
    "start_time": "2021-06-11T09:26:47.243Z"
   },
   {
    "duration": 1271,
    "start_time": "2021-06-11T09:26:47.269Z"
   },
   {
    "duration": 24,
    "start_time": "2021-06-11T09:26:48.543Z"
   },
   {
    "duration": 1585,
    "start_time": "2021-06-11T09:26:48.570Z"
   },
   {
    "duration": 15,
    "start_time": "2021-06-11T09:26:50.158Z"
   },
   {
    "duration": 871,
    "start_time": "2021-06-11T09:26:50.176Z"
   },
   {
    "duration": 24,
    "start_time": "2021-06-11T09:26:51.051Z"
   },
   {
    "duration": 1365,
    "start_time": "2021-06-11T09:26:51.078Z"
   },
   {
    "duration": 27,
    "start_time": "2021-06-11T09:26:52.446Z"
   },
   {
    "duration": 1309,
    "start_time": "2021-06-11T09:26:52.476Z"
   },
   {
    "duration": 15,
    "start_time": "2021-06-11T09:26:53.788Z"
   },
   {
    "duration": 818,
    "start_time": "2021-06-11T09:26:53.806Z"
   },
   {
    "duration": 16,
    "start_time": "2021-06-11T09:26:54.628Z"
   },
   {
    "duration": 1121,
    "start_time": "2021-06-11T09:26:54.663Z"
   },
   {
    "duration": 108,
    "start_time": "2021-06-11T09:26:55.790Z"
   },
   {
    "duration": 10,
    "start_time": "2021-06-11T09:26:55.901Z"
   },
   {
    "duration": 16,
    "start_time": "2021-06-11T09:26:55.914Z"
   },
   {
    "duration": 60,
    "start_time": "2021-06-11T09:26:55.932Z"
   },
   {
    "duration": 38,
    "start_time": "2021-06-11T09:26:55.994Z"
   },
   {
    "duration": 57,
    "start_time": "2021-06-11T09:26:56.035Z"
   },
   {
    "duration": 31,
    "start_time": "2021-06-11T09:28:56.850Z"
   },
   {
    "duration": 29,
    "start_time": "2021-06-11T09:29:58.283Z"
   },
   {
    "duration": 37,
    "start_time": "2021-06-11T09:30:05.298Z"
   },
   {
    "duration": 40,
    "start_time": "2021-06-11T09:30:09.397Z"
   },
   {
    "duration": 30,
    "start_time": "2021-06-11T09:30:12.441Z"
   },
   {
    "duration": 131,
    "start_time": "2021-06-11T09:30:27.830Z"
   },
   {
    "duration": 15,
    "start_time": "2021-06-11T09:30:27.963Z"
   },
   {
    "duration": 13,
    "start_time": "2021-06-11T09:30:27.981Z"
   },
   {
    "duration": 14,
    "start_time": "2021-06-11T09:30:27.996Z"
   },
   {
    "duration": 85,
    "start_time": "2021-06-11T09:30:28.145Z"
   },
   {
    "duration": 2945,
    "start_time": "2021-06-11T09:30:28.473Z"
   },
   {
    "duration": 85,
    "start_time": "2021-06-11T09:30:31.420Z"
   },
   {
    "duration": 1081,
    "start_time": "2021-06-11T09:30:31.508Z"
   },
   {
    "duration": 11,
    "start_time": "2021-06-11T09:30:32.592Z"
   },
   {
    "duration": 1134,
    "start_time": "2021-06-11T09:30:32.605Z"
   },
   {
    "duration": 24,
    "start_time": "2021-06-11T09:30:33.741Z"
   },
   {
    "duration": 1066,
    "start_time": "2021-06-11T09:30:33.767Z"
   },
   {
    "duration": 11,
    "start_time": "2021-06-11T09:30:34.837Z"
   },
   {
    "duration": 651,
    "start_time": "2021-06-11T09:30:34.861Z"
   },
   {
    "duration": 12,
    "start_time": "2021-06-11T09:30:35.514Z"
   },
   {
    "duration": 860,
    "start_time": "2021-06-11T09:30:35.528Z"
   },
   {
    "duration": 12,
    "start_time": "2021-06-11T09:30:36.390Z"
   },
   {
    "duration": 883,
    "start_time": "2021-06-11T09:30:36.404Z"
   },
   {
    "duration": 10,
    "start_time": "2021-06-11T09:30:37.289Z"
   },
   {
    "duration": 554,
    "start_time": "2021-06-11T09:30:37.301Z"
   },
   {
    "duration": 12,
    "start_time": "2021-06-11T09:30:37.862Z"
   },
   {
    "duration": 840,
    "start_time": "2021-06-11T09:30:37.876Z"
   },
   {
    "duration": 78,
    "start_time": "2021-06-11T09:30:38.718Z"
   },
   {
    "duration": 11,
    "start_time": "2021-06-11T09:30:38.798Z"
   },
   {
    "duration": 20,
    "start_time": "2021-06-11T09:30:38.811Z"
   },
   {
    "duration": 56,
    "start_time": "2021-06-11T09:30:38.833Z"
   },
   {
    "duration": 28,
    "start_time": "2021-06-11T09:30:45.553Z"
   },
   {
    "duration": 30,
    "start_time": "2021-06-11T09:33:46.504Z"
   },
   {
    "duration": 123,
    "start_time": "2021-06-11T09:33:53.397Z"
   },
   {
    "duration": 16,
    "start_time": "2021-06-11T09:33:53.523Z"
   },
   {
    "duration": 5,
    "start_time": "2021-06-11T09:33:53.563Z"
   },
   {
    "duration": 20,
    "start_time": "2021-06-11T09:33:53.571Z"
   },
   {
    "duration": 87,
    "start_time": "2021-06-11T09:33:53.593Z"
   },
   {
    "duration": 2105,
    "start_time": "2021-06-11T09:33:53.683Z"
   },
   {
    "duration": 78,
    "start_time": "2021-06-11T09:33:55.790Z"
   },
   {
    "duration": 1701,
    "start_time": "2021-06-11T09:33:55.871Z"
   },
   {
    "duration": 15,
    "start_time": "2021-06-11T09:33:57.578Z"
   },
   {
    "duration": 1727,
    "start_time": "2021-06-11T09:33:57.598Z"
   },
   {
    "duration": 16,
    "start_time": "2021-06-11T09:33:59.328Z"
   },
   {
    "duration": 1688,
    "start_time": "2021-06-11T09:33:59.363Z"
   },
   {
    "duration": 16,
    "start_time": "2021-06-11T09:34:01.054Z"
   },
   {
    "duration": 605,
    "start_time": "2021-06-11T09:34:01.072Z"
   },
   {
    "duration": 12,
    "start_time": "2021-06-11T09:34:01.679Z"
   },
   {
    "duration": 875,
    "start_time": "2021-06-11T09:34:01.694Z"
   },
   {
    "duration": 14,
    "start_time": "2021-06-11T09:34:02.572Z"
   },
   {
    "duration": 900,
    "start_time": "2021-06-11T09:34:02.589Z"
   },
   {
    "duration": 11,
    "start_time": "2021-06-11T09:34:03.491Z"
   },
   {
    "duration": 559,
    "start_time": "2021-06-11T09:34:03.505Z"
   },
   {
    "duration": 12,
    "start_time": "2021-06-11T09:34:04.066Z"
   },
   {
    "duration": 855,
    "start_time": "2021-06-11T09:34:04.081Z"
   },
   {
    "duration": 74,
    "start_time": "2021-06-11T09:34:04.939Z"
   },
   {
    "duration": 12,
    "start_time": "2021-06-11T09:34:05.016Z"
   },
   {
    "duration": 40,
    "start_time": "2021-06-11T09:34:05.031Z"
   },
   {
    "duration": 31,
    "start_time": "2021-06-11T09:34:05.074Z"
   },
   {
    "duration": 70,
    "start_time": "2021-06-11T09:34:05.109Z"
   },
   {
    "duration": 32,
    "start_time": "2021-06-11T09:34:05.181Z"
   },
   {
    "duration": 27,
    "start_time": "2021-06-11T09:34:53.904Z"
   },
   {
    "duration": 136,
    "start_time": "2021-06-11T09:34:56.901Z"
   },
   {
    "duration": 14,
    "start_time": "2021-06-11T09:34:57.040Z"
   },
   {
    "duration": 17,
    "start_time": "2021-06-11T09:34:57.062Z"
   },
   {
    "duration": 33,
    "start_time": "2021-06-11T09:34:57.083Z"
   },
   {
    "duration": 75,
    "start_time": "2021-06-11T09:34:57.120Z"
   },
   {
    "duration": 2276,
    "start_time": "2021-06-11T09:34:57.198Z"
   },
   {
    "duration": 63,
    "start_time": "2021-06-11T09:34:59.477Z"
   },
   {
    "duration": 1022,
    "start_time": "2021-06-11T09:34:59.542Z"
   },
   {
    "duration": 12,
    "start_time": "2021-06-11T09:35:00.568Z"
   },
   {
    "duration": 1144,
    "start_time": "2021-06-11T09:35:00.583Z"
   },
   {
    "duration": 12,
    "start_time": "2021-06-11T09:35:01.730Z"
   },
   {
    "duration": 1132,
    "start_time": "2021-06-11T09:35:01.744Z"
   },
   {
    "duration": 11,
    "start_time": "2021-06-11T09:35:02.878Z"
   },
   {
    "duration": 880,
    "start_time": "2021-06-11T09:35:02.892Z"
   },
   {
    "duration": 16,
    "start_time": "2021-06-11T09:35:03.775Z"
   },
   {
    "duration": 857,
    "start_time": "2021-06-11T09:35:03.793Z"
   },
   {
    "duration": 16,
    "start_time": "2021-06-11T09:35:04.653Z"
   },
   {
    "duration": 887,
    "start_time": "2021-06-11T09:35:04.671Z"
   },
   {
    "duration": 11,
    "start_time": "2021-06-11T09:35:05.562Z"
   },
   {
    "duration": 636,
    "start_time": "2021-06-11T09:35:05.575Z"
   },
   {
    "duration": 13,
    "start_time": "2021-06-11T09:35:06.214Z"
   },
   {
    "duration": 774,
    "start_time": "2021-06-11T09:35:06.229Z"
   },
   {
    "duration": 80,
    "start_time": "2021-06-11T09:35:07.006Z"
   },
   {
    "duration": 11,
    "start_time": "2021-06-11T09:35:07.088Z"
   },
   {
    "duration": 16,
    "start_time": "2021-06-11T09:35:07.102Z"
   },
   {
    "duration": 58,
    "start_time": "2021-06-11T09:35:07.121Z"
   },
   {
    "duration": 40,
    "start_time": "2021-06-11T09:35:07.183Z"
   },
   {
    "duration": 59,
    "start_time": "2021-06-11T09:35:07.225Z"
   },
   {
    "duration": 29,
    "start_time": "2021-06-11T09:37:26.719Z"
   },
   {
    "duration": 183,
    "start_time": "2021-06-11T09:37:33.203Z"
   },
   {
    "duration": 25,
    "start_time": "2021-06-11T09:37:33.390Z"
   },
   {
    "duration": 8,
    "start_time": "2021-06-11T09:37:33.418Z"
   },
   {
    "duration": 47,
    "start_time": "2021-06-11T09:37:33.428Z"
   },
   {
    "duration": 84,
    "start_time": "2021-06-11T09:37:33.478Z"
   },
   {
    "duration": 2197,
    "start_time": "2021-06-11T09:37:33.565Z"
   },
   {
    "duration": 67,
    "start_time": "2021-06-11T09:37:35.765Z"
   },
   {
    "duration": 1056,
    "start_time": "2021-06-11T09:37:35.834Z"
   },
   {
    "duration": 12,
    "start_time": "2021-06-11T09:37:36.892Z"
   },
   {
    "duration": 1182,
    "start_time": "2021-06-11T09:37:36.907Z"
   },
   {
    "duration": 16,
    "start_time": "2021-06-11T09:37:38.093Z"
   },
   {
    "duration": 1823,
    "start_time": "2021-06-11T09:37:38.113Z"
   },
   {
    "duration": 28,
    "start_time": "2021-06-11T09:37:39.939Z"
   },
   {
    "duration": 587,
    "start_time": "2021-06-11T09:37:39.969Z"
   },
   {
    "duration": 12,
    "start_time": "2021-06-11T09:37:40.561Z"
   },
   {
    "duration": 862,
    "start_time": "2021-06-11T09:37:40.576Z"
   },
   {
    "duration": 27,
    "start_time": "2021-06-11T09:37:41.440Z"
   },
   {
    "duration": 964,
    "start_time": "2021-06-11T09:37:41.470Z"
   },
   {
    "duration": 28,
    "start_time": "2021-06-11T09:37:42.436Z"
   },
   {
    "duration": 580,
    "start_time": "2021-06-11T09:37:42.467Z"
   },
   {
    "duration": 16,
    "start_time": "2021-06-11T09:37:43.062Z"
   },
   {
    "duration": 1148,
    "start_time": "2021-06-11T09:37:43.081Z"
   },
   {
    "duration": 110,
    "start_time": "2021-06-11T09:37:44.232Z"
   },
   {
    "duration": 23,
    "start_time": "2021-06-11T09:37:44.345Z"
   },
   {
    "duration": 23,
    "start_time": "2021-06-11T09:37:44.372Z"
   },
   {
    "duration": 67,
    "start_time": "2021-06-11T09:37:44.398Z"
   },
   {
    "duration": 57,
    "start_time": "2021-06-11T09:37:44.468Z"
   },
   {
    "duration": 31,
    "start_time": "2021-06-11T09:37:50.864Z"
   },
   {
    "duration": 526,
    "start_time": "2021-06-11T09:39:53.798Z"
   },
   {
    "duration": 524,
    "start_time": "2021-06-11T09:40:40.558Z"
   },
   {
    "duration": 120,
    "start_time": "2021-06-11T09:41:12.227Z"
   },
   {
    "duration": 24,
    "start_time": "2021-06-11T09:41:12.350Z"
   },
   {
    "duration": 5,
    "start_time": "2021-06-11T09:41:12.377Z"
   },
   {
    "duration": 14,
    "start_time": "2021-06-11T09:41:12.385Z"
   },
   {
    "duration": 99,
    "start_time": "2021-06-11T09:41:12.402Z"
   },
   {
    "duration": 2139,
    "start_time": "2021-06-11T09:41:12.503Z"
   },
   {
    "duration": 79,
    "start_time": "2021-06-11T09:41:14.644Z"
   },
   {
    "duration": 1826,
    "start_time": "2021-06-11T09:41:14.726Z"
   },
   {
    "duration": 15,
    "start_time": "2021-06-11T09:41:16.562Z"
   },
   {
    "duration": 1634,
    "start_time": "2021-06-11T09:41:16.581Z"
   },
   {
    "duration": 12,
    "start_time": "2021-06-11T09:41:18.218Z"
   },
   {
    "duration": 1228,
    "start_time": "2021-06-11T09:41:18.233Z"
   },
   {
    "duration": 10,
    "start_time": "2021-06-11T09:41:19.464Z"
   },
   {
    "duration": 673,
    "start_time": "2021-06-11T09:41:19.477Z"
   },
   {
    "duration": 19,
    "start_time": "2021-06-11T09:41:20.153Z"
   },
   {
    "duration": 860,
    "start_time": "2021-06-11T09:41:20.175Z"
   },
   {
    "duration": 12,
    "start_time": "2021-06-11T09:41:21.038Z"
   },
   {
    "duration": 875,
    "start_time": "2021-06-11T09:41:21.063Z"
   },
   {
    "duration": 23,
    "start_time": "2021-06-11T09:41:21.941Z"
   },
   {
    "duration": 562,
    "start_time": "2021-06-11T09:41:21.967Z"
   },
   {
    "duration": 31,
    "start_time": "2021-06-11T09:41:22.532Z"
   },
   {
    "duration": 861,
    "start_time": "2021-06-11T09:41:22.566Z"
   },
   {
    "duration": 76,
    "start_time": "2021-06-11T09:41:23.430Z"
   },
   {
    "duration": 11,
    "start_time": "2021-06-11T09:41:23.509Z"
   },
   {
    "duration": 39,
    "start_time": "2021-06-11T09:41:23.522Z"
   },
   {
    "duration": 32,
    "start_time": "2021-06-11T09:41:23.563Z"
   },
   {
    "duration": 79,
    "start_time": "2021-06-11T09:41:23.602Z"
   },
   {
    "duration": 40,
    "start_time": "2021-06-11T09:41:23.685Z"
   },
   {
    "duration": 848,
    "start_time": "2021-06-11T09:41:23.729Z"
   },
   {
    "duration": 40,
    "start_time": "2021-06-11T09:42:47.558Z"
   },
   {
    "duration": 114,
    "start_time": "2021-06-11T09:42:50.474Z"
   },
   {
    "duration": 15,
    "start_time": "2021-06-11T09:42:50.591Z"
   },
   {
    "duration": 5,
    "start_time": "2021-06-11T09:42:50.609Z"
   },
   {
    "duration": 47,
    "start_time": "2021-06-11T09:42:50.617Z"
   },
   {
    "duration": 69,
    "start_time": "2021-06-11T09:42:50.666Z"
   },
   {
    "duration": 2224,
    "start_time": "2021-06-11T09:42:50.737Z"
   },
   {
    "duration": 66,
    "start_time": "2021-06-11T09:42:52.964Z"
   },
   {
    "duration": 1231,
    "start_time": "2021-06-11T09:42:53.033Z"
   },
   {
    "duration": 12,
    "start_time": "2021-06-11T09:42:54.268Z"
   },
   {
    "duration": 1124,
    "start_time": "2021-06-11T09:42:54.283Z"
   },
   {
    "duration": 12,
    "start_time": "2021-06-11T09:42:55.409Z"
   },
   {
    "duration": 1135,
    "start_time": "2021-06-11T09:42:55.423Z"
   },
   {
    "duration": 12,
    "start_time": "2021-06-11T09:42:56.561Z"
   },
   {
    "duration": 595,
    "start_time": "2021-06-11T09:42:56.576Z"
   },
   {
    "duration": 11,
    "start_time": "2021-06-11T09:42:57.174Z"
   },
   {
    "duration": 915,
    "start_time": "2021-06-11T09:42:57.187Z"
   },
   {
    "duration": 16,
    "start_time": "2021-06-11T09:42:58.104Z"
   },
   {
    "duration": 899,
    "start_time": "2021-06-11T09:42:58.122Z"
   },
   {
    "duration": 10,
    "start_time": "2021-06-11T09:42:59.023Z"
   },
   {
    "duration": 664,
    "start_time": "2021-06-11T09:42:59.035Z"
   },
   {
    "duration": 11,
    "start_time": "2021-06-11T09:42:59.702Z"
   },
   {
    "duration": 779,
    "start_time": "2021-06-11T09:42:59.715Z"
   },
   {
    "duration": 81,
    "start_time": "2021-06-11T09:43:00.496Z"
   },
   {
    "duration": 11,
    "start_time": "2021-06-11T09:43:00.579Z"
   },
   {
    "duration": 23,
    "start_time": "2021-06-11T09:43:00.592Z"
   },
   {
    "duration": 54,
    "start_time": "2021-06-11T09:43:00.618Z"
   },
   {
    "duration": 37,
    "start_time": "2021-06-11T09:43:00.677Z"
   },
   {
    "duration": 57,
    "start_time": "2021-06-11T09:43:00.717Z"
   },
   {
    "duration": 537,
    "start_time": "2021-06-11T09:43:00.777Z"
   },
   {
    "duration": 39,
    "start_time": "2021-06-11T09:44:13.333Z"
   },
   {
    "duration": 29,
    "start_time": "2021-06-11T09:45:22.660Z"
   },
   {
    "duration": 118,
    "start_time": "2021-06-11T09:45:26.567Z"
   },
   {
    "duration": 16,
    "start_time": "2021-06-11T09:45:26.688Z"
   },
   {
    "duration": 6,
    "start_time": "2021-06-11T09:45:26.708Z"
   },
   {
    "duration": 56,
    "start_time": "2021-06-11T09:45:26.717Z"
   },
   {
    "duration": 60,
    "start_time": "2021-06-11T09:45:26.775Z"
   },
   {
    "duration": 3768,
    "start_time": "2021-06-11T09:45:26.905Z"
   },
   {
    "duration": 112,
    "start_time": "2021-06-11T09:45:30.677Z"
   },
   {
    "duration": 1744,
    "start_time": "2021-06-11T09:45:30.794Z"
   },
   {
    "duration": 26,
    "start_time": "2021-06-11T09:45:32.542Z"
   },
   {
    "duration": 1872,
    "start_time": "2021-06-11T09:45:32.572Z"
   },
   {
    "duration": 24,
    "start_time": "2021-06-11T09:45:34.447Z"
   },
   {
    "duration": 1617,
    "start_time": "2021-06-11T09:45:34.474Z"
   },
   {
    "duration": 14,
    "start_time": "2021-06-11T09:45:36.094Z"
   },
   {
    "duration": 580,
    "start_time": "2021-06-11T09:45:36.113Z"
   },
   {
    "duration": 12,
    "start_time": "2021-06-11T09:45:36.696Z"
   },
   {
    "duration": 878,
    "start_time": "2021-06-11T09:45:36.712Z"
   },
   {
    "duration": 11,
    "start_time": "2021-06-11T09:45:37.592Z"
   },
   {
    "duration": 965,
    "start_time": "2021-06-11T09:45:37.606Z"
   },
   {
    "duration": 11,
    "start_time": "2021-06-11T09:45:38.574Z"
   },
   {
    "duration": 836,
    "start_time": "2021-06-11T09:45:38.588Z"
   },
   {
    "duration": 16,
    "start_time": "2021-06-11T09:45:39.428Z"
   },
   {
    "duration": 768,
    "start_time": "2021-06-11T09:45:39.463Z"
   },
   {
    "duration": 76,
    "start_time": "2021-06-11T09:45:40.233Z"
   },
   {
    "duration": 11,
    "start_time": "2021-06-11T09:45:40.312Z"
   },
   {
    "duration": 37,
    "start_time": "2021-06-11T09:45:40.326Z"
   },
   {
    "duration": 33,
    "start_time": "2021-06-11T09:45:40.366Z"
   },
   {
    "duration": 61,
    "start_time": "2021-06-11T09:45:40.401Z"
   },
   {
    "duration": 29,
    "start_time": "2021-06-11T09:45:40.464Z"
   },
   {
    "duration": 561,
    "start_time": "2021-06-11T09:45:40.495Z"
   },
   {
    "duration": 117,
    "start_time": "2021-06-11T09:46:19.569Z"
   },
   {
    "duration": 15,
    "start_time": "2021-06-11T09:46:19.689Z"
   },
   {
    "duration": 5,
    "start_time": "2021-06-11T09:46:19.707Z"
   },
   {
    "duration": 51,
    "start_time": "2021-06-11T09:46:19.715Z"
   },
   {
    "duration": 58,
    "start_time": "2021-06-11T09:46:19.768Z"
   },
   {
    "duration": 2160,
    "start_time": "2021-06-11T09:46:19.829Z"
   },
   {
    "duration": 87,
    "start_time": "2021-06-11T09:46:21.991Z"
   },
   {
    "duration": 1087,
    "start_time": "2021-06-11T09:46:22.082Z"
   },
   {
    "duration": 13,
    "start_time": "2021-06-11T09:46:23.173Z"
   },
   {
    "duration": 1142,
    "start_time": "2021-06-11T09:46:23.188Z"
   },
   {
    "duration": 12,
    "start_time": "2021-06-11T09:46:24.333Z"
   },
   {
    "duration": 1067,
    "start_time": "2021-06-11T09:46:24.347Z"
   },
   {
    "duration": 11,
    "start_time": "2021-06-11T09:46:25.417Z"
   },
   {
    "duration": 685,
    "start_time": "2021-06-11T09:46:25.431Z"
   },
   {
    "duration": 11,
    "start_time": "2021-06-11T09:46:26.119Z"
   },
   {
    "duration": 895,
    "start_time": "2021-06-11T09:46:26.133Z"
   },
   {
    "duration": 11,
    "start_time": "2021-06-11T09:46:27.030Z"
   },
   {
    "duration": 915,
    "start_time": "2021-06-11T09:46:27.043Z"
   },
   {
    "duration": 11,
    "start_time": "2021-06-11T09:46:27.961Z"
   },
   {
    "duration": 588,
    "start_time": "2021-06-11T09:46:27.975Z"
   },
   {
    "duration": 11,
    "start_time": "2021-06-11T09:46:28.566Z"
   },
   {
    "duration": 849,
    "start_time": "2021-06-11T09:46:28.580Z"
   },
   {
    "duration": 74,
    "start_time": "2021-06-11T09:46:29.433Z"
   },
   {
    "duration": 12,
    "start_time": "2021-06-11T09:46:29.511Z"
   },
   {
    "duration": 41,
    "start_time": "2021-06-11T09:46:29.525Z"
   },
   {
    "duration": 32,
    "start_time": "2021-06-11T09:46:29.569Z"
   },
   {
    "duration": 71,
    "start_time": "2021-06-11T09:46:29.604Z"
   },
   {
    "duration": 27,
    "start_time": "2021-06-11T09:46:29.678Z"
   },
   {
    "duration": 549,
    "start_time": "2021-06-11T09:46:29.707Z"
   },
   {
    "duration": 323,
    "start_time": "2021-06-11T09:47:33.804Z"
   },
   {
    "duration": 239,
    "start_time": "2021-06-11T09:47:59.370Z"
   },
   {
    "duration": 129,
    "start_time": "2021-06-11T09:49:08.051Z"
   },
   {
    "duration": 7,
    "start_time": "2021-06-11T09:49:20.419Z"
   },
   {
    "duration": 534,
    "start_time": "2021-06-11T09:49:25.915Z"
   },
   {
    "duration": 645,
    "start_time": "2021-06-11T09:50:27.443Z"
   },
   {
    "duration": 30,
    "start_time": "2021-06-11T09:52:21.203Z"
   },
   {
    "duration": 117,
    "start_time": "2021-06-11T09:52:25.836Z"
   },
   {
    "duration": 15,
    "start_time": "2021-06-11T09:52:25.962Z"
   },
   {
    "duration": 17,
    "start_time": "2021-06-11T09:52:25.981Z"
   },
   {
    "duration": 15,
    "start_time": "2021-06-11T09:52:26.000Z"
   },
   {
    "duration": 91,
    "start_time": "2021-06-11T09:52:26.017Z"
   },
   {
    "duration": 2418,
    "start_time": "2021-06-11T09:52:26.111Z"
   },
   {
    "duration": 76,
    "start_time": "2021-06-11T09:52:28.531Z"
   },
   {
    "duration": 1007,
    "start_time": "2021-06-11T09:52:28.611Z"
   },
   {
    "duration": 12,
    "start_time": "2021-06-11T09:52:29.622Z"
   },
   {
    "duration": 1213,
    "start_time": "2021-06-11T09:52:29.637Z"
   },
   {
    "duration": 20,
    "start_time": "2021-06-11T09:52:30.853Z"
   },
   {
    "duration": 1589,
    "start_time": "2021-06-11T09:52:30.876Z"
   },
   {
    "duration": 15,
    "start_time": "2021-06-11T09:52:32.468Z"
   },
   {
    "duration": 602,
    "start_time": "2021-06-11T09:52:32.486Z"
   },
   {
    "duration": 12,
    "start_time": "2021-06-11T09:52:33.091Z"
   },
   {
    "duration": 948,
    "start_time": "2021-06-11T09:52:33.106Z"
   },
   {
    "duration": 15,
    "start_time": "2021-06-11T09:52:34.056Z"
   },
   {
    "duration": 879,
    "start_time": "2021-06-11T09:52:34.073Z"
   },
   {
    "duration": 12,
    "start_time": "2021-06-11T09:52:34.962Z"
   },
   {
    "duration": 563,
    "start_time": "2021-06-11T09:52:34.977Z"
   },
   {
    "duration": 20,
    "start_time": "2021-06-11T09:52:35.543Z"
   },
   {
    "duration": 783,
    "start_time": "2021-06-11T09:52:35.566Z"
   },
   {
    "duration": 68,
    "start_time": "2021-06-11T09:52:36.355Z"
   },
   {
    "duration": 11,
    "start_time": "2021-06-11T09:52:36.425Z"
   },
   {
    "duration": 13,
    "start_time": "2021-06-11T09:52:36.462Z"
   },
   {
    "duration": 31,
    "start_time": "2021-06-11T09:52:36.477Z"
   },
   {
    "duration": 74,
    "start_time": "2021-06-11T09:52:36.511Z"
   },
   {
    "duration": 29,
    "start_time": "2021-06-11T09:52:36.588Z"
   },
   {
    "duration": 979,
    "start_time": "2021-06-11T10:02:01.399Z"
   },
   {
    "duration": 122,
    "start_time": "2021-06-11T10:06:21.449Z"
   },
   {
    "duration": 16,
    "start_time": "2021-06-11T10:06:21.574Z"
   },
   {
    "duration": 6,
    "start_time": "2021-06-11T10:06:21.593Z"
   },
   {
    "duration": 17,
    "start_time": "2021-06-11T10:06:21.601Z"
   },
   {
    "duration": 101,
    "start_time": "2021-06-11T10:06:21.621Z"
   },
   {
    "duration": 2151,
    "start_time": "2021-06-11T10:06:21.724Z"
   },
   {
    "duration": 63,
    "start_time": "2021-06-11T10:06:23.877Z"
   },
   {
    "duration": 1180,
    "start_time": "2021-06-11T10:06:23.964Z"
   },
   {
    "duration": 20,
    "start_time": "2021-06-11T10:06:25.147Z"
   },
   {
    "duration": 1246,
    "start_time": "2021-06-11T10:06:25.169Z"
   },
   {
    "duration": 12,
    "start_time": "2021-06-11T10:06:26.417Z"
   },
   {
    "duration": 1072,
    "start_time": "2021-06-11T10:06:26.431Z"
   },
   {
    "duration": 10,
    "start_time": "2021-06-11T10:06:27.505Z"
   },
   {
    "duration": 693,
    "start_time": "2021-06-11T10:06:27.518Z"
   },
   {
    "duration": 16,
    "start_time": "2021-06-11T10:06:28.214Z"
   },
   {
    "duration": 849,
    "start_time": "2021-06-11T10:06:28.233Z"
   },
   {
    "duration": 14,
    "start_time": "2021-06-11T10:06:29.085Z"
   },
   {
    "duration": 894,
    "start_time": "2021-06-11T10:06:29.102Z"
   },
   {
    "duration": 12,
    "start_time": "2021-06-11T10:06:29.999Z"
   },
   {
    "duration": 564,
    "start_time": "2021-06-11T10:06:30.014Z"
   },
   {
    "duration": 11,
    "start_time": "2021-06-11T10:06:30.580Z"
   },
   {
    "duration": 863,
    "start_time": "2021-06-11T10:06:30.594Z"
   },
   {
    "duration": 62,
    "start_time": "2021-06-11T10:06:31.462Z"
   },
   {
    "duration": 10,
    "start_time": "2021-06-11T10:06:31.527Z"
   },
   {
    "duration": 12,
    "start_time": "2021-06-11T10:06:31.563Z"
   },
   {
    "duration": 32,
    "start_time": "2021-06-11T10:06:31.577Z"
   },
   {
    "duration": 75,
    "start_time": "2021-06-11T10:06:31.611Z"
   },
   {
    "duration": 32,
    "start_time": "2021-06-11T10:06:31.689Z"
   },
   {
    "duration": 548,
    "start_time": "2021-06-11T10:06:31.724Z"
   },
   {
    "duration": 521,
    "start_time": "2021-06-11T10:07:15.372Z"
   },
   {
    "duration": 393,
    "start_time": "2021-06-11T10:09:28.788Z"
   },
   {
    "duration": 541,
    "start_time": "2021-06-11T10:09:46.957Z"
   },
   {
    "duration": 533,
    "start_time": "2021-06-11T10:11:52.563Z"
   },
   {
    "duration": 805,
    "start_time": "2021-06-11T10:13:42.381Z"
   },
   {
    "duration": 524,
    "start_time": "2021-06-11T10:18:04.481Z"
   },
   {
    "duration": 536,
    "start_time": "2021-06-11T10:21:41.825Z"
   },
   {
    "duration": 967,
    "start_time": "2021-06-11T14:50:06.754Z"
   },
   {
    "duration": 18,
    "start_time": "2021-06-11T14:50:07.725Z"
   },
   {
    "duration": 19,
    "start_time": "2021-06-11T14:50:07.747Z"
   },
   {
    "duration": 16,
    "start_time": "2021-06-11T14:50:07.770Z"
   },
   {
    "duration": 96,
    "start_time": "2021-06-11T14:50:07.788Z"
   },
   {
    "duration": 2239,
    "start_time": "2021-06-11T14:50:07.887Z"
   },
   {
    "duration": 81,
    "start_time": "2021-06-11T14:50:10.128Z"
   },
   {
    "duration": 1052,
    "start_time": "2021-06-11T14:50:10.213Z"
   },
   {
    "duration": 12,
    "start_time": "2021-06-11T14:50:11.268Z"
   },
   {
    "duration": 1276,
    "start_time": "2021-06-11T14:50:11.282Z"
   },
   {
    "duration": 12,
    "start_time": "2021-06-11T14:50:12.561Z"
   },
   {
    "duration": 1081,
    "start_time": "2021-06-11T14:50:12.576Z"
   },
   {
    "duration": 11,
    "start_time": "2021-06-11T14:50:13.659Z"
   },
   {
    "duration": 568,
    "start_time": "2021-06-11T14:50:13.673Z"
   },
   {
    "duration": 19,
    "start_time": "2021-06-11T14:50:14.244Z"
   },
   {
    "duration": 913,
    "start_time": "2021-06-11T14:50:14.265Z"
   },
   {
    "duration": 11,
    "start_time": "2021-06-11T14:50:15.181Z"
   },
   {
    "duration": 859,
    "start_time": "2021-06-11T14:50:15.195Z"
   },
   {
    "duration": 11,
    "start_time": "2021-06-11T14:50:16.061Z"
   },
   {
    "duration": 542,
    "start_time": "2021-06-11T14:50:16.075Z"
   },
   {
    "duration": 12,
    "start_time": "2021-06-11T14:50:16.620Z"
   },
   {
    "duration": 752,
    "start_time": "2021-06-11T14:50:16.635Z"
   },
   {
    "duration": 80,
    "start_time": "2021-06-11T14:50:17.391Z"
   },
   {
    "duration": 11,
    "start_time": "2021-06-11T14:50:17.474Z"
   },
   {
    "duration": 18,
    "start_time": "2021-06-11T14:50:17.487Z"
   },
   {
    "duration": 63,
    "start_time": "2021-06-11T14:50:17.507Z"
   },
   {
    "duration": 37,
    "start_time": "2021-06-11T14:50:17.573Z"
   },
   {
    "duration": 58,
    "start_time": "2021-06-11T14:50:17.612Z"
   },
   {
    "duration": 598,
    "start_time": "2021-06-11T14:50:17.673Z"
   },
   {
    "duration": 3,
    "start_time": "2021-06-11T14:50:18.274Z"
   },
   {
    "duration": 64,
    "start_time": "2021-06-11T14:52:29.644Z"
   },
   {
    "duration": 13,
    "start_time": "2021-06-11T14:52:57.213Z"
   },
   {
    "duration": 13,
    "start_time": "2021-06-11T14:53:05.634Z"
   },
   {
    "duration": 226,
    "start_time": "2021-06-11T14:53:44.598Z"
   },
   {
    "duration": 231,
    "start_time": "2021-06-11T14:53:57.630Z"
   },
   {
    "duration": 65,
    "start_time": "2021-06-11T14:54:19.899Z"
   },
   {
    "duration": 11,
    "start_time": "2021-06-11T14:54:49.534Z"
   },
   {
    "duration": 435,
    "start_time": "2021-06-11T15:13:30.011Z"
   },
   {
    "duration": 5015,
    "start_time": "2021-06-11T15:13:37.274Z"
   },
   {
    "duration": 4785,
    "start_time": "2021-06-11T15:14:03.479Z"
   },
   {
    "duration": 7285,
    "start_time": "2021-06-11T15:14:23.014Z"
   },
   {
    "duration": 822,
    "start_time": "2021-06-11T15:15:44.487Z"
   },
   {
    "duration": 818,
    "start_time": "2021-06-11T15:16:15.525Z"
   },
   {
    "duration": 940,
    "start_time": "2021-06-11T15:16:22.221Z"
   },
   {
    "duration": 1311,
    "start_time": "2021-06-11T15:16:33.203Z"
   },
   {
    "duration": 1390,
    "start_time": "2021-06-11T15:16:50.960Z"
   },
   {
    "duration": 1436,
    "start_time": "2021-06-11T15:17:12.953Z"
   },
   {
    "duration": 2842,
    "start_time": "2021-06-11T15:17:34.999Z"
   },
   {
    "duration": 1682,
    "start_time": "2021-06-11T15:18:01.157Z"
   },
   {
    "duration": 3491,
    "start_time": "2021-06-11T15:18:48.091Z"
   },
   {
    "duration": 2141,
    "start_time": "2021-06-11T15:19:41.014Z"
   },
   {
    "duration": 1930,
    "start_time": "2021-06-11T15:20:20.717Z"
   },
   {
    "duration": 2172,
    "start_time": "2021-06-11T15:23:31.629Z"
   },
   {
    "duration": 2056,
    "start_time": "2021-06-11T15:26:00.160Z"
   },
   {
    "duration": 142,
    "start_time": "2021-06-11T15:30:30.705Z"
   },
   {
    "duration": 4397,
    "start_time": "2021-06-11T15:30:36.377Z"
   },
   {
    "duration": 2174,
    "start_time": "2021-06-11T15:33:09.296Z"
   },
   {
    "duration": 1614,
    "start_time": "2021-06-11T15:35:07.085Z"
   },
   {
    "duration": 1568,
    "start_time": "2021-06-11T15:35:26.394Z"
   },
   {
    "duration": 1395,
    "start_time": "2021-06-11T15:35:35.594Z"
   },
   {
    "duration": 1329,
    "start_time": "2021-06-11T15:35:53.280Z"
   },
   {
    "duration": 1434,
    "start_time": "2021-06-11T15:36:08.717Z"
   },
   {
    "duration": 1717,
    "start_time": "2021-06-11T15:36:20.569Z"
   },
   {
    "duration": 1785,
    "start_time": "2021-06-11T15:36:41.806Z"
   },
   {
    "duration": 10850,
    "start_time": "2021-06-11T15:59:44.000Z"
   },
   {
    "duration": 10652,
    "start_time": "2021-06-11T16:00:12.546Z"
   },
   {
    "duration": 12021,
    "start_time": "2021-06-11T16:00:41.481Z"
   },
   {
    "duration": 6046,
    "start_time": "2021-06-11T16:04:37.808Z"
   },
   {
    "duration": 363,
    "start_time": "2021-06-11T16:08:01.641Z"
   },
   {
    "duration": 385,
    "start_time": "2021-06-11T16:08:07.739Z"
   },
   {
    "duration": 6477,
    "start_time": "2021-06-11T16:08:27.930Z"
   },
   {
    "duration": 4527,
    "start_time": "2021-06-11T16:10:16.785Z"
   },
   {
    "duration": 4833,
    "start_time": "2021-06-11T16:10:44.336Z"
   },
   {
    "duration": 6711,
    "start_time": "2021-06-11T16:11:36.399Z"
   },
   {
    "duration": 7720,
    "start_time": "2021-06-11T16:12:22.063Z"
   },
   {
    "duration": 8195,
    "start_time": "2021-06-11T16:13:57.074Z"
   },
   {
    "duration": 3801,
    "start_time": "2021-06-11T16:15:49.014Z"
   },
   {
    "duration": 400,
    "start_time": "2021-06-11T16:24:08.080Z"
   },
   {
    "duration": 442,
    "start_time": "2021-06-11T16:24:21.854Z"
   },
   {
    "duration": 414,
    "start_time": "2021-06-11T16:24:40.078Z"
   },
   {
    "duration": 432,
    "start_time": "2021-06-11T16:25:17.870Z"
   },
   {
    "duration": 444,
    "start_time": "2021-06-11T16:25:29.007Z"
   },
   {
    "duration": 461,
    "start_time": "2021-06-11T16:25:43.223Z"
   },
   {
    "duration": 9053,
    "start_time": "2021-06-11T16:30:43.496Z"
   },
   {
    "duration": 403,
    "start_time": "2021-06-11T16:38:58.055Z"
   },
   {
    "duration": 356,
    "start_time": "2021-06-11T16:39:53.155Z"
   },
   {
    "duration": 347,
    "start_time": "2021-06-11T16:40:11.802Z"
   },
   {
    "duration": 498,
    "start_time": "2021-06-11T16:40:22.922Z"
   },
   {
    "duration": -49136,
    "start_time": "2021-06-11T16:41:30.825Z"
   },
   {
    "duration": 560,
    "start_time": "2021-06-11T16:40:58.352Z"
   },
   {
    "duration": 535,
    "start_time": "2021-06-11T16:41:08.591Z"
   },
   {
    "duration": 598,
    "start_time": "2021-06-11T16:42:37.859Z"
   },
   {
    "duration": 884,
    "start_time": "2021-06-11T16:43:00.361Z"
   },
   {
    "duration": 4168,
    "start_time": "2021-06-11T16:43:29.670Z"
   },
   {
    "duration": 3154,
    "start_time": "2021-06-11T16:44:55.786Z"
   },
   {
    "duration": 2999,
    "start_time": "2021-06-11T16:50:26.465Z"
   },
   {
    "duration": 3836,
    "start_time": "2021-06-11T16:51:22.916Z"
   },
   {
    "duration": 13,
    "start_time": "2021-06-11T16:51:56.257Z"
   },
   {
    "duration": 2706,
    "start_time": "2021-06-11T16:52:44.463Z"
   },
   {
    "duration": 127,
    "start_time": "2021-06-11T16:53:43.544Z"
   },
   {
    "duration": 116,
    "start_time": "2021-06-11T16:54:03.654Z"
   },
   {
    "duration": 104,
    "start_time": "2021-06-11T16:55:17.371Z"
   },
   {
    "duration": 863,
    "start_time": "2021-06-11T16:55:42.489Z"
   },
   {
    "duration": 2761,
    "start_time": "2021-06-11T16:56:32.838Z"
   },
   {
    "duration": 2941,
    "start_time": "2021-06-11T16:59:26.946Z"
   },
   {
    "duration": 3161,
    "start_time": "2021-06-11T17:00:54.350Z"
   },
   {
    "duration": 11645,
    "start_time": "2021-06-11T17:03:43.273Z"
   },
   {
    "duration": 117,
    "start_time": "2021-06-11T17:08:37.337Z"
   },
   {
    "duration": 121,
    "start_time": "2021-06-11T17:09:03.401Z"
   },
   {
    "duration": 7991,
    "start_time": "2021-06-11T17:09:27.547Z"
   },
   {
    "duration": 113,
    "start_time": "2021-06-11T17:09:41.055Z"
   },
   {
    "duration": 617,
    "start_time": "2021-06-11T17:09:50.594Z"
   },
   {
    "duration": 682,
    "start_time": "2021-06-11T17:10:43.290Z"
   },
   {
    "duration": 7732,
    "start_time": "2021-06-11T17:13:26.830Z"
   },
   {
    "duration": 7682,
    "start_time": "2021-06-11T17:14:16.703Z"
   },
   {
    "duration": 7969,
    "start_time": "2021-06-11T17:29:01.020Z"
   },
   {
    "duration": 8900,
    "start_time": "2021-06-11T17:29:31.981Z"
   },
   {
    "duration": 10043,
    "start_time": "2021-06-11T17:30:03.625Z"
   },
   {
    "duration": 8493,
    "start_time": "2021-06-11T17:33:11.602Z"
   },
   {
    "duration": 20867,
    "start_time": "2021-06-11T17:34:37.941Z"
   },
   {
    "duration": 9153,
    "start_time": "2021-06-11T17:37:28.087Z"
   },
   {
    "duration": 20478,
    "start_time": "2021-06-11T17:39:57.908Z"
   },
   {
    "duration": 8596,
    "start_time": "2021-06-11T17:41:48.821Z"
   },
   {
    "duration": 8617,
    "start_time": "2021-06-11T17:46:03.472Z"
   },
   {
    "duration": 10147,
    "start_time": "2021-06-11T17:47:04.066Z"
   },
   {
    "duration": 7887,
    "start_time": "2021-06-11T17:47:46.865Z"
   },
   {
    "duration": 8500,
    "start_time": "2021-06-11T17:50:56.271Z"
   },
   {
    "duration": 7914,
    "start_time": "2021-06-11T17:51:18.432Z"
   },
   {
    "duration": 8284,
    "start_time": "2021-06-11T17:54:01.278Z"
   },
   {
    "duration": 8607,
    "start_time": "2021-06-11T17:55:50.804Z"
   },
   {
    "duration": 377,
    "start_time": "2021-06-11T17:56:28.927Z"
   },
   {
    "duration": 8750,
    "start_time": "2021-06-11T17:56:38.276Z"
   },
   {
    "duration": 8509,
    "start_time": "2021-06-11T17:59:12.233Z"
   },
   {
    "duration": 8432,
    "start_time": "2021-06-11T17:59:38.251Z"
   },
   {
    "duration": 8739,
    "start_time": "2021-06-11T18:06:20.475Z"
   },
   {
    "duration": 96,
    "start_time": "2021-06-11T18:12:50.589Z"
   },
   {
    "duration": 16574,
    "start_time": "2021-06-11T18:13:03.247Z"
   },
   {
    "duration": 8336,
    "start_time": "2021-06-11T18:14:17.440Z"
   },
   {
    "duration": 8590,
    "start_time": "2021-06-11T18:15:51.237Z"
   },
   {
    "duration": 115,
    "start_time": "2021-06-11T18:16:29.536Z"
   },
   {
    "duration": 8108,
    "start_time": "2021-06-11T18:16:34.580Z"
   },
   {
    "duration": 8598,
    "start_time": "2021-06-11T18:17:03.471Z"
   },
   {
    "duration": 149,
    "start_time": "2021-06-11T18:17:22.356Z"
   },
   {
    "duration": 8176,
    "start_time": "2021-06-11T18:18:41.311Z"
   },
   {
    "duration": 10314,
    "start_time": "2021-06-11T18:28:14.665Z"
   },
   {
    "duration": 8231,
    "start_time": "2021-06-11T18:28:45.968Z"
   },
   {
    "duration": 131,
    "start_time": "2021-06-11T18:31:38.543Z"
   },
   {
    "duration": 15902,
    "start_time": "2021-06-11T18:31:50.818Z"
   },
   {
    "duration": 14156,
    "start_time": "2021-06-11T18:33:13.435Z"
   },
   {
    "duration": 8334,
    "start_time": "2021-06-11T18:37:01.300Z"
   },
   {
    "duration": 7930,
    "start_time": "2021-06-11T18:37:49.310Z"
   },
   {
    "duration": 9098,
    "start_time": "2021-06-11T18:40:09.053Z"
   },
   {
    "duration": -49033,
    "start_time": "2021-06-11T18:43:29.677Z"
   },
   {
    "duration": 8145,
    "start_time": "2021-06-11T18:43:01.317Z"
   },
   {
    "duration": 16722,
    "start_time": "2021-06-11T18:45:10.920Z"
   },
   {
    "duration": 8327,
    "start_time": "2021-06-11T18:45:53.563Z"
   },
   {
    "duration": 94,
    "start_time": "2021-06-11T18:56:57.014Z"
   },
   {
    "duration": 99,
    "start_time": "2021-06-11T18:58:55.424Z"
   },
   {
    "duration": 137,
    "start_time": "2021-06-11T19:01:18.152Z"
   },
   {
    "duration": 116,
    "start_time": "2021-06-11T19:02:39.956Z"
   },
   {
    "duration": 6097,
    "start_time": "2021-06-11T19:06:25.284Z"
   },
   {
    "duration": 6917,
    "start_time": "2021-06-11T19:08:19.131Z"
   },
   {
    "duration": 923,
    "start_time": "2021-06-11T19:49:03.424Z"
   },
   {
    "duration": 29,
    "start_time": "2021-06-11T19:49:04.349Z"
   },
   {
    "duration": 7,
    "start_time": "2021-06-11T19:49:04.381Z"
   },
   {
    "duration": 26,
    "start_time": "2021-06-11T19:49:04.391Z"
   },
   {
    "duration": 82,
    "start_time": "2021-06-11T19:49:04.419Z"
   },
   {
    "duration": 2131,
    "start_time": "2021-06-11T19:49:04.504Z"
   },
   {
    "duration": 88,
    "start_time": "2021-06-11T19:49:06.638Z"
   },
   {
    "duration": 1038,
    "start_time": "2021-06-11T19:49:06.730Z"
   },
   {
    "duration": 13,
    "start_time": "2021-06-11T19:49:07.772Z"
   },
   {
    "duration": 1506,
    "start_time": "2021-06-11T19:49:07.788Z"
   },
   {
    "duration": 16,
    "start_time": "2021-06-11T19:49:09.297Z"
   },
   {
    "duration": 1590,
    "start_time": "2021-06-11T19:49:09.316Z"
   },
   {
    "duration": 15,
    "start_time": "2021-06-11T19:49:10.909Z"
   },
   {
    "duration": 863,
    "start_time": "2021-06-11T19:49:10.927Z"
   },
   {
    "duration": 11,
    "start_time": "2021-06-11T19:49:11.793Z"
   },
   {
    "duration": 976,
    "start_time": "2021-06-11T19:49:11.807Z"
   },
   {
    "duration": 12,
    "start_time": "2021-06-11T19:49:12.785Z"
   },
   {
    "duration": 981,
    "start_time": "2021-06-11T19:49:12.799Z"
   },
   {
    "duration": 11,
    "start_time": "2021-06-11T19:49:13.783Z"
   },
   {
    "duration": 601,
    "start_time": "2021-06-11T19:49:13.797Z"
   },
   {
    "duration": 16,
    "start_time": "2021-06-11T19:49:14.401Z"
   },
   {
    "duration": 825,
    "start_time": "2021-06-11T19:49:14.420Z"
   },
   {
    "duration": 70,
    "start_time": "2021-06-11T19:49:15.262Z"
   },
   {
    "duration": 27,
    "start_time": "2021-06-11T19:49:15.335Z"
   },
   {
    "duration": 19,
    "start_time": "2021-06-11T19:49:15.364Z"
   },
   {
    "duration": 5878,
    "start_time": "2021-06-11T19:49:15.387Z"
   },
   {
    "duration": 3198,
    "start_time": "2021-06-11T19:49:21.269Z"
   },
   {
    "duration": 41,
    "start_time": "2021-06-11T19:49:24.470Z"
   },
   {
    "duration": 71,
    "start_time": "2021-06-11T19:49:24.513Z"
   },
   {
    "duration": 584,
    "start_time": "2021-06-11T19:49:24.586Z"
   },
   {
    "duration": 1641,
    "start_time": "2021-06-11T19:49:25.174Z"
   },
   {
    "duration": 6450,
    "start_time": "2021-06-11T19:49:26.817Z"
   },
   {
    "duration": 1245,
    "start_time": "2021-06-12T17:29:57.883Z"
   },
   {
    "duration": 19,
    "start_time": "2021-06-12T17:29:59.130Z"
   },
   {
    "duration": 10,
    "start_time": "2021-06-12T17:29:59.152Z"
   },
   {
    "duration": 15,
    "start_time": "2021-06-12T17:29:59.165Z"
   },
   {
    "duration": 92,
    "start_time": "2021-06-12T17:29:59.183Z"
   },
   {
    "duration": 2227,
    "start_time": "2021-06-12T17:29:59.278Z"
   },
   {
    "duration": 82,
    "start_time": "2021-06-12T17:30:01.508Z"
   },
   {
    "duration": 1226,
    "start_time": "2021-06-12T17:30:01.594Z"
   },
   {
    "duration": 19,
    "start_time": "2021-06-12T17:30:02.826Z"
   },
   {
    "duration": 1372,
    "start_time": "2021-06-12T17:30:02.848Z"
   },
   {
    "duration": 14,
    "start_time": "2021-06-12T17:30:04.225Z"
   },
   {
    "duration": 1695,
    "start_time": "2021-06-12T17:30:04.242Z"
   },
   {
    "duration": 14,
    "start_time": "2021-06-12T17:30:05.940Z"
   },
   {
    "duration": 592,
    "start_time": "2021-06-12T17:30:05.956Z"
   },
   {
    "duration": 16,
    "start_time": "2021-06-12T17:30:06.551Z"
   },
   {
    "duration": 1172,
    "start_time": "2021-06-12T17:30:06.571Z"
   },
   {
    "duration": 11,
    "start_time": "2021-06-12T17:30:07.745Z"
   },
   {
    "duration": 900,
    "start_time": "2021-06-12T17:30:07.758Z"
   },
   {
    "duration": 11,
    "start_time": "2021-06-12T17:30:08.661Z"
   },
   {
    "duration": 555,
    "start_time": "2021-06-12T17:30:08.674Z"
   },
   {
    "duration": 12,
    "start_time": "2021-06-12T17:30:09.234Z"
   },
   {
    "duration": 748,
    "start_time": "2021-06-12T17:30:09.248Z"
   },
   {
    "duration": 84,
    "start_time": "2021-06-12T17:30:10.000Z"
   },
   {
    "duration": 12,
    "start_time": "2021-06-12T17:30:10.088Z"
   },
   {
    "duration": 35,
    "start_time": "2021-06-12T17:30:10.103Z"
   },
   {
    "duration": 5246,
    "start_time": "2021-06-12T17:30:10.141Z"
   },
   {
    "duration": 3188,
    "start_time": "2021-06-12T17:30:15.390Z"
   },
   {
    "duration": 60,
    "start_time": "2021-06-12T17:30:18.581Z"
   },
   {
    "duration": 44,
    "start_time": "2021-06-12T17:30:18.645Z"
   },
   {
    "duration": 559,
    "start_time": "2021-06-12T17:30:18.692Z"
   },
   {
    "duration": 1683,
    "start_time": "2021-06-12T17:30:19.253Z"
   },
   {
    "duration": 5680,
    "start_time": "2021-06-12T17:30:20.938Z"
   },
   {
    "duration": 363,
    "start_time": "2021-06-19T06:54:17.171Z"
   },
   {
    "duration": 256,
    "start_time": "2021-06-19T06:54:23.574Z"
   }
  ],
  "kernelspec": {
   "display_name": "Python [conda env:root] *",
   "language": "python",
   "name": "conda-root-py"
  },
  "language_info": {
   "codemirror_mode": {
    "name": "ipython",
    "version": 3
   },
   "file_extension": ".py",
   "mimetype": "text/x-python",
   "name": "python",
   "nbconvert_exporter": "python",
   "pygments_lexer": "ipython3",
   "version": "3.9.6"
  },
  "toc": {
   "base_numbering": 1,
   "nav_menu": {},
   "number_sections": true,
   "sideBar": true,
   "skip_h1_title": true,
   "title_cell": "Содержание",
   "title_sidebar": "Contents",
   "toc_cell": true,
   "toc_position": {},
   "toc_section_display": true,
   "toc_window_display": true
  }
 },
 "nbformat": 4,
 "nbformat_minor": 2
}
