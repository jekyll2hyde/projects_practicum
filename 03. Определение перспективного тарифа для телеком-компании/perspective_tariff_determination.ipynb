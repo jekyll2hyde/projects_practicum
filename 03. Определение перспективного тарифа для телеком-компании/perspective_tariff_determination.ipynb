{
 "cells": [
  {
   "cell_type": "markdown",
   "metadata": {},
   "source": [
    "# Определение перспективного тарифа для телеком-компании\n",
    "\n",
    "Телеком-компания предлагает клиентам два тарифных плана: «Смарт» и «Ультра». Для корректировки рекламного бюджета коммерческий департамент компании хочет понять, какой тариф приносит больше денег.\n",
    "\n",
    "***Задачи проекта***: \n",
    " - Анализ поведения клиентов компании и определение лучшего тарифа;\n",
    " - Проверка гипотез:\n",
    "  - *Средняя выручка пользователей тарифов «Ультра» и «Смарт» различается*;\n",
    "  - *Средняя выручка пользователей из Москвы отличается от выручки пользователей из других регионов*.\n",
    "\n",
    "***Входные данные:*** \n",
    "\n",
    "Выборка из 500 пользователей «Мегалайна»: кто они, откуда, каким тарифом пользуются, сколько звонков, сообщений и интернет-трафика использовали за 2018 год."
   ]
  },
  {
   "cell_type": "markdown",
   "metadata": {
    "toc": true
   },
   "source": [
    "<h1>Содержание<span class=\"tocSkip\"></span></h1>\n",
    "<div class=\"toc\"><ul class=\"toc-item\"><li><span><a href=\"#Изучение-данных-из-файлов\" data-toc-modified-id=\"Изучение-данных-из-файлов-1\"><span class=\"toc-item-num\">1&nbsp;&nbsp;</span>Изучение данных из файлов</a></span></li><li><span><a href=\"#Предобработка-данных\" data-toc-modified-id=\"Предобработка-данных-2\"><span class=\"toc-item-num\">2&nbsp;&nbsp;</span>Предобработка данных</a></span></li><li><span><a href=\"#Расчет-выручки\" data-toc-modified-id=\"Расчет-выручки-3\"><span class=\"toc-item-num\">3&nbsp;&nbsp;</span>Расчет выручки</a></span></li><li><span><a href=\"#Анализ-поведения-клиентов-оператора\" data-toc-modified-id=\"Анализ-поведения-клиентов-оператора-4\"><span class=\"toc-item-num\">4&nbsp;&nbsp;</span>Анализ поведения клиентов оператора</a></span></li><li><span><a href=\"#Проверка-гипотез\" data-toc-modified-id=\"Проверка-гипотез-5\"><span class=\"toc-item-num\">5&nbsp;&nbsp;</span>Проверка гипотез</a></span></li><li><span><a href=\"#Общий-вывод\" data-toc-modified-id=\"Общий-вывод-6\"><span class=\"toc-item-num\">6&nbsp;&nbsp;</span>Общий вывод</a></span></li><li><span><a href=\"#Чек-лист-готовности-проекта\" data-toc-modified-id=\"Чек-лист-готовности-проекта-7\"><span class=\"toc-item-num\">7&nbsp;&nbsp;</span>Чек-лист готовности проекта</a></span></li></ul></div>"
   ]
  },
  {
   "cell_type": "markdown",
   "metadata": {},
   "source": [
    "## Изучение данных из файлов"
   ]
  },
  {
   "cell_type": "code",
   "execution_count": 73,
   "metadata": {},
   "outputs": [],
   "source": [
    "# Импорт необходимых для работы библиотек\n",
    "import pandas as pd\n",
    "import numpy as np\n",
    "import matplotlib.pyplot as plt\n",
    "from scipy import stats as st\n",
    "\n",
    "# Чтение файлов с данными и сохранение в соответствующих переменных\n",
    "users = pd.read_csv('/datasets/users.csv')\n",
    "calls = pd.read_csv('/datasets/calls.csv')\n",
    "messages = pd.read_csv('/datasets/messages.csv')\n",
    "internet = pd.read_csv('/datasets/internet.csv')\n",
    "tariffs = pd.read_csv('/datasets/tariffs.csv')"
   ]
  },
  {
   "cell_type": "markdown",
   "metadata": {},
   "source": [
    "Изучим данные таблицы ***users***:"
   ]
  },
  {
   "cell_type": "code",
   "execution_count": 74,
   "metadata": {},
   "outputs": [
    {
     "data": {
      "text/html": [
       "<div>\n",
       "<style scoped>\n",
       "    .dataframe tbody tr th:only-of-type {\n",
       "        vertical-align: middle;\n",
       "    }\n",
       "\n",
       "    .dataframe tbody tr th {\n",
       "        vertical-align: top;\n",
       "    }\n",
       "\n",
       "    .dataframe thead th {\n",
       "        text-align: right;\n",
       "    }\n",
       "</style>\n",
       "<table border=\"1\" class=\"dataframe\">\n",
       "  <thead>\n",
       "    <tr style=\"text-align: right;\">\n",
       "      <th></th>\n",
       "      <th>user_id</th>\n",
       "      <th>age</th>\n",
       "      <th>churn_date</th>\n",
       "      <th>city</th>\n",
       "      <th>first_name</th>\n",
       "      <th>last_name</th>\n",
       "      <th>reg_date</th>\n",
       "      <th>tariff</th>\n",
       "    </tr>\n",
       "  </thead>\n",
       "  <tbody>\n",
       "    <tr>\n",
       "      <td>0</td>\n",
       "      <td>1000</td>\n",
       "      <td>52</td>\n",
       "      <td>NaN</td>\n",
       "      <td>Краснодар</td>\n",
       "      <td>Рафаил</td>\n",
       "      <td>Верещагин</td>\n",
       "      <td>2018-05-25</td>\n",
       "      <td>ultra</td>\n",
       "    </tr>\n",
       "    <tr>\n",
       "      <td>1</td>\n",
       "      <td>1001</td>\n",
       "      <td>41</td>\n",
       "      <td>NaN</td>\n",
       "      <td>Москва</td>\n",
       "      <td>Иван</td>\n",
       "      <td>Ежов</td>\n",
       "      <td>2018-11-01</td>\n",
       "      <td>smart</td>\n",
       "    </tr>\n",
       "    <tr>\n",
       "      <td>2</td>\n",
       "      <td>1002</td>\n",
       "      <td>59</td>\n",
       "      <td>NaN</td>\n",
       "      <td>Стерлитамак</td>\n",
       "      <td>Евгений</td>\n",
       "      <td>Абрамович</td>\n",
       "      <td>2018-06-17</td>\n",
       "      <td>smart</td>\n",
       "    </tr>\n",
       "    <tr>\n",
       "      <td>3</td>\n",
       "      <td>1003</td>\n",
       "      <td>23</td>\n",
       "      <td>NaN</td>\n",
       "      <td>Москва</td>\n",
       "      <td>Белла</td>\n",
       "      <td>Белякова</td>\n",
       "      <td>2018-08-17</td>\n",
       "      <td>ultra</td>\n",
       "    </tr>\n",
       "    <tr>\n",
       "      <td>4</td>\n",
       "      <td>1004</td>\n",
       "      <td>68</td>\n",
       "      <td>NaN</td>\n",
       "      <td>Новокузнецк</td>\n",
       "      <td>Татьяна</td>\n",
       "      <td>Авдеенко</td>\n",
       "      <td>2018-05-14</td>\n",
       "      <td>ultra</td>\n",
       "    </tr>\n",
       "  </tbody>\n",
       "</table>\n",
       "</div>"
      ],
      "text/plain": [
       "   user_id  age churn_date         city first_name  last_name    reg_date  \\\n",
       "0     1000   52        NaN    Краснодар     Рафаил  Верещагин  2018-05-25   \n",
       "1     1001   41        NaN       Москва       Иван       Ежов  2018-11-01   \n",
       "2     1002   59        NaN  Стерлитамак    Евгений  Абрамович  2018-06-17   \n",
       "3     1003   23        NaN       Москва      Белла   Белякова  2018-08-17   \n",
       "4     1004   68        NaN  Новокузнецк    Татьяна   Авдеенко  2018-05-14   \n",
       "\n",
       "  tariff  \n",
       "0  ultra  \n",
       "1  smart  \n",
       "2  smart  \n",
       "3  ultra  \n",
       "4  ultra  "
      ]
     },
     "metadata": {},
     "output_type": "display_data"
    },
    {
     "name": "stdout",
     "output_type": "stream",
     "text": [
      "<class 'pandas.core.frame.DataFrame'>\n",
      "RangeIndex: 500 entries, 0 to 499\n",
      "Data columns (total 8 columns):\n",
      "user_id       500 non-null int64\n",
      "age           500 non-null int64\n",
      "churn_date    38 non-null object\n",
      "city          500 non-null object\n",
      "first_name    500 non-null object\n",
      "last_name     500 non-null object\n",
      "reg_date      500 non-null object\n",
      "tariff        500 non-null object\n",
      "dtypes: int64(2), object(6)\n",
      "memory usage: 31.4+ KB\n",
      "Дубликатов не обнаружено\n"
     ]
    },
    {
     "data": {
      "text/plain": [
       "array(['Краснодар', 'Москва', 'Стерлитамак', 'Новокузнецк',\n",
       "       'Набережные Челны', 'Ульяновск', 'Челябинск', 'Пермь', 'Тюмень',\n",
       "       'Самара', 'Санкт-Петербург', 'Иваново', 'Чебоксары', 'Омск', 'Уфа',\n",
       "       'Томск', 'Чита', 'Мурманск', 'Петрозаводск', 'Тверь',\n",
       "       'Екатеринбург', 'Махачкала', 'Вологда', 'Череповец', 'Ярославль',\n",
       "       'Сочи', 'Хабаровск', 'Ставрополь', 'Рязань', 'Улан-Удэ', 'Тула',\n",
       "       'Саратов', 'Ростов-на-Дону', 'Казань', 'Иркутск', 'Курск',\n",
       "       'Калуга', 'Якутск', 'Астрахань', 'Химки', 'Владикавказ',\n",
       "       'Волгоград', 'Саранск', 'Ижевск', 'Новосибирск', 'Брянск',\n",
       "       'Тольятти', 'Нижний Тагил', 'Орёл', 'Белгород', 'Воронеж',\n",
       "       'Волжский', 'Курган', 'Барнаул', 'Красноярск', 'Архангельск',\n",
       "       'Липецк', 'Кемерово', 'Киров', 'Сургут', 'Пенза', 'Магнитогорск',\n",
       "       'Нижний Новгород', 'Кострома', 'Владивосток', 'Тамбов', 'Балашиха',\n",
       "       'Севастополь', 'Калининград', 'Оренбург', 'Смоленск',\n",
       "       'Нижневартовск', 'Владимир', 'Новороссийск', 'Грозный', 'Подольск'],\n",
       "      dtype=object)"
      ]
     },
     "execution_count": 74,
     "metadata": {},
     "output_type": "execute_result"
    }
   ],
   "source": [
    "# Создание функции для отображения информации о данных\n",
    "\n",
    "def display_info(data):\n",
    "    # Вывод на экран первых строк таблицы\n",
    "    display(data.head())\n",
    "    # Вывод на экран общей инофрмации и данных\n",
    "    data.info()\n",
    "    \n",
    "# Применение функции\n",
    "display_info(users)\n",
    "\n",
    "# Создадим функцию проверки грубых дубликатов\n",
    "def find_duplicated(data):\n",
    "    data.duplicated().sum()\n",
    "    if data.duplicated().sum() == 0:\n",
    "        print('Дубликатов не обнаружено')\n",
    "    else:\n",
    "        print('Количество дубликатов:{}'.format(data.duplicated().sum()))\n",
    "# Применение функции\n",
    "find_duplicated(users)\n",
    "\n",
    "# Проверка наличия скрытых дубликатов в названиях городов\n",
    "users['city'].unique()"
   ]
  },
  {
   "cell_type": "markdown",
   "metadata": {},
   "source": [
    "Всего в таблице 8 столбцов со следующими типами данных: int64, object.\n",
    "\n",
    "Наименование столбцов и информация, содержащаяся в них:\n",
    "\n",
    " - *user_id* — уникальный идентификатор пользователя\n",
    " - *age* — возраст пользователя\n",
    " - *churn_date* — дата прекращения пользования тарифом\n",
    " - *city* — город проживания пользователя\n",
    " - *first_name* — имя пользователя\n",
    " - *last_name* — фамилия пользователя\n",
    " - *reg_date* — дата подключения тарифа\n",
    " - *tariff* — название тарифного плана\n",
    "\n",
    "Всего в датасете 500 строк. При этом, в столбце *churn_date* только 38 строк заполнены данными. Из условия задачи известно, что пропущенные значения в данном столбце означают, что тариф еще используется. Замена пропущенных значений не требуется.\n",
    "\n",
    "Грубых и скрытых дубликатов в таблице не обнаружено.\n",
    "\n",
    "Cтолбцы *churn_date* и *reg_date* содержат дату, в связи с чем типы данных их необходимо изменить с *object* на *datetime*.\n",
    "\n",
    "Типы данных других столбцов соответствуют сохраненным в них значениям."
   ]
  },
  {
   "cell_type": "markdown",
   "metadata": {},
   "source": [
    "Изучим данные таблицы ***calls***:"
   ]
  },
  {
   "cell_type": "code",
   "execution_count": 75,
   "metadata": {},
   "outputs": [
    {
     "data": {
      "text/html": [
       "<div>\n",
       "<style scoped>\n",
       "    .dataframe tbody tr th:only-of-type {\n",
       "        vertical-align: middle;\n",
       "    }\n",
       "\n",
       "    .dataframe tbody tr th {\n",
       "        vertical-align: top;\n",
       "    }\n",
       "\n",
       "    .dataframe thead th {\n",
       "        text-align: right;\n",
       "    }\n",
       "</style>\n",
       "<table border=\"1\" class=\"dataframe\">\n",
       "  <thead>\n",
       "    <tr style=\"text-align: right;\">\n",
       "      <th></th>\n",
       "      <th>id</th>\n",
       "      <th>call_date</th>\n",
       "      <th>duration</th>\n",
       "      <th>user_id</th>\n",
       "    </tr>\n",
       "  </thead>\n",
       "  <tbody>\n",
       "    <tr>\n",
       "      <td>0</td>\n",
       "      <td>1000_0</td>\n",
       "      <td>2018-07-25</td>\n",
       "      <td>0.00</td>\n",
       "      <td>1000</td>\n",
       "    </tr>\n",
       "    <tr>\n",
       "      <td>1</td>\n",
       "      <td>1000_1</td>\n",
       "      <td>2018-08-17</td>\n",
       "      <td>0.00</td>\n",
       "      <td>1000</td>\n",
       "    </tr>\n",
       "    <tr>\n",
       "      <td>2</td>\n",
       "      <td>1000_2</td>\n",
       "      <td>2018-06-11</td>\n",
       "      <td>2.85</td>\n",
       "      <td>1000</td>\n",
       "    </tr>\n",
       "    <tr>\n",
       "      <td>3</td>\n",
       "      <td>1000_3</td>\n",
       "      <td>2018-09-21</td>\n",
       "      <td>13.80</td>\n",
       "      <td>1000</td>\n",
       "    </tr>\n",
       "    <tr>\n",
       "      <td>4</td>\n",
       "      <td>1000_4</td>\n",
       "      <td>2018-12-15</td>\n",
       "      <td>5.18</td>\n",
       "      <td>1000</td>\n",
       "    </tr>\n",
       "  </tbody>\n",
       "</table>\n",
       "</div>"
      ],
      "text/plain": [
       "       id   call_date  duration  user_id\n",
       "0  1000_0  2018-07-25      0.00     1000\n",
       "1  1000_1  2018-08-17      0.00     1000\n",
       "2  1000_2  2018-06-11      2.85     1000\n",
       "3  1000_3  2018-09-21     13.80     1000\n",
       "4  1000_4  2018-12-15      5.18     1000"
      ]
     },
     "metadata": {},
     "output_type": "display_data"
    },
    {
     "name": "stdout",
     "output_type": "stream",
     "text": [
      "<class 'pandas.core.frame.DataFrame'>\n",
      "RangeIndex: 202607 entries, 0 to 202606\n",
      "Data columns (total 4 columns):\n",
      "id           202607 non-null object\n",
      "call_date    202607 non-null object\n",
      "duration     202607 non-null float64\n",
      "user_id      202607 non-null int64\n",
      "dtypes: float64(1), int64(1), object(2)\n",
      "memory usage: 6.2+ MB\n",
      "Дубликатов не обнаружено\n"
     ]
    }
   ],
   "source": [
    "display_info(calls)\n",
    "find_duplicated(calls)"
   ]
  },
  {
   "cell_type": "markdown",
   "metadata": {},
   "source": [
    "Всего в таблице 4 столбца со следующими типами данных: float64, int64, object.\n",
    "\n",
    "Наименование столбцов и информация, содержащаяся в них:\n",
    "\n",
    " - *id* — уникальный номер звонка\n",
    " - *call_date* — дата звонка\n",
    " - *duration* — длительность звонка в минутах\n",
    " - *user_id* — идентификатор пользователя, сделавшего звонок\n",
    "\n",
    "Всего в датасете 202 607 строк. Пропущенных значений в столбцах нет. Дубликатов не обнаружено.\n",
    "\n",
    "Cтолбец *call_date* содержит дату, в связи с чем тип данных столбца необходимо изменить с *object* на *datetime*.\n",
    "\n",
    "Столбец *duration* содержит нулевые значения, обозначающие не состоявшийся разговор. Данные значения не имеют ценности для дальнейших расчетов в рамках поставленных задач. Кроме того, при расчете нулевые значения могут занижать среднее время, затрачиваемое на разговоры.\n",
    "\n",
    "В связи с тем, что «Мегалайн» всегда округляет секунды каждого звонка до минут в большую сторону, значения в столбце *duration* следует округлить до целых в большую сторону.\n",
    "\n",
    "Типы данных других столбцов соответствуют сохраненным в них значениям."
   ]
  },
  {
   "cell_type": "markdown",
   "metadata": {},
   "source": [
    "Изучим данные таблицы ***messages***:"
   ]
  },
  {
   "cell_type": "code",
   "execution_count": 76,
   "metadata": {},
   "outputs": [
    {
     "data": {
      "text/html": [
       "<div>\n",
       "<style scoped>\n",
       "    .dataframe tbody tr th:only-of-type {\n",
       "        vertical-align: middle;\n",
       "    }\n",
       "\n",
       "    .dataframe tbody tr th {\n",
       "        vertical-align: top;\n",
       "    }\n",
       "\n",
       "    .dataframe thead th {\n",
       "        text-align: right;\n",
       "    }\n",
       "</style>\n",
       "<table border=\"1\" class=\"dataframe\">\n",
       "  <thead>\n",
       "    <tr style=\"text-align: right;\">\n",
       "      <th></th>\n",
       "      <th>id</th>\n",
       "      <th>message_date</th>\n",
       "      <th>user_id</th>\n",
       "    </tr>\n",
       "  </thead>\n",
       "  <tbody>\n",
       "    <tr>\n",
       "      <td>0</td>\n",
       "      <td>1000_0</td>\n",
       "      <td>2018-06-27</td>\n",
       "      <td>1000</td>\n",
       "    </tr>\n",
       "    <tr>\n",
       "      <td>1</td>\n",
       "      <td>1000_1</td>\n",
       "      <td>2018-10-08</td>\n",
       "      <td>1000</td>\n",
       "    </tr>\n",
       "    <tr>\n",
       "      <td>2</td>\n",
       "      <td>1000_2</td>\n",
       "      <td>2018-08-04</td>\n",
       "      <td>1000</td>\n",
       "    </tr>\n",
       "    <tr>\n",
       "      <td>3</td>\n",
       "      <td>1000_3</td>\n",
       "      <td>2018-06-16</td>\n",
       "      <td>1000</td>\n",
       "    </tr>\n",
       "    <tr>\n",
       "      <td>4</td>\n",
       "      <td>1000_4</td>\n",
       "      <td>2018-12-05</td>\n",
       "      <td>1000</td>\n",
       "    </tr>\n",
       "  </tbody>\n",
       "</table>\n",
       "</div>"
      ],
      "text/plain": [
       "       id message_date  user_id\n",
       "0  1000_0   2018-06-27     1000\n",
       "1  1000_1   2018-10-08     1000\n",
       "2  1000_2   2018-08-04     1000\n",
       "3  1000_3   2018-06-16     1000\n",
       "4  1000_4   2018-12-05     1000"
      ]
     },
     "metadata": {},
     "output_type": "display_data"
    },
    {
     "name": "stdout",
     "output_type": "stream",
     "text": [
      "<class 'pandas.core.frame.DataFrame'>\n",
      "RangeIndex: 123036 entries, 0 to 123035\n",
      "Data columns (total 3 columns):\n",
      "id              123036 non-null object\n",
      "message_date    123036 non-null object\n",
      "user_id         123036 non-null int64\n",
      "dtypes: int64(1), object(2)\n",
      "memory usage: 2.8+ MB\n",
      "Дубликатов не обнаружено\n"
     ]
    }
   ],
   "source": [
    "display_info(messages)\n",
    "find_duplicated(messages)"
   ]
  },
  {
   "cell_type": "markdown",
   "metadata": {},
   "source": [
    "Всего в таблице 3 столбца со следующими типами данных: int64, object.\n",
    "\n",
    "Наименование столбцов и информация, содержащаяся в них:\n",
    "\n",
    " - *id* — уникальный номер сообщения\n",
    " - *message_date* — дата сообщения\n",
    " - *user_id* — идентификатор пользователя, отправившего сообщение\n",
    "\n",
    "Всего в датасете 123 036 строк. Пропущенных значений в столбцах нет. Дубликатов не обнаружено.\n",
    "\n",
    "Cтолбец message_date содержит дату, в связи с чем тип данных столбца необходимо изменить с *object* на *datetime*.\n",
    "\n",
    "Типы данных других столбцов соответствуют сохраненным в них значениям."
   ]
  },
  {
   "cell_type": "markdown",
   "metadata": {},
   "source": [
    "Изучим данные таблицы ***internet***:"
   ]
  },
  {
   "cell_type": "code",
   "execution_count": 77,
   "metadata": {},
   "outputs": [
    {
     "data": {
      "text/html": [
       "<div>\n",
       "<style scoped>\n",
       "    .dataframe tbody tr th:only-of-type {\n",
       "        vertical-align: middle;\n",
       "    }\n",
       "\n",
       "    .dataframe tbody tr th {\n",
       "        vertical-align: top;\n",
       "    }\n",
       "\n",
       "    .dataframe thead th {\n",
       "        text-align: right;\n",
       "    }\n",
       "</style>\n",
       "<table border=\"1\" class=\"dataframe\">\n",
       "  <thead>\n",
       "    <tr style=\"text-align: right;\">\n",
       "      <th></th>\n",
       "      <th>Unnamed: 0</th>\n",
       "      <th>id</th>\n",
       "      <th>mb_used</th>\n",
       "      <th>session_date</th>\n",
       "      <th>user_id</th>\n",
       "    </tr>\n",
       "  </thead>\n",
       "  <tbody>\n",
       "    <tr>\n",
       "      <td>0</td>\n",
       "      <td>0</td>\n",
       "      <td>1000_0</td>\n",
       "      <td>112.95</td>\n",
       "      <td>2018-11-25</td>\n",
       "      <td>1000</td>\n",
       "    </tr>\n",
       "    <tr>\n",
       "      <td>1</td>\n",
       "      <td>1</td>\n",
       "      <td>1000_1</td>\n",
       "      <td>1052.81</td>\n",
       "      <td>2018-09-07</td>\n",
       "      <td>1000</td>\n",
       "    </tr>\n",
       "    <tr>\n",
       "      <td>2</td>\n",
       "      <td>2</td>\n",
       "      <td>1000_2</td>\n",
       "      <td>1197.26</td>\n",
       "      <td>2018-06-25</td>\n",
       "      <td>1000</td>\n",
       "    </tr>\n",
       "    <tr>\n",
       "      <td>3</td>\n",
       "      <td>3</td>\n",
       "      <td>1000_3</td>\n",
       "      <td>550.27</td>\n",
       "      <td>2018-08-22</td>\n",
       "      <td>1000</td>\n",
       "    </tr>\n",
       "    <tr>\n",
       "      <td>4</td>\n",
       "      <td>4</td>\n",
       "      <td>1000_4</td>\n",
       "      <td>302.56</td>\n",
       "      <td>2018-09-24</td>\n",
       "      <td>1000</td>\n",
       "    </tr>\n",
       "  </tbody>\n",
       "</table>\n",
       "</div>"
      ],
      "text/plain": [
       "   Unnamed: 0      id  mb_used session_date  user_id\n",
       "0           0  1000_0   112.95   2018-11-25     1000\n",
       "1           1  1000_1  1052.81   2018-09-07     1000\n",
       "2           2  1000_2  1197.26   2018-06-25     1000\n",
       "3           3  1000_3   550.27   2018-08-22     1000\n",
       "4           4  1000_4   302.56   2018-09-24     1000"
      ]
     },
     "metadata": {},
     "output_type": "display_data"
    },
    {
     "name": "stdout",
     "output_type": "stream",
     "text": [
      "<class 'pandas.core.frame.DataFrame'>\n",
      "RangeIndex: 149396 entries, 0 to 149395\n",
      "Data columns (total 5 columns):\n",
      "Unnamed: 0      149396 non-null int64\n",
      "id              149396 non-null object\n",
      "mb_used         149396 non-null float64\n",
      "session_date    149396 non-null object\n",
      "user_id         149396 non-null int64\n",
      "dtypes: float64(1), int64(2), object(2)\n",
      "memory usage: 5.7+ MB\n",
      "Дубликатов не обнаружено\n"
     ]
    }
   ],
   "source": [
    "display_info(internet)\n",
    "find_duplicated(internet)"
   ]
  },
  {
   "cell_type": "markdown",
   "metadata": {},
   "source": [
    "Всего в таблице 5 столбцов со следующими типами данных: float64, int64, object.\n",
    "\n",
    "Наименование столбцов и информация, содержащаяся в них:\n",
    "\n",
    " - *Unnamed: 0* - порядковых номер строк\n",
    " - *id* — уникальный номер сессии\n",
    " - *mb_used* — объём потраченного за сессию интернет-трафика (в мегабайтах)\n",
    " - *session_date* — дата интернет-сессии\n",
    " - *user_id* — идентификатор пользователя\n",
    "\n",
    "Всего в датасете 149 396 строк. Пропущенных значений в столбцах нет. Дубликатов не обнаружено.\n",
    "\n",
    "Столбец *Unnamed: 0* - дублирует номера индексов и не представляет ценности. Необходимо его удалить.\n",
    "\n",
    "Cтолбец session_date содержит дату, в связи с чем тип данных столбца необходимо изменить с *object* на *datetime*.\n",
    "\n",
    "Значения столбца *mb_used* необходимо оставить без обработки до востребования, т.к. для веб-трафика отдельные сессии не считаются. Вместо этого общая сумма за месяц округляется в большую сторону.\n",
    "\n",
    "Типы данных других столбцов соответствуют сохраненным в них значениям."
   ]
  },
  {
   "cell_type": "markdown",
   "metadata": {},
   "source": [
    "Изучим данные таблицы ***tariffs***:"
   ]
  },
  {
   "cell_type": "code",
   "execution_count": 78,
   "metadata": {},
   "outputs": [
    {
     "data": {
      "text/html": [
       "<div>\n",
       "<style scoped>\n",
       "    .dataframe tbody tr th:only-of-type {\n",
       "        vertical-align: middle;\n",
       "    }\n",
       "\n",
       "    .dataframe tbody tr th {\n",
       "        vertical-align: top;\n",
       "    }\n",
       "\n",
       "    .dataframe thead th {\n",
       "        text-align: right;\n",
       "    }\n",
       "</style>\n",
       "<table border=\"1\" class=\"dataframe\">\n",
       "  <thead>\n",
       "    <tr style=\"text-align: right;\">\n",
       "      <th></th>\n",
       "      <th>messages_included</th>\n",
       "      <th>mb_per_month_included</th>\n",
       "      <th>minutes_included</th>\n",
       "      <th>rub_monthly_fee</th>\n",
       "      <th>rub_per_gb</th>\n",
       "      <th>rub_per_message</th>\n",
       "      <th>rub_per_minute</th>\n",
       "      <th>tariff_name</th>\n",
       "    </tr>\n",
       "  </thead>\n",
       "  <tbody>\n",
       "    <tr>\n",
       "      <td>0</td>\n",
       "      <td>50</td>\n",
       "      <td>15360</td>\n",
       "      <td>500</td>\n",
       "      <td>550</td>\n",
       "      <td>200</td>\n",
       "      <td>3</td>\n",
       "      <td>3</td>\n",
       "      <td>smart</td>\n",
       "    </tr>\n",
       "    <tr>\n",
       "      <td>1</td>\n",
       "      <td>1000</td>\n",
       "      <td>30720</td>\n",
       "      <td>3000</td>\n",
       "      <td>1950</td>\n",
       "      <td>150</td>\n",
       "      <td>1</td>\n",
       "      <td>1</td>\n",
       "      <td>ultra</td>\n",
       "    </tr>\n",
       "  </tbody>\n",
       "</table>\n",
       "</div>"
      ],
      "text/plain": [
       "   messages_included  mb_per_month_included  minutes_included  \\\n",
       "0                 50                  15360               500   \n",
       "1               1000                  30720              3000   \n",
       "\n",
       "   rub_monthly_fee  rub_per_gb  rub_per_message  rub_per_minute tariff_name  \n",
       "0              550         200                3               3       smart  \n",
       "1             1950         150                1               1       ultra  "
      ]
     },
     "metadata": {},
     "output_type": "display_data"
    },
    {
     "name": "stdout",
     "output_type": "stream",
     "text": [
      "<class 'pandas.core.frame.DataFrame'>\n",
      "RangeIndex: 2 entries, 0 to 1\n",
      "Data columns (total 8 columns):\n",
      "messages_included        2 non-null int64\n",
      "mb_per_month_included    2 non-null int64\n",
      "minutes_included         2 non-null int64\n",
      "rub_monthly_fee          2 non-null int64\n",
      "rub_per_gb               2 non-null int64\n",
      "rub_per_message          2 non-null int64\n",
      "rub_per_minute           2 non-null int64\n",
      "tariff_name              2 non-null object\n",
      "dtypes: int64(7), object(1)\n",
      "memory usage: 256.0+ bytes\n"
     ]
    }
   ],
   "source": [
    "display_info(tariffs)"
   ]
  },
  {
   "cell_type": "markdown",
   "metadata": {},
   "source": [
    "Всего в таблице 8 столбцов со следующими типами данных: int64, object.\n",
    "\n",
    "Наименование столбцов и информация, содержащаяся в них:\n",
    "\n",
    " - *tariff_name* — название тарифа\n",
    " - *rub_monthly_fee* — ежемесячная абонентская плата в рублях\n",
    " - *minutes_included* — количество минут разговора в месяц, включённых в абонентскую плату\n",
    " - *messages_included* — количество сообщений в месяц, включённых в абонентскую плату\n",
    " - *mb_per_month_included* — объём интернет-трафика, включённого в абонентскую плату (в мегабайтах)\n",
    " - *rub_per_minute* — стоимость минуты разговора сверх тарифного пакета (например, если в тарифе 100 минут разговора в месяц, то со 101 минуты будет взиматься плата)\n",
    " - *rub_per_message* — стоимость отправки сообщения сверх тарифного пакета\n",
    " - *rub_per_gb* — стоимость дополнительного гигабайта интернет-трафика сверх тарифного пакета (1 гигабайт = 1024 мегабайта)\n",
    "\n",
    "Всего в датасете 2 строки. Пропущенных значений в столбцах нет.\n",
    "\n",
    "Типы столбцов соответствуют сохраненным в них значениям."
   ]
  },
  {
   "cell_type": "markdown",
   "metadata": {},
   "source": [
    "###### Вывод"
   ]
  },
  {
   "cell_type": "markdown",
   "metadata": {},
   "source": [
    "Нами были изучены данные из файлов ***users, calls, messages, internet, tariffs***.\n",
    "\n",
    "Значения столбца *churn_date* таблицы ***users*** содержат пропуски. Обработка пропусков не требуется, так как пропущенные значения обозначают продолжение использования тарифа.\n",
    "\n",
    "Дубликатов в рассмотренных таблицах не обнаружено.\n",
    "\n",
    "Значения столбца *duration* таблицы ***calls*** содержат нулевые значения, обозначающие несостоявшиеся разговоры. За неимением ценности, а также во избежание искажения расчетов среднего времени, затрачиваемого на разговоры, необходимо рассмотреть исключение строк с нулевыми значениями в данном столбце из расчета.\n",
    "\n",
    "Типы данных столбцов, содержащих даты, в таблицах ***users, calls, messages, internet*** - *object*. Необходимо изменить на *datetime*.\n",
    "\n",
    "Столбец *Unnamed: 0* таблицы ***internet*** дублирует номера индексов и не представляет ценности. Необходимо его удалить.\n",
    "\n",
    "\n",
    "\n",
    "\n"
   ]
  },
  {
   "cell_type": "markdown",
   "metadata": {},
   "source": [
    "## Предобработка данных"
   ]
  },
  {
   "cell_type": "markdown",
   "metadata": {},
   "source": [
    "Обработаем данные согласно рекомендациям, отраженным в выводе этапа 1:"
   ]
  },
  {
   "cell_type": "code",
   "execution_count": 79,
   "metadata": {},
   "outputs": [
    {
     "name": "stdout",
     "output_type": "stream",
     "text": [
      "churn_date\n",
      "datetime64[ns]\n",
      "\n",
      "reg_date\n",
      "datetime64[ns]\n",
      "\n",
      "call_date\n",
      "datetime64[ns]\n",
      "\n",
      "message_date\n",
      "datetime64[ns]\n",
      "\n",
      "session_date\n",
      "datetime64[ns]\n",
      "\n",
      "<class 'pandas.core.frame.DataFrame'>\n",
      "RangeIndex: 149396 entries, 0 to 149395\n",
      "Data columns (total 4 columns):\n",
      "id              149396 non-null object\n",
      "mb_used         149396 non-null float64\n",
      "session_date    149396 non-null datetime64[ns]\n",
      "user_id         149396 non-null int64\n",
      "dtypes: datetime64[ns](1), float64(1), int64(1), object(1)\n",
      "memory usage: 4.6+ MB\n"
     ]
    }
   ],
   "source": [
    "# Создание функции замены изменения типов данных столбцов на 'datetime'\n",
    "def to_datetime(data, column):\n",
    "    # изменение типа данных\n",
    "    data[column] = pd.to_datetime(\n",
    "        data[column],\n",
    "        format = '%Y-%m-%d')\n",
    "    # проверка замены, вывод на экран типа данных\n",
    "    print(data[column].name)\n",
    "    print(data[column].dtype)\n",
    "    print()\n",
    "        \n",
    "# Применение функции\n",
    "to_datetime(users, 'churn_date')\n",
    "to_datetime(users, 'reg_date')\n",
    "to_datetime(calls, 'call_date')\n",
    "to_datetime(messages, 'message_date')\n",
    "to_datetime(internet, 'session_date')\n",
    "\n",
    "# Исключение строк с нулевыми значениями столбца 'duration' таблицы 'calls'\n",
    "calls = calls[calls['duration'] != 0]\n",
    "\n",
    "# Удаление столбца 'Unnamed: 0' таблицы 'internet'\n",
    "del internet['Unnamed: 0']\n",
    "\n",
    "# Проверка удаления столбца 'Unnamed: 0' таблицы 'internet'\n",
    "internet.info()\n",
    "\n"
   ]
  },
  {
   "cell_type": "markdown",
   "metadata": {},
   "source": [
    "###### Вывод"
   ]
  },
  {
   "cell_type": "markdown",
   "metadata": {},
   "source": [
    "Типы данных столбцов *churn_date, reg_date, call_date, message_date, session_date* таблиц ***users, calls, messages, internet*** успешно заменены на *datetime*.\n",
    "\n",
    "Столбец *Unnamed: 0* таблицы ***internet*** был успешно удален.\n",
    "\n",
    "Из таблицы ***calls*** исключены строки с нулевыми значениями столбца *duration*."
   ]
  },
  {
   "cell_type": "markdown",
   "metadata": {},
   "source": [
    "## Расчет выручки"
   ]
  },
  {
   "cell_type": "markdown",
   "metadata": {},
   "source": [
    "Для расчета помесячной выручки с каждого пользователя нам необходимо посчитать:\n",
    "\n",
    " - Количество сделанных звонков и израсходованных минут разговора;\n",
    " - Количество отправленных сообщений;\n",
    " - Объем израсходованного интернет-трафика."
   ]
  },
  {
   "cell_type": "markdown",
   "metadata": {},
   "source": [
    "Рассчитаем количество звонков и израсходованных минут:"
   ]
  },
  {
   "cell_type": "markdown",
   "metadata": {},
   "source": [
    "Так как «Мегалайн» всегда округляет секунды каждого звонка до минут в большую сторону, перед рассчетом количества израсходованных минут каждым пользователем за каждый месяц необходимо значения в столбце *duration* таблицы ***calls*** округлить до целых в большую сторону."
   ]
  },
  {
   "cell_type": "code",
   "execution_count": 80,
   "metadata": {},
   "outputs": [
    {
     "data": {
      "text/html": [
       "<div>\n",
       "<style scoped>\n",
       "    .dataframe tbody tr th:only-of-type {\n",
       "        vertical-align: middle;\n",
       "    }\n",
       "\n",
       "    .dataframe tbody tr th {\n",
       "        vertical-align: top;\n",
       "    }\n",
       "\n",
       "    .dataframe thead th {\n",
       "        text-align: right;\n",
       "    }\n",
       "</style>\n",
       "<table border=\"1\" class=\"dataframe\">\n",
       "  <thead>\n",
       "    <tr style=\"text-align: right;\">\n",
       "      <th></th>\n",
       "      <th></th>\n",
       "      <th>calls_count</th>\n",
       "      <th>calls_duration</th>\n",
       "    </tr>\n",
       "    <tr>\n",
       "      <th>user_id</th>\n",
       "      <th>month</th>\n",
       "      <th></th>\n",
       "      <th></th>\n",
       "    </tr>\n",
       "  </thead>\n",
       "  <tbody>\n",
       "    <tr>\n",
       "      <td rowspan=\"5\" valign=\"top\">1000</td>\n",
       "      <td>5</td>\n",
       "      <td>17</td>\n",
       "      <td>159.0</td>\n",
       "    </tr>\n",
       "    <tr>\n",
       "      <td>6</td>\n",
       "      <td>28</td>\n",
       "      <td>172.0</td>\n",
       "    </tr>\n",
       "    <tr>\n",
       "      <td>7</td>\n",
       "      <td>41</td>\n",
       "      <td>340.0</td>\n",
       "    </tr>\n",
       "    <tr>\n",
       "      <td>8</td>\n",
       "      <td>42</td>\n",
       "      <td>408.0</td>\n",
       "    </tr>\n",
       "    <tr>\n",
       "      <td>9</td>\n",
       "      <td>46</td>\n",
       "      <td>466.0</td>\n",
       "    </tr>\n",
       "    <tr>\n",
       "      <td>...</td>\n",
       "      <td>...</td>\n",
       "      <td>...</td>\n",
       "      <td>...</td>\n",
       "    </tr>\n",
       "    <tr>\n",
       "      <td>1498</td>\n",
       "      <td>10</td>\n",
       "      <td>30</td>\n",
       "      <td>247.0</td>\n",
       "    </tr>\n",
       "    <tr>\n",
       "      <td rowspan=\"4\" valign=\"top\">1499</td>\n",
       "      <td>9</td>\n",
       "      <td>8</td>\n",
       "      <td>70.0</td>\n",
       "    </tr>\n",
       "    <tr>\n",
       "      <td>10</td>\n",
       "      <td>44</td>\n",
       "      <td>449.0</td>\n",
       "    </tr>\n",
       "    <tr>\n",
       "      <td>11</td>\n",
       "      <td>62</td>\n",
       "      <td>612.0</td>\n",
       "    </tr>\n",
       "    <tr>\n",
       "      <td>12</td>\n",
       "      <td>56</td>\n",
       "      <td>492.0</td>\n",
       "    </tr>\n",
       "  </tbody>\n",
       "</table>\n",
       "<p>3168 rows × 2 columns</p>\n",
       "</div>"
      ],
      "text/plain": [
       "               calls_count  calls_duration\n",
       "user_id month                             \n",
       "1000    5               17           159.0\n",
       "        6               28           172.0\n",
       "        7               41           340.0\n",
       "        8               42           408.0\n",
       "        9               46           466.0\n",
       "...                    ...             ...\n",
       "1498    10              30           247.0\n",
       "1499    9                8            70.0\n",
       "        10              44           449.0\n",
       "        11              62           612.0\n",
       "        12              56           492.0\n",
       "\n",
       "[3168 rows x 2 columns]"
      ]
     },
     "execution_count": 80,
     "metadata": {},
     "output_type": "execute_result"
    }
   ],
   "source": [
    "# Округление значений столбца 'duration' в большую сторону\n",
    "calls['duration'] = np.ceil(calls['duration'])\n",
    "\n",
    "# Создание столбца в 'user_calls' с номерами месяцев, в которых сделаны звонки\n",
    "calls['month'] = pd.DatetimeIndex(calls['call_date']).month\n",
    "\n",
    "# Расчет ежемесячного количества и длительности звонков для каждого пользователя\n",
    "monthly_calls = calls.groupby(['user_id', 'month']).agg(\n",
    "    {'duration': ['count', 'sum']}\n",
    ")\n",
    "monthly_calls.columns = ['calls_count', 'calls_duration']\n",
    "\n",
    "# Вывод полученной таблицы на экран\n",
    "monthly_calls"
   ]
  },
  {
   "cell_type": "markdown",
   "metadata": {},
   "source": [
    "Рассчитаем количество сообщений, отправленных каждым пользователем за каждый месяц:"
   ]
  },
  {
   "cell_type": "code",
   "execution_count": 81,
   "metadata": {},
   "outputs": [
    {
     "data": {
      "text/html": [
       "<div>\n",
       "<style scoped>\n",
       "    .dataframe tbody tr th:only-of-type {\n",
       "        vertical-align: middle;\n",
       "    }\n",
       "\n",
       "    .dataframe tbody tr th {\n",
       "        vertical-align: top;\n",
       "    }\n",
       "\n",
       "    .dataframe thead th {\n",
       "        text-align: right;\n",
       "    }\n",
       "</style>\n",
       "<table border=\"1\" class=\"dataframe\">\n",
       "  <thead>\n",
       "    <tr style=\"text-align: right;\">\n",
       "      <th></th>\n",
       "      <th></th>\n",
       "      <th>messages_count</th>\n",
       "    </tr>\n",
       "    <tr>\n",
       "      <th>user_id</th>\n",
       "      <th>month</th>\n",
       "      <th></th>\n",
       "    </tr>\n",
       "  </thead>\n",
       "  <tbody>\n",
       "    <tr>\n",
       "      <td rowspan=\"5\" valign=\"top\">1000</td>\n",
       "      <td>5</td>\n",
       "      <td>22</td>\n",
       "    </tr>\n",
       "    <tr>\n",
       "      <td>6</td>\n",
       "      <td>60</td>\n",
       "    </tr>\n",
       "    <tr>\n",
       "      <td>7</td>\n",
       "      <td>75</td>\n",
       "    </tr>\n",
       "    <tr>\n",
       "      <td>8</td>\n",
       "      <td>81</td>\n",
       "    </tr>\n",
       "    <tr>\n",
       "      <td>9</td>\n",
       "      <td>57</td>\n",
       "    </tr>\n",
       "    <tr>\n",
       "      <td>...</td>\n",
       "      <td>...</td>\n",
       "      <td>...</td>\n",
       "    </tr>\n",
       "    <tr>\n",
       "      <td>1498</td>\n",
       "      <td>10</td>\n",
       "      <td>42</td>\n",
       "    </tr>\n",
       "    <tr>\n",
       "      <td rowspan=\"4\" valign=\"top\">1499</td>\n",
       "      <td>9</td>\n",
       "      <td>11</td>\n",
       "    </tr>\n",
       "    <tr>\n",
       "      <td>10</td>\n",
       "      <td>48</td>\n",
       "    </tr>\n",
       "    <tr>\n",
       "      <td>11</td>\n",
       "      <td>59</td>\n",
       "    </tr>\n",
       "    <tr>\n",
       "      <td>12</td>\n",
       "      <td>66</td>\n",
       "    </tr>\n",
       "  </tbody>\n",
       "</table>\n",
       "<p>2717 rows × 1 columns</p>\n",
       "</div>"
      ],
      "text/plain": [
       "               messages_count\n",
       "user_id month                \n",
       "1000    5                  22\n",
       "        6                  60\n",
       "        7                  75\n",
       "        8                  81\n",
       "        9                  57\n",
       "...                       ...\n",
       "1498    10                 42\n",
       "1499    9                  11\n",
       "        10                 48\n",
       "        11                 59\n",
       "        12                 66\n",
       "\n",
       "[2717 rows x 1 columns]"
      ]
     },
     "execution_count": 81,
     "metadata": {},
     "output_type": "execute_result"
    }
   ],
   "source": [
    "# Создание столбца в 'messages' с номерами месяцев, в которых сделаны звонки\n",
    "messages['month'] = pd.DatetimeIndex(messages['message_date']).month\n",
    "\n",
    "# Расчет ежемесячного количества и длительности звонков для каждого пользователя\n",
    "monthly_messages = messages.groupby(['user_id', 'month']).agg(\n",
    "    {'message_date': ['count']}\n",
    ")\n",
    "monthly_messages.columns = ['messages_count']\n",
    "\n",
    "# Вывод полученной таблицы на экран\n",
    "monthly_messages\n"
   ]
  },
  {
   "cell_type": "markdown",
   "metadata": {},
   "source": [
    "Рассчитаем объем израсходованного интернет-трафика каждым пользователем по месяцам, учитвая, что \"Мегалайн\" округляет помесячный объем траффика для каждого пользователя до гб в большую сторону."
   ]
  },
  {
   "cell_type": "code",
   "execution_count": 82,
   "metadata": {},
   "outputs": [
    {
     "data": {
      "text/html": [
       "<div>\n",
       "<style scoped>\n",
       "    .dataframe tbody tr th:only-of-type {\n",
       "        vertical-align: middle;\n",
       "    }\n",
       "\n",
       "    .dataframe tbody tr th {\n",
       "        vertical-align: top;\n",
       "    }\n",
       "\n",
       "    .dataframe thead th {\n",
       "        text-align: right;\n",
       "    }\n",
       "</style>\n",
       "<table border=\"1\" class=\"dataframe\">\n",
       "  <thead>\n",
       "    <tr style=\"text-align: right;\">\n",
       "      <th></th>\n",
       "      <th></th>\n",
       "      <th>gb_used</th>\n",
       "    </tr>\n",
       "    <tr>\n",
       "      <th>user_id</th>\n",
       "      <th>month</th>\n",
       "      <th></th>\n",
       "    </tr>\n",
       "  </thead>\n",
       "  <tbody>\n",
       "    <tr>\n",
       "      <td rowspan=\"5\" valign=\"top\">1000</td>\n",
       "      <td>5</td>\n",
       "      <td>3.0</td>\n",
       "    </tr>\n",
       "    <tr>\n",
       "      <td>6</td>\n",
       "      <td>23.0</td>\n",
       "    </tr>\n",
       "    <tr>\n",
       "      <td>7</td>\n",
       "      <td>14.0</td>\n",
       "    </tr>\n",
       "    <tr>\n",
       "      <td>8</td>\n",
       "      <td>14.0</td>\n",
       "    </tr>\n",
       "    <tr>\n",
       "      <td>9</td>\n",
       "      <td>15.0</td>\n",
       "    </tr>\n",
       "    <tr>\n",
       "      <td>...</td>\n",
       "      <td>...</td>\n",
       "      <td>...</td>\n",
       "    </tr>\n",
       "    <tr>\n",
       "      <td>1498</td>\n",
       "      <td>10</td>\n",
       "      <td>21.0</td>\n",
       "    </tr>\n",
       "    <tr>\n",
       "      <td rowspan=\"4\" valign=\"top\">1499</td>\n",
       "      <td>9</td>\n",
       "      <td>2.0</td>\n",
       "    </tr>\n",
       "    <tr>\n",
       "      <td>10</td>\n",
       "      <td>18.0</td>\n",
       "    </tr>\n",
       "    <tr>\n",
       "      <td>11</td>\n",
       "      <td>18.0</td>\n",
       "    </tr>\n",
       "    <tr>\n",
       "      <td>12</td>\n",
       "      <td>13.0</td>\n",
       "    </tr>\n",
       "  </tbody>\n",
       "</table>\n",
       "<p>3203 rows × 1 columns</p>\n",
       "</div>"
      ],
      "text/plain": [
       "               gb_used\n",
       "user_id month         \n",
       "1000    5          3.0\n",
       "        6         23.0\n",
       "        7         14.0\n",
       "        8         14.0\n",
       "        9         15.0\n",
       "...                ...\n",
       "1498    10        21.0\n",
       "1499    9          2.0\n",
       "        10        18.0\n",
       "        11        18.0\n",
       "        12        13.0\n",
       "\n",
       "[3203 rows x 1 columns]"
      ]
     },
     "execution_count": 82,
     "metadata": {},
     "output_type": "execute_result"
    }
   ],
   "source": [
    "# Создание столбца в 'internet' с номерами месяцев, в которых были интернет-сессии\n",
    "internet['month'] = pd.DatetimeIndex(internet['session_date']).month\n",
    "\n",
    "# Расчет ежемесячного количества и длительности звонков для каждого пользователя\n",
    "monthly_sessions = internet.groupby(['user_id', 'month']).agg(\n",
    "    {'mb_used': ['sum']}\n",
    ")\n",
    "monthly_sessions.columns = ['mb_used']\n",
    "\n",
    "# Округление объемов помесячного траффика до гб\n",
    "monthly_sessions['gb_used'] = np.ceil(\n",
    "    np.ceil(monthly_sessions['mb_used'])/1024\n",
    ")\n",
    "del monthly_sessions['mb_used']\n",
    "\n",
    "# Вывод полученной таблицы на экран\n",
    "monthly_sessions"
   ]
  },
  {
   "cell_type": "markdown",
   "metadata": {},
   "source": [
    "Необходимые данные для расчета выручки подготовлены. Объединим полученные таблицы в одну:"
   ]
  },
  {
   "cell_type": "code",
   "execution_count": 83,
   "metadata": {},
   "outputs": [
    {
     "data": {
      "text/html": [
       "<div>\n",
       "<style scoped>\n",
       "    .dataframe tbody tr th:only-of-type {\n",
       "        vertical-align: middle;\n",
       "    }\n",
       "\n",
       "    .dataframe tbody tr th {\n",
       "        vertical-align: top;\n",
       "    }\n",
       "\n",
       "    .dataframe thead th {\n",
       "        text-align: right;\n",
       "    }\n",
       "</style>\n",
       "<table border=\"1\" class=\"dataframe\">\n",
       "  <thead>\n",
       "    <tr style=\"text-align: right;\">\n",
       "      <th></th>\n",
       "      <th></th>\n",
       "      <th>gb_used</th>\n",
       "      <th>calls_count</th>\n",
       "      <th>calls_duration</th>\n",
       "      <th>messages_count</th>\n",
       "    </tr>\n",
       "    <tr>\n",
       "      <th>user_id</th>\n",
       "      <th>month</th>\n",
       "      <th></th>\n",
       "      <th></th>\n",
       "      <th></th>\n",
       "      <th></th>\n",
       "    </tr>\n",
       "  </thead>\n",
       "  <tbody>\n",
       "    <tr>\n",
       "      <td rowspan=\"5\" valign=\"top\">1000</td>\n",
       "      <td>5</td>\n",
       "      <td>3.0</td>\n",
       "      <td>17.0</td>\n",
       "      <td>159.0</td>\n",
       "      <td>22.0</td>\n",
       "    </tr>\n",
       "    <tr>\n",
       "      <td>6</td>\n",
       "      <td>23.0</td>\n",
       "      <td>28.0</td>\n",
       "      <td>172.0</td>\n",
       "      <td>60.0</td>\n",
       "    </tr>\n",
       "    <tr>\n",
       "      <td>7</td>\n",
       "      <td>14.0</td>\n",
       "      <td>41.0</td>\n",
       "      <td>340.0</td>\n",
       "      <td>75.0</td>\n",
       "    </tr>\n",
       "    <tr>\n",
       "      <td>8</td>\n",
       "      <td>14.0</td>\n",
       "      <td>42.0</td>\n",
       "      <td>408.0</td>\n",
       "      <td>81.0</td>\n",
       "    </tr>\n",
       "    <tr>\n",
       "      <td>9</td>\n",
       "      <td>15.0</td>\n",
       "      <td>46.0</td>\n",
       "      <td>466.0</td>\n",
       "      <td>57.0</td>\n",
       "    </tr>\n",
       "    <tr>\n",
       "      <td>...</td>\n",
       "      <td>...</td>\n",
       "      <td>...</td>\n",
       "      <td>...</td>\n",
       "      <td>...</td>\n",
       "      <td>...</td>\n",
       "    </tr>\n",
       "    <tr>\n",
       "      <td>1498</td>\n",
       "      <td>10</td>\n",
       "      <td>21.0</td>\n",
       "      <td>30.0</td>\n",
       "      <td>247.0</td>\n",
       "      <td>42.0</td>\n",
       "    </tr>\n",
       "    <tr>\n",
       "      <td rowspan=\"4\" valign=\"top\">1499</td>\n",
       "      <td>9</td>\n",
       "      <td>2.0</td>\n",
       "      <td>8.0</td>\n",
       "      <td>70.0</td>\n",
       "      <td>11.0</td>\n",
       "    </tr>\n",
       "    <tr>\n",
       "      <td>10</td>\n",
       "      <td>18.0</td>\n",
       "      <td>44.0</td>\n",
       "      <td>449.0</td>\n",
       "      <td>48.0</td>\n",
       "    </tr>\n",
       "    <tr>\n",
       "      <td>11</td>\n",
       "      <td>18.0</td>\n",
       "      <td>62.0</td>\n",
       "      <td>612.0</td>\n",
       "      <td>59.0</td>\n",
       "    </tr>\n",
       "    <tr>\n",
       "      <td>12</td>\n",
       "      <td>13.0</td>\n",
       "      <td>56.0</td>\n",
       "      <td>492.0</td>\n",
       "      <td>66.0</td>\n",
       "    </tr>\n",
       "  </tbody>\n",
       "</table>\n",
       "<p>3214 rows × 4 columns</p>\n",
       "</div>"
      ],
      "text/plain": [
       "               gb_used  calls_count  calls_duration  messages_count\n",
       "user_id month                                                      \n",
       "1000    5          3.0         17.0           159.0            22.0\n",
       "        6         23.0         28.0           172.0            60.0\n",
       "        7         14.0         41.0           340.0            75.0\n",
       "        8         14.0         42.0           408.0            81.0\n",
       "        9         15.0         46.0           466.0            57.0\n",
       "...                ...          ...             ...             ...\n",
       "1498    10        21.0         30.0           247.0            42.0\n",
       "1499    9          2.0          8.0            70.0            11.0\n",
       "        10        18.0         44.0           449.0            48.0\n",
       "        11        18.0         62.0           612.0            59.0\n",
       "        12        13.0         56.0           492.0            66.0\n",
       "\n",
       "[3214 rows x 4 columns]"
      ]
     },
     "execution_count": 83,
     "metadata": {},
     "output_type": "execute_result"
    }
   ],
   "source": [
    "# Объединение датафреймов 'monthly_calls', 'monthly_messages', 'monthly_sessions'\n",
    "monthly_data = monthly_sessions.join([monthly_calls, monthly_messages])\n",
    "monthly_data = monthly_sessions.join([monthly_calls, monthly_messages], how = 'outer')\n",
    "\n",
    "# Вывод объединенной таблицы на экран\n",
    "monthly_data"
   ]
  },
  {
   "cell_type": "markdown",
   "metadata": {},
   "source": [
    "Таблицы успешно объединены. Далее необходимо объединить данную таблицу с таблицей ***users*** и ***tariffs***"
   ]
  },
  {
   "cell_type": "code",
   "execution_count": 84,
   "metadata": {},
   "outputs": [
    {
     "data": {
      "text/html": [
       "<div>\n",
       "<style scoped>\n",
       "    .dataframe tbody tr th:only-of-type {\n",
       "        vertical-align: middle;\n",
       "    }\n",
       "\n",
       "    .dataframe tbody tr th {\n",
       "        vertical-align: top;\n",
       "    }\n",
       "\n",
       "    .dataframe thead th {\n",
       "        text-align: right;\n",
       "    }\n",
       "</style>\n",
       "<table border=\"1\" class=\"dataframe\">\n",
       "  <thead>\n",
       "    <tr style=\"text-align: right;\">\n",
       "      <th></th>\n",
       "      <th>user_id</th>\n",
       "      <th>age</th>\n",
       "      <th>churn_date</th>\n",
       "      <th>city</th>\n",
       "      <th>first_name</th>\n",
       "      <th>last_name</th>\n",
       "      <th>reg_date</th>\n",
       "      <th>tariff_name</th>\n",
       "      <th>month</th>\n",
       "      <th>gb_used</th>\n",
       "      <th>calls_count</th>\n",
       "      <th>calls_duration</th>\n",
       "      <th>messages_count</th>\n",
       "      <th>messages_included</th>\n",
       "      <th>mb_per_month_included</th>\n",
       "      <th>minutes_included</th>\n",
       "      <th>rub_monthly_fee</th>\n",
       "      <th>rub_per_gb</th>\n",
       "      <th>rub_per_message</th>\n",
       "      <th>rub_per_minute</th>\n",
       "    </tr>\n",
       "  </thead>\n",
       "  <tbody>\n",
       "    <tr>\n",
       "      <td>0</td>\n",
       "      <td>1000</td>\n",
       "      <td>52</td>\n",
       "      <td>NaT</td>\n",
       "      <td>Краснодар</td>\n",
       "      <td>Рафаил</td>\n",
       "      <td>Верещагин</td>\n",
       "      <td>2018-05-25</td>\n",
       "      <td>ultra</td>\n",
       "      <td>5</td>\n",
       "      <td>3.0</td>\n",
       "      <td>17.0</td>\n",
       "      <td>159.0</td>\n",
       "      <td>22.0</td>\n",
       "      <td>1000</td>\n",
       "      <td>30720</td>\n",
       "      <td>3000</td>\n",
       "      <td>1950</td>\n",
       "      <td>150</td>\n",
       "      <td>1</td>\n",
       "      <td>1</td>\n",
       "    </tr>\n",
       "    <tr>\n",
       "      <td>1</td>\n",
       "      <td>1000</td>\n",
       "      <td>52</td>\n",
       "      <td>NaT</td>\n",
       "      <td>Краснодар</td>\n",
       "      <td>Рафаил</td>\n",
       "      <td>Верещагин</td>\n",
       "      <td>2018-05-25</td>\n",
       "      <td>ultra</td>\n",
       "      <td>6</td>\n",
       "      <td>23.0</td>\n",
       "      <td>28.0</td>\n",
       "      <td>172.0</td>\n",
       "      <td>60.0</td>\n",
       "      <td>1000</td>\n",
       "      <td>30720</td>\n",
       "      <td>3000</td>\n",
       "      <td>1950</td>\n",
       "      <td>150</td>\n",
       "      <td>1</td>\n",
       "      <td>1</td>\n",
       "    </tr>\n",
       "    <tr>\n",
       "      <td>2</td>\n",
       "      <td>1000</td>\n",
       "      <td>52</td>\n",
       "      <td>NaT</td>\n",
       "      <td>Краснодар</td>\n",
       "      <td>Рафаил</td>\n",
       "      <td>Верещагин</td>\n",
       "      <td>2018-05-25</td>\n",
       "      <td>ultra</td>\n",
       "      <td>7</td>\n",
       "      <td>14.0</td>\n",
       "      <td>41.0</td>\n",
       "      <td>340.0</td>\n",
       "      <td>75.0</td>\n",
       "      <td>1000</td>\n",
       "      <td>30720</td>\n",
       "      <td>3000</td>\n",
       "      <td>1950</td>\n",
       "      <td>150</td>\n",
       "      <td>1</td>\n",
       "      <td>1</td>\n",
       "    </tr>\n",
       "    <tr>\n",
       "      <td>3</td>\n",
       "      <td>1000</td>\n",
       "      <td>52</td>\n",
       "      <td>NaT</td>\n",
       "      <td>Краснодар</td>\n",
       "      <td>Рафаил</td>\n",
       "      <td>Верещагин</td>\n",
       "      <td>2018-05-25</td>\n",
       "      <td>ultra</td>\n",
       "      <td>8</td>\n",
       "      <td>14.0</td>\n",
       "      <td>42.0</td>\n",
       "      <td>408.0</td>\n",
       "      <td>81.0</td>\n",
       "      <td>1000</td>\n",
       "      <td>30720</td>\n",
       "      <td>3000</td>\n",
       "      <td>1950</td>\n",
       "      <td>150</td>\n",
       "      <td>1</td>\n",
       "      <td>1</td>\n",
       "    </tr>\n",
       "    <tr>\n",
       "      <td>4</td>\n",
       "      <td>1000</td>\n",
       "      <td>52</td>\n",
       "      <td>NaT</td>\n",
       "      <td>Краснодар</td>\n",
       "      <td>Рафаил</td>\n",
       "      <td>Верещагин</td>\n",
       "      <td>2018-05-25</td>\n",
       "      <td>ultra</td>\n",
       "      <td>9</td>\n",
       "      <td>15.0</td>\n",
       "      <td>46.0</td>\n",
       "      <td>466.0</td>\n",
       "      <td>57.0</td>\n",
       "      <td>1000</td>\n",
       "      <td>30720</td>\n",
       "      <td>3000</td>\n",
       "      <td>1950</td>\n",
       "      <td>150</td>\n",
       "      <td>1</td>\n",
       "      <td>1</td>\n",
       "    </tr>\n",
       "    <tr>\n",
       "      <td>...</td>\n",
       "      <td>...</td>\n",
       "      <td>...</td>\n",
       "      <td>...</td>\n",
       "      <td>...</td>\n",
       "      <td>...</td>\n",
       "      <td>...</td>\n",
       "      <td>...</td>\n",
       "      <td>...</td>\n",
       "      <td>...</td>\n",
       "      <td>...</td>\n",
       "      <td>...</td>\n",
       "      <td>...</td>\n",
       "      <td>...</td>\n",
       "      <td>...</td>\n",
       "      <td>...</td>\n",
       "      <td>...</td>\n",
       "      <td>...</td>\n",
       "      <td>...</td>\n",
       "      <td>...</td>\n",
       "      <td>...</td>\n",
       "    </tr>\n",
       "    <tr>\n",
       "      <td>3209</td>\n",
       "      <td>1498</td>\n",
       "      <td>68</td>\n",
       "      <td>2018-10-25</td>\n",
       "      <td>Владикавказ</td>\n",
       "      <td>Всеволод</td>\n",
       "      <td>Акимчин</td>\n",
       "      <td>2018-07-19</td>\n",
       "      <td>smart</td>\n",
       "      <td>10</td>\n",
       "      <td>21.0</td>\n",
       "      <td>30.0</td>\n",
       "      <td>247.0</td>\n",
       "      <td>42.0</td>\n",
       "      <td>50</td>\n",
       "      <td>15360</td>\n",
       "      <td>500</td>\n",
       "      <td>550</td>\n",
       "      <td>200</td>\n",
       "      <td>3</td>\n",
       "      <td>3</td>\n",
       "    </tr>\n",
       "    <tr>\n",
       "      <td>3210</td>\n",
       "      <td>1499</td>\n",
       "      <td>35</td>\n",
       "      <td>NaT</td>\n",
       "      <td>Пермь</td>\n",
       "      <td>Гектор</td>\n",
       "      <td>Корнилов</td>\n",
       "      <td>2018-09-27</td>\n",
       "      <td>smart</td>\n",
       "      <td>9</td>\n",
       "      <td>2.0</td>\n",
       "      <td>8.0</td>\n",
       "      <td>70.0</td>\n",
       "      <td>11.0</td>\n",
       "      <td>50</td>\n",
       "      <td>15360</td>\n",
       "      <td>500</td>\n",
       "      <td>550</td>\n",
       "      <td>200</td>\n",
       "      <td>3</td>\n",
       "      <td>3</td>\n",
       "    </tr>\n",
       "    <tr>\n",
       "      <td>3211</td>\n",
       "      <td>1499</td>\n",
       "      <td>35</td>\n",
       "      <td>NaT</td>\n",
       "      <td>Пермь</td>\n",
       "      <td>Гектор</td>\n",
       "      <td>Корнилов</td>\n",
       "      <td>2018-09-27</td>\n",
       "      <td>smart</td>\n",
       "      <td>10</td>\n",
       "      <td>18.0</td>\n",
       "      <td>44.0</td>\n",
       "      <td>449.0</td>\n",
       "      <td>48.0</td>\n",
       "      <td>50</td>\n",
       "      <td>15360</td>\n",
       "      <td>500</td>\n",
       "      <td>550</td>\n",
       "      <td>200</td>\n",
       "      <td>3</td>\n",
       "      <td>3</td>\n",
       "    </tr>\n",
       "    <tr>\n",
       "      <td>3212</td>\n",
       "      <td>1499</td>\n",
       "      <td>35</td>\n",
       "      <td>NaT</td>\n",
       "      <td>Пермь</td>\n",
       "      <td>Гектор</td>\n",
       "      <td>Корнилов</td>\n",
       "      <td>2018-09-27</td>\n",
       "      <td>smart</td>\n",
       "      <td>11</td>\n",
       "      <td>18.0</td>\n",
       "      <td>62.0</td>\n",
       "      <td>612.0</td>\n",
       "      <td>59.0</td>\n",
       "      <td>50</td>\n",
       "      <td>15360</td>\n",
       "      <td>500</td>\n",
       "      <td>550</td>\n",
       "      <td>200</td>\n",
       "      <td>3</td>\n",
       "      <td>3</td>\n",
       "    </tr>\n",
       "    <tr>\n",
       "      <td>3213</td>\n",
       "      <td>1499</td>\n",
       "      <td>35</td>\n",
       "      <td>NaT</td>\n",
       "      <td>Пермь</td>\n",
       "      <td>Гектор</td>\n",
       "      <td>Корнилов</td>\n",
       "      <td>2018-09-27</td>\n",
       "      <td>smart</td>\n",
       "      <td>12</td>\n",
       "      <td>13.0</td>\n",
       "      <td>56.0</td>\n",
       "      <td>492.0</td>\n",
       "      <td>66.0</td>\n",
       "      <td>50</td>\n",
       "      <td>15360</td>\n",
       "      <td>500</td>\n",
       "      <td>550</td>\n",
       "      <td>200</td>\n",
       "      <td>3</td>\n",
       "      <td>3</td>\n",
       "    </tr>\n",
       "  </tbody>\n",
       "</table>\n",
       "<p>3214 rows × 20 columns</p>\n",
       "</div>"
      ],
      "text/plain": [
       "      user_id  age churn_date         city first_name  last_name   reg_date  \\\n",
       "0        1000   52        NaT    Краснодар     Рафаил  Верещагин 2018-05-25   \n",
       "1        1000   52        NaT    Краснодар     Рафаил  Верещагин 2018-05-25   \n",
       "2        1000   52        NaT    Краснодар     Рафаил  Верещагин 2018-05-25   \n",
       "3        1000   52        NaT    Краснодар     Рафаил  Верещагин 2018-05-25   \n",
       "4        1000   52        NaT    Краснодар     Рафаил  Верещагин 2018-05-25   \n",
       "...       ...  ...        ...          ...        ...        ...        ...   \n",
       "3209     1498   68 2018-10-25  Владикавказ   Всеволод    Акимчин 2018-07-19   \n",
       "3210     1499   35        NaT        Пермь     Гектор   Корнилов 2018-09-27   \n",
       "3211     1499   35        NaT        Пермь     Гектор   Корнилов 2018-09-27   \n",
       "3212     1499   35        NaT        Пермь     Гектор   Корнилов 2018-09-27   \n",
       "3213     1499   35        NaT        Пермь     Гектор   Корнилов 2018-09-27   \n",
       "\n",
       "     tariff_name  month  gb_used  calls_count  calls_duration  messages_count  \\\n",
       "0          ultra      5      3.0         17.0           159.0            22.0   \n",
       "1          ultra      6     23.0         28.0           172.0            60.0   \n",
       "2          ultra      7     14.0         41.0           340.0            75.0   \n",
       "3          ultra      8     14.0         42.0           408.0            81.0   \n",
       "4          ultra      9     15.0         46.0           466.0            57.0   \n",
       "...          ...    ...      ...          ...             ...             ...   \n",
       "3209       smart     10     21.0         30.0           247.0            42.0   \n",
       "3210       smart      9      2.0          8.0            70.0            11.0   \n",
       "3211       smart     10     18.0         44.0           449.0            48.0   \n",
       "3212       smart     11     18.0         62.0           612.0            59.0   \n",
       "3213       smart     12     13.0         56.0           492.0            66.0   \n",
       "\n",
       "      messages_included  mb_per_month_included  minutes_included  \\\n",
       "0                  1000                  30720              3000   \n",
       "1                  1000                  30720              3000   \n",
       "2                  1000                  30720              3000   \n",
       "3                  1000                  30720              3000   \n",
       "4                  1000                  30720              3000   \n",
       "...                 ...                    ...               ...   \n",
       "3209                 50                  15360               500   \n",
       "3210                 50                  15360               500   \n",
       "3211                 50                  15360               500   \n",
       "3212                 50                  15360               500   \n",
       "3213                 50                  15360               500   \n",
       "\n",
       "      rub_monthly_fee  rub_per_gb  rub_per_message  rub_per_minute  \n",
       "0                1950         150                1               1  \n",
       "1                1950         150                1               1  \n",
       "2                1950         150                1               1  \n",
       "3                1950         150                1               1  \n",
       "4                1950         150                1               1  \n",
       "...               ...         ...              ...             ...  \n",
       "3209              550         200                3               3  \n",
       "3210              550         200                3               3  \n",
       "3211              550         200                3               3  \n",
       "3212              550         200                3               3  \n",
       "3213              550         200                3               3  \n",
       "\n",
       "[3214 rows x 20 columns]"
      ]
     },
     "execution_count": 84,
     "metadata": {},
     "output_type": "execute_result"
    }
   ],
   "source": [
    "# Вывод столбцa 'month' из индекса таблицы 'monthly_data'\n",
    "monthly_data = monthly_data.reset_index(level = 'month')\n",
    "\n",
    "# Объединение таблицы 'users' c 'monthly_data'\n",
    "monthly_data = users.join(monthly_data, on = 'user_id', how = 'right')\n",
    "\n",
    "# Переименование столбца 'tariff' таблицы 'monthly_data'\n",
    "monthly_data.rename(columns = {'tariff':'tariff_name'}, inplace = True)\n",
    "\n",
    "# Объединение таблицы 'monthly_data' и 'tariffs'\n",
    "monthly_data = monthly_data.merge(tariffs, on = 'tariff_name', how = 'left')\n",
    "\n",
    "# Вывод объединенной таблицы на экран\n",
    "monthly_data"
   ]
  },
  {
   "cell_type": "markdown",
   "metadata": {},
   "source": [
    "Данные успешно объединены. Рассчитаем выручку от каждого пользователя:"
   ]
  },
  {
   "cell_type": "code",
   "execution_count": 85,
   "metadata": {},
   "outputs": [
    {
     "data": {
      "text/html": [
       "<div>\n",
       "<style scoped>\n",
       "    .dataframe tbody tr th:only-of-type {\n",
       "        vertical-align: middle;\n",
       "    }\n",
       "\n",
       "    .dataframe tbody tr th {\n",
       "        vertical-align: top;\n",
       "    }\n",
       "\n",
       "    .dataframe thead th {\n",
       "        text-align: right;\n",
       "    }\n",
       "</style>\n",
       "<table border=\"1\" class=\"dataframe\">\n",
       "  <thead>\n",
       "    <tr style=\"text-align: right;\">\n",
       "      <th></th>\n",
       "      <th>user_id</th>\n",
       "      <th>age</th>\n",
       "      <th>churn_date</th>\n",
       "      <th>city</th>\n",
       "      <th>first_name</th>\n",
       "      <th>last_name</th>\n",
       "      <th>reg_date</th>\n",
       "      <th>tariff_name</th>\n",
       "      <th>month</th>\n",
       "      <th>gb_used</th>\n",
       "      <th>...</th>\n",
       "      <th>calls_duration</th>\n",
       "      <th>messages_count</th>\n",
       "      <th>messages_included</th>\n",
       "      <th>mb_per_month_included</th>\n",
       "      <th>minutes_included</th>\n",
       "      <th>rub_monthly_fee</th>\n",
       "      <th>rub_per_gb</th>\n",
       "      <th>rub_per_message</th>\n",
       "      <th>rub_per_minute</th>\n",
       "      <th>monthly_income</th>\n",
       "    </tr>\n",
       "  </thead>\n",
       "  <tbody>\n",
       "    <tr>\n",
       "      <td>0</td>\n",
       "      <td>1000</td>\n",
       "      <td>52</td>\n",
       "      <td>NaT</td>\n",
       "      <td>Краснодар</td>\n",
       "      <td>Рафаил</td>\n",
       "      <td>Верещагин</td>\n",
       "      <td>2018-05-25</td>\n",
       "      <td>ultra</td>\n",
       "      <td>5</td>\n",
       "      <td>3.0</td>\n",
       "      <td>...</td>\n",
       "      <td>159.0</td>\n",
       "      <td>22.0</td>\n",
       "      <td>1000</td>\n",
       "      <td>30720</td>\n",
       "      <td>3000</td>\n",
       "      <td>1950</td>\n",
       "      <td>150</td>\n",
       "      <td>1</td>\n",
       "      <td>1</td>\n",
       "      <td>1950.0</td>\n",
       "    </tr>\n",
       "    <tr>\n",
       "      <td>1</td>\n",
       "      <td>1000</td>\n",
       "      <td>52</td>\n",
       "      <td>NaT</td>\n",
       "      <td>Краснодар</td>\n",
       "      <td>Рафаил</td>\n",
       "      <td>Верещагин</td>\n",
       "      <td>2018-05-25</td>\n",
       "      <td>ultra</td>\n",
       "      <td>6</td>\n",
       "      <td>23.0</td>\n",
       "      <td>...</td>\n",
       "      <td>172.0</td>\n",
       "      <td>60.0</td>\n",
       "      <td>1000</td>\n",
       "      <td>30720</td>\n",
       "      <td>3000</td>\n",
       "      <td>1950</td>\n",
       "      <td>150</td>\n",
       "      <td>1</td>\n",
       "      <td>1</td>\n",
       "      <td>1950.0</td>\n",
       "    </tr>\n",
       "    <tr>\n",
       "      <td>2</td>\n",
       "      <td>1000</td>\n",
       "      <td>52</td>\n",
       "      <td>NaT</td>\n",
       "      <td>Краснодар</td>\n",
       "      <td>Рафаил</td>\n",
       "      <td>Верещагин</td>\n",
       "      <td>2018-05-25</td>\n",
       "      <td>ultra</td>\n",
       "      <td>7</td>\n",
       "      <td>14.0</td>\n",
       "      <td>...</td>\n",
       "      <td>340.0</td>\n",
       "      <td>75.0</td>\n",
       "      <td>1000</td>\n",
       "      <td>30720</td>\n",
       "      <td>3000</td>\n",
       "      <td>1950</td>\n",
       "      <td>150</td>\n",
       "      <td>1</td>\n",
       "      <td>1</td>\n",
       "      <td>1950.0</td>\n",
       "    </tr>\n",
       "    <tr>\n",
       "      <td>3</td>\n",
       "      <td>1000</td>\n",
       "      <td>52</td>\n",
       "      <td>NaT</td>\n",
       "      <td>Краснодар</td>\n",
       "      <td>Рафаил</td>\n",
       "      <td>Верещагин</td>\n",
       "      <td>2018-05-25</td>\n",
       "      <td>ultra</td>\n",
       "      <td>8</td>\n",
       "      <td>14.0</td>\n",
       "      <td>...</td>\n",
       "      <td>408.0</td>\n",
       "      <td>81.0</td>\n",
       "      <td>1000</td>\n",
       "      <td>30720</td>\n",
       "      <td>3000</td>\n",
       "      <td>1950</td>\n",
       "      <td>150</td>\n",
       "      <td>1</td>\n",
       "      <td>1</td>\n",
       "      <td>1950.0</td>\n",
       "    </tr>\n",
       "    <tr>\n",
       "      <td>4</td>\n",
       "      <td>1000</td>\n",
       "      <td>52</td>\n",
       "      <td>NaT</td>\n",
       "      <td>Краснодар</td>\n",
       "      <td>Рафаил</td>\n",
       "      <td>Верещагин</td>\n",
       "      <td>2018-05-25</td>\n",
       "      <td>ultra</td>\n",
       "      <td>9</td>\n",
       "      <td>15.0</td>\n",
       "      <td>...</td>\n",
       "      <td>466.0</td>\n",
       "      <td>57.0</td>\n",
       "      <td>1000</td>\n",
       "      <td>30720</td>\n",
       "      <td>3000</td>\n",
       "      <td>1950</td>\n",
       "      <td>150</td>\n",
       "      <td>1</td>\n",
       "      <td>1</td>\n",
       "      <td>1950.0</td>\n",
       "    </tr>\n",
       "    <tr>\n",
       "      <td>...</td>\n",
       "      <td>...</td>\n",
       "      <td>...</td>\n",
       "      <td>...</td>\n",
       "      <td>...</td>\n",
       "      <td>...</td>\n",
       "      <td>...</td>\n",
       "      <td>...</td>\n",
       "      <td>...</td>\n",
       "      <td>...</td>\n",
       "      <td>...</td>\n",
       "      <td>...</td>\n",
       "      <td>...</td>\n",
       "      <td>...</td>\n",
       "      <td>...</td>\n",
       "      <td>...</td>\n",
       "      <td>...</td>\n",
       "      <td>...</td>\n",
       "      <td>...</td>\n",
       "      <td>...</td>\n",
       "      <td>...</td>\n",
       "      <td>...</td>\n",
       "    </tr>\n",
       "    <tr>\n",
       "      <td>3209</td>\n",
       "      <td>1498</td>\n",
       "      <td>68</td>\n",
       "      <td>2018-10-25</td>\n",
       "      <td>Владикавказ</td>\n",
       "      <td>Всеволод</td>\n",
       "      <td>Акимчин</td>\n",
       "      <td>2018-07-19</td>\n",
       "      <td>smart</td>\n",
       "      <td>10</td>\n",
       "      <td>21.0</td>\n",
       "      <td>...</td>\n",
       "      <td>247.0</td>\n",
       "      <td>42.0</td>\n",
       "      <td>50</td>\n",
       "      <td>15360</td>\n",
       "      <td>500</td>\n",
       "      <td>550</td>\n",
       "      <td>200</td>\n",
       "      <td>3</td>\n",
       "      <td>3</td>\n",
       "      <td>1750.0</td>\n",
       "    </tr>\n",
       "    <tr>\n",
       "      <td>3210</td>\n",
       "      <td>1499</td>\n",
       "      <td>35</td>\n",
       "      <td>NaT</td>\n",
       "      <td>Пермь</td>\n",
       "      <td>Гектор</td>\n",
       "      <td>Корнилов</td>\n",
       "      <td>2018-09-27</td>\n",
       "      <td>smart</td>\n",
       "      <td>9</td>\n",
       "      <td>2.0</td>\n",
       "      <td>...</td>\n",
       "      <td>70.0</td>\n",
       "      <td>11.0</td>\n",
       "      <td>50</td>\n",
       "      <td>15360</td>\n",
       "      <td>500</td>\n",
       "      <td>550</td>\n",
       "      <td>200</td>\n",
       "      <td>3</td>\n",
       "      <td>3</td>\n",
       "      <td>550.0</td>\n",
       "    </tr>\n",
       "    <tr>\n",
       "      <td>3211</td>\n",
       "      <td>1499</td>\n",
       "      <td>35</td>\n",
       "      <td>NaT</td>\n",
       "      <td>Пермь</td>\n",
       "      <td>Гектор</td>\n",
       "      <td>Корнилов</td>\n",
       "      <td>2018-09-27</td>\n",
       "      <td>smart</td>\n",
       "      <td>10</td>\n",
       "      <td>18.0</td>\n",
       "      <td>...</td>\n",
       "      <td>449.0</td>\n",
       "      <td>48.0</td>\n",
       "      <td>50</td>\n",
       "      <td>15360</td>\n",
       "      <td>500</td>\n",
       "      <td>550</td>\n",
       "      <td>200</td>\n",
       "      <td>3</td>\n",
       "      <td>3</td>\n",
       "      <td>1150.0</td>\n",
       "    </tr>\n",
       "    <tr>\n",
       "      <td>3212</td>\n",
       "      <td>1499</td>\n",
       "      <td>35</td>\n",
       "      <td>NaT</td>\n",
       "      <td>Пермь</td>\n",
       "      <td>Гектор</td>\n",
       "      <td>Корнилов</td>\n",
       "      <td>2018-09-27</td>\n",
       "      <td>smart</td>\n",
       "      <td>11</td>\n",
       "      <td>18.0</td>\n",
       "      <td>...</td>\n",
       "      <td>612.0</td>\n",
       "      <td>59.0</td>\n",
       "      <td>50</td>\n",
       "      <td>15360</td>\n",
       "      <td>500</td>\n",
       "      <td>550</td>\n",
       "      <td>200</td>\n",
       "      <td>3</td>\n",
       "      <td>3</td>\n",
       "      <td>1486.0</td>\n",
       "    </tr>\n",
       "    <tr>\n",
       "      <td>3213</td>\n",
       "      <td>1499</td>\n",
       "      <td>35</td>\n",
       "      <td>NaT</td>\n",
       "      <td>Пермь</td>\n",
       "      <td>Гектор</td>\n",
       "      <td>Корнилов</td>\n",
       "      <td>2018-09-27</td>\n",
       "      <td>smart</td>\n",
       "      <td>12</td>\n",
       "      <td>13.0</td>\n",
       "      <td>...</td>\n",
       "      <td>492.0</td>\n",
       "      <td>66.0</td>\n",
       "      <td>50</td>\n",
       "      <td>15360</td>\n",
       "      <td>500</td>\n",
       "      <td>550</td>\n",
       "      <td>200</td>\n",
       "      <td>3</td>\n",
       "      <td>3</td>\n",
       "      <td>550.0</td>\n",
       "    </tr>\n",
       "  </tbody>\n",
       "</table>\n",
       "<p>3214 rows × 21 columns</p>\n",
       "</div>"
      ],
      "text/plain": [
       "      user_id  age churn_date         city first_name  last_name   reg_date  \\\n",
       "0        1000   52        NaT    Краснодар     Рафаил  Верещагин 2018-05-25   \n",
       "1        1000   52        NaT    Краснодар     Рафаил  Верещагин 2018-05-25   \n",
       "2        1000   52        NaT    Краснодар     Рафаил  Верещагин 2018-05-25   \n",
       "3        1000   52        NaT    Краснодар     Рафаил  Верещагин 2018-05-25   \n",
       "4        1000   52        NaT    Краснодар     Рафаил  Верещагин 2018-05-25   \n",
       "...       ...  ...        ...          ...        ...        ...        ...   \n",
       "3209     1498   68 2018-10-25  Владикавказ   Всеволод    Акимчин 2018-07-19   \n",
       "3210     1499   35        NaT        Пермь     Гектор   Корнилов 2018-09-27   \n",
       "3211     1499   35        NaT        Пермь     Гектор   Корнилов 2018-09-27   \n",
       "3212     1499   35        NaT        Пермь     Гектор   Корнилов 2018-09-27   \n",
       "3213     1499   35        NaT        Пермь     Гектор   Корнилов 2018-09-27   \n",
       "\n",
       "     tariff_name  month  gb_used  ...  calls_duration  messages_count  \\\n",
       "0          ultra      5      3.0  ...           159.0            22.0   \n",
       "1          ultra      6     23.0  ...           172.0            60.0   \n",
       "2          ultra      7     14.0  ...           340.0            75.0   \n",
       "3          ultra      8     14.0  ...           408.0            81.0   \n",
       "4          ultra      9     15.0  ...           466.0            57.0   \n",
       "...          ...    ...      ...  ...             ...             ...   \n",
       "3209       smart     10     21.0  ...           247.0            42.0   \n",
       "3210       smart      9      2.0  ...            70.0            11.0   \n",
       "3211       smart     10     18.0  ...           449.0            48.0   \n",
       "3212       smart     11     18.0  ...           612.0            59.0   \n",
       "3213       smart     12     13.0  ...           492.0            66.0   \n",
       "\n",
       "      messages_included  mb_per_month_included  minutes_included  \\\n",
       "0                  1000                  30720              3000   \n",
       "1                  1000                  30720              3000   \n",
       "2                  1000                  30720              3000   \n",
       "3                  1000                  30720              3000   \n",
       "4                  1000                  30720              3000   \n",
       "...                 ...                    ...               ...   \n",
       "3209                 50                  15360               500   \n",
       "3210                 50                  15360               500   \n",
       "3211                 50                  15360               500   \n",
       "3212                 50                  15360               500   \n",
       "3213                 50                  15360               500   \n",
       "\n",
       "      rub_monthly_fee  rub_per_gb  rub_per_message  rub_per_minute  \\\n",
       "0                1950         150                1               1   \n",
       "1                1950         150                1               1   \n",
       "2                1950         150                1               1   \n",
       "3                1950         150                1               1   \n",
       "4                1950         150                1               1   \n",
       "...               ...         ...              ...             ...   \n",
       "3209              550         200                3               3   \n",
       "3210              550         200                3               3   \n",
       "3211              550         200                3               3   \n",
       "3212              550         200                3               3   \n",
       "3213              550         200                3               3   \n",
       "\n",
       "      monthly_income  \n",
       "0             1950.0  \n",
       "1             1950.0  \n",
       "2             1950.0  \n",
       "3             1950.0  \n",
       "4             1950.0  \n",
       "...              ...  \n",
       "3209          1750.0  \n",
       "3210           550.0  \n",
       "3211          1150.0  \n",
       "3212          1486.0  \n",
       "3213           550.0  \n",
       "\n",
       "[3214 rows x 21 columns]"
      ]
     },
     "metadata": {},
     "output_type": "display_data"
    }
   ],
   "source": [
    "# Создание функции рассчета столбца с данными о ежемесячной выручке с каждого пользователя\n",
    "def monthly_income(row):\n",
    "    \n",
    "    # Условие расчета выручки от звонков сверх лимита\n",
    "    if row['calls_duration'] > row['minutes_included']:\n",
    "        calls_income = (row['calls_duration'] - row['minutes_included']) * row['rub_per_minute']\n",
    "    else:\n",
    "        calls_income = 0\n",
    "        \n",
    "    # Условие расчета выручки от сообщений сверх лимита   \n",
    "    if row['messages_count'] > row['minutes_included']:\n",
    "        messages_income = (row['messages_count'] - row['minutes_included']) * row['rub_per_message']\n",
    "    else:\n",
    "        messages_income = 0\n",
    "        \n",
    "    # Условие расчета выручки от трафика сверх лимита      \n",
    "    if row['gb_used'] > row['mb_per_month_included']/1024:\n",
    "        internet_income = (row['gb_used'] - row['mb_per_month_included']/1024) * row['rub_per_gb']\n",
    "    else:\n",
    "        internet_income = 0 \n",
    "        \n",
    "    # Расчет выручки    \n",
    "    total_income = calls_income + messages_income + internet_income + row['rub_monthly_fee']\n",
    "    \n",
    "    return total_income\n",
    "\n",
    "# Применение функции\n",
    "monthly_data['monthly_income'] = monthly_data.apply(monthly_income, axis = 1)\n",
    "\n",
    "# Вывод результата на экран\n",
    "display(monthly_data)"
   ]
  },
  {
   "cell_type": "markdown",
   "metadata": {},
   "source": [
    "Помесячная выручка с каждого пользователя успешно рассчитана."
   ]
  },
  {
   "cell_type": "markdown",
   "metadata": {},
   "source": [
    "###### Вывод"
   ]
  },
  {
   "cell_type": "markdown",
   "metadata": {},
   "source": [
    "На данном этапе для каждого пользователя были рассчитаны следующие показатели за каждый месяц:\n",
    "\n",
    " - Количество сделанных звонков и израсходованных минут разговора (таблица ***monthly_calls***);\n",
    " - Количество отправленных сообщений (таблица ***monthly_messages***);\n",
    " - Объем израсходованного интернет-трафика (таблица ***monthly_sessions***).\n",
    "\n",
    "Полученные таблицы были объединены с таблицами ***users*** и ***tariffs*** в датасет ***monthly_data*** для удобного расчета помесячной выручки с каждого пользователя.\n",
    "\n",
    "Результаы расчета сохранены в столбце *total_income* датасета ***monthly_data***."
   ]
  },
  {
   "cell_type": "markdown",
   "metadata": {},
   "source": [
    "## Анализ поведения клиентов оператора"
   ]
  },
  {
   "cell_type": "markdown",
   "metadata": {},
   "source": [
    "Исследуем поведение клиентов оператора:"
   ]
  },
  {
   "cell_type": "code",
   "execution_count": 86,
   "metadata": {},
   "outputs": [],
   "source": [
    "# Создание функции для описания сравниваемых услуг тарифов 'Smart' и 'Ultra'\n",
    "def compare_tariffs(service,title,xlabel):\n",
    "    print (service)\n",
    "\n",
    "    # Построение среза таблицы 'monthly_data' по тарифу 'smart'\n",
    "    monthly_data_smart = monthly_data[monthly_data['tariff_name'] == 'smart']\n",
    "    # Построение среза таблицы 'monthly_data' по тарифу 'ultra'\n",
    "    monthly_data_ultra = monthly_data[monthly_data['tariff_name'] == 'ultra']\n",
    "\n",
    "    # Построение гистограммы для 'smart'\n",
    "    plt.style.use('ggplot')\n",
    "    monthly_data_smart[service].plot.hist(\n",
    "        legend = True,\n",
    "        bins = 25,\n",
    "        figsize = (10,8),\n",
    "        alpha = 0.5\n",
    "    )\n",
    "    \n",
    "    # Построение гистограммы для 'ultra'\n",
    "    plt.style.use('ggplot')\n",
    "    monthly_data_ultra[service].plot.hist(\n",
    "        legend = True,\n",
    "        bins = 25, \n",
    "        alpha = 0.5\n",
    "    )\n",
    "    \n",
    "    plt.legend(['Смарт', 'Ультра'])\n",
    "    plt.title(title)\n",
    "    plt.xlabel(xlabel)\n",
    "    plt.ylabel('Частота')\n",
    "    plt.show()\n",
    "\n",
    "    # Расчет и вывод на экран описательной статистики для'Smart'\n",
    "    print('Описательная статистика для \"Smart\"')\n",
    "    display(monthly_data_smart[service].describe())\n",
    "    # Расчет и вывод на экран дисперсии для 'Smart'\n",
    "    print('Дисперсия для \"Smart\": {}'.format(int(np.var(monthly_data_smart[service]))))\n",
    "    print()\n",
    "    # Расчет и вывод на экран описательной статистики для'Ultra'      \n",
    "    print('Описательная статистика для \"Ultra\"')\n",
    "    display(monthly_data_ultra[service].describe())\n",
    "    # Расчет и вывод на экран дисперсии для'Ultra'   \n",
    "    print('Дисперсия для \"Ultra\": {}'.format(int(np.var(monthly_data_ultra[service]))))"
   ]
  },
  {
   "cell_type": "code",
   "execution_count": 87,
   "metadata": {},
   "outputs": [
    {
     "name": "stdout",
     "output_type": "stream",
     "text": [
      "calls_duration\n"
     ]
    },
    {
     "data": {
      "image/png": "[encoded data removed]",
      "text/plain": [
       "<Figure size 720x576 with 1 Axes>"
      ]
     },
     "metadata": {},
     "output_type": "display_data"
    },
    {
     "name": "stdout",
     "output_type": "stream",
     "text": [
      "Описательная статистика для \"Smart\"\n"
     ]
    },
    {
     "data": {
      "text/plain": [
       "count    2221.000000\n",
       "mean      419.440342\n",
       "std       188.992403\n",
       "min         2.000000\n",
       "25%       285.000000\n",
       "50%       423.000000\n",
       "75%       546.000000\n",
       "max      1435.000000\n",
       "Name: calls_duration, dtype: float64"
      ]
     },
     "metadata": {},
     "output_type": "display_data"
    },
    {
     "name": "stdout",
     "output_type": "stream",
     "text": [
      "Дисперсия для \"Smart\": 35702\n",
      "\n",
      "Описательная статистика для \"Ultra\"\n"
     ]
    },
    {
     "data": {
      "text/plain": [
       "count     947.000000\n",
       "mean      547.755016\n",
       "std       305.513385\n",
       "min         1.000000\n",
       "25%       311.000000\n",
       "50%       529.000000\n",
       "75%       758.000000\n",
       "max      1673.000000\n",
       "Name: calls_duration, dtype: float64"
      ]
     },
     "metadata": {},
     "output_type": "display_data"
    },
    {
     "name": "stdout",
     "output_type": "stream",
     "text": [
      "Дисперсия для \"Ultra\": 93239\n"
     ]
    }
   ],
   "source": [
    "# Применение функции для сравнения данных о длительности звонков, сделанных пользователями тарифов 'Smart' и 'Ultra'\n",
    "compare_tariffs('calls_duration',\n",
    "                'Распределение времени, потраченного на разговоры', \n",
    "                'Время, потраченное на разговоры, мин')"
   ]
  },
  {
   "cell_type": "markdown",
   "metadata": {},
   "source": [
    "Интерпретируем полученные гистограммы и данные описательной статистики:\n",
    "\n",
    "1. Набор данных по тарифу ***Smart*** симметричен, тогда как по тарифу ***Ultra*** скошен вправо.\n",
    "2. Разброс данных в выборке по тарифу ***Smart*** менее выражен, чем  выборке по тарифу ***Ultra***: стандартное отклонение и дисперсия рассчитанные для тарифа ***Smart*** меньше, чем для тарифа ***Ultra***: 189 и 35 702 против 305.5 и 93 239 соответственно.\n",
    "3. Чаще всего пользователи обоих тарифов тратят на звонки время около среднего или медианного по выборке. Среднее значение времени, потраченного на звонки по тарифу ***Smart*** меньше, чем по тарифу ***Ultra***: 419.4 мин против 547.8 мин соответственно;\n",
    "4. В целом, скос и разброс набора данных, а также более высокие средние и медианные значения, рассчитанные по тарифу ***Ultra*** говорят о том, что потребность в разговорах по телефону у пользователей тарифа ***Ultra*** выше, чем у пользователей тарифа ***Smart***.\n"
   ]
  },
  {
   "cell_type": "code",
   "execution_count": 89,
   "metadata": {},
   "outputs": [
    {
     "name": "stdout",
     "output_type": "stream",
     "text": [
      "messages_count\n"
     ]
    },
    {
     "data": {
      "image/png": "[encoded data removed]",
      "text/plain": [
       "<Figure size 720x576 with 1 Axes>"
      ]
     },
     "metadata": {},
     "output_type": "display_data"
    },
    {
     "name": "stdout",
     "output_type": "stream",
     "text": [
      "Описательная статистика для \"Smart\"\n"
     ]
    },
    {
     "data": {
      "text/plain": [
       "count    1922.000000\n",
       "mean       38.716441\n",
       "std        26.787949\n",
       "min         1.000000\n",
       "25%        17.000000\n",
       "50%        34.000000\n",
       "75%        55.000000\n",
       "max       143.000000\n",
       "Name: messages_count, dtype: float64"
      ]
     },
     "metadata": {},
     "output_type": "display_data"
    },
    {
     "name": "stdout",
     "output_type": "stream",
     "text": [
      "Дисперсия для \"Smart\": 717\n",
      "\n",
      "Описательная статистика для \"Ultra\"\n"
     ]
    },
    {
     "data": {
      "text/plain": [
       "count    795.000000\n",
       "mean      61.161006\n",
       "std       45.931026\n",
       "min        1.000000\n",
       "25%       24.000000\n",
       "50%       51.000000\n",
       "75%       87.500000\n",
       "max      224.000000\n",
       "Name: messages_count, dtype: float64"
      ]
     },
     "metadata": {},
     "output_type": "display_data"
    },
    {
     "name": "stdout",
     "output_type": "stream",
     "text": [
      "Дисперсия для \"Ultra\": 2107\n"
     ]
    }
   ],
   "source": [
    "# Применение функции для сравнения данных об отправленных сообщениях пользователями тарифов 'Smart' и 'Ultra'\n",
    "compare_tariffs('messages_count',\n",
    "                'Распределение количества отправленных сообщений', \n",
    "                'Количество сообщений, шт.')"
   ]
  },
  {
   "cell_type": "markdown",
   "metadata": {},
   "source": [
    "Интерпретируем полученные гистограммы и данные описательной статистики:\n",
    "\n",
    "1. Наборы данных по тарифам ***Smart*** и ***Ultra*** скошены вправо\n",
    "2. Разброс данных в выборке по тарифу ***Smart*** менее выражен, чем  выборке по тарифу ***Ultra***: стандартное отклонение и дисперсия рассчитанные для тарифа ***Smart*** меньше, чем для тарифа ***Ultra***: 26.8 и 717 против 45.9 и 2107 соответственно.\n",
    "3. Чаще всего пользователи обоих тарифов отправляют сообшений в количестве около среднего или медианного значения по выборке. Среднее количество отправленных сообщений по тарифу ***Smart*** меньше, чем по тарифу ***Ultra***: 38 против 61 соответственно;\n",
    "4. В целом, разброс набора данных, а также более высокие средние и медианные значения, рассчитанные по тарифу ***Ultra*** говорят о том, что потребность в отправке сообщений у пользователей тарифа ***Ultra*** выше, чем у пользователей тарифа ***Smart***."
   ]
  },
  {
   "cell_type": "code",
   "execution_count": 90,
   "metadata": {},
   "outputs": [
    {
     "name": "stdout",
     "output_type": "stream",
     "text": [
      "gb_used\n"
     ]
    },
    {
     "data": {
      "image/png": "[encoded data removed]",
      "text/plain": [
       "<Figure size 720x576 with 1 Axes>"
      ]
     },
     "metadata": {},
     "output_type": "display_data"
    },
    {
     "name": "stdout",
     "output_type": "stream",
     "text": [
      "Описательная статистика для \"Smart\"\n"
     ]
    },
    {
     "data": {
      "text/plain": [
       "count    2228.000000\n",
       "mean       16.336176\n",
       "std         5.737923\n",
       "min         0.000000\n",
       "25%        13.000000\n",
       "50%        17.000000\n",
       "75%        20.000000\n",
       "max        38.000000\n",
       "Name: gb_used, dtype: float64"
      ]
     },
     "metadata": {},
     "output_type": "display_data"
    },
    {
     "name": "stdout",
     "output_type": "stream",
     "text": [
      "Дисперсия для \"Smart\": 32\n",
      "\n",
      "Описательная статистика для \"Ultra\"\n"
     ]
    },
    {
     "data": {
      "text/plain": [
       "count    975.000000\n",
       "mean      19.694359\n",
       "std        9.702924\n",
       "min        0.000000\n",
       "25%       12.000000\n",
       "50%       19.000000\n",
       "75%       27.000000\n",
       "max       49.000000\n",
       "Name: gb_used, dtype: float64"
      ]
     },
     "metadata": {},
     "output_type": "display_data"
    },
    {
     "name": "stdout",
     "output_type": "stream",
     "text": [
      "Дисперсия для \"Ultra\": 94\n"
     ]
    }
   ],
   "source": [
    "# Применение функции для сравнения данных о расходованном интернет-трафике пользователями тарифов 'Smart' и 'Ultra'\n",
    "compare_tariffs('gb_used',\n",
    "                'Распределение объемов использованного трафика', \n",
    "                'Объем трафика, гб.')"
   ]
  },
  {
   "cell_type": "markdown",
   "metadata": {},
   "source": [
    "1. Наборы данных по тарифам ***Smart*** и ***Ultra*** симметричны.\n",
    "2. Разброс данных в выборке по тарифу ***Smart*** менее выражен, чем  выборке по тарифу ***Ultra***: стандартное отклонение и дисперсия рассчитанные для тарифа ***Smart*** меньше, чем для тарифа ***Ultra***: 5.7 и 32 против 9.7 и 94 соответственно.\n",
    "3. Чаще всего пользователи обоих тарифов расходуют трафика в количестве около среднего или медианного значения по выборке. Средний объем трафика по тарифу ***Smart*** меньше, чем по тарифу ***Ultra***: 16.3 gb против 19.7 gb соответственно;\n",
    "4. В целом, разброс набора данных, а также более высокие средние и медианные значения, рассчитанные по тарифу ***Ultra*** говорят о том, что потребность в интернет-трафике у пользователей тарифа ***Ultra*** выше, чем у пользователей тарифа ***Smart***."
   ]
  },
  {
   "cell_type": "markdown",
   "metadata": {},
   "source": [
    "###### Вывод"
   ]
  },
  {
   "cell_type": "markdown",
   "metadata": {},
   "source": [
    "Тарифом ***Smart*** пользуется большее количество людей, но потребности в длительности разговоров, количестве сообщений и объеме интернет-трафика у пользователей тарифа ***Ultra*** выше, чем у пользователей тарифа ***Smart***: \n",
    "\n",
    " - Пользователи тарифа ***Smart*** тратят на звонки от 2 до 1435 минут в месяц, а пользователи тарифа ***Ultra*** - от 1 до 1673 минут. В среднем, пользователь тарифа ***Smart*** тратит 419 минут в месяц на звонки, а пользователь тарифа ***Ultra*** - 548 минут.\n",
    " \n",
    "\n",
    " - Пользователи тарифа ***Smart*** отправляют от 1 до 143 сообщений в месяц, а пользователи тарифа ***Ultra*** - от 1 до 224. В среднем, пользователь тарифа ***Smart*** отправляет 38 сообщений в месяц, а пользователь тарифа ***Ultra*** - 61.\n",
    " \n",
    " \n",
    " - Пользователи тарифа ***Smart*** используют от 0 до 38 gb интернет-трафика в месяц, а пользователи тарифа ***Ultra*** - от 0 до 49. В среднем, пользователь тарифа ***Smart*** использует 16 gb в месяц, а пользователь тарифа ***Ultra*** - 20.\n",
    " \n",
    "В среднем, пользователи тарифа ***Ultra*** не превышают лимиты по услугам, а пользователи тарифа ***Smart*** превышают лимит по доступному интернет-трафику и чаще платят за трафик сверх лимита."
   ]
  },
  {
   "cell_type": "markdown",
   "metadata": {},
   "source": [
    "## Проверка гипотез"
   ]
  },
  {
   "cell_type": "markdown",
   "metadata": {},
   "source": [
    "Одной из поставленных задач в данном проекте является проверка гипотезы о различии средней выручки с пользователей тарифов ***Smart*** и ***Ultra***. Сравним среднюю выручку с пользователей данных тарифов и оценим статистическую значимость полученной разницы:"
   ]
  },
  {
   "cell_type": "code",
   "execution_count": 91,
   "metadata": {},
   "outputs": [
    {
     "data": {
      "text/html": [
       "<div>\n",
       "<style scoped>\n",
       "    .dataframe tbody tr th:only-of-type {\n",
       "        vertical-align: middle;\n",
       "    }\n",
       "\n",
       "    .dataframe tbody tr th {\n",
       "        vertical-align: top;\n",
       "    }\n",
       "\n",
       "    .dataframe thead th {\n",
       "        text-align: right;\n",
       "    }\n",
       "</style>\n",
       "<table border=\"1\" class=\"dataframe\">\n",
       "  <thead>\n",
       "    <tr style=\"text-align: right;\">\n",
       "      <th></th>\n",
       "      <th>total_income</th>\n",
       "    </tr>\n",
       "    <tr>\n",
       "      <th>tariff_name</th>\n",
       "      <th></th>\n",
       "    </tr>\n",
       "  </thead>\n",
       "  <tbody>\n",
       "    <tr>\n",
       "      <td>smart</td>\n",
       "      <td>2836567.0</td>\n",
       "    </tr>\n",
       "    <tr>\n",
       "      <td>ultra</td>\n",
       "      <td>2039100.0</td>\n",
       "    </tr>\n",
       "  </tbody>\n",
       "</table>\n",
       "</div>"
      ],
      "text/plain": [
       "             total_income\n",
       "tariff_name              \n",
       "smart           2836567.0\n",
       "ultra           2039100.0"
      ]
     },
     "metadata": {},
     "output_type": "display_data"
    },
    {
     "data": {
      "text/html": [
       "<div>\n",
       "<style scoped>\n",
       "    .dataframe tbody tr th:only-of-type {\n",
       "        vertical-align: middle;\n",
       "    }\n",
       "\n",
       "    .dataframe tbody tr th {\n",
       "        vertical-align: top;\n",
       "    }\n",
       "\n",
       "    .dataframe thead th {\n",
       "        text-align: right;\n",
       "    }\n",
       "</style>\n",
       "<table border=\"1\" class=\"dataframe\">\n",
       "  <thead>\n",
       "    <tr style=\"text-align: right;\">\n",
       "      <th></th>\n",
       "      <th>monthly_income</th>\n",
       "    </tr>\n",
       "    <tr>\n",
       "      <th>tariff_name</th>\n",
       "      <th></th>\n",
       "    </tr>\n",
       "  </thead>\n",
       "  <tbody>\n",
       "    <tr>\n",
       "      <td>smart</td>\n",
       "      <td>1272.573800</td>\n",
       "    </tr>\n",
       "    <tr>\n",
       "      <td>ultra</td>\n",
       "      <td>2070.152284</td>\n",
       "    </tr>\n",
       "  </tbody>\n",
       "</table>\n",
       "</div>"
      ],
      "text/plain": [
       "             monthly_income\n",
       "tariff_name                \n",
       "smart           1272.573800\n",
       "ultra           2070.152284"
      ]
     },
     "metadata": {},
     "output_type": "display_data"
    }
   ],
   "source": [
    "# Расчет суммы выручки с пользователей тарифов с помощью сводной таблицы:\n",
    "total_income_compare = monthly_data.pivot_table(index = 'tariff_name', values = 'monthly_income', aggfunc = 'sum')\n",
    "total_income_compare.columns = ['total_income']\n",
    "\n",
    "# Расчет средней выручки с пользователей тарифов с помощью сводной таблицы:\n",
    "monthly_income_compare = monthly_data.pivot_table(index = 'tariff_name', values = 'monthly_income', aggfunc = 'mean')\n",
    "\n",
    "# Вывод результата на экран\n",
    "display(total_income_compare)\n",
    "display(monthly_income_compare)"
   ]
  },
  {
   "cell_type": "markdown",
   "metadata": {},
   "source": [
    "Из результатов расчетов видно, что в рамках рассмотренной выборки суммарная выручка с пользователей тарифа ***Smart*** больше, чем с пользователей тарифа ***Ultra*** , более, чем на 790 тыс. рублей.\n",
    "\n",
    "В то же время, средняя выручка с пользователей тарифа ***Ultra*** выше, чем с пользователей тарифа ***Smart*** почти на 800 р. Проверим, значимо ли статистически данное различие.\n",
    "\n",
    "Проверка гипотезы о разной выручке для каждого из тарифов будет сводиться к проверке гипотезы о равенстве среднего двух генеральных совокупностей по взятым из них выборкам. \n",
    "\n",
    "Таким оборазом, из полученных нам ранее данных нужно сформировать отдельные выборки по выручке с пользователей каждого из тарифов:"
   ]
  },
  {
   "cell_type": "code",
   "execution_count": 92,
   "metadata": {},
   "outputs": [
    {
     "name": "stdout",
     "output_type": "stream",
     "text": [
      "count    2229.000000\n",
      "mean     1272.573800\n",
      "std       813.582805\n",
      "min       550.000000\n",
      "25%       550.000000\n",
      "50%       994.000000\n",
      "75%      1750.000000\n",
      "max      6671.000000\n",
      "Name: monthly_income, dtype: float64\n",
      "\n",
      "count     985.000000\n",
      "mean     2070.152284\n",
      "std       376.187114\n",
      "min      1950.000000\n",
      "25%      1950.000000\n",
      "50%      1950.000000\n",
      "75%      1950.000000\n",
      "max      4800.000000\n",
      "Name: monthly_income, dtype: float64\n"
     ]
    }
   ],
   "source": [
    "# Формирование выборки, содержащей данные о помесячной выручке с пользователей тарифа 'Smart'\n",
    "income_data_smart = monthly_data[\n",
    "    monthly_data['tariff_name'] == 'smart']['monthly_income']\n",
    "print(income_data_smart.describe())\n",
    "print()\n",
    "\n",
    "# Формирование выборки, содержащей данные о помесячной выручке с пользователей тарифа 'Ultra'\n",
    "income_data_ultra = monthly_data[\n",
    "    monthly_data['tariff_name'] == 'ultra']['monthly_income']\n",
    "print(income_data_ultra.describe())"
   ]
  },
  {
   "cell_type": "markdown",
   "metadata": {},
   "source": [
    "Каждая из полученных выборок характеризует свою генеральную совокупность.\n",
    "\n",
    "Сформулируем нулевую гипотезу, относительно которой мы будем проверять статистическую значимость результатов сравнения выручки по тарифам:\n",
    "\n",
    "\"*Средние значения двух генеральных совокупностей, характеризуемых выборками ***income_data_smart*** и ***income_data_smart***,  равны\"*.\n",
    "\n",
    "Тогда альтернативной гипотезой будет:\n",
    "\n",
    "\"*Средние значения двух генеральных совокупностей, характеризуемых выборками ***income_data_smart*** и ***income_data_smart***,  не равны\"*.\n",
    "\n",
    "Для проверки гипотезы применим *t-test*. Критерий значимости, *alpha*, примем равным 0.05.\n"
   ]
  },
  {
   "cell_type": "code",
   "execution_count": 93,
   "metadata": {},
   "outputs": [
    {
     "name": "stdout",
     "output_type": "stream",
     "text": [
      "p-значение:  3.798003235009034e-261\n",
      "Отвергаем нулевую гипотезу\n"
     ]
    }
   ],
   "source": [
    "# Создадим функцию для тестирования\n",
    "\n",
    "def t_test(sample_1, sample_2, var_equality):\n",
    "\n",
    "    # Установка критерия значимости\n",
    "    alpha = 0.05\n",
    "\n",
    "    # Применение теста\n",
    "    results = st.ttest_ind(\n",
    "    sample_1,\n",
    "    sample_2,\n",
    "    # equal_var - установливается False, т.к. дисперсии выборок значительно отличаются\n",
    "    equal_var = var_equality)\n",
    "\n",
    "    # Вывод на экран результата теста\n",
    "    print('p-значение: ', results.pvalue)\n",
    "    if results.pvalue < alpha:\n",
    "        print('Отвергаем нулевую гипотезу')\n",
    "    else:\n",
    "        print('Не отвергаем нулевую гипотезу')\n",
    "        \n",
    "# Применение функции\n",
    "t_test(income_data_smart, income_data_ultra, False)"
   ]
  },
  {
   "cell_type": "markdown",
   "metadata": {},
   "source": [
    "Из результатов теста можно сделать вывод о том, что вероятность получить наблюдаемый результат при верной нулевой гипотезе ничтожно мал, и мы не можем принять нулевую гипотезу, что позволяет нам считать, что средняя помесячная выручка с пользователей тарифа ***Ultra*** действительно выше, чем с пользователей тарифа ***Smart***"
   ]
  },
  {
   "cell_type": "markdown",
   "metadata": {},
   "source": [
    "Очередной гипотезой, которую необходимо проверить, является гипотеза об отличии выручки с пользователей Москвы и других регионов. Проверка данной гипотезы также сводится к проверке гипотезы о равенстве среднего двух генеральных совокупностей по взятым из них выборкам.\n",
    "\n",
    "Сформируем выборки отдельно по Москве и другим регионам:"
   ]
  },
  {
   "cell_type": "code",
   "execution_count": 94,
   "metadata": {},
   "outputs": [
    {
     "name": "stdout",
     "output_type": "stream",
     "text": [
      "count     611.000000\n",
      "mean     1539.176759\n",
      "std       752.989181\n",
      "min       550.000000\n",
      "25%       750.000000\n",
      "50%      1750.000000\n",
      "75%      1950.000000\n",
      "max      5267.000000\n",
      "Name: monthly_income, dtype: float64\n",
      "\n",
      "count    2603.000000\n",
      "mean     1511.805609\n",
      "std       808.849204\n",
      "min       550.000000\n",
      "25%       750.000000\n",
      "50%      1550.000000\n",
      "75%      1950.000000\n",
      "max      6671.000000\n",
      "Name: monthly_income, dtype: float64\n",
      "\n"
     ]
    }
   ],
   "source": [
    "# Формирование выборки, содержащей данные о помесячной выручке с пользователей из Москвы\n",
    "income_data_moscow = monthly_data[\n",
    "    monthly_data['city'] == 'Москва']['monthly_income']\n",
    "print(income_data_moscow.describe())\n",
    "print()\n",
    "# Формирование выборки, содержащей данные о помесячной выручке с пользователей из других регионов\n",
    "income_data_others = monthly_data[\n",
    "    monthly_data['city'] != 'Москва']['monthly_income']\n",
    "print(income_data_others.describe())\n",
    "print()"
   ]
  },
  {
   "cell_type": "markdown",
   "metadata": {},
   "source": [
    "Из описательной статистики полученных выборок видно, что средняя выручка с пользователей из Москвы выше, чем с пользователей из других регионов на 27 р. Проверим, насколько данное различие статистически значимо.\n",
    "\n",
    "Каждая из полученных выборок характеризует свою генеральную совокупность.\n",
    "\n",
    "Сформулируем нулевую гипотезу, относительно которой мы будем проверять статистическую значимость результатов сравнения выручки по регионам:\n",
    "\n",
    "\"*Средние значения двух генеральных совокупностей, характеризуемых выборками ***income_data_moscow*** и ***income_data_others***,  равны\"*.\n",
    "\n",
    "Тогда альтернативной гипотезой будет:\n",
    "\n",
    "\"*Средние значения двух генеральных совокупностей, характеризуемых выборками ***income_data_moscow*** и ***income_data_others***,  не равны\"*.\n",
    "\n",
    "Для проверки гипотезы применим *t-test*. Критерий значимости, *alpha*, примем равным 0.05."
   ]
  },
  {
   "cell_type": "code",
   "execution_count": 95,
   "metadata": {},
   "outputs": [
    {
     "name": "stdout",
     "output_type": "stream",
     "text": [
      "p-значение:  0.44582750767085777\n",
      "Не отвергаем нулевую гипотезу\n"
     ]
    }
   ],
   "source": [
    "# Применение функции тестирования для выборок 'income_data_moscow' и 'income_data_others'\n",
    "t_test(income_data_moscow, income_data_others, True)\n",
    "# Параметро equal_var = True, т.к.выборки взяты из схожих по параметрам совокупностей"
   ]
  },
  {
   "cell_type": "markdown",
   "metadata": {},
   "source": [
    "Из результатов теста можно сделать вывод о том, что вероятность получить наблюдаемый результат при верной нулевой гипотезе выше критерия значимости, и мы не можем отвергнуть нулевую гипотезу, что позволяет нам считать, что средняя помесячная выручка с пользователей из Москвы не отличается, от пользователей из других регионов."
   ]
  },
  {
   "cell_type": "markdown",
   "metadata": {},
   "source": [
    "## Общий вывод"
   ]
  },
  {
   "cell_type": "markdown",
   "metadata": {},
   "source": [
    "В ходе анализа выборки данных телеком-компании \"Мегалайн\" было проанализировано поведение пользователей тарифов ***Smart*** и ***Ultra***.\n",
    "\n",
    "В результате анализа было определено, что тариф ***Smart*** более популярен среди пользователей, несмотря на то, что хуже обеспечивает потребность в мобильном интернете, и его пользователям, в среднем, чаще приходится превышать лимит по доступному интернет-трафику и чаще платить за трафик сверх лимита, чем пользователям тарифа ***Ultra***.\n",
    "\n",
    "Кроме того, пользователи тарифа ***Smart*** при абонентской плате в 550 рублей в среднем платят в месяц 1273 рубля, переплачивая 723 рубля за использование услуг сверх лимита. При этом, пользователи тарифа ***Ultra*** при абонентской плате в 1950 рублей в среднем, платят 2070 рублей в месяц, переплачивая 120 рублей. Это говорит о том, что ***Ultra*** лучше обеспечивает потребности пользователей.\n",
    "\n",
    "Тарифом ***Ultra*** пользуется меньшая аудитория пользователей, и их потребности в каждой из услуг выше, чем у пользователей тарифа ***Smart***. Более детальное описание потребностей пользователей обоих тарифов отражено в выводе к этапу 4.\n",
    "\n",
    "Несмотря на то, что средняя помесячная выручка с пользователя тарифа ***Smart*** меньше, чем с тарифа ***Ultra***, в связи с тем, что тарифом ***Smart*** пользуется больше клиентов, суммарная выручка с пользователей данного тарифа выше. За рассмотренный период разница в суммарной выручке между ***Smart*** и ***Ultra*** составила около 797 тыс. рублей.\n",
    "\n",
    "По всей видимости, ***Smart*** привлекает потенциальных клиентов сильнее ценой абонентской платы, а также, возможно, лучшей рекламной компанией. Потенциал его улучшения состоит в том, чтобы лучше обеспечивать потребности клиентов, не заставляя их переплачивать за услуги сверх лимита.\n",
    "\n",
    "Также в результате анализа было выявлено, что средняя выручка с пользователей из Москвы не отличается от других регионов.\n",
    "\n",
    "Гипотезы о разной средней выручке с пользователей разных тарифов и мест проживания были статистически проверены с помощью t-тестирования.\n",
    "\n",
    "Исходя из вышеописанного следует, что ответ на вопрос: \"Какой тариф лучше?\" - относительный:\n",
    " - С точки зрения обеспечения потребностей пользователей за установленную абонентскую плату - лучше ***Ultra***;\n",
    " - С точки зрения обеспечения большей доли выручки компании лучше тариф ***Smart***.\n"
   ]
  }
 ],
 "metadata": {
  "ExecuteTimeLog": [
   {
    "duration": 5,
    "start_time": "2021-06-19T15:36:37.000Z"
   },
   {
    "duration": 1252,
    "start_time": "2021-06-19T15:51:29.104Z"
   },
   {
    "duration": 3,
    "start_time": "2021-06-19T15:52:16.645Z"
   },
   {
    "duration": 3,
    "start_time": "2021-06-19T15:52:20.351Z"
   },
   {
    "duration": 371,
    "start_time": "2021-06-19T15:54:03.167Z"
   },
   {
    "duration": 669,
    "start_time": "2021-06-19T15:54:38.337Z"
   },
   {
    "duration": 536,
    "start_time": "2021-06-19T16:10:10.205Z"
   },
   {
    "duration": 383,
    "start_time": "2021-06-19T16:12:06.621Z"
   },
   {
    "duration": 23,
    "start_time": "2021-06-19T16:12:10.854Z"
   },
   {
    "duration": 21,
    "start_time": "2021-06-19T16:14:26.850Z"
   },
   {
    "duration": 34,
    "start_time": "2021-06-19T16:42:57.497Z"
   },
   {
    "duration": 339,
    "start_time": "2021-06-19T17:10:07.135Z"
   },
   {
    "duration": 572,
    "start_time": "2021-06-19T17:10:16.021Z"
   },
   {
    "duration": 4,
    "start_time": "2021-06-19T17:10:16.596Z"
   },
   {
    "duration": 49,
    "start_time": "2021-06-19T17:10:16.602Z"
   },
   {
    "duration": 27,
    "start_time": "2021-06-19T17:10:16.653Z"
   },
   {
    "duration": 241,
    "start_time": "2021-06-19T17:10:43.656Z"
   },
   {
    "duration": 22,
    "start_time": "2021-06-19T17:10:46.394Z"
   },
   {
    "duration": 548,
    "start_time": "2021-06-19T17:11:54.639Z"
   },
   {
    "duration": 20,
    "start_time": "2021-06-19T17:11:55.190Z"
   },
   {
    "duration": 48,
    "start_time": "2021-06-19T17:11:55.212Z"
   },
   {
    "duration": 25,
    "start_time": "2021-06-19T17:11:55.263Z"
   },
   {
    "duration": 32,
    "start_time": "2021-06-19T17:16:32.150Z"
   },
   {
    "duration": 456,
    "start_time": "2021-06-19T17:20:38.862Z"
   },
   {
    "duration": 42,
    "start_time": "2021-06-19T17:20:45.190Z"
   },
   {
    "duration": 34,
    "start_time": "2021-06-19T17:20:59.234Z"
   },
   {
    "duration": 361,
    "start_time": "2021-06-19T17:27:30.607Z"
   },
   {
    "duration": 318,
    "start_time": "2021-06-19T17:27:44.344Z"
   },
   {
    "duration": 17,
    "start_time": "2021-06-19T17:27:51.651Z"
   },
   {
    "duration": 328,
    "start_time": "2021-06-20T15:58:54.549Z"
   },
   {
    "duration": 1378,
    "start_time": "2021-06-20T16:04:04.401Z"
   },
   {
    "duration": 26,
    "start_time": "2021-06-20T16:04:05.781Z"
   },
   {
    "duration": 44,
    "start_time": "2021-06-20T16:04:05.810Z"
   },
   {
    "duration": 28,
    "start_time": "2021-06-20T16:04:05.857Z"
   },
   {
    "duration": 30,
    "start_time": "2021-06-20T16:04:05.888Z"
   },
   {
    "duration": 48,
    "start_time": "2021-06-20T16:04:05.920Z"
   },
   {
    "duration": 104,
    "start_time": "2021-06-20T16:04:05.971Z"
   },
   {
    "duration": 419,
    "start_time": "2021-06-20T16:06:50.499Z"
   },
   {
    "duration": 348,
    "start_time": "2021-06-20T16:08:02.022Z"
   },
   {
    "duration": 85,
    "start_time": "2021-06-20T16:08:45.412Z"
   },
   {
    "duration": 82,
    "start_time": "2021-06-20T16:08:55.583Z"
   },
   {
    "duration": 531,
    "start_time": "2021-06-20T16:09:09.264Z"
   },
   {
    "duration": 24,
    "start_time": "2021-06-20T16:09:09.799Z"
   },
   {
    "duration": 48,
    "start_time": "2021-06-20T16:09:09.827Z"
   },
   {
    "duration": 26,
    "start_time": "2021-06-20T16:09:09.878Z"
   },
   {
    "duration": 58,
    "start_time": "2021-06-20T16:09:09.906Z"
   },
   {
    "duration": 17,
    "start_time": "2021-06-20T16:09:09.966Z"
   },
   {
    "duration": 123,
    "start_time": "2021-06-20T16:09:09.986Z"
   },
   {
    "duration": 2069,
    "start_time": "2021-06-20T16:09:59.978Z"
   },
   {
    "duration": 2234,
    "start_time": "2021-06-20T16:10:27.524Z"
   },
   {
    "duration": 80,
    "start_time": "2021-06-20T16:10:36.368Z"
   },
   {
    "duration": 499,
    "start_time": "2021-06-20T16:13:18.656Z"
   },
   {
    "duration": 19,
    "start_time": "2021-06-20T16:13:19.158Z"
   },
   {
    "duration": 34,
    "start_time": "2021-06-20T16:13:19.181Z"
   },
   {
    "duration": 54,
    "start_time": "2021-06-20T16:13:19.218Z"
   },
   {
    "duration": 30,
    "start_time": "2021-06-20T16:13:19.274Z"
   },
   {
    "duration": 48,
    "start_time": "2021-06-20T16:13:19.307Z"
   },
   {
    "duration": 99,
    "start_time": "2021-06-20T16:13:19.357Z"
   },
   {
    "duration": 77,
    "start_time": "2021-06-20T16:14:06.265Z"
   },
   {
    "duration": 84,
    "start_time": "2021-06-20T16:32:36.142Z"
   },
   {
    "duration": 80,
    "start_time": "2021-06-20T16:34:14.841Z"
   },
   {
    "duration": 85,
    "start_time": "2021-06-20T16:34:22.869Z"
   },
   {
    "duration": 91,
    "start_time": "2021-06-20T16:36:09.833Z"
   },
   {
    "duration": 576,
    "start_time": "2021-06-20T16:39:51.900Z"
   },
   {
    "duration": 6945,
    "start_time": "2021-06-20T16:40:08.983Z"
   },
   {
    "duration": 547,
    "start_time": "2021-06-20T16:40:20.037Z"
   },
   {
    "duration": 20,
    "start_time": "2021-06-20T16:40:20.586Z"
   },
   {
    "duration": 49,
    "start_time": "2021-06-20T16:40:20.609Z"
   },
   {
    "duration": 25,
    "start_time": "2021-06-20T16:40:20.661Z"
   },
   {
    "duration": 30,
    "start_time": "2021-06-20T16:40:20.689Z"
   },
   {
    "duration": 18,
    "start_time": "2021-06-20T16:40:20.754Z"
   },
   {
    "duration": 9611,
    "start_time": "2021-06-20T16:40:20.774Z"
   },
   {
    "duration": 44,
    "start_time": "2021-06-20T16:40:41.966Z"
   },
   {
    "duration": 26,
    "start_time": "2021-06-20T16:41:55.775Z"
   },
   {
    "duration": 31,
    "start_time": "2021-06-20T16:42:11.389Z"
   },
   {
    "duration": 28,
    "start_time": "2021-06-20T16:42:36.959Z"
   },
   {
    "duration": 27,
    "start_time": "2021-06-20T16:45:42.169Z"
   },
   {
    "duration": 430,
    "start_time": "2021-06-20T16:47:31.647Z"
   },
   {
    "duration": 443,
    "start_time": "2021-06-20T16:47:41.639Z"
   },
   {
    "duration": 27,
    "start_time": "2021-06-20T16:49:06.328Z"
   },
   {
    "duration": 28,
    "start_time": "2021-06-20T16:49:23.627Z"
   },
   {
    "duration": 587,
    "start_time": "2021-06-20T17:15:25.318Z"
   },
   {
    "duration": 24,
    "start_time": "2021-06-20T17:15:25.908Z"
   },
   {
    "duration": 62,
    "start_time": "2021-06-20T17:15:25.935Z"
   },
   {
    "duration": 66,
    "start_time": "2021-06-20T17:15:26.000Z"
   },
   {
    "duration": 44,
    "start_time": "2021-06-20T17:15:26.068Z"
   },
   {
    "duration": 40,
    "start_time": "2021-06-20T17:15:26.115Z"
   },
   {
    "duration": 132,
    "start_time": "2021-06-20T17:15:26.158Z"
   },
   {
    "duration": 6517,
    "start_time": "2021-06-20T17:18:35.696Z"
   },
   {
    "duration": 524,
    "start_time": "2021-06-20T17:18:55.407Z"
   },
   {
    "duration": 21,
    "start_time": "2021-06-20T17:18:55.934Z"
   },
   {
    "duration": 38,
    "start_time": "2021-06-20T17:18:55.959Z"
   },
   {
    "duration": 60,
    "start_time": "2021-06-20T17:18:56.000Z"
   },
   {
    "duration": 32,
    "start_time": "2021-06-20T17:18:56.063Z"
   },
   {
    "duration": 19,
    "start_time": "2021-06-20T17:18:56.098Z"
   },
   {
    "duration": 130,
    "start_time": "2021-06-20T17:18:56.155Z"
   },
   {
    "duration": 313,
    "start_time": "2021-06-21T14:27:54.989Z"
   },
   {
    "duration": 1393,
    "start_time": "2021-06-21T14:28:02.693Z"
   },
   {
    "duration": 25,
    "start_time": "2021-06-21T14:28:04.089Z"
   },
   {
    "duration": 37,
    "start_time": "2021-06-21T14:28:04.117Z"
   },
   {
    "duration": 26,
    "start_time": "2021-06-21T14:28:04.157Z"
   },
   {
    "duration": 54,
    "start_time": "2021-06-21T14:28:04.185Z"
   },
   {
    "duration": 16,
    "start_time": "2021-06-21T14:28:04.241Z"
   },
   {
    "duration": 147,
    "start_time": "2021-06-21T14:28:04.260Z"
   },
   {
    "duration": 23,
    "start_time": "2021-06-21T14:28:04.409Z"
   },
   {
    "duration": 9,
    "start_time": "2021-06-21T14:28:13.602Z"
   },
   {
    "duration": 9,
    "start_time": "2021-06-21T14:28:31.260Z"
   },
   {
    "duration": 5,
    "start_time": "2021-06-21T14:34:07.230Z"
   },
   {
    "duration": 28,
    "start_time": "2021-06-21T14:34:13.498Z"
   },
   {
    "duration": 28,
    "start_time": "2021-06-21T14:35:45.657Z"
   },
   {
    "duration": 6641,
    "start_time": "2021-06-21T14:37:21.268Z"
   },
   {
    "duration": 511,
    "start_time": "2021-06-21T14:38:42.219Z"
   },
   {
    "duration": 20,
    "start_time": "2021-06-21T14:38:42.733Z"
   },
   {
    "duration": 34,
    "start_time": "2021-06-21T14:38:42.756Z"
   },
   {
    "duration": 50,
    "start_time": "2021-06-21T14:38:42.792Z"
   },
   {
    "duration": 29,
    "start_time": "2021-06-21T14:38:42.844Z"
   },
   {
    "duration": 16,
    "start_time": "2021-06-21T14:38:42.876Z"
   },
   {
    "duration": 158,
    "start_time": "2021-06-21T14:38:42.894Z"
   },
   {
    "duration": 9,
    "start_time": "2021-06-21T14:38:43.056Z"
   },
   {
    "duration": 122,
    "start_time": "2021-06-21T14:38:43.067Z"
   },
   {
    "duration": 7087,
    "start_time": "2021-06-21T14:40:04.161Z"
   },
   {
    "duration": 517,
    "start_time": "2021-06-21T14:40:15.076Z"
   },
   {
    "duration": 20,
    "start_time": "2021-06-21T14:40:15.595Z"
   },
   {
    "duration": 38,
    "start_time": "2021-06-21T14:40:15.618Z"
   },
   {
    "duration": 27,
    "start_time": "2021-06-21T14:40:15.659Z"
   },
   {
    "duration": 60,
    "start_time": "2021-06-21T14:40:15.688Z"
   },
   {
    "duration": 16,
    "start_time": "2021-06-21T14:40:15.750Z"
   },
   {
    "duration": 156,
    "start_time": "2021-06-21T14:40:15.768Z"
   },
   {
    "duration": 9,
    "start_time": "2021-06-21T14:40:15.927Z"
   },
   {
    "duration": 108,
    "start_time": "2021-06-21T14:40:15.939Z"
   },
   {
    "duration": 511,
    "start_time": "2021-06-21T14:46:10.643Z"
   },
   {
    "duration": 20,
    "start_time": "2021-06-21T14:46:11.157Z"
   },
   {
    "duration": 54,
    "start_time": "2021-06-21T14:46:11.180Z"
   },
   {
    "duration": 30,
    "start_time": "2021-06-21T14:46:11.236Z"
   },
   {
    "duration": 55,
    "start_time": "2021-06-21T14:46:11.269Z"
   },
   {
    "duration": 18,
    "start_time": "2021-06-21T14:46:11.327Z"
   },
   {
    "duration": 144,
    "start_time": "2021-06-21T14:46:11.348Z"
   },
   {
    "duration": 30,
    "start_time": "2021-06-21T14:46:11.496Z"
   },
   {
    "duration": 96,
    "start_time": "2021-06-21T14:46:11.529Z"
   },
   {
    "duration": 98,
    "start_time": "2021-06-21T14:54:37.772Z"
   },
   {
    "duration": 295,
    "start_time": "2021-06-21T14:55:31.762Z"
   },
   {
    "duration": 276,
    "start_time": "2021-06-21T14:57:55.764Z"
   },
   {
    "duration": 300,
    "start_time": "2021-06-21T14:58:11.255Z"
   },
   {
    "duration": 528,
    "start_time": "2021-06-21T15:03:32.037Z"
   },
   {
    "duration": 21,
    "start_time": "2021-06-21T15:03:32.568Z"
   },
   {
    "duration": 47,
    "start_time": "2021-06-21T15:03:32.592Z"
   },
   {
    "duration": 25,
    "start_time": "2021-06-21T15:03:32.642Z"
   },
   {
    "duration": 55,
    "start_time": "2021-06-21T15:03:32.669Z"
   },
   {
    "duration": 18,
    "start_time": "2021-06-21T15:03:32.726Z"
   },
   {
    "duration": 132,
    "start_time": "2021-06-21T15:03:32.746Z"
   },
   {
    "duration": 9,
    "start_time": "2021-06-21T15:03:32.881Z"
   },
   {
    "duration": 115,
    "start_time": "2021-06-21T15:03:32.893Z"
   },
   {
    "duration": 15,
    "start_time": "2021-06-21T15:03:33.010Z"
   },
   {
    "duration": 256,
    "start_time": "2021-06-21T15:03:55.508Z"
   },
   {
    "duration": 5,
    "start_time": "2021-06-21T15:05:04.776Z"
   },
   {
    "duration": 510,
    "start_time": "2021-06-21T15:06:12.206Z"
   },
   {
    "duration": 20,
    "start_time": "2021-06-21T15:06:12.718Z"
   },
   {
    "duration": 33,
    "start_time": "2021-06-21T15:06:12.742Z"
   },
   {
    "duration": 53,
    "start_time": "2021-06-21T15:06:12.778Z"
   },
   {
    "duration": 31,
    "start_time": "2021-06-21T15:06:12.833Z"
   },
   {
    "duration": 16,
    "start_time": "2021-06-21T15:06:12.866Z"
   },
   {
    "duration": 156,
    "start_time": "2021-06-21T15:06:12.885Z"
   },
   {
    "duration": 10,
    "start_time": "2021-06-21T15:06:13.045Z"
   },
   {
    "duration": 113,
    "start_time": "2021-06-21T15:06:13.058Z"
   },
   {
    "duration": 3,
    "start_time": "2021-06-21T15:06:13.174Z"
   },
   {
    "duration": 6,
    "start_time": "2021-06-21T15:06:33.048Z"
   },
   {
    "duration": 9,
    "start_time": "2021-06-21T15:06:48.162Z"
   },
   {
    "duration": 267,
    "start_time": "2021-06-21T15:13:34.325Z"
   },
   {
    "duration": 51,
    "start_time": "2021-06-21T15:13:41.344Z"
   },
   {
    "duration": 537,
    "start_time": "2021-06-21T15:19:18.522Z"
   },
   {
    "duration": 19,
    "start_time": "2021-06-21T15:19:19.062Z"
   },
   {
    "duration": 48,
    "start_time": "2021-06-21T15:19:19.084Z"
   },
   {
    "duration": 26,
    "start_time": "2021-06-21T15:19:19.134Z"
   },
   {
    "duration": 30,
    "start_time": "2021-06-21T15:19:19.162Z"
   },
   {
    "duration": 42,
    "start_time": "2021-06-21T15:19:19.194Z"
   },
   {
    "duration": 136,
    "start_time": "2021-06-21T15:19:19.238Z"
   },
   {
    "duration": 9,
    "start_time": "2021-06-21T15:19:19.376Z"
   },
   {
    "duration": 109,
    "start_time": "2021-06-21T15:19:19.389Z"
   },
   {
    "duration": 41,
    "start_time": "2021-06-21T15:19:19.500Z"
   },
   {
    "duration": 517,
    "start_time": "2021-06-21T15:21:36.763Z"
   },
   {
    "duration": 21,
    "start_time": "2021-06-21T15:21:37.283Z"
   },
   {
    "duration": 65,
    "start_time": "2021-06-21T15:21:37.307Z"
   },
   {
    "duration": 60,
    "start_time": "2021-06-21T15:21:37.376Z"
   },
   {
    "duration": 38,
    "start_time": "2021-06-21T15:21:37.439Z"
   },
   {
    "duration": 16,
    "start_time": "2021-06-21T15:21:37.480Z"
   },
   {
    "duration": 142,
    "start_time": "2021-06-21T15:21:37.525Z"
   },
   {
    "duration": 10,
    "start_time": "2021-06-21T15:21:37.670Z"
   },
   {
    "duration": 178,
    "start_time": "2021-06-21T15:21:37.683Z"
   },
   {
    "duration": 34,
    "start_time": "2021-06-21T15:21:37.863Z"
   },
   {
    "duration": 287,
    "start_time": "2021-06-21T15:43:38.957Z"
   },
   {
    "duration": 143,
    "start_time": "2021-06-21T15:43:50.324Z"
   },
   {
    "duration": 125,
    "start_time": "2021-06-21T15:44:16.880Z"
   },
   {
    "duration": 128,
    "start_time": "2021-06-21T15:46:20.651Z"
   },
   {
    "duration": 1853,
    "start_time": "2021-06-21T15:58:48.395Z"
   },
   {
    "duration": 46,
    "start_time": "2021-06-21T16:03:25.583Z"
   },
   {
    "duration": 36,
    "start_time": "2021-06-21T16:08:29.221Z"
   },
   {
    "duration": 39,
    "start_time": "2021-06-21T16:09:20.984Z"
   },
   {
    "duration": 309,
    "start_time": "2021-06-21T16:12:13.690Z"
   },
   {
    "duration": 1729,
    "start_time": "2021-06-21T16:12:25.935Z"
   },
   {
    "duration": 1190,
    "start_time": "2021-06-21T16:14:17.692Z"
   },
   {
    "duration": 3200,
    "start_time": "2021-06-21T16:29:57.763Z"
   },
   {
    "duration": 3109,
    "start_time": "2021-06-21T16:31:23.852Z"
   },
   {
    "duration": 3126,
    "start_time": "2021-06-21T16:33:05.582Z"
   },
   {
    "duration": 3156,
    "start_time": "2021-06-21T16:33:25.289Z"
   },
   {
    "duration": 3773,
    "start_time": "2021-06-21T16:35:17.651Z"
   },
   {
    "duration": 481,
    "start_time": "2021-06-21T16:45:59.515Z"
   },
   {
    "duration": 21,
    "start_time": "2021-06-21T16:45:59.999Z"
   },
   {
    "duration": 39,
    "start_time": "2021-06-21T16:46:00.025Z"
   },
   {
    "duration": 26,
    "start_time": "2021-06-21T16:46:00.067Z"
   },
   {
    "duration": 59,
    "start_time": "2021-06-21T16:46:00.095Z"
   },
   {
    "duration": 18,
    "start_time": "2021-06-21T16:46:00.156Z"
   },
   {
    "duration": 157,
    "start_time": "2021-06-21T16:46:00.177Z"
   },
   {
    "duration": 9,
    "start_time": "2021-06-21T16:46:00.337Z"
   },
   {
    "duration": 134,
    "start_time": "2021-06-21T16:46:00.349Z"
   },
   {
    "duration": 45,
    "start_time": "2021-06-21T16:46:00.486Z"
   },
   {
    "duration": 70,
    "start_time": "2021-06-21T16:47:50.296Z"
   },
   {
    "duration": 1545,
    "start_time": "2021-06-21T16:51:14.728Z"
   },
   {
    "duration": 65,
    "start_time": "2021-06-21T16:51:39.832Z"
   },
   {
    "duration": 68,
    "start_time": "2021-06-21T17:02:01.389Z"
   },
   {
    "duration": 70,
    "start_time": "2021-06-21T17:06:44.965Z"
   },
   {
    "duration": 7268,
    "start_time": "2021-06-21T17:07:27.396Z"
   },
   {
    "duration": 22,
    "start_time": "2021-06-21T17:08:03.575Z"
   },
   {
    "duration": 303,
    "start_time": "2021-06-21T17:09:34.262Z"
   },
   {
    "duration": 88,
    "start_time": "2021-06-21T17:12:42.661Z"
   },
   {
    "duration": 36,
    "start_time": "2021-06-21T17:12:48.249Z"
   },
   {
    "duration": 300,
    "start_time": "2021-06-21T17:13:50.292Z"
   },
   {
    "duration": 45,
    "start_time": "2021-06-21T17:18:42.223Z"
   },
   {
    "duration": 52,
    "start_time": "2021-06-21T17:26:55.584Z"
   },
   {
    "duration": 49,
    "start_time": "2021-06-21T17:27:12.767Z"
   },
   {
    "duration": 298,
    "start_time": "2021-06-21T17:29:54.278Z"
   },
   {
    "duration": 50,
    "start_time": "2021-06-21T17:30:23.820Z"
   },
   {
    "duration": 305,
    "start_time": "2021-06-21T17:30:48.799Z"
   },
   {
    "duration": 52,
    "start_time": "2021-06-21T17:31:52.655Z"
   },
   {
    "duration": 51,
    "start_time": "2021-06-21T17:32:16.990Z"
   },
   {
    "duration": 54,
    "start_time": "2021-06-21T17:32:23.328Z"
   },
   {
    "duration": 60,
    "start_time": "2021-06-21T17:34:50.887Z"
   },
   {
    "duration": 54,
    "start_time": "2021-06-21T17:35:20.623Z"
   },
   {
    "duration": 54,
    "start_time": "2021-06-21T17:36:41.837Z"
   },
   {
    "duration": 56,
    "start_time": "2021-06-21T17:44:53.718Z"
   },
   {
    "duration": 55,
    "start_time": "2021-06-21T17:45:03.011Z"
   },
   {
    "duration": 56,
    "start_time": "2021-06-21T17:54:06.537Z"
   },
   {
    "duration": 490,
    "start_time": "2021-06-22T15:15:11.410Z"
   },
   {
    "duration": 1444,
    "start_time": "2021-06-22T15:15:17.220Z"
   },
   {
    "duration": 27,
    "start_time": "2021-06-22T15:15:18.667Z"
   },
   {
    "duration": 46,
    "start_time": "2021-06-22T15:15:18.697Z"
   },
   {
    "duration": 27,
    "start_time": "2021-06-22T15:15:18.746Z"
   },
   {
    "duration": 64,
    "start_time": "2021-06-22T15:15:18.775Z"
   },
   {
    "duration": 17,
    "start_time": "2021-06-22T15:15:18.841Z"
   },
   {
    "duration": 145,
    "start_time": "2021-06-22T15:15:18.861Z"
   },
   {
    "duration": 75,
    "start_time": "2021-06-22T15:15:19.025Z"
   },
   {
    "duration": 60,
    "start_time": "2021-06-22T15:15:19.102Z"
   },
   {
    "duration": 77,
    "start_time": "2021-06-22T15:15:19.164Z"
   },
   {
    "duration": 35,
    "start_time": "2021-06-22T15:15:19.243Z"
   },
   {
    "duration": 91,
    "start_time": "2021-06-22T15:15:32.788Z"
   },
   {
    "duration": 535,
    "start_time": "2021-06-22T15:16:23.509Z"
   },
   {
    "duration": 21,
    "start_time": "2021-06-22T15:16:24.046Z"
   },
   {
    "duration": 59,
    "start_time": "2021-06-22T15:16:24.070Z"
   },
   {
    "duration": 26,
    "start_time": "2021-06-22T15:16:24.131Z"
   },
   {
    "duration": 30,
    "start_time": "2021-06-22T15:16:24.159Z"
   },
   {
    "duration": 46,
    "start_time": "2021-06-22T15:16:24.192Z"
   },
   {
    "duration": 133,
    "start_time": "2021-06-22T15:16:24.241Z"
   },
   {
    "duration": 83,
    "start_time": "2021-06-22T15:16:24.377Z"
   },
   {
    "duration": 61,
    "start_time": "2021-06-22T15:16:24.463Z"
   },
   {
    "duration": 54,
    "start_time": "2021-06-22T15:16:24.526Z"
   },
   {
    "duration": 69,
    "start_time": "2021-06-22T15:16:24.582Z"
   },
   {
    "duration": 528,
    "start_time": "2021-06-22T15:16:49.040Z"
   },
   {
    "duration": 20,
    "start_time": "2021-06-22T15:16:49.570Z"
   },
   {
    "duration": 46,
    "start_time": "2021-06-22T15:16:49.594Z"
   },
   {
    "duration": 27,
    "start_time": "2021-06-22T15:16:49.642Z"
   },
   {
    "duration": 54,
    "start_time": "2021-06-22T15:16:49.671Z"
   },
   {
    "duration": 17,
    "start_time": "2021-06-22T15:16:49.728Z"
   },
   {
    "duration": 138,
    "start_time": "2021-06-22T15:16:49.747Z"
   },
   {
    "duration": 89,
    "start_time": "2021-06-22T15:16:49.888Z"
   },
   {
    "duration": 65,
    "start_time": "2021-06-22T15:16:49.979Z"
   },
   {
    "duration": 56,
    "start_time": "2021-06-22T15:16:50.046Z"
   },
   {
    "duration": 1164,
    "start_time": "2021-06-22T15:16:50.105Z"
   },
   {
    "duration": 539,
    "start_time": "2021-06-22T15:18:01.800Z"
   },
   {
    "duration": 25,
    "start_time": "2021-06-22T15:18:02.342Z"
   },
   {
    "duration": 53,
    "start_time": "2021-06-22T15:18:02.371Z"
   },
   {
    "duration": 27,
    "start_time": "2021-06-22T15:18:02.427Z"
   },
   {
    "duration": 33,
    "start_time": "2021-06-22T15:18:02.457Z"
   },
   {
    "duration": 44,
    "start_time": "2021-06-22T15:18:02.493Z"
   },
   {
    "duration": 131,
    "start_time": "2021-06-22T15:18:02.539Z"
   },
   {
    "duration": 84,
    "start_time": "2021-06-22T15:18:02.674Z"
   },
   {
    "duration": 50,
    "start_time": "2021-06-22T15:18:02.760Z"
   },
   {
    "duration": 58,
    "start_time": "2021-06-22T15:18:02.824Z"
   },
   {
    "duration": 72,
    "start_time": "2021-06-22T15:18:02.884Z"
   },
   {
    "duration": 281,
    "start_time": "2021-06-22T15:27:22.638Z"
   },
   {
    "duration": 8,
    "start_time": "2021-06-22T15:28:28.812Z"
   },
   {
    "duration": 299,
    "start_time": "2021-06-22T15:28:44.946Z"
   },
   {
    "duration": 305,
    "start_time": "2021-06-22T15:29:13.406Z"
   },
   {
    "duration": 288,
    "start_time": "2021-06-22T15:32:40.607Z"
   },
   {
    "duration": 320,
    "start_time": "2021-06-22T15:32:49.399Z"
   },
   {
    "duration": 272,
    "start_time": "2021-06-22T15:32:56.788Z"
   },
   {
    "duration": 6,
    "start_time": "2021-06-22T15:33:09.248Z"
   },
   {
    "duration": 43,
    "start_time": "2021-06-22T15:33:29.108Z"
   },
   {
    "duration": 279,
    "start_time": "2021-06-22T15:37:13.582Z"
   },
   {
    "duration": 524,
    "start_time": "2021-06-22T15:37:26.880Z"
   },
   {
    "duration": 19,
    "start_time": "2021-06-22T15:37:27.407Z"
   },
   {
    "duration": 48,
    "start_time": "2021-06-22T15:37:27.429Z"
   },
   {
    "duration": 45,
    "start_time": "2021-06-22T15:37:27.479Z"
   },
   {
    "duration": 30,
    "start_time": "2021-06-22T15:37:27.526Z"
   },
   {
    "duration": 16,
    "start_time": "2021-06-22T15:37:27.558Z"
   },
   {
    "duration": 155,
    "start_time": "2021-06-22T15:37:27.576Z"
   },
   {
    "duration": 68,
    "start_time": "2021-06-22T15:37:27.734Z"
   },
   {
    "duration": 62,
    "start_time": "2021-06-22T15:37:27.804Z"
   },
   {
    "duration": 76,
    "start_time": "2021-06-22T15:37:27.869Z"
   },
   {
    "duration": 111,
    "start_time": "2021-06-22T15:37:27.947Z"
   },
   {
    "duration": 20,
    "start_time": "2021-06-22T15:37:28.060Z"
   },
   {
    "duration": 521,
    "start_time": "2021-06-22T15:38:49.290Z"
   },
   {
    "duration": 19,
    "start_time": "2021-06-22T15:38:49.814Z"
   },
   {
    "duration": 36,
    "start_time": "2021-06-22T15:38:49.836Z"
   },
   {
    "duration": 49,
    "start_time": "2021-06-22T15:38:49.875Z"
   },
   {
    "duration": 30,
    "start_time": "2021-06-22T15:38:49.926Z"
   },
   {
    "duration": 15,
    "start_time": "2021-06-22T15:38:49.958Z"
   },
   {
    "duration": 161,
    "start_time": "2021-06-22T15:38:49.976Z"
   },
   {
    "duration": 84,
    "start_time": "2021-06-22T15:38:50.140Z"
   },
   {
    "duration": 47,
    "start_time": "2021-06-22T15:38:50.226Z"
   },
   {
    "duration": 76,
    "start_time": "2021-06-22T15:38:50.275Z"
   },
   {
    "duration": 49,
    "start_time": "2021-06-22T15:38:50.354Z"
   },
   {
    "duration": 31,
    "start_time": "2021-06-22T15:38:50.406Z"
   },
   {
    "duration": 282,
    "start_time": "2021-06-22T15:45:48.267Z"
   },
   {
    "duration": 534,
    "start_time": "2021-06-22T15:45:55.916Z"
   },
   {
    "duration": 24,
    "start_time": "2021-06-22T15:45:56.453Z"
   },
   {
    "duration": 57,
    "start_time": "2021-06-22T15:45:56.481Z"
   },
   {
    "duration": 30,
    "start_time": "2021-06-22T15:45:56.541Z"
   },
   {
    "duration": 64,
    "start_time": "2021-06-22T15:45:56.573Z"
   },
   {
    "duration": 16,
    "start_time": "2021-06-22T15:45:56.639Z"
   },
   {
    "duration": 134,
    "start_time": "2021-06-22T15:45:56.657Z"
   },
   {
    "duration": 84,
    "start_time": "2021-06-22T15:45:56.794Z"
   },
   {
    "duration": 60,
    "start_time": "2021-06-22T15:45:56.881Z"
   },
   {
    "duration": 55,
    "start_time": "2021-06-22T15:45:56.944Z"
   },
   {
    "duration": 67,
    "start_time": "2021-06-22T15:45:57.001Z"
   },
   {
    "duration": 10,
    "start_time": "2021-06-22T15:45:57.070Z"
   },
   {
    "duration": 272,
    "start_time": "2021-06-22T15:46:06.740Z"
   },
   {
    "duration": 509,
    "start_time": "2021-06-22T15:46:22.600Z"
   },
   {
    "duration": 22,
    "start_time": "2021-06-22T15:46:23.111Z"
   },
   {
    "duration": 48,
    "start_time": "2021-06-22T15:46:23.136Z"
   },
   {
    "duration": 25,
    "start_time": "2021-06-22T15:46:23.187Z"
   },
   {
    "duration": 29,
    "start_time": "2021-06-22T15:46:23.225Z"
   },
   {
    "duration": 15,
    "start_time": "2021-06-22T15:46:23.257Z"
   },
   {
    "duration": 164,
    "start_time": "2021-06-22T15:46:23.275Z"
   },
   {
    "duration": 89,
    "start_time": "2021-06-22T15:46:23.442Z"
   },
   {
    "duration": 48,
    "start_time": "2021-06-22T15:46:23.533Z"
   },
   {
    "duration": 77,
    "start_time": "2021-06-22T15:46:23.583Z"
   },
   {
    "duration": 62,
    "start_time": "2021-06-22T15:46:23.663Z"
   },
   {
    "duration": 40,
    "start_time": "2021-06-22T15:46:23.728Z"
   },
   {
    "duration": 517,
    "start_time": "2021-06-22T15:59:28.422Z"
   },
   {
    "duration": 21,
    "start_time": "2021-06-22T15:59:28.941Z"
   },
   {
    "duration": 35,
    "start_time": "2021-06-22T15:59:28.966Z"
   },
   {
    "duration": 43,
    "start_time": "2021-06-22T15:59:29.003Z"
   },
   {
    "duration": 31,
    "start_time": "2021-06-22T15:59:29.049Z"
   },
   {
    "duration": 46,
    "start_time": "2021-06-22T15:59:29.082Z"
   },
   {
    "duration": 138,
    "start_time": "2021-06-22T15:59:29.130Z"
   },
   {
    "duration": 84,
    "start_time": "2021-06-22T15:59:29.272Z"
   },
   {
    "duration": 47,
    "start_time": "2021-06-22T15:59:29.358Z"
   },
   {
    "duration": 68,
    "start_time": "2021-06-22T15:59:29.408Z"
   },
   {
    "duration": 125,
    "start_time": "2021-06-22T15:59:29.478Z"
   },
   {
    "duration": 47,
    "start_time": "2021-06-22T15:59:29.605Z"
   },
   {
    "duration": 553,
    "start_time": "2021-06-22T16:17:59.580Z"
   },
   {
    "duration": 24,
    "start_time": "2021-06-22T16:18:00.136Z"
   },
   {
    "duration": 89,
    "start_time": "2021-06-22T16:18:00.164Z"
   },
   {
    "duration": 49,
    "start_time": "2021-06-22T16:18:00.257Z"
   },
   {
    "duration": 48,
    "start_time": "2021-06-22T16:18:00.326Z"
   },
   {
    "duration": 52,
    "start_time": "2021-06-22T16:18:00.377Z"
   },
   {
    "duration": 144,
    "start_time": "2021-06-22T16:18:00.432Z"
   },
   {
    "duration": 89,
    "start_time": "2021-06-22T16:18:00.580Z"
   },
   {
    "duration": 63,
    "start_time": "2021-06-22T16:18:00.672Z"
   },
   {
    "duration": 55,
    "start_time": "2021-06-22T16:18:00.738Z"
   },
   {
    "duration": 69,
    "start_time": "2021-06-22T16:18:00.795Z"
   },
   {
    "duration": 280,
    "start_time": "2021-06-22T16:18:00.866Z"
   },
   {
    "duration": 538,
    "start_time": "2021-06-22T16:18:12.602Z"
   },
   {
    "duration": 21,
    "start_time": "2021-06-22T16:18:13.142Z"
   },
   {
    "duration": 66,
    "start_time": "2021-06-22T16:18:13.167Z"
   },
   {
    "duration": 39,
    "start_time": "2021-06-22T16:18:13.236Z"
   },
   {
    "duration": 55,
    "start_time": "2021-06-22T16:18:13.277Z"
   },
   {
    "duration": 16,
    "start_time": "2021-06-22T16:18:13.334Z"
   },
   {
    "duration": 139,
    "start_time": "2021-06-22T16:18:13.354Z"
   },
   {
    "duration": 91,
    "start_time": "2021-06-22T16:18:13.497Z"
   },
   {
    "duration": 55,
    "start_time": "2021-06-22T16:18:13.591Z"
   },
   {
    "duration": 56,
    "start_time": "2021-06-22T16:18:13.648Z"
   },
   {
    "duration": 67,
    "start_time": "2021-06-22T16:18:13.706Z"
   },
   {
    "duration": 302,
    "start_time": "2021-06-22T16:18:13.775Z"
   },
   {
    "duration": 520,
    "start_time": "2021-06-22T16:19:41.711Z"
   },
   {
    "duration": 19,
    "start_time": "2021-06-22T16:19:42.233Z"
   },
   {
    "duration": 34,
    "start_time": "2021-06-22T16:19:42.255Z"
   },
   {
    "duration": 51,
    "start_time": "2021-06-22T16:19:42.291Z"
   },
   {
    "duration": 31,
    "start_time": "2021-06-22T16:19:42.344Z"
   },
   {
    "duration": 15,
    "start_time": "2021-06-22T16:19:42.377Z"
   },
   {
    "duration": 135,
    "start_time": "2021-06-22T16:19:42.424Z"
   },
   {
    "duration": 80,
    "start_time": "2021-06-22T16:19:42.563Z"
   },
   {
    "duration": 46,
    "start_time": "2021-06-22T16:19:42.645Z"
   },
   {
    "duration": 77,
    "start_time": "2021-06-22T16:19:42.694Z"
   },
   {
    "duration": 108,
    "start_time": "2021-06-22T16:19:42.773Z"
   },
   {
    "duration": 298,
    "start_time": "2021-06-22T16:19:42.884Z"
   },
   {
    "duration": 509,
    "start_time": "2021-06-22T16:20:20.045Z"
   },
   {
    "duration": 21,
    "start_time": "2021-06-22T16:20:20.556Z"
   },
   {
    "duration": 46,
    "start_time": "2021-06-22T16:20:20.581Z"
   },
   {
    "duration": 26,
    "start_time": "2021-06-22T16:20:20.629Z"
   },
   {
    "duration": 32,
    "start_time": "2021-06-22T16:20:20.658Z"
   },
   {
    "duration": 20,
    "start_time": "2021-06-22T16:20:20.724Z"
   },
   {
    "duration": 143,
    "start_time": "2021-06-22T16:20:20.746Z"
   },
   {
    "duration": 87,
    "start_time": "2021-06-22T16:20:20.892Z"
   },
   {
    "duration": 70,
    "start_time": "2021-06-22T16:20:20.981Z"
   },
   {
    "duration": 72,
    "start_time": "2021-06-22T16:20:21.054Z"
   },
   {
    "duration": 51,
    "start_time": "2021-06-22T16:20:21.128Z"
   },
   {
    "duration": 272,
    "start_time": "2021-06-22T16:20:21.181Z"
   },
   {
    "duration": 1505,
    "start_time": "2021-06-22T16:21:04.942Z"
   },
   {
    "duration": 27,
    "start_time": "2021-06-22T16:21:06.451Z"
   },
   {
    "duration": 57,
    "start_time": "2021-06-22T16:21:06.482Z"
   },
   {
    "duration": 27,
    "start_time": "2021-06-22T16:21:06.542Z"
   },
   {
    "duration": 60,
    "start_time": "2021-06-22T16:21:06.571Z"
   },
   {
    "duration": 17,
    "start_time": "2021-06-22T16:21:06.633Z"
   },
   {
    "duration": 152,
    "start_time": "2021-06-22T16:21:06.654Z"
   },
   {
    "duration": 82,
    "start_time": "2021-06-22T16:21:06.809Z"
   },
   {
    "duration": 64,
    "start_time": "2021-06-22T16:21:06.894Z"
   },
   {
    "duration": 72,
    "start_time": "2021-06-22T16:21:06.961Z"
   },
   {
    "duration": 54,
    "start_time": "2021-06-22T16:21:07.036Z"
   },
   {
    "duration": 401,
    "start_time": "2021-06-22T16:21:07.092Z"
   },
   {
    "duration": 537,
    "start_time": "2021-06-22T16:22:25.959Z"
   },
   {
    "duration": 21,
    "start_time": "2021-06-22T16:22:26.498Z"
   },
   {
    "duration": 38,
    "start_time": "2021-06-22T16:22:26.525Z"
   },
   {
    "duration": 26,
    "start_time": "2021-06-22T16:22:26.565Z"
   },
   {
    "duration": 56,
    "start_time": "2021-06-22T16:22:26.593Z"
   },
   {
    "duration": 16,
    "start_time": "2021-06-22T16:22:26.651Z"
   },
   {
    "duration": 191,
    "start_time": "2021-06-22T16:22:26.670Z"
   },
   {
    "duration": 81,
    "start_time": "2021-06-22T16:22:26.865Z"
   },
   {
    "duration": 47,
    "start_time": "2021-06-22T16:22:26.949Z"
   },
   {
    "duration": 76,
    "start_time": "2021-06-22T16:22:26.999Z"
   },
   {
    "duration": 62,
    "start_time": "2021-06-22T16:22:27.078Z"
   },
   {
    "duration": 292,
    "start_time": "2021-06-22T16:22:27.143Z"
   },
   {
    "duration": 521,
    "start_time": "2021-06-22T16:22:57.306Z"
   },
   {
    "duration": 21,
    "start_time": "2021-06-22T16:22:57.830Z"
   },
   {
    "duration": 35,
    "start_time": "2021-06-22T16:22:57.855Z"
   },
   {
    "duration": 27,
    "start_time": "2021-06-22T16:22:57.925Z"
   },
   {
    "duration": 31,
    "start_time": "2021-06-22T16:22:57.955Z"
   },
   {
    "duration": 17,
    "start_time": "2021-06-22T16:22:58.025Z"
   },
   {
    "duration": 152,
    "start_time": "2021-06-22T16:22:58.045Z"
   },
   {
    "duration": 88,
    "start_time": "2021-06-22T16:22:58.200Z"
   },
   {
    "duration": 73,
    "start_time": "2021-06-22T16:22:58.291Z"
   },
   {
    "duration": 69,
    "start_time": "2021-06-22T16:22:58.367Z"
   },
   {
    "duration": 54,
    "start_time": "2021-06-22T16:22:58.438Z"
   },
   {
    "duration": 39,
    "start_time": "2021-06-22T16:22:58.495Z"
   },
   {
    "duration": 351,
    "start_time": "2021-06-22T16:23:10.469Z"
   },
   {
    "duration": 514,
    "start_time": "2021-06-22T16:23:19.916Z"
   },
   {
    "duration": 20,
    "start_time": "2021-06-22T16:23:20.432Z"
   },
   {
    "duration": 33,
    "start_time": "2021-06-22T16:23:20.455Z"
   },
   {
    "duration": 54,
    "start_time": "2021-06-22T16:23:20.491Z"
   },
   {
    "duration": 30,
    "start_time": "2021-06-22T16:23:20.548Z"
   },
   {
    "duration": 54,
    "start_time": "2021-06-22T16:23:20.580Z"
   },
   {
    "duration": 144,
    "start_time": "2021-06-22T16:23:20.636Z"
   },
   {
    "duration": 99,
    "start_time": "2021-06-22T16:23:20.783Z"
   },
   {
    "duration": 59,
    "start_time": "2021-06-22T16:23:20.884Z"
   },
   {
    "duration": 54,
    "start_time": "2021-06-22T16:23:20.945Z"
   },
   {
    "duration": 70,
    "start_time": "2021-06-22T16:23:21.001Z"
   },
   {
    "duration": 13,
    "start_time": "2021-06-22T16:23:21.073Z"
   },
   {
    "duration": 575,
    "start_time": "2021-06-22T16:23:58.350Z"
   },
   {
    "duration": 21,
    "start_time": "2021-06-22T16:23:58.928Z"
   },
   {
    "duration": 35,
    "start_time": "2021-06-22T16:23:58.952Z"
   },
   {
    "duration": 60,
    "start_time": "2021-06-22T16:23:58.990Z"
   },
   {
    "duration": 30,
    "start_time": "2021-06-22T16:23:59.053Z"
   },
   {
    "duration": 47,
    "start_time": "2021-06-22T16:23:59.085Z"
   },
   {
    "duration": 144,
    "start_time": "2021-06-22T16:23:59.134Z"
   },
   {
    "duration": 79,
    "start_time": "2021-06-22T16:23:59.281Z"
   },
   {
    "duration": 60,
    "start_time": "2021-06-22T16:23:59.363Z"
   },
   {
    "duration": 57,
    "start_time": "2021-06-22T16:23:59.426Z"
   },
   {
    "duration": 123,
    "start_time": "2021-06-22T16:23:59.486Z"
   },
   {
    "duration": 51,
    "start_time": "2021-06-22T16:23:59.612Z"
   },
   {
    "duration": 540,
    "start_time": "2021-06-22T16:24:18.505Z"
   },
   {
    "duration": 22,
    "start_time": "2021-06-22T16:24:19.048Z"
   },
   {
    "duration": 51,
    "start_time": "2021-06-22T16:24:19.073Z"
   },
   {
    "duration": 48,
    "start_time": "2021-06-22T16:24:19.128Z"
   },
   {
    "duration": 76,
    "start_time": "2021-06-22T16:24:19.179Z"
   },
   {
    "duration": 26,
    "start_time": "2021-06-22T16:24:19.258Z"
   },
   {
    "duration": 156,
    "start_time": "2021-06-22T16:24:19.287Z"
   },
   {
    "duration": 82,
    "start_time": "2021-06-22T16:24:19.446Z"
   },
   {
    "duration": 47,
    "start_time": "2021-06-22T16:24:19.530Z"
   },
   {
    "duration": 75,
    "start_time": "2021-06-22T16:24:19.580Z"
   },
   {
    "duration": 51,
    "start_time": "2021-06-22T16:24:19.657Z"
   },
   {
    "duration": 69,
    "start_time": "2021-06-22T16:24:19.710Z"
   },
   {
    "duration": 13021,
    "start_time": "2021-06-22T16:58:58.614Z"
   },
   {
    "duration": 11897,
    "start_time": "2021-06-22T17:01:38.193Z"
   },
   {
    "duration": 662,
    "start_time": "2021-06-22T17:09:03.531Z"
   },
   {
    "duration": 31,
    "start_time": "2021-06-22T17:09:04.196Z"
   },
   {
    "duration": 59,
    "start_time": "2021-06-22T17:09:04.231Z"
   },
   {
    "duration": 60,
    "start_time": "2021-06-22T17:09:04.294Z"
   },
   {
    "duration": 36,
    "start_time": "2021-06-22T17:09:04.358Z"
   },
   {
    "duration": 17,
    "start_time": "2021-06-22T17:09:04.424Z"
   },
   {
    "duration": 161,
    "start_time": "2021-06-22T17:09:04.444Z"
   },
   {
    "duration": 90,
    "start_time": "2021-06-22T17:09:04.609Z"
   },
   {
    "duration": 74,
    "start_time": "2021-06-22T17:09:04.701Z"
   },
   {
    "duration": 99,
    "start_time": "2021-06-22T17:09:04.777Z"
   },
   {
    "duration": 79,
    "start_time": "2021-06-22T17:09:04.878Z"
   },
   {
    "duration": 75,
    "start_time": "2021-06-22T17:09:04.960Z"
   },
   {
    "duration": 102,
    "start_time": "2021-06-22T17:09:05.038Z"
   },
   {
    "duration": 12042,
    "start_time": "2021-06-22T17:09:18.403Z"
   },
   {
    "duration": 423,
    "start_time": "2021-06-22T17:11:35.795Z"
   },
   {
    "duration": 373,
    "start_time": "2021-06-22T17:16:25.505Z"
   },
   {
    "duration": 719,
    "start_time": "2021-06-22T17:36:19.809Z"
   },
   {
    "duration": 970,
    "start_time": "2021-06-22T17:36:29.328Z"
   },
   {
    "duration": 686,
    "start_time": "2021-06-22T17:36:57.989Z"
   },
   {
    "duration": 415,
    "start_time": "2021-06-23T15:06:35.260Z"
   },
   {
    "duration": 1431,
    "start_time": "2021-06-23T15:06:39.683Z"
   },
   {
    "duration": 39,
    "start_time": "2021-06-23T15:06:41.117Z"
   },
   {
    "duration": 37,
    "start_time": "2021-06-23T15:06:41.160Z"
   },
   {
    "duration": 61,
    "start_time": "2021-06-23T15:06:41.201Z"
   },
   {
    "duration": 31,
    "start_time": "2021-06-23T15:06:41.264Z"
   },
   {
    "duration": 17,
    "start_time": "2021-06-23T15:06:41.298Z"
   },
   {
    "duration": 169,
    "start_time": "2021-06-23T15:06:41.317Z"
   },
   {
    "duration": 98,
    "start_time": "2021-06-23T15:06:41.489Z"
   },
   {
    "duration": 64,
    "start_time": "2021-06-23T15:06:41.590Z"
   },
   {
    "duration": 60,
    "start_time": "2021-06-23T15:06:41.657Z"
   },
   {
    "duration": 72,
    "start_time": "2021-06-23T15:06:41.719Z"
   },
   {
    "duration": 76,
    "start_time": "2021-06-23T15:06:41.793Z"
   },
   {
    "duration": 525,
    "start_time": "2021-06-23T15:06:41.872Z"
   },
   {
    "duration": 135,
    "start_time": "2021-06-23T15:07:14.584Z"
   },
   {
    "duration": 96,
    "start_time": "2021-06-23T15:07:34.939Z"
   },
   {
    "duration": 76,
    "start_time": "2021-06-23T15:07:57.014Z"
   },
   {
    "duration": 309,
    "start_time": "2021-06-23T15:44:27.053Z"
   },
   {
    "duration": 49,
    "start_time": "2021-06-23T15:44:40.061Z"
   },
   {
    "duration": 9,
    "start_time": "2021-06-23T15:45:01.696Z"
   },
   {
    "duration": 7,
    "start_time": "2021-06-23T15:48:59.370Z"
   },
   {
    "duration": 2802,
    "start_time": "2021-06-23T15:54:44.081Z"
   },
   {
    "duration": 296,
    "start_time": "2021-06-23T15:55:42.249Z"
   },
   {
    "duration": 544,
    "start_time": "2021-06-23T15:56:20.810Z"
   },
   {
    "duration": 789,
    "start_time": "2021-06-23T15:57:25.025Z"
   },
   {
    "duration": 579,
    "start_time": "2021-06-23T15:57:56.820Z"
   },
   {
    "duration": 666,
    "start_time": "2021-06-23T15:59:38.853Z"
   },
   {
    "duration": 633,
    "start_time": "2021-06-23T15:59:55.993Z"
   },
   {
    "duration": 554,
    "start_time": "2021-06-23T16:00:18.447Z"
   },
   {
    "duration": 92,
    "start_time": "2021-06-23T16:01:58.226Z"
   },
   {
    "duration": 642,
    "start_time": "2021-06-23T16:02:10.917Z"
   },
   {
    "duration": 555,
    "start_time": "2021-06-23T16:03:04.834Z"
   },
   {
    "duration": 718,
    "start_time": "2021-06-23T16:13:18.773Z"
   },
   {
    "duration": 583,
    "start_time": "2021-06-23T16:14:20.451Z"
   },
   {
    "duration": 713,
    "start_time": "2021-06-23T16:14:59.460Z"
   },
   {
    "duration": 732,
    "start_time": "2021-06-23T16:15:05.171Z"
   },
   {
    "duration": 422,
    "start_time": "2021-06-23T16:16:22.232Z"
   },
   {
    "duration": 1069,
    "start_time": "2021-06-23T16:16:35.969Z"
   },
   {
    "duration": 695,
    "start_time": "2021-06-23T16:16:48.131Z"
   },
   {
    "duration": 968,
    "start_time": "2021-06-23T16:17:28.930Z"
   },
   {
    "duration": 1233,
    "start_time": "2021-06-23T16:17:40.038Z"
   },
   {
    "duration": 32,
    "start_time": "2021-06-23T16:24:14.036Z"
   },
   {
    "duration": 39,
    "start_time": "2021-06-23T16:24:39.699Z"
   },
   {
    "duration": 21,
    "start_time": "2021-06-23T16:25:24.778Z"
   },
   {
    "duration": 18,
    "start_time": "2021-06-23T16:25:32.644Z"
   },
   {
    "duration": 19,
    "start_time": "2021-06-23T16:26:02.888Z"
   },
   {
    "duration": 259,
    "start_time": "2021-06-23T16:26:17.024Z"
   },
   {
    "duration": 20,
    "start_time": "2021-06-23T16:26:29.217Z"
   },
   {
    "duration": 27,
    "start_time": "2021-06-23T16:29:08.608Z"
   },
   {
    "duration": 80,
    "start_time": "2021-06-23T17:01:50.147Z"
   },
   {
    "duration": 87,
    "start_time": "2021-06-23T17:02:12.321Z"
   },
   {
    "duration": 541,
    "start_time": "2021-06-23T17:02:23.755Z"
   },
   {
    "duration": 22,
    "start_time": "2021-06-23T17:02:24.298Z"
   },
   {
    "duration": 48,
    "start_time": "2021-06-23T17:02:24.324Z"
   },
   {
    "duration": 28,
    "start_time": "2021-06-23T17:02:24.375Z"
   },
   {
    "duration": 72,
    "start_time": "2021-06-23T17:02:24.406Z"
   },
   {
    "duration": 24,
    "start_time": "2021-06-23T17:02:24.481Z"
   },
   {
    "duration": 163,
    "start_time": "2021-06-23T17:02:24.508Z"
   },
   {
    "duration": 82,
    "start_time": "2021-06-23T17:02:24.674Z"
   },
   {
    "duration": 47,
    "start_time": "2021-06-23T17:02:24.758Z"
   },
   {
    "duration": 79,
    "start_time": "2021-06-23T17:02:24.807Z"
   },
   {
    "duration": 69,
    "start_time": "2021-06-23T17:02:24.888Z"
   },
   {
    "duration": 55,
    "start_time": "2021-06-23T17:02:24.959Z"
   },
   {
    "duration": 399,
    "start_time": "2021-06-23T17:02:25.016Z"
   },
   {
    "duration": 84,
    "start_time": "2021-06-23T17:02:25.417Z"
   },
   {
    "duration": 303,
    "start_time": "2021-06-23T17:02:44.392Z"
   },
   {
    "duration": 414,
    "start_time": "2021-06-23T17:02:58.544Z"
   },
   {
    "duration": 410,
    "start_time": "2021-06-23T17:03:13.468Z"
   },
   {
    "duration": 303,
    "start_time": "2021-06-23T17:03:20.298Z"
   },
   {
    "duration": 557,
    "start_time": "2021-06-23T17:03:43.236Z"
   },
   {
    "duration": 3141,
    "start_time": "2021-06-23T17:03:58.851Z"
   },
   {
    "duration": 305,
    "start_time": "2021-06-23T17:05:32.653Z"
   },
   {
    "duration": 391,
    "start_time": "2021-06-23T17:05:46.232Z"
   },
   {
    "duration": 282,
    "start_time": "2021-06-23T17:05:52.314Z"
   },
   {
    "duration": 293,
    "start_time": "2021-06-23T17:06:11.344Z"
   },
   {
    "duration": 308,
    "start_time": "2021-06-23T17:06:17.027Z"
   },
   {
    "duration": 771,
    "start_time": "2021-06-23T17:16:08.783Z"
   },
   {
    "duration": 250,
    "start_time": "2021-06-23T17:17:10.247Z"
   },
   {
    "duration": 81,
    "start_time": "2021-06-23T17:32:46.097Z"
   },
   {
    "duration": 5,
    "start_time": "2021-06-23T17:33:14.235Z"
   },
   {
    "duration": 796,
    "start_time": "2021-06-23T17:33:42.482Z"
   },
   {
    "duration": 245,
    "start_time": "2021-06-23T17:34:54.811Z"
   },
   {
    "duration": 242,
    "start_time": "2021-06-23T17:35:10.612Z"
   },
   {
    "duration": 670,
    "start_time": "2021-06-23T17:36:08.098Z"
   },
   {
    "duration": 254,
    "start_time": "2021-06-23T17:36:40.083Z"
   },
   {
    "duration": 249,
    "start_time": "2021-06-23T17:37:02.192Z"
   },
   {
    "duration": 10019,
    "start_time": "2021-06-23T17:38:07.117Z"
   },
   {
    "duration": 727,
    "start_time": "2021-06-23T17:40:04.272Z"
   },
   {
    "duration": 669,
    "start_time": "2021-06-23T17:45:11.136Z"
   },
   {
    "duration": 830,
    "start_time": "2021-06-23T17:45:25.231Z"
   },
   {
    "duration": 241,
    "start_time": "2021-06-23T17:45:33.486Z"
   },
   {
    "duration": 113,
    "start_time": "2021-06-23T17:52:01.188Z"
   },
   {
    "duration": 760,
    "start_time": "2021-06-23T17:52:53.296Z"
   },
   {
    "duration": 732,
    "start_time": "2021-06-23T17:55:28.925Z"
   },
   {
    "duration": 725,
    "start_time": "2021-06-23T17:56:04.505Z"
   },
   {
    "duration": 700,
    "start_time": "2021-06-23T17:57:22.189Z"
   },
   {
    "duration": 705,
    "start_time": "2021-06-23T17:58:28.460Z"
   },
   {
    "duration": 688,
    "start_time": "2021-06-23T17:59:09.605Z"
   },
   {
    "duration": 726,
    "start_time": "2021-06-23T17:59:42.147Z"
   },
   {
    "duration": 941,
    "start_time": "2021-06-23T18:00:46.616Z"
   },
   {
    "duration": 864,
    "start_time": "2021-06-23T18:05:58.816Z"
   },
   {
    "duration": 871,
    "start_time": "2021-06-23T18:07:30.603Z"
   },
   {
    "duration": 870,
    "start_time": "2021-06-23T18:07:42.608Z"
   },
   {
    "duration": 869,
    "start_time": "2021-06-23T18:08:00.857Z"
   },
   {
    "duration": 901,
    "start_time": "2021-06-23T18:08:25.908Z"
   },
   {
    "duration": 1035,
    "start_time": "2021-06-23T18:08:41.841Z"
   },
   {
    "duration": 932,
    "start_time": "2021-06-23T18:09:11.328Z"
   },
   {
    "duration": 932,
    "start_time": "2021-06-23T18:09:26.967Z"
   },
   {
    "duration": 1429,
    "start_time": "2021-06-23T18:10:24.681Z"
   },
   {
    "duration": 1217,
    "start_time": "2021-06-23T18:11:55.812Z"
   },
   {
    "duration": 1201,
    "start_time": "2021-06-23T18:12:19.888Z"
   },
   {
    "duration": 1406,
    "start_time": "2021-06-23T18:12:56.218Z"
   },
   {
    "duration": 1492,
    "start_time": "2021-06-23T18:13:22.631Z"
   },
   {
    "duration": 1302,
    "start_time": "2021-06-23T18:13:37.852Z"
   },
   {
    "duration": 1448,
    "start_time": "2021-06-23T18:13:56.211Z"
   },
   {
    "duration": 1292,
    "start_time": "2021-06-23T18:14:44.605Z"
   },
   {
    "duration": 1603,
    "start_time": "2021-06-23T18:17:23.015Z"
   },
   {
    "duration": 876,
    "start_time": "2021-06-23T18:20:35.686Z"
   },
   {
    "duration": 1271,
    "start_time": "2021-06-23T18:21:07.385Z"
   },
   {
    "duration": 880,
    "start_time": "2021-06-23T18:22:42.479Z"
   },
   {
    "duration": 377,
    "start_time": "2021-06-23T18:27:45.116Z"
   },
   {
    "duration": 1216,
    "start_time": "2021-06-23T18:27:53.993Z"
   },
   {
    "duration": 884,
    "start_time": "2021-06-23T18:28:11.272Z"
   },
   {
    "duration": 878,
    "start_time": "2021-06-23T18:28:16.852Z"
   },
   {
    "duration": 927,
    "start_time": "2021-06-23T18:28:23.527Z"
   },
   {
    "duration": 89,
    "start_time": "2021-06-23T18:42:23.095Z"
   },
   {
    "duration": 83,
    "start_time": "2021-06-23T18:44:15.905Z"
   },
   {
    "duration": 94,
    "start_time": "2021-06-23T18:44:36.307Z"
   },
   {
    "duration": 252,
    "start_time": "2021-06-23T18:45:31.168Z"
   },
   {
    "duration": 877,
    "start_time": "2021-06-23T18:45:43.388Z"
   },
   {
    "duration": 916,
    "start_time": "2021-06-23T18:47:00.038Z"
   },
   {
    "duration": 1095,
    "start_time": "2021-06-23T18:47:13.827Z"
   },
   {
    "duration": 93,
    "start_time": "2021-06-23T18:47:53.638Z"
   },
   {
    "duration": 879,
    "start_time": "2021-06-23T18:48:03.131Z"
   },
   {
    "duration": 914,
    "start_time": "2021-06-23T18:48:18.952Z"
   },
   {
    "duration": 990,
    "start_time": "2021-06-23T18:49:14.420Z"
   },
   {
    "duration": 873,
    "start_time": "2021-06-23T18:53:02.511Z"
   },
   {
    "duration": 1122,
    "start_time": "2021-06-23T18:58:53.611Z"
   },
   {
    "duration": 1398,
    "start_time": "2021-06-24T15:24:53.726Z"
   },
   {
    "duration": 27,
    "start_time": "2021-06-24T15:24:55.127Z"
   },
   {
    "duration": 34,
    "start_time": "2021-06-24T15:24:55.157Z"
   },
   {
    "duration": 51,
    "start_time": "2021-06-24T15:24:55.194Z"
   },
   {
    "duration": 30,
    "start_time": "2021-06-24T15:24:55.247Z"
   },
   {
    "duration": 44,
    "start_time": "2021-06-24T15:24:55.280Z"
   },
   {
    "duration": 137,
    "start_time": "2021-06-24T15:24:55.326Z"
   },
   {
    "duration": 98,
    "start_time": "2021-06-24T15:24:55.465Z"
   },
   {
    "duration": 59,
    "start_time": "2021-06-24T15:24:55.566Z"
   },
   {
    "duration": 62,
    "start_time": "2021-06-24T15:24:55.628Z"
   },
   {
    "duration": 68,
    "start_time": "2021-06-24T15:24:55.692Z"
   },
   {
    "duration": 70,
    "start_time": "2021-06-24T15:24:55.762Z"
   },
   {
    "duration": 422,
    "start_time": "2021-06-24T15:24:55.834Z"
   },
   {
    "duration": 1366,
    "start_time": "2021-06-24T15:24:56.258Z"
   },
   {
    "duration": 879,
    "start_time": "2021-06-24T15:45:25.613Z"
   },
   {
    "duration": 1061,
    "start_time": "2021-06-24T15:45:45.432Z"
   },
   {
    "duration": 100,
    "start_time": "2021-06-24T15:49:23.477Z"
   },
   {
    "duration": 911,
    "start_time": "2021-06-24T15:49:33.189Z"
   },
   {
    "duration": 876,
    "start_time": "2021-06-24T15:50:40.110Z"
   },
   {
    "duration": 1222,
    "start_time": "2021-06-24T15:51:18.620Z"
   },
   {
    "duration": 100,
    "start_time": "2021-06-24T15:56:11.521Z"
   },
   {
    "duration": 95,
    "start_time": "2021-06-24T15:56:34.337Z"
   },
   {
    "duration": 94,
    "start_time": "2021-06-24T15:57:10.288Z"
   },
   {
    "duration": 101,
    "start_time": "2021-06-24T15:57:50.925Z"
   },
   {
    "duration": 95,
    "start_time": "2021-06-24T15:58:25.187Z"
   },
   {
    "duration": 885,
    "start_time": "2021-06-24T15:59:01.169Z"
   },
   {
    "duration": 877,
    "start_time": "2021-06-24T16:00:09.059Z"
   },
   {
    "duration": 1000,
    "start_time": "2021-06-24T16:00:52.538Z"
   },
   {
    "duration": 900,
    "start_time": "2021-06-24T16:01:31.049Z"
   },
   {
    "duration": 886,
    "start_time": "2021-06-24T16:02:36.296Z"
   },
   {
    "duration": 560,
    "start_time": "2021-06-24T16:05:35.384Z"
   },
   {
    "duration": 21,
    "start_time": "2021-06-24T16:05:35.946Z"
   },
   {
    "duration": 49,
    "start_time": "2021-06-24T16:05:35.970Z"
   },
   {
    "duration": 29,
    "start_time": "2021-06-24T16:05:36.025Z"
   },
   {
    "duration": 67,
    "start_time": "2021-06-24T16:05:36.057Z"
   },
   {
    "duration": 20,
    "start_time": "2021-06-24T16:05:36.127Z"
   },
   {
    "duration": 147,
    "start_time": "2021-06-24T16:05:36.150Z"
   },
   {
    "duration": 87,
    "start_time": "2021-06-24T16:05:36.300Z"
   },
   {
    "duration": 64,
    "start_time": "2021-06-24T16:05:36.390Z"
   },
   {
    "duration": 69,
    "start_time": "2021-06-24T16:05:36.457Z"
   },
   {
    "duration": 54,
    "start_time": "2021-06-24T16:05:36.529Z"
   },
   {
    "duration": 77,
    "start_time": "2021-06-24T16:05:36.585Z"
   },
   {
    "duration": 398,
    "start_time": "2021-06-24T16:05:36.664Z"
   },
   {
    "duration": 7,
    "start_time": "2021-06-24T16:05:37.064Z"
   },
   {
    "duration": 313,
    "start_time": "2021-06-24T16:09:35.755Z"
   },
   {
    "duration": 1139,
    "start_time": "2021-06-24T16:09:47.632Z"
   },
   {
    "duration": 8,
    "start_time": "2021-06-24T16:11:22.533Z"
   },
   {
    "duration": 1080,
    "start_time": "2021-06-24T16:11:26.024Z"
   },
   {
    "duration": 8,
    "start_time": "2021-06-24T16:11:49.862Z"
   },
   {
    "duration": 1035,
    "start_time": "2021-06-24T16:11:54.368Z"
   },
   {
    "duration": 9,
    "start_time": "2021-06-24T16:13:22.097Z"
   },
   {
    "duration": 1098,
    "start_time": "2021-06-24T16:13:24.949Z"
   },
   {
    "duration": 8,
    "start_time": "2021-06-24T16:13:40.132Z"
   },
   {
    "duration": 934,
    "start_time": "2021-06-24T16:13:42.524Z"
   },
   {
    "duration": 8,
    "start_time": "2021-06-24T16:31:12.296Z"
   },
   {
    "duration": 97,
    "start_time": "2021-06-24T16:31:14.611Z"
   },
   {
    "duration": 1055,
    "start_time": "2021-06-24T16:31:18.117Z"
   },
   {
    "duration": 1024,
    "start_time": "2021-06-24T16:45:31.631Z"
   },
   {
    "duration": 863,
    "start_time": "2021-06-24T16:45:55.576Z"
   },
   {
    "duration": 879,
    "start_time": "2021-06-24T16:53:30.212Z"
   },
   {
    "duration": 435,
    "start_time": "2021-06-25T15:55:09.686Z"
   },
   {
    "duration": 1518,
    "start_time": "2021-06-25T15:55:15.993Z"
   },
   {
    "duration": 25,
    "start_time": "2021-06-25T15:55:17.514Z"
   },
   {
    "duration": 35,
    "start_time": "2021-06-25T15:55:17.542Z"
   },
   {
    "duration": 52,
    "start_time": "2021-06-25T15:55:17.580Z"
   },
   {
    "duration": 29,
    "start_time": "2021-06-25T15:55:17.635Z"
   },
   {
    "duration": 44,
    "start_time": "2021-06-25T15:55:17.666Z"
   },
   {
    "duration": 147,
    "start_time": "2021-06-25T15:55:17.713Z"
   },
   {
    "duration": 95,
    "start_time": "2021-06-25T15:55:17.863Z"
   },
   {
    "duration": 61,
    "start_time": "2021-06-25T15:55:17.961Z"
   },
   {
    "duration": 63,
    "start_time": "2021-06-25T15:55:18.024Z"
   },
   {
    "duration": 64,
    "start_time": "2021-06-25T15:55:18.089Z"
   },
   {
    "duration": 72,
    "start_time": "2021-06-25T15:55:18.155Z"
   },
   {
    "duration": 445,
    "start_time": "2021-06-25T15:55:18.229Z"
   },
   {
    "duration": 9,
    "start_time": "2021-06-25T15:55:18.677Z"
   },
   {
    "duration": 1331,
    "start_time": "2021-06-25T15:55:18.690Z"
   },
   {
    "duration": 914,
    "start_time": "2021-06-25T15:55:20.024Z"
   },
   {
    "duration": 988,
    "start_time": "2021-06-25T15:55:20.940Z"
   },
   {
    "duration": 13,
    "start_time": "2021-06-25T15:55:21.930Z"
   },
   {
    "duration": 18,
    "start_time": "2021-06-25T15:56:00.583Z"
   },
   {
    "duration": 3,
    "start_time": "2021-06-25T16:30:54.050Z"
   },
   {
    "duration": 455,
    "start_time": "2021-06-25T16:33:13.680Z"
   },
   {
    "duration": 577,
    "start_time": "2021-06-25T16:35:52.177Z"
   },
   {
    "duration": 9157,
    "start_time": "2021-06-25T16:36:52.368Z"
   },
   {
    "duration": 9,
    "start_time": "2021-06-25T16:37:30.982Z"
   },
   {
    "duration": 11,
    "start_time": "2021-06-25T16:38:09.893Z"
   },
   {
    "duration": 13,
    "start_time": "2021-06-25T16:39:50.479Z"
   },
   {
    "duration": 8,
    "start_time": "2021-06-25T16:40:39.145Z"
   },
   {
    "duration": 21,
    "start_time": "2021-06-25T16:42:45.255Z"
   },
   {
    "duration": 24,
    "start_time": "2021-06-25T16:42:56.724Z"
   },
   {
    "duration": 20,
    "start_time": "2021-06-25T16:43:04.974Z"
   },
   {
    "duration": 21,
    "start_time": "2021-06-25T16:43:29.968Z"
   },
   {
    "duration": 542,
    "start_time": "2021-06-25T16:55:13.485Z"
   },
   {
    "duration": 19,
    "start_time": "2021-06-25T16:55:14.029Z"
   },
   {
    "duration": 33,
    "start_time": "2021-06-25T16:55:14.052Z"
   },
   {
    "duration": 41,
    "start_time": "2021-06-25T16:55:14.088Z"
   },
   {
    "duration": 34,
    "start_time": "2021-06-25T16:55:14.131Z"
   },
   {
    "duration": 49,
    "start_time": "2021-06-25T16:55:14.167Z"
   },
   {
    "duration": 131,
    "start_time": "2021-06-25T16:55:14.218Z"
   },
   {
    "duration": 94,
    "start_time": "2021-06-25T16:55:14.353Z"
   },
   {
    "duration": 65,
    "start_time": "2021-06-25T16:55:14.450Z"
   },
   {
    "duration": 55,
    "start_time": "2021-06-25T16:55:14.518Z"
   },
   {
    "duration": 76,
    "start_time": "2021-06-25T16:55:14.576Z"
   },
   {
    "duration": 74,
    "start_time": "2021-06-25T16:55:14.654Z"
   },
   {
    "duration": 400,
    "start_time": "2021-06-25T16:55:14.730Z"
   },
   {
    "duration": 7,
    "start_time": "2021-06-25T16:55:15.132Z"
   },
   {
    "duration": 1015,
    "start_time": "2021-06-25T16:55:15.142Z"
   },
   {
    "duration": 956,
    "start_time": "2021-06-25T16:55:16.159Z"
   },
   {
    "duration": 1342,
    "start_time": "2021-06-25T16:55:17.117Z"
   },
   {
    "duration": 47,
    "start_time": "2021-06-25T16:55:18.462Z"
   },
   {
    "duration": 21,
    "start_time": "2021-06-25T16:55:18.512Z"
   },
   {
    "duration": 361,
    "start_time": "2021-06-25T17:04:53.342Z"
   },
   {
    "duration": 7,
    "start_time": "2021-06-25T17:08:18.464Z"
   },
   {
    "duration": 24,
    "start_time": "2021-06-25T17:27:02.260Z"
   },
   {
    "duration": 19,
    "start_time": "2021-06-25T17:27:14.907Z"
   },
   {
    "duration": 400,
    "start_time": "2021-06-25T17:29:29.307Z"
   },
   {
    "duration": 7,
    "start_time": "2021-06-25T17:29:50.531Z"
   },
   {
    "duration": 9,
    "start_time": "2021-06-25T17:30:04.151Z"
   },
   {
    "duration": 7,
    "start_time": "2021-06-25T17:30:23.490Z"
   },
   {
    "duration": 19,
    "start_time": "2021-06-25T17:31:28.122Z"
   },
   {
    "duration": 326,
    "start_time": "2021-06-25T17:45:44.741Z"
   },
   {
    "duration": 7,
    "start_time": "2021-06-25T17:45:53.089Z"
   },
   {
    "duration": 6,
    "start_time": "2021-06-25T17:46:29.885Z"
   },
   {
    "duration": 5,
    "start_time": "2021-06-25T17:47:52.793Z"
   },
   {
    "duration": 10,
    "start_time": "2021-06-25T18:01:55.857Z"
   },
   {
    "duration": 112,
    "start_time": "2021-06-25T18:03:51.658Z"
   },
   {
    "duration": 120,
    "start_time": "2021-06-25T18:05:43.758Z"
   },
   {
    "duration": 12,
    "start_time": "2021-06-25T18:06:01.083Z"
   },
   {
    "duration": 31,
    "start_time": "2021-06-25T18:07:14.923Z"
   },
   {
    "duration": 35,
    "start_time": "2021-06-25T18:08:30.001Z"
   },
   {
    "duration": 29,
    "start_time": "2021-06-25T18:08:48.809Z"
   },
   {
    "duration": 17,
    "start_time": "2021-06-25T18:09:55.068Z"
   },
   {
    "duration": 268,
    "start_time": "2021-06-25T18:10:46.091Z"
   },
   {
    "duration": 523,
    "start_time": "2021-06-25T18:11:54.280Z"
   },
   {
    "duration": 31,
    "start_time": "2021-06-25T18:11:54.806Z"
   },
   {
    "duration": 319,
    "start_time": "2021-06-25T18:11:54.840Z"
   },
   {
    "duration": 25,
    "start_time": "2021-06-25T18:11:55.161Z"
   },
   {
    "duration": 47,
    "start_time": "2021-06-25T18:11:55.188Z"
   },
   {
    "duration": 15,
    "start_time": "2021-06-25T18:11:55.238Z"
   },
   {
    "duration": 156,
    "start_time": "2021-06-25T18:11:55.256Z"
   },
   {
    "duration": 78,
    "start_time": "2021-06-25T18:11:55.416Z"
   },
   {
    "duration": 46,
    "start_time": "2021-06-25T18:11:55.510Z"
   },
   {
    "duration": 76,
    "start_time": "2021-06-25T18:11:55.558Z"
   },
   {
    "duration": 53,
    "start_time": "2021-06-25T18:11:55.636Z"
   },
   {
    "duration": 71,
    "start_time": "2021-06-25T18:11:55.691Z"
   },
   {
    "duration": 423,
    "start_time": "2021-06-25T18:11:55.764Z"
   },
   {
    "duration": 18,
    "start_time": "2021-06-25T18:11:56.190Z"
   },
   {
    "duration": 907,
    "start_time": "2021-06-25T18:11:56.211Z"
   },
   {
    "duration": 912,
    "start_time": "2021-06-25T18:11:57.121Z"
   },
   {
    "duration": 1051,
    "start_time": "2021-06-25T18:11:58.035Z"
   },
   {
    "duration": 37,
    "start_time": "2021-06-25T18:11:59.089Z"
   },
   {
    "duration": 19,
    "start_time": "2021-06-25T18:11:59.129Z"
   },
   {
    "duration": 10,
    "start_time": "2021-06-25T18:11:59.151Z"
   },
   {
    "duration": 60,
    "start_time": "2021-06-25T18:11:59.163Z"
   },
   {
    "duration": 6,
    "start_time": "2021-06-25T18:11:59.226Z"
   },
   {
    "duration": 279,
    "start_time": "2021-06-25T18:13:42.417Z"
   },
   {
    "duration": 137,
    "start_time": "2021-06-25T18:14:20.084Z"
   },
   {
    "duration": 297,
    "start_time": "2021-06-25T18:16:17.383Z"
   },
   {
    "duration": 269,
    "start_time": "2021-06-25T18:17:40.229Z"
   },
   {
    "duration": 125,
    "start_time": "2021-06-25T18:26:04.197Z"
   },
   {
    "duration": 65,
    "start_time": "2021-06-25T18:28:58.163Z"
   },
   {
    "duration": 452,
    "start_time": "2021-06-25T18:34:55.992Z"
   },
   {
    "duration": 74,
    "start_time": "2021-06-25T18:35:02.152Z"
   },
   {
    "duration": 67,
    "start_time": "2021-06-25T18:35:21.909Z"
   },
   {
    "duration": 71,
    "start_time": "2021-06-25T18:37:02.868Z"
   },
   {
    "duration": 71,
    "start_time": "2021-06-25T18:37:30.088Z"
   },
   {
    "duration": 70,
    "start_time": "2021-06-25T18:37:43.952Z"
   },
   {
    "duration": 282,
    "start_time": "2021-06-25T18:42:13.888Z"
   },
   {
    "duration": 262,
    "start_time": "2021-06-25T18:42:38.474Z"
   },
   {
    "duration": 71,
    "start_time": "2021-06-25T18:44:35.073Z"
   },
   {
    "duration": -73040,
    "start_time": "2021-06-25T18:49:22.054Z"
   },
   {
    "duration": -73077,
    "start_time": "2021-06-25T18:49:22.092Z"
   },
   {
    "duration": -73081,
    "start_time": "2021-06-25T18:49:22.098Z"
   },
   {
    "duration": -73101,
    "start_time": "2021-06-25T18:49:22.119Z"
   },
   {
    "duration": -73123,
    "start_time": "2021-06-25T18:49:22.143Z"
   },
   {
    "duration": -73145,
    "start_time": "2021-06-25T18:49:22.166Z"
   },
   {
    "duration": -73165,
    "start_time": "2021-06-25T18:49:22.188Z"
   },
   {
    "duration": -73190,
    "start_time": "2021-06-25T18:49:22.214Z"
   },
   {
    "duration": -73210,
    "start_time": "2021-06-25T18:49:22.236Z"
   },
   {
    "duration": -73240,
    "start_time": "2021-06-25T18:49:22.267Z"
   },
   {
    "duration": -73243,
    "start_time": "2021-06-25T18:49:22.272Z"
   },
   {
    "duration": -73285,
    "start_time": "2021-06-25T18:49:22.315Z"
   },
   {
    "duration": -73289,
    "start_time": "2021-06-25T18:49:22.321Z"
   },
   {
    "duration": -73332,
    "start_time": "2021-06-25T18:49:22.366Z"
   },
   {
    "duration": -73336,
    "start_time": "2021-06-25T18:49:22.371Z"
   },
   {
    "duration": -73341,
    "start_time": "2021-06-25T18:49:22.378Z"
   },
   {
    "duration": -73346,
    "start_time": "2021-06-25T18:49:22.384Z"
   },
   {
    "duration": -73365,
    "start_time": "2021-06-25T18:49:22.405Z"
   },
   {
    "duration": -73369,
    "start_time": "2021-06-25T18:49:22.411Z"
   },
   {
    "duration": -73390,
    "start_time": "2021-06-25T18:49:22.433Z"
   },
   {
    "duration": -73396,
    "start_time": "2021-06-25T18:49:22.441Z"
   },
   {
    "duration": -73404,
    "start_time": "2021-06-25T18:49:22.450Z"
   },
   {
    "duration": 1945,
    "start_time": "2021-06-25T18:48:40.029Z"
   },
   {
    "duration": 39,
    "start_time": "2021-06-25T18:48:41.977Z"
   },
   {
    "duration": 348,
    "start_time": "2021-06-25T18:48:42.018Z"
   },
   {
    "duration": 150,
    "start_time": "2021-06-25T18:48:42.368Z"
   },
   {
    "duration": 276,
    "start_time": "2021-06-25T18:48:42.521Z"
   },
   {
    "duration": 25,
    "start_time": "2021-06-25T18:48:42.799Z"
   },
   {
    "duration": 158,
    "start_time": "2021-06-25T18:48:42.826Z"
   },
   {
    "duration": 88,
    "start_time": "2021-06-25T18:48:42.989Z"
   },
   {
    "duration": 60,
    "start_time": "2021-06-25T18:48:43.080Z"
   },
   {
    "duration": 74,
    "start_time": "2021-06-25T18:48:43.142Z"
   },
   {
    "duration": 55,
    "start_time": "2021-06-25T18:48:43.219Z"
   },
   {
    "duration": 73,
    "start_time": "2021-06-25T18:48:43.278Z"
   },
   {
    "duration": 409,
    "start_time": "2021-06-25T18:48:43.353Z"
   },
   {
    "duration": 8,
    "start_time": "2021-06-25T18:48:43.764Z"
   },
   {
    "duration": 935,
    "start_time": "2021-06-25T18:48:43.775Z"
   },
   {
    "duration": 882,
    "start_time": "2021-06-25T18:48:44.712Z"
   },
   {
    "duration": 998,
    "start_time": "2021-06-25T18:48:45.611Z"
   },
   {
    "duration": 18,
    "start_time": "2021-06-25T18:48:46.612Z"
   },
   {
    "duration": 22,
    "start_time": "2021-06-25T18:48:46.634Z"
   },
   {
    "duration": 8,
    "start_time": "2021-06-25T18:48:46.658Z"
   },
   {
    "duration": 23,
    "start_time": "2021-06-25T18:48:46.710Z"
   },
   {
    "duration": 7,
    "start_time": "2021-06-25T18:48:46.736Z"
   },
   {
    "duration": 33,
    "start_time": "2021-06-25T19:11:51.721Z"
   },
   {
    "duration": 35,
    "start_time": "2021-06-25T19:16:17.391Z"
   },
   {
    "duration": 1994,
    "start_time": "2021-06-25T23:25:14.686Z"
   },
   {
    "duration": 35,
    "start_time": "2021-06-25T23:25:16.683Z"
   },
   {
    "duration": 305,
    "start_time": "2021-06-25T23:25:16.720Z"
   },
   {
    "duration": 153,
    "start_time": "2021-06-25T23:25:17.028Z"
   },
   {
    "duration": 222,
    "start_time": "2021-06-25T23:25:17.183Z"
   },
   {
    "duration": 18,
    "start_time": "2021-06-25T23:25:17.407Z"
   },
   {
    "duration": 155,
    "start_time": "2021-06-25T23:25:17.428Z"
   },
   {
    "duration": 67,
    "start_time": "2021-06-25T23:25:17.600Z"
   },
   {
    "duration": 61,
    "start_time": "2021-06-25T23:25:17.670Z"
   },
   {
    "duration": 69,
    "start_time": "2021-06-25T23:25:17.733Z"
   },
   {
    "duration": 52,
    "start_time": "2021-06-25T23:25:17.804Z"
   },
   {
    "duration": 74,
    "start_time": "2021-06-25T23:25:17.858Z"
   },
   {
    "duration": 378,
    "start_time": "2021-06-25T23:25:17.934Z"
   },
   {
    "duration": 8,
    "start_time": "2021-06-25T23:25:18.315Z"
   },
   {
    "duration": 889,
    "start_time": "2021-06-25T23:25:18.325Z"
   },
   {
    "duration": 888,
    "start_time": "2021-06-25T23:25:19.217Z"
   },
   {
    "duration": 966,
    "start_time": "2021-06-25T23:25:20.108Z"
   },
   {
    "duration": 56,
    "start_time": "2021-06-25T23:25:21.077Z"
   },
   {
    "duration": 18,
    "start_time": "2021-06-25T23:25:21.136Z"
   },
   {
    "duration": 10,
    "start_time": "2021-06-25T23:25:21.157Z"
   },
   {
    "duration": 21,
    "start_time": "2021-06-25T23:25:21.202Z"
   },
   {
    "duration": 7,
    "start_time": "2021-06-25T23:25:21.226Z"
   },
   {
    "duration": 1857,
    "start_time": "2021-06-25T23:47:11.340Z"
   },
   {
    "duration": 36,
    "start_time": "2021-06-25T23:47:13.200Z"
   },
   {
    "duration": 383,
    "start_time": "2021-06-25T23:47:13.241Z"
   },
   {
    "duration": 127,
    "start_time": "2021-06-25T23:47:13.627Z"
   },
   {
    "duration": 285,
    "start_time": "2021-06-25T23:47:13.757Z"
   },
   {
    "duration": 16,
    "start_time": "2021-06-25T23:47:14.045Z"
   },
   {
    "duration": 154,
    "start_time": "2021-06-25T23:47:14.065Z"
   },
   {
    "duration": 78,
    "start_time": "2021-06-25T23:47:14.222Z"
   },
   {
    "duration": 43,
    "start_time": "2021-06-25T23:47:14.303Z"
   },
   {
    "duration": 82,
    "start_time": "2021-06-25T23:47:14.349Z"
   },
   {
    "duration": 51,
    "start_time": "2021-06-25T23:47:14.434Z"
   },
   {
    "duration": 64,
    "start_time": "2021-06-25T23:47:14.487Z"
   },
   {
    "duration": 389,
    "start_time": "2021-06-25T23:47:14.553Z"
   },
   {
    "duration": 8,
    "start_time": "2021-06-25T23:47:14.945Z"
   },
   {
    "duration": 871,
    "start_time": "2021-06-25T23:47:14.955Z"
   },
   {
    "duration": 553,
    "start_time": "2021-06-25T23:47:25.803Z"
   },
   {
    "duration": 45,
    "start_time": "2021-06-25T23:47:26.360Z"
   },
   {
    "duration": 283,
    "start_time": "2021-06-25T23:47:26.409Z"
   },
   {
    "duration": 137,
    "start_time": "2021-06-25T23:47:26.701Z"
   },
   {
    "duration": 207,
    "start_time": "2021-06-25T23:47:26.840Z"
   },
   {
    "duration": 19,
    "start_time": "2021-06-25T23:47:27.050Z"
   },
   {
    "duration": 191,
    "start_time": "2021-06-25T23:47:27.072Z"
   },
   {
    "duration": 79,
    "start_time": "2021-06-25T23:47:27.268Z"
   },
   {
    "duration": 63,
    "start_time": "2021-06-25T23:47:27.350Z"
   },
   {
    "duration": 57,
    "start_time": "2021-06-25T23:47:27.416Z"
   },
   {
    "duration": 130,
    "start_time": "2021-06-25T23:47:27.476Z"
   },
   {
    "duration": 53,
    "start_time": "2021-06-25T23:47:27.609Z"
   },
   {
    "duration": 405,
    "start_time": "2021-06-25T23:47:27.665Z"
   },
   {
    "duration": 9,
    "start_time": "2021-06-25T23:47:28.073Z"
   },
   {
    "duration": 887,
    "start_time": "2021-06-25T23:47:28.085Z"
   },
   {
    "duration": 598,
    "start_time": "2021-06-25T23:47:28.975Z"
   },
   {
    "duration": 1683,
    "start_time": "2021-06-25T23:47:29.576Z"
   },
   {
    "duration": 904,
    "start_time": "2021-06-25T23:47:31.263Z"
   },
   {
    "duration": 56,
    "start_time": "2021-06-25T23:47:32.170Z"
   },
   {
    "duration": 18,
    "start_time": "2021-06-25T23:47:32.229Z"
   },
   {
    "duration": 8,
    "start_time": "2021-06-25T23:47:32.250Z"
   },
   {
    "duration": 56,
    "start_time": "2021-06-25T23:47:32.261Z"
   },
   {
    "duration": 9,
    "start_time": "2021-06-25T23:47:32.321Z"
   },
   {
    "duration": 542,
    "start_time": "2021-06-25T23:47:37.652Z"
   },
   {
    "duration": 35,
    "start_time": "2021-06-25T23:47:38.197Z"
   },
   {
    "duration": 288,
    "start_time": "2021-06-25T23:47:38.235Z"
   },
   {
    "duration": 143,
    "start_time": "2021-06-25T23:47:38.526Z"
   },
   {
    "duration": 214,
    "start_time": "2021-06-25T23:47:38.672Z"
   },
   {
    "duration": 20,
    "start_time": "2021-06-25T23:47:38.889Z"
   },
   {
    "duration": 140,
    "start_time": "2021-06-25T23:47:38.912Z"
   },
   {
    "duration": 87,
    "start_time": "2021-06-25T23:47:39.056Z"
   },
   {
    "duration": 58,
    "start_time": "2021-06-25T23:47:39.147Z"
   },
   {
    "duration": 54,
    "start_time": "2021-06-25T23:47:39.208Z"
   },
   {
    "duration": 159,
    "start_time": "2021-06-25T23:47:39.264Z"
   },
   {
    "duration": 53,
    "start_time": "2021-06-25T23:47:39.426Z"
   },
   {
    "duration": 368,
    "start_time": "2021-06-25T23:47:39.500Z"
   },
   {
    "duration": 7,
    "start_time": "2021-06-25T23:47:39.870Z"
   },
   {
    "duration": 893,
    "start_time": "2021-06-25T23:47:39.880Z"
   },
   {
    "duration": 865,
    "start_time": "2021-06-25T23:47:41.847Z"
   },
   {
    "duration": 1789,
    "start_time": "2021-06-25T23:47:59.183Z"
   },
   {
    "duration": 36,
    "start_time": "2021-06-25T23:48:00.974Z"
   },
   {
    "duration": 327,
    "start_time": "2021-06-25T23:48:01.013Z"
   },
   {
    "duration": 164,
    "start_time": "2021-06-25T23:48:01.343Z"
   },
   {
    "duration": 236,
    "start_time": "2021-06-25T23:48:01.509Z"
   },
   {
    "duration": 16,
    "start_time": "2021-06-25T23:48:01.747Z"
   },
   {
    "duration": 153,
    "start_time": "2021-06-25T23:48:01.766Z"
   },
   {
    "duration": 86,
    "start_time": "2021-06-25T23:48:01.921Z"
   },
   {
    "duration": 47,
    "start_time": "2021-06-25T23:48:02.011Z"
   },
   {
    "duration": 86,
    "start_time": "2021-06-25T23:48:02.061Z"
   },
   {
    "duration": 61,
    "start_time": "2021-06-25T23:48:02.149Z"
   },
   {
    "duration": 53,
    "start_time": "2021-06-25T23:48:02.213Z"
   },
   {
    "duration": 395,
    "start_time": "2021-06-25T23:48:02.269Z"
   },
   {
    "duration": 7,
    "start_time": "2021-06-25T23:48:02.667Z"
   },
   {
    "duration": 874,
    "start_time": "2021-06-25T23:48:02.676Z"
   },
   {
    "duration": 851,
    "start_time": "2021-06-25T23:48:13.596Z"
   },
   {
    "duration": 913,
    "start_time": "2021-06-25T23:48:15.292Z"
   },
   {
    "duration": 34,
    "start_time": "2021-06-25T23:48:18.172Z"
   },
   {
    "duration": 17,
    "start_time": "2021-06-25T23:48:18.209Z"
   },
   {
    "duration": 7,
    "start_time": "2021-06-25T23:48:18.229Z"
   },
   {
    "duration": 21,
    "start_time": "2021-06-25T23:48:18.238Z"
   },
   {
    "duration": 5,
    "start_time": "2021-06-25T23:48:18.261Z"
   },
   {
    "duration": 396,
    "start_time": "2021-06-26T01:34:33.604Z"
   },
   {
    "duration": 2026,
    "start_time": "2021-06-26T01:34:40.513Z"
   },
   {
    "duration": 36,
    "start_time": "2021-06-26T01:34:42.541Z"
   },
   {
    "duration": 345,
    "start_time": "2021-06-26T01:34:42.580Z"
   },
   {
    "duration": 157,
    "start_time": "2021-06-26T01:34:42.928Z"
   },
   {
    "duration": 287,
    "start_time": "2021-06-26T01:34:43.088Z"
   },
   {
    "duration": 17,
    "start_time": "2021-06-26T01:34:43.378Z"
   },
   {
    "duration": 143,
    "start_time": "2021-06-26T01:34:43.410Z"
   },
   {
    "duration": 91,
    "start_time": "2021-06-26T01:34:43.557Z"
   },
   {
    "duration": 59,
    "start_time": "2021-06-26T01:34:43.651Z"
   },
   {
    "duration": 61,
    "start_time": "2021-06-26T01:34:43.713Z"
   },
   {
    "duration": 76,
    "start_time": "2021-06-26T01:34:43.776Z"
   },
   {
    "duration": 68,
    "start_time": "2021-06-26T01:34:43.854Z"
   },
   {
    "duration": 390,
    "start_time": "2021-06-26T01:34:43.924Z"
   },
   {
    "duration": 7,
    "start_time": "2021-06-26T01:34:44.317Z"
   },
   {
    "duration": 931,
    "start_time": "2021-06-26T01:34:44.327Z"
   },
   {
    "duration": 640,
    "start_time": "2021-06-26T01:34:45.260Z"
   },
   {
    "duration": 1020,
    "start_time": "2021-06-26T01:34:45.902Z"
   },
   {
    "duration": 949,
    "start_time": "2021-06-26T01:34:46.925Z"
   },
   {
    "duration": 54,
    "start_time": "2021-06-26T01:34:47.877Z"
   },
   {
    "duration": 18,
    "start_time": "2021-06-26T01:34:47.933Z"
   },
   {
    "duration": 6,
    "start_time": "2021-06-26T01:34:47.954Z"
   },
   {
    "duration": 57,
    "start_time": "2021-06-26T01:34:47.963Z"
   },
   {
    "duration": 5,
    "start_time": "2021-06-26T01:34:48.024Z"
   },
   {
    "duration": 149,
    "start_time": "2021-06-26T01:36:01.445Z"
   },
   {
    "duration": 63,
    "start_time": "2021-06-26T01:59:54.658Z"
   },
   {
    "duration": 64,
    "start_time": "2021-06-26T02:00:13.317Z"
   },
   {
    "duration": 63,
    "start_time": "2021-06-26T02:00:24.821Z"
   },
   {
    "duration": 49,
    "start_time": "2021-06-26T02:23:00.742Z"
   },
   {
    "duration": 53,
    "start_time": "2021-06-26T02:23:29.997Z"
   },
   {
    "duration": 170,
    "start_time": "2021-06-26T02:32:32.955Z"
   },
   {
    "duration": 8,
    "start_time": "2021-06-26T02:41:54.716Z"
   },
   {
    "duration": 9362,
    "start_time": "2021-06-26T02:41:58.407Z"
   },
   {
    "duration": 8,
    "start_time": "2021-06-26T02:42:25.327Z"
   },
   {
    "duration": 8739,
    "start_time": "2021-06-26T02:42:27.959Z"
   },
   {
    "duration": 522,
    "start_time": "2021-06-26T02:43:10.892Z"
   },
   {
    "duration": 33,
    "start_time": "2021-06-26T02:43:11.417Z"
   },
   {
    "duration": 305,
    "start_time": "2021-06-26T02:43:11.453Z"
   },
   {
    "duration": 144,
    "start_time": "2021-06-26T02:43:11.761Z"
   },
   {
    "duration": 218,
    "start_time": "2021-06-26T02:43:11.909Z"
   },
   {
    "duration": 18,
    "start_time": "2021-06-26T02:43:12.130Z"
   },
   {
    "duration": 152,
    "start_time": "2021-06-26T02:43:12.150Z"
   },
   {
    "duration": 72,
    "start_time": "2021-06-26T02:43:12.305Z"
   },
   {
    "duration": 70,
    "start_time": "2021-06-26T02:43:12.381Z"
   },
   {
    "duration": 71,
    "start_time": "2021-06-26T02:43:12.454Z"
   },
   {
    "duration": 95,
    "start_time": "2021-06-26T02:43:12.527Z"
   },
   {
    "duration": 55,
    "start_time": "2021-06-26T02:43:12.624Z"
   },
   {
    "duration": 410,
    "start_time": "2021-06-26T02:43:12.682Z"
   },
   {
    "duration": 16,
    "start_time": "2021-06-26T02:43:13.096Z"
   },
   {
    "duration": 1329,
    "start_time": "2021-06-26T02:43:13.116Z"
   },
   {
    "duration": -5110,
    "start_time": "2021-06-26T02:43:19.558Z"
   },
   {
    "duration": -5112,
    "start_time": "2021-06-26T02:43:19.561Z"
   },
   {
    "duration": -5113,
    "start_time": "2021-06-26T02:43:19.563Z"
   },
   {
    "duration": -5113,
    "start_time": "2021-06-26T02:43:19.565Z"
   },
   {
    "duration": -5848,
    "start_time": "2021-06-26T02:43:20.301Z"
   },
   {
    "duration": -6162,
    "start_time": "2021-06-26T02:43:20.617Z"
   },
   {
    "duration": -6167,
    "start_time": "2021-06-26T02:43:20.623Z"
   },
   {
    "duration": -6331,
    "start_time": "2021-06-26T02:43:20.788Z"
   },
   {
    "duration": 9,
    "start_time": "2021-06-26T02:44:46.054Z"
   },
   {
    "duration": 1023,
    "start_time": "2021-06-26T02:44:49.039Z"
   },
   {
    "duration": 524,
    "start_time": "2021-06-26T02:45:12.890Z"
   },
   {
    "duration": 34,
    "start_time": "2021-06-26T02:45:13.417Z"
   },
   {
    "duration": 326,
    "start_time": "2021-06-26T02:45:13.453Z"
   },
   {
    "duration": 144,
    "start_time": "2021-06-26T02:45:13.781Z"
   },
   {
    "duration": 238,
    "start_time": "2021-06-26T02:45:13.927Z"
   },
   {
    "duration": 102,
    "start_time": "2021-06-26T02:45:14.167Z"
   },
   {
    "duration": 185,
    "start_time": "2021-06-26T02:45:14.272Z"
   },
   {
    "duration": 128,
    "start_time": "2021-06-26T02:45:14.463Z"
   },
   {
    "duration": 85,
    "start_time": "2021-06-26T02:45:14.595Z"
   },
   {
    "duration": 62,
    "start_time": "2021-06-26T02:45:14.683Z"
   },
   {
    "duration": 93,
    "start_time": "2021-06-26T02:45:14.748Z"
   },
   {
    "duration": 69,
    "start_time": "2021-06-26T02:45:14.844Z"
   },
   {
    "duration": 494,
    "start_time": "2021-06-26T02:45:14.916Z"
   },
   {
    "duration": 9,
    "start_time": "2021-06-26T02:45:15.413Z"
   },
   {
    "duration": 941,
    "start_time": "2021-06-26T02:45:15.425Z"
   },
   {
    "duration": 644,
    "start_time": "2021-06-26T02:45:16.369Z"
   },
   {
    "duration": 1107,
    "start_time": "2021-06-26T02:45:17.016Z"
   },
   {
    "duration": 936,
    "start_time": "2021-06-26T02:45:18.126Z"
   },
   {
    "duration": 54,
    "start_time": "2021-06-26T02:45:19.064Z"
   },
   {
    "duration": 19,
    "start_time": "2021-06-26T02:45:19.121Z"
   },
   {
    "duration": 7,
    "start_time": "2021-06-26T02:45:19.143Z"
   },
   {
    "duration": 56,
    "start_time": "2021-06-26T02:45:19.153Z"
   },
   {
    "duration": 6,
    "start_time": "2021-06-26T02:45:19.214Z"
   },
   {
    "duration": 9,
    "start_time": "2021-06-26T02:49:00.284Z"
   },
   {
    "duration": 1282,
    "start_time": "2021-06-26T02:49:03.182Z"
   },
   {
    "duration": 9,
    "start_time": "2021-06-26T02:49:45.437Z"
   },
   {
    "duration": 1288,
    "start_time": "2021-06-26T02:49:47.869Z"
   },
   {
    "duration": 11,
    "start_time": "2021-06-26T02:50:12.757Z"
   },
   {
    "duration": 1317,
    "start_time": "2021-06-26T02:50:15.157Z"
   },
   {
    "duration": 141,
    "start_time": "2021-06-26T02:50:57.405Z"
   },
   {
    "duration": 1231,
    "start_time": "2021-06-26T02:51:01.885Z"
   },
   {
    "duration": 10,
    "start_time": "2021-06-26T02:51:42.692Z"
   },
   {
    "duration": 1184,
    "start_time": "2021-06-26T02:51:45.180Z"
   },
   {
    "duration": 9,
    "start_time": "2021-06-26T02:52:00.428Z"
   },
   {
    "duration": 1281,
    "start_time": "2021-06-26T02:52:02.812Z"
   },
   {
    "duration": 534,
    "start_time": "2021-06-26T02:52:07.768Z"
   },
   {
    "duration": 33,
    "start_time": "2021-06-26T02:52:08.305Z"
   },
   {
    "duration": 355,
    "start_time": "2021-06-26T02:52:08.341Z"
   },
   {
    "duration": 164,
    "start_time": "2021-06-26T02:52:08.698Z"
   },
   {
    "duration": 237,
    "start_time": "2021-06-26T02:52:08.865Z"
   },
   {
    "duration": 18,
    "start_time": "2021-06-26T02:52:09.108Z"
   },
   {
    "duration": 153,
    "start_time": "2021-06-26T02:52:09.128Z"
   },
   {
    "duration": 90,
    "start_time": "2021-06-26T02:52:09.285Z"
   },
   {
    "duration": 55,
    "start_time": "2021-06-26T02:52:09.378Z"
   },
   {
    "duration": 55,
    "start_time": "2021-06-26T02:52:09.435Z"
   },
   {
    "duration": 198,
    "start_time": "2021-06-26T02:52:09.492Z"
   },
   {
    "duration": 65,
    "start_time": "2021-06-26T02:52:09.692Z"
   },
   {
    "duration": 413,
    "start_time": "2021-06-26T02:52:09.760Z"
   },
   {
    "duration": 10,
    "start_time": "2021-06-26T02:52:10.175Z"
   },
   {
    "duration": 1236,
    "start_time": "2021-06-26T02:52:10.187Z"
   },
   {
    "duration": -203,
    "start_time": "2021-06-26T02:52:11.628Z"
   },
   {
    "duration": -205,
    "start_time": "2021-06-26T02:52:11.632Z"
   },
   {
    "duration": -206,
    "start_time": "2021-06-26T02:52:11.634Z"
   },
   {
    "duration": -207,
    "start_time": "2021-06-26T02:52:11.636Z"
   },
   {
    "duration": -208,
    "start_time": "2021-06-26T02:52:11.639Z"
   },
   {
    "duration": -208,
    "start_time": "2021-06-26T02:52:11.640Z"
   },
   {
    "duration": -209,
    "start_time": "2021-06-26T02:52:11.643Z"
   },
   {
    "duration": -209,
    "start_time": "2021-06-26T02:52:11.644Z"
   },
   {
    "duration": 522,
    "start_time": "2021-06-26T02:52:28.904Z"
   },
   {
    "duration": 37,
    "start_time": "2021-06-26T02:52:29.429Z"
   },
   {
    "duration": 341,
    "start_time": "2021-06-26T02:52:29.469Z"
   },
   {
    "duration": 151,
    "start_time": "2021-06-26T02:52:29.813Z"
   },
   {
    "duration": 253,
    "start_time": "2021-06-26T02:52:29.967Z"
   },
   {
    "duration": 18,
    "start_time": "2021-06-26T02:52:30.222Z"
   },
   {
    "duration": 163,
    "start_time": "2021-06-26T02:52:30.242Z"
   },
   {
    "duration": 75,
    "start_time": "2021-06-26T02:52:30.411Z"
   },
   {
    "duration": 66,
    "start_time": "2021-06-26T02:52:30.489Z"
   },
   {
    "duration": 73,
    "start_time": "2021-06-26T02:52:30.557Z"
   },
   {
    "duration": 92,
    "start_time": "2021-06-26T02:52:30.633Z"
   },
   {
    "duration": 55,
    "start_time": "2021-06-26T02:52:30.727Z"
   },
   {
    "duration": 405,
    "start_time": "2021-06-26T02:52:30.785Z"
   },
   {
    "duration": 16,
    "start_time": "2021-06-26T02:52:31.193Z"
   },
   {
    "duration": 1272,
    "start_time": "2021-06-26T02:52:31.211Z"
   },
   {
    "duration": -398,
    "start_time": "2021-06-26T02:52:32.883Z"
   },
   {
    "duration": -414,
    "start_time": "2021-06-26T02:52:32.901Z"
   },
   {
    "duration": -420,
    "start_time": "2021-06-26T02:52:32.908Z"
   },
   {
    "duration": -424,
    "start_time": "2021-06-26T02:52:32.913Z"
   },
   {
    "duration": -428,
    "start_time": "2021-06-26T02:52:32.919Z"
   },
   {
    "duration": -430,
    "start_time": "2021-06-26T02:52:32.922Z"
   },
   {
    "duration": -416,
    "start_time": "2021-06-26T02:52:32.925Z"
   },
   {
    "duration": -418,
    "start_time": "2021-06-26T02:52:32.928Z"
   },
   {
    "duration": 2006,
    "start_time": "2021-06-26T02:52:41.132Z"
   },
   {
    "duration": 39,
    "start_time": "2021-06-26T02:52:43.141Z"
   },
   {
    "duration": 337,
    "start_time": "2021-06-26T02:52:43.183Z"
   },
   {
    "duration": 233,
    "start_time": "2021-06-26T02:52:43.523Z"
   },
   {
    "duration": 327,
    "start_time": "2021-06-26T02:52:43.759Z"
   },
   {
    "duration": 29,
    "start_time": "2021-06-26T02:52:44.089Z"
   },
   {
    "duration": 160,
    "start_time": "2021-06-26T02:52:44.121Z"
   },
   {
    "duration": 86,
    "start_time": "2021-06-26T02:52:44.285Z"
   },
   {
    "duration": 65,
    "start_time": "2021-06-26T02:52:44.375Z"
   },
   {
    "duration": 85,
    "start_time": "2021-06-26T02:52:44.443Z"
   },
   {
    "duration": 96,
    "start_time": "2021-06-26T02:52:44.531Z"
   },
   {
    "duration": 93,
    "start_time": "2021-06-26T02:52:44.630Z"
   },
   {
    "duration": 440,
    "start_time": "2021-06-26T02:52:44.726Z"
   },
   {
    "duration": 10,
    "start_time": "2021-06-26T02:52:45.169Z"
   },
   {
    "duration": 1378,
    "start_time": "2021-06-26T02:52:45.181Z"
   },
   {
    "duration": -184,
    "start_time": "2021-06-26T02:52:46.745Z"
   },
   {
    "duration": -186,
    "start_time": "2021-06-26T02:52:46.749Z"
   },
   {
    "duration": -188,
    "start_time": "2021-06-26T02:52:46.752Z"
   },
   {
    "duration": -189,
    "start_time": "2021-06-26T02:52:46.755Z"
   },
   {
    "duration": -189,
    "start_time": "2021-06-26T02:52:46.757Z"
   },
   {
    "duration": -190,
    "start_time": "2021-06-26T02:52:46.760Z"
   },
   {
    "duration": -190,
    "start_time": "2021-06-26T02:52:46.763Z"
   },
   {
    "duration": -191,
    "start_time": "2021-06-26T02:52:46.766Z"
   },
   {
    "duration": 9,
    "start_time": "2021-06-26T02:53:12.002Z"
   },
   {
    "duration": 1293,
    "start_time": "2021-06-26T02:53:14.124Z"
   },
   {
    "duration": 519,
    "start_time": "2021-06-26T02:53:17.382Z"
   },
   {
    "duration": 32,
    "start_time": "2021-06-26T02:53:17.904Z"
   },
   {
    "duration": 285,
    "start_time": "2021-06-26T02:53:17.939Z"
   },
   {
    "duration": 153,
    "start_time": "2021-06-26T02:53:18.226Z"
   },
   {
    "duration": 211,
    "start_time": "2021-06-26T02:53:18.381Z"
   },
   {
    "duration": 21,
    "start_time": "2021-06-26T02:53:18.595Z"
   },
   {
    "duration": 150,
    "start_time": "2021-06-26T02:53:18.618Z"
   },
   {
    "duration": 81,
    "start_time": "2021-06-26T02:53:18.771Z"
   },
   {
    "duration": 60,
    "start_time": "2021-06-26T02:53:18.855Z"
   },
   {
    "duration": 57,
    "start_time": "2021-06-26T02:53:18.918Z"
   },
   {
    "duration": 96,
    "start_time": "2021-06-26T02:53:18.977Z"
   },
   {
    "duration": 66,
    "start_time": "2021-06-26T02:53:19.075Z"
   },
   {
    "duration": 403,
    "start_time": "2021-06-26T02:53:19.144Z"
   },
   {
    "duration": 10,
    "start_time": "2021-06-26T02:53:19.550Z"
   },
   {
    "duration": 1175,
    "start_time": "2021-06-26T02:53:19.563Z"
   },
   {
    "duration": -185,
    "start_time": "2021-06-26T02:53:20.926Z"
   },
   {
    "duration": -185,
    "start_time": "2021-06-26T02:53:20.928Z"
   },
   {
    "duration": -184,
    "start_time": "2021-06-26T02:53:20.930Z"
   },
   {
    "duration": -185,
    "start_time": "2021-06-26T02:53:20.933Z"
   },
   {
    "duration": -185,
    "start_time": "2021-06-26T02:53:20.935Z"
   },
   {
    "duration": -186,
    "start_time": "2021-06-26T02:53:20.938Z"
   },
   {
    "duration": -186,
    "start_time": "2021-06-26T02:53:20.940Z"
   },
   {
    "duration": -186,
    "start_time": "2021-06-26T02:53:20.942Z"
   },
   {
    "duration": 9,
    "start_time": "2021-06-26T02:54:53.284Z"
   },
   {
    "duration": 966,
    "start_time": "2021-06-26T02:54:56.219Z"
   },
   {
    "duration": 9,
    "start_time": "2021-06-26T02:55:18.171Z"
   },
   {
    "duration": 1003,
    "start_time": "2021-06-26T02:55:40.906Z"
   },
   {
    "duration": 10,
    "start_time": "2021-06-26T03:03:09.430Z"
   },
   {
    "duration": 1707,
    "start_time": "2021-06-26T03:04:25.973Z"
   },
   {
    "duration": 9,
    "start_time": "2021-06-26T03:04:33.261Z"
   },
   {
    "duration": 1115,
    "start_time": "2021-06-26T03:04:36.668Z"
   },
   {
    "duration": 10,
    "start_time": "2021-06-26T03:05:31.229Z"
   },
   {
    "duration": 1165,
    "start_time": "2021-06-26T03:05:33.828Z"
   },
   {
    "duration": 9,
    "start_time": "2021-06-26T03:05:47.493Z"
   },
   {
    "duration": 897,
    "start_time": "2021-06-26T03:05:49.732Z"
   },
   {
    "duration": 10,
    "start_time": "2021-06-26T03:06:02.252Z"
   },
   {
    "duration": 605,
    "start_time": "2021-06-26T03:06:05.148Z"
   },
   {
    "duration": 9,
    "start_time": "2021-06-26T03:09:14.151Z"
   },
   {
    "duration": 636,
    "start_time": "2021-06-26T03:09:16.374Z"
   },
   {
    "duration": 603,
    "start_time": "2021-06-26T03:11:49.114Z"
   },
   {
    "duration": 139,
    "start_time": "2021-06-26T03:12:38.621Z"
   },
   {
    "duration": 698,
    "start_time": "2021-06-26T03:12:51.156Z"
   },
   {
    "duration": 590,
    "start_time": "2021-06-26T03:13:56.388Z"
   },
   {
    "duration": 514,
    "start_time": "2021-06-26T03:22:13.818Z"
   },
   {
    "duration": 33,
    "start_time": "2021-06-26T03:22:14.335Z"
   },
   {
    "duration": 319,
    "start_time": "2021-06-26T03:22:14.371Z"
   },
   {
    "duration": 150,
    "start_time": "2021-06-26T03:22:14.693Z"
   },
   {
    "duration": 226,
    "start_time": "2021-06-26T03:22:14.846Z"
   },
   {
    "duration": 17,
    "start_time": "2021-06-26T03:22:15.075Z"
   },
   {
    "duration": 160,
    "start_time": "2021-06-26T03:22:15.094Z"
   },
   {
    "duration": 88,
    "start_time": "2021-06-26T03:22:15.261Z"
   },
   {
    "duration": 61,
    "start_time": "2021-06-26T03:22:15.353Z"
   },
   {
    "duration": 61,
    "start_time": "2021-06-26T03:22:15.417Z"
   },
   {
    "duration": 107,
    "start_time": "2021-06-26T03:22:15.481Z"
   },
   {
    "duration": 63,
    "start_time": "2021-06-26T03:22:15.591Z"
   },
   {
    "duration": 410,
    "start_time": "2021-06-26T03:22:15.657Z"
   },
   {
    "duration": 9,
    "start_time": "2021-06-26T03:22:16.069Z"
   },
   {
    "duration": 695,
    "start_time": "2021-06-26T03:22:16.080Z"
   },
   {
    "duration": 647,
    "start_time": "2021-06-26T03:22:16.777Z"
   },
   {
    "duration": 583,
    "start_time": "2021-06-26T03:22:17.426Z"
   },
   {
    "duration": 568,
    "start_time": "2021-06-26T03:22:18.011Z"
   },
   {
    "duration": 51,
    "start_time": "2021-06-26T03:22:18.581Z"
   },
   {
    "duration": 19,
    "start_time": "2021-06-26T03:22:18.634Z"
   },
   {
    "duration": 7,
    "start_time": "2021-06-26T03:22:18.655Z"
   },
   {
    "duration": 54,
    "start_time": "2021-06-26T03:22:18.665Z"
   },
   {
    "duration": 6,
    "start_time": "2021-06-26T03:22:18.723Z"
   },
   {
    "duration": 10,
    "start_time": "2021-06-26T03:31:57.747Z"
   },
   {
    "duration": 511,
    "start_time": "2021-06-26T03:31:59.914Z"
   },
   {
    "duration": 32,
    "start_time": "2021-06-26T03:32:00.427Z"
   },
   {
    "duration": 319,
    "start_time": "2021-06-26T03:32:00.462Z"
   },
   {
    "duration": 155,
    "start_time": "2021-06-26T03:32:00.784Z"
   },
   {
    "duration": 245,
    "start_time": "2021-06-26T03:32:00.942Z"
   },
   {
    "duration": 28,
    "start_time": "2021-06-26T03:32:01.189Z"
   },
   {
    "duration": 156,
    "start_time": "2021-06-26T03:32:01.220Z"
   },
   {
    "duration": 91,
    "start_time": "2021-06-26T03:32:01.379Z"
   },
   {
    "duration": 61,
    "start_time": "2021-06-26T03:32:01.473Z"
   },
   {
    "duration": 76,
    "start_time": "2021-06-26T03:32:01.537Z"
   },
   {
    "duration": 187,
    "start_time": "2021-06-26T03:32:01.616Z"
   },
   {
    "duration": 55,
    "start_time": "2021-06-26T03:32:01.808Z"
   },
   {
    "duration": 450,
    "start_time": "2021-06-26T03:32:01.866Z"
   },
   {
    "duration": 11,
    "start_time": "2021-06-26T03:32:02.320Z"
   },
   {
    "duration": 685,
    "start_time": "2021-06-26T03:32:02.334Z"
   },
   {
    "duration": 617,
    "start_time": "2021-06-26T03:32:03.021Z"
   },
   {
    "duration": 644,
    "start_time": "2021-06-26T03:32:03.641Z"
   },
   {
    "duration": 646,
    "start_time": "2021-06-26T03:32:04.288Z"
   },
   {
    "duration": 34,
    "start_time": "2021-06-26T03:32:04.937Z"
   },
   {
    "duration": 65,
    "start_time": "2021-06-26T03:32:04.973Z"
   },
   {
    "duration": 8,
    "start_time": "2021-06-26T03:32:05.041Z"
   },
   {
    "duration": 34,
    "start_time": "2021-06-26T03:32:05.051Z"
   },
   {
    "duration": 30,
    "start_time": "2021-06-26T03:32:05.091Z"
   },
   {
    "duration": 9,
    "start_time": "2021-06-26T03:32:20.820Z"
   },
   {
    "duration": 519,
    "start_time": "2021-06-26T03:32:22.855Z"
   },
   {
    "duration": 38,
    "start_time": "2021-06-26T03:32:23.377Z"
   },
   {
    "duration": 333,
    "start_time": "2021-06-26T03:32:23.417Z"
   },
   {
    "duration": 145,
    "start_time": "2021-06-26T03:32:23.753Z"
   },
   {
    "duration": 241,
    "start_time": "2021-06-26T03:32:23.900Z"
   },
   {
    "duration": 17,
    "start_time": "2021-06-26T03:32:24.143Z"
   },
   {
    "duration": 167,
    "start_time": "2021-06-26T03:32:24.163Z"
   },
   {
    "duration": 86,
    "start_time": "2021-06-26T03:32:24.334Z"
   },
   {
    "duration": 48,
    "start_time": "2021-06-26T03:32:24.423Z"
   },
   {
    "duration": 79,
    "start_time": "2021-06-26T03:32:24.473Z"
   },
   {
    "duration": 181,
    "start_time": "2021-06-26T03:32:24.554Z"
   },
   {
    "duration": 56,
    "start_time": "2021-06-26T03:32:24.737Z"
   },
   {
    "duration": 414,
    "start_time": "2021-06-26T03:32:24.796Z"
   },
   {
    "duration": 8,
    "start_time": "2021-06-26T03:32:25.213Z"
   },
   {
    "duration": 668,
    "start_time": "2021-06-26T03:32:25.224Z"
   },
   {
    "duration": 633,
    "start_time": "2021-06-26T03:32:25.894Z"
   },
   {
    "duration": 631,
    "start_time": "2021-06-26T03:32:26.530Z"
   },
   {
    "duration": 658,
    "start_time": "2021-06-26T03:32:27.163Z"
   },
   {
    "duration": 35,
    "start_time": "2021-06-26T03:32:27.823Z"
   },
   {
    "duration": 54,
    "start_time": "2021-06-26T03:32:27.860Z"
   },
   {
    "duration": 7,
    "start_time": "2021-06-26T03:32:27.917Z"
   },
   {
    "duration": 32,
    "start_time": "2021-06-26T03:32:27.927Z"
   },
   {
    "duration": 5,
    "start_time": "2021-06-26T03:32:27.964Z"
   },
   {
    "duration": 132,
    "start_time": "2021-06-26T03:32:50.691Z"
   },
   {
    "duration": 553,
    "start_time": "2021-06-26T03:32:52.855Z"
   },
   {
    "duration": 32,
    "start_time": "2021-06-26T03:32:53.411Z"
   },
   {
    "duration": 338,
    "start_time": "2021-06-26T03:32:53.446Z"
   },
   {
    "duration": 142,
    "start_time": "2021-06-26T03:32:53.786Z"
   },
   {
    "duration": 240,
    "start_time": "2021-06-26T03:32:53.930Z"
   },
   {
    "duration": 108,
    "start_time": "2021-06-26T03:32:54.173Z"
   },
   {
    "duration": 154,
    "start_time": "2021-06-26T03:32:54.283Z"
   },
   {
    "duration": 91,
    "start_time": "2021-06-26T03:32:54.441Z"
   },
   {
    "duration": 101,
    "start_time": "2021-06-26T03:32:54.535Z"
   },
   {
    "duration": 110,
    "start_time": "2021-06-26T03:32:54.638Z"
   },
   {
    "duration": 90,
    "start_time": "2021-06-26T03:32:54.751Z"
   },
   {
    "duration": 107,
    "start_time": "2021-06-26T03:32:54.843Z"
   },
   {
    "duration": 480,
    "start_time": "2021-06-26T03:32:54.952Z"
   },
   {
    "duration": 105,
    "start_time": "2021-06-26T03:32:55.434Z"
   },
   {
    "duration": -76,
    "start_time": "2021-06-26T03:32:55.617Z"
   },
   {
    "duration": -79,
    "start_time": "2021-06-26T03:32:55.622Z"
   },
   {
    "duration": -82,
    "start_time": "2021-06-26T03:32:55.626Z"
   },
   {
    "duration": -85,
    "start_time": "2021-06-26T03:32:55.630Z"
   },
   {
    "duration": -88,
    "start_time": "2021-06-26T03:32:55.634Z"
   },
   {
    "duration": -89,
    "start_time": "2021-06-26T03:32:55.637Z"
   },
   {
    "duration": -102,
    "start_time": "2021-06-26T03:32:55.651Z"
   },
   {
    "duration": -106,
    "start_time": "2021-06-26T03:32:55.656Z"
   },
   {
    "duration": -107,
    "start_time": "2021-06-26T03:32:55.658Z"
   },
   {
    "duration": 520,
    "start_time": "2021-06-26T03:33:11.232Z"
   },
   {
    "duration": 31,
    "start_time": "2021-06-26T03:33:11.755Z"
   },
   {
    "duration": 328,
    "start_time": "2021-06-26T03:33:11.788Z"
   },
   {
    "duration": 167,
    "start_time": "2021-06-26T03:33:12.119Z"
   },
   {
    "duration": 268,
    "start_time": "2021-06-26T03:33:12.289Z"
   },
   {
    "duration": 19,
    "start_time": "2021-06-26T03:33:12.560Z"
   },
   {
    "duration": 177,
    "start_time": "2021-06-26T03:33:12.582Z"
   },
   {
    "duration": 90,
    "start_time": "2021-06-26T03:33:12.765Z"
   },
   {
    "duration": 61,
    "start_time": "2021-06-26T03:33:12.859Z"
   },
   {
    "duration": 58,
    "start_time": "2021-06-26T03:33:12.923Z"
   },
   {
    "duration": 104,
    "start_time": "2021-06-26T03:33:12.984Z"
   },
   {
    "duration": 75,
    "start_time": "2021-06-26T03:33:13.091Z"
   },
   {
    "duration": 427,
    "start_time": "2021-06-26T03:33:13.169Z"
   },
   {
    "duration": 106,
    "start_time": "2021-06-26T03:33:13.608Z"
   },
   {
    "duration": -96,
    "start_time": "2021-06-26T03:33:13.812Z"
   },
   {
    "duration": -99,
    "start_time": "2021-06-26T03:33:13.817Z"
   },
   {
    "duration": -100,
    "start_time": "2021-06-26T03:33:13.819Z"
   },
   {
    "duration": -100,
    "start_time": "2021-06-26T03:33:13.821Z"
   },
   {
    "duration": -103,
    "start_time": "2021-06-26T03:33:13.825Z"
   },
   {
    "duration": -103,
    "start_time": "2021-06-26T03:33:13.827Z"
   },
   {
    "duration": -104,
    "start_time": "2021-06-26T03:33:13.829Z"
   },
   {
    "duration": -105,
    "start_time": "2021-06-26T03:33:13.831Z"
   },
   {
    "duration": -106,
    "start_time": "2021-06-26T03:33:13.833Z"
   },
   {
    "duration": 1940,
    "start_time": "2021-06-26T03:33:20.669Z"
   },
   {
    "duration": 37,
    "start_time": "2021-06-26T03:33:22.612Z"
   },
   {
    "duration": 336,
    "start_time": "2021-06-26T03:33:22.652Z"
   },
   {
    "duration": 154,
    "start_time": "2021-06-26T03:33:22.990Z"
   },
   {
    "duration": 239,
    "start_time": "2021-06-26T03:33:23.146Z"
   },
   {
    "duration": 22,
    "start_time": "2021-06-26T03:33:23.388Z"
   },
   {
    "duration": 164,
    "start_time": "2021-06-26T03:33:23.413Z"
   },
   {
    "duration": 79,
    "start_time": "2021-06-26T03:33:23.580Z"
   },
   {
    "duration": 59,
    "start_time": "2021-06-26T03:33:23.662Z"
   },
   {
    "duration": 63,
    "start_time": "2021-06-26T03:33:23.724Z"
   },
   {
    "duration": 90,
    "start_time": "2021-06-26T03:33:23.790Z"
   },
   {
    "duration": 75,
    "start_time": "2021-06-26T03:33:23.882Z"
   },
   {
    "duration": 395,
    "start_time": "2021-06-26T03:33:23.959Z"
   },
   {
    "duration": 104,
    "start_time": "2021-06-26T03:33:24.356Z"
   },
   {
    "duration": -98,
    "start_time": "2021-06-26T03:33:24.560Z"
   },
   {
    "duration": -100,
    "start_time": "2021-06-26T03:33:24.564Z"
   },
   {
    "duration": -103,
    "start_time": "2021-06-26T03:33:24.568Z"
   },
   {
    "duration": -103,
    "start_time": "2021-06-26T03:33:24.570Z"
   },
   {
    "duration": -105,
    "start_time": "2021-06-26T03:33:24.574Z"
   },
   {
    "duration": -107,
    "start_time": "2021-06-26T03:33:24.577Z"
   },
   {
    "duration": -108,
    "start_time": "2021-06-26T03:33:24.579Z"
   },
   {
    "duration": -110,
    "start_time": "2021-06-26T03:33:24.583Z"
   },
   {
    "duration": -111,
    "start_time": "2021-06-26T03:33:24.585Z"
   },
   {
    "duration": 585,
    "start_time": "2021-06-26T03:33:41.938Z"
   },
   {
    "duration": 32,
    "start_time": "2021-06-26T03:33:42.526Z"
   },
   {
    "duration": 307,
    "start_time": "2021-06-26T03:33:42.561Z"
   },
   {
    "duration": 155,
    "start_time": "2021-06-26T03:33:42.871Z"
   },
   {
    "duration": 231,
    "start_time": "2021-06-26T03:33:43.029Z"
   },
   {
    "duration": 17,
    "start_time": "2021-06-26T03:33:43.262Z"
   },
   {
    "duration": 165,
    "start_time": "2021-06-26T03:33:43.281Z"
   },
   {
    "duration": 81,
    "start_time": "2021-06-26T03:33:43.449Z"
   },
   {
    "duration": 49,
    "start_time": "2021-06-26T03:33:43.533Z"
   },
   {
    "duration": 77,
    "start_time": "2021-06-26T03:33:43.584Z"
   },
   {
    "duration": 149,
    "start_time": "2021-06-26T03:33:43.663Z"
   },
   {
    "duration": 56,
    "start_time": "2021-06-26T03:33:43.814Z"
   },
   {
    "duration": 421,
    "start_time": "2021-06-26T03:33:43.873Z"
   },
   {
    "duration": 17,
    "start_time": "2021-06-26T03:33:44.296Z"
   },
   {
    "duration": 700,
    "start_time": "2021-06-26T03:33:44.315Z"
   },
   {
    "duration": 634,
    "start_time": "2021-06-26T03:33:45.018Z"
   },
   {
    "duration": 664,
    "start_time": "2021-06-26T03:33:45.655Z"
   },
   {
    "duration": 689,
    "start_time": "2021-06-26T03:33:46.322Z"
   },
   {
    "duration": 33,
    "start_time": "2021-06-26T03:33:47.013Z"
   },
   {
    "duration": 17,
    "start_time": "2021-06-26T03:33:47.049Z"
   },
   {
    "duration": 42,
    "start_time": "2021-06-26T03:33:47.069Z"
   },
   {
    "duration": 111,
    "start_time": "2021-06-26T03:33:47.113Z"
   },
   {
    "duration": 6,
    "start_time": "2021-06-26T03:33:47.229Z"
   },
   {
    "duration": 523,
    "start_time": "2021-06-26T03:34:21.929Z"
   },
   {
    "duration": 32,
    "start_time": "2021-06-26T03:34:22.454Z"
   },
   {
    "duration": 304,
    "start_time": "2021-06-26T03:34:22.489Z"
   },
   {
    "duration": 156,
    "start_time": "2021-06-26T03:34:22.796Z"
   },
   {
    "duration": 242,
    "start_time": "2021-06-26T03:34:22.954Z"
   },
   {
    "duration": 23,
    "start_time": "2021-06-26T03:34:23.198Z"
   },
   {
    "duration": 153,
    "start_time": "2021-06-26T03:34:23.223Z"
   },
   {
    "duration": 90,
    "start_time": "2021-06-26T03:34:23.382Z"
   },
   {
    "duration": 58,
    "start_time": "2021-06-26T03:34:23.475Z"
   },
   {
    "duration": 57,
    "start_time": "2021-06-26T03:34:23.536Z"
   },
   {
    "duration": 78,
    "start_time": "2021-06-26T03:34:23.608Z"
   },
   {
    "duration": 70,
    "start_time": "2021-06-26T03:34:23.689Z"
   },
   {
    "duration": 400,
    "start_time": "2021-06-26T03:34:23.761Z"
   },
   {
    "duration": 9,
    "start_time": "2021-06-26T03:34:24.164Z"
   },
   {
    "duration": 844,
    "start_time": "2021-06-26T03:34:24.176Z"
   },
   {
    "duration": 631,
    "start_time": "2021-06-26T03:34:25.022Z"
   },
   {
    "duration": 857,
    "start_time": "2021-06-26T03:34:25.655Z"
   },
   {
    "duration": 812,
    "start_time": "2021-06-26T03:34:26.514Z"
   },
   {
    "duration": 41,
    "start_time": "2021-06-26T03:34:27.329Z"
   },
   {
    "duration": 54,
    "start_time": "2021-06-26T03:34:27.372Z"
   },
   {
    "duration": 8,
    "start_time": "2021-06-26T03:34:27.428Z"
   },
   {
    "duration": 25,
    "start_time": "2021-06-26T03:34:27.438Z"
   },
   {
    "duration": 6,
    "start_time": "2021-06-26T03:34:27.467Z"
   },
   {
    "duration": 524,
    "start_time": "2021-06-26T03:35:05.328Z"
   },
   {
    "duration": 33,
    "start_time": "2021-06-26T03:35:05.854Z"
   },
   {
    "duration": 319,
    "start_time": "2021-06-26T03:35:05.890Z"
   },
   {
    "duration": 155,
    "start_time": "2021-06-26T03:35:06.212Z"
   },
   {
    "duration": 244,
    "start_time": "2021-06-26T03:35:06.369Z"
   },
   {
    "duration": 16,
    "start_time": "2021-06-26T03:35:06.616Z"
   },
   {
    "duration": 169,
    "start_time": "2021-06-26T03:35:06.636Z"
   },
   {
    "duration": 71,
    "start_time": "2021-06-26T03:35:06.813Z"
   },
   {
    "duration": 68,
    "start_time": "2021-06-26T03:35:06.889Z"
   },
   {
    "duration": 82,
    "start_time": "2021-06-26T03:35:06.960Z"
   },
   {
    "duration": 101,
    "start_time": "2021-06-26T03:35:07.045Z"
   },
   {
    "duration": 72,
    "start_time": "2021-06-26T03:35:07.149Z"
   },
   {
    "duration": 417,
    "start_time": "2021-06-26T03:35:07.224Z"
   },
   {
    "duration": 12,
    "start_time": "2021-06-26T03:35:07.644Z"
   },
   {
    "duration": 686,
    "start_time": "2021-06-26T03:35:07.659Z"
   },
   {
    "duration": 641,
    "start_time": "2021-06-26T03:35:08.348Z"
   },
   {
    "duration": 751,
    "start_time": "2021-06-26T03:35:08.991Z"
   },
   {
    "duration": 664,
    "start_time": "2021-06-26T03:35:09.744Z"
   },
   {
    "duration": 35,
    "start_time": "2021-06-26T03:35:10.411Z"
   },
   {
    "duration": 19,
    "start_time": "2021-06-26T03:35:10.448Z"
   },
   {
    "duration": 45,
    "start_time": "2021-06-26T03:35:10.470Z"
   },
   {
    "duration": 21,
    "start_time": "2021-06-26T03:35:10.519Z"
   },
   {
    "duration": 7,
    "start_time": "2021-06-26T03:35:10.544Z"
   },
   {
    "duration": 2002,
    "start_time": "2021-06-26T19:40:05.673Z"
   },
   {
    "duration": 42,
    "start_time": "2021-06-26T19:40:07.678Z"
   },
   {
    "duration": 328,
    "start_time": "2021-06-26T19:40:07.723Z"
   },
   {
    "duration": 149,
    "start_time": "2021-06-26T19:40:08.054Z"
   },
   {
    "duration": 257,
    "start_time": "2021-06-26T19:40:08.207Z"
   },
   {
    "duration": 33,
    "start_time": "2021-06-26T19:40:08.467Z"
   },
   {
    "duration": 154,
    "start_time": "2021-06-26T19:40:08.503Z"
   },
   {
    "duration": 88,
    "start_time": "2021-06-26T19:40:08.660Z"
   },
   {
    "duration": 66,
    "start_time": "2021-06-26T19:40:08.750Z"
   },
   {
    "duration": 112,
    "start_time": "2021-06-26T19:40:15.094Z"
   },
   {
    "duration": 441,
    "start_time": "2021-06-26T19:40:19.069Z"
   },
   {
    "duration": 414,
    "start_time": "2021-06-26T19:40:22.471Z"
   },
   {
    "duration": 54,
    "start_time": "2021-06-26T19:40:37.326Z"
   },
   {
    "duration": 1889,
    "start_time": "2021-06-27T07:09:54.525Z"
   },
   {
    "duration": 36,
    "start_time": "2021-06-27T07:09:56.417Z"
   },
   {
    "duration": 320,
    "start_time": "2021-06-27T07:09:56.456Z"
   },
   {
    "duration": 144,
    "start_time": "2021-06-27T07:09:56.778Z"
   },
   {
    "duration": 239,
    "start_time": "2021-06-27T07:09:56.925Z"
   },
   {
    "duration": 16,
    "start_time": "2021-06-27T07:09:57.166Z"
   },
   {
    "duration": 153,
    "start_time": "2021-06-27T07:09:57.184Z"
   },
   {
    "duration": 70,
    "start_time": "2021-06-27T07:09:57.340Z"
   },
   {
    "duration": 46,
    "start_time": "2021-06-27T07:09:57.425Z"
   },
   {
    "duration": 82,
    "start_time": "2021-06-27T07:09:57.473Z"
   },
   {
    "duration": 76,
    "start_time": "2021-06-27T07:09:57.557Z"
   },
   {
    "duration": 54,
    "start_time": "2021-06-27T07:09:57.635Z"
   },
   {
    "duration": 404,
    "start_time": "2021-06-27T07:09:57.691Z"
   },
   {
    "duration": 9,
    "start_time": "2021-06-27T07:09:58.098Z"
   },
   {
    "duration": 662,
    "start_time": "2021-06-27T07:09:58.124Z"
   },
   {
    "duration": 623,
    "start_time": "2021-06-27T07:09:58.788Z"
   },
   {
    "duration": 693,
    "start_time": "2021-06-27T07:09:59.413Z"
   },
   {
    "duration": 645,
    "start_time": "2021-06-27T07:10:00.125Z"
   },
   {
    "duration": 63,
    "start_time": "2021-06-27T07:10:00.773Z"
   },
   {
    "duration": 20,
    "start_time": "2021-06-27T07:10:00.838Z"
   },
   {
    "duration": 7,
    "start_time": "2021-06-27T07:10:00.861Z"
   },
   {
    "duration": 53,
    "start_time": "2021-06-27T07:10:00.871Z"
   },
   {
    "duration": 6,
    "start_time": "2021-06-27T07:10:00.928Z"
   },
   {
    "duration": 522,
    "start_time": "2021-06-27T07:10:54.750Z"
   },
   {
    "duration": 32,
    "start_time": "2021-06-27T07:10:55.274Z"
   },
   {
    "duration": 270,
    "start_time": "2021-06-27T07:10:55.309Z"
   },
   {
    "duration": 145,
    "start_time": "2021-06-27T07:10:55.582Z"
   },
   {
    "duration": 218,
    "start_time": "2021-06-27T07:10:55.729Z"
   },
   {
    "duration": 16,
    "start_time": "2021-06-27T07:10:55.949Z"
   },
   {
    "duration": 150,
    "start_time": "2021-06-27T07:10:55.968Z"
   },
   {
    "duration": 65,
    "start_time": "2021-06-27T07:10:56.126Z"
   },
   {
    "duration": 70,
    "start_time": "2021-06-27T07:10:56.194Z"
   },
   {
    "duration": 66,
    "start_time": "2021-06-27T07:10:56.266Z"
   },
   {
    "duration": 75,
    "start_time": "2021-06-27T07:10:56.335Z"
   },
   {
    "duration": 53,
    "start_time": "2021-06-27T07:10:56.424Z"
   },
   {
    "duration": 393,
    "start_time": "2021-06-27T07:10:56.480Z"
   },
   {
    "duration": 8,
    "start_time": "2021-06-27T07:10:56.876Z"
   },
   {
    "duration": 641,
    "start_time": "2021-06-27T07:10:56.886Z"
   },
   {
    "duration": 602,
    "start_time": "2021-06-27T07:10:57.529Z"
   },
   {
    "duration": 703,
    "start_time": "2021-06-27T07:10:58.134Z"
   },
   {
    "duration": 664,
    "start_time": "2021-06-27T07:10:58.840Z"
   },
   {
    "duration": 49,
    "start_time": "2021-06-27T07:10:59.506Z"
   },
   {
    "duration": 23,
    "start_time": "2021-06-27T07:10:59.557Z"
   },
   {
    "duration": 8,
    "start_time": "2021-06-27T07:10:59.582Z"
   },
   {
    "duration": 20,
    "start_time": "2021-06-27T07:10:59.624Z"
   },
   {
    "duration": 6,
    "start_time": "2021-06-27T07:10:59.648Z"
   },
   {
    "duration": 54,
    "start_time": "2021-06-27T07:11:34.828Z"
   },
   {
    "duration": 505,
    "start_time": "2021-06-27T07:11:37.205Z"
   },
   {
    "duration": 32,
    "start_time": "2021-06-27T07:11:37.713Z"
   },
   {
    "duration": 288,
    "start_time": "2021-06-27T07:11:37.748Z"
   },
   {
    "duration": 140,
    "start_time": "2021-06-27T07:11:38.039Z"
   },
   {
    "duration": 229,
    "start_time": "2021-06-27T07:11:38.181Z"
   },
   {
    "duration": 25,
    "start_time": "2021-06-27T07:11:38.412Z"
   },
   {
    "duration": 154,
    "start_time": "2021-06-27T07:11:38.441Z"
   },
   {
    "duration": 80,
    "start_time": "2021-06-27T07:11:38.599Z"
   },
   {
    "duration": 59,
    "start_time": "2021-06-27T07:11:38.683Z"
   },
   {
    "duration": 57,
    "start_time": "2021-06-27T07:11:38.745Z"
   },
   {
    "duration": 79,
    "start_time": "2021-06-27T07:11:38.824Z"
   },
   {
    "duration": 63,
    "start_time": "2021-06-27T07:11:38.906Z"
   },
   {
    "duration": 411,
    "start_time": "2021-06-27T07:11:38.971Z"
   },
   {
    "duration": 9,
    "start_time": "2021-06-27T07:11:39.385Z"
   },
   {
    "duration": 640,
    "start_time": "2021-06-27T07:11:39.397Z"
   },
   {
    "duration": 714,
    "start_time": "2021-06-27T07:11:40.040Z"
   },
   {
    "duration": 676,
    "start_time": "2021-06-27T07:11:40.756Z"
   },
   {
    "duration": 652,
    "start_time": "2021-06-27T07:11:41.434Z"
   },
   {
    "duration": 59,
    "start_time": "2021-06-27T07:11:42.089Z"
   },
   {
    "duration": 19,
    "start_time": "2021-06-27T07:11:42.151Z"
   },
   {
    "duration": 7,
    "start_time": "2021-06-27T07:11:42.172Z"
   },
   {
    "duration": 63,
    "start_time": "2021-06-27T07:11:42.182Z"
   },
   {
    "duration": 5,
    "start_time": "2021-06-27T07:11:42.249Z"
   },
   {
    "duration": 54,
    "start_time": "2021-06-27T07:12:34.924Z"
   },
   {
    "duration": 55,
    "start_time": "2021-06-27T07:12:48.666Z"
   },
   {
    "duration": 531,
    "start_time": "2021-06-27T07:27:49.243Z"
   },
   {
    "duration": 32,
    "start_time": "2021-06-27T07:27:49.776Z"
   },
   {
    "duration": 292,
    "start_time": "2021-06-27T07:27:49.810Z"
   },
   {
    "duration": 142,
    "start_time": "2021-06-27T07:27:50.104Z"
   },
   {
    "duration": 215,
    "start_time": "2021-06-27T07:27:50.248Z"
   },
   {
    "duration": 16,
    "start_time": "2021-06-27T07:27:50.465Z"
   },
   {
    "duration": 155,
    "start_time": "2021-06-27T07:27:50.484Z"
   },
   {
    "duration": 83,
    "start_time": "2021-06-27T07:27:50.643Z"
   },
   {
    "duration": 46,
    "start_time": "2021-06-27T07:27:50.729Z"
   },
   {
    "duration": 76,
    "start_time": "2021-06-27T07:27:50.778Z"
   },
   {
    "duration": 167,
    "start_time": "2021-06-27T07:27:50.857Z"
   },
   {
    "duration": 55,
    "start_time": "2021-06-27T07:27:51.026Z"
   },
   {
    "duration": 404,
    "start_time": "2021-06-27T07:27:51.083Z"
   },
   {
    "duration": 9,
    "start_time": "2021-06-27T07:27:51.490Z"
   },
   {
    "duration": 636,
    "start_time": "2021-06-27T07:27:51.501Z"
   },
   {
    "duration": 611,
    "start_time": "2021-06-27T07:27:52.140Z"
   },
   {
    "duration": 636,
    "start_time": "2021-06-27T07:27:52.754Z"
   },
   {
    "duration": 640,
    "start_time": "2021-06-27T07:27:53.393Z"
   },
   {
    "duration": 33,
    "start_time": "2021-06-27T07:27:54.036Z"
   },
   {
    "duration": 56,
    "start_time": "2021-06-27T07:27:54.072Z"
   },
   {
    "duration": 8,
    "start_time": "2021-06-27T07:27:54.131Z"
   },
   {
    "duration": 31,
    "start_time": "2021-06-27T07:27:54.141Z"
   },
   {
    "duration": 5,
    "start_time": "2021-06-27T07:27:54.176Z"
   }
  ],
  "kernelspec": {
   "display_name": "Python 3 (ipykernel)",
   "language": "python",
   "name": "python3"
  },
  "language_info": {
   "codemirror_mode": {
    "name": "ipython",
    "version": 3
   },
   "file_extension": ".py",
   "mimetype": "text/x-python",
   "name": "python",
   "nbconvert_exporter": "python",
   "pygments_lexer": "ipython3",
   "version": "3.9.6"
  },
  "toc": {
   "base_numbering": 1,
   "nav_menu": {},
   "number_sections": true,
   "sideBar": true,
   "skip_h1_title": true,
   "title_cell": "Содержание",
   "title_sidebar": "Contents",
   "toc_cell": true,
   "toc_position": {},
   "toc_section_display": true,
   "toc_window_display": true
  }
 },
 "nbformat": 4,
 "nbformat_minor": 2
}
