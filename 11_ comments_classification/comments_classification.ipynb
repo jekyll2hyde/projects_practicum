{
 "cells": [
  {
   "cell_type": "markdown",
   "metadata": {},
   "source": [
    "# Классификация комментариев для интернет-магазина"
   ]
  },
  {
   "cell_type": "markdown",
   "metadata": {},
   "source": [
    "Интернет-магазин запускает новый сервис. Теперь пользователи могут редактировать и дополнять описания товаров, как в вики-сообществах. То есть клиенты предлагают свои правки и комментируют изменения других. Магазину нужен инструмент, который будет искать токсичные комментарии и отправлять их на модерацию. \n",
    "\n",
    "Необходимо обучить модель классифицировать комментарии на позитивные и негативные. \n",
    "\n",
    "Для обучения имеется набор данных с разметкой о токсичности правок.\n",
    "\n",
    "Целевая метрика качетсва модели - *F1*, со значением не меньше 0.75. \n",
    "\n",
    "**План выполнения проекта**\n",
    "\n",
    "1. Изучение данных;\n",
    "2. Предобраотка данных;\n",
    "3. Подбор моделей;\n",
    "4. Анализ времени работы и эффективности отобранных моделей;\n",
    "5. Формирование итогового вывода."
   ]
  },
  {
   "cell_type": "markdown",
   "metadata": {
    "toc": true
   },
   "source": [
    "<h1>Содержание<span class=\"tocSkip\"></span></h1>\n",
    "<div class=\"toc\"><ul class=\"toc-item\"><li><span><a href=\"#Подготовка\" data-toc-modified-id=\"Подготовка-1\"><span class=\"toc-item-num\">1&nbsp;&nbsp;</span>Подготовка</a></span><ul class=\"toc-item\"><li><span><a href=\"#Изучение-данных\" data-toc-modified-id=\"Изучение-данных-1.1\"><span class=\"toc-item-num\">1.1&nbsp;&nbsp;</span>Изучение данных</a></span></li><li><span><a href=\"#Предобработка-данных\" data-toc-modified-id=\"Предобработка-данных-1.2\"><span class=\"toc-item-num\">1.2&nbsp;&nbsp;</span>Предобработка данных</a></span></li></ul></li><li><span><a href=\"#Подбор-модели\" data-toc-modified-id=\"Подбор-модели-2\"><span class=\"toc-item-num\">2&nbsp;&nbsp;</span>Подбор модели</a></span></li><li><span><a href=\"#Анализ-моделей\" data-toc-modified-id=\"Анализ-моделей-3\"><span class=\"toc-item-num\">3&nbsp;&nbsp;</span>Анализ моделей</a></span><ul class=\"toc-item\"><li><span><a href=\"#Логистическая-регрессия\" data-toc-modified-id=\"Логистическая-регрессия-3.1\"><span class=\"toc-item-num\">3.1&nbsp;&nbsp;</span>Логистическая регрессия</a></span></li><li><span><a href=\"#CatBoost-Classifier\" data-toc-modified-id=\"CatBoost-Classifier-3.2\"><span class=\"toc-item-num\">3.2&nbsp;&nbsp;</span>CatBoost Classifier</a></span></li><li><span><a href=\"#LGBM-Classifier\" data-toc-modified-id=\"LGBM-Classifier-3.3\"><span class=\"toc-item-num\">3.3&nbsp;&nbsp;</span>LGBM Classifier</a></span></li></ul></li><li><span><a href=\"#Общий-вывод\" data-toc-modified-id=\"Общий-вывод-4\"><span class=\"toc-item-num\">4&nbsp;&nbsp;</span>Общий вывод</a></span></li></ul></div>"
   ]
  },
  {
   "cell_type": "markdown",
   "metadata": {},
   "source": [
    "## Подготовка"
   ]
  },
  {
   "cell_type": "markdown",
   "metadata": {},
   "source": [
    "Обновим необходимые для работы библиотеки:"
   ]
  },
  {
   "cell_type": "code",
   "execution_count": 1,
   "metadata": {},
   "outputs": [
    {
     "name": "stdout",
     "output_type": "stream",
     "text": [
      "Defaulting to user installation because normal site-packages is not writeable\n",
      "Requirement already up-to-date: scikit-learn in /home/jovyan/.local/lib/python3.7/site-packages (1.0)\n",
      "Requirement already satisfied, skipping upgrade: numpy>=1.14.6 in /opt/conda/lib/python3.7/site-packages (from scikit-learn) (1.19.5)\n",
      "Requirement already satisfied, skipping upgrade: scipy>=1.1.0 in /opt/conda/lib/python3.7/site-packages (from scikit-learn) (1.4.1)\n",
      "Requirement already satisfied, skipping upgrade: threadpoolctl>=2.0.0 in /home/jovyan/.local/lib/python3.7/site-packages (from scikit-learn) (3.0.0)\n",
      "Requirement already satisfied, skipping upgrade: joblib>=0.11 in /opt/conda/lib/python3.7/site-packages (from scikit-learn) (1.0.1)\n"
     ]
    }
   ],
   "source": [
    "! pip install scikit-learn --upgrade"
   ]
  },
  {
   "cell_type": "markdown",
   "metadata": {},
   "source": [
    "Импортируем необходимые для работы над проектом библиотеки:"
   ]
  },
  {
   "cell_type": "code",
   "execution_count": 2,
   "metadata": {},
   "outputs": [],
   "source": [
    "import numpy as np\n",
    "import pandas as pd\n",
    "import re\n",
    "import string\n",
    "import nltk\n",
    "from tqdm.notebook import tqdm\n",
    "from nltk.stem import WordNetLemmatizer\n",
    "from nltk.corpus import wordnet\n",
    "from sklearn.model_selection import train_test_split, GridSearchCV\n",
    "from sklearn.feature_extraction.text import TfidfVectorizer\n",
    "from sklearn.tree import DecisionTreeClassifier\n",
    "from sklearn.ensemble import RandomForestClassifier\n",
    "from sklearn.linear_model import LogisticRegression\n",
    "import lightgbm as lgb\n",
    "import catboost as cb\n",
    "from sklearn.metrics import f1_score"
   ]
  },
  {
   "cell_type": "markdown",
   "metadata": {},
   "source": [
    "Загрузим данные:"
   ]
  },
  {
   "cell_type": "code",
   "execution_count": 3,
   "metadata": {},
   "outputs": [],
   "source": [
    "data = pd.read_csv('https://code.s3.yandex.net/datasets/toxic_comments.csv')"
   ]
  },
  {
   "cell_type": "markdown",
   "metadata": {},
   "source": [
    "### Изучение данных"
   ]
  },
  {
   "cell_type": "markdown",
   "metadata": {},
   "source": [
    "Выведем на экран первые 5 строчек загруженного датасета и общую информацию о данных:"
   ]
  },
  {
   "cell_type": "code",
   "execution_count": 4,
   "metadata": {
    "scrolled": false
   },
   "outputs": [
    {
     "data": {
      "text/html": [
       "<div>\n",
       "<style scoped>\n",
       "    .dataframe tbody tr th:only-of-type {\n",
       "        vertical-align: middle;\n",
       "    }\n",
       "\n",
       "    .dataframe tbody tr th {\n",
       "        vertical-align: top;\n",
       "    }\n",
       "\n",
       "    .dataframe thead th {\n",
       "        text-align: right;\n",
       "    }\n",
       "</style>\n",
       "<table border=\"1\" class=\"dataframe\">\n",
       "  <thead>\n",
       "    <tr style=\"text-align: right;\">\n",
       "      <th></th>\n",
       "      <th>text</th>\n",
       "      <th>toxic</th>\n",
       "    </tr>\n",
       "  </thead>\n",
       "  <tbody>\n",
       "    <tr>\n",
       "      <td>0</td>\n",
       "      <td>Explanation\\nWhy the edits made under my usern...</td>\n",
       "      <td>0</td>\n",
       "    </tr>\n",
       "    <tr>\n",
       "      <td>1</td>\n",
       "      <td>D'aww! He matches this background colour I'm s...</td>\n",
       "      <td>0</td>\n",
       "    </tr>\n",
       "    <tr>\n",
       "      <td>2</td>\n",
       "      <td>Hey man, I'm really not trying to edit war. It...</td>\n",
       "      <td>0</td>\n",
       "    </tr>\n",
       "    <tr>\n",
       "      <td>3</td>\n",
       "      <td>\"\\nMore\\nI can't make any real suggestions on ...</td>\n",
       "      <td>0</td>\n",
       "    </tr>\n",
       "    <tr>\n",
       "      <td>4</td>\n",
       "      <td>You, sir, are my hero. Any chance you remember...</td>\n",
       "      <td>0</td>\n",
       "    </tr>\n",
       "  </tbody>\n",
       "</table>\n",
       "</div>"
      ],
      "text/plain": [
       "                                                text  toxic\n",
       "0  Explanation\\nWhy the edits made under my usern...      0\n",
       "1  D'aww! He matches this background colour I'm s...      0\n",
       "2  Hey man, I'm really not trying to edit war. It...      0\n",
       "3  \"\\nMore\\nI can't make any real suggestions on ...      0\n",
       "4  You, sir, are my hero. Any chance you remember...      0"
      ]
     },
     "execution_count": 4,
     "metadata": {},
     "output_type": "execute_result"
    }
   ],
   "source": [
    "data.head()"
   ]
  },
  {
   "cell_type": "code",
   "execution_count": 5,
   "metadata": {
    "scrolled": true
   },
   "outputs": [
    {
     "name": "stdout",
     "output_type": "stream",
     "text": [
      "<class 'pandas.core.frame.DataFrame'>\n",
      "RangeIndex: 159571 entries, 0 to 159570\n",
      "Data columns (total 2 columns):\n",
      "text     159571 non-null object\n",
      "toxic    159571 non-null int64\n",
      "dtypes: int64(1), object(1)\n",
      "memory usage: 2.4+ MB\n"
     ]
    }
   ],
   "source": [
    "data.info()"
   ]
  },
  {
   "cell_type": "markdown",
   "metadata": {},
   "source": [
    "Проверим датасет на наличие грубых дубликатов:"
   ]
  },
  {
   "cell_type": "code",
   "execution_count": 6,
   "metadata": {},
   "outputs": [
    {
     "data": {
      "text/plain": [
       "0"
      ]
     },
     "execution_count": 6,
     "metadata": {},
     "output_type": "execute_result"
    }
   ],
   "source": [
    "data.duplicated().sum()"
   ]
  },
  {
   "cell_type": "markdown",
   "metadata": {},
   "source": [
    "Дубликаты не обнаружены."
   ]
  },
  {
   "cell_type": "markdown",
   "metadata": {},
   "source": [
    "###### Вывод\n",
    "\n",
    "Всего в таблице 2 столбца со следующими типами данных: int64, object.\n",
    "\n",
    "Каждый объект в наборе данных — это информация о одном комментарии. Известно:\n",
    "\n",
    " - ***text*** — текс комментария\n",
    " - ***toxic*** — разметка о токсичности комментария\n",
    "\n",
    "Пропуски и дубликаты в дтасете не обнаружены."
   ]
  },
  {
   "cell_type": "markdown",
   "metadata": {},
   "source": [
    "### Предобработка данных"
   ]
  },
  {
   "cell_type": "markdown",
   "metadata": {},
   "source": [
    "Разделим данные на признаки. Целевым признаком обозначим разметку о токсичности комментария:"
   ]
  },
  {
   "cell_type": "code",
   "execution_count": 7,
   "metadata": {},
   "outputs": [],
   "source": [
    "features = data.drop('toxic', axis = 1)\n",
    "target = data['toxic']"
   ]
  },
  {
   "cell_type": "markdown",
   "metadata": {},
   "source": [
    "Проверим разделение признаков:"
   ]
  },
  {
   "cell_type": "code",
   "execution_count": 8,
   "metadata": {},
   "outputs": [
    {
     "data": {
      "text/html": [
       "<div>\n",
       "<style scoped>\n",
       "    .dataframe tbody tr th:only-of-type {\n",
       "        vertical-align: middle;\n",
       "    }\n",
       "\n",
       "    .dataframe tbody tr th {\n",
       "        vertical-align: top;\n",
       "    }\n",
       "\n",
       "    .dataframe thead th {\n",
       "        text-align: right;\n",
       "    }\n",
       "</style>\n",
       "<table border=\"1\" class=\"dataframe\">\n",
       "  <thead>\n",
       "    <tr style=\"text-align: right;\">\n",
       "      <th></th>\n",
       "      <th>text</th>\n",
       "    </tr>\n",
       "  </thead>\n",
       "  <tbody>\n",
       "    <tr>\n",
       "      <td>0</td>\n",
       "      <td>Explanation\\nWhy the edits made under my usern...</td>\n",
       "    </tr>\n",
       "    <tr>\n",
       "      <td>1</td>\n",
       "      <td>D'aww! He matches this background colour I'm s...</td>\n",
       "    </tr>\n",
       "    <tr>\n",
       "      <td>2</td>\n",
       "      <td>Hey man, I'm really not trying to edit war. It...</td>\n",
       "    </tr>\n",
       "    <tr>\n",
       "      <td>3</td>\n",
       "      <td>\"\\nMore\\nI can't make any real suggestions on ...</td>\n",
       "    </tr>\n",
       "    <tr>\n",
       "      <td>4</td>\n",
       "      <td>You, sir, are my hero. Any chance you remember...</td>\n",
       "    </tr>\n",
       "  </tbody>\n",
       "</table>\n",
       "</div>"
      ],
      "text/plain": [
       "                                                text\n",
       "0  Explanation\\nWhy the edits made under my usern...\n",
       "1  D'aww! He matches this background colour I'm s...\n",
       "2  Hey man, I'm really not trying to edit war. It...\n",
       "3  \"\\nMore\\nI can't make any real suggestions on ...\n",
       "4  You, sir, are my hero. Any chance you remember..."
      ]
     },
     "metadata": {},
     "output_type": "display_data"
    },
    {
     "data": {
      "text/plain": [
       "0    0\n",
       "1    0\n",
       "2    0\n",
       "3    0\n",
       "4    0\n",
       "Name: toxic, dtype: int64"
      ]
     },
     "metadata": {},
     "output_type": "display_data"
    }
   ],
   "source": [
    "display(features.head())\n",
    "display(target.head())"
   ]
  },
  {
   "cell_type": "markdown",
   "metadata": {},
   "source": [
    "Признаки разделены. \n",
    "\n",
    "В тексте комментариев наблюдаются лишние символы, мешающие его полноценной обработке. Очистим текст от лишних символов, оставив только слова состоящие из символов верхнего и/или нижнего регистров.\n",
    "\n",
    "Напишем функцию для очистки текста:"
   ]
  },
  {
   "cell_type": "code",
   "execution_count": 9,
   "metadata": {},
   "outputs": [],
   "source": [
    "def clean_text(text):\n",
    "    return \" \".join(re.sub(r'[^a-zA-Z ]', ' ', text).split())"
   ]
  },
  {
   "cell_type": "markdown",
   "metadata": {},
   "source": [
    "Применим функцию и создадим дополнительный столбец в ***features*** с очищенным текстом для сравнения с исходным:"
   ]
  },
  {
   "cell_type": "code",
   "execution_count": 10,
   "metadata": {
    "scrolled": true
   },
   "outputs": [],
   "source": [
    "features['clean_text'] = features['text'].apply(str).apply(lambda x: clean_text(x))"
   ]
  },
  {
   "cell_type": "markdown",
   "metadata": {},
   "source": [
    "Проверим очистку текста:"
   ]
  },
  {
   "cell_type": "code",
   "execution_count": 11,
   "metadata": {},
   "outputs": [
    {
     "data": {
      "text/html": [
       "<div>\n",
       "<style scoped>\n",
       "    .dataframe tbody tr th:only-of-type {\n",
       "        vertical-align: middle;\n",
       "    }\n",
       "\n",
       "    .dataframe tbody tr th {\n",
       "        vertical-align: top;\n",
       "    }\n",
       "\n",
       "    .dataframe thead th {\n",
       "        text-align: right;\n",
       "    }\n",
       "</style>\n",
       "<table border=\"1\" class=\"dataframe\">\n",
       "  <thead>\n",
       "    <tr style=\"text-align: right;\">\n",
       "      <th></th>\n",
       "      <th>text</th>\n",
       "      <th>clean_text</th>\n",
       "    </tr>\n",
       "  </thead>\n",
       "  <tbody>\n",
       "    <tr>\n",
       "      <td>0</td>\n",
       "      <td>Explanation\\nWhy the edits made under my usern...</td>\n",
       "      <td>Explanation Why the edits made under my userna...</td>\n",
       "    </tr>\n",
       "    <tr>\n",
       "      <td>1</td>\n",
       "      <td>D'aww! He matches this background colour I'm s...</td>\n",
       "      <td>D aww He matches this background colour I m se...</td>\n",
       "    </tr>\n",
       "    <tr>\n",
       "      <td>2</td>\n",
       "      <td>Hey man, I'm really not trying to edit war. It...</td>\n",
       "      <td>Hey man I m really not trying to edit war It s...</td>\n",
       "    </tr>\n",
       "    <tr>\n",
       "      <td>3</td>\n",
       "      <td>\"\\nMore\\nI can't make any real suggestions on ...</td>\n",
       "      <td>More I can t make any real suggestions on impr...</td>\n",
       "    </tr>\n",
       "    <tr>\n",
       "      <td>4</td>\n",
       "      <td>You, sir, are my hero. Any chance you remember...</td>\n",
       "      <td>You sir are my hero Any chance you remember wh...</td>\n",
       "    </tr>\n",
       "  </tbody>\n",
       "</table>\n",
       "</div>"
      ],
      "text/plain": [
       "                                                text  \\\n",
       "0  Explanation\\nWhy the edits made under my usern...   \n",
       "1  D'aww! He matches this background colour I'm s...   \n",
       "2  Hey man, I'm really not trying to edit war. It...   \n",
       "3  \"\\nMore\\nI can't make any real suggestions on ...   \n",
       "4  You, sir, are my hero. Any chance you remember...   \n",
       "\n",
       "                                          clean_text  \n",
       "0  Explanation Why the edits made under my userna...  \n",
       "1  D aww He matches this background colour I m se...  \n",
       "2  Hey man I m really not trying to edit war It s...  \n",
       "3  More I can t make any real suggestions on impr...  \n",
       "4  You sir are my hero Any chance you remember wh...  "
      ]
     },
     "execution_count": 11,
     "metadata": {},
     "output_type": "execute_result"
    }
   ],
   "source": [
    "features.head()"
   ]
  },
  {
   "cell_type": "markdown",
   "metadata": {},
   "source": [
    "Текст успешно очищен."
   ]
  },
  {
   "cell_type": "markdown",
   "metadata": {},
   "source": [
    "Прежде чем извлечь признаки из текста, необходимо упростить его: разбить на токены и лемматизировать - привести слова к начальной форме.\n",
    "Напишем функцию для демматизации текста:"
   ]
  },
  {
   "cell_type": "code",
   "execution_count": 12,
   "metadata": {},
   "outputs": [],
   "source": [
    "def get_wordnet_pos(word):\n",
    "\n",
    "    tag = nltk.pos_tag([word])[0][1][0].upper()\n",
    "    tag_dict = {\"J\": wordnet.ADJ,\n",
    "                \"N\": wordnet.NOUN,\n",
    "                \"V\": wordnet.VERB,\n",
    "                \"R\": wordnet.ADV}\n",
    "    return tag_dict.get(tag, wordnet.NOUN)\n",
    "\n",
    "lemmatizer = WordNetLemmatizer()\n",
    "\n",
    "def lemmatize_text(text):\n",
    "    return \" \".join([lemmatizer.lemmatize(w, get_wordnet_pos(w)) for w in nltk.word_tokenize(text)])"
   ]
  },
  {
   "cell_type": "markdown",
   "metadata": {},
   "source": [
    "Применим функцию лемматизации и запишем предобработанный признак в переменную ***preprocessed_features***:"
   ]
  },
  {
   "cell_type": "code",
   "execution_count": 13,
   "metadata": {},
   "outputs": [],
   "source": [
    "# preprocessed_features = []\n",
    "# for line in tqdm(features['clean_text']):\n",
    "#     preprocessed_features.append(lemmatize_text(line))"
   ]
  },
  {
   "cell_type": "code",
   "execution_count": 14,
   "metadata": {},
   "outputs": [],
   "source": [
    "# preprocessed_features = pd.DataFrame(\n",
    "#     preprocessed_features,\n",
    "#     columns = ['text'],\n",
    "#     index = target.index\n",
    "# )"
   ]
  },
  {
   "cell_type": "markdown",
   "metadata": {},
   "source": [
    "Процесс лемматизации достаточно затратный по времени. Так как работа над проектом ведется в несколько подходов, с целью экономии времени сохраним предобработанный признак в одноименный .csv - файл:"
   ]
  },
  {
   "cell_type": "code",
   "execution_count": 15,
   "metadata": {},
   "outputs": [],
   "source": [
    "# preprocessed_features.to_csv('preprocessed_features.csv', index = False)"
   ]
  },
  {
   "cell_type": "markdown",
   "metadata": {},
   "source": [
    "Загрузим предобработанный признак:"
   ]
  },
  {
   "cell_type": "code",
   "execution_count": 16,
   "metadata": {},
   "outputs": [
    {
     "data": {
      "text/html": [
       "<div>\n",
       "<style scoped>\n",
       "    .dataframe tbody tr th:only-of-type {\n",
       "        vertical-align: middle;\n",
       "    }\n",
       "\n",
       "    .dataframe tbody tr th {\n",
       "        vertical-align: top;\n",
       "    }\n",
       "\n",
       "    .dataframe thead th {\n",
       "        text-align: right;\n",
       "    }\n",
       "</style>\n",
       "<table border=\"1\" class=\"dataframe\">\n",
       "  <thead>\n",
       "    <tr style=\"text-align: right;\">\n",
       "      <th></th>\n",
       "      <th>text</th>\n",
       "    </tr>\n",
       "  </thead>\n",
       "  <tbody>\n",
       "    <tr>\n",
       "      <td>0</td>\n",
       "      <td>Explanation Why the edits make under my userna...</td>\n",
       "    </tr>\n",
       "    <tr>\n",
       "      <td>1</td>\n",
       "      <td>D aww He match this background colour I m seem...</td>\n",
       "    </tr>\n",
       "    <tr>\n",
       "      <td>2</td>\n",
       "      <td>Hey man I m really not try to edit war It s ju...</td>\n",
       "    </tr>\n",
       "    <tr>\n",
       "      <td>3</td>\n",
       "      <td>More I can t make any real suggestion on impro...</td>\n",
       "    </tr>\n",
       "    <tr>\n",
       "      <td>4</td>\n",
       "      <td>You sir be my hero Any chance you remember wha...</td>\n",
       "    </tr>\n",
       "  </tbody>\n",
       "</table>\n",
       "</div>"
      ],
      "text/plain": [
       "                                                text\n",
       "0  Explanation Why the edits make under my userna...\n",
       "1  D aww He match this background colour I m seem...\n",
       "2  Hey man I m really not try to edit war It s ju...\n",
       "3  More I can t make any real suggestion on impro...\n",
       "4  You sir be my hero Any chance you remember wha..."
      ]
     },
     "execution_count": 16,
     "metadata": {},
     "output_type": "execute_result"
    }
   ],
   "source": [
    "preprocessed_features = pd.read_csv(\n",
    "    '/datasets/preprocessed_features.csv',\n",
    "    keep_default_na = False, na_values = ' ')\n",
    "preprocessed_features.head()"
   ]
  },
  {
   "cell_type": "markdown",
   "metadata": {},
   "source": [
    "Из загруженных данных видно, что текст упрощен.\n",
    "\n",
    "Далее разделим данные на обучающую и тестовую выборки. Размер тесовой выборки зададим равным 25% от размера исходных данных."
   ]
  },
  {
   "cell_type": "code",
   "execution_count": 17,
   "metadata": {},
   "outputs": [],
   "source": [
    "features_train, features_test, target_train, target_test = train_test_split(\n",
    "    preprocessed_features,\n",
    "    target,\n",
    "    test_size = 0.25,\n",
    "    random_state = 12345,\n",
    "    stratify = target\n",
    ")"
   ]
  },
  {
   "cell_type": "markdown",
   "metadata": {},
   "source": [
    "Проверим размеры полученных выборок:"
   ]
  },
  {
   "cell_type": "code",
   "execution_count": 18,
   "metadata": {
    "scrolled": true
   },
   "outputs": [
    {
     "name": "stdout",
     "output_type": "stream",
     "text": [
      "Размер обучающей таблицы признаков: (119678, 1)\n",
      "Размер обучающей таблицы с целевым признаком: (119678,)\n",
      "Размер тестовой таблицы признаков: (39893, 1)\n",
      "Размер тестовой таблицы с целевым признаком: (39893,)\n"
     ]
    }
   ],
   "source": [
    "print('Размер обучающей таблицы признаков:',features_train.shape)\n",
    "print('Размер обучающей таблицы с целевым признаком:',target_train.shape)\n",
    "print('Размер тестовой таблицы признаков:',features_test.shape)\n",
    "print('Размер тестовой таблицы с целевым признаком:',target_test.shape)"
   ]
  },
  {
   "cell_type": "markdown",
   "metadata": {},
   "source": [
    "Размеры выборок соответствуют заданным параметрам."
   ]
  },
  {
   "cell_type": "markdown",
   "metadata": {},
   "source": [
    "Переведем текстовые признаки обучающей и тестовой выборок в векторные представления для обеспечения возможности применять к ним модели машинного обучения."
   ]
  },
  {
   "cell_type": "code",
   "execution_count": 19,
   "metadata": {},
   "outputs": [],
   "source": [
    "vectorizer = TfidfVectorizer(stop_words='english')\n",
    "X_vec_train = vectorizer.fit_transform(features_train['text'])\n",
    "X_vec_test = vectorizer.transform(features_test['text'])"
   ]
  },
  {
   "cell_type": "markdown",
   "metadata": {},
   "source": [
    "###### Вывод\n",
    "\n",
    "На данном этапе текст комментариев был подготовлен к применению в моделях машинного обучения:\n",
    "\n",
    " - Текст разбит на токены, очищен от лишних символов и лемматизирован;\n",
    " - Текст переведен в векторный вид."
   ]
  },
  {
   "cell_type": "markdown",
   "metadata": {},
   "source": [
    "## Подбор модели"
   ]
  },
  {
   "cell_type": "markdown",
   "metadata": {},
   "source": [
    "Напишем функцию для подбора наилучших параметров модели:"
   ]
  },
  {
   "cell_type": "code",
   "execution_count": 21,
   "metadata": {},
   "outputs": [],
   "source": [
    "def get_best_params(model,parameters):\n",
    "    \n",
    "    grid = GridSearchCV(\n",
    "    model,\n",
    "    parameters,\n",
    "    scoring = 'f1'\n",
    "    )\n",
    "    \n",
    "    grid.fit(X_vec_train,target_train)\n",
    "    \n",
    "    greed_result = pd.DataFrame(\n",
    "        grid.cv_results_).sort_values(\n",
    "        by = 'rank_test_score').reset_index(\n",
    "        drop = True)\n",
    "    \n",
    "    display(greed_result[greed_result['rank_test_score']==1])"
   ]
  },
  {
   "cell_type": "markdown",
   "metadata": {},
   "source": [
    "Рассмотрим модель ***Логистическая регрессия***:"
   ]
  },
  {
   "cell_type": "code",
   "execution_count": 22,
   "metadata": {
    "scrolled": true
   },
   "outputs": [
    {
     "data": {
      "text/html": [
       "<div>\n",
       "<style scoped>\n",
       "    .dataframe tbody tr th:only-of-type {\n",
       "        vertical-align: middle;\n",
       "    }\n",
       "\n",
       "    .dataframe tbody tr th {\n",
       "        vertical-align: top;\n",
       "    }\n",
       "\n",
       "    .dataframe thead th {\n",
       "        text-align: right;\n",
       "    }\n",
       "</style>\n",
       "<table border=\"1\" class=\"dataframe\">\n",
       "  <thead>\n",
       "    <tr style=\"text-align: right;\">\n",
       "      <th></th>\n",
       "      <th>mean_fit_time</th>\n",
       "      <th>std_fit_time</th>\n",
       "      <th>mean_score_time</th>\n",
       "      <th>std_score_time</th>\n",
       "      <th>param_C</th>\n",
       "      <th>param_random_state</th>\n",
       "      <th>param_solver</th>\n",
       "      <th>param_tol</th>\n",
       "      <th>params</th>\n",
       "      <th>split0_test_score</th>\n",
       "      <th>split1_test_score</th>\n",
       "      <th>split2_test_score</th>\n",
       "      <th>split3_test_score</th>\n",
       "      <th>split4_test_score</th>\n",
       "      <th>mean_test_score</th>\n",
       "      <th>std_test_score</th>\n",
       "      <th>rank_test_score</th>\n",
       "    </tr>\n",
       "  </thead>\n",
       "  <tbody>\n",
       "    <tr>\n",
       "      <th>0</th>\n",
       "      <td>0.521011</td>\n",
       "      <td>0.03148</td>\n",
       "      <td>0.004824</td>\n",
       "      <td>0.000543</td>\n",
       "      <td>14</td>\n",
       "      <td>12345</td>\n",
       "      <td>saga</td>\n",
       "      <td>0.0087</td>\n",
       "      <td>{'C': 14, 'random_state': 12345, 'solver': 'sa...</td>\n",
       "      <td>0.756291</td>\n",
       "      <td>0.756744</td>\n",
       "      <td>0.764432</td>\n",
       "      <td>0.770305</td>\n",
       "      <td>0.758219</td>\n",
       "      <td>0.761198</td>\n",
       "      <td>0.005407</td>\n",
       "      <td>1</td>\n",
       "    </tr>\n",
       "  </tbody>\n",
       "</table>\n",
       "</div>"
      ],
      "text/plain": [
       "   mean_fit_time  std_fit_time  mean_score_time  std_score_time param_C  \\\n",
       "0       0.521011       0.03148         0.004824        0.000543      14   \n",
       "\n",
       "  param_random_state param_solver param_tol  \\\n",
       "0              12345         saga    0.0087   \n",
       "\n",
       "                                              params  split0_test_score  \\\n",
       "0  {'C': 14, 'random_state': 12345, 'solver': 'sa...           0.756291   \n",
       "\n",
       "   split1_test_score  split2_test_score  split3_test_score  split4_test_score  \\\n",
       "0           0.756744           0.764432           0.770305           0.758219   \n",
       "\n",
       "   mean_test_score  std_test_score  rank_test_score  \n",
       "0         0.761198        0.005407                1  "
      ]
     },
     "metadata": {},
     "output_type": "display_data"
    }
   ],
   "source": [
    "logreg = LogisticRegression()\n",
    "\n",
    "get_best_params(\n",
    "    logreg,\n",
    "    {\n",
    "        'solver':['saga'],\n",
    "        'tol':[0.0087],\n",
    "        'C':[14],\n",
    "        'random_state':[12345]\n",
    "        \n",
    "    }\n",
    ")"
   ]
  },
  {
   "cell_type": "markdown",
   "metadata": {},
   "source": [
    "В результате подбора параметров наилучшее значениее метрики ***F1 = 0.761***"
   ]
  },
  {
   "cell_type": "markdown",
   "metadata": {},
   "source": [
    "Рассмотрим модель ***Дерево решений***:"
   ]
  },
  {
   "cell_type": "code",
   "execution_count": 23,
   "metadata": {
    "scrolled": false
   },
   "outputs": [
    {
     "data": {
      "text/html": [
       "<div>\n",
       "<style scoped>\n",
       "    .dataframe tbody tr th:only-of-type {\n",
       "        vertical-align: middle;\n",
       "    }\n",
       "\n",
       "    .dataframe tbody tr th {\n",
       "        vertical-align: top;\n",
       "    }\n",
       "\n",
       "    .dataframe thead th {\n",
       "        text-align: right;\n",
       "    }\n",
       "</style>\n",
       "<table border=\"1\" class=\"dataframe\">\n",
       "  <thead>\n",
       "    <tr style=\"text-align: right;\">\n",
       "      <th></th>\n",
       "      <th>mean_fit_time</th>\n",
       "      <th>std_fit_time</th>\n",
       "      <th>mean_score_time</th>\n",
       "      <th>std_score_time</th>\n",
       "      <th>param_max_depth</th>\n",
       "      <th>param_min_samples_leaf</th>\n",
       "      <th>param_min_samples_split</th>\n",
       "      <th>param_random_state</th>\n",
       "      <th>params</th>\n",
       "      <th>split0_test_score</th>\n",
       "      <th>split1_test_score</th>\n",
       "      <th>split2_test_score</th>\n",
       "      <th>split3_test_score</th>\n",
       "      <th>split4_test_score</th>\n",
       "      <th>mean_test_score</th>\n",
       "      <th>std_test_score</th>\n",
       "      <th>rank_test_score</th>\n",
       "    </tr>\n",
       "  </thead>\n",
       "  <tbody>\n",
       "    <tr>\n",
       "      <th>0</th>\n",
       "      <td>15.559097</td>\n",
       "      <td>0.105141</td>\n",
       "      <td>0.025611</td>\n",
       "      <td>0.000738</td>\n",
       "      <td>48</td>\n",
       "      <td>1</td>\n",
       "      <td>2</td>\n",
       "      <td>12345</td>\n",
       "      <td>{'max_depth': 48, 'min_samples_leaf': 1, 'min_...</td>\n",
       "      <td>0.683649</td>\n",
       "      <td>0.69723</td>\n",
       "      <td>0.700454</td>\n",
       "      <td>0.704448</td>\n",
       "      <td>0.703617</td>\n",
       "      <td>0.697879</td>\n",
       "      <td>0.007558</td>\n",
       "      <td>1</td>\n",
       "    </tr>\n",
       "  </tbody>\n",
       "</table>\n",
       "</div>"
      ],
      "text/plain": [
       "   mean_fit_time  std_fit_time  mean_score_time  std_score_time  \\\n",
       "0      15.559097      0.105141         0.025611        0.000738   \n",
       "\n",
       "  param_max_depth param_min_samples_leaf param_min_samples_split  \\\n",
       "0              48                      1                       2   \n",
       "\n",
       "  param_random_state                                             params  \\\n",
       "0              12345  {'max_depth': 48, 'min_samples_leaf': 1, 'min_...   \n",
       "\n",
       "   split0_test_score  split1_test_score  split2_test_score  split3_test_score  \\\n",
       "0           0.683649            0.69723           0.700454           0.704448   \n",
       "\n",
       "   split4_test_score  mean_test_score  std_test_score  rank_test_score  \n",
       "0           0.703617         0.697879        0.007558                1  "
      ]
     },
     "metadata": {},
     "output_type": "display_data"
    }
   ],
   "source": [
    "tree = DecisionTreeClassifier()\n",
    "\n",
    "get_best_params(\n",
    "    tree,\n",
    "    {\n",
    "        'max_depth':[48],\n",
    "        'min_samples_split':[2],\n",
    "        'min_samples_leaf':[1],\n",
    "        'random_state':[12345]\n",
    "    }\n",
    ")"
   ]
  },
  {
   "cell_type": "markdown",
   "metadata": {},
   "source": [
    "В результате подбора параметров наилучшее значениее метрики ***F1 = 0.698***"
   ]
  },
  {
   "cell_type": "markdown",
   "metadata": {},
   "source": [
    "Рассмотрим модель ***CatBoostClassifier***:"
   ]
  },
  {
   "cell_type": "code",
   "execution_count": 24,
   "metadata": {
    "scrolled": true
   },
   "outputs": [
    {
     "data": {
      "text/html": [
       "<div>\n",
       "<style scoped>\n",
       "    .dataframe tbody tr th:only-of-type {\n",
       "        vertical-align: middle;\n",
       "    }\n",
       "\n",
       "    .dataframe tbody tr th {\n",
       "        vertical-align: top;\n",
       "    }\n",
       "\n",
       "    .dataframe thead th {\n",
       "        text-align: right;\n",
       "    }\n",
       "</style>\n",
       "<table border=\"1\" class=\"dataframe\">\n",
       "  <thead>\n",
       "    <tr style=\"text-align: right;\">\n",
       "      <th></th>\n",
       "      <th>mean_fit_time</th>\n",
       "      <th>std_fit_time</th>\n",
       "      <th>mean_score_time</th>\n",
       "      <th>std_score_time</th>\n",
       "      <th>param_learning_rate</th>\n",
       "      <th>param_max_depth</th>\n",
       "      <th>param_n_estimators</th>\n",
       "      <th>param_silent</th>\n",
       "      <th>params</th>\n",
       "      <th>split0_test_score</th>\n",
       "      <th>split1_test_score</th>\n",
       "      <th>split2_test_score</th>\n",
       "      <th>split3_test_score</th>\n",
       "      <th>split4_test_score</th>\n",
       "      <th>mean_test_score</th>\n",
       "      <th>std_test_score</th>\n",
       "      <th>rank_test_score</th>\n",
       "    </tr>\n",
       "  </thead>\n",
       "  <tbody>\n",
       "    <tr>\n",
       "      <th>0</th>\n",
       "      <td>45.94077</td>\n",
       "      <td>0.86521</td>\n",
       "      <td>0.312267</td>\n",
       "      <td>0.022502</td>\n",
       "      <td>1</td>\n",
       "      <td>5</td>\n",
       "      <td>150</td>\n",
       "      <td>True</td>\n",
       "      <td>{'learning_rate': 1, 'max_depth': 5, 'n_estima...</td>\n",
       "      <td>0.736264</td>\n",
       "      <td>0.738971</td>\n",
       "      <td>0.745513</td>\n",
       "      <td>0.753324</td>\n",
       "      <td>0.751411</td>\n",
       "      <td>0.745097</td>\n",
       "      <td>0.006683</td>\n",
       "      <td>1</td>\n",
       "    </tr>\n",
       "  </tbody>\n",
       "</table>\n",
       "</div>"
      ],
      "text/plain": [
       "   mean_fit_time  std_fit_time  mean_score_time  std_score_time  \\\n",
       "0       45.94077       0.86521         0.312267        0.022502   \n",
       "\n",
       "  param_learning_rate param_max_depth param_n_estimators param_silent  \\\n",
       "0                   1               5                150         True   \n",
       "\n",
       "                                              params  split0_test_score  \\\n",
       "0  {'learning_rate': 1, 'max_depth': 5, 'n_estima...           0.736264   \n",
       "\n",
       "   split1_test_score  split2_test_score  split3_test_score  split4_test_score  \\\n",
       "0           0.738971           0.745513           0.753324           0.751411   \n",
       "\n",
       "   mean_test_score  std_test_score  rank_test_score  \n",
       "0         0.745097        0.006683                1  "
      ]
     },
     "metadata": {},
     "output_type": "display_data"
    }
   ],
   "source": [
    "cbc = cb.CatBoostClassifier()\n",
    "\n",
    "get_best_params(\n",
    "    cbc,\n",
    "    {\n",
    "        'silent':[True],\n",
    "        'max_depth':[5],\n",
    "        'n_estimators':[150],\n",
    "        'learning_rate':[1]   \n",
    "    }\n",
    ")"
   ]
  },
  {
   "cell_type": "markdown",
   "metadata": {},
   "source": [
    "В результате подбора параметров наилучшее значениее метрики ***F1 = 0.751***"
   ]
  },
  {
   "cell_type": "markdown",
   "metadata": {},
   "source": [
    "Рассмотрим модель ***LGBMClassifier***"
   ]
  },
  {
   "cell_type": "code",
   "execution_count": 25,
   "metadata": {
    "scrolled": false
   },
   "outputs": [
    {
     "data": {
      "text/html": [
       "<div>\n",
       "<style scoped>\n",
       "    .dataframe tbody tr th:only-of-type {\n",
       "        vertical-align: middle;\n",
       "    }\n",
       "\n",
       "    .dataframe tbody tr th {\n",
       "        vertical-align: top;\n",
       "    }\n",
       "\n",
       "    .dataframe thead th {\n",
       "        text-align: right;\n",
       "    }\n",
       "</style>\n",
       "<table border=\"1\" class=\"dataframe\">\n",
       "  <thead>\n",
       "    <tr style=\"text-align: right;\">\n",
       "      <th></th>\n",
       "      <th>mean_fit_time</th>\n",
       "      <th>std_fit_time</th>\n",
       "      <th>mean_score_time</th>\n",
       "      <th>std_score_time</th>\n",
       "      <th>param_learning_rate</th>\n",
       "      <th>param_max_depth</th>\n",
       "      <th>param_n_estimators</th>\n",
       "      <th>param_objective</th>\n",
       "      <th>params</th>\n",
       "      <th>split0_test_score</th>\n",
       "      <th>split1_test_score</th>\n",
       "      <th>split2_test_score</th>\n",
       "      <th>split3_test_score</th>\n",
       "      <th>split4_test_score</th>\n",
       "      <th>mean_test_score</th>\n",
       "      <th>std_test_score</th>\n",
       "      <th>rank_test_score</th>\n",
       "    </tr>\n",
       "  </thead>\n",
       "  <tbody>\n",
       "    <tr>\n",
       "      <th>0</th>\n",
       "      <td>55.548889</td>\n",
       "      <td>2.246789</td>\n",
       "      <td>2.102765</td>\n",
       "      <td>0.048621</td>\n",
       "      <td>0.1</td>\n",
       "      <td>51</td>\n",
       "      <td>1000</td>\n",
       "      <td>binary</td>\n",
       "      <td>{'learning_rate': 0.1, 'max_depth': 51, 'n_est...</td>\n",
       "      <td>0.764987</td>\n",
       "      <td>0.768307</td>\n",
       "      <td>0.760753</td>\n",
       "      <td>0.775716</td>\n",
       "      <td>0.765478</td>\n",
       "      <td>0.767048</td>\n",
       "      <td>0.004961</td>\n",
       "      <td>1</td>\n",
       "    </tr>\n",
       "  </tbody>\n",
       "</table>\n",
       "</div>"
      ],
      "text/plain": [
       "   mean_fit_time  std_fit_time  mean_score_time  std_score_time  \\\n",
       "0      55.548889      2.246789         2.102765        0.048621   \n",
       "\n",
       "  param_learning_rate param_max_depth param_n_estimators param_objective  \\\n",
       "0                 0.1              51               1000          binary   \n",
       "\n",
       "                                              params  split0_test_score  \\\n",
       "0  {'learning_rate': 0.1, 'max_depth': 51, 'n_est...           0.764987   \n",
       "\n",
       "   split1_test_score  split2_test_score  split3_test_score  split4_test_score  \\\n",
       "0           0.768307           0.760753           0.775716           0.765478   \n",
       "\n",
       "   mean_test_score  std_test_score  rank_test_score  \n",
       "0         0.767048        0.004961                1  "
      ]
     },
     "metadata": {},
     "output_type": "display_data"
    }
   ],
   "source": [
    "lgbc = lgb.LGBMClassifier()\n",
    "\n",
    "get_best_params(\n",
    "    lgbc,\n",
    "    {\n",
    "        'objective':['binary'],\n",
    "        'max_depth':[51],\n",
    "        'n_estimators':[1000],\n",
    "        'learning_rate':[0.1]   \n",
    "    }\n",
    ")\n"
   ]
  },
  {
   "cell_type": "markdown",
   "metadata": {},
   "source": [
    "В результате подбора параметров наилучшее значениее метрики ***F1 = 0.767***"
   ]
  },
  {
   "cell_type": "markdown",
   "metadata": {},
   "source": [
    "###### Вывод\n",
    "\n",
    "На данном этапе были рассмотрены следующие модели, для каждой из которых с помощью ***GridSearchCV*** были подобраны наилучшие параметры и получены следующие значения ***F1*** на кросс-валидации ( расположены в порядке убывания качества ):\n",
    "\n",
    "- ***LGBM Classifier***: 0.767;\n",
    "- ***Логистическая регрессия***: 0.761;\n",
    "- ***CatBoost Classifier***: 0.751;\n",
    "- ***Дерево решений***: 0.698.\n",
    "\n",
    "Из результатов подбора наихудшее качество наблюдается у ***Дерева решений***. Остальные модели показывают достаточно близкий результат - далее проанализируем их более подробно."
   ]
  },
  {
   "cell_type": "markdown",
   "metadata": {},
   "source": [
    "## Анализ моделей"
   ]
  },
  {
   "cell_type": "markdown",
   "metadata": {},
   "source": [
    "### Логистическая регрессия"
   ]
  },
  {
   "cell_type": "markdown",
   "metadata": {},
   "source": [
    "Обучим модель ***Логистическая регрессия*** с заданием подобранных на предыдущем этапе гиперпараметров и рассчитаем время обучения:"
   ]
  },
  {
   "cell_type": "code",
   "execution_count": 25,
   "metadata": {
    "scrolled": true
   },
   "outputs": [
    {
     "name": "stdout",
     "output_type": "stream",
     "text": [
      "CPU times: user 657 ms, sys: 3.95 ms, total: 661 ms\n",
      "Wall time: 663 ms\n"
     ]
    },
    {
     "data": {
      "text/plain": [
       "LogisticRegression(C=14, random_state=12345, solver='saga', tol=0.0087)"
      ]
     },
     "execution_count": 25,
     "metadata": {},
     "output_type": "execute_result"
    }
   ],
   "source": [
    "%%time\n",
    "\n",
    "logreg = LogisticRegression(\n",
    "    solver = 'saga',\n",
    "    C = 14,\n",
    "    tol = 0.0087,\n",
    "    random_state = 12345\n",
    ")\n",
    "\n",
    "logreg.fit(X_vec_train, target_train)"
   ]
  },
  {
   "cell_type": "markdown",
   "metadata": {},
   "source": [
    "Время обучения ***Логистической регрессии*** = 661 милисекунда.\n",
    "\n",
    "Рассчитаем время предсказания моделью целевого признака:"
   ]
  },
  {
   "cell_type": "code",
   "execution_count": 26,
   "metadata": {
    "scrolled": true
   },
   "outputs": [
    {
     "name": "stdout",
     "output_type": "stream",
     "text": [
      "CPU times: user 7.15 ms, sys: 17.1 ms, total: 24.3 ms\n",
      "Wall time: 29.3 ms\n"
     ]
    }
   ],
   "source": [
    "%%time\n",
    "\n",
    "logreg_predicts = logreg.predict(X_vec_test)"
   ]
  },
  {
   "cell_type": "markdown",
   "metadata": {},
   "source": [
    "Время предсказаний ***Логистической регрессии*** = 24.3 милисекунды."
   ]
  },
  {
   "cell_type": "markdown",
   "metadata": {},
   "source": [
    "Рассчитаем ***F1*** модели на тестовой выборке:"
   ]
  },
  {
   "cell_type": "code",
   "execution_count": 27,
   "metadata": {},
   "outputs": [
    {
     "name": "stdout",
     "output_type": "stream",
     "text": [
      "F1 модели на тестовой выборке: 0.776\n"
     ]
    }
   ],
   "source": [
    "print('F1 модели на тестовой выборке:', f1_score(target_test, logreg_predicts).round(3))"
   ]
  },
  {
   "cell_type": "markdown",
   "metadata": {},
   "source": [
    "### CatBoost Classifier"
   ]
  },
  {
   "cell_type": "markdown",
   "metadata": {},
   "source": [
    "Обучим модель ***CatBoost Classifier*** с заданием подобранных на предыдущем этапе гиперпараметров и рассчитаем время обучения:"
   ]
  },
  {
   "cell_type": "code",
   "execution_count": 28,
   "metadata": {
    "scrolled": true
   },
   "outputs": [
    {
     "name": "stdout",
     "output_type": "stream",
     "text": [
      "CPU times: user 4min 28s, sys: 4.57 s, total: 4min 32s\n",
      "Wall time: 54.3 s\n"
     ]
    },
    {
     "data": {
      "text/plain": [
       "<catboost.core.CatBoostClassifier at 0x10d174a30>"
      ]
     },
     "execution_count": 28,
     "metadata": {},
     "output_type": "execute_result"
    }
   ],
   "source": [
    "%%time\n",
    "\n",
    "cbc = cb.CatBoostClassifier(\n",
    "    silent = True,\n",
    "    max_depth = 5,\n",
    "    n_estimators = 150,\n",
    "    learning_rate = 1\n",
    ")\n",
    "cbc.fit(X_vec_train, target_train)"
   ]
  },
  {
   "cell_type": "markdown",
   "metadata": {},
   "source": [
    "Время обучения ***CatBoost Classifier***  = 4 минуты 32 секунды.\n",
    "\n",
    "Рассчитаем время предсказания моделью целевого признака:"
   ]
  },
  {
   "cell_type": "code",
   "execution_count": 29,
   "metadata": {
    "scrolled": true
   },
   "outputs": [
    {
     "name": "stdout",
     "output_type": "stream",
     "text": [
      "CPU times: user 858 ms, sys: 403 ms, total: 1.26 s\n",
      "Wall time: 375 ms\n"
     ]
    }
   ],
   "source": [
    "%%time\n",
    "\n",
    "cbc_predicts = cbc.predict(X_vec_test)"
   ]
  },
  {
   "cell_type": "markdown",
   "metadata": {},
   "source": [
    "Время предсказаний ***CatBoost Classifier***  = 1.26 секунд."
   ]
  },
  {
   "cell_type": "markdown",
   "metadata": {},
   "source": [
    "Рассчитаем ***F1*** модели на тестовой выборке:"
   ]
  },
  {
   "cell_type": "code",
   "execution_count": 30,
   "metadata": {},
   "outputs": [
    {
     "name": "stdout",
     "output_type": "stream",
     "text": [
      "F1 модели на тестовой выборке: 0.758\n"
     ]
    }
   ],
   "source": [
    "print('F1 модели на тестовой выборке:',f1_score(target_test, cbc_predicts).round(3))"
   ]
  },
  {
   "cell_type": "markdown",
   "metadata": {},
   "source": [
    "### LGBM Classifier"
   ]
  },
  {
   "cell_type": "markdown",
   "metadata": {},
   "source": [
    "Обучим модель ***LGBM Classifier*** с заданием подобранных на предыдущем этапе гиперпараметров и рассчитаем время обучения:"
   ]
  },
  {
   "cell_type": "code",
   "execution_count": 31,
   "metadata": {
    "scrolled": true
   },
   "outputs": [
    {
     "name": "stdout",
     "output_type": "stream",
     "text": [
      "CPU times: user 7min 26s, sys: 37.4 s, total: 8min 3s\n",
      "Wall time: 1min 3s\n"
     ]
    },
    {
     "data": {
      "text/plain": [
       "LGBMClassifier(max_depth=51, n_estimators=1000, objective='binary')"
      ]
     },
     "execution_count": 31,
     "metadata": {},
     "output_type": "execute_result"
    }
   ],
   "source": [
    "%%time\n",
    "\n",
    "lgbc = lgb.LGBMClassifier(\n",
    "    objective = 'binary',\n",
    "    max_depth = 51,\n",
    "    n_estimators = 1000,\n",
    "    learning_rate = 0.1\n",
    ")\n",
    "lgbc.fit(X_vec_train, target_train)"
   ]
  },
  {
   "cell_type": "markdown",
   "metadata": {},
   "source": [
    "Время обучения ***LGBM Classifier***  = 8 минут 3 секунды.\n",
    "\n",
    "Рассчитаем время предсказания моделью целевого признака:"
   ]
  },
  {
   "cell_type": "code",
   "execution_count": 32,
   "metadata": {
    "scrolled": true
   },
   "outputs": [
    {
     "name": "stdout",
     "output_type": "stream",
     "text": [
      "CPU times: user 24.9 s, sys: 152 ms, total: 25.1 s\n",
      "Wall time: 3.28 s\n"
     ]
    }
   ],
   "source": [
    "%%time\n",
    "\n",
    "lgbc_predicts = lgbc.predict(X_vec_test)"
   ]
  },
  {
   "cell_type": "markdown",
   "metadata": {},
   "source": [
    "Время предсказаний ***LGBM Classifier***  = 25.1 секундa."
   ]
  },
  {
   "cell_type": "markdown",
   "metadata": {},
   "source": [
    "Рассчитаем ***F1*** модели на тестовой выборке:"
   ]
  },
  {
   "cell_type": "code",
   "execution_count": 33,
   "metadata": {},
   "outputs": [
    {
     "name": "stdout",
     "output_type": "stream",
     "text": [
      "F1 модели на тестовой выборке: 0.781\n"
     ]
    }
   ],
   "source": [
    "print('F1 модели на тестовой выборке:',f1_score(target_test, lgbc_predicts).round(3))"
   ]
  },
  {
   "cell_type": "markdown",
   "metadata": {},
   "source": [
    "###### Вывод"
   ]
  },
  {
   "cell_type": "markdown",
   "metadata": {},
   "source": [
    "Сформируем итоговую таблицу:"
   ]
  },
  {
   "cell_type": "code",
   "execution_count": 46,
   "metadata": {
    "scrolled": true
   },
   "outputs": [
    {
     "data": {
      "text/html": [
       "<div>\n",
       "<style scoped>\n",
       "    .dataframe tbody tr th:only-of-type {\n",
       "        vertical-align: middle;\n",
       "    }\n",
       "\n",
       "    .dataframe tbody tr th {\n",
       "        vertical-align: top;\n",
       "    }\n",
       "\n",
       "    .dataframe thead th {\n",
       "        text-align: right;\n",
       "    }\n",
       "</style>\n",
       "<table border=\"1\" class=\"dataframe\">\n",
       "  <thead>\n",
       "    <tr style=\"text-align: right;\">\n",
       "      <th></th>\n",
       "      <th>Модель</th>\n",
       "      <th>F1</th>\n",
       "      <th>Время обучения, сек</th>\n",
       "      <th>Время предсказаний, сек</th>\n",
       "    </tr>\n",
       "  </thead>\n",
       "  <tbody>\n",
       "    <tr>\n",
       "      <th>1</th>\n",
       "      <td>LightGBM Classifier</td>\n",
       "      <td>0.781</td>\n",
       "      <td>483.000</td>\n",
       "      <td>25.100</td>\n",
       "    </tr>\n",
       "    <tr>\n",
       "      <th>2</th>\n",
       "      <td>Логистическая регрессия</td>\n",
       "      <td>0.776</td>\n",
       "      <td>0.661</td>\n",
       "      <td>0.024</td>\n",
       "    </tr>\n",
       "    <tr>\n",
       "      <th>3</th>\n",
       "      <td>CatBoost Classifier</td>\n",
       "      <td>0.758</td>\n",
       "      <td>272.000</td>\n",
       "      <td>1.260</td>\n",
       "    </tr>\n",
       "  </tbody>\n",
       "</table>\n",
       "</div>"
      ],
      "text/plain": [
       "                    Модель     F1  Время обучения, сек  \\\n",
       "1      LightGBM Classifier  0.781              483.000   \n",
       "2  Логистическая регрессия  0.776                0.661   \n",
       "3      CatBoost Classifier  0.758              272.000   \n",
       "\n",
       "   Время предсказаний, сек  \n",
       "1                   25.100  \n",
       "2                    0.024  \n",
       "3                    1.260  "
      ]
     },
     "execution_count": 46,
     "metadata": {},
     "output_type": "execute_result"
    }
   ],
   "source": [
    "results = pd.DataFrame(\n",
    "    {\n",
    "        'Модель':['Логистическая регрессия', 'CatBoost Classifier','LightGBM Classifier'],\n",
    "        'F1':[0.776, 0.758, 0.781],\n",
    "        'Время обучения, сек': [0.661, 272, 483],\n",
    "        'Время предсказаний, сек': [0.024, 1.26, 25.1]\n",
    "    }\n",
    ")\n",
    "\n",
    "results.sort_values(\n",
    "    by = 'F1',\n",
    "    ascending = False).set_index(\n",
    "    pd.Index([1, 2, 3]))"
   ]
  },
  {
   "cell_type": "markdown",
   "metadata": {},
   "source": [
    "## Общий вывод"
   ]
  },
  {
   "cell_type": "markdown",
   "metadata": {},
   "source": [
    "В ходе данного проекта данные о комментариях пользователей интернет-магазина «Викишоп» изучены, предобработаны и разделены на две выборки: обучающую и тестовую в соотношении ***75% : 25%***.\n",
    "\n",
    "Выборки были использованы для подбора, обучения и тестирования моделей: ***Логистическая регрессия***, ***Дерево решений***, ***CatBoost Classifier***, ***LightGBM Classifier***.\n",
    "\n",
    "В соответствии с условиями задачи целевой метрикой качества моделей было выбрано ***F1*** со значением не менее 0.75.\n",
    "\n",
    "Для подбора гиперпараметров, а также предварительной оценки качества моделей методом кросс-валидации был применен ***GridSearchCV***.\n",
    "\n",
    "В результате подбора моделей были выбраны три наиболее перспективных:\n",
    "\n",
    " - ***LGBM Classifier***;\n",
    " - ***Логистическая регрессия***;\n",
    " - ***CatBoost Classifier***.\n",
    "  \n",
    "которые были протестированы на скорость обучения и качество предсказаний на тестовой выборке.\n",
    "\n",
    "Наилучшей с точки зрения метрики качества оказалась модель ***LightGBM Regressor***, с ***F1*** на тестовой выборке = ***0.781*** и с ***8 минутами и 7 секундами***, затраченными на обучение.\n",
    "\n",
    "Наилучшей с точки зрения времени времени обучения оказалась модель ***Логистическая регрессия***, с ***F1*** на тестовой выборке = ***0.776*** и с ***661 милисекундой***, затраченной на обучение.\n",
    "\n",
    "Так как во время теста ***Логистическая регрессия*** показала наилучший результат по времени обучения и позволила получить метрику качества ***F1***, незначительно отличающуюся от ***LightGBM Regressor***, интернет-магазину «Викишоп» рекомендуется применить ***Логистическую регрессию*** для запуска инструмента по поиску и отправки на модерацию токсичных комментриев.\n"
   ]
  }
 ],
 "metadata": {
  "ExecuteTimeLog": [
   {
    "duration": 751,
    "start_time": "2021-10-18T15:59:05.379Z"
   },
   {
    "duration": 2154,
    "start_time": "2021-10-18T15:59:06.132Z"
   },
   {
    "duration": 22,
    "start_time": "2021-10-18T15:59:15.943Z"
   },
   {
    "duration": 33,
    "start_time": "2021-10-18T15:59:50.521Z"
   },
   {
    "duration": 4,
    "start_time": "2021-10-18T16:23:16.350Z"
   },
   {
    "duration": 1383,
    "start_time": "2021-10-18T16:34:31.460Z"
   },
   {
    "duration": 2277,
    "start_time": "2021-10-18T16:34:32.846Z"
   },
   {
    "duration": 24,
    "start_time": "2021-10-18T16:34:35.126Z"
   },
   {
    "duration": 9,
    "start_time": "2021-10-18T16:34:35.153Z"
   },
   {
    "duration": 111,
    "start_time": "2021-10-18T16:34:44.186Z"
   },
   {
    "duration": 8,
    "start_time": "2021-10-18T16:35:20.703Z"
   },
   {
    "duration": 6,
    "start_time": "2021-10-18T16:37:06.871Z"
   },
   {
    "duration": 3573,
    "start_time": "2021-10-18T16:38:27.273Z"
   },
   {
    "duration": 3342,
    "start_time": "2021-10-18T16:39:14.655Z"
   },
   {
    "duration": 1328,
    "start_time": "2021-10-18T16:40:00.865Z"
   },
   {
    "duration": 1808,
    "start_time": "2021-10-18T16:40:02.196Z"
   },
   {
    "duration": 24,
    "start_time": "2021-10-18T16:40:04.008Z"
   },
   {
    "duration": 55,
    "start_time": "2021-10-18T16:40:04.035Z"
   },
   {
    "duration": 12,
    "start_time": "2021-10-18T16:40:04.092Z"
   },
   {
    "duration": 122,
    "start_time": "2021-10-18T16:40:04.106Z"
   },
   {
    "duration": 1393,
    "start_time": "2021-10-18T16:40:16.340Z"
   },
   {
    "duration": 1281,
    "start_time": "2021-10-18T16:40:32.704Z"
   },
   {
    "duration": 1621,
    "start_time": "2021-10-18T16:40:33.988Z"
   },
   {
    "duration": 23,
    "start_time": "2021-10-18T16:40:35.612Z"
   },
   {
    "duration": 49,
    "start_time": "2021-10-18T16:40:35.637Z"
   },
   {
    "duration": 18,
    "start_time": "2021-10-18T16:40:35.688Z"
   },
   {
    "duration": 106,
    "start_time": "2021-10-18T16:40:35.709Z"
   },
   {
    "duration": 5,
    "start_time": "2021-10-18T16:40:35.817Z"
   },
   {
    "duration": 16407,
    "start_time": "2021-10-18T16:40:35.826Z"
   },
   {
    "duration": 13,
    "start_time": "2021-10-18T16:42:30.821Z"
   },
   {
    "duration": 1296,
    "start_time": "2021-10-18T16:45:37.519Z"
   },
   {
    "duration": 1755,
    "start_time": "2021-10-18T16:45:38.818Z"
   },
   {
    "duration": 25,
    "start_time": "2021-10-18T16:45:40.577Z"
   },
   {
    "duration": 31,
    "start_time": "2021-10-18T16:45:40.605Z"
   },
   {
    "duration": 12,
    "start_time": "2021-10-18T16:45:40.639Z"
   },
   {
    "duration": 34,
    "start_time": "2021-10-18T16:45:40.653Z"
   },
   {
    "duration": 15653,
    "start_time": "2021-10-18T16:45:40.690Z"
   },
   {
    "duration": 134,
    "start_time": "2021-10-18T16:45:56.346Z"
   },
   {
    "duration": 13,
    "start_time": "2021-10-18T16:45:56.483Z"
   },
   {
    "duration": 10245,
    "start_time": "2021-10-18T17:02:09.094Z"
   },
   {
    "duration": 4,
    "start_time": "2021-10-18T17:08:11.759Z"
   },
   {
    "duration": 5,
    "start_time": "2021-10-18T17:09:40.007Z"
   },
   {
    "duration": 5,
    "start_time": "2021-10-18T17:13:54.021Z"
   },
   {
    "duration": 557,
    "start_time": "2021-10-18T17:19:19.524Z"
   },
   {
    "duration": 4,
    "start_time": "2021-10-18T17:20:24.302Z"
   },
   {
    "duration": 1087,
    "start_time": "2021-10-18T17:20:30.310Z"
   },
   {
    "duration": 1349,
    "start_time": "2021-10-18T17:21:11.554Z"
   },
   {
    "duration": 2096,
    "start_time": "2021-10-18T17:21:12.907Z"
   },
   {
    "duration": 25,
    "start_time": "2021-10-18T17:21:15.007Z"
   },
   {
    "duration": 51,
    "start_time": "2021-10-18T17:21:15.035Z"
   },
   {
    "duration": 13,
    "start_time": "2021-10-18T17:21:15.088Z"
   },
   {
    "duration": 15,
    "start_time": "2021-10-18T17:21:15.104Z"
   },
   {
    "duration": 15860,
    "start_time": "2021-10-18T17:21:15.122Z"
   },
   {
    "duration": 140,
    "start_time": "2021-10-18T17:21:30.986Z"
   },
   {
    "duration": 13,
    "start_time": "2021-10-18T17:21:31.129Z"
   },
   {
    "duration": 10530,
    "start_time": "2021-10-18T17:21:31.144Z"
   },
   {
    "duration": 9,
    "start_time": "2021-10-18T17:21:41.677Z"
   },
   {
    "duration": 7,
    "start_time": "2021-10-18T17:21:41.689Z"
   },
   {
    "duration": 1161,
    "start_time": "2021-10-18T17:21:41.698Z"
   },
   {
    "duration": -291,
    "start_time": "2021-10-18T17:21:43.152Z"
   },
   {
    "duration": 5,
    "start_time": "2021-10-18T17:22:48.620Z"
   },
   {
    "duration": 3,
    "start_time": "2021-10-18T17:22:51.281Z"
   },
   {
    "duration": 120408,
    "start_time": "2021-10-18T17:22:54.036Z"
   },
   {
    "duration": 36934,
    "start_time": "2021-10-18T17:32:12.104Z"
   },
   {
    "duration": 10085,
    "start_time": "2021-10-18T17:32:54.837Z"
   },
   {
    "duration": 5,
    "start_time": "2021-10-18T17:33:05.252Z"
   },
   {
    "duration": 3562,
    "start_time": "2021-10-18T17:33:36.178Z"
   },
   {
    "duration": 1340,
    "start_time": "2021-10-18T17:33:39.743Z"
   },
   {
    "duration": 2637,
    "start_time": "2021-10-18T17:33:41.086Z"
   },
   {
    "duration": 22,
    "start_time": "2021-10-18T17:33:43.726Z"
   },
   {
    "duration": 43,
    "start_time": "2021-10-18T17:33:43.750Z"
   },
   {
    "duration": 12,
    "start_time": "2021-10-18T17:33:43.796Z"
   },
   {
    "duration": 8,
    "start_time": "2021-10-18T17:33:43.811Z"
   },
   {
    "duration": 16676,
    "start_time": "2021-10-18T17:33:43.823Z"
   },
   {
    "duration": 146,
    "start_time": "2021-10-18T17:34:00.502Z"
   },
   {
    "duration": 31,
    "start_time": "2021-10-18T17:34:00.651Z"
   },
   {
    "duration": 10692,
    "start_time": "2021-10-18T17:34:00.685Z"
   },
   {
    "duration": 5,
    "start_time": "2021-10-18T17:34:11.382Z"
   },
   {
    "duration": 12,
    "start_time": "2021-10-18T17:34:11.390Z"
   },
   {
    "duration": 81124,
    "start_time": "2021-10-18T17:34:11.404Z"
   },
   {
    "duration": 79746,
    "start_time": "2021-10-18T17:36:15.478Z"
   },
   {
    "duration": 304287,
    "start_time": "2021-10-18T17:38:58.380Z"
   },
   {
    "duration": 23518,
    "start_time": "2021-10-18T17:48:44.668Z"
   },
   {
    "duration": 5349,
    "start_time": "2021-10-18T17:50:17.792Z"
   },
   {
    "duration": 3,
    "start_time": "2021-10-18T17:50:32.966Z"
   },
   {
    "duration": 107925,
    "start_time": "2021-10-18T17:50:55.262Z"
   },
   {
    "duration": 4751,
    "start_time": "2021-10-18T17:52:53.707Z"
   },
   {
    "duration": 7208,
    "start_time": "2021-10-19T15:43:07.763Z"
   },
   {
    "duration": 1003,
    "start_time": "2021-10-19T15:43:14.973Z"
   },
   {
    "duration": 2271,
    "start_time": "2021-10-19T15:43:15.977Z"
   },
   {
    "duration": 15,
    "start_time": "2021-10-19T15:43:18.250Z"
   },
   {
    "duration": 29,
    "start_time": "2021-10-19T15:43:18.266Z"
   },
   {
    "duration": 12,
    "start_time": "2021-10-19T15:43:18.297Z"
   },
   {
    "duration": 2,
    "start_time": "2021-10-19T15:43:33.888Z"
   },
   {
    "duration": 1668,
    "start_time": "2021-10-19T15:44:25.758Z"
   },
   {
    "duration": 3,
    "start_time": "2021-10-19T15:44:35.526Z"
   },
   {
    "duration": 1320,
    "start_time": "2021-10-19T15:44:38.803Z"
   },
   {
    "duration": 3,
    "start_time": "2021-10-19T15:44:49.122Z"
   },
   {
    "duration": 1969,
    "start_time": "2021-10-19T15:44:52.639Z"
   },
   {
    "duration": 112,
    "start_time": "2021-10-19T15:44:58.595Z"
   },
   {
    "duration": 8,
    "start_time": "2021-10-19T15:45:13.700Z"
   },
   {
    "duration": 138,
    "start_time": "2021-10-19T15:53:56.225Z"
   },
   {
    "duration": 3,
    "start_time": "2021-10-19T15:55:06.002Z"
   },
   {
    "duration": 1285,
    "start_time": "2021-10-19T16:01:36.896Z"
   },
   {
    "duration": 890,
    "start_time": "2021-10-19T16:02:26.260Z"
   },
   {
    "duration": 3334,
    "start_time": "2021-10-19T16:03:52.067Z"
   },
   {
    "duration": 6778,
    "start_time": "2021-10-19T16:04:06.047Z"
   },
   {
    "duration": 93,
    "start_time": "2021-10-19T16:04:27.259Z"
   },
   {
    "duration": 6215,
    "start_time": "2021-10-19T16:04:33.066Z"
   },
   {
    "duration": 3236,
    "start_time": "2021-10-19T16:05:01.515Z"
   },
   {
    "duration": 2303,
    "start_time": "2021-10-19T16:05:12.996Z"
   },
   {
    "duration": 11691,
    "start_time": "2021-10-19T16:05:22.711Z"
   },
   {
    "duration": 614,
    "start_time": "2021-10-19T16:06:11.882Z"
   },
   {
    "duration": 634,
    "start_time": "2021-10-19T16:06:19.923Z"
   },
   {
    "duration": 620,
    "start_time": "2021-10-19T16:06:28.304Z"
   },
   {
    "duration": 11812,
    "start_time": "2021-10-19T16:06:34.114Z"
   },
   {
    "duration": 1288,
    "start_time": "2021-10-19T16:07:07.896Z"
   },
   {
    "duration": 631,
    "start_time": "2021-10-19T16:08:17.540Z"
   },
   {
    "duration": 630,
    "start_time": "2021-10-19T16:08:31.320Z"
   },
   {
    "duration": 499,
    "start_time": "2021-10-19T16:08:41.440Z"
   },
   {
    "duration": 633,
    "start_time": "2021-10-19T16:09:02.828Z"
   },
   {
    "duration": 417,
    "start_time": "2021-10-19T16:09:13.463Z"
   },
   {
    "duration": 3651,
    "start_time": "2021-10-19T16:10:15.586Z"
   },
   {
    "duration": 105,
    "start_time": "2021-10-19T16:10:42.517Z"
   },
   {
    "duration": 7897,
    "start_time": "2021-10-19T16:10:48.719Z"
   },
   {
    "duration": 439,
    "start_time": "2021-10-19T16:12:17.538Z"
   },
   {
    "duration": 425,
    "start_time": "2021-10-19T16:13:08.204Z"
   },
   {
    "duration": 437,
    "start_time": "2021-10-19T16:13:25.852Z"
   },
   {
    "duration": 513,
    "start_time": "2021-10-19T16:14:25.865Z"
   },
   {
    "duration": 1202,
    "start_time": "2021-10-19T16:16:39.420Z"
   },
   {
    "duration": 2830,
    "start_time": "2021-10-19T16:16:40.624Z"
   },
   {
    "duration": 1104,
    "start_time": "2021-10-19T16:16:43.457Z"
   },
   {
    "duration": 4657,
    "start_time": "2021-10-19T16:16:44.563Z"
   },
   {
    "duration": 2014,
    "start_time": "2021-10-19T16:16:49.222Z"
   },
   {
    "duration": 16,
    "start_time": "2021-10-19T16:16:51.238Z"
   },
   {
    "duration": 25,
    "start_time": "2021-10-19T16:16:51.255Z"
   },
   {
    "duration": 12,
    "start_time": "2021-10-19T16:16:51.282Z"
   },
   {
    "duration": 5,
    "start_time": "2021-10-19T16:16:51.296Z"
   },
   {
    "duration": 4,
    "start_time": "2021-10-19T16:16:51.303Z"
   },
   {
    "duration": 2023,
    "start_time": "2021-10-19T16:16:51.309Z"
   },
   {
    "duration": 107,
    "start_time": "2021-10-19T16:16:53.334Z"
   },
   {
    "duration": 9,
    "start_time": "2021-10-19T16:16:53.444Z"
   },
   {
    "duration": 560,
    "start_time": "2021-10-19T16:16:53.454Z"
   },
   {
    "duration": 6596,
    "start_time": "2021-10-19T16:16:54.016Z"
   },
   {
    "duration": 3,
    "start_time": "2021-10-19T16:17:00.614Z"
   },
   {
    "duration": 25146,
    "start_time": "2021-10-19T16:17:00.619Z"
   },
   {
    "duration": -3407,
    "start_time": "2021-10-19T16:17:29.175Z"
   },
   {
    "duration": -3413,
    "start_time": "2021-10-19T16:17:29.183Z"
   },
   {
    "duration": 7549,
    "start_time": "2021-10-19T16:17:38.841Z"
   },
   {
    "duration": 1163,
    "start_time": "2021-10-19T16:18:01.544Z"
   },
   {
    "duration": 2754,
    "start_time": "2021-10-19T16:18:02.709Z"
   },
   {
    "duration": 8446,
    "start_time": "2021-10-19T16:18:05.465Z"
   },
   {
    "duration": 5680,
    "start_time": "2021-10-19T16:18:13.914Z"
   },
   {
    "duration": 1853,
    "start_time": "2021-10-19T16:18:19.596Z"
   },
   {
    "duration": 16,
    "start_time": "2021-10-19T16:18:21.451Z"
   },
   {
    "duration": 34,
    "start_time": "2021-10-19T16:18:21.468Z"
   },
   {
    "duration": 12,
    "start_time": "2021-10-19T16:18:21.504Z"
   },
   {
    "duration": 26,
    "start_time": "2021-10-19T16:18:21.518Z"
   },
   {
    "duration": 3,
    "start_time": "2021-10-19T16:18:21.546Z"
   },
   {
    "duration": 2399,
    "start_time": "2021-10-19T16:18:21.551Z"
   },
   {
    "duration": 165,
    "start_time": "2021-10-19T16:18:23.952Z"
   },
   {
    "duration": 11,
    "start_time": "2021-10-19T16:18:24.119Z"
   },
   {
    "duration": 775,
    "start_time": "2021-10-19T16:18:24.131Z"
   },
   {
    "duration": 6872,
    "start_time": "2021-10-19T16:18:24.908Z"
   },
   {
    "duration": 3,
    "start_time": "2021-10-19T16:18:31.782Z"
   },
   {
    "duration": 73658,
    "start_time": "2021-10-19T16:18:31.787Z"
   },
   {
    "duration": 3458,
    "start_time": "2021-10-19T16:19:45.447Z"
   },
   {
    "duration": 481,
    "start_time": "2021-10-19T16:19:48.907Z"
   },
   {
    "duration": 651,
    "start_time": "2021-10-19T16:20:49.345Z"
   },
   {
    "duration": 3,
    "start_time": "2021-10-19T16:27:39.804Z"
   },
   {
    "duration": 87737,
    "start_time": "2021-10-19T16:28:33.740Z"
   },
   {
    "duration": 3,
    "start_time": "2021-10-19T16:30:21.596Z"
   },
   {
    "duration": 2334,
    "start_time": "2021-10-19T16:30:26.066Z"
   },
   {
    "duration": 3,
    "start_time": "2021-10-19T16:30:43.016Z"
   },
   {
    "duration": 88159,
    "start_time": "2021-10-19T16:30:46.087Z"
   },
   {
    "duration": 5,
    "start_time": "2021-10-19T16:32:42.288Z"
   },
   {
    "duration": 4,
    "start_time": "2021-10-19T16:33:42.691Z"
   },
   {
    "duration": 7,
    "start_time": "2021-10-19T16:33:47.640Z"
   },
   {
    "duration": 2562,
    "start_time": "2021-10-19T16:35:06.220Z"
   },
   {
    "duration": 5,
    "start_time": "2021-10-19T16:35:18.085Z"
   },
   {
    "duration": 570954,
    "start_time": "2021-10-19T16:37:06.983Z"
   },
   {
    "duration": 3,
    "start_time": "2021-10-19T17:16:39.704Z"
   },
   {
    "duration": 1780052,
    "start_time": "2021-10-19T17:16:47.325Z"
   },
   {
    "duration": 1468,
    "start_time": "2021-10-20T01:29:52.203Z"
   },
   {
    "duration": 2042,
    "start_time": "2021-10-20T01:31:58.250Z"
   },
   {
    "duration": 1086,
    "start_time": "2021-10-20T01:32:14.862Z"
   },
   {
    "duration": 10139,
    "start_time": "2021-10-20T01:32:15.950Z"
   },
   {
    "duration": 10373,
    "start_time": "2021-10-20T01:32:26.092Z"
   },
   {
    "duration": 4454,
    "start_time": "2021-10-20T01:32:36.468Z"
   },
   {
    "duration": 1876,
    "start_time": "2021-10-20T01:32:40.924Z"
   },
   {
    "duration": 16,
    "start_time": "2021-10-20T01:32:42.801Z"
   },
   {
    "duration": 44,
    "start_time": "2021-10-20T01:32:42.819Z"
   },
   {
    "duration": 14,
    "start_time": "2021-10-20T01:32:42.865Z"
   },
   {
    "duration": 4,
    "start_time": "2021-10-20T01:33:22.060Z"
   },
   {
    "duration": 2,
    "start_time": "2021-10-20T01:33:25.965Z"
   },
   {
    "duration": 3,
    "start_time": "2021-10-20T01:33:27.996Z"
   },
   {
    "duration": 32110,
    "start_time": "2021-10-20T01:52:21.923Z"
   },
   {
    "duration": 45683,
    "start_time": "2021-10-20T01:53:12.091Z"
   },
   {
    "duration": 309,
    "start_time": "2021-10-20T02:35:34.400Z"
   },
   {
    "duration": 4,
    "start_time": "2021-10-20T02:35:53.082Z"
   },
   {
    "duration": 300,
    "start_time": "2021-10-20T02:35:59.074Z"
   },
   {
    "duration": 1943,
    "start_time": "2021-10-20T02:40:16.464Z"
   },
   {
    "duration": -205,
    "start_time": "2021-10-20T03:26:12.788Z"
   },
   {
    "duration": -207,
    "start_time": "2021-10-20T03:26:12.791Z"
   },
   {
    "duration": -208,
    "start_time": "2021-10-20T03:26:12.793Z"
   },
   {
    "duration": -208,
    "start_time": "2021-10-20T03:26:12.795Z"
   },
   {
    "duration": -209,
    "start_time": "2021-10-20T03:26:12.797Z"
   },
   {
    "duration": -209,
    "start_time": "2021-10-20T03:26:12.799Z"
   },
   {
    "duration": 6543,
    "start_time": "2021-10-20T03:26:15.258Z"
   },
   {
    "duration": 147,
    "start_time": "2021-10-20T03:26:27.346Z"
   },
   {
    "duration": 1955,
    "start_time": "2021-10-20T03:26:29.250Z"
   },
   {
    "duration": 10,
    "start_time": "2021-10-20T03:26:32.074Z"
   },
   {
    "duration": 30,
    "start_time": "2021-10-20T03:26:36.011Z"
   },
   {
    "duration": 39,
    "start_time": "2021-10-20T03:26:38.393Z"
   },
   {
    "duration": 3,
    "start_time": "2021-10-20T03:26:41.353Z"
   },
   {
    "duration": 80,
    "start_time": "2021-10-20T03:46:56.667Z"
   },
   {
    "duration": 255,
    "start_time": "2021-10-20T03:47:35.820Z"
   },
   {
    "duration": 4,
    "start_time": "2021-10-20T03:48:36.988Z"
   },
   {
    "duration": 1936,
    "start_time": "2021-10-20T03:49:32.451Z"
   },
   {
    "duration": 9,
    "start_time": "2021-10-20T03:49:43.636Z"
   },
   {
    "duration": 1417,
    "start_time": "2021-10-20T03:50:50.859Z"
   },
   {
    "duration": 4,
    "start_time": "2021-10-20T03:51:19.451Z"
   },
   {
    "duration": 4,
    "start_time": "2021-10-20T03:51:27.259Z"
   },
   {
    "duration": 1495,
    "start_time": "2021-10-20T03:51:38.635Z"
   },
   {
    "duration": 3126,
    "start_time": "2021-10-20T03:52:23.077Z"
   },
   {
    "duration": 1187,
    "start_time": "2021-10-20T03:52:26.205Z"
   },
   {
    "duration": 2108,
    "start_time": "2021-10-20T03:52:27.397Z"
   },
   {
    "duration": 16,
    "start_time": "2021-10-20T03:52:29.507Z"
   },
   {
    "duration": 43,
    "start_time": "2021-10-20T03:52:29.525Z"
   },
   {
    "duration": 20,
    "start_time": "2021-10-20T03:52:29.570Z"
   },
   {
    "duration": 6,
    "start_time": "2021-10-20T03:52:29.592Z"
   },
   {
    "duration": 5,
    "start_time": "2021-10-20T03:52:29.602Z"
   },
   {
    "duration": 5,
    "start_time": "2021-10-20T03:52:29.609Z"
   },
   {
    "duration": 6,
    "start_time": "2021-10-20T03:52:29.616Z"
   },
   {
    "duration": 1572,
    "start_time": "2021-10-20T03:52:29.624Z"
   },
   {
    "duration": -278,
    "start_time": "2021-10-20T03:52:31.476Z"
   },
   {
    "duration": 1561,
    "start_time": "2021-10-20T03:52:57.346Z"
   },
   {
    "duration": 1774,
    "start_time": "2021-10-20T03:53:21.322Z"
   },
   {
    "duration": 5,
    "start_time": "2021-10-20T03:54:08.250Z"
   },
   {
    "duration": 1697,
    "start_time": "2021-10-20T03:54:11.649Z"
   },
   {
    "duration": 4917,
    "start_time": "2021-10-20T03:55:50.105Z"
   },
   {
    "duration": 2612,
    "start_time": "2021-10-20T03:56:12.746Z"
   },
   {
    "duration": 2550,
    "start_time": "2021-10-20T03:56:15.360Z"
   },
   {
    "duration": 1177,
    "start_time": "2021-10-20T03:56:17.913Z"
   },
   {
    "duration": 2229,
    "start_time": "2021-10-20T03:56:19.092Z"
   },
   {
    "duration": 15,
    "start_time": "2021-10-20T03:56:21.323Z"
   },
   {
    "duration": 41,
    "start_time": "2021-10-20T03:56:21.340Z"
   },
   {
    "duration": 15,
    "start_time": "2021-10-20T03:56:21.382Z"
   },
   {
    "duration": 3,
    "start_time": "2021-10-20T03:56:21.399Z"
   },
   {
    "duration": 13,
    "start_time": "2021-10-20T03:56:21.404Z"
   },
   {
    "duration": 15,
    "start_time": "2021-10-20T03:56:21.419Z"
   },
   {
    "duration": 9,
    "start_time": "2021-10-20T03:56:21.436Z"
   },
   {
    "duration": 1766,
    "start_time": "2021-10-20T03:56:25.168Z"
   },
   {
    "duration": 611,
    "start_time": "2021-10-20T03:56:54.864Z"
   },
   {
    "duration": 2779,
    "start_time": "2021-10-20T03:57:15.421Z"
   },
   {
    "duration": 2484,
    "start_time": "2021-10-20T03:57:18.203Z"
   },
   {
    "duration": 257,
    "start_time": "2021-10-20T03:57:20.690Z"
   },
   {
    "duration": -230,
    "start_time": "2021-10-20T03:57:21.179Z"
   },
   {
    "duration": -229,
    "start_time": "2021-10-20T03:57:21.180Z"
   },
   {
    "duration": -230,
    "start_time": "2021-10-20T03:57:21.182Z"
   },
   {
    "duration": -230,
    "start_time": "2021-10-20T03:57:21.183Z"
   },
   {
    "duration": -232,
    "start_time": "2021-10-20T03:57:21.185Z"
   },
   {
    "duration": -232,
    "start_time": "2021-10-20T03:57:21.186Z"
   },
   {
    "duration": -232,
    "start_time": "2021-10-20T03:57:21.187Z"
   },
   {
    "duration": -233,
    "start_time": "2021-10-20T03:57:21.189Z"
   },
   {
    "duration": -307,
    "start_time": "2021-10-20T03:57:21.264Z"
   },
   {
    "duration": 1358,
    "start_time": "2021-10-20T03:57:24.155Z"
   },
   {
    "duration": 2681,
    "start_time": "2021-10-20T03:59:02.249Z"
   },
   {
    "duration": 2412,
    "start_time": "2021-10-20T03:59:04.932Z"
   },
   {
    "duration": 1240,
    "start_time": "2021-10-20T03:59:07.347Z"
   },
   {
    "duration": 1828,
    "start_time": "2021-10-20T03:59:08.589Z"
   },
   {
    "duration": 17,
    "start_time": "2021-10-20T03:59:10.419Z"
   },
   {
    "duration": 44,
    "start_time": "2021-10-20T03:59:10.439Z"
   },
   {
    "duration": 15,
    "start_time": "2021-10-20T03:59:10.485Z"
   },
   {
    "duration": 5,
    "start_time": "2021-10-20T03:59:10.503Z"
   },
   {
    "duration": 6,
    "start_time": "2021-10-20T03:59:10.510Z"
   },
   {
    "duration": 4,
    "start_time": "2021-10-20T03:59:10.518Z"
   },
   {
    "duration": 1992,
    "start_time": "2021-10-20T03:59:10.523Z"
   },
   {
    "duration": 11,
    "start_time": "2021-10-20T03:59:12.517Z"
   },
   {
    "duration": 70681,
    "start_time": "2021-10-20T03:59:17.665Z"
   },
   {
    "duration": 86,
    "start_time": "2021-10-20T04:04:44.989Z"
   },
   {
    "duration": 73,
    "start_time": "2021-10-20T04:05:13.077Z"
   },
   {
    "duration": 5,
    "start_time": "2021-10-20T04:05:31.672Z"
   },
   {
    "duration": 2580,
    "start_time": "2021-10-20T04:05:43.035Z"
   },
   {
    "duration": 2398,
    "start_time": "2021-10-20T04:05:45.617Z"
   },
   {
    "duration": 1194,
    "start_time": "2021-10-20T04:05:48.017Z"
   },
   {
    "duration": 1650,
    "start_time": "2021-10-20T04:05:49.213Z"
   },
   {
    "duration": 21,
    "start_time": "2021-10-20T04:05:50.865Z"
   },
   {
    "duration": 47,
    "start_time": "2021-10-20T04:05:50.888Z"
   },
   {
    "duration": 27,
    "start_time": "2021-10-20T04:05:50.937Z"
   },
   {
    "duration": 4,
    "start_time": "2021-10-20T04:05:50.966Z"
   },
   {
    "duration": 224,
    "start_time": "2021-10-20T04:05:50.973Z"
   },
   {
    "duration": 5,
    "start_time": "2021-10-20T04:05:51.199Z"
   },
   {
    "duration": 6,
    "start_time": "2021-10-20T04:05:51.205Z"
   },
   {
    "duration": 2100,
    "start_time": "2021-10-20T04:05:51.213Z"
   },
   {
    "duration": 11,
    "start_time": "2021-10-20T04:05:53.315Z"
   },
   {
    "duration": 15595,
    "start_time": "2021-10-20T04:06:11.158Z"
   },
   {
    "duration": 45178,
    "start_time": "2021-10-20T04:10:29.672Z"
   },
   {
    "duration": 52690,
    "start_time": "2021-10-20T04:11:31.639Z"
   },
   {
    "duration": 31,
    "start_time": "2021-10-20T04:12:39.761Z"
   },
   {
    "duration": 4,
    "start_time": "2021-10-20T04:12:52.640Z"
   },
   {
    "duration": 36,
    "start_time": "2021-10-20T04:13:34.104Z"
   },
   {
    "duration": 5,
    "start_time": "2021-10-20T04:13:37.631Z"
   },
   {
    "duration": 44,
    "start_time": "2021-10-20T04:14:09.960Z"
   },
   {
    "duration": 5,
    "start_time": "2021-10-20T04:14:12.607Z"
   },
   {
    "duration": 4,
    "start_time": "2021-10-20T04:15:47.119Z"
   },
   {
    "duration": 5,
    "start_time": "2021-10-20T04:15:49.342Z"
   },
   {
    "duration": 2034,
    "start_time": "2021-10-20T04:16:26.591Z"
   },
   {
    "duration": 11,
    "start_time": "2021-10-20T04:16:35.192Z"
   },
   {
    "duration": 234,
    "start_time": "2021-10-20T04:17:46.558Z"
   },
   {
    "duration": 2683,
    "start_time": "2021-10-20T04:18:10.073Z"
   },
   {
    "duration": 2435,
    "start_time": "2021-10-20T04:18:12.759Z"
   },
   {
    "duration": 258,
    "start_time": "2021-10-20T04:18:15.197Z"
   },
   {
    "duration": -117,
    "start_time": "2021-10-20T04:18:15.575Z"
   },
   {
    "duration": -120,
    "start_time": "2021-10-20T04:18:15.579Z"
   },
   {
    "duration": -121,
    "start_time": "2021-10-20T04:18:15.581Z"
   },
   {
    "duration": -198,
    "start_time": "2021-10-20T04:18:15.659Z"
   },
   {
    "duration": -200,
    "start_time": "2021-10-20T04:18:15.662Z"
   },
   {
    "duration": -201,
    "start_time": "2021-10-20T04:18:15.664Z"
   },
   {
    "duration": -201,
    "start_time": "2021-10-20T04:18:15.665Z"
   },
   {
    "duration": -207,
    "start_time": "2021-10-20T04:18:15.672Z"
   },
   {
    "duration": -207,
    "start_time": "2021-10-20T04:18:15.673Z"
   },
   {
    "duration": -209,
    "start_time": "2021-10-20T04:18:15.676Z"
   },
   {
    "duration": -209,
    "start_time": "2021-10-20T04:18:15.677Z"
   },
   {
    "duration": -210,
    "start_time": "2021-10-20T04:18:15.679Z"
   },
   {
    "duration": 2690,
    "start_time": "2021-10-20T04:18:42.748Z"
   },
   {
    "duration": 2500,
    "start_time": "2021-10-20T04:18:45.440Z"
   },
   {
    "duration": 1245,
    "start_time": "2021-10-20T04:18:47.943Z"
   },
   {
    "duration": 1852,
    "start_time": "2021-10-20T04:18:49.190Z"
   },
   {
    "duration": 24,
    "start_time": "2021-10-20T04:18:51.043Z"
   },
   {
    "duration": 31,
    "start_time": "2021-10-20T04:18:51.069Z"
   },
   {
    "duration": 17,
    "start_time": "2021-10-20T04:18:51.102Z"
   },
   {
    "duration": 2,
    "start_time": "2021-10-20T04:18:51.121Z"
   },
   {
    "duration": 239,
    "start_time": "2021-10-20T04:18:51.125Z"
   },
   {
    "duration": 4,
    "start_time": "2021-10-20T04:18:51.366Z"
   },
   {
    "duration": 10,
    "start_time": "2021-10-20T04:18:51.371Z"
   },
   {
    "duration": 2077,
    "start_time": "2021-10-20T04:18:51.383Z"
   },
   {
    "duration": 10,
    "start_time": "2021-10-20T04:18:53.463Z"
   },
   {
    "duration": 1581,
    "start_time": "2021-10-20T04:20:10.507Z"
   },
   {
    "duration": 5,
    "start_time": "2021-10-20T04:20:18.959Z"
   },
   {
    "duration": 152,
    "start_time": "2021-10-20T04:20:53.617Z"
   },
   {
    "duration": 4,
    "start_time": "2021-10-20T04:20:57.969Z"
   },
   {
    "duration": 2575,
    "start_time": "2021-10-20T04:21:08.445Z"
   },
   {
    "duration": 2404,
    "start_time": "2021-10-20T04:21:11.022Z"
   },
   {
    "duration": 1257,
    "start_time": "2021-10-20T04:21:13.429Z"
   },
   {
    "duration": 1883,
    "start_time": "2021-10-20T04:21:14.688Z"
   },
   {
    "duration": 16,
    "start_time": "2021-10-20T04:21:16.572Z"
   },
   {
    "duration": 31,
    "start_time": "2021-10-20T04:21:16.590Z"
   },
   {
    "duration": 15,
    "start_time": "2021-10-20T04:21:16.624Z"
   },
   {
    "duration": 25,
    "start_time": "2021-10-20T04:21:16.641Z"
   },
   {
    "duration": 186,
    "start_time": "2021-10-20T04:21:16.669Z"
   },
   {
    "duration": 5,
    "start_time": "2021-10-20T04:21:16.857Z"
   },
   {
    "duration": 5,
    "start_time": "2021-10-20T04:21:16.864Z"
   },
   {
    "duration": 1950,
    "start_time": "2021-10-20T04:21:16.871Z"
   },
   {
    "duration": 12,
    "start_time": "2021-10-20T04:21:18.823Z"
   },
   {
    "duration": 1827,
    "start_time": "2021-10-20T04:21:33.573Z"
   },
   {
    "duration": 5,
    "start_time": "2021-10-20T04:21:42.595Z"
   },
   {
    "duration": 2532,
    "start_time": "2021-10-20T04:22:43.990Z"
   },
   {
    "duration": 2466,
    "start_time": "2021-10-20T04:22:46.524Z"
   },
   {
    "duration": 1207,
    "start_time": "2021-10-20T04:22:48.993Z"
   },
   {
    "duration": 2069,
    "start_time": "2021-10-20T04:22:50.202Z"
   },
   {
    "duration": 16,
    "start_time": "2021-10-20T04:22:52.273Z"
   },
   {
    "duration": 39,
    "start_time": "2021-10-20T04:22:52.290Z"
   },
   {
    "duration": 13,
    "start_time": "2021-10-20T04:22:52.331Z"
   },
   {
    "duration": 18,
    "start_time": "2021-10-20T04:22:52.346Z"
   },
   {
    "duration": 189,
    "start_time": "2021-10-20T04:22:52.367Z"
   },
   {
    "duration": 4,
    "start_time": "2021-10-20T04:22:52.558Z"
   },
   {
    "duration": 6,
    "start_time": "2021-10-20T04:22:52.564Z"
   },
   {
    "duration": 1957,
    "start_time": "2021-10-20T04:22:52.572Z"
   },
   {
    "duration": 9,
    "start_time": "2021-10-20T04:22:54.531Z"
   },
   {
    "duration": 20647,
    "start_time": "2021-10-20T04:23:21.299Z"
   },
   {
    "duration": 275,
    "start_time": "2021-10-20T04:25:54.825Z"
   },
   {
    "duration": 2654,
    "start_time": "2021-10-20T04:26:07.114Z"
   },
   {
    "duration": 2401,
    "start_time": "2021-10-20T04:26:09.771Z"
   },
   {
    "duration": 1223,
    "start_time": "2021-10-20T04:26:12.175Z"
   },
   {
    "duration": 1587,
    "start_time": "2021-10-20T04:26:13.400Z"
   },
   {
    "duration": 15,
    "start_time": "2021-10-20T04:26:14.989Z"
   },
   {
    "duration": 46,
    "start_time": "2021-10-20T04:26:15.006Z"
   },
   {
    "duration": 17,
    "start_time": "2021-10-20T04:26:15.054Z"
   },
   {
    "duration": 7,
    "start_time": "2021-10-20T04:26:15.073Z"
   },
   {
    "duration": 231,
    "start_time": "2021-10-20T04:26:15.082Z"
   },
   {
    "duration": 4,
    "start_time": "2021-10-20T04:26:15.315Z"
   },
   {
    "duration": 6,
    "start_time": "2021-10-20T04:26:15.320Z"
   },
   {
    "duration": 1956,
    "start_time": "2021-10-20T04:26:15.328Z"
   },
   {
    "duration": 10,
    "start_time": "2021-10-20T04:26:17.285Z"
   },
   {
    "duration": 53680,
    "start_time": "2021-10-20T04:26:21.009Z"
   },
   {
    "duration": 32133,
    "start_time": "2021-10-20T04:27:52.442Z"
   },
   {
    "duration": 72909,
    "start_time": "2021-10-20T04:28:58.792Z"
   },
   {
    "duration": 5,
    "start_time": "2021-10-20T04:42:06.812Z"
   },
   {
    "duration": 72888,
    "start_time": "2021-10-20T04:42:22.500Z"
   },
   {
    "duration": 72770,
    "start_time": "2021-10-20T04:44:25.427Z"
   },
   {
    "duration": 4,
    "start_time": "2021-10-20T04:55:13.454Z"
   },
   {
    "duration": 6241,
    "start_time": "2021-10-20T04:55:21.990Z"
   },
   {
    "duration": 503082,
    "start_time": "2021-10-20T04:56:39.901Z"
   },
   {
    "duration": 282,
    "start_time": "2021-10-20T05:46:27.332Z"
   },
   {
    "duration": 85938,
    "start_time": "2021-10-20T05:50:14.083Z"
   },
   {
    "duration": 4,
    "start_time": "2021-10-20T05:51:43.219Z"
   },
   {
    "duration": 86070,
    "start_time": "2021-10-20T05:52:26.018Z"
   },
   {
    "duration": 22,
    "start_time": "2021-10-20T05:53:55.458Z"
   },
   {
    "duration": 34,
    "start_time": "2021-10-20T05:54:14.621Z"
   },
   {
    "duration": 2759,
    "start_time": "2021-10-20T05:57:46.496Z"
   },
   {
    "duration": 2593,
    "start_time": "2021-10-20T05:57:49.257Z"
   },
   {
    "duration": 1257,
    "start_time": "2021-10-20T05:57:51.852Z"
   },
   {
    "duration": 1970,
    "start_time": "2021-10-20T05:57:53.111Z"
   },
   {
    "duration": 17,
    "start_time": "2021-10-20T05:57:55.083Z"
   },
   {
    "duration": 30,
    "start_time": "2021-10-20T05:57:55.102Z"
   },
   {
    "duration": 34,
    "start_time": "2021-10-20T05:57:55.135Z"
   },
   {
    "duration": 5,
    "start_time": "2021-10-20T05:57:55.172Z"
   },
   {
    "duration": 199,
    "start_time": "2021-10-20T05:57:55.180Z"
   },
   {
    "duration": 5,
    "start_time": "2021-10-20T05:57:55.382Z"
   },
   {
    "duration": 6,
    "start_time": "2021-10-20T05:57:55.389Z"
   },
   {
    "duration": 4,
    "start_time": "2021-10-20T05:57:55.397Z"
   },
   {
    "duration": 1990,
    "start_time": "2021-10-20T05:57:55.403Z"
   },
   {
    "duration": 12,
    "start_time": "2021-10-20T05:57:57.395Z"
   },
   {
    "duration": 1202119,
    "start_time": "2021-10-20T05:58:04.759Z"
   },
   {
    "duration": 36,
    "start_time": "2021-10-20T06:23:10.001Z"
   },
   {
    "duration": 2271,
    "start_time": "2021-10-20T06:25:18.505Z"
   },
   {
    "duration": 3782,
    "start_time": "2021-10-20T06:26:00.642Z"
   },
   {
    "duration": 3431,
    "start_time": "2021-10-20T06:26:30.872Z"
   },
   {
    "duration": 31,
    "start_time": "2021-10-20T08:02:09.277Z"
   },
   {
    "duration": 9,
    "start_time": "2021-10-20T08:02:17.732Z"
   },
   {
    "duration": 3059,
    "start_time": "2021-10-20T08:03:09.101Z"
   },
   {
    "duration": 85,
    "start_time": "2021-10-20T08:03:43.163Z"
   },
   {
    "duration": 8,
    "start_time": "2021-10-20T08:03:46.652Z"
   },
   {
    "duration": 7605,
    "start_time": "2021-10-20T08:03:59.508Z"
   },
   {
    "duration": 6607,
    "start_time": "2021-10-20T08:04:22.732Z"
   },
   {
    "duration": 6756,
    "start_time": "2021-10-20T08:05:02.659Z"
   },
   {
    "duration": 4,
    "start_time": "2021-10-20T08:05:20.707Z"
   },
   {
    "duration": 155156,
    "start_time": "2021-10-20T08:05:26.227Z"
   },
   {
    "duration": 7349,
    "start_time": "2021-10-20T08:22:39.598Z"
   },
   {
    "duration": 547,
    "start_time": "2021-10-20T08:55:38.256Z"
   },
   {
    "duration": 12591,
    "start_time": "2021-10-20T08:55:55.181Z"
   },
   {
    "duration": 675,
    "start_time": "2021-10-20T08:58:38.869Z"
   },
   {
    "duration": 248,
    "start_time": "2021-10-20T09:00:12.932Z"
   },
   {
    "duration": 39576,
    "start_time": "2021-10-20T09:01:14.170Z"
   },
   {
    "duration": 197627,
    "start_time": "2021-10-20T09:02:04.260Z"
   },
   {
    "duration": 976,
    "start_time": "2021-10-20T09:08:46.266Z"
   },
   {
    "duration": 235,
    "start_time": "2021-10-20T09:08:54.663Z"
   },
   {
    "duration": 646,
    "start_time": "2021-10-20T09:09:08.008Z"
   },
   {
    "duration": 163028,
    "start_time": "2021-10-20T09:09:32.840Z"
   },
   {
    "duration": 273,
    "start_time": "2021-10-20T10:23:32.184Z"
   },
   {
    "duration": 7755,
    "start_time": "2021-10-20T15:20:18.425Z"
   },
   {
    "duration": 4209,
    "start_time": "2021-10-20T15:20:26.183Z"
   },
   {
    "duration": 1191,
    "start_time": "2021-10-20T15:20:30.395Z"
   },
   {
    "duration": 3687,
    "start_time": "2021-10-20T15:20:31.588Z"
   },
   {
    "duration": 21,
    "start_time": "2021-10-20T15:20:35.276Z"
   },
   {
    "duration": 26,
    "start_time": "2021-10-20T15:20:35.299Z"
   },
   {
    "duration": 10,
    "start_time": "2021-10-20T15:20:35.326Z"
   },
   {
    "duration": 5,
    "start_time": "2021-10-20T15:20:35.338Z"
   },
   {
    "duration": 627,
    "start_time": "2021-10-20T15:20:35.345Z"
   },
   {
    "duration": 4,
    "start_time": "2021-10-20T15:20:35.973Z"
   },
   {
    "duration": 1890,
    "start_time": "2021-10-20T15:20:35.979Z"
   },
   {
    "duration": 9,
    "start_time": "2021-10-20T15:20:37.871Z"
   },
   {
    "duration": 2269,
    "start_time": "2021-10-20T15:30:42.548Z"
   },
   {
    "duration": 2057,
    "start_time": "2021-10-20T15:30:44.819Z"
   },
   {
    "duration": 1187,
    "start_time": "2021-10-20T15:30:46.878Z"
   },
   {
    "duration": 3122,
    "start_time": "2021-10-20T15:30:48.067Z"
   },
   {
    "duration": 15,
    "start_time": "2021-10-20T15:30:51.192Z"
   },
   {
    "duration": 22,
    "start_time": "2021-10-20T15:30:51.209Z"
   },
   {
    "duration": 11,
    "start_time": "2021-10-20T15:30:51.233Z"
   },
   {
    "duration": 3,
    "start_time": "2021-10-20T15:30:51.246Z"
   },
   {
    "duration": 196,
    "start_time": "2021-10-20T15:30:51.251Z"
   },
   {
    "duration": 5,
    "start_time": "2021-10-20T15:30:51.449Z"
   },
   {
    "duration": 1886,
    "start_time": "2021-10-20T15:30:51.456Z"
   },
   {
    "duration": 10,
    "start_time": "2021-10-20T15:30:53.343Z"
   },
   {
    "duration": 1280,
    "start_time": "2021-10-20T15:32:16.486Z"
   },
   {
    "duration": 9,
    "start_time": "2021-10-20T15:32:30.174Z"
   },
   {
    "duration": 359,
    "start_time": "2021-10-20T15:33:10.080Z"
   },
   {
    "duration": 944,
    "start_time": "2021-10-20T15:33:40.973Z"
   },
   {
    "duration": 941,
    "start_time": "2021-10-20T15:34:05.180Z"
   },
   {
    "duration": 14057,
    "start_time": "2021-10-23T17:51:13.753Z"
   },
   {
    "duration": 1813,
    "start_time": "2021-10-23T17:51:30.916Z"
   },
   {
    "duration": 4041,
    "start_time": "2021-10-23T17:51:36.658Z"
   },
   {
    "duration": 21,
    "start_time": "2021-10-23T17:51:43.057Z"
   },
   {
    "duration": 31,
    "start_time": "2021-10-23T17:51:46.194Z"
   },
   {
    "duration": 300,
    "start_time": "2021-10-23T17:51:49.249Z"
   },
   {
    "duration": 12,
    "start_time": "2021-10-23T17:51:53.430Z"
   },
   {
    "duration": 11,
    "start_time": "2021-10-23T17:51:56.045Z"
   },
   {
    "duration": 4,
    "start_time": "2021-10-23T17:52:01.391Z"
   },
   {
    "duration": 3012,
    "start_time": "2021-10-23T17:52:04.120Z"
   },
   {
    "duration": 10,
    "start_time": "2021-10-23T17:52:08.633Z"
   },
   {
    "duration": 6,
    "start_time": "2021-10-23T17:52:13.365Z"
   },
   {
    "duration": 3,
    "start_time": "2021-10-23T17:52:16.836Z"
   },
   {
    "duration": 3,
    "start_time": "2021-10-23T17:52:19.985Z"
   },
   {
    "duration": 3,
    "start_time": "2021-10-23T17:52:22.961Z"
   },
   {
    "duration": 1447,
    "start_time": "2021-10-23T17:52:30.819Z"
   },
   {
    "duration": 5268,
    "start_time": "2021-10-23T17:53:26.239Z"
   },
   {
    "duration": 1654,
    "start_time": "2021-10-23T17:53:31.510Z"
   },
   {
    "duration": 10622,
    "start_time": "2021-10-23T17:53:33.168Z"
   },
   {
    "duration": 18,
    "start_time": "2021-10-23T17:53:43.793Z"
   },
   {
    "duration": 47,
    "start_time": "2021-10-23T17:53:43.813Z"
   },
   {
    "duration": 307,
    "start_time": "2021-10-23T17:53:43.863Z"
   },
   {
    "duration": 15,
    "start_time": "2021-10-23T17:53:44.173Z"
   },
   {
    "duration": 26,
    "start_time": "2021-10-23T17:53:44.191Z"
   },
   {
    "duration": 4,
    "start_time": "2021-10-23T17:53:44.222Z"
   },
   {
    "duration": 3063,
    "start_time": "2021-10-23T17:53:44.229Z"
   },
   {
    "duration": 11,
    "start_time": "2021-10-23T17:53:47.295Z"
   },
   {
    "duration": 7,
    "start_time": "2021-10-23T17:53:47.308Z"
   },
   {
    "duration": 1603,
    "start_time": "2021-10-23T17:53:47.318Z"
   },
   {
    "duration": -548,
    "start_time": "2021-10-23T17:53:49.471Z"
   },
   {
    "duration": -549,
    "start_time": "2021-10-23T17:53:49.474Z"
   },
   {
    "duration": -550,
    "start_time": "2021-10-23T17:53:49.476Z"
   },
   {
    "duration": 1055,
    "start_time": "2021-10-23T17:54:30.167Z"
   },
   {
    "duration": 28709,
    "start_time": "2021-10-23T17:54:40.842Z"
   },
   {
    "duration": 518,
    "start_time": "2021-10-23T17:56:50.381Z"
   },
   {
    "duration": 9923,
    "start_time": "2021-10-23T17:58:57.481Z"
   },
   {
    "duration": 1524,
    "start_time": "2021-10-23T18:00:40.201Z"
   },
   {
    "duration": 6749,
    "start_time": "2021-10-23T18:01:01.652Z"
   },
   {
    "duration": 4203,
    "start_time": "2021-10-23T18:01:25.157Z"
   },
   {
    "duration": 4064,
    "start_time": "2021-10-23T18:04:06.117Z"
   },
   {
    "duration": 1737,
    "start_time": "2021-10-23T18:04:10.184Z"
   },
   {
    "duration": 5777,
    "start_time": "2021-10-23T18:04:11.924Z"
   },
   {
    "duration": 19,
    "start_time": "2021-10-23T18:04:17.703Z"
   },
   {
    "duration": 50,
    "start_time": "2021-10-23T18:04:17.725Z"
   },
   {
    "duration": 290,
    "start_time": "2021-10-23T18:04:17.777Z"
   },
   {
    "duration": 13,
    "start_time": "2021-10-23T18:04:18.069Z"
   },
   {
    "duration": 28,
    "start_time": "2021-10-23T18:04:18.084Z"
   },
   {
    "duration": 15,
    "start_time": "2021-10-23T18:04:18.116Z"
   },
   {
    "duration": 3107,
    "start_time": "2021-10-23T18:04:18.134Z"
   },
   {
    "duration": 16,
    "start_time": "2021-10-23T18:04:21.243Z"
   },
   {
    "duration": 21,
    "start_time": "2021-10-23T18:04:21.261Z"
   },
   {
    "duration": 26,
    "start_time": "2021-10-23T18:04:21.285Z"
   },
   {
    "duration": 22,
    "start_time": "2021-10-23T18:04:21.314Z"
   },
   {
    "duration": 5,
    "start_time": "2021-10-23T18:04:21.339Z"
   },
   {
    "duration": 3183,
    "start_time": "2021-10-23T18:04:21.347Z"
   },
   {
    "duration": 105,
    "start_time": "2021-10-23T18:04:24.532Z"
   },
   {
    "duration": 6,
    "start_time": "2021-10-23T18:04:24.640Z"
   },
   {
    "duration": 10453,
    "start_time": "2021-10-23T18:04:24.648Z"
   }
  ],
  "kernelspec": {
   "display_name": "Python 3 (ipykernel)",
   "language": "python",
   "name": "python3"
  },
  "language_info": {
   "codemirror_mode": {
    "name": "ipython",
    "version": 3
   },
   "file_extension": ".py",
   "mimetype": "text/x-python",
   "name": "python",
   "nbconvert_exporter": "python",
   "pygments_lexer": "ipython3",
   "version": "3.9.6"
  },
  "toc": {
   "base_numbering": 1,
   "nav_menu": {},
   "number_sections": true,
   "sideBar": true,
   "skip_h1_title": true,
   "title_cell": "Содержание",
   "title_sidebar": "Contents",
   "toc_cell": true,
   "toc_position": {
    "height": "calc(100% - 180px)",
    "left": "10px",
    "top": "150px",
    "width": "208.391px"
   },
   "toc_section_display": true,
   "toc_window_display": true
  }
 },
 "nbformat": 4,
 "nbformat_minor": 2
}
