{
 "cells": [
  {
   "cell_type": "markdown",
   "metadata": {},
   "source": [
    "# Выбор локации для скважины"
   ]
  },
  {
   "cell_type": "markdown",
   "metadata": {},
   "source": [
    "**Описание задачи:**\n",
    "\n",
    "Нефтедобывающей компании нужно решить, где бурить новую скважину.\n",
    "\n",
    "Для анализа предоставлены пробы нефти в трёх регионах: в каждом 10 000 месторождений, где измерено качество нефти и объём её запасов. \n",
    "\n",
    "Необходимо построить модель машинного обучения, которая поможет определить регион, где добыча принесёт наибольшую прибыль. Возможная прибыль и риски должны быть проанализированы техникой *Bootstrap.*\n",
    "\n",
    "Шаги для выбора локации:\n",
    "\n",
    "- В избранном регионе ищут месторождения, для каждого определяют значения признаков;\n",
    "- Строят модель и оценивают объём запасов;\n",
    "- Выбирают месторождения с самым высокими оценками значений. Количество месторождений зависит от бюджета компании и стоимости разработки одной скважины;\n",
    "- Прибыль равна суммарной прибыли отобранных месторождений.\n",
    "\n",
    "**Условия задачи:**\n",
    "\n",
    "- Для обучения модели подходит только линейная регрессия (остальные — недостаточно предсказуемые);\n",
    "- При разведке региона исследуют 500 точек, из которых с помощью машинного обучения выбирают 200 лучших для разработки;\n",
    "- Бюджет на разработку скважин в регионе — 10 млрд рублей;\n",
    "- При нынешних ценах один баррель сырья приносит 450 рублей дохода. Доход с каждой единицы продукта составляет 450 тыс. рублей, поскольку объём указан в тысячах баррелей;\n",
    "- После оценки рисков нужно оставить лишь те регионы, в которых вероятность убытков меньше 2.5%. Среди них выбирают регион с наибольшей средней прибылью."
   ]
  },
  {
   "cell_type": "markdown",
   "metadata": {
    "toc": true
   },
   "source": [
    "<h1>Содержание<span class=\"tocSkip\"></span></h1>\n",
    "<div class=\"toc\"><ul class=\"toc-item\"><li><span><a href=\"#Загрузка-и-подготовка-данных\" data-toc-modified-id=\"Загрузка-и-подготовка-данных-1\"><span class=\"toc-item-num\">1&nbsp;&nbsp;</span>Загрузка и подготовка данных</a></span><ul class=\"toc-item\"><li><span><a href=\"#Загрузка-данных\" data-toc-modified-id=\"Загрузка-данных-1.1\"><span class=\"toc-item-num\">1.1&nbsp;&nbsp;</span>Загрузка данных</a></span></li><li><span><a href=\"#Изучение-данных\" data-toc-modified-id=\"Изучение-данных-1.2\"><span class=\"toc-item-num\">1.2&nbsp;&nbsp;</span>Изучение данных</a></span></li><li><span><a href=\"#Подготовка-данных\" data-toc-modified-id=\"Подготовка-данных-1.3\"><span class=\"toc-item-num\">1.3&nbsp;&nbsp;</span>Подготовка данных</a></span></li></ul></li><li><span><a href=\"#Обучение-и-проверка-моделей\" data-toc-modified-id=\"Обучение-и-проверка-моделей-2\"><span class=\"toc-item-num\">2&nbsp;&nbsp;</span>Обучение и проверка моделей</a></span><ul class=\"toc-item\"><li><span><a href=\"#Регион-1\" data-toc-modified-id=\"Регион-1-2.1\"><span class=\"toc-item-num\">2.1&nbsp;&nbsp;</span>Регион-1</a></span></li><li><span><a href=\"#Регион-2\" data-toc-modified-id=\"Регион-2-2.2\"><span class=\"toc-item-num\">2.2&nbsp;&nbsp;</span>Регион-2</a></span></li><li><span><a href=\"#Регион-3\" data-toc-modified-id=\"Регион-3-2.3\"><span class=\"toc-item-num\">2.3&nbsp;&nbsp;</span>Регион-3</a></span></li></ul></li><li><span><a href=\"#Подготовка-к-расчёту-прибыли\" data-toc-modified-id=\"Подготовка-к-расчёту-прибыли-3\"><span class=\"toc-item-num\">3&nbsp;&nbsp;</span>Подготовка к расчёту прибыли</a></span></li><li><span><a href=\"#Расчёт-прибыли-и-рисков\" data-toc-modified-id=\"Расчёт-прибыли-и-рисков-4\"><span class=\"toc-item-num\">4&nbsp;&nbsp;</span>Расчёт прибыли и рисков</a></span><ul class=\"toc-item\"><li><span><a href=\"#Расчёт-прибыли\" data-toc-modified-id=\"Расчёт-прибыли-4.1\"><span class=\"toc-item-num\">4.1&nbsp;&nbsp;</span>Расчёт прибыли</a></span></li><li><span><a href=\"#Расчёт-рисков\" data-toc-modified-id=\"Расчёт-рисков-4.2\"><span class=\"toc-item-num\">4.2&nbsp;&nbsp;</span>Расчёт рисков</a></span></li></ul></li><li><span><a href=\"#Общий-вывод\" data-toc-modified-id=\"Общий-вывод-5\"><span class=\"toc-item-num\">5&nbsp;&nbsp;</span>Общий вывод</a></span></li></ul></div>"
   ]
  },
  {
   "cell_type": "markdown",
   "metadata": {},
   "source": [
    "## Загрузка и подготовка данных"
   ]
  },
  {
   "cell_type": "markdown",
   "metadata": {},
   "source": [
    "### Загрузка данных"
   ]
  },
  {
   "cell_type": "markdown",
   "metadata": {},
   "source": [
    "Импортируем необходимые для работы библиотеки:"
   ]
  },
  {
   "cell_type": "code",
   "execution_count": 100,
   "metadata": {},
   "outputs": [],
   "source": [
    "import pandas as pd\n",
    "import numpy as np\n",
    "import matplotlib.pyplot as plt\n",
    "from sklearn.model_selection import train_test_split\n",
    "from sklearn.preprocessing import OrdinalEncoder\n",
    "from sklearn.preprocessing import StandardScaler\n",
    "from sklearn.linear_model import LinearRegression\n",
    "from sklearn.metrics import mean_squared_error, r2_score"
   ]
  },
  {
   "cell_type": "markdown",
   "metadata": {},
   "source": [
    "Загрузим данные:"
   ]
  },
  {
   "cell_type": "code",
   "execution_count": 101,
   "metadata": {},
   "outputs": [],
   "source": [
    "geodata_1 = pd.read_csv('https://code.s3.yandex.net/datasets/geo_data_0.csv')\n",
    "geodata_2 = pd.read_csv('https://code.s3.yandex.net/datasets/geo_data_1.csv')\n",
    "geodata_3 = pd.read_csv('https://code.s3.yandex.net/datasets/geo_data_2.csv')"
   ]
  },
  {
   "cell_type": "markdown",
   "metadata": {},
   "source": [
    "### Изучение данных"
   ]
  },
  {
   "cell_type": "markdown",
   "metadata": {},
   "source": [
    "Выведем на экран первые 5 строк каждого из датасетов, а также общую информацию о данных:"
   ]
  },
  {
   "cell_type": "code",
   "execution_count": 102,
   "metadata": {},
   "outputs": [
    {
     "data": {
      "text/html": [
       "<div>\n",
       "<style scoped>\n",
       "    .dataframe tbody tr th:only-of-type {\n",
       "        vertical-align: middle;\n",
       "    }\n",
       "\n",
       "    .dataframe tbody tr th {\n",
       "        vertical-align: top;\n",
       "    }\n",
       "\n",
       "    .dataframe thead th {\n",
       "        text-align: right;\n",
       "    }\n",
       "</style>\n",
       "<table border=\"1\" class=\"dataframe\">\n",
       "  <thead>\n",
       "    <tr style=\"text-align: right;\">\n",
       "      <th></th>\n",
       "      <th>id</th>\n",
       "      <th>f0</th>\n",
       "      <th>f1</th>\n",
       "      <th>f2</th>\n",
       "      <th>product</th>\n",
       "    </tr>\n",
       "  </thead>\n",
       "  <tbody>\n",
       "    <tr>\n",
       "      <td>0</td>\n",
       "      <td>txEyH</td>\n",
       "      <td>0.705745</td>\n",
       "      <td>-0.497823</td>\n",
       "      <td>1.221170</td>\n",
       "      <td>105.280062</td>\n",
       "    </tr>\n",
       "    <tr>\n",
       "      <td>1</td>\n",
       "      <td>2acmU</td>\n",
       "      <td>1.334711</td>\n",
       "      <td>-0.340164</td>\n",
       "      <td>4.365080</td>\n",
       "      <td>73.037750</td>\n",
       "    </tr>\n",
       "    <tr>\n",
       "      <td>2</td>\n",
       "      <td>409Wp</td>\n",
       "      <td>1.022732</td>\n",
       "      <td>0.151990</td>\n",
       "      <td>1.419926</td>\n",
       "      <td>85.265647</td>\n",
       "    </tr>\n",
       "    <tr>\n",
       "      <td>3</td>\n",
       "      <td>iJLyR</td>\n",
       "      <td>-0.032172</td>\n",
       "      <td>0.139033</td>\n",
       "      <td>2.978566</td>\n",
       "      <td>168.620776</td>\n",
       "    </tr>\n",
       "    <tr>\n",
       "      <td>4</td>\n",
       "      <td>Xdl7t</td>\n",
       "      <td>1.988431</td>\n",
       "      <td>0.155413</td>\n",
       "      <td>4.751769</td>\n",
       "      <td>154.036647</td>\n",
       "    </tr>\n",
       "  </tbody>\n",
       "</table>\n",
       "</div>"
      ],
      "text/plain": [
       "      id        f0        f1        f2     product\n",
       "0  txEyH  0.705745 -0.497823  1.221170  105.280062\n",
       "1  2acmU  1.334711 -0.340164  4.365080   73.037750\n",
       "2  409Wp  1.022732  0.151990  1.419926   85.265647\n",
       "3  iJLyR -0.032172  0.139033  2.978566  168.620776\n",
       "4  Xdl7t  1.988431  0.155413  4.751769  154.036647"
      ]
     },
     "metadata": {},
     "output_type": "display_data"
    },
    {
     "name": "stdout",
     "output_type": "stream",
     "text": [
      "<class 'pandas.core.frame.DataFrame'>\n",
      "RangeIndex: 100000 entries, 0 to 99999\n",
      "Data columns (total 5 columns):\n",
      "id         100000 non-null object\n",
      "f0         100000 non-null float64\n",
      "f1         100000 non-null float64\n",
      "f2         100000 non-null float64\n",
      "product    100000 non-null float64\n",
      "dtypes: float64(4), object(1)\n",
      "memory usage: 3.8+ MB\n"
     ]
    },
    {
     "data": {
      "text/html": [
       "<div>\n",
       "<style scoped>\n",
       "    .dataframe tbody tr th:only-of-type {\n",
       "        vertical-align: middle;\n",
       "    }\n",
       "\n",
       "    .dataframe tbody tr th {\n",
       "        vertical-align: top;\n",
       "    }\n",
       "\n",
       "    .dataframe thead th {\n",
       "        text-align: right;\n",
       "    }\n",
       "</style>\n",
       "<table border=\"1\" class=\"dataframe\">\n",
       "  <thead>\n",
       "    <tr style=\"text-align: right;\">\n",
       "      <th></th>\n",
       "      <th>id</th>\n",
       "      <th>f0</th>\n",
       "      <th>f1</th>\n",
       "      <th>f2</th>\n",
       "      <th>product</th>\n",
       "    </tr>\n",
       "  </thead>\n",
       "  <tbody>\n",
       "    <tr>\n",
       "      <td>0</td>\n",
       "      <td>kBEdx</td>\n",
       "      <td>-15.001348</td>\n",
       "      <td>-8.276000</td>\n",
       "      <td>-0.005876</td>\n",
       "      <td>3.179103</td>\n",
       "    </tr>\n",
       "    <tr>\n",
       "      <td>1</td>\n",
       "      <td>62mP7</td>\n",
       "      <td>14.272088</td>\n",
       "      <td>-3.475083</td>\n",
       "      <td>0.999183</td>\n",
       "      <td>26.953261</td>\n",
       "    </tr>\n",
       "    <tr>\n",
       "      <td>2</td>\n",
       "      <td>vyE1P</td>\n",
       "      <td>6.263187</td>\n",
       "      <td>-5.948386</td>\n",
       "      <td>5.001160</td>\n",
       "      <td>134.766305</td>\n",
       "    </tr>\n",
       "    <tr>\n",
       "      <td>3</td>\n",
       "      <td>KcrkZ</td>\n",
       "      <td>-13.081196</td>\n",
       "      <td>-11.506057</td>\n",
       "      <td>4.999415</td>\n",
       "      <td>137.945408</td>\n",
       "    </tr>\n",
       "    <tr>\n",
       "      <td>4</td>\n",
       "      <td>AHL4O</td>\n",
       "      <td>12.702195</td>\n",
       "      <td>-8.147433</td>\n",
       "      <td>5.004363</td>\n",
       "      <td>134.766305</td>\n",
       "    </tr>\n",
       "  </tbody>\n",
       "</table>\n",
       "</div>"
      ],
      "text/plain": [
       "      id         f0         f1        f2     product\n",
       "0  kBEdx -15.001348  -8.276000 -0.005876    3.179103\n",
       "1  62mP7  14.272088  -3.475083  0.999183   26.953261\n",
       "2  vyE1P   6.263187  -5.948386  5.001160  134.766305\n",
       "3  KcrkZ -13.081196 -11.506057  4.999415  137.945408\n",
       "4  AHL4O  12.702195  -8.147433  5.004363  134.766305"
      ]
     },
     "metadata": {},
     "output_type": "display_data"
    },
    {
     "name": "stdout",
     "output_type": "stream",
     "text": [
      "<class 'pandas.core.frame.DataFrame'>\n",
      "RangeIndex: 100000 entries, 0 to 99999\n",
      "Data columns (total 5 columns):\n",
      "id         100000 non-null object\n",
      "f0         100000 non-null float64\n",
      "f1         100000 non-null float64\n",
      "f2         100000 non-null float64\n",
      "product    100000 non-null float64\n",
      "dtypes: float64(4), object(1)\n",
      "memory usage: 3.8+ MB\n"
     ]
    },
    {
     "data": {
      "text/html": [
       "<div>\n",
       "<style scoped>\n",
       "    .dataframe tbody tr th:only-of-type {\n",
       "        vertical-align: middle;\n",
       "    }\n",
       "\n",
       "    .dataframe tbody tr th {\n",
       "        vertical-align: top;\n",
       "    }\n",
       "\n",
       "    .dataframe thead th {\n",
       "        text-align: right;\n",
       "    }\n",
       "</style>\n",
       "<table border=\"1\" class=\"dataframe\">\n",
       "  <thead>\n",
       "    <tr style=\"text-align: right;\">\n",
       "      <th></th>\n",
       "      <th>id</th>\n",
       "      <th>f0</th>\n",
       "      <th>f1</th>\n",
       "      <th>f2</th>\n",
       "      <th>product</th>\n",
       "    </tr>\n",
       "  </thead>\n",
       "  <tbody>\n",
       "    <tr>\n",
       "      <td>0</td>\n",
       "      <td>fwXo0</td>\n",
       "      <td>-1.146987</td>\n",
       "      <td>0.963328</td>\n",
       "      <td>-0.828965</td>\n",
       "      <td>27.758673</td>\n",
       "    </tr>\n",
       "    <tr>\n",
       "      <td>1</td>\n",
       "      <td>WJtFt</td>\n",
       "      <td>0.262778</td>\n",
       "      <td>0.269839</td>\n",
       "      <td>-2.530187</td>\n",
       "      <td>56.069697</td>\n",
       "    </tr>\n",
       "    <tr>\n",
       "      <td>2</td>\n",
       "      <td>ovLUW</td>\n",
       "      <td>0.194587</td>\n",
       "      <td>0.289035</td>\n",
       "      <td>-5.586433</td>\n",
       "      <td>62.871910</td>\n",
       "    </tr>\n",
       "    <tr>\n",
       "      <td>3</td>\n",
       "      <td>q6cA6</td>\n",
       "      <td>2.236060</td>\n",
       "      <td>-0.553760</td>\n",
       "      <td>0.930038</td>\n",
       "      <td>114.572842</td>\n",
       "    </tr>\n",
       "    <tr>\n",
       "      <td>4</td>\n",
       "      <td>WPMUX</td>\n",
       "      <td>-0.515993</td>\n",
       "      <td>1.716266</td>\n",
       "      <td>5.899011</td>\n",
       "      <td>149.600746</td>\n",
       "    </tr>\n",
       "  </tbody>\n",
       "</table>\n",
       "</div>"
      ],
      "text/plain": [
       "      id        f0        f1        f2     product\n",
       "0  fwXo0 -1.146987  0.963328 -0.828965   27.758673\n",
       "1  WJtFt  0.262778  0.269839 -2.530187   56.069697\n",
       "2  ovLUW  0.194587  0.289035 -5.586433   62.871910\n",
       "3  q6cA6  2.236060 -0.553760  0.930038  114.572842\n",
       "4  WPMUX -0.515993  1.716266  5.899011  149.600746"
      ]
     },
     "metadata": {},
     "output_type": "display_data"
    },
    {
     "name": "stdout",
     "output_type": "stream",
     "text": [
      "<class 'pandas.core.frame.DataFrame'>\n",
      "RangeIndex: 100000 entries, 0 to 99999\n",
      "Data columns (total 5 columns):\n",
      "id         100000 non-null object\n",
      "f0         100000 non-null float64\n",
      "f1         100000 non-null float64\n",
      "f2         100000 non-null float64\n",
      "product    100000 non-null float64\n",
      "dtypes: float64(4), object(1)\n",
      "memory usage: 3.8+ MB\n"
     ]
    }
   ],
   "source": [
    "display(geodata_1.head())\n",
    "geodata_1.info()\n",
    "display(geodata_2.head())\n",
    "geodata_2.info()\n",
    "display(geodata_3.head())\n",
    "geodata_3.info()"
   ]
  },
  {
   "cell_type": "markdown",
   "metadata": {},
   "source": [
    "Проверим, есть ли в датасетах грубые дубликаты:"
   ]
  },
  {
   "cell_type": "code",
   "execution_count": 103,
   "metadata": {
    "scrolled": true
   },
   "outputs": [
    {
     "name": "stdout",
     "output_type": "stream",
     "text": [
      "0\n",
      "0\n",
      "0\n"
     ]
    }
   ],
   "source": [
    "print(geodata_1.duplicated().sum())\n",
    "print(geodata_2.duplicated().sum())\n",
    "print(geodata_3.duplicated().sum())"
   ]
  },
  {
   "cell_type": "markdown",
   "metadata": {},
   "source": [
    "###### Вывод\n",
    "\n",
    "Рассмотрены три датасета, содержащих данные геологоразведки трёх регионов.\n",
    "\n",
    "В каждом датасете по 5 столбцов со следующими типами данных: *float64, object*.\n",
    "\n",
    "Каждый объект в наборе данных — это характеристики скважин. Известно:\n",
    "\n",
    "- ***id*** — уникальный идентификатор скважины;\n",
    "- ***f0, f1, f2*** — признаки точек неизвестного назначения, но по условиям задачи считающиеся значимыми;\n",
    "- ***product*** — объём запасов в скважине, тыс. баррелей.\n",
    "\n",
    "Столбцы ***id*** вряд ли как-то связаны с объемом запасов нефти в скважинах, поэтому при дальнейшей обработке исключим данные столбцы из выборок.\n",
    "\n",
    "Пропуски в датасетах отсутствуют.\n",
    "\n",
    "Грубые дубликаты в датасетах отсутствуют."
   ]
  },
  {
   "cell_type": "markdown",
   "metadata": {},
   "source": [
    "### Подготовка данных"
   ]
  },
  {
   "cell_type": "markdown",
   "metadata": {},
   "source": [
    "Удалим из датасетов столбцы с уникальным идентификатором скважин:"
   ]
  },
  {
   "cell_type": "code",
   "execution_count": 104,
   "metadata": {},
   "outputs": [],
   "source": [
    "geodata_1 = geodata_1.drop('id', axis = 1)\n",
    "geodata_2 = geodata_2.drop('id', axis = 1)\n",
    "geodata_3 = geodata_3.drop('id', axis = 1)"
   ]
  },
  {
   "cell_type": "markdown",
   "metadata": {},
   "source": [
    "Выведем на экран первые строчки обновленных датасетов:"
   ]
  },
  {
   "cell_type": "code",
   "execution_count": 105,
   "metadata": {
    "scrolled": true
   },
   "outputs": [
    {
     "data": {
      "text/html": [
       "<div>\n",
       "<style scoped>\n",
       "    .dataframe tbody tr th:only-of-type {\n",
       "        vertical-align: middle;\n",
       "    }\n",
       "\n",
       "    .dataframe tbody tr th {\n",
       "        vertical-align: top;\n",
       "    }\n",
       "\n",
       "    .dataframe thead th {\n",
       "        text-align: right;\n",
       "    }\n",
       "</style>\n",
       "<table border=\"1\" class=\"dataframe\">\n",
       "  <thead>\n",
       "    <tr style=\"text-align: right;\">\n",
       "      <th></th>\n",
       "      <th>f0</th>\n",
       "      <th>f1</th>\n",
       "      <th>f2</th>\n",
       "      <th>product</th>\n",
       "    </tr>\n",
       "  </thead>\n",
       "  <tbody>\n",
       "    <tr>\n",
       "      <td>0</td>\n",
       "      <td>0.705745</td>\n",
       "      <td>-0.497823</td>\n",
       "      <td>1.22117</td>\n",
       "      <td>105.280062</td>\n",
       "    </tr>\n",
       "  </tbody>\n",
       "</table>\n",
       "</div>"
      ],
      "text/plain": [
       "         f0        f1       f2     product\n",
       "0  0.705745 -0.497823  1.22117  105.280062"
      ]
     },
     "metadata": {},
     "output_type": "display_data"
    },
    {
     "data": {
      "text/html": [
       "<div>\n",
       "<style scoped>\n",
       "    .dataframe tbody tr th:only-of-type {\n",
       "        vertical-align: middle;\n",
       "    }\n",
       "\n",
       "    .dataframe tbody tr th {\n",
       "        vertical-align: top;\n",
       "    }\n",
       "\n",
       "    .dataframe thead th {\n",
       "        text-align: right;\n",
       "    }\n",
       "</style>\n",
       "<table border=\"1\" class=\"dataframe\">\n",
       "  <thead>\n",
       "    <tr style=\"text-align: right;\">\n",
       "      <th></th>\n",
       "      <th>f0</th>\n",
       "      <th>f1</th>\n",
       "      <th>f2</th>\n",
       "      <th>product</th>\n",
       "    </tr>\n",
       "  </thead>\n",
       "  <tbody>\n",
       "    <tr>\n",
       "      <td>0</td>\n",
       "      <td>-15.001348</td>\n",
       "      <td>-8.276</td>\n",
       "      <td>-0.005876</td>\n",
       "      <td>3.179103</td>\n",
       "    </tr>\n",
       "  </tbody>\n",
       "</table>\n",
       "</div>"
      ],
      "text/plain": [
       "          f0     f1        f2   product\n",
       "0 -15.001348 -8.276 -0.005876  3.179103"
      ]
     },
     "metadata": {},
     "output_type": "display_data"
    },
    {
     "data": {
      "text/html": [
       "<div>\n",
       "<style scoped>\n",
       "    .dataframe tbody tr th:only-of-type {\n",
       "        vertical-align: middle;\n",
       "    }\n",
       "\n",
       "    .dataframe tbody tr th {\n",
       "        vertical-align: top;\n",
       "    }\n",
       "\n",
       "    .dataframe thead th {\n",
       "        text-align: right;\n",
       "    }\n",
       "</style>\n",
       "<table border=\"1\" class=\"dataframe\">\n",
       "  <thead>\n",
       "    <tr style=\"text-align: right;\">\n",
       "      <th></th>\n",
       "      <th>f0</th>\n",
       "      <th>f1</th>\n",
       "      <th>f2</th>\n",
       "      <th>product</th>\n",
       "    </tr>\n",
       "  </thead>\n",
       "  <tbody>\n",
       "    <tr>\n",
       "      <td>0</td>\n",
       "      <td>-1.146987</td>\n",
       "      <td>0.963328</td>\n",
       "      <td>-0.828965</td>\n",
       "      <td>27.758673</td>\n",
       "    </tr>\n",
       "  </tbody>\n",
       "</table>\n",
       "</div>"
      ],
      "text/plain": [
       "         f0        f1        f2    product\n",
       "0 -1.146987  0.963328 -0.828965  27.758673"
      ]
     },
     "metadata": {},
     "output_type": "display_data"
    }
   ],
   "source": [
    "display(geodata_1.head(1))\n",
    "display(geodata_2.head(1))\n",
    "display(geodata_3.head(1))"
   ]
  },
  {
   "cell_type": "markdown",
   "metadata": {},
   "source": [
    "Столбцы ***id*** успешно удалены."
   ]
  },
  {
   "cell_type": "markdown",
   "metadata": {},
   "source": [
    "В датасетах ***geodata_0***,***geodata_1***,***geodata_2***, столбец ***product*** содержит информацию об объеме запасов нефти в скважинах. Выделим данный столбец в целевой признак: задачей обученной модели будет предсказание объёмов запаса нефти в скважинах. \n",
    "\n",
    "Выделим признаки:"
   ]
  },
  {
   "cell_type": "code",
   "execution_count": 106,
   "metadata": {},
   "outputs": [],
   "source": [
    "features_geo1 = geodata_1.drop(['product'], axis = 1)\n",
    "features_geo2 = geodata_2.drop(['product'], axis = 1)\n",
    "features_geo3 = geodata_3.drop(['product'], axis = 1)\n",
    "\n",
    "target_geo1 = geodata_1['product']\n",
    "target_geo2 = geodata_2['product']\n",
    "target_geo3 = geodata_3['product']"
   ]
  },
  {
   "cell_type": "markdown",
   "metadata": {},
   "source": [
    "Для контроля переобучения и правильной оценки готовой модели разделим данные каждого региона на обучающие и валидационные выборки в следующем соотношении:\n",
    "\n",
    " - Обучающая выборка: 75%;\n",
    " - Валидационная выборка: 25%."
   ]
  },
  {
   "cell_type": "markdown",
   "metadata": {},
   "source": [
    "Напишем функцию для разделения признаков на обучающие и валидационные:"
   ]
  },
  {
   "cell_type": "code",
   "execution_count": 107,
   "metadata": {},
   "outputs": [],
   "source": [
    "def split_data(features, target):\n",
    "    \n",
    "    features_train,features_valid,target_train,target_valid = train_test_split(\n",
    "        features,\n",
    "        target,\n",
    "        test_size = 0.25,\n",
    "        random_state = 12345)\n",
    "    \n",
    "    return features_train,features_valid,target_train,target_valid"
   ]
  },
  {
   "cell_type": "markdown",
   "metadata": {},
   "source": [
    "Разделим признаки на обучающие и валидационные"
   ]
  },
  {
   "cell_type": "code",
   "execution_count": 108,
   "metadata": {},
   "outputs": [],
   "source": [
    "features_train_geo1, features_valid_geo1, target_train_geo1, target_valid_geo1 = split_data(\n",
    "    features_geo1,\n",
    "    target_geo1\n",
    ")\n",
    "\n",
    "features_train_geo2, features_valid_geo2, target_train_geo2, target_valid_geo2 = split_data(\n",
    "    features_geo2,\n",
    "    target_geo2\n",
    ")\n",
    "\n",
    "features_train_geo3, features_valid_geo3, target_train_geo3, target_valid_geo3 = split_data(\n",
    "    features_geo3,\n",
    "    target_geo3\n",
    ")"
   ]
  },
  {
   "cell_type": "markdown",
   "metadata": {},
   "source": [
    "Проверим правильность разделения признаков на примере данных первого региона:"
   ]
  },
  {
   "cell_type": "code",
   "execution_count": 109,
   "metadata": {
    "scrolled": false
   },
   "outputs": [
    {
     "name": "stdout",
     "output_type": "stream",
     "text": [
      "Размер обучающей таблицы признаков: (75000, 3)\n",
      "Размер обучающей таблицы с целевым признаком: (75000,)\n",
      "Размер валидационной таблицы признаков: (25000, 3)\n",
      "Размер валидационной таблицы с целевым признаком: (25000,)\n"
     ]
    }
   ],
   "source": [
    "print('Размер обучающей таблицы признаков:',features_train_geo1.shape)\n",
    "print('Размер обучающей таблицы с целевым признаком:',target_train_geo1.shape)\n",
    "print('Размер валидационной таблицы признаков:',features_valid_geo1.shape)\n",
    "print('Размер валидационной таблицы с целевым признаком:',target_valid_geo1.shape)"
   ]
  },
  {
   "cell_type": "markdown",
   "metadata": {},
   "source": [
    "Алгоритм, с которым мы будем работать, ***Линейная регрессия***, относится к линейным алгоритмам. При разном масштабе признаков линейные алгоритмы обучения могут сильнее выделять те или иные признаки. Для того, чтобы алгоритм воспринимал значимость каждого из признаков одинаково, необходимо их стандартизировать. Проведем стандартизацию:"
   ]
  },
  {
   "cell_type": "markdown",
   "metadata": {},
   "source": [
    "Напишем функцию для стандартизации признаков:"
   ]
  },
  {
   "cell_type": "code",
   "execution_count": 110,
   "metadata": {},
   "outputs": [],
   "source": [
    "scaler = StandardScaler()\n",
    "\n",
    "def standardize(features_train, features_valid):\n",
    "    \n",
    "    scaler.fit(features_train)\n",
    "    features_train = pd.DataFrame(\n",
    "        scaler.transform(features_train),\n",
    "        columns = features_geo1.columns\n",
    "    )\n",
    "    \n",
    "    features_valid = pd.DataFrame(\n",
    "        scaler.transform(features_valid),\n",
    "        columns = features_geo1.columns\n",
    "    )\n",
    "    \n",
    "    return features_train, features_valid"
   ]
  },
  {
   "cell_type": "markdown",
   "metadata": {},
   "source": [
    "Стандартизируем признаки каждого из регионов:"
   ]
  },
  {
   "cell_type": "code",
   "execution_count": 111,
   "metadata": {},
   "outputs": [],
   "source": [
    "features_train_geo1,features_valid_geo1 = standardize(\n",
    "    features_train_geo1,\n",
    "    features_valid_geo1\n",
    ")\n",
    "\n",
    "features_train_geo2,features_valid_geo2 = standardize(\n",
    "    features_train_geo2,\n",
    "    features_valid_geo2\n",
    ")\n",
    "\n",
    "features_train_geo3,features_valid_geo3 = standardize(\n",
    "    features_train_geo3,\n",
    "    features_valid_geo3\n",
    ")"
   ]
  },
  {
   "cell_type": "code",
   "execution_count": 112,
   "metadata": {
    "scrolled": false
   },
   "outputs": [
    {
     "data": {
      "text/html": [
       "<div>\n",
       "<style scoped>\n",
       "    .dataframe tbody tr th:only-of-type {\n",
       "        vertical-align: middle;\n",
       "    }\n",
       "\n",
       "    .dataframe tbody tr th {\n",
       "        vertical-align: top;\n",
       "    }\n",
       "\n",
       "    .dataframe thead th {\n",
       "        text-align: right;\n",
       "    }\n",
       "</style>\n",
       "<table border=\"1\" class=\"dataframe\">\n",
       "  <thead>\n",
       "    <tr style=\"text-align: right;\">\n",
       "      <th></th>\n",
       "      <th>f0</th>\n",
       "      <th>f1</th>\n",
       "      <th>f2</th>\n",
       "    </tr>\n",
       "  </thead>\n",
       "  <tbody>\n",
       "    <tr>\n",
       "      <td>count</td>\n",
       "      <td>7.500000e+04</td>\n",
       "      <td>7.500000e+04</td>\n",
       "      <td>7.500000e+04</td>\n",
       "    </tr>\n",
       "    <tr>\n",
       "      <td>mean</td>\n",
       "      <td>1.704118e-16</td>\n",
       "      <td>-3.349025e-17</td>\n",
       "      <td>6.252776e-18</td>\n",
       "    </tr>\n",
       "    <tr>\n",
       "      <td>std</td>\n",
       "      <td>1.000007e+00</td>\n",
       "      <td>1.000007e+00</td>\n",
       "      <td>1.000007e+00</td>\n",
       "    </tr>\n",
       "    <tr>\n",
       "      <td>min</td>\n",
       "      <td>-2.186288e+00</td>\n",
       "      <td>-2.178269e+00</td>\n",
       "      <td>-3.890945e+00</td>\n",
       "    </tr>\n",
       "    <tr>\n",
       "      <td>25%</td>\n",
       "      <td>-6.575544e-01</td>\n",
       "      <td>-8.925344e-01</td>\n",
       "      <td>-6.799576e-01</td>\n",
       "    </tr>\n",
       "    <tr>\n",
       "      <td>50%</td>\n",
       "      <td>1.878842e-03</td>\n",
       "      <td>-7.407961e-04</td>\n",
       "      <td>4.288679e-03</td>\n",
       "    </tr>\n",
       "    <tr>\n",
       "      <td>75%</td>\n",
       "      <td>6.571176e-01</td>\n",
       "      <td>8.928514e-01</td>\n",
       "      <td>6.829752e-01</td>\n",
       "    </tr>\n",
       "    <tr>\n",
       "      <td>max</td>\n",
       "      <td>2.139081e+00</td>\n",
       "      <td>2.169192e+00</td>\n",
       "      <td>4.153623e+00</td>\n",
       "    </tr>\n",
       "  </tbody>\n",
       "</table>\n",
       "</div>"
      ],
      "text/plain": [
       "                 f0            f1            f2\n",
       "count  7.500000e+04  7.500000e+04  7.500000e+04\n",
       "mean   1.704118e-16 -3.349025e-17  6.252776e-18\n",
       "std    1.000007e+00  1.000007e+00  1.000007e+00\n",
       "min   -2.186288e+00 -2.178269e+00 -3.890945e+00\n",
       "25%   -6.575544e-01 -8.925344e-01 -6.799576e-01\n",
       "50%    1.878842e-03 -7.407961e-04  4.288679e-03\n",
       "75%    6.571176e-01  8.928514e-01  6.829752e-01\n",
       "max    2.139081e+00  2.169192e+00  4.153623e+00"
      ]
     },
     "metadata": {},
     "output_type": "display_data"
    },
    {
     "data": {
      "text/html": [
       "<div>\n",
       "<style scoped>\n",
       "    .dataframe tbody tr th:only-of-type {\n",
       "        vertical-align: middle;\n",
       "    }\n",
       "\n",
       "    .dataframe tbody tr th {\n",
       "        vertical-align: top;\n",
       "    }\n",
       "\n",
       "    .dataframe thead th {\n",
       "        text-align: right;\n",
       "    }\n",
       "</style>\n",
       "<table border=\"1\" class=\"dataframe\">\n",
       "  <thead>\n",
       "    <tr style=\"text-align: right;\">\n",
       "      <th></th>\n",
       "      <th>f0</th>\n",
       "      <th>f1</th>\n",
       "      <th>f2</th>\n",
       "    </tr>\n",
       "  </thead>\n",
       "  <tbody>\n",
       "    <tr>\n",
       "      <td>count</td>\n",
       "      <td>7.500000e+04</td>\n",
       "      <td>7.500000e+04</td>\n",
       "      <td>7.500000e+04</td>\n",
       "    </tr>\n",
       "    <tr>\n",
       "      <td>mean</td>\n",
       "      <td>5.684342e-19</td>\n",
       "      <td>-1.028392e-16</td>\n",
       "      <td>-2.244131e-17</td>\n",
       "    </tr>\n",
       "    <tr>\n",
       "      <td>std</td>\n",
       "      <td>1.000007e+00</td>\n",
       "      <td>1.000007e+00</td>\n",
       "      <td>1.000007e+00</td>\n",
       "    </tr>\n",
       "    <tr>\n",
       "      <td>min</td>\n",
       "      <td>-3.652789e+00</td>\n",
       "      <td>-4.206546e+00</td>\n",
       "      <td>-1.476535e+00</td>\n",
       "    </tr>\n",
       "    <tr>\n",
       "      <td>25%</td>\n",
       "      <td>-8.290577e-01</td>\n",
       "      <td>-6.766541e-01</td>\n",
       "      <td>-8.784844e-01</td>\n",
       "    </tr>\n",
       "    <tr>\n",
       "      <td>50%</td>\n",
       "      <td>1.734177e-03</td>\n",
       "      <td>-1.083306e-03</td>\n",
       "      <td>-2.838957e-01</td>\n",
       "    </tr>\n",
       "    <tr>\n",
       "      <td>75%</td>\n",
       "      <td>8.349682e-01</td>\n",
       "      <td>6.768381e-01</td>\n",
       "      <td>8.834721e-01</td>\n",
       "    </tr>\n",
       "    <tr>\n",
       "      <td>max</td>\n",
       "      <td>3.154487e+00</td>\n",
       "      <td>4.588691e+00</td>\n",
       "      <td>1.482457e+00</td>\n",
       "    </tr>\n",
       "  </tbody>\n",
       "</table>\n",
       "</div>"
      ],
      "text/plain": [
       "                 f0            f1            f2\n",
       "count  7.500000e+04  7.500000e+04  7.500000e+04\n",
       "mean   5.684342e-19 -1.028392e-16 -2.244131e-17\n",
       "std    1.000007e+00  1.000007e+00  1.000007e+00\n",
       "min   -3.652789e+00 -4.206546e+00 -1.476535e+00\n",
       "25%   -8.290577e-01 -6.766541e-01 -8.784844e-01\n",
       "50%    1.734177e-03 -1.083306e-03 -2.838957e-01\n",
       "75%    8.349682e-01  6.768381e-01  8.834721e-01\n",
       "max    3.154487e+00  4.588691e+00  1.482457e+00"
      ]
     },
     "metadata": {},
     "output_type": "display_data"
    },
    {
     "data": {
      "text/html": [
       "<div>\n",
       "<style scoped>\n",
       "    .dataframe tbody tr th:only-of-type {\n",
       "        vertical-align: middle;\n",
       "    }\n",
       "\n",
       "    .dataframe tbody tr th {\n",
       "        vertical-align: top;\n",
       "    }\n",
       "\n",
       "    .dataframe thead th {\n",
       "        text-align: right;\n",
       "    }\n",
       "</style>\n",
       "<table border=\"1\" class=\"dataframe\">\n",
       "  <thead>\n",
       "    <tr style=\"text-align: right;\">\n",
       "      <th></th>\n",
       "      <th>f0</th>\n",
       "      <th>f1</th>\n",
       "      <th>f2</th>\n",
       "    </tr>\n",
       "  </thead>\n",
       "  <tbody>\n",
       "    <tr>\n",
       "      <td>count</td>\n",
       "      <td>7.500000e+04</td>\n",
       "      <td>7.500000e+04</td>\n",
       "      <td>7.500000e+04</td>\n",
       "    </tr>\n",
       "    <tr>\n",
       "      <td>mean</td>\n",
       "      <td>-2.197946e-17</td>\n",
       "      <td>6.631732e-18</td>\n",
       "      <td>-8.517039e-17</td>\n",
       "    </tr>\n",
       "    <tr>\n",
       "      <td>std</td>\n",
       "      <td>1.000007e+00</td>\n",
       "      <td>1.000007e+00</td>\n",
       "      <td>1.000007e+00</td>\n",
       "    </tr>\n",
       "    <tr>\n",
       "      <td>min</td>\n",
       "      <td>-5.060306e+00</td>\n",
       "      <td>-4.088636e+00</td>\n",
       "      <td>-4.167323e+00</td>\n",
       "    </tr>\n",
       "    <tr>\n",
       "      <td>25%</td>\n",
       "      <td>-6.716773e-01</td>\n",
       "      <td>-6.783003e-01</td>\n",
       "      <td>-6.785573e-01</td>\n",
       "    </tr>\n",
       "    <tr>\n",
       "      <td>50%</td>\n",
       "      <td>3.845213e-03</td>\n",
       "      <td>-5.219873e-03</td>\n",
       "      <td>-5.092214e-03</td>\n",
       "    </tr>\n",
       "    <tr>\n",
       "      <td>75%</td>\n",
       "      <td>6.656278e-01</td>\n",
       "      <td>6.749474e-01</td>\n",
       "      <td>6.802621e-01</td>\n",
       "    </tr>\n",
       "    <tr>\n",
       "      <td>max</td>\n",
       "      <td>4.176529e+00</td>\n",
       "      <td>4.533914e+00</td>\n",
       "      <td>4.101780e+00</td>\n",
       "    </tr>\n",
       "  </tbody>\n",
       "</table>\n",
       "</div>"
      ],
      "text/plain": [
       "                 f0            f1            f2\n",
       "count  7.500000e+04  7.500000e+04  7.500000e+04\n",
       "mean  -2.197946e-17  6.631732e-18 -8.517039e-17\n",
       "std    1.000007e+00  1.000007e+00  1.000007e+00\n",
       "min   -5.060306e+00 -4.088636e+00 -4.167323e+00\n",
       "25%   -6.716773e-01 -6.783003e-01 -6.785573e-01\n",
       "50%    3.845213e-03 -5.219873e-03 -5.092214e-03\n",
       "75%    6.656278e-01  6.749474e-01  6.802621e-01\n",
       "max    4.176529e+00  4.533914e+00  4.101780e+00"
      ]
     },
     "metadata": {},
     "output_type": "display_data"
    }
   ],
   "source": [
    "display(features_train_geo1.describe())\n",
    "display(features_train_geo2.describe())\n",
    "display(features_train_geo3.describe())"
   ]
  },
  {
   "cell_type": "markdown",
   "metadata": {},
   "source": [
    "Признаки успешно стандартизированы: средние значения признаков приближены к нулю, стандартные отклонения к единице."
   ]
  },
  {
   "cell_type": "markdown",
   "metadata": {},
   "source": [
    "###### Вывод\n",
    "\n",
    "Из датасетов удалены столбцы ***id*** в связи с их незначимостью в качестве признаков.\n",
    "\n",
    "Данные каждого региона разделены на обучающие и валидационные выбоки. Размеры выборок соответствуют соотношению:\n",
    " - Обучающая выборка: 75%;\n",
    " - Валидационная выборка: 25%.\n",
    "\n",
    "С целью одинакового восприятия алгоритмом значимости каждого из признаков, проведена их стандартизация для каждого из регионов.\n"
   ]
  },
  {
   "cell_type": "markdown",
   "metadata": {},
   "source": [
    "## Обучение и проверка моделей"
   ]
  },
  {
   "cell_type": "markdown",
   "metadata": {},
   "source": [
    "Напишем функцию для обучения моделей и сохранения предсказаний и ответов по региону в датафреймы:"
   ]
  },
  {
   "cell_type": "code",
   "execution_count": 113,
   "metadata": {},
   "outputs": [],
   "source": [
    "def get_predictions(\n",
    "    features_train,\n",
    "    features_valid,\n",
    "    target_train,\n",
    "    target_valid\n",
    "):\n",
    "        \n",
    "    reg = LinearRegression()\n",
    "        \n",
    "    reg.fit(features_train, target_train)\n",
    "        \n",
    "    predictions_train = reg.predict(features_train)\n",
    "    predictions_valid = reg.predict(features_valid)\n",
    "    \n",
    "    stats = pd.DataFrame(\n",
    "        {'target':target_valid.reset_index(drop=True),\n",
    "         'predictions':predictions_valid}\n",
    "    )\n",
    "    \n",
    "    return stats"
   ]
  },
  {
   "cell_type": "markdown",
   "metadata": {},
   "source": [
    "### Регион-1"
   ]
  },
  {
   "cell_type": "markdown",
   "metadata": {},
   "source": [
    "Обучим модель на данных первого региона и сохраним целевые и предсказанные данные в переменной ***stat_geo_1***:"
   ]
  },
  {
   "cell_type": "code",
   "execution_count": 114,
   "metadata": {
    "scrolled": false
   },
   "outputs": [
    {
     "data": {
      "text/html": [
       "<div>\n",
       "<style scoped>\n",
       "    .dataframe tbody tr th:only-of-type {\n",
       "        vertical-align: middle;\n",
       "    }\n",
       "\n",
       "    .dataframe tbody tr th {\n",
       "        vertical-align: top;\n",
       "    }\n",
       "\n",
       "    .dataframe thead th {\n",
       "        text-align: right;\n",
       "    }\n",
       "</style>\n",
       "<table border=\"1\" class=\"dataframe\">\n",
       "  <thead>\n",
       "    <tr style=\"text-align: right;\">\n",
       "      <th></th>\n",
       "      <th>target</th>\n",
       "      <th>predictions</th>\n",
       "    </tr>\n",
       "  </thead>\n",
       "  <tbody>\n",
       "    <tr>\n",
       "      <td>0</td>\n",
       "      <td>10.038645</td>\n",
       "      <td>95.894952</td>\n",
       "    </tr>\n",
       "    <tr>\n",
       "      <td>1</td>\n",
       "      <td>114.551489</td>\n",
       "      <td>77.572583</td>\n",
       "    </tr>\n",
       "    <tr>\n",
       "      <td>2</td>\n",
       "      <td>132.603635</td>\n",
       "      <td>77.892640</td>\n",
       "    </tr>\n",
       "    <tr>\n",
       "      <td>3</td>\n",
       "      <td>169.072125</td>\n",
       "      <td>90.175134</td>\n",
       "    </tr>\n",
       "    <tr>\n",
       "      <td>4</td>\n",
       "      <td>122.325180</td>\n",
       "      <td>70.510088</td>\n",
       "    </tr>\n",
       "  </tbody>\n",
       "</table>\n",
       "</div>"
      ],
      "text/plain": [
       "       target  predictions\n",
       "0   10.038645    95.894952\n",
       "1  114.551489    77.572583\n",
       "2  132.603635    77.892640\n",
       "3  169.072125    90.175134\n",
       "4  122.325180    70.510088"
      ]
     },
     "metadata": {},
     "output_type": "display_data"
    },
    {
     "name": "stdout",
     "output_type": "stream",
     "text": [
      "R2: 0.28\n",
      "RMSE: 37.58\n",
      "Средний запас предсказанного сырья: 92.59\n"
     ]
    }
   ],
   "source": [
    "stat_geo1 = get_predictions(\n",
    "    features_train_geo1,\n",
    "    features_valid_geo1,\n",
    "    target_train_geo1,\n",
    "    target_valid_geo1\n",
    ")\n",
    "\n",
    "display(stat_geo1.head())\n",
    "\n",
    "print('R2:',r2_score(target_valid_geo1,stat_geo1['predictions']).round(2))\n",
    "print('RMSE:',(mean_squared_error(target_valid_geo1,stat_geo1['predictions']) ** 0.5).round(2))\n",
    "print('Средний запас предсказанного сырья:',stat_geo1['predictions'].mean().round(2))"
   ]
  },
  {
   "cell_type": "markdown",
   "metadata": {},
   "source": [
    "### Регион-2"
   ]
  },
  {
   "cell_type": "markdown",
   "metadata": {},
   "source": [
    "Обучим модель на данных второго региона и сохраним целевые и предсказанные данные в переменной ***stat_geo_2***:"
   ]
  },
  {
   "cell_type": "code",
   "execution_count": 115,
   "metadata": {
    "scrolled": true
   },
   "outputs": [
    {
     "data": {
      "text/html": [
       "<div>\n",
       "<style scoped>\n",
       "    .dataframe tbody tr th:only-of-type {\n",
       "        vertical-align: middle;\n",
       "    }\n",
       "\n",
       "    .dataframe tbody tr th {\n",
       "        vertical-align: top;\n",
       "    }\n",
       "\n",
       "    .dataframe thead th {\n",
       "        text-align: right;\n",
       "    }\n",
       "</style>\n",
       "<table border=\"1\" class=\"dataframe\">\n",
       "  <thead>\n",
       "    <tr style=\"text-align: right;\">\n",
       "      <th></th>\n",
       "      <th>target</th>\n",
       "      <th>predictions</th>\n",
       "    </tr>\n",
       "  </thead>\n",
       "  <tbody>\n",
       "    <tr>\n",
       "      <td>0</td>\n",
       "      <td>80.859783</td>\n",
       "      <td>82.663314</td>\n",
       "    </tr>\n",
       "    <tr>\n",
       "      <td>1</td>\n",
       "      <td>53.906522</td>\n",
       "      <td>54.431786</td>\n",
       "    </tr>\n",
       "    <tr>\n",
       "      <td>2</td>\n",
       "      <td>30.132364</td>\n",
       "      <td>29.748760</td>\n",
       "    </tr>\n",
       "    <tr>\n",
       "      <td>3</td>\n",
       "      <td>53.906522</td>\n",
       "      <td>53.552133</td>\n",
       "    </tr>\n",
       "    <tr>\n",
       "      <td>4</td>\n",
       "      <td>0.000000</td>\n",
       "      <td>1.243856</td>\n",
       "    </tr>\n",
       "  </tbody>\n",
       "</table>\n",
       "</div>"
      ],
      "text/plain": [
       "      target  predictions\n",
       "0  80.859783    82.663314\n",
       "1  53.906522    54.431786\n",
       "2  30.132364    29.748760\n",
       "3  53.906522    53.552133\n",
       "4   0.000000     1.243856"
      ]
     },
     "metadata": {},
     "output_type": "display_data"
    },
    {
     "name": "stdout",
     "output_type": "stream",
     "text": [
      "R2: 1.0\n",
      "RMSE: 0.89\n",
      "Средний запас предсказанного сырья: 68.73\n"
     ]
    }
   ],
   "source": [
    "stat_geo2 = get_predictions(\n",
    "    features_train_geo2,\n",
    "    features_valid_geo2,\n",
    "    target_train_geo2,\n",
    "    target_valid_geo2\n",
    ")\n",
    "\n",
    "display(stat_geo2.head())\n",
    "\n",
    "print('R2:',r2_score(target_valid_geo2,stat_geo2['predictions']).round(2))\n",
    "print('RMSE:',(mean_squared_error(target_valid_geo2,stat_geo2['predictions']) ** 0.5).round(2))\n",
    "print('Средний запас предсказанного сырья:',stat_geo2['predictions'].mean().round(2))"
   ]
  },
  {
   "cell_type": "markdown",
   "metadata": {},
   "source": [
    "### Регион-3"
   ]
  },
  {
   "cell_type": "markdown",
   "metadata": {},
   "source": [
    "Обучим модель на данных третьего региона и сохраним целевые и предсказанные данные в переменной ***stat_geo_3***:"
   ]
  },
  {
   "cell_type": "code",
   "execution_count": 116,
   "metadata": {
    "scrolled": false
   },
   "outputs": [
    {
     "data": {
      "text/html": [
       "<div>\n",
       "<style scoped>\n",
       "    .dataframe tbody tr th:only-of-type {\n",
       "        vertical-align: middle;\n",
       "    }\n",
       "\n",
       "    .dataframe tbody tr th {\n",
       "        vertical-align: top;\n",
       "    }\n",
       "\n",
       "    .dataframe thead th {\n",
       "        text-align: right;\n",
       "    }\n",
       "</style>\n",
       "<table border=\"1\" class=\"dataframe\">\n",
       "  <thead>\n",
       "    <tr style=\"text-align: right;\">\n",
       "      <th></th>\n",
       "      <th>target</th>\n",
       "      <th>predictions</th>\n",
       "    </tr>\n",
       "  </thead>\n",
       "  <tbody>\n",
       "    <tr>\n",
       "      <td>0</td>\n",
       "      <td>61.212375</td>\n",
       "      <td>93.599633</td>\n",
       "    </tr>\n",
       "    <tr>\n",
       "      <td>1</td>\n",
       "      <td>41.850118</td>\n",
       "      <td>75.105159</td>\n",
       "    </tr>\n",
       "    <tr>\n",
       "      <td>2</td>\n",
       "      <td>57.776581</td>\n",
       "      <td>90.066809</td>\n",
       "    </tr>\n",
       "    <tr>\n",
       "      <td>3</td>\n",
       "      <td>100.053761</td>\n",
       "      <td>105.162375</td>\n",
       "    </tr>\n",
       "    <tr>\n",
       "      <td>4</td>\n",
       "      <td>109.897122</td>\n",
       "      <td>115.303310</td>\n",
       "    </tr>\n",
       "  </tbody>\n",
       "</table>\n",
       "</div>"
      ],
      "text/plain": [
       "       target  predictions\n",
       "0   61.212375    93.599633\n",
       "1   41.850118    75.105159\n",
       "2   57.776581    90.066809\n",
       "3  100.053761   105.162375\n",
       "4  109.897122   115.303310"
      ]
     },
     "metadata": {},
     "output_type": "display_data"
    },
    {
     "name": "stdout",
     "output_type": "stream",
     "text": [
      "R2: 0.21\n",
      "RMSE: 40.03\n",
      "Средний запас предсказанного сырья: 94.97\n"
     ]
    }
   ],
   "source": [
    "stat_geo3 = get_predictions(\n",
    "    features_train_geo3,\n",
    "    features_valid_geo3,\n",
    "    target_train_geo3,\n",
    "    target_valid_geo3\n",
    ")\n",
    "\n",
    "display(stat_geo3.head())\n",
    "\n",
    "print('R2:',r2_score(target_valid_geo3,stat_geo3['predictions']).round(2))\n",
    "print('RMSE:',(mean_squared_error(target_valid_geo3,stat_geo3['predictions']) ** 0.5).round(2))\n",
    "print('Средний запас предсказанного сырья:',stat_geo3['predictions'].mean().round(2))"
   ]
  },
  {
   "cell_type": "markdown",
   "metadata": {},
   "source": [
    "###### Вывод\n",
    "\n",
    "На этапе обучения и проверки моделей для каждого региона была обучена модель с помощью алгоритма ***Линейной регрессии***.\n",
    "\n",
    "***Метрики качества*** обученных моделей следующие:\n",
    "\n",
    "***Регион 1:***\n",
    "\n",
    "- ***R2***: 0.28\n",
    "- ***RMSE***: 37.58\n",
    "\n",
    "***Регион 2:***\n",
    "\n",
    "- ***R2***: 1.00\n",
    "- ***RMSE***: 0.89\n",
    "\n",
    "***Регион 3:***\n",
    "\n",
    "- ***R2***: 0.21\n",
    "- ***RMSE***: 40.03\n",
    "\n",
    "Из трех моделей наиболее качественной и точной является модель для региона 2. Коэффициент детерминации, ***R2***, данной модели равен ***1.00***, что говорит о практически функциональной зависимости между признаками. Значение ***RMSE*** данной модели говорит о том, что, в среднем, отклонение между наблюдаемыми и истинными значениями равно ***0.89 тыс. баррелей***.\n",
    "\n",
    "Модели для регионов 1 и 2 гораздо ниже по качеству и точности. Коэффициенты детерминации,***R2***, равные ***0.28*** и ***0.21*** соответсвенно, говорят о том, что модели ненамного лучше констатных, предсказывающих средние значения. Значения ***RMSE*** моделей говорят о том, что, в среднем, отклонения между наблюдаемыми и истинными значениями равны ***37.58 и 40.03 тыс. баррелей*** соответственно.\n",
    "\n",
    "Несмотря на низкое качество моделей для регионов 1 и 2, мы продолжим работу с результатами их предсказаний, так как данные модели нужны только для того, чтобы выбрать самые перспективные скважины. То есть, несмотря на то, что модели могут сильно ошибаться в объеме запасов в каждой скважине, они будут использованы для выбора ТОП-скважин по объему запасов.\n",
    "\n",
    "***Средние запасы предсказанного сырья*** в скважине по регионам следующие:\n",
    "\n",
    " - ***Регион 1:*** ***92.59*** тыс. баррелей;\n",
    " - ***Регион 2:*** ***68.73*** тыс. баррелей;\n",
    " - ***Регион 3:*** ***94.97*** тыс. баррелей.\n",
    " \n",
    "Наибольший средний запас предсказанного сырья в скважине наблюдается в регионе 1, и это незначительно превышает  показатель по региону 2.\n",
    "Наименьший средний запас предсказанного сырья в скважине наблюдается в регионе 2."
   ]
  },
  {
   "cell_type": "markdown",
   "metadata": {},
   "source": [
    "## Подготовка к расчёту прибыли"
   ]
  },
  {
   "cell_type": "markdown",
   "metadata": {},
   "source": [
    "Бюджет на разработку скважин в регионе — ***10 млрд. рублей***. Планируется разработать ***200 скважин***. Рассчитаем бюджет на разработку 1 скважины в тыс. рублей:"
   ]
  },
  {
   "cell_type": "code",
   "execution_count": 117,
   "metadata": {},
   "outputs": [],
   "source": [
    "SUM_BUDGET = 10"
   ]
  },
  {
   "cell_type": "code",
   "execution_count": 118,
   "metadata": {},
   "outputs": [
    {
     "name": "stdout",
     "output_type": "stream",
     "text": [
      "Бюджет на разработку одной скважины: 0.050 млрд. рублей.\n"
     ]
    }
   ],
   "source": [
    "WELL_BUDGET = SUM_BUDGET / 200\n",
    "print('Бюджет на разработку одной скважины: {:.3f} млрд. рублей.'.format(WELL_BUDGET))"
   ]
  },
  {
   "cell_type": "markdown",
   "metadata": {},
   "source": [
    "Цена ***1000 баррелей*** нефти составляет ***450 тыс. рублей***. Рассчитаем объем добываемого продукта для безубыточной разработки скважины:"
   ]
  },
  {
   "cell_type": "code",
   "execution_count": 119,
   "metadata": {},
   "outputs": [
    {
     "name": "stdout",
     "output_type": "stream",
     "text": [
      "Объем продукта для безубыточной разработки скважины: 111.11 тыс. баррелей.\n"
     ]
    }
   ],
   "source": [
    "BARREL_1K_PRICE = 450\n",
    "BREAK_EVEN = 50000 / BARREL_1K_PRICE\n",
    "print('Объем продукта для безубыточной разработки скважины: {:.2f} тыс. баррелей.'.format(BREAK_EVEN))"
   ]
  },
  {
   "cell_type": "markdown",
   "metadata": {},
   "source": [
    "###### Вывод\n",
    "\n",
    "Объем продукта для безубыточной разработки скважины = ***111,11 тыс. баррелей***.\n",
    "\n",
    "Ни один из средних запасов предсказанного сырья в скважинах, оцененных по каждому региону, не достаточен для безубыточной разработки.\n",
    "\n",
    "Таким образом, далее, при расчете потенциальной прибыли, мы будем использовать ТОПы скважин по предсказанным объемам запасов в каждом из регионов."
   ]
  },
  {
   "cell_type": "markdown",
   "metadata": {},
   "source": [
    "## Расчёт прибыли и рисков "
   ]
  },
  {
   "cell_type": "markdown",
   "metadata": {},
   "source": [
    "### Расчёт прибыли"
   ]
  },
  {
   "cell_type": "markdown",
   "metadata": {},
   "source": [
    "Напишем функцию для расчета среднего запаса сырья, средней прибыли и суммарной прибыли от добычи нефти из ТОП-200 скважин по объемам запасов сырья в регионах:"
   ]
  },
  {
   "cell_type": "code",
   "execution_count": 120,
   "metadata": {},
   "outputs": [],
   "source": [
    "def top200(stat_geo):\n",
    "    predictions_sorted = stat_geo.sort_values(by = 'predictions', ascending=False)\n",
    "    selected = predictions_sorted['target'][:200]\n",
    "    mean_volume = selected.mean()\n",
    "    mean_revenue = selected.mean() * BARREL_1K_PRICE / 1000000 - WELL_BUDGET\n",
    "    revenue = selected.sum() * BARREL_1K_PRICE / 1000000 - SUM_BUDGET\n",
    "    \n",
    "    return mean_volume, mean_revenue, revenue"
   ]
  },
  {
   "cell_type": "markdown",
   "metadata": {},
   "source": [
    "Рассчитаем прибыль c ТОП-200 скважин по запасам сырья в каждом регионе:"
   ]
  },
  {
   "cell_type": "code",
   "execution_count": 121,
   "metadata": {
    "scrolled": true
   },
   "outputs": [
    {
     "name": "stdout",
     "output_type": "stream",
     "text": [
      "Регион-1:\n",
      "Средний объем запасов в скважине для ТОП-200: 148.01, тыс. баррелей\n",
      "Средняя прибыль от добычи нефти из скважины для ТОП-200: 0.017, млрд. рублей\n",
      "Прибыль от добычи нефти из ТОП-200 скважин: 3.32, млрд. рублей\n",
      "\n",
      "Регион-2:\n",
      "Средний объем запасов в скважине для ТОП-200: 137.95, тыс. баррелей\n",
      "Средняя прибыль от добычи нефти из скважины для ТОП-200: 0.012, млрд. рублей\n",
      "Прибыль от добычи нефти из ТОП-200 скважин: 2.42, млрд. рублей\n",
      "\n",
      "Регион-3:\n",
      "Средний объем запасов в скважине для ТОП-200: 141.23, тыс. баррелей\n",
      "Средняя прибыль от добычи нефти из скважины для ТОП-200: 0.014, млрд. рублей\n",
      "Прибыль от добычи нефти из ТОП-200 скважин: 2.71, млрд. рублей\n",
      "\n"
     ]
    }
   ],
   "source": [
    "top_mean_volume_reg_1 = top200(stat_geo1)[0]\n",
    "top_mean_revenue_reg_1 = top200(stat_geo1)[1]\n",
    "revenue_reg_1 = top200(stat_geo1)[2]\n",
    "\n",
    "top_mean_volume_reg_2 = top200(stat_geo2)[0]\n",
    "top_mean_revenue_reg_2 = top200(stat_geo2)[1]\n",
    "revenue_reg_2 = top200(stat_geo2)[2]\n",
    "\n",
    "top_mean_volume_reg_3 = top200(stat_geo3)[0]\n",
    "top_mean_revenue_reg_3 = top200(stat_geo3)[1]\n",
    "revenue_reg_3 = top200(stat_geo3)[2]\n",
    "\n",
    "for region, volume, mean_revenue, revenue in [('Регион-1',top_mean_volume_reg_1,top_mean_revenue_reg_1,revenue_reg_1),\n",
    "                                              ('Регион-2',top_mean_volume_reg_2,top_mean_revenue_reg_2,revenue_reg_2),\n",
    "                                              ('Регион-3',top_mean_volume_reg_3,top_mean_revenue_reg_3,revenue_reg_3)\n",
    "                                             ]:\n",
    "    print('{}:'.format(region))\n",
    "    print('Средний объем запасов в скважине для ТОП-200: {:.2f}, тыс. баррелей'.format(volume))\n",
    "    print('Средняя прибыль от добычи нефти из скважины для ТОП-200: {:.3f}, млрд. рублей'.format(mean_revenue))\n",
    "    print('Прибыль от добычи нефти из ТОП-200 скважин: {:.2f}, млрд. рублей'.format(revenue))\n",
    "    print()"
   ]
  },
  {
   "cell_type": "markdown",
   "metadata": {},
   "source": [
    "###### Вывод\n",
    "\n",
    "Из произведенных расчетов видно, что:\n",
    "\n",
    "- ТОП-200 скважин каждой из валидационных выборок обладает достаточным средним запасом сырья в скважине для прибыльной добычи нефти;\n",
    "\n",
    "\n",
    "- ***Наибольшую*** прибыль приносит добыча нефти из ТОП-200 скважин по запасам сырья ***Региона-1***, где средний объем сырья в скважине = ***148.01 тыс баррелей***, средняя прибыль с одной скважины = ***0.017 млрд. рублей***, суммарная прибыль с ТОП-200 скважин = ***3.32 млрд. рублей***;\n",
    "\n",
    "\n",
    "- ***Наименьшую*** прибыль приносит добыча нефти из ТОП-200 скважин по запасам сырья ***Региона-2***, где средний объем сырья в скважине = ***137.95 тыс баррелей***, средняя прибыль с одной скважины = ***0.012 млрд. рублей***, суммарная прибыль с ТОП-200 скважин = ***2.42 млрд. рублей***."
   ]
  },
  {
   "cell_type": "markdown",
   "metadata": {},
   "source": [
    "### Расчёт рисков"
   ]
  },
  {
   "cell_type": "markdown",
   "metadata": {},
   "source": [
    "Ранее мы рассчитали прибыль для ТОП-200 скважин из валидационных выборок по кадому региону, т.е. для 200 лучших скважин по объему сырья из 25000 скважин в каждом регионе.\n",
    "\n",
    "По условиям задачи при разведке региона исследуют 500 точек, из которых с помощью машинного обучения выбирают 200 лучших для разработки.\n",
    "\n",
    "Так как выбор 500 точек для исследования в каждом регионе никак не обоснован, будем считать этот выбор случайным. В таком случае, нам необходимо убедиться, что при любом случайном выборе 500 точек в каждом регионе, ТОП-200 скважин по-прежнему будет прибыльным.\n",
    "\n",
    "По условиям задачи вероятность убытков от разработки месторождения не должна превысить 2,5%. Также, нам необходимо определить 95% доверительный интервал. \n",
    "\n",
    "Для удовлетворения всех вышеописанных условий для нахождения распределения прибыли применим технику ***Bootstrap*** с 1000 выборок."
   ]
  },
  {
   "cell_type": "markdown",
   "metadata": {},
   "source": [
    "Напишем функцию для нахождения распределения среднего запаса сырья скважины, средней прибыли со скважины и суммарной прибыли с ТОП-200 скважин из случайных 500 с помощью ***Bootstrap***, а также для определения вероятности убытков:"
   ]
  },
  {
   "cell_type": "code",
   "execution_count": 122,
   "metadata": {},
   "outputs": [],
   "source": [
    "def identify_risks(stat_geo):\n",
    "    \n",
    "    state = np.random.RandomState(12345)\n",
    "    \n",
    "    volume_per_well = []\n",
    "    revenue_per_well = []\n",
    "    revenue = []\n",
    "    \n",
    "    for i in range(1000):\n",
    "        \n",
    "        sample = stat_geo.sample(n=500, replace=True, random_state=state)\n",
    "        volume_per_well.append(top200(sample)[0])\n",
    "        revenue_per_well.append(top200(sample)[1])\n",
    "        revenue.append(top200(sample)[2])\n",
    "    \n",
    "    volume_per_well = pd.Series(volume_per_well)\n",
    "    revenue_per_well = pd.Series(revenue_per_well)\n",
    "    revenue = pd.Series(revenue)\n",
    "    \n",
    "    lower_volume_per_well = volume_per_well.quantile(0.025)\n",
    "    lower_revenue_per_well = revenue_per_well.quantile(0.025)\n",
    "    lower_revenue = revenue.quantile(0.025)\n",
    "\n",
    "    upper_volume_per_well = volume_per_well.quantile(0.975)\n",
    "    upper_revenue_per_well = revenue_per_well.quantile(0.975)\n",
    "    upper_revenue = revenue.quantile(0.975)\n",
    "    \n",
    "    mean_volume_per_well = volume_per_well.mean()\n",
    "    mean_revenue_per_well = revenue_per_well.mean()\n",
    "    mean_revenue = revenue.mean()\n",
    "    \n",
    "    loss_probability = (lambda x: x[x < 0].count() / len(x))(revenue) * 100\n",
    "\n",
    "    results = pd.DataFrame(\n",
    "        {\n",
    "            'Показатель': ['Средний объем запасов в скважине, тыс. баррелей',\n",
    "                           'Средняя прибыль от скважины, млрд. рублей',\n",
    "                           'Суммарная прибыль, млрд. рублей'],\n",
    "            '2,5% квантиль': [lower_volume_per_well,\n",
    "                              lower_revenue_per_well,\n",
    "                              lower_revenue],\n",
    "            'Среднее': [mean_volume_per_well,\n",
    "                        mean_revenue_per_well,\n",
    "                        mean_revenue],\n",
    "            '97,5% квантиль': [upper_volume_per_well,\n",
    "                             upper_revenue_per_well,\n",
    "                             upper_revenue] \n",
    "        }\n",
    "    ).set_index('Показатель')\n",
    "    \n",
    "    display(results)\n",
    "    print('Вероятность убытков:',loss_probability, '%')\n",
    "    print()"
   ]
  },
  {
   "cell_type": "markdown",
   "metadata": {},
   "source": [
    "Рассчитаем доверительные интервалы для среднего запаса сырья скважины, средней прибыли со скважины и суммарной прибыли с ТОП-200 скважин, применив написанную функцию, а также определим вероятность убытков для каждого региона:"
   ]
  },
  {
   "cell_type": "code",
   "execution_count": 123,
   "metadata": {
    "scrolled": false
   },
   "outputs": [
    {
     "name": "stdout",
     "output_type": "stream",
     "text": [
      "Регион-1\n"
     ]
    },
    {
     "data": {
      "text/html": [
       "<div>\n",
       "<style scoped>\n",
       "    .dataframe tbody tr th:only-of-type {\n",
       "        vertical-align: middle;\n",
       "    }\n",
       "\n",
       "    .dataframe tbody tr th {\n",
       "        vertical-align: top;\n",
       "    }\n",
       "\n",
       "    .dataframe thead th {\n",
       "        text-align: right;\n",
       "    }\n",
       "</style>\n",
       "<table border=\"1\" class=\"dataframe\">\n",
       "  <thead>\n",
       "    <tr style=\"text-align: right;\">\n",
       "      <th></th>\n",
       "      <th>2,5% квантиль</th>\n",
       "      <th>Среднее</th>\n",
       "      <th>97,5% квантиль</th>\n",
       "    </tr>\n",
       "    <tr>\n",
       "      <th>Показатель</th>\n",
       "      <th></th>\n",
       "      <th></th>\n",
       "      <th></th>\n",
       "    </tr>\n",
       "  </thead>\n",
       "  <tbody>\n",
       "    <tr>\n",
       "      <td>Средний объем запасов в скважине, тыс. баррелей</td>\n",
       "      <td>109.875383</td>\n",
       "      <td>115.512944</td>\n",
       "      <td>121.219633</td>\n",
       "    </tr>\n",
       "    <tr>\n",
       "      <td>Средняя прибыль от скважины, млрд. рублей</td>\n",
       "      <td>-0.000556</td>\n",
       "      <td>0.001981</td>\n",
       "      <td>0.004549</td>\n",
       "    </tr>\n",
       "    <tr>\n",
       "      <td>Суммарная прибыль, млрд. рублей</td>\n",
       "      <td>-0.111216</td>\n",
       "      <td>0.396165</td>\n",
       "      <td>0.909767</td>\n",
       "    </tr>\n",
       "  </tbody>\n",
       "</table>\n",
       "</div>"
      ],
      "text/plain": [
       "                                                 2,5% квантиль     Среднее  \\\n",
       "Показатель                                                                   \n",
       "Средний объем запасов в скважине, тыс. баррелей     109.875383  115.512944   \n",
       "Средняя прибыль от скважины, млрд. рублей            -0.000556    0.001981   \n",
       "Суммарная прибыль, млрд. рублей                      -0.111216    0.396165   \n",
       "\n",
       "                                                 97,5% квантиль  \n",
       "Показатель                                                       \n",
       "Средний объем запасов в скважине, тыс. баррелей      121.219633  \n",
       "Средняя прибыль от скважины, млрд. рублей              0.004549  \n",
       "Суммарная прибыль, млрд. рублей                        0.909767  "
      ]
     },
     "metadata": {},
     "output_type": "display_data"
    },
    {
     "name": "stdout",
     "output_type": "stream",
     "text": [
      "Вероятность убытков: 6.9 %\n",
      "\n",
      "Регион-2\n"
     ]
    },
    {
     "data": {
      "text/html": [
       "<div>\n",
       "<style scoped>\n",
       "    .dataframe tbody tr th:only-of-type {\n",
       "        vertical-align: middle;\n",
       "    }\n",
       "\n",
       "    .dataframe tbody tr th {\n",
       "        vertical-align: top;\n",
       "    }\n",
       "\n",
       "    .dataframe thead th {\n",
       "        text-align: right;\n",
       "    }\n",
       "</style>\n",
       "<table border=\"1\" class=\"dataframe\">\n",
       "  <thead>\n",
       "    <tr style=\"text-align: right;\">\n",
       "      <th></th>\n",
       "      <th>2,5% квантиль</th>\n",
       "      <th>Среднее</th>\n",
       "      <th>97,5% квантиль</th>\n",
       "    </tr>\n",
       "    <tr>\n",
       "      <th>Показатель</th>\n",
       "      <th></th>\n",
       "      <th></th>\n",
       "      <th></th>\n",
       "    </tr>\n",
       "  </thead>\n",
       "  <tbody>\n",
       "    <tr>\n",
       "      <td>Средний объем запасов в скважине, тыс. баррелей</td>\n",
       "      <td>111.486895</td>\n",
       "      <td>116.178279</td>\n",
       "      <td>120.580994</td>\n",
       "    </tr>\n",
       "    <tr>\n",
       "      <td>Средняя прибыль от скважины, млрд. рублей</td>\n",
       "      <td>0.000169</td>\n",
       "      <td>0.002280</td>\n",
       "      <td>0.004261</td>\n",
       "    </tr>\n",
       "    <tr>\n",
       "      <td>Суммарная прибыль, млрд. рублей</td>\n",
       "      <td>0.033821</td>\n",
       "      <td>0.456045</td>\n",
       "      <td>0.852289</td>\n",
       "    </tr>\n",
       "  </tbody>\n",
       "</table>\n",
       "</div>"
      ],
      "text/plain": [
       "                                                 2,5% квантиль     Среднее  \\\n",
       "Показатель                                                                   \n",
       "Средний объем запасов в скважине, тыс. баррелей     111.486895  116.178279   \n",
       "Средняя прибыль от скважины, млрд. рублей             0.000169    0.002280   \n",
       "Суммарная прибыль, млрд. рублей                       0.033821    0.456045   \n",
       "\n",
       "                                                 97,5% квантиль  \n",
       "Показатель                                                       \n",
       "Средний объем запасов в скважине, тыс. баррелей      120.580994  \n",
       "Средняя прибыль от скважины, млрд. рублей              0.004261  \n",
       "Суммарная прибыль, млрд. рублей                        0.852289  "
      ]
     },
     "metadata": {},
     "output_type": "display_data"
    },
    {
     "name": "stdout",
     "output_type": "stream",
     "text": [
      "Вероятность убытков: 1.5 %\n",
      "\n",
      "Регион-3\n"
     ]
    },
    {
     "data": {
      "text/html": [
       "<div>\n",
       "<style scoped>\n",
       "    .dataframe tbody tr th:only-of-type {\n",
       "        vertical-align: middle;\n",
       "    }\n",
       "\n",
       "    .dataframe tbody tr th {\n",
       "        vertical-align: top;\n",
       "    }\n",
       "\n",
       "    .dataframe thead th {\n",
       "        text-align: right;\n",
       "    }\n",
       "</style>\n",
       "<table border=\"1\" class=\"dataframe\">\n",
       "  <thead>\n",
       "    <tr style=\"text-align: right;\">\n",
       "      <th></th>\n",
       "      <th>2,5% квантиль</th>\n",
       "      <th>Среднее</th>\n",
       "      <th>97,5% квантиль</th>\n",
       "    </tr>\n",
       "    <tr>\n",
       "      <th>Показатель</th>\n",
       "      <th></th>\n",
       "      <th></th>\n",
       "      <th></th>\n",
       "    </tr>\n",
       "  </thead>\n",
       "  <tbody>\n",
       "    <tr>\n",
       "      <td>Средний объем запасов в скважине, тыс. баррелей</td>\n",
       "      <td>109.296107</td>\n",
       "      <td>115.604487</td>\n",
       "      <td>121.670662</td>\n",
       "    </tr>\n",
       "    <tr>\n",
       "      <td>Средняя прибыль от скважины, млрд. рублей</td>\n",
       "      <td>-0.000817</td>\n",
       "      <td>0.002022</td>\n",
       "      <td>0.004752</td>\n",
       "    </tr>\n",
       "    <tr>\n",
       "      <td>Суммарная прибыль, млрд. рублей</td>\n",
       "      <td>-0.163350</td>\n",
       "      <td>0.404404</td>\n",
       "      <td>0.950360</td>\n",
       "    </tr>\n",
       "  </tbody>\n",
       "</table>\n",
       "</div>"
      ],
      "text/plain": [
       "                                                 2,5% квантиль     Среднее  \\\n",
       "Показатель                                                                   \n",
       "Средний объем запасов в скважине, тыс. баррелей     109.296107  115.604487   \n",
       "Средняя прибыль от скважины, млрд. рублей            -0.000817    0.002022   \n",
       "Суммарная прибыль, млрд. рублей                      -0.163350    0.404404   \n",
       "\n",
       "                                                 97,5% квантиль  \n",
       "Показатель                                                       \n",
       "Средний объем запасов в скважине, тыс. баррелей      121.670662  \n",
       "Средняя прибыль от скважины, млрд. рублей              0.004752  \n",
       "Суммарная прибыль, млрд. рублей                        0.950360  "
      ]
     },
     "metadata": {},
     "output_type": "display_data"
    },
    {
     "name": "stdout",
     "output_type": "stream",
     "text": [
      "Вероятность убытков: 7.6 %\n",
      "\n"
     ]
    }
   ],
   "source": [
    "for region, stat_geo in [('Регион-1',stat_geo1),\n",
    "                         ('Регион-2',stat_geo2),\n",
    "                         ('Регион-3',stat_geo3)\n",
    "                        ]:\n",
    "    print (region)\n",
    "    identify_risks(stat_geo)"
   ]
  },
  {
   "cell_type": "markdown",
   "metadata": {},
   "source": [
    "###### Вывод\n",
    "\n",
    "С ***вероятностью 95%*** показатели ТОП-200 скважин из случайных 500 в регионах ожидаются следующие:\n",
    "\n",
    "**Регион-1**\n",
    "\n",
    "- Средний объем запасов в скважине: в среднем ***115.51*** (от 109.88 до 121.22) тыс. баррелей;\n",
    "- Средняя прибыль от скважины: в среднем ***1.98*** (от -0.556 до 4,55) млн. рублей;\n",
    "- Суммарная прибыль: в среднем ***0,40*** (от -0.11 до 0.91) млрд. рублей.\n",
    "\n",
    "С ***вероятностью 6.9%*** суммарная прибыль от разработки региона может быть отрицательной, что ***не соответствует*** условию задачи на согласование разработки региона. \n",
    "\n",
    "**Регион-2**\n",
    "\n",
    "- Средний объем запасов в скважине: в среднем ***116.18*** (от 111.49 до 120.58) тыс. баррелей;\n",
    "- Средняя прибыль от скважины: в среднем ***2.28*** (от 0.17 до 4.26) млн. рублей;\n",
    "- Суммарная прибыль: в среднем ***0,46*** (от 0.03 до 0.85) млрд. рублей.\n",
    "\n",
    "С ***вероятностью 1,5%*** суммарная прибыль от разработки региона может быть отрицательной, что ***соответствует*** условию задачи на согласование разработки региона. \n",
    "\n",
    "**Регион-3**\n",
    "\n",
    "- Средний объем запасов в скважине: в среднем ***115.60*** (от 109.30 до 121.67) тыс. баррелей;\n",
    "- Средняя прибыль от скважины: в среднем ***2.02*** (от -0.82 до 4.75) млн. рублей;\n",
    "- Суммарная прибыль: в среднем ***0,40*** (от -0.16 до 0.95) млрд. рублей.\n",
    "\n",
    "С ***вероятностью выше 7,6%*** суммарная прибыль от разработки региона может быть отрицательной, что ***не соответствует*** условию задачи на согласование разработки региона. "
   ]
  },
  {
   "cell_type": "markdown",
   "metadata": {},
   "source": [
    "## Общий вывод"
   ]
  },
  {
   "cell_type": "markdown",
   "metadata": {},
   "source": [
    "Подходящим для разработки считается регион, который после разработки в течение срока эксплуатации окупит ***10 млрд. рублей***, заложенных в бюджет, а также ***вероятность получения убытка*** в котором составит ***не более 2,5%***.\n",
    "\n",
    "Исходя из полученных результатов, регионом, полностью соответствующим условиям задачи на разработку является ***Регион-2***.\n",
    "\n",
    "***Вероятность получения убытков*** от разработки региона ***не более 1,5%***: ***минимальная прибыль*** в 95% доверительном интервале = ***0.03 млрд. рублей*** (против -0.11 и -0.16 млрд. в регионах 1 и 3 соответственно).\n",
    "\n",
    "***Средняя прибыль*** в 95% доверительном интервале = ***0.46 млрд. рублей*** (против 0.4 млрд. в регионах 1 и 3), что ***позволяет получить в среднем 460 млн. рублей*** прибыли."
   ]
  }
 ],
 "metadata": {
  "ExecuteTimeLog": [
   {
    "duration": 1369,
    "start_time": "2021-08-12T12:21:49.992Z"
   },
   {
    "duration": 2522,
    "start_time": "2021-08-12T12:26:09.259Z"
   },
   {
    "duration": 4281,
    "start_time": "2021-08-12T12:27:07.436Z"
   },
   {
    "duration": 3169,
    "start_time": "2021-08-12T12:27:26.554Z"
   },
   {
    "duration": 4396,
    "start_time": "2021-08-12T12:29:07.577Z"
   },
   {
    "duration": 1449,
    "start_time": "2021-08-12T12:35:03.343Z"
   },
   {
    "duration": 184,
    "start_time": "2021-08-12T12:40:25.700Z"
   },
   {
    "duration": 2682,
    "start_time": "2021-08-12T12:54:10.547Z"
   },
   {
    "duration": 59,
    "start_time": "2021-08-12T12:54:15.288Z"
   },
   {
    "duration": 230,
    "start_time": "2021-08-13T10:56:18.912Z"
   },
   {
    "duration": 1131,
    "start_time": "2021-08-13T10:56:22.677Z"
   },
   {
    "duration": 983,
    "start_time": "2021-08-13T10:56:23.810Z"
   },
   {
    "duration": 50,
    "start_time": "2021-08-13T10:56:24.795Z"
   },
   {
    "duration": 127,
    "start_time": "2021-08-13T10:56:24.846Z"
   },
   {
    "duration": 21,
    "start_time": "2021-08-13T10:56:24.975Z"
   },
   {
    "duration": 237,
    "start_time": "2021-08-13T10:56:58.313Z"
   },
   {
    "duration": 3,
    "start_time": "2021-08-13T10:57:03.360Z"
   },
   {
    "duration": 2620,
    "start_time": "2021-08-13T10:57:03.367Z"
   },
   {
    "duration": 43,
    "start_time": "2021-08-13T10:57:05.989Z"
   },
   {
    "duration": 121,
    "start_time": "2021-08-13T10:57:06.034Z"
   },
   {
    "duration": 1846,
    "start_time": "2021-08-13T10:57:06.157Z"
   },
   {
    "duration": 975,
    "start_time": "2021-08-13T10:57:17.144Z"
   },
   {
    "duration": 731,
    "start_time": "2021-08-13T10:57:18.121Z"
   },
   {
    "duration": 50,
    "start_time": "2021-08-13T10:57:18.854Z"
   },
   {
    "duration": 108,
    "start_time": "2021-08-13T10:57:18.906Z"
   },
   {
    "duration": 2007,
    "start_time": "2021-08-13T10:57:19.015Z"
   },
   {
    "duration": 178,
    "start_time": "2021-08-13T10:57:34.403Z"
   },
   {
    "duration": 3,
    "start_time": "2021-08-13T10:57:39.914Z"
   },
   {
    "duration": 1695,
    "start_time": "2021-08-13T10:57:39.929Z"
   },
   {
    "duration": 58,
    "start_time": "2021-08-13T10:57:41.626Z"
   },
   {
    "duration": 101,
    "start_time": "2021-08-13T10:57:41.686Z"
   },
   {
    "duration": 14,
    "start_time": "2021-08-13T10:57:41.789Z"
   },
   {
    "duration": 17,
    "start_time": "2021-08-13T10:59:15.588Z"
   },
   {
    "duration": 2,
    "start_time": "2021-08-13T11:06:58.431Z"
   },
   {
    "duration": 8,
    "start_time": "2021-08-13T12:06:29.000Z"
   },
   {
    "duration": 70,
    "start_time": "2021-08-13T12:19:39.304Z"
   },
   {
    "duration": 90,
    "start_time": "2021-08-13T12:20:09.368Z"
   },
   {
    "duration": 57,
    "start_time": "2021-08-13T12:22:49.957Z"
   },
   {
    "duration": 70,
    "start_time": "2021-08-13T12:24:32.881Z"
   },
   {
    "duration": 62,
    "start_time": "2021-08-13T12:31:36.004Z"
   },
   {
    "duration": 66,
    "start_time": "2021-08-13T12:32:11.415Z"
   },
   {
    "duration": 451,
    "start_time": "2021-08-13T12:32:54.769Z"
   },
   {
    "duration": 445,
    "start_time": "2021-08-13T12:33:23.173Z"
   },
   {
    "duration": 61,
    "start_time": "2021-08-13T12:41:51.586Z"
   },
   {
    "duration": 64,
    "start_time": "2021-08-13T12:42:34.712Z"
   },
   {
    "duration": 473,
    "start_time": "2021-08-13T12:43:29.064Z"
   },
   {
    "duration": 3,
    "start_time": "2021-08-13T12:44:04.503Z"
   },
   {
    "duration": 3,
    "start_time": "2021-08-13T12:44:21.992Z"
   },
   {
    "duration": 601,
    "start_time": "2021-08-13T12:58:01.786Z"
   },
   {
    "duration": 469,
    "start_time": "2021-08-13T12:58:15.561Z"
   },
   {
    "duration": 446,
    "start_time": "2021-08-13T12:58:56.329Z"
   },
   {
    "duration": 458,
    "start_time": "2021-08-13T12:59:52.457Z"
   },
   {
    "duration": 459,
    "start_time": "2021-08-13T13:04:28.291Z"
   },
   {
    "duration": 3,
    "start_time": "2021-08-13T13:09:52.365Z"
   },
   {
    "duration": 59,
    "start_time": "2021-08-13T13:16:16.677Z"
   },
   {
    "duration": 3,
    "start_time": "2021-08-13T13:16:24.590Z"
   },
   {
    "duration": 16,
    "start_time": "2021-08-13T13:16:56.344Z"
   },
   {
    "duration": 4,
    "start_time": "2021-08-13T13:25:30.303Z"
   },
   {
    "duration": 35,
    "start_time": "2021-08-13T13:29:26.447Z"
   },
   {
    "duration": 5,
    "start_time": "2021-08-13T13:31:43.619Z"
   },
   {
    "duration": 256,
    "start_time": "2021-08-13T16:16:53.507Z"
   },
   {
    "duration": 1119,
    "start_time": "2021-08-13T16:16:58.363Z"
   },
   {
    "duration": 1387,
    "start_time": "2021-08-13T16:16:59.484Z"
   },
   {
    "duration": 76,
    "start_time": "2021-08-13T16:17:00.873Z"
   },
   {
    "duration": 126,
    "start_time": "2021-08-13T16:17:00.951Z"
   },
   {
    "duration": 14,
    "start_time": "2021-08-13T16:17:01.079Z"
   },
   {
    "duration": 32,
    "start_time": "2021-08-13T16:17:01.095Z"
   },
   {
    "duration": 7,
    "start_time": "2021-08-13T16:17:01.129Z"
   },
   {
    "duration": 18,
    "start_time": "2021-08-13T16:17:01.138Z"
   },
   {
    "duration": 48,
    "start_time": "2021-08-13T16:17:01.158Z"
   },
   {
    "duration": 5,
    "start_time": "2021-08-13T16:17:01.208Z"
   },
   {
    "duration": 318,
    "start_time": "2021-08-13T16:17:01.215Z"
   },
   {
    "duration": 25,
    "start_time": "2021-08-13T16:17:38.978Z"
   },
   {
    "duration": 20,
    "start_time": "2021-08-13T16:59:03.231Z"
   },
   {
    "duration": 239,
    "start_time": "2021-08-13T17:00:02.891Z"
   },
   {
    "duration": 7,
    "start_time": "2021-08-13T17:00:41.987Z"
   },
   {
    "duration": 24,
    "start_time": "2021-08-13T17:01:10.233Z"
   },
   {
    "duration": 25,
    "start_time": "2021-08-13T17:03:30.608Z"
   },
   {
    "duration": 235,
    "start_time": "2021-08-13T17:08:13.392Z"
   },
   {
    "duration": 237,
    "start_time": "2021-08-13T17:08:24.031Z"
   },
   {
    "duration": 257,
    "start_time": "2021-08-13T17:11:04.446Z"
   },
   {
    "duration": 395,
    "start_time": "2021-08-13T17:14:11.099Z"
   },
   {
    "duration": 21,
    "start_time": "2021-08-13T17:14:46.322Z"
   },
   {
    "duration": 24,
    "start_time": "2021-08-13T17:15:16.812Z"
   },
   {
    "duration": 63,
    "start_time": "2021-08-13T17:15:48.516Z"
   },
   {
    "duration": 92,
    "start_time": "2021-08-13T17:18:24.073Z"
   },
   {
    "duration": 31,
    "start_time": "2021-08-13T17:19:54.873Z"
   },
   {
    "duration": 239,
    "start_time": "2021-08-13T17:20:21.153Z"
   },
   {
    "duration": 30,
    "start_time": "2021-08-13T17:21:13.146Z"
   },
   {
    "duration": 250,
    "start_time": "2021-08-13T17:21:28.017Z"
   },
   {
    "duration": 31,
    "start_time": "2021-08-13T17:21:32.232Z"
   },
   {
    "duration": 227,
    "start_time": "2021-08-13T17:21:36.209Z"
   },
   {
    "duration": 32,
    "start_time": "2021-08-13T17:21:49.401Z"
   },
   {
    "duration": 4,
    "start_time": "2021-08-13T17:21:51.569Z"
   },
   {
    "duration": 3,
    "start_time": "2021-08-13T17:23:03.551Z"
   },
   {
    "duration": 18,
    "start_time": "2021-08-13T17:23:26.110Z"
   },
   {
    "duration": 7,
    "start_time": "2021-08-14T08:47:50.191Z"
   },
   {
    "duration": 6,
    "start_time": "2021-08-14T08:48:04.127Z"
   },
   {
    "duration": 10,
    "start_time": "2021-08-14T08:49:49.964Z"
   },
   {
    "duration": 310,
    "start_time": "2021-08-14T08:51:38.771Z"
   },
   {
    "duration": 1416,
    "start_time": "2021-08-14T08:51:45.290Z"
   },
   {
    "duration": 2474,
    "start_time": "2021-08-14T08:51:46.708Z"
   },
   {
    "duration": 105,
    "start_time": "2021-08-14T08:51:49.186Z"
   },
   {
    "duration": 234,
    "start_time": "2021-08-14T08:51:49.295Z"
   },
   {
    "duration": 32,
    "start_time": "2021-08-14T08:51:49.531Z"
   },
   {
    "duration": 38,
    "start_time": "2021-08-14T08:51:49.566Z"
   },
   {
    "duration": 13,
    "start_time": "2021-08-14T08:51:49.607Z"
   },
   {
    "duration": 37,
    "start_time": "2021-08-14T08:51:49.625Z"
   },
   {
    "duration": 63,
    "start_time": "2021-08-14T08:51:49.666Z"
   },
   {
    "duration": 31,
    "start_time": "2021-08-14T08:51:49.732Z"
   },
   {
    "duration": 6,
    "start_time": "2021-08-14T08:51:49.766Z"
   },
   {
    "duration": 39,
    "start_time": "2021-08-14T08:51:49.775Z"
   },
   {
    "duration": 167,
    "start_time": "2021-08-14T08:51:49.817Z"
   },
   {
    "duration": 9,
    "start_time": "2021-08-14T08:51:49.987Z"
   },
   {
    "duration": 925,
    "start_time": "2021-08-14T08:51:49.999Z"
   },
   {
    "duration": 576,
    "start_time": "2021-08-14T08:52:05.286Z"
   },
   {
    "duration": 6,
    "start_time": "2021-08-14T08:53:48.232Z"
   },
   {
    "duration": 588,
    "start_time": "2021-08-14T08:53:50.611Z"
   },
   {
    "duration": 94,
    "start_time": "2021-08-14T08:56:58.910Z"
   },
   {
    "duration": 9,
    "start_time": "2021-08-14T08:57:04.295Z"
   },
   {
    "duration": 35,
    "start_time": "2021-08-14T08:57:56.926Z"
   },
   {
    "duration": 6,
    "start_time": "2021-08-14T08:58:32.021Z"
   },
   {
    "duration": 565,
    "start_time": "2021-08-14T08:58:35.700Z"
   },
   {
    "duration": 18448,
    "start_time": "2021-08-14T08:59:05.569Z"
   },
   {
    "duration": 6,
    "start_time": "2021-08-14T08:59:26.427Z"
   },
   {
    "duration": 624,
    "start_time": "2021-08-14T08:59:29.708Z"
   },
   {
    "duration": 8,
    "start_time": "2021-08-14T09:00:35.036Z"
   },
   {
    "duration": 562,
    "start_time": "2021-08-14T09:00:40.259Z"
   },
   {
    "duration": 6,
    "start_time": "2021-08-14T09:04:14.240Z"
   },
   {
    "duration": 585,
    "start_time": "2021-08-14T09:04:16.559Z"
   },
   {
    "duration": 6,
    "start_time": "2021-08-14T09:05:32.575Z"
   },
   {
    "duration": 528,
    "start_time": "2021-08-14T09:05:35.422Z"
   },
   {
    "duration": 5,
    "start_time": "2021-08-14T09:06:29.403Z"
   },
   {
    "duration": 6,
    "start_time": "2021-08-14T09:06:37.686Z"
   },
   {
    "duration": 98,
    "start_time": "2021-08-14T09:06:40.669Z"
   },
   {
    "duration": 6,
    "start_time": "2021-08-14T09:08:13.699Z"
   },
   {
    "duration": 34,
    "start_time": "2021-08-14T09:08:15.630Z"
   },
   {
    "duration": 6,
    "start_time": "2021-08-14T09:08:54.244Z"
   },
   {
    "duration": 110,
    "start_time": "2021-08-14T09:08:57.059Z"
   },
   {
    "duration": 5,
    "start_time": "2021-08-14T09:09:40.295Z"
   },
   {
    "duration": 4626,
    "start_time": "2021-08-14T09:09:40.303Z"
   },
   {
    "duration": 71,
    "start_time": "2021-08-14T09:09:44.934Z"
   },
   {
    "duration": 214,
    "start_time": "2021-08-14T09:09:45.008Z"
   },
   {
    "duration": 3,
    "start_time": "2021-08-14T09:09:45.226Z"
   },
   {
    "duration": 61,
    "start_time": "2021-08-14T09:09:45.233Z"
   },
   {
    "duration": 20,
    "start_time": "2021-08-14T09:09:45.298Z"
   },
   {
    "duration": 7,
    "start_time": "2021-08-14T09:09:45.321Z"
   },
   {
    "duration": 94,
    "start_time": "2021-08-14T09:09:45.331Z"
   },
   {
    "duration": 8,
    "start_time": "2021-08-14T09:09:45.427Z"
   },
   {
    "duration": 26,
    "start_time": "2021-08-14T09:09:45.437Z"
   },
   {
    "duration": 1339,
    "start_time": "2021-08-14T09:09:45.466Z"
   },
   {
    "duration": 182624,
    "start_time": "2021-08-14T09:06:44.183Z"
   },
   {
    "duration": 182623,
    "start_time": "2021-08-14T09:06:44.186Z"
   },
   {
    "duration": 182621,
    "start_time": "2021-08-14T09:06:44.189Z"
   },
   {
    "duration": 5,
    "start_time": "2021-08-14T09:49:22.301Z"
   },
   {
    "duration": 2273,
    "start_time": "2021-08-14T09:49:22.308Z"
   },
   {
    "duration": 105,
    "start_time": "2021-08-14T09:49:24.585Z"
   },
   {
    "duration": 231,
    "start_time": "2021-08-14T09:49:24.693Z"
   },
   {
    "duration": 36,
    "start_time": "2021-08-14T09:49:24.927Z"
   },
   {
    "duration": 25,
    "start_time": "2021-08-14T09:49:24.966Z"
   },
   {
    "duration": 13,
    "start_time": "2021-08-14T09:49:24.994Z"
   },
   {
    "duration": 11,
    "start_time": "2021-08-14T09:49:25.010Z"
   },
   {
    "duration": 83,
    "start_time": "2021-08-14T09:49:25.023Z"
   },
   {
    "duration": 6,
    "start_time": "2021-08-14T09:49:25.109Z"
   },
   {
    "duration": 7,
    "start_time": "2021-08-14T09:49:25.117Z"
   },
   {
    "duration": 49,
    "start_time": "2021-08-14T09:49:25.127Z"
   },
   {
    "duration": 115,
    "start_time": "2021-08-14T09:49:25.179Z"
   },
   {
    "duration": 6,
    "start_time": "2021-08-14T09:49:25.296Z"
   },
   {
    "duration": 159,
    "start_time": "2021-08-14T09:49:25.305Z"
   },
   {
    "duration": 448,
    "start_time": "2021-08-14T09:49:56.617Z"
   },
   {
    "duration": 17,
    "start_time": "2021-08-14T09:59:31.214Z"
   },
   {
    "duration": 22,
    "start_time": "2021-08-14T09:59:59.796Z"
   },
   {
    "duration": 31,
    "start_time": "2021-08-14T10:00:24.541Z"
   },
   {
    "duration": 9,
    "start_time": "2021-08-14T10:07:52.790Z"
   },
   {
    "duration": 485,
    "start_time": "2021-08-14T10:07:55.280Z"
   },
   {
    "duration": 6,
    "start_time": "2021-08-14T10:08:04.432Z"
   },
   {
    "duration": 416,
    "start_time": "2021-08-14T10:11:53.350Z"
   },
   {
    "duration": 5,
    "start_time": "2021-08-14T10:30:50.005Z"
   },
   {
    "duration": 2310,
    "start_time": "2021-08-14T10:30:50.012Z"
   },
   {
    "duration": 79,
    "start_time": "2021-08-14T10:30:52.325Z"
   },
   {
    "duration": 217,
    "start_time": "2021-08-14T10:30:52.407Z"
   },
   {
    "duration": 19,
    "start_time": "2021-08-14T10:30:52.626Z"
   },
   {
    "duration": 33,
    "start_time": "2021-08-14T10:30:52.662Z"
   },
   {
    "duration": 14,
    "start_time": "2021-08-14T10:30:52.701Z"
   },
   {
    "duration": 17,
    "start_time": "2021-08-14T10:30:52.718Z"
   },
   {
    "duration": 70,
    "start_time": "2021-08-14T10:30:52.738Z"
   },
   {
    "duration": 8,
    "start_time": "2021-08-14T10:30:52.811Z"
   },
   {
    "duration": 14,
    "start_time": "2021-08-14T10:30:52.822Z"
   },
   {
    "duration": 42,
    "start_time": "2021-08-14T10:30:52.839Z"
   },
   {
    "duration": 23,
    "start_time": "2021-08-14T10:30:52.883Z"
   },
   {
    "duration": 12,
    "start_time": "2021-08-14T10:30:52.908Z"
   },
   {
    "duration": 345,
    "start_time": "2021-08-14T10:30:52.922Z"
   },
   {
    "duration": 5,
    "start_time": "2021-08-14T10:31:23.231Z"
   },
   {
    "duration": 1992,
    "start_time": "2021-08-14T10:43:04.133Z"
   },
   {
    "duration": 876,
    "start_time": "2021-08-14T10:43:06.128Z"
   },
   {
    "duration": 76,
    "start_time": "2021-08-14T10:43:07.007Z"
   },
   {
    "duration": 195,
    "start_time": "2021-08-14T10:43:07.086Z"
   },
   {
    "duration": 19,
    "start_time": "2021-08-14T10:43:07.284Z"
   },
   {
    "duration": 27,
    "start_time": "2021-08-14T10:43:07.306Z"
   },
   {
    "duration": 11,
    "start_time": "2021-08-14T10:43:07.363Z"
   },
   {
    "duration": 9,
    "start_time": "2021-08-14T10:43:07.377Z"
   },
   {
    "duration": 46,
    "start_time": "2021-08-14T10:43:07.389Z"
   },
   {
    "duration": 27,
    "start_time": "2021-08-14T10:43:07.438Z"
   },
   {
    "duration": 5,
    "start_time": "2021-08-14T10:43:07.468Z"
   },
   {
    "duration": 48,
    "start_time": "2021-08-14T10:43:07.475Z"
   },
   {
    "duration": 144,
    "start_time": "2021-08-14T10:43:07.525Z"
   },
   {
    "duration": 6,
    "start_time": "2021-08-14T10:43:07.672Z"
   },
   {
    "duration": 487,
    "start_time": "2021-08-14T10:43:07.680Z"
   },
   {
    "duration": 731,
    "start_time": "2021-08-14T10:45:10.331Z"
   },
   {
    "duration": 68,
    "start_time": "2021-08-14T10:45:37.201Z"
   },
   {
    "duration": 127,
    "start_time": "2021-08-14T10:46:10.344Z"
   },
   {
    "duration": 456,
    "start_time": "2021-08-14T10:46:40.801Z"
   },
   {
    "duration": 243,
    "start_time": "2021-08-14T10:47:08.922Z"
   },
   {
    "duration": 5,
    "start_time": "2021-08-14T11:01:56.839Z"
   },
   {
    "duration": 181,
    "start_time": "2021-08-14T11:01:59.281Z"
   },
   {
    "duration": 66,
    "start_time": "2021-08-14T11:04:07.299Z"
   },
   {
    "duration": 32,
    "start_time": "2021-08-14T11:04:16.289Z"
   },
   {
    "duration": 347,
    "start_time": "2021-08-14T11:06:38.712Z"
   },
   {
    "duration": 303,
    "start_time": "2021-08-14T11:06:46.246Z"
   },
   {
    "duration": 369,
    "start_time": "2021-08-14T11:06:56.183Z"
   },
   {
    "duration": 23,
    "start_time": "2021-08-14T11:07:21.349Z"
   },
   {
    "duration": 164,
    "start_time": "2021-08-14T11:07:28.598Z"
   },
   {
    "duration": 155,
    "start_time": "2021-08-14T11:07:40.333Z"
   },
   {
    "duration": 53,
    "start_time": "2021-08-14T11:08:56.819Z"
   },
   {
    "duration": 176,
    "start_time": "2021-08-14T11:09:23.396Z"
   },
   {
    "duration": 85,
    "start_time": "2021-08-14T11:16:02.303Z"
   },
   {
    "duration": 80,
    "start_time": "2021-08-14T11:16:42.301Z"
   },
   {
    "duration": 170,
    "start_time": "2021-08-14T11:22:57.111Z"
   },
   {
    "duration": 212,
    "start_time": "2021-08-14T11:23:38.561Z"
   },
   {
    "duration": 2014,
    "start_time": "2021-08-14T11:23:52.764Z"
   },
   {
    "duration": 1037,
    "start_time": "2021-08-14T11:23:54.781Z"
   },
   {
    "duration": 72,
    "start_time": "2021-08-14T11:23:55.822Z"
   },
   {
    "duration": 225,
    "start_time": "2021-08-14T11:23:55.897Z"
   },
   {
    "duration": 22,
    "start_time": "2021-08-14T11:23:56.126Z"
   },
   {
    "duration": 43,
    "start_time": "2021-08-14T11:23:56.151Z"
   },
   {
    "duration": 10,
    "start_time": "2021-08-14T11:23:56.196Z"
   },
   {
    "duration": 6,
    "start_time": "2021-08-14T11:23:56.210Z"
   },
   {
    "duration": 88,
    "start_time": "2021-08-14T11:23:56.219Z"
   },
   {
    "duration": 6,
    "start_time": "2021-08-14T11:23:56.310Z"
   },
   {
    "duration": 14,
    "start_time": "2021-08-14T11:23:56.319Z"
   },
   {
    "duration": 63,
    "start_time": "2021-08-14T11:23:56.335Z"
   },
   {
    "duration": 123,
    "start_time": "2021-08-14T11:23:56.400Z"
   },
   {
    "duration": 5,
    "start_time": "2021-08-14T11:23:56.525Z"
   },
   {
    "duration": 251,
    "start_time": "2021-08-14T11:23:56.532Z"
   },
   {
    "duration": 125,
    "start_time": "2021-08-14T11:24:23.540Z"
   },
   {
    "duration": 116,
    "start_time": "2021-08-14T11:24:45.955Z"
   },
   {
    "duration": 116,
    "start_time": "2021-08-14T11:24:56.755Z"
   },
   {
    "duration": 102,
    "start_time": "2021-08-14T11:25:18.363Z"
   },
   {
    "duration": 197,
    "start_time": "2021-08-14T11:25:33.565Z"
   },
   {
    "duration": 93,
    "start_time": "2021-08-14T11:26:46.483Z"
   },
   {
    "duration": 76,
    "start_time": "2021-08-14T11:27:07.201Z"
   },
   {
    "duration": 224,
    "start_time": "2021-08-14T11:27:22.338Z"
   },
   {
    "duration": 69,
    "start_time": "2021-08-14T11:28:17.000Z"
   },
   {
    "duration": 79,
    "start_time": "2021-08-14T11:29:16.385Z"
   },
   {
    "duration": 505,
    "start_time": "2021-08-14T11:35:30.485Z"
   },
   {
    "duration": 280,
    "start_time": "2021-08-14T11:36:57.772Z"
   },
   {
    "duration": 399,
    "start_time": "2021-08-14T11:38:59.773Z"
   },
   {
    "duration": 445,
    "start_time": "2021-08-14T11:40:14.924Z"
   },
   {
    "duration": 531,
    "start_time": "2021-08-14T11:40:50.049Z"
   },
   {
    "duration": 591,
    "start_time": "2021-08-14T11:41:29.985Z"
   },
   {
    "duration": 53,
    "start_time": "2021-08-14T11:44:38.209Z"
   },
   {
    "duration": 88,
    "start_time": "2021-08-14T11:44:40.974Z"
   },
   {
    "duration": 106,
    "start_time": "2021-08-14T11:44:43.863Z"
   },
   {
    "duration": 10,
    "start_time": "2021-08-14T11:47:57.922Z"
   },
   {
    "duration": 9,
    "start_time": "2021-08-14T11:48:26.979Z"
   },
   {
    "duration": 10,
    "start_time": "2021-08-14T11:48:39.777Z"
   },
   {
    "duration": 8,
    "start_time": "2021-08-14T11:49:06.465Z"
   },
   {
    "duration": 5,
    "start_time": "2021-08-14T11:55:19.925Z"
   },
   {
    "duration": 7,
    "start_time": "2021-08-14T11:58:26.617Z"
   },
   {
    "duration": 277,
    "start_time": "2021-08-14T11:59:41.489Z"
   },
   {
    "duration": 6,
    "start_time": "2021-08-14T12:00:03.529Z"
   },
   {
    "duration": 42,
    "start_time": "2021-08-14T12:00:05.726Z"
   },
   {
    "duration": 370,
    "start_time": "2021-08-14T12:02:00.880Z"
   },
   {
    "duration": 116,
    "start_time": "2021-08-14T12:02:26.159Z"
   },
   {
    "duration": 170,
    "start_time": "2021-08-14T12:02:59.895Z"
   },
   {
    "duration": 94,
    "start_time": "2021-08-14T12:03:15.974Z"
   },
   {
    "duration": 307,
    "start_time": "2021-08-14T12:04:39.383Z"
   },
   {
    "duration": 168,
    "start_time": "2021-08-14T12:05:07.597Z"
   },
   {
    "duration": 158,
    "start_time": "2021-08-14T12:05:32.405Z"
   },
   {
    "duration": 5,
    "start_time": "2021-08-14T12:07:41.525Z"
   },
   {
    "duration": 154,
    "start_time": "2021-08-14T12:07:48.013Z"
   },
   {
    "duration": 153,
    "start_time": "2021-08-14T12:08:55.115Z"
   },
   {
    "duration": 130,
    "start_time": "2021-08-14T12:09:53.139Z"
   },
   {
    "duration": 1246,
    "start_time": "2021-08-14T14:24:02.889Z"
   },
   {
    "duration": 90,
    "start_time": "2021-08-14T14:24:34.530Z"
   },
   {
    "duration": 225,
    "start_time": "2021-08-14T14:24:50.809Z"
   },
   {
    "duration": 18,
    "start_time": "2021-08-14T14:25:06.935Z"
   },
   {
    "duration": 25,
    "start_time": "2021-08-14T14:25:13.424Z"
   },
   {
    "duration": 11,
    "start_time": "2021-08-14T14:25:37.803Z"
   },
   {
    "duration": 59,
    "start_time": "2021-08-14T14:26:31.600Z"
   },
   {
    "duration": 7,
    "start_time": "2021-08-14T14:26:44.269Z"
   },
   {
    "duration": 7,
    "start_time": "2021-08-14T14:27:15.007Z"
   },
   {
    "duration": 54,
    "start_time": "2021-08-14T14:27:48.182Z"
   },
   {
    "duration": 105,
    "start_time": "2021-08-14T14:27:58.357Z"
   },
   {
    "duration": 158,
    "start_time": "2021-08-14T14:28:36.504Z"
   },
   {
    "duration": 160,
    "start_time": "2021-08-14T14:29:22.705Z"
   },
   {
    "duration": 124,
    "start_time": "2021-08-14T14:29:58.143Z"
   },
   {
    "duration": 5,
    "start_time": "2021-08-14T14:34:22.164Z"
   },
   {
    "duration": 5026,
    "start_time": "2021-08-14T14:34:22.171Z"
   },
   {
    "duration": 87,
    "start_time": "2021-08-14T14:34:27.201Z"
   },
   {
    "duration": 218,
    "start_time": "2021-08-14T14:34:27.290Z"
   },
   {
    "duration": 18,
    "start_time": "2021-08-14T14:34:27.510Z"
   },
   {
    "duration": 43,
    "start_time": "2021-08-14T14:34:27.530Z"
   },
   {
    "duration": 10,
    "start_time": "2021-08-14T14:34:27.576Z"
   },
   {
    "duration": 8,
    "start_time": "2021-08-14T14:34:27.589Z"
   },
   {
    "duration": 67,
    "start_time": "2021-08-14T14:34:27.600Z"
   },
   {
    "duration": 6,
    "start_time": "2021-08-14T14:34:27.670Z"
   },
   {
    "duration": 19,
    "start_time": "2021-08-14T14:34:27.678Z"
   },
   {
    "duration": 44,
    "start_time": "2021-08-14T14:34:27.700Z"
   },
   {
    "duration": 132,
    "start_time": "2021-08-14T14:34:27.746Z"
   },
   {
    "duration": 4,
    "start_time": "2021-08-14T14:34:27.881Z"
   },
   {
    "duration": 182,
    "start_time": "2021-08-14T14:34:27.887Z"
   },
   {
    "duration": 193,
    "start_time": "2021-08-14T14:34:28.071Z"
   },
   {
    "duration": 207,
    "start_time": "2021-08-14T14:34:28.266Z"
   },
   {
    "duration": 460,
    "start_time": "2021-08-14T14:47:09.171Z"
   },
   {
    "duration": 519,
    "start_time": "2021-08-14T14:47:27.888Z"
   },
   {
    "duration": 348,
    "start_time": "2021-08-14T14:47:49.431Z"
   },
   {
    "duration": 340,
    "start_time": "2021-08-14T14:48:07.743Z"
   },
   {
    "duration": 420,
    "start_time": "2021-08-14T14:48:25.592Z"
   },
   {
    "duration": 1628,
    "start_time": "2021-08-14T14:48:56.280Z"
   },
   {
    "duration": 3261,
    "start_time": "2021-08-14T14:49:08.816Z"
   },
   {
    "duration": 919,
    "start_time": "2021-08-14T14:49:34.190Z"
   },
   {
    "duration": 1267,
    "start_time": "2021-08-14T14:50:08.141Z"
   },
   {
    "duration": 835,
    "start_time": "2021-08-14T14:50:23.720Z"
   },
   {
    "duration": 835,
    "start_time": "2021-08-14T14:50:32.954Z"
   },
   {
    "duration": 852,
    "start_time": "2021-08-14T14:51:17.660Z"
   },
   {
    "duration": 926,
    "start_time": "2021-08-14T14:52:19.598Z"
   },
   {
    "duration": 560,
    "start_time": "2021-08-14T14:52:37.607Z"
   },
   {
    "duration": 337,
    "start_time": "2021-08-14T14:52:47.220Z"
   },
   {
    "duration": 384,
    "start_time": "2021-08-14T14:52:55.931Z"
   },
   {
    "duration": 35,
    "start_time": "2021-08-14T14:53:31.204Z"
   },
   {
    "duration": 25,
    "start_time": "2021-08-14T14:53:42.988Z"
   },
   {
    "duration": 24,
    "start_time": "2021-08-14T14:54:12.664Z"
   },
   {
    "duration": 6,
    "start_time": "2021-08-15T12:06:54.202Z"
   },
   {
    "duration": 5,
    "start_time": "2021-08-15T12:08:05.714Z"
   },
   {
    "duration": 5,
    "start_time": "2021-08-15T12:16:19.907Z"
   },
   {
    "duration": 365,
    "start_time": "2021-08-15T12:17:24.979Z"
   },
   {
    "duration": 5,
    "start_time": "2021-08-15T12:18:35.784Z"
   },
   {
    "duration": 6,
    "start_time": "2021-08-15T12:18:52.311Z"
   },
   {
    "duration": 5,
    "start_time": "2021-08-15T12:20:21.184Z"
   },
   {
    "duration": 101,
    "start_time": "2021-08-15T12:20:54.614Z"
   },
   {
    "duration": 5,
    "start_time": "2021-08-15T12:21:00.990Z"
   },
   {
    "duration": 1466,
    "start_time": "2021-08-15T13:09:55.284Z"
   },
   {
    "duration": 1269,
    "start_time": "2021-08-15T13:09:56.753Z"
   },
   {
    "duration": 80,
    "start_time": "2021-08-15T13:09:58.025Z"
   },
   {
    "duration": 201,
    "start_time": "2021-08-15T13:09:58.108Z"
   },
   {
    "duration": 17,
    "start_time": "2021-08-15T13:09:58.311Z"
   },
   {
    "duration": 48,
    "start_time": "2021-08-15T13:09:58.330Z"
   },
   {
    "duration": 11,
    "start_time": "2021-08-15T13:09:58.381Z"
   },
   {
    "duration": 5,
    "start_time": "2021-08-15T13:09:58.396Z"
   },
   {
    "duration": 76,
    "start_time": "2021-08-15T13:09:58.403Z"
   },
   {
    "duration": 6,
    "start_time": "2021-08-15T13:09:58.482Z"
   },
   {
    "duration": 8,
    "start_time": "2021-08-15T13:09:58.490Z"
   },
   {
    "duration": 30,
    "start_time": "2021-08-15T13:09:58.501Z"
   },
   {
    "duration": 155,
    "start_time": "2021-08-15T13:09:58.534Z"
   },
   {
    "duration": 6,
    "start_time": "2021-08-15T13:09:58.693Z"
   },
   {
    "duration": 170,
    "start_time": "2021-08-15T13:09:58.702Z"
   },
   {
    "duration": 287,
    "start_time": "2021-08-15T13:09:58.876Z"
   },
   {
    "duration": 198,
    "start_time": "2021-08-15T13:09:59.165Z"
   },
   {
    "duration": 5,
    "start_time": "2021-08-15T13:09:59.365Z"
   },
   {
    "duration": 8,
    "start_time": "2021-08-15T13:09:59.372Z"
   },
   {
    "duration": 7,
    "start_time": "2021-08-15T13:09:59.383Z"
   },
   {
    "duration": 364,
    "start_time": "2021-08-15T13:10:37.095Z"
   },
   {
    "duration": 11,
    "start_time": "2021-08-15T13:10:46.023Z"
   },
   {
    "duration": 13,
    "start_time": "2021-08-15T13:10:54.181Z"
   },
   {
    "duration": 6,
    "start_time": "2021-08-15T13:11:21.548Z"
   },
   {
    "duration": 13,
    "start_time": "2021-08-15T13:11:24.110Z"
   },
   {
    "duration": 326,
    "start_time": "2021-08-15T13:12:02.006Z"
   },
   {
    "duration": 20,
    "start_time": "2021-08-15T13:12:18.477Z"
   },
   {
    "duration": 448,
    "start_time": "2021-08-15T15:14:56.640Z"
   },
   {
    "duration": 1496,
    "start_time": "2021-08-15T15:15:02.913Z"
   },
   {
    "duration": 1484,
    "start_time": "2021-08-15T15:15:04.411Z"
   },
   {
    "duration": 94,
    "start_time": "2021-08-15T15:15:05.898Z"
   },
   {
    "duration": 199,
    "start_time": "2021-08-15T15:15:05.995Z"
   },
   {
    "duration": 18,
    "start_time": "2021-08-15T15:15:06.196Z"
   },
   {
    "duration": 42,
    "start_time": "2021-08-15T15:15:06.216Z"
   },
   {
    "duration": 25,
    "start_time": "2021-08-15T15:15:06.260Z"
   },
   {
    "duration": 24,
    "start_time": "2021-08-15T15:15:06.290Z"
   },
   {
    "duration": 63,
    "start_time": "2021-08-15T15:15:06.317Z"
   },
   {
    "duration": 6,
    "start_time": "2021-08-15T15:15:06.383Z"
   },
   {
    "duration": 28,
    "start_time": "2021-08-15T15:15:06.392Z"
   },
   {
    "duration": 49,
    "start_time": "2021-08-15T15:15:06.422Z"
   },
   {
    "duration": 100,
    "start_time": "2021-08-15T15:15:06.474Z"
   },
   {
    "duration": 5,
    "start_time": "2021-08-15T15:15:06.585Z"
   },
   {
    "duration": 195,
    "start_time": "2021-08-15T15:15:06.592Z"
   },
   {
    "duration": 201,
    "start_time": "2021-08-15T15:15:06.790Z"
   },
   {
    "duration": 192,
    "start_time": "2021-08-15T15:15:06.994Z"
   },
   {
    "duration": 5,
    "start_time": "2021-08-15T15:15:07.189Z"
   },
   {
    "duration": 12,
    "start_time": "2021-08-15T15:15:07.196Z"
   },
   {
    "duration": 41,
    "start_time": "2021-08-15T15:15:07.211Z"
   },
   {
    "duration": 4,
    "start_time": "2021-08-15T15:15:07.254Z"
   },
   {
    "duration": 36,
    "start_time": "2021-08-15T15:15:07.261Z"
   },
   {
    "duration": 18,
    "start_time": "2021-08-15T15:15:32.879Z"
   },
   {
    "duration": 12,
    "start_time": "2021-08-15T15:15:54.174Z"
   },
   {
    "duration": 16,
    "start_time": "2021-08-15T15:16:09.647Z"
   },
   {
    "duration": 16,
    "start_time": "2021-08-15T15:16:30.847Z"
   },
   {
    "duration": 15,
    "start_time": "2021-08-15T15:16:43.574Z"
   },
   {
    "duration": 16,
    "start_time": "2021-08-15T15:16:51.621Z"
   },
   {
    "duration": 16,
    "start_time": "2021-08-15T15:17:03.046Z"
   },
   {
    "duration": 4,
    "start_time": "2021-08-15T15:39:55.741Z"
   },
   {
    "duration": 11,
    "start_time": "2021-08-15T15:40:13.038Z"
   },
   {
    "duration": 451,
    "start_time": "2021-08-15T15:40:35.509Z"
   },
   {
    "duration": 17,
    "start_time": "2021-08-15T15:40:43.269Z"
   },
   {
    "duration": 17,
    "start_time": "2021-08-15T15:40:58.654Z"
   },
   {
    "duration": 17,
    "start_time": "2021-08-15T15:41:05.454Z"
   },
   {
    "duration": 21,
    "start_time": "2021-08-15T15:41:52.901Z"
   },
   {
    "duration": 5,
    "start_time": "2021-08-15T15:42:29.691Z"
   },
   {
    "duration": 21,
    "start_time": "2021-08-15T15:42:32.652Z"
   },
   {
    "duration": 5,
    "start_time": "2021-08-15T15:45:30.774Z"
   },
   {
    "duration": 21,
    "start_time": "2021-08-15T15:45:33.114Z"
   },
   {
    "duration": 6,
    "start_time": "2021-08-15T16:01:54.857Z"
   },
   {
    "duration": 424,
    "start_time": "2021-08-15T16:02:15.628Z"
   },
   {
    "duration": 24,
    "start_time": "2021-08-15T16:02:19.306Z"
   },
   {
    "duration": 436,
    "start_time": "2021-08-15T16:26:53.442Z"
   },
   {
    "duration": 441,
    "start_time": "2021-08-15T16:28:10.385Z"
   },
   {
    "duration": 413,
    "start_time": "2021-08-15T16:28:52.376Z"
   },
   {
    "duration": 126,
    "start_time": "2021-08-15T16:32:46.269Z"
   },
   {
    "duration": 460,
    "start_time": "2021-08-15T16:32:59.853Z"
   },
   {
    "duration": 449,
    "start_time": "2021-08-15T16:37:24.880Z"
   },
   {
    "duration": 430,
    "start_time": "2021-08-15T16:38:11.392Z"
   },
   {
    "duration": 552,
    "start_time": "2021-08-15T16:39:57.926Z"
   },
   {
    "duration": 50,
    "start_time": "2021-08-15T16:42:37.295Z"
   },
   {
    "duration": 57,
    "start_time": "2021-08-15T16:44:20.831Z"
   },
   {
    "duration": 52,
    "start_time": "2021-08-15T16:44:34.517Z"
   },
   {
    "duration": 52,
    "start_time": "2021-08-15T16:45:01.677Z"
   },
   {
    "duration": 399,
    "start_time": "2021-08-15T16:45:52.171Z"
   },
   {
    "duration": 6,
    "start_time": "2021-08-15T16:46:01.224Z"
   },
   {
    "duration": 55,
    "start_time": "2021-08-15T16:46:04.347Z"
   },
   {
    "duration": 52,
    "start_time": "2021-08-15T16:48:13.681Z"
   },
   {
    "duration": 5,
    "start_time": "2021-08-15T17:01:43.469Z"
   },
   {
    "duration": 55,
    "start_time": "2021-08-15T17:01:46.622Z"
   },
   {
    "duration": 57,
    "start_time": "2021-08-15T17:01:55.290Z"
   },
   {
    "duration": 5,
    "start_time": "2021-08-15T17:01:59.068Z"
   },
   {
    "duration": 57,
    "start_time": "2021-08-15T17:02:01.806Z"
   },
   {
    "duration": 6,
    "start_time": "2021-08-15T17:02:20.443Z"
   },
   {
    "duration": 53,
    "start_time": "2021-08-15T17:02:25.299Z"
   },
   {
    "duration": 6,
    "start_time": "2021-08-15T17:15:02.970Z"
   },
   {
    "duration": 53,
    "start_time": "2021-08-15T17:15:06.728Z"
   },
   {
    "duration": 6,
    "start_time": "2021-08-15T17:15:37.925Z"
   },
   {
    "duration": 54,
    "start_time": "2021-08-15T17:15:41.592Z"
   },
   {
    "duration": 5,
    "start_time": "2021-08-15T17:16:12.206Z"
   },
   {
    "duration": 55,
    "start_time": "2021-08-15T17:16:15.033Z"
   },
   {
    "duration": 56,
    "start_time": "2021-08-15T17:16:25.137Z"
   },
   {
    "duration": 136,
    "start_time": "2021-08-15T17:16:39.143Z"
   },
   {
    "duration": 122,
    "start_time": "2021-08-15T17:16:47.543Z"
   },
   {
    "duration": 5,
    "start_time": "2021-08-15T17:16:52.492Z"
   },
   {
    "duration": 59,
    "start_time": "2021-08-15T17:17:01.638Z"
   },
   {
    "duration": 1451,
    "start_time": "2021-08-16T12:26:42.050Z"
   },
   {
    "duration": 1277,
    "start_time": "2021-08-16T12:26:43.504Z"
   },
   {
    "duration": 70,
    "start_time": "2021-08-16T12:26:44.783Z"
   },
   {
    "duration": 215,
    "start_time": "2021-08-16T12:26:44.856Z"
   },
   {
    "duration": 30,
    "start_time": "2021-08-16T12:26:45.074Z"
   },
   {
    "duration": 62,
    "start_time": "2021-08-16T12:26:45.107Z"
   },
   {
    "duration": 10,
    "start_time": "2021-08-16T12:26:45.172Z"
   },
   {
    "duration": 38,
    "start_time": "2021-08-16T12:26:45.186Z"
   },
   {
    "duration": 61,
    "start_time": "2021-08-16T12:26:45.227Z"
   },
   {
    "duration": 7,
    "start_time": "2021-08-16T12:26:45.291Z"
   },
   {
    "duration": 37,
    "start_time": "2021-08-16T12:26:45.302Z"
   },
   {
    "duration": 55,
    "start_time": "2021-08-16T12:26:45.341Z"
   },
   {
    "duration": 110,
    "start_time": "2021-08-16T12:26:45.399Z"
   },
   {
    "duration": 5,
    "start_time": "2021-08-16T12:26:45.511Z"
   },
   {
    "duration": 184,
    "start_time": "2021-08-16T12:26:45.519Z"
   },
   {
    "duration": 195,
    "start_time": "2021-08-16T12:26:45.706Z"
   },
   {
    "duration": 107,
    "start_time": "2021-08-16T12:26:45.904Z"
   },
   {
    "duration": 4,
    "start_time": "2021-08-16T12:26:46.102Z"
   },
   {
    "duration": 27,
    "start_time": "2021-08-16T12:26:46.108Z"
   },
   {
    "duration": 30,
    "start_time": "2021-08-16T12:26:46.137Z"
   },
   {
    "duration": 64,
    "start_time": "2021-08-16T12:26:46.170Z"
   },
   {
    "duration": 6,
    "start_time": "2021-08-16T13:13:15.080Z"
   },
   {
    "duration": 486,
    "start_time": "2021-08-16T13:14:18.863Z"
   },
   {
    "duration": 6,
    "start_time": "2021-08-16T13:15:36.660Z"
   },
   {
    "duration": 3044,
    "start_time": "2021-08-16T13:28:15.330Z"
   },
   {
    "duration": 1909,
    "start_time": "2021-08-16T13:29:04.985Z"
   },
   {
    "duration": 2981,
    "start_time": "2021-08-16T13:29:19.969Z"
   },
   {
    "duration": 1879,
    "start_time": "2021-08-16T13:30:09.816Z"
   },
   {
    "duration": 1984,
    "start_time": "2021-08-16T13:30:25.351Z"
   },
   {
    "duration": 12,
    "start_time": "2021-08-16T17:06:11.883Z"
   },
   {
    "duration": 10,
    "start_time": "2021-08-16T17:06:43.274Z"
   },
   {
    "duration": 10,
    "start_time": "2021-08-16T17:07:41.258Z"
   },
   {
    "duration": 329,
    "start_time": "2021-08-16T17:08:46.005Z"
   },
   {
    "duration": 1502,
    "start_time": "2021-08-16T17:09:00.189Z"
   },
   {
    "duration": 1363,
    "start_time": "2021-08-16T17:09:01.695Z"
   },
   {
    "duration": 68,
    "start_time": "2021-08-16T17:09:03.063Z"
   },
   {
    "duration": 244,
    "start_time": "2021-08-16T17:09:03.134Z"
   },
   {
    "duration": 17,
    "start_time": "2021-08-16T17:09:03.381Z"
   },
   {
    "duration": 34,
    "start_time": "2021-08-16T17:09:03.401Z"
   },
   {
    "duration": 32,
    "start_time": "2021-08-16T17:09:03.438Z"
   },
   {
    "duration": 18,
    "start_time": "2021-08-16T17:09:03.473Z"
   },
   {
    "duration": 61,
    "start_time": "2021-08-16T17:09:03.494Z"
   },
   {
    "duration": 5,
    "start_time": "2021-08-16T17:09:03.558Z"
   },
   {
    "duration": 9,
    "start_time": "2021-08-16T17:09:03.565Z"
   },
   {
    "duration": 40,
    "start_time": "2021-08-16T17:09:03.576Z"
   },
   {
    "duration": 118,
    "start_time": "2021-08-16T17:09:03.619Z"
   },
   {
    "duration": 6,
    "start_time": "2021-08-16T17:09:03.740Z"
   },
   {
    "duration": 1548,
    "start_time": "2021-08-16T17:09:03.764Z"
   },
   {
    "duration": 187102,
    "start_time": "2021-08-16T17:05:58.213Z"
   },
   {
    "duration": 187095,
    "start_time": "2021-08-16T17:05:58.222Z"
   },
   {
    "duration": 187093,
    "start_time": "2021-08-16T17:05:58.226Z"
   },
   {
    "duration": 187091,
    "start_time": "2021-08-16T17:05:58.230Z"
   },
   {
    "duration": 187083,
    "start_time": "2021-08-16T17:05:58.240Z"
   },
   {
    "duration": 187083,
    "start_time": "2021-08-16T17:05:58.243Z"
   },
   {
    "duration": 187083,
    "start_time": "2021-08-16T17:05:58.245Z"
   },
   {
    "duration": 187062,
    "start_time": "2021-08-16T17:05:58.268Z"
   },
   {
    "duration": 1458,
    "start_time": "2021-08-16T17:09:29.721Z"
   },
   {
    "duration": 2472,
    "start_time": "2021-08-16T17:09:31.182Z"
   },
   {
    "duration": 70,
    "start_time": "2021-08-16T17:09:33.657Z"
   },
   {
    "duration": 248,
    "start_time": "2021-08-16T17:09:33.730Z"
   },
   {
    "duration": 19,
    "start_time": "2021-08-16T17:09:33.981Z"
   },
   {
    "duration": 44,
    "start_time": "2021-08-16T17:09:34.002Z"
   },
   {
    "duration": 10,
    "start_time": "2021-08-16T17:09:34.062Z"
   },
   {
    "duration": 5,
    "start_time": "2021-08-16T17:09:34.077Z"
   },
   {
    "duration": 51,
    "start_time": "2021-08-16T17:09:34.085Z"
   },
   {
    "duration": 6,
    "start_time": "2021-08-16T17:09:34.162Z"
   },
   {
    "duration": 9,
    "start_time": "2021-08-16T17:09:34.170Z"
   },
   {
    "duration": 37,
    "start_time": "2021-08-16T17:09:34.182Z"
   },
   {
    "duration": 131,
    "start_time": "2021-08-16T17:09:34.222Z"
   },
   {
    "duration": 13,
    "start_time": "2021-08-16T17:09:34.362Z"
   },
   {
    "duration": 501,
    "start_time": "2021-08-16T17:09:34.378Z"
   },
   {
    "duration": 187185,
    "start_time": "2021-08-16T17:06:27.698Z"
   },
   {
    "duration": 187184,
    "start_time": "2021-08-16T17:06:27.701Z"
   },
   {
    "duration": 187184,
    "start_time": "2021-08-16T17:06:27.702Z"
   },
   {
    "duration": 187183,
    "start_time": "2021-08-16T17:06:27.704Z"
   },
   {
    "duration": 187182,
    "start_time": "2021-08-16T17:06:27.707Z"
   },
   {
    "duration": 187182,
    "start_time": "2021-08-16T17:06:27.708Z"
   },
   {
    "duration": 187180,
    "start_time": "2021-08-16T17:06:27.711Z"
   },
   {
    "duration": 187180,
    "start_time": "2021-08-16T17:06:27.713Z"
   },
   {
    "duration": 5,
    "start_time": "2021-08-16T17:10:07.600Z"
   },
   {
    "duration": 2429,
    "start_time": "2021-08-16T17:10:07.608Z"
   },
   {
    "duration": 72,
    "start_time": "2021-08-16T17:10:10.039Z"
   },
   {
    "duration": 216,
    "start_time": "2021-08-16T17:10:10.113Z"
   },
   {
    "duration": 17,
    "start_time": "2021-08-16T17:10:10.331Z"
   },
   {
    "duration": 28,
    "start_time": "2021-08-16T17:10:10.363Z"
   },
   {
    "duration": 11,
    "start_time": "2021-08-16T17:10:10.396Z"
   },
   {
    "duration": 8,
    "start_time": "2021-08-16T17:10:10.412Z"
   },
   {
    "duration": 83,
    "start_time": "2021-08-16T17:10:10.422Z"
   },
   {
    "duration": 10,
    "start_time": "2021-08-16T17:10:10.507Z"
   },
   {
    "duration": 6,
    "start_time": "2021-08-16T17:10:10.521Z"
   },
   {
    "duration": 59,
    "start_time": "2021-08-16T17:10:10.530Z"
   },
   {
    "duration": 133,
    "start_time": "2021-08-16T17:10:10.592Z"
   },
   {
    "duration": 5,
    "start_time": "2021-08-16T17:10:10.728Z"
   },
   {
    "duration": 633,
    "start_time": "2021-08-16T17:10:10.736Z"
   },
   {
    "duration": 187189,
    "start_time": "2021-08-16T17:07:04.183Z"
   },
   {
    "duration": 187187,
    "start_time": "2021-08-16T17:07:04.186Z"
   },
   {
    "duration": 187188,
    "start_time": "2021-08-16T17:07:04.187Z"
   },
   {
    "duration": 187189,
    "start_time": "2021-08-16T17:07:04.189Z"
   },
   {
    "duration": 187190,
    "start_time": "2021-08-16T17:07:04.190Z"
   },
   {
    "duration": 187189,
    "start_time": "2021-08-16T17:07:04.192Z"
   },
   {
    "duration": 187190,
    "start_time": "2021-08-16T17:07:04.194Z"
   },
   {
    "duration": 5,
    "start_time": "2021-08-16T17:10:42.932Z"
   },
   {
    "duration": 971,
    "start_time": "2021-08-16T17:10:42.941Z"
   },
   {
    "duration": 82,
    "start_time": "2021-08-16T17:10:43.916Z"
   },
   {
    "duration": 221,
    "start_time": "2021-08-16T17:10:44.001Z"
   },
   {
    "duration": 19,
    "start_time": "2021-08-16T17:10:44.224Z"
   },
   {
    "duration": 40,
    "start_time": "2021-08-16T17:10:44.246Z"
   },
   {
    "duration": 11,
    "start_time": "2021-08-16T17:10:44.289Z"
   },
   {
    "duration": 8,
    "start_time": "2021-08-16T17:10:44.303Z"
   },
   {
    "duration": 79,
    "start_time": "2021-08-16T17:10:44.315Z"
   },
   {
    "duration": 7,
    "start_time": "2021-08-16T17:10:44.397Z"
   },
   {
    "duration": 6,
    "start_time": "2021-08-16T17:10:44.407Z"
   },
   {
    "duration": 59,
    "start_time": "2021-08-16T17:10:44.415Z"
   },
   {
    "duration": 116,
    "start_time": "2021-08-16T17:10:44.477Z"
   },
   {
    "duration": 6,
    "start_time": "2021-08-16T17:10:44.595Z"
   },
   {
    "duration": 703,
    "start_time": "2021-08-16T17:10:44.604Z"
   },
   {
    "duration": 187196,
    "start_time": "2021-08-16T17:07:38.114Z"
   },
   {
    "duration": 187195,
    "start_time": "2021-08-16T17:07:38.117Z"
   },
   {
    "duration": 187194,
    "start_time": "2021-08-16T17:07:38.120Z"
   },
   {
    "duration": 187194,
    "start_time": "2021-08-16T17:07:38.122Z"
   },
   {
    "duration": 187189,
    "start_time": "2021-08-16T17:07:38.129Z"
   },
   {
    "duration": 187189,
    "start_time": "2021-08-16T17:07:38.131Z"
   },
   {
    "duration": 187188,
    "start_time": "2021-08-16T17:07:38.134Z"
   },
   {
    "duration": 187128,
    "start_time": "2021-08-16T17:07:38.196Z"
   },
   {
    "duration": 1474,
    "start_time": "2021-08-16T17:10:59.817Z"
   },
   {
    "duration": 2462,
    "start_time": "2021-08-16T17:11:01.294Z"
   },
   {
    "duration": 67,
    "start_time": "2021-08-16T17:11:03.759Z"
   },
   {
    "duration": 254,
    "start_time": "2021-08-16T17:11:03.828Z"
   },
   {
    "duration": 17,
    "start_time": "2021-08-16T17:11:04.084Z"
   },
   {
    "duration": 57,
    "start_time": "2021-08-16T17:11:04.104Z"
   },
   {
    "duration": 11,
    "start_time": "2021-08-16T17:11:04.164Z"
   },
   {
    "duration": 9,
    "start_time": "2021-08-16T17:11:04.179Z"
   },
   {
    "duration": 70,
    "start_time": "2021-08-16T17:11:04.192Z"
   },
   {
    "duration": 6,
    "start_time": "2021-08-16T17:11:04.265Z"
   },
   {
    "duration": 9,
    "start_time": "2021-08-16T17:11:04.274Z"
   },
   {
    "duration": 34,
    "start_time": "2021-08-16T17:11:04.285Z"
   },
   {
    "duration": 153,
    "start_time": "2021-08-16T17:11:04.322Z"
   },
   {
    "duration": 5,
    "start_time": "2021-08-16T17:11:04.477Z"
   },
   {
    "duration": 902,
    "start_time": "2021-08-16T17:11:04.485Z"
   },
   {
    "duration": 187185,
    "start_time": "2021-08-16T17:07:58.205Z"
   },
   {
    "duration": 187182,
    "start_time": "2021-08-16T17:07:58.209Z"
   },
   {
    "duration": 187177,
    "start_time": "2021-08-16T17:07:58.215Z"
   },
   {
    "duration": 187176,
    "start_time": "2021-08-16T17:07:58.217Z"
   },
   {
    "duration": 187125,
    "start_time": "2021-08-16T17:07:58.270Z"
   },
   {
    "duration": 187124,
    "start_time": "2021-08-16T17:07:58.272Z"
   },
   {
    "duration": 187123,
    "start_time": "2021-08-16T17:07:58.274Z"
   },
   {
    "duration": 187122,
    "start_time": "2021-08-16T17:07:58.277Z"
   },
   {
    "duration": 4,
    "start_time": "2021-08-16T17:12:18.920Z"
   },
   {
    "duration": 1395,
    "start_time": "2021-08-16T17:12:26.068Z"
   },
   {
    "duration": 1947,
    "start_time": "2021-08-16T17:12:27.466Z"
   },
   {
    "duration": 110,
    "start_time": "2021-08-16T17:12:29.417Z"
   },
   {
    "duration": 265,
    "start_time": "2021-08-16T17:12:29.531Z"
   },
   {
    "duration": 17,
    "start_time": "2021-08-16T17:12:29.799Z"
   },
   {
    "duration": 45,
    "start_time": "2021-08-16T17:12:29.819Z"
   },
   {
    "duration": 11,
    "start_time": "2021-08-16T17:12:29.866Z"
   },
   {
    "duration": 8,
    "start_time": "2021-08-16T17:12:29.881Z"
   },
   {
    "duration": 70,
    "start_time": "2021-08-16T17:12:29.892Z"
   },
   {
    "duration": 6,
    "start_time": "2021-08-16T17:12:29.965Z"
   },
   {
    "duration": 11,
    "start_time": "2021-08-16T17:12:29.974Z"
   },
   {
    "duration": 35,
    "start_time": "2021-08-16T17:12:29.988Z"
   },
   {
    "duration": 138,
    "start_time": "2021-08-16T17:12:30.025Z"
   },
   {
    "duration": 5,
    "start_time": "2021-08-16T17:12:30.166Z"
   },
   {
    "duration": 100,
    "start_time": "2021-08-16T17:12:30.173Z"
   },
   {
    "duration": 109,
    "start_time": "2021-08-16T17:12:30.363Z"
   },
   {
    "duration": 198,
    "start_time": "2021-08-16T17:12:30.475Z"
   },
   {
    "duration": 89,
    "start_time": "2021-08-16T17:12:30.676Z"
   },
   {
    "duration": 22,
    "start_time": "2021-08-16T17:12:30.768Z"
   },
   {
    "duration": 16,
    "start_time": "2021-08-16T17:12:30.792Z"
   },
   {
    "duration": 79,
    "start_time": "2021-08-16T17:12:30.811Z"
   },
   {
    "duration": 10,
    "start_time": "2021-08-16T17:12:30.893Z"
   },
   {
    "duration": 928,
    "start_time": "2021-08-16T17:12:30.909Z"
   },
   {
    "duration": 11,
    "start_time": "2021-08-16T17:13:59.482Z"
   },
   {
    "duration": 547,
    "start_time": "2021-08-16T17:14:01.472Z"
   },
   {
    "duration": 91,
    "start_time": "2021-08-16T17:14:15.993Z"
   },
   {
    "duration": 82,
    "start_time": "2021-08-16T17:14:50.802Z"
   },
   {
    "duration": 11,
    "start_time": "2021-08-16T17:15:01.635Z"
   },
   {
    "duration": 10,
    "start_time": "2021-08-16T17:18:26.038Z"
   },
   {
    "duration": 4801,
    "start_time": "2021-08-16T17:18:28.795Z"
   },
   {
    "duration": 10,
    "start_time": "2021-08-16T17:23:00.743Z"
   },
   {
    "duration": 4317,
    "start_time": "2021-08-16T17:23:03.607Z"
   },
   {
    "duration": 10,
    "start_time": "2021-08-16T17:24:20.590Z"
   },
   {
    "duration": 4419,
    "start_time": "2021-08-16T17:24:22.752Z"
   },
   {
    "duration": 12,
    "start_time": "2021-08-16T17:30:03.025Z"
   },
   {
    "duration": 4929,
    "start_time": "2021-08-16T17:30:05.689Z"
   },
   {
    "duration": 11,
    "start_time": "2021-08-16T17:31:11.196Z"
   },
   {
    "duration": 4759,
    "start_time": "2021-08-16T17:31:13.880Z"
   },
   {
    "duration": 9,
    "start_time": "2021-08-16T17:33:31.502Z"
   },
   {
    "duration": 4322,
    "start_time": "2021-08-16T17:33:33.885Z"
   },
   {
    "duration": 15,
    "start_time": "2021-08-16T17:35:58.812Z"
   },
   {
    "duration": 4571,
    "start_time": "2021-08-16T17:36:01.232Z"
   },
   {
    "duration": 13,
    "start_time": "2021-08-16T17:39:17.011Z"
   },
   {
    "duration": 13262,
    "start_time": "2021-08-16T17:42:29.647Z"
   },
   {
    "duration": 13,
    "start_time": "2021-08-16T17:52:28.534Z"
   },
   {
    "duration": 6,
    "start_time": "2021-08-16T17:52:30.335Z"
   },
   {
    "duration": 1456,
    "start_time": "2021-08-16T17:52:30.344Z"
   },
   {
    "duration": 110,
    "start_time": "2021-08-16T17:52:31.804Z"
   },
   {
    "duration": 214,
    "start_time": "2021-08-16T17:52:31.918Z"
   },
   {
    "duration": 35,
    "start_time": "2021-08-16T17:52:32.136Z"
   },
   {
    "duration": 35,
    "start_time": "2021-08-16T17:52:32.175Z"
   },
   {
    "duration": 47,
    "start_time": "2021-08-16T17:52:32.215Z"
   },
   {
    "duration": 4,
    "start_time": "2021-08-16T17:52:32.266Z"
   },
   {
    "duration": 53,
    "start_time": "2021-08-16T17:52:32.273Z"
   },
   {
    "duration": 7,
    "start_time": "2021-08-16T17:52:32.329Z"
   },
   {
    "duration": 26,
    "start_time": "2021-08-16T17:52:32.338Z"
   },
   {
    "duration": 33,
    "start_time": "2021-08-16T17:52:32.367Z"
   },
   {
    "duration": 138,
    "start_time": "2021-08-16T17:52:32.402Z"
   },
   {
    "duration": 22,
    "start_time": "2021-08-16T17:52:32.543Z"
   },
   {
    "duration": 198,
    "start_time": "2021-08-16T17:52:32.567Z"
   },
   {
    "duration": 109,
    "start_time": "2021-08-16T17:52:32.767Z"
   },
   {
    "duration": 200,
    "start_time": "2021-08-16T17:52:32.963Z"
   },
   {
    "duration": 6,
    "start_time": "2021-08-16T17:52:33.166Z"
   },
   {
    "duration": 5,
    "start_time": "2021-08-16T17:52:33.178Z"
   },
   {
    "duration": 16,
    "start_time": "2021-08-16T17:52:33.186Z"
   },
   {
    "duration": 96,
    "start_time": "2021-08-16T17:52:33.205Z"
   },
   {
    "duration": 14,
    "start_time": "2021-08-16T17:52:33.304Z"
   },
   {
    "duration": 16242,
    "start_time": "2021-08-16T17:52:33.320Z"
   },
   {
    "duration": 4,
    "start_time": "2021-08-16T18:04:03.306Z"
   },
   {
    "duration": 6,
    "start_time": "2021-08-16T18:04:16.360Z"
   },
   {
    "duration": 5,
    "start_time": "2021-08-16T18:06:00.832Z"
   },
   {
    "duration": 274,
    "start_time": "2021-08-16T18:06:14.840Z"
   },
   {
    "duration": 4,
    "start_time": "2021-08-16T18:06:37.119Z"
   },
   {
    "duration": 4,
    "start_time": "2021-08-16T18:06:39.935Z"
   },
   {
    "duration": 5,
    "start_time": "2021-08-16T18:07:30.340Z"
   },
   {
    "duration": 1546,
    "start_time": "2021-08-16T18:07:30.347Z"
   },
   {
    "duration": 80,
    "start_time": "2021-08-16T18:07:31.896Z"
   },
   {
    "duration": 201,
    "start_time": "2021-08-16T18:07:31.979Z"
   },
   {
    "duration": 18,
    "start_time": "2021-08-16T18:07:32.182Z"
   },
   {
    "duration": 28,
    "start_time": "2021-08-16T18:07:32.203Z"
   },
   {
    "duration": 35,
    "start_time": "2021-08-16T18:07:32.234Z"
   },
   {
    "duration": 11,
    "start_time": "2021-08-16T18:07:32.272Z"
   },
   {
    "duration": 44,
    "start_time": "2021-08-16T18:07:32.286Z"
   },
   {
    "duration": 6,
    "start_time": "2021-08-16T18:07:32.332Z"
   },
   {
    "duration": 13,
    "start_time": "2021-08-16T18:07:32.362Z"
   },
   {
    "duration": 34,
    "start_time": "2021-08-16T18:07:32.378Z"
   },
   {
    "duration": 114,
    "start_time": "2021-08-16T18:07:32.414Z"
   },
   {
    "duration": 4,
    "start_time": "2021-08-16T18:07:32.531Z"
   },
   {
    "duration": 132,
    "start_time": "2021-08-16T18:07:32.538Z"
   },
   {
    "duration": 201,
    "start_time": "2021-08-16T18:07:32.763Z"
   },
   {
    "duration": 199,
    "start_time": "2021-08-16T18:07:32.966Z"
   },
   {
    "duration": 5,
    "start_time": "2021-08-16T18:07:33.167Z"
   },
   {
    "duration": 16,
    "start_time": "2021-08-16T18:07:33.176Z"
   },
   {
    "duration": 10,
    "start_time": "2021-08-16T18:07:33.195Z"
   },
   {
    "duration": 76,
    "start_time": "2021-08-16T18:07:33.208Z"
   },
   {
    "duration": 10,
    "start_time": "2021-08-16T18:07:33.286Z"
   },
   {
    "duration": 12825,
    "start_time": "2021-08-16T18:07:33.299Z"
   },
   {
    "duration": 1168,
    "start_time": "2021-08-17T07:57:37.142Z"
   },
   {
    "duration": 1254,
    "start_time": "2021-08-17T07:57:38.312Z"
   },
   {
    "duration": 47,
    "start_time": "2021-08-17T07:57:39.568Z"
   },
   {
    "duration": 86,
    "start_time": "2021-08-17T07:57:39.640Z"
   },
   {
    "duration": 17,
    "start_time": "2021-08-17T07:57:39.727Z"
   },
   {
    "duration": 17,
    "start_time": "2021-08-17T07:57:39.745Z"
   },
   {
    "duration": 7,
    "start_time": "2021-08-17T07:57:39.763Z"
   },
   {
    "duration": 4,
    "start_time": "2021-08-17T07:57:39.772Z"
   },
   {
    "duration": 34,
    "start_time": "2021-08-17T07:57:39.778Z"
   },
   {
    "duration": 4,
    "start_time": "2021-08-17T07:57:39.814Z"
   },
   {
    "duration": 3,
    "start_time": "2021-08-17T07:57:39.841Z"
   },
   {
    "duration": 22,
    "start_time": "2021-08-17T07:57:39.846Z"
   },
   {
    "duration": 84,
    "start_time": "2021-08-17T07:57:39.870Z"
   },
   {
    "duration": 3,
    "start_time": "2021-08-17T07:57:39.956Z"
   },
   {
    "duration": 179,
    "start_time": "2021-08-17T07:57:39.961Z"
   },
   {
    "duration": 103,
    "start_time": "2021-08-17T07:57:40.142Z"
   },
   {
    "duration": 195,
    "start_time": "2021-08-17T07:57:40.247Z"
   },
   {
    "duration": 4,
    "start_time": "2021-08-17T07:57:40.444Z"
   },
   {
    "duration": 95,
    "start_time": "2021-08-17T07:57:40.450Z"
   },
   {
    "duration": 6,
    "start_time": "2021-08-17T07:57:40.546Z"
   },
   {
    "duration": 40,
    "start_time": "2021-08-17T07:57:40.553Z"
   },
   {
    "duration": 6,
    "start_time": "2021-08-17T07:57:40.595Z"
   },
   {
    "duration": 7286,
    "start_time": "2021-08-17T07:57:40.604Z"
   },
   {
    "duration": 6,
    "start_time": "2021-08-17T08:06:57.017Z"
   },
   {
    "duration": 7411,
    "start_time": "2021-08-17T08:07:00.049Z"
   },
   {
    "duration": 2,
    "start_time": "2021-08-17T08:16:17.999Z"
   },
   {
    "duration": 3,
    "start_time": "2021-08-17T08:16:42.559Z"
   },
   {
    "duration": 3,
    "start_time": "2021-08-17T09:32:33.788Z"
   },
   {
    "duration": 982,
    "start_time": "2021-08-17T09:32:33.794Z"
   },
   {
    "duration": 41,
    "start_time": "2021-08-17T09:32:34.778Z"
   },
   {
    "duration": 107,
    "start_time": "2021-08-17T09:32:34.821Z"
   },
   {
    "duration": 21,
    "start_time": "2021-08-17T09:32:34.930Z"
   },
   {
    "duration": 23,
    "start_time": "2021-08-17T09:32:34.953Z"
   },
   {
    "duration": 12,
    "start_time": "2021-08-17T09:32:34.978Z"
   },
   {
    "duration": 6,
    "start_time": "2021-08-17T09:32:34.992Z"
   },
   {
    "duration": 31,
    "start_time": "2021-08-17T09:32:35.001Z"
   },
   {
    "duration": 9,
    "start_time": "2021-08-17T09:32:35.033Z"
   },
   {
    "duration": 4,
    "start_time": "2021-08-17T09:32:35.043Z"
   },
   {
    "duration": 22,
    "start_time": "2021-08-17T09:32:35.048Z"
   },
   {
    "duration": 83,
    "start_time": "2021-08-17T09:32:35.071Z"
   },
   {
    "duration": 3,
    "start_time": "2021-08-17T09:32:35.156Z"
   },
   {
    "duration": 90,
    "start_time": "2021-08-17T09:32:35.160Z"
   },
   {
    "duration": 102,
    "start_time": "2021-08-17T09:32:35.342Z"
   },
   {
    "duration": 196,
    "start_time": "2021-08-17T09:32:35.446Z"
   },
   {
    "duration": 3,
    "start_time": "2021-08-17T09:32:35.644Z"
   },
   {
    "duration": 93,
    "start_time": "2021-08-17T09:32:35.649Z"
   },
   {
    "duration": 7,
    "start_time": "2021-08-17T09:32:35.744Z"
   },
   {
    "duration": 16,
    "start_time": "2021-08-17T09:32:35.752Z"
   },
   {
    "duration": 41,
    "start_time": "2021-08-17T09:32:35.770Z"
   },
   {
    "duration": 6,
    "start_time": "2021-08-17T09:32:35.812Z"
   },
   {
    "duration": 7303,
    "start_time": "2021-08-17T09:32:35.820Z"
   },
   {
    "duration": 1483,
    "start_time": "2021-08-18T07:49:52.026Z"
   },
   {
    "duration": 2240,
    "start_time": "2021-08-18T07:49:53.512Z"
   },
   {
    "duration": 82,
    "start_time": "2021-08-18T07:49:55.754Z"
   },
   {
    "duration": 214,
    "start_time": "2021-08-18T07:49:55.840Z"
   },
   {
    "duration": 29,
    "start_time": "2021-08-18T07:49:56.057Z"
   },
   {
    "duration": 26,
    "start_time": "2021-08-18T07:49:56.089Z"
   },
   {
    "duration": 9,
    "start_time": "2021-08-18T07:49:56.118Z"
   },
   {
    "duration": 5,
    "start_time": "2021-08-18T07:49:56.131Z"
   },
   {
    "duration": 85,
    "start_time": "2021-08-18T07:49:56.139Z"
   },
   {
    "duration": 6,
    "start_time": "2021-08-18T07:49:56.226Z"
   },
   {
    "duration": 11,
    "start_time": "2021-08-18T07:49:56.234Z"
   },
   {
    "duration": 49,
    "start_time": "2021-08-18T07:49:56.248Z"
   },
   {
    "duration": 114,
    "start_time": "2021-08-18T07:49:56.299Z"
   },
   {
    "duration": 5,
    "start_time": "2021-08-18T07:49:56.416Z"
   },
   {
    "duration": 167,
    "start_time": "2021-08-18T07:49:56.423Z"
   },
   {
    "duration": 202,
    "start_time": "2021-08-18T07:49:56.593Z"
   },
   {
    "duration": 199,
    "start_time": "2021-08-18T07:49:56.887Z"
   },
   {
    "duration": 3,
    "start_time": "2021-08-18T07:49:57.088Z"
   },
   {
    "duration": 7,
    "start_time": "2021-08-18T07:49:57.095Z"
   },
   {
    "duration": 7,
    "start_time": "2021-08-18T07:49:57.105Z"
   },
   {
    "duration": 8,
    "start_time": "2021-08-18T07:49:57.115Z"
   },
   {
    "duration": 100,
    "start_time": "2021-08-18T07:49:57.126Z"
   },
   {
    "duration": 9,
    "start_time": "2021-08-18T07:49:57.231Z"
   },
   {
    "duration": 14187,
    "start_time": "2021-08-18T07:49:57.243Z"
   },
   {
    "duration": 6,
    "start_time": "2021-08-18T07:52:21.050Z"
   },
   {
    "duration": 4,
    "start_time": "2021-08-18T07:52:28.700Z"
   },
   {
    "duration": 5,
    "start_time": "2021-08-18T07:56:51.679Z"
   },
   {
    "duration": 6,
    "start_time": "2021-08-18T07:57:03.943Z"
   },
   {
    "duration": 54,
    "start_time": "2021-08-18T07:57:09.049Z"
   },
   {
    "duration": 5,
    "start_time": "2021-08-18T07:58:04.383Z"
   },
   {
    "duration": 57,
    "start_time": "2021-08-18T07:58:07.240Z"
   },
   {
    "duration": 5,
    "start_time": "2021-08-18T07:59:32.149Z"
   },
   {
    "duration": 56,
    "start_time": "2021-08-18T07:59:35.158Z"
   },
   {
    "duration": 5,
    "start_time": "2021-08-18T08:00:46.083Z"
   },
   {
    "duration": 4548,
    "start_time": "2021-08-18T08:00:46.093Z"
   },
   {
    "duration": 79,
    "start_time": "2021-08-18T08:00:50.644Z"
   },
   {
    "duration": 302,
    "start_time": "2021-08-18T08:00:50.727Z"
   },
   {
    "duration": 21,
    "start_time": "2021-08-18T08:00:51.033Z"
   },
   {
    "duration": 74,
    "start_time": "2021-08-18T08:00:51.057Z"
   },
   {
    "duration": 15,
    "start_time": "2021-08-18T08:00:51.134Z"
   },
   {
    "duration": 21,
    "start_time": "2021-08-18T08:00:51.152Z"
   },
   {
    "duration": 54,
    "start_time": "2021-08-18T08:00:51.176Z"
   },
   {
    "duration": 6,
    "start_time": "2021-08-18T08:00:51.232Z"
   },
   {
    "duration": 13,
    "start_time": "2021-08-18T08:00:51.240Z"
   },
   {
    "duration": 53,
    "start_time": "2021-08-18T08:00:51.256Z"
   },
   {
    "duration": 115,
    "start_time": "2021-08-18T08:00:51.311Z"
   },
   {
    "duration": 5,
    "start_time": "2021-08-18T08:00:51.429Z"
   },
   {
    "duration": 249,
    "start_time": "2021-08-18T08:00:51.437Z"
   },
   {
    "duration": 202,
    "start_time": "2021-08-18T08:00:51.689Z"
   },
   {
    "duration": 194,
    "start_time": "2021-08-18T08:00:51.893Z"
   },
   {
    "duration": 4,
    "start_time": "2021-08-18T08:00:52.089Z"
   },
   {
    "duration": 22,
    "start_time": "2021-08-18T08:00:52.095Z"
   },
   {
    "duration": 10,
    "start_time": "2021-08-18T08:00:52.119Z"
   },
   {
    "duration": 14,
    "start_time": "2021-08-18T08:00:52.132Z"
   },
   {
    "duration": 72,
    "start_time": "2021-08-18T08:00:52.149Z"
   },
   {
    "duration": 9,
    "start_time": "2021-08-18T08:00:52.223Z"
   },
   {
    "duration": 14404,
    "start_time": "2021-08-18T08:00:52.237Z"
   },
   {
    "duration": 4,
    "start_time": "2021-08-18T08:30:25.644Z"
   },
   {
    "duration": 515,
    "start_time": "2021-08-18T08:30:36.274Z"
   },
   {
    "duration": 422,
    "start_time": "2021-08-18T08:30:55.315Z"
   },
   {
    "duration": 409,
    "start_time": "2021-08-18T08:31:20.051Z"
   },
   {
    "duration": 387,
    "start_time": "2021-08-18T08:34:14.462Z"
   },
   {
    "duration": 174,
    "start_time": "2021-08-18T08:34:26.441Z"
   },
   {
    "duration": 135,
    "start_time": "2021-08-18T08:34:31.448Z"
   },
   {
    "duration": 4,
    "start_time": "2021-08-18T08:37:14.664Z"
   },
   {
    "duration": 8,
    "start_time": "2021-08-18T08:37:18.374Z"
   },
   {
    "duration": 8,
    "start_time": "2021-08-18T08:37:34.974Z"
   },
   {
    "duration": 9,
    "start_time": "2021-08-18T08:37:48.022Z"
   },
   {
    "duration": 8,
    "start_time": "2021-08-18T08:37:56.007Z"
   },
   {
    "duration": 16,
    "start_time": "2021-08-18T08:38:13.685Z"
   },
   {
    "duration": 8,
    "start_time": "2021-08-18T08:38:29.181Z"
   },
   {
    "duration": 121,
    "start_time": "2021-08-18T08:40:40.101Z"
   },
   {
    "duration": 5,
    "start_time": "2021-08-18T08:40:49.628Z"
   },
   {
    "duration": 9,
    "start_time": "2021-08-18T08:40:59.907Z"
   },
   {
    "duration": 1088,
    "start_time": "2021-08-18T08:48:44.477Z"
   },
   {
    "duration": 1065,
    "start_time": "2021-08-18T08:50:08.211Z"
   },
   {
    "duration": 1031,
    "start_time": "2021-08-18T08:50:15.163Z"
   },
   {
    "duration": 124,
    "start_time": "2021-08-18T08:50:42.212Z"
   },
   {
    "duration": 5,
    "start_time": "2021-08-18T08:50:52.370Z"
   },
   {
    "duration": 7,
    "start_time": "2021-08-18T08:50:56.689Z"
   },
   {
    "duration": 8,
    "start_time": "2021-08-18T08:52:12.593Z"
   },
   {
    "duration": 124,
    "start_time": "2021-08-18T08:53:00.985Z"
   },
   {
    "duration": 10,
    "start_time": "2021-08-18T08:54:07.960Z"
   },
   {
    "duration": 12,
    "start_time": "2021-08-18T08:56:19.023Z"
   },
   {
    "duration": 10,
    "start_time": "2021-08-18T08:58:27.854Z"
   },
   {
    "duration": 11,
    "start_time": "2021-08-18T09:01:34.483Z"
   },
   {
    "duration": 13316,
    "start_time": "2021-08-18T09:01:37.099Z"
   },
   {
    "duration": 10,
    "start_time": "2021-08-18T09:03:30.504Z"
   },
   {
    "duration": 13108,
    "start_time": "2021-08-18T09:03:36.295Z"
   },
   {
    "duration": 10,
    "start_time": "2021-08-18T09:04:57.311Z"
   },
   {
    "duration": 13925,
    "start_time": "2021-08-18T09:05:00.191Z"
   },
   {
    "duration": 11,
    "start_time": "2021-08-18T09:05:51.237Z"
   },
   {
    "duration": 13391,
    "start_time": "2021-08-18T09:05:54.540Z"
   },
   {
    "duration": 10,
    "start_time": "2021-08-18T09:06:29.326Z"
   },
   {
    "duration": 10,
    "start_time": "2021-08-18T09:10:30.596Z"
   },
   {
    "duration": 13425,
    "start_time": "2021-08-18T09:10:34.318Z"
   },
   {
    "duration": 10,
    "start_time": "2021-08-18T09:11:04.332Z"
   },
   {
    "duration": 14155,
    "start_time": "2021-08-18T09:11:08.448Z"
   },
   {
    "duration": 10,
    "start_time": "2021-08-18T09:11:45.593Z"
   },
   {
    "duration": 5,
    "start_time": "2021-08-18T09:33:21.412Z"
   },
   {
    "duration": 4310,
    "start_time": "2021-08-18T09:33:21.420Z"
   },
   {
    "duration": 80,
    "start_time": "2021-08-18T09:33:25.733Z"
   },
   {
    "duration": 224,
    "start_time": "2021-08-18T09:33:25.816Z"
   },
   {
    "duration": 19,
    "start_time": "2021-08-18T09:33:26.043Z"
   },
   {
    "duration": 41,
    "start_time": "2021-08-18T09:33:26.064Z"
   },
   {
    "duration": 10,
    "start_time": "2021-08-18T09:33:26.109Z"
   },
   {
    "duration": 6,
    "start_time": "2021-08-18T09:33:26.123Z"
   },
   {
    "duration": 75,
    "start_time": "2021-08-18T09:33:26.132Z"
   },
   {
    "duration": 8,
    "start_time": "2021-08-18T09:33:26.210Z"
   },
   {
    "duration": 9,
    "start_time": "2021-08-18T09:33:26.221Z"
   },
   {
    "duration": 53,
    "start_time": "2021-08-18T09:33:26.232Z"
   },
   {
    "duration": 111,
    "start_time": "2021-08-18T09:33:26.288Z"
   },
   {
    "duration": 5,
    "start_time": "2021-08-18T09:33:26.402Z"
   },
   {
    "duration": 178,
    "start_time": "2021-08-18T09:33:26.409Z"
   },
   {
    "duration": 197,
    "start_time": "2021-08-18T09:33:26.590Z"
   },
   {
    "duration": 196,
    "start_time": "2021-08-18T09:33:26.790Z"
   },
   {
    "duration": 4,
    "start_time": "2021-08-18T09:33:26.989Z"
   },
   {
    "duration": 9,
    "start_time": "2021-08-18T09:33:26.997Z"
   },
   {
    "duration": 10,
    "start_time": "2021-08-18T09:33:27.009Z"
   },
   {
    "duration": 17,
    "start_time": "2021-08-18T09:33:27.022Z"
   },
   {
    "duration": 76,
    "start_time": "2021-08-18T09:33:27.042Z"
   },
   {
    "duration": 10,
    "start_time": "2021-08-18T09:33:27.121Z"
   },
   {
    "duration": 13195,
    "start_time": "2021-08-18T09:33:27.133Z"
   }
  ],
  "kernelspec": {
   "display_name": "Python 3 (ipykernel)",
   "language": "python",
   "name": "python3"
  },
  "language_info": {
   "codemirror_mode": {
    "name": "ipython",
    "version": 3
   },
   "file_extension": ".py",
   "mimetype": "text/x-python",
   "name": "python",
   "nbconvert_exporter": "python",
   "pygments_lexer": "ipython3",
   "version": "3.9.6"
  },
  "toc": {
   "base_numbering": 1,
   "nav_menu": {},
   "number_sections": true,
   "sideBar": true,
   "skip_h1_title": true,
   "title_cell": "Содержание",
   "title_sidebar": "Contents",
   "toc_cell": true,
   "toc_position": {
    "height": "calc(100% - 180px)",
    "left": "10px",
    "top": "150px",
    "width": "315.391px"
   },
   "toc_section_display": true,
   "toc_window_display": true
  }
 },
 "nbformat": 4,
 "nbformat_minor": 2
}
