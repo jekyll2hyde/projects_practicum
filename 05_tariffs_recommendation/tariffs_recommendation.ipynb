{
 "cells": [
  {
   "cell_type": "markdown",
   "metadata": {},
   "source": [
    "# Рекомендация тарифов"
   ]
  },
  {
   "cell_type": "markdown",
   "metadata": {},
   "source": [
    "Многие клиенты телеком-компании Заказчика пользуются архивными тарифами. Заказчик хочет построить систему, способную проанализировать поведение клиентов и предложить им один из новых тарифов: *«Смарт»* или *«Ультра»*.\n",
    "\n",
    "***Задача:*** построить модель для задачи классификации, которая выберет подходящий тариф. Целевая метрика, *accuracy*, не менее 0.75.\n",
    "\n",
    "***Входные данные:*** предобработанные данные о поведении клиентов, которые уже перешли на новые тарифы."
   ]
  },
  {
   "cell_type": "markdown",
   "metadata": {
    "toc": true
   },
   "source": [
    "<h1>Содержание<span class=\"tocSkip\"></span></h1>\n",
    "<div class=\"toc\"><ul class=\"toc-item\"><li><span><a href=\"#Изучение-данных-из-файла\" data-toc-modified-id=\"Изучение-данных-из-файла-1\"><span class=\"toc-item-num\">1&nbsp;&nbsp;</span>Изучение данных из файла</a></span></li><li><span><a href=\"#Разделение-данных-на-выборки\" data-toc-modified-id=\"Разделение-данных-на-выборки-2\"><span class=\"toc-item-num\">2&nbsp;&nbsp;</span>Разделение данных на выборки</a></span></li><li><span><a href=\"#Исследование-моделей\" data-toc-modified-id=\"Исследование-моделей-3\"><span class=\"toc-item-num\">3&nbsp;&nbsp;</span>Исследование моделей</a></span></li><li><span><a href=\"#Проверка-моделей-на-адекватность\" data-toc-modified-id=\"Проверка-моделей-на-адекватность-4\"><span class=\"toc-item-num\">4&nbsp;&nbsp;</span>Проверка моделей на адекватность</a></span></li><li><span><a href=\"#Проверка-моделей-на-тестовой-выборке\" data-toc-modified-id=\"Проверка-моделей-на-тестовой-выборке-5\"><span class=\"toc-item-num\">5&nbsp;&nbsp;</span>Проверка моделей на тестовой выборке</a></span></li><li><span><a href=\"#Общий-вывод\" data-toc-modified-id=\"Общий-вывод-6\"><span class=\"toc-item-num\">6&nbsp;&nbsp;</span>Общий вывод</a></span></li></ul></div>"
   ]
  },
  {
   "cell_type": "markdown",
   "metadata": {},
   "source": [
    "## Изучение данных из файла"
   ]
  },
  {
   "cell_type": "markdown",
   "metadata": {},
   "source": [
    "Изучим датасет:"
   ]
  },
  {
   "cell_type": "code",
   "execution_count": 1,
   "metadata": {},
   "outputs": [
    {
     "name": "stdout",
     "output_type": "stream",
     "text": [
      "Defaulting to user installation because normal site-packages is not writeable\n",
      "Collecting scikit-learn\n",
      "  Downloading scikit_learn-0.24.2-cp37-cp37m-manylinux2010_x86_64.whl (22.3 MB)\n",
      "\u001b[K     |████████████████████████████████| 22.3 MB 38 kB/s  eta 0:00:01\n",
      "\u001b[?25hRequirement already satisfied, skipping upgrade: numpy>=1.13.3 in /opt/conda/lib/python3.7/site-packages (from scikit-learn) (1.19.5)\n",
      "Collecting threadpoolctl>=2.0.0\n",
      "  Downloading threadpoolctl-2.2.0-py3-none-any.whl (12 kB)\n",
      "Requirement already satisfied, skipping upgrade: scipy>=0.19.1 in /opt/conda/lib/python3.7/site-packages (from scikit-learn) (1.4.1)\n",
      "Requirement already satisfied, skipping upgrade: joblib>=0.11 in /opt/conda/lib/python3.7/site-packages (from scikit-learn) (1.0.1)\n",
      "Installing collected packages: threadpoolctl, scikit-learn\n",
      "Successfully installed scikit-learn-0.24.2 threadpoolctl-2.2.0\n"
     ]
    },
    {
     "data": {
      "text/html": [
       "<div>\n",
       "<style scoped>\n",
       "    .dataframe tbody tr th:only-of-type {\n",
       "        vertical-align: middle;\n",
       "    }\n",
       "\n",
       "    .dataframe tbody tr th {\n",
       "        vertical-align: top;\n",
       "    }\n",
       "\n",
       "    .dataframe thead th {\n",
       "        text-align: right;\n",
       "    }\n",
       "</style>\n",
       "<table border=\"1\" class=\"dataframe\">\n",
       "  <thead>\n",
       "    <tr style=\"text-align: right;\">\n",
       "      <th></th>\n",
       "      <th>calls</th>\n",
       "      <th>minutes</th>\n",
       "      <th>messages</th>\n",
       "      <th>mb_used</th>\n",
       "      <th>is_ultra</th>\n",
       "    </tr>\n",
       "  </thead>\n",
       "  <tbody>\n",
       "    <tr>\n",
       "      <td>0</td>\n",
       "      <td>40.0</td>\n",
       "      <td>311.90</td>\n",
       "      <td>83.0</td>\n",
       "      <td>19915.42</td>\n",
       "      <td>0</td>\n",
       "    </tr>\n",
       "    <tr>\n",
       "      <td>1</td>\n",
       "      <td>85.0</td>\n",
       "      <td>516.75</td>\n",
       "      <td>56.0</td>\n",
       "      <td>22696.96</td>\n",
       "      <td>0</td>\n",
       "    </tr>\n",
       "    <tr>\n",
       "      <td>2</td>\n",
       "      <td>77.0</td>\n",
       "      <td>467.66</td>\n",
       "      <td>86.0</td>\n",
       "      <td>21060.45</td>\n",
       "      <td>0</td>\n",
       "    </tr>\n",
       "    <tr>\n",
       "      <td>3</td>\n",
       "      <td>106.0</td>\n",
       "      <td>745.53</td>\n",
       "      <td>81.0</td>\n",
       "      <td>8437.39</td>\n",
       "      <td>1</td>\n",
       "    </tr>\n",
       "    <tr>\n",
       "      <td>4</td>\n",
       "      <td>66.0</td>\n",
       "      <td>418.74</td>\n",
       "      <td>1.0</td>\n",
       "      <td>14502.75</td>\n",
       "      <td>0</td>\n",
       "    </tr>\n",
       "    <tr>\n",
       "      <td>...</td>\n",
       "      <td>...</td>\n",
       "      <td>...</td>\n",
       "      <td>...</td>\n",
       "      <td>...</td>\n",
       "      <td>...</td>\n",
       "    </tr>\n",
       "    <tr>\n",
       "      <td>3209</td>\n",
       "      <td>122.0</td>\n",
       "      <td>910.98</td>\n",
       "      <td>20.0</td>\n",
       "      <td>35124.90</td>\n",
       "      <td>1</td>\n",
       "    </tr>\n",
       "    <tr>\n",
       "      <td>3210</td>\n",
       "      <td>25.0</td>\n",
       "      <td>190.36</td>\n",
       "      <td>0.0</td>\n",
       "      <td>3275.61</td>\n",
       "      <td>0</td>\n",
       "    </tr>\n",
       "    <tr>\n",
       "      <td>3211</td>\n",
       "      <td>97.0</td>\n",
       "      <td>634.44</td>\n",
       "      <td>70.0</td>\n",
       "      <td>13974.06</td>\n",
       "      <td>0</td>\n",
       "    </tr>\n",
       "    <tr>\n",
       "      <td>3212</td>\n",
       "      <td>64.0</td>\n",
       "      <td>462.32</td>\n",
       "      <td>90.0</td>\n",
       "      <td>31239.78</td>\n",
       "      <td>0</td>\n",
       "    </tr>\n",
       "    <tr>\n",
       "      <td>3213</td>\n",
       "      <td>80.0</td>\n",
       "      <td>566.09</td>\n",
       "      <td>6.0</td>\n",
       "      <td>29480.52</td>\n",
       "      <td>1</td>\n",
       "    </tr>\n",
       "  </tbody>\n",
       "</table>\n",
       "<p>3214 rows × 5 columns</p>\n",
       "</div>"
      ],
      "text/plain": [
       "      calls  minutes  messages   mb_used  is_ultra\n",
       "0      40.0   311.90      83.0  19915.42         0\n",
       "1      85.0   516.75      56.0  22696.96         0\n",
       "2      77.0   467.66      86.0  21060.45         0\n",
       "3     106.0   745.53      81.0   8437.39         1\n",
       "4      66.0   418.74       1.0  14502.75         0\n",
       "...     ...      ...       ...       ...       ...\n",
       "3209  122.0   910.98      20.0  35124.90         1\n",
       "3210   25.0   190.36       0.0   3275.61         0\n",
       "3211   97.0   634.44      70.0  13974.06         0\n",
       "3212   64.0   462.32      90.0  31239.78         0\n",
       "3213   80.0   566.09       6.0  29480.52         1\n",
       "\n",
       "[3214 rows x 5 columns]"
      ]
     },
     "metadata": {},
     "output_type": "display_data"
    },
    {
     "name": "stdout",
     "output_type": "stream",
     "text": [
      "<class 'pandas.core.frame.DataFrame'>\n",
      "RangeIndex: 3214 entries, 0 to 3213\n",
      "Data columns (total 5 columns):\n",
      "calls       3214 non-null float64\n",
      "minutes     3214 non-null float64\n",
      "messages    3214 non-null float64\n",
      "mb_used     3214 non-null float64\n",
      "is_ultra    3214 non-null int64\n",
      "dtypes: float64(4), int64(1)\n",
      "memory usage: 125.7 KB\n"
     ]
    }
   ],
   "source": [
    "# Обновление библиотеки sklearn до последней версии:\n",
    "#! pip install -U scikit-learn --upgrade\n",
    "\n",
    "# Импорт необходимых для работы библиотек:\n",
    "import pandas as pd\n",
    "from sklearn.tree import DecisionTreeClassifier\n",
    "from sklearn.ensemble import RandomForestClassifier\n",
    "from sklearn.linear_model import LogisticRegression\n",
    "from sklearn.metrics import accuracy_score\n",
    "from sklearn.model_selection import train_test_split\n",
    "\n",
    "# Чтение файла с данными и сохранение в соответствующей переменной\n",
    "data = pd.read_excel('/datasets/users_behavior.csv')\n",
    "display(data)\n",
    "data.info()"
   ]
  },
  {
   "cell_type": "markdown",
   "metadata": {},
   "source": [
    "###### Вывод\n",
    "\n",
    "Всего в таблице 5 столбцов со следующими типами данных: float64, int64.\n",
    "\n",
    "Каждый объект в наборе данных — это информация о поведении одного пользователя за месяц. Известно:\n",
    "\n",
    " - сalls — количество звонков;\n",
    " - minutes — суммарная длительность звонков в минутах;\n",
    " - messages — количество sms-сообщений;\n",
    " - mb_used — израсходованный интернет-трафик в Мб;\n",
    " - is_ultra — каким тарифом пользовался в течение месяца («Ультра» — 1, «Смарт» — 0)."
   ]
  },
  {
   "cell_type": "markdown",
   "metadata": {},
   "source": [
    "## Разделение данных на выборки"
   ]
  },
  {
   "cell_type": "markdown",
   "metadata": {},
   "source": [
    "Для контроля переобучения и правильной оценки готовой модели необходимо разделить данные на обучающую, валидационную и тестовую выборки.\n",
    "\n",
    "Так как в нашей задаче отсутствует подготовленный заранее тестовый набор данных, разобъем исходные данные в следующем соотношении:\n",
    "\n",
    " - Обучающая выборка: 60%;\n",
    " - Валидационная выборка: 20%;\n",
    " - Тестовая выборка: 20%."
   ]
  },
  {
   "cell_type": "code",
   "execution_count": 2,
   "metadata": {},
   "outputs": [
    {
     "name": "stdout",
     "output_type": "stream",
     "text": [
      "Размер обучающей таблицы признаков: (1928, 4)\n",
      "Размер обучающей таблицы с целевым признаком: (1928,)\n",
      "Размер валидационной таблицы признаков: (643, 4)\n",
      "Размер валидационной таблицы с целевым признаком: (643,)\n",
      "Размер тестовой таблицы признаков: (643, 4)\n",
      "Размер тестовой таблицы с целевым признаком: (643,)\n"
     ]
    }
   ],
   "source": [
    "# Выделение признаков\n",
    "features = data.drop(['is_ultra'], axis = 1)\n",
    "\n",
    "# Выделение целевого признака\n",
    "target = data['is_ultra']\n",
    "\n",
    "# Формирование обучающей, валидационной и тестовой выборок\n",
    "features_train, features_test, target_train, target_test = train_test_split(\n",
    "    features,\n",
    "    target,\n",
    "    test_size=0.4,\n",
    "    random_state = 12345)\n",
    "\n",
    "features_test, features_valid, target_test, target_valid = train_test_split(\n",
    "    features_test,\n",
    "    target_test,\n",
    "    test_size=0.5,\n",
    "    random_state = 12345)\n",
    "\n",
    "#Вывод на экран размеров полученных выборок\n",
    "print('Размер обучающей таблицы признаков:',features_train.shape)\n",
    "print('Размер обучающей таблицы с целевым признаком:',target_train.shape)\n",
    "print('Размер валидационной таблицы признаков:',features_valid.shape)\n",
    "print('Размер валидационной таблицы с целевым признаком:',target_valid.shape)\n",
    "print('Размер тестовой таблицы признаков:',features_test.shape)\n",
    "print('Размер тестовой таблицы с целевым признаком:',target_test.shape)"
   ]
  },
  {
   "cell_type": "markdown",
   "metadata": {},
   "source": [
    "###### Вывод\n",
    "\n",
    "Размеры выборок соответствуют соотношению:\n",
    " - Обучающая выборка: 60%;\n",
    " - Валидационная выборка: 20%;\n",
    " - Тестовая выборка: 20%.\n"
   ]
  },
  {
   "cell_type": "markdown",
   "metadata": {},
   "source": [
    "## Исследование моделей"
   ]
  },
  {
   "cell_type": "markdown",
   "metadata": {},
   "source": [
    "Исследуем поведение следующих моделей для задачи классификации:\n",
    "\n",
    " - Дерево решений;\n",
    " - Случайный лес;\n",
    " - Логистическая регрессия."
   ]
  },
  {
   "cell_type": "markdown",
   "metadata": {},
   "source": [
    "Исследуем модель ***Дерево решений***:"
   ]
  },
  {
   "cell_type": "code",
   "execution_count": 3,
   "metadata": {},
   "outputs": [
    {
     "name": "stdout",
     "output_type": "stream",
     "text": [
      "Accuracy наилучшей модели алгоритма \"Дерево решений\" на валидационной выборке: 0.799\n"
     ]
    },
    {
     "data": {
      "text/plain": [
       "'Параметры модели:'"
      ]
     },
     "metadata": {},
     "output_type": "display_data"
    },
    {
     "data": {
      "text/plain": [
       "{'ccp_alpha': 0.0,\n",
       " 'class_weight': None,\n",
       " 'criterion': 'gini',\n",
       " 'max_depth': 7,\n",
       " 'max_features': None,\n",
       " 'max_leaf_nodes': None,\n",
       " 'min_impurity_decrease': 0.0,\n",
       " 'min_impurity_split': None,\n",
       " 'min_samples_leaf': 1,\n",
       " 'min_samples_split': 2,\n",
       " 'min_weight_fraction_leaf': 0.0,\n",
       " 'random_state': 12345,\n",
       " 'splitter': 'best'}"
      ]
     },
     "metadata": {},
     "output_type": "display_data"
    }
   ],
   "source": [
    "tree_best_model = None\n",
    "tree_best_result = 0\n",
    "for depth in range(1,11):\n",
    "    # Установка гиперпараметров модели\n",
    "    tree_model = DecisionTreeClassifier(random_state=12345, max_depth=depth)\n",
    "    # Обучение модели\n",
    "    tree_model.fit(features_train,target_train)\n",
    "    # Оценка качества модели на валидационной выборке\n",
    "    tree_result = tree_model.score(features_valid, target_valid)\n",
    "    # Определение наилучшей модели\n",
    "    if tree_result > tree_best_result:\n",
    "        tree_best_model = tree_model\n",
    "        tree_best_result = tree_result\n",
    "# Вывод информации о наилучшей модели на экран\n",
    "print('Accuracy наилучшей модели алгоритма \"Дерево решений\" на валидационной выборке: {:.3f}'.format(tree_best_result))\n",
    "display('Параметры модели:', tree_best_model.get_params())"
   ]
  },
  {
   "cell_type": "markdown",
   "metadata": {},
   "source": [
    "Исследуем модель ***Случайный лес***:"
   ]
  },
  {
   "cell_type": "code",
   "execution_count": 4,
   "metadata": {},
   "outputs": [
    {
     "name": "stdout",
     "output_type": "stream",
     "text": [
      "Accuracy наилучшей модели алгоритма \"Случайный лес\" на валидационной выборке: 0.815\n"
     ]
    },
    {
     "data": {
      "text/plain": [
       "'Параметры модели:'"
      ]
     },
     "metadata": {},
     "output_type": "display_data"
    },
    {
     "data": {
      "text/plain": [
       "{'bootstrap': True,\n",
       " 'ccp_alpha': 0.0,\n",
       " 'class_weight': None,\n",
       " 'criterion': 'gini',\n",
       " 'max_depth': 9,\n",
       " 'max_features': 'auto',\n",
       " 'max_leaf_nodes': None,\n",
       " 'max_samples': None,\n",
       " 'min_impurity_decrease': 0.0,\n",
       " 'min_impurity_split': None,\n",
       " 'min_samples_leaf': 1,\n",
       " 'min_samples_split': 2,\n",
       " 'min_weight_fraction_leaf': 0.0,\n",
       " 'n_estimators': 14,\n",
       " 'n_jobs': None,\n",
       " 'oob_score': False,\n",
       " 'random_state': 12345,\n",
       " 'verbose': 0,\n",
       " 'warm_start': False}"
      ]
     },
     "metadata": {},
     "output_type": "display_data"
    }
   ],
   "source": [
    "forest_best_model = None\n",
    "forest_best_result = 0\n",
    "for est in range(1,16):\n",
    "    for depth in range(1,11):\n",
    "        # Установка гиперпараметров модели\n",
    "        forest_model = RandomForestClassifier(random_state=12345, max_depth=depth, n_estimators=est)\n",
    "        # Обучение модели\n",
    "        forest_model.fit(features_train, target_train)\n",
    "        # Оценка качества модели на валидационной выборке\n",
    "        forest_result = forest_model.score(features_valid, target_valid)\n",
    "        # Определение наилучшей модели\n",
    "        if forest_result > forest_best_result:\n",
    "            forest_best_model = forest_model\n",
    "            forest_best_result = forest_result\n",
    "# Вывод информации о наилучшей модели на экран\n",
    "print('Accuracy наилучшей модели алгоритма \"Случайный лес\" на валидационной выборке: {:.3f}'.format(forest_best_result))\n",
    "display('Параметры модели:', forest_best_model.get_params())"
   ]
  },
  {
   "cell_type": "markdown",
   "metadata": {},
   "source": [
    "Исследуем модель ***Логистическая регрессия***:"
   ]
  },
  {
   "cell_type": "code",
   "execution_count": 5,
   "metadata": {},
   "outputs": [
    {
     "name": "stdout",
     "output_type": "stream",
     "text": [
      "Accuracy модели алгоритма \"Логистическая регрессия\" на валидационной выборке: 0.684\n"
     ]
    }
   ],
   "source": [
    "regression_model = LogisticRegression(random_state = 12345)\n",
    " # Обучение модели\n",
    "regression_model.fit(features_train,target_train)\n",
    " # Определение наилучшей модели\n",
    "regression_result = regression_model.score(features_valid, target_valid)\n",
    "# Вывод информации о наилучшей модели на экран\n",
    "print('Accuracy модели алгоритма \"Логистическая регрессия\" на валидационной выборке: {:.3f}'.format(regression_result))"
   ]
  },
  {
   "cell_type": "markdown",
   "metadata": {},
   "source": [
    "###### Вывод\n",
    "\n",
    "Оценка моделей по качеству (*Accuracy*):\n",
    "\n",
    "1. ***Случайный лес***. Алгоритм позволил получить наиболее качественную модель: вместо одного решающего дерева алгоритм обучил несколько независимых друг от друга деревьев и принял решение на основе голосования. Наилучший результат (*Accuracy = 0.815*) был получен при количестве независимых деревьев = 14, глубиной = 9;\n",
    "\n",
    "\n",
    "2. ***Дерево решений***. Наилучший результат (*Accuracy = 0.799*) был получен при глубине дерева = 7. При меньшем количестве дерево недообучается, при большем - переобучается;\n",
    "\n",
    "\n",
    "3. ***Логистическая регрессия***. Алгоритм обучил модель с самым низким (*Accuracy = 0.684*) качеством предсказания. Модель недообучена.\n",
    "\n",
    "Оценка моделей по скорости работы:\n",
    "\n",
    "1. ***Логистическая регрессия***. Модель работает быстрее остальных: у неё меньше всего параметров;\n",
    "\n",
    "\n",
    "2. ***Дерево решений***. Скорость решающего дерева ниже, чем у логистисеской регрессии и зависит от глубины дерева;\n",
    "\n",
    "\n",
    "3. ***Случайный лес***. Данная модель медленнее всех по причине большего количества заданных параметров."
   ]
  },
  {
   "cell_type": "markdown",
   "metadata": {},
   "source": [
    "## Проверка моделей на адекватность"
   ]
  },
  {
   "cell_type": "markdown",
   "metadata": {},
   "source": [
    "В случае равного распределения классов в задаче с тарифами (50% класса \"0\" и 50% класса \"1\"), *Accuracy* модели, которая  предсказывает все объекты случайным образом, будет равна 0,5. Таким образом, обученные модели, *Accuracy* которых находится в пределах 0.5 будут считаться неадекватными.\n",
    "\n",
    "Так как в нашем случае неизвестны доли каждого из классов в обучающей выборке, для проверки рассмотренных нами моделей на адекватность сравним их *Accuracy* с константной моделью, предсказывающей метку доминирующего на трейне класса для любого объекта.\n",
    "\n",
    "Определим доли каждого класса в столбце с целевым признаком обучающей выборки:"
   ]
  },
  {
   "cell_type": "code",
   "execution_count": 6,
   "metadata": {},
   "outputs": [
    {
     "name": "stdout",
     "output_type": "stream",
     "text": [
      "Доля класса \"1\": 0.308\n",
      "Доля класса \"0\": 0.692\n"
     ]
    }
   ],
   "source": [
    "# Расчет долей классов \"1\" и \"0\" в обучающей выборке\n",
    "ones = target_train.sum()/len(target_train)\n",
    "nulls = 1-ones\n",
    "\n",
    "# Вывод долей на экран\n",
    "print('Доля класса \"1\": {:.3f}'.format(ones))\n",
    "print('Доля класса \"0\": {:.3f}'.format(nulls))"
   ]
  },
  {
   "cell_type": "markdown",
   "metadata": {},
   "source": [
    "###### Вывод\n",
    "\n",
    "Как видно из расчетов, класс \"0\" доминирует в трейне и константной будет считаться модель, предсказывающая \"0\" для любого объекта. *Accuracy* такой модели будет равна доле объектов класса \"0\" трейне, т.е. 0.692.\n",
    "\n",
    "Таким образом, адекватными считаются обученные модели, *Accuracy* которых > 0.692.\n",
    "\n",
    "Из рассмотренных нами моделей адекватными будут считаться:\n",
    "\n",
    " - ***Дерево решений***, *Accuracy* = 0.799;\n",
    " - ***Случайный лес***, *Accuracy* = 0.815.\n",
    " \n",
    "Модель ***Логистическая регрессия***, *Accuracy* = 0.684, будет считаться неадекватной и не будет рассматриваться далее, так как даже констатная модель, предсказывающая всегда \"0\", обладает большим показателем *Accuracy*."
   ]
  },
  {
   "cell_type": "markdown",
   "metadata": {},
   "source": [
    "## Проверка моделей на тестовой выборке"
   ]
  },
  {
   "cell_type": "code",
   "execution_count": 7,
   "metadata": {},
   "outputs": [
    {
     "name": "stdout",
     "output_type": "stream",
     "text": [
      "Accuracy модели \"DecisionTreeClassifier(max_depth=10, random_state=12345)\" на тестовой выборке: 0.774\n",
      "Accuracy модели \"RandomForestClassifier(max_depth=10, n_estimators=15, random_state=12345)\" на тестовой выборке: 0.787\n"
     ]
    }
   ],
   "source": [
    "# Создание функции для определения качества моделей на тестовой выборке\n",
    "def model_testing(model_name):\n",
    "    result = model_name.score(features_test, target_test)\n",
    "    print('Accuracy модели \"{}\" на тестовой выборке: {:.3f}'.format(model_name, result))\n",
    "    \n",
    "# Применение функции    \n",
    "for model in [tree_model, forest_model]:    \n",
    "    model_testing(model)"
   ]
  },
  {
   "cell_type": "markdown",
   "metadata": {},
   "source": [
    "###### Вывод\n",
    "На тестовой выборке модели ***Дерево решений*** и ***Случайный лес*** показали более низкие результаты, чем на валидационной выборке: *Accuracy* 0.799 -> 0.744 и 0.815 -> 0.787 соответственно, но лидирующей по качеству также является модель ***Случайный лес***."
   ]
  },
  {
   "cell_type": "markdown",
   "metadata": {},
   "source": [
    "## Общий вывод"
   ]
  },
  {
   "cell_type": "markdown",
   "metadata": {},
   "source": [
    "Если клиенту в большей степени важна точность модели, то наилучший выбор - ***Случайный лес***: *Accuracy* на валидационной и тестовой выборках которой составляет 0.815 и 0.787 соответственно.\n",
    "\n",
    "Если клиенту в большей степени важна скорость работы модели, то наиболее оптимальной является модель ***Дерево решений***: разница в *Accuracy* с моделью ***Случайный лес*** составляет 0.016 и 0.043 на валидационной и тестовой выборках соответственно.\n",
    "\n",
    "Модель ***Логистическая регрессия***, *Accuracy* = 0.684, считается неадекватной, так как ее качество ниже, чем у константной модели."
   ]
  }
 ],
 "metadata": {
  "ExecuteTimeLog": [
   {
    "duration": 641,
    "start_time": "2021-07-14T14:18:18.538Z"
   },
   {
    "duration": 28,
    "start_time": "2021-07-14T14:19:25.842Z"
   },
   {
    "duration": 762,
    "start_time": "2021-07-15T09:02:56.592Z"
   },
   {
    "duration": 364,
    "start_time": "2021-07-15T10:29:19.300Z"
   },
   {
    "duration": 630,
    "start_time": "2021-07-15T10:29:35.011Z"
   },
   {
    "duration": 382,
    "start_time": "2021-07-15T10:29:35.645Z"
   },
   {
    "duration": 15,
    "start_time": "2021-07-15T10:29:58.026Z"
   },
   {
    "duration": 23,
    "start_time": "2021-07-15T10:30:27.369Z"
   },
   {
    "duration": 392,
    "start_time": "2021-07-15T13:08:15.051Z"
   },
   {
    "duration": 1509,
    "start_time": "2021-07-15T13:08:18.922Z"
   },
   {
    "duration": 434,
    "start_time": "2021-07-15T13:08:20.433Z"
   },
   {
    "duration": 19,
    "start_time": "2021-07-15T13:11:01.717Z"
   },
   {
    "duration": 19,
    "start_time": "2021-07-15T13:12:33.403Z"
   },
   {
    "duration": 20,
    "start_time": "2021-07-15T13:20:12.587Z"
   },
   {
    "duration": 17,
    "start_time": "2021-07-15T13:21:21.540Z"
   },
   {
    "duration": 118,
    "start_time": "2021-07-15T16:46:58.567Z"
   },
   {
    "duration": 122,
    "start_time": "2021-07-15T16:47:48.891Z"
   },
   {
    "duration": 8,
    "start_time": "2021-07-15T16:48:46.437Z"
   },
   {
    "duration": 318,
    "start_time": "2021-07-15T16:50:34.012Z"
   },
   {
    "duration": 569,
    "start_time": "2021-07-15T16:50:47.325Z"
   },
   {
    "duration": 117,
    "start_time": "2021-07-15T17:00:43.536Z"
   },
   {
    "duration": 103,
    "start_time": "2021-07-15T17:01:04.847Z"
   },
   {
    "duration": 577,
    "start_time": "2021-07-15T17:01:39.486Z"
   },
   {
    "duration": 550,
    "start_time": "2021-07-15T17:02:21.768Z"
   },
   {
    "duration": 121,
    "start_time": "2021-07-15T17:04:06.446Z"
   },
   {
    "duration": 579,
    "start_time": "2021-07-15T17:07:41.417Z"
   },
   {
    "duration": 544,
    "start_time": "2021-07-15T17:10:03.879Z"
   },
   {
    "duration": 539,
    "start_time": "2021-07-15T17:11:03.359Z"
   },
   {
    "duration": 485,
    "start_time": "2021-07-15T17:11:43.942Z"
   },
   {
    "duration": 614,
    "start_time": "2021-07-15T17:27:58.271Z"
   },
   {
    "duration": 20,
    "start_time": "2021-07-15T17:28:24.197Z"
   },
   {
    "duration": 21,
    "start_time": "2021-07-15T17:30:34.034Z"
   },
   {
    "duration": 90,
    "start_time": "2021-07-15T17:33:35.875Z"
   },
   {
    "duration": 88,
    "start_time": "2021-07-15T17:37:26.255Z"
   },
   {
    "duration": 66,
    "start_time": "2021-07-15T17:38:18.109Z"
   },
   {
    "duration": 86,
    "start_time": "2021-07-15T17:39:01.981Z"
   },
   {
    "duration": 87,
    "start_time": "2021-07-15T17:39:42.756Z"
   },
   {
    "duration": 86,
    "start_time": "2021-07-15T17:43:20.786Z"
   },
   {
    "duration": 88,
    "start_time": "2021-07-15T17:44:34.025Z"
   },
   {
    "duration": 80,
    "start_time": "2021-07-15T17:44:49.583Z"
   },
   {
    "duration": 31,
    "start_time": "2021-07-15T17:45:05.287Z"
   },
   {
    "duration": 88,
    "start_time": "2021-07-15T17:49:24.748Z"
   },
   {
    "duration": 105,
    "start_time": "2021-07-15T17:50:19.346Z"
   },
   {
    "duration": 103,
    "start_time": "2021-07-15T17:50:45.410Z"
   },
   {
    "duration": 76,
    "start_time": "2021-07-15T17:51:17.635Z"
   },
   {
    "duration": 105,
    "start_time": "2021-07-15T17:51:26.322Z"
   },
   {
    "duration": 125,
    "start_time": "2021-07-15T17:51:35.265Z"
   },
   {
    "duration": 79,
    "start_time": "2021-07-15T17:51:53.578Z"
   },
   {
    "duration": 73,
    "start_time": "2021-07-15T17:52:05.232Z"
   },
   {
    "duration": 87,
    "start_time": "2021-07-15T17:52:17.745Z"
   },
   {
    "duration": 41,
    "start_time": "2021-07-15T17:52:39.721Z"
   },
   {
    "duration": 43,
    "start_time": "2021-07-15T17:53:45.808Z"
   },
   {
    "duration": 36,
    "start_time": "2021-07-15T17:53:56.231Z"
   },
   {
    "duration": 34,
    "start_time": "2021-07-15T17:54:01.663Z"
   },
   {
    "duration": 35,
    "start_time": "2021-07-15T17:54:07.071Z"
   },
   {
    "duration": 39,
    "start_time": "2021-07-15T17:54:12.990Z"
   },
   {
    "duration": 37,
    "start_time": "2021-07-15T17:54:20.214Z"
   },
   {
    "duration": 49,
    "start_time": "2021-07-15T17:54:25.879Z"
   },
   {
    "duration": 59,
    "start_time": "2021-07-15T17:54:34.011Z"
   },
   {
    "duration": 58,
    "start_time": "2021-07-15T17:54:40.263Z"
   },
   {
    "duration": 46,
    "start_time": "2021-07-15T17:54:47.350Z"
   },
   {
    "duration": 40,
    "start_time": "2021-07-15T17:54:51.726Z"
   },
   {
    "duration": 42,
    "start_time": "2021-07-15T17:54:55.711Z"
   },
   {
    "duration": 42,
    "start_time": "2021-07-15T17:55:00.350Z"
   },
   {
    "duration": 43,
    "start_time": "2021-07-15T17:55:04.710Z"
   },
   {
    "duration": 43,
    "start_time": "2021-07-15T17:55:09.150Z"
   },
   {
    "duration": 44,
    "start_time": "2021-07-15T17:55:13.366Z"
   },
   {
    "duration": 44,
    "start_time": "2021-07-15T17:55:16.815Z"
   },
   {
    "duration": 42,
    "start_time": "2021-07-15T17:55:21.605Z"
   },
   {
    "duration": 54,
    "start_time": "2021-07-15T17:55:27.430Z"
   },
   {
    "duration": 45,
    "start_time": "2021-07-15T17:55:42.494Z"
   },
   {
    "duration": 116,
    "start_time": "2021-07-15T17:56:07.838Z"
   },
   {
    "duration": 44,
    "start_time": "2021-07-15T17:56:56.012Z"
   },
   {
    "duration": 114,
    "start_time": "2021-07-15T17:57:33.868Z"
   },
   {
    "duration": 69,
    "start_time": "2021-07-15T17:57:42.780Z"
   },
   {
    "duration": 71,
    "start_time": "2021-07-15T17:57:47.459Z"
   },
   {
    "duration": 72,
    "start_time": "2021-07-15T17:57:52.859Z"
   },
   {
    "duration": 78,
    "start_time": "2021-07-15T17:57:57.684Z"
   },
   {
    "duration": 83,
    "start_time": "2021-07-15T17:58:01.859Z"
   },
   {
    "duration": 86,
    "start_time": "2021-07-15T17:58:06.948Z"
   },
   {
    "duration": 91,
    "start_time": "2021-07-15T17:58:11.500Z"
   },
   {
    "duration": 97,
    "start_time": "2021-07-15T17:58:16.476Z"
   },
   {
    "duration": 104,
    "start_time": "2021-07-15T17:58:21.635Z"
   },
   {
    "duration": 149,
    "start_time": "2021-07-15T17:58:26.554Z"
   },
   {
    "duration": 147,
    "start_time": "2021-07-15T17:58:40.012Z"
   },
   {
    "duration": 104,
    "start_time": "2021-07-15T17:58:45.515Z"
   },
   {
    "duration": 126,
    "start_time": "2021-07-15T17:58:50.899Z"
   },
   {
    "duration": 89,
    "start_time": "2021-07-15T17:59:02.283Z"
   },
   {
    "duration": 89,
    "start_time": "2021-07-15T17:59:14.075Z"
   },
   {
    "duration": 74,
    "start_time": "2021-07-15T17:59:31.034Z"
   },
   {
    "duration": 73,
    "start_time": "2021-07-15T17:59:58.384Z"
   },
   {
    "duration": 39,
    "start_time": "2021-07-15T18:00:43.697Z"
   },
   {
    "duration": 19,
    "start_time": "2021-07-15T18:00:43.739Z"
   },
   {
    "duration": 81,
    "start_time": "2021-07-15T18:00:43.761Z"
   },
   {
    "duration": 72,
    "start_time": "2021-07-15T18:03:13.327Z"
   },
   {
    "duration": 92,
    "start_time": "2021-07-15T18:03:27.478Z"
   },
   {
    "duration": 76,
    "start_time": "2021-07-15T18:03:46.989Z"
   },
   {
    "duration": 113,
    "start_time": "2021-07-15T18:04:49.462Z"
   },
   {
    "duration": 1814,
    "start_time": "2021-07-15T18:07:09.947Z"
   },
   {
    "duration": 15635,
    "start_time": "2021-07-15T18:07:21.883Z"
   },
   {
    "duration": 1520,
    "start_time": "2021-07-15T18:08:00.109Z"
   },
   {
    "duration": 19,
    "start_time": "2021-07-15T18:08:01.632Z"
   },
   {
    "duration": 141,
    "start_time": "2021-07-15T18:08:01.653Z"
   },
   {
    "duration": 1995,
    "start_time": "2021-07-15T18:08:47.621Z"
   },
   {
    "duration": 17,
    "start_time": "2021-07-15T18:08:49.620Z"
   },
   {
    "duration": 633,
    "start_time": "2021-07-15T18:08:49.640Z"
   },
   {
    "duration": 48,
    "start_time": "2021-07-15T18:09:39.057Z"
   },
   {
    "duration": 16,
    "start_time": "2021-07-15T18:09:39.108Z"
   },
   {
    "duration": 749,
    "start_time": "2021-07-15T18:09:39.127Z"
   },
   {
    "duration": 652,
    "start_time": "2021-07-15T18:09:56.939Z"
   },
   {
    "duration": 625,
    "start_time": "2021-07-15T18:10:45.144Z"
   },
   {
    "duration": 521,
    "start_time": "2021-07-15T18:10:52.046Z"
   },
   {
    "duration": 514,
    "start_time": "2021-07-15T18:11:44.775Z"
   },
   {
    "duration": 38,
    "start_time": "2021-07-15T18:11:53.255Z"
   },
   {
    "duration": 17,
    "start_time": "2021-07-15T18:11:53.295Z"
   },
   {
    "duration": 579,
    "start_time": "2021-07-15T18:11:53.314Z"
   },
   {
    "duration": 461,
    "start_time": "2021-07-15T18:12:21.895Z"
   },
   {
    "duration": 711,
    "start_time": "2021-07-15T18:12:47.406Z"
   },
   {
    "duration": 726,
    "start_time": "2021-07-15T18:15:33.578Z"
   },
   {
    "duration": 8548,
    "start_time": "2021-07-15T18:15:48.266Z"
   },
   {
    "duration": 469,
    "start_time": "2021-07-15T18:16:07.386Z"
   },
   {
    "duration": 126,
    "start_time": "2021-07-15T18:20:19.392Z"
   },
   {
    "duration": 1355,
    "start_time": "2021-07-15T18:20:43.479Z"
   },
   {
    "duration": 7489,
    "start_time": "2021-07-15T18:21:03.263Z"
   },
   {
    "duration": 4227,
    "start_time": "2021-07-15T18:21:37.509Z"
   },
   {
    "duration": 9689,
    "start_time": "2021-07-15T18:22:01.967Z"
   },
   {
    "duration": 16895,
    "start_time": "2021-07-15T18:22:25.604Z"
   },
   {
    "duration": 16770,
    "start_time": "2021-07-15T18:23:03.867Z"
   },
   {
    "duration": 17799,
    "start_time": "2021-07-15T18:23:48.996Z"
   },
   {
    "duration": 16704,
    "start_time": "2021-07-15T18:25:18.964Z"
   },
   {
    "duration": 4181,
    "start_time": "2021-07-15T18:25:49.989Z"
   },
   {
    "duration": 1842,
    "start_time": "2021-07-15T18:26:09.195Z"
   },
   {
    "duration": 2819,
    "start_time": "2021-07-15T18:26:34.882Z"
   },
   {
    "duration": 512,
    "start_time": "2021-07-15T18:27:18.809Z"
   },
   {
    "duration": 522,
    "start_time": "2021-07-15T18:28:45.728Z"
   },
   {
    "duration": 516,
    "start_time": "2021-07-15T18:29:04.295Z"
   },
   {
    "duration": 52,
    "start_time": "2021-07-15T18:29:27.743Z"
   },
   {
    "duration": 37,
    "start_time": "2021-07-15T18:29:38.977Z"
   },
   {
    "duration": 15,
    "start_time": "2021-07-15T18:29:39.017Z"
   },
   {
    "duration": 57,
    "start_time": "2021-07-15T18:29:39.034Z"
   },
   {
    "duration": 2396,
    "start_time": "2021-07-15T18:29:51.041Z"
   },
   {
    "duration": 23,
    "start_time": "2021-07-15T18:29:53.441Z"
   },
   {
    "duration": 78,
    "start_time": "2021-07-15T18:29:53.468Z"
   },
   {
    "duration": 58,
    "start_time": "2021-07-15T18:36:30.910Z"
   },
   {
    "duration": 734,
    "start_time": "2021-07-15T18:37:21.677Z"
   },
   {
    "duration": 1333,
    "start_time": "2021-07-15T18:42:25.034Z"
   },
   {
    "duration": 1059,
    "start_time": "2021-07-15T18:42:31.593Z"
   },
   {
    "duration": 523,
    "start_time": "2021-07-15T18:43:52.616Z"
   },
   {
    "duration": 2869,
    "start_time": "2021-07-15T18:45:46.462Z"
   },
   {
    "duration": 816,
    "start_time": "2021-07-15T18:49:49.210Z"
   },
   {
    "duration": 530,
    "start_time": "2021-07-15T18:50:07.962Z"
   },
   {
    "duration": 132,
    "start_time": "2021-07-15T18:56:53.401Z"
   },
   {
    "duration": 560,
    "start_time": "2021-07-15T18:57:10.282Z"
   },
   {
    "duration": 317,
    "start_time": "2021-07-15T19:00:47.197Z"
   },
   {
    "duration": 4328,
    "start_time": "2021-07-15T19:03:09.716Z"
   },
   {
    "duration": 4213,
    "start_time": "2021-07-15T19:06:35.034Z"
   },
   {
    "duration": 9112,
    "start_time": "2021-07-15T19:07:31.371Z"
   },
   {
    "duration": 2781,
    "start_time": "2021-07-15T19:07:49.394Z"
   },
   {
    "duration": 3382,
    "start_time": "2021-07-15T19:07:58.945Z"
   },
   {
    "duration": 2769,
    "start_time": "2021-07-15T19:08:12.585Z"
   },
   {
    "duration": 2864,
    "start_time": "2021-07-15T19:09:40.776Z"
   },
   {
    "duration": 3201,
    "start_time": "2021-07-15T19:11:04.646Z"
   },
   {
    "duration": 2934,
    "start_time": "2021-07-15T19:11:18.357Z"
   },
   {
    "duration": 3016,
    "start_time": "2021-07-15T19:11:33.765Z"
   },
   {
    "duration": 2931,
    "start_time": "2021-07-15T19:13:37.787Z"
   },
   {
    "duration": 3055,
    "start_time": "2021-07-15T19:22:15.054Z"
   },
   {
    "duration": 3303,
    "start_time": "2021-07-15T19:22:27.332Z"
   },
   {
    "duration": 2380,
    "start_time": "2021-07-15T19:22:38.419Z"
   },
   {
    "duration": 2697,
    "start_time": "2021-07-15T19:24:02.443Z"
   },
   {
    "duration": 1991,
    "start_time": "2021-07-15T19:24:49.905Z"
   },
   {
    "duration": 10084,
    "start_time": "2021-07-15T19:25:53.065Z"
   },
   {
    "duration": 41,
    "start_time": "2021-07-15T19:26:36.404Z"
   },
   {
    "duration": 30,
    "start_time": "2021-07-15T19:26:36.448Z"
   },
   {
    "duration": 2232,
    "start_time": "2021-07-15T19:26:36.481Z"
   },
   {
    "duration": 19442,
    "start_time": "2021-07-15T19:28:20.722Z"
   },
   {
    "duration": 20057,
    "start_time": "2021-07-15T19:29:12.850Z"
   },
   {
    "duration": 20697,
    "start_time": "2021-07-15T19:36:44.958Z"
   },
   {
    "duration": 19477,
    "start_time": "2021-07-15T19:38:01.011Z"
   },
   {
    "duration": 19443,
    "start_time": "2021-07-15T19:38:44.290Z"
   },
   {
    "duration": 7145,
    "start_time": "2021-07-15T19:39:54.227Z"
   },
   {
    "duration": 5910,
    "start_time": "2021-07-15T19:40:16.667Z"
   },
   {
    "duration": 18,
    "start_time": "2021-07-15T19:40:22.579Z"
   },
   {
    "duration": 21898,
    "start_time": "2021-07-15T19:40:22.601Z"
   },
   {
    "duration": 15,
    "start_time": "2021-07-15T19:42:22.109Z"
   },
   {
    "duration": 22,
    "start_time": "2021-07-15T19:42:36.717Z"
   },
   {
    "duration": 25,
    "start_time": "2021-07-15T19:43:35.805Z"
   },
   {
    "duration": 26,
    "start_time": "2021-07-15T19:43:53.876Z"
   },
   {
    "duration": 2771,
    "start_time": "2021-07-15T19:44:37.779Z"
   },
   {
    "duration": 545,
    "start_time": "2021-07-15T19:44:50.865Z"
   },
   {
    "duration": 498,
    "start_time": "2021-07-15T19:45:11.265Z"
   },
   {
    "duration": 558,
    "start_time": "2021-07-15T19:45:23.329Z"
   },
   {
    "duration": 483,
    "start_time": "2021-07-15T19:46:15.145Z"
   },
   {
    "duration": 490,
    "start_time": "2021-07-15T19:46:23.594Z"
   },
   {
    "duration": 960,
    "start_time": "2021-07-15T19:46:49.303Z"
   },
   {
    "duration": 1250,
    "start_time": "2021-07-15T19:47:07.720Z"
   },
   {
    "duration": 2317,
    "start_time": "2021-07-15T19:47:13.560Z"
   },
   {
    "duration": 9313,
    "start_time": "2021-07-15T19:47:20.151Z"
   },
   {
    "duration": 4064,
    "start_time": "2021-07-15T19:47:38.135Z"
   },
   {
    "duration": 30,
    "start_time": "2021-07-15T19:48:05.033Z"
   },
   {
    "duration": 6157,
    "start_time": "2021-07-15T19:48:16.496Z"
   },
   {
    "duration": 6610,
    "start_time": "2021-07-15T19:48:40.878Z"
   },
   {
    "duration": 38,
    "start_time": "2021-07-15T19:48:50.626Z"
   },
   {
    "duration": 31,
    "start_time": "2021-07-15T19:48:55.608Z"
   },
   {
    "duration": 4583,
    "start_time": "2021-07-15T19:49:05.919Z"
   },
   {
    "duration": 30,
    "start_time": "2021-07-15T19:49:12.497Z"
   },
   {
    "duration": 4636,
    "start_time": "2021-07-15T19:49:20.261Z"
   },
   {
    "duration": 27,
    "start_time": "2021-07-15T19:49:24.900Z"
   },
   {
    "duration": 4217,
    "start_time": "2021-07-15T19:49:31.445Z"
   },
   {
    "duration": 27,
    "start_time": "2021-07-15T19:49:35.664Z"
   },
   {
    "duration": 4360,
    "start_time": "2021-07-15T19:49:42.868Z"
   },
   {
    "duration": 44,
    "start_time": "2021-07-15T19:49:47.231Z"
   },
   {
    "duration": 1894,
    "start_time": "2021-07-15T19:49:56.597Z"
   },
   {
    "duration": 26,
    "start_time": "2021-07-15T19:50:04.713Z"
   },
   {
    "duration": 7405,
    "start_time": "2021-07-15T19:50:21.931Z"
   },
   {
    "duration": 34,
    "start_time": "2021-07-15T19:50:32.543Z"
   },
   {
    "duration": 4502,
    "start_time": "2021-07-15T19:50:47.740Z"
   },
   {
    "duration": 29,
    "start_time": "2021-07-15T19:50:55.021Z"
   },
   {
    "duration": 293,
    "start_time": "2021-07-16T08:52:05.765Z"
   },
   {
    "duration": 10246,
    "start_time": "2021-07-16T08:52:09.996Z"
   },
   {
    "duration": 10,
    "start_time": "2021-07-16T08:52:20.243Z"
   },
   {
    "duration": 1767,
    "start_time": "2021-07-16T08:52:20.255Z"
   },
   {
    "duration": 19,
    "start_time": "2021-07-16T08:52:22.024Z"
   },
   {
    "duration": 1635,
    "start_time": "2021-07-16T09:01:10.525Z"
   },
   {
    "duration": 1642,
    "start_time": "2021-07-16T09:01:28.092Z"
   },
   {
    "duration": 1684,
    "start_time": "2021-07-16T09:02:10.761Z"
   },
   {
    "duration": 102,
    "start_time": "2021-07-16T09:04:22.291Z"
   },
   {
    "duration": 92,
    "start_time": "2021-07-16T09:04:35.832Z"
   },
   {
    "duration": 96,
    "start_time": "2021-07-16T09:04:48.198Z"
   },
   {
    "duration": 1724,
    "start_time": "2021-07-16T09:04:55.665Z"
   },
   {
    "duration": 1755,
    "start_time": "2021-07-16T09:05:38.304Z"
   },
   {
    "duration": 2011,
    "start_time": "2021-07-16T09:06:30.998Z"
   },
   {
    "duration": 1812,
    "start_time": "2021-07-16T09:06:49.493Z"
   },
   {
    "duration": 21574,
    "start_time": "2021-07-16T09:07:06.926Z"
   },
   {
    "duration": 3776,
    "start_time": "2021-07-16T09:07:52.340Z"
   },
   {
    "duration": 1653,
    "start_time": "2021-07-16T09:08:18.021Z"
   },
   {
    "duration": 5589,
    "start_time": "2021-07-16T09:08:27.892Z"
   },
   {
    "duration": 2846,
    "start_time": "2021-07-16T09:08:45.108Z"
   },
   {
    "duration": 3810,
    "start_time": "2021-07-16T09:08:50.587Z"
   },
   {
    "duration": 90,
    "start_time": "2021-07-16T09:09:23.212Z"
   },
   {
    "duration": 101,
    "start_time": "2021-07-16T09:09:32.509Z"
   },
   {
    "duration": 3243,
    "start_time": "2021-07-16T09:09:41.291Z"
   },
   {
    "duration": 3259,
    "start_time": "2021-07-16T09:10:11.620Z"
   },
   {
    "duration": 94,
    "start_time": "2021-07-16T09:10:55.675Z"
   },
   {
    "duration": 3198,
    "start_time": "2021-07-16T09:11:06.258Z"
   },
   {
    "duration": 115,
    "start_time": "2021-07-16T09:11:19.858Z"
   },
   {
    "duration": 86,
    "start_time": "2021-07-16T09:11:25.361Z"
   },
   {
    "duration": 110,
    "start_time": "2021-07-16T09:11:32.483Z"
   },
   {
    "duration": 3817,
    "start_time": "2021-07-16T09:11:42.043Z"
   },
   {
    "duration": 3274,
    "start_time": "2021-07-16T09:12:02.755Z"
   },
   {
    "duration": 3274,
    "start_time": "2021-07-16T09:12:30.082Z"
   },
   {
    "duration": 3592,
    "start_time": "2021-07-16T09:13:11.530Z"
   },
   {
    "duration": 3283,
    "start_time": "2021-07-16T09:13:29.161Z"
   },
   {
    "duration": 3226,
    "start_time": "2021-07-16T09:21:06.627Z"
   },
   {
    "duration": 3313,
    "start_time": "2021-07-16T09:40:19.080Z"
   },
   {
    "duration": 13,
    "start_time": "2021-07-16T09:44:38.104Z"
   },
   {
    "duration": 300,
    "start_time": "2021-07-16T09:45:41.687Z"
   },
   {
    "duration": 257,
    "start_time": "2021-07-16T09:46:11.384Z"
   },
   {
    "duration": 16,
    "start_time": "2021-07-16T09:46:23.182Z"
   },
   {
    "duration": 16,
    "start_time": "2021-07-16T09:47:10.977Z"
   },
   {
    "duration": 92,
    "start_time": "2021-07-16T09:47:21.311Z"
   },
   {
    "duration": 3567,
    "start_time": "2021-07-16T09:49:47.929Z"
   },
   {
    "duration": 3527,
    "start_time": "2021-07-16T09:51:44.456Z"
   },
   {
    "duration": 169,
    "start_time": "2021-07-16T09:52:07.734Z"
   },
   {
    "duration": 3270,
    "start_time": "2021-07-16T09:52:15.981Z"
   },
   {
    "duration": 3268,
    "start_time": "2021-07-16T09:52:43.719Z"
   },
   {
    "duration": 85,
    "start_time": "2021-07-16T09:54:50.647Z"
   },
   {
    "duration": 85,
    "start_time": "2021-07-16T09:55:09.647Z"
   },
   {
    "duration": 16,
    "start_time": "2021-07-16T09:55:22.383Z"
   },
   {
    "duration": 436,
    "start_time": "2021-07-16T09:55:28.038Z"
   },
   {
    "duration": 430,
    "start_time": "2021-07-16T09:55:35.343Z"
   },
   {
    "duration": 19,
    "start_time": "2021-07-16T09:55:56.063Z"
   },
   {
    "duration": 17,
    "start_time": "2021-07-16T09:56:49.654Z"
   },
   {
    "duration": 16,
    "start_time": "2021-07-16T09:57:05.221Z"
   },
   {
    "duration": 16,
    "start_time": "2021-07-16T09:57:28.990Z"
   },
   {
    "duration": 17,
    "start_time": "2021-07-16T09:57:45.812Z"
   },
   {
    "duration": 432,
    "start_time": "2021-07-16T09:58:53.202Z"
   },
   {
    "duration": 18,
    "start_time": "2021-07-16T09:58:59.306Z"
   },
   {
    "duration": 497,
    "start_time": "2021-07-16T10:01:10.538Z"
   },
   {
    "duration": 14,
    "start_time": "2021-07-16T10:01:35.074Z"
   },
   {
    "duration": 14,
    "start_time": "2021-07-16T10:03:26.284Z"
   },
   {
    "duration": 14,
    "start_time": "2021-07-16T10:03:34.504Z"
   },
   {
    "duration": 434,
    "start_time": "2021-07-16T10:03:42.176Z"
   },
   {
    "duration": 14,
    "start_time": "2021-07-16T10:04:20.928Z"
   },
   {
    "duration": 3250,
    "start_time": "2021-07-16T10:05:43.538Z"
   },
   {
    "duration": 15,
    "start_time": "2021-07-16T10:07:56.374Z"
   },
   {
    "duration": 12,
    "start_time": "2021-07-16T10:17:02.225Z"
   },
   {
    "duration": 1480,
    "start_time": "2021-07-16T13:31:52.176Z"
   },
   {
    "duration": 21,
    "start_time": "2021-07-16T13:31:53.659Z"
   },
   {
    "duration": 6751,
    "start_time": "2021-07-16T13:31:53.684Z"
   },
   {
    "duration": 15,
    "start_time": "2021-07-16T13:32:00.438Z"
   },
   {
    "duration": 13907,
    "start_time": "2021-07-16T13:32:46.787Z"
   },
   {
    "duration": 33,
    "start_time": "2021-07-16T13:33:00.697Z"
   },
   {
    "duration": 6414,
    "start_time": "2021-07-16T13:33:00.735Z"
   },
   {
    "duration": 20,
    "start_time": "2021-07-16T13:33:07.151Z"
   },
   {
    "duration": 7265,
    "start_time": "2021-07-16T13:33:07.173Z"
   },
   {
    "duration": 8,
    "start_time": "2021-07-16T13:34:27.553Z"
   },
   {
    "duration": 9,
    "start_time": "2021-07-16T13:34:37.764Z"
   },
   {
    "duration": 10,
    "start_time": "2021-07-16T13:35:16.269Z"
   },
   {
    "duration": 7271,
    "start_time": "2021-07-16T13:42:16.279Z"
   },
   {
    "duration": 3845,
    "start_time": "2021-07-16T13:42:40.894Z"
   },
   {
    "duration": 7,
    "start_time": "2021-07-16T13:43:41.326Z"
   },
   {
    "duration": 7,
    "start_time": "2021-07-16T13:45:38.755Z"
   },
   {
    "duration": 310,
    "start_time": "2021-07-16T13:45:59.548Z"
   },
   {
    "duration": 8,
    "start_time": "2021-07-16T13:46:10.029Z"
   },
   {
    "duration": 10,
    "start_time": "2021-07-16T13:46:21.435Z"
   },
   {
    "duration": 6,
    "start_time": "2021-07-16T13:46:30.995Z"
   },
   {
    "duration": 6,
    "start_time": "2021-07-16T14:10:08.781Z"
   },
   {
    "duration": 7,
    "start_time": "2021-07-16T14:11:27.975Z"
   },
   {
    "duration": 6,
    "start_time": "2021-07-16T14:24:24.186Z"
   },
   {
    "duration": 5,
    "start_time": "2021-07-16T14:28:38.286Z"
   },
   {
    "duration": 2067,
    "start_time": "2021-07-16T14:32:27.595Z"
   },
   {
    "duration": 17,
    "start_time": "2021-07-16T14:32:29.665Z"
   },
   {
    "duration": 8001,
    "start_time": "2021-07-16T14:32:29.685Z"
   },
   {
    "duration": 15,
    "start_time": "2021-07-16T14:32:37.688Z"
   },
   {
    "duration": 27,
    "start_time": "2021-07-16T14:32:37.705Z"
   },
   {
    "duration": 83,
    "start_time": "2021-07-16T14:34:28.557Z"
   },
   {
    "duration": 40,
    "start_time": "2021-07-16T14:41:47.300Z"
   },
   {
    "duration": 17,
    "start_time": "2021-07-16T14:41:47.343Z"
   },
   {
    "duration": 5516,
    "start_time": "2021-07-16T14:41:47.363Z"
   },
   {
    "duration": 20,
    "start_time": "2021-07-16T14:41:52.881Z"
   },
   {
    "duration": 22,
    "start_time": "2021-07-16T14:41:52.904Z"
   },
   {
    "duration": 418,
    "start_time": "2021-07-18T07:22:35.732Z"
   },
   {
    "duration": 1320,
    "start_time": "2021-07-18T07:22:41.015Z"
   },
   {
    "duration": 17,
    "start_time": "2021-07-18T07:22:42.338Z"
   },
   {
    "duration": 91,
    "start_time": "2021-07-18T07:22:42.358Z"
   },
   {
    "duration": 4339,
    "start_time": "2021-07-18T07:22:42.452Z"
   },
   {
    "duration": 6,
    "start_time": "2021-07-18T07:22:46.793Z"
   },
   {
    "duration": 24,
    "start_time": "2021-07-18T07:22:46.801Z"
   },
   {
    "duration": 4348,
    "start_time": "2021-07-18T08:30:28.006Z"
   },
   {
    "duration": 4249,
    "start_time": "2021-07-18T08:30:45.735Z"
   },
   {
    "duration": 24,
    "start_time": "2021-07-18T08:59:24.529Z"
   },
   {
    "duration": 25,
    "start_time": "2021-07-18T09:06:13.074Z"
   },
   {
    "duration": 11144,
    "start_time": "2021-07-18T09:06:43.189Z"
   },
   {
    "duration": 16,
    "start_time": "2021-07-18T09:06:54.336Z"
   },
   {
    "duration": 127,
    "start_time": "2021-07-18T09:06:54.355Z"
   },
   {
    "duration": 5403,
    "start_time": "2021-07-18T09:06:54.485Z"
   },
   {
    "duration": 33,
    "start_time": "2021-07-18T09:06:59.891Z"
   },
   {
    "duration": 5,
    "start_time": "2021-07-18T09:06:59.927Z"
   },
   {
    "duration": 55,
    "start_time": "2021-07-18T09:06:59.935Z"
   }
  ],
  "kernelspec": {
   "display_name": "Python 3 (ipykernel)",
   "language": "python",
   "name": "python3"
  },
  "language_info": {
   "codemirror_mode": {
    "name": "ipython",
    "version": 3
   },
   "file_extension": ".py",
   "mimetype": "text/x-python",
   "name": "python",
   "nbconvert_exporter": "python",
   "pygments_lexer": "ipython3",
   "version": "3.9.6"
  },
  "toc": {
   "base_numbering": 1,
   "nav_menu": {},
   "number_sections": true,
   "sideBar": true,
   "skip_h1_title": true,
   "title_cell": "Содержание",
   "title_sidebar": "Contents",
   "toc_cell": true,
   "toc_position": {},
   "toc_section_display": true,
   "toc_window_display": true
  }
 },
 "nbformat": 4,
 "nbformat_minor": 2
}
