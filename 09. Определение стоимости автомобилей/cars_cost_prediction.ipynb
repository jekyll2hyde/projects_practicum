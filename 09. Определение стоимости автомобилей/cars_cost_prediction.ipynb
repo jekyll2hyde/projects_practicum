{
 "cells": [
  {
   "cell_type": "markdown",
   "metadata": {},
   "source": [
    "# Определение стоимости автомобилей"
   ]
  },
  {
   "cell_type": "markdown",
   "metadata": {},
   "source": [
    "Сервис по продаже автомобилей с пробегом разрабатывает приложение для привлечения новых клиентов. В нём можно быстро узнать рыночную стоимость своего автомобиля. \n",
    "\n",
    "Имеются исторические данные: технические характеристики, комплектации и цены автомобилей. \n",
    "\n",
    "Необходимо построить модель для определения стоимости. \n",
    "\n",
    "***Заказчику важны***:\n",
    "\n",
    "- качество предсказания;\n",
    "- скорость предсказания;\n",
    "- время обучения.\n",
    "\n",
    "Проект будет выполнятся согласно ***плану*** ниже:\n",
    "\n",
    "1. Подготовка данных:\n",
    "\n",
    " - Изучение исходных данных и выявление аномалий;\n",
    " - Предобработка данных;\n",
    " - Подготовка признаков к работе с моделями;\n",
    " \n",
    " \n",
    "2. Подбор наилучших моделей;\n",
    "\n",
    "\n",
    "3. Анализ времени работы и эффективности отобранных моделей;\n",
    "\n",
    "\n",
    "4. Формирование итогового вывода."
   ]
  },
  {
   "cell_type": "markdown",
   "metadata": {},
   "source": [
    "## Подготовка данных"
   ]
  },
  {
   "cell_type": "code",
   "execution_count": 1,
   "metadata": {},
   "outputs": [
    {
     "name": "stdout",
     "output_type": "stream",
     "text": [
      "Defaulting to user installation because normal site-packages is not writeable\n",
      "Requirement already up-to-date: scikit_learn in /home/jovyan/.local/lib/python3.7/site-packages (1.0)\n",
      "Requirement already satisfied, skipping upgrade: scipy>=1.1.0 in /opt/conda/lib/python3.7/site-packages (from scikit_learn) (1.4.1)\n",
      "Requirement already satisfied, skipping upgrade: numpy>=1.14.6 in /opt/conda/lib/python3.7/site-packages (from scikit_learn) (1.19.5)\n",
      "Requirement already satisfied, skipping upgrade: threadpoolctl>=2.0.0 in /home/jovyan/.local/lib/python3.7/site-packages (from scikit_learn) (3.0.0)\n",
      "Requirement already satisfied, skipping upgrade: joblib>=0.11 in /opt/conda/lib/python3.7/site-packages (from scikit_learn) (1.0.1)\n"
     ]
    }
   ],
   "source": [
    "! pip install scikit_learn --upgrade\n",
    "# ! pip install xgboost --upgrade"
   ]
  },
  {
   "cell_type": "markdown",
   "metadata": {},
   "source": [
    "Импортируем необходимые для работы библиотеки:"
   ]
  },
  {
   "cell_type": "code",
   "execution_count": 2,
   "metadata": {},
   "outputs": [],
   "source": [
    "import pandas as pd\n",
    "import numpy as np\n",
    "import matplotlib.pyplot as plt\n",
    "import seaborn as sns\n",
    "from sklearn.model_selection import train_test_split\n",
    "from sklearn.preprocessing import OrdinalEncoder\n",
    "from sklearn.preprocessing import StandardScaler\n",
    "from sklearn.model_selection import GridSearchCV\n",
    "from sklearn.tree import DecisionTreeRegressor\n",
    "from sklearn.ensemble import RandomForestRegressor\n",
    "from sklearn.linear_model import LinearRegression\n",
    "from sklearn.dummy import DummyRegressor\n",
    "from sklearn.feature_selection import RFECV\n",
    "from sklearn.metrics import mean_squared_error\n",
    "import xgboost as xgb\n",
    "import lightgbm as lgb\n",
    "import catboost as cb\n",
    "import catboost as cb\n",
    "import warnings"
   ]
  },
  {
   "cell_type": "markdown",
   "metadata": {},
   "source": [
    "Загрузим исходные данные:"
   ]
  },
  {
   "cell_type": "code",
   "execution_count": 3,
   "metadata": {},
   "outputs": [],
   "source": [
    "data = pd.read_csv('https://code.s3.yandex.net/datasets/autos.csv')"
   ]
  },
  {
   "cell_type": "markdown",
   "metadata": {},
   "source": [
    "### Изучение данных"
   ]
  },
  {
   "cell_type": "markdown",
   "metadata": {},
   "source": [
    "Выведем на экран первые 5 строк таблицы и общую информацию о данных:"
   ]
  },
  {
   "cell_type": "code",
   "execution_count": 4,
   "metadata": {},
   "outputs": [
    {
     "data": {
      "text/html": [
       "<div>\n",
       "<style scoped>\n",
       "    .dataframe tbody tr th:only-of-type {\n",
       "        vertical-align: middle;\n",
       "    }\n",
       "\n",
       "    .dataframe tbody tr th {\n",
       "        vertical-align: top;\n",
       "    }\n",
       "\n",
       "    .dataframe thead th {\n",
       "        text-align: right;\n",
       "    }\n",
       "</style>\n",
       "<table border=\"1\" class=\"dataframe\">\n",
       "  <thead>\n",
       "    <tr style=\"text-align: right;\">\n",
       "      <th></th>\n",
       "      <th>DateCrawled</th>\n",
       "      <th>Price</th>\n",
       "      <th>VehicleType</th>\n",
       "      <th>RegistrationYear</th>\n",
       "      <th>Gearbox</th>\n",
       "      <th>Power</th>\n",
       "      <th>Model</th>\n",
       "      <th>Kilometer</th>\n",
       "      <th>RegistrationMonth</th>\n",
       "      <th>FuelType</th>\n",
       "      <th>Brand</th>\n",
       "      <th>NotRepaired</th>\n",
       "      <th>DateCreated</th>\n",
       "      <th>NumberOfPictures</th>\n",
       "      <th>PostalCode</th>\n",
       "      <th>LastSeen</th>\n",
       "    </tr>\n",
       "  </thead>\n",
       "  <tbody>\n",
       "    <tr>\n",
       "      <td>0</td>\n",
       "      <td>2016-03-24 11:52:17</td>\n",
       "      <td>480</td>\n",
       "      <td>NaN</td>\n",
       "      <td>1993</td>\n",
       "      <td>manual</td>\n",
       "      <td>0</td>\n",
       "      <td>golf</td>\n",
       "      <td>150000</td>\n",
       "      <td>0</td>\n",
       "      <td>petrol</td>\n",
       "      <td>volkswagen</td>\n",
       "      <td>NaN</td>\n",
       "      <td>2016-03-24 00:00:00</td>\n",
       "      <td>0</td>\n",
       "      <td>70435</td>\n",
       "      <td>2016-04-07 03:16:57</td>\n",
       "    </tr>\n",
       "    <tr>\n",
       "      <td>1</td>\n",
       "      <td>2016-03-24 10:58:45</td>\n",
       "      <td>18300</td>\n",
       "      <td>coupe</td>\n",
       "      <td>2011</td>\n",
       "      <td>manual</td>\n",
       "      <td>190</td>\n",
       "      <td>NaN</td>\n",
       "      <td>125000</td>\n",
       "      <td>5</td>\n",
       "      <td>gasoline</td>\n",
       "      <td>audi</td>\n",
       "      <td>yes</td>\n",
       "      <td>2016-03-24 00:00:00</td>\n",
       "      <td>0</td>\n",
       "      <td>66954</td>\n",
       "      <td>2016-04-07 01:46:50</td>\n",
       "    </tr>\n",
       "    <tr>\n",
       "      <td>2</td>\n",
       "      <td>2016-03-14 12:52:21</td>\n",
       "      <td>9800</td>\n",
       "      <td>suv</td>\n",
       "      <td>2004</td>\n",
       "      <td>auto</td>\n",
       "      <td>163</td>\n",
       "      <td>grand</td>\n",
       "      <td>125000</td>\n",
       "      <td>8</td>\n",
       "      <td>gasoline</td>\n",
       "      <td>jeep</td>\n",
       "      <td>NaN</td>\n",
       "      <td>2016-03-14 00:00:00</td>\n",
       "      <td>0</td>\n",
       "      <td>90480</td>\n",
       "      <td>2016-04-05 12:47:46</td>\n",
       "    </tr>\n",
       "    <tr>\n",
       "      <td>3</td>\n",
       "      <td>2016-03-17 16:54:04</td>\n",
       "      <td>1500</td>\n",
       "      <td>small</td>\n",
       "      <td>2001</td>\n",
       "      <td>manual</td>\n",
       "      <td>75</td>\n",
       "      <td>golf</td>\n",
       "      <td>150000</td>\n",
       "      <td>6</td>\n",
       "      <td>petrol</td>\n",
       "      <td>volkswagen</td>\n",
       "      <td>no</td>\n",
       "      <td>2016-03-17 00:00:00</td>\n",
       "      <td>0</td>\n",
       "      <td>91074</td>\n",
       "      <td>2016-03-17 17:40:17</td>\n",
       "    </tr>\n",
       "    <tr>\n",
       "      <td>4</td>\n",
       "      <td>2016-03-31 17:25:20</td>\n",
       "      <td>3600</td>\n",
       "      <td>small</td>\n",
       "      <td>2008</td>\n",
       "      <td>manual</td>\n",
       "      <td>69</td>\n",
       "      <td>fabia</td>\n",
       "      <td>90000</td>\n",
       "      <td>7</td>\n",
       "      <td>gasoline</td>\n",
       "      <td>skoda</td>\n",
       "      <td>no</td>\n",
       "      <td>2016-03-31 00:00:00</td>\n",
       "      <td>0</td>\n",
       "      <td>60437</td>\n",
       "      <td>2016-04-06 10:17:21</td>\n",
       "    </tr>\n",
       "  </tbody>\n",
       "</table>\n",
       "</div>"
      ],
      "text/plain": [
       "           DateCrawled  Price VehicleType  RegistrationYear Gearbox  Power  \\\n",
       "0  2016-03-24 11:52:17    480         NaN              1993  manual      0   \n",
       "1  2016-03-24 10:58:45  18300       coupe              2011  manual    190   \n",
       "2  2016-03-14 12:52:21   9800         suv              2004    auto    163   \n",
       "3  2016-03-17 16:54:04   1500       small              2001  manual     75   \n",
       "4  2016-03-31 17:25:20   3600       small              2008  manual     69   \n",
       "\n",
       "   Model  Kilometer  RegistrationMonth  FuelType       Brand NotRepaired  \\\n",
       "0   golf     150000                  0    petrol  volkswagen         NaN   \n",
       "1    NaN     125000                  5  gasoline        audi         yes   \n",
       "2  grand     125000                  8  gasoline        jeep         NaN   \n",
       "3   golf     150000                  6    petrol  volkswagen          no   \n",
       "4  fabia      90000                  7  gasoline       skoda          no   \n",
       "\n",
       "           DateCreated  NumberOfPictures  PostalCode             LastSeen  \n",
       "0  2016-03-24 00:00:00                 0       70435  2016-04-07 03:16:57  \n",
       "1  2016-03-24 00:00:00                 0       66954  2016-04-07 01:46:50  \n",
       "2  2016-03-14 00:00:00                 0       90480  2016-04-05 12:47:46  \n",
       "3  2016-03-17 00:00:00                 0       91074  2016-03-17 17:40:17  \n",
       "4  2016-03-31 00:00:00                 0       60437  2016-04-06 10:17:21  "
      ]
     },
     "metadata": {},
     "output_type": "display_data"
    },
    {
     "name": "stdout",
     "output_type": "stream",
     "text": [
      "<class 'pandas.core.frame.DataFrame'>\n",
      "RangeIndex: 354369 entries, 0 to 354368\n",
      "Data columns (total 16 columns):\n",
      "DateCrawled          354369 non-null object\n",
      "Price                354369 non-null int64\n",
      "VehicleType          316879 non-null object\n",
      "RegistrationYear     354369 non-null int64\n",
      "Gearbox              334536 non-null object\n",
      "Power                354369 non-null int64\n",
      "Model                334664 non-null object\n",
      "Kilometer            354369 non-null int64\n",
      "RegistrationMonth    354369 non-null int64\n",
      "FuelType             321474 non-null object\n",
      "Brand                354369 non-null object\n",
      "NotRepaired          283215 non-null object\n",
      "DateCreated          354369 non-null object\n",
      "NumberOfPictures     354369 non-null int64\n",
      "PostalCode           354369 non-null int64\n",
      "LastSeen             354369 non-null object\n",
      "dtypes: int64(7), object(9)\n",
      "memory usage: 43.3+ MB\n"
     ]
    }
   ],
   "source": [
    "display(data.head())\n",
    "data.info()"
   ]
  },
  {
   "cell_type": "markdown",
   "metadata": {},
   "source": [
    "В датасете всего 354 369 строк. В столбцах ***VehicleType***, ***Gearbox***, ***Model***, ***FuelType***, ***NotRepaired*** имеются пропуски данных.\n",
    "\n",
    "Выведем на экран доли пропусков данных в каждом из столбцов датасета:"
   ]
  },
  {
   "cell_type": "code",
   "execution_count": 5,
   "metadata": {},
   "outputs": [
    {
     "data": {
      "text/html": [
       "<style  type=\"text/css\" >\n",
       "    #T_bff2d7c0_260f_11ec_8ac6_02420a393644row0_col0 {\n",
       "            background-color:  #3b4cc0;\n",
       "            color:  #f1f1f1;\n",
       "        }    #T_bff2d7c0_260f_11ec_8ac6_02420a393644row1_col0 {\n",
       "            background-color:  #3b4cc0;\n",
       "            color:  #f1f1f1;\n",
       "        }    #T_bff2d7c0_260f_11ec_8ac6_02420a393644row2_col0 {\n",
       "            background-color:  #e3d9d3;\n",
       "            color:  #000000;\n",
       "        }    #T_bff2d7c0_260f_11ec_8ac6_02420a393644row3_col0 {\n",
       "            background-color:  #3b4cc0;\n",
       "            color:  #f1f1f1;\n",
       "        }    #T_bff2d7c0_260f_11ec_8ac6_02420a393644row4_col0 {\n",
       "            background-color:  #97b8ff;\n",
       "            color:  #000000;\n",
       "        }    #T_bff2d7c0_260f_11ec_8ac6_02420a393644row5_col0 {\n",
       "            background-color:  #3b4cc0;\n",
       "            color:  #f1f1f1;\n",
       "        }    #T_bff2d7c0_260f_11ec_8ac6_02420a393644row6_col0 {\n",
       "            background-color:  #96b7ff;\n",
       "            color:  #000000;\n",
       "        }    #T_bff2d7c0_260f_11ec_8ac6_02420a393644row7_col0 {\n",
       "            background-color:  #3b4cc0;\n",
       "            color:  #f1f1f1;\n",
       "        }    #T_bff2d7c0_260f_11ec_8ac6_02420a393644row8_col0 {\n",
       "            background-color:  #3b4cc0;\n",
       "            color:  #f1f1f1;\n",
       "        }    #T_bff2d7c0_260f_11ec_8ac6_02420a393644row9_col0 {\n",
       "            background-color:  #d3dbe7;\n",
       "            color:  #000000;\n",
       "        }    #T_bff2d7c0_260f_11ec_8ac6_02420a393644row10_col0 {\n",
       "            background-color:  #3b4cc0;\n",
       "            color:  #f1f1f1;\n",
       "        }    #T_bff2d7c0_260f_11ec_8ac6_02420a393644row11_col0 {\n",
       "            background-color:  #b40426;\n",
       "            color:  #f1f1f1;\n",
       "        }    #T_bff2d7c0_260f_11ec_8ac6_02420a393644row12_col0 {\n",
       "            background-color:  #3b4cc0;\n",
       "            color:  #f1f1f1;\n",
       "        }    #T_bff2d7c0_260f_11ec_8ac6_02420a393644row13_col0 {\n",
       "            background-color:  #3b4cc0;\n",
       "            color:  #f1f1f1;\n",
       "        }    #T_bff2d7c0_260f_11ec_8ac6_02420a393644row14_col0 {\n",
       "            background-color:  #3b4cc0;\n",
       "            color:  #f1f1f1;\n",
       "        }    #T_bff2d7c0_260f_11ec_8ac6_02420a393644row15_col0 {\n",
       "            background-color:  #3b4cc0;\n",
       "            color:  #f1f1f1;\n",
       "        }</style><table id=\"T_bff2d7c0_260f_11ec_8ac6_02420a393644\" ><thead>    <tr>        <th class=\"blank level0\" ></th>        <th class=\"col_heading level0 col0\" >0</th>    </tr></thead><tbody>\n",
       "                <tr>\n",
       "                        <th id=\"T_bff2d7c0_260f_11ec_8ac6_02420a393644level0_row0\" class=\"row_heading level0 row0\" >DateCrawled</th>\n",
       "                        <td id=\"T_bff2d7c0_260f_11ec_8ac6_02420a393644row0_col0\" class=\"data row0 col0\" >0</td>\n",
       "            </tr>\n",
       "            <tr>\n",
       "                        <th id=\"T_bff2d7c0_260f_11ec_8ac6_02420a393644level0_row1\" class=\"row_heading level0 row1\" >Price</th>\n",
       "                        <td id=\"T_bff2d7c0_260f_11ec_8ac6_02420a393644row1_col0\" class=\"data row1 col0\" >0</td>\n",
       "            </tr>\n",
       "            <tr>\n",
       "                        <th id=\"T_bff2d7c0_260f_11ec_8ac6_02420a393644level0_row2\" class=\"row_heading level0 row2\" >VehicleType</th>\n",
       "                        <td id=\"T_bff2d7c0_260f_11ec_8ac6_02420a393644row2_col0\" class=\"data row2 col0\" >10.58</td>\n",
       "            </tr>\n",
       "            <tr>\n",
       "                        <th id=\"T_bff2d7c0_260f_11ec_8ac6_02420a393644level0_row3\" class=\"row_heading level0 row3\" >RegistrationYear</th>\n",
       "                        <td id=\"T_bff2d7c0_260f_11ec_8ac6_02420a393644row3_col0\" class=\"data row3 col0\" >0</td>\n",
       "            </tr>\n",
       "            <tr>\n",
       "                        <th id=\"T_bff2d7c0_260f_11ec_8ac6_02420a393644level0_row4\" class=\"row_heading level0 row4\" >Gearbox</th>\n",
       "                        <td id=\"T_bff2d7c0_260f_11ec_8ac6_02420a393644row4_col0\" class=\"data row4 col0\" >5.6</td>\n",
       "            </tr>\n",
       "            <tr>\n",
       "                        <th id=\"T_bff2d7c0_260f_11ec_8ac6_02420a393644level0_row5\" class=\"row_heading level0 row5\" >Power</th>\n",
       "                        <td id=\"T_bff2d7c0_260f_11ec_8ac6_02420a393644row5_col0\" class=\"data row5 col0\" >0</td>\n",
       "            </tr>\n",
       "            <tr>\n",
       "                        <th id=\"T_bff2d7c0_260f_11ec_8ac6_02420a393644level0_row6\" class=\"row_heading level0 row6\" >Model</th>\n",
       "                        <td id=\"T_bff2d7c0_260f_11ec_8ac6_02420a393644row6_col0\" class=\"data row6 col0\" >5.56</td>\n",
       "            </tr>\n",
       "            <tr>\n",
       "                        <th id=\"T_bff2d7c0_260f_11ec_8ac6_02420a393644level0_row7\" class=\"row_heading level0 row7\" >Kilometer</th>\n",
       "                        <td id=\"T_bff2d7c0_260f_11ec_8ac6_02420a393644row7_col0\" class=\"data row7 col0\" >0</td>\n",
       "            </tr>\n",
       "            <tr>\n",
       "                        <th id=\"T_bff2d7c0_260f_11ec_8ac6_02420a393644level0_row8\" class=\"row_heading level0 row8\" >RegistrationMonth</th>\n",
       "                        <td id=\"T_bff2d7c0_260f_11ec_8ac6_02420a393644row8_col0\" class=\"data row8 col0\" >0</td>\n",
       "            </tr>\n",
       "            <tr>\n",
       "                        <th id=\"T_bff2d7c0_260f_11ec_8ac6_02420a393644level0_row9\" class=\"row_heading level0 row9\" >FuelType</th>\n",
       "                        <td id=\"T_bff2d7c0_260f_11ec_8ac6_02420a393644row9_col0\" class=\"data row9 col0\" >9.28</td>\n",
       "            </tr>\n",
       "            <tr>\n",
       "                        <th id=\"T_bff2d7c0_260f_11ec_8ac6_02420a393644level0_row10\" class=\"row_heading level0 row10\" >Brand</th>\n",
       "                        <td id=\"T_bff2d7c0_260f_11ec_8ac6_02420a393644row10_col0\" class=\"data row10 col0\" >0</td>\n",
       "            </tr>\n",
       "            <tr>\n",
       "                        <th id=\"T_bff2d7c0_260f_11ec_8ac6_02420a393644level0_row11\" class=\"row_heading level0 row11\" >NotRepaired</th>\n",
       "                        <td id=\"T_bff2d7c0_260f_11ec_8ac6_02420a393644row11_col0\" class=\"data row11 col0\" >20.08</td>\n",
       "            </tr>\n",
       "            <tr>\n",
       "                        <th id=\"T_bff2d7c0_260f_11ec_8ac6_02420a393644level0_row12\" class=\"row_heading level0 row12\" >DateCreated</th>\n",
       "                        <td id=\"T_bff2d7c0_260f_11ec_8ac6_02420a393644row12_col0\" class=\"data row12 col0\" >0</td>\n",
       "            </tr>\n",
       "            <tr>\n",
       "                        <th id=\"T_bff2d7c0_260f_11ec_8ac6_02420a393644level0_row13\" class=\"row_heading level0 row13\" >NumberOfPictures</th>\n",
       "                        <td id=\"T_bff2d7c0_260f_11ec_8ac6_02420a393644row13_col0\" class=\"data row13 col0\" >0</td>\n",
       "            </tr>\n",
       "            <tr>\n",
       "                        <th id=\"T_bff2d7c0_260f_11ec_8ac6_02420a393644level0_row14\" class=\"row_heading level0 row14\" >PostalCode</th>\n",
       "                        <td id=\"T_bff2d7c0_260f_11ec_8ac6_02420a393644row14_col0\" class=\"data row14 col0\" >0</td>\n",
       "            </tr>\n",
       "            <tr>\n",
       "                        <th id=\"T_bff2d7c0_260f_11ec_8ac6_02420a393644level0_row15\" class=\"row_heading level0 row15\" >LastSeen</th>\n",
       "                        <td id=\"T_bff2d7c0_260f_11ec_8ac6_02420a393644row15_col0\" class=\"data row15 col0\" >0</td>\n",
       "            </tr>\n",
       "    </tbody></table>"
      ],
      "text/plain": [
       "<pandas.io.formats.style.Styler at 0x7fc175071cd0>"
      ]
     },
     "execution_count": 5,
     "metadata": {},
     "output_type": "execute_result"
    }
   ],
   "source": [
    "(data.isna().mean() * 100).round(2).to_frame().style.background_gradient(cmap='coolwarm')"
   ]
  },
  {
   "cell_type": "markdown",
   "metadata": {},
   "source": [
    "Столбцы содержат от ***5,56*** до ***20,08%*** пропусков данных."
   ]
  },
  {
   "cell_type": "markdown",
   "metadata": {},
   "source": [
    "Проверим датасет на наличие грубых дубликатов:"
   ]
  },
  {
   "cell_type": "markdown",
   "metadata": {},
   "source": []
  },
  {
   "cell_type": "code",
   "execution_count": 6,
   "metadata": {},
   "outputs": [
    {
     "data": {
      "text/plain": [
       "4"
      ]
     },
     "execution_count": 6,
     "metadata": {},
     "output_type": "execute_result"
    }
   ],
   "source": [
    "data.duplicated().sum()"
   ]
  },
  {
   "cell_type": "markdown",
   "metadata": {},
   "source": [
    "Обнаружены 4 грубых дубликата."
   ]
  },
  {
   "cell_type": "markdown",
   "metadata": {},
   "source": [
    "Проверим категориальные признаки на наличие скрытых дубликатов."
   ]
  },
  {
   "cell_type": "code",
   "execution_count": 7,
   "metadata": {},
   "outputs": [],
   "source": [
    "def show_hiden_duplicates(column):\n",
    "    print(column)\n",
    "    print()\n",
    "    print(sorted(list(data[data[column].isna() == False][column].unique())))\n",
    "    print()"
   ]
  },
  {
   "cell_type": "code",
   "execution_count": 8,
   "metadata": {},
   "outputs": [
    {
     "name": "stdout",
     "output_type": "stream",
     "text": [
      "VehicleType\n",
      "\n",
      "['bus', 'convertible', 'coupe', 'other', 'sedan', 'small', 'suv', 'wagon']\n",
      "\n",
      "Gearbox\n",
      "\n",
      "['auto', 'manual']\n",
      "\n",
      "Model\n",
      "\n",
      "['100', '145', '147', '156', '159', '1_reihe', '1er', '200', '2_reihe', '300c', '3_reihe', '3er', '4_reihe', '500', '5_reihe', '5er', '601', '6_reihe', '6er', '7er', '80', '850', '90', '900', '9000', '911', 'a1', 'a2', 'a3', 'a4', 'a5', 'a6', 'a8', 'a_klasse', 'accord', 'agila', 'alhambra', 'almera', 'altea', 'amarok', 'antara', 'arosa', 'astra', 'auris', 'avensis', 'aveo', 'aygo', 'b_klasse', 'b_max', 'beetle', 'berlingo', 'bora', 'boxster', 'bravo', 'c1', 'c2', 'c3', 'c4', 'c5', 'c_klasse', 'c_max', 'c_reihe', 'caddy', 'calibra', 'captiva', 'carisma', 'carnival', 'cayenne', 'cc', 'ceed', 'charade', 'cherokee', 'citigo', 'civic', 'cl', 'clio', 'clk', 'clubman', 'colt', 'combo', 'cooper', 'cordoba', 'corolla', 'corsa', 'cr_reihe', 'croma', 'crossfire', 'cuore', 'cx_reihe', 'defender', 'delta', 'discovery', 'doblo', 'ducato', 'duster', 'e_klasse', 'elefantino', 'eos', 'escort', 'espace', 'exeo', 'fabia', 'fiesta', 'focus', 'forester', 'forfour', 'fortwo', 'fox', 'freelander', 'fusion', 'g_klasse', 'galant', 'galaxy', 'getz', 'gl', 'glk', 'golf', 'grand', 'i3', 'i_reihe', 'ibiza', 'impreza', 'insignia', 'jazz', 'jetta', 'jimny', 'juke', 'justy', 'ka', 'kadett', 'kaefer', 'kalina', 'kalos', 'kangoo', 'kappa', 'kuga', 'laguna', 'lancer', 'lanos', 'legacy', 'leon', 'lodgy', 'logan', 'lupo', 'lybra', 'm_klasse', 'm_reihe', 'materia', 'matiz', 'megane', 'meriva', 'micra', 'mii', 'modus', 'mondeo', 'move', 'musa', 'mustang', 'mx_reihe', 'navara', 'niva', 'note', 'nubira', 'octavia', 'omega', 'one', 'other', 'outlander', 'pajero', 'panda', 'passat', 'phaeton', 'picanto', 'polo', 'primera', 'ptcruiser', 'punto', 'q3', 'q5', 'q7', 'qashqai', 'r19', 'range_rover', 'range_rover_evoque', 'range_rover_sport', 'rangerover', 'rav', 'rio', 'roadster', 'roomster', 'rx_reihe', 's60', 's_klasse', 's_max', 's_type', 'samara', 'sandero', 'santa', 'scenic', 'scirocco', 'seicento', 'serie_1', 'serie_2', 'serie_3', 'sharan', 'signum', 'sirion', 'sl', 'slk', 'sorento', 'spark', 'spider', 'sportage', 'sprinter', 'stilo', 'superb', 'swift', 'terios', 'tigra', 'tiguan', 'toledo', 'touareg', 'touran', 'transit', 'transporter', 'tt', 'tucson', 'twingo', 'up', 'v40', 'v50', 'v60', 'v70', 'v_klasse', 'vectra', 'verso', 'viano', 'vito', 'vivaro', 'voyager', 'wrangler', 'x_reihe', 'x_trail', 'x_type', 'xc_reihe', 'yaris', 'yeti', 'ypsilon', 'z_reihe', 'zafira']\n",
      "\n",
      "FuelType\n",
      "\n",
      "['cng', 'electric', 'gasoline', 'hybrid', 'lpg', 'other', 'petrol']\n",
      "\n",
      "Brand\n",
      "\n",
      "['alfa_romeo', 'audi', 'bmw', 'chevrolet', 'chrysler', 'citroen', 'dacia', 'daewoo', 'daihatsu', 'fiat', 'ford', 'honda', 'hyundai', 'jaguar', 'jeep', 'kia', 'lada', 'lancia', 'land_rover', 'mazda', 'mercedes_benz', 'mini', 'mitsubishi', 'nissan', 'opel', 'peugeot', 'porsche', 'renault', 'rover', 'saab', 'seat', 'skoda', 'smart', 'sonstige_autos', 'subaru', 'suzuki', 'toyota', 'trabant', 'volkswagen', 'volvo']\n",
      "\n",
      "NotRepaired\n",
      "\n",
      "['no', 'yes']\n",
      "\n"
     ]
    }
   ],
   "source": [
    "for column in ['VehicleType', 'Gearbox', 'Model', 'FuelType', 'Brand', 'NotRepaired']:\n",
    "    show_hiden_duplicates(column)"
   ]
  },
  {
   "cell_type": "markdown",
   "metadata": {},
   "source": [
    "В столбце ***Model*** модели ***range_rover*** и ***rangerover*** представляют одну и ту же модель автомобиля;\n",
    "\n",
    "В столбце ***FuelType*** типы топлива ***gasoline*** и ***petroleum***, представляют один и тот же тип топлива ***бензин***."
   ]
  },
  {
   "cell_type": "markdown",
   "metadata": {},
   "source": [
    "Выведем описательную статистику исходных данных и посмотрим, есть ли аномальные значения в максимальных и минимальных значениях численных признаков:"
   ]
  },
  {
   "cell_type": "code",
   "execution_count": 9,
   "metadata": {
    "scrolled": true,
    "tags": []
   },
   "outputs": [
    {
     "data": {
      "text/html": [
       "<div>\n",
       "<style scoped>\n",
       "    .dataframe tbody tr th:only-of-type {\n",
       "        vertical-align: middle;\n",
       "    }\n",
       "\n",
       "    .dataframe tbody tr th {\n",
       "        vertical-align: top;\n",
       "    }\n",
       "\n",
       "    .dataframe thead th {\n",
       "        text-align: right;\n",
       "    }\n",
       "</style>\n",
       "<table border=\"1\" class=\"dataframe\">\n",
       "  <thead>\n",
       "    <tr style=\"text-align: right;\">\n",
       "      <th></th>\n",
       "      <th>Price</th>\n",
       "      <th>RegistrationYear</th>\n",
       "      <th>Power</th>\n",
       "      <th>Kilometer</th>\n",
       "      <th>RegistrationMonth</th>\n",
       "      <th>NumberOfPictures</th>\n",
       "      <th>PostalCode</th>\n",
       "    </tr>\n",
       "  </thead>\n",
       "  <tbody>\n",
       "    <tr>\n",
       "      <td>count</td>\n",
       "      <td>354369.000000</td>\n",
       "      <td>354369.000000</td>\n",
       "      <td>354369.000000</td>\n",
       "      <td>354369.000000</td>\n",
       "      <td>354369.000000</td>\n",
       "      <td>354369.0</td>\n",
       "      <td>354369.000000</td>\n",
       "    </tr>\n",
       "    <tr>\n",
       "      <td>mean</td>\n",
       "      <td>4416.656776</td>\n",
       "      <td>2004.234448</td>\n",
       "      <td>110.094337</td>\n",
       "      <td>128211.172535</td>\n",
       "      <td>5.714645</td>\n",
       "      <td>0.0</td>\n",
       "      <td>50508.689087</td>\n",
       "    </tr>\n",
       "    <tr>\n",
       "      <td>std</td>\n",
       "      <td>4514.158514</td>\n",
       "      <td>90.227958</td>\n",
       "      <td>189.850405</td>\n",
       "      <td>37905.341530</td>\n",
       "      <td>3.726421</td>\n",
       "      <td>0.0</td>\n",
       "      <td>25783.096248</td>\n",
       "    </tr>\n",
       "    <tr>\n",
       "      <td>min</td>\n",
       "      <td>0.000000</td>\n",
       "      <td>1000.000000</td>\n",
       "      <td>0.000000</td>\n",
       "      <td>5000.000000</td>\n",
       "      <td>0.000000</td>\n",
       "      <td>0.0</td>\n",
       "      <td>1067.000000</td>\n",
       "    </tr>\n",
       "    <tr>\n",
       "      <td>25%</td>\n",
       "      <td>1050.000000</td>\n",
       "      <td>1999.000000</td>\n",
       "      <td>69.000000</td>\n",
       "      <td>125000.000000</td>\n",
       "      <td>3.000000</td>\n",
       "      <td>0.0</td>\n",
       "      <td>30165.000000</td>\n",
       "    </tr>\n",
       "    <tr>\n",
       "      <td>50%</td>\n",
       "      <td>2700.000000</td>\n",
       "      <td>2003.000000</td>\n",
       "      <td>105.000000</td>\n",
       "      <td>150000.000000</td>\n",
       "      <td>6.000000</td>\n",
       "      <td>0.0</td>\n",
       "      <td>49413.000000</td>\n",
       "    </tr>\n",
       "    <tr>\n",
       "      <td>75%</td>\n",
       "      <td>6400.000000</td>\n",
       "      <td>2008.000000</td>\n",
       "      <td>143.000000</td>\n",
       "      <td>150000.000000</td>\n",
       "      <td>9.000000</td>\n",
       "      <td>0.0</td>\n",
       "      <td>71083.000000</td>\n",
       "    </tr>\n",
       "    <tr>\n",
       "      <td>max</td>\n",
       "      <td>20000.000000</td>\n",
       "      <td>9999.000000</td>\n",
       "      <td>20000.000000</td>\n",
       "      <td>150000.000000</td>\n",
       "      <td>12.000000</td>\n",
       "      <td>0.0</td>\n",
       "      <td>99998.000000</td>\n",
       "    </tr>\n",
       "  </tbody>\n",
       "</table>\n",
       "</div>"
      ],
      "text/plain": [
       "               Price  RegistrationYear          Power      Kilometer  \\\n",
       "count  354369.000000     354369.000000  354369.000000  354369.000000   \n",
       "mean     4416.656776       2004.234448     110.094337  128211.172535   \n",
       "std      4514.158514         90.227958     189.850405   37905.341530   \n",
       "min         0.000000       1000.000000       0.000000    5000.000000   \n",
       "25%      1050.000000       1999.000000      69.000000  125000.000000   \n",
       "50%      2700.000000       2003.000000     105.000000  150000.000000   \n",
       "75%      6400.000000       2008.000000     143.000000  150000.000000   \n",
       "max     20000.000000       9999.000000   20000.000000  150000.000000   \n",
       "\n",
       "       RegistrationMonth  NumberOfPictures     PostalCode  \n",
       "count      354369.000000          354369.0  354369.000000  \n",
       "mean            5.714645               0.0   50508.689087  \n",
       "std             3.726421               0.0   25783.096248  \n",
       "min             0.000000               0.0    1067.000000  \n",
       "25%             3.000000               0.0   30165.000000  \n",
       "50%             6.000000               0.0   49413.000000  \n",
       "75%             9.000000               0.0   71083.000000  \n",
       "max            12.000000               0.0   99998.000000  "
      ]
     },
     "execution_count": 9,
     "metadata": {},
     "output_type": "execute_result"
    }
   ],
   "source": [
    "data.describe()"
   ]
  },
  {
   "cell_type": "markdown",
   "metadata": {
    "tags": []
   },
   "source": [
    "###### Вывод"
   ]
  },
  {
   "cell_type": "markdown",
   "metadata": {
    "tags": []
   },
   "source": [
    "Всего в таблице 16 столбцов со следующими типами данных: int64, object.\n",
    "\n",
    "Каждый объект в наборе данных — это информация об одном объявлении о выставленном на продажу автомобиле. Известно:\n",
    "\n",
    " - ***DateCrawled*** — дата скачивания анкеты из базы\n",
    " - ***VehicleType*** — тип автомобильного кузова\n",
    " - ***RegistrationYear*** — год регистрации автомобиля\n",
    " - ***Gearbox*** — тип коробки передач\n",
    " - ***Power*** — мощность (л. с.)\n",
    " - ***Model*** — модель автомобиля\n",
    " - ***Kilometer*** — пробег (км)\n",
    " - ***RegistrationMonth*** — месяц регистрации автомобиля\n",
    " - ***FuelType*** — тип топлива\n",
    " - ***Brand*** — марка автомобиля\n",
    " - ***NotRepaired*** — была машина в ремонте или нет\n",
    " - ***DateCreated*** — дата создания анкеты\n",
    " - ***NumberOfPictures*** — количество фотографий автомобиля\n",
    " - ***PostalCode*** — почтовый индекс владельца анкеты (пользователя)\n",
    " - ***LastSeen*** — дата последней активности пользователя\n",
    " - ***Price*** — цена (евро)\n",
    "\n",
    "В датасете обнаружены пропуски данных в следующих столбцах:\n",
    "\n",
    " - ***VehicleType***, 10.58% пропусков;\n",
    " - ***Gearbox***, 5.6% пропусков;\n",
    " - ***Model***, 5.56% пропусков;\n",
    " - ***FuelType***, 9.28% пропусков;\n",
    " - ***NotRepaired***, 20.08% пропусков.\n",
    "\n",
    "Тип данных всех перечисленных столбцов - ***object***. Пропуски могут быть связаны с ошибками при формировании базы данных анкет или с тем, что авторы объявлений указывали неполную информацию при заполнении анкет на продажу автомобилей. Для дальнейшей обработки пропуски рекомендуется заменить на неопределенные категории.\n",
    "\n",
    "Так же в датасете обнаружены 4 грубых дубликата и скрытые дубликаты:\n",
    "\n",
    " - В столбце ***Model*** модели ***range_rover*** и ***rangerover***, представляют одну модель, но записаны по-разному;\n",
    " - В столбце ***FuelType*** типы топлива ***gasoline*** и ***petroleum***, являются разными вариантами обозначения типа топлива ***бензин***.\n",
    " \n",
    "Рекомендуется устранение скрытых дубликатов путем переименования дублирующихся категорий, а также удаление грубых дубликатов.\n",
    "\n",
    "Из описательной статистики выделяются следующие аномалии:\n",
    "\n",
    " - В ***Price*** объекты с нулевой стоимостью;\n",
    " - В ***RegistrationYear*** объекты с годами регистрации автомобиля 1000 и 9999;\n",
    " - В ***Power*** объекты с мощностью 0 и 20000 л.с.;\n",
    " - В ***RegistrationMonth*** объекты с нулевым месяцем регистрации;\n",
    " - В ***NumberOfPictures*** отсутствие каких-либо значений, кроме нулевых.\n",
    " \n",
    " \n",
    "Данные, содержащиеся в столбцах ***DateCrawled***, ***DateCreated***, ***LastSeen*** не являются ни характеристиками автомобилей, ни характеристиками, связанными с областями продажи автомобилей, и, соответственно, с минимальной вероятностью влияют на цену автомобилей. Рекомендуется удаление данных столбцов из датасета для ускорения работы и улучшения качества моделей."
   ]
  },
  {
   "cell_type": "markdown",
   "metadata": {
    "tags": []
   },
   "source": [
    "### Исследование признаков с аномальными значениями"
   ]
  },
  {
   "cell_type": "markdown",
   "metadata": {},
   "source": [
    "Далее подробнее рассмотрим признаки с выявленными аномалиями."
   ]
  },
  {
   "cell_type": "markdown",
   "metadata": {},
   "source": [
    " Напишем функцию для изучения распределения значений признаков:"
   ]
  },
  {
   "cell_type": "code",
   "execution_count": 10,
   "metadata": {},
   "outputs": [],
   "source": [
    "def explore_distribution(data, column, title, xlabel, ylabel, bins, xlim):\n",
    "\n",
    "    #Create Fig and gridspec\n",
    "    fig = plt.figure(figsize=(16, 9), dpi= 80)\n",
    "    grid = plt.GridSpec(4, 4, hspace=0.5, wspace=0.2)\n",
    "\n",
    "    # Define the axes\n",
    "    ax_main = fig.add_subplot(grid[:-1, :-1])\n",
    "    ax_bottom = fig.add_subplot(grid[-1, 0:-1], xticklabels=[], yticklabels=[])\n",
    "\n",
    "    # Scatterplot on main ax\n",
    "    ax_main.hist(data[column], bins = bins)\n",
    "\n",
    "    # Add a graph in each part\n",
    "    sns.boxplot(data[column], ax=ax_bottom)\n",
    "\n",
    "    # Decorations ------------------\n",
    "    # Remove x axis name for the boxplot\n",
    "    ax_bottom.set(xlabel='')\n",
    "\n",
    "    # Main Title, Xlabel and YLabel\n",
    "    ax_main.set(title=title, xlabel=xlabel, ylabel=ylabel)\n",
    "\n",
    "    # Set font size of different components\n",
    "    ax_main.title.set_fontsize(14)\n",
    "    for item in ([ax_main.xaxis.label, ax_main.yaxis.label] + ax_main.get_xticklabels() + ax_main.get_yticklabels()):\n",
    "        item.set_fontsize(14)\n",
    "        \n",
    "    ax_main.set_xlim(xlim)\n",
    "    ax_bottom.set_xlim(xlim)\n",
    "    \n",
    "    plt.show()"
   ]
  },
  {
   "cell_type": "markdown",
   "metadata": {},
   "source": [
    "Изучим признак ***Price***:"
   ]
  },
  {
   "cell_type": "code",
   "execution_count": 11,
   "metadata": {
    "tags": []
   },
   "outputs": [
    {
     "data": {
      "image/png": "[encoded data removed]",
      "text/plain": [
       "<Figure size 1280x720 with 2 Axes>"
      ]
     },
     "metadata": {
      "needs_background": "light"
     },
     "output_type": "display_data"
    }
   ],
   "source": [
    "explore_distribution(\n",
    "    data,\n",
    "    'Price',\n",
    "    'Распределение значений признака Price',\n",
    "    'Цена',\n",
    "    'Частота',\n",
    "    100,\n",
    "    None\n",
    ")"
   ]
  },
  {
   "cell_type": "markdown",
   "metadata": {
    "tags": []
   },
   "source": [
    "Построенная гистограмма демонстрирует нам Пуассоновское распределение значений. При этом из гистограммы и диаграммы размаха видно, что обнаруженные нами ранее нулевые значения цен не являются статистическими выбросами. Кроме того, мы видим, что цены на автомобили ниже 1000 евро в датасете встречаются достаточно часто. Рассмотрим подробнее диапазон гистограммы с ценами от 0 до 500 евро:"
   ]
  },
  {
   "cell_type": "code",
   "execution_count": 12,
   "metadata": {},
   "outputs": [
    {
     "data": {
      "image/png": "[encoded data removed]",
      "text/plain": [
       "<Figure size 1280x720 with 2 Axes>"
      ]
     },
     "metadata": {
      "needs_background": "light"
     },
     "output_type": "display_data"
    }
   ],
   "source": [
    "explore_distribution(\n",
    "    data,\n",
    "    'Price',\n",
    "    'Распределение значений признака Price',\n",
    "    'Цена',\n",
    "    'Частота',\n",
    "    1000,\n",
    "    [0,500]\n",
    ")"
   ]
  },
  {
   "cell_type": "markdown",
   "metadata": {},
   "source": [
    "Среди низких цен на автомобили наиболее выделяются цены от 0 до 25 евро, встречающиеся наиболее часто. \n",
    "Возможно, столь низкие цены связаны с крайне плохим состоянием автомобилей. Проверим данное предположение, взяв срез датасета по ценам не более 25 евро:"
   ]
  },
  {
   "cell_type": "code",
   "execution_count": 13,
   "metadata": {},
   "outputs": [
    {
     "data": {
      "text/html": [
       "<div>\n",
       "<style scoped>\n",
       "    .dataframe tbody tr th:only-of-type {\n",
       "        vertical-align: middle;\n",
       "    }\n",
       "\n",
       "    .dataframe tbody tr th {\n",
       "        vertical-align: top;\n",
       "    }\n",
       "\n",
       "    .dataframe thead th {\n",
       "        text-align: right;\n",
       "    }\n",
       "</style>\n",
       "<table border=\"1\" class=\"dataframe\">\n",
       "  <thead>\n",
       "    <tr style=\"text-align: right;\">\n",
       "      <th></th>\n",
       "      <th>DateCrawled</th>\n",
       "      <th>Price</th>\n",
       "      <th>VehicleType</th>\n",
       "      <th>RegistrationYear</th>\n",
       "      <th>Gearbox</th>\n",
       "      <th>Power</th>\n",
       "      <th>Model</th>\n",
       "      <th>Kilometer</th>\n",
       "      <th>RegistrationMonth</th>\n",
       "      <th>FuelType</th>\n",
       "      <th>Brand</th>\n",
       "      <th>NotRepaired</th>\n",
       "      <th>DateCreated</th>\n",
       "      <th>NumberOfPictures</th>\n",
       "      <th>PostalCode</th>\n",
       "      <th>LastSeen</th>\n",
       "    </tr>\n",
       "  </thead>\n",
       "  <tbody>\n",
       "    <tr>\n",
       "      <td>7</td>\n",
       "      <td>2016-03-21 18:54:38</td>\n",
       "      <td>0</td>\n",
       "      <td>sedan</td>\n",
       "      <td>1980</td>\n",
       "      <td>manual</td>\n",
       "      <td>50</td>\n",
       "      <td>other</td>\n",
       "      <td>40000</td>\n",
       "      <td>7</td>\n",
       "      <td>petrol</td>\n",
       "      <td>volkswagen</td>\n",
       "      <td>no</td>\n",
       "      <td>2016-03-21 00:00:00</td>\n",
       "      <td>0</td>\n",
       "      <td>19348</td>\n",
       "      <td>2016-03-25 16:47:58</td>\n",
       "    </tr>\n",
       "    <tr>\n",
       "      <td>40</td>\n",
       "      <td>2016-03-26 22:06:17</td>\n",
       "      <td>0</td>\n",
       "      <td>NaN</td>\n",
       "      <td>1990</td>\n",
       "      <td>NaN</td>\n",
       "      <td>0</td>\n",
       "      <td>corsa</td>\n",
       "      <td>150000</td>\n",
       "      <td>1</td>\n",
       "      <td>petrol</td>\n",
       "      <td>opel</td>\n",
       "      <td>NaN</td>\n",
       "      <td>2016-03-26 00:00:00</td>\n",
       "      <td>0</td>\n",
       "      <td>56412</td>\n",
       "      <td>2016-03-27 17:43:34</td>\n",
       "    </tr>\n",
       "    <tr>\n",
       "      <td>59</td>\n",
       "      <td>2016-03-29 15:48:15</td>\n",
       "      <td>1</td>\n",
       "      <td>suv</td>\n",
       "      <td>1994</td>\n",
       "      <td>manual</td>\n",
       "      <td>286</td>\n",
       "      <td>NaN</td>\n",
       "      <td>150000</td>\n",
       "      <td>11</td>\n",
       "      <td>NaN</td>\n",
       "      <td>sonstige_autos</td>\n",
       "      <td>NaN</td>\n",
       "      <td>2016-03-29 00:00:00</td>\n",
       "      <td>0</td>\n",
       "      <td>53721</td>\n",
       "      <td>2016-04-06 01:44:38</td>\n",
       "    </tr>\n",
       "    <tr>\n",
       "      <td>89</td>\n",
       "      <td>2016-03-28 09:37:01</td>\n",
       "      <td>1</td>\n",
       "      <td>sedan</td>\n",
       "      <td>1995</td>\n",
       "      <td>manual</td>\n",
       "      <td>113</td>\n",
       "      <td>e_klasse</td>\n",
       "      <td>150000</td>\n",
       "      <td>4</td>\n",
       "      <td>gasoline</td>\n",
       "      <td>mercedes_benz</td>\n",
       "      <td>no</td>\n",
       "      <td>2016-03-28 00:00:00</td>\n",
       "      <td>0</td>\n",
       "      <td>40589</td>\n",
       "      <td>2016-04-06 12:15:54</td>\n",
       "    </tr>\n",
       "    <tr>\n",
       "      <td>111</td>\n",
       "      <td>2016-03-19 18:40:12</td>\n",
       "      <td>0</td>\n",
       "      <td>NaN</td>\n",
       "      <td>2017</td>\n",
       "      <td>manual</td>\n",
       "      <td>0</td>\n",
       "      <td>golf</td>\n",
       "      <td>5000</td>\n",
       "      <td>12</td>\n",
       "      <td>petrol</td>\n",
       "      <td>volkswagen</td>\n",
       "      <td>NaN</td>\n",
       "      <td>2016-03-19 00:00:00</td>\n",
       "      <td>0</td>\n",
       "      <td>21698</td>\n",
       "      <td>2016-04-01 08:47:05</td>\n",
       "    </tr>\n",
       "  </tbody>\n",
       "</table>\n",
       "</div>"
      ],
      "text/plain": [
       "             DateCrawled  Price VehicleType  RegistrationYear Gearbox  Power  \\\n",
       "7    2016-03-21 18:54:38      0       sedan              1980  manual     50   \n",
       "40   2016-03-26 22:06:17      0         NaN              1990     NaN      0   \n",
       "59   2016-03-29 15:48:15      1         suv              1994  manual    286   \n",
       "89   2016-03-28 09:37:01      1       sedan              1995  manual    113   \n",
       "111  2016-03-19 18:40:12      0         NaN              2017  manual      0   \n",
       "\n",
       "        Model  Kilometer  RegistrationMonth  FuelType           Brand  \\\n",
       "7       other      40000                  7    petrol      volkswagen   \n",
       "40      corsa     150000                  1    petrol            opel   \n",
       "59        NaN     150000                 11       NaN  sonstige_autos   \n",
       "89   e_klasse     150000                  4  gasoline   mercedes_benz   \n",
       "111      golf       5000                 12    petrol      volkswagen   \n",
       "\n",
       "    NotRepaired          DateCreated  NumberOfPictures  PostalCode  \\\n",
       "7            no  2016-03-21 00:00:00                 0       19348   \n",
       "40          NaN  2016-03-26 00:00:00                 0       56412   \n",
       "59          NaN  2016-03-29 00:00:00                 0       53721   \n",
       "89           no  2016-03-28 00:00:00                 0       40589   \n",
       "111         NaN  2016-03-19 00:00:00                 0       21698   \n",
       "\n",
       "                LastSeen  \n",
       "7    2016-03-25 16:47:58  \n",
       "40   2016-03-27 17:43:34  \n",
       "59   2016-04-06 01:44:38  \n",
       "89   2016-04-06 12:15:54  \n",
       "111  2016-04-01 08:47:05  "
      ]
     },
     "execution_count": 13,
     "metadata": {},
     "output_type": "execute_result"
    }
   ],
   "source": [
    "data[data['Price'] <= 25].head()"
   ]
  },
  {
   "cell_type": "markdown",
   "metadata": {},
   "source": [
    "Из среза видно, что экстемально низкие цены встречаются и у старых, и у относительно свежих автомобилей как с небольшим, так и с большим пробегом, что не подтверждает наше предположение: низкие цены не зависят от состояния автомобилей и, вероятнее всего, связаны с человеческим фактором при внесении данных об автомобилях в анкеты или с ошибками при формировании базы данных."
   ]
  },
  {
   "cell_type": "markdown",
   "metadata": {},
   "source": [
    "Изучим признак ***RegistrationYear***:"
   ]
  },
  {
   "cell_type": "code",
   "execution_count": 14,
   "metadata": {},
   "outputs": [
    {
     "data": {
      "image/png": "[encoded data removed]",
      "text/plain": [
       "<Figure size 1280x720 with 2 Axes>"
      ]
     },
     "metadata": {
      "needs_background": "light"
     },
     "output_type": "display_data"
    }
   ],
   "source": [
    "explore_distribution(\n",
    "    data,\n",
    "    'RegistrationYear',\n",
    "    'Распределение значений признака RegistrationYear',\n",
    "    'Год регистрации',\n",
    "    'Частота',\n",
    "    30,\n",
    "    None\n",
    ")"
   ]
  },
  {
   "cell_type": "markdown",
   "metadata": {},
   "source": [
    "Среди значений годов регистрации автомобилей встречается множество аномальных значений. Построим гистограмму, ограничившись периодом с начала 20 века до текущего времени:"
   ]
  },
  {
   "cell_type": "code",
   "execution_count": 15,
   "metadata": {},
   "outputs": [
    {
     "data": {
      "image/png": "[encoded data removed]",
      "text/plain": [
       "<Figure size 1280x720 with 2 Axes>"
      ]
     },
     "metadata": {
      "needs_background": "light"
     },
     "output_type": "display_data"
    }
   ],
   "source": [
    "explore_distribution(\n",
    "    data,\n",
    "    'RegistrationYear',\n",
    "    'Распределение значений признака RegistrationYear',\n",
    "    'Год регистрации',\n",
    "    'Частота',\n",
    "    5000,\n",
    "    [1900,2021]\n",
    ")"
   ]
  },
  {
   "cell_type": "markdown",
   "metadata": {},
   "source": [
    "На данном масштабе хорошо видно распределение значений, близкое к нормальному, а также статистически значимый диапазон. Выбросами считаются годы меньше 1985. Но фактически, рынок подержаных автомобилей может предлагать и более старые модели. Поэтому выбросами будем считать годы регистрации автомобилей раньше 1950."
   ]
  },
  {
   "cell_type": "markdown",
   "metadata": {},
   "source": [
    "Рассчитаем долю аномалий, рекомендованных к удалению из датасета:"
   ]
  },
  {
   "cell_type": "code",
   "execution_count": 16,
   "metadata": {},
   "outputs": [
    {
     "name": "stdout",
     "output_type": "stream",
     "text": [
      "0.07 %\n"
     ]
    }
   ],
   "source": [
    "print((data[data['RegistrationYear'] < 1950]['RegistrationYear'].count()/len(data)*100).round(2), '%')"
   ]
  },
  {
   "cell_type": "markdown",
   "metadata": {},
   "source": [
    "При удалении выбросов будет потеряно незначительное количество объектов."
   ]
  },
  {
   "cell_type": "markdown",
   "metadata": {},
   "source": [
    "Изучим признак ***Power***:"
   ]
  },
  {
   "cell_type": "code",
   "execution_count": 17,
   "metadata": {},
   "outputs": [
    {
     "data": {
      "image/png": "[encoded data removed]",
      "text/plain": [
       "<Figure size 1280x720 with 2 Axes>"
      ]
     },
     "metadata": {
      "needs_background": "light"
     },
     "output_type": "display_data"
    }
   ],
   "source": [
    "explore_distribution(data, 'Power','Распределение значений признака Power', 'Мощность', 'Частота',1000, None)"
   ]
  },
  {
   "cell_type": "markdown",
   "metadata": {},
   "source": [
    "Среди значений мощности двигателей автомобилей также встречается множество аномальных значений. Построим гистограмму, ограничившись диапазоном от 0 до 1500 л.с:"
   ]
  },
  {
   "cell_type": "code",
   "execution_count": 18,
   "metadata": {},
   "outputs": [
    {
     "data": {
      "image/png": "[encoded data removed]",
      "text/plain": [
       "<Figure size 1280x720 with 2 Axes>"
      ]
     },
     "metadata": {
      "needs_background": "light"
     },
     "output_type": "display_data"
    }
   ],
   "source": [
    "explore_distribution(data,'Power','Распределение значений признака Power', 'Мощность', 'Частота',1000, [0,1500])"
   ]
  },
  {
   "cell_type": "markdown",
   "metadata": {},
   "source": [
    "Из гистограммы видно, что в рассматриваемых данных статистически значимым диапазоном мощности является диапазон от 0 до 250 л.с. \n",
    "\n",
    "Нулевые значения нелогичны, несмотря на то, что входят в статистически значимый диапазон. Но так как они встречаются в данном признаке очень часто, избавление от них приведет к потере большого количества данных.\n",
    "\n",
    "Среди статистических выбросов более или менее высокая плотность значений сохраняется до 600 л.с, остальные значения крайне редки.\n",
    "\n",
    "Фактически встречаются автомобили с мощностью двигателей и больше 250 л.с. Как правило, это внедорожники и мощные кроссоверы. Отдельные экземпляры автомобилей обладают и мощностью свыше 1000 л.с., но, как правило, это спорткары, в том числе и ограниченных серий, поэтому маловероятно их встретить среди выставленных на продажу подержаных автомобилей.\n",
    "\n",
    "Рассмотрим срез датасета по автомобилям с мощностью двигателя более 600 л.с. "
   ]
  },
  {
   "cell_type": "code",
   "execution_count": 19,
   "metadata": {},
   "outputs": [
    {
     "data": {
      "text/html": [
       "<div>\n",
       "<style scoped>\n",
       "    .dataframe tbody tr th:only-of-type {\n",
       "        vertical-align: middle;\n",
       "    }\n",
       "\n",
       "    .dataframe tbody tr th {\n",
       "        vertical-align: top;\n",
       "    }\n",
       "\n",
       "    .dataframe thead th {\n",
       "        text-align: right;\n",
       "    }\n",
       "</style>\n",
       "<table border=\"1\" class=\"dataframe\">\n",
       "  <thead>\n",
       "    <tr style=\"text-align: right;\">\n",
       "      <th></th>\n",
       "      <th>DateCrawled</th>\n",
       "      <th>Price</th>\n",
       "      <th>VehicleType</th>\n",
       "      <th>RegistrationYear</th>\n",
       "      <th>Gearbox</th>\n",
       "      <th>Power</th>\n",
       "      <th>Model</th>\n",
       "      <th>Kilometer</th>\n",
       "      <th>RegistrationMonth</th>\n",
       "      <th>FuelType</th>\n",
       "      <th>Brand</th>\n",
       "      <th>NotRepaired</th>\n",
       "      <th>DateCreated</th>\n",
       "      <th>NumberOfPictures</th>\n",
       "      <th>PostalCode</th>\n",
       "      <th>LastSeen</th>\n",
       "    </tr>\n",
       "  </thead>\n",
       "  <tbody>\n",
       "    <tr>\n",
       "      <td>1816</td>\n",
       "      <td>2016-03-22 20:52:00</td>\n",
       "      <td>3200</td>\n",
       "      <td>small</td>\n",
       "      <td>2004</td>\n",
       "      <td>manual</td>\n",
       "      <td>1398</td>\n",
       "      <td>corolla</td>\n",
       "      <td>5000</td>\n",
       "      <td>6</td>\n",
       "      <td>petrol</td>\n",
       "      <td>toyota</td>\n",
       "      <td>no</td>\n",
       "      <td>2016-03-22 00:00:00</td>\n",
       "      <td>0</td>\n",
       "      <td>22043</td>\n",
       "      <td>2016-03-22 21:43:26</td>\n",
       "    </tr>\n",
       "    <tr>\n",
       "      <td>2102</td>\n",
       "      <td>2016-03-21 11:55:22</td>\n",
       "      <td>0</td>\n",
       "      <td>sedan</td>\n",
       "      <td>1999</td>\n",
       "      <td>NaN</td>\n",
       "      <td>1799</td>\n",
       "      <td>vectra</td>\n",
       "      <td>150000</td>\n",
       "      <td>1</td>\n",
       "      <td>petrol</td>\n",
       "      <td>opel</td>\n",
       "      <td>yes</td>\n",
       "      <td>2016-03-21 00:00:00</td>\n",
       "      <td>0</td>\n",
       "      <td>1723</td>\n",
       "      <td>2016-04-04 04:49:06</td>\n",
       "    </tr>\n",
       "    <tr>\n",
       "      <td>3746</td>\n",
       "      <td>2016-03-21 14:48:31</td>\n",
       "      <td>0</td>\n",
       "      <td>NaN</td>\n",
       "      <td>2017</td>\n",
       "      <td>manual</td>\n",
       "      <td>750</td>\n",
       "      <td>NaN</td>\n",
       "      <td>150000</td>\n",
       "      <td>8</td>\n",
       "      <td>petrol</td>\n",
       "      <td>smart</td>\n",
       "      <td>no</td>\n",
       "      <td>2016-03-21 00:00:00</td>\n",
       "      <td>0</td>\n",
       "      <td>49356</td>\n",
       "      <td>2016-03-24 03:44:59</td>\n",
       "    </tr>\n",
       "    <tr>\n",
       "      <td>4060</td>\n",
       "      <td>2016-04-03 20:31:00</td>\n",
       "      <td>3100</td>\n",
       "      <td>sedan</td>\n",
       "      <td>2005</td>\n",
       "      <td>manual</td>\n",
       "      <td>953</td>\n",
       "      <td>colt</td>\n",
       "      <td>150000</td>\n",
       "      <td>4</td>\n",
       "      <td>gasoline</td>\n",
       "      <td>mitsubishi</td>\n",
       "      <td>no</td>\n",
       "      <td>2016-04-03 00:00:00</td>\n",
       "      <td>0</td>\n",
       "      <td>60326</td>\n",
       "      <td>2016-04-07 14:56:46</td>\n",
       "    </tr>\n",
       "    <tr>\n",
       "      <td>5328</td>\n",
       "      <td>2016-03-29 19:44:48</td>\n",
       "      <td>500</td>\n",
       "      <td>wagon</td>\n",
       "      <td>1999</td>\n",
       "      <td>manual</td>\n",
       "      <td>1001</td>\n",
       "      <td>astra</td>\n",
       "      <td>150000</td>\n",
       "      <td>7</td>\n",
       "      <td>petrol</td>\n",
       "      <td>opel</td>\n",
       "      <td>NaN</td>\n",
       "      <td>2016-03-29 00:00:00</td>\n",
       "      <td>0</td>\n",
       "      <td>33154</td>\n",
       "      <td>2016-04-06 05:44:36</td>\n",
       "    </tr>\n",
       "  </tbody>\n",
       "</table>\n",
       "</div>"
      ],
      "text/plain": [
       "              DateCrawled  Price VehicleType  RegistrationYear Gearbox  Power  \\\n",
       "1816  2016-03-22 20:52:00   3200       small              2004  manual   1398   \n",
       "2102  2016-03-21 11:55:22      0       sedan              1999     NaN   1799   \n",
       "3746  2016-03-21 14:48:31      0         NaN              2017  manual    750   \n",
       "4060  2016-04-03 20:31:00   3100       sedan              2005  manual    953   \n",
       "5328  2016-03-29 19:44:48    500       wagon              1999  manual   1001   \n",
       "\n",
       "        Model  Kilometer  RegistrationMonth  FuelType       Brand NotRepaired  \\\n",
       "1816  corolla       5000                  6    petrol      toyota          no   \n",
       "2102   vectra     150000                  1    petrol        opel         yes   \n",
       "3746      NaN     150000                  8    petrol       smart          no   \n",
       "4060     colt     150000                  4  gasoline  mitsubishi          no   \n",
       "5328    astra     150000                  7    petrol        opel         NaN   \n",
       "\n",
       "              DateCreated  NumberOfPictures  PostalCode             LastSeen  \n",
       "1816  2016-03-22 00:00:00                 0       22043  2016-03-22 21:43:26  \n",
       "2102  2016-03-21 00:00:00                 0        1723  2016-04-04 04:49:06  \n",
       "3746  2016-03-21 00:00:00                 0       49356  2016-03-24 03:44:59  \n",
       "4060  2016-04-03 00:00:00                 0       60326  2016-04-07 14:56:46  \n",
       "5328  2016-03-29 00:00:00                 0       33154  2016-04-06 05:44:36  "
      ]
     },
     "execution_count": 19,
     "metadata": {},
     "output_type": "execute_result"
    }
   ],
   "source": [
    "data[data['Power'] >= 600].head()"
   ]
  },
  {
   "cell_type": "markdown",
   "metadata": {},
   "source": [
    "Из среза видно, что высокая мощность в анкетах указывается для довольно обыденных марок и моделей автомобилей. Вероятнее всего, что причинами аномалий в этом признаке являются те же, что и в рассмотренных ранее признаках: ошибки пользователей при внесении данных в анкеты либо ошибки при формировании базы данных.\n",
    "\n",
    "Значимым для дальнейшей работы будем считать диапазон мощностей до 600 л.с."
   ]
  },
  {
   "cell_type": "markdown",
   "metadata": {},
   "source": [
    "Изучим признак ***RegistrationMonth***:"
   ]
  },
  {
   "cell_type": "code",
   "execution_count": 20,
   "metadata": {},
   "outputs": [
    {
     "data": {
      "image/png": "[encoded data removed]",
      "text/plain": [
       "<Figure size 1280x720 with 2 Axes>"
      ]
     },
     "metadata": {
      "needs_background": "light"
     },
     "output_type": "display_data"
    }
   ],
   "source": [
    "explore_distribution(\n",
    "    data,\n",
    "    'RegistrationMonth',\n",
    "    'Распределение значений признака RegistrationMonth',\n",
    "    'Месяцы',\n",
    "    'Частота',\n",
    "    12,\n",
    "    None\n",
    ")"
   ]
  },
  {
   "cell_type": "markdown",
   "metadata": {},
   "source": [
    "Статистических выбросов в рассматриваемом признаке нет, но заметен аномальный, нулевой, месяц, встречающийся очень часто. Посмотрим, какую долю от общего количества значений признака занимает аномалия:"
   ]
  },
  {
   "cell_type": "code",
   "execution_count": 21,
   "metadata": {},
   "outputs": [
    {
     "name": "stdout",
     "output_type": "stream",
     "text": [
      "10.54 %\n"
     ]
    }
   ],
   "source": [
    "print((data[data['RegistrationMonth'] == 0]['RegistrationMonth'].count()/len(data)*100).round(2), '%')"
   ]
  },
  {
   "cell_type": "markdown",
   "metadata": {},
   "source": [
    "Удаление аномальных объектов по данному признаку не рекомендуется, так как при этом будет потеряно более 10% данных из датасета."
   ]
  },
  {
   "cell_type": "markdown",
   "metadata": {},
   "source": [
    "###### Вывод"
   ]
  },
  {
   "cell_type": "markdown",
   "metadata": {},
   "source": [
    "На данном этапе были подробно рассмотрены признаки с аномальными значениями.\n",
    "\n",
    "В признаке ***Price*** обнаружены нулевые и крайне низкие цены, не являющиеся статистическими выбросами, но правдивость которых маловероятна. Если бы была возможность отработать с заказчиком наиболее адекватный диапазон цен, которые должны использоваться в качестве целевого признака, датасет был бы подготовлен соответствующим образом, но в рамках учебного проекта, за неимением возможности проверить природу аномалий, признак будет оставлен без обработки.\n",
    "\n",
    "В признаке ***RegistrationYear*** обнаружены аномальные годы регистрации автомобилей: раньше 1900 года и позже 2021 года. Значимым для дальнейшей работы принимаем период регистрации с 1950 по текущее время.\n",
    "\n",
    "В признаке ***Power*** обнаружены аномальные мощности в виде нулей и тысячей л.с.. Нулевые значения будут оставлены без обработки, т.к. их доля достаточно высока, и их удаление приведет к большой потере данных. Вариант логичной замены, например, с помощью медиан, рассчитанных по нескольким признакам, не рассматривается, так как большое количество пропущенных значений в категориальных признаках будут заполнены неопределенными категориями, и замененные значения с помощью вычисленных медиан могут еще сильнее искажать реальную картину. Рабочим будем считать диапазон от 0 до 600 л.с., так как двигателями с большей мощностью обладают только специализированные автомобили: спорткары, маслкары и кастомизированные автомобили, которые не выставляются на продажу в ценовом диапазоне целевого признака.\n",
    "\n",
    "В признаке ***RegistrationMonth*** обнаружен нулевой месяц. Логичная замена нулевых значений в данном случае невозможна, но и удалять объекты с нулевым месяцем регистрации не будем, т.к. доля аномалий составляет 10.54%, и их удаление приведет к потере большого количества данных."
   ]
  },
  {
   "cell_type": "markdown",
   "metadata": {},
   "source": [
    "### Предобработка данных"
   ]
  },
  {
   "cell_type": "markdown",
   "metadata": {},
   "source": [
    "Заполним пропуски в категориальных признаках на неопределенную категорию ***unknown***:"
   ]
  },
  {
   "cell_type": "code",
   "execution_count": 22,
   "metadata": {},
   "outputs": [],
   "source": [
    "data = data.fillna('unknown')"
   ]
  },
  {
   "cell_type": "markdown",
   "metadata": {},
   "source": [
    "Проверим заполнение пропусков:"
   ]
  },
  {
   "cell_type": "code",
   "execution_count": 23,
   "metadata": {
    "scrolled": false
   },
   "outputs": [
    {
     "data": {
      "text/html": [
       "<div>\n",
       "<style scoped>\n",
       "    .dataframe tbody tr th:only-of-type {\n",
       "        vertical-align: middle;\n",
       "    }\n",
       "\n",
       "    .dataframe tbody tr th {\n",
       "        vertical-align: top;\n",
       "    }\n",
       "\n",
       "    .dataframe thead th {\n",
       "        text-align: right;\n",
       "    }\n",
       "</style>\n",
       "<table border=\"1\" class=\"dataframe\">\n",
       "  <thead>\n",
       "    <tr style=\"text-align: right;\">\n",
       "      <th></th>\n",
       "      <th>DateCrawled</th>\n",
       "      <th>Price</th>\n",
       "      <th>VehicleType</th>\n",
       "      <th>RegistrationYear</th>\n",
       "      <th>Gearbox</th>\n",
       "      <th>Power</th>\n",
       "      <th>Model</th>\n",
       "      <th>Kilometer</th>\n",
       "      <th>RegistrationMonth</th>\n",
       "      <th>FuelType</th>\n",
       "      <th>Brand</th>\n",
       "      <th>NotRepaired</th>\n",
       "      <th>DateCreated</th>\n",
       "      <th>NumberOfPictures</th>\n",
       "      <th>PostalCode</th>\n",
       "      <th>LastSeen</th>\n",
       "    </tr>\n",
       "  </thead>\n",
       "  <tbody>\n",
       "    <tr>\n",
       "      <td>0</td>\n",
       "      <td>2016-03-24 11:52:17</td>\n",
       "      <td>480</td>\n",
       "      <td>unknown</td>\n",
       "      <td>1993</td>\n",
       "      <td>manual</td>\n",
       "      <td>0</td>\n",
       "      <td>golf</td>\n",
       "      <td>150000</td>\n",
       "      <td>0</td>\n",
       "      <td>petrol</td>\n",
       "      <td>volkswagen</td>\n",
       "      <td>unknown</td>\n",
       "      <td>2016-03-24 00:00:00</td>\n",
       "      <td>0</td>\n",
       "      <td>70435</td>\n",
       "      <td>2016-04-07 03:16:57</td>\n",
       "    </tr>\n",
       "    <tr>\n",
       "      <td>1</td>\n",
       "      <td>2016-03-24 10:58:45</td>\n",
       "      <td>18300</td>\n",
       "      <td>coupe</td>\n",
       "      <td>2011</td>\n",
       "      <td>manual</td>\n",
       "      <td>190</td>\n",
       "      <td>unknown</td>\n",
       "      <td>125000</td>\n",
       "      <td>5</td>\n",
       "      <td>gasoline</td>\n",
       "      <td>audi</td>\n",
       "      <td>yes</td>\n",
       "      <td>2016-03-24 00:00:00</td>\n",
       "      <td>0</td>\n",
       "      <td>66954</td>\n",
       "      <td>2016-04-07 01:46:50</td>\n",
       "    </tr>\n",
       "    <tr>\n",
       "      <td>2</td>\n",
       "      <td>2016-03-14 12:52:21</td>\n",
       "      <td>9800</td>\n",
       "      <td>suv</td>\n",
       "      <td>2004</td>\n",
       "      <td>auto</td>\n",
       "      <td>163</td>\n",
       "      <td>grand</td>\n",
       "      <td>125000</td>\n",
       "      <td>8</td>\n",
       "      <td>gasoline</td>\n",
       "      <td>jeep</td>\n",
       "      <td>unknown</td>\n",
       "      <td>2016-03-14 00:00:00</td>\n",
       "      <td>0</td>\n",
       "      <td>90480</td>\n",
       "      <td>2016-04-05 12:47:46</td>\n",
       "    </tr>\n",
       "    <tr>\n",
       "      <td>3</td>\n",
       "      <td>2016-03-17 16:54:04</td>\n",
       "      <td>1500</td>\n",
       "      <td>small</td>\n",
       "      <td>2001</td>\n",
       "      <td>manual</td>\n",
       "      <td>75</td>\n",
       "      <td>golf</td>\n",
       "      <td>150000</td>\n",
       "      <td>6</td>\n",
       "      <td>petrol</td>\n",
       "      <td>volkswagen</td>\n",
       "      <td>no</td>\n",
       "      <td>2016-03-17 00:00:00</td>\n",
       "      <td>0</td>\n",
       "      <td>91074</td>\n",
       "      <td>2016-03-17 17:40:17</td>\n",
       "    </tr>\n",
       "    <tr>\n",
       "      <td>4</td>\n",
       "      <td>2016-03-31 17:25:20</td>\n",
       "      <td>3600</td>\n",
       "      <td>small</td>\n",
       "      <td>2008</td>\n",
       "      <td>manual</td>\n",
       "      <td>69</td>\n",
       "      <td>fabia</td>\n",
       "      <td>90000</td>\n",
       "      <td>7</td>\n",
       "      <td>gasoline</td>\n",
       "      <td>skoda</td>\n",
       "      <td>no</td>\n",
       "      <td>2016-03-31 00:00:00</td>\n",
       "      <td>0</td>\n",
       "      <td>60437</td>\n",
       "      <td>2016-04-06 10:17:21</td>\n",
       "    </tr>\n",
       "  </tbody>\n",
       "</table>\n",
       "</div>"
      ],
      "text/plain": [
       "           DateCrawled  Price VehicleType  RegistrationYear Gearbox  Power  \\\n",
       "0  2016-03-24 11:52:17    480     unknown              1993  manual      0   \n",
       "1  2016-03-24 10:58:45  18300       coupe              2011  manual    190   \n",
       "2  2016-03-14 12:52:21   9800         suv              2004    auto    163   \n",
       "3  2016-03-17 16:54:04   1500       small              2001  manual     75   \n",
       "4  2016-03-31 17:25:20   3600       small              2008  manual     69   \n",
       "\n",
       "     Model  Kilometer  RegistrationMonth  FuelType       Brand NotRepaired  \\\n",
       "0     golf     150000                  0    petrol  volkswagen     unknown   \n",
       "1  unknown     125000                  5  gasoline        audi         yes   \n",
       "2    grand     125000                  8  gasoline        jeep     unknown   \n",
       "3     golf     150000                  6    petrol  volkswagen          no   \n",
       "4    fabia      90000                  7  gasoline       skoda          no   \n",
       "\n",
       "           DateCreated  NumberOfPictures  PostalCode             LastSeen  \n",
       "0  2016-03-24 00:00:00                 0       70435  2016-04-07 03:16:57  \n",
       "1  2016-03-24 00:00:00                 0       66954  2016-04-07 01:46:50  \n",
       "2  2016-03-14 00:00:00                 0       90480  2016-04-05 12:47:46  \n",
       "3  2016-03-17 00:00:00                 0       91074  2016-03-17 17:40:17  \n",
       "4  2016-03-31 00:00:00                 0       60437  2016-04-06 10:17:21  "
      ]
     },
     "metadata": {},
     "output_type": "display_data"
    },
    {
     "name": "stdout",
     "output_type": "stream",
     "text": [
      "<class 'pandas.core.frame.DataFrame'>\n",
      "RangeIndex: 354369 entries, 0 to 354368\n",
      "Data columns (total 16 columns):\n",
      "DateCrawled          354369 non-null object\n",
      "Price                354369 non-null int64\n",
      "VehicleType          354369 non-null object\n",
      "RegistrationYear     354369 non-null int64\n",
      "Gearbox              354369 non-null object\n",
      "Power                354369 non-null int64\n",
      "Model                354369 non-null object\n",
      "Kilometer            354369 non-null int64\n",
      "RegistrationMonth    354369 non-null int64\n",
      "FuelType             354369 non-null object\n",
      "Brand                354369 non-null object\n",
      "NotRepaired          354369 non-null object\n",
      "DateCreated          354369 non-null object\n",
      "NumberOfPictures     354369 non-null int64\n",
      "PostalCode           354369 non-null int64\n",
      "LastSeen             354369 non-null object\n",
      "dtypes: int64(7), object(9)\n",
      "memory usage: 43.3+ MB\n"
     ]
    }
   ],
   "source": [
    "display(data.head())\n",
    "data.info()"
   ]
  },
  {
   "cell_type": "markdown",
   "metadata": {},
   "source": [
    "Пропуски успешно заполнены."
   ]
  },
  {
   "cell_type": "markdown",
   "metadata": {},
   "source": [
    "Избавимся от скрытых дубликатов.\n",
    "\n",
    "В столбце ***Model*** переименуем категорию ***rangerover*** в ***range_rover***:"
   ]
  },
  {
   "cell_type": "code",
   "execution_count": 24,
   "metadata": {},
   "outputs": [],
   "source": [
    "def rename_rangerover(row):\n",
    "    if row == 'rangerover':\n",
    "        return 'range_rover'\n",
    "    else:\n",
    "        return row\n",
    "data['Model'] = data['Model'].apply(rename_rangerover)"
   ]
  },
  {
   "cell_type": "markdown",
   "metadata": {},
   "source": [
    "Проверим результат:"
   ]
  },
  {
   "cell_type": "code",
   "execution_count": 25,
   "metadata": {},
   "outputs": [
    {
     "data": {
      "text/plain": [
       "Series([], Name: Model, dtype: object)"
      ]
     },
     "execution_count": 25,
     "metadata": {},
     "output_type": "execute_result"
    }
   ],
   "source": [
    "data[data['Model'] == 'rangerover']['Model']"
   ]
  },
  {
   "cell_type": "markdown",
   "metadata": {},
   "source": [
    "Категория ***rangerover*** не обнаружена. Переименование успешно."
   ]
  },
  {
   "cell_type": "markdown",
   "metadata": {},
   "source": [
    "В столбце ***FuelType*** переименуем категорию ***petroleum*** в ***gasoline***:"
   ]
  },
  {
   "cell_type": "code",
   "execution_count": 26,
   "metadata": {},
   "outputs": [],
   "source": [
    "def rename_petroleum(row):\n",
    "    if row == 'petroleum':\n",
    "        return 'gasoline'\n",
    "    else:\n",
    "        return row\n",
    "data['FuelType'] = data['FuelType'].apply(rename_petroleum)"
   ]
  },
  {
   "cell_type": "markdown",
   "metadata": {},
   "source": [
    "Проверим результат:"
   ]
  },
  {
   "cell_type": "code",
   "execution_count": 27,
   "metadata": {},
   "outputs": [
    {
     "data": {
      "text/plain": [
       "Series([], Name: FuelType, dtype: object)"
      ]
     },
     "execution_count": 27,
     "metadata": {},
     "output_type": "execute_result"
    }
   ],
   "source": [
    "data[data['FuelType'] == 'petroleum']['FuelType']"
   ]
  },
  {
   "cell_type": "markdown",
   "metadata": {},
   "source": [
    "Удалим из датасета грубые дубликаты:"
   ]
  },
  {
   "cell_type": "code",
   "execution_count": 28,
   "metadata": {},
   "outputs": [],
   "source": [
    "data = data.drop_duplicates()"
   ]
  },
  {
   "cell_type": "markdown",
   "metadata": {},
   "source": [
    "Проверим удаление:"
   ]
  },
  {
   "cell_type": "code",
   "execution_count": 29,
   "metadata": {},
   "outputs": [
    {
     "data": {
      "text/plain": [
       "0"
      ]
     },
     "execution_count": 29,
     "metadata": {},
     "output_type": "execute_result"
    }
   ],
   "source": [
    "data.duplicated().sum()"
   ]
  },
  {
   "cell_type": "markdown",
   "metadata": {},
   "source": [
    "Грубые дубликаты успешно удалены."
   ]
  },
  {
   "cell_type": "markdown",
   "metadata": {},
   "source": [
    "Категория ***petroleum*** не обнаружена. Переименование успешно."
   ]
  },
  {
   "cell_type": "markdown",
   "metadata": {},
   "source": [
    "Удалим из датасета столбец ***NumberOfPictures***, так как все его значения нулевые, и столбец не представляет никакой ценности:"
   ]
  },
  {
   "cell_type": "code",
   "execution_count": 30,
   "metadata": {},
   "outputs": [],
   "source": [
    "data = data.drop('NumberOfPictures', axis = 1)"
   ]
  },
  {
   "cell_type": "markdown",
   "metadata": {},
   "source": [
    "Проверим удаление:"
   ]
  },
  {
   "cell_type": "code",
   "execution_count": 31,
   "metadata": {},
   "outputs": [
    {
     "data": {
      "text/plain": [
       "Index(['DateCrawled', 'Price', 'VehicleType', 'RegistrationYear', 'Gearbox',\n",
       "       'Power', 'Model', 'Kilometer', 'RegistrationMonth', 'FuelType', 'Brand',\n",
       "       'NotRepaired', 'DateCreated', 'PostalCode', 'LastSeen'],\n",
       "      dtype='object')"
      ]
     },
     "execution_count": 31,
     "metadata": {},
     "output_type": "execute_result"
    }
   ],
   "source": [
    "data.columns"
   ]
  },
  {
   "cell_type": "markdown",
   "metadata": {},
   "source": [
    "Столбец успешно удален."
   ]
  },
  {
   "cell_type": "markdown",
   "metadata": {},
   "source": [
    "Оставим в датасете только те объекты, значения которых в ***RegistrationYear*** находятся в диапазоне от 1950 до 2021, а в ***Power*** меньше 600:"
   ]
  },
  {
   "cell_type": "code",
   "execution_count": 32,
   "metadata": {},
   "outputs": [],
   "source": [
    "data = data[(data['RegistrationYear'] >= 1950) & (data['RegistrationYear'] <= 2021) & (data['Power'] < 600)]"
   ]
  },
  {
   "cell_type": "markdown",
   "metadata": {},
   "source": [
    "Посмотрим, как выглядят распределения значений в признаках после предобработки:"
   ]
  },
  {
   "cell_type": "code",
   "execution_count": 33,
   "metadata": {},
   "outputs": [
    {
     "data": {
      "image/png": "[encoded data removed]",
      "text/plain": [
       "<Figure size 1152x648 with 6 Axes>"
      ]
     },
     "metadata": {
      "needs_background": "light"
     },
     "output_type": "display_data"
    }
   ],
   "source": [
    "data.hist(figsize = (16,9))\n",
    "plt.show()"
   ]
  },
  {
   "cell_type": "markdown",
   "metadata": {},
   "source": [
    "Распределения значений в обработанных признаках выглядят адекватно."
   ]
  },
  {
   "cell_type": "markdown",
   "metadata": {},
   "source": [
    "Удалим из датасета признаки, с минимальной вероятностью влияющие на цену автомобилей - ***DateCrawled***, ***DateCreated***, ***LastSeen***:"
   ]
  },
  {
   "cell_type": "code",
   "execution_count": 34,
   "metadata": {},
   "outputs": [],
   "source": [
    "for feature in ['DateCrawled', 'DateCreated', 'LastSeen']:\n",
    "    data = data.drop(feature, axis = 1)"
   ]
  },
  {
   "cell_type": "markdown",
   "metadata": {},
   "source": [
    "Проверим удаление:"
   ]
  },
  {
   "cell_type": "code",
   "execution_count": 35,
   "metadata": {},
   "outputs": [
    {
     "name": "stdout",
     "output_type": "stream",
     "text": [
      "<class 'pandas.core.frame.DataFrame'>\n",
      "Int64Index: 353634 entries, 0 to 354368\n",
      "Data columns (total 12 columns):\n",
      "Price                353634 non-null int64\n",
      "VehicleType          353634 non-null object\n",
      "RegistrationYear     353634 non-null int64\n",
      "Gearbox              353634 non-null object\n",
      "Power                353634 non-null int64\n",
      "Model                353634 non-null object\n",
      "Kilometer            353634 non-null int64\n",
      "RegistrationMonth    353634 non-null int64\n",
      "FuelType             353634 non-null object\n",
      "Brand                353634 non-null object\n",
      "NotRepaired          353634 non-null object\n",
      "PostalCode           353634 non-null int64\n",
      "dtypes: int64(6), object(6)\n",
      "memory usage: 35.1+ MB\n"
     ]
    }
   ],
   "source": [
    "data.info()"
   ]
  },
  {
   "cell_type": "markdown",
   "metadata": {},
   "source": [
    "Признаки успешно удалены."
   ]
  },
  {
   "cell_type": "markdown",
   "metadata": {},
   "source": [
    "###### Вывод\n",
    "\n",
    "На данном этапе выполнена предобработка данных:\n",
    "\n",
    " - В столбцах ***Model*** и ***FuelType*** устранены скрытые дубликаты путем объединения повторяющихся, но записанных по-разному категорий;\n",
    " - Из датасета удалены грубые дубликаты;\n",
    " - Из столбца ***RegistrationYear*** удалены аномалии. Сохраненный диапазон значений для дальнейшей работы - от 1950 до 2021;\n",
    " - Из столбца ***Power*** удалены аномалии. Сохраненный диапазон значений для дальнейшей работы - от 0 до 600;\n",
    " - Из датасета удален столбец ***NumberOfPictures***, содержащий только нулевые значения;\n",
    " - Из датасета удалены столбцы ***DateCrawled***, ***DateCreated***, ***LastSeen*** в связи с их маловероятным влиянием на цену автомобилей."
   ]
  },
  {
   "cell_type": "markdown",
   "metadata": {},
   "source": [
    "### Подготовка признаков"
   ]
  },
  {
   "cell_type": "markdown",
   "metadata": {},
   "source": [
    "В датасете призаки ***VehicleType***, ***GearBox***, ***Model***, ***FuelType***, ***Brand***, ***NotRepaired*** - категориальные. Из них признаки ***GearBox*** и ***NotRepaired*** содержат по три категории, а остальные от 6 до до нескольких десятков. При кодировании признаков, содержащих множество категорий, методом прямого кодирования, мы рискуем сильно расширить признаковое пространство, и получить множество незначащих признаков. В связи с этим, применим метод порядкового кодирования категориальных признаков:"
   ]
  },
  {
   "cell_type": "code",
   "execution_count": 36,
   "metadata": {},
   "outputs": [],
   "source": [
    "objects = [\n",
    "    'VehicleType',\n",
    "    'Gearbox',\n",
    "    'Model',\n",
    "    'FuelType',\n",
    "    'Brand',\n",
    "    'NotRepaired']\n",
    "\n",
    "encoder = OrdinalEncoder()\n",
    "\n",
    "data[objects] = pd.DataFrame(encoder.fit_transform(data[objects]),columns=data[objects].columns, index = data.index)"
   ]
  },
  {
   "cell_type": "markdown",
   "metadata": {},
   "source": [
    "Проверим кодировку:"
   ]
  },
  {
   "cell_type": "code",
   "execution_count": 37,
   "metadata": {},
   "outputs": [
    {
     "data": {
      "text/html": [
       "<div>\n",
       "<style scoped>\n",
       "    .dataframe tbody tr th:only-of-type {\n",
       "        vertical-align: middle;\n",
       "    }\n",
       "\n",
       "    .dataframe tbody tr th {\n",
       "        vertical-align: top;\n",
       "    }\n",
       "\n",
       "    .dataframe thead th {\n",
       "        text-align: right;\n",
       "    }\n",
       "</style>\n",
       "<table border=\"1\" class=\"dataframe\">\n",
       "  <thead>\n",
       "    <tr style=\"text-align: right;\">\n",
       "      <th></th>\n",
       "      <th>Price</th>\n",
       "      <th>VehicleType</th>\n",
       "      <th>RegistrationYear</th>\n",
       "      <th>Gearbox</th>\n",
       "      <th>Power</th>\n",
       "      <th>Model</th>\n",
       "      <th>Kilometer</th>\n",
       "      <th>RegistrationMonth</th>\n",
       "      <th>FuelType</th>\n",
       "      <th>Brand</th>\n",
       "      <th>NotRepaired</th>\n",
       "      <th>PostalCode</th>\n",
       "    </tr>\n",
       "  </thead>\n",
       "  <tbody>\n",
       "    <tr>\n",
       "      <td>count</td>\n",
       "      <td>353634.000000</td>\n",
       "      <td>353634.000000</td>\n",
       "      <td>353634.000000</td>\n",
       "      <td>353634.000000</td>\n",
       "      <td>353634.000000</td>\n",
       "      <td>353634.000000</td>\n",
       "      <td>353634.000000</td>\n",
       "      <td>353634.000000</td>\n",
       "      <td>353634.000000</td>\n",
       "      <td>353634.000000</td>\n",
       "      <td>353634.000000</td>\n",
       "      <td>353634.000000</td>\n",
       "    </tr>\n",
       "    <tr>\n",
       "      <td>mean</td>\n",
       "      <td>4419.070316</td>\n",
       "      <td>4.748206</td>\n",
       "      <td>2003.127120</td>\n",
       "      <td>0.868174</td>\n",
       "      <td>106.542524</td>\n",
       "      <td>115.479001</td>\n",
       "      <td>128309.579961</td>\n",
       "      <td>5.718805</td>\n",
       "      <td>4.933276</td>\n",
       "      <td>20.898647</td>\n",
       "      <td>0.403502</td>\n",
       "      <td>50518.908176</td>\n",
       "    </tr>\n",
       "    <tr>\n",
       "      <td>std</td>\n",
       "      <td>4513.774829</td>\n",
       "      <td>2.387154</td>\n",
       "      <td>7.302403</td>\n",
       "      <td>0.474530</td>\n",
       "      <td>63.359412</td>\n",
       "      <td>73.624278</td>\n",
       "      <td>37760.918439</td>\n",
       "      <td>3.724597</td>\n",
       "      <td>1.883242</td>\n",
       "      <td>13.300754</td>\n",
       "      <td>0.666428</td>\n",
       "      <td>25783.003571</td>\n",
       "    </tr>\n",
       "    <tr>\n",
       "      <td>min</td>\n",
       "      <td>0.000000</td>\n",
       "      <td>0.000000</td>\n",
       "      <td>1950.000000</td>\n",
       "      <td>0.000000</td>\n",
       "      <td>0.000000</td>\n",
       "      <td>0.000000</td>\n",
       "      <td>5000.000000</td>\n",
       "      <td>0.000000</td>\n",
       "      <td>0.000000</td>\n",
       "      <td>0.000000</td>\n",
       "      <td>0.000000</td>\n",
       "      <td>1067.000000</td>\n",
       "    </tr>\n",
       "    <tr>\n",
       "      <td>25%</td>\n",
       "      <td>1076.250000</td>\n",
       "      <td>4.000000</td>\n",
       "      <td>1999.000000</td>\n",
       "      <td>1.000000</td>\n",
       "      <td>69.000000</td>\n",
       "      <td>42.000000</td>\n",
       "      <td>125000.000000</td>\n",
       "      <td>3.000000</td>\n",
       "      <td>2.000000</td>\n",
       "      <td>9.000000</td>\n",
       "      <td>0.000000</td>\n",
       "      <td>30165.000000</td>\n",
       "    </tr>\n",
       "    <tr>\n",
       "      <td>50%</td>\n",
       "      <td>2700.000000</td>\n",
       "      <td>5.000000</td>\n",
       "      <td>2003.000000</td>\n",
       "      <td>1.000000</td>\n",
       "      <td>105.000000</td>\n",
       "      <td>116.000000</td>\n",
       "      <td>150000.000000</td>\n",
       "      <td>6.000000</td>\n",
       "      <td>6.000000</td>\n",
       "      <td>24.000000</td>\n",
       "      <td>0.000000</td>\n",
       "      <td>49419.000000</td>\n",
       "    </tr>\n",
       "    <tr>\n",
       "      <td>75%</td>\n",
       "      <td>6400.000000</td>\n",
       "      <td>7.000000</td>\n",
       "      <td>2008.000000</td>\n",
       "      <td>1.000000</td>\n",
       "      <td>141.000000</td>\n",
       "      <td>170.000000</td>\n",
       "      <td>150000.000000</td>\n",
       "      <td>9.000000</td>\n",
       "      <td>6.000000</td>\n",
       "      <td>33.000000</td>\n",
       "      <td>1.000000</td>\n",
       "      <td>71088.000000</td>\n",
       "    </tr>\n",
       "    <tr>\n",
       "      <td>max</td>\n",
       "      <td>20000.000000</td>\n",
       "      <td>8.000000</td>\n",
       "      <td>2019.000000</td>\n",
       "      <td>2.000000</td>\n",
       "      <td>599.000000</td>\n",
       "      <td>249.000000</td>\n",
       "      <td>150000.000000</td>\n",
       "      <td>12.000000</td>\n",
       "      <td>7.000000</td>\n",
       "      <td>39.000000</td>\n",
       "      <td>2.000000</td>\n",
       "      <td>99998.000000</td>\n",
       "    </tr>\n",
       "  </tbody>\n",
       "</table>\n",
       "</div>"
      ],
      "text/plain": [
       "               Price    VehicleType  RegistrationYear        Gearbox  \\\n",
       "count  353634.000000  353634.000000     353634.000000  353634.000000   \n",
       "mean     4419.070316       4.748206       2003.127120       0.868174   \n",
       "std      4513.774829       2.387154          7.302403       0.474530   \n",
       "min         0.000000       0.000000       1950.000000       0.000000   \n",
       "25%      1076.250000       4.000000       1999.000000       1.000000   \n",
       "50%      2700.000000       5.000000       2003.000000       1.000000   \n",
       "75%      6400.000000       7.000000       2008.000000       1.000000   \n",
       "max     20000.000000       8.000000       2019.000000       2.000000   \n",
       "\n",
       "               Power          Model      Kilometer  RegistrationMonth  \\\n",
       "count  353634.000000  353634.000000  353634.000000      353634.000000   \n",
       "mean      106.542524     115.479001  128309.579961           5.718805   \n",
       "std        63.359412      73.624278   37760.918439           3.724597   \n",
       "min         0.000000       0.000000    5000.000000           0.000000   \n",
       "25%        69.000000      42.000000  125000.000000           3.000000   \n",
       "50%       105.000000     116.000000  150000.000000           6.000000   \n",
       "75%       141.000000     170.000000  150000.000000           9.000000   \n",
       "max       599.000000     249.000000  150000.000000          12.000000   \n",
       "\n",
       "            FuelType          Brand    NotRepaired     PostalCode  \n",
       "count  353634.000000  353634.000000  353634.000000  353634.000000  \n",
       "mean        4.933276      20.898647       0.403502   50518.908176  \n",
       "std         1.883242      13.300754       0.666428   25783.003571  \n",
       "min         0.000000       0.000000       0.000000    1067.000000  \n",
       "25%         2.000000       9.000000       0.000000   30165.000000  \n",
       "50%         6.000000      24.000000       0.000000   49419.000000  \n",
       "75%         6.000000      33.000000       1.000000   71088.000000  \n",
       "max         7.000000      39.000000       2.000000   99998.000000  "
      ]
     },
     "execution_count": 37,
     "metadata": {},
     "output_type": "execute_result"
    }
   ],
   "source": [
    "data.describe()"
   ]
  },
  {
   "cell_type": "code",
   "execution_count": 38,
   "metadata": {},
   "outputs": [
    {
     "name": "stdout",
     "output_type": "stream",
     "text": [
      "<class 'pandas.core.frame.DataFrame'>\n",
      "Int64Index: 353634 entries, 0 to 354368\n",
      "Data columns (total 12 columns):\n",
      "Price                353634 non-null int64\n",
      "VehicleType          353634 non-null float64\n",
      "RegistrationYear     353634 non-null int64\n",
      "Gearbox              353634 non-null float64\n",
      "Power                353634 non-null int64\n",
      "Model                353634 non-null float64\n",
      "Kilometer            353634 non-null int64\n",
      "RegistrationMonth    353634 non-null int64\n",
      "FuelType             353634 non-null float64\n",
      "Brand                353634 non-null float64\n",
      "NotRepaired          353634 non-null float64\n",
      "PostalCode           353634 non-null int64\n",
      "dtypes: float64(6), int64(6)\n",
      "memory usage: 35.1 MB\n"
     ]
    }
   ],
   "source": [
    "data.info()"
   ]
  },
  {
   "cell_type": "markdown",
   "metadata": {},
   "source": [
    "Категориальные значения закодированы успешно."
   ]
  },
  {
   "cell_type": "markdown",
   "metadata": {},
   "source": [
    "Отделим признаки от целевого:"
   ]
  },
  {
   "cell_type": "code",
   "execution_count": 39,
   "metadata": {},
   "outputs": [],
   "source": [
    "features = data.drop(['Price'], axis = 1)\n",
    "target = data['Price']"
   ]
  },
  {
   "cell_type": "markdown",
   "metadata": {},
   "source": [
    "Разделим данные на выборки в следующем соотношении:\n",
    "\n",
    " - Обучающая выборка: 75%;\n",
    " - Тестовая выборка: 25%."
   ]
  },
  {
   "cell_type": "code",
   "execution_count": 40,
   "metadata": {},
   "outputs": [],
   "source": [
    "features_train,features_test,target_train,target_test = train_test_split(\n",
    "    features,\n",
    "    target,\n",
    "    test_size = 0.25,\n",
    "    random_state = 12345)"
   ]
  },
  {
   "cell_type": "markdown",
   "metadata": {},
   "source": [
    "Проверим разделение:"
   ]
  },
  {
   "cell_type": "code",
   "execution_count": 41,
   "metadata": {
    "scrolled": true
   },
   "outputs": [
    {
     "name": "stdout",
     "output_type": "stream",
     "text": [
      "Размер обучающей таблицы признаков: (265225, 11)\n",
      "Размер обучающей таблицы с целевым признаком: (265225,)\n",
      "Размер тестовой таблицы признаков: (88409, 11)\n",
      "Размер тестовой таблицы с целевым признаком: (88409,)\n"
     ]
    }
   ],
   "source": [
    "print('Размер обучающей таблицы признаков:',features_train.shape)\n",
    "print('Размер обучающей таблицы с целевым признаком:',target_train.shape)\n",
    "print('Размер тестовой таблицы признаков:',features_test.shape)\n",
    "print('Размер тестовой таблицы с целевым признаком:',target_test.shape)"
   ]
  },
  {
   "cell_type": "markdown",
   "metadata": {},
   "source": [
    "Данные разделены успешно в необходимых пропорциях."
   ]
  },
  {
   "cell_type": "markdown",
   "metadata": {},
   "source": [
    "При разном масштабе признаков алгоритмы обучения могут сильнее выделять те или иные признаки. Для того, чтобы алгоритм воспринимал значимость каждого из признаков одинаково, стандартизируем признаки:"
   ]
  },
  {
   "cell_type": "code",
   "execution_count": 42,
   "metadata": {},
   "outputs": [],
   "source": [
    "scaler = StandardScaler()\n",
    "scaler.fit(features_train)\n",
    "\n",
    "pd.options.mode.chained_assignment = None\n",
    "\n",
    "features_train = pd.DataFrame(scaler.transform(features_train), columns = features.columns)\n",
    "features_test = pd.DataFrame(scaler.transform(features_test), columns = features.columns)"
   ]
  },
  {
   "cell_type": "markdown",
   "metadata": {},
   "source": [
    "Проверим результат:"
   ]
  },
  {
   "cell_type": "code",
   "execution_count": 43,
   "metadata": {},
   "outputs": [
    {
     "data": {
      "text/html": [
       "<div>\n",
       "<style scoped>\n",
       "    .dataframe tbody tr th:only-of-type {\n",
       "        vertical-align: middle;\n",
       "    }\n",
       "\n",
       "    .dataframe tbody tr th {\n",
       "        vertical-align: top;\n",
       "    }\n",
       "\n",
       "    .dataframe thead th {\n",
       "        text-align: right;\n",
       "    }\n",
       "</style>\n",
       "<table border=\"1\" class=\"dataframe\">\n",
       "  <thead>\n",
       "    <tr style=\"text-align: right;\">\n",
       "      <th></th>\n",
       "      <th>VehicleType</th>\n",
       "      <th>RegistrationYear</th>\n",
       "      <th>Gearbox</th>\n",
       "      <th>Power</th>\n",
       "      <th>Model</th>\n",
       "      <th>Kilometer</th>\n",
       "      <th>RegistrationMonth</th>\n",
       "      <th>FuelType</th>\n",
       "      <th>Brand</th>\n",
       "      <th>NotRepaired</th>\n",
       "      <th>PostalCode</th>\n",
       "    </tr>\n",
       "  </thead>\n",
       "  <tbody>\n",
       "    <tr>\n",
       "      <td>count</td>\n",
       "      <td>2.652250e+05</td>\n",
       "      <td>2.652250e+05</td>\n",
       "      <td>2.652250e+05</td>\n",
       "      <td>2.652250e+05</td>\n",
       "      <td>2.652250e+05</td>\n",
       "      <td>2.652250e+05</td>\n",
       "      <td>2.652250e+05</td>\n",
       "      <td>2.652250e+05</td>\n",
       "      <td>2.652250e+05</td>\n",
       "      <td>2.652250e+05</td>\n",
       "      <td>2.652250e+05</td>\n",
       "    </tr>\n",
       "    <tr>\n",
       "      <td>mean</td>\n",
       "      <td>6.568954e-17</td>\n",
       "      <td>3.808064e-15</td>\n",
       "      <td>1.433275e-17</td>\n",
       "      <td>-2.132499e-17</td>\n",
       "      <td>-5.151083e-17</td>\n",
       "      <td>-1.856158e-16</td>\n",
       "      <td>-4.114973e-17</td>\n",
       "      <td>1.394161e-16</td>\n",
       "      <td>1.089825e-16</td>\n",
       "      <td>7.631185e-17</td>\n",
       "      <td>-1.353641e-16</td>\n",
       "    </tr>\n",
       "    <tr>\n",
       "      <td>std</td>\n",
       "      <td>1.000002e+00</td>\n",
       "      <td>1.000002e+00</td>\n",
       "      <td>1.000002e+00</td>\n",
       "      <td>1.000002e+00</td>\n",
       "      <td>1.000002e+00</td>\n",
       "      <td>1.000002e+00</td>\n",
       "      <td>1.000002e+00</td>\n",
       "      <td>1.000002e+00</td>\n",
       "      <td>1.000002e+00</td>\n",
       "      <td>1.000002e+00</td>\n",
       "      <td>1.000002e+00</td>\n",
       "    </tr>\n",
       "    <tr>\n",
       "      <td>min</td>\n",
       "      <td>-1.993250e+00</td>\n",
       "      <td>-7.251382e+00</td>\n",
       "      <td>-1.830457e+00</td>\n",
       "      <td>-1.681161e+00</td>\n",
       "      <td>-1.570759e+00</td>\n",
       "      <td>-3.255323e+00</td>\n",
       "      <td>-1.532540e+00</td>\n",
       "      <td>-2.621850e+00</td>\n",
       "      <td>-1.573076e+00</td>\n",
       "      <td>-6.066361e-01</td>\n",
       "      <td>-1.917145e+00</td>\n",
       "    </tr>\n",
       "    <tr>\n",
       "      <td>25%</td>\n",
       "      <td>-3.148213e-01</td>\n",
       "      <td>-5.627218e-01</td>\n",
       "      <td>2.766374e-01</td>\n",
       "      <td>-5.911592e-01</td>\n",
       "      <td>-1.000113e+00</td>\n",
       "      <td>-8.517475e-02</td>\n",
       "      <td>-7.279690e-01</td>\n",
       "      <td>-1.559585e+00</td>\n",
       "      <td>-8.965630e-01</td>\n",
       "      <td>-6.066361e-01</td>\n",
       "      <td>-7.894191e-01</td>\n",
       "    </tr>\n",
       "    <tr>\n",
       "      <td>50%</td>\n",
       "      <td>1.047859e-01</td>\n",
       "      <td>-1.670875e-02</td>\n",
       "      <td>2.766374e-01</td>\n",
       "      <td>-2.246274e-02</td>\n",
       "      <td>5.311421e-03</td>\n",
       "      <td>5.752727e-01</td>\n",
       "      <td>7.660198e-02</td>\n",
       "      <td>5.649462e-01</td>\n",
       "      <td>2.309590e-01</td>\n",
       "      <td>-6.066361e-01</td>\n",
       "      <td>-4.344121e-02</td>\n",
       "    </tr>\n",
       "    <tr>\n",
       "      <td>75%</td>\n",
       "      <td>9.440004e-01</td>\n",
       "      <td>6.658076e-01</td>\n",
       "      <td>2.766374e-01</td>\n",
       "      <td>5.462337e-01</td>\n",
       "      <td>7.389993e-01</td>\n",
       "      <td>5.752727e-01</td>\n",
       "      <td>8.811730e-01</td>\n",
       "      <td>5.649462e-01</td>\n",
       "      <td>9.826403e-01</td>\n",
       "      <td>8.925166e-01</td>\n",
       "      <td>7.976830e-01</td>\n",
       "    </tr>\n",
       "    <tr>\n",
       "      <td>max</td>\n",
       "      <td>1.363608e+00</td>\n",
       "      <td>2.167344e+00</td>\n",
       "      <td>2.383732e+00</td>\n",
       "      <td>7.781316e+00</td>\n",
       "      <td>1.812358e+00</td>\n",
       "      <td>5.752727e-01</td>\n",
       "      <td>1.685744e+00</td>\n",
       "      <td>1.096079e+00</td>\n",
       "      <td>1.358481e+00</td>\n",
       "      <td>2.391669e+00</td>\n",
       "      <td>1.917037e+00</td>\n",
       "    </tr>\n",
       "  </tbody>\n",
       "</table>\n",
       "</div>"
      ],
      "text/plain": [
       "        VehicleType  RegistrationYear       Gearbox         Power  \\\n",
       "count  2.652250e+05      2.652250e+05  2.652250e+05  2.652250e+05   \n",
       "mean   6.568954e-17      3.808064e-15  1.433275e-17 -2.132499e-17   \n",
       "std    1.000002e+00      1.000002e+00  1.000002e+00  1.000002e+00   \n",
       "min   -1.993250e+00     -7.251382e+00 -1.830457e+00 -1.681161e+00   \n",
       "25%   -3.148213e-01     -5.627218e-01  2.766374e-01 -5.911592e-01   \n",
       "50%    1.047859e-01     -1.670875e-02  2.766374e-01 -2.246274e-02   \n",
       "75%    9.440004e-01      6.658076e-01  2.766374e-01  5.462337e-01   \n",
       "max    1.363608e+00      2.167344e+00  2.383732e+00  7.781316e+00   \n",
       "\n",
       "              Model     Kilometer  RegistrationMonth      FuelType  \\\n",
       "count  2.652250e+05  2.652250e+05       2.652250e+05  2.652250e+05   \n",
       "mean  -5.151083e-17 -1.856158e-16      -4.114973e-17  1.394161e-16   \n",
       "std    1.000002e+00  1.000002e+00       1.000002e+00  1.000002e+00   \n",
       "min   -1.570759e+00 -3.255323e+00      -1.532540e+00 -2.621850e+00   \n",
       "25%   -1.000113e+00 -8.517475e-02      -7.279690e-01 -1.559585e+00   \n",
       "50%    5.311421e-03  5.752727e-01       7.660198e-02  5.649462e-01   \n",
       "75%    7.389993e-01  5.752727e-01       8.811730e-01  5.649462e-01   \n",
       "max    1.812358e+00  5.752727e-01       1.685744e+00  1.096079e+00   \n",
       "\n",
       "              Brand   NotRepaired    PostalCode  \n",
       "count  2.652250e+05  2.652250e+05  2.652250e+05  \n",
       "mean   1.089825e-16  7.631185e-17 -1.353641e-16  \n",
       "std    1.000002e+00  1.000002e+00  1.000002e+00  \n",
       "min   -1.573076e+00 -6.066361e-01 -1.917145e+00  \n",
       "25%   -8.965630e-01 -6.066361e-01 -7.894191e-01  \n",
       "50%    2.309590e-01 -6.066361e-01 -4.344121e-02  \n",
       "75%    9.826403e-01  8.925166e-01  7.976830e-01  \n",
       "max    1.358481e+00  2.391669e+00  1.917037e+00  "
      ]
     },
     "metadata": {},
     "output_type": "display_data"
    },
    {
     "data": {
      "text/html": [
       "<div>\n",
       "<style scoped>\n",
       "    .dataframe tbody tr th:only-of-type {\n",
       "        vertical-align: middle;\n",
       "    }\n",
       "\n",
       "    .dataframe tbody tr th {\n",
       "        vertical-align: top;\n",
       "    }\n",
       "\n",
       "    .dataframe thead th {\n",
       "        text-align: right;\n",
       "    }\n",
       "</style>\n",
       "<table border=\"1\" class=\"dataframe\">\n",
       "  <thead>\n",
       "    <tr style=\"text-align: right;\">\n",
       "      <th></th>\n",
       "      <th>VehicleType</th>\n",
       "      <th>RegistrationYear</th>\n",
       "      <th>Gearbox</th>\n",
       "      <th>Power</th>\n",
       "      <th>Model</th>\n",
       "      <th>Kilometer</th>\n",
       "      <th>RegistrationMonth</th>\n",
       "      <th>FuelType</th>\n",
       "      <th>Brand</th>\n",
       "      <th>NotRepaired</th>\n",
       "      <th>PostalCode</th>\n",
       "    </tr>\n",
       "  </thead>\n",
       "  <tbody>\n",
       "    <tr>\n",
       "      <td>count</td>\n",
       "      <td>88409.000000</td>\n",
       "      <td>88409.000000</td>\n",
       "      <td>88409.000000</td>\n",
       "      <td>88409.000000</td>\n",
       "      <td>88409.000000</td>\n",
       "      <td>88409.000000</td>\n",
       "      <td>88409.000000</td>\n",
       "      <td>88409.000000</td>\n",
       "      <td>88409.000000</td>\n",
       "      <td>88409.000000</td>\n",
       "      <td>88409.000000</td>\n",
       "    </tr>\n",
       "    <tr>\n",
       "      <td>mean</td>\n",
       "      <td>-0.003475</td>\n",
       "      <td>0.002574</td>\n",
       "      <td>-0.004526</td>\n",
       "      <td>0.007619</td>\n",
       "      <td>-0.007069</td>\n",
       "      <td>0.009030</td>\n",
       "      <td>0.004753</td>\n",
       "      <td>-0.006504</td>\n",
       "      <td>-0.008656</td>\n",
       "      <td>-0.006900</td>\n",
       "      <td>-0.002322</td>\n",
       "    </tr>\n",
       "    <tr>\n",
       "      <td>std</td>\n",
       "      <td>1.006647</td>\n",
       "      <td>0.987143</td>\n",
       "      <td>0.999509</td>\n",
       "      <td>1.003559</td>\n",
       "      <td>1.001258</td>\n",
       "      <td>0.990190</td>\n",
       "      <td>0.995588</td>\n",
       "      <td>1.000991</td>\n",
       "      <td>0.999143</td>\n",
       "      <td>0.996284</td>\n",
       "      <td>0.996992</td>\n",
       "    </tr>\n",
       "    <tr>\n",
       "      <td>min</td>\n",
       "      <td>-1.993250</td>\n",
       "      <td>-7.251382</td>\n",
       "      <td>-1.830457</td>\n",
       "      <td>-1.681161</td>\n",
       "      <td>-1.570759</td>\n",
       "      <td>-3.255323</td>\n",
       "      <td>-1.532540</td>\n",
       "      <td>-2.621850</td>\n",
       "      <td>-1.573076</td>\n",
       "      <td>-0.606636</td>\n",
       "      <td>-1.917145</td>\n",
       "    </tr>\n",
       "    <tr>\n",
       "      <td>25%</td>\n",
       "      <td>-0.314821</td>\n",
       "      <td>-0.562722</td>\n",
       "      <td>0.276637</td>\n",
       "      <td>-0.591159</td>\n",
       "      <td>-1.000113</td>\n",
       "      <td>-0.085175</td>\n",
       "      <td>-0.727969</td>\n",
       "      <td>-1.559585</td>\n",
       "      <td>-0.896563</td>\n",
       "      <td>-0.606636</td>\n",
       "      <td>-0.789419</td>\n",
       "    </tr>\n",
       "    <tr>\n",
       "      <td>50%</td>\n",
       "      <td>0.104786</td>\n",
       "      <td>-0.016709</td>\n",
       "      <td>0.276637</td>\n",
       "      <td>-0.022463</td>\n",
       "      <td>0.005311</td>\n",
       "      <td>0.575273</td>\n",
       "      <td>0.076602</td>\n",
       "      <td>0.564946</td>\n",
       "      <td>0.230959</td>\n",
       "      <td>-0.606636</td>\n",
       "      <td>-0.043015</td>\n",
       "    </tr>\n",
       "    <tr>\n",
       "      <td>75%</td>\n",
       "      <td>0.944000</td>\n",
       "      <td>0.665808</td>\n",
       "      <td>0.276637</td>\n",
       "      <td>0.577828</td>\n",
       "      <td>0.738999</td>\n",
       "      <td>0.575273</td>\n",
       "      <td>0.881173</td>\n",
       "      <td>0.564946</td>\n",
       "      <td>0.907472</td>\n",
       "      <td>0.892517</td>\n",
       "      <td>0.795629</td>\n",
       "    </tr>\n",
       "    <tr>\n",
       "      <td>max</td>\n",
       "      <td>1.363608</td>\n",
       "      <td>2.167344</td>\n",
       "      <td>2.383732</td>\n",
       "      <td>7.560157</td>\n",
       "      <td>1.812358</td>\n",
       "      <td>0.575273</td>\n",
       "      <td>1.685744</td>\n",
       "      <td>1.096079</td>\n",
       "      <td>1.358481</td>\n",
       "      <td>2.391669</td>\n",
       "      <td>1.917037</td>\n",
       "    </tr>\n",
       "  </tbody>\n",
       "</table>\n",
       "</div>"
      ],
      "text/plain": [
       "        VehicleType  RegistrationYear       Gearbox         Power  \\\n",
       "count  88409.000000      88409.000000  88409.000000  88409.000000   \n",
       "mean      -0.003475          0.002574     -0.004526      0.007619   \n",
       "std        1.006647          0.987143      0.999509      1.003559   \n",
       "min       -1.993250         -7.251382     -1.830457     -1.681161   \n",
       "25%       -0.314821         -0.562722      0.276637     -0.591159   \n",
       "50%        0.104786         -0.016709      0.276637     -0.022463   \n",
       "75%        0.944000          0.665808      0.276637      0.577828   \n",
       "max        1.363608          2.167344      2.383732      7.560157   \n",
       "\n",
       "              Model     Kilometer  RegistrationMonth      FuelType  \\\n",
       "count  88409.000000  88409.000000       88409.000000  88409.000000   \n",
       "mean      -0.007069      0.009030           0.004753     -0.006504   \n",
       "std        1.001258      0.990190           0.995588      1.000991   \n",
       "min       -1.570759     -3.255323          -1.532540     -2.621850   \n",
       "25%       -1.000113     -0.085175          -0.727969     -1.559585   \n",
       "50%        0.005311      0.575273           0.076602      0.564946   \n",
       "75%        0.738999      0.575273           0.881173      0.564946   \n",
       "max        1.812358      0.575273           1.685744      1.096079   \n",
       "\n",
       "              Brand   NotRepaired    PostalCode  \n",
       "count  88409.000000  88409.000000  88409.000000  \n",
       "mean      -0.008656     -0.006900     -0.002322  \n",
       "std        0.999143      0.996284      0.996992  \n",
       "min       -1.573076     -0.606636     -1.917145  \n",
       "25%       -0.896563     -0.606636     -0.789419  \n",
       "50%        0.230959     -0.606636     -0.043015  \n",
       "75%        0.907472      0.892517      0.795629  \n",
       "max        1.358481      2.391669      1.917037  "
      ]
     },
     "metadata": {},
     "output_type": "display_data"
    }
   ],
   "source": [
    "display(features_train.describe())\n",
    "display(features_test.describe())"
   ]
  },
  {
   "cell_type": "markdown",
   "metadata": {},
   "source": [
    "Данные успешно стандартизированы."
   ]
  },
  {
   "cell_type": "markdown",
   "metadata": {},
   "source": [
    "Построим матрицу корреляций для определения мкльтиколлинеарных признаков:"
   ]
  },
  {
   "cell_type": "code",
   "execution_count": 44,
   "metadata": {
    "scrolled": false
   },
   "outputs": [
    {
     "data": {
      "image/png": "[encoded data removed]",
      "text/plain": [
       "<Figure size 960x800 with 2 Axes>"
      ]
     },
     "metadata": {
      "needs_background": "light"
     },
     "output_type": "display_data"
    }
   ],
   "source": [
    "plt.figure(figsize=(12,10), dpi= 80)\n",
    "sns.heatmap(\n",
    "    data.corr(),\n",
    "    xticklabels=data.corr().columns,\n",
    "    yticklabels=data.corr().columns,\n",
    "    cmap='RdYlGn',\n",
    "    center=0,\n",
    "    annot=True\n",
    ")\n",
    "\n",
    "plt.title('Матрица корреляций признаков', fontsize=14)\n",
    "plt.xticks(fontsize=12)\n",
    "plt.yticks(fontsize=12)\n",
    "plt.show()"
   ]
  },
  {
   "cell_type": "markdown",
   "metadata": {},
   "source": [
    "###### Вывод"
   ]
  },
  {
   "cell_type": "markdown",
   "metadata": {},
   "source": [
    "На данном этапе категориальные признаки ***VehicleType***, ***GearBox***, ***Model***, ***FuelType***, ***Brand***, ***NotRepaired*** были перекодированы в числовые с помощью метода порядкового кодирования во избежание расширения признакового пространства и получения множества незначащих признаков.\n",
    "\n",
    "Целевые признаки были отделены от остальных, а данные разбиты на обучающую и тестовую выборки в соотношении 75% : 25%.\n",
    "\n",
    "Признаки обучающей и тестовой выборок были стандартизированы с помощью ***StandardScaler*** во избежание неравного восприятия моделями значимсоти признаков.\n",
    "\n",
    "С помощью матрицы корреляции было определено, что наиболее заметные корреляции наблюдаются между ***Price*** и следующими признаками:  ***RegistrationYear***, ***Power***, ***Kilometer***. Вероятнее всего, именно эти признаки в конечном итоге окажутся наиболее важными для построения качественной модели. Также умеренная связь присутствует между ***Brand*** и ***Model***, но значение коэффициента недостаточно для того, что исключить данный признак их конечного датасета. В итоге, все признаки будут использованы для построения модели."
   ]
  },
  {
   "cell_type": "markdown",
   "metadata": {},
   "source": [
    "## Подбор моделей"
   ]
  },
  {
   "cell_type": "markdown",
   "metadata": {},
   "source": [
    "Целевой метрикой в данной задаче является квадрат средней квадратичной ошибки ( ***Root Mean Squared Error, RMSE*** ). Подберем модель, позволяющую добиться минимального значения метрики с помощью ***GridSearchCV***."
   ]
  },
  {
   "cell_type": "markdown",
   "metadata": {},
   "source": [
    "Напишем функцию для подбора наилучших параметров модели:"
   ]
  },
  {
   "cell_type": "code",
   "execution_count": 45,
   "metadata": {},
   "outputs": [],
   "source": [
    "def get_best_params(model,parameters):\n",
    "    grid = GridSearchCV(\n",
    "    model,\n",
    "    parameters,    \n",
    "    scoring = 'neg_root_mean_squared_error'\n",
    "    )\n",
    "    \n",
    "    grid.fit(features_train,target_train)\n",
    "    \n",
    "    greed_result = pd.DataFrame(\n",
    "        grid.cv_results_).sort_values(\n",
    "        by = 'rank_test_score').reset_index(\n",
    "        drop = True)\n",
    "    \n",
    "    display(greed_result[greed_result['rank_test_score']==1])"
   ]
  },
  {
   "cell_type": "markdown",
   "metadata": {},
   "source": [
    "Рассмотрим модель ***Дерево решений***:"
   ]
  },
  {
   "cell_type": "code",
   "execution_count": 46,
   "metadata": {},
   "outputs": [],
   "source": [
    "decision_tree = DecisionTreeRegressor()"
   ]
  },
  {
   "cell_type": "code",
   "execution_count": 47,
   "metadata": {},
   "outputs": [
    {
     "data": {
      "text/html": [
       "<div>\n",
       "<style scoped>\n",
       "    .dataframe tbody tr th:only-of-type {\n",
       "        vertical-align: middle;\n",
       "    }\n",
       "\n",
       "    .dataframe tbody tr th {\n",
       "        vertical-align: top;\n",
       "    }\n",
       "\n",
       "    .dataframe thead th {\n",
       "        text-align: right;\n",
       "    }\n",
       "</style>\n",
       "<table border=\"1\" class=\"dataframe\">\n",
       "  <thead>\n",
       "    <tr style=\"text-align: right;\">\n",
       "      <th></th>\n",
       "      <th>mean_fit_time</th>\n",
       "      <th>std_fit_time</th>\n",
       "      <th>mean_score_time</th>\n",
       "      <th>std_score_time</th>\n",
       "      <th>param_max_depth</th>\n",
       "      <th>param_random_state</th>\n",
       "      <th>params</th>\n",
       "      <th>split0_test_score</th>\n",
       "      <th>split1_test_score</th>\n",
       "      <th>split2_test_score</th>\n",
       "      <th>split3_test_score</th>\n",
       "      <th>split4_test_score</th>\n",
       "      <th>mean_test_score</th>\n",
       "      <th>std_test_score</th>\n",
       "      <th>rank_test_score</th>\n",
       "    </tr>\n",
       "  </thead>\n",
       "  <tbody>\n",
       "    <tr>\n",
       "      <th>0</th>\n",
       "      <td>0.576976</td>\n",
       "      <td>0.00867</td>\n",
       "      <td>0.006188</td>\n",
       "      <td>0.000065</td>\n",
       "      <td>13</td>\n",
       "      <td>12345</td>\n",
       "      <td>{'max_depth': 13, 'random_state': 12345}</td>\n",
       "      <td>-2085.701772</td>\n",
       "      <td>-2086.667495</td>\n",
       "      <td>-2091.835584</td>\n",
       "      <td>-2115.692421</td>\n",
       "      <td>-2082.734225</td>\n",
       "      <td>-2092.526299</td>\n",
       "      <td>11.949316</td>\n",
       "      <td>1</td>\n",
       "    </tr>\n",
       "  </tbody>\n",
       "</table>\n",
       "</div>"
      ],
      "text/plain": [
       "   mean_fit_time  std_fit_time  mean_score_time  std_score_time  \\\n",
       "0       0.576976       0.00867         0.006188        0.000065   \n",
       "\n",
       "  param_max_depth param_random_state  \\\n",
       "0              13              12345   \n",
       "\n",
       "                                     params  split0_test_score  \\\n",
       "0  {'max_depth': 13, 'random_state': 12345}       -2085.701772   \n",
       "\n",
       "   split1_test_score  split2_test_score  split3_test_score  split4_test_score  \\\n",
       "0       -2086.667495       -2091.835584       -2115.692421       -2082.734225   \n",
       "\n",
       "   mean_test_score  std_test_score  rank_test_score  \n",
       "0     -2092.526299       11.949316                1  "
      ]
     },
     "metadata": {},
     "output_type": "display_data"
    }
   ],
   "source": [
    "get_best_params(\n",
    "    decision_tree,\n",
    "    {\n",
    "        'max_depth':range(11,21,1),\n",
    "        'random_state':[12345]\n",
    "    }\n",
    ")"
   ]
  },
  {
   "cell_type": "markdown",
   "metadata": {},
   "source": [
    "Наилучшее значение метрики, ***RMSE = 2093***, получено при максимальной глубине дерева = ***13***."
   ]
  },
  {
   "cell_type": "markdown",
   "metadata": {},
   "source": [
    "Рассмотрим модель ***Случайный лес***:"
   ]
  },
  {
   "cell_type": "code",
   "execution_count": 47,
   "metadata": {},
   "outputs": [],
   "source": [
    "random_forest = RandomForestRegressor()"
   ]
  },
  {
   "cell_type": "code",
   "execution_count": 49,
   "metadata": {},
   "outputs": [
    {
     "data": {
      "text/html": [
       "<div>\n",
       "<style scoped>\n",
       "    .dataframe tbody tr th:only-of-type {\n",
       "        vertical-align: middle;\n",
       "    }\n",
       "\n",
       "    .dataframe tbody tr th {\n",
       "        vertical-align: top;\n",
       "    }\n",
       "\n",
       "    .dataframe thead th {\n",
       "        text-align: right;\n",
       "    }\n",
       "</style>\n",
       "<table border=\"1\" class=\"dataframe\">\n",
       "  <thead>\n",
       "    <tr style=\"text-align: right;\">\n",
       "      <th></th>\n",
       "      <th>mean_fit_time</th>\n",
       "      <th>std_fit_time</th>\n",
       "      <th>mean_score_time</th>\n",
       "      <th>std_score_time</th>\n",
       "      <th>param_max_depth</th>\n",
       "      <th>param_n_estimators</th>\n",
       "      <th>param_random_state</th>\n",
       "      <th>params</th>\n",
       "      <th>split0_test_score</th>\n",
       "      <th>split1_test_score</th>\n",
       "      <th>split2_test_score</th>\n",
       "      <th>split3_test_score</th>\n",
       "      <th>split4_test_score</th>\n",
       "      <th>mean_test_score</th>\n",
       "      <th>std_test_score</th>\n",
       "      <th>rank_test_score</th>\n",
       "    </tr>\n",
       "  </thead>\n",
       "  <tbody>\n",
       "    <tr>\n",
       "      <th>0</th>\n",
       "      <td>16.357399</td>\n",
       "      <td>0.034083</td>\n",
       "      <td>0.18844</td>\n",
       "      <td>0.000941</td>\n",
       "      <td>11</td>\n",
       "      <td>51</td>\n",
       "      <td>12345</td>\n",
       "      <td>{'max_depth': 11, 'n_estimators': 51, 'random_...</td>\n",
       "      <td>-1955.413969</td>\n",
       "      <td>-1932.304564</td>\n",
       "      <td>-1967.003744</td>\n",
       "      <td>-1981.700743</td>\n",
       "      <td>-1953.214121</td>\n",
       "      <td>-1957.927428</td>\n",
       "      <td>16.325526</td>\n",
       "      <td>1</td>\n",
       "    </tr>\n",
       "  </tbody>\n",
       "</table>\n",
       "</div>"
      ],
      "text/plain": [
       "   mean_fit_time  std_fit_time  mean_score_time  std_score_time  \\\n",
       "0      16.357399      0.034083          0.18844        0.000941   \n",
       "\n",
       "  param_max_depth param_n_estimators param_random_state  \\\n",
       "0              11                 51              12345   \n",
       "\n",
       "                                              params  split0_test_score  \\\n",
       "0  {'max_depth': 11, 'n_estimators': 51, 'random_...       -1955.413969   \n",
       "\n",
       "   split1_test_score  split2_test_score  split3_test_score  split4_test_score  \\\n",
       "0       -1932.304564       -1967.003744       -1981.700743       -1953.214121   \n",
       "\n",
       "   mean_test_score  std_test_score  rank_test_score  \n",
       "0     -1957.927428       16.325526                1  "
      ]
     },
     "metadata": {},
     "output_type": "display_data"
    }
   ],
   "source": [
    "get_best_params(\n",
    "    random_forest,\n",
    "    {\n",
    "        'max_depth':[11],\n",
    "        'n_estimators': range(1,61,10),       \n",
    "        'random_state':[12345]\n",
    "    }\n",
    ")"
   ]
  },
  {
   "cell_type": "markdown",
   "metadata": {},
   "source": [
    "Наилучшее значение метрики, ***RMSE = 1958***, получено при максимальной глубине дерева = ***11*** и количестве деревьев = ***51***."
   ]
  },
  {
   "cell_type": "markdown",
   "metadata": {},
   "source": [
    "Рассмотрим модель ***Линейная регрессия***:"
   ]
  },
  {
   "cell_type": "code",
   "execution_count": 48,
   "metadata": {},
   "outputs": [],
   "source": [
    "linear_regression = LinearRegression()"
   ]
  },
  {
   "cell_type": "code",
   "execution_count": 51,
   "metadata": {},
   "outputs": [
    {
     "data": {
      "text/html": [
       "<div>\n",
       "<style scoped>\n",
       "    .dataframe tbody tr th:only-of-type {\n",
       "        vertical-align: middle;\n",
       "    }\n",
       "\n",
       "    .dataframe tbody tr th {\n",
       "        vertical-align: top;\n",
       "    }\n",
       "\n",
       "    .dataframe thead th {\n",
       "        text-align: right;\n",
       "    }\n",
       "</style>\n",
       "<table border=\"1\" class=\"dataframe\">\n",
       "  <thead>\n",
       "    <tr style=\"text-align: right;\">\n",
       "      <th></th>\n",
       "      <th>mean_fit_time</th>\n",
       "      <th>std_fit_time</th>\n",
       "      <th>mean_score_time</th>\n",
       "      <th>std_score_time</th>\n",
       "      <th>param_n_jobs</th>\n",
       "      <th>params</th>\n",
       "      <th>split0_test_score</th>\n",
       "      <th>split1_test_score</th>\n",
       "      <th>split2_test_score</th>\n",
       "      <th>split3_test_score</th>\n",
       "      <th>split4_test_score</th>\n",
       "      <th>mean_test_score</th>\n",
       "      <th>std_test_score</th>\n",
       "      <th>rank_test_score</th>\n",
       "    </tr>\n",
       "  </thead>\n",
       "  <tbody>\n",
       "    <tr>\n",
       "      <th>0</th>\n",
       "      <td>0.214777</td>\n",
       "      <td>0.008109</td>\n",
       "      <td>0.001615</td>\n",
       "      <td>0.000471</td>\n",
       "      <td>None</td>\n",
       "      <td>{'n_jobs': None}</td>\n",
       "      <td>-3122.546827</td>\n",
       "      <td>-3123.289742</td>\n",
       "      <td>-3153.42244</td>\n",
       "      <td>-3146.608543</td>\n",
       "      <td>-3123.36989</td>\n",
       "      <td>-3133.847488</td>\n",
       "      <td>13.378896</td>\n",
       "      <td>1</td>\n",
       "    </tr>\n",
       "  </tbody>\n",
       "</table>\n",
       "</div>"
      ],
      "text/plain": [
       "   mean_fit_time  std_fit_time  mean_score_time  std_score_time param_n_jobs  \\\n",
       "0       0.214777      0.008109         0.001615        0.000471         None   \n",
       "\n",
       "             params  split0_test_score  split1_test_score  split2_test_score  \\\n",
       "0  {'n_jobs': None}       -3122.546827       -3123.289742        -3153.42244   \n",
       "\n",
       "   split3_test_score  split4_test_score  mean_test_score  std_test_score  \\\n",
       "0       -3146.608543        -3123.36989     -3133.847488       13.378896   \n",
       "\n",
       "   rank_test_score  \n",
       "0                1  "
      ]
     },
     "metadata": {},
     "output_type": "display_data"
    }
   ],
   "source": [
    "get_best_params(linear_regression, {'n_jobs': [None]})"
   ]
  },
  {
   "cell_type": "markdown",
   "metadata": {},
   "source": [
    "В результате применения линейной регрессии полученное значение ***RMSE = 3134***."
   ]
  },
  {
   "cell_type": "markdown",
   "metadata": {},
   "source": [
    "Далее попробуем применить градиентный бустинг.\n",
    "Рассмотрим модель ***XGBRegressor***:"
   ]
  },
  {
   "cell_type": "code",
   "execution_count": 49,
   "metadata": {},
   "outputs": [],
   "source": [
    "xgbr = xgb.XGBRegressor()"
   ]
  },
  {
   "cell_type": "code",
   "execution_count": 54,
   "metadata": {},
   "outputs": [
    {
     "data": {
      "text/html": [
       "<div>\n",
       "<style scoped>\n",
       "    .dataframe tbody tr th:only-of-type {\n",
       "        vertical-align: middle;\n",
       "    }\n",
       "\n",
       "    .dataframe tbody tr th {\n",
       "        vertical-align: top;\n",
       "    }\n",
       "\n",
       "    .dataframe thead th {\n",
       "        text-align: right;\n",
       "    }\n",
       "</style>\n",
       "<table border=\"1\" class=\"dataframe\">\n",
       "  <thead>\n",
       "    <tr style=\"text-align: right;\">\n",
       "      <th></th>\n",
       "      <th>mean_fit_time</th>\n",
       "      <th>std_fit_time</th>\n",
       "      <th>mean_score_time</th>\n",
       "      <th>std_score_time</th>\n",
       "      <th>param_booster</th>\n",
       "      <th>param_max_depth</th>\n",
       "      <th>param_objective</th>\n",
       "      <th>param_seed</th>\n",
       "      <th>params</th>\n",
       "      <th>split0_test_score</th>\n",
       "      <th>split1_test_score</th>\n",
       "      <th>split2_test_score</th>\n",
       "      <th>split3_test_score</th>\n",
       "      <th>split4_test_score</th>\n",
       "      <th>mean_test_score</th>\n",
       "      <th>std_test_score</th>\n",
       "      <th>rank_test_score</th>\n",
       "    </tr>\n",
       "  </thead>\n",
       "  <tbody>\n",
       "    <tr>\n",
       "      <th>0</th>\n",
       "      <td>12.397414</td>\n",
       "      <td>0.271942</td>\n",
       "      <td>0.04853</td>\n",
       "      <td>0.005566</td>\n",
       "      <td>gbtree</td>\n",
       "      <td>11</td>\n",
       "      <td>reg:squarederror</td>\n",
       "      <td>12345</td>\n",
       "      <td>{'booster': 'gbtree', 'max_depth': 11, 'object...</td>\n",
       "      <td>-1724.894655</td>\n",
       "      <td>-1711.495061</td>\n",
       "      <td>-1730.604922</td>\n",
       "      <td>-1756.701574</td>\n",
       "      <td>-1719.536385</td>\n",
       "      <td>-1728.64652</td>\n",
       "      <td>15.376378</td>\n",
       "      <td>1</td>\n",
       "    </tr>\n",
       "  </tbody>\n",
       "</table>\n",
       "</div>"
      ],
      "text/plain": [
       "   mean_fit_time  std_fit_time  mean_score_time  std_score_time param_booster  \\\n",
       "0      12.397414      0.271942          0.04853        0.005566        gbtree   \n",
       "\n",
       "  param_max_depth   param_objective param_seed  \\\n",
       "0              11  reg:squarederror      12345   \n",
       "\n",
       "                                              params  split0_test_score  \\\n",
       "0  {'booster': 'gbtree', 'max_depth': 11, 'object...       -1724.894655   \n",
       "\n",
       "   split1_test_score  split2_test_score  split3_test_score  split4_test_score  \\\n",
       "0       -1711.495061       -1730.604922       -1756.701574       -1719.536385   \n",
       "\n",
       "   mean_test_score  std_test_score  rank_test_score  \n",
       "0      -1728.64652       15.376378                1  "
      ]
     },
     "metadata": {},
     "output_type": "display_data"
    }
   ],
   "source": [
    "warnings.simplefilter(action='ignore', category=UserWarning)\n",
    "\n",
    "get_best_params(\n",
    "    xgbr,\n",
    "    {\n",
    "     'booster': ['gbtree'],\n",
    "     'objective': ['reg:squarederror'],\n",
    "     'seed':[12345],\n",
    "     'max_depth': range(11,21,1)\n",
    "    }\n",
    ")"
   ]
  },
  {
   "cell_type": "markdown",
   "metadata": {},
   "source": [
    "Наилучшее значение метрики, ***RMSE = 1729***, получено при максимальной глубине деревьев = ***11***. Перебор других гиперпараметров не оказал существенного вляиния на значение метрики."
   ]
  },
  {
   "cell_type": "markdown",
   "metadata": {},
   "source": [
    "Рассмотрим модель ***LGBMRegressor***"
   ]
  },
  {
   "cell_type": "code",
   "execution_count": 50,
   "metadata": {},
   "outputs": [],
   "source": [
    "lgbr = lgb.LGBMRegressor()"
   ]
  },
  {
   "cell_type": "code",
   "execution_count": 56,
   "metadata": {},
   "outputs": [
    {
     "data": {
      "text/html": [
       "<div>\n",
       "<style scoped>\n",
       "    .dataframe tbody tr th:only-of-type {\n",
       "        vertical-align: middle;\n",
       "    }\n",
       "\n",
       "    .dataframe tbody tr th {\n",
       "        vertical-align: top;\n",
       "    }\n",
       "\n",
       "    .dataframe thead th {\n",
       "        text-align: right;\n",
       "    }\n",
       "</style>\n",
       "<table border=\"1\" class=\"dataframe\">\n",
       "  <thead>\n",
       "    <tr style=\"text-align: right;\">\n",
       "      <th></th>\n",
       "      <th>mean_fit_time</th>\n",
       "      <th>std_fit_time</th>\n",
       "      <th>mean_score_time</th>\n",
       "      <th>std_score_time</th>\n",
       "      <th>param_learning_rate</th>\n",
       "      <th>param_max_depth</th>\n",
       "      <th>param_n_estimators</th>\n",
       "      <th>param_num_leaves</th>\n",
       "      <th>params</th>\n",
       "      <th>split0_test_score</th>\n",
       "      <th>split1_test_score</th>\n",
       "      <th>split2_test_score</th>\n",
       "      <th>split3_test_score</th>\n",
       "      <th>split4_test_score</th>\n",
       "      <th>mean_test_score</th>\n",
       "      <th>std_test_score</th>\n",
       "      <th>rank_test_score</th>\n",
       "    </tr>\n",
       "  </thead>\n",
       "  <tbody>\n",
       "    <tr>\n",
       "      <th>0</th>\n",
       "      <td>2.185904</td>\n",
       "      <td>0.194251</td>\n",
       "      <td>0.157483</td>\n",
       "      <td>0.00197</td>\n",
       "      <td>0.23</td>\n",
       "      <td>-1</td>\n",
       "      <td>100</td>\n",
       "      <td>752</td>\n",
       "      <td>{'learning_rate': 0.23, 'max_depth': -1, 'n_es...</td>\n",
       "      <td>-1714.511843</td>\n",
       "      <td>-1690.433435</td>\n",
       "      <td>-1724.060061</td>\n",
       "      <td>-1729.577954</td>\n",
       "      <td>-1720.091823</td>\n",
       "      <td>-1715.735023</td>\n",
       "      <td>13.576312</td>\n",
       "      <td>1</td>\n",
       "    </tr>\n",
       "  </tbody>\n",
       "</table>\n",
       "</div>"
      ],
      "text/plain": [
       "   mean_fit_time  std_fit_time  mean_score_time  std_score_time  \\\n",
       "0       2.185904      0.194251         0.157483         0.00197   \n",
       "\n",
       "  param_learning_rate param_max_depth param_n_estimators param_num_leaves  \\\n",
       "0                0.23              -1                100              752   \n",
       "\n",
       "                                              params  split0_test_score  \\\n",
       "0  {'learning_rate': 0.23, 'max_depth': -1, 'n_es...       -1714.511843   \n",
       "\n",
       "   split1_test_score  split2_test_score  split3_test_score  split4_test_score  \\\n",
       "0       -1690.433435       -1724.060061       -1729.577954       -1720.091823   \n",
       "\n",
       "   mean_test_score  std_test_score  rank_test_score  \n",
       "0     -1715.735023       13.576312                1  "
      ]
     },
     "metadata": {},
     "output_type": "display_data"
    }
   ],
   "source": [
    "get_best_params(\n",
    "    lgbr,\n",
    "    {\n",
    "        'learning_rate':[0.23],\n",
    "        'max_depth':[-1],\n",
    "        'num_leaves':[752],\n",
    "        'n_estimators':range(100,500,50)\n",
    "    }\n",
    ")"
   ]
  },
  {
   "cell_type": "markdown",
   "metadata": {},
   "source": [
    "Наилучшее значение метрики, ***RMSE = 1716*** получено при следующих гиперпараметрах:\n",
    " - ***learning_rate*** = ***0.23***;\n",
    " - ***max_depth*** = ***не ограничено***;\n",
    " - ***num_leaves*** = ***752***;\n",
    " - ***n_estimators*** = ***100***."
   ]
  },
  {
   "cell_type": "markdown",
   "metadata": {},
   "source": [
    "Рассмотрим модель ***CatBoostRegressor***:"
   ]
  },
  {
   "cell_type": "code",
   "execution_count": 51,
   "metadata": {},
   "outputs": [],
   "source": [
    "cbr = cb.CatBoostRegressor()"
   ]
  },
  {
   "cell_type": "code",
   "execution_count": 58,
   "metadata": {},
   "outputs": [
    {
     "data": {
      "text/html": [
       "<div>\n",
       "<style scoped>\n",
       "    .dataframe tbody tr th:only-of-type {\n",
       "        vertical-align: middle;\n",
       "    }\n",
       "\n",
       "    .dataframe tbody tr th {\n",
       "        vertical-align: top;\n",
       "    }\n",
       "\n",
       "    .dataframe thead th {\n",
       "        text-align: right;\n",
       "    }\n",
       "</style>\n",
       "<table border=\"1\" class=\"dataframe\">\n",
       "  <thead>\n",
       "    <tr style=\"text-align: right;\">\n",
       "      <th></th>\n",
       "      <th>mean_fit_time</th>\n",
       "      <th>std_fit_time</th>\n",
       "      <th>mean_score_time</th>\n",
       "      <th>std_score_time</th>\n",
       "      <th>param_iterations</th>\n",
       "      <th>param_learning_rate</th>\n",
       "      <th>param_silent</th>\n",
       "      <th>params</th>\n",
       "      <th>split0_test_score</th>\n",
       "      <th>split1_test_score</th>\n",
       "      <th>split2_test_score</th>\n",
       "      <th>split3_test_score</th>\n",
       "      <th>split4_test_score</th>\n",
       "      <th>mean_test_score</th>\n",
       "      <th>std_test_score</th>\n",
       "      <th>rank_test_score</th>\n",
       "    </tr>\n",
       "  </thead>\n",
       "  <tbody>\n",
       "    <tr>\n",
       "      <th>0</th>\n",
       "      <td>8.395184</td>\n",
       "      <td>0.091399</td>\n",
       "      <td>0.011926</td>\n",
       "      <td>0.000961</td>\n",
       "      <td>901</td>\n",
       "      <td>0.38</td>\n",
       "      <td>True</td>\n",
       "      <td>{'iterations': 901, 'learning_rate': 0.38, 'si...</td>\n",
       "      <td>-1727.890355</td>\n",
       "      <td>-1705.478007</td>\n",
       "      <td>-1723.260552</td>\n",
       "      <td>-1748.861801</td>\n",
       "      <td>-1729.070611</td>\n",
       "      <td>-1726.912265</td>\n",
       "      <td>13.857559</td>\n",
       "      <td>1</td>\n",
       "    </tr>\n",
       "  </tbody>\n",
       "</table>\n",
       "</div>"
      ],
      "text/plain": [
       "   mean_fit_time  std_fit_time  mean_score_time  std_score_time  \\\n",
       "0       8.395184      0.091399         0.011926        0.000961   \n",
       "\n",
       "  param_iterations param_learning_rate param_silent  \\\n",
       "0              901                0.38         True   \n",
       "\n",
       "                                              params  split0_test_score  \\\n",
       "0  {'iterations': 901, 'learning_rate': 0.38, 'si...       -1727.890355   \n",
       "\n",
       "   split1_test_score  split2_test_score  split3_test_score  split4_test_score  \\\n",
       "0       -1705.478007       -1723.260552       -1748.861801       -1729.070611   \n",
       "\n",
       "   mean_test_score  std_test_score  rank_test_score  \n",
       "0     -1726.912265       13.857559                1  "
      ]
     },
     "metadata": {},
     "output_type": "display_data"
    }
   ],
   "source": [
    "get_best_params(\n",
    "    cbr,\n",
    "    {'silent':[True],\n",
    "     'iterations':[901],\n",
    "     'learning_rate':[0.38]           \n",
    "    }\n",
    ")    "
   ]
  },
  {
   "cell_type": "markdown",
   "metadata": {},
   "source": [
    "Наилучшее значение метрики, ***RMSE = 1727*** получено при следующих гиперпараметрах:\n",
    " - ***iterations*** = ***901***;\n",
    " - ***learning_rate*** = ***0.38***."
   ]
  },
  {
   "cell_type": "markdown",
   "metadata": {},
   "source": [
    "###### Вывод\n",
    "\n",
    "На данном этапе были рассмотрены следующие модели, потенциально позволяющие решить поставленную проектом задачу:\n",
    "\n",
    " - ***Дерево решений***;\n",
    " - ***Случайный лес***;\n",
    " - ***Линейная регрессия***;\n",
    " - ***XGBoost Regressor***;\n",
    " - ***LightGBM Regressor***;\n",
    " - ***CatBoost Regressor***.\n",
    " \n",
    " К каждой модели были подобраны гиперпараметры с помощью ***GridsearchCV*** для получения наилучшего значения ***RMSE***.\n",
    " \n",
    " В результате выделен ТОП-3 моделей с лучшим значением ***RMSE***:\n",
    " \n",
    "  1. ***LightGBM Regressor*** ( RMSE = 1716 );\n",
    "  2. ***CatBoost Regressor*** ( RMSE = 1727 );\n",
    "  3. ***XGBoost Regressor*** ( RMSE = 1729 ).\n",
    "  \n",
    "  Из моделей, не использующих бустинг, лучшее ***RMSE*** оказалось у ***Случайного леса*** ( RMSE = 1958 ).\n",
    "  \n",
    " Далее исследуем время обучения и предсказания цен на автомобили, а также ***RMSE*** на тестовой выборке каждой модели из ТОП-3 и ***Случайного леса***."
   ]
  },
  {
   "cell_type": "markdown",
   "metadata": {},
   "source": [
    "## Анализ моделей"
   ]
  },
  {
   "cell_type": "markdown",
   "metadata": {},
   "source": [
    "### LightGBM Regressor"
   ]
  },
  {
   "cell_type": "markdown",
   "metadata": {},
   "source": [
    "Обучим модель ***LightGBM Regressor*** с заданием подобранных на предыдущем этапе гиперпараметров и рассчитаем время обучения:"
   ]
  },
  {
   "cell_type": "code",
   "execution_count": 49,
   "metadata": {},
   "outputs": [
    {
     "name": "stdout",
     "output_type": "stream",
     "text": [
      "CPU times: user 31.4 s, sys: 353 ms, total: 31.7 s\n",
      "Wall time: 32.2 s\n"
     ]
    },
    {
     "data": {
      "text/plain": [
       "LGBMRegressor(learning_rate=0.23, num_leaves=752)"
      ]
     },
     "execution_count": 49,
     "metadata": {},
     "output_type": "execute_result"
    }
   ],
   "source": [
    "%%time\n",
    "\n",
    "lgbr = lgb.LGBMRegressor(\n",
    "    learning_rate = 0.23,\n",
    "    max_depth = -1,\n",
    "    num_leaves = 752,\n",
    "    n_estimators = 100\n",
    ")\n",
    "\n",
    "lgbr.fit(features_train, target_train)"
   ]
  },
  {
   "cell_type": "markdown",
   "metadata": {},
   "source": [
    "Время обучения ***LightGBM Regressor*** = 31.7 секунд.\n",
    "\n",
    "Рассчитаем время предсказания моделью целевого признака:"
   ]
  },
  {
   "cell_type": "code",
   "execution_count": 50,
   "metadata": {},
   "outputs": [
    {
     "name": "stdout",
     "output_type": "stream",
     "text": [
      "CPU times: user 1.44 s, sys: 9.28 ms, total: 1.45 s\n",
      "Wall time: 1.36 s\n"
     ]
    }
   ],
   "source": [
    "%%time\n",
    "lgbr_predictions = lgbr.predict(features_test)"
   ]
  },
  {
   "cell_type": "markdown",
   "metadata": {},
   "source": [
    "Время предсказаний ***LightGBM Regressor*** = 1.45 секунд."
   ]
  },
  {
   "cell_type": "markdown",
   "metadata": {},
   "source": [
    "Рассчитаем ***RMSE*** модели на тестовой выборке:"
   ]
  },
  {
   "cell_type": "code",
   "execution_count": 61,
   "metadata": {},
   "outputs": [
    {
     "name": "stdout",
     "output_type": "stream",
     "text": [
      "RMSE модели на тестовой выборке:  1672.0\n"
     ]
    }
   ],
   "source": [
    "rmse_lgbr = mean_squared_error(target_test, lgbr_predictions)**0.5\n",
    "print('RMSE модели на тестовой выборке: ', rmse_lgbr.round(0))"
   ]
  },
  {
   "cell_type": "markdown",
   "metadata": {},
   "source": [
    "### CatBoost Regressor"
   ]
  },
  {
   "cell_type": "markdown",
   "metadata": {},
   "source": [
    "Обучим модель ***CatBoost Regressor*** с заданием подобранных на предыдущем этапе гиперпараметров и рассчитаем время обучения:"
   ]
  },
  {
   "cell_type": "code",
   "execution_count": 62,
   "metadata": {},
   "outputs": [
    {
     "name": "stdout",
     "output_type": "stream",
     "text": [
      "CPU times: user 43.5 s, sys: 4.51 s, total: 48 s\n",
      "Wall time: 9.66 s\n"
     ]
    },
    {
     "data": {
      "text/plain": [
       "<catboost.core.CatBoostRegressor at 0x173770c40>"
      ]
     },
     "execution_count": 62,
     "metadata": {},
     "output_type": "execute_result"
    }
   ],
   "source": [
    "%%time\n",
    "\n",
    "cbr = cb.CatBoostRegressor(\n",
    "    silent = True,\n",
    "    iterations = 901,\n",
    "    learning_rate = 0.38,\n",
    ")\n",
    "\n",
    "cbr.fit(features_train, target_train)"
   ]
  },
  {
   "cell_type": "markdown",
   "metadata": {},
   "source": [
    "Время обучения ***CatBoost Regressor*** = 48 секунд.\n",
    "\n",
    "Рассчитаем время предсказания моделью целевого признака:"
   ]
  },
  {
   "cell_type": "code",
   "execution_count": 63,
   "metadata": {},
   "outputs": [
    {
     "name": "stdout",
     "output_type": "stream",
     "text": [
      "CPU times: user 131 ms, sys: 4.14 ms, total: 135 ms\n",
      "Wall time: 37.5 ms\n"
     ]
    }
   ],
   "source": [
    "%%time\n",
    "cbr_predictions = cbr.predict(features_test)"
   ]
  },
  {
   "cell_type": "markdown",
   "metadata": {},
   "source": [
    "Время предсказания ***CatBoost Regressor*** = 135 милисекунд."
   ]
  },
  {
   "cell_type": "markdown",
   "metadata": {},
   "source": [
    "Рассчитаем ***RMSE*** модели на тестовой выборке:"
   ]
  },
  {
   "cell_type": "code",
   "execution_count": 68,
   "metadata": {},
   "outputs": [
    {
     "name": "stdout",
     "output_type": "stream",
     "text": [
      "RMSE модели на тестовой выборке:  1702.0\n"
     ]
    }
   ],
   "source": [
    "rmse_сbr = mean_squared_error(target_test, cbr_predictions)**0.5\n",
    "print('RMSE модели на тестовой выборке: ', rmse_сbr.round(0))"
   ]
  },
  {
   "cell_type": "markdown",
   "metadata": {},
   "source": [
    "### XGBoost Regressor"
   ]
  },
  {
   "cell_type": "markdown",
   "metadata": {},
   "source": [
    "Обучим модель ***XGBoost Regressor*** с заданием подобранных на предыдущем этапе гиперпараметров и рассчитаем время обучения:"
   ]
  },
  {
   "cell_type": "code",
   "execution_count": 69,
   "metadata": {},
   "outputs": [
    {
     "name": "stdout",
     "output_type": "stream",
     "text": [
      "CPU times: user 1min 48s, sys: 7.4 s, total: 1min 55s\n",
      "Wall time: 15.4 s\n"
     ]
    },
    {
     "data": {
      "text/plain": [
       "XGBRegressor(base_score=0.5, booster='gbtree', colsample_bylevel=1,\n",
       "             colsample_bynode=1, colsample_bytree=1, gamma=0, gpu_id=-1,\n",
       "             importance_type='gain', interaction_constraints='',\n",
       "             learning_rate=0.300000012, max_delta_step=0, max_depth=11,\n",
       "             min_child_weight=1, missing=nan, monotone_constraints='()',\n",
       "             n_estimators=100, n_jobs=8, num_parallel_tree=1,\n",
       "             random_state=12345, reg_alpha=0, reg_lambda=1, scale_pos_weight=1,\n",
       "             seed=12345, subsample=1, tree_method='exact',\n",
       "             validate_parameters=1, verbosity=None)"
      ]
     },
     "execution_count": 69,
     "metadata": {},
     "output_type": "execute_result"
    }
   ],
   "source": [
    "%%time\n",
    "\n",
    "xgbr = xgb.XGBRegressor(\n",
    "    booster = 'gbtree',\n",
    "    objective = 'reg:squarederror',\n",
    "    seed = 12345,\n",
    "    max_depth = 11\n",
    ")\n",
    "\n",
    "xgbr.fit(features_train, target_train)"
   ]
  },
  {
   "cell_type": "markdown",
   "metadata": {},
   "source": [
    "Время обучения ***XGBoost Regressor*** = 1 минута 55 секунд.\n",
    "\n",
    "Рассчитаем время предсказания моделью целевого признака:"
   ]
  },
  {
   "cell_type": "code",
   "execution_count": 70,
   "metadata": {},
   "outputs": [
    {
     "name": "stdout",
     "output_type": "stream",
     "text": [
      "CPU times: user 659 ms, sys: 18.8 ms, total: 678 ms\n",
      "Wall time: 115 ms\n"
     ]
    }
   ],
   "source": [
    "%%time\n",
    "xgbr_predictions = xgbr.predict(pd.DataFrame(features_test))"
   ]
  },
  {
   "cell_type": "markdown",
   "metadata": {},
   "source": [
    "Время предсказания ***XGBoost Regressor*** = 678 милисекунда."
   ]
  },
  {
   "cell_type": "markdown",
   "metadata": {},
   "source": [
    "Рассчитаем ***RMSE*** модели на тестовой выборке:"
   ]
  },
  {
   "cell_type": "code",
   "execution_count": 71,
   "metadata": {},
   "outputs": [
    {
     "name": "stdout",
     "output_type": "stream",
     "text": [
      "RMSE модели на тестовой выборке:  1683.0\n"
     ]
    }
   ],
   "source": [
    "rmse_xgbr = mean_squared_error(target_test, xgbr_predictions)**0.5\n",
    "print('RMSE модели на тестовой выборке: ', rmse_xgbr.round(0))"
   ]
  },
  {
   "cell_type": "markdown",
   "metadata": {},
   "source": [
    "### Случайный лес"
   ]
  },
  {
   "cell_type": "markdown",
   "metadata": {},
   "source": [
    "Обучим модель ***Случайный лес*** с заданием подобранных на предыдущем этапе гиперпараметров и рассчитаем время обучения:"
   ]
  },
  {
   "cell_type": "code",
   "execution_count": 46,
   "metadata": {},
   "outputs": [
    {
     "name": "stdout",
     "output_type": "stream",
     "text": [
      "CPU times: user 30.2 s, sys: 0 ns, total: 30.2 s\n",
      "Wall time: 30.5 s\n"
     ]
    },
    {
     "data": {
      "text/plain": [
       "RandomForestRegressor(max_depth=11, n_estimators=51)"
      ]
     },
     "execution_count": 46,
     "metadata": {},
     "output_type": "execute_result"
    }
   ],
   "source": [
    "%%time\n",
    "\n",
    "random_forest = RandomForestRegressor(\n",
    "    max_depth = 11,\n",
    "    n_estimators = 51\n",
    ")\n",
    "\n",
    "random_forest.fit(features_train, target_train)"
   ]
  },
  {
   "cell_type": "markdown",
   "metadata": {},
   "source": [
    "Время обучения ***Случайный лес*** = 30.2 секунды.\n",
    "\n",
    "Рассчитаем время предсказания моделью целевого признака:"
   ]
  },
  {
   "cell_type": "code",
   "execution_count": 47,
   "metadata": {},
   "outputs": [
    {
     "name": "stdout",
     "output_type": "stream",
     "text": [
      "CPU times: user 439 ms, sys: 0 ns, total: 439 ms\n",
      "Wall time: 437 ms\n"
     ]
    }
   ],
   "source": [
    "%%time\n",
    "random_forest_predictions = random_forest.predict(pd.DataFrame(features_test))"
   ]
  },
  {
   "cell_type": "markdown",
   "metadata": {},
   "source": [
    "Время предсказания ***Случайный лес*** = 439 милисекунд."
   ]
  },
  {
   "cell_type": "markdown",
   "metadata": {},
   "source": [
    "Рассчитаем ***RMSE*** модели на тестовой выборке:"
   ]
  },
  {
   "cell_type": "code",
   "execution_count": 48,
   "metadata": {},
   "outputs": [
    {
     "name": "stdout",
     "output_type": "stream",
     "text": [
      "RMSE модели на тестовой выборке:  1933.0\n"
     ]
    }
   ],
   "source": [
    "rmse_random_forest = mean_squared_error(target_test, random_forest_predictions)**0.5\n",
    "print('RMSE модели на тестовой выборке: ', rmse_random_forest.round(0))"
   ]
  },
  {
   "cell_type": "markdown",
   "metadata": {},
   "source": [
    "###### Вывод"
   ]
  },
  {
   "cell_type": "markdown",
   "metadata": {},
   "source": [
    "Сформируем итоговую таблицу:"
   ]
  },
  {
   "cell_type": "code",
   "execution_count": 52,
   "metadata": {},
   "outputs": [
    {
     "data": {
      "text/html": [
       "<div>\n",
       "<style scoped>\n",
       "    .dataframe tbody tr th:only-of-type {\n",
       "        vertical-align: middle;\n",
       "    }\n",
       "\n",
       "    .dataframe tbody tr th {\n",
       "        vertical-align: top;\n",
       "    }\n",
       "\n",
       "    .dataframe thead th {\n",
       "        text-align: right;\n",
       "    }\n",
       "</style>\n",
       "<table border=\"1\" class=\"dataframe\">\n",
       "  <thead>\n",
       "    <tr style=\"text-align: right;\">\n",
       "      <th></th>\n",
       "      <th>Модель</th>\n",
       "      <th>RMSE</th>\n",
       "      <th>Время обучения, сек</th>\n",
       "      <th>Время предсказаний, сек</th>\n",
       "    </tr>\n",
       "  </thead>\n",
       "  <tbody>\n",
       "    <tr>\n",
       "      <td>1</td>\n",
       "      <td>LightGBM Regressor</td>\n",
       "      <td>1672</td>\n",
       "      <td>31.7</td>\n",
       "      <td>1.450</td>\n",
       "    </tr>\n",
       "    <tr>\n",
       "      <td>3</td>\n",
       "      <td>XGBoost Regressor</td>\n",
       "      <td>1683</td>\n",
       "      <td>115.0</td>\n",
       "      <td>0.678</td>\n",
       "    </tr>\n",
       "    <tr>\n",
       "      <td>2</td>\n",
       "      <td>CatBoost Regressor</td>\n",
       "      <td>1702</td>\n",
       "      <td>48.0</td>\n",
       "      <td>0.135</td>\n",
       "    </tr>\n",
       "    <tr>\n",
       "      <td>4</td>\n",
       "      <td>Случайный лес</td>\n",
       "      <td>1933</td>\n",
       "      <td>30.2</td>\n",
       "      <td>439.000</td>\n",
       "    </tr>\n",
       "  </tbody>\n",
       "</table>\n",
       "</div>"
      ],
      "text/plain": [
       "               Модель  RMSE  Время обучения, сек  Время предсказаний, сек\n",
       "1  LightGBM Regressor  1672                 31.7                    1.450\n",
       "3   XGBoost Regressor  1683                115.0                    0.678\n",
       "2  CatBoost Regressor  1702                 48.0                    0.135\n",
       "4       Случайный лес  1933                 30.2                  439.000"
      ]
     },
     "execution_count": 52,
     "metadata": {},
     "output_type": "execute_result"
    }
   ],
   "source": [
    "results = pd.DataFrame(\n",
    "    {\n",
    "        'Модель':['LightGBM Regressor', 'CatBoost Regressor', 'XGBoost Regressor', 'Случайный лес'],\n",
    "        'RMSE':[1672, 1702, 1683, 1933],\n",
    "        'Время обучения, сек': [31.7, 48, 115, 30.2],\n",
    "        'Время предсказаний, сек': [1.45, 0.135, 0.678, 439]\n",
    "    },\n",
    "    index = [1,2,3,4]\n",
    ")\n",
    "\n",
    "results.RMSE = results.RMSE.astype(int)\n",
    "\n",
    "results.sort_values(by = 'RMSE')"
   ]
  },
  {
   "cell_type": "markdown",
   "metadata": {},
   "source": [
    "Наиболее качественной моделью остается ***LightGBM Regressor***. Наименее качественной оказалась модель, построенная с помощью ***Случайного леса***.\n",
    "\n",
    "С точки зрения времени обучения, важного заказчику, лидирующую позицию занимает ***Случайный лес***. \n",
    "Наибольшее время обучения у ***XGBoost Regressor***.\n",
    "\n",
    "Так как у ***Случайного леса*** наименьшее качество, рекомендуемая для потребностей заказчика модель - ***LightGBM Regressor***, лидирующая по качеству и показывающая время обучения, наиболее близкое к ***Случайному лесу***."
   ]
  },
  {
   "cell_type": "markdown",
   "metadata": {},
   "source": [
    "Значимость признаков для ***LightGBM Regressor*** приведена ниже:"
   ]
  },
  {
   "cell_type": "code",
   "execution_count": 73,
   "metadata": {
    "tags": []
   },
   "outputs": [
    {
     "data": {
      "image/png": "[encoded data removed]",
      "text/plain": [
       "<Figure size 1152x648 with 1 Axes>"
      ]
     },
     "metadata": {
      "needs_background": "light"
     },
     "output_type": "display_data"
    }
   ],
   "source": [
    "lgb.plot_importance(\n",
    "    lgbr,\n",
    "    height=0.4,\n",
    "    title='Значимость признаков',\n",
    "    xlabel='Значимость признаков',\n",
    "    max_num_features=None,\n",
    "    ignore_zero=True,\n",
    "    figsize=(16,9),\n",
    "    dpi=None,\n",
    "    grid=True,\n",
    "    precision=3\n",
    ")\n",
    "plt.title('Значимость признаков',fontsize = 18)\n",
    "plt.xticks(fontsize=14)\n",
    "plt.yticks(fontsize=14)\n",
    "plt.ylabel('',fontsize=14)\n",
    "plt.show()"
   ]
  },
  {
   "cell_type": "markdown",
   "metadata": {},
   "source": [
    "## Общий вывод"
   ]
  },
  {
   "cell_type": "markdown",
   "metadata": {},
   "source": [
    "В ходе данного проекта данные о выставленных на продажу автомобилях были изучены, предобработаны и разделены на две выборки: обучающую и тестовую в соотношении ***75% : 25%***.\n",
    "\n",
    "Выборки были использованы для подбора, обучения и тестирования моделей: ***Дерево решений***, ***Случайный лес***, ***Логистическая ререссия***, ***XGBoost Regressor***, ***LightGBM Regressor***, ***CatBoost Regressor***.\n",
    "\n",
    "В соответствии с условиями задачи целевой метрикой качества моделей было выбрано ***RMSE***.\n",
    "\n",
    "Для подбора гиперпараметров, а также предварительной оценки качества моделей методом кросс-валидации был применен ***GridSearchCV***.\n",
    "\n",
    "В результате подбора моделей были выбраны четыре наиболее перспективных:\n",
    "\n",
    "  1. ***LightGBM Regressor***;\n",
    "  2. ***CatBoost Regressor***;\n",
    "  3. ***XGBoost Regressor***;\n",
    "  4. ***Случайный лес***,\n",
    "  \n",
    "которые были протестированы на скорость обучения и качество предсказаний на тестовой выборке.\n",
    "\n",
    "Наилучшей с точки зрения требований заказчика оказалась модель ***LightGBM Regressor***, с ***RMSE*** на тестовой выборке = ***1672*** и с ***31.7 секундами***, затраченными на обучение.\n",
    "\n",
    "Модель предсказывает цену на подержаные автомобили со среднеквадратичной разницей между расчетными и фактическими значениями в ***1672*** евро. Ошибка достаточно высока, и ее значение связано с множеством некорректных данных в исходном датасете, изменения которых не было возможности согласовать с заказчиком, в результаты чего данные были предобработаны с минимальными потерями.\n",
    "\n",
    "С помощью ***LightGBM Regressor*** определены значимость признаков для предсказания моделью целевого признака. Ниже отражен ТОП-5 в порядке убывания значимости:\n",
    "\n",
    "1. Регион продажи, определяемый почтовым кодом;\n",
    "2. Мощность двигателя;\n",
    "3. Год регистрации автомобиля;\n",
    "4. Модель автомобиля;\n",
    "5. Месяц регистрации автомобиля.\n",
    "\n",
    "ТОП выглядит правдоподобным: в разных странах разные цены на подержаные автомобили, что часто используется перегонщиками автомобилей для последующей перепродажи. Мощность, возраст и модель автомобиля в жизни также играют важную роль при формировании цены. Попадание в ТОП-5 признаков месяца регистрации автомобилей можно связать с годом регистрации, что в совокупности определяют его возраст, но при этом, год регистрации является определяющим возраст признаком.\n",
    "\n",
    "Подробнее со значимсотью признаков можно ознакомиться в предыдущем разделе."
   ]
  }
 ],
 "metadata": {
  "ExecuteTimeLog": [
   {
    "duration": 1074,
    "start_time": "2021-09-25T17:14:49.579Z"
   },
   {
    "duration": 3,
    "start_time": "2021-09-25T17:14:56.400Z"
   },
   {
    "duration": 1856,
    "start_time": "2021-09-25T17:16:28.445Z"
   },
   {
    "duration": 48,
    "start_time": "2021-09-25T17:16:40.174Z"
   },
   {
    "duration": 360,
    "start_time": "2021-09-26T17:31:50.663Z"
   },
   {
    "duration": 823,
    "start_time": "2021-09-26T17:31:54.362Z"
   },
   {
    "duration": 2152,
    "start_time": "2021-09-26T17:31:55.188Z"
   },
   {
    "duration": 221,
    "start_time": "2021-09-26T17:31:57.342Z"
   },
   {
    "duration": 199,
    "start_time": "2021-09-26T17:32:11.350Z"
   },
   {
    "duration": 1071,
    "start_time": "2021-09-26T17:33:39.295Z"
   },
   {
    "duration": 2686,
    "start_time": "2021-09-26T17:34:40.478Z"
   },
   {
    "duration": 511,
    "start_time": "2021-09-26T17:34:49.608Z"
   },
   {
    "duration": 203,
    "start_time": "2021-09-26T17:35:48.366Z"
   },
   {
    "duration": 317,
    "start_time": "2021-09-26T18:13:53.294Z"
   },
   {
    "duration": 621,
    "start_time": "2021-09-26T18:14:10.830Z"
   },
   {
    "duration": 623,
    "start_time": "2021-09-26T18:14:19.491Z"
   },
   {
    "duration": 614,
    "start_time": "2021-09-26T18:14:35.312Z"
   },
   {
    "duration": 693,
    "start_time": "2021-09-26T18:17:22.233Z"
   },
   {
    "duration": 641,
    "start_time": "2021-09-26T18:17:54.788Z"
   },
   {
    "duration": 301,
    "start_time": "2021-09-26T18:19:00.831Z"
   },
   {
    "duration": 52,
    "start_time": "2021-09-26T18:19:27.265Z"
   },
   {
    "duration": 4,
    "start_time": "2021-09-26T18:22:48.074Z"
   },
   {
    "duration": 4,
    "start_time": "2021-09-26T18:26:10.162Z"
   },
   {
    "duration": 562,
    "start_time": "2021-09-26T18:26:19.139Z"
   },
   {
    "duration": 4,
    "start_time": "2021-09-26T18:26:47.016Z"
   },
   {
    "duration": 272,
    "start_time": "2021-09-26T18:26:49.665Z"
   },
   {
    "duration": 4,
    "start_time": "2021-09-26T18:27:32.007Z"
   },
   {
    "duration": 252,
    "start_time": "2021-09-26T18:27:35.681Z"
   },
   {
    "duration": 4,
    "start_time": "2021-09-26T18:29:05.908Z"
   },
   {
    "duration": 270,
    "start_time": "2021-09-26T18:29:09.315Z"
   },
   {
    "duration": 4,
    "start_time": "2021-09-26T18:29:23.818Z"
   },
   {
    "duration": 268,
    "start_time": "2021-09-26T18:29:26.564Z"
   },
   {
    "duration": 81,
    "start_time": "2021-09-26T18:30:07.525Z"
   },
   {
    "duration": 5,
    "start_time": "2021-09-26T18:30:35.425Z"
   },
   {
    "duration": 286,
    "start_time": "2021-09-26T18:30:38.180Z"
   },
   {
    "duration": 81,
    "start_time": "2021-09-26T18:32:33.626Z"
   },
   {
    "duration": 257,
    "start_time": "2021-09-26T18:32:36.422Z"
   },
   {
    "duration": 522,
    "start_time": "2021-09-26T18:33:05.614Z"
   },
   {
    "duration": 88,
    "start_time": "2021-09-26T18:33:28.463Z"
   },
   {
    "duration": 4,
    "start_time": "2021-09-26T18:33:42.847Z"
   },
   {
    "duration": 258,
    "start_time": "2021-09-26T18:33:45.787Z"
   },
   {
    "duration": 77,
    "start_time": "2021-09-26T18:34:14.542Z"
   },
   {
    "duration": 5,
    "start_time": "2021-09-26T18:34:29.848Z"
   },
   {
    "duration": 257,
    "start_time": "2021-09-26T18:34:33.711Z"
   },
   {
    "duration": 4,
    "start_time": "2021-09-26T18:34:47.069Z"
   },
   {
    "duration": 265,
    "start_time": "2021-09-26T18:34:50.140Z"
   },
   {
    "duration": 4,
    "start_time": "2021-09-26T18:34:57.944Z"
   },
   {
    "duration": 265,
    "start_time": "2021-09-26T18:35:01.138Z"
   },
   {
    "duration": 4,
    "start_time": "2021-09-26T18:35:19.732Z"
   },
   {
    "duration": 253,
    "start_time": "2021-09-26T18:35:23.014Z"
   },
   {
    "duration": 4,
    "start_time": "2021-09-26T18:42:46.155Z"
   },
   {
    "duration": 520,
    "start_time": "2021-09-26T18:42:49.532Z"
   },
   {
    "duration": 5,
    "start_time": "2021-09-26T18:43:16.852Z"
   },
   {
    "duration": 525,
    "start_time": "2021-09-26T18:43:19.314Z"
   },
   {
    "duration": 4,
    "start_time": "2021-09-26T18:43:41.214Z"
   },
   {
    "duration": 527,
    "start_time": "2021-09-26T18:43:45.075Z"
   },
   {
    "duration": 31,
    "start_time": "2021-09-26T18:45:17.554Z"
   },
   {
    "duration": 313,
    "start_time": "2021-09-26T18:45:31.399Z"
   },
   {
    "duration": 107,
    "start_time": "2021-09-26T18:46:04.493Z"
   },
   {
    "duration": 1464,
    "start_time": "2021-09-26T18:46:09.287Z"
   },
   {
    "duration": 33,
    "start_time": "2021-09-26T18:46:22.684Z"
   },
   {
    "duration": 35,
    "start_time": "2021-09-26T18:46:35.389Z"
   },
   {
    "duration": 316,
    "start_time": "2021-09-26T18:46:45.330Z"
   },
   {
    "duration": 32,
    "start_time": "2021-09-26T18:46:53.243Z"
   },
   {
    "duration": 26,
    "start_time": "2021-09-26T18:47:00.514Z"
   },
   {
    "duration": 286,
    "start_time": "2021-09-26T18:47:09.584Z"
   },
   {
    "duration": 317,
    "start_time": "2021-09-26T18:48:31.812Z"
   },
   {
    "duration": 29,
    "start_time": "2021-09-26T18:51:03.604Z"
   },
   {
    "duration": 24,
    "start_time": "2021-09-26T18:51:46.250Z"
   },
   {
    "duration": 652,
    "start_time": "2021-09-26T18:52:10.591Z"
   },
   {
    "duration": 116,
    "start_time": "2021-09-26T18:53:00.339Z"
   },
   {
    "duration": 371,
    "start_time": "2021-09-26T18:53:11.416Z"
   },
   {
    "duration": 86,
    "start_time": "2021-09-26T18:53:28.585Z"
   },
   {
    "duration": 123,
    "start_time": "2021-09-26T18:53:37.798Z"
   },
   {
    "duration": 123,
    "start_time": "2021-09-26T18:53:58.469Z"
   },
   {
    "duration": 141,
    "start_time": "2021-09-26T18:54:07.225Z"
   },
   {
    "duration": 147,
    "start_time": "2021-09-26T18:54:11.872Z"
   },
   {
    "duration": 145,
    "start_time": "2021-09-26T18:54:26.638Z"
   },
   {
    "duration": 6,
    "start_time": "2021-09-26T18:55:11.341Z"
   },
   {
    "duration": 895,
    "start_time": "2021-09-26T18:55:14.849Z"
   },
   {
    "duration": 89,
    "start_time": "2021-09-26T18:56:11.484Z"
   },
   {
    "duration": 4,
    "start_time": "2021-09-26T18:56:19.602Z"
   },
   {
    "duration": 626,
    "start_time": "2021-09-26T18:56:24.195Z"
   },
   {
    "duration": 5,
    "start_time": "2021-09-26T18:56:48.464Z"
   },
   {
    "duration": 617,
    "start_time": "2021-09-26T18:56:52.126Z"
   },
   {
    "duration": 1028,
    "start_time": "2021-09-26T19:28:19.438Z"
   },
   {
    "duration": 134,
    "start_time": "2021-09-26T19:28:40.615Z"
   },
   {
    "duration": 978,
    "start_time": "2021-09-26T19:52:20.967Z"
   },
   {
    "duration": 1485,
    "start_time": "2021-09-26T19:53:03.210Z"
   },
   {
    "duration": 47,
    "start_time": "2021-09-26T19:53:31.918Z"
   },
   {
    "duration": 28,
    "start_time": "2021-09-26T19:54:12.457Z"
   },
   {
    "duration": 14,
    "start_time": "2021-09-26T19:56:53.654Z"
   },
   {
    "duration": 7,
    "start_time": "2021-09-26T19:58:21.483Z"
   },
   {
    "duration": 364,
    "start_time": "2021-09-26T19:58:53.462Z"
   },
   {
    "duration": 629,
    "start_time": "2021-09-26T19:59:05.135Z"
   },
   {
    "duration": 242,
    "start_time": "2021-09-26T19:59:19.069Z"
   },
   {
    "duration": 248,
    "start_time": "2021-09-26T19:59:48.187Z"
   },
   {
    "duration": 546,
    "start_time": "2021-09-26T20:00:19.525Z"
   },
   {
    "duration": 563,
    "start_time": "2021-09-26T20:01:35.484Z"
   },
   {
    "duration": 580,
    "start_time": "2021-09-26T20:01:46.838Z"
   },
   {
    "duration": 571,
    "start_time": "2021-09-26T20:02:00.152Z"
   },
   {
    "duration": 850,
    "start_time": "2021-09-26T20:02:26.125Z"
   },
   {
    "duration": 789,
    "start_time": "2021-09-26T20:02:34.733Z"
   },
   {
    "duration": 758,
    "start_time": "2021-09-26T20:02:50.612Z"
   },
   {
    "duration": 333,
    "start_time": "2021-09-26T20:03:39.870Z"
   },
   {
    "duration": 575,
    "start_time": "2021-09-26T20:03:49.894Z"
   },
   {
    "duration": 883,
    "start_time": "2021-09-26T20:04:25.575Z"
   },
   {
    "duration": 547,
    "start_time": "2021-09-26T20:04:31.901Z"
   },
   {
    "duration": 636,
    "start_time": "2021-09-26T20:04:41.552Z"
   },
   {
    "duration": 552,
    "start_time": "2021-09-26T20:04:51.886Z"
   },
   {
    "duration": 568,
    "start_time": "2021-09-26T20:05:08.490Z"
   },
   {
    "duration": 533,
    "start_time": "2021-09-26T20:05:21.012Z"
   },
   {
    "duration": 544,
    "start_time": "2021-09-26T20:05:33.967Z"
   },
   {
    "duration": 691,
    "start_time": "2021-09-26T20:05:43.259Z"
   },
   {
    "duration": 448,
    "start_time": "2021-09-26T20:06:54.854Z"
   },
   {
    "duration": 297,
    "start_time": "2021-09-26T20:07:18.413Z"
   },
   {
    "duration": 44,
    "start_time": "2021-09-26T20:08:46.163Z"
   },
   {
    "duration": 724,
    "start_time": "2021-09-26T20:09:13.030Z"
   },
   {
    "duration": 259,
    "start_time": "2021-09-26T20:09:53.857Z"
   },
   {
    "duration": 247,
    "start_time": "2021-09-26T20:10:08.617Z"
   },
   {
    "duration": 5264,
    "start_time": "2021-09-26T20:10:14.466Z"
   },
   {
    "duration": 878,
    "start_time": "2021-09-26T20:10:51.523Z"
   },
   {
    "duration": 50,
    "start_time": "2021-09-26T20:12:43.560Z"
   },
   {
    "duration": 506,
    "start_time": "2021-09-26T20:13:35.170Z"
   },
   {
    "duration": 231,
    "start_time": "2021-09-26T20:14:04.753Z"
   },
   {
    "duration": 269,
    "start_time": "2021-09-26T20:14:11.352Z"
   },
   {
    "duration": 292,
    "start_time": "2021-09-26T20:14:26.393Z"
   },
   {
    "duration": 52,
    "start_time": "2021-09-26T20:15:11.182Z"
   },
   {
    "duration": 43,
    "start_time": "2021-09-26T20:15:25.191Z"
   },
   {
    "duration": 52,
    "start_time": "2021-09-26T20:18:49.342Z"
   },
   {
    "duration": 13,
    "start_time": "2021-09-26T20:44:13.519Z"
   },
   {
    "duration": 611,
    "start_time": "2021-09-27T20:19:30.425Z"
   },
   {
    "duration": 1365,
    "start_time": "2021-09-27T20:19:31.038Z"
   },
   {
    "duration": 142,
    "start_time": "2021-09-27T20:19:32.405Z"
   },
   {
    "duration": 622,
    "start_time": "2021-09-27T20:19:32.549Z"
   },
   {
    "duration": 428,
    "start_time": "2021-09-27T20:19:33.173Z"
   },
   {
    "duration": 3,
    "start_time": "2021-09-27T20:19:33.602Z"
   },
   {
    "duration": 438,
    "start_time": "2021-09-27T20:19:33.607Z"
   },
   {
    "duration": 101,
    "start_time": "2021-09-27T20:19:34.049Z"
   },
   {
    "duration": 853,
    "start_time": "2021-09-27T20:19:50.742Z"
   },
   {
    "duration": 3,
    "start_time": "2021-09-27T20:20:14.268Z"
   },
   {
    "duration": 1242,
    "start_time": "2021-09-27T20:20:21.309Z"
   },
   {
    "duration": 1159,
    "start_time": "2021-09-27T20:20:32.645Z"
   },
   {
    "duration": 1277,
    "start_time": "2021-09-27T20:20:54.507Z"
   },
   {
    "duration": 3,
    "start_time": "2021-09-27T20:21:25.426Z"
   },
   {
    "duration": 780,
    "start_time": "2021-09-27T20:21:38.643Z"
   },
   {
    "duration": 244,
    "start_time": "2021-09-27T20:22:16.044Z"
   },
   {
    "duration": 177,
    "start_time": "2021-09-27T20:22:22.012Z"
   },
   {
    "duration": 176,
    "start_time": "2021-09-27T20:22:38.141Z"
   },
   {
    "duration": 202,
    "start_time": "2021-09-27T20:22:51.037Z"
   },
   {
    "duration": 304,
    "start_time": "2021-09-27T20:24:01.629Z"
   },
   {
    "duration": 316,
    "start_time": "2021-09-27T20:24:10.072Z"
   },
   {
    "duration": 269,
    "start_time": "2021-09-27T20:25:00.887Z"
   },
   {
    "duration": 309,
    "start_time": "2021-09-27T20:25:08.684Z"
   },
   {
    "duration": 322,
    "start_time": "2021-09-27T20:33:01.168Z"
   },
   {
    "duration": 566,
    "start_time": "2021-09-27T20:33:23.255Z"
   },
   {
    "duration": 472,
    "start_time": "2021-09-27T20:33:32.939Z"
   },
   {
    "duration": 311,
    "start_time": "2021-09-27T20:40:29.194Z"
   },
   {
    "duration": 333,
    "start_time": "2021-09-27T20:40:40.232Z"
   },
   {
    "duration": 318,
    "start_time": "2021-09-27T20:40:55.437Z"
   },
   {
    "duration": 340,
    "start_time": "2021-09-27T20:41:10.530Z"
   },
   {
    "duration": 319,
    "start_time": "2021-09-27T20:41:19.557Z"
   },
   {
    "duration": 263,
    "start_time": "2021-09-27T20:41:26.291Z"
   },
   {
    "duration": 339,
    "start_time": "2021-09-27T20:41:34.347Z"
   },
   {
    "duration": 409,
    "start_time": "2021-09-27T20:44:24.089Z"
   },
   {
    "duration": 1291,
    "start_time": "2021-09-27T20:45:06.296Z"
   },
   {
    "duration": 466,
    "start_time": "2021-09-27T20:46:18.932Z"
   },
   {
    "duration": 427,
    "start_time": "2021-09-27T20:46:46.488Z"
   },
   {
    "duration": 413,
    "start_time": "2021-09-27T20:47:08.667Z"
   },
   {
    "duration": 407,
    "start_time": "2021-09-27T20:47:25.535Z"
   },
   {
    "duration": 650,
    "start_time": "2021-09-27T20:55:24.582Z"
   },
   {
    "duration": 550,
    "start_time": "2021-09-27T20:57:35.308Z"
   },
   {
    "duration": 422,
    "start_time": "2021-09-27T20:57:48.191Z"
   },
   {
    "duration": 422,
    "start_time": "2021-09-27T20:58:03.695Z"
   },
   {
    "duration": 463,
    "start_time": "2021-09-27T20:58:08.958Z"
   },
   {
    "duration": 540,
    "start_time": "2021-09-27T20:58:37.501Z"
   },
   {
    "duration": 81,
    "start_time": "2021-09-27T21:05:55.379Z"
   },
   {
    "duration": 589,
    "start_time": "2021-09-27T21:08:34.296Z"
   },
   {
    "duration": 582,
    "start_time": "2021-09-27T21:08:58.796Z"
   },
   {
    "duration": 753,
    "start_time": "2021-09-27T21:09:26.683Z"
   },
   {
    "duration": 662,
    "start_time": "2021-09-27T21:09:50.383Z"
   },
   {
    "duration": 748,
    "start_time": "2021-09-27T21:10:09.568Z"
   },
   {
    "duration": 474,
    "start_time": "2021-09-27T21:10:23.324Z"
   },
   {
    "duration": 392,
    "start_time": "2021-09-27T21:13:32.375Z"
   },
   {
    "duration": 981,
    "start_time": "2021-09-27T21:13:57.321Z"
   },
   {
    "duration": 560,
    "start_time": "2021-09-27T21:14:09.812Z"
   },
   {
    "duration": 434,
    "start_time": "2021-09-27T21:14:42.687Z"
   },
   {
    "duration": 528,
    "start_time": "2021-09-27T21:15:15.184Z"
   },
   {
    "duration": 596,
    "start_time": "2021-09-27T21:15:58.841Z"
   },
   {
    "duration": 615,
    "start_time": "2021-09-27T21:16:38.842Z"
   },
   {
    "duration": 622,
    "start_time": "2021-09-27T21:16:54.023Z"
   },
   {
    "duration": 783,
    "start_time": "2021-09-27T21:17:06.300Z"
   },
   {
    "duration": 622,
    "start_time": "2021-09-27T21:18:35.085Z"
   },
   {
    "duration": 602,
    "start_time": "2021-09-27T21:20:24.837Z"
   },
   {
    "duration": 582,
    "start_time": "2021-09-27T21:20:59.196Z"
   },
   {
    "duration": 646,
    "start_time": "2021-09-27T21:21:10.168Z"
   },
   {
    "duration": 6,
    "start_time": "2021-09-27T21:25:57.021Z"
   },
   {
    "duration": 850,
    "start_time": "2021-09-27T21:27:47.299Z"
   },
   {
    "duration": 5,
    "start_time": "2021-09-27T21:29:38.980Z"
   },
   {
    "duration": 609,
    "start_time": "2021-09-27T21:29:43.529Z"
   },
   {
    "duration": 6,
    "start_time": "2021-09-27T21:30:12.136Z"
   },
   {
    "duration": 586,
    "start_time": "2021-09-27T21:30:16.929Z"
   },
   {
    "duration": 1131,
    "start_time": "2021-09-27T21:32:35.025Z"
   },
   {
    "duration": 6,
    "start_time": "2021-09-27T21:34:33.455Z"
   },
   {
    "duration": 235,
    "start_time": "2021-09-27T21:35:08.699Z"
   },
   {
    "duration": 6,
    "start_time": "2021-09-27T21:36:21.110Z"
   },
   {
    "duration": 1418,
    "start_time": "2021-09-27T21:36:30.979Z"
   },
   {
    "duration": 6,
    "start_time": "2021-09-27T21:37:28.823Z"
   },
   {
    "duration": 1181,
    "start_time": "2021-09-27T21:37:57.571Z"
   },
   {
    "duration": 6,
    "start_time": "2021-09-27T21:38:44.702Z"
   },
   {
    "duration": 1115,
    "start_time": "2021-09-27T21:38:49.080Z"
   },
   {
    "duration": 6,
    "start_time": "2021-09-27T21:41:33.643Z"
   },
   {
    "duration": 1136,
    "start_time": "2021-09-27T21:41:50.720Z"
   },
   {
    "duration": 5,
    "start_time": "2021-09-27T21:43:50.527Z"
   },
   {
    "duration": 1311,
    "start_time": "2021-09-27T21:43:56.329Z"
   },
   {
    "duration": 5,
    "start_time": "2021-09-27T21:44:29.707Z"
   },
   {
    "duration": 1159,
    "start_time": "2021-09-27T21:44:33.115Z"
   },
   {
    "duration": 5,
    "start_time": "2021-09-27T21:45:05.615Z"
   },
   {
    "duration": 1200,
    "start_time": "2021-09-27T21:45:10.352Z"
   },
   {
    "duration": 6,
    "start_time": "2021-09-27T21:48:58.286Z"
   },
   {
    "duration": 1357,
    "start_time": "2021-09-27T21:49:02.507Z"
   },
   {
    "duration": 7,
    "start_time": "2021-09-27T21:50:04.985Z"
   },
   {
    "duration": 1141,
    "start_time": "2021-09-27T21:50:09.281Z"
   },
   {
    "duration": 6,
    "start_time": "2021-09-27T21:50:37.294Z"
   },
   {
    "duration": 1125,
    "start_time": "2021-09-27T21:50:40.710Z"
   },
   {
    "duration": 6,
    "start_time": "2021-09-27T21:51:55.405Z"
   },
   {
    "duration": 1344,
    "start_time": "2021-09-27T21:51:59.508Z"
   },
   {
    "duration": 276,
    "start_time": "2021-09-27T21:53:01.840Z"
   },
   {
    "duration": 5,
    "start_time": "2021-09-27T21:53:10.799Z"
   },
   {
    "duration": 1699,
    "start_time": "2021-09-27T21:53:12.837Z"
   },
   {
    "duration": 17522,
    "start_time": "2021-09-27T21:53:30.316Z"
   },
   {
    "duration": 9420,
    "start_time": "2021-09-27T21:54:24.284Z"
   },
   {
    "duration": 6,
    "start_time": "2021-09-27T21:56:49.381Z"
   },
   {
    "duration": 10394,
    "start_time": "2021-09-27T21:56:53.940Z"
   },
   {
    "duration": 1462,
    "start_time": "2021-09-28T10:33:57.972Z"
   },
   {
    "duration": 1666,
    "start_time": "2021-09-28T10:33:59.437Z"
   },
   {
    "duration": 191,
    "start_time": "2021-09-28T10:34:01.106Z"
   },
   {
    "duration": 927,
    "start_time": "2021-09-28T10:34:01.300Z"
   },
   {
    "duration": 718,
    "start_time": "2021-09-28T10:34:02.230Z"
   },
   {
    "duration": 12,
    "start_time": "2021-09-28T10:34:02.951Z"
   },
   {
    "duration": 760,
    "start_time": "2021-09-28T10:34:02.966Z"
   },
   {
    "duration": 136,
    "start_time": "2021-09-28T10:34:03.729Z"
   },
   {
    "duration": 9,
    "start_time": "2021-09-28T10:34:03.867Z"
   },
   {
    "duration": 15307,
    "start_time": "2021-09-28T10:34:03.878Z"
   },
   {
    "duration": 1054,
    "start_time": "2021-09-28T10:52:09.575Z"
   },
   {
    "duration": 15830,
    "start_time": "2021-09-28T10:52:33.583Z"
   },
   {
    "duration": 15811,
    "start_time": "2021-09-28T10:53:28.440Z"
   },
   {
    "duration": 1017,
    "start_time": "2021-09-28T10:55:08.327Z"
   },
   {
    "duration": 976,
    "start_time": "2021-09-28T10:55:45.836Z"
   },
   {
    "duration": 946,
    "start_time": "2021-09-28T10:59:25.246Z"
   },
   {
    "duration": 3921,
    "start_time": "2021-09-28T10:59:41.303Z"
   },
   {
    "duration": 1499,
    "start_time": "2021-09-28T12:38:29.988Z"
   },
   {
    "duration": 1755,
    "start_time": "2021-09-28T12:38:31.490Z"
   },
   {
    "duration": 187,
    "start_time": "2021-09-28T12:38:33.248Z"
   },
   {
    "duration": 793,
    "start_time": "2021-09-28T12:38:33.439Z"
   },
   {
    "duration": 591,
    "start_time": "2021-09-28T12:38:34.235Z"
   },
   {
    "duration": 4,
    "start_time": "2021-09-28T12:38:34.828Z"
   },
   {
    "duration": 666,
    "start_time": "2021-09-28T12:38:34.834Z"
   },
   {
    "duration": 130,
    "start_time": "2021-09-28T12:38:35.504Z"
   },
   {
    "duration": 9,
    "start_time": "2021-09-28T12:38:35.636Z"
   },
   {
    "duration": 1033,
    "start_time": "2021-09-28T12:38:35.647Z"
   },
   {
    "duration": 13762,
    "start_time": "2021-09-28T12:38:36.682Z"
   },
   {
    "duration": 3545,
    "start_time": "2021-09-28T12:38:50.446Z"
   },
   {
    "duration": 540,
    "start_time": "2021-09-28T12:39:37.411Z"
   },
   {
    "duration": 50,
    "start_time": "2021-09-28T12:39:45.470Z"
   },
   {
    "duration": 928,
    "start_time": "2021-09-28T12:46:54.950Z"
   },
   {
    "duration": 841,
    "start_time": "2021-09-28T12:47:14.203Z"
   },
   {
    "duration": 687,
    "start_time": "2021-09-28T12:47:17.756Z"
   },
   {
    "duration": 665,
    "start_time": "2021-09-28T12:47:34.053Z"
   },
   {
    "duration": 661,
    "start_time": "2021-09-28T12:48:25.436Z"
   },
   {
    "duration": 51,
    "start_time": "2021-09-28T12:49:04.302Z"
   },
   {
    "duration": 23,
    "start_time": "2021-09-28T12:49:19.412Z"
   },
   {
    "duration": 23,
    "start_time": "2021-09-28T12:50:14.350Z"
   },
   {
    "duration": 107,
    "start_time": "2021-09-28T12:51:12.530Z"
   },
   {
    "duration": 92,
    "start_time": "2021-09-28T12:51:21.310Z"
   },
   {
    "duration": 33,
    "start_time": "2021-09-28T12:52:18.071Z"
   },
   {
    "duration": 17,
    "start_time": "2021-09-28T12:53:08.761Z"
   },
   {
    "duration": 24,
    "start_time": "2021-09-28T12:55:15.474Z"
   },
   {
    "duration": 9,
    "start_time": "2021-09-28T18:39:32.339Z"
   },
   {
    "duration": 8,
    "start_time": "2021-09-28T18:40:09.441Z"
   },
   {
    "duration": 472,
    "start_time": "2021-09-28T18:43:31.666Z"
   },
   {
    "duration": 1541,
    "start_time": "2021-09-28T18:43:38.064Z"
   },
   {
    "duration": 3555,
    "start_time": "2021-09-28T18:43:39.609Z"
   },
   {
    "duration": 202,
    "start_time": "2021-09-28T18:43:43.167Z"
   },
   {
    "duration": 984,
    "start_time": "2021-09-28T18:43:43.372Z"
   },
   {
    "duration": 719,
    "start_time": "2021-09-28T18:43:44.359Z"
   },
   {
    "duration": 4,
    "start_time": "2021-09-28T18:43:45.081Z"
   },
   {
    "duration": 753,
    "start_time": "2021-09-28T18:43:45.088Z"
   },
   {
    "duration": 142,
    "start_time": "2021-09-28T18:43:45.845Z"
   },
   {
    "duration": 9,
    "start_time": "2021-09-28T18:43:45.989Z"
   },
   {
    "duration": 1236,
    "start_time": "2021-09-28T18:43:46.016Z"
   },
   {
    "duration": 949,
    "start_time": "2021-09-28T18:50:01.394Z"
   },
   {
    "duration": 2407,
    "start_time": "2021-09-28T18:50:09.288Z"
   },
   {
    "duration": 1090,
    "start_time": "2021-09-28T18:50:51.352Z"
   },
   {
    "duration": 32,
    "start_time": "2021-09-28T18:54:36.484Z"
   },
   {
    "duration": 34,
    "start_time": "2021-09-28T18:54:39.914Z"
   },
   {
    "duration": 25,
    "start_time": "2021-09-28T18:56:52.423Z"
   },
   {
    "duration": 22,
    "start_time": "2021-09-28T18:57:01.652Z"
   },
   {
    "duration": 30,
    "start_time": "2021-09-28T18:57:06.026Z"
   },
   {
    "duration": 20,
    "start_time": "2021-09-28T18:57:13.028Z"
   },
   {
    "duration": 39,
    "start_time": "2021-09-28T18:57:17.217Z"
   },
   {
    "duration": 973,
    "start_time": "2021-09-28T19:00:24.409Z"
   },
   {
    "duration": 3335,
    "start_time": "2021-09-28T19:00:34.720Z"
   },
   {
    "duration": 2070,
    "start_time": "2021-09-28T19:01:14.730Z"
   },
   {
    "duration": 3529,
    "start_time": "2021-09-28T19:01:43.730Z"
   },
   {
    "duration": 3606,
    "start_time": "2021-09-28T19:02:29.219Z"
   },
   {
    "duration": 1917,
    "start_time": "2021-09-28T19:02:40.017Z"
   },
   {
    "duration": 1180,
    "start_time": "2021-09-28T19:07:16.988Z"
   },
   {
    "duration": 2204,
    "start_time": "2021-09-28T19:07:27.991Z"
   },
   {
    "duration": 3393,
    "start_time": "2021-09-28T19:07:48.505Z"
   },
   {
    "duration": 2094,
    "start_time": "2021-09-28T19:08:39.344Z"
   },
   {
    "duration": 3651,
    "start_time": "2021-09-28T19:08:47.717Z"
   },
   {
    "duration": 50,
    "start_time": "2021-09-28T19:13:53.117Z"
   },
   {
    "duration": 36,
    "start_time": "2021-09-28T19:14:39.690Z"
   },
   {
    "duration": 19,
    "start_time": "2021-09-28T19:32:21.453Z"
   },
   {
    "duration": 14568,
    "start_time": "2021-09-28T19:34:54.536Z"
   },
   {
    "duration": 1302,
    "start_time": "2021-09-28T19:36:33.214Z"
   },
   {
    "duration": 8,
    "start_time": "2021-09-28T19:38:12.630Z"
   },
   {
    "duration": 863,
    "start_time": "2021-09-28T19:38:15.373Z"
   },
   {
    "duration": 8,
    "start_time": "2021-09-28T19:38:34.897Z"
   },
   {
    "duration": 1115,
    "start_time": "2021-09-28T19:38:37.066Z"
   },
   {
    "duration": 4,
    "start_time": "2021-09-28T19:38:50.729Z"
   },
   {
    "duration": 4353,
    "start_time": "2021-09-28T19:38:50.736Z"
   },
   {
    "duration": 236,
    "start_time": "2021-09-28T19:38:55.092Z"
   },
   {
    "duration": 177,
    "start_time": "2021-09-28T19:38:55.331Z"
   },
   {
    "duration": 655,
    "start_time": "2021-09-28T19:38:55.510Z"
   },
   {
    "duration": 5,
    "start_time": "2021-09-28T19:38:56.168Z"
   },
   {
    "duration": 711,
    "start_time": "2021-09-28T19:38:56.176Z"
   },
   {
    "duration": 135,
    "start_time": "2021-09-28T19:38:56.889Z"
   },
   {
    "duration": 7,
    "start_time": "2021-09-28T19:38:57.027Z"
   },
   {
    "duration": 1064,
    "start_time": "2021-09-28T19:38:57.037Z"
   },
   {
    "duration": 3345,
    "start_time": "2021-09-28T19:38:58.103Z"
   },
   {
    "duration": 36,
    "start_time": "2021-09-28T19:39:01.450Z"
   },
   {
    "duration": 765,
    "start_time": "2021-09-28T19:39:01.489Z"
   },
   {
    "duration": 3587,
    "start_time": "2021-09-28T19:39:02.257Z"
   },
   {
    "duration": 24,
    "start_time": "2021-09-28T19:39:05.847Z"
   },
   {
    "duration": 700,
    "start_time": "2021-09-28T19:39:05.874Z"
   },
   {
    "duration": 25,
    "start_time": "2021-09-28T19:39:06.576Z"
   },
   {
    "duration": 835,
    "start_time": "2021-09-28T19:45:43.983Z"
   },
   {
    "duration": 3934,
    "start_time": "2021-09-28T19:45:53.806Z"
   },
   {
    "duration": 15749,
    "start_time": "2021-09-28T19:46:10.074Z"
   },
   {
    "duration": 23,
    "start_time": "2021-09-28T20:00:20.130Z"
   },
   {
    "duration": 38,
    "start_time": "2021-09-28T20:00:36.107Z"
   },
   {
    "duration": 40,
    "start_time": "2021-09-28T20:03:39.441Z"
   },
   {
    "duration": 4027,
    "start_time": "2021-09-28T20:05:04.493Z"
   },
   {
    "duration": 3656,
    "start_time": "2021-09-28T20:05:26.282Z"
   },
   {
    "duration": 41,
    "start_time": "2021-09-28T20:07:33.662Z"
   },
   {
    "duration": 3707,
    "start_time": "2021-09-28T20:10:03.045Z"
   },
   {
    "duration": 3665,
    "start_time": "2021-09-28T20:12:07.026Z"
   },
   {
    "duration": 3744,
    "start_time": "2021-09-28T20:14:23.357Z"
   },
   {
    "duration": 3557,
    "start_time": "2021-09-28T20:16:52.481Z"
   },
   {
    "duration": 30353,
    "start_time": "2021-09-28T20:17:10.627Z"
   },
   {
    "duration": 4671,
    "start_time": "2021-09-28T20:18:08.965Z"
   },
   {
    "duration": 1074,
    "start_time": "2021-09-29T08:33:50.168Z"
   },
   {
    "duration": 1548,
    "start_time": "2021-09-29T08:33:51.243Z"
   },
   {
    "duration": 134,
    "start_time": "2021-09-29T08:33:52.793Z"
   },
   {
    "duration": 431,
    "start_time": "2021-09-29T08:33:52.929Z"
   },
   {
    "duration": 440,
    "start_time": "2021-09-29T08:33:53.362Z"
   },
   {
    "duration": 3,
    "start_time": "2021-09-29T08:33:53.803Z"
   },
   {
    "duration": 440,
    "start_time": "2021-09-29T08:33:53.808Z"
   },
   {
    "duration": 95,
    "start_time": "2021-09-29T08:33:54.250Z"
   },
   {
    "duration": 5,
    "start_time": "2021-09-29T08:33:54.347Z"
   },
   {
    "duration": 646,
    "start_time": "2021-09-29T08:33:54.353Z"
   },
   {
    "duration": 2053,
    "start_time": "2021-09-29T08:33:55.001Z"
   },
   {
    "duration": 21,
    "start_time": "2021-09-29T08:33:57.056Z"
   },
   {
    "duration": 490,
    "start_time": "2021-09-29T08:33:57.079Z"
   },
   {
    "duration": 8651,
    "start_time": "2021-09-29T08:33:57.571Z"
   },
   {
    "duration": 2452,
    "start_time": "2021-09-29T08:34:06.224Z"
   },
   {
    "duration": 2078,
    "start_time": "2021-09-29T08:34:08.678Z"
   },
   {
    "duration": 17,
    "start_time": "2021-09-29T08:34:10.757Z"
   },
   {
    "duration": 417,
    "start_time": "2021-09-29T08:34:10.776Z"
   },
   {
    "duration": 17,
    "start_time": "2021-09-29T08:34:11.195Z"
   },
   {
    "duration": 3,
    "start_time": "2021-09-29T08:44:17.186Z"
   },
   {
    "duration": 1475,
    "start_time": "2021-09-29T08:44:17.191Z"
   },
   {
    "duration": 149,
    "start_time": "2021-09-29T08:44:18.667Z"
   },
   {
    "duration": 141,
    "start_time": "2021-09-29T08:44:18.819Z"
   },
   {
    "duration": 399,
    "start_time": "2021-09-29T08:44:18.962Z"
   },
   {
    "duration": 4,
    "start_time": "2021-09-29T08:44:19.364Z"
   },
   {
    "duration": 407,
    "start_time": "2021-09-29T08:44:19.369Z"
   },
   {
    "duration": 106,
    "start_time": "2021-09-29T08:44:19.777Z"
   },
   {
    "duration": 13,
    "start_time": "2021-09-29T08:44:19.887Z"
   },
   {
    "duration": 709,
    "start_time": "2021-09-29T08:44:19.903Z"
   },
   {
    "duration": 2235,
    "start_time": "2021-09-29T08:44:20.616Z"
   },
   {
    "duration": 22,
    "start_time": "2021-09-29T08:44:22.853Z"
   },
   {
    "duration": 642,
    "start_time": "2021-09-29T08:44:22.877Z"
   },
   {
    "duration": 9146,
    "start_time": "2021-09-29T08:44:23.521Z"
   },
   {
    "duration": 2677,
    "start_time": "2021-09-29T08:44:32.668Z"
   },
   {
    "duration": 2188,
    "start_time": "2021-09-29T08:44:35.347Z"
   },
   {
    "duration": 17,
    "start_time": "2021-09-29T08:44:37.536Z"
   },
   {
    "duration": 451,
    "start_time": "2021-09-29T08:44:37.554Z"
   },
   {
    "duration": 20,
    "start_time": "2021-09-29T08:44:38.007Z"
   },
   {
    "duration": 603,
    "start_time": "2021-09-29T08:45:27.275Z"
   },
   {
    "duration": 427,
    "start_time": "2021-09-29T08:45:36.827Z"
   },
   {
    "duration": 15,
    "start_time": "2021-09-29T09:09:05.964Z"
   },
   {
    "duration": 6,
    "start_time": "2021-09-29T09:39:58.364Z"
   },
   {
    "duration": 7,
    "start_time": "2021-09-29T09:45:32.939Z"
   },
   {
    "duration": 406,
    "start_time": "2021-09-29T09:55:11.981Z"
   },
   {
    "duration": 1136,
    "start_time": "2021-09-29T19:28:09.566Z"
   },
   {
    "duration": 1536,
    "start_time": "2021-09-29T19:28:10.704Z"
   },
   {
    "duration": 130,
    "start_time": "2021-09-29T19:28:12.244Z"
   },
   {
    "duration": 691,
    "start_time": "2021-09-29T19:28:12.376Z"
   },
   {
    "duration": 463,
    "start_time": "2021-09-29T19:28:13.069Z"
   },
   {
    "duration": 3,
    "start_time": "2021-09-29T19:28:13.533Z"
   },
   {
    "duration": 426,
    "start_time": "2021-09-29T19:28:13.545Z"
   },
   {
    "duration": 109,
    "start_time": "2021-09-29T19:28:13.974Z"
   },
   {
    "duration": 5,
    "start_time": "2021-09-29T19:28:14.085Z"
   },
   {
    "duration": 687,
    "start_time": "2021-09-29T19:28:14.092Z"
   },
   {
    "duration": 1836,
    "start_time": "2021-09-29T19:28:14.781Z"
   },
   {
    "duration": 30,
    "start_time": "2021-09-29T19:28:16.619Z"
   },
   {
    "duration": 448,
    "start_time": "2021-09-29T19:28:16.650Z"
   },
   {
    "duration": 8263,
    "start_time": "2021-09-29T19:28:17.100Z"
   },
   {
    "duration": 6,
    "start_time": "2021-09-29T19:28:25.365Z"
   },
   {
    "duration": 2498,
    "start_time": "2021-09-29T19:28:25.373Z"
   },
   {
    "duration": 1930,
    "start_time": "2021-09-29T19:28:27.873Z"
   },
   {
    "duration": 16,
    "start_time": "2021-09-29T19:28:29.805Z"
   },
   {
    "duration": 23,
    "start_time": "2021-09-29T19:28:29.823Z"
   },
   {
    "duration": 417,
    "start_time": "2021-09-29T19:28:29.847Z"
   },
   {
    "duration": 17,
    "start_time": "2021-09-29T19:28:30.266Z"
   },
   {
    "duration": 219,
    "start_time": "2021-09-29T20:23:16.361Z"
   },
   {
    "duration": 233,
    "start_time": "2021-09-29T20:23:41.723Z"
   },
   {
    "duration": 309,
    "start_time": "2021-09-29T20:23:50.229Z"
   },
   {
    "duration": 192,
    "start_time": "2021-09-29T20:23:58.634Z"
   },
   {
    "duration": 108,
    "start_time": "2021-09-29T20:24:48.230Z"
   },
   {
    "duration": 126,
    "start_time": "2021-09-29T20:25:36.931Z"
   },
   {
    "duration": 20,
    "start_time": "2021-09-29T20:28:43.282Z"
   },
   {
    "duration": 22,
    "start_time": "2021-09-29T20:29:14.928Z"
   },
   {
    "duration": 48,
    "start_time": "2021-09-29T20:32:43.821Z"
   },
   {
    "duration": 8,
    "start_time": "2021-09-29T20:33:33.002Z"
   },
   {
    "duration": 8,
    "start_time": "2021-09-29T20:33:39.263Z"
   },
   {
    "duration": 1180,
    "start_time": "2021-09-29T20:35:08.616Z"
   },
   {
    "duration": 1907,
    "start_time": "2021-09-29T20:35:09.798Z"
   },
   {
    "duration": 135,
    "start_time": "2021-09-29T20:35:11.707Z"
   },
   {
    "duration": 673,
    "start_time": "2021-09-29T20:35:11.844Z"
   },
   {
    "duration": 462,
    "start_time": "2021-09-29T20:35:12.518Z"
   },
   {
    "duration": 3,
    "start_time": "2021-09-29T20:35:12.982Z"
   },
   {
    "duration": 439,
    "start_time": "2021-09-29T20:35:12.987Z"
   },
   {
    "duration": 94,
    "start_time": "2021-09-29T20:35:13.428Z"
   },
   {
    "duration": 6,
    "start_time": "2021-09-29T20:35:13.524Z"
   },
   {
    "duration": 622,
    "start_time": "2021-09-29T20:35:13.532Z"
   },
   {
    "duration": 1954,
    "start_time": "2021-09-29T20:35:14.156Z"
   },
   {
    "duration": 22,
    "start_time": "2021-09-29T20:35:16.112Z"
   },
   {
    "duration": 438,
    "start_time": "2021-09-29T20:35:16.145Z"
   },
   {
    "duration": 7870,
    "start_time": "2021-09-29T20:35:16.585Z"
   },
   {
    "duration": 6,
    "start_time": "2021-09-29T20:35:24.456Z"
   },
   {
    "duration": 2310,
    "start_time": "2021-09-29T20:35:24.464Z"
   },
   {
    "duration": 2027,
    "start_time": "2021-09-29T20:35:26.776Z"
   },
   {
    "duration": 15,
    "start_time": "2021-09-29T20:35:28.805Z"
   },
   {
    "duration": 5,
    "start_time": "2021-09-29T20:35:28.822Z"
   },
   {
    "duration": 401,
    "start_time": "2021-09-29T20:35:28.845Z"
   },
   {
    "duration": 17,
    "start_time": "2021-09-29T20:35:29.248Z"
   },
   {
    "duration": 248,
    "start_time": "2021-09-29T20:35:29.267Z"
   },
   {
    "duration": 149,
    "start_time": "2021-09-29T20:35:29.517Z"
   },
   {
    "duration": 48,
    "start_time": "2021-09-29T20:35:29.667Z"
   },
   {
    "duration": 8,
    "start_time": "2021-09-29T20:35:29.717Z"
   },
   {
    "duration": 14,
    "start_time": "2021-09-29T20:37:07.500Z"
   },
   {
    "duration": 50,
    "start_time": "2021-09-29T20:37:37.960Z"
   },
   {
    "duration": 1134,
    "start_time": "2021-09-29T20:37:48.806Z"
   },
   {
    "duration": 1565,
    "start_time": "2021-09-29T20:37:49.942Z"
   },
   {
    "duration": 140,
    "start_time": "2021-09-29T20:37:51.509Z"
   },
   {
    "duration": 650,
    "start_time": "2021-09-29T20:37:51.651Z"
   },
   {
    "duration": 467,
    "start_time": "2021-09-29T20:37:52.303Z"
   },
   {
    "duration": 4,
    "start_time": "2021-09-29T20:37:52.771Z"
   },
   {
    "duration": 447,
    "start_time": "2021-09-29T20:37:52.776Z"
   },
   {
    "duration": 101,
    "start_time": "2021-09-29T20:37:53.227Z"
   },
   {
    "duration": 14,
    "start_time": "2021-09-29T20:37:53.330Z"
   },
   {
    "duration": 613,
    "start_time": "2021-09-29T20:37:53.346Z"
   },
   {
    "duration": 2032,
    "start_time": "2021-09-29T20:37:53.961Z"
   },
   {
    "duration": 22,
    "start_time": "2021-09-29T20:37:55.995Z"
   },
   {
    "duration": 455,
    "start_time": "2021-09-29T20:37:56.019Z"
   },
   {
    "duration": 7968,
    "start_time": "2021-09-29T20:37:56.477Z"
   },
   {
    "duration": 7,
    "start_time": "2021-09-29T20:38:04.447Z"
   },
   {
    "duration": 2299,
    "start_time": "2021-09-29T20:38:04.455Z"
   },
   {
    "duration": 1938,
    "start_time": "2021-09-29T20:38:06.756Z"
   },
   {
    "duration": 15,
    "start_time": "2021-09-29T20:38:08.695Z"
   },
   {
    "duration": 7,
    "start_time": "2021-09-29T20:38:08.712Z"
   },
   {
    "duration": 409,
    "start_time": "2021-09-29T20:38:08.721Z"
   },
   {
    "duration": 27,
    "start_time": "2021-09-29T20:38:09.132Z"
   },
   {
    "duration": 236,
    "start_time": "2021-09-29T20:38:09.161Z"
   },
   {
    "duration": 136,
    "start_time": "2021-09-29T20:38:09.400Z"
   },
   {
    "duration": 48,
    "start_time": "2021-09-29T20:38:09.538Z"
   },
   {
    "duration": 18,
    "start_time": "2021-09-29T20:38:09.587Z"
   },
   {
    "duration": 22,
    "start_time": "2021-09-29T20:39:29.268Z"
   },
   {
    "duration": 21,
    "start_time": "2021-09-29T20:41:05.152Z"
   },
   {
    "duration": 22,
    "start_time": "2021-09-29T20:41:09.607Z"
   },
   {
    "duration": 20,
    "start_time": "2021-09-29T20:42:02.219Z"
   },
   {
    "duration": 45,
    "start_time": "2021-09-29T20:47:05.785Z"
   },
   {
    "duration": 20,
    "start_time": "2021-09-29T20:47:46.640Z"
   },
   {
    "duration": 35,
    "start_time": "2021-09-29T20:48:17.007Z"
   },
   {
    "duration": 26,
    "start_time": "2021-09-29T20:48:31.652Z"
   },
   {
    "duration": 21,
    "start_time": "2021-09-29T20:48:39.111Z"
   },
   {
    "duration": 366,
    "start_time": "2021-09-29T20:49:55.912Z"
   },
   {
    "duration": 336,
    "start_time": "2021-09-29T20:50:17.385Z"
   },
   {
    "duration": 344,
    "start_time": "2021-09-29T20:50:39.413Z"
   },
   {
    "duration": 1179,
    "start_time": "2021-09-30T19:56:14.356Z"
   },
   {
    "duration": 1501,
    "start_time": "2021-09-30T19:56:15.537Z"
   },
   {
    "duration": 151,
    "start_time": "2021-09-30T19:56:17.040Z"
   },
   {
    "duration": 702,
    "start_time": "2021-09-30T19:56:17.193Z"
   },
   {
    "duration": 508,
    "start_time": "2021-09-30T19:56:17.897Z"
   },
   {
    "duration": 4,
    "start_time": "2021-09-30T19:56:18.406Z"
   },
   {
    "duration": 488,
    "start_time": "2021-09-30T19:56:18.411Z"
   },
   {
    "duration": 113,
    "start_time": "2021-09-30T19:56:18.901Z"
   },
   {
    "duration": 6,
    "start_time": "2021-09-30T19:56:19.017Z"
   },
   {
    "duration": 640,
    "start_time": "2021-09-30T19:56:19.025Z"
   },
   {
    "duration": 1972,
    "start_time": "2021-09-30T19:56:19.667Z"
   },
   {
    "duration": 28,
    "start_time": "2021-09-30T19:56:21.641Z"
   },
   {
    "duration": 480,
    "start_time": "2021-09-30T19:56:21.671Z"
   },
   {
    "duration": 8381,
    "start_time": "2021-09-30T19:56:22.153Z"
   },
   {
    "duration": 15,
    "start_time": "2021-09-30T19:56:30.536Z"
   },
   {
    "duration": 2520,
    "start_time": "2021-09-30T19:56:30.553Z"
   },
   {
    "duration": 2046,
    "start_time": "2021-09-30T19:56:33.075Z"
   },
   {
    "duration": 28,
    "start_time": "2021-09-30T19:56:35.123Z"
   },
   {
    "duration": 6,
    "start_time": "2021-09-30T19:56:35.153Z"
   },
   {
    "duration": 419,
    "start_time": "2021-09-30T19:56:35.161Z"
   },
   {
    "duration": 20,
    "start_time": "2021-09-30T19:56:35.582Z"
   },
   {
    "duration": 268,
    "start_time": "2021-09-30T19:56:35.604Z"
   },
   {
    "duration": 140,
    "start_time": "2021-09-30T19:56:35.874Z"
   },
   {
    "duration": 59,
    "start_time": "2021-09-30T19:56:36.015Z"
   },
   {
    "duration": 21,
    "start_time": "2021-09-30T19:56:36.076Z"
   },
   {
    "duration": 62,
    "start_time": "2021-09-30T19:56:36.099Z"
   },
   {
    "duration": 20,
    "start_time": "2021-09-30T19:56:36.165Z"
   },
   {
    "duration": 457,
    "start_time": "2021-09-30T19:56:36.187Z"
   },
   {
    "duration": 386,
    "start_time": "2021-09-30T19:56:36.648Z"
   },
   {
    "duration": 82,
    "start_time": "2021-09-30T20:05:52.014Z"
   },
   {
    "duration": 45,
    "start_time": "2021-09-30T20:06:16.356Z"
   },
   {
    "duration": 5,
    "start_time": "2021-09-30T20:06:27.748Z"
   },
   {
    "duration": 29,
    "start_time": "2021-09-30T20:21:38.288Z"
   },
   {
    "duration": 6,
    "start_time": "2021-09-30T20:21:51.137Z"
   },
   {
    "duration": 9,
    "start_time": "2021-09-30T20:22:01.561Z"
   },
   {
    "duration": 26,
    "start_time": "2021-09-30T20:22:24.853Z"
   },
   {
    "duration": 5,
    "start_time": "2021-09-30T20:22:44.502Z"
   },
   {
    "duration": 23,
    "start_time": "2021-09-30T20:22:47.208Z"
   },
   {
    "duration": 10,
    "start_time": "2021-09-30T20:22:53.062Z"
   },
   {
    "duration": 1138,
    "start_time": "2021-09-30T20:23:01.186Z"
   },
   {
    "duration": 1324,
    "start_time": "2021-09-30T20:23:02.326Z"
   },
   {
    "duration": 149,
    "start_time": "2021-09-30T20:23:03.652Z"
   },
   {
    "duration": 564,
    "start_time": "2021-09-30T20:23:03.803Z"
   },
   {
    "duration": 490,
    "start_time": "2021-09-30T20:23:04.369Z"
   },
   {
    "duration": 3,
    "start_time": "2021-09-30T20:23:04.862Z"
   },
   {
    "duration": 491,
    "start_time": "2021-09-30T20:23:04.868Z"
   },
   {
    "duration": 116,
    "start_time": "2021-09-30T20:23:05.362Z"
   },
   {
    "duration": 6,
    "start_time": "2021-09-30T20:23:05.481Z"
   },
   {
    "duration": 637,
    "start_time": "2021-09-30T20:23:05.489Z"
   },
   {
    "duration": 1897,
    "start_time": "2021-09-30T20:23:06.128Z"
   },
   {
    "duration": 38,
    "start_time": "2021-09-30T20:23:08.027Z"
   },
   {
    "duration": 446,
    "start_time": "2021-09-30T20:23:08.068Z"
   },
   {
    "duration": 8162,
    "start_time": "2021-09-30T20:23:08.516Z"
   },
   {
    "duration": 7,
    "start_time": "2021-09-30T20:23:16.680Z"
   },
   {
    "duration": 2432,
    "start_time": "2021-09-30T20:23:16.689Z"
   },
   {
    "duration": 2109,
    "start_time": "2021-09-30T20:23:19.123Z"
   },
   {
    "duration": 20,
    "start_time": "2021-09-30T20:23:21.234Z"
   },
   {
    "duration": 6,
    "start_time": "2021-09-30T20:23:21.256Z"
   },
   {
    "duration": 412,
    "start_time": "2021-09-30T20:23:21.264Z"
   },
   {
    "duration": 19,
    "start_time": "2021-09-30T20:23:21.678Z"
   },
   {
    "duration": 260,
    "start_time": "2021-09-30T20:23:21.699Z"
   },
   {
    "duration": 143,
    "start_time": "2021-09-30T20:23:21.963Z"
   },
   {
    "duration": 52,
    "start_time": "2021-09-30T20:23:22.108Z"
   },
   {
    "duration": 20,
    "start_time": "2021-09-30T20:23:22.162Z"
   },
   {
    "duration": 49,
    "start_time": "2021-09-30T20:23:22.184Z"
   },
   {
    "duration": 34,
    "start_time": "2021-09-30T20:23:22.234Z"
   },
   {
    "duration": 443,
    "start_time": "2021-09-30T20:23:22.269Z"
   },
   {
    "duration": 421,
    "start_time": "2021-09-30T20:23:22.713Z"
   },
   {
    "duration": 48,
    "start_time": "2021-09-30T20:23:23.135Z"
   },
   {
    "duration": 4,
    "start_time": "2021-09-30T20:23:23.185Z"
   },
   {
    "duration": 71,
    "start_time": "2021-09-30T20:23:23.190Z"
   },
   {
    "duration": 118,
    "start_time": "2021-09-30T20:23:23.262Z"
   },
   {
    "duration": 62,
    "start_time": "2021-09-30T20:29:56.998Z"
   },
   {
    "duration": 123,
    "start_time": "2021-09-30T20:29:59.968Z"
   },
   {
    "duration": 192,
    "start_time": "2021-09-30T20:31:36.213Z"
   },
   {
    "duration": 1214,
    "start_time": "2021-09-30T20:32:37.119Z"
   },
   {
    "duration": 1561,
    "start_time": "2021-09-30T20:32:38.335Z"
   },
   {
    "duration": 146,
    "start_time": "2021-09-30T20:32:39.898Z"
   },
   {
    "duration": 830,
    "start_time": "2021-09-30T20:32:40.049Z"
   },
   {
    "duration": 537,
    "start_time": "2021-09-30T20:32:40.881Z"
   },
   {
    "duration": 3,
    "start_time": "2021-09-30T20:32:41.420Z"
   },
   {
    "duration": 501,
    "start_time": "2021-09-30T20:32:41.424Z"
   },
   {
    "duration": 109,
    "start_time": "2021-09-30T20:32:41.927Z"
   },
   {
    "duration": 15,
    "start_time": "2021-09-30T20:32:42.038Z"
   },
   {
    "duration": 641,
    "start_time": "2021-09-30T20:32:42.055Z"
   },
   {
    "duration": 1929,
    "start_time": "2021-09-30T20:32:42.698Z"
   },
   {
    "duration": 33,
    "start_time": "2021-09-30T20:32:44.629Z"
   },
   {
    "duration": 466,
    "start_time": "2021-09-30T20:32:44.665Z"
   },
   {
    "duration": 8209,
    "start_time": "2021-09-30T20:32:45.133Z"
   },
   {
    "duration": 8,
    "start_time": "2021-09-30T20:32:53.344Z"
   },
   {
    "duration": 2434,
    "start_time": "2021-09-30T20:32:53.354Z"
   },
   {
    "duration": 1975,
    "start_time": "2021-09-30T20:32:55.790Z"
   },
   {
    "duration": 17,
    "start_time": "2021-09-30T20:32:57.767Z"
   },
   {
    "duration": 6,
    "start_time": "2021-09-30T20:32:57.786Z"
   },
   {
    "duration": 439,
    "start_time": "2021-09-30T20:32:57.794Z"
   },
   {
    "duration": 32,
    "start_time": "2021-09-30T20:32:58.235Z"
   },
   {
    "duration": 272,
    "start_time": "2021-09-30T20:32:58.269Z"
   },
   {
    "duration": 145,
    "start_time": "2021-09-30T20:32:58.545Z"
   },
   {
    "duration": 59,
    "start_time": "2021-09-30T20:32:58.693Z"
   },
   {
    "duration": 23,
    "start_time": "2021-09-30T20:32:58.754Z"
   },
   {
    "duration": 48,
    "start_time": "2021-09-30T20:32:58.779Z"
   },
   {
    "duration": 37,
    "start_time": "2021-09-30T20:32:58.829Z"
   },
   {
    "duration": 464,
    "start_time": "2021-09-30T20:32:58.868Z"
   },
   {
    "duration": 436,
    "start_time": "2021-09-30T20:32:59.334Z"
   },
   {
    "duration": 48,
    "start_time": "2021-09-30T20:32:59.771Z"
   },
   {
    "duration": 5,
    "start_time": "2021-09-30T20:32:59.821Z"
   },
   {
    "duration": 84,
    "start_time": "2021-09-30T20:32:59.827Z"
   },
   {
    "duration": 125,
    "start_time": "2021-09-30T20:32:59.913Z"
   },
   {
    "duration": 226,
    "start_time": "2021-09-30T20:33:00.040Z"
   },
   {
    "duration": 63,
    "start_time": "2021-09-30T20:35:20.363Z"
   },
   {
    "duration": 116,
    "start_time": "2021-09-30T20:35:22.284Z"
   },
   {
    "duration": 371,
    "start_time": "2021-09-30T20:35:36.492Z"
   },
   {
    "duration": 343,
    "start_time": "2021-09-30T20:37:06.359Z"
   },
   {
    "duration": 58,
    "start_time": "2021-09-30T20:38:06.448Z"
   },
   {
    "duration": 119,
    "start_time": "2021-09-30T20:38:09.966Z"
   },
   {
    "duration": 1242,
    "start_time": "2021-09-30T20:38:19.814Z"
   },
   {
    "duration": 1424,
    "start_time": "2021-09-30T20:38:21.058Z"
   },
   {
    "duration": 145,
    "start_time": "2021-09-30T20:38:22.484Z"
   },
   {
    "duration": 590,
    "start_time": "2021-09-30T20:38:22.631Z"
   },
   {
    "duration": 522,
    "start_time": "2021-09-30T20:38:23.222Z"
   },
   {
    "duration": 4,
    "start_time": "2021-09-30T20:38:23.745Z"
   },
   {
    "duration": 512,
    "start_time": "2021-09-30T20:38:23.751Z"
   },
   {
    "duration": 113,
    "start_time": "2021-09-30T20:38:24.265Z"
   },
   {
    "duration": 5,
    "start_time": "2021-09-30T20:38:24.381Z"
   },
   {
    "duration": 633,
    "start_time": "2021-09-30T20:38:24.388Z"
   },
   {
    "duration": 1929,
    "start_time": "2021-09-30T20:38:25.023Z"
   },
   {
    "duration": 26,
    "start_time": "2021-09-30T20:38:26.954Z"
   },
   {
    "duration": 586,
    "start_time": "2021-09-30T20:38:26.982Z"
   },
   {
    "duration": 8389,
    "start_time": "2021-09-30T20:38:27.570Z"
   },
   {
    "duration": 6,
    "start_time": "2021-09-30T20:38:35.961Z"
   },
   {
    "duration": 2430,
    "start_time": "2021-09-30T20:38:35.969Z"
   },
   {
    "duration": 2036,
    "start_time": "2021-09-30T20:38:38.401Z"
   },
   {
    "duration": 24,
    "start_time": "2021-09-30T20:38:40.439Z"
   },
   {
    "duration": 7,
    "start_time": "2021-09-30T20:38:40.465Z"
   },
   {
    "duration": 451,
    "start_time": "2021-09-30T20:38:40.473Z"
   },
   {
    "duration": 30,
    "start_time": "2021-09-30T20:38:40.926Z"
   },
   {
    "duration": 272,
    "start_time": "2021-09-30T20:38:40.959Z"
   },
   {
    "duration": 149,
    "start_time": "2021-09-30T20:38:41.234Z"
   },
   {
    "duration": 46,
    "start_time": "2021-09-30T20:38:41.385Z"
   },
   {
    "duration": 29,
    "start_time": "2021-09-30T20:38:41.433Z"
   },
   {
    "duration": 55,
    "start_time": "2021-09-30T20:38:41.464Z"
   },
   {
    "duration": 37,
    "start_time": "2021-09-30T20:38:41.522Z"
   },
   {
    "duration": 457,
    "start_time": "2021-09-30T20:38:41.561Z"
   },
   {
    "duration": 409,
    "start_time": "2021-09-30T20:38:42.020Z"
   },
   {
    "duration": 56,
    "start_time": "2021-09-30T20:38:42.432Z"
   },
   {
    "duration": 5,
    "start_time": "2021-09-30T20:38:42.490Z"
   },
   {
    "duration": 78,
    "start_time": "2021-09-30T20:38:42.497Z"
   },
   {
    "duration": 120,
    "start_time": "2021-09-30T20:38:42.577Z"
   },
   {
    "duration": 213,
    "start_time": "2021-09-30T20:38:42.699Z"
   },
   {
    "duration": 2424,
    "start_time": "2021-09-30T20:56:12.810Z"
   },
   {
    "duration": 861,
    "start_time": "2021-09-30T20:57:05.237Z"
   },
   {
    "duration": 2885,
    "start_time": "2021-09-30T20:57:25.023Z"
   },
   {
    "duration": 3140,
    "start_time": "2021-09-30T20:57:39.226Z"
   },
   {
    "duration": 140171,
    "start_time": "2021-09-30T21:22:43.720Z"
   },
   {
    "duration": 180157,
    "start_time": "2021-09-30T21:26:00.847Z"
   },
   {
    "duration": 62,
    "start_time": "2021-09-30T21:29:51.801Z"
   },
   {
    "duration": 9,
    "start_time": "2021-09-30T21:30:23.402Z"
   },
   {
    "duration": 37464,
    "start_time": "2021-09-30T21:42:20.627Z"
   },
   {
    "duration": 37545,
    "start_time": "2021-09-30T21:43:34.175Z"
   },
   {
    "duration": 1355,
    "start_time": "2021-09-30T21:45:11.926Z"
   },
   {
    "duration": 2314,
    "start_time": "2021-09-30T21:45:29.605Z"
   },
   {
    "duration": 72,
    "start_time": "2021-09-30T22:00:26.675Z"
   },
   {
    "duration": 1304,
    "start_time": "2021-09-30T22:07:12.048Z"
   },
   {
    "duration": 1167,
    "start_time": "2021-09-30T22:07:28.458Z"
   },
   {
    "duration": 1546,
    "start_time": "2021-09-30T22:07:29.627Z"
   },
   {
    "duration": 144,
    "start_time": "2021-09-30T22:07:31.175Z"
   },
   {
    "duration": 621,
    "start_time": "2021-09-30T22:07:31.322Z"
   },
   {
    "duration": 557,
    "start_time": "2021-09-30T22:07:31.945Z"
   },
   {
    "duration": 3,
    "start_time": "2021-09-30T22:07:32.503Z"
   },
   {
    "duration": 518,
    "start_time": "2021-09-30T22:07:32.508Z"
   },
   {
    "duration": 112,
    "start_time": "2021-09-30T22:07:33.028Z"
   },
   {
    "duration": 10,
    "start_time": "2021-09-30T22:07:33.143Z"
   },
   {
    "duration": 640,
    "start_time": "2021-09-30T22:07:33.155Z"
   },
   {
    "duration": 1909,
    "start_time": "2021-09-30T22:07:33.797Z"
   },
   {
    "duration": 25,
    "start_time": "2021-09-30T22:07:35.707Z"
   },
   {
    "duration": 474,
    "start_time": "2021-09-30T22:07:35.734Z"
   },
   {
    "duration": 8079,
    "start_time": "2021-09-30T22:07:36.209Z"
   },
   {
    "duration": 7,
    "start_time": "2021-09-30T22:07:44.290Z"
   },
   {
    "duration": 2629,
    "start_time": "2021-09-30T22:07:44.298Z"
   },
   {
    "duration": 2019,
    "start_time": "2021-09-30T22:07:46.929Z"
   },
   {
    "duration": 30,
    "start_time": "2021-09-30T22:07:48.951Z"
   },
   {
    "duration": 471,
    "start_time": "2021-09-30T22:07:48.983Z"
   },
   {
    "duration": 23,
    "start_time": "2021-09-30T22:07:49.455Z"
   },
   {
    "duration": 271,
    "start_time": "2021-09-30T22:07:49.480Z"
   },
   {
    "duration": 143,
    "start_time": "2021-09-30T22:07:49.753Z"
   },
   {
    "duration": 57,
    "start_time": "2021-09-30T22:07:49.898Z"
   },
   {
    "duration": 21,
    "start_time": "2021-09-30T22:07:49.957Z"
   },
   {
    "duration": 52,
    "start_time": "2021-09-30T22:07:49.980Z"
   },
   {
    "duration": 30,
    "start_time": "2021-09-30T22:07:50.034Z"
   },
   {
    "duration": 488,
    "start_time": "2021-09-30T22:07:50.068Z"
   },
   {
    "duration": 450,
    "start_time": "2021-09-30T22:07:50.559Z"
   },
   {
    "duration": 57,
    "start_time": "2021-09-30T22:07:51.011Z"
   },
   {
    "duration": 4,
    "start_time": "2021-09-30T22:07:51.070Z"
   },
   {
    "duration": 1342,
    "start_time": "2021-09-30T22:07:51.076Z"
   },
   {
    "duration": -27,
    "start_time": "2021-09-30T22:07:52.447Z"
   },
   {
    "duration": -27,
    "start_time": "2021-09-30T22:07:52.449Z"
   },
   {
    "duration": -27,
    "start_time": "2021-09-30T22:07:52.450Z"
   },
   {
    "duration": -27,
    "start_time": "2021-09-30T22:07:52.452Z"
   },
   {
    "duration": 1700,
    "start_time": "2021-09-30T22:08:52.862Z"
   },
   {
    "duration": 1170,
    "start_time": "2021-09-30T22:10:41.247Z"
   },
   {
    "duration": 1944,
    "start_time": "2021-09-30T22:24:06.952Z"
   },
   {
    "duration": 646,
    "start_time": "2021-09-30T22:24:27.117Z"
   },
   {
    "duration": 544,
    "start_time": "2021-09-30T22:26:21.367Z"
   },
   {
    "duration": 250,
    "start_time": "2021-09-30T22:31:30.153Z"
   },
   {
    "duration": 308,
    "start_time": "2021-09-30T22:31:52.599Z"
   },
   {
    "duration": 340,
    "start_time": "2021-09-30T22:43:17.484Z"
   },
   {
    "duration": 323,
    "start_time": "2021-09-30T22:43:54.934Z"
   },
   {
    "duration": 403,
    "start_time": "2021-09-30T22:44:32.834Z"
   },
   {
    "duration": 309,
    "start_time": "2021-09-30T22:51:03.101Z"
   },
   {
    "duration": 402,
    "start_time": "2021-09-30T22:52:35.955Z"
   },
   {
    "duration": 112,
    "start_time": "2021-09-30T22:53:19.423Z"
   },
   {
    "duration": 4580,
    "start_time": "2021-09-30T22:53:40.969Z"
   },
   {
    "duration": 4483,
    "start_time": "2021-09-30T22:54:42.827Z"
   },
   {
    "duration": 1170,
    "start_time": "2021-09-30T22:54:56.969Z"
   },
   {
    "duration": 1729,
    "start_time": "2021-09-30T22:54:58.141Z"
   },
   {
    "duration": 143,
    "start_time": "2021-09-30T22:54:59.872Z"
   },
   {
    "duration": 1181,
    "start_time": "2021-09-30T22:55:00.018Z"
   },
   {
    "duration": 555,
    "start_time": "2021-09-30T22:55:01.201Z"
   },
   {
    "duration": 3,
    "start_time": "2021-09-30T22:55:01.757Z"
   },
   {
    "duration": 539,
    "start_time": "2021-09-30T22:55:01.762Z"
   },
   {
    "duration": 123,
    "start_time": "2021-09-30T22:55:02.304Z"
   },
   {
    "duration": 6,
    "start_time": "2021-09-30T22:55:02.429Z"
   },
   {
    "duration": 640,
    "start_time": "2021-09-30T22:55:02.437Z"
   },
   {
    "duration": 1920,
    "start_time": "2021-09-30T22:55:03.078Z"
   },
   {
    "duration": 26,
    "start_time": "2021-09-30T22:55:05.000Z"
   },
   {
    "duration": 474,
    "start_time": "2021-09-30T22:55:05.028Z"
   },
   {
    "duration": 8315,
    "start_time": "2021-09-30T22:55:05.504Z"
   },
   {
    "duration": 8,
    "start_time": "2021-09-30T22:55:13.821Z"
   },
   {
    "duration": 2477,
    "start_time": "2021-09-30T22:55:13.831Z"
   },
   {
    "duration": 1979,
    "start_time": "2021-09-30T22:55:16.311Z"
   },
   {
    "duration": 16,
    "start_time": "2021-09-30T22:55:18.292Z"
   },
   {
    "duration": 426,
    "start_time": "2021-09-30T22:55:18.310Z"
   },
   {
    "duration": 26,
    "start_time": "2021-09-30T22:55:18.738Z"
   },
   {
    "duration": 269,
    "start_time": "2021-09-30T22:55:18.766Z"
   },
   {
    "duration": 144,
    "start_time": "2021-09-30T22:55:19.038Z"
   },
   {
    "duration": 47,
    "start_time": "2021-09-30T22:55:19.185Z"
   },
   {
    "duration": 28,
    "start_time": "2021-09-30T22:55:19.235Z"
   },
   {
    "duration": 50,
    "start_time": "2021-09-30T22:55:19.265Z"
   },
   {
    "duration": 37,
    "start_time": "2021-09-30T22:55:19.317Z"
   },
   {
    "duration": 452,
    "start_time": "2021-09-30T22:55:19.356Z"
   },
   {
    "duration": 447,
    "start_time": "2021-09-30T22:55:19.810Z"
   },
   {
    "duration": 49,
    "start_time": "2021-09-30T22:55:20.259Z"
   },
   {
    "duration": 4,
    "start_time": "2021-09-30T22:55:20.310Z"
   },
   {
    "duration": 4795,
    "start_time": "2021-09-30T22:55:20.316Z"
   },
   {
    "duration": -37,
    "start_time": "2021-09-30T22:55:25.150Z"
   },
   {
    "duration": -38,
    "start_time": "2021-09-30T22:55:25.152Z"
   },
   {
    "duration": -39,
    "start_time": "2021-09-30T22:55:25.154Z"
   },
   {
    "duration": -39,
    "start_time": "2021-09-30T22:55:25.155Z"
   },
   {
    "duration": 115,
    "start_time": "2021-09-30T22:56:07.266Z"
   },
   {
    "duration": 35,
    "start_time": "2021-09-30T22:56:44.680Z"
   },
   {
    "duration": 4578,
    "start_time": "2021-09-30T22:57:05.125Z"
   },
   {
    "duration": 4667,
    "start_time": "2021-09-30T22:57:54.582Z"
   },
   {
    "duration": 38,
    "start_time": "2021-09-30T22:58:18.032Z"
   },
   {
    "duration": 79,
    "start_time": "2021-09-30T22:58:38.483Z"
   },
   {
    "duration": 46,
    "start_time": "2021-09-30T22:58:51.741Z"
   },
   {
    "duration": 47,
    "start_time": "2021-09-30T22:59:07.354Z"
   },
   {
    "duration": 6099,
    "start_time": "2021-09-30T22:59:12.844Z"
   },
   {
    "duration": 47,
    "start_time": "2021-09-30T22:59:32.242Z"
   },
   {
    "duration": 48,
    "start_time": "2021-09-30T23:00:22.029Z"
   },
   {
    "duration": 45,
    "start_time": "2021-09-30T23:07:22.939Z"
   },
   {
    "duration": 70,
    "start_time": "2021-09-30T23:08:55.139Z"
   },
   {
    "duration": 7,
    "start_time": "2021-09-30T23:08:59.615Z"
   },
   {
    "duration": 6,
    "start_time": "2021-09-30T23:09:29.551Z"
   },
   {
    "duration": 25,
    "start_time": "2021-09-30T23:09:36.872Z"
   },
   {
    "duration": 69,
    "start_time": "2021-09-30T23:17:54.670Z"
   },
   {
    "duration": 48,
    "start_time": "2021-09-30T23:29:24.026Z"
   },
   {
    "duration": 121,
    "start_time": "2021-09-30T23:29:26.503Z"
   },
   {
    "duration": 1143,
    "start_time": "2021-09-30T23:30:06.580Z"
   },
   {
    "duration": 1721,
    "start_time": "2021-09-30T23:30:07.725Z"
   },
   {
    "duration": 143,
    "start_time": "2021-09-30T23:30:09.450Z"
   },
   {
    "duration": 568,
    "start_time": "2021-09-30T23:30:09.595Z"
   },
   {
    "duration": 516,
    "start_time": "2021-09-30T23:30:10.165Z"
   },
   {
    "duration": 3,
    "start_time": "2021-09-30T23:30:10.683Z"
   },
   {
    "duration": 505,
    "start_time": "2021-09-30T23:30:10.688Z"
   },
   {
    "duration": 122,
    "start_time": "2021-09-30T23:30:11.195Z"
   },
   {
    "duration": 5,
    "start_time": "2021-09-30T23:30:11.320Z"
   },
   {
    "duration": 638,
    "start_time": "2021-09-30T23:30:11.328Z"
   },
   {
    "duration": 1893,
    "start_time": "2021-09-30T23:30:11.968Z"
   },
   {
    "duration": 27,
    "start_time": "2021-09-30T23:30:13.863Z"
   },
   {
    "duration": 468,
    "start_time": "2021-09-30T23:30:13.891Z"
   },
   {
    "duration": 8028,
    "start_time": "2021-09-30T23:30:14.362Z"
   },
   {
    "duration": 7,
    "start_time": "2021-09-30T23:30:22.392Z"
   },
   {
    "duration": 2448,
    "start_time": "2021-09-30T23:30:22.401Z"
   },
   {
    "duration": 2009,
    "start_time": "2021-09-30T23:30:24.851Z"
   },
   {
    "duration": 16,
    "start_time": "2021-09-30T23:30:26.862Z"
   },
   {
    "duration": 420,
    "start_time": "2021-09-30T23:30:26.880Z"
   },
   {
    "duration": 23,
    "start_time": "2021-09-30T23:30:27.301Z"
   },
   {
    "duration": 285,
    "start_time": "2021-09-30T23:30:27.325Z"
   },
   {
    "duration": 140,
    "start_time": "2021-09-30T23:30:27.612Z"
   },
   {
    "duration": 46,
    "start_time": "2021-09-30T23:30:27.754Z"
   },
   {
    "duration": 20,
    "start_time": "2021-09-30T23:30:27.802Z"
   },
   {
    "duration": 68,
    "start_time": "2021-09-30T23:30:27.824Z"
   },
   {
    "duration": 20,
    "start_time": "2021-09-30T23:30:27.894Z"
   },
   {
    "duration": 484,
    "start_time": "2021-09-30T23:30:27.917Z"
   },
   {
    "duration": 411,
    "start_time": "2021-09-30T23:30:28.403Z"
   },
   {
    "duration": 55,
    "start_time": "2021-09-30T23:30:28.815Z"
   },
   {
    "duration": 4,
    "start_time": "2021-09-30T23:30:28.872Z"
   },
   {
    "duration": 71,
    "start_time": "2021-09-30T23:30:28.878Z"
   },
   {
    "duration": 117,
    "start_time": "2021-09-30T23:30:28.951Z"
   },
   {
    "duration": 214,
    "start_time": "2021-09-30T23:30:29.070Z"
   },
   {
    "duration": 346,
    "start_time": "2021-09-30T23:34:06.527Z"
   },
   {
    "duration": 197,
    "start_time": "2021-09-30T23:34:25.819Z"
   },
   {
    "duration": 714,
    "start_time": "2021-09-30T23:35:13.919Z"
   },
   {
    "duration": 731,
    "start_time": "2021-09-30T23:35:42.498Z"
   },
   {
    "duration": 1038,
    "start_time": "2021-09-30T23:35:57.504Z"
   },
   {
    "duration": 1124,
    "start_time": "2021-09-30T23:36:14.918Z"
   },
   {
    "duration": 1495,
    "start_time": "2021-10-01T19:10:14.235Z"
   },
   {
    "duration": 2859,
    "start_time": "2021-10-01T19:10:15.732Z"
   },
   {
    "duration": 196,
    "start_time": "2021-10-01T19:10:18.593Z"
   },
   {
    "duration": 841,
    "start_time": "2021-10-01T19:10:18.792Z"
   },
   {
    "duration": 715,
    "start_time": "2021-10-01T19:10:19.636Z"
   },
   {
    "duration": 6,
    "start_time": "2021-10-01T19:10:20.354Z"
   },
   {
    "duration": 787,
    "start_time": "2021-10-01T19:10:20.364Z"
   },
   {
    "duration": 125,
    "start_time": "2021-10-01T19:10:21.158Z"
   },
   {
    "duration": 9,
    "start_time": "2021-10-01T19:10:21.287Z"
   },
   {
    "duration": 1105,
    "start_time": "2021-10-01T19:10:21.299Z"
   },
   {
    "duration": 3444,
    "start_time": "2021-10-01T19:10:22.406Z"
   },
   {
    "duration": 40,
    "start_time": "2021-10-01T19:10:25.853Z"
   },
   {
    "duration": 784,
    "start_time": "2021-10-01T19:10:25.896Z"
   },
   {
    "duration": 14568,
    "start_time": "2021-10-01T19:10:26.683Z"
   },
   {
    "duration": 14,
    "start_time": "2021-10-01T19:10:41.257Z"
   },
   {
    "duration": 4580,
    "start_time": "2021-10-01T19:10:41.274Z"
   },
   {
    "duration": 3774,
    "start_time": "2021-10-01T19:10:45.858Z"
   },
   {
    "duration": 36,
    "start_time": "2021-10-01T19:10:49.634Z"
   },
   {
    "duration": 692,
    "start_time": "2021-10-01T19:10:49.672Z"
   },
   {
    "duration": 40,
    "start_time": "2021-10-01T19:10:50.367Z"
   },
   {
    "duration": 385,
    "start_time": "2021-10-01T19:10:50.411Z"
   },
   {
    "duration": 331,
    "start_time": "2021-10-01T19:10:50.799Z"
   },
   {
    "duration": 203,
    "start_time": "2021-10-01T19:10:51.132Z"
   },
   {
    "duration": 40,
    "start_time": "2021-10-01T19:10:51.338Z"
   },
   {
    "duration": 97,
    "start_time": "2021-10-01T19:10:51.381Z"
   },
   {
    "duration": 24,
    "start_time": "2021-10-01T19:10:51.480Z"
   },
   {
    "duration": 587,
    "start_time": "2021-10-01T19:10:51.509Z"
   },
   {
    "duration": 524,
    "start_time": "2021-10-01T19:10:52.099Z"
   },
   {
    "duration": 75,
    "start_time": "2021-10-01T19:10:52.625Z"
   },
   {
    "duration": 5,
    "start_time": "2021-10-01T19:10:52.703Z"
   },
   {
    "duration": 97,
    "start_time": "2021-10-01T19:10:52.710Z"
   },
   {
    "duration": 1847,
    "start_time": "2021-10-01T19:10:52.810Z"
   },
   {
    "duration": 150,
    "start_time": "2021-10-01T19:40:20.692Z"
   },
   {
    "duration": 29,
    "start_time": "2021-10-01T19:40:27.082Z"
   },
   {
    "duration": 98,
    "start_time": "2021-10-01T19:40:32.912Z"
   },
   {
    "duration": 68,
    "start_time": "2021-10-01T20:43:34.428Z"
   },
   {
    "duration": 25,
    "start_time": "2021-10-01T20:43:47.225Z"
   },
   {
    "duration": 47,
    "start_time": "2021-10-01T20:45:36.126Z"
   },
   {
    "duration": 10,
    "start_time": "2021-10-01T20:49:19.727Z"
   },
   {
    "duration": 1112,
    "start_time": "2021-10-01T21:01:46.859Z"
   },
   {
    "duration": 28,
    "start_time": "2021-10-01T21:01:57.429Z"
   },
   {
    "duration": 604,
    "start_time": "2021-10-01T21:02:09.075Z"
   },
   {
    "duration": 3,
    "start_time": "2021-10-01T21:06:52.845Z"
   },
   {
    "duration": 522,
    "start_time": "2021-10-01T21:08:09.347Z"
   },
   {
    "duration": 473,
    "start_time": "2021-10-01T21:08:44.265Z"
   },
   {
    "duration": 368,
    "start_time": "2021-10-01T21:10:43.587Z"
   },
   {
    "duration": 454,
    "start_time": "2021-10-01T21:11:06.737Z"
   },
   {
    "duration": 4,
    "start_time": "2021-10-01T21:11:16.739Z"
   },
   {
    "duration": 1003,
    "start_time": "2021-10-01T21:11:19.927Z"
   },
   {
    "duration": 32,
    "start_time": "2021-10-01T21:11:49.369Z"
   },
   {
    "duration": 1751,
    "start_time": "2021-10-01T21:12:13.557Z"
   },
   {
    "duration": 28,
    "start_time": "2021-10-01T21:12:23.927Z"
   },
   {
    "duration": 1652,
    "start_time": "2021-10-01T21:12:42.597Z"
   },
   {
    "duration": 604,
    "start_time": "2021-10-01T21:13:03.826Z"
   },
   {
    "duration": 142,
    "start_time": "2021-10-01T21:13:13.087Z"
   },
   {
    "duration": 607,
    "start_time": "2021-10-01T21:16:08.416Z"
   },
   {
    "duration": 144,
    "start_time": "2021-10-01T21:16:14.574Z"
   },
   {
    "duration": 685,
    "start_time": "2021-10-01T21:16:53.403Z"
   },
   {
    "duration": 203,
    "start_time": "2021-10-01T21:16:56.308Z"
   },
   {
    "duration": 1598,
    "start_time": "2021-10-01T21:20:04.242Z"
   },
   {
    "duration": 2048,
    "start_time": "2021-10-01T21:20:05.843Z"
   },
   {
    "duration": 199,
    "start_time": "2021-10-01T21:20:07.895Z"
   },
   {
    "duration": 851,
    "start_time": "2021-10-01T21:20:08.098Z"
   },
   {
    "duration": 627,
    "start_time": "2021-10-01T21:20:08.952Z"
   },
   {
    "duration": 4,
    "start_time": "2021-10-01T21:20:09.581Z"
   },
   {
    "duration": 712,
    "start_time": "2021-10-01T21:20:09.587Z"
   },
   {
    "duration": 130,
    "start_time": "2021-10-01T21:20:10.302Z"
   },
   {
    "duration": 8,
    "start_time": "2021-10-01T21:20:10.437Z"
   },
   {
    "duration": 1039,
    "start_time": "2021-10-01T21:20:10.460Z"
   },
   {
    "duration": 3228,
    "start_time": "2021-10-01T21:20:11.503Z"
   },
   {
    "duration": 51,
    "start_time": "2021-10-01T21:20:14.734Z"
   },
   {
    "duration": 895,
    "start_time": "2021-10-01T21:20:14.788Z"
   },
   {
    "duration": 13515,
    "start_time": "2021-10-01T21:20:15.687Z"
   },
   {
    "duration": 9,
    "start_time": "2021-10-01T21:20:29.204Z"
   },
   {
    "duration": 3774,
    "start_time": "2021-10-01T21:20:29.215Z"
   },
   {
    "duration": 3239,
    "start_time": "2021-10-01T21:20:32.991Z"
   },
   {
    "duration": 35,
    "start_time": "2021-10-01T21:20:36.232Z"
   },
   {
    "duration": 670,
    "start_time": "2021-10-01T21:20:36.270Z"
   },
   {
    "duration": 32,
    "start_time": "2021-10-01T21:20:36.942Z"
   },
   {
    "duration": 330,
    "start_time": "2021-10-01T21:20:36.977Z"
   },
   {
    "duration": 195,
    "start_time": "2021-10-01T21:20:37.310Z"
   },
   {
    "duration": 91,
    "start_time": "2021-10-01T21:20:37.507Z"
   },
   {
    "duration": 26,
    "start_time": "2021-10-01T21:20:37.601Z"
   },
   {
    "duration": 101,
    "start_time": "2021-10-01T21:20:37.629Z"
   },
   {
    "duration": 29,
    "start_time": "2021-10-01T21:20:37.733Z"
   },
   {
    "duration": 630,
    "start_time": "2021-10-01T21:20:37.766Z"
   },
   {
    "duration": 525,
    "start_time": "2021-10-01T21:20:38.399Z"
   },
   {
    "duration": 67,
    "start_time": "2021-10-01T21:20:38.927Z"
   },
   {
    "duration": 6,
    "start_time": "2021-10-01T21:20:38.996Z"
   },
   {
    "duration": 85,
    "start_time": "2021-10-01T21:20:39.004Z"
   },
   {
    "duration": 1939,
    "start_time": "2021-10-01T21:20:39.092Z"
   },
   {
    "duration": 166,
    "start_time": "2021-10-01T21:20:41.034Z"
   },
   {
    "duration": 116,
    "start_time": "2021-10-01T21:20:41.203Z"
   },
   {
    "duration": 700,
    "start_time": "2021-10-01T21:20:41.322Z"
   },
   {
    "duration": 232,
    "start_time": "2021-10-01T21:20:42.025Z"
   },
   {
    "duration": 18,
    "start_time": "2021-10-01T21:25:54.818Z"
   },
   {
    "duration": 472,
    "start_time": "2021-10-01T21:33:31.353Z"
   },
   {
    "duration": 6,
    "start_time": "2021-10-01T21:34:13.045Z"
   },
   {
    "duration": 94,
    "start_time": "2021-10-01T21:34:29.865Z"
   },
   {
    "duration": 7,
    "start_time": "2021-10-01T21:35:42.055Z"
   },
   {
    "duration": 1577,
    "start_time": "2021-10-01T22:14:03.163Z"
   },
   {
    "duration": 6807,
    "start_time": "2021-10-01T22:14:04.743Z"
   },
   {
    "duration": 186,
    "start_time": "2021-10-01T22:14:11.557Z"
   },
   {
    "duration": 865,
    "start_time": "2021-10-01T22:14:11.746Z"
   },
   {
    "duration": 637,
    "start_time": "2021-10-01T22:14:12.614Z"
   },
   {
    "duration": 5,
    "start_time": "2021-10-01T22:14:13.253Z"
   },
   {
    "duration": 708,
    "start_time": "2021-10-01T22:14:13.260Z"
   },
   {
    "duration": 122,
    "start_time": "2021-10-01T22:14:13.971Z"
   },
   {
    "duration": 8,
    "start_time": "2021-10-01T22:14:14.097Z"
   },
   {
    "duration": 1035,
    "start_time": "2021-10-01T22:14:14.108Z"
   },
   {
    "duration": 3178,
    "start_time": "2021-10-01T22:14:15.145Z"
   },
   {
    "duration": 49,
    "start_time": "2021-10-01T22:14:18.325Z"
   },
   {
    "duration": 853,
    "start_time": "2021-10-01T22:14:18.377Z"
   },
   {
    "duration": 13856,
    "start_time": "2021-10-01T22:14:19.233Z"
   },
   {
    "duration": 8,
    "start_time": "2021-10-01T22:14:33.092Z"
   },
   {
    "duration": 3791,
    "start_time": "2021-10-01T22:14:33.102Z"
   },
   {
    "duration": 3286,
    "start_time": "2021-10-01T22:14:36.896Z"
   },
   {
    "duration": 22,
    "start_time": "2021-10-01T22:14:40.185Z"
   },
   {
    "duration": 762,
    "start_time": "2021-10-01T22:14:40.210Z"
   },
   {
    "duration": 26,
    "start_time": "2021-10-01T22:14:40.975Z"
   },
   {
    "duration": 354,
    "start_time": "2021-10-01T22:14:41.004Z"
   },
   {
    "duration": 185,
    "start_time": "2021-10-01T22:14:41.360Z"
   },
   {
    "duration": 84,
    "start_time": "2021-10-01T22:14:41.548Z"
   },
   {
    "duration": 37,
    "start_time": "2021-10-01T22:14:41.635Z"
   },
   {
    "duration": 95,
    "start_time": "2021-10-01T22:14:41.674Z"
   },
   {
    "duration": 26,
    "start_time": "2021-10-01T22:14:41.771Z"
   },
   {
    "duration": 653,
    "start_time": "2021-10-01T22:14:41.801Z"
   },
   {
    "duration": 581,
    "start_time": "2021-10-01T22:14:42.458Z"
   },
   {
    "duration": 75,
    "start_time": "2021-10-01T22:14:43.041Z"
   },
   {
    "duration": 6,
    "start_time": "2021-10-01T22:14:43.118Z"
   },
   {
    "duration": 96,
    "start_time": "2021-10-01T22:14:43.126Z"
   },
   {
    "duration": 1796,
    "start_time": "2021-10-01T22:14:43.224Z"
   },
   {
    "duration": 171,
    "start_time": "2021-10-01T22:14:45.023Z"
   },
   {
    "duration": 112,
    "start_time": "2021-10-01T22:14:45.196Z"
   },
   {
    "duration": 686,
    "start_time": "2021-10-01T22:14:45.310Z"
   },
   {
    "duration": 217,
    "start_time": "2021-10-01T22:14:45.998Z"
   },
   {
    "duration": 17,
    "start_time": "2021-10-01T22:14:46.218Z"
   },
   {
    "duration": 107,
    "start_time": "2021-10-01T22:14:46.238Z"
   },
   {
    "duration": 14,
    "start_time": "2021-10-01T22:14:46.348Z"
   },
   {
    "duration": 803,
    "start_time": "2021-10-01T22:14:46.365Z"
   },
   {
    "duration": 34,
    "start_time": "2021-10-01T22:15:41.402Z"
   },
   {
    "duration": 1602,
    "start_time": "2021-10-01T22:16:53.131Z"
   },
   {
    "duration": 3239,
    "start_time": "2021-10-01T22:16:54.736Z"
   },
   {
    "duration": 184,
    "start_time": "2021-10-01T22:16:57.978Z"
   },
   {
    "duration": 813,
    "start_time": "2021-10-01T22:16:58.164Z"
   },
   {
    "duration": 640,
    "start_time": "2021-10-01T22:16:58.980Z"
   },
   {
    "duration": 4,
    "start_time": "2021-10-01T22:16:59.623Z"
   },
   {
    "duration": 718,
    "start_time": "2021-10-01T22:16:59.629Z"
   },
   {
    "duration": 137,
    "start_time": "2021-10-01T22:17:00.350Z"
   },
   {
    "duration": 8,
    "start_time": "2021-10-01T22:17:00.491Z"
   },
   {
    "duration": 1039,
    "start_time": "2021-10-01T22:17:00.503Z"
   },
   {
    "duration": 3175,
    "start_time": "2021-10-01T22:17:01.544Z"
   },
   {
    "duration": 46,
    "start_time": "2021-10-01T22:17:04.721Z"
   },
   {
    "duration": 912,
    "start_time": "2021-10-01T22:17:04.770Z"
   },
   {
    "duration": 13853,
    "start_time": "2021-10-01T22:17:05.685Z"
   },
   {
    "duration": 16,
    "start_time": "2021-10-01T22:17:19.541Z"
   },
   {
    "duration": 3864,
    "start_time": "2021-10-01T22:17:19.560Z"
   },
   {
    "duration": 3338,
    "start_time": "2021-10-01T22:17:23.426Z"
   },
   {
    "duration": 24,
    "start_time": "2021-10-01T22:17:26.768Z"
   },
   {
    "duration": 665,
    "start_time": "2021-10-01T22:17:26.794Z"
   },
   {
    "duration": 25,
    "start_time": "2021-10-01T22:17:27.462Z"
   },
   {
    "duration": 367,
    "start_time": "2021-10-01T22:17:27.490Z"
   },
   {
    "duration": 183,
    "start_time": "2021-10-01T22:17:27.860Z"
   },
   {
    "duration": 87,
    "start_time": "2021-10-01T22:17:28.046Z"
   },
   {
    "duration": 29,
    "start_time": "2021-10-01T22:17:28.136Z"
   },
   {
    "duration": 99,
    "start_time": "2021-10-01T22:17:28.167Z"
   },
   {
    "duration": 27,
    "start_time": "2021-10-01T22:17:28.269Z"
   },
   {
    "duration": 627,
    "start_time": "2021-10-01T22:17:28.301Z"
   },
   {
    "duration": 529,
    "start_time": "2021-10-01T22:17:28.930Z"
   },
   {
    "duration": 65,
    "start_time": "2021-10-01T22:17:29.461Z"
   },
   {
    "duration": 29,
    "start_time": "2021-10-01T22:17:29.528Z"
   },
   {
    "duration": 79,
    "start_time": "2021-10-01T22:17:29.560Z"
   },
   {
    "duration": 1761,
    "start_time": "2021-10-01T22:17:29.641Z"
   },
   {
    "duration": 172,
    "start_time": "2021-10-01T22:17:31.405Z"
   },
   {
    "duration": 100,
    "start_time": "2021-10-01T22:17:31.580Z"
   },
   {
    "duration": 840,
    "start_time": "2021-10-01T22:17:31.683Z"
   },
   {
    "duration": 308,
    "start_time": "2021-10-01T22:17:32.525Z"
   },
   {
    "duration": 37,
    "start_time": "2021-10-01T22:17:32.837Z"
   },
   {
    "duration": 21,
    "start_time": "2021-10-01T22:17:32.878Z"
   },
   {
    "duration": 126,
    "start_time": "2021-10-01T22:17:32.902Z"
   },
   {
    "duration": 9,
    "start_time": "2021-10-01T22:17:33.032Z"
   },
   {
    "duration": 148,
    "start_time": "2021-10-01T22:17:33.044Z"
   },
   {
    "duration": 33,
    "start_time": "2021-10-01T22:17:58.861Z"
   },
   {
    "duration": 510,
    "start_time": "2021-10-01T22:18:54.449Z"
   },
   {
    "duration": 193,
    "start_time": "2021-10-01T22:19:14.208Z"
   },
   {
    "duration": 91,
    "start_time": "2021-10-01T22:20:30.539Z"
   },
   {
    "duration": 178,
    "start_time": "2021-10-01T22:20:40.535Z"
   },
   {
    "duration": 268,
    "start_time": "2021-10-01T22:21:01.173Z"
   },
   {
    "duration": 256,
    "start_time": "2021-10-01T22:21:15.471Z"
   },
   {
    "duration": 287,
    "start_time": "2021-10-01T22:21:27.221Z"
   },
   {
    "duration": 167,
    "start_time": "2021-10-01T22:23:07.821Z"
   },
   {
    "duration": 508,
    "start_time": "2021-10-01T22:33:46.854Z"
   },
   {
    "duration": 529,
    "start_time": "2021-10-01T22:34:01.997Z"
   },
   {
    "duration": 1863,
    "start_time": "2021-10-01T22:34:14.887Z"
   },
   {
    "duration": 1781,
    "start_time": "2021-10-01T22:35:54.793Z"
   },
   {
    "duration": 1849,
    "start_time": "2021-10-01T22:37:40.431Z"
   },
   {
    "duration": 1787,
    "start_time": "2021-10-01T22:37:49.257Z"
   },
   {
    "duration": 1914,
    "start_time": "2021-10-02T19:46:18.597Z"
   },
   {
    "duration": 2557,
    "start_time": "2021-10-02T19:46:20.515Z"
   },
   {
    "duration": 311,
    "start_time": "2021-10-02T19:46:23.077Z"
   },
   {
    "duration": 1719,
    "start_time": "2021-10-02T19:46:23.392Z"
   },
   {
    "duration": 721,
    "start_time": "2021-10-02T19:46:25.114Z"
   },
   {
    "duration": 4,
    "start_time": "2021-10-02T19:46:25.838Z"
   },
   {
    "duration": 700,
    "start_time": "2021-10-02T19:46:25.845Z"
   },
   {
    "duration": 126,
    "start_time": "2021-10-02T19:46:26.547Z"
   },
   {
    "duration": 10,
    "start_time": "2021-10-02T19:46:26.688Z"
   },
   {
    "duration": 1087,
    "start_time": "2021-10-02T19:46:26.703Z"
   },
   {
    "duration": 3427,
    "start_time": "2021-10-02T19:46:27.794Z"
   },
   {
    "duration": 32,
    "start_time": "2021-10-02T19:46:31.224Z"
   },
   {
    "duration": 909,
    "start_time": "2021-10-02T19:46:31.259Z"
   },
   {
    "duration": 14397,
    "start_time": "2021-10-02T19:46:32.186Z"
   },
   {
    "duration": 8,
    "start_time": "2021-10-02T19:46:46.588Z"
   },
   {
    "duration": 5474,
    "start_time": "2021-10-02T19:46:46.599Z"
   },
   {
    "duration": 3574,
    "start_time": "2021-10-02T19:46:52.075Z"
   },
   {
    "duration": 44,
    "start_time": "2021-10-02T19:46:55.651Z"
   },
   {
    "duration": 703,
    "start_time": "2021-10-02T19:46:55.697Z"
   },
   {
    "duration": 25,
    "start_time": "2021-10-02T19:46:56.403Z"
   },
   {
    "duration": 359,
    "start_time": "2021-10-02T19:46:56.430Z"
   },
   {
    "duration": 208,
    "start_time": "2021-10-02T19:46:56.793Z"
   },
   {
    "duration": 100,
    "start_time": "2021-10-02T19:46:57.004Z"
   },
   {
    "duration": 28,
    "start_time": "2021-10-02T19:46:57.106Z"
   },
   {
    "duration": 116,
    "start_time": "2021-10-02T19:46:57.137Z"
   },
   {
    "duration": 30,
    "start_time": "2021-10-02T19:46:57.256Z"
   },
   {
    "duration": 934,
    "start_time": "2021-10-02T19:46:57.294Z"
   },
   {
    "duration": 819,
    "start_time": "2021-10-02T19:46:58.232Z"
   },
   {
    "duration": 87,
    "start_time": "2021-10-02T19:46:59.055Z"
   },
   {
    "duration": 8,
    "start_time": "2021-10-02T19:46:59.145Z"
   },
   {
    "duration": 103,
    "start_time": "2021-10-02T19:46:59.156Z"
   },
   {
    "duration": 1926,
    "start_time": "2021-10-02T19:46:59.262Z"
   },
   {
    "duration": 169,
    "start_time": "2021-10-02T19:47:01.190Z"
   },
   {
    "duration": 123,
    "start_time": "2021-10-02T19:47:01.361Z"
   },
   {
    "duration": 885,
    "start_time": "2021-10-02T19:47:01.487Z"
   },
   {
    "duration": 252,
    "start_time": "2021-10-02T19:47:02.375Z"
   },
   {
    "duration": 21,
    "start_time": "2021-10-02T19:47:02.629Z"
   },
   {
    "duration": 44,
    "start_time": "2021-10-02T19:47:02.653Z"
   },
   {
    "duration": 88,
    "start_time": "2021-10-02T19:47:02.700Z"
   },
   {
    "duration": 10,
    "start_time": "2021-10-02T19:47:02.791Z"
   },
   {
    "duration": 150,
    "start_time": "2021-10-02T19:47:02.804Z"
   },
   {
    "duration": 317,
    "start_time": "2021-10-02T19:47:02.957Z"
   },
   {
    "duration": 2057,
    "start_time": "2021-10-02T19:47:03.276Z"
   },
   {
    "duration": 6,
    "start_time": "2021-10-02T20:13:00.263Z"
   },
   {
    "duration": 431,
    "start_time": "2021-10-02T20:37:28.696Z"
   },
   {
    "duration": 300,
    "start_time": "2021-10-02T20:37:47.619Z"
   },
   {
    "duration": 9700,
    "start_time": "2021-10-02T20:38:35.221Z"
   },
   {
    "duration": 3627,
    "start_time": "2021-10-02T20:39:08.478Z"
   },
   {
    "duration": 1628,
    "start_time": "2021-10-02T20:39:12.108Z"
   },
   {
    "duration": 2220,
    "start_time": "2021-10-02T20:39:13.739Z"
   },
   {
    "duration": 193,
    "start_time": "2021-10-02T20:39:15.962Z"
   },
   {
    "duration": 797,
    "start_time": "2021-10-02T20:39:16.158Z"
   },
   {
    "duration": 658,
    "start_time": "2021-10-02T20:39:16.958Z"
   },
   {
    "duration": 4,
    "start_time": "2021-10-02T20:39:17.619Z"
   },
   {
    "duration": 713,
    "start_time": "2021-10-02T20:39:17.625Z"
   },
   {
    "duration": 128,
    "start_time": "2021-10-02T20:39:18.342Z"
   },
   {
    "duration": 12,
    "start_time": "2021-10-02T20:39:18.481Z"
   },
   {
    "duration": 1110,
    "start_time": "2021-10-02T20:39:18.496Z"
   },
   {
    "duration": 3259,
    "start_time": "2021-10-02T20:39:19.608Z"
   },
   {
    "duration": 42,
    "start_time": "2021-10-02T20:39:22.870Z"
   },
   {
    "duration": 888,
    "start_time": "2021-10-02T20:39:22.915Z"
   },
   {
    "duration": 14077,
    "start_time": "2021-10-02T20:39:23.806Z"
   },
   {
    "duration": 11,
    "start_time": "2021-10-02T20:39:37.887Z"
   },
   {
    "duration": 4242,
    "start_time": "2021-10-02T20:39:37.901Z"
   },
   {
    "duration": 3487,
    "start_time": "2021-10-02T20:39:42.146Z"
   },
   {
    "duration": 25,
    "start_time": "2021-10-02T20:39:45.635Z"
   },
   {
    "duration": 736,
    "start_time": "2021-10-02T20:39:45.662Z"
   },
   {
    "duration": 23,
    "start_time": "2021-10-02T20:39:46.401Z"
   },
   {
    "duration": 345,
    "start_time": "2021-10-02T20:39:46.427Z"
   },
   {
    "duration": 195,
    "start_time": "2021-10-02T20:39:46.774Z"
   },
   {
    "duration": 90,
    "start_time": "2021-10-02T20:39:46.971Z"
   },
   {
    "duration": 51,
    "start_time": "2021-10-02T20:39:47.063Z"
   },
   {
    "duration": 96,
    "start_time": "2021-10-02T20:39:47.116Z"
   },
   {
    "duration": 25,
    "start_time": "2021-10-02T20:39:47.218Z"
   },
   {
    "duration": 597,
    "start_time": "2021-10-02T20:39:47.245Z"
   },
   {
    "duration": 523,
    "start_time": "2021-10-02T20:39:47.845Z"
   },
   {
    "duration": 71,
    "start_time": "2021-10-02T20:39:48.371Z"
   },
   {
    "duration": 6,
    "start_time": "2021-10-02T20:39:48.444Z"
   },
   {
    "duration": 99,
    "start_time": "2021-10-02T20:39:48.453Z"
   },
   {
    "duration": 1795,
    "start_time": "2021-10-02T20:39:48.554Z"
   },
   {
    "duration": 160,
    "start_time": "2021-10-02T20:39:50.351Z"
   },
   {
    "duration": 115,
    "start_time": "2021-10-02T20:39:50.513Z"
   },
   {
    "duration": 908,
    "start_time": "2021-10-02T20:39:50.631Z"
   },
   {
    "duration": 247,
    "start_time": "2021-10-02T20:39:51.542Z"
   },
   {
    "duration": 21,
    "start_time": "2021-10-02T20:39:51.792Z"
   },
   {
    "duration": 13,
    "start_time": "2021-10-02T20:39:51.816Z"
   },
   {
    "duration": 102,
    "start_time": "2021-10-02T20:39:51.832Z"
   },
   {
    "duration": 7,
    "start_time": "2021-10-02T20:39:51.936Z"
   },
   {
    "duration": 149,
    "start_time": "2021-10-02T20:39:51.945Z"
   },
   {
    "duration": 302,
    "start_time": "2021-10-02T20:39:52.097Z"
   },
   {
    "duration": 1815,
    "start_time": "2021-10-02T20:39:52.402Z"
   },
   {
    "duration": 599,
    "start_time": "2021-10-02T20:39:54.219Z"
   },
   {
    "duration": 400,
    "start_time": "2021-10-02T20:48:26.957Z"
   },
   {
    "duration": 114,
    "start_time": "2021-10-02T20:48:52.838Z"
   },
   {
    "duration": 89,
    "start_time": "2021-10-02T20:49:18.045Z"
   },
   {
    "duration": 737,
    "start_time": "2021-10-02T20:49:53.791Z"
   },
   {
    "duration": 422,
    "start_time": "2021-10-02T20:50:07.336Z"
   },
   {
    "duration": 2500,
    "start_time": "2021-10-02T20:57:13.552Z"
   },
   {
    "duration": 3771,
    "start_time": "2021-10-02T21:03:06.314Z"
   },
   {
    "duration": 1665,
    "start_time": "2021-10-02T21:03:10.088Z"
   },
   {
    "duration": 1721,
    "start_time": "2021-10-02T21:03:11.757Z"
   },
   {
    "duration": 186,
    "start_time": "2021-10-02T21:03:13.486Z"
   },
   {
    "duration": 1202,
    "start_time": "2021-10-02T21:03:13.675Z"
   },
   {
    "duration": 660,
    "start_time": "2021-10-02T21:03:14.883Z"
   },
   {
    "duration": 5,
    "start_time": "2021-10-02T21:03:15.545Z"
   },
   {
    "duration": 697,
    "start_time": "2021-10-02T21:03:15.552Z"
   },
   {
    "duration": 117,
    "start_time": "2021-10-02T21:03:16.253Z"
   },
   {
    "duration": 14,
    "start_time": "2021-10-02T21:03:16.383Z"
   },
   {
    "duration": 1100,
    "start_time": "2021-10-02T21:03:16.400Z"
   },
   {
    "duration": 3393,
    "start_time": "2021-10-02T21:03:17.502Z"
   },
   {
    "duration": 34,
    "start_time": "2021-10-02T21:03:20.898Z"
   },
   {
    "duration": 907,
    "start_time": "2021-10-02T21:03:20.934Z"
   },
   {
    "duration": 13795,
    "start_time": "2021-10-02T21:03:21.843Z"
   },
   {
    "duration": 9,
    "start_time": "2021-10-02T21:03:35.640Z"
   },
   {
    "duration": 4119,
    "start_time": "2021-10-02T21:03:35.652Z"
   },
   {
    "duration": 3385,
    "start_time": "2021-10-02T21:03:39.782Z"
   },
   {
    "duration": 34,
    "start_time": "2021-10-02T21:03:43.169Z"
   },
   {
    "duration": 702,
    "start_time": "2021-10-02T21:03:43.205Z"
   },
   {
    "duration": 25,
    "start_time": "2021-10-02T21:03:43.909Z"
   },
   {
    "duration": 362,
    "start_time": "2021-10-02T21:03:43.936Z"
   },
   {
    "duration": 192,
    "start_time": "2021-10-02T21:03:44.301Z"
   },
   {
    "duration": 87,
    "start_time": "2021-10-02T21:03:44.496Z"
   },
   {
    "duration": 32,
    "start_time": "2021-10-02T21:03:44.586Z"
   },
   {
    "duration": 110,
    "start_time": "2021-10-02T21:03:44.621Z"
   },
   {
    "duration": 25,
    "start_time": "2021-10-02T21:03:44.736Z"
   },
   {
    "duration": 607,
    "start_time": "2021-10-02T21:03:44.764Z"
   },
   {
    "duration": 536,
    "start_time": "2021-10-02T21:03:45.373Z"
   },
   {
    "duration": 71,
    "start_time": "2021-10-02T21:03:45.911Z"
   },
   {
    "duration": 9,
    "start_time": "2021-10-02T21:03:45.985Z"
   },
   {
    "duration": 114,
    "start_time": "2021-10-02T21:03:45.998Z"
   },
   {
    "duration": 1828,
    "start_time": "2021-10-02T21:03:46.114Z"
   },
   {
    "duration": 179,
    "start_time": "2021-10-02T21:03:47.944Z"
   },
   {
    "duration": 115,
    "start_time": "2021-10-02T21:03:48.125Z"
   },
   {
    "duration": 1174,
    "start_time": "2021-10-02T21:03:48.243Z"
   },
   {
    "duration": 567,
    "start_time": "2021-10-02T21:03:56.234Z"
   },
   {
    "duration": 28,
    "start_time": "2021-10-02T21:04:02.416Z"
   },
   {
    "duration": 397,
    "start_time": "2021-10-02T21:09:47.051Z"
   },
   {
    "duration": 596,
    "start_time": "2021-10-02T21:09:50.514Z"
   },
   {
    "duration": 3736,
    "start_time": "2021-10-02T21:10:20.269Z"
   },
   {
    "duration": 1551,
    "start_time": "2021-10-02T21:10:24.008Z"
   },
   {
    "duration": 1879,
    "start_time": "2021-10-02T21:10:25.562Z"
   },
   {
    "duration": 193,
    "start_time": "2021-10-02T21:10:27.443Z"
   },
   {
    "duration": 895,
    "start_time": "2021-10-02T21:10:27.638Z"
   },
   {
    "duration": 700,
    "start_time": "2021-10-02T21:10:28.536Z"
   },
   {
    "duration": 4,
    "start_time": "2021-10-02T21:10:29.238Z"
   },
   {
    "duration": 702,
    "start_time": "2021-10-02T21:10:29.244Z"
   },
   {
    "duration": 142,
    "start_time": "2021-10-02T21:10:29.950Z"
   },
   {
    "duration": 10,
    "start_time": "2021-10-02T21:10:30.096Z"
   },
   {
    "duration": 1147,
    "start_time": "2021-10-02T21:10:30.108Z"
   },
   {
    "duration": 3231,
    "start_time": "2021-10-02T21:10:31.258Z"
   },
   {
    "duration": 37,
    "start_time": "2021-10-02T21:10:34.492Z"
   },
   {
    "duration": 907,
    "start_time": "2021-10-02T21:10:34.532Z"
   },
   {
    "duration": 14006,
    "start_time": "2021-10-02T21:10:35.442Z"
   },
   {
    "duration": 7,
    "start_time": "2021-10-02T21:10:49.451Z"
   },
   {
    "duration": 4710,
    "start_time": "2021-10-02T21:10:49.461Z"
   },
   {
    "duration": 3376,
    "start_time": "2021-10-02T21:10:54.173Z"
   },
   {
    "duration": 45,
    "start_time": "2021-10-02T21:10:57.552Z"
   },
   {
    "duration": 692,
    "start_time": "2021-10-02T21:10:57.600Z"
   },
   {
    "duration": 26,
    "start_time": "2021-10-02T21:10:58.295Z"
   },
   {
    "duration": 350,
    "start_time": "2021-10-02T21:10:58.324Z"
   },
   {
    "duration": 198,
    "start_time": "2021-10-02T21:10:58.677Z"
   },
   {
    "duration": 84,
    "start_time": "2021-10-02T21:10:58.878Z"
   },
   {
    "duration": 52,
    "start_time": "2021-10-02T21:10:58.965Z"
   },
   {
    "duration": 104,
    "start_time": "2021-10-02T21:10:59.020Z"
   },
   {
    "duration": 25,
    "start_time": "2021-10-02T21:10:59.130Z"
   },
   {
    "duration": 584,
    "start_time": "2021-10-02T21:10:59.158Z"
   },
   {
    "duration": 567,
    "start_time": "2021-10-02T21:10:59.745Z"
   },
   {
    "duration": 76,
    "start_time": "2021-10-02T21:11:00.314Z"
   },
   {
    "duration": 6,
    "start_time": "2021-10-02T21:11:00.392Z"
   },
   {
    "duration": 102,
    "start_time": "2021-10-02T21:11:00.400Z"
   },
   {
    "duration": 1824,
    "start_time": "2021-10-02T21:11:00.506Z"
   },
   {
    "duration": 159,
    "start_time": "2021-10-02T21:11:02.333Z"
   },
   {
    "duration": 104,
    "start_time": "2021-10-02T21:11:02.495Z"
   },
   {
    "duration": 844,
    "start_time": "2021-10-02T21:11:02.602Z"
   },
   {
    "duration": 270,
    "start_time": "2021-10-02T21:11:03.449Z"
   },
   {
    "duration": 25,
    "start_time": "2021-10-02T21:11:12.288Z"
   },
   {
    "duration": 15,
    "start_time": "2021-10-02T21:11:26.508Z"
   },
   {
    "duration": 80,
    "start_time": "2021-10-02T21:11:26.526Z"
   },
   {
    "duration": 7,
    "start_time": "2021-10-02T21:11:26.609Z"
   },
   {
    "duration": 90,
    "start_time": "2021-10-02T21:11:26.619Z"
   },
   {
    "duration": 301,
    "start_time": "2021-10-02T21:11:26.712Z"
   },
   {
    "duration": 1811,
    "start_time": "2021-10-02T21:11:27.016Z"
   },
   {
    "duration": 8426,
    "start_time": "2021-10-02T21:11:28.829Z"
   },
   {
    "duration": 12332,
    "start_time": "2021-10-02T21:12:19.989Z"
   },
   {
    "duration": 258,
    "start_time": "2021-10-02T21:13:47.365Z"
   },
   {
    "duration": 12492,
    "start_time": "2021-10-02T21:13:59.072Z"
   },
   {
    "duration": 12438,
    "start_time": "2021-10-02T21:15:51.307Z"
   },
   {
    "duration": 126,
    "start_time": "2021-10-02T21:18:51.663Z"
   },
   {
    "duration": 12497,
    "start_time": "2021-10-02T21:18:57.749Z"
   },
   {
    "duration": 91,
    "start_time": "2021-10-02T21:30:38.740Z"
   },
   {
    "duration": 12660,
    "start_time": "2021-10-02T21:31:05.573Z"
   },
   {
    "duration": 12611,
    "start_time": "2021-10-02T21:34:03.001Z"
   },
   {
    "duration": 11813,
    "start_time": "2021-10-02T21:34:34.355Z"
   },
   {
    "duration": 94,
    "start_time": "2021-10-02T21:42:44.156Z"
   },
   {
    "duration": 15565,
    "start_time": "2021-10-02T21:43:06.150Z"
   },
   {
    "duration": 84319,
    "start_time": "2021-10-02T21:43:39.825Z"
   },
   {
    "duration": 15499,
    "start_time": "2021-10-02T21:45:39.106Z"
   },
   {
    "duration": 52365,
    "start_time": "2021-10-02T21:46:40.244Z"
   },
   {
    "duration": 6692,
    "start_time": "2021-10-02T21:49:54.453Z"
   },
   {
    "duration": 6891,
    "start_time": "2021-10-02T21:50:13.443Z"
   },
   {
    "duration": 2443,
    "start_time": "2021-10-02T21:51:03.195Z"
   },
   {
    "duration": 1896,
    "start_time": "2021-10-02T21:51:18.217Z"
   },
   {
    "duration": 3133,
    "start_time": "2021-10-02T21:51:29.675Z"
   },
   {
    "duration": 6867,
    "start_time": "2021-10-02T21:51:43.584Z"
   },
   {
    "duration": 395,
    "start_time": "2021-10-02T21:52:28.351Z"
   },
   {
    "duration": 794,
    "start_time": "2021-10-02T21:52:39.025Z"
   },
   {
    "duration": 4369,
    "start_time": "2021-10-02T21:53:10.422Z"
   },
   {
    "duration": 6196,
    "start_time": "2021-10-02T21:53:20.969Z"
   },
   {
    "duration": 7860,
    "start_time": "2021-10-02T21:53:38.128Z"
   },
   {
    "duration": 6984,
    "start_time": "2021-10-02T21:53:53.964Z"
   },
   {
    "duration": 6859,
    "start_time": "2021-10-02T21:54:07.709Z"
   },
   {
    "duration": 6416,
    "start_time": "2021-10-02T21:54:20.817Z"
   },
   {
    "duration": 5731,
    "start_time": "2021-10-02T21:54:32.886Z"
   },
   {
    "duration": 6440,
    "start_time": "2021-10-02T21:54:46.294Z"
   },
   {
    "duration": 6466,
    "start_time": "2021-10-02T21:55:07.483Z"
   },
   {
    "duration": 6456,
    "start_time": "2021-10-02T21:55:19.575Z"
   },
   {
    "duration": 6667,
    "start_time": "2021-10-02T21:55:36.186Z"
   },
   {
    "duration": 5,
    "start_time": "2021-10-02T22:01:28.854Z"
   },
   {
    "duration": 6,
    "start_time": "2021-10-02T22:02:35.786Z"
   },
   {
    "duration": 6388,
    "start_time": "2021-10-02T22:03:30.508Z"
   },
   {
    "duration": 4,
    "start_time": "2021-10-02T22:06:06.976Z"
   },
   {
    "duration": 6284,
    "start_time": "2021-10-02T22:06:10.116Z"
   },
   {
    "duration": 4,
    "start_time": "2021-10-02T22:06:58.926Z"
   },
   {
    "duration": 239676,
    "start_time": "2021-10-02T22:10:43.600Z"
   },
   {
    "duration": 84143,
    "start_time": "2021-10-02T22:16:23.705Z"
   },
   {
    "duration": 166876,
    "start_time": "2021-10-02T22:19:14.267Z"
   },
   {
    "duration": 1115242,
    "start_time": "2021-10-02T22:28:01.036Z"
   },
   {
    "duration": 178507,
    "start_time": "2021-10-02T22:46:46.799Z"
   },
   {
    "duration": 29130,
    "start_time": "2021-10-02T22:50:33.075Z"
   },
   {
    "duration": 101883,
    "start_time": "2021-10-02T22:51:51.090Z"
   },
   {
    "duration": 347375,
    "start_time": "2021-10-02T22:55:03.059Z"
   },
   {
    "duration": 14691,
    "start_time": "2021-10-03T09:04:55.309Z"
   },
   {
    "duration": 1820,
    "start_time": "2021-10-03T09:05:10.003Z"
   },
   {
    "duration": 4106,
    "start_time": "2021-10-03T09:05:11.827Z"
   },
   {
    "duration": 201,
    "start_time": "2021-10-03T09:05:15.936Z"
   },
   {
    "duration": 2662,
    "start_time": "2021-10-03T09:05:16.139Z"
   },
   {
    "duration": 930,
    "start_time": "2021-10-03T09:05:18.804Z"
   },
   {
    "duration": 4,
    "start_time": "2021-10-03T09:05:19.737Z"
   },
   {
    "duration": 857,
    "start_time": "2021-10-03T09:05:19.743Z"
   },
   {
    "duration": 117,
    "start_time": "2021-10-03T09:05:20.604Z"
   },
   {
    "duration": 8,
    "start_time": "2021-10-03T09:05:20.724Z"
   },
   {
    "duration": 1568,
    "start_time": "2021-10-03T09:05:20.735Z"
   },
   {
    "duration": 3738,
    "start_time": "2021-10-03T09:05:22.305Z"
   },
   {
    "duration": 35,
    "start_time": "2021-10-03T09:05:26.046Z"
   },
   {
    "duration": 1067,
    "start_time": "2021-10-03T09:05:26.084Z"
   },
   {
    "duration": 15534,
    "start_time": "2021-10-03T09:05:27.154Z"
   },
   {
    "duration": 27,
    "start_time": "2021-10-03T09:05:42.691Z"
   },
   {
    "duration": 3792,
    "start_time": "2021-10-03T09:05:42.720Z"
   },
   {
    "duration": 3434,
    "start_time": "2021-10-03T09:05:46.517Z"
   },
   {
    "duration": 25,
    "start_time": "2021-10-03T09:05:49.953Z"
   },
   {
    "duration": 705,
    "start_time": "2021-10-03T09:05:49.981Z"
   },
   {
    "duration": 39,
    "start_time": "2021-10-03T09:05:50.689Z"
   },
   {
    "duration": 346,
    "start_time": "2021-10-03T09:05:50.731Z"
   },
   {
    "duration": 204,
    "start_time": "2021-10-03T09:05:51.080Z"
   },
   {
    "duration": 96,
    "start_time": "2021-10-03T09:05:51.287Z"
   },
   {
    "duration": 31,
    "start_time": "2021-10-03T09:05:51.386Z"
   },
   {
    "duration": 167,
    "start_time": "2021-10-03T09:05:51.420Z"
   },
   {
    "duration": 106,
    "start_time": "2021-10-03T09:05:51.613Z"
   },
   {
    "duration": 726,
    "start_time": "2021-10-03T09:05:51.734Z"
   },
   {
    "duration": 555,
    "start_time": "2021-10-03T09:05:52.462Z"
   },
   {
    "duration": 62,
    "start_time": "2021-10-03T09:05:53.019Z"
   },
   {
    "duration": 5,
    "start_time": "2021-10-03T09:05:53.083Z"
   },
   {
    "duration": 101,
    "start_time": "2021-10-03T09:05:53.091Z"
   },
   {
    "duration": 1906,
    "start_time": "2021-10-03T09:05:53.194Z"
   },
   {
    "duration": 164,
    "start_time": "2021-10-03T09:05:55.103Z"
   },
   {
    "duration": 112,
    "start_time": "2021-10-03T09:05:55.269Z"
   },
   {
    "duration": 832,
    "start_time": "2021-10-03T09:05:55.384Z"
   },
   {
    "duration": 237,
    "start_time": "2021-10-03T09:05:56.219Z"
   },
   {
    "duration": 2533,
    "start_time": "2021-10-03T09:05:56.459Z"
   },
   {
    "duration": 29,
    "start_time": "2021-10-03T09:05:58.994Z"
   },
   {
    "duration": 14,
    "start_time": "2021-10-03T09:05:59.026Z"
   },
   {
    "duration": 95,
    "start_time": "2021-10-03T09:05:59.042Z"
   },
   {
    "duration": 7,
    "start_time": "2021-10-03T09:05:59.139Z"
   },
   {
    "duration": 102,
    "start_time": "2021-10-03T09:05:59.148Z"
   },
   {
    "duration": 295,
    "start_time": "2021-10-03T09:05:59.253Z"
   },
   {
    "duration": 1922,
    "start_time": "2021-10-03T09:05:59.551Z"
   },
   {
    "duration": 5,
    "start_time": "2021-10-03T09:06:01.476Z"
   },
   {
    "duration": 4,
    "start_time": "2021-10-03T09:06:14.639Z"
   },
   {
    "duration": 27142,
    "start_time": "2021-10-03T09:06:33.181Z"
   },
   {
    "duration": 64428,
    "start_time": "2021-10-03T09:07:15.942Z"
   },
   {
    "duration": 38599,
    "start_time": "2021-10-03T09:08:59.599Z"
   },
   {
    "duration": 364639,
    "start_time": "2021-10-03T09:09:48.826Z"
   },
   {
    "duration": 2028183,
    "start_time": "2021-10-03T09:19:37.649Z"
   },
   {
    "duration": 747194,
    "start_time": "2021-10-03T09:53:36.206Z"
   },
   {
    "duration": 210626,
    "start_time": "2021-10-03T10:06:59.492Z"
   },
   {
    "duration": 386,
    "start_time": "2021-10-03T10:13:59.192Z"
   },
   {
    "duration": 393,
    "start_time": "2021-10-03T10:14:51.322Z"
   },
   {
    "duration": 762,
    "start_time": "2021-10-03T10:14:58.431Z"
   },
   {
    "duration": 1474,
    "start_time": "2021-10-03T10:15:16.064Z"
   },
   {
    "duration": 3263,
    "start_time": "2021-10-03T10:16:30.222Z"
   },
   {
    "duration": 3,
    "start_time": "2021-10-03T10:17:07.042Z"
   },
   {
    "duration": 904,
    "start_time": "2021-10-03T10:17:10.389Z"
   },
   {
    "duration": 1652,
    "start_time": "2021-10-03T10:17:23.491Z"
   },
   {
    "duration": 1510,
    "start_time": "2021-10-03T10:17:33.433Z"
   },
   {
    "duration": 1831,
    "start_time": "2021-10-03T10:17:42.197Z"
   },
   {
    "duration": 1533,
    "start_time": "2021-10-03T10:17:51.005Z"
   },
   {
    "duration": 6898,
    "start_time": "2021-10-03T19:30:02.664Z"
   },
   {
    "duration": 1216,
    "start_time": "2021-10-03T19:30:09.564Z"
   },
   {
    "duration": 1751,
    "start_time": "2021-10-03T19:30:10.782Z"
   },
   {
    "duration": 156,
    "start_time": "2021-10-03T19:30:12.534Z"
   },
   {
    "duration": 725,
    "start_time": "2021-10-03T19:30:12.692Z"
   },
   {
    "duration": 460,
    "start_time": "2021-10-03T19:30:13.419Z"
   },
   {
    "duration": 4,
    "start_time": "2021-10-03T19:30:13.881Z"
   },
   {
    "duration": 443,
    "start_time": "2021-10-03T19:30:13.888Z"
   },
   {
    "duration": 97,
    "start_time": "2021-10-03T19:30:14.333Z"
   },
   {
    "duration": 13,
    "start_time": "2021-10-03T19:30:14.432Z"
   },
   {
    "duration": 703,
    "start_time": "2021-10-03T19:30:14.447Z"
   },
   {
    "duration": 1871,
    "start_time": "2021-10-03T19:30:15.151Z"
   },
   {
    "duration": 30,
    "start_time": "2021-10-03T19:30:17.024Z"
   },
   {
    "duration": 581,
    "start_time": "2021-10-03T19:30:17.056Z"
   },
   {
    "duration": 7633,
    "start_time": "2021-10-03T19:30:17.639Z"
   },
   {
    "duration": 6,
    "start_time": "2021-10-03T19:30:25.274Z"
   },
   {
    "duration": 2352,
    "start_time": "2021-10-03T19:30:25.282Z"
   },
   {
    "duration": 1908,
    "start_time": "2021-10-03T19:30:27.636Z"
   },
   {
    "duration": 14,
    "start_time": "2021-10-03T19:30:29.546Z"
   },
   {
    "duration": 392,
    "start_time": "2021-10-03T19:30:29.562Z"
   },
   {
    "duration": 17,
    "start_time": "2021-10-03T19:30:29.956Z"
   },
   {
    "duration": 245,
    "start_time": "2021-10-03T19:30:29.975Z"
   },
   {
    "duration": 134,
    "start_time": "2021-10-03T19:30:30.224Z"
   },
   {
    "duration": 45,
    "start_time": "2021-10-03T19:30:30.360Z"
   },
   {
    "duration": 18,
    "start_time": "2021-10-03T19:30:30.407Z"
   },
   {
    "duration": 65,
    "start_time": "2021-10-03T19:30:30.426Z"
   },
   {
    "duration": 21,
    "start_time": "2021-10-03T19:30:30.492Z"
   },
   {
    "duration": 414,
    "start_time": "2021-10-03T19:30:30.515Z"
   },
   {
    "duration": 337,
    "start_time": "2021-10-03T19:30:30.930Z"
   },
   {
    "duration": 37,
    "start_time": "2021-10-03T19:30:31.268Z"
   },
   {
    "duration": 3,
    "start_time": "2021-10-03T19:30:31.307Z"
   },
   {
    "duration": 64,
    "start_time": "2021-10-03T19:30:31.312Z"
   },
   {
    "duration": 1077,
    "start_time": "2021-10-03T19:30:31.377Z"
   },
   {
    "duration": 99,
    "start_time": "2021-10-03T19:30:32.456Z"
   },
   {
    "duration": 88,
    "start_time": "2021-10-03T19:30:32.557Z"
   },
   {
    "duration": 476,
    "start_time": "2021-10-03T19:30:32.647Z"
   },
   {
    "duration": 178,
    "start_time": "2021-10-03T19:30:33.125Z"
   },
   {
    "duration": 13,
    "start_time": "2021-10-03T19:30:33.305Z"
   },
   {
    "duration": 9,
    "start_time": "2021-10-03T19:30:33.320Z"
   },
   {
    "duration": 72,
    "start_time": "2021-10-03T19:30:33.331Z"
   },
   {
    "duration": 4,
    "start_time": "2021-10-03T19:30:33.405Z"
   },
   {
    "duration": 77,
    "start_time": "2021-10-03T19:30:33.410Z"
   },
   {
    "duration": 198,
    "start_time": "2021-10-03T19:30:33.489Z"
   },
   {
    "duration": 1114,
    "start_time": "2021-10-03T19:30:33.688Z"
   },
   {
    "duration": 3,
    "start_time": "2021-10-03T19:30:34.803Z"
   },
   {
    "duration": 2,
    "start_time": "2021-10-03T19:34:00.260Z"
   },
   {
    "duration": 605805,
    "start_time": "2021-10-03T19:38:47.068Z"
   },
   {
    "duration": -163,
    "start_time": "2021-10-03T19:48:53.038Z"
   },
   {
    "duration": 14727,
    "start_time": "2021-10-03T19:48:59.164Z"
   },
   {
    "duration": 3,
    "start_time": "2021-10-03T19:49:24.440Z"
   },
   {
    "duration": 48,
    "start_time": "2021-10-03T20:02:21.347Z"
   },
   {
    "duration": 10796,
    "start_time": "2021-10-03T20:02:28.919Z"
   },
   {
    "duration": 62653,
    "start_time": "2021-10-03T20:02:52.205Z"
   },
   {
    "duration": 252,
    "start_time": "2021-10-03T20:04:47.337Z"
   },
   {
    "duration": 63428,
    "start_time": "2021-10-03T20:04:57.520Z"
   },
   {
    "duration": 248,
    "start_time": "2021-10-03T20:14:15.510Z"
   },
   {
    "duration": 64046,
    "start_time": "2021-10-03T20:14:59.427Z"
   },
   {
    "duration": 64450,
    "start_time": "2021-10-03T20:16:58.295Z"
   },
   {
    "duration": 64785,
    "start_time": "2021-10-03T20:18:47.922Z"
   },
   {
    "duration": 64525,
    "start_time": "2021-10-03T20:24:20.227Z"
   },
   {
    "duration": 64025,
    "start_time": "2021-10-03T20:26:48.736Z"
   },
   {
    "duration": 254,
    "start_time": "2021-10-03T20:28:11.019Z"
   },
   {
    "duration": 3,
    "start_time": "2021-10-03T20:28:53.416Z"
   },
   {
    "duration": 146980,
    "start_time": "2021-10-03T20:28:55.249Z"
   },
   {
    "duration": 112,
    "start_time": "2021-10-03T20:31:22.231Z"
   },
   {
    "duration": 83,
    "start_time": "2021-10-03T20:31:39.594Z"
   },
   {
    "duration": 249603,
    "start_time": "2021-10-03T20:31:52.179Z"
   },
   {
    "duration": 77,
    "start_time": "2021-10-03T20:39:59.149Z"
   },
   {
    "duration": 450148,
    "start_time": "2021-10-03T20:40:04.398Z"
   },
   {
    "duration": 1241423,
    "start_time": "2021-10-03T20:49:14.062Z"
   },
   {
    "duration": 13899,
    "start_time": "2021-10-03T21:10:32.387Z"
   },
   {
    "duration": 343959,
    "start_time": "2021-10-03T21:10:58.135Z"
   },
   {
    "duration": 71650,
    "start_time": "2021-10-03T21:16:54.354Z"
   },
   {
    "duration": 33813,
    "start_time": "2021-10-03T21:18:09.101Z"
   },
   {
    "duration": 97,
    "start_time": "2021-10-03T21:20:23.983Z"
   },
   {
    "duration": 47268,
    "start_time": "2021-10-03T21:20:27.913Z"
   },
   {
    "duration": 71,
    "start_time": "2021-10-03T21:22:15.023Z"
   },
   {
    "duration": 154706,
    "start_time": "2021-10-03T21:22:17.123Z"
   },
   {
    "duration": 19608,
    "start_time": "2021-10-03T21:27:40.311Z"
   },
   {
    "duration": 51855,
    "start_time": "2021-10-03T21:28:03.266Z"
   },
   {
    "duration": 63139,
    "start_time": "2021-10-03T21:29:05.444Z"
   },
   {
    "duration": 65438,
    "start_time": "2021-10-03T21:30:26.531Z"
   },
   {
    "duration": 114,
    "start_time": "2021-10-03T21:32:00.871Z"
   },
   {
    "duration": 78044,
    "start_time": "2021-10-03T21:32:21.864Z"
   },
   {
    "duration": 78668,
    "start_time": "2021-10-03T21:34:40.122Z"
   },
   {
    "duration": 45659,
    "start_time": "2021-10-03T21:37:33.986Z"
   },
   {
    "duration": 54366,
    "start_time": "2021-10-03T21:41:21.358Z"
   },
   {
    "duration": 81,
    "start_time": "2021-10-03T21:44:20.264Z"
   },
   {
    "duration": 54034,
    "start_time": "2021-10-03T21:44:25.598Z"
   },
   {
    "duration": 62548,
    "start_time": "2021-10-03T21:47:30.186Z"
   },
   {
    "duration": 592,
    "start_time": "2021-10-03T21:48:56.194Z"
   },
   {
    "duration": 62886,
    "start_time": "2021-10-03T21:49:07.241Z"
   },
   {
    "duration": 62691,
    "start_time": "2021-10-03T21:50:37.248Z"
   },
   {
    "duration": 62546,
    "start_time": "2021-10-03T21:52:01.146Z"
   },
   {
    "duration": 63017,
    "start_time": "2021-10-03T21:53:22.810Z"
   },
   {
    "duration": 413459,
    "start_time": "2021-10-03T21:55:08.375Z"
   },
   {
    "duration": 999275,
    "start_time": "2021-10-03T22:03:45.613Z"
   },
   {
    "duration": 253473,
    "start_time": "2021-10-03T22:21:05.357Z"
   },
   {
    "duration": 189929,
    "start_time": "2021-10-03T22:26:10.834Z"
   },
   {
    "duration": 218036,
    "start_time": "2021-10-03T22:50:55.063Z"
   },
   {
    "duration": 250597,
    "start_time": "2021-10-03T22:55:04.071Z"
   },
   {
    "duration": 286720,
    "start_time": "2021-10-03T22:59:48.225Z"
   },
   {
    "duration": 318469,
    "start_time": "2021-10-03T23:05:33.970Z"
   },
   {
    "duration": 353940,
    "start_time": "2021-10-03T23:11:20.478Z"
   },
   {
    "duration": 3,
    "start_time": "2021-10-03T23:18:53.432Z"
   },
   {
    "duration": 14371,
    "start_time": "2021-10-03T23:19:18.118Z"
   },
   {
    "duration": 30318,
    "start_time": "2021-10-03T23:22:06.683Z"
   },
   {
    "duration": 56183,
    "start_time": "2021-10-04T04:55:04.460Z"
   },
   {
    "duration": 2441,
    "start_time": "2021-10-04T04:56:00.645Z"
   },
   {
    "duration": 3758,
    "start_time": "2021-10-04T04:56:03.089Z"
   },
   {
    "duration": 192,
    "start_time": "2021-10-04T04:56:06.850Z"
   },
   {
    "duration": 262,
    "start_time": "2021-10-04T04:56:07.044Z"
   },
   {
    "duration": 700,
    "start_time": "2021-10-04T04:56:07.309Z"
   },
   {
    "duration": 4,
    "start_time": "2021-10-04T04:56:08.012Z"
   },
   {
    "duration": 728,
    "start_time": "2021-10-04T04:56:08.020Z"
   },
   {
    "duration": 140,
    "start_time": "2021-10-04T04:56:08.752Z"
   },
   {
    "duration": 10,
    "start_time": "2021-10-04T04:56:08.895Z"
   },
   {
    "duration": 1165,
    "start_time": "2021-10-04T04:56:08.908Z"
   },
   {
    "duration": 3243,
    "start_time": "2021-10-04T04:56:10.076Z"
   },
   {
    "duration": 47,
    "start_time": "2021-10-04T04:56:13.322Z"
   },
   {
    "duration": 917,
    "start_time": "2021-10-04T04:56:13.371Z"
   },
   {
    "duration": 14360,
    "start_time": "2021-10-04T04:56:14.290Z"
   },
   {
    "duration": 12,
    "start_time": "2021-10-04T04:56:28.653Z"
   },
   {
    "duration": 9854,
    "start_time": "2021-10-04T04:56:28.667Z"
   },
   {
    "duration": 5081,
    "start_time": "2021-10-04T04:56:38.524Z"
   },
   {
    "duration": 53,
    "start_time": "2021-10-04T04:56:43.609Z"
   },
   {
    "duration": 763,
    "start_time": "2021-10-04T04:56:43.665Z"
   },
   {
    "duration": 37,
    "start_time": "2021-10-04T04:56:44.431Z"
   },
   {
    "duration": 347,
    "start_time": "2021-10-04T04:56:44.470Z"
   },
   {
    "duration": 256,
    "start_time": "2021-10-04T04:56:44.826Z"
   },
   {
    "duration": 107,
    "start_time": "2021-10-04T04:56:45.086Z"
   },
   {
    "duration": 30,
    "start_time": "2021-10-04T04:56:45.196Z"
   },
   {
    "duration": 105,
    "start_time": "2021-10-04T04:56:45.229Z"
   },
   {
    "duration": 32,
    "start_time": "2021-10-04T04:56:45.337Z"
   },
   {
    "duration": 639,
    "start_time": "2021-10-04T04:56:45.371Z"
   },
   {
    "duration": 567,
    "start_time": "2021-10-04T04:56:46.012Z"
   },
   {
    "duration": 64,
    "start_time": "2021-10-04T04:56:46.581Z"
   },
   {
    "duration": 18,
    "start_time": "2021-10-04T04:56:46.647Z"
   },
   {
    "duration": 105,
    "start_time": "2021-10-04T04:56:46.668Z"
   },
   {
    "duration": 1854,
    "start_time": "2021-10-04T04:56:46.775Z"
   },
   {
    "duration": 157,
    "start_time": "2021-10-04T04:56:48.631Z"
   },
   {
    "duration": 106,
    "start_time": "2021-10-04T04:56:48.791Z"
   },
   {
    "duration": 780,
    "start_time": "2021-10-04T04:56:48.900Z"
   },
   {
    "duration": 245,
    "start_time": "2021-10-04T04:56:49.682Z"
   },
   {
    "duration": 32,
    "start_time": "2021-10-04T04:56:49.930Z"
   },
   {
    "duration": 15,
    "start_time": "2021-10-04T04:56:49.964Z"
   },
   {
    "duration": 102,
    "start_time": "2021-10-04T04:56:49.982Z"
   },
   {
    "duration": 8,
    "start_time": "2021-10-04T04:56:50.086Z"
   },
   {
    "duration": 133,
    "start_time": "2021-10-04T04:56:50.096Z"
   },
   {
    "duration": 299,
    "start_time": "2021-10-04T04:56:50.232Z"
   },
   {
    "duration": 1813,
    "start_time": "2021-10-04T04:56:50.533Z"
   },
   {
    "duration": 14,
    "start_time": "2021-10-04T04:56:52.349Z"
   },
   {
    "duration": 5,
    "start_time": "2021-10-04T04:58:14.658Z"
   },
   {
    "duration": 428,
    "start_time": "2021-10-04T04:59:14.182Z"
   },
   {
    "duration": 3,
    "start_time": "2021-10-04T04:59:20.392Z"
   },
   {
    "duration": 673,
    "start_time": "2021-10-04T04:59:22.939Z"
   },
   {
    "duration": 557,
    "start_time": "2021-10-04T05:00:20.668Z"
   },
   {
    "duration": 285,
    "start_time": "2021-10-04T05:01:04.709Z"
   },
   {
    "duration": 4,
    "start_time": "2021-10-04T05:01:13.626Z"
   },
   {
    "duration": 517,
    "start_time": "2021-10-04T05:01:15.843Z"
   },
   {
    "duration": 3048,
    "start_time": "2021-10-04T05:01:49.130Z"
   },
   {
    "duration": 3,
    "start_time": "2021-10-04T05:02:38.417Z"
   },
   {
    "duration": 9,
    "start_time": "2021-10-04T05:02:38.423Z"
   },
   {
    "duration": 3266,
    "start_time": "2021-10-04T05:02:38.434Z"
   },
   {
    "duration": 193,
    "start_time": "2021-10-04T05:02:41.703Z"
   },
   {
    "duration": 258,
    "start_time": "2021-10-04T05:02:41.899Z"
   },
   {
    "duration": 693,
    "start_time": "2021-10-04T05:02:42.162Z"
   },
   {
    "duration": 5,
    "start_time": "2021-10-04T05:02:42.861Z"
   },
   {
    "duration": 700,
    "start_time": "2021-10-04T05:02:42.869Z"
   },
   {
    "duration": 130,
    "start_time": "2021-10-04T05:02:43.572Z"
   },
   {
    "duration": 8,
    "start_time": "2021-10-04T05:02:43.705Z"
   },
   {
    "duration": 1182,
    "start_time": "2021-10-04T05:02:43.716Z"
   },
   {
    "duration": 3286,
    "start_time": "2021-10-04T05:02:44.900Z"
   },
   {
    "duration": 38,
    "start_time": "2021-10-04T05:02:48.188Z"
   },
   {
    "duration": 916,
    "start_time": "2021-10-04T05:02:48.229Z"
   },
   {
    "duration": 14175,
    "start_time": "2021-10-04T05:02:49.148Z"
   },
   {
    "duration": 8,
    "start_time": "2021-10-04T05:03:03.325Z"
   },
   {
    "duration": 3985,
    "start_time": "2021-10-04T05:03:03.336Z"
   },
   {
    "duration": 4244,
    "start_time": "2021-10-04T05:03:07.324Z"
   },
   {
    "duration": 24,
    "start_time": "2021-10-04T05:03:11.570Z"
   },
   {
    "duration": 708,
    "start_time": "2021-10-04T05:03:11.597Z"
   },
   {
    "duration": 24,
    "start_time": "2021-10-04T05:03:12.307Z"
   },
   {
    "duration": 357,
    "start_time": "2021-10-04T05:03:12.333Z"
   },
   {
    "duration": 200,
    "start_time": "2021-10-04T05:03:12.695Z"
   },
   {
    "duration": 91,
    "start_time": "2021-10-04T05:03:12.898Z"
   },
   {
    "duration": 27,
    "start_time": "2021-10-04T05:03:12.992Z"
   },
   {
    "duration": 105,
    "start_time": "2021-10-04T05:03:13.022Z"
   },
   {
    "duration": 27,
    "start_time": "2021-10-04T05:03:13.129Z"
   },
   {
    "duration": 640,
    "start_time": "2021-10-04T05:03:13.162Z"
   },
   {
    "duration": 558,
    "start_time": "2021-10-04T05:03:13.805Z"
   },
   {
    "duration": 63,
    "start_time": "2021-10-04T05:03:14.365Z"
   },
   {
    "duration": 6,
    "start_time": "2021-10-04T05:03:14.430Z"
   },
   {
    "duration": 105,
    "start_time": "2021-10-04T05:03:14.439Z"
   },
   {
    "duration": 1848,
    "start_time": "2021-10-04T05:03:14.546Z"
   },
   {
    "duration": 166,
    "start_time": "2021-10-04T05:03:16.396Z"
   },
   {
    "duration": 107,
    "start_time": "2021-10-04T05:03:16.564Z"
   },
   {
    "duration": 781,
    "start_time": "2021-10-04T05:03:16.674Z"
   },
   {
    "duration": 247,
    "start_time": "2021-10-04T05:03:17.457Z"
   },
   {
    "duration": 20,
    "start_time": "2021-10-04T05:03:17.706Z"
   },
   {
    "duration": 35,
    "start_time": "2021-10-04T05:03:17.729Z"
   },
   {
    "duration": 96,
    "start_time": "2021-10-04T05:03:17.766Z"
   },
   {
    "duration": 8,
    "start_time": "2021-10-04T05:03:17.864Z"
   },
   {
    "duration": 142,
    "start_time": "2021-10-04T05:03:17.874Z"
   },
   {
    "duration": 326,
    "start_time": "2021-10-04T05:03:18.019Z"
   },
   {
    "duration": 2120,
    "start_time": "2021-10-04T05:03:18.348Z"
   },
   {
    "duration": 7,
    "start_time": "2021-10-04T05:03:20.471Z"
   },
   {
    "duration": 4,
    "start_time": "2021-10-04T05:04:28.242Z"
   },
   {
    "duration": 734,
    "start_time": "2021-10-04T05:04:32.433Z"
   },
   {
    "duration": 13080,
    "start_time": "2021-10-04T05:04:55.585Z"
   },
   {
    "duration": 7,
    "start_time": "2021-10-04T05:05:32.749Z"
   },
   {
    "duration": 4,
    "start_time": "2021-10-04T05:05:35.612Z"
   },
   {
    "duration": 2164,
    "start_time": "2021-10-04T05:05:38.910Z"
   },
   {
    "duration": 5,
    "start_time": "2021-10-04T05:06:14.953Z"
   },
   {
    "duration": 5,
    "start_time": "2021-10-04T05:06:17.885Z"
   },
   {
    "duration": 623,
    "start_time": "2021-10-04T05:06:23.103Z"
   },
   {
    "duration": 5,
    "start_time": "2021-10-04T05:06:35.562Z"
   },
   {
    "duration": 4,
    "start_time": "2021-10-04T05:06:40.239Z"
   },
   {
    "duration": 500,
    "start_time": "2021-10-04T05:06:42.338Z"
   },
   {
    "duration": 8,
    "start_time": "2021-10-04T05:10:05.050Z"
   },
   {
    "duration": 5,
    "start_time": "2021-10-04T05:10:35.230Z"
   },
   {
    "duration": 4,
    "start_time": "2021-10-04T05:10:38.390Z"
   },
   {
    "duration": 4053,
    "start_time": "2021-10-04T05:10:41.492Z"
   },
   {
    "duration": 5,
    "start_time": "2021-10-04T05:11:17.208Z"
   },
   {
    "duration": 4,
    "start_time": "2021-10-04T05:11:19.399Z"
   },
   {
    "duration": 571,
    "start_time": "2021-10-04T05:11:21.517Z"
   },
   {
    "duration": 3693,
    "start_time": "2021-10-04T05:21:45.175Z"
   },
   {
    "duration": 3774,
    "start_time": "2021-10-04T05:22:19.570Z"
   },
   {
    "duration": 7,
    "start_time": "2021-10-04T05:22:23.347Z"
   },
   {
    "duration": 3465,
    "start_time": "2021-10-04T05:22:23.357Z"
   },
   {
    "duration": 246,
    "start_time": "2021-10-04T05:22:26.825Z"
   },
   {
    "duration": 250,
    "start_time": "2021-10-04T05:22:27.074Z"
   },
   {
    "duration": 677,
    "start_time": "2021-10-04T05:22:27.327Z"
   },
   {
    "duration": 4,
    "start_time": "2021-10-04T05:22:28.007Z"
   },
   {
    "duration": 683,
    "start_time": "2021-10-04T05:22:28.015Z"
   },
   {
    "duration": 160,
    "start_time": "2021-10-04T05:22:28.703Z"
   },
   {
    "duration": 10,
    "start_time": "2021-10-04T05:22:28.866Z"
   },
   {
    "duration": 1468,
    "start_time": "2021-10-04T05:22:28.878Z"
   },
   {
    "duration": 4224,
    "start_time": "2021-10-04T05:22:30.349Z"
   },
   {
    "duration": 35,
    "start_time": "2021-10-04T05:22:34.576Z"
   },
   {
    "duration": 833,
    "start_time": "2021-10-04T05:22:34.614Z"
   },
   {
    "duration": 17350,
    "start_time": "2021-10-04T05:22:35.450Z"
   },
   {
    "duration": 9,
    "start_time": "2021-10-04T05:22:52.803Z"
   },
   {
    "duration": 4510,
    "start_time": "2021-10-04T05:22:52.815Z"
   },
   {
    "duration": 4116,
    "start_time": "2021-10-04T05:22:57.328Z"
   },
   {
    "duration": 35,
    "start_time": "2021-10-04T05:23:01.447Z"
   },
   {
    "duration": 843,
    "start_time": "2021-10-04T05:23:01.485Z"
   },
   {
    "duration": 38,
    "start_time": "2021-10-04T05:23:02.330Z"
   },
   {
    "duration": 396,
    "start_time": "2021-10-04T05:23:02.371Z"
   },
   {
    "duration": 205,
    "start_time": "2021-10-04T05:23:02.773Z"
   },
   {
    "duration": 121,
    "start_time": "2021-10-04T05:23:02.982Z"
   },
   {
    "duration": 42,
    "start_time": "2021-10-04T05:23:03.107Z"
   },
   {
    "duration": 106,
    "start_time": "2021-10-04T05:23:03.163Z"
   },
   {
    "duration": 40,
    "start_time": "2021-10-04T05:23:03.272Z"
   },
   {
    "duration": 731,
    "start_time": "2021-10-04T05:23:03.315Z"
   },
   {
    "duration": 642,
    "start_time": "2021-10-04T05:23:04.049Z"
   },
   {
    "duration": 80,
    "start_time": "2021-10-04T05:23:04.693Z"
   },
   {
    "duration": 5,
    "start_time": "2021-10-04T05:23:04.776Z"
   },
   {
    "duration": 99,
    "start_time": "2021-10-04T05:23:04.783Z"
   },
   {
    "duration": 2202,
    "start_time": "2021-10-04T05:23:04.885Z"
   },
   {
    "duration": 166,
    "start_time": "2021-10-04T05:23:07.090Z"
   },
   {
    "duration": 119,
    "start_time": "2021-10-04T05:23:07.259Z"
   },
   {
    "duration": 917,
    "start_time": "2021-10-04T05:23:07.380Z"
   },
   {
    "duration": 291,
    "start_time": "2021-10-04T05:23:08.299Z"
   },
   {
    "duration": 26,
    "start_time": "2021-10-04T05:23:08.593Z"
   },
   {
    "duration": 15,
    "start_time": "2021-10-04T05:23:08.622Z"
   },
   {
    "duration": 74,
    "start_time": "2021-10-04T05:23:08.663Z"
   },
   {
    "duration": 23,
    "start_time": "2021-10-04T05:23:08.739Z"
   },
   {
    "duration": 115,
    "start_time": "2021-10-04T05:23:08.765Z"
   },
   {
    "duration": 347,
    "start_time": "2021-10-04T05:23:08.883Z"
   },
   {
    "duration": 1982,
    "start_time": "2021-10-04T05:23:09.233Z"
   },
   {
    "duration": 6,
    "start_time": "2021-10-04T05:23:11.218Z"
   },
   {
    "duration": 4340,
    "start_time": "2021-10-04T05:23:49.572Z"
   },
   {
    "duration": 2667,
    "start_time": "2021-10-04T05:23:53.915Z"
   },
   {
    "duration": 3701,
    "start_time": "2021-10-04T05:23:56.585Z"
   },
   {
    "duration": 209,
    "start_time": "2021-10-04T05:24:00.289Z"
   },
   {
    "duration": 271,
    "start_time": "2021-10-04T05:24:00.501Z"
   },
   {
    "duration": 928,
    "start_time": "2021-10-04T05:24:00.775Z"
   },
   {
    "duration": 5,
    "start_time": "2021-10-04T05:24:01.707Z"
   },
   {
    "duration": 784,
    "start_time": "2021-10-04T05:24:01.718Z"
   },
   {
    "duration": 161,
    "start_time": "2021-10-04T05:24:02.506Z"
   },
   {
    "duration": 9,
    "start_time": "2021-10-04T05:24:02.670Z"
   },
   {
    "duration": 1326,
    "start_time": "2021-10-04T05:24:02.682Z"
   },
   {
    "duration": 4141,
    "start_time": "2021-10-04T05:24:04.011Z"
   },
   {
    "duration": 43,
    "start_time": "2021-10-04T05:24:08.154Z"
   },
   {
    "duration": 948,
    "start_time": "2021-10-04T05:24:08.200Z"
   },
   {
    "duration": 14224,
    "start_time": "2021-10-04T05:24:09.150Z"
   },
   {
    "duration": 9,
    "start_time": "2021-10-04T05:24:23.377Z"
   },
   {
    "duration": 3929,
    "start_time": "2021-10-04T05:24:23.388Z"
   },
   {
    "duration": 3502,
    "start_time": "2021-10-04T05:24:27.319Z"
   },
   {
    "duration": 24,
    "start_time": "2021-10-04T05:24:30.823Z"
   },
   {
    "duration": 820,
    "start_time": "2021-10-04T05:24:30.863Z"
   },
   {
    "duration": 24,
    "start_time": "2021-10-04T05:24:31.686Z"
   },
   {
    "duration": 346,
    "start_time": "2021-10-04T05:24:31.712Z"
   },
   {
    "duration": 188,
    "start_time": "2021-10-04T05:24:32.063Z"
   },
   {
    "duration": 90,
    "start_time": "2021-10-04T05:24:32.255Z"
   },
   {
    "duration": 34,
    "start_time": "2021-10-04T05:24:32.347Z"
   },
   {
    "duration": 108,
    "start_time": "2021-10-04T05:24:32.384Z"
   },
   {
    "duration": 27,
    "start_time": "2021-10-04T05:24:32.494Z"
   },
   {
    "duration": 751,
    "start_time": "2021-10-04T05:24:32.523Z"
   },
   {
    "duration": 601,
    "start_time": "2021-10-04T05:24:33.276Z"
   },
   {
    "duration": 66,
    "start_time": "2021-10-04T05:24:33.880Z"
   },
   {
    "duration": 8,
    "start_time": "2021-10-04T05:24:33.963Z"
   },
   {
    "duration": 104,
    "start_time": "2021-10-04T05:24:33.973Z"
   },
   {
    "duration": 2175,
    "start_time": "2021-10-04T05:24:34.079Z"
   },
   {
    "duration": 166,
    "start_time": "2021-10-04T05:24:36.256Z"
   },
   {
    "duration": 116,
    "start_time": "2021-10-04T05:24:36.425Z"
   },
   {
    "duration": 852,
    "start_time": "2021-10-04T05:24:36.544Z"
   },
   {
    "duration": 271,
    "start_time": "2021-10-04T05:24:37.399Z"
   },
   {
    "duration": 23,
    "start_time": "2021-10-04T05:24:37.672Z"
   },
   {
    "duration": 18,
    "start_time": "2021-10-04T05:24:37.698Z"
   },
   {
    "duration": 112,
    "start_time": "2021-10-04T05:24:37.718Z"
   },
   {
    "duration": 6,
    "start_time": "2021-10-04T05:24:37.833Z"
   },
   {
    "duration": 113,
    "start_time": "2021-10-04T05:24:37.841Z"
   },
   {
    "duration": 333,
    "start_time": "2021-10-04T05:24:37.957Z"
   },
   {
    "duration": 2103,
    "start_time": "2021-10-04T05:24:38.293Z"
   },
   {
    "duration": 5,
    "start_time": "2021-10-04T05:24:40.399Z"
   },
   {
    "duration": 4,
    "start_time": "2021-10-04T05:25:00.649Z"
   },
   {
    "duration": 7647,
    "start_time": "2021-10-04T05:25:13.344Z"
   },
   {
    "duration": 4,
    "start_time": "2021-10-04T05:28:02.033Z"
   },
   {
    "duration": 652823,
    "start_time": "2021-10-04T05:28:10.528Z"
   },
   {
    "duration": 757944,
    "start_time": "2021-10-04T05:39:05.903Z"
   },
   {
    "duration": 18596,
    "start_time": "2021-10-04T05:53:44.027Z"
   },
   {
    "duration": 13213,
    "start_time": "2021-10-04T05:54:19.347Z"
   },
   {
    "duration": 708410,
    "start_time": "2021-10-04T05:54:37.987Z"
   },
   {
    "duration": 695,
    "start_time": "2021-10-04T06:07:38.944Z"
   },
   {
    "duration": 4,
    "start_time": "2021-10-04T06:07:43.897Z"
   },
   {
    "duration": 319838,
    "start_time": "2021-10-04T06:07:46.045Z"
   },
   {
    "duration": 162273,
    "start_time": "2021-10-04T06:16:07.006Z"
   },
   {
    "duration": 41902,
    "start_time": "2021-10-04T06:20:37.284Z"
   },
   {
    "duration": 49607,
    "start_time": "2021-10-04T06:21:57.770Z"
   },
   {
    "duration": 50965,
    "start_time": "2021-10-04T06:32:25.124Z"
   },
   {
    "duration": 46575,
    "start_time": "2021-10-04T06:33:49.602Z"
   },
   {
    "duration": 46067,
    "start_time": "2021-10-04T06:34:48.425Z"
   },
   {
    "duration": 41539,
    "start_time": "2021-10-04T06:35:51.948Z"
   },
   {
    "duration": 541,
    "start_time": "2021-10-04T06:55:31.469Z"
   },
   {
    "duration": 611,
    "start_time": "2021-10-04T06:56:49.106Z"
   },
   {
    "duration": 40555,
    "start_time": "2021-10-04T06:57:25.634Z"
   },
   {
    "duration": 228480,
    "start_time": "2021-10-04T06:58:29.596Z"
   },
   {
    "duration": 174005,
    "start_time": "2021-10-04T07:02:35.878Z"
   },
   {
    "duration": 6287,
    "start_time": "2021-10-04T07:06:54.704Z"
   },
   {
    "duration": 39290,
    "start_time": "2021-10-04T07:07:25.055Z"
   },
   {
    "duration": 103699,
    "start_time": "2021-10-04T07:08:06.440Z"
   },
   {
    "duration": 280925,
    "start_time": "2021-10-04T07:10:04.848Z"
   },
   {
    "duration": 146158,
    "start_time": "2021-10-04T07:15:47.931Z"
   },
   {
    "duration": 36749,
    "start_time": "2021-10-04T07:18:27.838Z"
   },
   {
    "duration": 341279,
    "start_time": "2021-10-04T07:19:16.517Z"
   },
   {
    "duration": 121551,
    "start_time": "2021-10-04T07:25:11.042Z"
   },
   {
    "duration": 375439,
    "start_time": "2021-10-04T07:27:39.425Z"
   },
   {
    "duration": 700535,
    "start_time": "2021-10-04T07:33:57.989Z"
   },
   {
    "duration": 380683,
    "start_time": "2021-10-04T07:45:41.363Z"
   },
   {
    "duration": 273796,
    "start_time": "2021-10-04T07:52:04.306Z"
   },
   {
    "duration": 350471,
    "start_time": "2021-10-04T07:56:41.448Z"
   },
   {
    "duration": 5,
    "start_time": "2021-10-04T08:03:28.332Z"
   },
   {
    "duration": 60109,
    "start_time": "2021-10-04T08:03:36.370Z"
   },
   {
    "duration": 13271,
    "start_time": "2021-10-04T21:59:34.882Z"
   },
   {
    "duration": 1719,
    "start_time": "2021-10-04T21:59:48.156Z"
   },
   {
    "duration": 2917,
    "start_time": "2021-10-04T21:59:49.878Z"
   },
   {
    "duration": 8,
    "start_time": "2021-10-04T21:59:52.791Z"
   },
   {
    "duration": 7,
    "start_time": "2021-10-04T21:59:52.794Z"
   },
   {
    "duration": 5,
    "start_time": "2021-10-04T21:59:52.797Z"
   },
   {
    "duration": 4,
    "start_time": "2021-10-04T21:59:52.799Z"
   },
   {
    "duration": 4,
    "start_time": "2021-10-04T21:59:52.801Z"
   },
   {
    "duration": 3,
    "start_time": "2021-10-04T21:59:52.803Z"
   },
   {
    "duration": 2,
    "start_time": "2021-10-04T21:59:52.805Z"
   },
   {
    "duration": 2,
    "start_time": "2021-10-04T21:59:52.806Z"
   },
   {
    "duration": 2,
    "start_time": "2021-10-04T21:59:52.808Z"
   },
   {
    "duration": 1,
    "start_time": "2021-10-04T21:59:52.810Z"
   },
   {
    "duration": 0,
    "start_time": "2021-10-04T21:59:52.812Z"
   },
   {
    "duration": -1,
    "start_time": "2021-10-04T21:59:52.814Z"
   },
   {
    "duration": -1,
    "start_time": "2021-10-04T21:59:52.816Z"
   },
   {
    "duration": -2,
    "start_time": "2021-10-04T21:59:52.818Z"
   },
   {
    "duration": -3,
    "start_time": "2021-10-04T21:59:52.820Z"
   },
   {
    "duration": -2,
    "start_time": "2021-10-04T21:59:52.821Z"
   },
   {
    "duration": -3,
    "start_time": "2021-10-04T21:59:52.823Z"
   },
   {
    "duration": -3,
    "start_time": "2021-10-04T21:59:52.824Z"
   },
   {
    "duration": -3,
    "start_time": "2021-10-04T21:59:52.826Z"
   },
   {
    "duration": -84,
    "start_time": "2021-10-04T21:59:52.908Z"
   },
   {
    "duration": -112,
    "start_time": "2021-10-04T21:59:52.937Z"
   },
   {
    "duration": -113,
    "start_time": "2021-10-04T21:59:52.939Z"
   },
   {
    "duration": -112,
    "start_time": "2021-10-04T21:59:52.940Z"
   },
   {
    "duration": -112,
    "start_time": "2021-10-04T21:59:52.941Z"
   },
   {
    "duration": -112,
    "start_time": "2021-10-04T21:59:52.943Z"
   },
   {
    "duration": -112,
    "start_time": "2021-10-04T21:59:52.944Z"
   },
   {
    "duration": -111,
    "start_time": "2021-10-04T21:59:52.945Z"
   },
   {
    "duration": -112,
    "start_time": "2021-10-04T21:59:52.947Z"
   },
   {
    "duration": -112,
    "start_time": "2021-10-04T21:59:52.948Z"
   },
   {
    "duration": -111,
    "start_time": "2021-10-04T21:59:52.949Z"
   },
   {
    "duration": -88,
    "start_time": "2021-10-04T21:59:52.950Z"
   },
   {
    "duration": -89,
    "start_time": "2021-10-04T21:59:52.952Z"
   },
   {
    "duration": -89,
    "start_time": "2021-10-04T21:59:52.953Z"
   },
   {
    "duration": -88,
    "start_time": "2021-10-04T21:59:52.954Z"
   },
   {
    "duration": -87,
    "start_time": "2021-10-04T21:59:52.955Z"
   },
   {
    "duration": -87,
    "start_time": "2021-10-04T21:59:52.956Z"
   },
   {
    "duration": -87,
    "start_time": "2021-10-04T21:59:52.958Z"
   },
   {
    "duration": -86,
    "start_time": "2021-10-04T21:59:52.959Z"
   },
   {
    "duration": -86,
    "start_time": "2021-10-04T21:59:52.960Z"
   },
   {
    "duration": -85,
    "start_time": "2021-10-04T21:59:52.961Z"
   },
   {
    "duration": -86,
    "start_time": "2021-10-04T21:59:52.963Z"
   },
   {
    "duration": -85,
    "start_time": "2021-10-04T21:59:52.964Z"
   },
   {
    "duration": 3864,
    "start_time": "2021-10-04T22:00:33.554Z"
   },
   {
    "duration": 1652,
    "start_time": "2021-10-04T22:00:37.421Z"
   },
   {
    "duration": 1935,
    "start_time": "2021-10-04T22:00:39.075Z"
   },
   {
    "duration": 193,
    "start_time": "2021-10-04T22:00:41.013Z"
   },
   {
    "duration": 841,
    "start_time": "2021-10-04T22:00:41.209Z"
   },
   {
    "duration": 721,
    "start_time": "2021-10-04T22:00:42.053Z"
   },
   {
    "duration": 5,
    "start_time": "2021-10-04T22:00:42.777Z"
   },
   {
    "duration": 698,
    "start_time": "2021-10-04T22:00:42.786Z"
   },
   {
    "duration": 126,
    "start_time": "2021-10-04T22:00:43.487Z"
   },
   {
    "duration": 8,
    "start_time": "2021-10-04T22:00:43.616Z"
   },
   {
    "duration": 1125,
    "start_time": "2021-10-04T22:00:43.626Z"
   },
   {
    "duration": 3508,
    "start_time": "2021-10-04T22:00:44.754Z"
   },
   {
    "duration": 32,
    "start_time": "2021-10-04T22:00:48.265Z"
   },
   {
    "duration": 886,
    "start_time": "2021-10-04T22:00:48.300Z"
   },
   {
    "duration": 14377,
    "start_time": "2021-10-04T22:00:49.189Z"
   },
   {
    "duration": 8,
    "start_time": "2021-10-04T22:01:03.568Z"
   },
   {
    "duration": 3939,
    "start_time": "2021-10-04T22:01:03.578Z"
   },
   {
    "duration": 3425,
    "start_time": "2021-10-04T22:01:07.520Z"
   },
   {
    "duration": 31,
    "start_time": "2021-10-04T22:01:10.948Z"
   },
   {
    "duration": 687,
    "start_time": "2021-10-04T22:01:10.982Z"
   },
   {
    "duration": 24,
    "start_time": "2021-10-04T22:01:11.672Z"
   },
   {
    "duration": 362,
    "start_time": "2021-10-04T22:01:11.698Z"
   },
   {
    "duration": 202,
    "start_time": "2021-10-04T22:01:12.068Z"
   },
   {
    "duration": 99,
    "start_time": "2021-10-04T22:01:12.273Z"
   },
   {
    "duration": 28,
    "start_time": "2021-10-04T22:01:12.375Z"
   },
   {
    "duration": 101,
    "start_time": "2021-10-04T22:01:12.405Z"
   },
   {
    "duration": 28,
    "start_time": "2021-10-04T22:01:12.509Z"
   },
   {
    "duration": 633,
    "start_time": "2021-10-04T22:01:12.539Z"
   },
   {
    "duration": 532,
    "start_time": "2021-10-04T22:01:13.175Z"
   },
   {
    "duration": 75,
    "start_time": "2021-10-04T22:01:13.709Z"
   },
   {
    "duration": 6,
    "start_time": "2021-10-04T22:01:13.787Z"
   },
   {
    "duration": 99,
    "start_time": "2021-10-04T22:01:13.795Z"
   },
   {
    "duration": 1810,
    "start_time": "2021-10-04T22:01:13.897Z"
   },
   {
    "duration": 161,
    "start_time": "2021-10-04T22:01:15.710Z"
   },
   {
    "duration": 110,
    "start_time": "2021-10-04T22:01:15.875Z"
   },
   {
    "duration": 805,
    "start_time": "2021-10-04T22:01:15.987Z"
   },
   {
    "duration": 233,
    "start_time": "2021-10-04T22:01:16.795Z"
   },
   {
    "duration": 37,
    "start_time": "2021-10-04T22:01:17.032Z"
   },
   {
    "duration": 15,
    "start_time": "2021-10-04T22:01:17.073Z"
   },
   {
    "duration": 100,
    "start_time": "2021-10-04T22:01:17.091Z"
   },
   {
    "duration": 7,
    "start_time": "2021-10-04T22:01:17.193Z"
   },
   {
    "duration": 110,
    "start_time": "2021-10-04T22:01:17.203Z"
   },
   {
    "duration": 314,
    "start_time": "2021-10-04T22:01:17.316Z"
   },
   {
    "duration": 1799,
    "start_time": "2021-10-04T22:01:17.633Z"
   },
   {
    "duration": 5,
    "start_time": "2021-10-04T22:01:19.434Z"
   },
   {
    "duration": 4,
    "start_time": "2021-10-04T22:03:03.532Z"
   },
   {
    "duration": 4430,
    "start_time": "2021-10-04T22:41:54.500Z"
   },
   {
    "duration": 1576,
    "start_time": "2021-10-04T22:42:06.888Z"
   },
   {
    "duration": 3860,
    "start_time": "2021-10-04T22:42:32.992Z"
   },
   {
    "duration": 1601,
    "start_time": "2021-10-04T22:42:36.855Z"
   },
   {
    "duration": 3365,
    "start_time": "2021-10-04T22:42:38.462Z"
   },
   {
    "duration": 184,
    "start_time": "2021-10-04T22:42:41.830Z"
   },
   {
    "duration": 826,
    "start_time": "2021-10-04T22:42:42.017Z"
   },
   {
    "duration": 674,
    "start_time": "2021-10-04T22:42:42.846Z"
   },
   {
    "duration": 4,
    "start_time": "2021-10-04T22:42:43.523Z"
   },
   {
    "duration": 698,
    "start_time": "2021-10-04T22:42:43.531Z"
   },
   {
    "duration": 129,
    "start_time": "2021-10-04T22:42:44.232Z"
   },
   {
    "duration": 8,
    "start_time": "2021-10-04T22:42:44.364Z"
   },
   {
    "duration": 1141,
    "start_time": "2021-10-04T22:42:44.374Z"
   },
   {
    "duration": 3137,
    "start_time": "2021-10-04T22:42:45.517Z"
   },
   {
    "duration": 37,
    "start_time": "2021-10-04T22:42:48.656Z"
   },
   {
    "duration": 873,
    "start_time": "2021-10-04T22:42:48.696Z"
   },
   {
    "duration": 13891,
    "start_time": "2021-10-04T22:42:49.571Z"
   },
   {
    "duration": 7,
    "start_time": "2021-10-04T22:43:03.465Z"
   },
   {
    "duration": 4013,
    "start_time": "2021-10-04T22:43:03.474Z"
   },
   {
    "duration": 3514,
    "start_time": "2021-10-04T22:43:07.490Z"
   },
   {
    "duration": 23,
    "start_time": "2021-10-04T22:43:11.007Z"
   },
   {
    "duration": 700,
    "start_time": "2021-10-04T22:43:11.032Z"
   },
   {
    "duration": 36,
    "start_time": "2021-10-04T22:43:11.735Z"
   },
   {
    "duration": 338,
    "start_time": "2021-10-04T22:43:11.774Z"
   },
   {
    "duration": 192,
    "start_time": "2021-10-04T22:43:12.118Z"
   },
   {
    "duration": 92,
    "start_time": "2021-10-04T22:43:12.313Z"
   },
   {
    "duration": 28,
    "start_time": "2021-10-04T22:43:12.408Z"
   },
   {
    "duration": 105,
    "start_time": "2021-10-04T22:43:12.439Z"
   },
   {
    "duration": 33,
    "start_time": "2021-10-04T22:43:12.547Z"
   },
   {
    "duration": 619,
    "start_time": "2021-10-04T22:43:12.583Z"
   },
   {
    "duration": 558,
    "start_time": "2021-10-04T22:43:13.205Z"
   },
   {
    "duration": 61,
    "start_time": "2021-10-04T22:43:13.766Z"
   },
   {
    "duration": 5,
    "start_time": "2021-10-04T22:43:13.830Z"
   },
   {
    "duration": 107,
    "start_time": "2021-10-04T22:43:13.837Z"
   },
   {
    "duration": 1909,
    "start_time": "2021-10-04T22:43:13.947Z"
   },
   {
    "duration": 156,
    "start_time": "2021-10-04T22:43:15.863Z"
   },
   {
    "duration": 107,
    "start_time": "2021-10-04T22:43:16.022Z"
   },
   {
    "duration": 818,
    "start_time": "2021-10-04T22:43:16.132Z"
   },
   {
    "duration": 234,
    "start_time": "2021-10-04T22:43:16.953Z"
   },
   {
    "duration": 20,
    "start_time": "2021-10-04T22:43:17.189Z"
   },
   {
    "duration": 13,
    "start_time": "2021-10-04T22:43:17.212Z"
   },
   {
    "duration": 101,
    "start_time": "2021-10-04T22:43:17.228Z"
   },
   {
    "duration": 6,
    "start_time": "2021-10-04T22:43:17.331Z"
   },
   {
    "duration": 112,
    "start_time": "2021-10-04T22:43:17.339Z"
   },
   {
    "duration": 309,
    "start_time": "2021-10-04T22:43:17.453Z"
   },
   {
    "duration": 1860,
    "start_time": "2021-10-04T22:43:17.764Z"
   },
   {
    "duration": 5,
    "start_time": "2021-10-04T22:43:19.626Z"
   },
   {
    "duration": 7471,
    "start_time": "2021-10-05T17:53:45.457Z"
   },
   {
    "duration": 1227,
    "start_time": "2021-10-05T17:54:06.067Z"
   },
   {
    "duration": 1595,
    "start_time": "2021-10-05T17:54:12.673Z"
   },
   {
    "duration": 134,
    "start_time": "2021-10-05T17:54:18.424Z"
   },
   {
    "duration": 596,
    "start_time": "2021-10-05T17:54:22.996Z"
   },
   {
    "duration": 443,
    "start_time": "2021-10-05T17:54:27.796Z"
   },
   {
    "duration": 3,
    "start_time": "2021-10-05T17:54:32.116Z"
   },
   {
    "duration": 428,
    "start_time": "2021-10-05T17:54:36.933Z"
   },
   {
    "duration": 88,
    "start_time": "2021-10-05T17:54:42.877Z"
   },
   {
    "duration": 6,
    "start_time": "2021-10-05T17:54:51.903Z"
   },
   {
    "duration": 3,
    "start_time": "2021-10-05T18:31:40.172Z"
   },
   {
    "duration": 2878,
    "start_time": "2021-10-05T18:45:27.744Z"
   },
   {
    "duration": 1279,
    "start_time": "2021-10-05T18:45:30.625Z"
   },
   {
    "duration": 1422,
    "start_time": "2021-10-05T18:45:31.908Z"
   },
   {
    "duration": 156,
    "start_time": "2021-10-05T18:45:33.332Z"
   },
   {
    "duration": 812,
    "start_time": "2021-10-05T18:45:33.489Z"
   },
   {
    "duration": 455,
    "start_time": "2021-10-05T18:45:34.302Z"
   },
   {
    "duration": 4,
    "start_time": "2021-10-05T18:45:34.759Z"
   },
   {
    "duration": 457,
    "start_time": "2021-10-05T18:45:34.765Z"
   },
   {
    "duration": 103,
    "start_time": "2021-10-05T18:45:35.225Z"
   },
   {
    "duration": 6,
    "start_time": "2021-10-05T18:45:35.330Z"
   },
   {
    "duration": 742,
    "start_time": "2021-10-05T18:45:35.337Z"
   },
   {
    "duration": 1980,
    "start_time": "2021-10-05T18:45:36.081Z"
   },
   {
    "duration": 27,
    "start_time": "2021-10-05T18:45:38.063Z"
   },
   {
    "duration": 641,
    "start_time": "2021-10-05T18:45:38.092Z"
   },
   {
    "duration": 8512,
    "start_time": "2021-10-05T18:45:38.735Z"
   },
   {
    "duration": 9,
    "start_time": "2021-10-05T18:45:47.250Z"
   },
   {
    "duration": 2484,
    "start_time": "2021-10-05T18:45:47.261Z"
   },
   {
    "duration": 2136,
    "start_time": "2021-10-05T18:45:49.747Z"
   },
   {
    "duration": 16,
    "start_time": "2021-10-05T18:45:51.885Z"
   },
   {
    "duration": 454,
    "start_time": "2021-10-05T18:45:51.903Z"
   },
   {
    "duration": 18,
    "start_time": "2021-10-05T18:45:52.360Z"
   },
   {
    "duration": 256,
    "start_time": "2021-10-05T18:45:52.379Z"
   },
   {
    "duration": 156,
    "start_time": "2021-10-05T18:45:52.637Z"
   },
   {
    "duration": 68,
    "start_time": "2021-10-05T18:45:52.795Z"
   },
   {
    "duration": 21,
    "start_time": "2021-10-05T18:45:52.865Z"
   },
   {
    "duration": 76,
    "start_time": "2021-10-05T18:45:52.888Z"
   },
   {
    "duration": 19,
    "start_time": "2021-10-05T18:45:52.968Z"
   },
   {
    "duration": 383,
    "start_time": "2021-10-05T18:45:52.989Z"
   },
   {
    "duration": 346,
    "start_time": "2021-10-05T18:45:53.374Z"
   },
   {
    "duration": 49,
    "start_time": "2021-10-05T18:45:53.722Z"
   },
   {
    "duration": 4,
    "start_time": "2021-10-05T18:45:53.773Z"
   },
   {
    "duration": 51,
    "start_time": "2021-10-05T18:45:53.778Z"
   },
   {
    "duration": 1213,
    "start_time": "2021-10-05T18:45:53.831Z"
   },
   {
    "duration": 102,
    "start_time": "2021-10-05T18:45:55.046Z"
   },
   {
    "duration": 95,
    "start_time": "2021-10-05T18:45:55.150Z"
   },
   {
    "duration": 524,
    "start_time": "2021-10-05T18:45:55.254Z"
   },
   {
    "duration": 189,
    "start_time": "2021-10-05T18:45:55.780Z"
   },
   {
    "duration": 13,
    "start_time": "2021-10-05T18:45:55.971Z"
   },
   {
    "duration": 9,
    "start_time": "2021-10-05T18:45:55.986Z"
   },
   {
    "duration": 84,
    "start_time": "2021-10-05T18:45:55.996Z"
   },
   {
    "duration": 4,
    "start_time": "2021-10-05T18:45:56.081Z"
   },
   {
    "duration": 78,
    "start_time": "2021-10-05T18:45:56.087Z"
   },
   {
    "duration": 226,
    "start_time": "2021-10-05T18:45:56.167Z"
   },
   {
    "duration": 1261,
    "start_time": "2021-10-05T18:45:56.394Z"
   },
   {
    "duration": 3,
    "start_time": "2021-10-05T18:45:57.657Z"
   },
   {
    "duration": 2,
    "start_time": "2021-10-05T18:46:07.636Z"
   },
   {
    "duration": 82,
    "start_time": "2021-10-05T18:46:23.857Z"
   },
   {
    "duration": 33530,
    "start_time": "2021-10-05T18:46:31.036Z"
   },
   {
    "duration": 482,
    "start_time": "2021-10-05T19:02:52.752Z"
   },
   {
    "duration": 375,
    "start_time": "2021-10-05T19:04:08.500Z"
   },
   {
    "duration": 5,
    "start_time": "2021-10-05T19:04:20.027Z"
   },
   {
    "duration": 220,
    "start_time": "2021-10-05T19:05:34.515Z"
   },
   {
    "duration": 3,
    "start_time": "2021-10-05T19:06:04.269Z"
   },
   {
    "duration": 2,
    "start_time": "2021-10-05T19:06:08.074Z"
   },
   {
    "duration": 3,
    "start_time": "2021-10-05T19:06:11.663Z"
   },
   {
    "duration": 250,
    "start_time": "2021-10-05T19:06:28.721Z"
   },
   {
    "duration": 2569,
    "start_time": "2021-10-05T19:06:57.851Z"
   },
   {
    "duration": 1272,
    "start_time": "2021-10-05T19:07:00.422Z"
   },
   {
    "duration": 3603,
    "start_time": "2021-10-05T19:07:01.697Z"
   },
   {
    "duration": 137,
    "start_time": "2021-10-05T19:07:05.302Z"
   },
   {
    "duration": 621,
    "start_time": "2021-10-05T19:07:05.444Z"
   },
   {
    "duration": 447,
    "start_time": "2021-10-05T19:07:06.066Z"
   },
   {
    "duration": 4,
    "start_time": "2021-10-05T19:07:06.514Z"
   },
   {
    "duration": 448,
    "start_time": "2021-10-05T19:07:06.519Z"
   },
   {
    "duration": 97,
    "start_time": "2021-10-05T19:07:06.970Z"
   },
   {
    "duration": 6,
    "start_time": "2021-10-05T19:07:07.069Z"
   },
   {
    "duration": 691,
    "start_time": "2021-10-05T19:07:07.076Z"
   },
   {
    "duration": 1802,
    "start_time": "2021-10-05T19:07:07.769Z"
   },
   {
    "duration": 24,
    "start_time": "2021-10-05T19:07:09.573Z"
   },
   {
    "duration": 570,
    "start_time": "2021-10-05T19:07:09.599Z"
   },
   {
    "duration": 7917,
    "start_time": "2021-10-05T19:07:10.170Z"
   },
   {
    "duration": 8,
    "start_time": "2021-10-05T19:07:18.089Z"
   },
   {
    "duration": 2441,
    "start_time": "2021-10-05T19:07:18.098Z"
   },
   {
    "duration": 2174,
    "start_time": "2021-10-05T19:07:20.544Z"
   },
   {
    "duration": 25,
    "start_time": "2021-10-05T19:07:22.720Z"
   },
   {
    "duration": 386,
    "start_time": "2021-10-05T19:07:22.747Z"
   },
   {
    "duration": 16,
    "start_time": "2021-10-05T19:07:23.135Z"
   },
   {
    "duration": 234,
    "start_time": "2021-10-05T19:07:23.152Z"
   },
   {
    "duration": 133,
    "start_time": "2021-10-05T19:07:23.387Z"
   },
   {
    "duration": 58,
    "start_time": "2021-10-05T19:07:23.522Z"
   },
   {
    "duration": 20,
    "start_time": "2021-10-05T19:07:23.581Z"
   },
   {
    "duration": 57,
    "start_time": "2021-10-05T19:07:23.603Z"
   },
   {
    "duration": 22,
    "start_time": "2021-10-05T19:07:23.665Z"
   },
   {
    "duration": 376,
    "start_time": "2021-10-05T19:07:23.690Z"
   },
   {
    "duration": 313,
    "start_time": "2021-10-05T19:07:24.068Z"
   },
   {
    "duration": 35,
    "start_time": "2021-10-05T19:07:24.383Z"
   },
   {
    "duration": 4,
    "start_time": "2021-10-05T19:07:24.420Z"
   },
   {
    "duration": 61,
    "start_time": "2021-10-05T19:07:24.427Z"
   },
   {
    "duration": 1123,
    "start_time": "2021-10-05T19:07:24.490Z"
   },
   {
    "duration": 136,
    "start_time": "2021-10-05T19:07:25.615Z"
   },
   {
    "duration": 124,
    "start_time": "2021-10-05T19:07:25.753Z"
   },
   {
    "duration": 521,
    "start_time": "2021-10-05T19:07:25.879Z"
   },
   {
    "duration": 185,
    "start_time": "2021-10-05T19:07:26.402Z"
   },
   {
    "duration": 15,
    "start_time": "2021-10-05T19:07:26.588Z"
   },
   {
    "duration": 9,
    "start_time": "2021-10-05T19:07:26.605Z"
   },
   {
    "duration": 86,
    "start_time": "2021-10-05T19:07:26.616Z"
   },
   {
    "duration": 4,
    "start_time": "2021-10-05T19:07:26.704Z"
   },
   {
    "duration": 71,
    "start_time": "2021-10-05T19:07:26.710Z"
   },
   {
    "duration": 220,
    "start_time": "2021-10-05T19:07:26.783Z"
   },
   {
    "duration": 1151,
    "start_time": "2021-10-05T19:07:27.005Z"
   },
   {
    "duration": 3,
    "start_time": "2021-10-05T19:07:28.158Z"
   },
   {
    "duration": 3,
    "start_time": "2021-10-05T19:07:41.918Z"
   },
   {
    "duration": 3,
    "start_time": "2021-10-05T19:07:45.715Z"
   },
   {
    "duration": 2,
    "start_time": "2021-10-05T19:07:48.705Z"
   },
   {
    "duration": 3,
    "start_time": "2021-10-05T19:07:52.416Z"
   },
   {
    "duration": 3,
    "start_time": "2021-10-05T19:07:56.034Z"
   },
   {
    "duration": 3,
    "start_time": "2021-10-05T19:08:06.585Z"
   },
   {
    "duration": 256,
    "start_time": "2021-10-05T19:08:25.143Z"
   },
   {
    "duration": 2639,
    "start_time": "2021-10-05T19:09:16.516Z"
   },
   {
    "duration": 1236,
    "start_time": "2021-10-05T19:09:19.157Z"
   },
   {
    "duration": 1688,
    "start_time": "2021-10-05T19:09:20.396Z"
   },
   {
    "duration": 144,
    "start_time": "2021-10-05T19:09:22.086Z"
   },
   {
    "duration": 612,
    "start_time": "2021-10-05T19:09:22.231Z"
   },
   {
    "duration": 425,
    "start_time": "2021-10-05T19:09:22.845Z"
   },
   {
    "duration": 3,
    "start_time": "2021-10-05T19:09:23.272Z"
   },
   {
    "duration": 441,
    "start_time": "2021-10-05T19:09:23.276Z"
   },
   {
    "duration": 101,
    "start_time": "2021-10-05T19:09:23.719Z"
   },
   {
    "duration": 5,
    "start_time": "2021-10-05T19:09:23.822Z"
   },
   {
    "duration": 694,
    "start_time": "2021-10-05T19:09:23.829Z"
   },
   {
    "duration": 1977,
    "start_time": "2021-10-05T19:09:24.525Z"
   },
   {
    "duration": 23,
    "start_time": "2021-10-05T19:09:26.504Z"
   },
   {
    "duration": 833,
    "start_time": "2021-10-05T19:09:26.545Z"
   },
   {
    "duration": 8717,
    "start_time": "2021-10-05T19:09:27.381Z"
   },
   {
    "duration": 5,
    "start_time": "2021-10-05T19:09:36.100Z"
   },
   {
    "duration": 2305,
    "start_time": "2021-10-05T19:09:36.107Z"
   },
   {
    "duration": 1939,
    "start_time": "2021-10-05T19:09:38.414Z"
   },
   {
    "duration": 15,
    "start_time": "2021-10-05T19:09:40.355Z"
   },
   {
    "duration": 405,
    "start_time": "2021-10-05T19:09:40.371Z"
   },
   {
    "duration": 16,
    "start_time": "2021-10-05T19:09:40.778Z"
   },
   {
    "duration": 344,
    "start_time": "2021-10-05T19:09:40.795Z"
   },
   {
    "duration": 141,
    "start_time": "2021-10-05T19:09:41.142Z"
   },
   {
    "duration": 49,
    "start_time": "2021-10-05T19:09:41.285Z"
   },
   {
    "duration": 20,
    "start_time": "2021-10-05T19:09:41.344Z"
   },
   {
    "duration": 48,
    "start_time": "2021-10-05T19:09:41.366Z"
   },
   {
    "duration": 30,
    "start_time": "2021-10-05T19:09:41.418Z"
   },
   {
    "duration": 364,
    "start_time": "2021-10-05T19:09:41.450Z"
   },
   {
    "duration": 340,
    "start_time": "2021-10-05T19:09:41.816Z"
   },
   {
    "duration": 36,
    "start_time": "2021-10-05T19:09:42.158Z"
   },
   {
    "duration": 4,
    "start_time": "2021-10-05T19:09:42.195Z"
   },
   {
    "duration": 64,
    "start_time": "2021-10-05T19:09:42.201Z"
   },
   {
    "duration": 1143,
    "start_time": "2021-10-05T19:09:42.267Z"
   },
   {
    "duration": 98,
    "start_time": "2021-10-05T19:09:43.412Z"
   },
   {
    "duration": 79,
    "start_time": "2021-10-05T19:09:43.512Z"
   },
   {
    "duration": 493,
    "start_time": "2021-10-05T19:09:43.593Z"
   },
   {
    "duration": 185,
    "start_time": "2021-10-05T19:09:44.088Z"
   },
   {
    "duration": 15,
    "start_time": "2021-10-05T19:09:44.275Z"
   },
   {
    "duration": 10,
    "start_time": "2021-10-05T19:09:44.292Z"
   },
   {
    "duration": 88,
    "start_time": "2021-10-05T19:09:44.304Z"
   },
   {
    "duration": 5,
    "start_time": "2021-10-05T19:09:44.393Z"
   },
   {
    "duration": 71,
    "start_time": "2021-10-05T19:09:44.400Z"
   },
   {
    "duration": 208,
    "start_time": "2021-10-05T19:09:44.473Z"
   },
   {
    "duration": 1141,
    "start_time": "2021-10-05T19:09:44.683Z"
   },
   {
    "duration": 3,
    "start_time": "2021-10-05T19:09:45.826Z"
   },
   {
    "duration": 30486,
    "start_time": "2021-10-05T19:10:02.724Z"
   },
   {
    "duration": 441,
    "start_time": "2021-10-05T19:12:00.905Z"
   },
   {
    "duration": 4,
    "start_time": "2021-10-05T19:12:18.134Z"
   },
   {
    "duration": 32234,
    "start_time": "2021-10-05T19:18:36.217Z"
   },
   {
    "duration": 1362,
    "start_time": "2021-10-05T19:20:23.206Z"
   },
   {
    "duration": 11,
    "start_time": "2021-10-05T19:26:44.925Z"
   },
   {
    "duration": 24,
    "start_time": "2021-10-05T19:27:24.745Z"
   }
  ],
  "kernelspec": {
   "display_name": "Python 3 (ipykernel)",
   "language": "python",
   "name": "python3"
  },
  "language_info": {
   "codemirror_mode": {
    "name": "ipython",
    "version": 3
   },
   "file_extension": ".py",
   "mimetype": "text/x-python",
   "name": "python",
   "nbconvert_exporter": "python",
   "pygments_lexer": "ipython3",
   "version": "3.9.6"
  },
  "toc": {
   "base_numbering": 1,
   "nav_menu": {},
   "number_sections": true,
   "sideBar": true,
   "skip_h1_title": true,
   "title_cell": "Table of Contents",
   "title_sidebar": "Contents",
   "toc_cell": false,
   "toc_position": {
    "height": "calc(100% - 180px)",
    "left": "10px",
    "top": "150px",
    "width": "270.391px"
   },
   "toc_section_display": true,
   "toc_window_display": true
  },
  "toc-autonumbering": false,
  "toc-showcode": false,
  "toc-showmarkdowntxt": false
 },
 "nbformat": 4,
 "nbformat_minor": 4
}
