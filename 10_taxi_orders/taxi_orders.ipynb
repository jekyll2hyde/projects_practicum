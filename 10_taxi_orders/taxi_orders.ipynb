{
 "cells": [
  {
   "cell_type": "markdown",
   "metadata": {},
   "source": [
    "#  Прогнозирование заказов такси"
   ]
  },
  {
   "cell_type": "markdown",
   "metadata": {},
   "source": [
    "Сервис по заказу такси собрал исторические данные о заказах такси в аэропортах. Чтобы привлекать больше водителей в период пиковой нагрузки, нужно спрогнозировать количество заказов такси на следующий час. \n",
    "\n",
    "Необходимо построить модель для предсказания.\n",
    "\n",
    "Значение метрики ***RMSE*** на тестовой выборке должно быть не больше 48.\n",
    "\n",
    "Необходимо:\n",
    "\n",
    "1. Загрузить данные и выполнить их ресемплирование по одному часу.\n",
    "2. Проанализировать данные.\n",
    "3. Обучить разные модели с различными гиперпараметрами. Сделать тестовую выборку размером 10% от исходных данных.\n",
    "4. Проверить данные на тестовой выборке и сделать выводы.\n",
    "\n",
    "Работа будет выполняться согласно следующему ***плану***:\n",
    "\n",
    "1. Загрузка и изучение данных;\n",
    "2. Предобработка данных;\n",
    "3. Анализ данных;\n",
    "4. Подбор и генерация оптимального набора признаков;\n",
    "5. Подбор, оценка кросс-валидацией и выбор наилучшей модели;\n",
    "6. Тестирование выбранной модели."
   ]
  },
  {
   "cell_type": "markdown",
   "metadata": {
    "toc": true
   },
   "source": [
    "<h1>Содержание<span class=\"tocSkip\"></span></h1>\n",
    "<div class=\"toc\"><ul class=\"toc-item\"><li><span><a href=\"#Изучение-данных\" data-toc-modified-id=\"Изучение-данных-1\"><span class=\"toc-item-num\">1&nbsp;&nbsp;</span>Изучение данных</a></span></li><li><span><a href=\"#Предобработка-данных\" data-toc-modified-id=\"Предобработка-данных-2\"><span class=\"toc-item-num\">2&nbsp;&nbsp;</span>Предобработка данных</a></span></li><li><span><a href=\"#Анализ-данных\" data-toc-modified-id=\"Анализ-данных-3\"><span class=\"toc-item-num\">3&nbsp;&nbsp;</span>Анализ данных</a></span></li><li><span><a href=\"#Подготовка-признаков\" data-toc-modified-id=\"Подготовка-признаков-4\"><span class=\"toc-item-num\">4&nbsp;&nbsp;</span>Подготовка признаков</a></span></li><li><span><a href=\"#Обучение\" data-toc-modified-id=\"Обучение-5\"><span class=\"toc-item-num\">5&nbsp;&nbsp;</span>Обучение</a></span></li><li><span><a href=\"#Тестирование\" data-toc-modified-id=\"Тестирование-6\"><span class=\"toc-item-num\">6&nbsp;&nbsp;</span>Тестирование</a></span></li><li><span><a href=\"#Общий-вывод\" data-toc-modified-id=\"Общий-вывод-7\"><span class=\"toc-item-num\">7&nbsp;&nbsp;</span>Общий вывод</a></span></li><li><span><a href=\"#Чек-лист-проверки\" data-toc-modified-id=\"Чек-лист-проверки-8\"><span class=\"toc-item-num\">8&nbsp;&nbsp;</span>Чек-лист проверки</a></span></li></ul></div>"
   ]
  },
  {
   "cell_type": "markdown",
   "metadata": {},
   "source": [
    "## Изучение данных"
   ]
  },
  {
   "cell_type": "markdown",
   "metadata": {},
   "source": [
    "#  Прогнозирование заказов такси"
   ]
  },
  {
   "cell_type": "markdown",
   "metadata": {},
   "source": [
    "Импортируем необходимые для работы библиотеки:"
   ]
  },
  {
   "cell_type": "code",
   "execution_count": 2,
   "metadata": {},
   "outputs": [],
   "source": [
    "import pandas as pd\n",
    "import numpy as np\n",
    "from statsmodels.tsa.seasonal import seasonal_decompose\n",
    "import matplotlib.pyplot as plt\n",
    "import seaborn as sns\n",
    "from sklearn.model_selection import train_test_split\n",
    "from sklearn.preprocessing import OrdinalEncoder\n",
    "from sklearn.preprocessing import StandardScaler\n",
    "from sklearn.model_selection import TimeSeriesSplit, cross_val_score, GridSearchCV\n",
    "from sklearn.tree import DecisionTreeRegressor\n",
    "from sklearn.ensemble import RandomForestRegressor\n",
    "from sklearn.linear_model import LinearRegression\n",
    "from sklearn.dummy import DummyRegressor\n",
    "from sklearn.feature_selection import RFECV\n",
    "from sklearn.metrics import mean_squared_error\n",
    "import xgboost as xgb\n",
    "import lightgbm as lgb\n",
    "import catboost as cb"
   ]
  },
  {
   "cell_type": "markdown",
   "metadata": {},
   "source": [
    "Загрузим исходные данные:"
   ]
  },
  {
   "cell_type": "code",
   "execution_count": 3,
   "metadata": {},
   "outputs": [],
   "source": [
    "data = pd.read_csv('https://code.s3.yandex.net/datasets/taxi.csv')"
   ]
  },
  {
   "cell_type": "markdown",
   "metadata": {},
   "source": [
    "Выведем на экран первые и последние строки таблицы и общую информацию о данных:"
   ]
  },
  {
   "cell_type": "code",
   "execution_count": 4,
   "metadata": {
    "scrolled": false
   },
   "outputs": [
    {
     "data": {
      "text/html": [
       "<div>\n",
       "<style scoped>\n",
       "    .dataframe tbody tr th:only-of-type {\n",
       "        vertical-align: middle;\n",
       "    }\n",
       "\n",
       "    .dataframe tbody tr th {\n",
       "        vertical-align: top;\n",
       "    }\n",
       "\n",
       "    .dataframe thead th {\n",
       "        text-align: right;\n",
       "    }\n",
       "</style>\n",
       "<table border=\"1\" class=\"dataframe\">\n",
       "  <thead>\n",
       "    <tr style=\"text-align: right;\">\n",
       "      <th></th>\n",
       "      <th>datetime</th>\n",
       "      <th>num_orders</th>\n",
       "    </tr>\n",
       "  </thead>\n",
       "  <tbody>\n",
       "    <tr>\n",
       "      <td>0</td>\n",
       "      <td>2018-03-01 00:00:00</td>\n",
       "      <td>9</td>\n",
       "    </tr>\n",
       "    <tr>\n",
       "      <td>1</td>\n",
       "      <td>2018-03-01 00:10:00</td>\n",
       "      <td>14</td>\n",
       "    </tr>\n",
       "    <tr>\n",
       "      <td>2</td>\n",
       "      <td>2018-03-01 00:20:00</td>\n",
       "      <td>28</td>\n",
       "    </tr>\n",
       "    <tr>\n",
       "      <td>3</td>\n",
       "      <td>2018-03-01 00:30:00</td>\n",
       "      <td>20</td>\n",
       "    </tr>\n",
       "    <tr>\n",
       "      <td>4</td>\n",
       "      <td>2018-03-01 00:40:00</td>\n",
       "      <td>32</td>\n",
       "    </tr>\n",
       "    <tr>\n",
       "      <td>...</td>\n",
       "      <td>...</td>\n",
       "      <td>...</td>\n",
       "    </tr>\n",
       "    <tr>\n",
       "      <td>26491</td>\n",
       "      <td>2018-08-31 23:10:00</td>\n",
       "      <td>32</td>\n",
       "    </tr>\n",
       "    <tr>\n",
       "      <td>26492</td>\n",
       "      <td>2018-08-31 23:20:00</td>\n",
       "      <td>24</td>\n",
       "    </tr>\n",
       "    <tr>\n",
       "      <td>26493</td>\n",
       "      <td>2018-08-31 23:30:00</td>\n",
       "      <td>27</td>\n",
       "    </tr>\n",
       "    <tr>\n",
       "      <td>26494</td>\n",
       "      <td>2018-08-31 23:40:00</td>\n",
       "      <td>39</td>\n",
       "    </tr>\n",
       "    <tr>\n",
       "      <td>26495</td>\n",
       "      <td>2018-08-31 23:50:00</td>\n",
       "      <td>53</td>\n",
       "    </tr>\n",
       "  </tbody>\n",
       "</table>\n",
       "<p>26496 rows × 2 columns</p>\n",
       "</div>"
      ],
      "text/plain": [
       "                  datetime  num_orders\n",
       "0      2018-03-01 00:00:00           9\n",
       "1      2018-03-01 00:10:00          14\n",
       "2      2018-03-01 00:20:00          28\n",
       "3      2018-03-01 00:30:00          20\n",
       "4      2018-03-01 00:40:00          32\n",
       "...                    ...         ...\n",
       "26491  2018-08-31 23:10:00          32\n",
       "26492  2018-08-31 23:20:00          24\n",
       "26493  2018-08-31 23:30:00          27\n",
       "26494  2018-08-31 23:40:00          39\n",
       "26495  2018-08-31 23:50:00          53\n",
       "\n",
       "[26496 rows x 2 columns]"
      ]
     },
     "metadata": {},
     "output_type": "display_data"
    },
    {
     "name": "stdout",
     "output_type": "stream",
     "text": [
      "<class 'pandas.core.frame.DataFrame'>\n",
      "RangeIndex: 26496 entries, 0 to 26495\n",
      "Data columns (total 2 columns):\n",
      "datetime      26496 non-null object\n",
      "num_orders    26496 non-null int64\n",
      "dtypes: int64(1), object(1)\n",
      "memory usage: 414.1+ KB\n"
     ]
    }
   ],
   "source": [
    "display(data)\n",
    "data.info()"
   ]
  },
  {
   "cell_type": "markdown",
   "metadata": {},
   "source": [
    "В датасете всего 26 496 строк. Пропуски данных отсутствуют. Периодичность записи данных в датасет - 10 минут."
   ]
  },
  {
   "cell_type": "markdown",
   "metadata": {},
   "source": [
    "Проверим датасет на наличие грубых дубликатов:"
   ]
  },
  {
   "cell_type": "code",
   "execution_count": 5,
   "metadata": {
    "scrolled": true
   },
   "outputs": [
    {
     "data": {
      "text/plain": [
       "0"
      ]
     },
     "execution_count": 5,
     "metadata": {},
     "output_type": "execute_result"
    }
   ],
   "source": [
    "data.duplicated().sum()"
   ]
  },
  {
   "cell_type": "markdown",
   "metadata": {},
   "source": [
    "Грубые дубликаты не обнаружены."
   ]
  },
  {
   "cell_type": "markdown",
   "metadata": {},
   "source": [
    "Выведем описательную статистику исходных данных и изучим диапазон данных:"
   ]
  },
  {
   "cell_type": "code",
   "execution_count": 6,
   "metadata": {
    "scrolled": false,
    "tags": []
   },
   "outputs": [
    {
     "data": {
      "text/html": [
       "<div>\n",
       "<style scoped>\n",
       "    .dataframe tbody tr th:only-of-type {\n",
       "        vertical-align: middle;\n",
       "    }\n",
       "\n",
       "    .dataframe tbody tr th {\n",
       "        vertical-align: top;\n",
       "    }\n",
       "\n",
       "    .dataframe thead th {\n",
       "        text-align: right;\n",
       "    }\n",
       "</style>\n",
       "<table border=\"1\" class=\"dataframe\">\n",
       "  <thead>\n",
       "    <tr style=\"text-align: right;\">\n",
       "      <th></th>\n",
       "      <th>num_orders</th>\n",
       "    </tr>\n",
       "  </thead>\n",
       "  <tbody>\n",
       "    <tr>\n",
       "      <td>count</td>\n",
       "      <td>26496.000000</td>\n",
       "    </tr>\n",
       "    <tr>\n",
       "      <td>mean</td>\n",
       "      <td>14.070463</td>\n",
       "    </tr>\n",
       "    <tr>\n",
       "      <td>std</td>\n",
       "      <td>9.211330</td>\n",
       "    </tr>\n",
       "    <tr>\n",
       "      <td>min</td>\n",
       "      <td>0.000000</td>\n",
       "    </tr>\n",
       "    <tr>\n",
       "      <td>25%</td>\n",
       "      <td>8.000000</td>\n",
       "    </tr>\n",
       "    <tr>\n",
       "      <td>50%</td>\n",
       "      <td>13.000000</td>\n",
       "    </tr>\n",
       "    <tr>\n",
       "      <td>75%</td>\n",
       "      <td>19.000000</td>\n",
       "    </tr>\n",
       "    <tr>\n",
       "      <td>max</td>\n",
       "      <td>119.000000</td>\n",
       "    </tr>\n",
       "  </tbody>\n",
       "</table>\n",
       "</div>"
      ],
      "text/plain": [
       "         num_orders\n",
       "count  26496.000000\n",
       "mean      14.070463\n",
       "std        9.211330\n",
       "min        0.000000\n",
       "25%        8.000000\n",
       "50%       13.000000\n",
       "75%       19.000000\n",
       "max      119.000000"
      ]
     },
     "execution_count": 6,
     "metadata": {},
     "output_type": "execute_result"
    }
   ],
   "source": [
    "data.describe()"
   ]
  },
  {
   "cell_type": "markdown",
   "metadata": {
    "tags": []
   },
   "source": [
    "###### Вывод"
   ]
  },
  {
   "cell_type": "markdown",
   "metadata": {
    "tags": []
   },
   "source": [
    "Всего в таблице 2 столбца со следующими типами данных: ***object***, ***int64***.\n",
    "\n",
    "Каждый объект в наборе данных — это информация о количестве заказов такси в аэропортах за 10 минут. Известно:\n",
    "\n",
    " - ***datetime*** — дата и время;\n",
    " - ***num_orders*** - количество заказов.\n",
    "\n",
    "Тип данных столбца ***datetime*** - ***object***. Для возможности обработки временного ряда необходимо изменить тип данных столбца на ***datetime64*** и установить индекс таблицы равным столбцу ***datetime***."
   ]
  },
  {
   "cell_type": "markdown",
   "metadata": {},
   "source": [
    "## Предобработка данных"
   ]
  },
  {
   "cell_type": "markdown",
   "metadata": {},
   "source": [
    "Изменим тип данных столбца ***datetime*** на ***datetime64***:"
   ]
  },
  {
   "cell_type": "code",
   "execution_count": 7,
   "metadata": {},
   "outputs": [],
   "source": [
    "data['datetime'] = pd.to_datetime(data['datetime'])"
   ]
  },
  {
   "cell_type": "markdown",
   "metadata": {},
   "source": [
    "Проверим результат:"
   ]
  },
  {
   "cell_type": "code",
   "execution_count": 8,
   "metadata": {
    "scrolled": true
   },
   "outputs": [
    {
     "name": "stdout",
     "output_type": "stream",
     "text": [
      "<class 'pandas.core.frame.DataFrame'>\n",
      "RangeIndex: 26496 entries, 0 to 26495\n",
      "Data columns (total 2 columns):\n",
      "datetime      26496 non-null datetime64[ns]\n",
      "num_orders    26496 non-null int64\n",
      "dtypes: datetime64[ns](1), int64(1)\n",
      "memory usage: 414.1 KB\n"
     ]
    }
   ],
   "source": [
    "data.info()"
   ]
  },
  {
   "cell_type": "markdown",
   "metadata": {},
   "source": [
    "Тип данных успешно изменен."
   ]
  },
  {
   "cell_type": "markdown",
   "metadata": {},
   "source": [
    "Установим индекс таблицы равным столбцу ***datetime***:"
   ]
  },
  {
   "cell_type": "code",
   "execution_count": 9,
   "metadata": {},
   "outputs": [],
   "source": [
    "data = data.set_index('datetime')"
   ]
  },
  {
   "cell_type": "markdown",
   "metadata": {},
   "source": [
    "Проверим результат:"
   ]
  },
  {
   "cell_type": "code",
   "execution_count": 10,
   "metadata": {
    "scrolled": false
   },
   "outputs": [
    {
     "data": {
      "text/html": [
       "<div>\n",
       "<style scoped>\n",
       "    .dataframe tbody tr th:only-of-type {\n",
       "        vertical-align: middle;\n",
       "    }\n",
       "\n",
       "    .dataframe tbody tr th {\n",
       "        vertical-align: top;\n",
       "    }\n",
       "\n",
       "    .dataframe thead th {\n",
       "        text-align: right;\n",
       "    }\n",
       "</style>\n",
       "<table border=\"1\" class=\"dataframe\">\n",
       "  <thead>\n",
       "    <tr style=\"text-align: right;\">\n",
       "      <th></th>\n",
       "      <th>num_orders</th>\n",
       "    </tr>\n",
       "    <tr>\n",
       "      <th>datetime</th>\n",
       "      <th></th>\n",
       "    </tr>\n",
       "  </thead>\n",
       "  <tbody>\n",
       "    <tr>\n",
       "      <td>2018-03-01 00:00:00</td>\n",
       "      <td>9</td>\n",
       "    </tr>\n",
       "    <tr>\n",
       "      <td>2018-03-01 00:10:00</td>\n",
       "      <td>14</td>\n",
       "    </tr>\n",
       "    <tr>\n",
       "      <td>2018-03-01 00:20:00</td>\n",
       "      <td>28</td>\n",
       "    </tr>\n",
       "    <tr>\n",
       "      <td>2018-03-01 00:30:00</td>\n",
       "      <td>20</td>\n",
       "    </tr>\n",
       "    <tr>\n",
       "      <td>2018-03-01 00:40:00</td>\n",
       "      <td>32</td>\n",
       "    </tr>\n",
       "  </tbody>\n",
       "</table>\n",
       "</div>"
      ],
      "text/plain": [
       "                     num_orders\n",
       "datetime                       \n",
       "2018-03-01 00:00:00           9\n",
       "2018-03-01 00:10:00          14\n",
       "2018-03-01 00:20:00          28\n",
       "2018-03-01 00:30:00          20\n",
       "2018-03-01 00:40:00          32"
      ]
     },
     "execution_count": 10,
     "metadata": {},
     "output_type": "execute_result"
    }
   ],
   "source": [
    "data.head()"
   ]
  },
  {
   "cell_type": "markdown",
   "metadata": {},
   "source": [
    "Индекс установлен."
   ]
  },
  {
   "cell_type": "markdown",
   "metadata": {},
   "source": [
    "Проверим, в хронологическом ли порядке расположены даты и время:"
   ]
  },
  {
   "cell_type": "code",
   "execution_count": 11,
   "metadata": {},
   "outputs": [
    {
     "name": "stdout",
     "output_type": "stream",
     "text": [
      "True\n"
     ]
    }
   ],
   "source": [
    "print(data.index.is_monotonic)"
   ]
  },
  {
   "cell_type": "markdown",
   "metadata": {},
   "source": [
    "Даты и время расположены в хронологическом порядке - нет необходимости сортировки индекса."
   ]
  },
  {
   "cell_type": "markdown",
   "metadata": {},
   "source": [
    "Так как по условию задачи необходимо будет спрогнозировать количество заказов такси на следующий час, выполним ресемплирование данных по одному часу:"
   ]
  },
  {
   "cell_type": "code",
   "execution_count": 12,
   "metadata": {},
   "outputs": [],
   "source": [
    "data = data.resample('1H').sum()"
   ]
  },
  {
   "cell_type": "markdown",
   "metadata": {},
   "source": [
    "Проверим результат ресемплирования:"
   ]
  },
  {
   "cell_type": "code",
   "execution_count": 13,
   "metadata": {
    "scrolled": false
   },
   "outputs": [
    {
     "data": {
      "text/html": [
       "<div>\n",
       "<style scoped>\n",
       "    .dataframe tbody tr th:only-of-type {\n",
       "        vertical-align: middle;\n",
       "    }\n",
       "\n",
       "    .dataframe tbody tr th {\n",
       "        vertical-align: top;\n",
       "    }\n",
       "\n",
       "    .dataframe thead th {\n",
       "        text-align: right;\n",
       "    }\n",
       "</style>\n",
       "<table border=\"1\" class=\"dataframe\">\n",
       "  <thead>\n",
       "    <tr style=\"text-align: right;\">\n",
       "      <th></th>\n",
       "      <th>num_orders</th>\n",
       "    </tr>\n",
       "    <tr>\n",
       "      <th>datetime</th>\n",
       "      <th></th>\n",
       "    </tr>\n",
       "  </thead>\n",
       "  <tbody>\n",
       "    <tr>\n",
       "      <td>2018-03-01 00:00:00</td>\n",
       "      <td>124</td>\n",
       "    </tr>\n",
       "    <tr>\n",
       "      <td>2018-03-01 01:00:00</td>\n",
       "      <td>85</td>\n",
       "    </tr>\n",
       "    <tr>\n",
       "      <td>2018-03-01 02:00:00</td>\n",
       "      <td>71</td>\n",
       "    </tr>\n",
       "    <tr>\n",
       "      <td>2018-03-01 03:00:00</td>\n",
       "      <td>66</td>\n",
       "    </tr>\n",
       "    <tr>\n",
       "      <td>2018-03-01 04:00:00</td>\n",
       "      <td>43</td>\n",
       "    </tr>\n",
       "    <tr>\n",
       "      <td>...</td>\n",
       "      <td>...</td>\n",
       "    </tr>\n",
       "    <tr>\n",
       "      <td>2018-08-31 19:00:00</td>\n",
       "      <td>136</td>\n",
       "    </tr>\n",
       "    <tr>\n",
       "      <td>2018-08-31 20:00:00</td>\n",
       "      <td>154</td>\n",
       "    </tr>\n",
       "    <tr>\n",
       "      <td>2018-08-31 21:00:00</td>\n",
       "      <td>159</td>\n",
       "    </tr>\n",
       "    <tr>\n",
       "      <td>2018-08-31 22:00:00</td>\n",
       "      <td>223</td>\n",
       "    </tr>\n",
       "    <tr>\n",
       "      <td>2018-08-31 23:00:00</td>\n",
       "      <td>205</td>\n",
       "    </tr>\n",
       "  </tbody>\n",
       "</table>\n",
       "<p>4416 rows × 1 columns</p>\n",
       "</div>"
      ],
      "text/plain": [
       "                     num_orders\n",
       "datetime                       \n",
       "2018-03-01 00:00:00         124\n",
       "2018-03-01 01:00:00          85\n",
       "2018-03-01 02:00:00          71\n",
       "2018-03-01 03:00:00          66\n",
       "2018-03-01 04:00:00          43\n",
       "...                         ...\n",
       "2018-08-31 19:00:00         136\n",
       "2018-08-31 20:00:00         154\n",
       "2018-08-31 21:00:00         159\n",
       "2018-08-31 22:00:00         223\n",
       "2018-08-31 23:00:00         205\n",
       "\n",
       "[4416 rows x 1 columns]"
      ]
     },
     "execution_count": 13,
     "metadata": {},
     "output_type": "execute_result"
    }
   ],
   "source": [
    "data"
   ]
  },
  {
   "cell_type": "markdown",
   "metadata": {},
   "source": [
    "Данные ресемплированы."
   ]
  },
  {
   "cell_type": "markdown",
   "metadata": {},
   "source": [
    "###### Вывод\n",
    "\n",
    "Тип данных столбца ***datetime*** был изменен с ***object*** на ***datetime64***.\n",
    "\n",
    "***datetime*** установлен в качестве индекса и ресемплирован по одному часу."
   ]
  },
  {
   "cell_type": "markdown",
   "metadata": {},
   "source": [
    "## Анализ данных"
   ]
  },
  {
   "cell_type": "markdown",
   "metadata": {},
   "source": [
    "Напишем функцию для анализа временного ряда:"
   ]
  },
  {
   "cell_type": "code",
   "execution_count": 14,
   "metadata": {},
   "outputs": [],
   "source": [
    "def time_series_analysis(data, start, end, interval, plot_type, title):\n",
    "    resampled = data[start:end].resample(interval).sum()\n",
    "    decomposed = seasonal_decompose(resampled)\n",
    "    plt.figure(figsize=(10,6))\n",
    "    if plot_type == 'trend':\n",
    "        decomposed.trend.plot(ax=plt.gca())\n",
    "    elif plot_type == 'seasonal':\n",
    "        decomposed.seasonal.plot(ax=plt.gca())\n",
    "    plt.title(title)\n",
    "    plt.show()"
   ]
  },
  {
   "cell_type": "markdown",
   "metadata": {},
   "source": [
    "Рассмотрим тренд количества вызовов такси за весь имеющийся период:"
   ]
  },
  {
   "cell_type": "code",
   "execution_count": 15,
   "metadata": {
    "scrolled": false
   },
   "outputs": [
    {
     "data": {
      "image/png": "[encoded data removed]",
      "text/plain": [
       "<Figure size 720x432 with 1 Axes>"
      ]
     },
     "metadata": {
      "needs_background": "light"
     },
     "output_type": "display_data"
    }
   ],
   "source": [
    "time_series_analysis(data,'2018-03','2018-08','1D','trend','Тренд количества вызовов такси в аэропортах')"
   ]
  },
  {
   "cell_type": "markdown",
   "metadata": {},
   "source": [
    "Тренд растет от с начала марта по конец августа."
   ]
  },
  {
   "cell_type": "markdown",
   "metadata": {},
   "source": [
    "Рассмотрим дневную сезонность вызовов такси:"
   ]
  },
  {
   "cell_type": "code",
   "execution_count": 16,
   "metadata": {},
   "outputs": [
    {
     "data": {
      "image/png": "[encoded data removed]",
      "text/plain": [
       "<Figure size 720x432 with 1 Axes>"
      ]
     },
     "metadata": {
      "needs_background": "light"
     },
     "output_type": "display_data"
    }
   ],
   "source": [
    "time_series_analysis(data,'2018-03','2018-08','1D','seasonal','Дневная сезонность вызовов такси в аэропортах')"
   ]
  },
  {
   "cell_type": "markdown",
   "metadata": {},
   "source": [
    "Цикличность вызовов такси стационарна. Рассмотрим подробнее середину периода - май и июнь месяцы:"
   ]
  },
  {
   "cell_type": "code",
   "execution_count": 17,
   "metadata": {
    "scrolled": false
   },
   "outputs": [
    {
     "data": {
      "image/png": "[encoded data removed]",
      "text/plain": [
       "<Figure size 720x432 with 1 Axes>"
      ]
     },
     "metadata": {
      "needs_background": "light"
     },
     "output_type": "display_data"
    }
   ],
   "source": [
    "time_series_analysis(data,'2018-05','2018-06','1D','seasonal','Дневная сезонность вызовов такси')"
   ]
  },
  {
   "cell_type": "markdown",
   "metadata": {},
   "source": [
    "Максимальные количества вызовов в мае месяце приходятся на: 4, 11, 18, 25 числа. Каждому из этих чисел соответствует день недели - ***пятница***, как и 1, 8, 15, 22 и 29 июня.\n",
    "\n",
    "Минимальные количества вызовов в мае месяце приходятся на: 8, 15, 22, 29 числа. Каждому из этих чисел соответствует день недели - ***вторник***, как и 5, 12, 19 и 26 июня."
   ]
  },
  {
   "cell_type": "markdown",
   "metadata": {},
   "source": [
    "Рассмотрим часовую сезонность вызовов такси в аэропортах:"
   ]
  },
  {
   "cell_type": "code",
   "execution_count": 18,
   "metadata": {
    "scrolled": false
   },
   "outputs": [
    {
     "data": {
      "image/png": "[encoded data removed]",
      "text/plain": [
       "<Figure size 720x432 with 1 Axes>"
      ]
     },
     "metadata": {
      "needs_background": "light"
     },
     "output_type": "display_data"
    }
   ],
   "source": [
    "time_series_analysis(data,'2018-05-01','2018-05-03','1H','seasonal','Часовая сезонность вызовов такси')"
   ]
  },
  {
   "cell_type": "markdown",
   "metadata": {},
   "source": [
    "Максимальное количество вызовов ежедневно приходится на: 0:00 часов.\n",
    "\n",
    "Минимальное количество вызовов ежедневно приходится на: 6:00 часов."
   ]
  },
  {
   "cell_type": "markdown",
   "metadata": {},
   "source": [
    "###### Вывод\n",
    "\n",
    "***Тренд*** количества вызываемых в аэропортах такси - ***возрастающий*** с начала марта до конца августа месяца. Количество вызовов достигает своего ***пика в конце августа***, что может быть связано с подходящим к концу сезону отпусков - люди возвращаются домой.\n",
    "\n",
    "Небольшие просадки в количестве вызовов такси во время роста тренда могут быть связаны со специфическими событиями, например, праздничными днями или плохой погодой.\n",
    "\n",
    "***Самыми загруженными*** днями недели для такси в аэропортах являются:\n",
    "\n",
    "1. Пятница;\n",
    "2. Понедельник;\n",
    "\n",
    "***Наименее загруженными*** днями недели для такси в аэропортах являются:\n",
    "\n",
    "1. Вторник;\n",
    "2. Воскресенье.\n",
    "\n",
    "По всей видимости, люди предпочитают избегать прилетать в точки назначения в выходные дни, и проводить их в спокойствии. Непопулярность вторника для перелетов может быть связана с тем, он считается самым продуктивным днем недели - слишком много дел, летать некогда.\n",
    "\n",
    "***Наиболее загруженным*** временем для такси в аэропортах является ***0:00*** часов.\n",
    "\n",
    "***Наименее загруженным*** временем для такси в аэропортах является: ***6:00*** часов."
   ]
  },
  {
   "cell_type": "markdown",
   "metadata": {},
   "source": [
    "## Подготовка признаков"
   ]
  },
  {
   "cell_type": "markdown",
   "metadata": {},
   "source": [
    "В данных тренды и сезонность привязаны к конкретным датам. Для того, чтобы модели ML могли их распознать, необходимо добавить следующие признаки:\n",
    "\n",
    " - Месяцы;\n",
    " - Числа;\n",
    " - Дни недели;\n",
    " - Часы.\n",
    "\n",
    "Также необходимо добавить столбцы с отстающими значениями ряда, которые подскажут, будет ли функция x(t) расти или уменьшаться.\n",
    "\n",
    "Добавление в признаки скользящего среднего поможет задать общий тренд временного ряда."
   ]
  },
  {
   "cell_type": "markdown",
   "metadata": {},
   "source": [
    "\n",
    "Напишем функцию для создания признаков временного ряда:"
   ]
  },
  {
   "cell_type": "code",
   "execution_count": 19,
   "metadata": {},
   "outputs": [],
   "source": [
    "def make_features(data, max_lag, rolling_mean_size):\n",
    "\n",
    "#     data['month'] = data.index.month\n",
    "#     data['day'] = data.index.day\n",
    "    data['dayofweek'] = data.index.dayofweek\n",
    "    data['hour'] = data.index.hour\n",
    "    \n",
    "    for lag in range(1, max_lag + 1):\n",
    "        data['lag_{}'.format(lag)] = data['num_orders'].shift(lag)\n",
    "\n",
    "    data['rolling_mean'] = data['num_orders'].shift().rolling(rolling_mean_size).mean()"
   ]
  },
  {
   "cell_type": "markdown",
   "metadata": {},
   "source": [
    "В цикле подберем такие ***max_lag*** и ***rolling_mean_size***, с помощью которых будут сгенерированы признаки, позволяющие модели линейной регрессии достичь минимальной метрики ***RMSE***. Метрика будет рассчитываться с помощью кросс-валидации с применением ***TimeSeriesSplit***."
   ]
  },
  {
   "cell_type": "code",
   "execution_count": 20,
   "metadata": {
    "scrolled": false
   },
   "outputs": [
    {
     "data": {
      "text/html": [
       "<div>\n",
       "<style scoped>\n",
       "    .dataframe tbody tr th:only-of-type {\n",
       "        vertical-align: middle;\n",
       "    }\n",
       "\n",
       "    .dataframe tbody tr th {\n",
       "        vertical-align: top;\n",
       "    }\n",
       "\n",
       "    .dataframe thead th {\n",
       "        text-align: right;\n",
       "    }\n",
       "</style>\n",
       "<table border=\"1\" class=\"dataframe\">\n",
       "  <thead>\n",
       "    <tr style=\"text-align: right;\">\n",
       "      <th></th>\n",
       "      <th>best_lag</th>\n",
       "      <th>best_rolling_mean_size</th>\n",
       "      <th>best_rmse_score</th>\n",
       "    </tr>\n",
       "  </thead>\n",
       "  <tbody>\n",
       "    <tr>\n",
       "      <td>0</td>\n",
       "      <td>24</td>\n",
       "      <td>2</td>\n",
       "      <td>-27.911374</td>\n",
       "    </tr>\n",
       "  </tbody>\n",
       "</table>\n",
       "</div>"
      ],
      "text/plain": [
       "   best_lag  best_rolling_mean_size  best_rmse_score\n",
       "0        24                       2       -27.911374"
      ]
     },
     "metadata": {},
     "output_type": "display_data"
    }
   ],
   "source": [
    "max_lag = [6,12,18,24,30,36,42,48]\n",
    "rolling_mean_size = [2,4,6,8,10,12,14,16,18,20,24]\n",
    "\n",
    "exp_data = data\n",
    "\n",
    "best_score = -48\n",
    "best_lag = 0\n",
    "best_size = 0\n",
    "\n",
    "pd.options.mode.chained_assignment = None\n",
    "\n",
    "for lag in max_lag:\n",
    "    \n",
    "    for size in rolling_mean_size:\n",
    "        \n",
    "        make_features(exp_data, lag, size)\n",
    "        \n",
    "        exp_data = exp_data.dropna()\n",
    "        \n",
    "        features = exp_data.drop('num_orders', axis = 1)\n",
    "        target = exp_data['num_orders']\n",
    "\n",
    "        features_train, features_test, target_train, target_test = train_test_split(\n",
    "            features,\n",
    "            target,\n",
    "            shuffle=False,\n",
    "            test_size=0.1\n",
    "        )\n",
    "        \n",
    "        model = LinearRegression()\n",
    "        score = cross_val_score(\n",
    "            model,\n",
    "            features_train,\n",
    "            target_train,\n",
    "            scoring = 'neg_root_mean_squared_error',\n",
    "            cv = TimeSeriesSplit()\n",
    "        ).mean()\n",
    "        \n",
    "        if score > best_score:\n",
    "            best_score = score\n",
    "            best_lag = lag\n",
    "            best_size = size\n",
    "        \n",
    "result = pd.DataFrame({'best_lag':[best_lag], 'best_rolling_mean_size':[best_size], 'best_rmse_score':[best_score]})\n",
    "display(result)\n"
   ]
  },
  {
   "cell_type": "markdown",
   "metadata": {},
   "source": [
    "Наилучший результат ***RMSE*** получен при обучении линейной регрессии на признаках, сформированных при ***max_lag = 24*** и ***rolling_mean_size = 2***."
   ]
  },
  {
   "cell_type": "markdown",
   "metadata": {},
   "source": [
    "С учетом полученных параметров сгенерируем признаки временного ряда для обучения и тестирования других моделей:"
   ]
  },
  {
   "cell_type": "code",
   "execution_count": 20,
   "metadata": {},
   "outputs": [],
   "source": [
    "make_features(data, 24, 2)"
   ]
  },
  {
   "cell_type": "code",
   "execution_count": 21,
   "metadata": {
    "scrolled": false
   },
   "outputs": [],
   "source": [
    "data = data.dropna()"
   ]
  },
  {
   "cell_type": "code",
   "execution_count": 22,
   "metadata": {
    "scrolled": false
   },
   "outputs": [
    {
     "data": {
      "text/html": [
       "<div>\n",
       "<style scoped>\n",
       "    .dataframe tbody tr th:only-of-type {\n",
       "        vertical-align: middle;\n",
       "    }\n",
       "\n",
       "    .dataframe tbody tr th {\n",
       "        vertical-align: top;\n",
       "    }\n",
       "\n",
       "    .dataframe thead th {\n",
       "        text-align: right;\n",
       "    }\n",
       "</style>\n",
       "<table border=\"1\" class=\"dataframe\">\n",
       "  <thead>\n",
       "    <tr style=\"text-align: right;\">\n",
       "      <th></th>\n",
       "      <th>num_orders</th>\n",
       "      <th>dayofweek</th>\n",
       "      <th>hour</th>\n",
       "      <th>lag_1</th>\n",
       "      <th>lag_2</th>\n",
       "      <th>lag_3</th>\n",
       "      <th>lag_4</th>\n",
       "      <th>lag_5</th>\n",
       "      <th>lag_6</th>\n",
       "      <th>lag_7</th>\n",
       "      <th>...</th>\n",
       "      <th>lag_16</th>\n",
       "      <th>lag_17</th>\n",
       "      <th>lag_18</th>\n",
       "      <th>lag_19</th>\n",
       "      <th>lag_20</th>\n",
       "      <th>lag_21</th>\n",
       "      <th>lag_22</th>\n",
       "      <th>lag_23</th>\n",
       "      <th>lag_24</th>\n",
       "      <th>rolling_mean</th>\n",
       "    </tr>\n",
       "    <tr>\n",
       "      <th>datetime</th>\n",
       "      <th></th>\n",
       "      <th></th>\n",
       "      <th></th>\n",
       "      <th></th>\n",
       "      <th></th>\n",
       "      <th></th>\n",
       "      <th></th>\n",
       "      <th></th>\n",
       "      <th></th>\n",
       "      <th></th>\n",
       "      <th></th>\n",
       "      <th></th>\n",
       "      <th></th>\n",
       "      <th></th>\n",
       "      <th></th>\n",
       "      <th></th>\n",
       "      <th></th>\n",
       "      <th></th>\n",
       "      <th></th>\n",
       "      <th></th>\n",
       "      <th></th>\n",
       "    </tr>\n",
       "  </thead>\n",
       "  <tbody>\n",
       "    <tr>\n",
       "      <td>2018-03-02 00:00:00</td>\n",
       "      <td>90</td>\n",
       "      <td>4</td>\n",
       "      <td>0</td>\n",
       "      <td>58.0</td>\n",
       "      <td>113.0</td>\n",
       "      <td>66.0</td>\n",
       "      <td>61.0</td>\n",
       "      <td>45.0</td>\n",
       "      <td>73.0</td>\n",
       "      <td>44.0</td>\n",
       "      <td>...</td>\n",
       "      <td>34.0</td>\n",
       "      <td>15.0</td>\n",
       "      <td>12.0</td>\n",
       "      <td>6.0</td>\n",
       "      <td>43.0</td>\n",
       "      <td>66.0</td>\n",
       "      <td>71.0</td>\n",
       "      <td>85.0</td>\n",
       "      <td>124.0</td>\n",
       "      <td>85.5</td>\n",
       "    </tr>\n",
       "    <tr>\n",
       "      <td>2018-03-02 01:00:00</td>\n",
       "      <td>120</td>\n",
       "      <td>4</td>\n",
       "      <td>1</td>\n",
       "      <td>90.0</td>\n",
       "      <td>58.0</td>\n",
       "      <td>113.0</td>\n",
       "      <td>66.0</td>\n",
       "      <td>61.0</td>\n",
       "      <td>45.0</td>\n",
       "      <td>73.0</td>\n",
       "      <td>...</td>\n",
       "      <td>69.0</td>\n",
       "      <td>34.0</td>\n",
       "      <td>15.0</td>\n",
       "      <td>12.0</td>\n",
       "      <td>6.0</td>\n",
       "      <td>43.0</td>\n",
       "      <td>66.0</td>\n",
       "      <td>71.0</td>\n",
       "      <td>85.0</td>\n",
       "      <td>74.0</td>\n",
       "    </tr>\n",
       "    <tr>\n",
       "      <td>2018-03-02 02:00:00</td>\n",
       "      <td>75</td>\n",
       "      <td>4</td>\n",
       "      <td>2</td>\n",
       "      <td>120.0</td>\n",
       "      <td>90.0</td>\n",
       "      <td>58.0</td>\n",
       "      <td>113.0</td>\n",
       "      <td>66.0</td>\n",
       "      <td>61.0</td>\n",
       "      <td>45.0</td>\n",
       "      <td>...</td>\n",
       "      <td>64.0</td>\n",
       "      <td>69.0</td>\n",
       "      <td>34.0</td>\n",
       "      <td>15.0</td>\n",
       "      <td>12.0</td>\n",
       "      <td>6.0</td>\n",
       "      <td>43.0</td>\n",
       "      <td>66.0</td>\n",
       "      <td>71.0</td>\n",
       "      <td>105.0</td>\n",
       "    </tr>\n",
       "    <tr>\n",
       "      <td>2018-03-02 03:00:00</td>\n",
       "      <td>64</td>\n",
       "      <td>4</td>\n",
       "      <td>3</td>\n",
       "      <td>75.0</td>\n",
       "      <td>120.0</td>\n",
       "      <td>90.0</td>\n",
       "      <td>58.0</td>\n",
       "      <td>113.0</td>\n",
       "      <td>66.0</td>\n",
       "      <td>61.0</td>\n",
       "      <td>...</td>\n",
       "      <td>96.0</td>\n",
       "      <td>64.0</td>\n",
       "      <td>69.0</td>\n",
       "      <td>34.0</td>\n",
       "      <td>15.0</td>\n",
       "      <td>12.0</td>\n",
       "      <td>6.0</td>\n",
       "      <td>43.0</td>\n",
       "      <td>66.0</td>\n",
       "      <td>97.5</td>\n",
       "    </tr>\n",
       "    <tr>\n",
       "      <td>2018-03-02 04:00:00</td>\n",
       "      <td>20</td>\n",
       "      <td>4</td>\n",
       "      <td>4</td>\n",
       "      <td>64.0</td>\n",
       "      <td>75.0</td>\n",
       "      <td>120.0</td>\n",
       "      <td>90.0</td>\n",
       "      <td>58.0</td>\n",
       "      <td>113.0</td>\n",
       "      <td>66.0</td>\n",
       "      <td>...</td>\n",
       "      <td>30.0</td>\n",
       "      <td>96.0</td>\n",
       "      <td>64.0</td>\n",
       "      <td>69.0</td>\n",
       "      <td>34.0</td>\n",
       "      <td>15.0</td>\n",
       "      <td>12.0</td>\n",
       "      <td>6.0</td>\n",
       "      <td>43.0</td>\n",
       "      <td>69.5</td>\n",
       "    </tr>\n",
       "  </tbody>\n",
       "</table>\n",
       "<p>5 rows × 28 columns</p>\n",
       "</div>"
      ],
      "text/plain": [
       "                     num_orders  dayofweek  hour  lag_1  lag_2  lag_3  lag_4  \\\n",
       "datetime                                                                       \n",
       "2018-03-02 00:00:00          90          4     0   58.0  113.0   66.0   61.0   \n",
       "2018-03-02 01:00:00         120          4     1   90.0   58.0  113.0   66.0   \n",
       "2018-03-02 02:00:00          75          4     2  120.0   90.0   58.0  113.0   \n",
       "2018-03-02 03:00:00          64          4     3   75.0  120.0   90.0   58.0   \n",
       "2018-03-02 04:00:00          20          4     4   64.0   75.0  120.0   90.0   \n",
       "\n",
       "                     lag_5  lag_6  lag_7  ...  lag_16  lag_17  lag_18  lag_19  \\\n",
       "datetime                                  ...                                   \n",
       "2018-03-02 00:00:00   45.0   73.0   44.0  ...    34.0    15.0    12.0     6.0   \n",
       "2018-03-02 01:00:00   61.0   45.0   73.0  ...    69.0    34.0    15.0    12.0   \n",
       "2018-03-02 02:00:00   66.0   61.0   45.0  ...    64.0    69.0    34.0    15.0   \n",
       "2018-03-02 03:00:00  113.0   66.0   61.0  ...    96.0    64.0    69.0    34.0   \n",
       "2018-03-02 04:00:00   58.0  113.0   66.0  ...    30.0    96.0    64.0    69.0   \n",
       "\n",
       "                     lag_20  lag_21  lag_22  lag_23  lag_24  rolling_mean  \n",
       "datetime                                                                   \n",
       "2018-03-02 00:00:00    43.0    66.0    71.0    85.0   124.0          85.5  \n",
       "2018-03-02 01:00:00     6.0    43.0    66.0    71.0    85.0          74.0  \n",
       "2018-03-02 02:00:00    12.0     6.0    43.0    66.0    71.0         105.0  \n",
       "2018-03-02 03:00:00    15.0    12.0     6.0    43.0    66.0          97.5  \n",
       "2018-03-02 04:00:00    34.0    15.0    12.0     6.0    43.0          69.5  \n",
       "\n",
       "[5 rows x 28 columns]"
      ]
     },
     "metadata": {},
     "output_type": "display_data"
    }
   ],
   "source": [
    "display(data.head())"
   ]
  },
  {
   "cell_type": "markdown",
   "metadata": {},
   "source": [
    "Признаки успешно сгенерированы."
   ]
  },
  {
   "cell_type": "markdown",
   "metadata": {},
   "source": [
    "Разделим данные на выборки:"
   ]
  },
  {
   "cell_type": "code",
   "execution_count": 23,
   "metadata": {},
   "outputs": [],
   "source": [
    "features = data.drop('num_orders', axis = 1)\n",
    "target = data['num_orders']\n",
    "\n",
    "features_train, features_test, target_train, target_test = train_test_split(\n",
    "    features, target, shuffle=False, test_size=0.1\n",
    ")"
   ]
  },
  {
   "cell_type": "markdown",
   "metadata": {},
   "source": [
    "Проверим разделение:"
   ]
  },
  {
   "cell_type": "code",
   "execution_count": 24,
   "metadata": {
    "scrolled": true
   },
   "outputs": [
    {
     "name": "stdout",
     "output_type": "stream",
     "text": [
      "Размер обучающей таблицы признаков: (3952, 27)\n",
      "Размер обучающей таблицы с целевым признаком: (3952,)\n",
      "Размер тестовой таблицы признаков: (440, 27)\n",
      "Размер тестовой таблицы с целевым признаком: (440,)\n"
     ]
    }
   ],
   "source": [
    "print('Размер обучающей таблицы признаков:',features_train.shape)\n",
    "print('Размер обучающей таблицы с целевым признаком:',target_train.shape)\n",
    "print('Размер тестовой таблицы признаков:',features_test.shape)\n",
    "print('Размер тестовой таблицы с целевым признаком:',target_test.shape)"
   ]
  },
  {
   "cell_type": "markdown",
   "metadata": {},
   "source": [
    "Размеры выборок соответствуют заданным параметрам."
   ]
  },
  {
   "cell_type": "markdown",
   "metadata": {},
   "source": [
    "###### Вывод\n",
    "\n",
    "На данном этапе с помощью подбора максимального отставания ряда ( ***max_lag*** ) и окна скользящего среднего ( ***rolling_mean_size*** ) были сгенерированы оптимальные признаки временного ряда.\n",
    "\n",
    "Результат подбора признаков оценивался в цикле с помощью обучения модели ***Линейная регрессия***. Наилучший результат, оцениваемый с помощью кросс-валидации, ***RMSE = 27,91***, получен при ***max_lag = 24*** и ***rolling_mean_size = 2***."
   ]
  },
  {
   "cell_type": "markdown",
   "metadata": {},
   "source": [
    "## Обучение"
   ]
  },
  {
   "cell_type": "markdown",
   "metadata": {},
   "source": [
    "Помимо уже примененной ***Линейной регресии*** рассмотрим другие модели, подбирая гиперпараметры для получения минимального значения метрики ***RMSE*** с помощью ***GridSearchCV***."
   ]
  },
  {
   "cell_type": "markdown",
   "metadata": {},
   "source": [
    "Напишем функцию для подбора наилучших параметров модели:"
   ]
  },
  {
   "cell_type": "code",
   "execution_count": 25,
   "metadata": {},
   "outputs": [],
   "source": [
    "def get_best_params(model,parameters):\n",
    "    grid = GridSearchCV(\n",
    "    model,\n",
    "    parameters,\n",
    "    cv = TimeSeriesSplit(n_splits = 8),\n",
    "    scoring = 'neg_root_mean_squared_error'\n",
    "    )\n",
    "    \n",
    "    grid.fit(features_train,target_train)\n",
    "    \n",
    "    greed_result = pd.DataFrame(\n",
    "        grid.cv_results_).sort_values(\n",
    "        by = 'rank_test_score').reset_index(\n",
    "        drop = True)\n",
    "    \n",
    "    display(greed_result[greed_result['rank_test_score']==1])"
   ]
  },
  {
   "cell_type": "markdown",
   "metadata": {},
   "source": [
    "Рассмотрим модель ***Дерево решений***:"
   ]
  },
  {
   "cell_type": "code",
   "execution_count": 30,
   "metadata": {},
   "outputs": [],
   "source": [
    "decision_tree = DecisionTreeRegressor()"
   ]
  },
  {
   "cell_type": "code",
   "execution_count": 31,
   "metadata": {},
   "outputs": [
    {
     "data": {
      "text/html": [
       "<div>\n",
       "<style scoped>\n",
       "    .dataframe tbody tr th:only-of-type {\n",
       "        vertical-align: middle;\n",
       "    }\n",
       "\n",
       "    .dataframe tbody tr th {\n",
       "        vertical-align: top;\n",
       "    }\n",
       "\n",
       "    .dataframe thead th {\n",
       "        text-align: right;\n",
       "    }\n",
       "</style>\n",
       "<table border=\"1\" class=\"dataframe\">\n",
       "  <thead>\n",
       "    <tr style=\"text-align: right;\">\n",
       "      <th></th>\n",
       "      <th>mean_fit_time</th>\n",
       "      <th>std_fit_time</th>\n",
       "      <th>mean_score_time</th>\n",
       "      <th>std_score_time</th>\n",
       "      <th>param_max_depth</th>\n",
       "      <th>param_random_state</th>\n",
       "      <th>params</th>\n",
       "      <th>split0_test_score</th>\n",
       "      <th>split1_test_score</th>\n",
       "      <th>split2_test_score</th>\n",
       "      <th>split3_test_score</th>\n",
       "      <th>split4_test_score</th>\n",
       "      <th>mean_test_score</th>\n",
       "      <th>std_test_score</th>\n",
       "      <th>rank_test_score</th>\n",
       "    </tr>\n",
       "  </thead>\n",
       "  <tbody>\n",
       "    <tr>\n",
       "      <td>0</td>\n",
       "      <td>0.016045</td>\n",
       "      <td>0.006331</td>\n",
       "      <td>0.002138</td>\n",
       "      <td>0.00025</td>\n",
       "      <td>5</td>\n",
       "      <td>12345</td>\n",
       "      <td>{'max_depth': 5, 'random_state': 12345}</td>\n",
       "      <td>-26.575238</td>\n",
       "      <td>-29.159383</td>\n",
       "      <td>-31.442811</td>\n",
       "      <td>-28.368143</td>\n",
       "      <td>-37.6622</td>\n",
       "      <td>-30.641555</td>\n",
       "      <td>3.842698</td>\n",
       "      <td>1</td>\n",
       "    </tr>\n",
       "  </tbody>\n",
       "</table>\n",
       "</div>"
      ],
      "text/plain": [
       "   mean_fit_time  std_fit_time  mean_score_time  std_score_time  \\\n",
       "0       0.016045      0.006331         0.002138         0.00025   \n",
       "\n",
       "  param_max_depth param_random_state                                   params  \\\n",
       "0               5              12345  {'max_depth': 5, 'random_state': 12345}   \n",
       "\n",
       "   split0_test_score  split1_test_score  split2_test_score  split3_test_score  \\\n",
       "0         -26.575238         -29.159383         -31.442811         -28.368143   \n",
       "\n",
       "   split4_test_score  mean_test_score  std_test_score  rank_test_score  \n",
       "0           -37.6622       -30.641555        3.842698                1  "
      ]
     },
     "metadata": {},
     "output_type": "display_data"
    }
   ],
   "source": [
    "get_best_params(\n",
    "    decision_tree,\n",
    "    {\n",
    "        'max_depth':range(1,21,1),\n",
    "        'random_state':[12345]\n",
    "    }\n",
    ")"
   ]
  },
  {
   "cell_type": "markdown",
   "metadata": {},
   "source": [
    "Наилучшее значение метрики, ***RMSE = 30.60***, получено при максимальной глубине дерева = ***5***."
   ]
  },
  {
   "cell_type": "markdown",
   "metadata": {},
   "source": [
    "Рассмотрим модель ***Случайный лес***:"
   ]
  },
  {
   "cell_type": "code",
   "execution_count": 32,
   "metadata": {},
   "outputs": [],
   "source": [
    "random_forest = RandomForestRegressor()"
   ]
  },
  {
   "cell_type": "code",
   "execution_count": 36,
   "metadata": {},
   "outputs": [
    {
     "data": {
      "text/html": [
       "<div>\n",
       "<style scoped>\n",
       "    .dataframe tbody tr th:only-of-type {\n",
       "        vertical-align: middle;\n",
       "    }\n",
       "\n",
       "    .dataframe tbody tr th {\n",
       "        vertical-align: top;\n",
       "    }\n",
       "\n",
       "    .dataframe thead th {\n",
       "        text-align: right;\n",
       "    }\n",
       "</style>\n",
       "<table border=\"1\" class=\"dataframe\">\n",
       "  <thead>\n",
       "    <tr style=\"text-align: right;\">\n",
       "      <th></th>\n",
       "      <th>mean_fit_time</th>\n",
       "      <th>std_fit_time</th>\n",
       "      <th>mean_score_time</th>\n",
       "      <th>std_score_time</th>\n",
       "      <th>param_max_depth</th>\n",
       "      <th>param_n_estimators</th>\n",
       "      <th>param_random_state</th>\n",
       "      <th>params</th>\n",
       "      <th>split0_test_score</th>\n",
       "      <th>split1_test_score</th>\n",
       "      <th>split2_test_score</th>\n",
       "      <th>split3_test_score</th>\n",
       "      <th>split4_test_score</th>\n",
       "      <th>mean_test_score</th>\n",
       "      <th>std_test_score</th>\n",
       "      <th>rank_test_score</th>\n",
       "    </tr>\n",
       "  </thead>\n",
       "  <tbody>\n",
       "    <tr>\n",
       "      <td>0</td>\n",
       "      <td>1.649898</td>\n",
       "      <td>0.784904</td>\n",
       "      <td>0.013755</td>\n",
       "      <td>0.000489</td>\n",
       "      <td>11</td>\n",
       "      <td>89</td>\n",
       "      <td>12345</td>\n",
       "      <td>{'max_depth': 11, 'n_estimators': 89, 'random_...</td>\n",
       "      <td>-22.039495</td>\n",
       "      <td>-22.020685</td>\n",
       "      <td>-23.697659</td>\n",
       "      <td>-25.15499</td>\n",
       "      <td>-33.190067</td>\n",
       "      <td>-25.220579</td>\n",
       "      <td>4.151986</td>\n",
       "      <td>1</td>\n",
       "    </tr>\n",
       "  </tbody>\n",
       "</table>\n",
       "</div>"
      ],
      "text/plain": [
       "   mean_fit_time  std_fit_time  mean_score_time  std_score_time  \\\n",
       "0       1.649898      0.784904         0.013755        0.000489   \n",
       "\n",
       "  param_max_depth param_n_estimators param_random_state  \\\n",
       "0              11                 89              12345   \n",
       "\n",
       "                                              params  split0_test_score  \\\n",
       "0  {'max_depth': 11, 'n_estimators': 89, 'random_...         -22.039495   \n",
       "\n",
       "   split1_test_score  split2_test_score  split3_test_score  split4_test_score  \\\n",
       "0         -22.020685         -23.697659          -25.15499         -33.190067   \n",
       "\n",
       "   mean_test_score  std_test_score  rank_test_score  \n",
       "0       -25.220579        4.151986                1  "
      ]
     },
     "metadata": {},
     "output_type": "display_data"
    }
   ],
   "source": [
    "get_best_params(\n",
    "    random_forest,\n",
    "    {\n",
    "        'max_depth':[11],\n",
    "        'n_estimators': range(81,102,1),       \n",
    "        'random_state':[12345]\n",
    "    }\n",
    ")"
   ]
  },
  {
   "cell_type": "markdown",
   "metadata": {},
   "source": [
    "Наилучшее значение метрики, ***RMSE = 25.22***, получено при максимальной глубине дерева = ***11*** и количестве деревьев = ***89***."
   ]
  },
  {
   "cell_type": "markdown",
   "metadata": {},
   "source": [
    "Рассмотрим модель ***CatBoostRegressor***:"
   ]
  },
  {
   "cell_type": "code",
   "execution_count": 37,
   "metadata": {},
   "outputs": [],
   "source": [
    "cbr = cb.CatBoostRegressor()"
   ]
  },
  {
   "cell_type": "code",
   "execution_count": 39,
   "metadata": {},
   "outputs": [
    {
     "data": {
      "text/html": [
       "<div>\n",
       "<style scoped>\n",
       "    .dataframe tbody tr th:only-of-type {\n",
       "        vertical-align: middle;\n",
       "    }\n",
       "\n",
       "    .dataframe tbody tr th {\n",
       "        vertical-align: top;\n",
       "    }\n",
       "\n",
       "    .dataframe thead th {\n",
       "        text-align: right;\n",
       "    }\n",
       "</style>\n",
       "<table border=\"1\" class=\"dataframe\">\n",
       "  <thead>\n",
       "    <tr style=\"text-align: right;\">\n",
       "      <th></th>\n",
       "      <th>mean_fit_time</th>\n",
       "      <th>std_fit_time</th>\n",
       "      <th>mean_score_time</th>\n",
       "      <th>std_score_time</th>\n",
       "      <th>param_iterations</th>\n",
       "      <th>param_learning_rate</th>\n",
       "      <th>param_silent</th>\n",
       "      <th>params</th>\n",
       "      <th>split0_test_score</th>\n",
       "      <th>split1_test_score</th>\n",
       "      <th>split2_test_score</th>\n",
       "      <th>split3_test_score</th>\n",
       "      <th>split4_test_score</th>\n",
       "      <th>mean_test_score</th>\n",
       "      <th>std_test_score</th>\n",
       "      <th>rank_test_score</th>\n",
       "    </tr>\n",
       "  </thead>\n",
       "  <tbody>\n",
       "    <tr>\n",
       "      <td>0</td>\n",
       "      <td>17.519664</td>\n",
       "      <td>4.106217</td>\n",
       "      <td>0.005247</td>\n",
       "      <td>0.001945</td>\n",
       "      <td>1000</td>\n",
       "      <td>0.1</td>\n",
       "      <td>True</td>\n",
       "      <td>{'iterations': 1000, 'learning_rate': 0.1, 'si...</td>\n",
       "      <td>-21.030117</td>\n",
       "      <td>-21.740165</td>\n",
       "      <td>-22.321635</td>\n",
       "      <td>-24.029248</td>\n",
       "      <td>-31.310323</td>\n",
       "      <td>-24.086298</td>\n",
       "      <td>3.745622</td>\n",
       "      <td>1</td>\n",
       "    </tr>\n",
       "  </tbody>\n",
       "</table>\n",
       "</div>"
      ],
      "text/plain": [
       "   mean_fit_time  std_fit_time  mean_score_time  std_score_time  \\\n",
       "0      17.519664      4.106217         0.005247        0.001945   \n",
       "\n",
       "  param_iterations param_learning_rate param_silent  \\\n",
       "0             1000                 0.1         True   \n",
       "\n",
       "                                              params  split0_test_score  \\\n",
       "0  {'iterations': 1000, 'learning_rate': 0.1, 'si...         -21.030117   \n",
       "\n",
       "   split1_test_score  split2_test_score  split3_test_score  split4_test_score  \\\n",
       "0         -21.740165         -22.321635         -24.029248         -31.310323   \n",
       "\n",
       "   mean_test_score  std_test_score  rank_test_score  \n",
       "0       -24.086298        3.745622                1  "
      ]
     },
     "metadata": {},
     "output_type": "display_data"
    }
   ],
   "source": [
    "get_best_params(\n",
    "    cbr,\n",
    "    {'silent':[True],\n",
    "     'iterations':range(1,1001,100),\n",
    "     'learning_rate':[0.1]           \n",
    "    }\n",
    ")    "
   ]
  },
  {
   "cell_type": "markdown",
   "metadata": {},
   "source": [
    "Наилучшее значение метрики, ***RMSE = 24.09*** получено при следующих гиперпараметрах:\n",
    " - ***iterations*** = ***1000***;\n",
    " - ***learning_rate*** = ***0.1***."
   ]
  },
  {
   "cell_type": "markdown",
   "metadata": {},
   "source": [
    "###### Вывод\n",
    "\n",
    "Наилучший результат на кросс-валидации, ***RMSE = 24.09***, продемонстрировала модель ***CatBoostRegressor***.\n",
    "\n",
    "Далее протестируем данную модель."
   ]
  },
  {
   "cell_type": "markdown",
   "metadata": {},
   "source": [
    "## Тестирование"
   ]
  },
  {
   "cell_type": "markdown",
   "metadata": {},
   "source": [
    "Определим время обучения модели:"
   ]
  },
  {
   "cell_type": "code",
   "execution_count": 27,
   "metadata": {},
   "outputs": [
    {
     "name": "stdout",
     "output_type": "stream",
     "text": [
      "CPU times: user 21.9 s, sys: 3.44 s, total: 25.3 s\n",
      "Wall time: 26.6 s\n"
     ]
    },
    {
     "data": {
      "text/plain": [
       "<catboost.core.CatBoostRegressor at 0x7fee496e6650>"
      ]
     },
     "execution_count": 27,
     "metadata": {},
     "output_type": "execute_result"
    }
   ],
   "source": [
    "%%time\n",
    "\n",
    "cbr = cb.CatBoostRegressor(\n",
    "    silent = True,\n",
    "    iterations = 1000,\n",
    "    learning_rate = 0.1,\n",
    ")\n",
    "\n",
    "cbr.fit(features_train, target_train)"
   ]
  },
  {
   "cell_type": "markdown",
   "metadata": {},
   "source": [
    "Время обучения ***CatBoost Regressor*** = 25.3 секунд.\n",
    "\n",
    "Рассчитаем время предсказания моделью целевого признака:"
   ]
  },
  {
   "cell_type": "code",
   "execution_count": 28,
   "metadata": {},
   "outputs": [
    {
     "name": "stdout",
     "output_type": "stream",
     "text": [
      "CPU times: user 827 µs, sys: 8.05 ms, total: 8.88 ms\n",
      "Wall time: 3.47 ms\n"
     ]
    }
   ],
   "source": [
    "%%time\n",
    "cbr_predictions = cbr.predict(features_test)"
   ]
  },
  {
   "cell_type": "markdown",
   "metadata": {},
   "source": [
    "Время предсказания ***CatBoost Regressor*** = 8.88 милисекунд."
   ]
  },
  {
   "cell_type": "markdown",
   "metadata": {},
   "source": [
    "Рассчитаем ***RMSE*** модели на тестовой выборке:"
   ]
  },
  {
   "cell_type": "code",
   "execution_count": 29,
   "metadata": {
    "scrolled": true
   },
   "outputs": [
    {
     "name": "stdout",
     "output_type": "stream",
     "text": [
      "RMSE модели на тестовой выборке:  40.0\n"
     ]
    }
   ],
   "source": [
    "rmse_сbr = mean_squared_error(target_test, cbr_predictions)**0.5\n",
    "print('RMSE модели на тестовой выборке: ', rmse_сbr.round(0))"
   ]
  },
  {
   "cell_type": "code",
   "execution_count": 30,
   "metadata": {},
   "outputs": [
    {
     "data": {
      "text/html": [
       "<div>\n",
       "<style scoped>\n",
       "    .dataframe tbody tr th:only-of-type {\n",
       "        vertical-align: middle;\n",
       "    }\n",
       "\n",
       "    .dataframe tbody tr th {\n",
       "        vertical-align: top;\n",
       "    }\n",
       "\n",
       "    .dataframe thead th {\n",
       "        text-align: right;\n",
       "    }\n",
       "</style>\n",
       "<table border=\"1\" class=\"dataframe\">\n",
       "  <thead>\n",
       "    <tr style=\"text-align: right;\">\n",
       "      <th></th>\n",
       "      <th>true</th>\n",
       "      <th>predictions</th>\n",
       "    </tr>\n",
       "    <tr>\n",
       "      <th>datetime</th>\n",
       "      <th></th>\n",
       "      <th></th>\n",
       "    </tr>\n",
       "  </thead>\n",
       "  <tbody>\n",
       "    <tr>\n",
       "      <td>2018-08-13 16:00:00</td>\n",
       "      <td>144</td>\n",
       "      <td>157.312715</td>\n",
       "    </tr>\n",
       "    <tr>\n",
       "      <td>2018-08-13 17:00:00</td>\n",
       "      <td>152</td>\n",
       "      <td>153.408185</td>\n",
       "    </tr>\n",
       "    <tr>\n",
       "      <td>2018-08-13 18:00:00</td>\n",
       "      <td>104</td>\n",
       "      <td>127.247830</td>\n",
       "    </tr>\n",
       "    <tr>\n",
       "      <td>2018-08-13 19:00:00</td>\n",
       "      <td>91</td>\n",
       "      <td>110.234264</td>\n",
       "    </tr>\n",
       "    <tr>\n",
       "      <td>2018-08-13 20:00:00</td>\n",
       "      <td>82</td>\n",
       "      <td>101.398040</td>\n",
       "    </tr>\n",
       "    <tr>\n",
       "      <td>...</td>\n",
       "      <td>...</td>\n",
       "      <td>...</td>\n",
       "    </tr>\n",
       "    <tr>\n",
       "      <td>2018-08-31 19:00:00</td>\n",
       "      <td>136</td>\n",
       "      <td>142.832352</td>\n",
       "    </tr>\n",
       "    <tr>\n",
       "      <td>2018-08-31 20:00:00</td>\n",
       "      <td>154</td>\n",
       "      <td>176.915443</td>\n",
       "    </tr>\n",
       "    <tr>\n",
       "      <td>2018-08-31 21:00:00</td>\n",
       "      <td>159</td>\n",
       "      <td>188.718047</td>\n",
       "    </tr>\n",
       "    <tr>\n",
       "      <td>2018-08-31 22:00:00</td>\n",
       "      <td>223</td>\n",
       "      <td>155.545176</td>\n",
       "    </tr>\n",
       "    <tr>\n",
       "      <td>2018-08-31 23:00:00</td>\n",
       "      <td>205</td>\n",
       "      <td>192.426273</td>\n",
       "    </tr>\n",
       "  </tbody>\n",
       "</table>\n",
       "<p>440 rows × 2 columns</p>\n",
       "</div>"
      ],
      "text/plain": [
       "                     true  predictions\n",
       "datetime                              \n",
       "2018-08-13 16:00:00   144   157.312715\n",
       "2018-08-13 17:00:00   152   153.408185\n",
       "2018-08-13 18:00:00   104   127.247830\n",
       "2018-08-13 19:00:00    91   110.234264\n",
       "2018-08-13 20:00:00    82   101.398040\n",
       "...                   ...          ...\n",
       "2018-08-31 19:00:00   136   142.832352\n",
       "2018-08-31 20:00:00   154   176.915443\n",
       "2018-08-31 21:00:00   159   188.718047\n",
       "2018-08-31 22:00:00   223   155.545176\n",
       "2018-08-31 23:00:00   205   192.426273\n",
       "\n",
       "[440 rows x 2 columns]"
      ]
     },
     "execution_count": 30,
     "metadata": {},
     "output_type": "execute_result"
    }
   ],
   "source": [
    "compare_data = pd.DataFrame(target_test).join(pd.DataFrame(cbr_predictions, index = target_test.index))\n",
    "compare_data.columns = ['true','predictions']\n",
    "# compare_data = compare_data.sort_values(by='predictions')\n",
    "compare_data"
   ]
  },
  {
   "cell_type": "markdown",
   "metadata": {},
   "source": [
    "Построим диаграмму сравнения значения предсказаний и целевого признака:"
   ]
  },
  {
   "cell_type": "code",
   "execution_count": 45,
   "metadata": {
    "scrolled": false
   },
   "outputs": [
    {
     "data": {
      "image/png": "[encoded data removed]",
      "text/plain": [
       "<Figure size 720x432 with 1 Axes>"
      ]
     },
     "metadata": {
      "needs_background": "light"
     },
     "output_type": "display_data"
    }
   ],
   "source": [
    "x = range(len(compare_data['true']))\n",
    "plt.figure(figsize=(10,6))\n",
    "plt.plot(x,compare_data['true'], label=\"факт\")\n",
    "plt.plot(x,compare_data['predictions'], label=\"предсказания\")\n",
    "plt.title(\"Количество заказов такси в аэропортах\")\n",
    "plt.legend()\n",
    "plt.xlim(0,120)\n",
    "plt.ylim(0,300)\n",
    "plt.xlabel('Час')\n",
    "plt.xlabel('Количество заказов такси')\n",
    "\n",
    "plt.show()"
   ]
  },
  {
   "cell_type": "markdown",
   "metadata": {},
   "source": [
    "Из построенной диаграммы сравнения видно, что примененная модель неплохо предсказывает тренд и сезонность вызовов такси, но предсказанные значения недостаточно точно попадают в точки минимумов и максимумов, что объясняет значение ***RMSE*** модели = ***40***."
   ]
  },
  {
   "cell_type": "markdown",
   "metadata": {},
   "source": [
    "## Общий вывод"
   ]
  },
  {
   "cell_type": "markdown",
   "metadata": {},
   "source": [
    "В ходе данного проекта исторические данные о заказах такси в аэропортах были изучены, предобработаны и проанализированы с точки зрения направления тренда и сезонности.\n",
    "\n",
    "Было выяснено, что количество вызываемых такси ***увеличивалось*** в период ***с начала марта по конец августа 2018***. Так период сбора данных небольшой - однозначно понять, с чем связан рост тренда - нельзя. Возможно, планомерно увеличивался таксопарк, а, возможно, люди больше летают в теплое время года - в августе традиционный сезон отпусков.\n",
    "\n",
    "***Самым загруженным днем*** для сервиса такси определена ***пятница***, а ***самым спокойным - вторник***.\n",
    "\n",
    "***Самым загруженным временем суток*** для сервиса такси является ***0:00***, а ***самым спокойным - 06:00***.\n",
    "\n",
    "Более подробно с результатами анализа можно ознакомиться в выводе этапа 3.\n",
    "\n",
    "С помощью подбора максимального отставания ряда ( ***max_lag*** ) и окна скользящего среднего ( ***rolling_mean_size*** ) были сгенерированы наиболее оптимальные признаки временного ряда, в дальнейшем использованные для обучения и исследования моделей машинного обучения с целью получения минимального значения ***RMSE***.\n",
    "\n",
    "В работе были применены следующие алгоритмы машинного обучения:\n",
    "\n",
    " - ***Линейная регрессия***;\n",
    " - ***Дерево решений***;\n",
    " - ***Случайный лес***;\n",
    " - ***CatBoost Regressor***.\n",
    " \n",
    "Наилучшей моделью по результатам кросс-валидации оказалась модель ***CatBoost Regressor*** (***RMSE = 24.09***). Данная модель была протестирована на время обучения, время предсказания целевого признака и качество на тестовой выборке. \n",
    "В итоге получено:\n",
    "\n",
    "  - ***Время обучения*** модели: ***25.3*** секунд;\n",
    "  - ***Время предсказания*** целевого признака: ***8.88*** милисекунд;\n",
    "  - ***RMSE*** на тестовой выборке: **40**.\n",
    " \n",
    "Полученное значение метрики не превышает 48, что в полной мере удовлетворяет условию поставленной задачи."
   ]
  }
 ],
 "metadata": {
  "ExecuteTimeLog": [
   {
    "duration": 1578,
    "start_time": "2021-10-10T17:21:23.208Z"
   },
   {
    "duration": 105,
    "start_time": "2021-10-10T17:23:02.419Z"
   },
   {
    "duration": 23,
    "start_time": "2021-10-10T17:23:37.623Z"
   },
   {
    "duration": 274,
    "start_time": "2021-10-11T15:34:25.503Z"
   },
   {
    "duration": 1651,
    "start_time": "2021-10-11T15:34:31.267Z"
   },
   {
    "duration": 167,
    "start_time": "2021-10-11T15:34:32.922Z"
   },
   {
    "duration": 23,
    "start_time": "2021-10-11T15:34:33.092Z"
   },
   {
    "duration": 18,
    "start_time": "2021-10-11T15:34:33.118Z"
   },
   {
    "duration": 18,
    "start_time": "2021-10-11T15:37:29.089Z"
   },
   {
    "duration": 17,
    "start_time": "2021-10-11T15:39:48.567Z"
   },
   {
    "duration": 6114,
    "start_time": "2021-10-11T16:50:28.613Z"
   },
   {
    "duration": 13,
    "start_time": "2021-10-11T16:50:48.724Z"
   },
   {
    "duration": 12,
    "start_time": "2021-10-11T16:51:49.139Z"
   },
   {
    "duration": 5,
    "start_time": "2021-10-11T16:53:26.168Z"
   },
   {
    "duration": 9,
    "start_time": "2021-10-11T16:54:05.492Z"
   },
   {
    "duration": 5,
    "start_time": "2021-10-11T16:56:18.081Z"
   },
   {
    "duration": 9,
    "start_time": "2021-10-11T16:59:16.028Z"
   },
   {
    "duration": 12,
    "start_time": "2021-10-11T16:59:30.502Z"
   },
   {
    "duration": 8,
    "start_time": "2021-10-11T16:59:53.080Z"
   },
   {
    "duration": 901,
    "start_time": "2021-10-11T17:05:18.857Z"
   },
   {
    "duration": 919,
    "start_time": "2021-10-11T17:05:35.839Z"
   },
   {
    "duration": 1247,
    "start_time": "2021-10-11T17:06:11.580Z"
   },
   {
    "duration": 14,
    "start_time": "2021-10-11T17:24:14.616Z"
   },
   {
    "duration": 12,
    "start_time": "2021-10-11T17:24:23.794Z"
   },
   {
    "duration": 1597,
    "start_time": "2021-10-11T17:27:37.103Z"
   },
   {
    "duration": 185,
    "start_time": "2021-10-11T17:27:38.703Z"
   },
   {
    "duration": 27,
    "start_time": "2021-10-11T17:27:38.891Z"
   },
   {
    "duration": 21,
    "start_time": "2021-10-11T17:27:38.921Z"
   },
   {
    "duration": 20,
    "start_time": "2021-10-11T17:27:38.945Z"
   },
   {
    "duration": 29,
    "start_time": "2021-10-11T17:27:38.968Z"
   },
   {
    "duration": 27,
    "start_time": "2021-10-11T17:27:39.000Z"
   },
   {
    "duration": 5,
    "start_time": "2021-10-11T17:27:39.032Z"
   },
   {
    "duration": 15,
    "start_time": "2021-10-11T17:27:39.040Z"
   },
   {
    "duration": 17,
    "start_time": "2021-10-11T17:27:39.058Z"
   },
   {
    "duration": 17,
    "start_time": "2021-10-11T17:27:39.078Z"
   },
   {
    "duration": 34,
    "start_time": "2021-10-11T17:27:39.097Z"
   },
   {
    "duration": 1640,
    "start_time": "2021-10-12T14:51:47.583Z"
   },
   {
    "duration": 1622,
    "start_time": "2021-10-12T14:52:05.055Z"
   },
   {
    "duration": 164,
    "start_time": "2021-10-12T14:52:06.680Z"
   },
   {
    "duration": 23,
    "start_time": "2021-10-12T14:52:06.847Z"
   },
   {
    "duration": 17,
    "start_time": "2021-10-12T14:52:06.873Z"
   },
   {
    "duration": 18,
    "start_time": "2021-10-12T14:52:06.892Z"
   },
   {
    "duration": 13,
    "start_time": "2021-10-12T14:52:06.912Z"
   },
   {
    "duration": 44,
    "start_time": "2021-10-12T14:52:06.928Z"
   },
   {
    "duration": 5,
    "start_time": "2021-10-12T14:52:06.975Z"
   },
   {
    "duration": 10,
    "start_time": "2021-10-12T14:52:06.983Z"
   },
   {
    "duration": 9,
    "start_time": "2021-10-12T14:52:06.995Z"
   },
   {
    "duration": 23,
    "start_time": "2021-10-12T14:52:07.006Z"
   },
   {
    "duration": 41,
    "start_time": "2021-10-12T14:52:07.031Z"
   },
   {
    "duration": 11,
    "start_time": "2021-10-12T14:53:12.057Z"
   },
   {
    "duration": 1628,
    "start_time": "2021-10-12T14:54:38.801Z"
   },
   {
    "duration": 1237,
    "start_time": "2021-10-12T14:55:41.608Z"
   },
   {
    "duration": 1244,
    "start_time": "2021-10-12T14:56:10.932Z"
   },
   {
    "duration": 1709,
    "start_time": "2021-10-12T14:56:26.690Z"
   },
   {
    "duration": 1341,
    "start_time": "2021-10-12T14:56:42.831Z"
   },
   {
    "duration": 248,
    "start_time": "2021-10-12T15:01:17.805Z"
   },
   {
    "duration": 1671,
    "start_time": "2021-10-12T15:02:25.314Z"
   },
   {
    "duration": 4830,
    "start_time": "2021-10-12T15:09:02.497Z"
   },
   {
    "duration": 1704,
    "start_time": "2021-10-12T15:09:50.507Z"
   },
   {
    "duration": 82,
    "start_time": "2021-10-12T15:09:52.214Z"
   },
   {
    "duration": 25,
    "start_time": "2021-10-12T15:09:52.299Z"
   },
   {
    "duration": 19,
    "start_time": "2021-10-12T15:09:52.327Z"
   },
   {
    "duration": 34,
    "start_time": "2021-10-12T15:09:52.348Z"
   },
   {
    "duration": 15,
    "start_time": "2021-10-12T15:09:52.384Z"
   },
   {
    "duration": 9,
    "start_time": "2021-10-12T15:09:52.401Z"
   },
   {
    "duration": 6,
    "start_time": "2021-10-12T15:09:52.413Z"
   },
   {
    "duration": 51,
    "start_time": "2021-10-12T15:09:52.423Z"
   },
   {
    "duration": 5,
    "start_time": "2021-10-12T15:09:52.476Z"
   },
   {
    "duration": 18,
    "start_time": "2021-10-12T15:09:52.483Z"
   },
   {
    "duration": 11,
    "start_time": "2021-10-12T15:09:52.503Z"
   },
   {
    "duration": 50,
    "start_time": "2021-10-12T15:09:52.517Z"
   },
   {
    "duration": 3,
    "start_time": "2021-10-12T15:09:52.570Z"
   },
   {
    "duration": 4576,
    "start_time": "2021-10-12T15:09:52.576Z"
   },
   {
    "duration": 517,
    "start_time": "2021-10-12T15:10:32.995Z"
   },
   {
    "duration": 487,
    "start_time": "2021-10-12T15:10:44.142Z"
   },
   {
    "duration": 4,
    "start_time": "2021-10-12T15:11:32.896Z"
   },
   {
    "duration": 8,
    "start_time": "2021-10-12T15:11:36.758Z"
   },
   {
    "duration": 606,
    "start_time": "2021-10-12T15:11:46.854Z"
   },
   {
    "duration": 1695,
    "start_time": "2021-10-12T15:12:12.030Z"
   },
   {
    "duration": 86,
    "start_time": "2021-10-12T15:12:13.727Z"
   },
   {
    "duration": 24,
    "start_time": "2021-10-12T15:12:13.816Z"
   },
   {
    "duration": 23,
    "start_time": "2021-10-12T15:12:13.844Z"
   },
   {
    "duration": 17,
    "start_time": "2021-10-12T15:12:13.870Z"
   },
   {
    "duration": 14,
    "start_time": "2021-10-12T15:12:13.890Z"
   },
   {
    "duration": 13,
    "start_time": "2021-10-12T15:12:13.907Z"
   },
   {
    "duration": 8,
    "start_time": "2021-10-12T15:12:13.922Z"
   },
   {
    "duration": 43,
    "start_time": "2021-10-12T15:12:13.933Z"
   },
   {
    "duration": 14,
    "start_time": "2021-10-12T15:12:13.978Z"
   },
   {
    "duration": 22,
    "start_time": "2021-10-12T15:12:13.995Z"
   },
   {
    "duration": 17,
    "start_time": "2021-10-12T15:12:14.019Z"
   },
   {
    "duration": 6,
    "start_time": "2021-10-12T15:12:14.039Z"
   },
   {
    "duration": 683,
    "start_time": "2021-10-12T15:12:14.068Z"
   },
   {
    "duration": -3377,
    "start_time": "2021-10-12T15:12:18.130Z"
   },
   {
    "duration": -3379,
    "start_time": "2021-10-12T15:12:18.134Z"
   },
   {
    "duration": 11,
    "start_time": "2021-10-12T15:13:27.050Z"
   },
   {
    "duration": 12,
    "start_time": "2021-10-12T15:13:35.659Z"
   },
   {
    "duration": 4,
    "start_time": "2021-10-12T15:13:41.990Z"
   },
   {
    "duration": 417,
    "start_time": "2021-10-12T15:13:44.769Z"
   },
   {
    "duration": 11,
    "start_time": "2021-10-12T15:13:59.894Z"
   },
   {
    "duration": 8,
    "start_time": "2021-10-12T15:14:01.902Z"
   },
   {
    "duration": 469,
    "start_time": "2021-10-12T15:14:05.704Z"
   },
   {
    "duration": 724,
    "start_time": "2021-10-12T15:14:30.696Z"
   },
   {
    "duration": 686,
    "start_time": "2021-10-12T15:48:22.446Z"
   },
   {
    "duration": 1624,
    "start_time": "2021-10-12T16:09:40.985Z"
   },
   {
    "duration": 152,
    "start_time": "2021-10-12T16:09:42.612Z"
   },
   {
    "duration": 23,
    "start_time": "2021-10-12T16:09:42.768Z"
   },
   {
    "duration": 18,
    "start_time": "2021-10-12T16:09:42.794Z"
   },
   {
    "duration": 18,
    "start_time": "2021-10-12T16:09:42.814Z"
   },
   {
    "duration": 43,
    "start_time": "2021-10-12T16:09:42.834Z"
   },
   {
    "duration": 8,
    "start_time": "2021-10-12T16:09:42.879Z"
   },
   {
    "duration": 5,
    "start_time": "2021-10-12T16:09:42.890Z"
   },
   {
    "duration": 9,
    "start_time": "2021-10-12T16:09:42.899Z"
   },
   {
    "duration": 6,
    "start_time": "2021-10-12T16:09:42.911Z"
   },
   {
    "duration": 57,
    "start_time": "2021-10-12T16:09:42.919Z"
   },
   {
    "duration": 12,
    "start_time": "2021-10-12T16:09:42.979Z"
   },
   {
    "duration": 7,
    "start_time": "2021-10-12T16:09:42.994Z"
   },
   {
    "duration": 487,
    "start_time": "2021-10-12T16:09:43.003Z"
   },
   {
    "duration": -377,
    "start_time": "2021-10-12T16:09:43.869Z"
   },
   {
    "duration": -512,
    "start_time": "2021-10-12T16:09:44.006Z"
   },
   {
    "duration": 4,
    "start_time": "2021-10-12T16:16:42.111Z"
   },
   {
    "duration": 287,
    "start_time": "2021-10-12T16:17:32.379Z"
   },
   {
    "duration": 113,
    "start_time": "2021-10-12T16:18:48.302Z"
   },
   {
    "duration": 5,
    "start_time": "2021-10-12T16:18:55.639Z"
   },
   {
    "duration": 256,
    "start_time": "2021-10-12T16:19:03.557Z"
   },
   {
    "duration": 695,
    "start_time": "2021-10-12T16:19:12.338Z"
   },
   {
    "duration": 240,
    "start_time": "2021-10-12T16:19:24.029Z"
   },
   {
    "duration": 5,
    "start_time": "2021-10-12T16:21:54.202Z"
   },
   {
    "duration": 4,
    "start_time": "2021-10-12T16:22:01.678Z"
   },
   {
    "duration": 519,
    "start_time": "2021-10-12T16:22:06.639Z"
   },
   {
    "duration": 5,
    "start_time": "2021-10-12T16:22:37.135Z"
   },
   {
    "duration": 264,
    "start_time": "2021-10-12T16:22:44.714Z"
   },
   {
    "duration": 100,
    "start_time": "2021-10-12T16:23:16.736Z"
   },
   {
    "duration": 5,
    "start_time": "2021-10-12T16:26:37.695Z"
   },
   {
    "duration": 293,
    "start_time": "2021-10-12T16:26:40.759Z"
   },
   {
    "duration": 5,
    "start_time": "2021-10-12T16:27:02.492Z"
   },
   {
    "duration": 515,
    "start_time": "2021-10-12T16:27:05.089Z"
   },
   {
    "duration": 5,
    "start_time": "2021-10-12T16:27:46.346Z"
   },
   {
    "duration": 1079,
    "start_time": "2021-10-12T16:27:48.316Z"
   },
   {
    "duration": 94,
    "start_time": "2021-10-12T16:31:07.693Z"
   },
   {
    "duration": 5,
    "start_time": "2021-10-12T16:31:20.969Z"
   },
   {
    "duration": 1117,
    "start_time": "2021-10-12T16:31:23.829Z"
   },
   {
    "duration": 6,
    "start_time": "2021-10-12T16:31:41.017Z"
   },
   {
    "duration": 1002,
    "start_time": "2021-10-12T16:31:43.031Z"
   },
   {
    "duration": 6,
    "start_time": "2021-10-12T16:33:53.565Z"
   },
   {
    "duration": 518,
    "start_time": "2021-10-12T16:33:57.527Z"
   },
   {
    "duration": 487,
    "start_time": "2021-10-12T16:34:04.477Z"
   },
   {
    "duration": 595,
    "start_time": "2021-10-12T16:34:14.109Z"
   },
   {
    "duration": 457,
    "start_time": "2021-10-12T16:34:30.327Z"
   },
   {
    "duration": 504,
    "start_time": "2021-10-12T16:35:18.936Z"
   },
   {
    "duration": 5,
    "start_time": "2021-10-12T16:35:34.892Z"
   },
   {
    "duration": 624,
    "start_time": "2021-10-12T16:35:38.309Z"
   },
   {
    "duration": 519,
    "start_time": "2021-10-12T16:35:43.592Z"
   },
   {
    "duration": 5,
    "start_time": "2021-10-12T16:37:21.861Z"
   },
   {
    "duration": 465,
    "start_time": "2021-10-12T16:37:29.533Z"
   },
   {
    "duration": 546,
    "start_time": "2021-10-12T16:37:40.925Z"
   },
   {
    "duration": 416,
    "start_time": "2021-10-12T16:37:46.980Z"
   },
   {
    "duration": 455,
    "start_time": "2021-10-12T16:38:29.173Z"
   },
   {
    "duration": 494,
    "start_time": "2021-10-12T16:38:35.367Z"
   },
   {
    "duration": 7,
    "start_time": "2021-10-12T16:40:10.663Z"
   },
   {
    "duration": 1284,
    "start_time": "2021-10-12T16:40:12.825Z"
   },
   {
    "duration": 6,
    "start_time": "2021-10-12T16:41:01.158Z"
   },
   {
    "duration": 1208,
    "start_time": "2021-10-12T16:41:04.493Z"
   },
   {
    "duration": 6,
    "start_time": "2021-10-12T16:41:35.995Z"
   },
   {
    "duration": 1149,
    "start_time": "2021-10-12T16:41:39.938Z"
   },
   {
    "duration": 6,
    "start_time": "2021-10-12T16:41:58.940Z"
   },
   {
    "duration": 1310,
    "start_time": "2021-10-12T16:42:07.266Z"
   },
   {
    "duration": 5,
    "start_time": "2021-10-12T16:48:24.033Z"
   },
   {
    "duration": 5,
    "start_time": "2021-10-12T16:48:50.643Z"
   },
   {
    "duration": 1164,
    "start_time": "2021-10-12T16:48:58.473Z"
   },
   {
    "duration": 5,
    "start_time": "2021-10-12T16:50:15.402Z"
   },
   {
    "duration": 755,
    "start_time": "2021-10-12T16:50:18.281Z"
   },
   {
    "duration": 6,
    "start_time": "2021-10-12T16:51:22.612Z"
   },
   {
    "duration": 2361,
    "start_time": "2021-10-12T16:51:24.251Z"
   },
   {
    "duration": 1656,
    "start_time": "2021-10-12T16:52:10.256Z"
   },
   {
    "duration": 80,
    "start_time": "2021-10-12T16:52:11.915Z"
   },
   {
    "duration": 24,
    "start_time": "2021-10-12T16:52:11.999Z"
   },
   {
    "duration": 18,
    "start_time": "2021-10-12T16:52:12.025Z"
   },
   {
    "duration": 18,
    "start_time": "2021-10-12T16:52:12.067Z"
   },
   {
    "duration": 14,
    "start_time": "2021-10-12T16:52:12.088Z"
   },
   {
    "duration": 10,
    "start_time": "2021-10-12T16:52:12.104Z"
   },
   {
    "duration": 6,
    "start_time": "2021-10-12T16:52:12.116Z"
   },
   {
    "duration": 45,
    "start_time": "2021-10-12T16:52:12.126Z"
   },
   {
    "duration": 5,
    "start_time": "2021-10-12T16:52:12.174Z"
   },
   {
    "duration": 19,
    "start_time": "2021-10-12T16:52:12.181Z"
   },
   {
    "duration": 13,
    "start_time": "2021-10-12T16:52:12.202Z"
   },
   {
    "duration": 7,
    "start_time": "2021-10-12T16:52:12.218Z"
   },
   {
    "duration": 707,
    "start_time": "2021-10-12T16:52:12.267Z"
   },
   {
    "duration": 865,
    "start_time": "2021-10-12T16:52:12.977Z"
   },
   {
    "duration": 3,
    "start_time": "2021-10-12T16:52:13.844Z"
   },
   {
    "duration": 435,
    "start_time": "2021-10-12T16:52:13.850Z"
   },
   {
    "duration": 6,
    "start_time": "2021-10-12T16:58:52.381Z"
   },
   {
    "duration": 537,
    "start_time": "2021-10-12T16:58:55.200Z"
   },
   {
    "duration": 5,
    "start_time": "2021-10-12T16:59:13.901Z"
   },
   {
    "duration": 562,
    "start_time": "2021-10-12T16:59:16.185Z"
   },
   {
    "duration": 542,
    "start_time": "2021-10-12T17:00:24.982Z"
   },
   {
    "duration": 6,
    "start_time": "2021-10-12T17:03:04.495Z"
   },
   {
    "duration": 6,
    "start_time": "2021-10-12T17:03:58.474Z"
   },
   {
    "duration": 607,
    "start_time": "2021-10-12T17:04:05.858Z"
   },
   {
    "duration": 7,
    "start_time": "2021-10-12T17:04:39.378Z"
   },
   {
    "duration": 8500,
    "start_time": "2021-10-12T17:04:41.447Z"
   },
   {
    "duration": 6,
    "start_time": "2021-10-12T17:05:13.860Z"
   },
   {
    "duration": 7147,
    "start_time": "2021-10-12T17:05:20.383Z"
   },
   {
    "duration": 7,
    "start_time": "2021-10-12T17:06:02.920Z"
   },
   {
    "duration": 482,
    "start_time": "2021-10-12T17:06:05.325Z"
   },
   {
    "duration": 174,
    "start_time": "2021-10-12T17:07:00.820Z"
   },
   {
    "duration": 109,
    "start_time": "2021-10-12T17:08:31.836Z"
   },
   {
    "duration": 9007,
    "start_time": "2021-10-12T17:08:52.659Z"
   },
   {
    "duration": 599,
    "start_time": "2021-10-12T17:11:02.924Z"
   },
   {
    "duration": 6,
    "start_time": "2021-10-12T17:11:56.806Z"
   },
   {
    "duration": 581,
    "start_time": "2021-10-12T17:11:59.014Z"
   },
   {
    "duration": 491,
    "start_time": "2021-10-12T17:13:13.479Z"
   },
   {
    "duration": 734,
    "start_time": "2021-10-12T17:14:09.274Z"
   },
   {
    "duration": 102,
    "start_time": "2021-10-12T17:15:32.846Z"
   },
   {
    "duration": 7,
    "start_time": "2021-10-12T17:17:22.811Z"
   },
   {
    "duration": 562,
    "start_time": "2021-10-12T17:17:46.061Z"
   },
   {
    "duration": 512,
    "start_time": "2021-10-12T17:18:09.042Z"
   },
   {
    "duration": 696,
    "start_time": "2021-10-12T17:18:52.356Z"
   },
   {
    "duration": 726,
    "start_time": "2021-10-12T17:18:59.818Z"
   },
   {
    "duration": 788,
    "start_time": "2021-10-12T17:19:14.785Z"
   },
   {
    "duration": 766,
    "start_time": "2021-10-12T17:19:19.676Z"
   },
   {
    "duration": 725,
    "start_time": "2021-10-12T17:19:23.670Z"
   },
   {
    "duration": 7260,
    "start_time": "2021-10-12T17:20:27.148Z"
   },
   {
    "duration": 100,
    "start_time": "2021-10-12T17:20:50.637Z"
   },
   {
    "duration": 97,
    "start_time": "2021-10-12T17:22:27.432Z"
   },
   {
    "duration": 359,
    "start_time": "2021-10-12T17:25:23.158Z"
   },
   {
    "duration": 6,
    "start_time": "2021-10-12T17:25:38.183Z"
   },
   {
    "duration": 665,
    "start_time": "2021-10-12T17:25:54.845Z"
   },
   {
    "duration": 503,
    "start_time": "2021-10-12T17:26:10.259Z"
   },
   {
    "duration": 527,
    "start_time": "2021-10-12T17:26:14.952Z"
   },
   {
    "duration": 628,
    "start_time": "2021-10-12T17:27:43.704Z"
   },
   {
    "duration": 477,
    "start_time": "2021-10-12T17:27:54.121Z"
   },
   {
    "duration": 478,
    "start_time": "2021-10-12T17:28:58.055Z"
   },
   {
    "duration": 562,
    "start_time": "2021-10-12T17:29:11.993Z"
   },
   {
    "duration": 582,
    "start_time": "2021-10-12T17:33:18.816Z"
   },
   {
    "duration": 598,
    "start_time": "2021-10-12T17:33:33.495Z"
   },
   {
    "duration": 489,
    "start_time": "2021-10-12T17:33:38.159Z"
   },
   {
    "duration": 489,
    "start_time": "2021-10-12T17:53:30.893Z"
   },
   {
    "duration": 678,
    "start_time": "2021-10-12T17:53:53.089Z"
   },
   {
    "duration": 793,
    "start_time": "2021-10-12T17:54:31.707Z"
   },
   {
    "duration": 956,
    "start_time": "2021-10-12T17:54:46.010Z"
   },
   {
    "duration": 964,
    "start_time": "2021-10-12T17:54:50.440Z"
   },
   {
    "duration": 584,
    "start_time": "2021-10-12T17:54:57.991Z"
   },
   {
    "duration": 679,
    "start_time": "2021-10-12T17:55:56.327Z"
   },
   {
    "duration": 550,
    "start_time": "2021-10-12T17:58:04.953Z"
   },
   {
    "duration": 703,
    "start_time": "2021-10-12T17:58:24.841Z"
   },
   {
    "duration": 589,
    "start_time": "2021-10-12T18:01:19.417Z"
   },
   {
    "duration": 786,
    "start_time": "2021-10-12T18:01:38.955Z"
   },
   {
    "duration": 540,
    "start_time": "2021-10-12T18:03:50.514Z"
   },
   {
    "duration": 760,
    "start_time": "2021-10-12T18:04:00.948Z"
   },
   {
    "duration": 689,
    "start_time": "2021-10-12T18:04:32.998Z"
   },
   {
    "duration": 5,
    "start_time": "2021-10-13T01:55:17.810Z"
   },
   {
    "duration": 1275,
    "start_time": "2021-10-13T01:55:27.350Z"
   },
   {
    "duration": 205,
    "start_time": "2021-10-13T01:55:28.627Z"
   },
   {
    "duration": 17,
    "start_time": "2021-10-13T01:55:28.834Z"
   },
   {
    "duration": 13,
    "start_time": "2021-10-13T01:55:28.853Z"
   },
   {
    "duration": 12,
    "start_time": "2021-10-13T01:55:28.868Z"
   },
   {
    "duration": 10,
    "start_time": "2021-10-13T01:55:28.882Z"
   },
   {
    "duration": 7,
    "start_time": "2021-10-13T01:55:28.894Z"
   },
   {
    "duration": 4,
    "start_time": "2021-10-13T01:55:28.902Z"
   },
   {
    "duration": 9,
    "start_time": "2021-10-13T01:55:28.908Z"
   },
   {
    "duration": 4,
    "start_time": "2021-10-13T01:55:28.919Z"
   },
   {
    "duration": 18,
    "start_time": "2021-10-13T01:55:28.925Z"
   },
   {
    "duration": 38,
    "start_time": "2021-10-13T01:55:28.945Z"
   },
   {
    "duration": 8,
    "start_time": "2021-10-13T01:55:28.984Z"
   },
   {
    "duration": 308,
    "start_time": "2021-10-13T01:55:28.994Z"
   },
   {
    "duration": 348,
    "start_time": "2021-10-13T01:55:29.304Z"
   },
   {
    "duration": 481,
    "start_time": "2021-10-13T01:55:29.654Z"
   },
   {
    "duration": 4,
    "start_time": "2021-10-13T01:55:30.137Z"
   },
   {
    "duration": 18,
    "start_time": "2021-10-13T01:55:30.142Z"
   },
   {
    "duration": 18,
    "start_time": "2021-10-13T01:56:44.463Z"
   },
   {
    "duration": 5,
    "start_time": "2021-10-13T01:57:45.344Z"
   },
   {
    "duration": 12,
    "start_time": "2021-10-13T01:57:47.551Z"
   },
   {
    "duration": 15,
    "start_time": "2021-10-13T01:57:49.520Z"
   },
   {
    "duration": 1280,
    "start_time": "2021-10-13T01:58:19.738Z"
   },
   {
    "duration": 118,
    "start_time": "2021-10-13T01:58:21.020Z"
   },
   {
    "duration": 19,
    "start_time": "2021-10-13T01:58:21.141Z"
   },
   {
    "duration": 14,
    "start_time": "2021-10-13T01:58:21.162Z"
   },
   {
    "duration": 14,
    "start_time": "2021-10-13T01:58:21.178Z"
   },
   {
    "duration": 11,
    "start_time": "2021-10-13T01:58:21.193Z"
   },
   {
    "duration": 7,
    "start_time": "2021-10-13T01:58:21.206Z"
   },
   {
    "duration": 5,
    "start_time": "2021-10-13T01:58:21.215Z"
   },
   {
    "duration": 9,
    "start_time": "2021-10-13T01:58:21.222Z"
   },
   {
    "duration": 4,
    "start_time": "2021-10-13T01:58:21.233Z"
   },
   {
    "duration": 46,
    "start_time": "2021-10-13T01:58:21.239Z"
   },
   {
    "duration": 7,
    "start_time": "2021-10-13T01:58:21.287Z"
   },
   {
    "duration": 5,
    "start_time": "2021-10-13T01:58:21.296Z"
   },
   {
    "duration": 307,
    "start_time": "2021-10-13T01:58:21.302Z"
   },
   {
    "duration": 341,
    "start_time": "2021-10-13T01:58:21.610Z"
   },
   {
    "duration": 477,
    "start_time": "2021-10-13T01:58:21.954Z"
   },
   {
    "duration": 6,
    "start_time": "2021-10-13T01:58:22.433Z"
   },
   {
    "duration": 36,
    "start_time": "2021-10-13T01:58:22.441Z"
   },
   {
    "duration": 17,
    "start_time": "2021-10-13T01:58:22.479Z"
   },
   {
    "duration": 4,
    "start_time": "2021-10-13T01:59:07.999Z"
   },
   {
    "duration": 8,
    "start_time": "2021-10-13T01:59:10.039Z"
   },
   {
    "duration": 16,
    "start_time": "2021-10-13T01:59:12.095Z"
   },
   {
    "duration": 20,
    "start_time": "2021-10-13T01:59:21.702Z"
   },
   {
    "duration": 4,
    "start_time": "2021-10-13T02:18:38.280Z"
   },
   {
    "duration": 9,
    "start_time": "2021-10-13T02:18:41.447Z"
   },
   {
    "duration": 20,
    "start_time": "2021-10-13T02:19:09.552Z"
   },
   {
    "duration": 740,
    "start_time": "2021-10-13T02:21:13.647Z"
   },
   {
    "duration": 333,
    "start_time": "2021-10-13T02:21:27.183Z"
   },
   {
    "duration": 1248,
    "start_time": "2021-10-13T02:21:44.975Z"
   },
   {
    "duration": 120,
    "start_time": "2021-10-13T02:21:46.225Z"
   },
   {
    "duration": 16,
    "start_time": "2021-10-13T02:21:46.347Z"
   },
   {
    "duration": 12,
    "start_time": "2021-10-13T02:21:46.365Z"
   },
   {
    "duration": 12,
    "start_time": "2021-10-13T02:21:46.379Z"
   },
   {
    "duration": 10,
    "start_time": "2021-10-13T02:21:46.393Z"
   },
   {
    "duration": 8,
    "start_time": "2021-10-13T02:21:46.405Z"
   },
   {
    "duration": 4,
    "start_time": "2021-10-13T02:21:46.414Z"
   },
   {
    "duration": 10,
    "start_time": "2021-10-13T02:21:46.421Z"
   },
   {
    "duration": 5,
    "start_time": "2021-10-13T02:21:46.432Z"
   },
   {
    "duration": 42,
    "start_time": "2021-10-13T02:21:46.438Z"
   },
   {
    "duration": 8,
    "start_time": "2021-10-13T02:21:46.482Z"
   },
   {
    "duration": 4,
    "start_time": "2021-10-13T02:21:46.492Z"
   },
   {
    "duration": 312,
    "start_time": "2021-10-13T02:21:46.498Z"
   },
   {
    "duration": 356,
    "start_time": "2021-10-13T02:21:46.812Z"
   },
   {
    "duration": 476,
    "start_time": "2021-10-13T02:21:47.170Z"
   },
   {
    "duration": 232,
    "start_time": "2021-10-13T02:21:47.647Z"
   },
   {
    "duration": 4,
    "start_time": "2021-10-13T02:21:47.881Z"
   },
   {
    "duration": 17,
    "start_time": "2021-10-13T02:21:47.887Z"
   },
   {
    "duration": 20,
    "start_time": "2021-10-13T02:21:47.905Z"
   },
   {
    "duration": 317,
    "start_time": "2021-10-13T02:23:05.726Z"
   },
   {
    "duration": 1253,
    "start_time": "2021-10-13T02:23:17.978Z"
   },
   {
    "duration": 112,
    "start_time": "2021-10-13T02:23:19.233Z"
   },
   {
    "duration": 17,
    "start_time": "2021-10-13T02:23:19.348Z"
   },
   {
    "duration": 13,
    "start_time": "2021-10-13T02:23:19.367Z"
   },
   {
    "duration": 13,
    "start_time": "2021-10-13T02:23:19.382Z"
   },
   {
    "duration": 11,
    "start_time": "2021-10-13T02:23:19.397Z"
   },
   {
    "duration": 9,
    "start_time": "2021-10-13T02:23:19.410Z"
   },
   {
    "duration": 4,
    "start_time": "2021-10-13T02:23:19.423Z"
   },
   {
    "duration": 8,
    "start_time": "2021-10-13T02:23:19.429Z"
   },
   {
    "duration": 7,
    "start_time": "2021-10-13T02:23:19.439Z"
   },
   {
    "duration": 11,
    "start_time": "2021-10-13T02:23:19.477Z"
   },
   {
    "duration": 10,
    "start_time": "2021-10-13T02:23:19.490Z"
   },
   {
    "duration": 6,
    "start_time": "2021-10-13T02:23:19.502Z"
   },
   {
    "duration": 315,
    "start_time": "2021-10-13T02:23:19.510Z"
   },
   {
    "duration": 351,
    "start_time": "2021-10-13T02:23:19.826Z"
   },
   {
    "duration": 479,
    "start_time": "2021-10-13T02:23:20.179Z"
   },
   {
    "duration": 247,
    "start_time": "2021-10-13T02:23:20.660Z"
   },
   {
    "duration": 4,
    "start_time": "2021-10-13T02:23:20.909Z"
   },
   {
    "duration": 22,
    "start_time": "2021-10-13T02:23:20.914Z"
   },
   {
    "duration": 20,
    "start_time": "2021-10-13T02:23:20.937Z"
   },
   {
    "duration": 1242,
    "start_time": "2021-10-13T02:24:04.486Z"
   },
   {
    "duration": 116,
    "start_time": "2021-10-13T02:24:05.730Z"
   },
   {
    "duration": 15,
    "start_time": "2021-10-13T02:24:05.848Z"
   },
   {
    "duration": 12,
    "start_time": "2021-10-13T02:24:05.865Z"
   },
   {
    "duration": 12,
    "start_time": "2021-10-13T02:24:05.878Z"
   },
   {
    "duration": 11,
    "start_time": "2021-10-13T02:24:05.891Z"
   },
   {
    "duration": 7,
    "start_time": "2021-10-13T02:24:05.904Z"
   },
   {
    "duration": 4,
    "start_time": "2021-10-13T02:24:05.914Z"
   },
   {
    "duration": 10,
    "start_time": "2021-10-13T02:24:05.919Z"
   },
   {
    "duration": 6,
    "start_time": "2021-10-13T02:24:05.930Z"
   },
   {
    "duration": 40,
    "start_time": "2021-10-13T02:24:05.937Z"
   },
   {
    "duration": 8,
    "start_time": "2021-10-13T02:24:05.978Z"
   },
   {
    "duration": 9,
    "start_time": "2021-10-13T02:24:05.988Z"
   },
   {
    "duration": 316,
    "start_time": "2021-10-13T02:24:05.998Z"
   },
   {
    "duration": 342,
    "start_time": "2021-10-13T02:24:06.316Z"
   },
   {
    "duration": 486,
    "start_time": "2021-10-13T02:24:06.660Z"
   },
   {
    "duration": 240,
    "start_time": "2021-10-13T02:24:07.147Z"
   },
   {
    "duration": 4,
    "start_time": "2021-10-13T02:24:07.389Z"
   },
   {
    "duration": 22,
    "start_time": "2021-10-13T02:24:07.394Z"
   },
   {
    "duration": 19,
    "start_time": "2021-10-13T02:24:07.418Z"
   },
   {
    "duration": 689,
    "start_time": "2021-10-13T02:26:04.909Z"
   },
   {
    "duration": 110,
    "start_time": "2021-10-13T02:26:24.140Z"
   },
   {
    "duration": 1042,
    "start_time": "2021-10-13T02:26:27.596Z"
   },
   {
    "duration": 9,
    "start_time": "2021-10-13T02:27:46.724Z"
   },
   {
    "duration": 20,
    "start_time": "2021-10-13T02:27:48.796Z"
   },
   {
    "duration": 1242,
    "start_time": "2021-10-13T02:27:57.473Z"
   },
   {
    "duration": 123,
    "start_time": "2021-10-13T02:27:58.717Z"
   },
   {
    "duration": 15,
    "start_time": "2021-10-13T02:27:58.842Z"
   },
   {
    "duration": 12,
    "start_time": "2021-10-13T02:27:58.859Z"
   },
   {
    "duration": 12,
    "start_time": "2021-10-13T02:27:58.872Z"
   },
   {
    "duration": 10,
    "start_time": "2021-10-13T02:27:58.886Z"
   },
   {
    "duration": 9,
    "start_time": "2021-10-13T02:27:58.898Z"
   },
   {
    "duration": 4,
    "start_time": "2021-10-13T02:27:58.908Z"
   },
   {
    "duration": 14,
    "start_time": "2021-10-13T02:27:58.915Z"
   },
   {
    "duration": 4,
    "start_time": "2021-10-13T02:27:58.931Z"
   },
   {
    "duration": 41,
    "start_time": "2021-10-13T02:27:58.937Z"
   },
   {
    "duration": 11,
    "start_time": "2021-10-13T02:27:58.980Z"
   },
   {
    "duration": 5,
    "start_time": "2021-10-13T02:27:58.993Z"
   },
   {
    "duration": 308,
    "start_time": "2021-10-13T02:27:59.000Z"
   },
   {
    "duration": 345,
    "start_time": "2021-10-13T02:27:59.310Z"
   },
   {
    "duration": 463,
    "start_time": "2021-10-13T02:27:59.657Z"
   },
   {
    "duration": 4,
    "start_time": "2021-10-13T02:28:00.122Z"
   },
   {
    "duration": 19,
    "start_time": "2021-10-13T02:28:00.128Z"
   },
   {
    "duration": 36,
    "start_time": "2021-10-13T02:28:00.148Z"
   },
   {
    "duration": 903,
    "start_time": "2021-10-13T02:28:00.186Z"
   },
   {
    "duration": 4,
    "start_time": "2021-10-13T02:30:06.355Z"
   },
   {
    "duration": 5,
    "start_time": "2021-10-13T02:35:33.673Z"
   },
   {
    "duration": 6,
    "start_time": "2021-10-13T02:36:56.049Z"
   },
   {
    "duration": 16,
    "start_time": "2021-10-13T02:37:14.321Z"
   },
   {
    "duration": 16,
    "start_time": "2021-10-13T02:37:31.969Z"
   },
   {
    "duration": 18,
    "start_time": "2021-10-13T02:37:42.977Z"
   },
   {
    "duration": 18,
    "start_time": "2021-10-13T02:37:50.169Z"
   },
   {
    "duration": 7,
    "start_time": "2021-10-13T02:40:23.552Z"
   },
   {
    "duration": 4,
    "start_time": "2021-10-13T02:41:06.816Z"
   },
   {
    "duration": 4,
    "start_time": "2021-10-13T02:44:54.317Z"
   },
   {
    "duration": 3,
    "start_time": "2021-10-13T02:45:36.958Z"
   },
   {
    "duration": 1636,
    "start_time": "2021-10-13T02:45:54.119Z"
   },
   {
    "duration": 627,
    "start_time": "2021-10-13T02:46:37.541Z"
   },
   {
    "duration": 4203,
    "start_time": "2021-10-13T02:47:00.701Z"
   },
   {
    "duration": 2850,
    "start_time": "2021-10-13T02:47:13.861Z"
   },
   {
    "duration": 2572,
    "start_time": "2021-10-13T02:47:27.232Z"
   },
   {
    "duration": 1305,
    "start_time": "2021-10-13T02:47:29.806Z"
   },
   {
    "duration": 139,
    "start_time": "2021-10-13T02:47:31.113Z"
   },
   {
    "duration": 19,
    "start_time": "2021-10-13T02:47:31.254Z"
   },
   {
    "duration": 15,
    "start_time": "2021-10-13T02:47:31.275Z"
   },
   {
    "duration": 14,
    "start_time": "2021-10-13T02:47:31.292Z"
   },
   {
    "duration": 14,
    "start_time": "2021-10-13T02:47:31.308Z"
   },
   {
    "duration": 10,
    "start_time": "2021-10-13T02:47:31.325Z"
   },
   {
    "duration": 7,
    "start_time": "2021-10-13T02:47:31.338Z"
   },
   {
    "duration": 38,
    "start_time": "2021-10-13T02:47:31.346Z"
   },
   {
    "duration": 5,
    "start_time": "2021-10-13T02:47:31.386Z"
   },
   {
    "duration": 14,
    "start_time": "2021-10-13T02:47:31.393Z"
   },
   {
    "duration": 13,
    "start_time": "2021-10-13T02:47:31.409Z"
   },
   {
    "duration": 15,
    "start_time": "2021-10-13T02:47:31.424Z"
   },
   {
    "duration": 322,
    "start_time": "2021-10-13T02:47:31.441Z"
   },
   {
    "duration": 353,
    "start_time": "2021-10-13T02:47:31.765Z"
   },
   {
    "duration": 576,
    "start_time": "2021-10-13T02:47:32.120Z"
   },
   {
    "duration": 5,
    "start_time": "2021-10-13T02:47:32.698Z"
   },
   {
    "duration": 20,
    "start_time": "2021-10-13T02:47:32.705Z"
   },
   {
    "duration": 18,
    "start_time": "2021-10-13T02:47:32.726Z"
   },
   {
    "duration": 7,
    "start_time": "2021-10-13T02:47:32.746Z"
   },
   {
    "duration": 5,
    "start_time": "2021-10-13T02:47:32.777Z"
   },
   {
    "duration": 9,
    "start_time": "2021-10-13T02:47:32.786Z"
   },
   {
    "duration": 7,
    "start_time": "2021-10-13T02:47:32.796Z"
   },
   {
    "duration": 895,
    "start_time": "2021-10-13T02:47:32.805Z"
   },
   {
    "duration": -184,
    "start_time": "2021-10-13T02:47:33.886Z"
   },
   {
    "duration": 627,
    "start_time": "2021-10-13T02:49:40.181Z"
   },
   {
    "duration": 2517,
    "start_time": "2021-10-13T02:49:56.357Z"
   },
   {
    "duration": 1252,
    "start_time": "2021-10-13T02:49:58.876Z"
   },
   {
    "duration": 120,
    "start_time": "2021-10-13T02:50:00.131Z"
   },
   {
    "duration": 17,
    "start_time": "2021-10-13T02:50:00.253Z"
   },
   {
    "duration": 14,
    "start_time": "2021-10-13T02:50:00.272Z"
   },
   {
    "duration": 13,
    "start_time": "2021-10-13T02:50:00.288Z"
   },
   {
    "duration": 11,
    "start_time": "2021-10-13T02:50:00.303Z"
   },
   {
    "duration": 8,
    "start_time": "2021-10-13T02:50:00.317Z"
   },
   {
    "duration": 4,
    "start_time": "2021-10-13T02:50:00.328Z"
   },
   {
    "duration": 45,
    "start_time": "2021-10-13T02:50:00.333Z"
   },
   {
    "duration": 4,
    "start_time": "2021-10-13T02:50:00.380Z"
   },
   {
    "duration": 12,
    "start_time": "2021-10-13T02:50:00.386Z"
   },
   {
    "duration": 10,
    "start_time": "2021-10-13T02:50:00.400Z"
   },
   {
    "duration": 5,
    "start_time": "2021-10-13T02:50:00.412Z"
   },
   {
    "duration": 439,
    "start_time": "2021-10-13T02:50:00.419Z"
   },
   {
    "duration": 459,
    "start_time": "2021-10-13T02:50:00.861Z"
   },
   {
    "duration": 481,
    "start_time": "2021-10-13T02:50:01.322Z"
   },
   {
    "duration": 4,
    "start_time": "2021-10-13T02:50:01.805Z"
   },
   {
    "duration": 25,
    "start_time": "2021-10-13T02:50:01.810Z"
   },
   {
    "duration": 24,
    "start_time": "2021-10-13T02:50:01.837Z"
   },
   {
    "duration": 18,
    "start_time": "2021-10-13T02:50:01.862Z"
   },
   {
    "duration": 20,
    "start_time": "2021-10-13T02:50:01.882Z"
   },
   {
    "duration": 26,
    "start_time": "2021-10-13T02:50:01.904Z"
   },
   {
    "duration": 27,
    "start_time": "2021-10-13T02:50:01.932Z"
   },
   {
    "duration": 707,
    "start_time": "2021-10-13T02:50:01.961Z"
   },
   {
    "duration": -176,
    "start_time": "2021-10-13T02:50:02.846Z"
   },
   {
    "duration": 3,
    "start_time": "2021-10-13T02:50:32.769Z"
   },
   {
    "duration": 1259,
    "start_time": "2021-10-13T02:50:32.774Z"
   },
   {
    "duration": 131,
    "start_time": "2021-10-13T02:50:34.035Z"
   },
   {
    "duration": 17,
    "start_time": "2021-10-13T02:50:34.168Z"
   },
   {
    "duration": 12,
    "start_time": "2021-10-13T02:50:34.187Z"
   },
   {
    "duration": 12,
    "start_time": "2021-10-13T02:50:34.201Z"
   },
   {
    "duration": 11,
    "start_time": "2021-10-13T02:50:34.215Z"
   },
   {
    "duration": 7,
    "start_time": "2021-10-13T02:50:34.228Z"
   },
   {
    "duration": 39,
    "start_time": "2021-10-13T02:50:34.238Z"
   },
   {
    "duration": 7,
    "start_time": "2021-10-13T02:50:34.279Z"
   },
   {
    "duration": 8,
    "start_time": "2021-10-13T02:50:34.287Z"
   },
   {
    "duration": 11,
    "start_time": "2021-10-13T02:50:34.296Z"
   },
   {
    "duration": 8,
    "start_time": "2021-10-13T02:50:34.309Z"
   },
   {
    "duration": 5,
    "start_time": "2021-10-13T02:50:34.318Z"
   },
   {
    "duration": 334,
    "start_time": "2021-10-13T02:50:34.324Z"
   },
   {
    "duration": 348,
    "start_time": "2021-10-13T02:50:34.660Z"
   },
   {
    "duration": 487,
    "start_time": "2021-10-13T02:50:35.010Z"
   },
   {
    "duration": 5,
    "start_time": "2021-10-13T02:50:35.499Z"
   },
   {
    "duration": 23,
    "start_time": "2021-10-13T02:50:35.506Z"
   },
   {
    "duration": 19,
    "start_time": "2021-10-13T02:50:35.531Z"
   },
   {
    "duration": 7,
    "start_time": "2021-10-13T02:50:35.552Z"
   },
   {
    "duration": 19,
    "start_time": "2021-10-13T02:50:35.561Z"
   },
   {
    "duration": 4,
    "start_time": "2021-10-13T02:50:35.583Z"
   },
   {
    "duration": 5,
    "start_time": "2021-10-13T02:50:35.589Z"
   },
   {
    "duration": 687,
    "start_time": "2021-10-13T02:50:35.596Z"
   },
   {
    "duration": -150,
    "start_time": "2021-10-13T02:50:36.435Z"
   },
   {
    "duration": 4,
    "start_time": "2021-10-13T02:50:51.583Z"
   },
   {
    "duration": 1238,
    "start_time": "2021-10-13T02:50:51.589Z"
   },
   {
    "duration": 136,
    "start_time": "2021-10-13T02:50:52.829Z"
   },
   {
    "duration": 15,
    "start_time": "2021-10-13T02:50:52.967Z"
   },
   {
    "duration": 13,
    "start_time": "2021-10-13T02:50:52.984Z"
   },
   {
    "duration": 12,
    "start_time": "2021-10-13T02:50:52.998Z"
   },
   {
    "duration": 11,
    "start_time": "2021-10-13T02:50:53.012Z"
   },
   {
    "duration": 9,
    "start_time": "2021-10-13T02:50:53.024Z"
   },
   {
    "duration": 6,
    "start_time": "2021-10-13T02:50:53.036Z"
   },
   {
    "duration": 38,
    "start_time": "2021-10-13T02:50:53.044Z"
   },
   {
    "duration": 5,
    "start_time": "2021-10-13T02:50:53.084Z"
   },
   {
    "duration": 12,
    "start_time": "2021-10-13T02:50:53.091Z"
   },
   {
    "duration": 8,
    "start_time": "2021-10-13T02:50:53.105Z"
   },
   {
    "duration": 5,
    "start_time": "2021-10-13T02:50:53.114Z"
   },
   {
    "duration": 324,
    "start_time": "2021-10-13T02:50:53.121Z"
   },
   {
    "duration": 353,
    "start_time": "2021-10-13T02:50:53.447Z"
   },
   {
    "duration": 476,
    "start_time": "2021-10-13T02:50:53.801Z"
   },
   {
    "duration": 4,
    "start_time": "2021-10-13T02:50:54.279Z"
   },
   {
    "duration": 20,
    "start_time": "2021-10-13T02:50:54.284Z"
   },
   {
    "duration": 18,
    "start_time": "2021-10-13T02:50:54.306Z"
   },
   {
    "duration": 8,
    "start_time": "2021-10-13T02:50:54.326Z"
   },
   {
    "duration": 5,
    "start_time": "2021-10-13T02:50:54.336Z"
   },
   {
    "duration": 35,
    "start_time": "2021-10-13T02:50:54.343Z"
   },
   {
    "duration": 5,
    "start_time": "2021-10-13T02:50:54.380Z"
   },
   {
    "duration": 714,
    "start_time": "2021-10-13T02:51:21.740Z"
   },
   {
    "duration": 9733,
    "start_time": "2021-10-13T02:53:50.115Z"
   },
   {
    "duration": 3070,
    "start_time": "2021-10-13T02:54:08.182Z"
   },
   {
    "duration": 1291,
    "start_time": "2021-10-13T02:54:11.255Z"
   },
   {
    "duration": 137,
    "start_time": "2021-10-13T02:54:12.548Z"
   },
   {
    "duration": 17,
    "start_time": "2021-10-13T02:54:12.687Z"
   },
   {
    "duration": 13,
    "start_time": "2021-10-13T02:54:12.706Z"
   },
   {
    "duration": 13,
    "start_time": "2021-10-13T02:54:12.721Z"
   },
   {
    "duration": 14,
    "start_time": "2021-10-13T02:54:12.735Z"
   },
   {
    "duration": 27,
    "start_time": "2021-10-13T02:54:12.752Z"
   },
   {
    "duration": 4,
    "start_time": "2021-10-13T02:54:12.781Z"
   },
   {
    "duration": 16,
    "start_time": "2021-10-13T02:54:12.787Z"
   },
   {
    "duration": 12,
    "start_time": "2021-10-13T02:54:12.805Z"
   },
   {
    "duration": 18,
    "start_time": "2021-10-13T02:54:12.819Z"
   },
   {
    "duration": 8,
    "start_time": "2021-10-13T02:54:12.838Z"
   },
   {
    "duration": 8,
    "start_time": "2021-10-13T02:54:12.848Z"
   },
   {
    "duration": 302,
    "start_time": "2021-10-13T02:54:12.857Z"
   },
   {
    "duration": 442,
    "start_time": "2021-10-13T02:54:13.161Z"
   },
   {
    "duration": 489,
    "start_time": "2021-10-13T02:54:13.605Z"
   },
   {
    "duration": 4,
    "start_time": "2021-10-13T02:54:14.095Z"
   },
   {
    "duration": 35,
    "start_time": "2021-10-13T02:54:14.101Z"
   },
   {
    "duration": 18,
    "start_time": "2021-10-13T02:54:14.137Z"
   },
   {
    "duration": 6,
    "start_time": "2021-10-13T02:54:14.157Z"
   },
   {
    "duration": 12,
    "start_time": "2021-10-13T02:54:14.165Z"
   },
   {
    "duration": 21,
    "start_time": "2021-10-13T02:54:14.180Z"
   },
   {
    "duration": 19,
    "start_time": "2021-10-13T02:54:14.203Z"
   },
   {
    "duration": 747,
    "start_time": "2021-10-13T02:54:14.223Z"
   },
   {
    "duration": -79,
    "start_time": "2021-10-13T02:54:15.051Z"
   },
   {
    "duration": 8,
    "start_time": "2021-10-13T02:54:56.212Z"
   },
   {
    "duration": 6,
    "start_time": "2021-10-13T02:55:48.140Z"
   },
   {
    "duration": 2705,
    "start_time": "2021-10-13T02:55:53.433Z"
   },
   {
    "duration": 1288,
    "start_time": "2021-10-13T02:55:56.140Z"
   },
   {
    "duration": 193,
    "start_time": "2021-10-13T02:55:57.430Z"
   },
   {
    "duration": 16,
    "start_time": "2021-10-13T02:55:57.625Z"
   },
   {
    "duration": 12,
    "start_time": "2021-10-13T02:55:57.642Z"
   },
   {
    "duration": 13,
    "start_time": "2021-10-13T02:55:57.656Z"
   },
   {
    "duration": 9,
    "start_time": "2021-10-13T02:55:57.670Z"
   },
   {
    "duration": 9,
    "start_time": "2021-10-13T02:55:57.682Z"
   },
   {
    "duration": 4,
    "start_time": "2021-10-13T02:55:57.694Z"
   },
   {
    "duration": 14,
    "start_time": "2021-10-13T02:55:57.699Z"
   },
   {
    "duration": 11,
    "start_time": "2021-10-13T02:55:57.715Z"
   },
   {
    "duration": 13,
    "start_time": "2021-10-13T02:55:57.728Z"
   },
   {
    "duration": 8,
    "start_time": "2021-10-13T02:55:57.743Z"
   },
   {
    "duration": 5,
    "start_time": "2021-10-13T02:55:57.753Z"
   },
   {
    "duration": 325,
    "start_time": "2021-10-13T02:55:57.759Z"
   },
   {
    "duration": 345,
    "start_time": "2021-10-13T02:55:58.086Z"
   },
   {
    "duration": 484,
    "start_time": "2021-10-13T02:55:58.433Z"
   },
   {
    "duration": 4,
    "start_time": "2021-10-13T02:55:58.920Z"
   },
   {
    "duration": 27,
    "start_time": "2021-10-13T02:55:58.926Z"
   },
   {
    "duration": 11,
    "start_time": "2021-10-13T02:55:58.955Z"
   },
   {
    "duration": 15,
    "start_time": "2021-10-13T02:55:58.968Z"
   },
   {
    "duration": 14,
    "start_time": "2021-10-13T02:55:58.985Z"
   },
   {
    "duration": 11,
    "start_time": "2021-10-13T02:55:59.003Z"
   },
   {
    "duration": 7,
    "start_time": "2021-10-13T02:55:59.016Z"
   },
   {
    "duration": 10,
    "start_time": "2021-10-13T02:55:59.024Z"
   },
   {
    "duration": 146,
    "start_time": "2021-10-13T02:55:59.036Z"
   },
   {
    "duration": 95,
    "start_time": "2021-10-13T02:55:59.183Z"
   },
   {
    "duration": 3074,
    "start_time": "2021-10-13T02:57:33.636Z"
   },
   {
    "duration": 1287,
    "start_time": "2021-10-13T02:57:36.713Z"
   },
   {
    "duration": 123,
    "start_time": "2021-10-13T02:57:38.003Z"
   },
   {
    "duration": 19,
    "start_time": "2021-10-13T02:57:38.128Z"
   },
   {
    "duration": 14,
    "start_time": "2021-10-13T02:57:38.149Z"
   },
   {
    "duration": 16,
    "start_time": "2021-10-13T02:57:38.165Z"
   },
   {
    "duration": 10,
    "start_time": "2021-10-13T02:57:38.183Z"
   },
   {
    "duration": 7,
    "start_time": "2021-10-13T02:57:38.197Z"
   },
   {
    "duration": 4,
    "start_time": "2021-10-13T02:57:38.206Z"
   },
   {
    "duration": 10,
    "start_time": "2021-10-13T02:57:38.212Z"
   },
   {
    "duration": 6,
    "start_time": "2021-10-13T02:57:38.223Z"
   },
   {
    "duration": 50,
    "start_time": "2021-10-13T02:57:38.230Z"
   },
   {
    "duration": 9,
    "start_time": "2021-10-13T02:57:38.281Z"
   },
   {
    "duration": 4,
    "start_time": "2021-10-13T02:57:38.292Z"
   },
   {
    "duration": 329,
    "start_time": "2021-10-13T02:57:38.298Z"
   },
   {
    "duration": 353,
    "start_time": "2021-10-13T02:57:38.629Z"
   },
   {
    "duration": 488,
    "start_time": "2021-10-13T02:57:38.983Z"
   },
   {
    "duration": 4,
    "start_time": "2021-10-13T02:57:39.476Z"
   },
   {
    "duration": 15,
    "start_time": "2021-10-13T02:57:39.482Z"
   },
   {
    "duration": 5,
    "start_time": "2021-10-13T02:57:39.499Z"
   },
   {
    "duration": 7,
    "start_time": "2021-10-13T02:57:39.506Z"
   },
   {
    "duration": 7,
    "start_time": "2021-10-13T02:57:39.515Z"
   },
   {
    "duration": 4,
    "start_time": "2021-10-13T02:57:39.525Z"
   },
   {
    "duration": 4,
    "start_time": "2021-10-13T02:57:39.531Z"
   },
   {
    "duration": 7,
    "start_time": "2021-10-13T02:57:39.537Z"
   },
   {
    "duration": 119,
    "start_time": "2021-10-13T02:57:39.577Z"
   },
   {
    "duration": 9571,
    "start_time": "2021-10-13T15:54:19.796Z"
   },
   {
    "duration": 1398,
    "start_time": "2021-10-13T15:54:29.370Z"
   },
   {
    "duration": 161,
    "start_time": "2021-10-13T15:54:30.771Z"
   },
   {
    "duration": 20,
    "start_time": "2021-10-13T15:54:30.935Z"
   },
   {
    "duration": 31,
    "start_time": "2021-10-13T15:54:30.957Z"
   },
   {
    "duration": 24,
    "start_time": "2021-10-13T15:54:30.990Z"
   },
   {
    "duration": 12,
    "start_time": "2021-10-13T15:54:31.016Z"
   },
   {
    "duration": 26,
    "start_time": "2021-10-13T15:54:31.031Z"
   },
   {
    "duration": 6,
    "start_time": "2021-10-13T15:54:31.060Z"
   },
   {
    "duration": 18,
    "start_time": "2021-10-13T15:54:31.067Z"
   },
   {
    "duration": 13,
    "start_time": "2021-10-13T15:54:31.086Z"
   },
   {
    "duration": 14,
    "start_time": "2021-10-13T15:54:31.101Z"
   },
   {
    "duration": 8,
    "start_time": "2021-10-13T15:54:31.117Z"
   },
   {
    "duration": 7,
    "start_time": "2021-10-13T15:54:31.127Z"
   },
   {
    "duration": 330,
    "start_time": "2021-10-13T15:54:31.135Z"
   },
   {
    "duration": 349,
    "start_time": "2021-10-13T15:54:31.467Z"
   },
   {
    "duration": 496,
    "start_time": "2021-10-13T15:54:31.818Z"
   },
   {
    "duration": 5,
    "start_time": "2021-10-13T15:54:32.316Z"
   },
   {
    "duration": 35,
    "start_time": "2021-10-13T15:54:32.324Z"
   },
   {
    "duration": 9,
    "start_time": "2021-10-13T15:54:32.361Z"
   },
   {
    "duration": 14,
    "start_time": "2021-10-13T15:54:32.372Z"
   },
   {
    "duration": 14,
    "start_time": "2021-10-13T15:54:32.388Z"
   },
   {
    "duration": 10,
    "start_time": "2021-10-13T15:54:32.406Z"
   },
   {
    "duration": 12,
    "start_time": "2021-10-13T15:54:32.418Z"
   },
   {
    "duration": 17,
    "start_time": "2021-10-13T15:54:32.432Z"
   },
   {
    "duration": 228,
    "start_time": "2021-10-13T15:54:32.451Z"
   },
   {
    "duration": 23,
    "start_time": "2021-10-13T16:01:35.282Z"
   },
   {
    "duration": 331,
    "start_time": "2021-10-13T16:14:14.544Z"
   },
   {
    "duration": 3048,
    "start_time": "2021-10-13T16:14:27.163Z"
   },
   {
    "duration": 1329,
    "start_time": "2021-10-13T16:14:30.214Z"
   },
   {
    "duration": 123,
    "start_time": "2021-10-13T16:14:31.545Z"
   },
   {
    "duration": 20,
    "start_time": "2021-10-13T16:14:31.670Z"
   },
   {
    "duration": 14,
    "start_time": "2021-10-13T16:14:31.692Z"
   },
   {
    "duration": 14,
    "start_time": "2021-10-13T16:14:31.709Z"
   },
   {
    "duration": 11,
    "start_time": "2021-10-13T16:14:31.725Z"
   },
   {
    "duration": 38,
    "start_time": "2021-10-13T16:14:31.739Z"
   },
   {
    "duration": 5,
    "start_time": "2021-10-13T16:14:31.780Z"
   },
   {
    "duration": 8,
    "start_time": "2021-10-13T16:14:31.788Z"
   },
   {
    "duration": 5,
    "start_time": "2021-10-13T16:14:31.799Z"
   },
   {
    "duration": 11,
    "start_time": "2021-10-13T16:14:31.806Z"
   },
   {
    "duration": 9,
    "start_time": "2021-10-13T16:14:31.819Z"
   },
   {
    "duration": 48,
    "start_time": "2021-10-13T16:14:31.830Z"
   },
   {
    "duration": 329,
    "start_time": "2021-10-13T16:14:31.880Z"
   },
   {
    "duration": 360,
    "start_time": "2021-10-13T16:14:32.211Z"
   },
   {
    "duration": 512,
    "start_time": "2021-10-13T16:14:32.573Z"
   },
   {
    "duration": 234,
    "start_time": "2021-10-13T16:14:40.732Z"
   },
   {
    "duration": 2905,
    "start_time": "2021-10-13T16:17:30.792Z"
   },
   {
    "duration": 1271,
    "start_time": "2021-10-13T16:17:33.699Z"
   },
   {
    "duration": 122,
    "start_time": "2021-10-13T16:17:34.973Z"
   },
   {
    "duration": 19,
    "start_time": "2021-10-13T16:17:35.097Z"
   },
   {
    "duration": 13,
    "start_time": "2021-10-13T16:17:35.118Z"
   },
   {
    "duration": 14,
    "start_time": "2021-10-13T16:17:35.133Z"
   },
   {
    "duration": 35,
    "start_time": "2021-10-13T16:17:35.149Z"
   },
   {
    "duration": 6,
    "start_time": "2021-10-13T16:17:35.186Z"
   },
   {
    "duration": 5,
    "start_time": "2021-10-13T16:17:35.195Z"
   },
   {
    "duration": 13,
    "start_time": "2021-10-13T16:17:35.203Z"
   },
   {
    "duration": 4,
    "start_time": "2021-10-13T16:17:35.218Z"
   },
   {
    "duration": 12,
    "start_time": "2021-10-13T16:17:35.225Z"
   },
   {
    "duration": 46,
    "start_time": "2021-10-13T16:17:35.239Z"
   },
   {
    "duration": 5,
    "start_time": "2021-10-13T16:17:35.286Z"
   },
   {
    "duration": 321,
    "start_time": "2021-10-13T16:17:35.293Z"
   },
   {
    "duration": 367,
    "start_time": "2021-10-13T16:17:35.616Z"
   },
   {
    "duration": 503,
    "start_time": "2021-10-13T16:17:35.985Z"
   },
   {
    "duration": 5,
    "start_time": "2021-10-13T16:17:36.490Z"
   },
   {
    "duration": 17,
    "start_time": "2021-10-13T16:17:36.497Z"
   },
   {
    "duration": 6,
    "start_time": "2021-10-13T16:17:36.516Z"
   },
   {
    "duration": 21,
    "start_time": "2021-10-13T16:17:36.524Z"
   },
   {
    "duration": 35,
    "start_time": "2021-10-13T16:17:36.546Z"
   },
   {
    "duration": 5,
    "start_time": "2021-10-13T16:17:36.583Z"
   },
   {
    "duration": 4,
    "start_time": "2021-10-13T16:17:36.590Z"
   },
   {
    "duration": 7,
    "start_time": "2021-10-13T16:17:36.596Z"
   },
   {
    "duration": 272,
    "start_time": "2021-10-13T16:17:36.605Z"
   },
   {
    "duration": 4,
    "start_time": "2021-10-13T16:18:30.681Z"
   },
   {
    "duration": 2935,
    "start_time": "2021-10-13T16:20:09.185Z"
   },
   {
    "duration": 1336,
    "start_time": "2021-10-13T16:20:12.122Z"
   },
   {
    "duration": 113,
    "start_time": "2021-10-13T16:20:13.460Z"
   },
   {
    "duration": 18,
    "start_time": "2021-10-13T16:20:13.575Z"
   },
   {
    "duration": 13,
    "start_time": "2021-10-13T16:20:13.595Z"
   },
   {
    "duration": 17,
    "start_time": "2021-10-13T16:20:13.610Z"
   },
   {
    "duration": 13,
    "start_time": "2021-10-13T16:20:13.629Z"
   },
   {
    "duration": 33,
    "start_time": "2021-10-13T16:20:13.644Z"
   },
   {
    "duration": 4,
    "start_time": "2021-10-13T16:20:13.680Z"
   },
   {
    "duration": 13,
    "start_time": "2021-10-13T16:20:13.685Z"
   },
   {
    "duration": 10,
    "start_time": "2021-10-13T16:20:13.700Z"
   },
   {
    "duration": 11,
    "start_time": "2021-10-13T16:20:13.712Z"
   },
   {
    "duration": 12,
    "start_time": "2021-10-13T16:20:13.725Z"
   },
   {
    "duration": 5,
    "start_time": "2021-10-13T16:20:13.739Z"
   },
   {
    "duration": 346,
    "start_time": "2021-10-13T16:20:13.746Z"
   },
   {
    "duration": 364,
    "start_time": "2021-10-13T16:20:14.093Z"
   },
   {
    "duration": 499,
    "start_time": "2021-10-13T16:20:14.459Z"
   },
   {
    "duration": 4,
    "start_time": "2021-10-13T16:20:14.960Z"
   },
   {
    "duration": 22,
    "start_time": "2021-10-13T16:20:14.966Z"
   },
   {
    "duration": 6,
    "start_time": "2021-10-13T16:20:14.989Z"
   },
   {
    "duration": 23,
    "start_time": "2021-10-13T16:20:14.996Z"
   },
   {
    "duration": 12,
    "start_time": "2021-10-13T16:20:15.021Z"
   },
   {
    "duration": 9,
    "start_time": "2021-10-13T16:20:15.035Z"
   },
   {
    "duration": 35,
    "start_time": "2021-10-13T16:20:15.046Z"
   },
   {
    "duration": 8,
    "start_time": "2021-10-13T16:20:15.083Z"
   },
   {
    "duration": 102,
    "start_time": "2021-10-13T16:20:15.094Z"
   },
   {
    "duration": 10,
    "start_time": "2021-10-13T16:21:18.513Z"
   },
   {
    "duration": 2886,
    "start_time": "2021-10-13T16:21:30.019Z"
   },
   {
    "duration": 1318,
    "start_time": "2021-10-13T16:21:32.907Z"
   },
   {
    "duration": 114,
    "start_time": "2021-10-13T16:21:34.227Z"
   },
   {
    "duration": 18,
    "start_time": "2021-10-13T16:21:34.343Z"
   },
   {
    "duration": 13,
    "start_time": "2021-10-13T16:21:34.363Z"
   },
   {
    "duration": 13,
    "start_time": "2021-10-13T16:21:34.378Z"
   },
   {
    "duration": 15,
    "start_time": "2021-10-13T16:21:34.393Z"
   },
   {
    "duration": 13,
    "start_time": "2021-10-13T16:21:34.410Z"
   },
   {
    "duration": 8,
    "start_time": "2021-10-13T16:21:34.426Z"
   },
   {
    "duration": 14,
    "start_time": "2021-10-13T16:21:34.437Z"
   },
   {
    "duration": 7,
    "start_time": "2021-10-13T16:21:34.453Z"
   },
   {
    "duration": 11,
    "start_time": "2021-10-13T16:21:34.477Z"
   },
   {
    "duration": 19,
    "start_time": "2021-10-13T16:21:34.489Z"
   },
   {
    "duration": 10,
    "start_time": "2021-10-13T16:21:34.510Z"
   },
   {
    "duration": 314,
    "start_time": "2021-10-13T16:21:34.522Z"
   },
   {
    "duration": 357,
    "start_time": "2021-10-13T16:21:34.837Z"
   },
   {
    "duration": 496,
    "start_time": "2021-10-13T16:21:35.195Z"
   },
   {
    "duration": 4,
    "start_time": "2021-10-13T16:21:35.692Z"
   },
   {
    "duration": 18,
    "start_time": "2021-10-13T16:21:35.699Z"
   },
   {
    "duration": 7,
    "start_time": "2021-10-13T16:21:35.719Z"
   },
   {
    "duration": 23,
    "start_time": "2021-10-13T16:21:35.728Z"
   },
   {
    "duration": 29,
    "start_time": "2021-10-13T16:21:35.752Z"
   },
   {
    "duration": 8,
    "start_time": "2021-10-13T16:21:35.783Z"
   },
   {
    "duration": 5,
    "start_time": "2021-10-13T16:21:35.793Z"
   },
   {
    "duration": 7,
    "start_time": "2021-10-13T16:21:35.800Z"
   },
   {
    "duration": 99,
    "start_time": "2021-10-13T16:21:35.809Z"
   },
   {
    "duration": 2822,
    "start_time": "2021-10-13T16:22:22.103Z"
   },
   {
    "duration": 1314,
    "start_time": "2021-10-13T16:22:24.927Z"
   },
   {
    "duration": 108,
    "start_time": "2021-10-13T16:22:26.243Z"
   },
   {
    "duration": 17,
    "start_time": "2021-10-13T16:22:26.353Z"
   },
   {
    "duration": 14,
    "start_time": "2021-10-13T16:22:26.372Z"
   },
   {
    "duration": 13,
    "start_time": "2021-10-13T16:22:26.388Z"
   },
   {
    "duration": 10,
    "start_time": "2021-10-13T16:22:26.403Z"
   },
   {
    "duration": 7,
    "start_time": "2021-10-13T16:22:26.416Z"
   },
   {
    "duration": 6,
    "start_time": "2021-10-13T16:22:26.425Z"
   },
   {
    "duration": 9,
    "start_time": "2021-10-13T16:22:26.432Z"
   },
   {
    "duration": 4,
    "start_time": "2021-10-13T16:22:26.476Z"
   },
   {
    "duration": 14,
    "start_time": "2021-10-13T16:22:26.482Z"
   },
   {
    "duration": 9,
    "start_time": "2021-10-13T16:22:26.498Z"
   },
   {
    "duration": 5,
    "start_time": "2021-10-13T16:22:26.510Z"
   },
   {
    "duration": 336,
    "start_time": "2021-10-13T16:22:26.517Z"
   },
   {
    "duration": 365,
    "start_time": "2021-10-13T16:22:26.855Z"
   },
   {
    "duration": 591,
    "start_time": "2021-10-13T16:22:27.222Z"
   },
   {
    "duration": 4,
    "start_time": "2021-10-13T16:22:27.815Z"
   },
   {
    "duration": 26,
    "start_time": "2021-10-13T16:22:27.821Z"
   },
   {
    "duration": 7,
    "start_time": "2021-10-13T16:22:27.849Z"
   },
   {
    "duration": 50,
    "start_time": "2021-10-13T16:22:27.857Z"
   },
   {
    "duration": 7,
    "start_time": "2021-10-13T16:22:27.909Z"
   },
   {
    "duration": 5,
    "start_time": "2021-10-13T16:22:27.920Z"
   },
   {
    "duration": 4,
    "start_time": "2021-10-13T16:22:27.927Z"
   },
   {
    "duration": 13,
    "start_time": "2021-10-13T16:22:27.933Z"
   },
   {
    "duration": 1043,
    "start_time": "2021-10-13T16:22:27.947Z"
   },
   {
    "duration": 2975,
    "start_time": "2021-10-13T16:23:44.003Z"
   },
   {
    "duration": 1342,
    "start_time": "2021-10-13T16:23:46.980Z"
   },
   {
    "duration": 112,
    "start_time": "2021-10-13T16:23:48.325Z"
   },
   {
    "duration": 18,
    "start_time": "2021-10-13T16:23:48.439Z"
   },
   {
    "duration": 12,
    "start_time": "2021-10-13T16:23:48.459Z"
   },
   {
    "duration": 15,
    "start_time": "2021-10-13T16:23:48.473Z"
   },
   {
    "duration": 11,
    "start_time": "2021-10-13T16:23:48.490Z"
   },
   {
    "duration": 6,
    "start_time": "2021-10-13T16:23:48.504Z"
   },
   {
    "duration": 5,
    "start_time": "2021-10-13T16:23:48.512Z"
   },
   {
    "duration": 11,
    "start_time": "2021-10-13T16:23:48.519Z"
   },
   {
    "duration": 4,
    "start_time": "2021-10-13T16:23:48.533Z"
   },
   {
    "duration": 45,
    "start_time": "2021-10-13T16:23:48.539Z"
   },
   {
    "duration": 8,
    "start_time": "2021-10-13T16:23:48.586Z"
   },
   {
    "duration": 4,
    "start_time": "2021-10-13T16:23:48.596Z"
   },
   {
    "duration": 330,
    "start_time": "2021-10-13T16:23:48.602Z"
   },
   {
    "duration": 360,
    "start_time": "2021-10-13T16:23:48.934Z"
   },
   {
    "duration": 624,
    "start_time": "2021-10-13T16:23:49.296Z"
   },
   {
    "duration": 4,
    "start_time": "2021-10-13T16:23:49.921Z"
   },
   {
    "duration": 58,
    "start_time": "2021-10-13T16:23:49.927Z"
   },
   {
    "duration": 12,
    "start_time": "2021-10-13T16:23:49.987Z"
   },
   {
    "duration": 37,
    "start_time": "2021-10-13T16:23:50.001Z"
   },
   {
    "duration": 10,
    "start_time": "2021-10-13T16:23:50.040Z"
   },
   {
    "duration": 26,
    "start_time": "2021-10-13T16:23:50.054Z"
   },
   {
    "duration": 5,
    "start_time": "2021-10-13T16:23:50.082Z"
   },
   {
    "duration": 9,
    "start_time": "2021-10-13T16:23:50.089Z"
   },
   {
    "duration": 1286,
    "start_time": "2021-10-13T16:23:50.099Z"
   },
   {
    "duration": 21,
    "start_time": "2021-10-13T16:24:17.781Z"
   },
   {
    "duration": 2943,
    "start_time": "2021-10-13T16:24:31.016Z"
   },
   {
    "duration": 1292,
    "start_time": "2021-10-13T16:24:33.962Z"
   },
   {
    "duration": 105,
    "start_time": "2021-10-13T16:24:35.256Z"
   },
   {
    "duration": 18,
    "start_time": "2021-10-13T16:24:35.364Z"
   },
   {
    "duration": 13,
    "start_time": "2021-10-13T16:24:35.383Z"
   },
   {
    "duration": 13,
    "start_time": "2021-10-13T16:24:35.398Z"
   },
   {
    "duration": 10,
    "start_time": "2021-10-13T16:24:35.413Z"
   },
   {
    "duration": 9,
    "start_time": "2021-10-13T16:24:35.425Z"
   },
   {
    "duration": 5,
    "start_time": "2021-10-13T16:24:35.437Z"
   },
   {
    "duration": 40,
    "start_time": "2021-10-13T16:24:35.444Z"
   },
   {
    "duration": 8,
    "start_time": "2021-10-13T16:24:35.486Z"
   },
   {
    "duration": 14,
    "start_time": "2021-10-13T16:24:35.495Z"
   },
   {
    "duration": 12,
    "start_time": "2021-10-13T16:24:35.511Z"
   },
   {
    "duration": 5,
    "start_time": "2021-10-13T16:24:35.526Z"
   },
   {
    "duration": 325,
    "start_time": "2021-10-13T16:24:35.533Z"
   },
   {
    "duration": 355,
    "start_time": "2021-10-13T16:24:35.860Z"
   },
   {
    "duration": 506,
    "start_time": "2021-10-13T16:24:36.217Z"
   },
   {
    "duration": 4,
    "start_time": "2021-10-13T16:24:36.725Z"
   },
   {
    "duration": 57,
    "start_time": "2021-10-13T16:24:36.731Z"
   },
   {
    "duration": 11,
    "start_time": "2021-10-13T16:24:36.790Z"
   },
   {
    "duration": 34,
    "start_time": "2021-10-13T16:24:36.803Z"
   },
   {
    "duration": 10,
    "start_time": "2021-10-13T16:24:36.838Z"
   },
   {
    "duration": 27,
    "start_time": "2021-10-13T16:24:36.850Z"
   },
   {
    "duration": 4,
    "start_time": "2021-10-13T16:24:36.880Z"
   },
   {
    "duration": 8,
    "start_time": "2021-10-13T16:24:36.885Z"
   },
   {
    "duration": 1284,
    "start_time": "2021-10-13T16:24:36.894Z"
   },
   {
    "duration": 2917,
    "start_time": "2021-10-13T16:26:09.230Z"
   },
   {
    "duration": 1483,
    "start_time": "2021-10-13T16:26:12.149Z"
   },
   {
    "duration": 118,
    "start_time": "2021-10-13T16:26:13.634Z"
   },
   {
    "duration": 17,
    "start_time": "2021-10-13T16:26:13.754Z"
   },
   {
    "duration": 13,
    "start_time": "2021-10-13T16:26:13.773Z"
   },
   {
    "duration": 13,
    "start_time": "2021-10-13T16:26:13.788Z"
   },
   {
    "duration": 10,
    "start_time": "2021-10-13T16:26:13.802Z"
   },
   {
    "duration": 12,
    "start_time": "2021-10-13T16:26:13.815Z"
   },
   {
    "duration": 5,
    "start_time": "2021-10-13T16:26:13.830Z"
   },
   {
    "duration": 21,
    "start_time": "2021-10-13T16:26:13.837Z"
   },
   {
    "duration": 19,
    "start_time": "2021-10-13T16:26:13.860Z"
   },
   {
    "duration": 18,
    "start_time": "2021-10-13T16:26:13.881Z"
   },
   {
    "duration": 14,
    "start_time": "2021-10-13T16:26:13.900Z"
   },
   {
    "duration": 9,
    "start_time": "2021-10-13T16:26:13.916Z"
   },
   {
    "duration": 339,
    "start_time": "2021-10-13T16:26:13.927Z"
   },
   {
    "duration": 358,
    "start_time": "2021-10-13T16:26:14.268Z"
   },
   {
    "duration": 494,
    "start_time": "2021-10-13T16:26:14.628Z"
   },
   {
    "duration": 4,
    "start_time": "2021-10-13T16:26:15.124Z"
   },
   {
    "duration": 20,
    "start_time": "2021-10-13T16:26:15.130Z"
   },
   {
    "duration": 6,
    "start_time": "2021-10-13T16:26:15.152Z"
   },
   {
    "duration": 29,
    "start_time": "2021-10-13T16:26:15.177Z"
   },
   {
    "duration": 7,
    "start_time": "2021-10-13T16:26:15.209Z"
   },
   {
    "duration": 7,
    "start_time": "2021-10-13T16:26:15.219Z"
   },
   {
    "duration": 4,
    "start_time": "2021-10-13T16:26:15.228Z"
   },
   {
    "duration": 7,
    "start_time": "2021-10-13T16:26:15.234Z"
   },
   {
    "duration": 1035,
    "start_time": "2021-10-13T16:26:15.243Z"
   },
   {
    "duration": 22,
    "start_time": "2021-10-13T16:26:38.913Z"
   },
   {
    "duration": 2928,
    "start_time": "2021-10-13T16:26:44.698Z"
   },
   {
    "duration": 1236,
    "start_time": "2021-10-13T16:26:47.629Z"
   },
   {
    "duration": 113,
    "start_time": "2021-10-13T16:26:48.867Z"
   },
   {
    "duration": 18,
    "start_time": "2021-10-13T16:26:48.982Z"
   },
   {
    "duration": 13,
    "start_time": "2021-10-13T16:26:49.002Z"
   },
   {
    "duration": 14,
    "start_time": "2021-10-13T16:26:49.017Z"
   },
   {
    "duration": 11,
    "start_time": "2021-10-13T16:26:49.033Z"
   },
   {
    "duration": 7,
    "start_time": "2021-10-13T16:26:49.076Z"
   },
   {
    "duration": 6,
    "start_time": "2021-10-13T16:26:49.086Z"
   },
   {
    "duration": 8,
    "start_time": "2021-10-13T16:26:49.094Z"
   },
   {
    "duration": 5,
    "start_time": "2021-10-13T16:26:49.104Z"
   },
   {
    "duration": 13,
    "start_time": "2021-10-13T16:26:49.111Z"
   },
   {
    "duration": 9,
    "start_time": "2021-10-13T16:26:49.126Z"
   },
   {
    "duration": 39,
    "start_time": "2021-10-13T16:26:49.137Z"
   },
   {
    "duration": 332,
    "start_time": "2021-10-13T16:26:49.179Z"
   },
   {
    "duration": 368,
    "start_time": "2021-10-13T16:26:49.513Z"
   },
   {
    "duration": 543,
    "start_time": "2021-10-13T16:26:49.883Z"
   },
   {
    "duration": 5,
    "start_time": "2021-10-13T16:26:50.429Z"
   },
   {
    "duration": 51,
    "start_time": "2021-10-13T16:26:50.436Z"
   },
   {
    "duration": 9,
    "start_time": "2021-10-13T16:26:50.489Z"
   },
   {
    "duration": 44,
    "start_time": "2021-10-13T16:26:50.500Z"
   },
   {
    "duration": 33,
    "start_time": "2021-10-13T16:26:50.546Z"
   },
   {
    "duration": 6,
    "start_time": "2021-10-13T16:26:50.582Z"
   },
   {
    "duration": 7,
    "start_time": "2021-10-13T16:26:50.590Z"
   },
   {
    "duration": 6,
    "start_time": "2021-10-13T16:26:50.599Z"
   },
   {
    "duration": 677,
    "start_time": "2021-10-13T16:26:50.607Z"
   },
   {
    "duration": 2831,
    "start_time": "2021-10-13T16:27:30.296Z"
   },
   {
    "duration": 1233,
    "start_time": "2021-10-13T16:27:33.129Z"
   },
   {
    "duration": 107,
    "start_time": "2021-10-13T16:27:34.365Z"
   },
   {
    "duration": 18,
    "start_time": "2021-10-13T16:27:34.474Z"
   },
   {
    "duration": 14,
    "start_time": "2021-10-13T16:27:34.494Z"
   },
   {
    "duration": 14,
    "start_time": "2021-10-13T16:27:34.509Z"
   },
   {
    "duration": 10,
    "start_time": "2021-10-13T16:27:34.525Z"
   },
   {
    "duration": 10,
    "start_time": "2021-10-13T16:27:34.537Z"
   },
   {
    "duration": 28,
    "start_time": "2021-10-13T16:27:34.549Z"
   },
   {
    "duration": 11,
    "start_time": "2021-10-13T16:27:34.579Z"
   },
   {
    "duration": 5,
    "start_time": "2021-10-13T16:27:34.592Z"
   },
   {
    "duration": 12,
    "start_time": "2021-10-13T16:27:34.598Z"
   },
   {
    "duration": 12,
    "start_time": "2021-10-13T16:27:34.612Z"
   },
   {
    "duration": 5,
    "start_time": "2021-10-13T16:27:34.626Z"
   },
   {
    "duration": 338,
    "start_time": "2021-10-13T16:27:34.633Z"
   },
   {
    "duration": 393,
    "start_time": "2021-10-13T16:27:34.973Z"
   },
   {
    "duration": 638,
    "start_time": "2021-10-13T16:27:35.368Z"
   },
   {
    "duration": 4,
    "start_time": "2021-10-13T16:27:36.009Z"
   },
   {
    "duration": 40,
    "start_time": "2021-10-13T16:27:36.015Z"
   },
   {
    "duration": 19,
    "start_time": "2021-10-13T16:27:36.057Z"
   },
   {
    "duration": 34,
    "start_time": "2021-10-13T16:27:36.079Z"
   },
   {
    "duration": 7,
    "start_time": "2021-10-13T16:27:36.115Z"
   },
   {
    "duration": 6,
    "start_time": "2021-10-13T16:27:36.125Z"
   },
   {
    "duration": 8,
    "start_time": "2021-10-13T16:27:36.134Z"
   },
   {
    "duration": 37,
    "start_time": "2021-10-13T16:27:36.144Z"
   },
   {
    "duration": 1103,
    "start_time": "2021-10-13T16:27:36.183Z"
   },
   {
    "duration": 32,
    "start_time": "2021-10-13T16:27:58.262Z"
   },
   {
    "duration": 2808,
    "start_time": "2021-10-13T16:28:09.166Z"
   },
   {
    "duration": 1327,
    "start_time": "2021-10-13T16:28:11.976Z"
   },
   {
    "duration": 135,
    "start_time": "2021-10-13T16:28:13.305Z"
   },
   {
    "duration": 17,
    "start_time": "2021-10-13T16:28:13.442Z"
   },
   {
    "duration": 13,
    "start_time": "2021-10-13T16:28:13.461Z"
   },
   {
    "duration": 13,
    "start_time": "2021-10-13T16:28:13.476Z"
   },
   {
    "duration": 11,
    "start_time": "2021-10-13T16:28:13.491Z"
   },
   {
    "duration": 10,
    "start_time": "2021-10-13T16:28:13.505Z"
   },
   {
    "duration": 8,
    "start_time": "2021-10-13T16:28:13.517Z"
   },
   {
    "duration": 11,
    "start_time": "2021-10-13T16:28:13.527Z"
   },
   {
    "duration": 6,
    "start_time": "2021-10-13T16:28:13.540Z"
   },
   {
    "duration": 37,
    "start_time": "2021-10-13T16:28:13.548Z"
   },
   {
    "duration": 9,
    "start_time": "2021-10-13T16:28:13.587Z"
   },
   {
    "duration": 5,
    "start_time": "2021-10-13T16:28:13.598Z"
   },
   {
    "duration": 341,
    "start_time": "2021-10-13T16:28:13.605Z"
   },
   {
    "duration": 367,
    "start_time": "2021-10-13T16:28:13.948Z"
   },
   {
    "duration": 499,
    "start_time": "2021-10-13T16:28:14.317Z"
   },
   {
    "duration": 4,
    "start_time": "2021-10-13T16:28:14.818Z"
   },
   {
    "duration": 56,
    "start_time": "2021-10-13T16:28:14.823Z"
   },
   {
    "duration": 11,
    "start_time": "2021-10-13T16:28:14.881Z"
   },
   {
    "duration": 33,
    "start_time": "2021-10-13T16:28:14.894Z"
   },
   {
    "duration": 10,
    "start_time": "2021-10-13T16:28:14.929Z"
   },
   {
    "duration": 15,
    "start_time": "2021-10-13T16:28:14.942Z"
   },
   {
    "duration": 4,
    "start_time": "2021-10-13T16:28:14.977Z"
   },
   {
    "duration": 15,
    "start_time": "2021-10-13T16:28:14.983Z"
   },
   {
    "duration": 977,
    "start_time": "2021-10-13T16:28:14.999Z"
   },
   {
    "duration": 3482,
    "start_time": "2021-10-13T16:28:57.050Z"
   },
   {
    "duration": 1480,
    "start_time": "2021-10-13T16:29:00.534Z"
   },
   {
    "duration": 120,
    "start_time": "2021-10-13T16:29:02.017Z"
   },
   {
    "duration": 17,
    "start_time": "2021-10-13T16:29:02.139Z"
   },
   {
    "duration": 21,
    "start_time": "2021-10-13T16:29:02.158Z"
   },
   {
    "duration": 15,
    "start_time": "2021-10-13T16:29:02.181Z"
   },
   {
    "duration": 14,
    "start_time": "2021-10-13T16:29:02.197Z"
   },
   {
    "duration": 21,
    "start_time": "2021-10-13T16:29:02.214Z"
   },
   {
    "duration": 41,
    "start_time": "2021-10-13T16:29:02.237Z"
   },
   {
    "duration": 17,
    "start_time": "2021-10-13T16:29:02.280Z"
   },
   {
    "duration": 12,
    "start_time": "2021-10-13T16:29:02.299Z"
   },
   {
    "duration": 23,
    "start_time": "2021-10-13T16:29:02.313Z"
   },
   {
    "duration": 19,
    "start_time": "2021-10-13T16:29:02.338Z"
   },
   {
    "duration": 14,
    "start_time": "2021-10-13T16:29:02.359Z"
   },
   {
    "duration": 324,
    "start_time": "2021-10-13T16:29:02.375Z"
   },
   {
    "duration": 354,
    "start_time": "2021-10-13T16:29:02.701Z"
   },
   {
    "duration": 503,
    "start_time": "2021-10-13T16:29:03.057Z"
   },
   {
    "duration": 4,
    "start_time": "2021-10-13T16:29:03.562Z"
   },
   {
    "duration": 62,
    "start_time": "2021-10-13T16:29:03.568Z"
   },
   {
    "duration": 14,
    "start_time": "2021-10-13T16:29:03.632Z"
   },
   {
    "duration": 52,
    "start_time": "2021-10-13T16:29:03.648Z"
   },
   {
    "duration": 10,
    "start_time": "2021-10-13T16:29:03.702Z"
   },
   {
    "duration": 5,
    "start_time": "2021-10-13T16:29:03.715Z"
   },
   {
    "duration": 4,
    "start_time": "2021-10-13T16:29:03.722Z"
   },
   {
    "duration": 7,
    "start_time": "2021-10-13T16:29:03.728Z"
   },
   {
    "duration": 1443,
    "start_time": "2021-10-13T16:29:03.737Z"
   },
   {
    "duration": 4,
    "start_time": "2021-10-13T17:01:03.828Z"
   },
   {
    "duration": 30505,
    "start_time": "2021-10-13T17:07:25.203Z"
   },
   {
    "duration": 3215,
    "start_time": "2021-10-13T17:09:06.472Z"
   },
   {
    "duration": 1219,
    "start_time": "2021-10-13T17:09:09.689Z"
   },
   {
    "duration": 191,
    "start_time": "2021-10-13T17:09:10.910Z"
   },
   {
    "duration": 17,
    "start_time": "2021-10-13T17:09:11.103Z"
   },
   {
    "duration": 12,
    "start_time": "2021-10-13T17:09:11.122Z"
   },
   {
    "duration": 13,
    "start_time": "2021-10-13T17:09:11.136Z"
   },
   {
    "duration": 29,
    "start_time": "2021-10-13T17:09:11.151Z"
   },
   {
    "duration": 6,
    "start_time": "2021-10-13T17:09:11.182Z"
   },
   {
    "duration": 4,
    "start_time": "2021-10-13T17:09:11.191Z"
   },
   {
    "duration": 9,
    "start_time": "2021-10-13T17:09:11.197Z"
   },
   {
    "duration": 4,
    "start_time": "2021-10-13T17:09:11.207Z"
   },
   {
    "duration": 12,
    "start_time": "2021-10-13T17:09:11.213Z"
   },
   {
    "duration": 8,
    "start_time": "2021-10-13T17:09:11.226Z"
   },
   {
    "duration": 8,
    "start_time": "2021-10-13T17:09:11.235Z"
   },
   {
    "duration": 301,
    "start_time": "2021-10-13T17:09:11.245Z"
   },
   {
    "duration": 315,
    "start_time": "2021-10-13T17:09:11.548Z"
   },
   {
    "duration": 480,
    "start_time": "2021-10-13T17:09:11.864Z"
   },
   {
    "duration": 6,
    "start_time": "2021-10-13T17:09:12.346Z"
   },
   {
    "duration": 76535,
    "start_time": "2021-10-13T17:09:27.445Z"
   },
   {
    "duration": 1432,
    "start_time": "2021-10-13T17:17:06.908Z"
   },
   {
    "duration": 1081,
    "start_time": "2021-10-13T17:19:07.193Z"
   },
   {
    "duration": 59023,
    "start_time": "2021-10-13T17:19:46.988Z"
   },
   {
    "duration": 566,
    "start_time": "2021-10-13T17:22:47.508Z"
   },
   {
    "duration": 590,
    "start_time": "2021-10-13T17:23:13.022Z"
   },
   {
    "duration": 2520,
    "start_time": "2021-10-13T17:23:30.898Z"
   },
   {
    "duration": 1202,
    "start_time": "2021-10-13T17:23:33.420Z"
   },
   {
    "duration": 375,
    "start_time": "2021-10-13T17:23:34.624Z"
   },
   {
    "duration": 16,
    "start_time": "2021-10-13T17:23:35.001Z"
   },
   {
    "duration": 12,
    "start_time": "2021-10-13T17:23:35.019Z"
   },
   {
    "duration": 13,
    "start_time": "2021-10-13T17:23:35.033Z"
   },
   {
    "duration": 34,
    "start_time": "2021-10-13T17:23:35.048Z"
   },
   {
    "duration": 6,
    "start_time": "2021-10-13T17:23:35.085Z"
   },
   {
    "duration": 4,
    "start_time": "2021-10-13T17:23:35.094Z"
   },
   {
    "duration": 9,
    "start_time": "2021-10-13T17:23:35.100Z"
   },
   {
    "duration": 4,
    "start_time": "2021-10-13T17:23:35.110Z"
   },
   {
    "duration": 12,
    "start_time": "2021-10-13T17:23:35.116Z"
   },
   {
    "duration": 8,
    "start_time": "2021-10-13T17:23:35.129Z"
   },
   {
    "duration": 6,
    "start_time": "2021-10-13T17:23:35.139Z"
   },
   {
    "duration": 301,
    "start_time": "2021-10-13T17:23:35.177Z"
   },
   {
    "duration": 328,
    "start_time": "2021-10-13T17:23:35.480Z"
   },
   {
    "duration": 455,
    "start_time": "2021-10-13T17:23:35.810Z"
   },
   {
    "duration": 4,
    "start_time": "2021-10-13T17:23:36.267Z"
   },
   {
    "duration": 43521,
    "start_time": "2021-10-13T17:25:05.500Z"
   },
   {
    "duration": 34431,
    "start_time": "2021-10-13T17:26:07.648Z"
   },
   {
    "duration": 69314,
    "start_time": "2021-10-13T17:26:57.264Z"
   },
   {
    "duration": 312,
    "start_time": "2021-10-13T17:28:43.856Z"
   },
   {
    "duration": 67084,
    "start_time": "2021-10-13T17:30:08.800Z"
   },
   {
    "duration": 61449,
    "start_time": "2021-10-13T17:31:40.357Z"
   },
   {
    "duration": 72455,
    "start_time": "2021-10-13T17:34:02.522Z"
   },
   {
    "duration": 71025,
    "start_time": "2021-10-13T17:35:44.052Z"
   },
   {
    "duration": 33201,
    "start_time": "2021-10-13T17:39:50.844Z"
   },
   {
    "duration": 73034,
    "start_time": "2021-10-13T17:40:31.644Z"
   },
   {
    "duration": 22,
    "start_time": "2021-10-13T17:57:35.873Z"
   },
   {
    "duration": 7,
    "start_time": "2021-10-13T17:57:37.622Z"
   },
   {
    "duration": 28,
    "start_time": "2021-10-13T17:57:41.747Z"
   },
   {
    "duration": 25,
    "start_time": "2021-10-13T17:57:55.204Z"
   },
   {
    "duration": 18,
    "start_time": "2021-10-13T17:58:25.312Z"
   },
   {
    "duration": 7,
    "start_time": "2021-10-13T18:00:17.959Z"
   },
   {
    "duration": 4,
    "start_time": "2021-10-13T18:00:25.034Z"
   },
   {
    "duration": 3,
    "start_time": "2021-10-13T18:07:12.695Z"
   },
   {
    "duration": 2,
    "start_time": "2021-10-13T18:07:34.564Z"
   },
   {
    "duration": 1378,
    "start_time": "2021-10-13T18:07:36.899Z"
   },
   {
    "duration": 3,
    "start_time": "2021-10-13T18:16:20.018Z"
   },
   {
    "duration": 1104,
    "start_time": "2021-10-13T18:16:44.579Z"
   },
   {
    "duration": 3586,
    "start_time": "2021-10-13T18:17:00.971Z"
   },
   {
    "duration": 322,
    "start_time": "2021-10-13T18:19:25.156Z"
   },
   {
    "duration": 2,
    "start_time": "2021-10-13T18:19:32.013Z"
   },
   {
    "duration": 10666,
    "start_time": "2021-10-13T18:19:34.170Z"
   },
   {
    "duration": 33520,
    "start_time": "2021-10-13T18:22:35.644Z"
   },
   {
    "duration": 12261,
    "start_time": "2021-10-13T18:24:12.220Z"
   },
   {
    "duration": 87696,
    "start_time": "2021-10-13T18:26:34.156Z"
   },
   {
    "duration": 2,
    "start_time": "2021-10-13T18:37:05.088Z"
   },
   {
    "duration": 22067,
    "start_time": "2021-10-13T18:38:29.190Z"
   },
   {
    "duration": 543767,
    "start_time": "2021-10-13T18:39:53.502Z"
   },
   {
    "duration": 146620,
    "start_time": "2021-10-13T18:49:15.233Z"
   },
   {
    "duration": 19122,
    "start_time": "2021-10-13T18:52:27.256Z"
   },
   {
    "duration": 19339,
    "start_time": "2021-10-13T18:53:05.641Z"
   },
   {
    "duration": 18840,
    "start_time": "2021-10-13T18:53:43.743Z"
   },
   {
    "duration": 20320,
    "start_time": "2021-10-13T18:54:17.487Z"
   },
   {
    "duration": 124605,
    "start_time": "2021-10-13T18:54:52.296Z"
   },
   {
    "duration": 26703,
    "start_time": "2021-10-13T19:01:19.336Z"
   },
   {
    "duration": 7,
    "start_time": "2021-10-13T19:02:03.531Z"
   },
   {
    "duration": 4,
    "start_time": "2021-10-13T19:02:20.783Z"
   },
   {
    "duration": 99613,
    "start_time": "2021-10-14T04:35:57.623Z"
   },
   {
    "duration": 1813,
    "start_time": "2021-10-14T04:37:37.239Z"
   },
   {
    "duration": 211,
    "start_time": "2021-10-14T04:37:39.055Z"
   },
   {
    "duration": 22,
    "start_time": "2021-10-14T04:37:39.269Z"
   },
   {
    "duration": 17,
    "start_time": "2021-10-14T04:37:39.293Z"
   },
   {
    "duration": 21,
    "start_time": "2021-10-14T04:37:39.312Z"
   },
   {
    "duration": 13,
    "start_time": "2021-10-14T04:37:51.996Z"
   },
   {
    "duration": 10,
    "start_time": "2021-10-14T04:37:52.964Z"
   },
   {
    "duration": 6,
    "start_time": "2021-10-14T04:37:54.397Z"
   },
   {
    "duration": 9,
    "start_time": "2021-10-14T04:37:54.896Z"
   },
   {
    "duration": 4,
    "start_time": "2021-10-14T04:37:56.114Z"
   },
   {
    "duration": 15,
    "start_time": "2021-10-14T04:37:56.620Z"
   },
   {
    "duration": 12,
    "start_time": "2021-10-14T04:37:57.601Z"
   },
   {
    "duration": 6,
    "start_time": "2021-10-14T04:38:26.008Z"
   },
   {
    "duration": 478,
    "start_time": "2021-10-14T04:38:26.766Z"
   },
   {
    "duration": 557,
    "start_time": "2021-10-14T04:38:27.643Z"
   },
   {
    "duration": 758,
    "start_time": "2021-10-14T04:38:28.203Z"
   },
   {
    "duration": 9,
    "start_time": "2021-10-14T04:41:23.740Z"
   },
   {
    "duration": 83690,
    "start_time": "2021-10-14T04:42:30.635Z"
   },
   {
    "duration": 38,
    "start_time": "2021-10-14T04:49:20.138Z"
   },
   {
    "duration": 10,
    "start_time": "2021-10-14T04:49:20.637Z"
   },
   {
    "duration": 32,
    "start_time": "2021-10-14T04:49:20.900Z"
   },
   {
    "duration": 10,
    "start_time": "2021-10-14T04:49:34.473Z"
   },
   {
    "duration": 6,
    "start_time": "2021-10-14T04:49:36.766Z"
   },
   {
    "duration": 5,
    "start_time": "2021-10-14T04:50:32.951Z"
   },
   {
    "duration": 3,
    "start_time": "2021-10-14T04:50:38.263Z"
   },
   {
    "duration": 5213,
    "start_time": "2021-10-14T04:50:42.161Z"
   },
   {
    "duration": 3,
    "start_time": "2021-10-14T04:50:49.179Z"
   },
   {
    "duration": 115426,
    "start_time": "2021-10-14T04:50:49.350Z"
   },
   {
    "duration": 4,
    "start_time": "2021-10-14T04:52:44.779Z"
   },
   {
    "duration": 613930,
    "start_time": "2021-10-14T04:52:44.786Z"
   },
   {
    "duration": 33475,
    "start_time": "2021-10-14T05:02:58.718Z"
   },
   {
    "duration": 12,
    "start_time": "2021-10-14T05:03:32.197Z"
   },
   {
    "duration": 37,
    "start_time": "2021-10-14T05:03:32.211Z"
   },
   {
    "duration": 7795,
    "start_time": "2021-10-14T10:21:22.101Z"
   },
   {
    "duration": 1648,
    "start_time": "2021-10-14T10:21:29.900Z"
   },
   {
    "duration": 300,
    "start_time": "2021-10-14T10:21:31.550Z"
   },
   {
    "duration": 15,
    "start_time": "2021-10-14T10:21:31.852Z"
   },
   {
    "duration": 13,
    "start_time": "2021-10-14T10:21:31.869Z"
   },
   {
    "duration": 15,
    "start_time": "2021-10-14T10:21:31.884Z"
   },
   {
    "duration": 10,
    "start_time": "2021-10-14T10:21:31.901Z"
   },
   {
    "duration": 9,
    "start_time": "2021-10-14T10:21:31.913Z"
   },
   {
    "duration": 20,
    "start_time": "2021-10-14T10:21:31.924Z"
   },
   {
    "duration": 6,
    "start_time": "2021-10-14T10:21:31.946Z"
   },
   {
    "duration": 6,
    "start_time": "2021-10-14T10:21:31.954Z"
   },
   {
    "duration": 11,
    "start_time": "2021-10-14T10:21:31.962Z"
   },
   {
    "duration": 8,
    "start_time": "2021-10-14T10:21:31.975Z"
   },
   {
    "duration": 5,
    "start_time": "2021-10-14T10:21:31.985Z"
   },
   {
    "duration": 327,
    "start_time": "2021-10-14T10:21:31.992Z"
   },
   {
    "duration": 322,
    "start_time": "2021-10-14T10:21:32.320Z"
   },
   {
    "duration": 443,
    "start_time": "2021-10-14T10:21:32.643Z"
   },
   {
    "duration": 333,
    "start_time": "2021-10-14T10:23:08.157Z"
   },
   {
    "duration": 213,
    "start_time": "2021-10-14T10:23:16.213Z"
   },
   {
    "duration": 196,
    "start_time": "2021-10-14T10:23:40.383Z"
   },
   {
    "duration": 209,
    "start_time": "2021-10-14T10:24:11.446Z"
   },
   {
    "duration": 219,
    "start_time": "2021-10-14T10:24:16.310Z"
   },
   {
    "duration": 216,
    "start_time": "2021-10-14T10:24:31.806Z"
   },
   {
    "duration": 209,
    "start_time": "2021-10-14T10:24:38.237Z"
   },
   {
    "duration": 212,
    "start_time": "2021-10-14T10:24:57.406Z"
   },
   {
    "duration": 597,
    "start_time": "2021-10-14T10:25:19.550Z"
   },
   {
    "duration": 320,
    "start_time": "2021-10-14T10:37:07.810Z"
   },
   {
    "duration": 321,
    "start_time": "2021-10-14T10:39:13.353Z"
   },
   {
    "duration": 469,
    "start_time": "2021-10-14T10:39:22.922Z"
   },
   {
    "duration": 3,
    "start_time": "2021-10-14T11:11:03.550Z"
   },
   {
    "duration": 2575,
    "start_time": "2021-10-14T11:11:15.847Z"
   },
   {
    "duration": 1244,
    "start_time": "2021-10-14T11:11:18.425Z"
   },
   {
    "duration": 75,
    "start_time": "2021-10-14T11:11:19.671Z"
   },
   {
    "duration": 16,
    "start_time": "2021-10-14T11:11:19.748Z"
   },
   {
    "duration": 33,
    "start_time": "2021-10-14T11:11:19.765Z"
   },
   {
    "duration": 22,
    "start_time": "2021-10-14T11:11:19.800Z"
   },
   {
    "duration": 26,
    "start_time": "2021-10-14T11:11:19.824Z"
   },
   {
    "duration": 22,
    "start_time": "2021-10-14T11:11:19.853Z"
   },
   {
    "duration": 32,
    "start_time": "2021-10-14T11:11:19.877Z"
   },
   {
    "duration": 34,
    "start_time": "2021-10-14T11:11:19.910Z"
   },
   {
    "duration": 21,
    "start_time": "2021-10-14T11:11:19.945Z"
   },
   {
    "duration": 45,
    "start_time": "2021-10-14T11:11:19.968Z"
   },
   {
    "duration": 37,
    "start_time": "2021-10-14T11:11:20.015Z"
   },
   {
    "duration": 26,
    "start_time": "2021-10-14T11:11:20.054Z"
   },
   {
    "duration": 301,
    "start_time": "2021-10-14T11:11:20.082Z"
   },
   {
    "duration": 337,
    "start_time": "2021-10-14T11:11:20.386Z"
   },
   {
    "duration": 470,
    "start_time": "2021-10-14T11:11:20.725Z"
   },
   {
    "duration": 233,
    "start_time": "2021-10-14T11:11:21.197Z"
   },
   {
    "duration": 4,
    "start_time": "2021-10-14T11:11:57.880Z"
   },
   {
    "duration": 69177,
    "start_time": "2021-10-14T11:14:37.376Z"
   },
   {
    "duration": 20,
    "start_time": "2021-10-14T11:20:17.684Z"
   },
   {
    "duration": 6,
    "start_time": "2021-10-14T11:20:20.325Z"
   },
   {
    "duration": 19,
    "start_time": "2021-10-14T11:20:24.342Z"
   },
   {
    "duration": 11,
    "start_time": "2021-10-14T11:29:12.250Z"
   },
   {
    "duration": 6,
    "start_time": "2021-10-14T11:29:14.529Z"
   },
   {
    "duration": 21,
    "start_time": "2021-10-14T11:29:16.256Z"
   },
   {
    "duration": 7,
    "start_time": "2021-10-14T11:29:27.442Z"
   },
   {
    "duration": 4,
    "start_time": "2021-10-14T11:29:29.569Z"
   },
   {
    "duration": 3,
    "start_time": "2021-10-14T11:30:25.689Z"
   },
   {
    "duration": 3,
    "start_time": "2021-10-14T11:41:51.733Z"
   },
   {
    "duration": 3003,
    "start_time": "2021-10-14T11:42:00.005Z"
   },
   {
    "duration": 2,
    "start_time": "2021-10-14T11:42:58.397Z"
   },
   {
    "duration": 70054,
    "start_time": "2021-10-14T11:43:03.612Z"
   },
   {
    "duration": 2594,
    "start_time": "2021-10-14T11:45:18.796Z"
   },
   {
    "duration": 45586,
    "start_time": "2021-10-14T11:45:46.508Z"
   },
   {
    "duration": 186379,
    "start_time": "2021-10-14T11:51:33.747Z"
   },
   {
    "duration": 3,
    "start_time": "2021-10-14T11:57:26.800Z"
   },
   {
    "duration": 320800,
    "start_time": "2021-10-14T11:57:33.151Z"
   },
   {
    "duration": 111654,
    "start_time": "2021-10-14T12:03:02.695Z"
   },
   {
    "duration": 24671,
    "start_time": "2021-10-14T12:06:26.445Z"
   },
   {
    "duration": 281,
    "start_time": "2021-10-14T12:07:12.184Z"
   },
   {
    "duration": 7,
    "start_time": "2021-10-14T12:07:21.760Z"
   },
   {
    "duration": 5,
    "start_time": "2021-10-14T12:07:41.182Z"
   },
   {
    "duration": 350,
    "start_time": "2021-10-14T12:19:47.108Z"
   },
   {
    "duration": 1412,
    "start_time": "2021-10-14T12:20:45.484Z"
   },
   {
    "duration": 254,
    "start_time": "2021-10-14T12:21:32.338Z"
   },
   {
    "duration": 17,
    "start_time": "2021-10-14T12:22:01.228Z"
   },
   {
    "duration": 13,
    "start_time": "2021-10-14T12:22:24.859Z"
   },
   {
    "duration": 168,
    "start_time": "2021-10-14T12:22:39.164Z"
   },
   {
    "duration": 7383,
    "start_time": "2021-10-14T13:59:09.577Z"
   },
   {
    "duration": 1325,
    "start_time": "2021-10-14T13:59:16.965Z"
   },
   {
    "duration": 90,
    "start_time": "2021-10-14T13:59:18.292Z"
   },
   {
    "duration": 16,
    "start_time": "2021-10-14T13:59:18.384Z"
   },
   {
    "duration": 32,
    "start_time": "2021-10-14T13:59:18.401Z"
   },
   {
    "duration": 22,
    "start_time": "2021-10-14T13:59:18.434Z"
   },
   {
    "duration": 25,
    "start_time": "2021-10-14T13:59:18.458Z"
   },
   {
    "duration": 21,
    "start_time": "2021-10-14T13:59:18.486Z"
   },
   {
    "duration": 18,
    "start_time": "2021-10-14T13:59:18.509Z"
   },
   {
    "duration": 26,
    "start_time": "2021-10-14T13:59:18.529Z"
   },
   {
    "duration": 23,
    "start_time": "2021-10-14T13:59:18.557Z"
   },
   {
    "duration": 34,
    "start_time": "2021-10-14T13:59:18.582Z"
   },
   {
    "duration": 28,
    "start_time": "2021-10-14T13:59:18.618Z"
   },
   {
    "duration": 28,
    "start_time": "2021-10-14T13:59:18.648Z"
   },
   {
    "duration": 360,
    "start_time": "2021-10-14T13:59:18.679Z"
   },
   {
    "duration": 369,
    "start_time": "2021-10-14T13:59:19.051Z"
   },
   {
    "duration": 520,
    "start_time": "2021-10-14T13:59:19.422Z"
   },
   {
    "duration": 244,
    "start_time": "2021-10-14T13:59:19.943Z"
   },
   {
    "duration": 4,
    "start_time": "2021-10-14T13:59:20.189Z"
   },
   {
    "duration": 2899,
    "start_time": "2021-10-14T14:02:28.607Z"
   },
   {
    "duration": 6,
    "start_time": "2021-10-14T14:02:31.509Z"
   },
   {
    "duration": 82,
    "start_time": "2021-10-14T14:02:31.517Z"
   },
   {
    "duration": 15,
    "start_time": "2021-10-14T14:02:31.602Z"
   },
   {
    "duration": 14,
    "start_time": "2021-10-14T14:02:31.618Z"
   },
   {
    "duration": 14,
    "start_time": "2021-10-14T14:02:31.634Z"
   },
   {
    "duration": 10,
    "start_time": "2021-10-14T14:02:31.650Z"
   },
   {
    "duration": 8,
    "start_time": "2021-10-14T14:02:31.663Z"
   },
   {
    "duration": 7,
    "start_time": "2021-10-14T14:02:31.673Z"
   },
   {
    "duration": 10,
    "start_time": "2021-10-14T14:02:31.682Z"
   },
   {
    "duration": 8,
    "start_time": "2021-10-14T14:02:31.694Z"
   },
   {
    "duration": 16,
    "start_time": "2021-10-14T14:02:31.704Z"
   },
   {
    "duration": 13,
    "start_time": "2021-10-14T14:02:31.722Z"
   },
   {
    "duration": 13,
    "start_time": "2021-10-14T14:02:31.737Z"
   },
   {
    "duration": 306,
    "start_time": "2021-10-14T14:02:31.752Z"
   },
   {
    "duration": 360,
    "start_time": "2021-10-14T14:02:32.060Z"
   },
   {
    "duration": 422,
    "start_time": "2021-10-14T14:02:32.422Z"
   },
   {
    "duration": 234,
    "start_time": "2021-10-14T14:02:32.848Z"
   },
   {
    "duration": 4,
    "start_time": "2021-10-14T14:02:33.084Z"
   },
   {
    "duration": 24,
    "start_time": "2021-10-14T14:02:59.474Z"
   },
   {
    "duration": 9,
    "start_time": "2021-10-14T14:03:01.785Z"
   },
   {
    "duration": 21,
    "start_time": "2021-10-14T14:03:03.506Z"
   },
   {
    "duration": 2690,
    "start_time": "2021-10-14T14:04:04.017Z"
   },
   {
    "duration": 1193,
    "start_time": "2021-10-14T14:04:06.709Z"
   },
   {
    "duration": 79,
    "start_time": "2021-10-14T14:04:07.904Z"
   },
   {
    "duration": 15,
    "start_time": "2021-10-14T14:04:07.985Z"
   },
   {
    "duration": 12,
    "start_time": "2021-10-14T14:04:08.002Z"
   },
   {
    "duration": 24,
    "start_time": "2021-10-14T14:04:08.015Z"
   },
   {
    "duration": 21,
    "start_time": "2021-10-14T14:04:08.040Z"
   },
   {
    "duration": 5,
    "start_time": "2021-10-14T14:04:08.064Z"
   },
   {
    "duration": 7,
    "start_time": "2021-10-14T14:04:08.071Z"
   },
   {
    "duration": 15,
    "start_time": "2021-10-14T14:04:08.079Z"
   },
   {
    "duration": 10,
    "start_time": "2021-10-14T14:04:08.096Z"
   },
   {
    "duration": 15,
    "start_time": "2021-10-14T14:04:08.107Z"
   },
   {
    "duration": 9,
    "start_time": "2021-10-14T14:04:08.124Z"
   },
   {
    "duration": 15,
    "start_time": "2021-10-14T14:04:08.134Z"
   },
   {
    "duration": 293,
    "start_time": "2021-10-14T14:04:08.151Z"
   },
   {
    "duration": 334,
    "start_time": "2021-10-14T14:04:08.446Z"
   },
   {
    "duration": 468,
    "start_time": "2021-10-14T14:04:08.781Z"
   },
   {
    "duration": 230,
    "start_time": "2021-10-14T14:04:09.250Z"
   },
   {
    "duration": 3,
    "start_time": "2021-10-14T14:04:09.482Z"
   },
   {
    "duration": 23,
    "start_time": "2021-10-14T14:04:24.145Z"
   },
   {
    "duration": 7,
    "start_time": "2021-10-14T14:04:26.158Z"
   },
   {
    "duration": 21,
    "start_time": "2021-10-14T14:04:27.817Z"
   },
   {
    "duration": 8,
    "start_time": "2021-10-14T14:04:31.858Z"
   },
   {
    "duration": 4,
    "start_time": "2021-10-14T14:04:33.908Z"
   },
   {
    "duration": 4,
    "start_time": "2021-10-14T14:04:41.675Z"
   },
   {
    "duration": 264,
    "start_time": "2021-10-14T14:05:04.527Z"
   },
   {
    "duration": 26561,
    "start_time": "2021-10-14T14:05:10.137Z"
   },
   {
    "duration": 7,
    "start_time": "2021-10-14T14:05:49.027Z"
   },
   {
    "duration": 5,
    "start_time": "2021-10-14T14:06:01.957Z"
   },
   {
    "duration": 13,
    "start_time": "2021-10-14T14:06:22.193Z"
   },
   {
    "duration": 172,
    "start_time": "2021-10-14T14:06:26.184Z"
   },
   {
    "duration": 397,
    "start_time": "2021-10-14T14:08:07.294Z"
   },
   {
    "duration": 430,
    "start_time": "2021-10-14T14:08:15.455Z"
   },
   {
    "duration": 404,
    "start_time": "2021-10-14T14:08:47.865Z"
   },
   {
    "duration": 415,
    "start_time": "2021-10-14T14:09:00.729Z"
   },
   {
    "duration": 396,
    "start_time": "2021-10-14T14:09:31.012Z"
   },
   {
    "duration": 432,
    "start_time": "2021-10-14T14:10:37.478Z"
   },
   {
    "duration": 216,
    "start_time": "2021-10-14T14:10:45.868Z"
   },
   {
    "duration": 468,
    "start_time": "2021-10-14T14:12:41.910Z"
   },
   {
    "duration": 229,
    "start_time": "2021-10-14T14:14:32.041Z"
   },
   {
    "duration": 211,
    "start_time": "2021-10-14T14:14:46.278Z"
   },
   {
    "duration": 214,
    "start_time": "2021-10-14T14:16:21.498Z"
   },
   {
    "duration": 336,
    "start_time": "2021-10-14T14:16:44.231Z"
   },
   {
    "duration": 227,
    "start_time": "2021-10-14T14:18:18.553Z"
   },
   {
    "duration": 228,
    "start_time": "2021-10-14T14:18:59.207Z"
   }
  ],
  "kernelspec": {
   "display_name": "Python 3 (ipykernel)",
   "language": "python",
   "name": "python3"
  },
  "language_info": {
   "codemirror_mode": {
    "name": "ipython",
    "version": 3
   },
   "file_extension": ".py",
   "mimetype": "text/x-python",
   "name": "python",
   "nbconvert_exporter": "python",
   "pygments_lexer": "ipython3",
   "version": "3.9.6"
  },
  "toc": {
   "base_numbering": 1,
   "nav_menu": {},
   "number_sections": true,
   "sideBar": true,
   "skip_h1_title": true,
   "title_cell": "Содержание",
   "title_sidebar": "Contents",
   "toc_cell": true,
   "toc_position": {},
   "toc_section_display": true,
   "toc_window_display": true
  }
 },
 "nbformat": 4,
 "nbformat_minor": 2
}
